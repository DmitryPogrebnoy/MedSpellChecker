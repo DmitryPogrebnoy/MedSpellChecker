{
 "cells": [
  {
   "cell_type": "markdown",
   "source": [
    "Process existed word list (from prototype spellchecker) from `total_word_dict.pickle` file"
   ],
   "metadata": {
    "collapsed": false
   }
  },
  {
   "cell_type": "code",
   "execution_count": 44,
   "metadata": {
    "collapsed": true
   },
   "outputs": [],
   "source": [
    "import pandas as pd\n",
    "import re\n",
    "import pymorphy2"
   ]
  },
  {
   "cell_type": "code",
   "execution_count": 45,
   "outputs": [],
   "source": [
    "PATH_TO_DICTIONARY_SOURCE_DIR = \"../../data/dictionaries/source\"\n",
    "PATH_TO_OPENCORPORA_SOURCE_DICT = PATH_TO_DICTIONARY_SOURCE_DIR + \"/existed_words_ru.txt\""
   ],
   "metadata": {
    "collapsed": false,
    "pycharm": {
     "name": "#%%\n"
    }
   }
  },
  {
   "cell_type": "code",
   "execution_count": 46,
   "outputs": [],
   "source": [
    "with open(PATH_TO_OPENCORPORA_SOURCE_DICT) as file:\n",
    "    data = file.read()"
   ],
   "metadata": {
    "collapsed": false,
    "pycharm": {
     "name": "#%%\n"
    }
   }
  },
  {
   "cell_type": "code",
   "execution_count": 47,
   "outputs": [],
   "source": [
    "data_list = data.split(sep=\"\\n\")"
   ],
   "metadata": {
    "collapsed": false,
    "pycharm": {
     "name": "#%%\n"
    }
   }
  },
  {
   "cell_type": "code",
   "execution_count": 48,
   "outputs": [
    {
     "data": {
      "text/plain": "['агроплемзавод',\n 'прядущийся',\n 'бенефициарий',\n 'забряцать',\n 'набросок',\n 'визгливость',\n 'узкосоциологический',\n 'неоартроз',\n 'индуизм',\n 'фомы',\n 'ширина',\n 'отупи',\n 'разгрызли',\n 'сверхновый',\n 'плодоноситься',\n 'михельсона',\n 'запойте',\n 'отрыгивание',\n 'тростящеюся',\n 'подползшим',\n 'фототрафарет',\n 'застегнуло',\n 'отекший',\n 'нейрокутать',\n 'поживиться',\n 'лулео',\n 'линкомицином',\n 'эрудит',\n 'бронную',\n 'квела',\n 'хемостерилизация',\n 'простригшим',\n 'оксицефалия',\n 'очистка',\n 'прикумчанин',\n 'смердев',\n 'ионик',\n 'омерзение',\n 'догкарт',\n 'венкебаха',\n 'приобретенное',\n 'приобретение',\n 'севанькаев',\n 'попивать',\n 'икавшему',\n 'агастан',\n 'корпускулярно-волновой',\n 'баусов',\n 'черпальщица',\n 'свяченное',\n 'спороться',\n 'пятнящимися',\n 'носовых',\n 'плотик',\n 'мудрые',\n 'обязуя',\n 'плацами',\n 'грунтовой',\n 'произнесемтесь',\n 'алексаньянц',\n 'обухом',\n 'обыдёнщина',\n 'обвернутыми',\n 'ужены',\n 'лейкоцитная',\n 'зазеленеться',\n 'чермака',\n 'одеколонящем',\n 'передневавшею',\n 'гнутая',\n 'заметав',\n 'предтечею',\n 'обанкротится',\n 'курьер',\n 'отщебетавшие',\n 'иванушками',\n 'вбб',\n 'офранцузить',\n 'верхневыйский',\n 'приодевших',\n 'супинация',\n 'уснащать',\n 'трокар',\n 'аскорбиновая',\n 'львовичей',\n 'изныть',\n 'расклепав',\n 'снявшими',\n 'носившим',\n 'окороком',\n 'несинусоидальный',\n 'взметнешь',\n 'хвоставшими',\n 'отлившемся',\n 'сальварсановый',\n 'адреналогенная',\n 'сретенский',\n 'перечеркнувшее',\n 'ярыжный',\n 'сгорбимте',\n 'федотья',\n 'кошатница',\n 'нудившейся',\n 'стригшимися',\n 'минималистка',\n 'томно',\n 'выжариваться',\n 'всколыхивать',\n 'запрятавшая',\n 'отвинченной',\n 'рашпилевидность',\n 'подгримировать',\n 'надкусывание',\n 'заживемтесь',\n 'госгражданреконструкция',\n 'диалитический',\n 'попугайная',\n 'прободной',\n 'жилящий',\n 'покоюсь',\n 'вольнейшие',\n 'дезориентировать',\n 'иссушенной',\n 'заряженную',\n 'хлестали',\n 'вожмут',\n 'итар',\n 'подержанному',\n 'солил',\n 'брайтиковый',\n 'упеленает',\n 'растрепанных',\n 'навинчен',\n 'сволокли',\n 'бельцу',\n 'смухлюйте',\n 'инфузий',\n 'авез',\n 'отчихвостившим',\n 'робототехника',\n 'подвозившее',\n 'усиленно',\n 'межстиховой',\n 'треплешься',\n 'обзаведенные',\n 'сданном',\n 'пробросался',\n 'егозите',\n 'проспавшее',\n 'автоклавизироваться',\n 'зевано',\n 'посвиставшем',\n 'перецарапаться',\n 'пипка',\n 'рудом',\n 'мечехвост',\n 'слабоагглютинативный',\n 'прорысившие',\n 'портьтесь',\n 'стлавши',\n 'островков',\n 'тигрёнок',\n 'чинуш',\n 'ощериться',\n 'нерестовик',\n 'сослана',\n 'казнимою',\n 'благонадёжный',\n 'пообживемся',\n 'затворившею',\n 'нахлестнутому',\n 'богатое',\n 'подержишь',\n 'нагороженных',\n 'полнейшем',\n 'полководец',\n 'неправомочность',\n 'славших',\n 'ханжащими',\n 'всасывания',\n 'костерив',\n 'холецистоколостомия',\n 'неэффективный',\n 'подшпаклевавшим',\n 'менделевский',\n 'проктит',\n 'отвитая',\n 'грубейшего',\n 'насосать',\n 'лавроносный',\n 'апатитонефелиновый',\n 'росагропромтехпроект',\n 'капитальность',\n 'кастетный',\n 'острословивши',\n 'толчковый',\n 'вглядимся',\n 'госзаймов',\n 'ахейлия',\n 'прыщеватость',\n 'соул',\n 'плотящею',\n 'нудившегося',\n 'межцепочечный',\n 'монопроизводство',\n 'указывающая',\n 'эпителиоцит',\n 'кружившаяся',\n 'измазать',\n 'инсектологический',\n 'синыйджу',\n 'трезвейшего',\n 'заискивать',\n 'запакощенного',\n 'повернутый',\n 'иммиграция',\n 'тохарский',\n 'подмеска',\n 'асек',\n 'непорочно',\n 'гонококковая',\n 'слипать',\n 'маялась',\n 'шалевавши',\n 'трапезный',\n 'укради',\n 'переданную',\n 'всесоздающий',\n 'облетывать',\n 'космолог',\n 'кровоточившая',\n 'юстиц-коллегия',\n 'тустеп',\n 'заварнов',\n 'белфастский',\n 'скобленные',\n 'обязует',\n 'акцелеро-',\n 'напросить',\n 'рухлядь',\n 'трясущем',\n 'петрогенезис',\n 'симулятор',\n 'оплывут',\n 'попридержанных',\n 'поющихся',\n 'сосковцам',\n 'неудовлетворенным',\n 'расхлестываться',\n 'анаит',\n 'пикнида',\n 'тронуться',\n 'сполз',\n 'состриженное',\n 'почало',\n 'нажатого',\n 'ситовник',\n 'вневегетационный',\n 'отощать',\n 'мучившимся',\n 'подпоясаны',\n 'олеське',\n 'антериальный',\n 'яства',\n 'гипролесхим',\n 'занавозить',\n 'крыться',\n 'цыпленочку',\n 'ненадутый',\n 'отхлестав',\n 'поблеют',\n 'поколебавши',\n 'укротившаяся',\n 'лимфангиома',\n 'побывшая',\n 'отверченной',\n 'очеркнутой',\n 'воронежоблавтотехобслуживание',\n 'белоснежность',\n 'чертимая',\n 'лишеннее',\n 'пизотифен',\n 'фланец',\n 'разблаговещено',\n 'отмучило',\n 'своекоштный',\n 'подсыпанного',\n 'лимфогранулематоз',\n 'мостившее',\n 'кызылстрой',\n 'хозяйственнейшем',\n 'парацетамола',\n 'передопросившую',\n 'пзма',\n 'сластоежка',\n 'плескавшем',\n 'превратишься',\n 'утилитаристка',\n 'говнах',\n 'обезденежите',\n 'перегородившуюся',\n 'оравшихся',\n 'состригшего',\n 'несть',\n 'изболевшаяся',\n 'выварки',\n 'обрелось',\n 'кардиография',\n 'гуслинский',\n 'сотряслась',\n 'запревать',\n 'женя',\n 'непротиворечащий',\n 'позабывшееся',\n 'бученная',\n 'изуродовать',\n 'анаморфотный',\n 'созданную',\n 'доскачетесь',\n 'суржанка',\n 'разъелось',\n 'гемангиосаркома',\n 'ниссена',\n 'обомнитесь',\n 'такси',\n 'понажму',\n 'брунс',\n 'пересказчик',\n 'адлан',\n 'заноют',\n 'коноводящим',\n 'герксгеймера',\n 'уровненными',\n 'впрявшему',\n 'электроотрицательный',\n 'сберегшимся',\n 'бережливость',\n 'околозубная',\n 'botulinum',\n 'вальтер',\n 'ассия',\n 'кружка',\n 'цветметводоочистка',\n 'орнаментальный',\n 'серовато-голубой',\n 'пошевеливаться',\n 'положенные',\n 'видеоинформация',\n 'хворыми',\n 'подлитая',\n 'дисколигаментоз',\n 'набежавшее',\n 'прораб',\n 'оттряся',\n 'пикель',\n 'придали',\n 'колошмаченными',\n 'помучившего',\n 'катастрофы',\n 'радиостройкомплекс',\n 'взберется',\n 'буэнос-айрес',\n 'неудавшийся',\n 'уголовница',\n 'жегшую',\n 'расседлавши',\n 'апоневроза',\n 'тулейка',\n 'риолета',\n 'рабдомиома',\n 'прободало',\n 'устеречься',\n 'крали',\n 'превосходящий',\n 'расхохотавшейся',\n 'туберозовый',\n 'окулировщик',\n 'козьминична',\n 'кликанные',\n 'рвав',\n 'алейшим',\n 'обросли',\n 'утекшим',\n 'геннеберга',\n 'мотоватый',\n 'микроэлементный',\n 'обокрадите',\n 'акхилеш',\n 'беджанов',\n 'ежимую',\n 'пережнете',\n 'конгрегационалистский',\n 'багрянимых',\n 'халид',\n 'пропрядемте',\n 'дремотно',\n 'дискантам',\n 'прося',\n 'агропромстройтранс',\n 'пробаси',\n 'перезагрузившая',\n 'назоэтмоидальный',\n 'упрятанного',\n 'перехаживать',\n 'самовоспроизведение',\n 'перестирываться',\n 'доломан',\n 'перепеленают',\n 'федоров',\n 'эзофагодиния',\n 'доимо',\n 'проев',\n 'закупорочный',\n 'ротанг',\n 'пробудите',\n 'нифлурил',\n 'малоберцовую',\n 'жженов',\n 'листаться',\n 'стираться',\n 'перепеленутом',\n 'тельцы',\n 'ввинтило',\n 'винтимым',\n 'исторгнувшаяся',\n 'хороводят',\n 'эстер-с',\n 'умолить',\n 'киноработник',\n 'негорючесть',\n 'упеленатом',\n 'виднейшие',\n 'крыльчатый',\n 'приохочиваться',\n 'выдвинете',\n 'общесетевой',\n 'коварского',\n 'похнычете',\n 'сенеку',\n 'подожженной',\n 'утоптались',\n 'святящую',\n 'обмораживаться',\n 'налезут',\n 'отмявшее',\n 'стенами',\n 'фотоцинкограф',\n 'щипавши',\n 'кардиотонические',\n 'свиставших',\n 'верльгофа',\n 'нижнеспасский',\n 'ведешься',\n 'передумываться',\n 'разверстало',\n 'урбанистский',\n 'термобатарея',\n 'допетому',\n 'проблеявшему',\n 'отразив',\n 'переключаешь',\n 'контроллер',\n 'упершуюся',\n 'стрекозившего',\n 'циклюйте',\n 'неэпигонский',\n 'переславшая',\n 'доспишь',\n 'дошить',\n 'линария',\n 'переток',\n 'атакиши',\n 'железницы',\n 'луговка',\n 'моновакцина',\n 'тлил',\n 'полуголодный',\n 'дьердьяй',\n 'бессловесный',\n 'приискавшим',\n 'наверстанном',\n 'уменьшаемые',\n 'отчеркнутом',\n 'натерты',\n 'квазимолекула',\n 'пообтрепавшим',\n 'присосавшуюся',\n 'плавных',\n 'покраденною',\n 'наиглубочайших',\n 'мелатонина',\n 'отселить',\n 'москитная',\n 'анатомический',\n 'погрузнувши',\n 'легочные',\n 'церкарий',\n 'батиплан',\n 'нерестился',\n 'расплетутся',\n 'отрабатывать',\n 'феврония',\n 'остригись',\n 'нежароустойчивый',\n 'тапира',\n 'неединичный',\n 'перемешиватель',\n 'квасившем',\n 'кряканье',\n 'разровнявшими',\n 'преимущество',\n 'пронзительно-громкий',\n 'саввишне',\n 'бесчестите',\n 'прообразовать',\n 'перекидывать',\n 'ошибившегося',\n 'солимой',\n 'клянувшееся',\n 'взрывным',\n 'седлавшие',\n 'уповает',\n 'пожженного',\n 'дзержинскмежрайгаз',\n 'развезя',\n 'абдусала',\n 'завмаг',\n 'сокрушаться',\n 'мерящего',\n 'петое',\n 'наклюкаться',\n 'дополаскивать',\n 'зачелюстная',\n 'стряхивать',\n 'ненастоящий',\n 'куевдой',\n 'проспанными',\n 'возлитой',\n 'предтечам',\n 'отполируется',\n 'заушить',\n 'спевшей',\n 'воздвигнувшегося',\n 'амурремпроект',\n 'подверстает',\n 'складыватель',\n 'караулиться',\n 'незавуалированный',\n 'гифа',\n 'окулоэхография',\n 'вокругпочечный',\n 'гарсии',\n 'неминусовый',\n 'теллуросодержащий',\n 'загнусавившего',\n 'fallacia',\n 'всколыханную',\n 'зоревало',\n 'нажившею',\n 'азанов',\n 'гостиев',\n 'прикомандируется',\n 'брюнауэр',\n 'камуфляж',\n 'селенными',\n 'госпитальная',\n 'дубасящие',\n 'мегалитический',\n 'низы',\n 'зашептавшееся',\n 'трапезундский',\n 'отопревать',\n 'конгресс-холл',\n 'глио-',\n 'кустился',\n 'пентелей',\n 'непритесняемый',\n 'черепная',\n 'гемат-',\n 'божиею',\n 'алаверди',\n 'пахнущей',\n 'рудиментарный',\n 'нечестен',\n 'подразжавшись',\n 'карелля',\n 'селевый',\n 'засвистевшие',\n 'размято',\n 'перепоясанное',\n 'бактериородопсин',\n 'конъюнкт',\n 'наревевшимися',\n 'рамонский',\n 'стебаться',\n 'двухнедельник',\n 'подтолкут',\n 'рядивши',\n 'вонзившею',\n 'хлебала',\n 'созданная',\n 'папеньки',\n 'снастившейся',\n 'амалик',\n 'калинка',\n 'плывшая',\n 'артик',\n 'поязвивши',\n 'соседила',\n 'раскупоривших',\n 'подмякнуть',\n 'сластима',\n 'нецементированный',\n 'капиталистка',\n 'переулочный',\n 'подседлавшее',\n 'лапшами',\n 'стера',\n 'прокурлыкал',\n 'захоровоженное',\n 'несвободный',\n 'распалиться',\n 'крюков',\n 'побрившею',\n 'напильник',\n 'прияты',\n 'инкапсулированный',\n 'произведенной',\n 'покутившими',\n 'кончать',\n 'диктат',\n 'вульгата',\n 'огольцах',\n 'подсосавшихся',\n 'отъединение',\n 'свистящегося',\n 'неисполнение',\n 'проминаться',\n 'звучными',\n 'никнувшее',\n 'отозвавшей',\n 'слукавлю',\n 'хвалящему',\n 'флорентин',\n 'баулин',\n 'верченному',\n 'поразогнав',\n 'тетриндол',\n 'вышибившею',\n 'нанявшимися',\n 'позднегреческий',\n 'читка',\n 'спешившем',\n 'инсценировки',\n 'лептосомный',\n 'кликушество',\n 'ртутящий',\n 'рудногорск',\n 'пощипавшею',\n 'упорядочат',\n 'кишу',\n 'затруднение',\n 'приведено',\n 'разоружить',\n 'секторальный',\n 'трансверзит',\n 'подободранная',\n 'мальмстрема',\n 'подвозимся',\n 'затвердите',\n 'рассучилась',\n 'менделист',\n 'полынный',\n 'неблагодатный',\n 'пожаловавшие',\n 'плещущими',\n 'прожгусь',\n 'управительский',\n 'продержав',\n 'радистка',\n 'взвывшими',\n 'каспар',\n 'самообладание',\n 'пурист',\n 'жрущуюся',\n 'пароструйный',\n 'выхолощенным',\n 'повременят',\n 'переуступка',\n 'противотуберкулезные',\n 'сбредшемся',\n 'драящийся',\n 'отрекомендовывать',\n 'речитативность',\n 'потреплются',\n 'подчистит',\n 'напролом',\n 'пухнущему',\n 'анонимография',\n 'общереспубликанский',\n 'межпочечный',\n 'засвиставшим',\n 'принаймем',\n 'слабожгучий',\n 'холмообразный',\n 'облевавшийся',\n 'трепетно',\n 'тетраметрический',\n 'взманим',\n 'выковыриваться',\n 'заклинит',\n 'кувшиновский',\n 'головинский',\n 'лжеакация',\n 'самоочищающийся',\n 'лбом',\n 'науськать',\n 'надбившее',\n 'сурдопедагогика',\n 'мешена',\n 'спрятавшему',\n 'отпаханную',\n 'антимонит',\n 'наплыв',\n 'подсвитою',\n 'пролаявшим',\n 'припаслась',\n 'ахметзил',\n 'поплакалась',\n 'запухать',\n 'доглодавшею',\n 'регионализироваться',\n 'сбрызгиваться',\n 'скромного',\n 'сорочины',\n 'судиться',\n 'притормозившими',\n 'посыплемте',\n 'индеец',\n 'прибежавший',\n 'слывущему',\n 'вклепана',\n 'критидиальная',\n 'ниспосланную',\n 'приумяла',\n 'щелочах',\n 'фиторелакс',\n 'игрануть',\n 'подторможенное',\n 'ленлес',\n 'земпера',\n 'подвезены',\n 'начел',\n 'подровняют',\n 'крох',\n 'берущегося',\n 'изрекший',\n 'бушевание',\n 'парагон',\n 'облущиваться',\n 'допашете',\n 'парфиров',\n 'армаш',\n 'межжелудочковый',\n 'песя',\n 'кипячен',\n 'полжет',\n 'исторгшею',\n 'демченко',\n 'смотчик',\n 'приравняю',\n 'шовинистский',\n 'сухопрессованный',\n 'стоградусный',\n 'чистец',\n 'сбредать',\n 'убудете',\n 'подсыпавшись',\n 'подшибемте',\n 'плейбой',\n 'упремся',\n 'бинормаль',\n 'амурлес',\n 'сотворить',\n 'позабываемым',\n 'проверещите',\n 'барбовал',\n 'замутимте',\n 'киноавтоматика',\n 'тянущий',\n 'преуменьшив',\n 'гувд',\n 'цветографический',\n 'шприцующем',\n 'вычеканиваться',\n 'насвистан',\n 'баркановый',\n 'мертвые',\n 'пустошкинский',\n 'рассмотренные',\n 'савенков',\n 'коллодиум',\n 'кутафья',\n 'проспекция',\n 'тянущуюся',\n 'брившему',\n 'отвезти',\n 'отрубные',\n 'здоровила',\n 'проследовать',\n 'подсвистишь',\n 'кубинец',\n 'драимо',\n 'поджаристый',\n 'хороводившею',\n 'смолообразование',\n 'тендинит',\n 'приотворил',\n 'выдвинутого',\n 'измусливать',\n 'корректно',\n 'прожевывать',\n 'прополоскавшие',\n 'шейтхауэра',\n 'расхищены',\n 'дозвавшись',\n 'насдает',\n 'материал',\n 'фагеденический',\n 'приподымусь',\n 'латерофлексия',\n 'закружился',\n 'льночесальщик',\n 'линецкий',\n 'горбило',\n 'вымрут',\n 'уретеро-',\n 'извоженных',\n 'расиля',\n 'вывезшая',\n 'запальщик',\n 'заголосят',\n 'полуэскадрон',\n 'бюнгнеров',\n 'стоек',\n 'болезни',\n 'неприкосновенность',\n 'андреюшко',\n 'сыпем',\n 'конфузор',\n 'хлорида',\n 'глохнувших',\n 'блестящую',\n 'гелин',\n 'сальбен',\n 'мертвым',\n 'замедленного',\n 'васильев',\n 'кодификационный',\n 'однорельсовый',\n 'дремавшим',\n 'хныкающий',\n 'городом-героем',\n 'глядевшею',\n 'пижонистый',\n 'невысококачественный',\n 'прожуемся',\n 'помасличней',\n 'очёсочный',\n 'недопив',\n 'замедление',\n 'стетоскопический',\n 'вороху',\n 'доплеснувший',\n 'перепрядена',\n 'судимо',\n 'рафаэлевский',\n 'давлад',\n 'щадящего',\n 'обвозящем',\n 'антидемократизм',\n 'пенистый',\n 'высокоскоростной',\n 'пазанчишь',\n 'выпаханных',\n 'гольце',\n 'невестящееся',\n 'подвода',\n 'фальцевавшее',\n 'пронесутся',\n 'классики',\n 'завернуты',\n 'интерактивный',\n 'отвыкать',\n 'тянитесь',\n 'вымылившемся',\n 'желания',\n 'изжевавши',\n 'аэроионы',\n 'купорошенную',\n 'жилковатый',\n 'обогнавшем',\n 'техасский',\n 'дудеть',\n 'бадукин',\n 'натешить',\n 'выбредемте',\n 'гамалеею',\n 'заплюйте',\n 'сула',\n 'дискриминант',\n 'промерить',\n 'вымолотые',\n 'исторгших',\n 'цветив',\n 'диковинка',\n 'глуши',\n 'ольденбург',\n 'проспавшей',\n 'гуанозина',\n 'простлавшем',\n 'рассрочить',\n 'подсыл',\n 'подите',\n 'мертвившей',\n 'поплавает',\n 'челдрон',\n 'энергии',\n 'красовский',\n 'употчеваны',\n 'запрудить',\n 'крыжовник',\n 'галилеями',\n 'дублёрша',\n 'подселять',\n 'теплоэнергомонтаж',\n 'лаемыми',\n 'бабровый',\n 'кровообразование',\n 'недифтонгический',\n 'глаголемыми',\n 'поострей',\n 'заплаканным',\n 'честными',\n 'фиглярить',\n 'запихивание',\n 'таявши',\n 'ерофеич',\n 'расторгли',\n 'перетолокшихся',\n 'изожженных',\n 'бардацкий',\n 'холинорецепторы',\n 'сбитенный',\n 'несопредельный',\n 'подметываться',\n 'зачеркнувшего',\n 'осветившейся',\n 'входные',\n 'отгородишься',\n 'толкануть',\n 'зашептан',\n 'древесница',\n 'наверни',\n 'покоившую',\n 'самараинвестстрой',\n 'пиперонал',\n 'бежавшем',\n 'прижатому',\n 'каббалкэнерго',\n 'номинальность',\n 'расхохочутся',\n 'плезиозавр',\n 'расшвыриваться',\n 'илеит',\n 'аполос',\n 'вайцех',\n 'лоб',\n 'канете',\n 'спеленатым',\n 'совместительница',\n 'колоритный',\n 'плескавшимся',\n 'шерстившею',\n 'метанефрос',\n 'механическое',\n 'летальная',\n 'соструниваться',\n 'запасник',\n 'спелою',\n 'обсахарятся',\n 'ребенок',\n 'заштемпелевали',\n 'сглатывать',\n 'падкий',\n 'физиогномический',\n 'дохните',\n 'гранулематозная',\n 'поставочный',\n 'жульета',\n ...]"
     },
     "execution_count": 48,
     "metadata": {},
     "output_type": "execute_result"
    }
   ],
   "source": [
    "data_list"
   ],
   "metadata": {
    "collapsed": false,
    "pycharm": {
     "name": "#%%\n"
    }
   }
  },
  {
   "cell_type": "code",
   "execution_count": 49,
   "outputs": [
    {
     "data": {
      "text/plain": "421421"
     },
     "execution_count": 49,
     "metadata": {},
     "output_type": "execute_result"
    }
   ],
   "source": [
    "len(data_list)"
   ],
   "metadata": {
    "collapsed": false,
    "pycharm": {
     "name": "#%%\n"
    }
   }
  },
  {
   "cell_type": "code",
   "execution_count": 50,
   "outputs": [],
   "source": [
    "data_list = [word for word in data_list if not re.search(\"[^а-яА-Я]\", word)]"
   ],
   "metadata": {
    "collapsed": false,
    "pycharm": {
     "name": "#%%\n"
    }
   }
  },
  {
   "cell_type": "code",
   "execution_count": 51,
   "outputs": [
    {
     "data": {
      "text/plain": "410072"
     },
     "execution_count": 51,
     "metadata": {},
     "output_type": "execute_result"
    }
   ],
   "source": [
    "len(data_list)"
   ],
   "metadata": {
    "collapsed": false,
    "pycharm": {
     "name": "#%%\n"
    }
   }
  },
  {
   "cell_type": "code",
   "execution_count": 52,
   "outputs": [
    {
     "data": {
      "text/plain": "            word\n0  агроплемзавод\n1     прядущийся\n2   бенефициарий\n3      забряцать\n4       набросок",
      "text/html": "<div>\n<style scoped>\n    .dataframe tbody tr th:only-of-type {\n        vertical-align: middle;\n    }\n\n    .dataframe tbody tr th {\n        vertical-align: top;\n    }\n\n    .dataframe thead th {\n        text-align: right;\n    }\n</style>\n<table border=\"1\" class=\"dataframe\">\n  <thead>\n    <tr style=\"text-align: right;\">\n      <th></th>\n      <th>word</th>\n    </tr>\n  </thead>\n  <tbody>\n    <tr>\n      <th>0</th>\n      <td>агроплемзавод</td>\n    </tr>\n    <tr>\n      <th>1</th>\n      <td>прядущийся</td>\n    </tr>\n    <tr>\n      <th>2</th>\n      <td>бенефициарий</td>\n    </tr>\n    <tr>\n      <th>3</th>\n      <td>забряцать</td>\n    </tr>\n    <tr>\n      <th>4</th>\n      <td>набросок</td>\n    </tr>\n  </tbody>\n</table>\n</div>"
     },
     "execution_count": 52,
     "metadata": {},
     "output_type": "execute_result"
    }
   ],
   "source": [
    "existed_data = pd.DataFrame(data_list, columns=[\"word\"])\n",
    "existed_data.head()"
   ],
   "metadata": {
    "collapsed": false,
    "pycharm": {
     "name": "#%%\n"
    }
   }
  },
  {
   "cell_type": "code",
   "execution_count": 53,
   "outputs": [],
   "source": [
    "existed_data[\"length\"] = existed_data.word.map(lambda x: len(x))"
   ],
   "metadata": {
    "collapsed": false,
    "pycharm": {
     "name": "#%%\n"
    }
   }
  },
  {
   "cell_type": "code",
   "execution_count": 54,
   "outputs": [
    {
     "data": {
      "text/plain": "            word  length\n0  агроплемзавод      13\n1     прядущийся      10\n2   бенефициарий      12\n3      забряцать       9\n4       набросок       8",
      "text/html": "<div>\n<style scoped>\n    .dataframe tbody tr th:only-of-type {\n        vertical-align: middle;\n    }\n\n    .dataframe tbody tr th {\n        vertical-align: top;\n    }\n\n    .dataframe thead th {\n        text-align: right;\n    }\n</style>\n<table border=\"1\" class=\"dataframe\">\n  <thead>\n    <tr style=\"text-align: right;\">\n      <th></th>\n      <th>word</th>\n      <th>length</th>\n    </tr>\n  </thead>\n  <tbody>\n    <tr>\n      <th>0</th>\n      <td>агроплемзавод</td>\n      <td>13</td>\n    </tr>\n    <tr>\n      <th>1</th>\n      <td>прядущийся</td>\n      <td>10</td>\n    </tr>\n    <tr>\n      <th>2</th>\n      <td>бенефициарий</td>\n      <td>12</td>\n    </tr>\n    <tr>\n      <th>3</th>\n      <td>забряцать</td>\n      <td>9</td>\n    </tr>\n    <tr>\n      <th>4</th>\n      <td>набросок</td>\n      <td>8</td>\n    </tr>\n  </tbody>\n</table>\n</div>"
     },
     "execution_count": 54,
     "metadata": {},
     "output_type": "execute_result"
    }
   ],
   "source": [
    "existed_data.head()"
   ],
   "metadata": {
    "collapsed": false,
    "pycharm": {
     "name": "#%%\n"
    }
   }
  },
  {
   "cell_type": "code",
   "execution_count": 55,
   "outputs": [
    {
     "data": {
      "text/plain": "<AxesSubplot:>"
     },
     "execution_count": 55,
     "metadata": {},
     "output_type": "execute_result"
    },
    {
     "data": {
      "text/plain": "<Figure size 1440x720 with 1 Axes>",
      "image/png": "[encoded data removed]"
     },
     "metadata": {
      "needs_background": "light"
     },
     "output_type": "display_data"
    }
   ],
   "source": [
    "existed_data[\"length\"].hist(bins=300, figsize=(20,10))"
   ],
   "metadata": {
    "collapsed": false,
    "pycharm": {
     "name": "#%%\n"
    }
   }
  },
  {
   "cell_type": "code",
   "execution_count": 56,
   "outputs": [
    {
     "data": {
      "text/plain": "9     55918\n10    53559\n8     52702\n11    44882\n7     42173\n12    35124\n6     28761\n13    24696\n5     16752\n14    16368\n15    10194\n4      6550\n16     6521\n17     4360\n18     3168\n19     2114\n3      2089\n20     1461\n21      899\n22      544\n23      331\n2       304\n24      230\n25      133\n26       90\n27       49\n28       27\n1        25\n29       22\n30       12\n31        7\n32        4\n34        1\n33        1\n0         1\nName: length, dtype: int64"
     },
     "execution_count": 56,
     "metadata": {},
     "output_type": "execute_result"
    }
   ],
   "source": [
    "existed_data[\"length\"].value_counts()"
   ],
   "metadata": {
    "collapsed": false,
    "pycharm": {
     "name": "#%%\n"
    }
   }
  },
  {
   "cell_type": "code",
   "execution_count": 57,
   "outputs": [
    {
     "data": {
      "text/plain": "       word  length\n410071            0",
      "text/html": "<div>\n<style scoped>\n    .dataframe tbody tr th:only-of-type {\n        vertical-align: middle;\n    }\n\n    .dataframe tbody tr th {\n        vertical-align: top;\n    }\n\n    .dataframe thead th {\n        text-align: right;\n    }\n</style>\n<table border=\"1\" class=\"dataframe\">\n  <thead>\n    <tr style=\"text-align: right;\">\n      <th></th>\n      <th>word</th>\n      <th>length</th>\n    </tr>\n  </thead>\n  <tbody>\n    <tr>\n      <th>410071</th>\n      <td></td>\n      <td>0</td>\n    </tr>\n  </tbody>\n</table>\n</div>"
     },
     "execution_count": 57,
     "metadata": {},
     "output_type": "execute_result"
    }
   ],
   "source": [
    "existed_data[existed_data[\"length\"] == 0]"
   ],
   "metadata": {
    "collapsed": false,
    "pycharm": {
     "name": "#%%\n"
    }
   }
  },
  {
   "cell_type": "code",
   "execution_count": 58,
   "outputs": [],
   "source": [
    "existed_data = existed_data[existed_data[\"length\"] != 0]"
   ],
   "metadata": {
    "collapsed": false,
    "pycharm": {
     "name": "#%%\n"
    }
   }
  },
  {
   "cell_type": "code",
   "execution_count": 59,
   "outputs": [
    {
     "data": {
      "text/plain": "       word  length\n1037      л       1\n16912     с       1\n26572     н       1\n37472     ж       1\n40982     э       1\n47519     а       1\n60740     ы       1\n65380     х       1\n94085     к       1\n117486    в       1\n125110    о       1\n157023    у       1\n194153    г       1\n199249    и       1\n217258    т       1\n222067    ч       1\n229525    б       1\n285301    д       1\n295694    п       1\n311891    е       1\n314551    р       1\n333578    я       1\n334744    й       1\n340734    м       1\n364043    з       1",
      "text/html": "<div>\n<style scoped>\n    .dataframe tbody tr th:only-of-type {\n        vertical-align: middle;\n    }\n\n    .dataframe tbody tr th {\n        vertical-align: top;\n    }\n\n    .dataframe thead th {\n        text-align: right;\n    }\n</style>\n<table border=\"1\" class=\"dataframe\">\n  <thead>\n    <tr style=\"text-align: right;\">\n      <th></th>\n      <th>word</th>\n      <th>length</th>\n    </tr>\n  </thead>\n  <tbody>\n    <tr>\n      <th>1037</th>\n      <td>л</td>\n      <td>1</td>\n    </tr>\n    <tr>\n      <th>16912</th>\n      <td>с</td>\n      <td>1</td>\n    </tr>\n    <tr>\n      <th>26572</th>\n      <td>н</td>\n      <td>1</td>\n    </tr>\n    <tr>\n      <th>37472</th>\n      <td>ж</td>\n      <td>1</td>\n    </tr>\n    <tr>\n      <th>40982</th>\n      <td>э</td>\n      <td>1</td>\n    </tr>\n    <tr>\n      <th>47519</th>\n      <td>а</td>\n      <td>1</td>\n    </tr>\n    <tr>\n      <th>60740</th>\n      <td>ы</td>\n      <td>1</td>\n    </tr>\n    <tr>\n      <th>65380</th>\n      <td>х</td>\n      <td>1</td>\n    </tr>\n    <tr>\n      <th>94085</th>\n      <td>к</td>\n      <td>1</td>\n    </tr>\n    <tr>\n      <th>117486</th>\n      <td>в</td>\n      <td>1</td>\n    </tr>\n    <tr>\n      <th>125110</th>\n      <td>о</td>\n      <td>1</td>\n    </tr>\n    <tr>\n      <th>157023</th>\n      <td>у</td>\n      <td>1</td>\n    </tr>\n    <tr>\n      <th>194153</th>\n      <td>г</td>\n      <td>1</td>\n    </tr>\n    <tr>\n      <th>199249</th>\n      <td>и</td>\n      <td>1</td>\n    </tr>\n    <tr>\n      <th>217258</th>\n      <td>т</td>\n      <td>1</td>\n    </tr>\n    <tr>\n      <th>222067</th>\n      <td>ч</td>\n      <td>1</td>\n    </tr>\n    <tr>\n      <th>229525</th>\n      <td>б</td>\n      <td>1</td>\n    </tr>\n    <tr>\n      <th>285301</th>\n      <td>д</td>\n      <td>1</td>\n    </tr>\n    <tr>\n      <th>295694</th>\n      <td>п</td>\n      <td>1</td>\n    </tr>\n    <tr>\n      <th>311891</th>\n      <td>е</td>\n      <td>1</td>\n    </tr>\n    <tr>\n      <th>314551</th>\n      <td>р</td>\n      <td>1</td>\n    </tr>\n    <tr>\n      <th>333578</th>\n      <td>я</td>\n      <td>1</td>\n    </tr>\n    <tr>\n      <th>334744</th>\n      <td>й</td>\n      <td>1</td>\n    </tr>\n    <tr>\n      <th>340734</th>\n      <td>м</td>\n      <td>1</td>\n    </tr>\n    <tr>\n      <th>364043</th>\n      <td>з</td>\n      <td>1</td>\n    </tr>\n  </tbody>\n</table>\n</div>"
     },
     "execution_count": 59,
     "metadata": {},
     "output_type": "execute_result"
    }
   ],
   "source": [
    "existed_data[existed_data[\"length\"] == 1]"
   ],
   "metadata": {
    "collapsed": false,
    "pycharm": {
     "name": "#%%\n"
    }
   }
  },
  {
   "cell_type": "code",
   "execution_count": 60,
   "outputs": [],
   "source": [
    "existed_data = existed_data[existed_data[\"length\"] != 1]"
   ],
   "metadata": {
    "collapsed": false,
    "pycharm": {
     "name": "#%%\n"
    }
   }
  },
  {
   "cell_type": "code",
   "execution_count": 61,
   "outputs": [
    {
     "data": {
      "text/plain": "       word  length\n4079     ст       2\n6246     га       2\n6428     уп       2\n11534    оа       2\n13672    яд       2\n...     ...     ...\n400511   ее       2\n401632   св       2\n402216   уф       2\n405781   юз       2\n407791   ад       2\n\n[304 rows x 2 columns]",
      "text/html": "<div>\n<style scoped>\n    .dataframe tbody tr th:only-of-type {\n        vertical-align: middle;\n    }\n\n    .dataframe tbody tr th {\n        vertical-align: top;\n    }\n\n    .dataframe thead th {\n        text-align: right;\n    }\n</style>\n<table border=\"1\" class=\"dataframe\">\n  <thead>\n    <tr style=\"text-align: right;\">\n      <th></th>\n      <th>word</th>\n      <th>length</th>\n    </tr>\n  </thead>\n  <tbody>\n    <tr>\n      <th>4079</th>\n      <td>ст</td>\n      <td>2</td>\n    </tr>\n    <tr>\n      <th>6246</th>\n      <td>га</td>\n      <td>2</td>\n    </tr>\n    <tr>\n      <th>6428</th>\n      <td>уп</td>\n      <td>2</td>\n    </tr>\n    <tr>\n      <th>11534</th>\n      <td>оа</td>\n      <td>2</td>\n    </tr>\n    <tr>\n      <th>13672</th>\n      <td>яд</td>\n      <td>2</td>\n    </tr>\n    <tr>\n      <th>...</th>\n      <td>...</td>\n      <td>...</td>\n    </tr>\n    <tr>\n      <th>400511</th>\n      <td>ее</td>\n      <td>2</td>\n    </tr>\n    <tr>\n      <th>401632</th>\n      <td>св</td>\n      <td>2</td>\n    </tr>\n    <tr>\n      <th>402216</th>\n      <td>уф</td>\n      <td>2</td>\n    </tr>\n    <tr>\n      <th>405781</th>\n      <td>юз</td>\n      <td>2</td>\n    </tr>\n    <tr>\n      <th>407791</th>\n      <td>ад</td>\n      <td>2</td>\n    </tr>\n  </tbody>\n</table>\n<p>304 rows × 2 columns</p>\n</div>"
     },
     "execution_count": 61,
     "metadata": {},
     "output_type": "execute_result"
    }
   ],
   "source": [
    "existed_data[existed_data[\"length\"] == 2]"
   ],
   "metadata": {
    "collapsed": false,
    "pycharm": {
     "name": "#%%\n"
    }
   }
  },
  {
   "cell_type": "code",
   "execution_count": 62,
   "outputs": [
    {
     "data": {
      "text/plain": "                                      word  length\n87880     средневолжсксельэлектросетьстрой      32\n105254     белгородоблгражданреконструкция      31\n107676     волгограднефтепродуктавтоматика      31\n117663     спецнефтеэнергомонтажавтоматика      31\n150937     архангельскагропромпусконаладка      31\n172350  никотинамидадениндинуклеотидфосфат      34\n197565     магнитотермокондуктометрический      31\n204476     энцефаломиелополирадикулоневрит      31\n242647    аркадакагропроммехмонтажкомплект      32\n286609   полидезоксирибонуклеотидсинтетаза      33\n312236     панкреатохолангиорентгенография      31\n342249    верхневолжсксельэлектросетьстрой      32\n362841    полидезоксирибонуклеотидсинтетаз      32",
      "text/html": "<div>\n<style scoped>\n    .dataframe tbody tr th:only-of-type {\n        vertical-align: middle;\n    }\n\n    .dataframe tbody tr th {\n        vertical-align: top;\n    }\n\n    .dataframe thead th {\n        text-align: right;\n    }\n</style>\n<table border=\"1\" class=\"dataframe\">\n  <thead>\n    <tr style=\"text-align: right;\">\n      <th></th>\n      <th>word</th>\n      <th>length</th>\n    </tr>\n  </thead>\n  <tbody>\n    <tr>\n      <th>87880</th>\n      <td>средневолжсксельэлектросетьстрой</td>\n      <td>32</td>\n    </tr>\n    <tr>\n      <th>105254</th>\n      <td>белгородоблгражданреконструкция</td>\n      <td>31</td>\n    </tr>\n    <tr>\n      <th>107676</th>\n      <td>волгограднефтепродуктавтоматика</td>\n      <td>31</td>\n    </tr>\n    <tr>\n      <th>117663</th>\n      <td>спецнефтеэнергомонтажавтоматика</td>\n      <td>31</td>\n    </tr>\n    <tr>\n      <th>150937</th>\n      <td>архангельскагропромпусконаладка</td>\n      <td>31</td>\n    </tr>\n    <tr>\n      <th>172350</th>\n      <td>никотинамидадениндинуклеотидфосфат</td>\n      <td>34</td>\n    </tr>\n    <tr>\n      <th>197565</th>\n      <td>магнитотермокондуктометрический</td>\n      <td>31</td>\n    </tr>\n    <tr>\n      <th>204476</th>\n      <td>энцефаломиелополирадикулоневрит</td>\n      <td>31</td>\n    </tr>\n    <tr>\n      <th>242647</th>\n      <td>аркадакагропроммехмонтажкомплект</td>\n      <td>32</td>\n    </tr>\n    <tr>\n      <th>286609</th>\n      <td>полидезоксирибонуклеотидсинтетаза</td>\n      <td>33</td>\n    </tr>\n    <tr>\n      <th>312236</th>\n      <td>панкреатохолангиорентгенография</td>\n      <td>31</td>\n    </tr>\n    <tr>\n      <th>342249</th>\n      <td>верхневолжсксельэлектросетьстрой</td>\n      <td>32</td>\n    </tr>\n    <tr>\n      <th>362841</th>\n      <td>полидезоксирибонуклеотидсинтетаз</td>\n      <td>32</td>\n    </tr>\n  </tbody>\n</table>\n</div>"
     },
     "execution_count": 62,
     "metadata": {},
     "output_type": "execute_result"
    }
   ],
   "source": [
    "existed_data[existed_data[\"length\"] > 30]"
   ],
   "metadata": {
    "collapsed": false,
    "pycharm": {
     "name": "#%%\n"
    }
   }
  },
  {
   "cell_type": "code",
   "execution_count": 63,
   "outputs": [
    {
     "data": {
      "text/plain": "(410046, 2)"
     },
     "execution_count": 63,
     "metadata": {},
     "output_type": "execute_result"
    }
   ],
   "source": [
    "existed_data.shape"
   ],
   "metadata": {
    "collapsed": false,
    "pycharm": {
     "name": "#%%\n"
    }
   }
  },
  {
   "cell_type": "code",
   "execution_count": 64,
   "outputs": [],
   "source": [
    "existed_data = existed_data.drop(columns=[\"length\"])"
   ],
   "metadata": {
    "collapsed": false,
    "pycharm": {
     "name": "#%%\n"
    }
   }
  },
  {
   "cell_type": "code",
   "execution_count": 65,
   "outputs": [],
   "source": [
    "existed_data.to_csv(\"../../data/dictionaries/processed/processed_existed_words.txt\", header=None, index=None, sep=' ', mode='a')"
   ],
   "metadata": {
    "collapsed": false,
    "pycharm": {
     "name": "#%%\n"
    }
   }
  },
  {
   "cell_type": "code",
   "execution_count": 66,
   "outputs": [],
   "source": [
    "lemmatizer = pymorphy2.MorphAnalyzer()\n",
    "existed_data = pd.DataFrame(set(existed_data.word.map(lambda word: lemmatizer.parse(word)[0].normal_form)), columns=[\"word\"])"
   ],
   "metadata": {
    "collapsed": false,
    "pycharm": {
     "name": "#%%\n"
    }
   }
  },
  {
   "cell_type": "code",
   "execution_count": 67,
   "outputs": [
    {
     "data": {
      "text/plain": "            word\n0          ножик\n1       пригнать\n2   востокэнерго\n3         спасть\n4  дослушиваться",
      "text/html": "<div>\n<style scoped>\n    .dataframe tbody tr th:only-of-type {\n        vertical-align: middle;\n    }\n\n    .dataframe tbody tr th {\n        vertical-align: top;\n    }\n\n    .dataframe thead th {\n        text-align: right;\n    }\n</style>\n<table border=\"1\" class=\"dataframe\">\n  <thead>\n    <tr style=\"text-align: right;\">\n      <th></th>\n      <th>word</th>\n    </tr>\n  </thead>\n  <tbody>\n    <tr>\n      <th>0</th>\n      <td>ножик</td>\n    </tr>\n    <tr>\n      <th>1</th>\n      <td>пригнать</td>\n    </tr>\n    <tr>\n      <th>2</th>\n      <td>востокэнерго</td>\n    </tr>\n    <tr>\n      <th>3</th>\n      <td>спасть</td>\n    </tr>\n    <tr>\n      <th>4</th>\n      <td>дослушиваться</td>\n    </tr>\n  </tbody>\n</table>\n</div>"
     },
     "execution_count": 67,
     "metadata": {},
     "output_type": "execute_result"
    }
   ],
   "source": [
    "existed_data.head()"
   ],
   "metadata": {
    "collapsed": false,
    "pycharm": {
     "name": "#%%\n"
    }
   }
  },
  {
   "cell_type": "code",
   "execution_count": 68,
   "outputs": [],
   "source": [
    "existed_data.to_csv(\"../../data/dictionaries/processed/processed_lemmatized_existed_words.txt\", header=None, index=None, sep=' ', mode='a')"
   ],
   "metadata": {
    "collapsed": false,
    "pycharm": {
     "name": "#%%\n"
    }
   }
  }
 ],
 "metadata": {
  "kernelspec": {
   "display_name": "Python 3",
   "language": "python",
   "name": "python3"
  },
  "language_info": {
   "codemirror_mode": {
    "name": "ipython",
    "version": 2
   },
   "file_extension": ".py",
   "mimetype": "text/x-python",
   "name": "python",
   "nbconvert_exporter": "python",
   "pygments_lexer": "ipython2",
   "version": "2.7.6"
  }
 },
 "nbformat": 4,
 "nbformat_minor": 0
}