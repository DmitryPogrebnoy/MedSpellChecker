{
 "cells": [
  {
   "cell_type": "code",
   "execution_count": 19,
   "metadata": {
    "collapsed": true
   },
   "outputs": [],
   "source": [
    "import pandas as pd\n",
    "import re\n",
    "import pymorphy2"
   ]
  },
  {
   "cell_type": "code",
   "execution_count": 20,
   "outputs": [],
   "source": [
    "PATH_TO_DICTIONARY_SOURCE_DIR = \"../../data/dictionaries/source\""
   ],
   "metadata": {
    "collapsed": false,
    "pycharm": {
     "name": "#%%\n"
    }
   }
  },
  {
   "cell_type": "code",
   "execution_count": 21,
   "outputs": [],
   "source": [
    "PATH_TO_ASPELL_SOURCE_DICT = PATH_TO_DICTIONARY_SOURCE_DIR + \"/aspell_words_ru.txt\""
   ],
   "metadata": {
    "collapsed": false,
    "pycharm": {
     "name": "#%%\n"
    }
   }
  },
  {
   "cell_type": "code",
   "execution_count": 22,
   "outputs": [],
   "source": [
    "with open(PATH_TO_ASPELL_SOURCE_DICT) as file:\n",
    "    words_str = file.read()"
   ],
   "metadata": {
    "collapsed": false,
    "pycharm": {
     "name": "#%%\n"
    }
   }
  },
  {
   "cell_type": "code",
   "execution_count": 23,
   "outputs": [
    {
     "data": {
      "text/plain": "['юань',\n 'юанях',\n 'юанями',\n 'юаням',\n 'юаней',\n 'юани',\n 'юане',\n 'юанем',\n 'юаню',\n 'юаня',\n 'ЮАР',\n 'юбилей',\n 'юбилеях',\n 'юбилеями',\n 'юбилеям',\n 'юбилеев',\n 'юбилеи',\n 'юбилее',\n 'юбилеем',\n 'юбилею',\n 'юбилея',\n 'юбилейный',\n 'юбилейное',\n 'юбилейную',\n 'юбилейною',\n 'юбилейной',\n 'юбилейная',\n 'юбилейными',\n 'юбилейных',\n 'юбилейные',\n 'юбилейном',\n 'юбилейным',\n 'юбилейному',\n 'юбилейного',\n 'юбиляр',\n 'юбилярах',\n 'юбилярами',\n 'юбилярам',\n 'юбиляров',\n 'юбиляры',\n 'юбиляре',\n 'юбиляром',\n 'юбиляру',\n 'юбиляра',\n 'юбилярша',\n 'юбиляршах',\n 'юбиляршами',\n 'юбиляршам',\n 'юбилярш',\n 'юбиляршею',\n 'юбиляршей',\n 'юбиляршу',\n 'юбилярше',\n 'юбилярши',\n 'юбка',\n 'юбках',\n 'юбками',\n 'юбкам',\n 'юбок',\n 'юбкою',\n 'юбкой',\n 'юбку',\n 'юбке',\n 'юбки',\n 'юбочка',\n 'юбочках',\n 'юбочками',\n 'юбочкам',\n 'юбочек',\n 'юбочкою',\n 'юбочкой',\n 'юбочку',\n 'юбочке',\n 'юбочки',\n 'юбочник',\n 'юбочниках',\n 'юбочниками',\n 'юбочникам',\n 'юбочников',\n 'юбочники',\n 'юбочнике',\n 'юбочником',\n 'юбочнику',\n 'юбочника',\n 'юбочный',\n 'юбочное',\n 'юбочную',\n 'юбочною',\n 'юбочной',\n 'юбочная',\n 'юбочными',\n 'юбочных',\n 'юбочные',\n 'юбочном',\n 'юбочным',\n 'юбочному',\n 'юбочного',\n 'юбчонка',\n 'юбчонках',\n 'юбчонками',\n 'юбчонкам',\n 'юбчонок',\n 'юбчонкою',\n 'юбчонкой',\n 'юбчонку',\n 'юбчонке',\n 'юбчонки',\n 'юдофильство',\n 'юдофильстве',\n 'юдофильством',\n 'юдофильству',\n 'юдофильства',\n 'юдофоб',\n 'юдофобах',\n 'юдофобами',\n 'юдофобам',\n 'юдофобов',\n 'юдофобы',\n 'юдофобе',\n 'юдофобом',\n 'юдофобу',\n 'юдофоба',\n 'юдофобский',\n 'юдофобское',\n 'юдофобскую',\n 'юдофобскою',\n 'юдофобской',\n 'юдофобская',\n 'юдофобскими',\n 'юдофобских',\n 'юдофобские',\n 'юдофобском',\n 'юдофобским',\n 'юдофобскому',\n 'юдофобского',\n 'юдофобство',\n 'юдофобстве',\n 'юдофобством',\n 'юдофобству',\n 'юдофобства',\n 'юдоль',\n 'юдолью',\n 'юдоли',\n 'юдольный',\n 'юдольное',\n 'юдольную',\n 'юдольною',\n 'юдольной',\n 'юдольная',\n 'юдольными',\n 'юдольных',\n 'юдольные',\n 'юдольном',\n 'юдольным',\n 'юдольному',\n 'юдольного',\n 'юфтевый',\n 'юфтевое',\n 'юфтевую',\n 'юфтевою',\n 'юфтевой',\n 'юфтевая',\n 'юфтевыми',\n 'юфтевых',\n 'юфтевые',\n 'юфтевом',\n 'юфтевым',\n 'юфтевому',\n 'юфтевого',\n 'юфть',\n 'юфтью',\n 'юфти',\n 'юг',\n 'юге',\n 'югом',\n 'югу',\n 'юга',\n 'юго',\n 'югослав',\n 'югославах',\n 'югославами',\n 'югославам',\n 'югославов',\n 'югославы',\n 'югославе',\n 'югославом',\n 'югославу',\n 'югослава',\n 'Югославия',\n 'Югославиею',\n 'Югославией',\n 'Югославию',\n 'Югославии',\n 'югославка',\n 'югославках',\n 'югославками',\n 'югославкам',\n 'югославок',\n 'югославкою',\n 'югославкой',\n 'югославку',\n 'югославке',\n 'югославки',\n 'югославский',\n 'югославское',\n 'югославскую',\n 'югославскою',\n 'югославской',\n 'югославская',\n 'югославскими',\n 'югославских',\n 'югославские',\n 'югославском',\n 'югославским',\n 'югославскому',\n 'югославского',\n 'Юхнов',\n 'Юхнове',\n 'Юхновом',\n 'Юхнову',\n 'Юхнова',\n 'юхновский',\n 'юхновское',\n 'юхновскую',\n 'юхновскою',\n 'юхновской',\n 'юхновская',\n 'юхновскими',\n 'юхновских',\n 'юхновские',\n 'юхновском',\n 'юхновским',\n 'юхновскому',\n 'юхновского',\n 'юкагирский',\n 'юкагирское',\n 'юкагирскую',\n 'юкагирскою',\n 'юкагирской',\n 'юкагирская',\n 'юкагирскими',\n 'юкагирских',\n 'юкагирские',\n 'юкагирском',\n 'юкагирским',\n 'юкагирскому',\n 'юкагирского',\n 'Юкатан',\n 'Юкатане',\n 'Юкатаном',\n 'Юкатану',\n 'Юкатана',\n 'юкатанский',\n 'юкатанское',\n 'юкатанскую',\n 'юкатанскою',\n 'юкатанской',\n 'юкатанская',\n 'юкатанскими',\n 'юкатанских',\n 'юкатанские',\n 'юкатанском',\n 'юкатанским',\n 'юкатанскому',\n 'юкатанского',\n 'юкка',\n 'юккою',\n 'юккой',\n 'юкку',\n 'юкке',\n 'юкки',\n 'юла',\n 'юлах',\n 'юлами',\n 'юлам',\n 'юл',\n 'юлою',\n 'юлой',\n 'юлу',\n 'юле',\n 'юлы',\n 'Юленька',\n 'Юленькою',\n 'Юленькой',\n 'Юленьку',\n 'Юленьке',\n 'Юленьки',\n 'Юлиан',\n 'Юлианах',\n 'Юлианами',\n 'Юлианам',\n 'Юлианов',\n 'Юлианы',\n 'Юлиане',\n 'Юлианом',\n 'Юлиану',\n 'Юлиана',\n 'Юлианович',\n 'Юлиановиче',\n 'Юлиановичу',\n 'Юлиановича',\n 'Юлиановичем',\n 'юлианский',\n 'юлианское',\n 'юлианскую',\n 'юлианскою',\n 'юлианской',\n 'юлианская',\n 'юлианскими',\n 'юлианских',\n 'юлианские',\n 'юлианском',\n 'юлианским',\n 'юлианскому',\n 'юлианского',\n 'Юлий',\n 'Юлиях',\n 'Юлиями',\n 'Юлиям',\n 'Юлиев',\n 'Юлии',\n 'Юлием',\n 'Юлию',\n 'Юлия',\n 'Юлия',\n 'Юлиях',\n 'Юлиями',\n 'Юлиям',\n 'Юлий',\n 'Юлиею',\n 'Юлией',\n 'Юлию',\n 'Юлии',\n 'юлить',\n 'юлите',\n 'юли',\n 'юлили',\n 'юлило',\n 'юлила',\n 'юлил',\n 'юля',\n 'юлят',\n 'юлит',\n 'юлите',\n 'юлишь',\n 'юлим',\n 'юлю',\n 'юливший',\n 'юлившее',\n 'юлившую',\n 'юлившею',\n 'юлившей',\n 'юлившая',\n 'юлившими',\n 'юливших',\n 'юлившие',\n 'юлившем',\n 'юлившим',\n 'юлившему',\n 'юлившего',\n 'юлящий',\n 'юлящее',\n 'юлящую',\n 'юлящею',\n 'юлящей',\n 'юлящая',\n 'юлящими',\n 'юлящих',\n 'юлящие',\n 'юлящем',\n 'юлящим',\n 'юлящему',\n 'юлящего',\n 'Юльевич',\n 'Юльевичах',\n 'Юльевичами',\n 'Юльевичам',\n 'Юльевичей',\n 'Юльевичи',\n 'Юльевиче',\n 'Юльевичу',\n 'Юльевича',\n 'Юльевичем',\n 'Юльевна',\n 'Юльевнах',\n 'Юльевнами',\n 'Юльевнам',\n 'Юльевн',\n 'Юльевною',\n 'Юльевной',\n 'Юльевну',\n 'Юльевне',\n 'Юльевны',\n 'Юлька',\n 'Юлькою',\n 'Юлькой',\n 'Юльку',\n 'Юльке',\n 'Юльки',\n 'юмор',\n 'юморе',\n 'юмором',\n 'юмору',\n 'юмора',\n 'юмореска',\n 'юморесках',\n 'юморесками',\n 'юморескам',\n 'юморесок',\n 'юморескою',\n 'юмореской',\n 'юмореску',\n 'юмореске',\n 'юморески',\n 'юморист',\n 'юмористах',\n 'юмористами',\n 'юмористам',\n 'юмористов',\n 'юмористы',\n 'юмористе',\n 'юмористом',\n 'юмористу',\n 'юмориста',\n 'юмористика',\n 'юмористикою',\n 'юмористикой',\n 'юмористику',\n 'юмористике',\n 'юмористики',\n 'юмористический',\n 'юмористическое',\n 'юмористическую',\n 'юмористическою',\n 'юмористической',\n 'юмористическая',\n 'юмористическими',\n 'юмористических',\n 'юмористические',\n 'юмористическом',\n 'юмористическим',\n 'юмористическому',\n 'юмористического',\n 'юмористически',\n 'юмористичный',\n 'юмористичное',\n 'юмористичную',\n 'юмористичною',\n 'юмористичной',\n 'юмористичная',\n 'юмористичными',\n 'юмористичных',\n 'юмористичные',\n 'юмористичном',\n 'юмористичным',\n 'юмористичному',\n 'юмористичного',\n 'юмористка',\n 'юмористках',\n 'юмористками',\n 'юмористкам',\n 'юмористок',\n 'юмористкою',\n 'юмористкой',\n 'юмористку',\n 'юмористке',\n 'юмористки',\n 'юморок',\n 'юморке',\n 'юморком',\n 'юморку',\n 'юморка',\n 'юн',\n 'юна',\n 'юнцом',\n 'юнцов',\n 'юнец',\n 'юнцах',\n 'юнцами',\n 'юнцам',\n 'юнцы',\n 'юнце',\n 'юнцу',\n 'юнца',\n 'ЮНЕСКО',\n 'юнга',\n 'юнгах',\n 'юнгами',\n 'юнгам',\n 'юнг',\n 'юнгою',\n 'юнгой',\n 'юнгу',\n 'юнге',\n 'юнги',\n 'юница',\n 'юницах',\n 'юницами',\n 'юницам',\n 'юниц',\n 'юницею',\n 'юницей',\n 'юницу',\n 'юнице',\n 'юницы',\n 'юнион',\n 'юнионах',\n 'юнионами',\n 'юнионам',\n 'юнионов',\n 'юнионы',\n 'юнионе',\n 'юнионом',\n 'юниону',\n 'юниона',\n 'юнионист',\n 'юнионистах',\n 'юнионистами',\n 'юнионистам',\n 'юнионистов',\n 'юнионисты',\n 'юнионисте',\n 'юнионистом',\n 'юнионисту',\n 'юниониста',\n 'юниор',\n 'юниорах',\n 'юниорами',\n 'юниорам',\n 'юниоров',\n 'юниоры',\n 'юниоре',\n 'юниором',\n 'юниору',\n 'юниора',\n 'юнкер',\n 'юнкерах',\n 'юнкерами',\n 'юнкерам',\n 'юнкеров',\n 'юнкеры',\n 'юнкере',\n 'юнкером',\n 'юнкеру',\n 'юнкера',\n 'юнкерс',\n 'юнкерсах',\n 'юнкерсами',\n 'юнкерсам',\n 'юнкерсов',\n 'юнкерсы',\n 'юнкерсе',\n 'юнкерсом',\n 'юнкерсу',\n 'юнкерса',\n 'юнкерский',\n 'юнкерское',\n 'юнкерскую',\n 'юнкерскою',\n 'юнкерской',\n 'юнкерская',\n 'юнкерскими',\n 'юнкерских',\n 'юнкерские',\n 'юнкерском',\n 'юнкерским',\n 'юнкерскому',\n 'юнкерского',\n 'юнкерство',\n 'юнкерстве',\n 'юнкерством',\n 'юнкерству',\n 'юнкерства',\n 'юнкерье',\n 'юнкерьем',\n 'юнкерью',\n 'юнкерья',\n 'юнкор',\n 'юнкорах',\n 'юнкорами',\n 'юнкорам',\n 'юнкоров',\n 'юнкоры',\n 'юнкоре',\n 'юнкором',\n 'юнкору',\n 'юнкора',\n 'юнкоровский',\n 'юнкоровское',\n 'юнкоровскую',\n 'юнкоровскою',\n 'юнкоровской',\n 'юнкоровская',\n 'юнкоровскими',\n 'юнкоровских',\n 'юнкоровские',\n 'юнкоровском',\n 'юнкоровским',\n 'юнкоровскому',\n 'юнкоровского',\n 'юннат',\n 'юннатах',\n 'юннатами',\n 'юннатам',\n 'юннатов',\n 'юннаты',\n 'юннате',\n 'юннатом',\n 'юннату',\n 'юнната',\n 'Юнона',\n 'Юноною',\n 'Юноной',\n 'Юнону',\n 'Юноне',\n 'Юноны',\n 'юность',\n 'юностью',\n 'юности',\n 'юноша',\n 'юношах',\n 'юношами',\n 'юношам',\n 'юнош',\n 'юношею',\n 'юношей',\n 'юношу',\n 'юноше',\n 'юноши',\n 'юношеский',\n 'юношеское',\n 'юношескую',\n 'юношескою',\n 'юношеской',\n 'юношеская',\n 'юношескими',\n 'юношеских',\n 'юношеские',\n 'юношеском',\n 'юношеским',\n 'юношескому',\n 'юношеского',\n 'юношески',\n 'юношество',\n 'юношестве',\n 'юношеством',\n 'юношеству',\n 'юношества',\n 'юны',\n 'юный',\n 'юное',\n 'юную',\n 'юною',\n 'юной',\n 'юная',\n 'юными',\n 'юных',\n 'юные',\n 'юном',\n 'юным',\n 'юному',\n 'юного',\n 'юней',\n 'юнее',\n 'юно',\n 'юпитер',\n 'юпитерах',\n 'юпитерами',\n 'юпитерам',\n 'юпитеров',\n 'юпитеры',\n 'юпитере',\n 'юпитером',\n 'юпитеру',\n 'юпитера',\n 'юпитерианский',\n 'юпитерианское',\n 'юпитерианскую',\n 'юпитерианскою',\n 'юпитерианской',\n 'юпитерианская',\n 'юпитерианскими',\n 'юпитерианских',\n 'юпитерианские',\n 'юпитерианском',\n 'юпитерианским',\n 'юпитерианскому',\n 'юпитерианского',\n 'Юра',\n 'Юрах',\n 'Юрами',\n 'Юрам',\n 'Юр',\n 'Юрою',\n 'Юрой',\n 'Юру',\n 'Юре',\n 'Юры',\n 'юрфак',\n 'юрфаке',\n 'юрфаком',\n 'юрфаку',\n 'юрфака',\n 'юридический',\n 'юридическое',\n 'юридическую',\n 'юридическою',\n 'юридической',\n 'юридическая',\n 'юридическими',\n 'юридических',\n 'юридические',\n 'юридическом',\n 'юридическим',\n 'юридическому',\n 'юридического',\n 'юридически',\n 'Юрий',\n 'Юриях',\n 'Юриями',\n 'Юриям',\n 'Юриев',\n 'Юрии',\n 'Юрием',\n 'Юрию',\n 'Юрия',\n 'юрисдикция',\n 'юрисдикциею',\n 'юрисдикцией',\n 'юрисдикцию',\n 'юрисдикции',\n 'юрисконсульт',\n 'юрисконсультах',\n 'юрисконсультами',\n 'юрисконсультам',\n 'юрисконсультов',\n 'юрисконсульты',\n 'юрисконсульте',\n 'юрисконсультом',\n 'юрисконсульту',\n 'юрисконсульта',\n 'юрисконсультство',\n 'юрисконсультствах',\n 'юрисконсультствами',\n 'юрисконсультствам',\n 'юрисконсультств',\n 'юрисконсультстве',\n 'юрисконсультством',\n 'юрисконсультству',\n 'юрисконсультства',\n 'юриспруденция',\n 'юриспруденциею',\n 'юриспруденцией',\n 'юриспруденцию',\n 'юриспруденции',\n 'юрист',\n 'юристах',\n 'юристами',\n 'юристам',\n 'юристов',\n 'юристы',\n 'юристе',\n 'юристом',\n 'юристу',\n 'юриста',\n 'юрк',\n 'юркающий',\n 'юркающее',\n 'юркающую',\n 'юркающею',\n 'юркающей',\n 'юркающая',\n 'юркающими',\n 'юркающих',\n 'юркающие',\n 'юркающем',\n 'юркающим',\n 'юркающему',\n 'юркающего',\n 'юркать',\n 'юркайте',\n 'юркай',\n 'юркали',\n 'юркало',\n 'юркала',\n 'юркал',\n 'юркают',\n 'юркает',\n 'юркаете',\n 'юркаешь',\n 'юркаем',\n 'юркаю',\n 'юркая',\n 'юркавший',\n 'юркавшее',\n 'юркавшую',\n 'юркавшею',\n 'юркавшей',\n 'юркавшая',\n 'юркавшими',\n 'юркавших',\n 'юркавшие',\n 'юркавшем',\n 'юркавшим',\n 'юркавшему',\n 'юркавшего',\n 'юркий',\n 'юркое',\n 'юркую',\n 'юркою',\n 'юркой',\n 'юркая',\n 'юркими',\n 'юрких',\n 'юркие',\n 'юрком',\n 'юрким',\n 'юркому',\n 'юркого',\n 'юркнуть',\n 'юркните',\n 'юркни',\n 'юркнули',\n 'юркнуло',\n 'юркнула',\n 'юркнул',\n 'юркнут',\n 'юркнет',\n 'юркнете',\n 'юркнешь',\n 'юркнем',\n 'юркну',\n 'юркнув',\n 'юркнувший',\n 'юркнувшее',\n 'юркнувшую',\n 'юркнувшею',\n 'юркнувшей',\n 'юркнувшая',\n 'юркнувшими',\n 'юркнувших',\n 'юркнувшие',\n 'юркнувшем',\n 'юркнувшим',\n 'юркнувшему',\n 'юркнувшего',\n 'юркость',\n 'юркостью',\n 'юркости',\n 'Юрмала',\n 'Юрмалою',\n 'Юрмалой',\n 'Юрмалу',\n 'Юрмале',\n 'Юрмалы',\n 'юрмальский',\n 'юрмальское',\n 'юрмальскую',\n 'юрмальскою',\n 'юрмальской',\n 'юрмальская',\n 'юрмальскими',\n 'юрмальских',\n 'юрмальские',\n 'юрмальском',\n 'юрмальским',\n 'юрмальскому',\n 'юрмальского',\n 'юрод',\n 'юроде',\n 'юродом',\n 'юроду',\n 'юрода',\n 'юродивость',\n 'юродивостью',\n 'юродивости',\n 'юродивый',\n 'юродивое',\n 'юродивую',\n 'юродивою',\n 'юродивой',\n 'юродивая',\n 'юродивыми',\n 'юродивых',\n 'юродивые',\n 'юродивом',\n 'юродивым',\n 'юродивому',\n 'юродивого',\n 'юродский',\n 'юродское',\n 'юродскую',\n 'юродскою',\n 'юродской',\n 'юродская',\n 'юродскими',\n 'юродских',\n 'юродские',\n 'юродском',\n 'юродским',\n 'юродскому',\n 'юродского',\n 'юродство',\n 'юродстве',\n 'юродством',\n 'юродству',\n 'юродства',\n 'юродствовать',\n 'юродствовали',\n 'юродствовало',\n 'юродствовала',\n 'юродствовал',\n 'юродствуя',\n 'юродствуйте',\n 'юродствуй',\n 'юродствуют',\n 'юродствует',\n 'юродствуете',\n 'юродствуешь',\n 'юродствуем',\n 'юродствую',\n 'юродствовавший',\n 'юродствовавшее',\n 'юродствовавшую',\n 'юродствовавшею',\n 'юродствовавшей',\n 'юродствовавшая',\n 'юродствовавшими',\n 'юродствовавших',\n 'юродствовавшие',\n 'юродствовавшем',\n 'юродствовавшим',\n 'юродствовавшему',\n 'юродствовавшего',\n 'юродствующий',\n 'юродствующее',\n 'юродствующую',\n 'юродствующею',\n 'юродствующей',\n 'юродствующая',\n 'юродствующими',\n 'юродствующих',\n 'юродствующие',\n 'юродствующем',\n 'юродствующим',\n 'юродствующему',\n 'юродствующего',\n 'юрок',\n 'юрках',\n 'юрками',\n 'юркам',\n 'юрков',\n 'юрки',\n 'юрке',\n 'юрком',\n 'юрку',\n 'юрка',\n 'юрский',\n 'юрское',\n 'юрскую',\n 'юрскою',\n 'юрской',\n 'юрская',\n 'юрскими',\n 'юрских',\n 'юрские',\n 'юрском',\n 'юрским',\n 'юрскому',\n 'юрского',\n 'юрта',\n 'юртах',\n 'юртами',\n 'юртам',\n 'юрт',\n 'юртою',\n 'юртой',\n 'юрту',\n 'юрте',\n 'юрты',\n 'юру',\n 'Юрьевич',\n 'Юрьевичах',\n 'Юрьевичами',\n 'Юрьевичам',\n 'Юрьевичей',\n 'Юрьевичи',\n 'Юрьевиче',\n 'Юрьевичу',\n 'Юрьевича',\n 'Юрьевичем',\n 'Юрьевна',\n 'Юрьевнах',\n 'Юрьевнами',\n 'Юрьевнам',\n 'Юрьевн',\n 'Юрьевною',\n 'Юрьевной',\n 'Юрьевну',\n 'Юрьевне',\n ...]"
     },
     "execution_count": 23,
     "metadata": {},
     "output_type": "execute_result"
    }
   ],
   "source": [
    "words_list = re.split(' |\\n', words_str)\n",
    "words_list"
   ],
   "metadata": {
    "collapsed": false,
    "pycharm": {
     "name": "#%%\n"
    }
   }
  },
  {
   "cell_type": "code",
   "execution_count": 24,
   "outputs": [
    {
     "data": {
      "text/plain": "     word\n0    юань\n1   юанях\n2  юанями\n3   юаням\n4   юаней",
      "text/html": "<div>\n<style scoped>\n    .dataframe tbody tr th:only-of-type {\n        vertical-align: middle;\n    }\n\n    .dataframe tbody tr th {\n        vertical-align: top;\n    }\n\n    .dataframe thead th {\n        text-align: right;\n    }\n</style>\n<table border=\"1\" class=\"dataframe\">\n  <thead>\n    <tr style=\"text-align: right;\">\n      <th></th>\n      <th>word</th>\n    </tr>\n  </thead>\n  <tbody>\n    <tr>\n      <th>0</th>\n      <td>юань</td>\n    </tr>\n    <tr>\n      <th>1</th>\n      <td>юанях</td>\n    </tr>\n    <tr>\n      <th>2</th>\n      <td>юанями</td>\n    </tr>\n    <tr>\n      <th>3</th>\n      <td>юаням</td>\n    </tr>\n    <tr>\n      <th>4</th>\n      <td>юаней</td>\n    </tr>\n  </tbody>\n</table>\n</div>"
     },
     "execution_count": 24,
     "metadata": {},
     "output_type": "execute_result"
    }
   ],
   "source": [
    "aspell_data = pd.DataFrame(words_list, columns=[\"word\"])\n",
    "aspell_data.head()"
   ],
   "metadata": {
    "collapsed": false,
    "pycharm": {
     "name": "#%%\n"
    }
   }
  },
  {
   "cell_type": "code",
   "execution_count": 25,
   "outputs": [],
   "source": [
    "aspell_data[\"length\"] = aspell_data.word.map(lambda x: len(x))"
   ],
   "metadata": {
    "collapsed": false,
    "pycharm": {
     "name": "#%%\n"
    }
   }
  },
  {
   "cell_type": "code",
   "execution_count": 26,
   "outputs": [
    {
     "data": {
      "text/plain": "     word  length\n0    юань       4\n1   юанях       5\n2  юанями       6\n3   юаням       5\n4   юаней       5",
      "text/html": "<div>\n<style scoped>\n    .dataframe tbody tr th:only-of-type {\n        vertical-align: middle;\n    }\n\n    .dataframe tbody tr th {\n        vertical-align: top;\n    }\n\n    .dataframe thead th {\n        text-align: right;\n    }\n</style>\n<table border=\"1\" class=\"dataframe\">\n  <thead>\n    <tr style=\"text-align: right;\">\n      <th></th>\n      <th>word</th>\n      <th>length</th>\n    </tr>\n  </thead>\n  <tbody>\n    <tr>\n      <th>0</th>\n      <td>юань</td>\n      <td>4</td>\n    </tr>\n    <tr>\n      <th>1</th>\n      <td>юанях</td>\n      <td>5</td>\n    </tr>\n    <tr>\n      <th>2</th>\n      <td>юанями</td>\n      <td>6</td>\n    </tr>\n    <tr>\n      <th>3</th>\n      <td>юаням</td>\n      <td>5</td>\n    </tr>\n    <tr>\n      <th>4</th>\n      <td>юаней</td>\n      <td>5</td>\n    </tr>\n  </tbody>\n</table>\n</div>"
     },
     "execution_count": 26,
     "metadata": {},
     "output_type": "execute_result"
    }
   ],
   "source": [
    "aspell_data.head()"
   ],
   "metadata": {
    "collapsed": false,
    "pycharm": {
     "name": "#%%\n"
    }
   }
  },
  {
   "cell_type": "code",
   "execution_count": 27,
   "outputs": [
    {
     "data": {
      "text/plain": "<AxesSubplot:>"
     },
     "execution_count": 27,
     "metadata": {},
     "output_type": "execute_result"
    },
    {
     "data": {
      "text/plain": "<Figure size 1440x720 with 1 Axes>",
      "image/png": "[encoded data removed]"
     },
     "metadata": {
      "needs_background": "light"
     },
     "output_type": "display_data"
    }
   ],
   "source": [
    "aspell_data[\"length\"].hist(bins=300, figsize=(20,10))"
   ],
   "metadata": {
    "collapsed": false,
    "pycharm": {
     "name": "#%%\n"
    }
   }
  },
  {
   "cell_type": "code",
   "execution_count": 28,
   "outputs": [
    {
     "data": {
      "text/plain": "10    169525\n11    165731\n9     149014\n12    147637\n8     119059\n13    115770\n14     83893\n7      79353\n15     57240\n6      43566\n16     36076\n17     21747\n5      20553\n18     12587\n19      7160\n4       6631\n20      3730\n21      1938\n3       1493\n22       990\n23       374\n24       232\n2        169\n25       102\n26        19\n1          8\n27         1\n0          1\nName: length, dtype: int64"
     },
     "execution_count": 28,
     "metadata": {},
     "output_type": "execute_result"
    }
   ],
   "source": [
    "aspell_data[\"length\"].value_counts()"
   ],
   "metadata": {
    "collapsed": false,
    "pycharm": {
     "name": "#%%\n"
    }
   }
  },
  {
   "cell_type": "code",
   "execution_count": 29,
   "outputs": [],
   "source": [
    "aspell_data = aspell_data[aspell_data[\"length\"] != 0]"
   ],
   "metadata": {
    "collapsed": false,
    "pycharm": {
     "name": "#%%\n"
    }
   }
  },
  {
   "cell_type": "code",
   "execution_count": 30,
   "outputs": [],
   "source": [
    "aspell_data = aspell_data.drop(columns=[\"length\"])"
   ],
   "metadata": {
    "collapsed": false,
    "pycharm": {
     "name": "#%%\n"
    }
   }
  },
  {
   "cell_type": "code",
   "execution_count": 31,
   "outputs": [],
   "source": [
    "aspell_data.to_csv(\"../../data/dictionaries/processed/processed_aspell_words_ru.txt\", header=None, index=None, sep=' ', mode='a')"
   ],
   "metadata": {
    "collapsed": false,
    "pycharm": {
     "name": "#%%\n"
    }
   }
  },
  {
   "cell_type": "code",
   "execution_count": 32,
   "outputs": [],
   "source": [
    "lemmatizer = pymorphy2.MorphAnalyzer()\n",
    "aspell_data = pd.DataFrame(set(aspell_data.word.map(lambda word: lemmatizer.parse(word)[0].normal_form)), columns=[\"word\"])"
   ],
   "metadata": {
    "collapsed": false,
    "pycharm": {
     "name": "#%%\n"
    }
   }
  },
  {
   "cell_type": "code",
   "execution_count": 33,
   "outputs": [
    {
     "data": {
      "text/plain": "             word\n0  ракетостроение\n1  маргинализация\n2    применимость\n3           шлюха\n4      пережевать",
      "text/html": "<div>\n<style scoped>\n    .dataframe tbody tr th:only-of-type {\n        vertical-align: middle;\n    }\n\n    .dataframe tbody tr th {\n        vertical-align: top;\n    }\n\n    .dataframe thead th {\n        text-align: right;\n    }\n</style>\n<table border=\"1\" class=\"dataframe\">\n  <thead>\n    <tr style=\"text-align: right;\">\n      <th></th>\n      <th>word</th>\n    </tr>\n  </thead>\n  <tbody>\n    <tr>\n      <th>0</th>\n      <td>ракетостроение</td>\n    </tr>\n    <tr>\n      <th>1</th>\n      <td>маргинализация</td>\n    </tr>\n    <tr>\n      <th>2</th>\n      <td>применимость</td>\n    </tr>\n    <tr>\n      <th>3</th>\n      <td>шлюха</td>\n    </tr>\n    <tr>\n      <th>4</th>\n      <td>пережевать</td>\n    </tr>\n  </tbody>\n</table>\n</div>"
     },
     "execution_count": 33,
     "metadata": {},
     "output_type": "execute_result"
    }
   ],
   "source": [
    "aspell_data.head()"
   ],
   "metadata": {
    "collapsed": false,
    "pycharm": {
     "name": "#%%\n"
    }
   }
  },
  {
   "cell_type": "code",
   "execution_count": 34,
   "outputs": [],
   "source": [
    "aspell_data.to_csv(\"../../data/dictionaries/processed/processed_lemmatized_aspell_words_ru.txt\", header=None, index=None, sep=' ', mode='w')"
   ],
   "metadata": {
    "collapsed": false,
    "pycharm": {
     "name": "#%%\n"
    }
   }
  }
 ],
 "metadata": {
  "kernelspec": {
   "display_name": "Python 3",
   "language": "python",
   "name": "python3"
  },
  "language_info": {
   "codemirror_mode": {
    "name": "ipython",
    "version": 2
   },
   "file_extension": ".py",
   "mimetype": "text/x-python",
   "name": "python",
   "nbconvert_exporter": "python",
   "pygments_lexer": "ipython2",
   "version": "2.7.6"
  }
 },
 "nbformat": 4,
 "nbformat_minor": 0
}