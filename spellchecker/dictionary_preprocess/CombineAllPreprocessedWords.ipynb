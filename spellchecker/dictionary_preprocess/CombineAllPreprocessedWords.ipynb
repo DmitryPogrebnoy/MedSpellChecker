{
 "cells": [
  {
   "cell_type": "code",
   "execution_count": 1,
   "metadata": {
    "collapsed": true,
    "pycharm": {
     "name": "#%%\n"
    }
   },
   "outputs": [
    {
     "name": "stdout",
     "output_type": "stream",
     "text": [
      "91828\n",
      "188043\n",
      "181561\n"
     ]
    },
    {
     "data": {
      "text/plain": "0                умудрить\n1               сабельный\n2                  вправо\n3               упертость\n4            гидротерапия\n               ...       \n461427        ахмадинежад\n461428     невертикальный\n461429    пирометрический\n461430                 ню\n461431      лункообразный\nName: word, Length: 461432, dtype: object"
     },
     "execution_count": 1,
     "metadata": {},
     "output_type": "execute_result"
    }
   ],
   "source": [
    "import pandas as pd\n",
    "\n",
    "processed_lemmatized_aspell_words = pd.read_csv(\"../../data/dictionaries/processed/processed_lemmatized_aspell_words_ru.txt\", header=None, names=[\"word\"]).word\n",
    "print(processed_lemmatized_aspell_words.size)\n",
    "processed_lemmatized_existed_words = pd.read_csv(\"../../data/dictionaries/processed/processed_lemmatized_existed_words.txt\", header=None, names=[\"word\"]).word\n",
    "print(processed_lemmatized_existed_words.size)\n",
    "processed_lemmatized_opencorpora_words = pd.read_csv(\"../../data/dictionaries/processed/processed_lemmatized_opencorpora_dict.txt\", header=None, names=[\"word\"]).word\n",
    "print(processed_lemmatized_opencorpora_words.size)\n",
    "\n",
    "processed_words = processed_lemmatized_aspell_words\\\n",
    "    .append(processed_lemmatized_existed_words ,ignore_index=True)\\\n",
    "    .append(processed_lemmatized_opencorpora_words, ignore_index=True)\n",
    "processed_words"
   ]
  },
  {
   "cell_type": "code",
   "execution_count": null,
   "outputs": [],
   "source": [
    "processed_words.to_csv(\"../../data/dictionaries/processed/processed_lemmatized_all_dict.txt\")\n"
   ],
   "metadata": {
    "collapsed": false,
    "pycharm": {
     "name": "#%%\n"
    }
   }
  }
 ],
 "metadata": {
  "kernelspec": {
   "display_name": "Python 3",
   "language": "python",
   "name": "python3"
  },
  "language_info": {
   "codemirror_mode": {
    "name": "ipython",
    "version": 2
   },
   "file_extension": ".py",
   "mimetype": "text/x-python",
   "name": "python",
   "nbconvert_exporter": "python",
   "pygments_lexer": "ipython2",
   "version": "2.7.6"
  }
 },
 "nbformat": 4,
 "nbformat_minor": 0
}