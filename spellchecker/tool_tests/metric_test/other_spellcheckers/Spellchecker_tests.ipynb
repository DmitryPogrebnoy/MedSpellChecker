{
 "cells": [
  {
   "cell_type": "markdown",
   "source": [
    "# Prepear test dataset\n",
    "Load word data for error precision test\n",
    "Format - {word}{several spaces}{answer-words separeted by comma}"
   ],
   "metadata": {
    "collapsed": false,
    "pycharm": {
     "name": "#%% md\n"
    }
   }
  },
  {
   "cell_type": "code",
   "execution_count": 11,
   "outputs": [
    {
     "name": "stdout",
     "output_type": "stream",
     "text": [
      "Requirement already satisfied: pip in /home/Dmitry.Pogrebnoy/Desktop/MedSpellChecker/venv/lib/python3.9/site-packages (22.0.4)\r\n"
     ]
    }
   ],
   "source": [
    "!pip install --upgrade pip"
   ],
   "metadata": {
    "collapsed": false,
    "pycharm": {
     "name": "#%%\n"
    }
   }
  },
  {
   "cell_type": "code",
   "execution_count": 12,
   "outputs": [
    {
     "name": "stdout",
     "output_type": "stream",
     "text": [
      "Requirement already satisfied: tqdm in /home/Dmitry.Pogrebnoy/Desktop/MedSpellChecker/venv/lib/python3.9/site-packages (4.62.3)\r\n"
     ]
    }
   ],
   "source": [
    "!pip install tqdm"
   ],
   "metadata": {
    "collapsed": false,
    "pycharm": {
     "name": "#%%\n"
    }
   }
  },
  {
   "cell_type": "code",
   "execution_count": 1,
   "outputs": [],
   "source": [
    "from tqdm import tqdm"
   ],
   "metadata": {
    "collapsed": false,
    "pycharm": {
     "name": "#%%\n"
    }
   }
  },
  {
   "cell_type": "code",
   "execution_count": 2,
   "outputs": [],
   "source": [
    "from metric_test_without_context import MetricTestWithoutContext\n",
    "\n",
    "metric_test_without_context = MetricTestWithoutContext('../data/test/without_context/error_precision_words.txt', '../data/test/without_context/lexical_precision_words.txt')"
   ],
   "metadata": {
    "collapsed": false,
    "pycharm": {
     "name": "#%%\n"
    }
   }
  },
  {
   "cell_type": "markdown",
   "metadata": {
    "id": "En1-fnjrUS7y",
    "pycharm": {
     "name": "#%% md\n"
    }
   },
   "source": [
    "# Spellchecker prototype initialization"
   ]
  },
  {
   "cell_type": "code",
   "execution_count": 15,
   "metadata": {
    "colab": {
     "base_uri": "https://localhost:8080/"
    },
    "id": "-9NdfwQyUDcR",
    "outputId": "19f552b7-eaa9-4db6-f541-816ae713f3d4",
    "pycharm": {
     "name": "#%%\n"
    }
   },
   "outputs": [
    {
     "name": "stdout",
     "output_type": "stream",
     "text": [
      "Requirement already satisfied: pymorphy2 in /home/Dmitry.Pogrebnoy/Desktop/MedSpellChecker/venv/lib/python3.9/site-packages (0.9.1)\r\n",
      "Requirement already satisfied: dawg-python>=0.7.1 in /home/Dmitry.Pogrebnoy/Desktop/MedSpellChecker/venv/lib/python3.9/site-packages (from pymorphy2) (0.7.2)\r\n",
      "Requirement already satisfied: pymorphy2-dicts-ru<3.0,>=2.4 in /home/Dmitry.Pogrebnoy/Desktop/MedSpellChecker/venv/lib/python3.9/site-packages (from pymorphy2) (2.4.417127.4579844)\r\n",
      "Requirement already satisfied: docopt>=0.6 in /home/Dmitry.Pogrebnoy/Desktop/MedSpellChecker/venv/lib/python3.9/site-packages (from pymorphy2) (0.6.2)\r\n",
      "Requirement already satisfied: gensim in /home/Dmitry.Pogrebnoy/Desktop/MedSpellChecker/venv/lib/python3.9/site-packages (4.1.2)\r\n",
      "Requirement already satisfied: numpy>=1.17.0 in /home/Dmitry.Pogrebnoy/Desktop/MedSpellChecker/venv/lib/python3.9/site-packages (from gensim) (1.21.5)\r\n",
      "Requirement already satisfied: scipy>=0.18.1 in /home/Dmitry.Pogrebnoy/Desktop/MedSpellChecker/venv/lib/python3.9/site-packages (from gensim) (1.7.3)\r\n",
      "Requirement already satisfied: smart-open>=1.8.1 in /home/Dmitry.Pogrebnoy/Desktop/MedSpellChecker/venv/lib/python3.9/site-packages (from gensim) (5.2.1)\r\n",
      "Collecting python-levenshtein\r\n",
      "  Using cached python_Levenshtein-0.12.2-cp39-cp39-linux_x86_64.whl\r\n",
      "Requirement already satisfied: setuptools in /home/Dmitry.Pogrebnoy/Desktop/MedSpellChecker/venv/lib/python3.9/site-packages (from python-levenshtein) (57.0.0)\r\n",
      "Installing collected packages: python-levenshtein\r\n",
      "Successfully installed python-levenshtein-0.12.2\r\n",
      "Requirement already satisfied: stringdist in /home/Dmitry.Pogrebnoy/Desktop/MedSpellChecker/venv/lib/python3.9/site-packages (1.0.9)\r\n"
     ]
    }
   ],
   "source": [
    "!pip install pymorphy2 \n",
    "!pip install gensim\n",
    "!pip install python-levenshtein\n",
    "!pip install stringdist"
   ]
  },
  {
   "cell_type": "markdown",
   "metadata": {
    "id": "2mRtM4gyjlWZ",
    "pycharm": {
     "name": "#%% md\n"
    }
   },
   "source": [
    "# Test SpellChecker Prototype v.2"
   ]
  },
  {
   "cell_type": "code",
   "execution_count": 16,
   "outputs": [],
   "source": [
    "from spellchecker_prototype_v2.spell_checker import SpellChecker"
   ],
   "metadata": {
    "collapsed": false,
    "pycharm": {
     "name": "#%%\n"
    }
   }
  },
  {
   "cell_type": "markdown",
   "source": [
    "Download models (all files) from [link](https://drive.google.com/drive/folders/1ubVgiIC2pqDOpA-CbjEqV8Jo8uBbk0qi?usp=sharing) and move it to `data/spellchecker_prototype_v2/models` folder"
   ],
   "metadata": {
    "collapsed": false,
    "pycharm": {
     "name": "#%% md\n"
    }
   }
  },
  {
   "cell_type": "code",
   "execution_count": 122,
   "outputs": [
    {
     "name": "stdout",
     "output_type": "stream",
     "text": [
      "/home/Dmitry.Pogrebnoy/Desktop/MedSpellChecker/spellchecker_prototype_v2\n"
     ]
    },
    {
     "name": "stderr",
     "output_type": "stream",
     "text": [
      "0it [00:00, ?it/s]"
     ]
    },
    {
     "name": "stdout",
     "output_type": "stream",
     "text": [
      "['эктренном', 'синусовго', 'даным', 'шнутография', 'сникопальных', 'посление', 'ходавый', 'анмнезе', 'сентированный', 'самоч', 'перевдена', 'стентированеим', 'кардиол', 'переведна', 'догосптальном', 'миним', 'субфебриллитет', 'загрудиные', 'перферия', 'течени', 'оклюзия', 'жнщина', 'пциент', 'зарегистирована', 'сегмета', 'клекте', 'эпид', 'интелектуально', 'нижн', 'прводилась', 'неуст', 'госптализирован', 'вперые', 'послеоперационом', 'госпитализирова', 'ухудщение', 'рентг', 'дальнешем', 'троботическая', 'многосоудистое', 'миокрада', 'сопрвождались', 'дискмфорт', 'потлтвостью', 'левогожелудочка', 'рание', 'виед', 'ангинозныеболи', 'догоситальном', 'ввполнен', 'чаосв', 'октазалась', 'линика', 'ммента', 'проведеной', 'выполненяи', 'леченяи', 'обтилась', 'повтороно', 'зарегистриованы', 'отицает', 'дальнейщем', 'болисохраняются', 'частичынм', 'атерокслеротичсекая', 'деньс', 'назначаля', 'проведеняи', 'беспакоют', 'гипертензи', 'воленйбол', 'болезн', 'стенокардаа', 'продолжалсь', 'поворное', 'ощуащет', 'ангигнозного', 'диагностичекой', 'поддерживающией', 'межлопаточнй', 'бедреной', 'гшрядки', 'бассеине', 'возлуха', 'сенября', 'постояная', 'рекмоендовнао', 'поврждения', 'дискофморта', 'импалнтирован', 'неочетливая', 'обесвеченный', 'серце', 'блезнь', 'лергия', 'ука', 'изжга', 'жение', 'кашел', 'рствор', 'пациен', 'пожлой', 'лекарсво', 'нпреносимость', 'амупула', 'гел', 'конценрат', 'рилиф', 'чссс', 'экгъ', 'фибриляция', 'желдочек', 'хрон', 'гиподин', 'нерный', 'сист', 'диагоностика', 'гипоксмия', 'ледокоин', 'блокато', 'тахкардия', 'малоинвозивный', 'алация', 'имь', 'паражение', 'тяжолый', 'гастрапластика', 'вс', 'лешний', 'орта', 'клапа', 'вент', 'палый', 'пирикард', 'метральный', 'ултразвук', 'херург', 'кордиолог', 'килограм', 'акенезия', 'врхушка', 'апекальный', 'сгмент', 'вес', 'сьенка', 'церкулярный', 'сридиный', 'калапаный', 'апарат', 'потология', 'перекард', 'праксимальный', 'деаметр', 'корекция', 'аслажнение', 'стрдать', 'гепертонический', 'болезн', 'одоптировать', 'получять', 'кансервативный', 'тичение', 'пребование', 'отбиление', 'самачувствие', 'уходшение', 'месро', 'пункцыя', 'особеность', 'шнут', 'шнутирование', 'готчина', 'эхэ', 'каранарный', 'ортерия', 'сначимый', 'стинос', 'гаспиализировать', 'имья', 'олмазов', 'прдшствовать', 'стинакардия', 'пиринести', 'ифаркт', 'моикарда', 'лакализация', 'спразка', 'дальнейшый', 'хроническаянедостаточность', 'инфарктмиокарда', 'отузла', 'нарушениеработы', 'вминуту', 'эндокриннойсистемы', 'сердечныйритм', 'узловаятахикардия', 'основныефакторы', 'остановкасердца', 'фибрилляцияжелудочков', 'счастотой']\n"
     ]
    },
    {
     "name": "stderr",
     "output_type": "stream",
     "text": [
      "\n",
      "0it [00:00, ?it/s]\u001B[A\n",
      "1it [00:23, 23.26s/it]\u001B[A"
     ]
    },
    {
     "name": "stdout",
     "output_type": "stream",
     "text": [
      "Fast Text Exception for эктренном\n"
     ]
    },
    {
     "name": "stderr",
     "output_type": "stream",
     "text": [
      "\n",
      "2it [00:46, 23.30s/it]\u001B[A"
     ]
    },
    {
     "name": "stdout",
     "output_type": "stream",
     "text": [
      "Fast Text Exception for синусовго\n"
     ]
    },
    {
     "name": "stderr",
     "output_type": "stream",
     "text": [
      "\n",
      "3it [00:59, 18.47s/it]\u001B[A"
     ]
    },
    {
     "name": "stdout",
     "output_type": "stream",
     "text": [
      "Fast Text Exception for даным\n"
     ]
    },
    {
     "name": "stderr",
     "output_type": "stream",
     "text": [
      "\n",
      "4it [01:26, 21.95s/it]\u001B[A"
     ]
    },
    {
     "name": "stdout",
     "output_type": "stream",
     "text": [
      "Fast Text Exception for шнутография\n"
     ]
    },
    {
     "name": "stderr",
     "output_type": "stream",
     "text": [
      "\n",
      "5it [01:54, 24.19s/it]\u001B[A"
     ]
    },
    {
     "name": "stdout",
     "output_type": "stream",
     "text": [
      "try синкопальный\n"
     ]
    },
    {
     "name": "stderr",
     "output_type": "stream",
     "text": [
      "\n",
      "6it [02:14, 22.62s/it]\u001B[A"
     ]
    },
    {
     "name": "stdout",
     "output_type": "stream",
     "text": [
      "Fast Text Exception for посление\n"
     ]
    },
    {
     "name": "stderr",
     "output_type": "stream",
     "text": [
      "\n",
      "7it [02:32, 21.18s/it]\u001B[A"
     ]
    },
    {
     "name": "stdout",
     "output_type": "stream",
     "text": [
      "Fast Text Exception for ходавый\n"
     ]
    },
    {
     "name": "stderr",
     "output_type": "stream",
     "text": [
      "\n",
      "8it [02:50, 20.11s/it]\u001B[A"
     ]
    },
    {
     "name": "stdout",
     "output_type": "stream",
     "text": [
      "Fast Text Exception for анмнезе\n"
     ]
    },
    {
     "name": "stderr",
     "output_type": "stream",
     "text": [
      "\n",
      "9it [03:23, 24.33s/it]\u001B[A"
     ]
    },
    {
     "name": "stdout",
     "output_type": "stream",
     "text": [
      "Fast Text Exception for сентированный\n"
     ]
    },
    {
     "name": "stderr",
     "output_type": "stream",
     "text": [
      "\n",
      "10it [03:37, 20.85s/it]\u001B[A"
     ]
    },
    {
     "name": "stdout",
     "output_type": "stream",
     "text": [
      "Fast Text Exception for самоч\n"
     ]
    },
    {
     "name": "stderr",
     "output_type": "stream",
     "text": [
      "\n",
      "11it [03:59, 21.42s/it]\u001B[A"
     ]
    },
    {
     "name": "stdout",
     "output_type": "stream",
     "text": [
      "Fast Text Exception for перевдена\n"
     ]
    },
    {
     "name": "stderr",
     "output_type": "stream",
     "text": [
      "\n",
      "12it [04:34, 25.56s/it]\u001B[A"
     ]
    },
    {
     "name": "stdout",
     "output_type": "stream",
     "text": [
      "Fast Text Exception for стентированеим\n"
     ]
    },
    {
     "name": "stderr",
     "output_type": "stream",
     "text": [
      "\n",
      "13it [04:52, 23.13s/it]\u001B[A"
     ]
    },
    {
     "name": "stdout",
     "output_type": "stream",
     "text": [
      "Fast Text Exception for кардиол\n"
     ]
    },
    {
     "name": "stderr",
     "output_type": "stream",
     "text": [
      "\n",
      "14it [05:15, 23.04s/it]\u001B[A"
     ]
    },
    {
     "name": "stdout",
     "output_type": "stream",
     "text": [
      "Fast Text Exception for переведна\n"
     ]
    },
    {
     "name": "stderr",
     "output_type": "stream",
     "text": [
      "\n",
      "15it [05:47, 25.98s/it]\u001B[A"
     ]
    },
    {
     "name": "stdout",
     "output_type": "stream",
     "text": [
      "try догоспитальный\n"
     ]
    },
    {
     "name": "stderr",
     "output_type": "stream",
     "text": [
      "\n",
      "16it [06:01, 22.24s/it]\u001B[A"
     ]
    },
    {
     "name": "stdout",
     "output_type": "stream",
     "text": [
      "Fast Text Exception for миним\n"
     ]
    },
    {
     "name": "stderr",
     "output_type": "stream",
     "text": [
      "\n",
      "17it [06:36, 26.10s/it]\u001B[A"
     ]
    },
    {
     "name": "stdout",
     "output_type": "stream",
     "text": [
      "try субфебрилитет\n"
     ]
    },
    {
     "name": "stderr",
     "output_type": "stream",
     "text": [
      "\n",
      "18it [07:01, 25.82s/it]\u001B[A"
     ]
    },
    {
     "name": "stdout",
     "output_type": "stream",
     "text": [
      "Fast Text Exception for загрудиные\n"
     ]
    },
    {
     "name": "stderr",
     "output_type": "stream",
     "text": [
      "\n",
      "19it [07:21, 24.14s/it]\u001B[A"
     ]
    },
    {
     "name": "stdout",
     "output_type": "stream",
     "text": [
      "try периферия\n"
     ]
    },
    {
     "name": "stderr",
     "output_type": "stream",
     "text": [
      "\n",
      "20it [07:37, 21.55s/it]\u001B[A"
     ]
    },
    {
     "name": "stdout",
     "output_type": "stream",
     "text": [
      "Fast Text Exception for течени\n"
     ]
    },
    {
     "name": "stderr",
     "output_type": "stream",
     "text": [
      "\n",
      "21it [07:55, 20.38s/it]\u001B[A"
     ]
    },
    {
     "name": "stdout",
     "output_type": "stream",
     "text": [
      "try окклюзия\n"
     ]
    },
    {
     "name": "stderr",
     "output_type": "stream",
     "text": [
      "\n",
      "22it [08:10, 18.84s/it]\u001B[A"
     ]
    },
    {
     "name": "stdout",
     "output_type": "stream",
     "text": [
      "try женщина\n"
     ]
    },
    {
     "name": "stderr",
     "output_type": "stream",
     "text": [
      "\n",
      "23it [08:25, 17.78s/it]\u001B[A"
     ]
    },
    {
     "name": "stdout",
     "output_type": "stream",
     "text": [
      "try пациент\n"
     ]
    },
    {
     "name": "stderr",
     "output_type": "stream",
     "text": [
      "\n",
      "24it [09:04, 23.96s/it]\u001B[A"
     ]
    },
    {
     "name": "stdout",
     "output_type": "stream",
     "text": [
      "try зарегистрировать\n"
     ]
    },
    {
     "name": "stderr",
     "output_type": "stream",
     "text": [
      "\n",
      "25it [09:21, 22.09s/it]\u001B[A"
     ]
    },
    {
     "name": "stdout",
     "output_type": "stream",
     "text": [
      "Fast Text Exception for сегмета\n"
     ]
    },
    {
     "name": "stderr",
     "output_type": "stream",
     "text": [
      "\n",
      "26it [09:37, 20.07s/it]\u001B[A"
     ]
    },
    {
     "name": "stdout",
     "output_type": "stream",
     "text": [
      "Fast Text Exception for клекте\n"
     ]
    },
    {
     "name": "stderr",
     "output_type": "stream",
     "text": [
      "\n",
      "27it [09:47, 17.18s/it]\u001B[A"
     ]
    },
    {
     "name": "stdout",
     "output_type": "stream",
     "text": [
      "Fast Text Exception for эпид\n"
     ]
    },
    {
     "name": "stderr",
     "output_type": "stream",
     "text": [
      "\n",
      "28it [10:22, 22.47s/it]\u001B[A"
     ]
    },
    {
     "name": "stdout",
     "output_type": "stream",
     "text": [
      "Fast Text Exception for интелектуально\n"
     ]
    },
    {
     "name": "stderr",
     "output_type": "stream",
     "text": [
      "\n",
      "29it [10:32, 18.86s/it]\u001B[A"
     ]
    },
    {
     "name": "stdout",
     "output_type": "stream",
     "text": [
      "Fast Text Exception for нижн\n"
     ]
    },
    {
     "name": "stderr",
     "output_type": "stream",
     "text": [
      "\n",
      "30it [10:58, 20.89s/it]\u001B[A"
     ]
    },
    {
     "name": "stdout",
     "output_type": "stream",
     "text": [
      "Fast Text Exception for прводилась\n"
     ]
    },
    {
     "name": "stderr",
     "output_type": "stream",
     "text": [
      "\n",
      "31it [11:11, 18.47s/it]\u001B[A"
     ]
    },
    {
     "name": "stdout",
     "output_type": "stream",
     "text": [
      "Fast Text Exception for неуст\n"
     ]
    },
    {
     "name": "stderr",
     "output_type": "stream",
     "text": [
      "\n",
      "32it [11:48, 24.17s/it]\u001B[A"
     ]
    },
    {
     "name": "stdout",
     "output_type": "stream",
     "text": [
      "try госпитализировать\n"
     ]
    },
    {
     "name": "stderr",
     "output_type": "stream",
     "text": [
      "\n",
      "33it [12:04, 21.65s/it]\u001B[A"
     ]
    },
    {
     "name": "stdout",
     "output_type": "stream",
     "text": [
      "Fast Text Exception for вперые\n"
     ]
    },
    {
     "name": "stderr",
     "output_type": "stream",
     "text": [
      "\n",
      "34it [12:45, 27.44s/it]\u001B[A"
     ]
    },
    {
     "name": "stdout",
     "output_type": "stream",
     "text": [
      "Fast Text Exception for послеоперационом\n"
     ]
    },
    {
     "name": "stderr",
     "output_type": "stream",
     "text": [
      "\n",
      "35it [13:24, 30.83s/it]\u001B[A"
     ]
    },
    {
     "name": "stdout",
     "output_type": "stream",
     "text": [
      "try госпитализировать\n"
     ]
    },
    {
     "name": "stderr",
     "output_type": "stream",
     "text": [
      "\n",
      "36it [13:47, 28.45s/it]\u001B[A"
     ]
    },
    {
     "name": "stdout",
     "output_type": "stream",
     "text": [
      "try ухудшение\n"
     ]
    },
    {
     "name": "stderr",
     "output_type": "stream",
     "text": [
      "\n",
      "37it [14:00, 23.79s/it]\u001B[A"
     ]
    },
    {
     "name": "stdout",
     "output_type": "stream",
     "text": [
      "Fast Text Exception for рентг\n"
     ]
    },
    {
     "name": "stderr",
     "output_type": "stream",
     "text": [
      "\n",
      "38it [14:24, 23.84s/it]\u001B[A"
     ]
    },
    {
     "name": "stdout",
     "output_type": "stream",
     "text": [
      "Fast Text Exception for дальнешем\n"
     ]
    },
    {
     "name": "stderr",
     "output_type": "stream",
     "text": [
      "\n",
      "39it [14:56, 26.34s/it]\u001B[A"
     ]
    },
    {
     "name": "stdout",
     "output_type": "stream",
     "text": [
      "Fast Text Exception for троботическая\n"
     ]
    },
    {
     "name": "stderr",
     "output_type": "stream",
     "text": [
      "\n",
      "40it [15:30, 28.85s/it]\u001B[A"
     ]
    },
    {
     "name": "stdout",
     "output_type": "stream",
     "text": [
      "Fast Text Exception for многосоудистое\n"
     ]
    },
    {
     "name": "stderr",
     "output_type": "stream",
     "text": [
      "\n",
      "41it [15:51, 26.24s/it]\u001B[A"
     ]
    },
    {
     "name": "stdout",
     "output_type": "stream",
     "text": [
      "Fast Text Exception for миокрада\n"
     ]
    },
    {
     "name": "stderr",
     "output_type": "stream",
     "text": [
      "\n",
      "42it [16:23, 28.11s/it]\u001B[A"
     ]
    },
    {
     "name": "stdout",
     "output_type": "stream",
     "text": [
      "Fast Text Exception for сопрвождались\n"
     ]
    },
    {
     "name": "stderr",
     "output_type": "stream",
     "text": [
      "\n",
      "43it [16:45, 26.41s/it]\u001B[A"
     ]
    },
    {
     "name": "stdout",
     "output_type": "stream",
     "text": [
      "try дискомфорт\n"
     ]
    },
    {
     "name": "stderr",
     "output_type": "stream",
     "text": [
      "\n",
      "44it [17:13, 26.71s/it]\u001B[A"
     ]
    },
    {
     "name": "stdout",
     "output_type": "stream",
     "text": [
      "try потливость\n"
     ]
    },
    {
     "name": "stderr",
     "output_type": "stream",
     "text": [
      "\n",
      "45it [17:50, 29.83s/it]\u001B[A"
     ]
    },
    {
     "name": "stdout",
     "output_type": "stream",
     "text": [
      "Fast Text Exception for левогожелудочка\n"
     ]
    },
    {
     "name": "stderr",
     "output_type": "stream",
     "text": [
      "\n",
      "46it [18:03, 24.90s/it]\u001B[A"
     ]
    },
    {
     "name": "stdout",
     "output_type": "stream",
     "text": [
      "Fast Text Exception for рание\n"
     ]
    },
    {
     "name": "stderr",
     "output_type": "stream",
     "text": [
      "\n",
      "47it [18:14, 20.53s/it]\u001B[A"
     ]
    },
    {
     "name": "stdout",
     "output_type": "stream",
     "text": [
      "Fast Text Exception for виед\n"
     ]
    },
    {
     "name": "stderr",
     "output_type": "stream",
     "text": [
      "\n",
      "48it [18:48, 24.79s/it]\u001B[A"
     ]
    },
    {
     "name": "stdout",
     "output_type": "stream",
     "text": [
      "Fast Text Exception for ангинозныеболи\n"
     ]
    },
    {
     "name": "stderr",
     "output_type": "stream",
     "text": [
      "\n",
      "49it [19:22, 27.28s/it]\u001B[A"
     ]
    },
    {
     "name": "stdout",
     "output_type": "stream",
     "text": [
      "try догоспитальный\n"
     ]
    },
    {
     "name": "stderr",
     "output_type": "stream",
     "text": [
      "\n",
      "50it [19:42, 25.18s/it]\u001B[A"
     ]
    },
    {
     "name": "stdout",
     "output_type": "stream",
     "text": [
      "Fast Text Exception for ввполнен\n"
     ]
    },
    {
     "name": "stderr",
     "output_type": "stream",
     "text": [
      "\n",
      "51it [19:55, 21.52s/it]\u001B[A"
     ]
    },
    {
     "name": "stdout",
     "output_type": "stream",
     "text": [
      "Fast Text Exception for чаосв\n"
     ]
    },
    {
     "name": "stderr",
     "output_type": "stream",
     "text": [
      "\n",
      "52it [20:20, 22.59s/it]\u001B[A"
     ]
    },
    {
     "name": "stdout",
     "output_type": "stream",
     "text": [
      "Fast Text Exception for октазалась\n"
     ]
    },
    {
     "name": "stderr",
     "output_type": "stream",
     "text": [
      "\n",
      "53it [20:36, 20.61s/it]\u001B[A"
     ]
    },
    {
     "name": "stdout",
     "output_type": "stream",
     "text": [
      "Fast Text Exception for линика\n"
     ]
    },
    {
     "name": "stderr",
     "output_type": "stream",
     "text": [
      "\n",
      "54it [20:52, 19.38s/it]\u001B[A"
     ]
    },
    {
     "name": "stdout",
     "output_type": "stream",
     "text": [
      "Fast Text Exception for ммента\n"
     ]
    },
    {
     "name": "stderr",
     "output_type": "stream",
     "text": [
      "\n",
      "55it [21:18, 21.21s/it]\u001B[A"
     ]
    },
    {
     "name": "stdout",
     "output_type": "stream",
     "text": [
      "Fast Text Exception for проведеной\n"
     ]
    },
    {
     "name": "stderr",
     "output_type": "stream",
     "text": [
      "\n",
      "56it [21:44, 22.60s/it]\u001B[A"
     ]
    },
    {
     "name": "stdout",
     "output_type": "stream",
     "text": [
      "Fast Text Exception for выполненяи\n"
     ]
    },
    {
     "name": "stderr",
     "output_type": "stream",
     "text": [
      "\n",
      "57it [22:02, 21.17s/it]\u001B[A"
     ]
    },
    {
     "name": "stdout",
     "output_type": "stream",
     "text": [
      "Fast Text Exception for леченяи\n"
     ]
    },
    {
     "name": "stderr",
     "output_type": "stream",
     "text": [
      "\n",
      "58it [22:22, 20.98s/it]\u001B[A"
     ]
    },
    {
     "name": "stdout",
     "output_type": "stream",
     "text": [
      "Fast Text Exception for обтилась\n"
     ]
    },
    {
     "name": "stderr",
     "output_type": "stream",
     "text": [
      "\n",
      "59it [22:45, 21.65s/it]\u001B[A"
     ]
    },
    {
     "name": "stdout",
     "output_type": "stream",
     "text": [
      "Fast Text Exception for повтороно\n"
     ]
    },
    {
     "name": "stderr",
     "output_type": "stream",
     "text": [
      "\n",
      "60it [23:23, 26.60s/it]\u001B[A"
     ]
    },
    {
     "name": "stdout",
     "output_type": "stream",
     "text": [
      "try зарегистрировать\n"
     ]
    },
    {
     "name": "stderr",
     "output_type": "stream",
     "text": [
      "\n",
      "61it [23:42, 24.09s/it]\u001B[A"
     ]
    },
    {
     "name": "stdout",
     "output_type": "stream",
     "text": [
      "Fast Text Exception for отицает\n"
     ]
    },
    {
     "name": "stderr",
     "output_type": "stream",
     "text": [
      "\n",
      "62it [24:07, 24.41s/it]\u001B[A"
     ]
    },
    {
     "name": "stdout",
     "output_type": "stream",
     "text": [
      "Fast Text Exception for дальнейщем\n"
     ]
    },
    {
     "name": "stderr",
     "output_type": "stream",
     "text": [
      "\n",
      "63it [24:44, 28.22s/it]\u001B[A"
     ]
    },
    {
     "name": "stdout",
     "output_type": "stream",
     "text": [
      "Fast Text Exception for болисохраняются\n"
     ]
    },
    {
     "name": "stderr",
     "output_type": "stream",
     "text": [
      "\n",
      "64it [25:06, 26.49s/it]\u001B[A"
     ]
    },
    {
     "name": "stdout",
     "output_type": "stream",
     "text": [
      "Fast Text Exception for частичынм\n"
     ]
    },
    {
     "name": "stderr",
     "output_type": "stream",
     "text": [
      "\n",
      "65it [25:54, 32.91s/it]\u001B[A"
     ]
    },
    {
     "name": "stdout",
     "output_type": "stream",
     "text": [
      "Fast Text Exception for атерокслеротичсекая\n"
     ]
    },
    {
     "name": "stderr",
     "output_type": "stream",
     "text": [
      "\n",
      "66it [26:07, 26.91s/it]\u001B[A"
     ]
    },
    {
     "name": "stdout",
     "output_type": "stream",
     "text": [
      "Fast Text Exception for деньс\n"
     ]
    },
    {
     "name": "stderr",
     "output_type": "stream",
     "text": [
      "\n",
      "67it [26:30, 25.84s/it]\u001B[A"
     ]
    },
    {
     "name": "stdout",
     "output_type": "stream",
     "text": [
      "Fast Text Exception for назначаля\n"
     ]
    },
    {
     "name": "stderr",
     "output_type": "stream",
     "text": [
      "\n",
      "68it [26:56, 25.68s/it]\u001B[A"
     ]
    },
    {
     "name": "stdout",
     "output_type": "stream",
     "text": [
      "Fast Text Exception for проведеняи\n"
     ]
    },
    {
     "name": "stderr",
     "output_type": "stream",
     "text": [
      "\n",
      "69it [27:19, 25.00s/it]\u001B[A"
     ]
    },
    {
     "name": "stdout",
     "output_type": "stream",
     "text": [
      "Fast Text Exception for беспакоют\n"
     ]
    },
    {
     "name": "stderr",
     "output_type": "stream",
     "text": [
      "\n",
      "70it [27:45, 25.10s/it]\u001B[A"
     ]
    },
    {
     "name": "stdout",
     "output_type": "stream",
     "text": [
      "Fast Text Exception for гипертензи\n"
     ]
    },
    {
     "name": "stderr",
     "output_type": "stream",
     "text": [
      "\n",
      "71it [28:08, 24.51s/it]\u001B[A"
     ]
    },
    {
     "name": "stdout",
     "output_type": "stream",
     "text": [
      "Fast Text Exception for воленйбол\n"
     ]
    },
    {
     "name": "stderr",
     "output_type": "stream",
     "text": [
      "\n",
      "72it [28:24, 21.98s/it]\u001B[A"
     ]
    },
    {
     "name": "stdout",
     "output_type": "stream",
     "text": [
      "Fast Text Exception for болезн\n"
     ]
    },
    {
     "name": "stderr",
     "output_type": "stream",
     "text": [
      "\n",
      "73it [28:53, 24.07s/it]\u001B[A"
     ]
    },
    {
     "name": "stdout",
     "output_type": "stream",
     "text": [
      "try стенокардия\n"
     ]
    },
    {
     "name": "stderr",
     "output_type": "stream",
     "text": [
      "\n",
      "74it [29:21, 25.26s/it]\u001B[A"
     ]
    },
    {
     "name": "stdout",
     "output_type": "stream",
     "text": [
      "try продолжать\n"
     ]
    },
    {
     "name": "stderr",
     "output_type": "stream",
     "text": [
      "\n",
      "75it [29:40, 23.51s/it]\u001B[A"
     ]
    },
    {
     "name": "stdout",
     "output_type": "stream",
     "text": [
      "Fast Text Exception for поворное\n"
     ]
    },
    {
     "name": "stderr",
     "output_type": "stream",
     "text": [
      "\n",
      "76it [29:58, 21.88s/it]\u001B[A"
     ]
    },
    {
     "name": "stdout",
     "output_type": "stream",
     "text": [
      "Fast Text Exception for ощуащет\n"
     ]
    },
    {
     "name": "stderr",
     "output_type": "stream",
     "text": [
      "\n",
      "77it [30:30, 24.75s/it]\u001B[A"
     ]
    },
    {
     "name": "stdout",
     "output_type": "stream",
     "text": [
      "Fast Text Exception for ангигнозного\n"
     ]
    },
    {
     "name": "stderr",
     "output_type": "stream",
     "text": [
      "\n",
      "78it [31:05, 27.88s/it]\u001B[A"
     ]
    },
    {
     "name": "stdout",
     "output_type": "stream",
     "text": [
      "try диагностический\n"
     ]
    },
    {
     "name": "stderr",
     "output_type": "stream",
     "text": [
      "\n",
      "79it [31:44, 31.17s/it]\u001B[A"
     ]
    },
    {
     "name": "stdout",
     "output_type": "stream",
     "text": [
      "Fast Text Exception for поддерживающией\n"
     ]
    },
    {
     "name": "stderr",
     "output_type": "stream",
     "text": [
      "\n",
      "80it [32:14, 31.01s/it]\u001B[A"
     ]
    },
    {
     "name": "stdout",
     "output_type": "stream",
     "text": [
      "try межлопаточный\n"
     ]
    },
    {
     "name": "stderr",
     "output_type": "stream",
     "text": [
      "\n",
      "81it [32:35, 27.91s/it]\u001B[A"
     ]
    },
    {
     "name": "stdout",
     "output_type": "stream",
     "text": [
      "Fast Text Exception for бедреной\n"
     ]
    },
    {
     "name": "stderr",
     "output_type": "stream",
     "text": [
      "\n",
      "82it [32:53, 24.98s/it]\u001B[A"
     ]
    },
    {
     "name": "stdout",
     "output_type": "stream",
     "text": [
      "Fast Text Exception for гшрядки\n"
     ]
    },
    {
     "name": "stderr",
     "output_type": "stream",
     "text": [
      "\n",
      "83it [33:14, 23.70s/it]\u001B[A"
     ]
    },
    {
     "name": "stdout",
     "output_type": "stream",
     "text": [
      "Fast Text Exception for бассеине\n"
     ]
    },
    {
     "name": "stderr",
     "output_type": "stream",
     "text": [
      "\n",
      "84it [33:32, 21.98s/it]\u001B[A"
     ]
    },
    {
     "name": "stdout",
     "output_type": "stream",
     "text": [
      "Fast Text Exception for возлуха\n"
     ]
    },
    {
     "name": "stderr",
     "output_type": "stream",
     "text": [
      "\n",
      "85it [33:50, 20.94s/it]\u001B[A"
     ]
    },
    {
     "name": "stdout",
     "output_type": "stream",
     "text": [
      "try сентябрь\n"
     ]
    },
    {
     "name": "stderr",
     "output_type": "stream",
     "text": [
      "\n",
      "86it [34:13, 21.57s/it]\u001B[A"
     ]
    },
    {
     "name": "stdout",
     "output_type": "stream",
     "text": [
      "Fast Text Exception for постояная\n"
     ]
    },
    {
     "name": "stderr",
     "output_type": "stream",
     "text": [
      "\n",
      "87it [34:46, 25.01s/it]\u001B[A"
     ]
    },
    {
     "name": "stdout",
     "output_type": "stream",
     "text": [
      "try рекомендовать\n"
     ]
    },
    {
     "name": "stderr",
     "output_type": "stream",
     "text": [
      "\n",
      "88it [35:10, 24.72s/it]\u001B[A"
     ]
    },
    {
     "name": "stdout",
     "output_type": "stream",
     "text": [
      "Fast Text Exception for поврждения\n"
     ]
    },
    {
     "name": "stderr",
     "output_type": "stream",
     "text": [
      "\n",
      "89it [35:38, 25.47s/it]\u001B[A"
     ]
    },
    {
     "name": "stdout",
     "output_type": "stream",
     "text": [
      "Fast Text Exception for дискофморта\n"
     ]
    },
    {
     "name": "stderr",
     "output_type": "stream",
     "text": [
      "\n",
      "90it [36:09, 27.28s/it]\u001B[A"
     ]
    },
    {
     "name": "stdout",
     "output_type": "stream",
     "text": [
      "try имплантировать\n"
     ]
    },
    {
     "name": "stderr",
     "output_type": "stream",
     "text": [
      "\n",
      "91it [36:36, 27.11s/it]\u001B[A"
     ]
    },
    {
     "name": "stdout",
     "output_type": "stream",
     "text": [
      "Fast Text Exception for неочетливая\n"
     ]
    },
    {
     "name": "stderr",
     "output_type": "stream",
     "text": [
      "\n",
      "92it [37:05, 27.65s/it]\u001B[A"
     ]
    },
    {
     "name": "stdout",
     "output_type": "stream",
     "text": [
      "Fast Text Exception for обесвеченный\n"
     ]
    },
    {
     "name": "stderr",
     "output_type": "stream",
     "text": [
      "\n",
      "93it [37:17, 23.13s/it]\u001B[A"
     ]
    },
    {
     "name": "stdout",
     "output_type": "stream",
     "text": [
      "Fast Text Exception for серце\n"
     ]
    },
    {
     "name": "stderr",
     "output_type": "stream",
     "text": [
      "\n",
      "94it [37:32, 20.61s/it]\u001B[A"
     ]
    },
    {
     "name": "stdout",
     "output_type": "stream",
     "text": [
      "try болезнь\n"
     ]
    },
    {
     "name": "stderr",
     "output_type": "stream",
     "text": [
      "\n",
      "95it [37:50, 19.72s/it]\u001B[A"
     ]
    },
    {
     "name": "stdout",
     "output_type": "stream",
     "text": [
      "Fast Text Exception for лергия\n"
     ]
    },
    {
     "name": "stderr",
     "output_type": "stream",
     "text": [
      "\n",
      "96it [37:59, 16.70s/it]\u001B[A"
     ]
    },
    {
     "name": "stdout",
     "output_type": "stream",
     "text": [
      "Fast Text Exception for ука\n"
     ]
    },
    {
     "name": "stderr",
     "output_type": "stream",
     "text": [
      "\n",
      "97it [38:13, 15.65s/it]\u001B[A"
     ]
    },
    {
     "name": "stdout",
     "output_type": "stream",
     "text": [
      "try изжога\n"
     ]
    },
    {
     "name": "stderr",
     "output_type": "stream",
     "text": [
      "\n",
      "98it [38:27, 15.12s/it]\u001B[A"
     ]
    },
    {
     "name": "stdout",
     "output_type": "stream",
     "text": [
      "Fast Text Exception for жение\n"
     ]
    },
    {
     "name": "stderr",
     "output_type": "stream",
     "text": [
      "\n",
      "99it [38:40, 14.49s/it]\u001B[A"
     ]
    },
    {
     "name": "stdout",
     "output_type": "stream",
     "text": [
      "Fast Text Exception for кашел\n"
     ]
    },
    {
     "name": "stderr",
     "output_type": "stream",
     "text": [
      "\n",
      "100it [38:55, 14.79s/it]\u001B[A"
     ]
    },
    {
     "name": "stdout",
     "output_type": "stream",
     "text": [
      "Fast Text Exception for рствор\n"
     ]
    },
    {
     "name": "stderr",
     "output_type": "stream",
     "text": [
      "\n",
      "101it [39:10, 14.97s/it]\u001B[A"
     ]
    },
    {
     "name": "stdout",
     "output_type": "stream",
     "text": [
      "try пациент\n"
     ]
    },
    {
     "name": "stderr",
     "output_type": "stream",
     "text": [
      "\n",
      "102it [39:26, 15.10s/it]\u001B[A"
     ]
    },
    {
     "name": "stdout",
     "output_type": "stream",
     "text": [
      "Fast Text Exception for пожлой\n"
     ]
    },
    {
     "name": "stderr",
     "output_type": "stream",
     "text": [
      "\n",
      "103it [39:47, 16.86s/it]\u001B[A"
     ]
    },
    {
     "name": "stdout",
     "output_type": "stream",
     "text": [
      "try лекарство\n"
     ]
    },
    {
     "name": "stderr",
     "output_type": "stream",
     "text": [
      "\n",
      "104it [40:19, 21.58s/it]\u001B[A"
     ]
    },
    {
     "name": "stdout",
     "output_type": "stream",
     "text": [
      "Fast Text Exception for нпреносимость\n"
     ]
    },
    {
     "name": "stderr",
     "output_type": "stream",
     "text": [
      "\n",
      "105it [40:37, 20.38s/it]\u001B[A"
     ]
    },
    {
     "name": "stdout",
     "output_type": "stream",
     "text": [
      "try ампула\n"
     ]
    },
    {
     "name": "stderr",
     "output_type": "stream",
     "text": [
      "\n",
      "106it [40:46, 16.97s/it]\u001B[A"
     ]
    },
    {
     "name": "stdout",
     "output_type": "stream",
     "text": [
      "Fast Text Exception for гел\n"
     ]
    },
    {
     "name": "stderr",
     "output_type": "stream",
     "text": [
      "\n",
      "107it [41:09, 18.67s/it]\u001B[A"
     ]
    },
    {
     "name": "stdout",
     "output_type": "stream",
     "text": [
      "Fast Text Exception for конценрат\n"
     ]
    },
    {
     "name": "stderr",
     "output_type": "stream",
     "text": [
      "\n",
      "109it [41:19, 12.50s/it]\u001B[A"
     ]
    },
    {
     "name": "stdout",
     "output_type": "stream",
     "text": [
      "Fast Text Exception for чссс\n"
     ]
    },
    {
     "name": "stderr",
     "output_type": "stream",
     "text": [
      "\n",
      "110it [41:29, 11.94s/it]\u001B[A"
     ]
    },
    {
     "name": "stdout",
     "output_type": "stream",
     "text": [
      "Fast Text Exception for экгъ\n"
     ]
    },
    {
     "name": "stderr",
     "output_type": "stream",
     "text": [
      "\n",
      "111it [41:55, 15.37s/it]\u001B[A"
     ]
    },
    {
     "name": "stdout",
     "output_type": "stream",
     "text": [
      "try фибрилляция\n"
     ]
    },
    {
     "name": "stderr",
     "output_type": "stream",
     "text": [
      "\n",
      "112it [42:15, 16.70s/it]\u001B[A"
     ]
    },
    {
     "name": "stdout",
     "output_type": "stream",
     "text": [
      "try желудочек\n"
     ]
    },
    {
     "name": "stderr",
     "output_type": "stream",
     "text": [
      "\n",
      "113it [42:26, 15.12s/it]\u001B[A"
     ]
    },
    {
     "name": "stdout",
     "output_type": "stream",
     "text": [
      "Fast Text Exception for хрон\n"
     ]
    },
    {
     "name": "stderr",
     "output_type": "stream",
     "text": [
      "\n",
      "114it [42:45, 16.17s/it]\u001B[A"
     ]
    },
    {
     "name": "stdout",
     "output_type": "stream",
     "text": [
      "Fast Text Exception for гиподин\n"
     ]
    },
    {
     "name": "stderr",
     "output_type": "stream",
     "text": [
      "\n",
      "115it [43:01, 16.17s/it]\u001B[A"
     ]
    },
    {
     "name": "stdout",
     "output_type": "stream",
     "text": [
      "Fast Text Exception for нерный\n"
     ]
    },
    {
     "name": "stderr",
     "output_type": "stream",
     "text": [
      "\n",
      "116it [43:12, 14.59s/it]\u001B[A"
     ]
    },
    {
     "name": "stdout",
     "output_type": "stream",
     "text": [
      "Fast Text Exception for сист\n"
     ]
    },
    {
     "name": "stderr",
     "output_type": "stream",
     "text": [
      "\n",
      "117it [43:42, 19.31s/it]\u001B[A"
     ]
    },
    {
     "name": "stdout",
     "output_type": "stream",
     "text": [
      "Fast Text Exception for диагоностика\n"
     ]
    },
    {
     "name": "stderr",
     "output_type": "stream",
     "text": [
      "\n",
      "118it [44:05, 20.41s/it]\u001B[A"
     ]
    },
    {
     "name": "stdout",
     "output_type": "stream",
     "text": [
      "Fast Text Exception for гипоксмия\n"
     ]
    },
    {
     "name": "stderr",
     "output_type": "stream",
     "text": [
      "\n",
      "119it [44:26, 20.50s/it]\u001B[A"
     ]
    },
    {
     "name": "stdout",
     "output_type": "stream",
     "text": [
      "Fast Text Exception for ледокоин\n"
     ]
    },
    {
     "name": "stderr",
     "output_type": "stream",
     "text": [
      "\n",
      "120it [44:43, 19.60s/it]\u001B[A"
     ]
    },
    {
     "name": "stdout",
     "output_type": "stream",
     "text": [
      "try блокатор\n"
     ]
    },
    {
     "name": "stderr",
     "output_type": "stream",
     "text": [
      "\n",
      "121it [45:06, 20.38s/it]\u001B[A"
     ]
    },
    {
     "name": "stdout",
     "output_type": "stream",
     "text": [
      "try тахикардия\n"
     ]
    },
    {
     "name": "stderr",
     "output_type": "stream",
     "text": [
      "\n",
      "122it [45:41, 24.87s/it]\u001B[A"
     ]
    },
    {
     "name": "stdout",
     "output_type": "stream",
     "text": [
      "Fast Text Exception for малоинвозивный\n"
     ]
    },
    {
     "name": "stderr",
     "output_type": "stream",
     "text": [
      "\n",
      "123it [45:56, 21.96s/it]\u001B[A"
     ]
    },
    {
     "name": "stdout",
     "output_type": "stream",
     "text": [
      "Fast Text Exception for алация\n"
     ]
    },
    {
     "name": "stderr",
     "output_type": "stream",
     "text": [
      "\n",
      "124it [46:04, 17.83s/it]\u001B[A"
     ]
    },
    {
     "name": "stdout",
     "output_type": "stream",
     "text": [
      "Fast Text Exception for имь\n"
     ]
    },
    {
     "name": "stderr",
     "output_type": "stream",
     "text": [
      "\n",
      "125it [46:27, 19.23s/it]\u001B[A"
     ]
    },
    {
     "name": "stdout",
     "output_type": "stream",
     "text": [
      "Fast Text Exception for паражение\n"
     ]
    },
    {
     "name": "stderr",
     "output_type": "stream",
     "text": [
      "\n",
      "126it [46:44, 18.62s/it]\u001B[A"
     ]
    },
    {
     "name": "stdout",
     "output_type": "stream",
     "text": [
      "Fast Text Exception for тяжолый\n"
     ]
    },
    {
     "name": "stderr",
     "output_type": "stream",
     "text": [
      "\n",
      "127it [47:17, 23.00s/it]\u001B[A"
     ]
    },
    {
     "name": "stdout",
     "output_type": "stream",
     "text": [
      "Fast Text Exception for гастрапластика\n"
     ]
    },
    {
     "name": "stderr",
     "output_type": "stream",
     "text": [
      "\n",
      "129it [47:32, 15.78s/it]\u001B[A"
     ]
    },
    {
     "name": "stdout",
     "output_type": "stream",
     "text": [
      "Fast Text Exception for лешний\n"
     ]
    },
    {
     "name": "stderr",
     "output_type": "stream",
     "text": [
      "\n",
      "131it [47:45, 12.04s/it]\u001B[A"
     ]
    },
    {
     "name": "stdout",
     "output_type": "stream",
     "text": [
      "Fast Text Exception for клапа\n"
     ]
    },
    {
     "name": "stderr",
     "output_type": "stream",
     "text": [
      "\n",
      "132it [47:55, 11.72s/it]\u001B[A"
     ]
    },
    {
     "name": "stdout",
     "output_type": "stream",
     "text": [
      "Fast Text Exception for вент\n"
     ]
    },
    {
     "name": "stderr",
     "output_type": "stream",
     "text": [
      "\n",
      "134it [48:15, 11.03s/it]\u001B[A"
     ]
    },
    {
     "name": "stdout",
     "output_type": "stream",
     "text": [
      "try перикард\n"
     ]
    },
    {
     "name": "stderr",
     "output_type": "stream",
     "text": [
      "\n",
      "135it [48:39, 13.85s/it]\u001B[A"
     ]
    },
    {
     "name": "stdout",
     "output_type": "stream",
     "text": [
      "Fast Text Exception for метральный\n"
     ]
    },
    {
     "name": "stderr",
     "output_type": "stream",
     "text": [
      "\n",
      "136it [49:01, 15.83s/it]\u001B[A"
     ]
    },
    {
     "name": "stdout",
     "output_type": "stream",
     "text": [
      "Fast Text Exception for ултразвук\n"
     ]
    },
    {
     "name": "stderr",
     "output_type": "stream",
     "text": [
      "\n",
      "137it [49:16, 15.60s/it]\u001B[A"
     ]
    },
    {
     "name": "stdout",
     "output_type": "stream",
     "text": [
      "try хирург\n"
     ]
    },
    {
     "name": "stderr",
     "output_type": "stream",
     "text": [
      "\n",
      "138it [49:38, 17.21s/it]\u001B[A"
     ]
    },
    {
     "name": "stdout",
     "output_type": "stream",
     "text": [
      "try кардиолог\n"
     ]
    },
    {
     "name": "stderr",
     "output_type": "stream",
     "text": [
      "\n",
      "139it [49:57, 17.81s/it]\u001B[A"
     ]
    },
    {
     "name": "stdout",
     "output_type": "stream",
     "text": [
      "try килограмм\n"
     ]
    },
    {
     "name": "stderr",
     "output_type": "stream",
     "text": [
      "\n",
      "140it [50:17, 18.29s/it]\u001B[A"
     ]
    },
    {
     "name": "stdout",
     "output_type": "stream",
     "text": [
      "Fast Text Exception for акенезия\n"
     ]
    },
    {
     "name": "stderr",
     "output_type": "stream",
     "text": [
      "\n",
      "141it [50:34, 17.89s/it]\u001B[A"
     ]
    },
    {
     "name": "stdout",
     "output_type": "stream",
     "text": [
      "Fast Text Exception for врхушка\n"
     ]
    },
    {
     "name": "stderr",
     "output_type": "stream",
     "text": [
      "\n",
      "142it [50:58, 19.67s/it]\u001B[A"
     ]
    },
    {
     "name": "stdout",
     "output_type": "stream",
     "text": [
      "try апикальный\n"
     ]
    },
    {
     "name": "stderr",
     "output_type": "stream",
     "text": [
      "\n",
      "143it [51:13, 18.44s/it]\u001B[A"
     ]
    },
    {
     "name": "stdout",
     "output_type": "stream",
     "text": [
      "try сегмент\n"
     ]
    },
    {
     "name": "stderr",
     "output_type": "stream",
     "text": [
      "\n",
      "145it [51:29, 13.58s/it]\u001B[A"
     ]
    },
    {
     "name": "stdout",
     "output_type": "stream",
     "text": [
      "Fast Text Exception for сьенка\n"
     ]
    },
    {
     "name": "stderr",
     "output_type": "stream",
     "text": [
      "\n",
      "146it [51:56, 17.04s/it]\u001B[A"
     ]
    },
    {
     "name": "stdout",
     "output_type": "stream",
     "text": [
      "try циркулярный\n"
     ]
    },
    {
     "name": "stderr",
     "output_type": "stream",
     "text": [
      "\n",
      "147it [52:17, 18.01s/it]\u001B[A"
     ]
    },
    {
     "name": "stdout",
     "output_type": "stream",
     "text": [
      "Fast Text Exception for сридиный\n"
     ]
    },
    {
     "name": "stderr",
     "output_type": "stream",
     "text": [
      "\n",
      "148it [52:40, 19.40s/it]\u001B[A"
     ]
    },
    {
     "name": "stdout",
     "output_type": "stream",
     "text": [
      "Fast Text Exception for калапаный\n"
     ]
    },
    {
     "name": "stderr",
     "output_type": "stream",
     "text": [
      "\n",
      "149it [52:56, 18.24s/it]\u001B[A"
     ]
    },
    {
     "name": "stdout",
     "output_type": "stream",
     "text": [
      "Fast Text Exception for апарат\n"
     ]
    },
    {
     "name": "stderr",
     "output_type": "stream",
     "text": [
      "\n",
      "150it [53:18, 19.54s/it]\u001B[A"
     ]
    },
    {
     "name": "stdout",
     "output_type": "stream",
     "text": [
      "Fast Text Exception for потология\n"
     ]
    },
    {
     "name": "stderr",
     "output_type": "stream",
     "text": [
      "\n",
      "151it [53:39, 19.70s/it]\u001B[A"
     ]
    },
    {
     "name": "stdout",
     "output_type": "stream",
     "text": [
      "try перикард\n"
     ]
    },
    {
     "name": "stderr",
     "output_type": "stream",
     "text": [
      "\n",
      "152it [54:11, 23.36s/it]\u001B[A"
     ]
    },
    {
     "name": "stdout",
     "output_type": "stream",
     "text": [
      "try проксимальный\n"
     ]
    },
    {
     "name": "stderr",
     "output_type": "stream",
     "text": [
      "\n",
      "153it [54:28, 21.68s/it]\u001B[A"
     ]
    },
    {
     "name": "stdout",
     "output_type": "stream",
     "text": [
      "Fast Text Exception for деаметр\n"
     ]
    },
    {
     "name": "stderr",
     "output_type": "stream",
     "text": [
      "\n",
      "154it [54:49, 21.23s/it]\u001B[A"
     ]
    },
    {
     "name": "stdout",
     "output_type": "stream",
     "text": [
      "try коррекция\n"
     ]
    },
    {
     "name": "stderr",
     "output_type": "stream",
     "text": [
      "\n",
      "155it [55:14, 22.45s/it]\u001B[A"
     ]
    },
    {
     "name": "stdout",
     "output_type": "stream",
     "text": [
      "Fast Text Exception for аслажнение\n"
     ]
    },
    {
     "name": "stderr",
     "output_type": "stream",
     "text": [
      "\n",
      "156it [55:32, 21.16s/it]\u001B[A"
     ]
    },
    {
     "name": "stdout",
     "output_type": "stream",
     "text": [
      "try страдать\n"
     ]
    },
    {
     "name": "stderr",
     "output_type": "stream",
     "text": [
      "\n",
      "157it [56:09, 25.97s/it]\u001B[A"
     ]
    },
    {
     "name": "stdout",
     "output_type": "stream",
     "text": [
      "try гипертонический\n"
     ]
    },
    {
     "name": "stderr",
     "output_type": "stream",
     "text": [
      "\n",
      "158it [56:24, 22.75s/it]\u001B[A"
     ]
    },
    {
     "name": "stdout",
     "output_type": "stream",
     "text": [
      "Fast Text Exception for болезн\n"
     ]
    },
    {
     "name": "stderr",
     "output_type": "stream",
     "text": [
      "\n",
      "159it [56:55, 25.05s/it]\u001B[A"
     ]
    },
    {
     "name": "stdout",
     "output_type": "stream",
     "text": [
      "Fast Text Exception for одоптировать\n"
     ]
    },
    {
     "name": "stderr",
     "output_type": "stream",
     "text": [
      "\n",
      "160it [57:14, 23.38s/it]\u001B[A"
     ]
    },
    {
     "name": "stdout",
     "output_type": "stream",
     "text": [
      "try получить\n"
     ]
    },
    {
     "name": "stderr",
     "output_type": "stream",
     "text": [
      "\n",
      "161it [57:50, 27.00s/it]\u001B[A"
     ]
    },
    {
     "name": "stdout",
     "output_type": "stream",
     "text": [
      "try консервативный\n"
     ]
    },
    {
     "name": "stderr",
     "output_type": "stream",
     "text": [
      "\n",
      "162it [58:08, 24.46s/it]\u001B[A"
     ]
    },
    {
     "name": "stdout",
     "output_type": "stream",
     "text": [
      "Fast Text Exception for тичение\n"
     ]
    },
    {
     "name": "stderr",
     "output_type": "stream",
     "text": [
      "\n",
      "163it [58:34, 24.73s/it]\u001B[A"
     ]
    },
    {
     "name": "stdout",
     "output_type": "stream",
     "text": [
      "try требование\n"
     ]
    },
    {
     "name": "stderr",
     "output_type": "stream",
     "text": [
      "\n",
      "164it [58:57, 24.25s/it]\u001B[A"
     ]
    },
    {
     "name": "stdout",
     "output_type": "stream",
     "text": [
      "Fast Text Exception for отбиление\n"
     ]
    },
    {
     "name": "stderr",
     "output_type": "stream",
     "text": [
      "\n",
      "165it [59:27, 25.97s/it]\u001B[A"
     ]
    },
    {
     "name": "stdout",
     "output_type": "stream",
     "text": [
      "try самочувствие\n"
     ]
    },
    {
     "name": "stderr",
     "output_type": "stream",
     "text": [
      "\n",
      "166it [59:49, 24.96s/it]\u001B[A"
     ]
    },
    {
     "name": "stdout",
     "output_type": "stream",
     "text": [
      "try ухудшение\n"
     ]
    },
    {
     "name": "stderr",
     "output_type": "stream",
     "text": [
      "\n",
      "167it [1:00:02, 21.36s/it]\u001B[A"
     ]
    },
    {
     "name": "stdout",
     "output_type": "stream",
     "text": [
      "Fast Text Exception for месро\n"
     ]
    },
    {
     "name": "stderr",
     "output_type": "stream",
     "text": [
      "\n",
      "168it [1:00:21, 20.39s/it]\u001B[A"
     ]
    },
    {
     "name": "stdout",
     "output_type": "stream",
     "text": [
      "try пункция\n"
     ]
    },
    {
     "name": "stderr",
     "output_type": "stream",
     "text": [
      "\n",
      "169it [1:00:46, 22.04s/it]\u001B[A"
     ]
    },
    {
     "name": "stdout",
     "output_type": "stream",
     "text": [
      "try особенность\n"
     ]
    },
    {
     "name": "stderr",
     "output_type": "stream",
     "text": [
      "\n",
      "170it [1:00:57, 18.61s/it]\u001B[A"
     ]
    },
    {
     "name": "stdout",
     "output_type": "stream",
     "text": [
      "Fast Text Exception for шнут\n"
     ]
    },
    {
     "name": "stderr",
     "output_type": "stream",
     "text": [
      "\n",
      "171it [1:01:28, 22.31s/it]\u001B[A"
     ]
    },
    {
     "name": "stdout",
     "output_type": "stream",
     "text": [
      "try шунтирование\n"
     ]
    },
    {
     "name": "stderr",
     "output_type": "stream",
     "text": [
      "\n",
      "172it [1:01:46, 21.14s/it]\u001B[A"
     ]
    },
    {
     "name": "stdout",
     "output_type": "stream",
     "text": [
      "Fast Text Exception for готчина\n"
     ]
    },
    {
     "name": "stderr",
     "output_type": "stream",
     "text": [
      "\n",
      "173it [1:01:54, 17.18s/it]\u001B[A"
     ]
    },
    {
     "name": "stdout",
     "output_type": "stream",
     "text": [
      "Fast Text Exception for эхэ\n"
     ]
    },
    {
     "name": "stderr",
     "output_type": "stream",
     "text": [
      "\n",
      "174it [1:02:20, 19.72s/it]\u001B[A"
     ]
    },
    {
     "name": "stdout",
     "output_type": "stream",
     "text": [
      "Fast Text Exception for каранарный\n"
     ]
    },
    {
     "name": "stderr",
     "output_type": "stream",
     "text": [
      "\n",
      "175it [1:02:38, 19.32s/it]\u001B[A"
     ]
    },
    {
     "name": "stdout",
     "output_type": "stream",
     "text": [
      "Fast Text Exception for ортерия\n"
     ]
    },
    {
     "name": "stderr",
     "output_type": "stream",
     "text": [
      "\n",
      "176it [1:02:59, 19.67s/it]\u001B[A"
     ]
    },
    {
     "name": "stdout",
     "output_type": "stream",
     "text": [
      "Fast Text Exception for сначимый\n"
     ]
    },
    {
     "name": "stderr",
     "output_type": "stream",
     "text": [
      "\n",
      "177it [1:03:14, 18.42s/it]\u001B[A"
     ]
    },
    {
     "name": "stdout",
     "output_type": "stream",
     "text": [
      "Fast Text Exception for стинос\n"
     ]
    },
    {
     "name": "stderr",
     "output_type": "stream",
     "text": [
      "\n",
      "178it [1:03:55, 25.03s/it]\u001B[A"
     ]
    },
    {
     "name": "stdout",
     "output_type": "stream",
     "text": [
      "try госпитализировать\n"
     ]
    },
    {
     "name": "stderr",
     "output_type": "stream",
     "text": [
      "\n",
      "179it [1:04:06, 20.73s/it]\u001B[A"
     ]
    },
    {
     "name": "stdout",
     "output_type": "stream",
     "text": [
      "Fast Text Exception for имья\n"
     ]
    },
    {
     "name": "stderr",
     "output_type": "stream",
     "text": [
      "\n",
      "180it [1:04:24, 20.01s/it]\u001B[A"
     ]
    },
    {
     "name": "stdout",
     "output_type": "stream",
     "text": [
      "Fast Text Exception for олмазов\n"
     ]
    },
    {
     "name": "stderr",
     "output_type": "stream",
     "text": [
      "\n",
      "181it [1:04:55, 23.30s/it]\u001B[A"
     ]
    },
    {
     "name": "stdout",
     "output_type": "stream",
     "text": [
      "Fast Text Exception for прдшствовать\n"
     ]
    },
    {
     "name": "stderr",
     "output_type": "stream",
     "text": [
      "\n",
      "182it [1:05:22, 24.59s/it]\u001B[A"
     ]
    },
    {
     "name": "stdout",
     "output_type": "stream",
     "text": [
      "try стенокардия\n"
     ]
    },
    {
     "name": "stderr",
     "output_type": "stream",
     "text": [
      "\n",
      "183it [1:05:45, 24.00s/it]\u001B[A"
     ]
    },
    {
     "name": "stdout",
     "output_type": "stream",
     "text": [
      "Fast Text Exception for пиринести\n"
     ]
    },
    {
     "name": "stderr",
     "output_type": "stream",
     "text": [
      "\n",
      "184it [1:06:00, 21.34s/it]\u001B[A"
     ]
    },
    {
     "name": "stdout",
     "output_type": "stream",
     "text": [
      "try инфаркт\n"
     ]
    },
    {
     "name": "stderr",
     "output_type": "stream",
     "text": [
      "\n",
      "185it [1:06:20, 21.02s/it]\u001B[A"
     ]
    },
    {
     "name": "stdout",
     "output_type": "stream",
     "text": [
      "Fast Text Exception for моикарда\n"
     ]
    },
    {
     "name": "stderr",
     "output_type": "stream",
     "text": [
      "\n",
      "186it [1:06:48, 23.10s/it]\u001B[A"
     ]
    },
    {
     "name": "stdout",
     "output_type": "stream",
     "text": [
      "Fast Text Exception for лакализация\n"
     ]
    },
    {
     "name": "stderr",
     "output_type": "stream",
     "text": [
      "\n",
      "187it [1:07:06, 21.56s/it]\u001B[A"
     ]
    },
    {
     "name": "stdout",
     "output_type": "stream",
     "text": [
      "try справка\n"
     ]
    },
    {
     "name": "stderr",
     "output_type": "stream",
     "text": [
      "\n",
      "188it [1:07:32, 22.65s/it]\u001B[A"
     ]
    },
    {
     "name": "stdout",
     "output_type": "stream",
     "text": [
      "try дальнейший\n"
     ]
    },
    {
     "name": "stderr",
     "output_type": "stream",
     "text": [
      "\n",
      "189it [1:08:37, 35.37s/it]\u001B[A"
     ]
    },
    {
     "name": "stdout",
     "output_type": "stream",
     "text": [
      "Fast Text Exception for хроническаянедостаточность\n"
     ]
    },
    {
     "name": "stderr",
     "output_type": "stream",
     "text": [
      "\n",
      "190it [1:09:13, 35.82s/it]\u001B[A"
     ]
    },
    {
     "name": "stdout",
     "output_type": "stream",
     "text": [
      "Fast Text Exception for инфарктмиокарда\n"
     ]
    },
    {
     "name": "stderr",
     "output_type": "stream",
     "text": [
      "\n",
      "191it [1:09:30, 30.06s/it]\u001B[A"
     ]
    },
    {
     "name": "stdout",
     "output_type": "stream",
     "text": [
      "Fast Text Exception for отузла\n"
     ]
    },
    {
     "name": "stderr",
     "output_type": "stream",
     "text": [
      "\n",
      "192it [1:10:08, 32.44s/it]\u001B[A"
     ]
    },
    {
     "name": "stdout",
     "output_type": "stream",
     "text": [
      "try нарушение\n"
     ]
    },
    {
     "name": "stderr",
     "output_type": "stream",
     "text": [
      "\n",
      "193it [1:10:26, 27.98s/it]\u001B[A"
     ]
    },
    {
     "name": "stdout",
     "output_type": "stream",
     "text": [
      "Fast Text Exception for вминуту\n"
     ]
    },
    {
     "name": "stderr",
     "output_type": "stream",
     "text": [
      "\n",
      "194it [1:11:11, 33.27s/it]\u001B[A"
     ]
    },
    {
     "name": "stdout",
     "output_type": "stream",
     "text": [
      "Fast Text Exception for эндокриннойсистемы\n"
     ]
    },
    {
     "name": "stderr",
     "output_type": "stream",
     "text": [
      "\n",
      "195it [1:11:45, 33.27s/it]\u001B[A"
     ]
    },
    {
     "name": "stdout",
     "output_type": "stream",
     "text": [
      "try сердечный\n"
     ]
    },
    {
     "name": "stderr",
     "output_type": "stream",
     "text": [
      "\n",
      "196it [1:12:27, 36.06s/it]\u001B[A"
     ]
    },
    {
     "name": "stdout",
     "output_type": "stream",
     "text": [
      "try тахикардия\n"
     ]
    },
    {
     "name": "stderr",
     "output_type": "stream",
     "text": [
      "\n",
      "197it [1:13:05, 36.52s/it]\u001B[A"
     ]
    },
    {
     "name": "stdout",
     "output_type": "stream",
     "text": [
      "Fast Text Exception for основныефакторы\n"
     ]
    },
    {
     "name": "stderr",
     "output_type": "stream",
     "text": [
      "\n",
      "198it [1:13:42, 36.84s/it]\u001B[A"
     ]
    },
    {
     "name": "stdout",
     "output_type": "stream",
     "text": [
      "try остановка\n"
     ]
    },
    {
     "name": "stderr",
     "output_type": "stream",
     "text": [
      "\n",
      "199it [1:14:35, 41.50s/it]\u001B[A"
     ]
    },
    {
     "name": "stdout",
     "output_type": "stream",
     "text": [
      "try фибрилляция\n"
     ]
    },
    {
     "name": "stderr",
     "output_type": "stream",
     "text": [
      "\n",
      "200it [1:14:58, 22.49s/it]\u001B[A\n",
      "0it [1:14:58, ?it/s]"
     ]
    },
    {
     "name": "stdout",
     "output_type": "stream",
     "text": [
      "Fast Text Exception for счастотой\n",
      "Error precision\n",
      "original_word_list --- corrected_word --- answer_word_list\n",
      "эктренном --- экстренно --- ['экстренном']\n",
      "синусовго --- синусный --- ['синусового']\n",
      "даным --- аным --- ['данным', 'данный', 'данные']\n",
      "шнутография --- кистография --- ['шунтография']\n",
      "сникопальных --- синкопальный --- ['синкопальных']\n",
      "посление --- поселение --- ['поселение', 'последний']\n",
      "ходавый --- содовый --- ['ходовый']\n",
      "анмнезе --- намять --- ['анамнезе', 'анамнез']\n",
      "сентированный --- синтерированный --- ['стентированный']\n",
      "самоч --- самом --- ['самочувствие']\n",
      "перевдена --- переедена --- ['переведена']\n",
      "стентированеим --- тестирование --- ['стентированием', 'стентирование']\n",
      "кардиол --- кардио- --- ['кардиолог,кардиологический']\n",
      "переведна --- перевести --- ['переведена']\n",
      "догосптальном --- догоспитальный --- ['догоспитальном']\n",
      "миним --- чиним --- ['минимум', 'минимальный']\n",
      "субфебриллитет --- субфебрилитет --- ['субфебрилитет']\n",
      "загрудиные --- загрудинный --- ['загрудинные', 'загрудинный']\n",
      "перферия --- периферия --- ['периферия']\n",
      "течени --- темени --- ['течение']\n",
      "оклюзия --- окклюзия --- ['окклюзия']\n",
      "жнщина --- женщина --- ['женщина']\n",
      "пциент --- пациент --- ['пациент']\n",
      "зарегистирована --- зарегистрировать --- ['зарегистрирована']\n",
      "сегмета --- сегмент --- ['сегмента']\n",
      "клекте --- клёст --- ['клетке']\n",
      "эпид --- эпик --- ['эпидемия', 'эпидемиологический', 'эпидуральный']\n",
      "интелектуально --- интеллектуально --- ['интеллектуально']\n",
      "нижн --- нижи --- ['нижний']\n",
      "прводилась --- пропилась --- ['проводилась', 'проводить']\n",
      "неуст --- негуст --- ['неустановленный']\n",
      "госптализирован --- госпитализировать --- ['госпитализирован']\n",
      "вперые --- впереть --- ['впервые']\n",
      "послеоперационом --- послеоперационное --- ['послеоперационном']\n",
      "госпитализирова --- госпитализировать --- ['госпитализирован']\n",
      "ухудщение --- ухудшение --- ['ухудшение']\n",
      "рентг --- рента --- ['рентген']\n",
      "дальнешем --- вольнейшем --- ['дальнейшем']\n",
      "троботическая --- тромботический --- ['тромботическая']\n",
      "многосоудистое --- сосудистое --- ['многососудистое', 'многососудистый']\n",
      "миокрада --- миокард --- ['миокарда', 'миокард']\n",
      "сопрвождались --- продались --- ['сопровождались']\n",
      "дискмфорт --- дискомфорт --- ['дискомфорт']\n",
      "потлтвостью --- потливость --- ['потливостью']\n",
      "левогожелудочка --- левожелудочковый --- ['левого желудочка', 'левый желудочек']\n",
      "рание --- ранит --- ['ранее', 'ранние']\n",
      "виед --- вид --- ['виде', 'вид']\n",
      "ангинозныеболи --- ангинозное --- ['ангинозные боли', 'ангиозный боль']\n",
      "догоситальном --- догоспитальный --- ['догоспитальном']\n",
      "ввполнен --- вполне --- ['выполнен']\n",
      "чаосв --- час --- ['часов']\n",
      "октазалась --- казаться --- ['отказалась']\n",
      "линика --- линира --- ['клиника']\n",
      "ммента --- дента --- ['момента']\n",
      "проведеной --- провести --- ['проведенной']\n",
      "выполненяи --- выполнение --- ['выполнения', 'выполнение']\n",
      "леченяи --- лечения --- ['лечения', 'лечение']\n",
      "обтилась --- обвилась --- ['обратилась']\n",
      "повтороно --- повторно --- ['повторно']\n",
      "зарегистриованы --- зарегистрировать --- ['зарегистрированы']\n",
      "отицает --- тикает --- ['отрицает', 'отрицать']\n",
      "дальнейщем --- вольнейшем --- ['дальнейшем']\n",
      "болисохраняются --- предохраняются --- ['боли сохраняются']\n",
      "частичынм --- частично --- ['частичным']\n",
      "атерокслеротичсекая --- атеросклеротическая --- ['атеросклеротическая']\n",
      "деньс --- денься --- ['день', 'день с']\n",
      "назначаля --- назначать --- ['назначался']\n",
      "проведеняи --- проведения --- ['проведения']\n",
      "беспакоют --- беспокоит --- ['беспокоят']\n",
      "гипертензи --- гипертензия --- ['гипертензия']\n",
      "воленйбол --- волейбол --- ['волейбол']\n",
      "болезн --- больной --- ['болезнь']\n",
      "стенокардаа --- стенокардия --- ['стенокардия']\n",
      "продолжалсь --- продолжать --- ['продолжалась']\n",
      "поворное --- повторное --- ['повторное']\n",
      "ощуащет --- обтаять --- ['ощущает']\n",
      "ангигнозного --- ангинозное --- ['ангинозного', 'ангинозный']\n",
      "диагностичекой --- диагностический --- ['диагностической', 'диагностический']\n",
      "поддерживающией --- поддерживать --- ['поддерживающий']\n",
      "межлопаточнй --- межлопаточный --- ['межлопаточный']\n",
      "бедреной --- бедренной --- ['бедренной', 'бедренный']\n",
      "гшрядки --- городки --- ['грядки']\n",
      "бассеине --- бассини --- ['бассейне', 'бассейн']\n",
      "возлуха --- воздух --- ['воздуха', 'воздух']\n",
      "сенября --- сентябрь --- ['сентября', 'сентябрь']\n",
      "постояная --- постоянный --- ['постоянная', 'постоянный']\n",
      "рекмоендовнао --- рекомендовать --- ['рекомендовано']\n",
      "поврждения --- повреждение --- ['повреждения']\n",
      "дискофморта --- дискомфорт --- ['дискомфорт']\n",
      "импалнтирован --- имплантировать --- ['имплантирован', 'имплантировать']\n",
      "неочетливая --- неотчётливый --- ['неотчетливая', 'неотчетливый']\n",
      "обесвеченный --- обеспеченный --- ['обесцвеченный', 'обеспеченный']\n",
      "серце --- берцо --- ['сердце']\n",
      "блезнь --- болезнь --- ['болезнь']\n",
      "лергия --- еркия --- ['аллергия']\n",
      "ука --- вук --- ['рука']\n",
      "изжга --- изжога --- ['изжога']\n",
      "жение --- женил --- ['жжение']\n",
      "кашел --- кишел --- ['кашель']\n",
      "рствор --- створ --- ['раствор']\n",
      "пациен --- пациент --- ['пациент']\n",
      "пожлой --- пожилой --- ['пожилой']\n",
      "лекарсво --- лекарство --- ['лекарство']\n",
      "нпреносимость --- непереносимость --- ['непереносимость']\n",
      "амупула --- ампула --- ['ампула']\n",
      "гел --- бел --- ['гель']\n",
      "конценрат --- концентрат --- ['концентрат']\n",
      "рилиф --- рилиф --- ['релиф']\n",
      "чссс --- чсср --- ['ЧСС', 'чсс']\n",
      "экгъ --- экг --- ['ЭКГ', 'экг']\n",
      "фибриляция --- фибрилляция --- ['фибрилляция']\n",
      "желдочек --- желудочек --- ['желудочек']\n",
      "хрон --- хурон --- ['хронический']\n",
      "гиподин --- гинодиана --- ['гиподинамический']\n",
      "нерный --- нервный --- ['нервный']\n",
      "сист --- цист --- ['система']\n",
      "диагоностика --- диагностика --- ['диагностика']\n",
      "гипоксмия --- гипоксия --- ['гипоксемия']\n",
      "ледокоин --- ледокол --- ['лидокаин']\n",
      "блокато --- блокатор --- ['блокатор']\n",
      "тахкардия --- тахикардия --- ['тахикардия']\n",
      "малоинвозивный --- малоабразивный --- ['малоинвазивный']\n",
      "алация --- алания --- ['аблация', 'абляция']\n",
      "имь --- димь --- ['ИМ', 'им']\n",
      "паражение --- поражение --- ['поражение']\n",
      "тяжолый --- тяжёлый --- ['тяжелый']\n",
      "гастрапластика --- гастропластика --- ['гастропластика']\n",
      "вс --- вс --- ['вес']\n",
      "лешний --- летний --- ['лишний']\n",
      "орта --- орта --- ['аорта']\n",
      "клапа --- клава --- ['клапан']\n",
      "вент --- вендт --- ['вена']\n",
      "палый --- палый --- ['полый']\n",
      "пирикард --- перикард --- ['перикард']\n",
      "метральный --- метальный --- ['митральный']\n",
      "ултразвук --- ультразвук --- ['ультразвук']\n",
      "херург --- хирург --- ['хирург']\n",
      "кордиолог --- кардиолог --- ['кардиолог']\n",
      "килограм --- килограмм --- ['килограмм']\n",
      "акенезия --- агенезия --- ['акинезия']\n",
      "врхушка --- верхушка --- ['верхушка']\n",
      "апекальный --- апикальный --- ['апикальный']\n",
      "сгмент --- сегмент --- ['сегмент']\n",
      "вес --- вес --- ['весь']\n",
      "сьенка --- сменка --- ['стенка']\n",
      "церкулярный --- циркулярный --- ['циркулярный']\n",
      "сридиный --- срединный --- ['срединный']\n",
      "калапаный --- клёпаный --- ['клапанный']\n",
      "апарат --- аппарат --- ['аппарат']\n",
      "потология --- патология --- ['патология']\n",
      "перекард --- перикард --- ['перикард']\n",
      "праксимальный --- проксимальный --- ['проксимальный']\n",
      "деаметр --- диаметр --- ['диаметр']\n",
      "корекция --- коррекция --- ['коррекция']\n",
      "аслажнение --- услаждение --- ['осложнение']\n",
      "стрдать --- страдать --- ['страдать']\n",
      "гепертонический --- гипертонический --- ['гипертонический']\n",
      "болезн --- больной --- ['болезнь']\n",
      "одоптировать --- адоптировать --- ['адаптировать']\n",
      "получять --- получить --- ['получать']\n",
      "кансервативный --- консервативный --- ['консервативный']\n",
      "тичение --- точение --- ['течение']\n",
      "пребование --- требование --- ['пребывание']\n",
      "отбиление --- отопление --- ['отделение']\n",
      "самачувствие --- самочувствие --- ['самочувствие']\n",
      "уходшение --- ухудшение --- ['ухудшение']\n",
      "месро --- метро --- ['место']\n",
      "пункцыя --- пункция --- ['пункция']\n",
      "особеность --- особенность --- ['особенность']\n",
      "шнут --- мнут --- ['шунт']\n",
      "шнутирование --- шунтирование --- ['шунтирование']\n",
      "готчина --- гатчина --- ['гатчина']\n",
      "эхэ --- эх --- ['эхо']\n",
      "каранарный --- коронарный --- ['коронарный']\n",
      "ортерия --- артерия --- ['артерия']\n",
      "сначимый --- значимый --- ['значимый']\n",
      "стинос --- тинос --- ['стеноз']\n",
      "гаспиализировать --- госпитализировать --- ['госпитализировать']\n",
      "имья --- иметь --- ['имя']\n",
      "олмазов --- алмазов --- ['алмазов']\n",
      "прдшствовать --- прошествовать --- ['предшествовать']\n",
      "стинакардия --- стенокардия --- ['стенокардия']\n",
      "пиринести --- принести --- ['перенести']\n",
      "ифаркт --- инфаркт --- ['инфаркт']\n",
      "моикарда --- миокард --- ['миокарда']\n",
      "лакализация --- локализация --- ['локализация']\n",
      "спразка --- справка --- ['справка']\n",
      "дальнейшый --- дальнейший --- ['дальнейший']\n",
      "хроническаянедостаточность --- самодостаточность --- ['хроническая недостаточность', 'хронический недостаточность']\n",
      "инфарктмиокарда --- инфарктик --- ['инфаркт миокарда', 'инфаркт миокард']\n",
      "отузла --- стусло --- ['от узла', 'от узел']\n",
      "нарушениеработы --- нарушение --- ['нарушение работы', 'нарушение работа']\n",
      "вминуту --- минута --- ['в минуту', 'в минута', 'минута']\n",
      "эндокриннойсистемы --- эндокринное --- ['эндокринная система', 'эндокринный система']\n",
      "сердечныйритм --- сердечный --- ['сердечный ритм']\n",
      "узловаятахикардия --- тахикардия --- ['узловая тахикардия', 'узловой тахикардия']\n",
      "основныефакторы --- соредактор --- ['основной факто', 'основные факторы']\n",
      "остановкасердца --- остановка --- ['остановка сердца', 'остановка сердце']\n",
      "фибрилляцияжелудочков --- фибрилляция --- ['фибрилляция желудочков', 'фибрилляция желудочек']\n",
      "счастотой --- частый --- ['с частотой', 'с частотаб частота']\n",
      "Right corrected words count - 83 of 200 total\n",
      "/home/Dmitry.Pogrebnoy/Desktop/MedSpellChecker/spellchecker_prototype_v2\n"
     ]
    },
    {
     "name": "stderr",
     "output_type": "stream",
     "text": [
      "\n",
      "0it [00:00, ?it/s]"
     ]
    },
    {
     "name": "stdout",
     "output_type": "stream",
     "text": [
      "['выборгский', 'отказываться', 'нитропрепарат', 'предсердие', 'диссоциация', 'кольцевой', 'отрыв', 'вовлечение', 'мелкопузырчатый', 'госпитализировать', 'фтизиатр', 'проксимальный', 'приступ', 'рецидивировать', 'беспокоить', 'значимый', 'одномоментный', 'течение', 'постепенной', 'трафика', 'левый', 'область', 'окклюзия', 'каждый', 'аторвастатина', 'проникающий', 'слух', 'отрицательный', 'заднее', 'диафрагмальный', 'физическая', 'реваскуляризация', 'очевидный', 'умеренный', 'самостоятельный', 'визуализация', 'неселективный', 'септопластика', 'присутствие', 'соустье', 'кировский', 'ноющая', 'постоять', 'стенка', 'укоротить', 'назначить', 'госпитализация', 'возобновление', 'одеть', 'охранник', 'дексона', 'систолический', 'верхушечноперегородочный', 'расширение', 'равнозначный', 'предприятие', 'ночь', 'вредность', 'транспортировка', 'март', 'гипотиазид', 'скрытый', 'расстройство', 'ломота', 'подготовить', 'помощь', 'большая', 'эквивалент', 'гемостатический', 'купировавшийся', 'ревизия', 'пульсирующий', 'регистрироваться', 'лимитирование', 'ометать', 'стихание', 'вазопрессорный', 'тредмил', 'тест', 'гипопноэ', 'наш', 'ускоренный', 'эфффект', 'тромбофлебит', 'ишемический', 'купирование', 'патологии', 'длительный', 'заключение', 'пунктировать', 'ферритина', 'гастропротективный', 'пароксизм', 'выполнять', 'показатель', 'посттромбофлебитический', 'анальгин', 'корректировать', 'секунда', 'креатинкиназа', 'утолщение', 'терапия', 'глибомёт', 'лобэктомия', 'новгородский', 'владеть', 'тенденция', 'мерить', 'поражений', 'перекосить', 'тропонин', 'сдвиг', 'отправить', 'сжимающее', 'давящий', 'нифедипин', 'мексикор', 'сад', 'мезентериальный', 'дальнейшей', 'реабилитация', 'переносить', 'дискомфорт', 'проявление', 'батарея', 'фермент', 'затёк', 'непроизвольный', 'слепок', 'тенорик', 'сегмента', 'дрожь', 'появляется', 'гепарина', 'предсердие', 'диурез', 'фиксировать', 'временной', 'микропрепарат', 'аторвастатин', 'гипотензия', 'грудь', 'инфаркт', 'мононуклеары', 'постоянно', 'погрузка', 'фармакологический', 'нестабильный', 'мертенил', 'тахикардий', 'снимать', 'распространиться', 'контрпульсатор', 'соталол', 'складываться', 'кардиомегалия', 'смесь', 'мкг', 'похожий', 'аутовенозный', 'гепатина', 'рецидивировать', 'асцит', 'стенокардия', 'тысяча', 'промежуточный', 'возможный', 'водка', 'лимфодиссекция', 'принимать', 'стентирование', 'незначимый', 'настоящее', 'задненижний', 'частичный', 'появиться', 'тройной', 'показатель', 'эквивалент', 'утолстить', 'поведение', 'аускультативный', 'отказаться', 'рассмотреть', 'сывороточный', 'формирующийся', 'жир', 'карведилол', 'тонкий', 'единица', 'срабатывать', 'компрометация', 'россия', 'массив', 'нижнебоковой', 'отечь', 'трепетание', 'конкурировать', 'событие', 'незначительный']\n"
     ]
    },
    {
     "name": "stderr",
     "output_type": "stream",
     "text": [
      "\n",
      "0it [00:00, ?it/s]\u001B[A\n",
      "3it [00:33, 11.10s/it]\u001B[A"
     ]
    },
    {
     "name": "stdout",
     "output_type": "stream",
     "text": [
      "Fast Text Exception for нитропрепарат\n"
     ]
    },
    {
     "name": "stderr",
     "output_type": "stream",
     "text": [
      "\n",
      "19it [01:00,  2.82s/it]\u001B[A"
     ]
    },
    {
     "name": "stdout",
     "output_type": "stream",
     "text": [
      "Fast Text Exception for постепенной\n"
     ]
    },
    {
     "name": "stderr",
     "output_type": "stream",
     "text": [
      "\n",
      "20it [01:19,  3.93s/it]\u001B[A"
     ]
    },
    {
     "name": "stdout",
     "output_type": "stream",
     "text": [
      "Fast Text Exception for трафика\n"
     ]
    },
    {
     "name": "stderr",
     "output_type": "stream",
     "text": [
      "\n",
      "25it [01:51,  4.83s/it]\u001B[A"
     ]
    },
    {
     "name": "stdout",
     "output_type": "stream",
     "text": [
      "try аторвастатин\n"
     ]
    },
    {
     "name": "stderr",
     "output_type": "stream",
     "text": [
      "\n",
      "38it [02:25,  3.60s/it]\u001B[A"
     ]
    },
    {
     "name": "stdout",
     "output_type": "stream",
     "text": [
      "Fast Text Exception for септопластика\n"
     ]
    },
    {
     "name": "stderr",
     "output_type": "stream",
     "text": [
      "\n",
      "53it [03:27,  3.84s/it]\u001B[A"
     ]
    },
    {
     "name": "stdout",
     "output_type": "stream",
     "text": [
      "Fast Text Exception for верхушечноперегородочный\n"
     ]
    },
    {
     "name": "stderr",
     "output_type": "stream",
     "text": [
      "\n",
      "70it [04:03,  3.09s/it]\u001B[A"
     ]
    },
    {
     "name": "stdout",
     "output_type": "stream",
     "text": [
      "Fast Text Exception for купировавшийся\n"
     ]
    },
    {
     "name": "stderr",
     "output_type": "stream",
     "text": [
      "\n",
      "75it [04:21,  3.17s/it]\u001B[A"
     ]
    },
    {
     "name": "stdout",
     "output_type": "stream",
     "text": [
      "Fast Text Exception for ометать\n"
     ]
    },
    {
     "name": "stderr",
     "output_type": "stream",
     "text": [
      "\n",
      "77it [04:57,  4.35s/it]\u001B[A"
     ]
    },
    {
     "name": "stdout",
     "output_type": "stream",
     "text": [
      "Fast Text Exception for вазопрессорный\n"
     ]
    },
    {
     "name": "stderr",
     "output_type": "stream",
     "text": [
      "\n",
      "78it [05:15,  5.12s/it]\u001B[A"
     ]
    },
    {
     "name": "stdout",
     "output_type": "stream",
     "text": [
      "Fast Text Exception for тредмил\n"
     ]
    },
    {
     "name": "stderr",
     "output_type": "stream",
     "text": [
      "\n",
      "80it [05:36,  5.83s/it]\u001B[A"
     ]
    },
    {
     "name": "stdout",
     "output_type": "stream",
     "text": [
      "Fast Text Exception for гипопноэ\n"
     ]
    },
    {
     "name": "stderr",
     "output_type": "stream",
     "text": [
      "\n",
      "83it [05:53,  5.80s/it]\u001B[A"
     ]
    },
    {
     "name": "stdout",
     "output_type": "stream",
     "text": [
      "try эффект\n"
     ]
    },
    {
     "name": "stderr",
     "output_type": "stream",
     "text": [
      "\n",
      "86it [06:19,  6.52s/it]\u001B[A"
     ]
    },
    {
     "name": "stdout",
     "output_type": "stream",
     "text": [
      "Fast Text Exception for купирование\n"
     ]
    },
    {
     "name": "stderr",
     "output_type": "stream",
     "text": [
      "\n",
      "87it [06:40,  8.06s/it]\u001B[A"
     ]
    },
    {
     "name": "stdout",
     "output_type": "stream",
     "text": [
      "try патология\n"
     ]
    },
    {
     "name": "stderr",
     "output_type": "stream",
     "text": [
      "\n",
      "92it [07:23,  8.25s/it]\u001B[A"
     ]
    },
    {
     "name": "stdout",
     "output_type": "stream",
     "text": [
      "Fast Text Exception for гастропротективный\n"
     ]
    },
    {
     "name": "stderr",
     "output_type": "stream",
     "text": [
      "\n",
      "103it [07:42,  4.53s/it]\u001B[A"
     ]
    },
    {
     "name": "stdout",
     "output_type": "stream",
     "text": [
      "Fast Text Exception for глибомёт\n"
     ]
    },
    {
     "name": "stderr",
     "output_type": "stream",
     "text": [
      "\n",
      "111it [08:02,  3.76s/it]\u001B[A"
     ]
    },
    {
     "name": "stdout",
     "output_type": "stream",
     "text": [
      "Fast Text Exception for тропонин\n"
     ]
    },
    {
     "name": "stderr",
     "output_type": "stream",
     "text": [
      "\n",
      "114it [08:23,  4.34s/it]\u001B[A"
     ]
    },
    {
     "name": "stdout",
     "output_type": "stream",
     "text": [
      "Fast Text Exception for сжимающее\n"
     ]
    },
    {
     "name": "stderr",
     "output_type": "stream",
     "text": [
      "\n",
      "120it [08:47,  4.23s/it]\u001B[A"
     ]
    },
    {
     "name": "stdout",
     "output_type": "stream",
     "text": [
      "try дальнейший\n"
     ]
    },
    {
     "name": "stderr",
     "output_type": "stream",
     "text": [
      "\n",
      "130it [09:04,  3.13s/it]\u001B[A"
     ]
    },
    {
     "name": "stdout",
     "output_type": "stream",
     "text": [
      "Fast Text Exception for тенорик\n"
     ]
    },
    {
     "name": "stderr",
     "output_type": "stream",
     "text": [
      "\n",
      "133it [09:29,  3.92s/it]\u001B[A"
     ]
    },
    {
     "name": "stdout",
     "output_type": "stream",
     "text": [
      "try появляться\n"
     ]
    },
    {
     "name": "stderr",
     "output_type": "stream",
     "text": [
      "\n",
      "134it [09:49,  5.04s/it]\u001B[A"
     ]
    },
    {
     "name": "stdout",
     "output_type": "stream",
     "text": [
      "try гепарин\n"
     ]
    },
    {
     "name": "stderr",
     "output_type": "stream",
     "text": [
      "\n",
      "139it [10:21,  5.52s/it]\u001B[A"
     ]
    },
    {
     "name": "stdout",
     "output_type": "stream",
     "text": [
      "Fast Text Exception for микропрепарат\n"
     ]
    },
    {
     "name": "stderr",
     "output_type": "stream",
     "text": [
      "\n",
      "144it [10:51,  5.64s/it]\u001B[A"
     ]
    },
    {
     "name": "stdout",
     "output_type": "stream",
     "text": [
      "try мононуклеар\n"
     ]
    },
    {
     "name": "stderr",
     "output_type": "stream",
     "text": [
      "\n",
      "149it [11:12,  5.17s/it]\u001B[A"
     ]
    },
    {
     "name": "stdout",
     "output_type": "stream",
     "text": [
      "Fast Text Exception for мертенил\n"
     ]
    },
    {
     "name": "stderr",
     "output_type": "stream",
     "text": [
      "\n",
      "150it [11:36,  6.77s/it]\u001B[A"
     ]
    },
    {
     "name": "stdout",
     "output_type": "stream",
     "text": [
      "Fast Text Exception for тахикардий\n"
     ]
    },
    {
     "name": "stderr",
     "output_type": "stream",
     "text": [
      "\n",
      "153it [12:09,  7.90s/it]\u001B[A"
     ]
    },
    {
     "name": "stdout",
     "output_type": "stream",
     "text": [
      "Fast Text Exception for контрпульсатор\n"
     ]
    },
    {
     "name": "stderr",
     "output_type": "stream",
     "text": [
      "\n",
      "154it [12:27,  8.95s/it]\u001B[A"
     ]
    },
    {
     "name": "stdout",
     "output_type": "stream",
     "text": [
      "Fast Text Exception for соталол\n"
     ]
    },
    {
     "name": "stderr",
     "output_type": "stream",
     "text": [
      "\n",
      "160it [12:56,  6.94s/it]\u001B[A"
     ]
    },
    {
     "name": "stdout",
     "output_type": "stream",
     "text": [
      "Fast Text Exception for аутовенозный\n"
     ]
    },
    {
     "name": "stderr",
     "output_type": "stream",
     "text": [
      "\n",
      "161it [13:15,  8.23s/it]\u001B[A"
     ]
    },
    {
     "name": "stdout",
     "output_type": "stream",
     "text": [
      "Fast Text Exception for гепатина\n"
     ]
    },
    {
     "name": "stderr",
     "output_type": "stream",
     "text": [
      "\n",
      "169it [13:49,  6.03s/it]\u001B[A"
     ]
    },
    {
     "name": "stdout",
     "output_type": "stream",
     "text": [
      "Fast Text Exception for лимфодиссекция\n"
     ]
    },
    {
     "name": "stderr",
     "output_type": "stream",
     "text": [
      "\n",
      "171it [14:21,  7.65s/it]\u001B[A"
     ]
    },
    {
     "name": "stdout",
     "output_type": "stream",
     "text": [
      "Fast Text Exception for стентирование\n"
     ]
    },
    {
     "name": "stderr",
     "output_type": "stream",
     "text": [
      "\n",
      "174it [14:48,  8.00s/it]\u001B[A"
     ]
    },
    {
     "name": "stdout",
     "output_type": "stream",
     "text": [
      "Fast Text Exception for задненижний\n"
     ]
    },
    {
     "name": "stderr",
     "output_type": "stream",
     "text": [
      "\n",
      "200it [15:19,  4.60s/it]\u001B[A\n",
      "0it [15:19, ?it/s]"
     ]
    },
    {
     "name": "stdout",
     "output_type": "stream",
     "text": [
      "Fast Text Exception for формирующийся\n",
      "Lexical precision\n",
      "original_word_list --- corrected_word\n",
      "выборгский --- выборгский\n",
      "отказываться --- отказываться\n",
      "нитропрепарат --- биопрепарат\n",
      "предсердие --- предсердие\n",
      "диссоциация --- диссоциация\n",
      "кольцевой --- кольцевой\n",
      "отрыв --- отрыв\n",
      "вовлечение --- вовлечение\n",
      "мелкопузырчатый --- мелкопузырчатый\n",
      "госпитализировать --- госпитализировать\n",
      "фтизиатр --- фтизиатр\n",
      "проксимальный --- проксимальный\n",
      "приступ --- приступ\n",
      "рецидивировать --- рецидивировать\n",
      "беспокоить --- беспокоить\n",
      "значимый --- значимый\n",
      "одномоментный --- одномоментный\n",
      "течение --- течение\n",
      "постепенной --- постепенный\n",
      "трафика --- трофика\n",
      "левый --- левый\n",
      "область --- область\n",
      "окклюзия --- окклюзия\n",
      "каждый --- каждый\n",
      "аторвастатина --- аторвастатин\n",
      "проникающий --- проникающий\n",
      "слух --- слух\n",
      "отрицательный --- отрицательный\n",
      "заднее --- заднее\n",
      "диафрагмальный --- диафрагмальный\n",
      "физическая --- физическая\n",
      "реваскуляризация --- реваскуляризация\n",
      "очевидный --- очевидный\n",
      "умеренный --- умеренный\n",
      "самостоятельный --- самостоятельный\n",
      "визуализация --- визуализация\n",
      "неселективный --- неселективный\n",
      "септопластика --- тенопластика\n",
      "присутствие --- присутствие\n",
      "соустье --- соустье\n",
      "кировский --- кировский\n",
      "ноющая --- ноющая\n",
      "постоять --- постоять\n",
      "стенка --- стенка\n",
      "укоротить --- укоротить\n",
      "назначить --- назначить\n",
      "госпитализация --- госпитализация\n",
      "возобновление --- возобновление\n",
      "одеть --- одеть\n",
      "охранник --- охранник\n",
      "дексона --- дексона\n",
      "систолический --- систолический\n",
      "верхушечно-перегородочный --- перегородочный\n",
      "расширение --- расширение\n",
      "равнозначный --- равнозначный\n",
      "предприятие --- предприятие\n",
      "ночь --- ночь\n",
      "вредность --- вредность\n",
      "транспортировка --- транспортировка\n",
      "март --- март\n",
      "гипотиазид --- гипотиазид\n",
      "скрытый --- скрытый\n",
      "расстройство --- расстройство\n",
      "ломота --- ломота\n",
      "подготовить --- подготовить\n",
      "помощь --- помощь\n",
      "большая --- большая\n",
      "эквивалент --- эквивалент\n",
      "гемостатический --- гемостатический\n",
      "купировавшийся --- купоросившийся\n",
      "ревизия --- ревизия\n",
      "пульсирующий --- пульсирующий\n",
      "регистрироваться --- регистрироваться\n",
      "лимитирование --- лимитирование\n",
      "ометать --- обметать\n",
      "стихание --- стихание\n",
      "вазопрессорный --- газопрессовый\n",
      "тредмил --- премил\n",
      "тест --- тест\n",
      "гипопноэ --- гипопион\n",
      "наш --- наш\n",
      "ускоренный --- ускоренный\n",
      "эфффект --- эффект\n",
      "тромбофлебит --- тромбофлебит\n",
      "ишемический --- ишемический\n",
      "купирование --- курирование\n",
      "патологии --- патология\n",
      "длительный --- длительный\n",
      "заключение --- заключение\n",
      "пунктировать --- пунктировать\n",
      "ферритина --- ферритина\n",
      "гастропротективный --- частнодетективный\n",
      "пароксизм --- пароксизм\n",
      "выполнять --- выполнять\n",
      "показатель --- показатель\n",
      "посттромбофлебитический --- посттромбофлебитический\n",
      "анальгин --- анальгин\n",
      "корректировать --- корректировать\n",
      "секунда --- секунда\n",
      "креатинкиназа --- креатинкиназа\n",
      "утолщение --- утолщение\n",
      "терапия --- терапия\n",
      "глибомёт --- глибомет\n",
      "лобэктомия --- лобэктомия\n",
      "новгородский --- новгородский\n",
      "владеть --- владеть\n",
      "тенденция --- тенденция\n",
      "мерить --- мерить\n",
      "поражений --- поражений\n",
      "перекосить --- перекосить\n",
      "тропонин --- хлопонин\n",
      "сдвиг --- сдвиг\n",
      "отправить --- отправить\n",
      "сжимающее --- сжимающая\n",
      "давящий --- давящий\n",
      "нифедипин --- нифедипин\n",
      "мексикор --- мексикор\n",
      "сад --- сад\n",
      "мезентериальный --- мезентериальный\n",
      "дальнейшей --- дальнейший\n",
      "реабилитация --- реабилитация\n",
      "переносить --- переносить\n",
      "дискомфорт --- дискомфорт\n",
      "проявление --- проявление\n",
      "батарея --- батарея\n",
      "фермент --- фермент\n",
      "затёк --- затёк\n",
      "непроизвольный --- непроизвольный\n",
      "слепок --- слепок\n",
      "тенорик --- тенорит\n",
      "сегмента --- сегмента\n",
      "дрожь --- дрожь\n",
      "появляется --- появляться\n",
      "гепарина --- гепарин\n",
      "предсердие --- предсердие\n",
      "диурез --- диурез\n",
      "фиксировать --- фиксировать\n",
      "временной --- временной\n",
      "микропрепарат --- биопрепарат\n",
      "аторвастатин --- аторвастатин\n",
      "гипотензия --- гипотензия\n",
      "грудь --- грудь\n",
      "инфаркт --- инфаркт\n",
      "мононуклеары --- мононуклеар\n",
      "постоянно --- постоянно\n",
      "погрузка --- погрузка\n",
      "фармакологический --- фармакологический\n",
      "нестабильный --- нестабильный\n",
      "мертенил --- миренил\n",
      "тахикардий --- тахикардии\n",
      "снимать --- снимать\n",
      "распространиться --- распространиться\n",
      "контрпульсатор --- контрпульсация\n",
      "соталол --- сталон\n",
      "складываться --- складываться\n",
      "кардиомегалия --- кардиомегалия\n",
      "смесь --- смесь\n",
      "мкг --- мкг\n",
      "похожий --- похожий\n",
      "аутовенозный --- аутогенный\n",
      "гепатина --- гепатит\n",
      "рецидивировать --- рецидивировать\n",
      "асцит --- асцит\n",
      "стенокардия --- стенокардия\n",
      "тысяча --- тысяча\n",
      "промежуточный --- промежуточный\n",
      "возможный --- возможный\n",
      "водка --- водка\n",
      "лимфодиссекция --- диссекция\n",
      "принимать --- принимать\n",
      "стентирование --- тестирование\n",
      "незначимый --- незначимый\n",
      "настоящее --- настоящее\n",
      "задненижний --- задненёбный\n",
      "частичный --- частичный\n",
      "появиться --- появиться\n",
      "тройной --- тройной\n",
      "показатель --- показатель\n",
      "эквивалент --- эквивалент\n",
      "утолстить --- утолстить\n",
      "поведение --- поведение\n",
      "аускультативный --- аускультативный\n",
      "отказаться --- отказаться\n",
      "рассмотреть --- рассмотреть\n",
      "сывороточный --- сывороточный\n",
      "формирующийся --- бормочущийся\n",
      "жир --- жир\n",
      "карведилол --- карведилол\n",
      "тонкий --- тонкий\n",
      "единица --- единица\n",
      "срабатывать --- срабатывать\n",
      "компрометация --- компрометация\n",
      "россия --- россия\n",
      "массив --- массив\n",
      "нижнебоковой --- нижнебоковой\n",
      "отечь --- отечь\n",
      "трепетание --- трепетание\n",
      "конкурировать --- конкурировать\n",
      "событие --- событие\n",
      "незначительный --- незначительный\n",
      "Right corrected words count - 166 of 200 total\n"
     ]
    },
    {
     "name": "stderr",
     "output_type": "stream",
     "text": [
      "\n"
     ]
    },
    {
     "data": {
      "text/plain": "{'words_per_second': 0.07382898564418895,\n 'error_precision': 0.415,\n 'lexical_precision': 0.83,\n 'overall_precision': 0.6224999999999999}"
     },
     "execution_count": 122,
     "metadata": {},
     "output_type": "execute_result"
    }
   ],
   "source": [
    "def spellchecker_prototype_v2_correct_func(input_word_list):\n",
    "    spellchecker_prototype = SpellChecker()\n",
    "    word_list = \" \".join(input_word_list)\n",
    "    timer = tqdm()\n",
    "    corrected_word_list = spellchecker_prototype.correct_words(word_list)\n",
    "    return {\"elapsed\": timer.format_dict[\"elapsed\"], \"corrected_word_list\": corrected_word_list}\n",
    "\n",
    "spellchecker_prototype_v2_metrics = metric_test_without_context.compute_all_metrics(spellchecker_prototype_v2_correct_func, spellchecker_prototype_v2_correct_func)\n",
    "\n",
    "spellchecker_prototype_v2_metrics"
   ],
   "metadata": {
    "collapsed": false,
    "pycharm": {
     "name": "#%%\n"
    }
   }
  },
  {
   "cell_type": "markdown",
   "metadata": {
    "pycharm": {
     "name": "#%% md\n"
    }
   },
   "source": [
    "# Test Symspellpy - https://github.com/mammothb/symspellpy"
   ]
  },
  {
   "cell_type": "code",
   "execution_count": 3,
   "metadata": {
    "pycharm": {
     "name": "#%%\n"
    }
   },
   "outputs": [
    {
     "name": "stdout",
     "output_type": "stream",
     "text": [
      "Requirement already satisfied: symspellpy in /home/Dmitry.Pogrebnoy/Desktop/MedSpellChecker/venv/lib/python3.9/site-packages (6.7.6)\r\n",
      "Requirement already satisfied: editdistpy>=0.1.3 in /home/Dmitry.Pogrebnoy/Desktop/MedSpellChecker/venv/lib/python3.9/site-packages (from symspellpy) (0.1.3)\r\n"
     ]
    }
   ],
   "source": [
    "!pip install -U symspellpy"
   ]
  },
  {
   "cell_type": "code",
   "execution_count": 4,
   "outputs": [
    {
     "name": "stdout",
     "output_type": "stream",
     "text": [
      "Name: symspellpy\r\n",
      "Version: 6.7.6\r\n",
      "Summary: Python SymSpell\r\n",
      "Home-page: https://github.com/mammothb/symspellpy\r\n",
      "Author: mmb L\r\n",
      "Author-email: \r\n",
      "License: MIT\r\n",
      "Location: /home/Dmitry.Pogrebnoy/Desktop/MedSpellChecker/venv/lib/python3.9/site-packages\r\n",
      "Requires: editdistpy\r\n",
      "Required-by: \r\n"
     ]
    }
   ],
   "source": [
    "!pip show symspellpy"
   ],
   "metadata": {
    "collapsed": false,
    "pycharm": {
     "name": "#%%\n"
    }
   }
  },
  {
   "cell_type": "markdown",
   "metadata": {
    "pycharm": {
     "name": "#%% md\n"
    }
   },
   "source": [
    "### Test Symspellpy lookup on basic dict"
   ]
  },
  {
   "cell_type": "code",
   "execution_count": 5,
   "metadata": {
    "pycharm": {
     "name": "#%%\n"
    }
   },
   "outputs": [],
   "source": [
    "basic_frequency_dict = '../data/other_spellcheckers/symspell/ru-100k.txt'"
   ]
  },
  {
   "cell_type": "code",
   "execution_count": 6,
   "metadata": {
    "pycharm": {
     "name": "#%%\n"
    }
   },
   "outputs": [],
   "source": [
    "from symspellpy import SymSpell, Verbosity\n",
    "\n",
    "def test_symspell_py_lookup(frequency_dict_path, input_word_list):\n",
    "    sym_spell_py = SymSpell()\n",
    "    sym_spell_py.load_dictionary(frequency_dict_path, 0, 1, encoding=\"UTF8\")\n",
    "\n",
    "    result = []\n",
    "    timer = tqdm(input_word_list)\n",
    "    for word in timer:\n",
    "        suggestions = sym_spell_py.lookup(word, Verbosity.TOP, max_edit_distance=2, include_unknown=True)\n",
    "        result.append(suggestions[0].term)\n",
    "    return  {\"elapsed\" : timer.format_dict[\"elapsed\"], \"corrected_word_list\" : result}"
   ]
  },
  {
   "cell_type": "code",
   "execution_count": 7,
   "outputs": [
    {
     "name": "stderr",
     "output_type": "stream",
     "text": [
      "100%|██████████| 200/200 [00:00<00:00, 12000.01it/s]\n"
     ]
    },
    {
     "name": "stdout",
     "output_type": "stream",
     "text": [
      "Error precision\n",
      "original_word_list --- corrected_word --- answer_word_list\n",
      "эктренном --- коренном --- ['экстренном', 'экстренный', 'экстренно']\n",
      "синусовго --- синусовго --- ['синусового', 'синусовый']\n",
      "шнутография --- шнутография --- ['шунтография']\n",
      "сникопальных --- сникопальных --- ['синкопальных', 'синкопальный']\n",
      "посление --- последние --- ['поселение', 'последний']\n",
      "ходавый --- подавай --- ['ходовый']\n",
      "сентированный --- сентированный --- ['стентированный']\n",
      "стентированеим --- стентированеим --- ['стентированием', 'стентирование']\n",
      "кардиол --- кардинал --- ['кардиолог,кардиологический']\n",
      "догосптальном --- догосптальном --- ['догоспитальном', 'догоспитальный']\n",
      "миним --- синим --- ['минимум', 'минимальный']\n",
      "субфебриллитет --- субфебриллитет --- ['субфебрилитет']\n",
      "загрудиные --- загрудиные --- ['загрудинные', 'загрудинный']\n",
      "оклюзия --- иллюзия --- ['окклюзия']\n",
      "эпидральный --- эпидральный --- ['эпидуральный']\n",
      "нижн --- ниже --- ['нижний']\n",
      "неустанвленный --- неустанвленный --- ['неустановленный']\n",
      "госптализирован --- госптализирован --- ['госпитализирован']\n",
      "госпитализирова --- госпитализирова --- ['госпитализирован']\n",
      "рентг --- ренты --- ['рентген']\n",
      "троботическая --- троботическая --- ['тромботическая', 'тромботический']\n",
      "многосоудистое --- многосоудистое --- ['многососудистое', 'многососудистый']\n",
      "дискмфорт --- дискмфорт --- ['дискомфорт']\n",
      "потлтвостью --- потлтвостью --- ['потливостью', 'потливость']\n",
      "левогожелудочка --- левогожелудочка --- ['левого желудочка', 'левый желудочек']\n",
      "ангинозныеболи --- ангинозныеболи --- ['ангинозные боли', 'ангиозный боль']\n",
      "догоситальном --- догоситальном --- ['догоспитальном', 'догоспитальный']\n",
      "ввполнен --- вполне --- ['выполнен']\n",
      "октазалась --- оказалась --- ['отказалась', 'отказался']\n",
      "линика --- лирика --- ['клиника']\n",
      "проведеной --- проведено --- ['проведенной']\n",
      "обтилась --- осталась --- ['обратилась', 'обогатить']\n",
      "болисохраняются --- болисохраняются --- ['боли сохраняются', 'боль сохраняется']\n",
      "атерокслеротичсекая --- атерокслеротичсекая --- ['атеросклеротическая', 'атеросклеротический']\n",
      "назначаля --- назначали --- ['назначался', 'назначать']\n",
      "беспакоют --- беспокоит --- ['беспокоят', 'беспокоить']\n",
      "гипертензи --- гипертензии --- ['гипертензия']\n",
      "болезн --- болезни --- ['болезнь']\n",
      "стенокардаа --- стенокардаа --- ['стенокардия']\n",
      "продолжалсь --- продолжалось --- ['продолжалась', 'продолжать']\n",
      "ангигнозного --- ангигнозного --- ['ангинозного', 'ангинозный']\n",
      "поддерживающией --- поддерживающие --- ['поддерживающий']\n",
      "межлопаточнй --- межлопаточнй --- ['межлопаточный']\n",
      "дискофморта --- дискофморта --- ['дискомфорт']\n",
      "импалнтирован --- импалнтирован --- ['имплантирован', 'имплантировать']\n",
      "неочетливая --- неочетливая --- ['неотчетливая', 'неотчетливый']\n",
      "обесвеченный --- обеспеченных --- ['обесцвеченный', 'обеспеченный']\n",
      "лергия --- сергия --- ['аллергия']\n",
      "ука --- ука --- ['рука']\n",
      "изжга --- из-за --- ['изжога']\n",
      "жение --- жене --- ['жжение']\n",
      "кашел --- нашел --- ['кашель']\n",
      "нпреносимость --- нпреносимость --- ['непереносимость']\n",
      "амупула --- ампулы --- ['ампула']\n",
      "гел --- дел --- ['гель']\n",
      "рилиф --- или --- ['релиф']\n",
      "чссс --- ссср --- ['ЧСС', 'чсс']\n",
      "фибриляция --- фибриляция --- ['фибрилляция']\n",
      "желдочек --- желдочек --- ['желудочек']\n",
      "хрон --- крон --- ['хронический']\n",
      "гиподин --- господин --- ['гиподинамический']\n",
      "нерный --- черный --- ['нервный']\n",
      "сист --- сист --- ['система']\n",
      "гипоксмия --- гипоксии --- ['гипоксемия']\n",
      "ледокоин --- ледокол --- ['лидокаин']\n",
      "блокато --- блока --- ['блокатор']\n",
      "тахкардия --- тахкардия --- ['тахикардия']\n",
      "малоинвозивный --- малоинвозивный --- ['малоинвазивный']\n",
      "алация --- акация --- ['аблация', 'абляция']\n",
      "гастрапластика --- гастрапластика --- ['гастропластика']\n",
      "вс --- в --- ['вес']\n",
      "лешний --- летний --- ['лишний']\n",
      "орта --- сорта --- ['аорта']\n",
      "вент --- сент --- ['вена']\n",
      "палый --- малый --- ['полый']\n",
      "пирикард --- пирикард --- ['перикард']\n",
      "метральный --- центральный --- ['митральный']\n",
      "кордиолог --- кордиолог --- ['кардиолог']\n",
      "акенезия --- акенезия --- ['акинезия']\n",
      "апекальный --- печальный --- ['апикальный']\n",
      "вес --- вес --- ['весь']\n",
      "церкулярный --- церкулярный --- ['циркулярный']\n",
      "сридиный --- средины --- ['срединный']\n",
      "калапаный --- клапаны --- ['клапанный']\n",
      "перекард --- перепад --- ['перикард']\n",
      "праксимальный --- максимальный --- ['проксимальный']\n",
      "аслажнение --- наслаждение --- ['осложнение']\n",
      "гепертонический --- гипертонической --- ['гипертонический']\n",
      "болезн --- болезни --- ['болезнь']\n",
      "одоптировать --- одоптировать --- ['адаптировать']\n",
      "получять --- получить --- ['получать']\n",
      "пребование --- требование --- ['пребывание']\n",
      "пункцыя --- функция --- ['пункция']\n",
      "шнут --- шут --- ['шунт']\n",
      "шнутирование --- шнутирование --- ['шунтирование']\n",
      "готчина --- вотчина --- ['гатчина']\n",
      "эхэ --- эх --- ['эхо']\n",
      "каранарный --- каранарный --- ['коронарный']\n",
      "стинос --- стихов --- ['стеноз']\n",
      "гаспиализировать --- гаспиализировать --- ['госпитализировать']\n",
      "стинакардия --- стинакардия --- ['стенокардия']\n",
      "пиринести --- принести --- ['перенести']\n",
      "дальнейшый --- дальнейшей --- ['дальнейший']\n",
      "хроническаянедостаточность --- хроническаянедостаточность --- ['хроническая недостаточность', 'хронический недостаточность']\n",
      "инфарктмиокарда --- инфарктмиокарда --- ['инфаркт миокарда', 'инфаркт миокард']\n",
      "отузла --- отдела --- ['от узла', 'от узел']\n",
      "нарушениеработы --- нарушениеработы --- ['нарушение работы', 'нарушение работа']\n",
      "вминуту --- минуту --- ['в минуту', 'в минута', 'минута']\n",
      "эндокриннойсистемы --- эндокриннойсистемы --- ['эндокринная система', 'эндокринный система']\n",
      "сердечныйритм --- сердечныйритм --- ['сердечный ритм']\n",
      "узловаятахикардия --- узловаятахикардия --- ['узловая тахикардия', 'узловой тахикардия']\n",
      "основныефакторы --- основныефакторы --- ['основной фактор', 'основные факторы']\n",
      "остановкасердца --- остановкасердца --- ['остановка сердца', 'остановка сердце']\n",
      "фибрилляцияжелудочков --- фибрилляцияжелудочков --- ['фибрилляция желудочков', 'фибрилляция желудочек']\n",
      "счастотой --- частотой --- ['с частотой', 'с частота', 'частота']\n",
      "Right corrected words count - 85 of 200 total\n"
     ]
    },
    {
     "name": "stderr",
     "output_type": "stream",
     "text": [
      "100%|██████████| 200/200 [00:00<00:00, 22745.68it/s]"
     ]
    },
    {
     "name": "stdout",
     "output_type": "stream",
     "text": [
      "Lexical precision\n",
      "original_word_list --- corrected_word\n",
      "предсердие --- предсердия\n",
      "проксимальный --- проксимальной\n",
      "трафик --- график\n",
      "проникающий --- проникающих\n",
      "визуализация --- визуализации\n",
      "соустье --- счастье\n",
      "ноющий --- общий\n",
      "укоротить --- укротить\n",
      "госпитализация --- госпитализации\n",
      "дексон --- диксон\n",
      "систолический --- исторический\n",
      "равнозначный --- равнозначны\n",
      "ломота --- ломоть\n",
      "регистрироваться --- регистрировать\n",
      "ометать --- метать\n",
      "стихание --- стирание\n",
      "тредмил --- бредил\n",
      "ишемический --- ишемической\n",
      "купирование --- копирование\n",
      "ферритина --- феррита\n",
      "пароксизм --- марксизм\n",
      "анальгин --- аналогии\n",
      "перекосить --- переносить\n",
      "тропонин --- топоним\n",
      "сжимающее --- сжимающих\n",
      "давящий --- дающий\n",
      "мексикор --- мексики\n",
      "затёк --- затем\n",
      "непроизвольный --- произвольный\n",
      "тенорик --- теории\n",
      "гепарин --- гепарина\n",
      "предсердие --- предсердия\n",
      "фармакологический --- фармакологических\n",
      "нестабильный --- нестабильных\n",
      "соталол --- сожалел\n",
      "гепатин --- гепатит\n",
      "асцит --- акций\n",
      "стентирование --- тестирование\n",
      "незначимый --- незнакомый\n",
      "утолстить --- отомстить\n",
      "формирующийся --- формирующихся\n",
      "срабатывать --- обрабатывать\n",
      "отечь --- отеч\n",
      "трепетание --- трепетали\n",
      "Right corrected words count - 156 of 200 total\n"
     ]
    },
    {
     "name": "stderr",
     "output_type": "stream",
     "text": [
      "\n"
     ]
    },
    {
     "data": {
      "text/plain": "{'words_per_second': 15151.87442990418,\n 'error_precision': 0.425,\n 'lexical_precision': 0.78,\n 'overall_precision': 0.6025}"
     },
     "execution_count": 7,
     "metadata": {},
     "output_type": "execute_result"
    }
   ],
   "source": [
    "test_symspell_py_lookup_result = metric_test_without_context.compute_all_metrics(\n",
    "    lambda x: test_symspell_py_lookup(basic_frequency_dict, x),\n",
    "    lambda x: test_symspell_py_lookup(basic_frequency_dict, x)\n",
    ")\n",
    "\n",
    "test_symspell_py_lookup_result"
   ],
   "metadata": {
    "collapsed": false,
    "pycharm": {
     "name": "#%%\n"
    }
   }
  },
  {
   "cell_type": "code",
   "execution_count": 8,
   "outputs": [],
   "source": [
    "def test_symspell_py_lookup_compound(frequency_dict_path, input_word_list):\n",
    "    sym_spell_py = SymSpell()\n",
    "    sym_spell_py.load_dictionary(frequency_dict_path, 0, 1, encoding=\"UTF8\")\n",
    "\n",
    "    result = []\n",
    "    timer = tqdm(input_word_list)\n",
    "    for word in timer:\n",
    "        suggestions = sym_spell_py.lookup_compound(word, max_edit_distance=2)\n",
    "        result.append(suggestions[0].term)\n",
    "    return {\"elapsed\" : timer.format_dict[\"elapsed\"], \"corrected_word_list\" : result}"
   ],
   "metadata": {
    "collapsed": false,
    "pycharm": {
     "name": "#%%\n"
    }
   }
  },
  {
   "cell_type": "code",
   "execution_count": 9,
   "metadata": {
    "pycharm": {
     "name": "#%%\n"
    }
   },
   "outputs": [
    {
     "name": "stderr",
     "output_type": "stream",
     "text": [
      "100%|██████████| 200/200 [00:00<00:00, 658.14it/s]\n"
     ]
    },
    {
     "name": "stdout",
     "output_type": "stream",
     "text": [
      "Error precision\n",
      "original_word_list --- corrected_word --- answer_word_list\n",
      "эктренном --- коренном --- ['экстренном', 'экстренный', 'экстренно']\n",
      "синусовго --- синус его --- ['синусового', 'синусовый']\n",
      "шнутография --- и фотография --- ['шунтография']\n",
      "сникопальных --- они локальных --- ['синкопальных', 'синкопальный']\n",
      "посление --- последние --- ['поселение', 'последний']\n",
      "ходавый --- ход вый --- ['ходовый']\n",
      "сентированный --- центров данный --- ['стентированный']\n",
      "стентированеим --- стен титрованием --- ['стентированием', 'стентирование']\n",
      "кардиол --- кардинал --- ['кардиолог,кардиологический']\n",
      "догосптальном --- до остальном --- ['догоспитальном', 'догоспитальный']\n",
      "миним --- синим --- ['минимум', 'минимальный']\n",
      "субфебриллитет --- себе бриллиант --- ['субфебрилитет']\n",
      "загрудиные --- за рудные --- ['загрудинные', 'загрудинный']\n",
      "оклюзия --- иллюзия --- ['окклюзия']\n",
      "эпидральный --- и идеальный --- ['эпидуральный']\n",
      "нижн --- ниже --- ['нижний']\n",
      "неустанвленный --- не установленный --- ['неустановленный']\n",
      "госптализирован --- госпитали мировая --- ['госпитализирован']\n",
      "госпитализирова --- госпитали кирова --- ['госпитализирован']\n",
      "рентг --- ренты --- ['рентген']\n",
      "троботическая --- ты оптическая --- ['тромботическая', 'тромботический']\n",
      "многосоудистое --- много сосудистой --- ['многососудистое', 'многососудистый']\n",
      "дискмфорт --- диск форт --- ['дискомфорт']\n",
      "потлтвостью --- после костью --- ['потливостью', 'потливость']\n",
      "ангинозныеболи --- ангинозныеболи --- ['ангинозные боли', 'ангиозный боль']\n",
      "догоситальном --- до остальном --- ['догоспитальном', 'догоспитальный']\n",
      "ввполнен --- вполне --- ['выполнен']\n",
      "октазалась --- оказалась --- ['отказалась', 'отказался']\n",
      "линика --- лирика --- ['клиника']\n",
      "проведеной --- проведено --- ['проведенной']\n",
      "обтилась --- осталась --- ['обратилась', 'обогатить']\n",
      "атерокслеротичсекая --- атеросклероз этическая --- ['атеросклеротическая', 'атеросклеротический']\n",
      "назначаля --- назначали --- ['назначался', 'назначать']\n",
      "беспакоют --- беспокоит --- ['беспокоят', 'беспокоить']\n",
      "гипертензи --- гипертензии --- ['гипертензия']\n",
      "болезн --- болезни --- ['болезнь']\n",
      "стенокардаа --- стенок рада --- ['стенокардия']\n",
      "продолжалсь --- продолжалось --- ['продолжалась', 'продолжать']\n",
      "ангигнозного --- ан грозного --- ['ангинозного', 'ангинозный']\n",
      "поддерживающией --- поддерживающие --- ['поддерживающий']\n",
      "межлопаточнй --- меж лопатой --- ['межлопаточный']\n",
      "дискофморта --- диском рта --- ['дискомфорт']\n",
      "импалнтирован --- импалнтирован --- ['имплантирован', 'имплантировать']\n",
      "неочетливая --- не отчетливая --- ['неотчетливая', 'неотчетливый']\n",
      "обесвеченный --- обеспеченных --- ['обесцвеченный', 'обеспеченный']\n",
      "лергия --- сергия --- ['аллергия']\n",
      "ука --- ука --- ['рука']\n",
      "изжга --- из га --- ['изжога']\n",
      "жение --- жене --- ['жжение']\n",
      "кашел --- нашел --- ['кашель']\n",
      "нпреносимость --- перенос иметь --- ['непереносимость']\n",
      "амупула --- ампулы --- ['ампула']\n",
      "гел --- дел --- ['гель']\n",
      "рилиф --- или --- ['релиф']\n",
      "чссс --- ссср --- ['ЧСС', 'чсс']\n",
      "фибриляция --- физ милиция --- ['фибрилляция']\n",
      "желдочек --- же точек --- ['желудочек']\n",
      "хрон --- крон --- ['хронический']\n",
      "гиподин --- господин --- ['гиподинамический']\n",
      "нерный --- черный --- ['нервный']\n",
      "сист --- сист --- ['система']\n",
      "гипоксмия --- гипоксии --- ['гипоксемия']\n",
      "ледокоин --- ледокол --- ['лидокаин']\n",
      "блокато --- блока о --- ['блокатор']\n",
      "тахкардия --- такая для --- ['тахикардия']\n",
      "малоинвозивный --- малины наивный --- ['малоинвазивный']\n",
      "алация --- акация --- ['аблация', 'абляция']\n",
      "гастрапластика --- астра пластика --- ['гастропластика']\n",
      "вс --- в --- ['вес']\n",
      "лешний --- летний --- ['лишний']\n",
      "орта --- сорта --- ['аорта']\n",
      "вент --- сент --- ['вена']\n",
      "палый --- малый --- ['полый']\n",
      "пирикард --- пи ричард --- ['перикард']\n",
      "метральный --- центральный --- ['митральный']\n",
      "кордиолог --- ко диалог --- ['кардиолог']\n",
      "акенезия --- арене и --- ['акинезия']\n",
      "апекальный --- печальный --- ['апикальный']\n",
      "вес --- вес --- ['весь']\n",
      "церкулярный --- и регулярный --- ['циркулярный']\n",
      "сридиный --- средины --- ['срединный']\n",
      "калапаный --- клапаны --- ['клапанный']\n",
      "перекард --- перепад --- ['перикард']\n",
      "праксимальный --- максимальный --- ['проксимальный']\n",
      "аслажнение --- наслаждение --- ['осложнение']\n",
      "гепертонический --- гипертонической --- ['гипертонический']\n",
      "болезн --- болезни --- ['болезнь']\n",
      "одоптировать --- о датировать --- ['адаптировать']\n",
      "получять --- получить --- ['получать']\n",
      "пребование --- требование --- ['пребывание']\n",
      "пункцыя --- функция --- ['пункция']\n",
      "шнут --- шут --- ['шунт']\n",
      "шнутирование --- и цитирование --- ['шунтирование']\n",
      "готчина --- вотчина --- ['гатчина']\n",
      "эхэ --- эх --- ['эхо']\n",
      "каранарный --- кара парный --- ['коронарный']\n",
      "стинос --- стихов --- ['стеноз']\n",
      "гаспиализировать --- нас анализировать --- ['госпитализировать']\n",
      "стинакардия --- истина партия --- ['стенокардия']\n",
      "пиринести --- принести --- ['перенести']\n",
      "дальнейшый --- дальнейшей --- ['дальнейший']\n",
      "отузла --- от зла --- ['от узла', 'от узел']\n",
      "вминуту --- минуту --- ['в минуту', 'в минута', 'минута']\n",
      "эндокриннойсистемы --- эндокринной системы --- ['эндокринная система', 'эндокринный система']\n",
      "узловаятахикардия --- узловаятахикардия --- ['узловая тахикардия', 'узловой тахикардия']\n",
      "фибрилляцияжелудочков --- фибрилляцияжелудочков --- ['фибрилляция желудочков', 'фибрилляция желудочек']\n",
      "счастотой --- частотой --- ['с частотой', 'с частота', 'частота']\n",
      "Right corrected words count - 93 of 200 total\n"
     ]
    },
    {
     "name": "stderr",
     "output_type": "stream",
     "text": [
      "100%|██████████| 200/200 [00:00<00:00, 1192.26it/s]"
     ]
    },
    {
     "name": "stdout",
     "output_type": "stream",
     "text": [
      "Lexical precision\n",
      "original_word_list --- corrected_word\n",
      "нитропрепарат --- нит препарат\n",
      "предсердие --- предсердия\n",
      "мелкопузырчатый --- мелкому зубчатый\n",
      "госпитализировать --- госпитали зимовать\n",
      "фтизиатр --- эти знать\n",
      "проксимальный --- проксимальной\n",
      "рецидивировать --- рецидив кровать\n",
      "одномоментный --- одном местный\n",
      "трафик --- график\n",
      "окклюзия --- к ключи\n",
      "аторвастатин --- автор кстати\n",
      "проникающий --- проникающих\n",
      "диафрагмальный --- диафрагма юный\n",
      "реваскуляризация --- рева секуляризации\n",
      "визуализация --- визуализации\n",
      "неселективный --- не селективной\n",
      "септопластика --- сент пластика\n",
      "соустье --- с устье\n",
      "ноющий --- общий\n",
      "укоротить --- укротить\n",
      "госпитализация --- госпитализации\n",
      "дексон --- диксон\n",
      "систолический --- исторический\n",
      "верхушечно-перегородочный --- верхушек о перед порядочный\n",
      "равнозначный --- равнозначны\n",
      "гипотиазид --- гипотеза и\n",
      "ломота --- ломоть\n",
      "гемостатический --- гем статический\n",
      "купировавшийся --- купил родившийся\n",
      "пульсирующий --- пуль верующий\n",
      "регистрироваться --- регистрировать я\n",
      "лимитирование --- ли цитирование\n",
      "ометать --- метать\n",
      "стихание --- стирание\n",
      "вазопрессорный --- вазы просторный\n",
      "тредмил --- бредил\n",
      "гипопноэ --- и полной\n",
      "тромбофлебит --- громко лежит\n",
      "ишемический --- ишемической\n",
      "купирование --- копирование\n",
      "пунктировать --- пункт пировать\n",
      "ферритина --- феррит на\n",
      "гастропротективный --- часто продуктивный\n",
      "пароксизм --- марксизм\n",
      "анальгин --- аналогии\n",
      "креатинкиназа --- крестик канала\n",
      "глибомёт --- грибом и\n",
      "лобэктомия --- лоб экономия\n",
      "перекосить --- переносить\n",
      "тропонин --- топоним\n",
      "сжимающее --- сжимающих\n",
      "давящий --- дающий\n",
      "нифедипин --- ниже диких\n",
      "мексикор --- мексики\n",
      "мезентериальный --- без материальный\n",
      "дискомфорт --- диском форт\n",
      "затёк --- затем\n",
      "непроизвольный --- не произвольный\n",
      "тенорик --- тенор к\n",
      "гепарин --- гепарина\n",
      "предсердие --- предсердия\n",
      "диурез --- и рез\n",
      "микропрепарат --- мир препарат\n",
      "аторвастатин --- автор кстати\n",
      "гипотензия --- гипотезы и\n",
      "мононуклеар --- можно уклад\n",
      "фармакологический --- фармакологических\n",
      "нестабильный --- нестабильных\n",
      "мертенил --- мер тени\n",
      "тахикардия --- так армия\n",
      "контрпульсатор --- контур пульсаров\n",
      "соталол --- сожалел\n",
      "кардиомегалия --- каждом калия\n",
      "аутовенозный --- актов новый\n",
      "гепатин --- гепатит\n",
      "рецидивировать --- рецидив кровать\n",
      "асцит --- акций\n",
      "стенокардия --- стенок армия\n",
      "лимфодиссекция --- лимфы дирекция\n",
      "стентирование --- тестирование\n",
      "незначимый --- не значимый\n",
      "задненижний --- зад нижний\n",
      "утолстить --- отомстить\n",
      "аускультативный --- мускулы активный\n",
      "сывороточный --- створ точный\n",
      "формирующийся --- формирующихся\n",
      "карведилол --- кара единой\n",
      "срабатывать --- обрабатывать\n",
      "компрометация --- котором станция\n",
      "нижнебоковой --- нижне боковой\n",
      "отечь --- отеч\n",
      "трепетание --- трепетали\n",
      "Right corrected words count - 108 of 200 total\n"
     ]
    },
    {
     "name": "stderr",
     "output_type": "stream",
     "text": [
      "\n"
     ]
    },
    {
     "data": {
      "text/plain": "{'words_per_second': 846.4680079877862,\n 'error_precision': 0.465,\n 'lexical_precision': 0.54,\n 'overall_precision': 0.5025000000000001}"
     },
     "execution_count": 9,
     "metadata": {},
     "output_type": "execute_result"
    }
   ],
   "source": [
    "test_symspell_py_lookup_compound_result = metric_test_without_context.compute_all_metrics(\n",
    "    lambda x: test_symspell_py_lookup_compound(basic_frequency_dict, x),\n",
    "    lambda x: test_symspell_py_lookup_compound(basic_frequency_dict, x)\n",
    ")\n",
    "\n",
    "test_symspell_py_lookup_compound_result"
   ]
  },
  {
   "cell_type": "markdown",
   "source": [
    "# Test SymSpellCppPy - https://github.com/viig99/SymSpellCppPy"
   ],
   "metadata": {
    "collapsed": false,
    "pycharm": {
     "name": "#%% md\n"
    }
   }
  },
  {
   "cell_type": "code",
   "execution_count": 10,
   "outputs": [
    {
     "name": "stdout",
     "output_type": "stream",
     "text": [
      "Requirement already satisfied: wheel in /home/Dmitry.Pogrebnoy/Desktop/MedSpellChecker/venv/lib/python3.9/site-packages (0.36.2)\r\n",
      "Requirement already satisfied: setuptools in /home/Dmitry.Pogrebnoy/Desktop/MedSpellChecker/venv/lib/python3.9/site-packages (57.0.0)\r\n"
     ]
    }
   ],
   "source": [
    "!pip install wheel setuptools"
   ],
   "metadata": {
    "collapsed": false,
    "pycharm": {
     "name": "#%%\n"
    }
   }
  },
  {
   "cell_type": "code",
   "execution_count": 11,
   "outputs": [
    {
     "name": "stdout",
     "output_type": "stream",
     "text": [
      "Collecting SymSpellCppPy\r\n",
      "  Using cached SymSpellCppPy-0.0.14.tar.gz (5.4 MB)\r\n",
      "  Preparing metadata (setup.py) ... \u001B[?25ldone\r\n",
      "\u001B[?25hBuilding wheels for collected packages: SymSpellCppPy\r\n",
      "  Building wheel for SymSpellCppPy (setup.py) ... \u001B[?25lerror\r\n",
      "  \u001B[1;31merror\u001B[0m: \u001B[1msubprocess-exited-with-error\u001B[0m\r\n",
      "  \r\n",
      "  \u001B[31m×\u001B[0m \u001B[32mpython setup.py bdist_wheel\u001B[0m did not run successfully.\r\n",
      "  \u001B[31m│\u001B[0m exit code: \u001B[1;36m1\u001B[0m\r\n",
      "  \u001B[31m╰─>\u001B[0m \u001B[31m[46 lines of output]\u001B[0m\r\n",
      "  \u001B[31m   \u001B[0m running bdist_wheel\r\n",
      "  \u001B[31m   \u001B[0m running build\r\n",
      "  \u001B[31m   \u001B[0m running build_ext\r\n",
      "  \u001B[31m   \u001B[0m Traceback (most recent call last):\r\n",
      "  \u001B[31m   \u001B[0m   File \"/tmp/pip-install-q2gygisc/symspellcpppy_b8cb09879f0b48229cf44530453e6187/setup.py\", line 29, in run\r\n",
      "  \u001B[31m   \u001B[0m     out = subprocess.check_output(['cmake', '--version'])\r\n",
      "  \u001B[31m   \u001B[0m   File \"/usr/lib/python3.9/subprocess.py\", line 424, in check_output\r\n",
      "  \u001B[31m   \u001B[0m     return run(*popenargs, stdout=PIPE, timeout=timeout, check=True,\r\n",
      "  \u001B[31m   \u001B[0m   File \"/usr/lib/python3.9/subprocess.py\", line 505, in run\r\n",
      "  \u001B[31m   \u001B[0m     with Popen(*popenargs, **kwargs) as process:\r\n",
      "  \u001B[31m   \u001B[0m   File \"/usr/lib/python3.9/subprocess.py\", line 951, in __init__\r\n",
      "  \u001B[31m   \u001B[0m     self._execute_child(args, executable, preexec_fn, close_fds,\r\n",
      "  \u001B[31m   \u001B[0m   File \"/usr/lib/python3.9/subprocess.py\", line 1821, in _execute_child\r\n",
      "  \u001B[31m   \u001B[0m     raise child_exception_type(errno_num, err_msg, err_filename)\r\n",
      "  \u001B[31m   \u001B[0m FileNotFoundError: [Errno 2] No such file or directory: 'cmake'\r\n",
      "  \u001B[31m   \u001B[0m \r\n",
      "  \u001B[31m   \u001B[0m During handling of the above exception, another exception occurred:\r\n",
      "  \u001B[31m   \u001B[0m \r\n",
      "  \u001B[31m   \u001B[0m Traceback (most recent call last):\r\n",
      "  \u001B[31m   \u001B[0m   File \"<string>\", line 2, in <module>\r\n",
      "  \u001B[31m   \u001B[0m   File \"<pip-setuptools-caller>\", line 34, in <module>\r\n",
      "  \u001B[31m   \u001B[0m   File \"/tmp/pip-install-q2gygisc/symspellcpppy_b8cb09879f0b48229cf44530453e6187/setup.py\", line 79, in <module>\r\n",
      "  \u001B[31m   \u001B[0m     setup(\r\n",
      "  \u001B[31m   \u001B[0m   File \"/home/Dmitry.Pogrebnoy/Desktop/MedSpellChecker/venv/lib/python3.9/site-packages/setuptools/__init__.py\", line 153, in setup\r\n",
      "  \u001B[31m   \u001B[0m     return distutils.core.setup(**attrs)\r\n",
      "  \u001B[31m   \u001B[0m   File \"/usr/lib/python3.9/distutils/core.py\", line 148, in setup\r\n",
      "  \u001B[31m   \u001B[0m     dist.run_commands()\r\n",
      "  \u001B[31m   \u001B[0m   File \"/usr/lib/python3.9/distutils/dist.py\", line 966, in run_commands\r\n",
      "  \u001B[31m   \u001B[0m     self.run_command(cmd)\r\n",
      "  \u001B[31m   \u001B[0m   File \"/usr/lib/python3.9/distutils/dist.py\", line 985, in run_command\r\n",
      "  \u001B[31m   \u001B[0m     cmd_obj.run()\r\n",
      "  \u001B[31m   \u001B[0m   File \"/home/Dmitry.Pogrebnoy/Desktop/MedSpellChecker/venv/lib/python3.9/site-packages/wheel/bdist_wheel.py\", line 299, in run\r\n",
      "  \u001B[31m   \u001B[0m     self.run_command('build')\r\n",
      "  \u001B[31m   \u001B[0m   File \"/usr/lib/python3.9/distutils/cmd.py\", line 313, in run_command\r\n",
      "  \u001B[31m   \u001B[0m     self.distribution.run_command(command)\r\n",
      "  \u001B[31m   \u001B[0m   File \"/usr/lib/python3.9/distutils/dist.py\", line 985, in run_command\r\n",
      "  \u001B[31m   \u001B[0m     cmd_obj.run()\r\n",
      "  \u001B[31m   \u001B[0m   File \"/usr/lib/python3.9/distutils/command/build.py\", line 135, in run\r\n",
      "  \u001B[31m   \u001B[0m     self.run_command(cmd_name)\r\n",
      "  \u001B[31m   \u001B[0m   File \"/usr/lib/python3.9/distutils/cmd.py\", line 313, in run_command\r\n",
      "  \u001B[31m   \u001B[0m     self.distribution.run_command(command)\r\n",
      "  \u001B[31m   \u001B[0m   File \"/usr/lib/python3.9/distutils/dist.py\", line 985, in run_command\r\n",
      "  \u001B[31m   \u001B[0m     cmd_obj.run()\r\n",
      "  \u001B[31m   \u001B[0m   File \"/tmp/pip-install-q2gygisc/symspellcpppy_b8cb09879f0b48229cf44530453e6187/setup.py\", line 31, in run\r\n",
      "  \u001B[31m   \u001B[0m     raise RuntimeError(\"CMake must be installed to build the following extensions: \" +\r\n",
      "  \u001B[31m   \u001B[0m RuntimeError: CMake must be installed to build the following extensions: SymSpellCppPy\r\n",
      "  \u001B[31m   \u001B[0m \u001B[31m[end of output]\u001B[0m\r\n",
      "  \r\n",
      "  \u001B[1;35mnote\u001B[0m: This error originates from a subprocess, and is likely not a problem with pip.\r\n",
      "\u001B[31m  ERROR: Failed building wheel for SymSpellCppPy\u001B[0m\u001B[31m\r\n",
      "\u001B[0m\u001B[?25h  Running setup.py clean for SymSpellCppPy\r\n",
      "Failed to build SymSpellCppPy\r\n",
      "Installing collected packages: SymSpellCppPy\r\n",
      "  Running setup.py install for SymSpellCppPy ... \u001B[?25lerror\r\n",
      "  \u001B[1;31merror\u001B[0m: \u001B[1msubprocess-exited-with-error\u001B[0m\r\n",
      "  \r\n",
      "  \u001B[31m×\u001B[0m \u001B[32mRunning setup.py install for SymSpellCppPy\u001B[0m did not run successfully.\r\n",
      "  \u001B[31m│\u001B[0m exit code: \u001B[1;36m1\u001B[0m\r\n",
      "  \u001B[31m╰─>\u001B[0m \u001B[31m[48 lines of output]\u001B[0m\r\n",
      "  \u001B[31m   \u001B[0m running install\r\n",
      "  \u001B[31m   \u001B[0m running build\r\n",
      "  \u001B[31m   \u001B[0m running build_ext\r\n",
      "  \u001B[31m   \u001B[0m Traceback (most recent call last):\r\n",
      "  \u001B[31m   \u001B[0m   File \"/tmp/pip-install-q2gygisc/symspellcpppy_b8cb09879f0b48229cf44530453e6187/setup.py\", line 29, in run\r\n",
      "  \u001B[31m   \u001B[0m     out = subprocess.check_output(['cmake', '--version'])\r\n",
      "  \u001B[31m   \u001B[0m   File \"/usr/lib/python3.9/subprocess.py\", line 424, in check_output\r\n",
      "  \u001B[31m   \u001B[0m     return run(*popenargs, stdout=PIPE, timeout=timeout, check=True,\r\n",
      "  \u001B[31m   \u001B[0m   File \"/usr/lib/python3.9/subprocess.py\", line 505, in run\r\n",
      "  \u001B[31m   \u001B[0m     with Popen(*popenargs, **kwargs) as process:\r\n",
      "  \u001B[31m   \u001B[0m   File \"/usr/lib/python3.9/subprocess.py\", line 951, in __init__\r\n",
      "  \u001B[31m   \u001B[0m     self._execute_child(args, executable, preexec_fn, close_fds,\r\n",
      "  \u001B[31m   \u001B[0m   File \"/usr/lib/python3.9/subprocess.py\", line 1821, in _execute_child\r\n",
      "  \u001B[31m   \u001B[0m     raise child_exception_type(errno_num, err_msg, err_filename)\r\n",
      "  \u001B[31m   \u001B[0m FileNotFoundError: [Errno 2] No such file or directory: 'cmake'\r\n",
      "  \u001B[31m   \u001B[0m \r\n",
      "  \u001B[31m   \u001B[0m During handling of the above exception, another exception occurred:\r\n",
      "  \u001B[31m   \u001B[0m \r\n",
      "  \u001B[31m   \u001B[0m Traceback (most recent call last):\r\n",
      "  \u001B[31m   \u001B[0m   File \"<string>\", line 2, in <module>\r\n",
      "  \u001B[31m   \u001B[0m   File \"<pip-setuptools-caller>\", line 34, in <module>\r\n",
      "  \u001B[31m   \u001B[0m   File \"/tmp/pip-install-q2gygisc/symspellcpppy_b8cb09879f0b48229cf44530453e6187/setup.py\", line 79, in <module>\r\n",
      "  \u001B[31m   \u001B[0m     setup(\r\n",
      "  \u001B[31m   \u001B[0m   File \"/home/Dmitry.Pogrebnoy/Desktop/MedSpellChecker/venv/lib/python3.9/site-packages/setuptools/__init__.py\", line 153, in setup\r\n",
      "  \u001B[31m   \u001B[0m     return distutils.core.setup(**attrs)\r\n",
      "  \u001B[31m   \u001B[0m   File \"/usr/lib/python3.9/distutils/core.py\", line 148, in setup\r\n",
      "  \u001B[31m   \u001B[0m     dist.run_commands()\r\n",
      "  \u001B[31m   \u001B[0m   File \"/usr/lib/python3.9/distutils/dist.py\", line 966, in run_commands\r\n",
      "  \u001B[31m   \u001B[0m     self.run_command(cmd)\r\n",
      "  \u001B[31m   \u001B[0m   File \"/usr/lib/python3.9/distutils/dist.py\", line 985, in run_command\r\n",
      "  \u001B[31m   \u001B[0m     cmd_obj.run()\r\n",
      "  \u001B[31m   \u001B[0m   File \"/home/Dmitry.Pogrebnoy/Desktop/MedSpellChecker/venv/lib/python3.9/site-packages/setuptools/command/install.py\", line 61, in run\r\n",
      "  \u001B[31m   \u001B[0m     return orig.install.run(self)\r\n",
      "  \u001B[31m   \u001B[0m   File \"/usr/lib/python3.9/distutils/command/install.py\", line 590, in run\r\n",
      "  \u001B[31m   \u001B[0m     self.run_command('build')\r\n",
      "  \u001B[31m   \u001B[0m   File \"/usr/lib/python3.9/distutils/cmd.py\", line 313, in run_command\r\n",
      "  \u001B[31m   \u001B[0m     self.distribution.run_command(command)\r\n",
      "  \u001B[31m   \u001B[0m   File \"/usr/lib/python3.9/distutils/dist.py\", line 985, in run_command\r\n",
      "  \u001B[31m   \u001B[0m     cmd_obj.run()\r\n",
      "  \u001B[31m   \u001B[0m   File \"/usr/lib/python3.9/distutils/command/build.py\", line 135, in run\r\n",
      "  \u001B[31m   \u001B[0m     self.run_command(cmd_name)\r\n",
      "  \u001B[31m   \u001B[0m   File \"/usr/lib/python3.9/distutils/cmd.py\", line 313, in run_command\r\n",
      "  \u001B[31m   \u001B[0m     self.distribution.run_command(command)\r\n",
      "  \u001B[31m   \u001B[0m   File \"/usr/lib/python3.9/distutils/dist.py\", line 985, in run_command\r\n",
      "  \u001B[31m   \u001B[0m     cmd_obj.run()\r\n",
      "  \u001B[31m   \u001B[0m   File \"/tmp/pip-install-q2gygisc/symspellcpppy_b8cb09879f0b48229cf44530453e6187/setup.py\", line 31, in run\r\n",
      "  \u001B[31m   \u001B[0m     raise RuntimeError(\"CMake must be installed to build the following extensions: \" +\r\n",
      "  \u001B[31m   \u001B[0m RuntimeError: CMake must be installed to build the following extensions: SymSpellCppPy\r\n",
      "  \u001B[31m   \u001B[0m \u001B[31m[end of output]\u001B[0m\r\n",
      "  \r\n",
      "  \u001B[1;35mnote\u001B[0m: This error originates from a subprocess, and is likely not a problem with pip.\r\n",
      "\u001B[1;31merror\u001B[0m: \u001B[1mlegacy-install-failure\u001B[0m\r\n",
      "\r\n",
      "\u001B[31m×\u001B[0m Encountered error while trying to install package.\r\n",
      "\u001B[31m╰─>\u001B[0m SymSpellCppPy\r\n",
      "\r\n",
      "\u001B[1;35mnote\u001B[0m: This is an issue with the package mentioned above, not pip.\r\n",
      "\u001B[1;36mhint\u001B[0m: See above for output from the failure.\r\n",
      "\u001B[?25h"
     ]
    }
   ],
   "source": [
    "!pip install --upgrade SymSpellCppPy"
   ],
   "metadata": {
    "collapsed": false,
    "pycharm": {
     "name": "#%%\n"
    }
   }
  },
  {
   "cell_type": "markdown",
   "source": [
    "There was a problem with installing the package. It is still unclear what the reason is. However, this spellchecker should not provide more accuracy, only higher speed since it is implemented in C++. However, the speed of the Python implementation is still enough at this stage.  So I decided to leave it here for now and come back if there is a need for more speed."
   ],
   "metadata": {
    "collapsed": false,
    "pycharm": {
     "name": "#%% md\n"
    }
   }
  },
  {
   "cell_type": "markdown",
   "source": [
    "# Test JumSpell - https://github.com/bakwc/JamSpell"
   ],
   "metadata": {
    "collapsed": false,
    "pycharm": {
     "name": "#%% md\n"
    }
   }
  },
  {
   "cell_type": "markdown",
   "source": [
    "#### Attention No Windows 10 support!"
   ],
   "metadata": {
    "collapsed": false,
    "pycharm": {
     "name": "#%% md\n"
    }
   }
  },
  {
   "cell_type": "markdown",
   "source": [
    "Not working with compound words"
   ],
   "metadata": {
    "collapsed": false,
    "pycharm": {
     "name": "#%% md\n"
    }
   }
  },
  {
   "cell_type": "code",
   "execution_count": 12,
   "outputs": [
    {
     "name": "stdout",
     "output_type": "stream",
     "text": [
      "Collecting jamspell\r\n",
      "  Downloading jamspell-0.0.12.tar.gz (174 kB)\r\n",
      "\u001B[2K     \u001B[90m━━━━━━━━━━━━━━━━━━━━━━━━━━━━━━━━━━━━━\u001B[0m \u001B[32m174.3/174.3 KB\u001B[0m \u001B[31m739.8 kB/s\u001B[0m eta \u001B[36m0:00:00\u001B[0ma \u001B[36m0:00:01\u001B[0m\r\n",
      "\u001B[?25h  Preparing metadata (setup.py) ... \u001B[?25ldone\r\n",
      "\u001B[?25hBuilding wheels for collected packages: jamspell\r\n",
      "  Building wheel for jamspell (setup.py) ... \u001B[?25ldone\r\n",
      "\u001B[?25h  Created wheel for jamspell: filename=jamspell-0.0.12-cp39-cp39-linux_x86_64.whl size=1903170 sha256=fbe5b86323cd7bcf64cd37c0647d35ec0327deae3e8574236972ccf4a21480c6\r\n",
      "  Stored in directory: /tmp/pip-ephem-wheel-cache-re9mnzma/wheels/fa/7e/8f/c23ae02f1556243d33cc2e3bddf98f8cc146e174e5855788b6\r\n",
      "Successfully built jamspell\r\n",
      "Installing collected packages: jamspell\r\n",
      "Successfully installed jamspell-0.0.12\r\n"
     ]
    }
   ],
   "source": [
    "!pip install -I --no-cache-dir jamspell"
   ],
   "metadata": {
    "collapsed": false,
    "pycharm": {
     "name": "#%%\n"
    }
   }
  },
  {
   "cell_type": "code",
   "execution_count": 13,
   "outputs": [
    {
     "name": "stdout",
     "output_type": "stream",
     "text": [
      "Name: jamspell\r\n",
      "Version: 0.0.12\r\n",
      "Summary: spell checker\r\n",
      "Home-page: https://github.com/bakwc/JamSpell\r\n",
      "Author: Filipp Ozinov\r\n",
      "Author-email: fippo@mail.ru\r\n",
      "License: UNKNOWN\r\n",
      "Location: /home/Dmitry.Pogrebnoy/Desktop/MedSpellChecker/venv/lib/python3.9/site-packages\r\n",
      "Requires: \r\n",
      "Required-by: \r\n"
     ]
    }
   ],
   "source": [
    "!pip show jamspell"
   ],
   "metadata": {
    "collapsed": false,
    "pycharm": {
     "name": "#%%\n"
    }
   }
  },
  {
   "cell_type": "code",
   "execution_count": 14,
   "outputs": [],
   "source": [
    "from jamspell import TSpellCorrector\n",
    "jamspell_model_lib = \"../data/other_spellcheckers/jumspell/ru_small.bin\""
   ],
   "metadata": {
    "collapsed": false,
    "pycharm": {
     "name": "#%%\n"
    }
   }
  },
  {
   "cell_type": "code",
   "execution_count": 15,
   "outputs": [],
   "source": [
    "def test_jamspell(jumspell_model_lib, input_word_list):\n",
    "    jamspell = TSpellCorrector()\n",
    "    jamspell.LoadLangModel(jumspell_model_lib)\n",
    "\n",
    "    result = []\n",
    "    timer = tqdm(input_word_list)\n",
    "    for word in timer:\n",
    "        suggestions = jamspell.FixFragment(word)\n",
    "        result.append(suggestions)\n",
    "    return  {\"elapsed\" : timer.format_dict[\"elapsed\"], \"corrected_word_list\" : result}"
   ],
   "metadata": {
    "collapsed": false,
    "pycharm": {
     "name": "#%%\n"
    }
   }
  },
  {
   "cell_type": "code",
   "execution_count": 16,
   "outputs": [
    {
     "name": "stderr",
     "output_type": "stream",
     "text": [
      "100%|██████████| 200/200 [00:00<00:00, 1495.22it/s]\n"
     ]
    },
    {
     "name": "stdout",
     "output_type": "stream",
     "text": [
      "Error precision\n",
      "original_word_list --- corrected_word --- answer_word_list\n",
      "синусовго --- синусовго --- ['синусового', 'синусовый']\n",
      "даным --- даным --- ['данным', 'данный', 'данные']\n",
      "шнутография --- шнутография --- ['шунтография']\n",
      "сникопальных --- сникопальных --- ['синкопальных', 'синкопальный']\n",
      "посление --- последние --- ['поселение', 'последний']\n",
      "ходавый --- ходовой --- ['ходовый']\n",
      "анмнезе --- анмнезе --- ['анамнезе', 'анамнез']\n",
      "сентированный --- сентированный --- ['стентированный']\n",
      "стентированеим --- стентированеим --- ['стентированием', 'стентирование']\n",
      "кардиол --- кардинал --- ['кардиолог,кардиологический']\n",
      "догосптальном --- догосптальном --- ['догоспитальном', 'догоспитальный']\n",
      "миним --- мини --- ['минимум', 'минимальный']\n",
      "субфебриллитет --- субфебриллитет --- ['субфебрилитет']\n",
      "загрудиные --- загрудиные --- ['загрудинные', 'загрудинный']\n",
      "течени --- течени --- ['течение']\n",
      "оклюзия --- иллюзия --- ['окклюзия']\n",
      "эпидральный --- эпидральный --- ['эпидуральный']\n",
      "интелектуально --- интелектуально --- ['интеллектуально', 'интеллектуальный']\n",
      "нижн --- ниже --- ['нижний']\n",
      "неустанвленный --- неустанвленный --- ['неустановленный']\n",
      "послеоперационом --- послеоперационом --- ['послеоперационном', 'послеоперационный']\n",
      "рентг --- ренты --- ['рентген']\n",
      "троботическая --- троботическая --- ['тромботическая', 'тромботический']\n",
      "многосоудистое --- многосоудистое --- ['многососудистое', 'многососудистый']\n",
      "потлтвостью --- потлтвостью --- ['потливостью', 'потливость']\n",
      "левогожелудочка --- левогожелудочка --- ['левого желудочка', 'левый желудочек']\n",
      "ангинозныеболи --- ангинозныеболи --- ['ангинозные боли', 'ангиозный боль']\n",
      "догоситальном --- догоситальном --- ['догоспитальном', 'догоспитальный']\n",
      "октазалась --- оказалась --- ['отказалась', 'отказался']\n",
      "проведеной --- проведено --- ['проведенной']\n",
      "обтилась --- обтилась --- ['обратилась', 'обогатить']\n",
      "болисохраняются --- болисохраняются --- ['боли сохраняются', 'боль сохраняется']\n",
      "частичынм --- частичынм --- ['частичным', 'частичный']\n",
      "атерокслеротичсекая --- атерокслеротичсекая --- ['атеросклеротическая', 'атеросклеротический']\n",
      "назначаля --- назначал --- ['назначался', 'назначать']\n",
      "беспакоют --- беспокоит --- ['беспокоят', 'беспокоить']\n",
      "гипертензи --- гипертензи --- ['гипертензия']\n",
      "болезн --- болезни --- ['болезнь']\n",
      "стенокардаа --- стенокардии --- ['стенокардия']\n",
      "продолжалсь --- продолжались --- ['продолжалась', 'продолжать']\n",
      "ангигнозного --- ангигнозного --- ['ангинозного', 'ангинозный']\n",
      "диагностичекой --- диагностичекой --- ['диагностической', 'диагностический']\n",
      "поддерживающией --- поддерживающие --- ['поддерживающий']\n",
      "межлопаточнй --- межлопаточнй --- ['межлопаточный']\n",
      "бедреной --- бедреной --- ['бедренной', 'бедренный']\n",
      "гшрядки --- гшрядки --- ['грядки', 'грядка']\n",
      "дискофморта --- дискофморта --- ['дискомфорт']\n",
      "импалнтирован --- импалнтирован --- ['имплантирован', 'имплантировать']\n",
      "неочетливая --- неочетливая --- ['неотчетливая', 'неотчетливый']\n",
      "обесвеченный --- обесвеченный --- ['обесцвеченный', 'обеспеченный']\n",
      "серце --- серце --- ['сердце']\n",
      "лергия --- сергия --- ['аллергия']\n",
      "ука --- ука --- ['рука']\n",
      "изжга --- игра --- ['изжога']\n",
      "жение --- жене --- ['жжение']\n",
      "кашел --- нашел --- ['кашель']\n",
      "нпреносимость --- нпреносимость --- ['непереносимость']\n",
      "амупула --- амупула --- ['ампула']\n",
      "гел --- дел --- ['гель']\n",
      "конценрат --- конценрат --- ['концентрат']\n",
      "рилиф --- рилиф --- ['релиф']\n",
      "чссс --- чсср --- ['ЧСС', 'чсс']\n",
      "фибриляция --- фибриляция --- ['фибрилляция']\n",
      "желдочек --- желдочек --- ['желудочек']\n",
      "хрон --- хрон --- ['хронический']\n",
      "гиподин --- господин --- ['гиподинамический']\n",
      "нерный --- черный --- ['нервный']\n",
      "сист --- лист --- ['система']\n",
      "гипоксмия --- гипоксмия --- ['гипоксемия']\n",
      "ледокоин --- левочкин --- ['лидокаин']\n",
      "блокато --- блока --- ['блокатор']\n",
      "тахкардия --- тахкардия --- ['тахикардия']\n",
      "малоинвозивный --- малоинвозивный --- ['малоинвазивный']\n",
      "алация --- алания --- ['аблация', 'абляция']\n",
      "гастрапластика --- гастрапластика --- ['гастропластика']\n",
      "вс --- вс --- ['вес']\n",
      "лешний --- летний --- ['лишний']\n",
      "орта --- орта --- ['аорта']\n",
      "клапа --- клана --- ['клапан']\n",
      "вент --- сент --- ['вена']\n",
      "палый --- малый --- ['полый']\n",
      "пирикард --- рикардо --- ['перикард']\n",
      "метральный --- центральный --- ['митральный']\n",
      "ултразвук --- ултразвук --- ['ультразвук']\n",
      "акенезия --- маккензи --- ['акинезия']\n",
      "апекальный --- апекальный --- ['апикальный']\n",
      "вес --- вес --- ['весь']\n",
      "церкулярный --- церкулярный --- ['циркулярный']\n",
      "сридиный --- середины --- ['срединный']\n",
      "калапаный --- клапаны --- ['клапанный']\n",
      "перекард --- перекрыт --- ['перикард']\n",
      "праксимальный --- максимальный --- ['проксимальный']\n",
      "аслажнение --- наслаждение --- ['осложнение']\n",
      "гепертонический --- гепертонический --- ['гипертонический']\n",
      "болезн --- болезни --- ['болезнь']\n",
      "получять --- получить --- ['получать']\n",
      "пребование --- требование --- ['пребывание']\n",
      "пункцыя --- пункты --- ['пункция']\n",
      "шнут --- кнут --- ['шунт']\n",
      "шнутирование --- шнутирование --- ['шунтирование']\n",
      "готчина --- готчина --- ['гатчина']\n",
      "каранарный --- карманный --- ['коронарный']\n",
      "ортерия --- ортерия --- ['артерия']\n",
      "стинос --- сильно --- ['стеноз']\n",
      "прдшствовать --- прдшствовать --- ['предшествовать']\n",
      "стинакардия --- стинакардия --- ['стенокардия']\n",
      "пиринести --- принести --- ['перенести']\n",
      "дальнейшый --- дальнейшей --- ['дальнейший']\n",
      "хроническаянедостаточность --- хроническаянедостаточность --- ['хроническая недостаточность', 'хронический недостаточность']\n",
      "инфарктмиокарда --- инфарктмиокарда --- ['инфаркт миокарда', 'инфаркт миокард']\n",
      "отузла --- отузла --- ['от узла', 'от узел']\n",
      "нарушениеработы --- нарушениеработы --- ['нарушение работы', 'нарушение работа']\n",
      "вминуту --- минуту --- ['в минуту', 'в минута', 'минута']\n",
      "эндокриннойсистемы --- эндокриннойсистемы --- ['эндокринная система', 'эндокринный система']\n",
      "сердечныйритм --- сердечныйритм --- ['сердечный ритм']\n",
      "узловаятахикардия --- узловаятахикардия --- ['узловая тахикардия', 'узловой тахикардия']\n",
      "основныефакторы --- основныефакторы --- ['основной фактор', 'основные факторы']\n",
      "остановкасердца --- остановкасердца --- ['остановка сердца', 'остановка сердце']\n",
      "фибрилляцияжелудочков --- фибрилляцияжелудочков --- ['фибрилляция желудочков', 'фибрилляция желудочек']\n",
      "счастотой --- частотой --- ['с частотой', 'с частота', 'частота']\n",
      "Right corrected words count - 80 of 200 total\n"
     ]
    },
    {
     "name": "stderr",
     "output_type": "stream",
     "text": [
      "100%|██████████| 200/200 [00:00<00:00, 2888.59it/s]"
     ]
    },
    {
     "name": "stdout",
     "output_type": "stream",
     "text": [
      "Lexical precision\n",
      "original_word_list --- corrected_word\n",
      "соустье --- составе\n",
      "дексон --- джексон\n",
      "тредмил --- учредил\n",
      "купирование --- копирование\n",
      "перекосить --- переносить\n",
      "тропонин --- топоним\n",
      "мексикор --- мексико\n",
      "тенорик --- вторник\n",
      "мертенил --- смертник\n",
      "соталол --- стало\n",
      "незначимый --- значимый\n",
      "утолстить --- отомстить\n",
      "отечь --- отель\n",
      "Right corrected words count - 187 of 200 total\n"
     ]
    },
    {
     "name": "stderr",
     "output_type": "stream",
     "text": [
      "\n"
     ]
    },
    {
     "data": {
      "text/plain": "{'words_per_second': 1962.151099010341,\n 'error_precision': 0.4,\n 'lexical_precision': 0.935,\n 'overall_precision': 0.6675}"
     },
     "execution_count": 16,
     "metadata": {},
     "output_type": "execute_result"
    }
   ],
   "source": [
    "test_jumspell_result = metric_test_without_context.compute_all_metrics(\n",
    "    lambda x: test_jamspell(jamspell_model_lib, x),\n",
    "    lambda x: test_jamspell(jamspell_model_lib, x)\n",
    ")\n",
    "\n",
    "test_jumspell_result"
   ],
   "metadata": {
    "collapsed": false,
    "pycharm": {
     "name": "#%%\n"
    }
   }
  },
  {
   "cell_type": "markdown",
   "source": [
    "# Test Language-tool (language-tool-python) - https://github.com/jxmorris12/language_tool_python"
   ],
   "metadata": {
    "collapsed": false,
    "pycharm": {
     "name": "#%% md\n"
    }
   }
  },
  {
   "cell_type": "code",
   "execution_count": 17,
   "outputs": [
    {
     "name": "stdout",
     "output_type": "stream",
     "text": [
      "Requirement already satisfied: language-tool-python in /home/Dmitry.Pogrebnoy/Desktop/MedSpellChecker/venv/lib/python3.9/site-packages (2.7.1)\r\n",
      "Requirement already satisfied: requests in /home/Dmitry.Pogrebnoy/Desktop/MedSpellChecker/venv/lib/python3.9/site-packages (from language-tool-python) (2.27.1)\r\n",
      "Requirement already satisfied: tqdm in /home/Dmitry.Pogrebnoy/Desktop/MedSpellChecker/venv/lib/python3.9/site-packages (from language-tool-python) (4.62.3)\r\n",
      "Requirement already satisfied: idna<4,>=2.5 in /home/Dmitry.Pogrebnoy/Desktop/MedSpellChecker/venv/lib/python3.9/site-packages (from requests->language-tool-python) (3.3)\r\n",
      "Requirement already satisfied: certifi>=2017.4.17 in /home/Dmitry.Pogrebnoy/Desktop/MedSpellChecker/venv/lib/python3.9/site-packages (from requests->language-tool-python) (2021.10.8)\r\n",
      "Requirement already satisfied: urllib3<1.27,>=1.21.1 in /home/Dmitry.Pogrebnoy/Desktop/MedSpellChecker/venv/lib/python3.9/site-packages (from requests->language-tool-python) (1.26.9)\r\n",
      "Requirement already satisfied: charset-normalizer~=2.0.0 in /home/Dmitry.Pogrebnoy/Desktop/MedSpellChecker/venv/lib/python3.9/site-packages (from requests->language-tool-python) (2.0.12)\r\n"
     ]
    }
   ],
   "source": [
    "!pip install language-tool-python"
   ],
   "metadata": {
    "collapsed": false,
    "pycharm": {
     "name": "#%%\n"
    }
   }
  },
  {
   "cell_type": "code",
   "execution_count": 18,
   "outputs": [
    {
     "name": "stdout",
     "output_type": "stream",
     "text": [
      "Name: language-tool-python\r\n",
      "Version: 2.7.1\r\n",
      "Summary: Checks grammar using LanguageTool.\r\n",
      "Home-page: https://github.com/jxmorris12/language_tool_python\r\n",
      "Author: Jack Morris\r\n",
      "Author-email: jxmorris12@gmail.com\r\n",
      "License: GNU GPL\r\n",
      "Location: /home/Dmitry.Pogrebnoy/Desktop/MedSpellChecker/venv/lib/python3.9/site-packages\r\n",
      "Requires: requests, tqdm\r\n",
      "Required-by: \r\n"
     ]
    }
   ],
   "source": [
    "!pip show language-tool-python"
   ],
   "metadata": {
    "collapsed": false,
    "pycharm": {
     "name": "#%%\n"
    }
   }
  },
  {
   "cell_type": "code",
   "execution_count": 19,
   "outputs": [],
   "source": [
    "from language_tool_python import LanguageTool"
   ],
   "metadata": {
    "collapsed": false,
    "pycharm": {
     "name": "#%%\n"
    }
   }
  },
  {
   "cell_type": "code",
   "execution_count": 20,
   "outputs": [],
   "source": [
    "def test_language_tool(input_word_list):\n",
    "    tool = LanguageTool('ru')\n",
    "    result = []\n",
    "    timer = tqdm(input_word_list)\n",
    "    for word in timer:\n",
    "        suggestions = tool.correct(word)\n",
    "        result.append(suggestions)\n",
    "    return  {\"elapsed\" : timer.format_dict[\"elapsed\"], \"corrected_word_list\" : result}"
   ],
   "metadata": {
    "collapsed": false,
    "pycharm": {
     "name": "#%%\n"
    }
   }
  },
  {
   "cell_type": "code",
   "execution_count": 21,
   "outputs": [
    {
     "name": "stderr",
     "output_type": "stream",
     "text": [
      "100%|██████████| 200/200 [00:06<00:00, 33.04it/s]\n"
     ]
    },
    {
     "name": "stdout",
     "output_type": "stream",
     "text": [
      "Error precision\n",
      "original_word_list --- corrected_word --- answer_word_list\n",
      "шнутография --- фотография --- ['шунтография']\n",
      "сникопальных --- сник опальных --- ['синкопальных', 'синкопальный']\n",
      "посление --- послание --- ['поселение', 'последний']\n",
      "ходавый --- ходовой --- ['ходовый']\n",
      "сентированный --- сен тированный --- ['стентированный']\n",
      "перевдена --- передвину --- ['переведена']\n",
      "стентированеим --- агентированием --- ['стентированием', 'стентирование']\n",
      "кардиол --- кардио --- ['кардиолог,кардиологический']\n",
      "миним --- менем --- ['минимум', 'минимальный']\n",
      "загрудиные --- загруженные --- ['загрудинные', 'загрудинный']\n",
      "течени --- тичине --- ['течение']\n",
      "клекте --- клёкоте --- ['клетке', 'клетка']\n",
      "эпидральный --- идеальный --- ['эпидуральный']\n",
      "нижн --- нежно --- ['нижний']\n",
      "прводилась --- поводилась --- ['проводилась', 'проводить']\n",
      "госпитализирова --- госпитализировал --- ['госпитализирован']\n",
      "рентг --- рента --- ['рентген']\n",
      "троботическая --- акробатическая --- ['тромботическая', 'тромботический']\n",
      "многосоудистое --- многосернистое --- ['многососудистое', 'многососудистый']\n",
      "чаосв --- чаёв --- ['часов', 'час']\n",
      "октазалась --- оказалась --- ['отказалась', 'отказался']\n",
      "линика --- ленника --- ['клиника']\n",
      "ммента --- мента --- ['момента', 'момент']\n",
      "проведеной --- проведённой --- ['проведенной']\n",
      "обтилась --- оббилась --- ['обратилась', 'обогатить']\n",
      "отицает --- отекает --- ['отрицает', 'отрицать']\n",
      "назначаля --- назначал --- ['назначался', 'назначать']\n",
      "гипертензи --- гипертензию --- ['гипертензия']\n",
      "продолжалсь --- продолжаюсь --- ['продолжалась', 'продолжать']\n",
      "поворное --- говорное --- ['повторное']\n",
      "поддерживающией --- поддерживающее --- ['поддерживающий']\n",
      "межлопаточнй --- межлопаточной --- ['межлопаточный']\n",
      "дискофморта --- дискомфорта --- ['дискомфорт']\n",
      "лергия --- гергия --- ['аллергия']\n",
      "ука --- ука --- ['рука']\n",
      "жение --- жении --- ['жжение']\n",
      "кашел --- котел --- ['кашель']\n",
      "гел --- гелл --- ['гель']\n",
      "рилиф --- реле --- ['релиф']\n",
      "чссс --- чсср --- ['ЧСС', 'чсс']\n",
      "экгъ --- его --- ['ЭКГ', 'экг']\n",
      "хрон --- хрен --- ['хронический']\n",
      "гиподин --- гип один --- ['гиподинамический']\n",
      "нерный --- черный --- ['нервный']\n",
      "сист --- сист --- ['система']\n",
      "малоинвозивный --- малоинвозивный --- ['малоинвазивный']\n",
      "алация --- акация --- ['аблация', 'абляция']\n",
      "имь --- имя --- ['ИМ', 'им']\n",
      "тяжолый --- тяжёлый --- ['тяжелый']\n",
      "гастрапластика --- аутопластика --- ['гастропластика']\n",
      "вс --- вс --- ['вес']\n",
      "орта --- орта --- ['аорта']\n",
      "клапа --- клапа --- ['клапан']\n",
      "вент --- вент --- ['вена']\n",
      "палый --- палый --- ['полый']\n",
      "вес --- вес --- ['весь']\n",
      "калапаный --- колупанный --- ['клапанный']\n",
      "апарат --- опорот --- ['аппарат']\n",
      "одоптировать --- адоптировать --- ['адаптировать']\n",
      "получять --- получить --- ['получать']\n",
      "пребование --- требование --- ['пребывание']\n",
      "шнут --- шнур --- ['шунт']\n",
      "готчина --- вотчина --- ['гатчина']\n",
      "эхэ --- эхе --- ['эхо']\n",
      "стинос --- стенной --- ['стеноз']\n",
      "вминуту --- минуту --- ['в минуту', 'в минута', 'минута']\n",
      "эндокриннойсистемы --- эндокринной системы --- ['эндокринная система', 'эндокринный система']\n",
      "счастотой --- частотой --- ['с частотой', 'с частота', 'частота']\n",
      "Right corrected words count - 132 of 200 total\n"
     ]
    },
    {
     "name": "stderr",
     "output_type": "stream",
     "text": [
      "100%|██████████| 200/200 [00:06<00:00, 29.62it/s]"
     ]
    },
    {
     "name": "stdout",
     "output_type": "stream",
     "text": [
      "Lexical precision\n",
      "original_word_list --- corrected_word\n",
      "нитропрепарат --- биопрепарат\n",
      "рецидивировать --- рецензировать\n",
      "реваскуляризация --- ре васкуляризация\n",
      "септопластика --- аутопластика\n",
      "дексон --- диксон\n",
      "гипотиазид --- гипотензию\n",
      "гемостатический --- гипостатический\n",
      "купировавшийся --- копировавшейся\n",
      "ометать --- обитать\n",
      "вазопрессорный --- газопрессовый\n",
      "тредмил --- тред мил\n",
      "гипопноэ --- цепочное\n",
      "ферритина --- ферри тина\n",
      "глибомёт --- глебом\n",
      "тропонин --- тропинин\n",
      "нифедипин --- нефедовен\n",
      "мексикор --- мексикою\n",
      "тенорик --- тенорок\n",
      "микропрепарат --- микро препарат\n",
      "мононуклеар --- мононуклеоз\n",
      "мертенил --- мер тенил\n",
      "контрпульсатор --- контр пульсатор\n",
      "соталол --- потолок\n",
      "кардиомегалия --- акромегалия\n",
      "аутовенозный --- аутогенный\n",
      "гепатин --- гепатит\n",
      "рецидивировать --- рецензировать\n",
      "стентирование --- тестирование\n",
      "задненижний --- задненебней\n",
      "карведилол --- корвалол\n",
      "Right corrected words count - 170 of 200 total\n"
     ]
    },
    {
     "name": "stderr",
     "output_type": "stream",
     "text": [
      "\n"
     ]
    },
    {
     "data": {
      "text/plain": "{'words_per_second': 31.23605338505502,\n 'error_precision': 0.66,\n 'lexical_precision': 0.85,\n 'overall_precision': 0.755}"
     },
     "execution_count": 21,
     "metadata": {},
     "output_type": "execute_result"
    }
   ],
   "source": [
    "test_language_tool_result = metric_test_without_context.compute_all_metrics(\n",
    "    test_language_tool, test_language_tool\n",
    ")\n",
    "\n",
    "test_language_tool_result"
   ],
   "metadata": {
    "collapsed": false,
    "pycharm": {
     "name": "#%%\n"
    }
   }
  },
  {
   "cell_type": "markdown",
   "source": [
    "# PySpelling (wrapper for Aspell and Hunspell) - https://facelessuser.github.io/pyspelling/"
   ],
   "metadata": {
    "collapsed": false,
    "pycharm": {
     "name": "#%% md\n"
    }
   }
  },
  {
   "cell_type": "markdown",
   "source": [
    "It is necessary to install for Linux\n",
    "`sudo apt-get install aspell aspell-ru`\n",
    "`sudo apt-get install hunspell hunspell-ru`"
   ],
   "metadata": {
    "collapsed": false,
    "pycharm": {
     "name": "#%% md\n"
    }
   }
  },
  {
   "cell_type": "code",
   "execution_count": 22,
   "outputs": [
    {
     "name": "stdout",
     "output_type": "stream",
     "text": [
      "Requirement already satisfied: pyspelling in /home/Dmitry.Pogrebnoy/Desktop/MedSpellChecker/venv/lib/python3.9/site-packages (2.7.3)\r\n",
      "Requirement already satisfied: pyyaml in /home/Dmitry.Pogrebnoy/Desktop/MedSpellChecker/venv/lib/python3.9/site-packages (from pyspelling) (6.0)\r\n",
      "Requirement already satisfied: soupsieve>=1.8 in /home/Dmitry.Pogrebnoy/Desktop/MedSpellChecker/venv/lib/python3.9/site-packages (from pyspelling) (2.3.2.post1)\r\n",
      "Requirement already satisfied: markdown in /home/Dmitry.Pogrebnoy/Desktop/MedSpellChecker/venv/lib/python3.9/site-packages (from pyspelling) (3.3.7)\r\n",
      "Requirement already satisfied: lxml in /home/Dmitry.Pogrebnoy/Desktop/MedSpellChecker/venv/lib/python3.9/site-packages (from pyspelling) (4.8.0)\r\n",
      "Requirement already satisfied: beautifulsoup4 in /home/Dmitry.Pogrebnoy/Desktop/MedSpellChecker/venv/lib/python3.9/site-packages (from pyspelling) (4.11.1)\r\n",
      "Requirement already satisfied: html5lib in /home/Dmitry.Pogrebnoy/Desktop/MedSpellChecker/venv/lib/python3.9/site-packages (from pyspelling) (1.1)\r\n",
      "Requirement already satisfied: wcmatch>=6.0.3 in /home/Dmitry.Pogrebnoy/Desktop/MedSpellChecker/venv/lib/python3.9/site-packages (from pyspelling) (8.3)\r\n",
      "Requirement already satisfied: bracex>=2.1.1 in /home/Dmitry.Pogrebnoy/Desktop/MedSpellChecker/venv/lib/python3.9/site-packages (from wcmatch>=6.0.3->pyspelling) (2.2.1)\r\n",
      "Requirement already satisfied: six>=1.9 in /home/Dmitry.Pogrebnoy/Desktop/MedSpellChecker/venv/lib/python3.9/site-packages (from html5lib->pyspelling) (1.16.0)\r\n",
      "Requirement already satisfied: webencodings in /home/Dmitry.Pogrebnoy/Desktop/MedSpellChecker/venv/lib/python3.9/site-packages (from html5lib->pyspelling) (0.5.1)\r\n",
      "Requirement already satisfied: importlib-metadata>=4.4 in /home/Dmitry.Pogrebnoy/Desktop/MedSpellChecker/venv/lib/python3.9/site-packages (from markdown->pyspelling) (4.11.3)\r\n",
      "Requirement already satisfied: zipp>=0.5 in /home/Dmitry.Pogrebnoy/Desktop/MedSpellChecker/venv/lib/python3.9/site-packages (from importlib-metadata>=4.4->markdown->pyspelling) (3.8.0)\r\n"
     ]
    }
   ],
   "source": [
    "!pip install pyspelling"
   ],
   "metadata": {
    "collapsed": false,
    "pycharm": {
     "name": "#%%\n"
    }
   }
  },
  {
   "cell_type": "markdown",
   "source": [
    "This is a console module, so it will be quite difficult to parse the output of the tool and get metrics."
   ],
   "metadata": {
    "collapsed": false,
    "pycharm": {
     "name": "#%% md\n"
    }
   }
  },
  {
   "cell_type": "code",
   "execution_count": 23,
   "outputs": [
    {
     "name": "stdout",
     "output_type": "stream",
     "text": [
      "pyspelling 2.7.3\r\n"
     ]
    }
   ],
   "source": [
    "!pyspelling --version"
   ],
   "metadata": {
    "collapsed": false,
    "pycharm": {
     "name": "#%%\n"
    }
   }
  },
  {
   "cell_type": "markdown",
   "source": [
    "# Aspell wrapper for python - https://pypi.org/project/aspell-python-py3/"
   ],
   "metadata": {
    "collapsed": false,
    "pycharm": {
     "name": "#%% md\n"
    }
   }
  },
  {
   "cell_type": "markdown",
   "source": [
    "It is necessary to install for Linux\n",
    "`sudo apt-get install libaspell-dev`"
   ],
   "metadata": {
    "collapsed": false,
    "pycharm": {
     "name": "#%% md\n"
    }
   }
  },
  {
   "cell_type": "code",
   "execution_count": 24,
   "outputs": [
    {
     "name": "stdout",
     "output_type": "stream",
     "text": [
      "Requirement already satisfied: aspell-python-py3 in /home/Dmitry.Pogrebnoy/Desktop/MedSpellChecker/venv/lib/python3.9/site-packages (1.15)\r\n"
     ]
    }
   ],
   "source": [
    "!pip install aspell-python-py3"
   ],
   "metadata": {
    "collapsed": false,
    "pycharm": {
     "name": "#%%\n"
    }
   }
  },
  {
   "cell_type": "code",
   "execution_count": 25,
   "outputs": [
    {
     "name": "stdout",
     "output_type": "stream",
     "text": [
      "Name: aspell-python-py3\r\n",
      "Version: 1.15\r\n",
      "Summary: Wrapper around GNU Aspell for Python 3\r\n",
      "Home-page: http://github.com/WojciechMula/aspell-python\r\n",
      "Author: Wojciech Muła\r\n",
      "Author-email: wojciech_mula@poczta.onet.pl\r\n",
      "License: BSD (3 clauses)\r\n",
      "Location: /home/Dmitry.Pogrebnoy/Desktop/MedSpellChecker/venv/lib/python3.9/site-packages\r\n",
      "Requires: \r\n",
      "Required-by: \r\n"
     ]
    }
   ],
   "source": [
    "!pip show aspell-python-py3"
   ],
   "metadata": {
    "collapsed": false,
    "pycharm": {
     "name": "#%%\n"
    }
   }
  },
  {
   "cell_type": "code",
   "execution_count": 26,
   "outputs": [],
   "source": [
    "from aspell import Speller"
   ],
   "metadata": {
    "collapsed": false,
    "pycharm": {
     "name": "#%%\n"
    }
   }
  },
  {
   "cell_type": "code",
   "execution_count": 27,
   "outputs": [],
   "source": [
    "def test_aspell(input_word_list):\n",
    "    speller = Speller((\"lang\", \"ru\"))\n",
    "    result = []\n",
    "    timer = tqdm(input_word_list)\n",
    "    for word in timer:\n",
    "        suggestions = speller.suggest(word)\n",
    "        if len(suggestions) == 0:\n",
    "            result.append(word)\n",
    "        else:\n",
    "            result.append(suggestions[0])\n",
    "    return  {\"elapsed\" : timer.format_dict[\"elapsed\"], \"corrected_word_list\" : result}"
   ],
   "metadata": {
    "collapsed": false,
    "pycharm": {
     "name": "#%%\n"
    }
   }
  },
  {
   "cell_type": "code",
   "execution_count": 28,
   "outputs": [
    {
     "name": "stderr",
     "output_type": "stream",
     "text": [
      "100%|██████████| 200/200 [00:00<00:00, 215.09it/s]\n"
     ]
    },
    {
     "name": "stdout",
     "output_type": "stream",
     "text": [
      "Error precision\n",
      "original_word_list --- corrected_word --- answer_word_list\n",
      "синусовго --- синусов го --- ['синусового', 'синусовый']\n",
      "шнутография --- шнутография --- ['шунтография']\n",
      "сникопальных --- сник опальных --- ['синкопальных', 'синкопальный']\n",
      "ходавый --- хордовый --- ['ходовый']\n",
      "сентированный --- сцентрированный --- ['стентированный']\n",
      "стентированеим --- стентированеим --- ['стентированием', 'стентирование']\n",
      "кардиол --- кар диол --- ['кардиолог,кардиологический']\n",
      "догосптальном --- догосптальном --- ['догоспитальном', 'догоспитальный']\n",
      "миним --- мини --- ['минимум', 'минимальный']\n",
      "субфебриллитет --- субфебриллитет --- ['субфебрилитет']\n",
      "загрудиные --- нагрудные --- ['загрудинные', 'загрудинный']\n",
      "течени --- течению --- ['течение']\n",
      "эпидральный --- эпидермальный --- ['эпидуральный']\n",
      "нижн --- ниж --- ['нижний']\n",
      "прводилась --- приводилась --- ['проводилась', 'проводить']\n",
      "вперые --- впертые --- ['впервые']\n",
      "госпитализирова --- госпитализировал --- ['госпитализирован']\n",
      "рентг --- рента --- ['рентген']\n",
      "троботическая --- троботическая --- ['тромботическая', 'тромботический']\n",
      "многосоудистое --- многосоудистое --- ['многососудистое', 'многососудистый']\n",
      "рание --- раните --- ['ранее', 'ранние']\n",
      "догоситальном --- догоситальном --- ['догоспитальном', 'догоспитальный']\n",
      "обтилась --- отбилась --- ['обратилась', 'обогатить']\n",
      "беспакоют --- беспокою --- ['беспокоят', 'беспокоить']\n",
      "гипертензи --- гипертензию --- ['гипертензия']\n",
      "болезн --- болезни --- ['болезнь']\n",
      "стенокардаа --- стенокардию --- ['стенокардия']\n",
      "поворное --- подворное --- ['повторное']\n",
      "поддерживающией --- поддерживающей --- ['поддерживающий']\n",
      "межлопаточнй --- межлопаточнй --- ['межлопаточный']\n",
      "рекмоендовнао --- рекмоендовнао --- ['рекомендовано']\n",
      "дискофморта --- дискомфорта --- ['дискомфорт']\n",
      "лергия --- летаргия --- ['аллергия']\n",
      "ука --- указ --- ['рука']\n",
      "жение --- женихе --- ['жжение']\n",
      "кашел --- кашле --- ['кашель']\n",
      "гел --- гелю --- ['гель']\n",
      "рилиф --- рифли --- ['релиф']\n",
      "чссс --- СССР --- ['ЧСС', 'чсс']\n",
      "хрон --- Харон --- ['хронический']\n",
      "гиподин --- господин --- ['гиподинамический']\n",
      "сист --- сист --- ['система']\n",
      "ледокоин --- ледокол --- ['лидокаин']\n",
      "малоинвозивный --- малоинвозивный --- ['малоинвазивный']\n",
      "алация --- акация --- ['аблация', 'абляция']\n",
      "гастрапластика --- гастрапластика --- ['гастропластика']\n",
      "вс --- св --- ['вес']\n",
      "лешний --- леший --- ['лишний']\n",
      "орта --- орта --- ['аорта']\n",
      "вент --- вен --- ['вена']\n",
      "палый --- палый --- ['полый']\n",
      "пирикард --- пирикард --- ['перикард']\n",
      "метральный --- метальный --- ['митральный']\n",
      "акенезия --- агенезия --- ['акинезия']\n",
      "вес --- вес --- ['весь']\n",
      "сьенка --- сценка --- ['стенка']\n",
      "перекард --- переклад --- ['перикард']\n",
      "аслажнение --- наслаждение --- ['осложнение']\n",
      "болезн --- болезни --- ['болезнь']\n",
      "одоптировать --- дотировать --- ['адаптировать']\n",
      "отбиление --- отчисление --- ['отделение']\n",
      "готчина --- вотчина --- ['гатчина']\n",
      "эхэ --- эх --- ['эхо']\n",
      "каранарный --- карандашный --- ['коронарный']\n",
      "стинос --- снос --- ['стеноз']\n",
      "пиринести --- принести --- ['перенести']\n",
      "дальнейшый --- дальнейшей --- ['дальнейший']\n",
      "вминуту --- минуту --- ['в минуту', 'в минута', 'минута']\n",
      "эндокриннойсистемы --- эндокринной системы --- ['эндокринная система', 'эндокринный система']\n",
      "счастотой --- частотой --- ['с частотой', 'с частота', 'частота']\n",
      "Right corrected words count - 130 of 200 total\n"
     ]
    },
    {
     "name": "stderr",
     "output_type": "stream",
     "text": [
      "100%|██████████| 200/200 [00:00<00:00, 245.41it/s]"
     ]
    },
    {
     "name": "stdout",
     "output_type": "stream",
     "text": [
      "Lexical precision\n",
      "original_word_list --- corrected_word\n",
      "мелкопузырчатый --- мелко пузырчатый\n",
      "неселективный --- не селективный\n",
      "соустье --- со устье\n",
      "дексон --- Диксон\n",
      "купировавшийся --- купировавший\n",
      "ометать --- обметать\n",
      "стихание --- стирание\n",
      "тредмил --- тред мил\n",
      "пунктировать --- пунктиров ать\n",
      "ферритина --- феррита\n",
      "мексикор --- Мексико\n",
      "затёк --- затек\n",
      "тенорик --- тенорки\n",
      "мононуклеар --- мононуклеоз\n",
      "мертенил --- метению\n",
      "соталол --- салол\n",
      "гепатин --- гепарин\n",
      "стентирование --- тестирование\n",
      "незначимый --- не значимый\n",
      "утолстить --- утолить\n",
      "россия --- Россия\n",
      "Right corrected words count - 179 of 200 total\n"
     ]
    },
    {
     "name": "stderr",
     "output_type": "stream",
     "text": [
      "\n"
     ]
    },
    {
     "data": {
      "text/plain": "{'words_per_second': 229.12694974595192,\n 'error_precision': 0.65,\n 'lexical_precision': 0.895,\n 'overall_precision': 0.7725}"
     },
     "execution_count": 28,
     "metadata": {},
     "output_type": "execute_result"
    }
   ],
   "source": [
    "test_aspell_result = metric_test_without_context.compute_all_metrics(\n",
    "    test_aspell, test_aspell\n",
    ")\n",
    "\n",
    "test_aspell_result"
   ],
   "metadata": {
    "collapsed": false,
    "pycharm": {
     "name": "#%%\n"
    }
   }
  },
  {
   "cell_type": "markdown",
   "source": [
    "# Test Hunspell wrapper for Python - https://pypi.org/project/hunspell/"
   ],
   "metadata": {
    "collapsed": false,
    "pycharm": {
     "name": "#%% md\n"
    }
   }
  },
  {
   "cell_type": "markdown",
   "source": [
    "It is necessary to install for Linux\n",
    "`sudo apt-get install libhunspell-dev`"
   ],
   "metadata": {
    "collapsed": false,
    "pycharm": {
     "name": "#%% md\n"
    }
   }
  },
  {
   "cell_type": "code",
   "execution_count": 29,
   "outputs": [
    {
     "name": "stdout",
     "output_type": "stream",
     "text": [
      "Requirement already satisfied: hunspell in /home/Dmitry.Pogrebnoy/Desktop/MedSpellChecker/venv/lib/python3.9/site-packages (0.5.5)\r\n"
     ]
    }
   ],
   "source": [
    "!pip install hunspell"
   ],
   "metadata": {
    "collapsed": false,
    "pycharm": {
     "name": "#%%\n"
    }
   }
  },
  {
   "cell_type": "code",
   "execution_count": 30,
   "outputs": [
    {
     "name": "stdout",
     "output_type": "stream",
     "text": [
      "Name: hunspell\r\n",
      "Version: 0.5.5\r\n",
      "Summary: Module for the Hunspell spellchecker engine\r\n",
      "Home-page: http://github.com/blatinier/pyhunspell\r\n",
      "Author: Benoît Latinier\r\n",
      "Author-email: benoit@latinier.fr\r\n",
      "License: LGPLv3\r\n",
      "Location: /home/Dmitry.Pogrebnoy/Desktop/MedSpellChecker/venv/lib/python3.9/site-packages\r\n",
      "Requires: \r\n",
      "Required-by: \r\n"
     ]
    }
   ],
   "source": [
    "!pip show hunspell"
   ],
   "metadata": {
    "collapsed": false,
    "pycharm": {
     "name": "#%%\n"
    }
   }
  },
  {
   "cell_type": "code",
   "execution_count": 31,
   "outputs": [],
   "source": [
    "from hunspell import HunSpell"
   ],
   "metadata": {
    "collapsed": false,
    "pycharm": {
     "name": "#%%\n"
    }
   }
  },
  {
   "cell_type": "code",
   "execution_count": 32,
   "outputs": [],
   "source": [
    "def test_hunspell(input_word_list):\n",
    "    speller = HunSpell('../data/other_spellcheckers/hunspell/index.dic', '../data/other_spellcheckers/hunspell/index.aff')\n",
    "    result = []\n",
    "    timer = tqdm(input_word_list)\n",
    "    for word in timer:\n",
    "        suggestions = speller.suggest(word)\n",
    "        if len(suggestions) == 0:\n",
    "            result.append(word)\n",
    "        else:\n",
    "            result.append(suggestions[0])\n",
    "    return  {\"elapsed\" : timer.format_dict[\"elapsed\"], \"corrected_word_list\" : result}"
   ],
   "metadata": {
    "collapsed": false,
    "pycharm": {
     "name": "#%%\n"
    }
   }
  },
  {
   "cell_type": "code",
   "execution_count": 33,
   "outputs": [
    {
     "name": "stderr",
     "output_type": "stream",
     "text": [
      "100%|██████████| 200/200 [00:15<00:00, 12.58it/s]\n"
     ]
    },
    {
     "name": "stdout",
     "output_type": "stream",
     "text": [
      "Error precision\n",
      "original_word_list --- corrected_word --- answer_word_list\n",
      "синусовго --- синусов го --- ['синусового', 'синусовый']\n",
      "даным --- даны --- ['данным', 'данный', 'данные']\n",
      "шнутография --- нотография --- ['шунтография']\n",
      "сникопальных --- сник опальных --- ['синкопальных', 'синкопальный']\n",
      "ходавый --- хода вый --- ['ходовый']\n",
      "сентированный --- сориентированный --- ['стентированный']\n",
      "перевдена --- перевидена --- ['переведена']\n",
      "стентированеим --- сцементирован --- ['стентированием', 'стентирование']\n",
      "кардиол --- кар диол --- ['кардиолог,кардиологический']\n",
      "догосптальном --- госпитальном --- ['догоспитальном', 'догоспитальный']\n",
      "миним --- мини --- ['минимум', 'минимальный']\n",
      "загрудиные --- нагрудные --- ['загрудинные', 'загрудинный']\n",
      "течени --- течении --- ['течение']\n",
      "эпидральный --- эпидермальный --- ['эпидуральный']\n",
      "нижн --- ниж --- ['нижний']\n",
      "вперые --- впертые --- ['впервые']\n",
      "рентг --- рент --- ['рентген']\n",
      "троботическая --- астроботаническая --- ['тромботическая', 'тромботический']\n",
      "многосоудистое --- многосоставное --- ['многососудистое', 'многососудистый']\n",
      "рание --- раине --- ['ранее', 'ранние']\n",
      "догоситальном --- госпитальном --- ['догоспитальном', 'догоспитальный']\n",
      "линика --- литника --- ['клиника']\n",
      "ммента --- мента --- ['момента', 'момент']\n",
      "проведеной --- проведено --- ['проведенной']\n",
      "обтилась --- отбилась --- ['обратилась', 'обогатить']\n",
      "назначаля --- назначал --- ['назначался', 'назначать']\n",
      "беспакоют --- обеспамятеют --- ['беспокоят', 'беспокоить']\n",
      "гипертензи --- гипертензии --- ['гипертензия']\n",
      "болезн --- болен --- ['болезнь']\n",
      "продолжалсь --- продолжалось --- ['продолжалась', 'продолжать']\n",
      "поддерживающией --- поддерживающие --- ['поддерживающий']\n",
      "межлопаточнй --- лопаточный --- ['межлопаточный']\n",
      "бедреной --- бедерной --- ['бедренной', 'бедренный']\n",
      "дискофморта --- дискомфорта --- ['дискомфорт']\n",
      "серце --- сере --- ['сердце']\n",
      "лергия --- Сергия --- ['аллергия']\n",
      "ука --- ук --- ['рука']\n",
      "жение --- жени --- ['жжение']\n",
      "кашел --- кашле --- ['кашель']\n",
      "рствор --- створ --- ['раствор']\n",
      "пожлой --- полой --- ['пожилой']\n",
      "гел --- лег --- ['гель']\n",
      "рилиф --- рифли --- ['релиф']\n",
      "чссс --- СССР --- ['ЧСС', 'чсс']\n",
      "хрон --- хон --- ['хронический']\n",
      "гиподин --- подин --- ['гиподинамический']\n",
      "сист --- сист --- ['система']\n",
      "гипоксмия --- гипоксия --- ['гипоксемия']\n",
      "ледокоин --- ледокол --- ['лидокаин']\n",
      "малоинвозивный --- малоинформативный --- ['малоинвазивный']\n",
      "алация --- акация --- ['аблация', 'абляция']\n",
      "гастрапластика --- органопластика --- ['гастропластика']\n",
      "вс --- св --- ['вес']\n",
      "лешний --- лишней --- ['лишний']\n",
      "орта --- рота --- ['аорта']\n",
      "клапа --- капа --- ['клапан']\n",
      "вент --- вен --- ['вена']\n",
      "палый --- пылай --- ['полый']\n",
      "метральный --- метальный --- ['митральный']\n",
      "врхушка --- врушка --- ['верхушка']\n",
      "вес --- все --- ['весь']\n",
      "апарат --- парат --- ['аппарат']\n",
      "потология --- топология --- ['патология']\n",
      "деаметр --- декаметр --- ['диаметр']\n",
      "аслажнение --- наслаждение --- ['осложнение']\n",
      "болезн --- болен --- ['болезнь']\n",
      "одоптировать --- адоптировать --- ['адаптировать']\n",
      "тичение --- точение --- ['течение']\n",
      "пребование --- пробование --- ['пребывание']\n",
      "отбиление --- отбавление --- ['отделение']\n",
      "готчина --- вотчина --- ['гатчина']\n",
      "эхэ --- эх --- ['эхо']\n",
      "каранарный --- карандашный --- ['коронарный']\n",
      "сначимый --- сачимый --- ['значимый']\n",
      "стинос --- остинато --- ['стеноз']\n",
      "пиринести --- принести --- ['перенести']\n",
      "лакализация --- алкализация --- ['локализация']\n",
      "вминуту --- минуту --- ['в минуту', 'в минута', 'минута']\n",
      "эндокриннойсистемы --- эндокринной системы --- ['эндокринная система', 'эндокринный система']\n",
      "счастотой --- частотой --- ['с частотой', 'с частота', 'частота']\n",
      "Right corrected words count - 120 of 200 total\n"
     ]
    },
    {
     "name": "stderr",
     "output_type": "stream",
     "text": [
      "100%|██████████| 200/200 [00:17<00:00, 11.34it/s]"
     ]
    },
    {
     "name": "stdout",
     "output_type": "stream",
     "text": [
      "Lexical precision\n",
      "original_word_list --- corrected_word\n",
      "выборгский --- выборгски\n",
      "нитропрепарат --- органопрепарат\n",
      "кольцевой --- кольцевое\n",
      "отрыв --- отрыва\n",
      "мелкопузырчатый --- мелко пузырчатый\n",
      "проксимальный --- проксимальной\n",
      "приступ --- приступа\n",
      "рецидивировать --- рецитировать\n",
      "значимый --- значимы\n",
      "трафик --- рафик\n",
      "левый --- левы\n",
      "область --- областью\n",
      "каждый --- каждой\n",
      "аторвастатин --- инкрустатор\n",
      "проникающий --- поникающий\n",
      "слух --- сух\n",
      "отрицательный --- отрицательны\n",
      "задний --- зданий\n",
      "реваскуляризация --- секуляризация\n",
      "очевидный --- очевидны\n",
      "неселективный --- не селективный\n",
      "септопластика --- кератопластика\n",
      "кировский --- кировски\n",
      "ноющий --- ноющи\n",
      "стенка --- снетка\n",
      "одеть --- одет\n",
      "дексон --- дек сон\n",
      "ночь --- ночью\n",
      "вредность --- древность\n",
      "март --- Март\n",
      "гипотиазид --- гипотиреоз\n",
      "ломота --- молота\n",
      "гемостатический --- магнитостатический\n",
      "купировавшийся --- копировавшийся\n",
      "пульсирующий --- пульсирующие\n",
      "ометать --- метать\n",
      "вазопрессорный --- газокомпрессорный\n",
      "тредмил --- тред мил\n",
      "гипопноэ --- гипносон\n",
      "наш --- на\n",
      "купирование --- купированием\n",
      "пунктировать --- пунктиров ать\n",
      "ферритина --- феррита\n",
      "гастропротективный --- противопригарный\n",
      "пароксизм --- пароксизма\n",
      "выполнять --- выполнят\n",
      "посттромбофлебитический --- противосифилитический\n",
      "секунда --- секунд\n",
      "креатинкиназа --- панкреатина\n",
      "терапия --- терапиям\n",
      "глибомёт --- глиома\n",
      "лобэктомия --- лоботомия\n",
      "владеть --- овладеть\n",
      "мерить --- мерит\n",
      "тропонин --- антропоним\n",
      "сдвиг --- сдвига\n",
      "отправить --- отправит\n",
      "давящий --- давящи\n",
      "нифедипин --- дифениламин\n",
      "мексикор --- сикомор\n",
      "сад --- ад\n",
      "затёк --- заток\n",
      "слепок --- слепо\n",
      "тенорик --- тенорки\n",
      "дрожь --- рожь\n",
      "гепарин --- гепарина\n",
      "диурез --- диуреза\n",
      "микропрепарат --- химиопрепарат\n",
      "аторвастатин --- инкрустатор\n",
      "гипотензия --- гипотензиям\n",
      "грудь --- груд\n",
      "инфаркт --- инфаркта\n",
      "мононуклеар --- мононуклеоз\n",
      "погрузка --- погрузкам\n",
      "нестабильный --- нестабильны\n",
      "мертенил --- мер тенил\n",
      "снимать --- сминать\n",
      "контрпульсатор --- контр пульсатор\n",
      "соталол --- сволота\n",
      "кардиомегалия --- акромегалия\n",
      "мкг --- мг\n",
      "аутовенозный --- артериовенозный\n",
      "гепатин --- гепатит\n",
      "рецидивировать --- рецитировать\n",
      "асцит --- асцита\n",
      "стенокардия --- стенокардиям\n",
      "тысяча --- тысяч\n",
      "промежуточный --- промежуточны\n",
      "водка --- вода\n",
      "лимфодиссекция --- фотодиссоциация\n",
      "стентирование --- патентирование\n",
      "настоящий --- настоящи\n",
      "задненижний --- задне нижний\n",
      "частичный --- частичны\n",
      "появиться --- появится\n",
      "аускультативный --- факультативный\n",
      "жир --- жри\n",
      "карведилол --- кардиолог\n",
      "тонкий --- тонки\n",
      "россия --- Россия\n",
      "нижнебоковой --- нижне боковой\n",
      "отечь --- отеч\n",
      "событие --- событиен\n",
      "Right corrected words count - 97 of 200 total\n"
     ]
    },
    {
     "name": "stderr",
     "output_type": "stream",
     "text": [
      "\n"
     ]
    },
    {
     "data": {
      "text/plain": "{'words_per_second': 11.928561485269013,\n 'error_precision': 0.6,\n 'lexical_precision': 0.485,\n 'overall_precision': 0.5425}"
     },
     "execution_count": 33,
     "metadata": {},
     "output_type": "execute_result"
    }
   ],
   "source": [
    "test_hunspell_result = metric_test_without_context.compute_all_metrics(\n",
    "    test_hunspell, test_hunspell\n",
    ")\n",
    "\n",
    "test_hunspell_result"
   ],
   "metadata": {
    "collapsed": false,
    "pycharm": {
     "name": "#%%\n"
    }
   }
  },
  {
   "cell_type": "markdown",
   "source": [
    "# Pyspellchecker (Piter Norwig's algorithm) - https://github.com/barrust/pyspellchecker"
   ],
   "metadata": {
    "collapsed": false,
    "pycharm": {
     "name": "#%% md\n"
    }
   }
  },
  {
   "cell_type": "code",
   "execution_count": 34,
   "outputs": [
    {
     "name": "stdout",
     "output_type": "stream",
     "text": [
      "Requirement already satisfied: pyspellchecker in /home/Dmitry.Pogrebnoy/Desktop/MedSpellChecker/venv/lib/python3.9/site-packages (0.6.3)\r\n"
     ]
    }
   ],
   "source": [
    "!pip install pyspellchecker"
   ],
   "metadata": {
    "collapsed": false,
    "pycharm": {
     "name": "#%%\n"
    }
   }
  },
  {
   "cell_type": "code",
   "execution_count": 35,
   "outputs": [
    {
     "name": "stdout",
     "output_type": "stream",
     "text": [
      "Name: pyspellchecker\r\n",
      "Version: 0.6.3\r\n",
      "Summary: Pure python spell checker based on work by Peter Norvig\r\n",
      "Home-page: https://github.com/barrust/pyspellchecker\r\n",
      "Author: Tyler Barrus\r\n",
      "Author-email: barrust@gmail.com\r\n",
      "License: MIT\r\n",
      "Location: /home/Dmitry.Pogrebnoy/Desktop/MedSpellChecker/venv/lib/python3.9/site-packages\r\n",
      "Requires: \r\n",
      "Required-by: \r\n"
     ]
    }
   ],
   "source": [
    "!pip show pyspellchecker"
   ],
   "metadata": {
    "collapsed": false,
    "pycharm": {
     "name": "#%%\n"
    }
   }
  },
  {
   "cell_type": "code",
   "execution_count": 36,
   "outputs": [],
   "source": [
    "import spellchecker"
   ],
   "metadata": {
    "collapsed": false,
    "pycharm": {
     "name": "#%%\n"
    }
   }
  },
  {
   "cell_type": "code",
   "execution_count": 37,
   "outputs": [],
   "source": [
    "def test_pyspellshecker(input_word_list):\n",
    "    speller = spellchecker.SpellChecker(language='ru')\n",
    "    result = []\n",
    "    timer = tqdm(input_word_list)\n",
    "    for word in timer:\n",
    "        suggestions = speller.correction(word)\n",
    "        result.append(suggestions)\n",
    "    return  {\"elapsed\" : timer.format_dict[\"elapsed\"], \"corrected_word_list\" : result}"
   ],
   "metadata": {
    "collapsed": false,
    "pycharm": {
     "name": "#%%\n"
    }
   }
  },
  {
   "cell_type": "code",
   "execution_count": 38,
   "outputs": [
    {
     "name": "stderr",
     "output_type": "stream",
     "text": [
      "100%|██████████| 200/200 [00:49<00:00,  4.07it/s]\n"
     ]
    },
    {
     "name": "stdout",
     "output_type": "stream",
     "text": [
      "Error precision\n",
      "original_word_list --- corrected_word --- answer_word_list\n",
      "эктренном --- экстренное --- ['экстренном', 'экстренный', 'экстренно']\n",
      "даным --- давным --- ['данным', 'данный', 'данные']\n",
      "шнутография --- шнутография --- ['шунтография']\n",
      "сникопальных --- сникопальных --- ['синкопальных', 'синкопальный']\n",
      "посление --- последние --- ['поселение', 'последний']\n",
      "ходавый --- подавай --- ['ходовый']\n",
      "анмнезе --- анмнезе --- ['анамнезе', 'анамнез']\n",
      "сентированный --- сентированный --- ['стентированный']\n",
      "перевдена --- переведено --- ['переведена']\n",
      "стентированеим --- стентированеим --- ['стентированием', 'стентирование']\n",
      "кардиол --- кардинал --- ['кардиолог,кардиологический']\n",
      "переведна --- переведено --- ['переведена', 'переведен']\n",
      "догосптальном --- догосптальном --- ['догоспитальном', 'догоспитальный']\n",
      "миним --- мини --- ['минимум', 'минимальный']\n",
      "субфебриллитет --- субфебриллитет --- ['субфебрилитет']\n",
      "загрудиные --- загрудиные --- ['загрудинные', 'загрудинный']\n",
      "перферия --- перферия --- ['периферия']\n",
      "оклюзия --- иллюзия --- ['окклюзия']\n",
      "сегмета --- семена --- ['сегмента', 'сегмент']\n",
      "эпидральный --- эпидральный --- ['эпидуральный']\n",
      "интелектуально --- интелектуально --- ['интеллектуально', 'интеллектуальный']\n",
      "нижн --- ниже --- ['нижний']\n",
      "прводилась --- родилась --- ['проводилась', 'проводить']\n",
      "неустанвленный --- неустанвленный --- ['неустановленный']\n",
      "госптализирован --- госптализирован --- ['госпитализирован']\n",
      "послеоперационом --- послеоперационом --- ['послеоперационном', 'послеоперационный']\n",
      "госпитализирова --- госпитализирова --- ['госпитализирован']\n",
      "рентг --- рента --- ['рентген']\n",
      "дальнешем --- дальнейшее --- ['дальнейшем', 'дальнейший']\n",
      "троботическая --- троботическая --- ['тромботическая', 'тромботический']\n",
      "многосоудистое --- многосоудистое --- ['многососудистое', 'многососудистый']\n",
      "миокрада --- миокрада --- ['миокарда', 'миокард']\n",
      "сопрвождались --- сопрвождались --- ['сопровождались', 'сопровождать']\n",
      "дискмфорт --- дискмфорт --- ['дискомфорт']\n",
      "потлтвостью --- потлтвостью --- ['потливостью', 'потливость']\n",
      "левогожелудочка --- левогожелудочка --- ['левого желудочка', 'левый желудочек']\n",
      "ангинозныеболи --- ангинозныеболи --- ['ангинозные боли', 'ангиозный боль']\n",
      "догоситальном --- догоситальном --- ['догоспитальном', 'догоспитальный']\n",
      "ввполнен --- вполне --- ['выполнен']\n",
      "октазалась --- оказалась --- ['отказалась', 'отказался']\n",
      "проведеной --- проведение --- ['проведенной']\n",
      "обтилась --- осталась --- ['обратилась', 'обогатить']\n",
      "дальнейщем --- дальнейшее --- ['дальнейшем', 'дальнейший']\n",
      "болисохраняются --- болисохраняются --- ['боли сохраняются', 'боль сохраняется']\n",
      "частичынм --- частично --- ['частичным', 'частичный']\n",
      "атерокслеротичсекая --- атерокслеротичсекая --- ['атеросклеротическая', 'атеросклеротический']\n",
      "назначаля --- назначил --- ['назначался', 'назначать']\n",
      "беспакоют --- беспокоит --- ['беспокоят', 'беспокоить']\n",
      "гипертензи --- гипертензи --- ['гипертензия']\n",
      "воленйбол --- воленйбол --- ['волейбол']\n",
      "стенокардаа --- стенокардаа --- ['стенокардия']\n",
      "продолжалсь --- продолжалось --- ['продолжалась', 'продолжать']\n",
      "ощуащет --- ощущаете --- ['ощущает', 'ощущуать']\n",
      "ангигнозного --- ангигнозного --- ['ангинозного', 'ангинозный']\n",
      "диагностичекой --- диагностичекой --- ['диагностической', 'диагностический']\n",
      "поддерживающией --- поддерживающией --- ['поддерживающий']\n",
      "межлопаточнй --- межлопаточнй --- ['межлопаточный']\n",
      "бедреной --- бедной --- ['бедренной', 'бедренный']\n",
      "гшрядки --- гшрядки --- ['грядки', 'грядка']\n",
      "рекмоендовнао --- рекмоендовнао --- ['рекомендовано']\n",
      "дискофморта --- дискофморта --- ['дискомфорт']\n",
      "импалнтирован --- импалнтирован --- ['имплантирован', 'имплантировать']\n",
      "неочетливая --- неочетливая --- ['неотчетливая', 'неотчетливый']\n",
      "обесвеченный --- обесвеченный --- ['обесцвеченный', 'обеспеченный']\n",
      "лергия --- серия --- ['аллергия']\n",
      "ука --- ума --- ['рука']\n",
      "изжга --- инга --- ['изжога']\n",
      "жение --- жених --- ['жжение']\n",
      "кашел --- нашел --- ['кашель']\n",
      "нпреносимость --- нпреносимость --- ['непереносимость']\n",
      "амупула --- ампулу --- ['ампула']\n",
      "гел --- дел --- ['гель']\n",
      "конценрат --- концерт --- ['концентрат']\n",
      "рилиф --- или --- ['релиф']\n",
      "чссс --- мисс --- ['ЧСС', 'чсс']\n",
      "желдочек --- желдочек --- ['желудочек']\n",
      "хрон --- хрен --- ['хронический']\n",
      "гиподин --- господин --- ['гиподинамический']\n",
      "нерный --- черный --- ['нервный']\n",
      "сист --- сиси --- ['система']\n",
      "гипоксмия --- гипоксмия --- ['гипоксемия']\n",
      "ледокоин --- ледокоин --- ['лидокаин']\n",
      "блокато --- блокнот --- ['блокатор']\n",
      "малоинвозивный --- малоинвозивный --- ['малоинвазивный']\n",
      "алация --- алисия --- ['аблация', 'абляция']\n",
      "гастрапластика --- гастрапластика --- ['гастропластика']\n",
      "вс --- вы --- ['вес']\n",
      "лешний --- летний --- ['лишний']\n",
      "орта --- рота --- ['аорта']\n",
      "клапа --- клара --- ['клапан']\n",
      "вент --- кент --- ['вена']\n",
      "палый --- малый --- ['полый']\n",
      "пирикард --- пикард --- ['перикард']\n",
      "акенезия --- амнезия --- ['акинезия']\n",
      "апекальный --- печальный --- ['апикальный']\n",
      "вес --- вес --- ['весь']\n",
      "церкулярный --- церкулярный --- ['циркулярный']\n",
      "сридиный --- сридиный --- ['срединный']\n",
      "калапаный --- клапаны --- ['клапанный']\n",
      "перекард --- перекур --- ['перикард']\n",
      "праксимальный --- максимальный --- ['проксимальный']\n",
      "аслажнение --- наслаждение --- ['осложнение']\n",
      "гепертонический --- гепертонический --- ['гипертонический']\n",
      "одоптировать --- одоптировать --- ['адаптировать']\n",
      "получять --- получить --- ['получать']\n",
      "кансервативный --- кансервативный --- ['консервативный']\n",
      "шнут --- кнут --- ['шунт']\n",
      "готчина --- ветчина --- ['гатчина']\n",
      "эхэ --- тхэ --- ['эхо']\n",
      "каранарный --- каранарный --- ['коронарный']\n",
      "сначимый --- сначимый --- ['значимый']\n",
      "стинос --- спиной --- ['стеноз']\n",
      "гаспиализировать --- гаспиализировать --- ['госпитализировать']\n",
      "олмазов --- толмачов --- ['алмазов']\n",
      "прдшствовать --- прдшствовать --- ['предшествовать']\n",
      "стинакардия --- стинакардия --- ['стенокардия']\n",
      "пиринести --- принести --- ['перенести']\n",
      "моикарда --- моикарда --- ['миокарда']\n",
      "лакализация --- канализация --- ['локализация']\n",
      "хроническаянедостаточность --- хроническаянедостаточность --- ['хроническая недостаточность', 'хронический недостаточность']\n",
      "инфарктмиокарда --- инфарктмиокарда --- ['инфаркт миокарда', 'инфаркт миокард']\n",
      "отузла --- отдала --- ['от узла', 'от узел']\n",
      "нарушениеработы --- нарушениеработы --- ['нарушение работы', 'нарушение работа']\n",
      "вминуту --- минуту --- ['в минуту', 'в минута', 'минута']\n",
      "эндокриннойсистемы --- эндокриннойсистемы --- ['эндокринная система', 'эндокринный система']\n",
      "сердечныйритм --- сердечныйритм --- ['сердечный ритм']\n",
      "узловаятахикардия --- узловаятахикардия --- ['узловая тахикардия', 'узловой тахикардия']\n",
      "основныефакторы --- основныефакторы --- ['основной фактор', 'основные факторы']\n",
      "остановкасердца --- остановкасердца --- ['остановка сердца', 'остановка сердце']\n",
      "фибрилляцияжелудочков --- фибрилляцияжелудочков --- ['фибрилляция желудочков', 'фибрилляция желудочек']\n",
      "счастотой --- счастотой --- ['с частотой', 'с частота', 'частота']\n",
      "Right corrected words count - 69 of 200 total\n"
     ]
    },
    {
     "name": "stderr",
     "output_type": "stream",
     "text": [
      "100%|██████████| 200/200 [00:45<00:00,  4.36it/s]"
     ]
    },
    {
     "name": "stdout",
     "output_type": "stream",
     "text": [
      "Lexical precision\n",
      "original_word_list --- corrected_word\n",
      "диссоциация --- ассоциация\n",
      "значимый --- знакомый\n",
      "постепенной --- постепенно\n",
      "трафик --- график\n",
      "проникающий --- проникающие\n",
      "умеренный --- уверенный\n",
      "самостоятельный --- самостоятельно\n",
      "соустье --- счастье\n",
      "кировский --- сиротский\n",
      "ноющий --- поющий\n",
      "дексон --- джексон\n",
      "систолический --- исторический\n",
      "вредность --- внешность\n",
      "ломота --- ворота\n",
      "ревизия --- религия\n",
      "ометать --- летать\n",
      "стихание --- свидание\n",
      "купирование --- копирование\n",
      "анальгин --- аналогия\n",
      "утолщение --- угощение\n",
      "лобэктомия --- лоботомия\n",
      "мерить --- верить\n",
      "перекосить --- перекусить\n",
      "давящий --- давний\n",
      "мексикор --- мексика\n",
      "фермент --- ферменты\n",
      "затёк --- засёк\n",
      "тенорик --- теория\n",
      "гепарин --- гепатит\n",
      "фиксировать --- зафиксировать\n",
      "распространиться --- распространить\n",
      "соталол --- стало\n",
      "складываться --- складывается\n",
      "мкг --- мог\n",
      "гепатин --- гепатит\n",
      "асцит --- спит\n",
      "промежуточный --- промежуточные\n",
      "стентирование --- тестирование\n",
      "незначимый --- незнакомый\n",
      "утолстить --- отомстить\n",
      "срабатывать --- зарабатывать\n",
      "отечь --- отель\n",
      "Right corrected words count - 158 of 200 total\n"
     ]
    },
    {
     "name": "stderr",
     "output_type": "stream",
     "text": [
      "\n"
     ]
    },
    {
     "data": {
      "text/plain": "{'words_per_second': 4.214243238853487,\n 'error_precision': 0.345,\n 'lexical_precision': 0.79,\n 'overall_precision': 0.5675}"
     },
     "execution_count": 38,
     "metadata": {},
     "output_type": "execute_result"
    }
   ],
   "source": [
    "test_pyspellshecker_result = metric_test_without_context.compute_all_metrics(\n",
    "    test_pyspellshecker, test_pyspellshecker\n",
    ")\n",
    "\n",
    "test_pyspellshecker_result"
   ],
   "metadata": {
    "collapsed": false,
    "pycharm": {
     "name": "#%%\n"
    }
   }
  },
  {
   "cell_type": "markdown",
   "source": [
    "# PyEnchant - https://pypi.org/project/pyenchant/"
   ],
   "metadata": {
    "collapsed": false,
    "pycharm": {
     "name": "#%% md\n"
    }
   }
  },
  {
   "cell_type": "code",
   "execution_count": 39,
   "outputs": [
    {
     "name": "stdout",
     "output_type": "stream",
     "text": [
      "Requirement already satisfied: pyenchant in /home/Dmitry.Pogrebnoy/Desktop/MedSpellChecker/venv/lib/python3.9/site-packages (3.2.2)\r\n"
     ]
    }
   ],
   "source": [
    "!pip install pyenchant"
   ],
   "metadata": {
    "collapsed": false,
    "pycharm": {
     "name": "#%%\n"
    }
   }
  },
  {
   "cell_type": "code",
   "execution_count": 40,
   "outputs": [
    {
     "name": "stdout",
     "output_type": "stream",
     "text": [
      "Name: pyenchant\r\n",
      "Version: 3.2.2\r\n",
      "Summary: Python bindings for the Enchant spellchecking system\r\n",
      "Home-page: https://pyenchant.github.io/pyenchant/\r\n",
      "Author: Dimitri Merejkowsky\r\n",
      "Author-email: d.merej@gmail.com\r\n",
      "License: LGPL\r\n",
      "Location: /home/Dmitry.Pogrebnoy/Desktop/MedSpellChecker/venv/lib/python3.9/site-packages\r\n",
      "Requires: \r\n",
      "Required-by: \r\n"
     ]
    }
   ],
   "source": [
    "!pip show pyenchant"
   ],
   "metadata": {
    "collapsed": false,
    "pycharm": {
     "name": "#%%\n"
    }
   }
  },
  {
   "cell_type": "code",
   "execution_count": 41,
   "outputs": [],
   "source": [
    "import enchant"
   ],
   "metadata": {
    "collapsed": false,
    "pycharm": {
     "name": "#%%\n"
    }
   }
  },
  {
   "cell_type": "code",
   "execution_count": 42,
   "outputs": [],
   "source": [
    "def test_enchant(input_word_list):\n",
    "    speller = enchant.Dict(\"ru\")\n",
    "    result = []\n",
    "    timer = tqdm(input_word_list)\n",
    "    for word in timer:\n",
    "        suggestions = speller.suggest(word)\n",
    "        if len(suggestions) == 0:\n",
    "            result.append(word)\n",
    "        else:\n",
    "            result.append(suggestions[0])\n",
    "    return  {\"elapsed\" : timer.format_dict[\"elapsed\"], \"corrected_word_list\" : result}"
   ],
   "metadata": {
    "collapsed": false,
    "pycharm": {
     "name": "#%%\n"
    }
   }
  },
  {
   "cell_type": "code",
   "execution_count": 43,
   "outputs": [
    {
     "name": "stderr",
     "output_type": "stream",
     "text": [
      "100%|██████████| 200/200 [00:07<00:00, 28.40it/s]\n"
     ]
    },
    {
     "name": "stdout",
     "output_type": "stream",
     "text": [
      "Error precision\n",
      "original_word_list --- corrected_word --- answer_word_list\n",
      "синусовго --- синусов го --- ['синусового', 'синусовый']\n",
      "даным --- даны --- ['данным', 'данный', 'данные']\n",
      "шнутография --- нотография --- ['шунтография']\n",
      "сникопальных --- сник опальных --- ['синкопальных', 'синкопальный']\n",
      "ходавый --- хордовый --- ['ходовый']\n",
      "сентированный --- сориентированный --- ['стентированный']\n",
      "перевдена --- перевидена --- ['переведена']\n",
      "стентированеим --- сориентировавшим --- ['стентированием', 'стентирование']\n",
      "кардиол --- кар диол --- ['кардиолог,кардиологический']\n",
      "догосптальном --- госпитальном --- ['догоспитальном', 'догоспитальный']\n",
      "миним --- мини --- ['минимум', 'минимальный']\n",
      "субфебриллитет --- субмиллиметровый --- ['субфебрилитет']\n",
      "загрудиные --- нагрудные --- ['загрудинные', 'загрудинный']\n",
      "течени --- течении --- ['течение']\n",
      "эпидральный --- эпидермальный --- ['эпидуральный']\n",
      "нижн --- ниж --- ['нижний']\n",
      "прводилась --- приводилась --- ['проводилась', 'проводить']\n",
      "вперые --- впертые --- ['впервые']\n",
      "рентг --- рента --- ['рентген']\n",
      "троботическая --- астроботаническая --- ['тромботическая', 'тромботический']\n",
      "многосоудистое --- многосоставное --- ['многососудистое', 'многососудистый']\n",
      "рание --- рани --- ['ранее', 'ранние']\n",
      "догоситальном --- госпитальном --- ['догоспитальном', 'догоспитальный']\n",
      "линика --- линка --- ['клиника']\n",
      "ммента --- мента --- ['момента', 'момент']\n",
      "проведеной --- проведено --- ['проведенной']\n",
      "обтилась --- отбилась --- ['обратилась', 'обогатить']\n",
      "назначаля --- назначал --- ['назначался', 'назначать']\n",
      "беспакоют --- беспокоит --- ['беспокоят', 'беспокоить']\n",
      "гипертензи --- гипертензии --- ['гипертензия']\n",
      "болезн --- болен --- ['болезнь']\n",
      "продолжалсь --- продолжались --- ['продолжалась', 'продолжать']\n",
      "поддерживающией --- поддерживающие --- ['поддерживающий']\n",
      "межлопаточнй --- лопаточный --- ['межлопаточный']\n",
      "дискофморта --- дискомфорта --- ['дискомфорт']\n",
      "серце --- сере --- ['сердце']\n",
      "ука --- ка --- ['рука']\n",
      "жение --- жени --- ['жжение']\n",
      "кашел --- кашле --- ['кашель']\n",
      "рствор --- створ --- ['раствор']\n",
      "пожлой --- полой --- ['пожилой']\n",
      "гел --- лег --- ['гель']\n",
      "рилиф --- рифли --- ['релиф']\n",
      "чссс --- СССР --- ['ЧСС', 'чсс']\n",
      "хрон --- хрен --- ['хронический']\n",
      "гиподин --- подин --- ['гиподинамический']\n",
      "сист --- сист --- ['система']\n",
      "гипоксмия --- гипоксия --- ['гипоксемия']\n",
      "ледокоин --- ледокол --- ['лидокаин']\n",
      "малоинвозивный --- малоинформативный --- ['малоинвазивный']\n",
      "алация --- акация --- ['аблация', 'абляция']\n",
      "гастрапластика --- органопластика --- ['гастропластика']\n",
      "вс --- св --- ['вес']\n",
      "лешний --- лишней --- ['лишний']\n",
      "орта --- рота --- ['аорта']\n",
      "клапа --- капа --- ['клапан']\n",
      "вент --- вен --- ['вена']\n",
      "палый --- пылай --- ['полый']\n",
      "метральный --- метальный --- ['митральный']\n",
      "врхушка --- врушка --- ['верхушка']\n",
      "вес --- все --- ['весь']\n",
      "потология --- топология --- ['патология']\n",
      "аслажнение --- наслаждение --- ['осложнение']\n",
      "болезн --- болен --- ['болезнь']\n",
      "одоптировать --- кооптировать --- ['адаптировать']\n",
      "получять --- получить --- ['получать']\n",
      "тичение --- точение --- ['течение']\n",
      "пребование --- пробование --- ['пребывание']\n",
      "отбиление --- отбавление --- ['отделение']\n",
      "готчина --- вотчина --- ['гатчина']\n",
      "эхэ --- эх --- ['эхо']\n",
      "каранарный --- карандашный --- ['коронарный']\n",
      "стинос --- остинато --- ['стеноз']\n",
      "пиринести --- принести --- ['перенести']\n",
      "лакализация --- алкализация --- ['локализация']\n",
      "вминуту --- минуту --- ['в минуту', 'в минута', 'минута']\n",
      "эндокриннойсистемы --- эндокринной системы --- ['эндокринная система', 'эндокринный система']\n",
      "счастотой --- частотой --- ['с частотой', 'с частота', 'частота']\n",
      "Right corrected words count - 122 of 200 total\n"
     ]
    },
    {
     "name": "stderr",
     "output_type": "stream",
     "text": [
      "100%|██████████| 200/200 [00:07<00:00, 25.23it/s]"
     ]
    },
    {
     "name": "stdout",
     "output_type": "stream",
     "text": [
      "Lexical precision\n",
      "original_word_list --- corrected_word\n",
      "выборгский --- выборгской\n",
      "нитропрепарат --- биопрепарат\n",
      "кольцевой --- кольцевое\n",
      "отрыв --- отрыва\n",
      "мелкопузырчатый --- мелко пузырчатый\n",
      "проксимальный --- проксимальной\n",
      "приступ --- приступи\n",
      "рецидивировать --- резецировать\n",
      "значимый --- значимы\n",
      "трафик --- трафика\n",
      "левый --- левы\n",
      "область --- областью\n",
      "каждый --- каждой\n",
      "аторвастатин --- констатирован\n",
      "проникающий --- поникающий\n",
      "слух --- сух\n",
      "отрицательный --- отрицательны\n",
      "задний --- зданий\n",
      "диафрагмальный --- поддиафрагмальный\n",
      "реваскуляризация --- секуляризация\n",
      "очевидный --- очевидны\n",
      "неселективный --- не селективный\n",
      "септопластика --- кератопластика\n",
      "соустье --- со устье\n",
      "кировский --- кировской\n",
      "ноющий --- ноющие\n",
      "стенка --- снетка\n",
      "одеть --- одет\n",
      "дексон --- дек сон\n",
      "верхушечно-перегородочный --- верхушечное-перегородочный\n",
      "ночь --- ночью\n",
      "вредность --- древность\n",
      "март --- мат\n",
      "гипотиазид --- гипотиреоз\n",
      "ломота --- молота\n",
      "гемостатический --- гипостатический\n",
      "купировавшийся --- курировавшийся\n",
      "пульсирующий --- пульсирующие\n",
      "ометать --- метать\n",
      "стихание --- стирание\n",
      "вазопрессорный --- газокомпрессорный\n",
      "тредмил --- тред мил\n",
      "гипопноэ --- гипнолог\n",
      "наш --- на\n",
      "купирование --- купированием\n",
      "пунктировать --- пунктиров ать\n",
      "ферритина --- феррита\n",
      "гастропротективный --- противопригарный\n",
      "пароксизм --- пароксизма\n",
      "выполнять --- выполнят\n",
      "посттромбофлебитический --- противосифилитический\n",
      "секунда --- секунд\n",
      "креатинкиназа --- панкреатина\n",
      "терапия --- терапии\n",
      "глибомёт --- бомбомёт\n",
      "лобэктомия --- эмбриотомия\n",
      "владеть --- овладеть\n",
      "мерить --- мерит\n",
      "тропонин --- тропинка\n",
      "сдвиг --- сдвиги\n",
      "отправить --- отправит\n",
      "давящий --- дивящий\n",
      "нифедипин --- дифениламин\n",
      "мексикор --- мексиканка\n",
      "сад --- ад\n",
      "затёк --- затек\n",
      "слепок --- слепо\n",
      "тенорик --- тенорки\n",
      "дрожь --- рожь\n",
      "гепарин --- гепарина\n",
      "диурез --- диуреза\n",
      "микропрепарат --- химиопрепарат\n",
      "аторвастатин --- констатирован\n",
      "гипотензия --- гипотензии\n",
      "грудь --- груд\n",
      "инфаркт --- инфаркта\n",
      "мононуклеар --- мононуклеоз\n",
      "погрузка --- погрузкам\n",
      "нестабильный --- нестабильны\n",
      "мертенил --- переменил\n",
      "снимать --- сминать\n",
      "контрпульсатор --- импульсатор\n",
      "соталол --- схлопотал\n",
      "кардиомегалия --- акромегалия\n",
      "мкг --- мг\n",
      "аутовенозный --- артериовенозный\n",
      "гепатин --- гепатит\n",
      "рецидивировать --- резецировать\n",
      "асцит --- асцита\n",
      "стенокардия --- стенокардии\n",
      "тысяча --- тысяч\n",
      "промежуточный --- промежуточной\n",
      "водка --- вода\n",
      "лимфодиссекция --- фотодиссоциация\n",
      "стентирование --- патентирование\n",
      "незначимый --- не значимый\n",
      "настоящий --- настоящие\n",
      "задненижний --- затруднений\n",
      "частичный --- частичны\n",
      "появиться --- появится\n",
      "утолстить --- утолиться\n",
      "аускультативный --- факультативный\n",
      "жир --- жри\n",
      "карведилол --- кардиолог\n",
      "тонкий --- тонки\n",
      "россия --- Россия\n",
      "нижнебоковой --- нижненемецкой\n",
      "отечь --- отеч\n",
      "событие --- событием\n",
      "Right corrected words count - 91 of 200 total\n"
     ]
    },
    {
     "name": "stderr",
     "output_type": "stream",
     "text": [
      "\n"
     ]
    },
    {
     "data": {
      "text/plain": "{'words_per_second': 26.724566121255936,\n 'error_precision': 0.61,\n 'lexical_precision': 0.455,\n 'overall_precision': 0.5325}"
     },
     "execution_count": 43,
     "metadata": {},
     "output_type": "execute_result"
    }
   ],
   "source": [
    "test_enchant_result = metric_test_without_context.compute_all_metrics(\n",
    "    test_enchant, test_enchant\n",
    ")\n",
    "\n",
    "test_enchant_result"
   ],
   "metadata": {
    "collapsed": false,
    "pycharm": {
     "name": "#%%\n"
    }
   }
  },
  {
   "cell_type": "markdown",
   "source": [
    "## MedSpellchecker!!!"
   ],
   "metadata": {
    "collapsed": false,
    "pycharm": {
     "name": "#%% md\n"
    }
   }
  },
  {
   "cell_type": "code",
   "execution_count": 44,
   "outputs": [],
   "source": [
    "from med_spellchecker import MedSpellchecker\n",
    "\n",
    "def test_med_spellchecker(input_word_list):\n",
    "    med_spellchecker = MedSpellchecker(words_list=\"../data/dictionaries/processed/processed_lemmatized_all_dict.txt\",\n",
    "                                       encoding=\"UTF-8\", use_treshold = True, handle_compound_words=True)\n",
    "    result = []\n",
    "    timer = tqdm(input_word_list)\n",
    "    for word in timer:\n",
    "        fixed_text = med_spellchecker.fix_text(word)\n",
    "        result.append(fixed_text)\n",
    "    return  {\"elapsed\" : timer.format_dict[\"elapsed\"], \"corrected_word_list\" : result}"
   ],
   "metadata": {
    "collapsed": false,
    "pycharm": {
     "name": "#%%\n"
    }
   }
  },
  {
   "cell_type": "code",
   "execution_count": 45,
   "outputs": [
    {
     "name": "stderr",
     "output_type": "stream",
     "text": [
      "[nltk_data] Downloading package stopwords to\n",
      "[nltk_data]     /home/Dmitry.Pogrebnoy/nltk_data...\n",
      "[nltk_data]   Package stopwords is already up-to-date!\n",
      "100%|██████████| 200/200 [00:59<00:00,  3.36it/s]\n",
      "[nltk_data] Downloading package stopwords to\n",
      "[nltk_data]     /home/Dmitry.Pogrebnoy/nltk_data...\n",
      "[nltk_data]   Package stopwords is already up-to-date!\n"
     ]
    },
    {
     "name": "stdout",
     "output_type": "stream",
     "text": [
      "Error precision\n",
      "original_word_list --- corrected_word --- answer_word_list\n",
      "синусовго --- синус го --- ['синусового', 'синусовый']\n",
      "даным --- аным --- ['данным', 'данный', 'данные']\n",
      "шнутография --- шнутография --- ['шунтография']\n",
      "сникопальных --- сникнуть опальный --- ['синкопальных', 'синкопальный']\n",
      "посление --- послание --- ['поселение', 'последний']\n",
      "ходавый --- ход выя --- ['ходовый']\n",
      "сентированный --- сентированный --- ['стентированный']\n",
      "перевдена --- перёв ден --- ['переведена']\n",
      "стентированеим --- стентированеим --- ['стентированием', 'стентирование']\n",
      "кардиол --- кардио --- ['кардиолог,кардиологический']\n",
      "переведна --- перёв дно --- ['переведена', 'переведен']\n",
      "догосптальном --- догосптальном --- ['догоспитальном', 'догоспитальный']\n",
      "миним --- минин --- ['минимум', 'минимальный']\n",
      "оклюзия --- около люзия --- ['окклюзия']\n",
      "зарегистирована --- зарегистирована --- ['зарегистрирована', 'зарегистрирован']\n",
      "сегмета --- семема --- ['сегмента', 'сегмент']\n",
      "клекте --- плектр --- ['клетке', 'клетка']\n",
      "нижн --- ниж --- ['нижний']\n",
      "прводилась --- прводилась --- ['проводилась', 'проводить']\n",
      "госптализирован --- госптализирован --- ['госпитализирован']\n",
      "послеоперационом --- послеоперационом --- ['послеоперационном', 'послеоперационный']\n",
      "госпитализирова --- госпитализировать --- ['госпитализирован']\n",
      "рентг --- ре нтг --- ['рентген']\n",
      "дальнешем --- дальнешем --- ['дальнейшем', 'дальнейший']\n",
      "троботическая --- троботическая --- ['тромботическая', 'тромботический']\n",
      "многосоудистое --- многосоудистое --- ['многососудистое', 'многососудистый']\n",
      "миокрада --- монрада --- ['миокарда', 'миокард']\n",
      "сопрвождались --- сопрвождались --- ['сопровождались', 'сопровождать']\n",
      "рание --- рань быть --- ['ранее', 'ранние']\n",
      "ангинозныеболи --- ангинозныеболи --- ['ангинозные боли', 'ангиозный боль']\n",
      "догоситальном --- догоситальном --- ['догоспитальном', 'догоспитальный']\n",
      "ввполнен --- вполне --- ['выполнен']\n",
      "чаосв --- чао св --- ['часов', 'час']\n",
      "октазалась --- октазалась --- ['отказалась', 'отказался']\n",
      "ммента --- мм ента --- ['момента', 'момент']\n",
      "проведеной --- провести ой --- ['проведенной']\n",
      "леченяи --- леченый --- ['лечения', 'лечение']\n",
      "обтилась --- обтирать --- ['обратилась', 'обогатить']\n",
      "зарегистриованы --- зарегистриованы --- ['зарегистрированы', 'зарегистрирован']\n",
      "отицает --- отицает --- ['отрицает', 'отрицать']\n",
      "дальнейщем --- дальнейщем --- ['дальнейшем', 'дальнейший']\n",
      "болисохраняются --- болисохраняются --- ['боли сохраняются', 'боль сохраняется']\n",
      "частичынм --- частично --- ['частичным', 'частичный']\n",
      "атерокслеротичсекая --- атерокслеротичсекая --- ['атеросклеротическая', 'атеросклеротический']\n",
      "назначаля --- назначать я --- ['назначался', 'назначать']\n",
      "беспакоют --- беспакоют --- ['беспокоят', 'беспокоить']\n",
      "гипертензи --- гипертензин --- ['гипертензия']\n",
      "поворное --- поворот --- ['повторное']\n",
      "ощуащет --- ощуащет --- ['ощущает', 'ощущуать']\n",
      "ангигнозного --- ангигнозного --- ['ангинозного', 'ангинозный']\n",
      "поддерживающией --- поддерживающией --- ['поддерживающий']\n",
      "гшрядки --- грядкин --- ['грядки', 'грядка']\n",
      "возлуха --- воз лух --- ['воздуха', 'воздух']\n",
      "постояная --- постоянно --- ['постоянная', 'постоянный']\n",
      "рекмоендовнао --- рекмоендовнао --- ['рекомендовано']\n",
      "импалнтирован --- импалнтирован --- ['имплантирован', 'имплантировать']\n",
      "неочетливая --- неочетливая --- ['неотчетливая', 'неотчетливый']\n",
      "лергия --- лера гия --- ['аллергия']\n",
      "ука --- у ка --- ['рука']\n",
      "жение --- женить быть --- ['жжение']\n",
      "рствор --- створ --- ['раствор']\n",
      "нпреносимость --- переносимость --- ['непереносимость']\n",
      "амупула --- аму пул --- ['ампула']\n",
      "гел --- геп --- ['гель']\n",
      "рилиф --- рилиф --- ['релиф']\n",
      "чссс --- чсс с --- ['ЧСС', 'чсс']\n",
      "хрон --- хр он --- ['хронический']\n",
      "гиподин --- гип один --- ['гиподинамический']\n",
      "нерный --- серный --- ['нервный']\n",
      "сист --- с истый --- ['система']\n",
      "гипоксмия --- гипоксия --- ['гипоксемия']\n",
      "ледокоин --- леокаин --- ['лидокаин']\n",
      "малоинвозивный --- малоинвозивный --- ['малоинвазивный']\n",
      "алация --- акация --- ['аблация', 'абляция']\n",
      "имь --- имя --- ['ИМ', 'им']\n",
      "тяжолый --- тяжёлый --- ['тяжелый']\n",
      "вс --- вс --- ['вес']\n",
      "лешний --- леший --- ['лишний']\n",
      "орта --- орта --- ['аорта']\n",
      "клапа --- к лапа --- ['клапан']\n",
      "вент --- вено так --- ['вена']\n",
      "палый --- палый --- ['полый']\n",
      "пирикард --- пири карда --- ['перикард']\n",
      "метральный --- метальный --- ['митральный']\n",
      "херург --- хер рг --- ['хирург']\n",
      "килограм --- кило грам --- ['килограмм']\n",
      "акенезия --- агенезия --- ['акинезия']\n",
      "вес --- вес --- ['весь']\n",
      "сьенка --- сценка --- ['стенка']\n",
      "сридиный --- триединый --- ['срединный']\n",
      "апарат --- а паратый --- ['аппарат']\n",
      "потология --- помология --- ['патология']\n",
      "перекард --- перо карда --- ['перикард']\n",
      "деаметр --- декаметр --- ['диаметр']\n",
      "аслажнение --- увлажнение --- ['осложнение']\n",
      "одоптировать --- адоптировать --- ['адаптировать']\n",
      "тичение --- точение --- ['течение']\n",
      "пребование --- требование --- ['пребывание']\n",
      "отбиление --- отличение --- ['отделение']\n",
      "месро --- метро --- ['место']\n",
      "шнут --- широта нут --- ['шунт']\n",
      "готчина --- гот чин --- ['гатчина']\n",
      "эхэ --- эх --- ['эхо']\n",
      "каранарный --- карандашный --- ['коронарный']\n",
      "ортерия --- остерия --- ['артерия']\n",
      "стинос --- тинос --- ['стеноз']\n",
      "имья --- илья --- ['имя']\n",
      "пиринести --- принести --- ['перенести']\n",
      "моикарда --- мой карда --- ['миокарда']\n",
      "спразка --- сп разок --- ['справка']\n",
      "инфарктмиокарда --- инфарктмиокарда --- ['инфаркт миокарда', 'инфаркт миокард']\n",
      "узловаятахикардия --- узловаятахикардия --- ['узловая тахикардия', 'узловой тахикардия']\n",
      "счастотой --- счастотой --- ['с частотой', 'с частота', 'частота']\n",
      "Right corrected words count - 87 of 200 total\n"
     ]
    },
    {
     "name": "stderr",
     "output_type": "stream",
     "text": [
      "100%|██████████| 200/200 [00:07<00:00, 28.31it/s]"
     ]
    },
    {
     "name": "stdout",
     "output_type": "stream",
     "text": [
      "Lexical precision\n",
      "original_word_list --- corrected_word\n",
      "постепенной --- по степенной\n",
      "проникающий --- проникнуть ать\n",
      "ометать --- ома тать\n",
      "гипопноэ --- гипопион\n",
      "тропонин --- тропацин\n",
      "сжимающее --- сжим ать\n",
      "тенорик --- тенорок\n",
      "мертенил --- мера тенить\n",
      "контрпульсатор --- контры пульсатор\n",
      "соталол --- ситалл\n",
      "гепатин --- геп атин\n",
      "стентирование --- патентирование\n",
      "задненижний --- задний нижний\n",
      "формирующийся --- сорбирующийся\n",
      "Right corrected words count - 186 of 200 total\n"
     ]
    },
    {
     "name": "stderr",
     "output_type": "stream",
     "text": [
      "\n"
     ]
    },
    {
     "data": {
      "text/plain": "{'words_per_second': 6.005018802460758,\n 'error_precision': 0.435,\n 'lexical_precision': 0.93,\n 'overall_precision': 0.6825}"
     },
     "execution_count": 45,
     "metadata": {},
     "output_type": "execute_result"
    }
   ],
   "source": [
    "test_med_spellchecker_result = metric_test_without_context.compute_all_metrics(\n",
    "    test_med_spellchecker, test_med_spellchecker\n",
    ")\n",
    "\n",
    "test_med_spellchecker_result"
   ],
   "metadata": {
    "collapsed": false,
    "pycharm": {
     "name": "#%%\n"
    }
   }
  },
  {
   "cell_type": "markdown",
   "source": [
    "## Show results in table"
   ],
   "metadata": {
    "collapsed": false,
    "pycharm": {
     "name": "#%% md\n"
    }
   }
  },
  {
   "cell_type": "code",
   "execution_count": 46,
   "outputs": [
    {
     "name": "stdout",
     "output_type": "stream",
     "text": [
      "huggingface/tokenizers: The current process just got forked, after parallelism has already been used. Disabling parallelism to avoid deadlocks...\n",
      "To disable this warning, you can either:\n",
      "\t- Avoid using `tokenizers` before the fork if possible\n",
      "\t- Explicitly set the environment variable TOKENIZERS_PARALLELISM=(true | false)\n",
      "Requirement already satisfied: tabulate in /home/Dmitry.Pogrebnoy/Desktop/MedSpellChecker/venv/lib/python3.9/site-packages (0.8.9)\r\n"
     ]
    }
   ],
   "source": [
    "!pip install tabulate"
   ],
   "metadata": {
    "collapsed": false,
    "pycharm": {
     "name": "#%%\n"
    }
   }
  },
  {
   "cell_type": "code",
   "execution_count": 47,
   "outputs": [],
   "source": [
    "from tabulate import tabulate"
   ],
   "metadata": {
    "collapsed": false,
    "pycharm": {
     "name": "#%%\n"
    }
   }
  },
  {
   "cell_type": "code",
   "execution_count": 48,
   "outputs": [
    {
     "name": "stdout",
     "output_type": "stream",
     "text": [
      "Tool name                          Avg words per second    Error precision    Lexical precision    Overall precision\n",
      "-------------------------------  ----------------------  -----------------  -------------------  -------------------\n",
      "Symspell lookup                             15151.9                  0.425                0.78                0.6025\n",
      "Symspell lookup compound                      846.468                0.465                0.54                0.5025\n",
      "Jumspell                                     1962.15                 0.4                  0.935               0.6675\n",
      "LanguageTool                                   31.2361               0.66                 0.85                0.755\n",
      "Aspell                                        229.127                0.65                 0.895               0.7725\n",
      "Hunspell                                       11.9286               0.6                  0.485               0.5425\n",
      "PySpellChecker (Peter Norvig's)                 4.21424              0.345                0.79                0.5675\n",
      "Enchant                                        26.7246               0.61                 0.455               0.5325\n",
      "MedSpellchecker (CPU)                           6.00502              0.435                0.93                0.6825\n"
     ]
    }
   ],
   "source": [
    "header = [\"Tool name\", \"Avg words per second\", \"Error precision\", \"Lexical precision\", \"Overall precision\"]\n",
    "table = [#[\"Spellchecker prototype v2\", spellchecker_prototype_v2_metrics[\"words_per_second\"], spellchecker_prototype_v2_metrics[\"error_precision\"], spellchecker_prototype_v2_metrics[\"lexical_precision\"], spellchecker_prototype_v2_metrics[\"overall_precision\"]],\n",
    "         [\"Symspell lookup\", test_symspell_py_lookup_result[\"words_per_second\"], test_symspell_py_lookup_result[\"error_precision\"], test_symspell_py_lookup_result[\"lexical_precision\"], test_symspell_py_lookup_result[\"overall_precision\"]],\n",
    "         [\"Symspell lookup compound\", test_symspell_py_lookup_compound_result[\"words_per_second\"], test_symspell_py_lookup_compound_result[\"error_precision\"], test_symspell_py_lookup_compound_result[\"lexical_precision\"], test_symspell_py_lookup_compound_result[\"overall_precision\"]],\n",
    "         [\"Jumspell\", test_jumspell_result[\"words_per_second\"], test_jumspell_result[\"error_precision\"], test_jumspell_result[\"lexical_precision\"], test_jumspell_result[\"overall_precision\"]],\n",
    "         [\"LanguageTool\", test_language_tool_result[\"words_per_second\"], test_language_tool_result[\"error_precision\"], test_language_tool_result[\"lexical_precision\"], test_language_tool_result[\"overall_precision\"]],\n",
    "         [\"Aspell\", test_aspell_result[\"words_per_second\"], test_aspell_result[\"error_precision\"], test_aspell_result[\"lexical_precision\"], test_aspell_result[\"overall_precision\"]],\n",
    "         [\"Hunspell\", test_hunspell_result[\"words_per_second\"], test_hunspell_result[\"error_precision\"], test_hunspell_result[\"lexical_precision\"], test_hunspell_result[\"overall_precision\"]],\n",
    "         [\"PySpellChecker (Peter Norvig's)\", test_pyspellshecker_result[\"words_per_second\"], test_pyspellshecker_result[\"error_precision\"], test_pyspellshecker_result[\"lexical_precision\"], test_pyspellshecker_result[\"overall_precision\"]],\n",
    "         [\"Enchant\", test_enchant_result[\"words_per_second\"], test_enchant_result[\"error_precision\"], test_enchant_result[\"lexical_precision\"], test_enchant_result[\"overall_precision\"]],\n",
    "         [\"MedSpellchecker (CPU)\", test_med_spellchecker_result[\"words_per_second\"], test_med_spellchecker_result[\"error_precision\"], test_med_spellchecker_result[\"lexical_precision\"], test_med_spellchecker_result[\"overall_precision\"]]\n",
    "]\n",
    "print(tabulate(table, headers=header))"
   ],
   "metadata": {
    "collapsed": false,
    "pycharm": {
     "name": "#%%\n"
    }
   }
  },
  {
   "cell_type": "code",
   "execution_count": 48,
   "outputs": [],
   "source": [],
   "metadata": {
    "collapsed": false,
    "pycharm": {
     "name": "#%%\n"
    }
   }
  }
 ],
 "metadata": {
  "colab": {
   "name": "Spellchecker_tests.ipynb",
   "provenance": []
  },
  "kernelspec": {
   "display_name": "Python 3 (ipykernel)",
   "language": "python",
   "name": "python3"
  },
  "language_info": {
   "codemirror_mode": {
    "name": "ipython",
    "version": 3
   },
   "file_extension": ".py",
   "mimetype": "text/x-python",
   "name": "python",
   "nbconvert_exporter": "python",
   "pygments_lexer": "ipython3",
   "version": "3.9.1"
  }
 },
 "nbformat": 4,
 "nbformat_minor": 1
}