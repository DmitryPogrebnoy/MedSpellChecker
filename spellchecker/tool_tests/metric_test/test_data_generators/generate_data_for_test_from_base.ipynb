{
 "cells": [
  {
   "cell_type": "code",
   "execution_count": 5,
   "metadata": {
    "collapsed": true
   },
   "outputs": [],
   "source": [
    "import pandas as pd\n",
    "import numpy as np"
   ]
  },
  {
   "cell_type": "markdown",
   "source": [
    "Let's create test dataset for test with context and without context."
   ],
   "metadata": {
    "collapsed": false
   }
  },
  {
   "cell_type": "code",
   "execution_count": 6,
   "outputs": [],
   "source": [
    "PATH_TO_TEST_DATA_BASE = \"../../../../data/test/data_for_test_base.csv\""
   ],
   "metadata": {
    "collapsed": false
   }
  },
  {
   "cell_type": "code",
   "execution_count": 7,
   "outputs": [],
   "source": [
    "PATH_TO_WRONG_CHAR_TEST_WITHOUT_CONTEXT = \"../../../../data/test/without_context/data_wrong_char_without_context.csv\"\n",
    "PATH_TO_MISSING_CHAR_TEST_WITHOUT_CONTEXT = \"../../../../data/test/without_context/data_missing_char_without_context.csv\"\n",
    "PATH_TO_SHUFFLED_CHAR_TEST_WITHOUT_CONTEXT = \"../../../../data/test/without_context/data_shuffled_char_without_context.csv\"\n",
    "PATH_TO_EXTRA_CHAR_TEST_WITHOUT_CONTEXT = \"../../../../data/test/without_context/data_extra_char_without_context.csv\"\n",
    "PATH_TO_MISSING_SPACE_TEST_WITHOUT_CONTEXT = \"../../../../data/test/without_context/data_missing_space_without_context.csv\"\n",
    "PATH_TO_EXTRA_SPACE_TEST_WITHOUT_CONTEXT = \"../../../../data/test/without_context/data_extra_space_without_context.csv\"\n",
    "\n",
    "PATH_TO_WRONG_CHAR_TEST_WITH_CONTEXT = \"../../../../data/test/with_context/data_wrong_char_with_context.csv\"\n",
    "PATH_TO_MISSING_CHAR_TEST_WITH_CONTEXT = \"../../../../data/test/with_context/data_missing_char_with_context.csv\"\n",
    "PATH_TO_SHUFFLED_CHAR_TEST_WITH_CONTEXT = \"../../../../data/test/with_context/data_shuffled_char_with_context.csv\"\n",
    "PATH_TO_EXTRA_CHAR_TEST_WITH_CONTEXT = \"../../../../data/test/with_context/data_extra_char_with_context.csv\"\n",
    "PATH_TO_MISSING_SPACE_TEST_WITH_CONTEXT = \"../../../../data/test/with_context/data_missing_space_with_context.csv\"\n",
    "PATH_TO_EXTRA_SPACE_TEST_WITH_CONTEXT = \"../../../../data/test/with_context/data_extra_space_with_context.csv\"\n",
    "\n",
    "PATH_TO_WRONG_CHAR_TEST_BASE = \"../../../../data/test/data_for_test_wrong_char.csv\"\n",
    "PATH_TO_MISSING_CHAR_TEST_BASE = \"../../../../data/test/data_for_test_missing_char.csv\"\n",
    "PATH_TO_SHUFFLED_CHAR_TEST_BASE = \"../../../../data/test/data_for_test_shuffled_char.csv\"\n",
    "PATH_TO_EXTRA_CHAR_TEST_BASE = \"../../../../data/test/data_for_test_extra_char.csv\""
   ],
   "metadata": {
    "collapsed": false
   }
  },
  {
   "cell_type": "markdown",
   "source": [
    "# Generate data for tests without context"
   ],
   "metadata": {
    "collapsed": false
   }
  },
  {
   "cell_type": "code",
   "execution_count": 39,
   "outputs": [],
   "source": [
    "def create_test_without_context(path_to_data_base, path_to_result):\n",
    "    df = pd.read_csv(path_to_data_base)\n",
    "    corrected_words = []\n",
    "    poses = df.pos_incorrect_word.values\n",
    "    for i, answer in enumerate(df.answer.values):\n",
    "        splitted_answer = answer.split()\n",
    "        corrected_words.append(splitted_answer[poses[i]])\n",
    "    df[\"correct_word\"] = corrected_words\n",
    "    df.drop(columns=[\"answer\",\"pos_incorrect_word\"], inplace=True)\n",
    "    df.to_csv(path_to_result, index=None)"
   ],
   "metadata": {
    "collapsed": false
   }
  },
  {
   "cell_type": "code",
   "execution_count": 35,
   "outputs": [],
   "source": [
    "list_of_data_tests_without_context = [(PATH_TO_WRONG_CHAR_TEST_BASE, PATH_TO_WRONG_CHAR_TEST_WITHOUT_CONTEXT),\n",
    "                                      (PATH_TO_MISSING_CHAR_TEST_BASE, PATH_TO_MISSING_CHAR_TEST_WITHOUT_CONTEXT),\n",
    "                                      (PATH_TO_EXTRA_CHAR_TEST_BASE, PATH_TO_EXTRA_CHAR_TEST_WITHOUT_CONTEXT),\n",
    "                                      (PATH_TO_SHUFFLED_CHAR_TEST_BASE, PATH_TO_SHUFFLED_CHAR_TEST_WITHOUT_CONTEXT)]"
   ],
   "metadata": {
    "collapsed": false
   }
  },
  {
   "cell_type": "code",
   "execution_count": 38,
   "outputs": [],
   "source": [
    "for path_base, path_result in list_of_data_tests_without_context:\n",
    "    create_test_without_context(path_base, path_result)"
   ],
   "metadata": {
    "collapsed": false
   }
  },
  {
   "cell_type": "markdown",
   "source": [
    "### Generate test for missing spaces"
   ],
   "metadata": {
    "collapsed": false
   }
  },
  {
   "cell_type": "code",
   "execution_count": 2,
   "outputs": [],
   "source": [
    "base_df = pd.read_csv(PATH_TO_TEST_DATA_BASE)"
   ],
   "metadata": {
    "collapsed": false
   }
  },
  {
   "cell_type": "code",
   "execution_count": 4,
   "outputs": [
    {
     "data": {
      "text/plain": "                                              answer  pos_incorrect_word  \\\n0  промежуточный артерия момент госпитализация пр...                   3   \n1  стентирование лекарственный достигнуть оптимал...                   4   \n2  тип перевести дообследование подбор терапия те...                   4   \n3  конец июнь диагноз выставить повышение тропони...                   4   \n4  контрольный анализ вираж кардиоспецифический ф...                   4   \n\n     incorrect_word  \n0    госпитализация  \n1  ангиографический  \n2           терапия  \n3         повышение  \n4           фермент  ",
      "text/html": "<div>\n<style scoped>\n    .dataframe tbody tr th:only-of-type {\n        vertical-align: middle;\n    }\n\n    .dataframe tbody tr th {\n        vertical-align: top;\n    }\n\n    .dataframe thead th {\n        text-align: right;\n    }\n</style>\n<table border=\"1\" class=\"dataframe\">\n  <thead>\n    <tr style=\"text-align: right;\">\n      <th></th>\n      <th>answer</th>\n      <th>pos_incorrect_word</th>\n      <th>incorrect_word</th>\n    </tr>\n  </thead>\n  <tbody>\n    <tr>\n      <th>0</th>\n      <td>промежуточный артерия момент госпитализация пр...</td>\n      <td>3</td>\n      <td>госпитализация</td>\n    </tr>\n    <tr>\n      <th>1</th>\n      <td>стентирование лекарственный достигнуть оптимал...</td>\n      <td>4</td>\n      <td>ангиографический</td>\n    </tr>\n    <tr>\n      <th>2</th>\n      <td>тип перевести дообследование подбор терапия те...</td>\n      <td>4</td>\n      <td>терапия</td>\n    </tr>\n    <tr>\n      <th>3</th>\n      <td>конец июнь диагноз выставить повышение тропони...</td>\n      <td>4</td>\n      <td>повышение</td>\n    </tr>\n    <tr>\n      <th>4</th>\n      <td>контрольный анализ вираж кардиоспецифический ф...</td>\n      <td>4</td>\n      <td>фермент</td>\n    </tr>\n  </tbody>\n</table>\n</div>"
     },
     "execution_count": 4,
     "metadata": {},
     "output_type": "execute_result"
    }
   ],
   "source": [
    "base_df.head()"
   ],
   "metadata": {
    "collapsed": false
   }
  },
  {
   "cell_type": "code",
   "execution_count": 5,
   "outputs": [],
   "source": [
    "list_of_pairs = []\n",
    "for item in base_df.answer.values:\n",
    "    splitted = item.split()\n",
    "    pairs = [splitted[i]+' '+splitted[i+1] for i in range(len(splitted)-1)]\n",
    "    list_of_pairs.append(pairs)\n",
    "flat_list = [item for sublist in list_of_pairs for item in sublist]"
   ],
   "metadata": {
    "collapsed": false
   }
  },
  {
   "cell_type": "code",
   "execution_count": 10,
   "outputs": [],
   "source": [
    "flat_list_with_concatenated_pair = [item.replace(\" \", \"\") for item in flat_list]"
   ],
   "metadata": {
    "collapsed": false
   }
  },
  {
   "cell_type": "code",
   "execution_count": 15,
   "outputs": [
    {
     "data": {
      "text/plain": "             incorrect_word               correct_word\n0      промежуточныйартерия      промежуточный артерия\n1             артериямомент             артерия момент\n2      моментгоспитализация      момент госпитализация\n3  госпитализацияпроведение  госпитализация проведение\n4        проведениеоперация        проведение операция",
      "text/html": "<div>\n<style scoped>\n    .dataframe tbody tr th:only-of-type {\n        vertical-align: middle;\n    }\n\n    .dataframe tbody tr th {\n        vertical-align: top;\n    }\n\n    .dataframe thead th {\n        text-align: right;\n    }\n</style>\n<table border=\"1\" class=\"dataframe\">\n  <thead>\n    <tr style=\"text-align: right;\">\n      <th></th>\n      <th>incorrect_word</th>\n      <th>correct_word</th>\n    </tr>\n  </thead>\n  <tbody>\n    <tr>\n      <th>0</th>\n      <td>промежуточныйартерия</td>\n      <td>промежуточный артерия</td>\n    </tr>\n    <tr>\n      <th>1</th>\n      <td>артериямомент</td>\n      <td>артерия момент</td>\n    </tr>\n    <tr>\n      <th>2</th>\n      <td>моментгоспитализация</td>\n      <td>момент госпитализация</td>\n    </tr>\n    <tr>\n      <th>3</th>\n      <td>госпитализацияпроведение</td>\n      <td>госпитализация проведение</td>\n    </tr>\n    <tr>\n      <th>4</th>\n      <td>проведениеоперация</td>\n      <td>проведение операция</td>\n    </tr>\n  </tbody>\n</table>\n</div>"
     },
     "execution_count": 15,
     "metadata": {},
     "output_type": "execute_result"
    }
   ],
   "source": [
    "missing_spaces_test = pd.DataFrame({\"incorrect_word\":flat_list_with_concatenated_pair, \"correct_word\": flat_list})\n",
    "missing_spaces_test.head()"
   ],
   "metadata": {
    "collapsed": false
   }
  },
  {
   "cell_type": "code",
   "execution_count": 18,
   "outputs": [],
   "source": [
    "missing_spaces_test.to_csv(PATH_TO_MISSING_SPACE_TEST_WITHOUT_CONTEXT, index=None)"
   ],
   "metadata": {
    "collapsed": false
   }
  },
  {
   "cell_type": "markdown",
   "source": [
    "### Generate test with extra spaces"
   ],
   "metadata": {
    "collapsed": false
   }
  },
  {
   "cell_type": "code",
   "execution_count": 8,
   "outputs": [
    {
     "data": {
      "text/plain": "                                              answer  pos_incorrect_word  \\\n0  промежуточный артерия момент госпитализация пр...                   3   \n1  стентирование лекарственный достигнуть оптимал...                   4   \n2  тип перевести дообследование подбор терапия те...                   4   \n3  конец июнь диагноз выставить повышение тропони...                   4   \n4  контрольный анализ вираж кардиоспецифический ф...                   4   \n\n     incorrect_word  \n0    госпитализация  \n1  ангиографический  \n2           терапия  \n3         повышение  \n4           фермент  ",
      "text/html": "<div>\n<style scoped>\n    .dataframe tbody tr th:only-of-type {\n        vertical-align: middle;\n    }\n\n    .dataframe tbody tr th {\n        vertical-align: top;\n    }\n\n    .dataframe thead th {\n        text-align: right;\n    }\n</style>\n<table border=\"1\" class=\"dataframe\">\n  <thead>\n    <tr style=\"text-align: right;\">\n      <th></th>\n      <th>answer</th>\n      <th>pos_incorrect_word</th>\n      <th>incorrect_word</th>\n    </tr>\n  </thead>\n  <tbody>\n    <tr>\n      <th>0</th>\n      <td>промежуточный артерия момент госпитализация пр...</td>\n      <td>3</td>\n      <td>госпитализация</td>\n    </tr>\n    <tr>\n      <th>1</th>\n      <td>стентирование лекарственный достигнуть оптимал...</td>\n      <td>4</td>\n      <td>ангиографический</td>\n    </tr>\n    <tr>\n      <th>2</th>\n      <td>тип перевести дообследование подбор терапия те...</td>\n      <td>4</td>\n      <td>терапия</td>\n    </tr>\n    <tr>\n      <th>3</th>\n      <td>конец июнь диагноз выставить повышение тропони...</td>\n      <td>4</td>\n      <td>повышение</td>\n    </tr>\n    <tr>\n      <th>4</th>\n      <td>контрольный анализ вираж кардиоспецифический ф...</td>\n      <td>4</td>\n      <td>фермент</td>\n    </tr>\n  </tbody>\n</table>\n</div>"
     },
     "execution_count": 8,
     "metadata": {},
     "output_type": "execute_result"
    }
   ],
   "source": [
    "base_df = pd.read_csv(PATH_TO_TEST_DATA_BASE)\n",
    "base_df.head()"
   ],
   "metadata": {
    "collapsed": false
   }
  },
  {
   "cell_type": "code",
   "execution_count": 9,
   "outputs": [],
   "source": [
    "import random\n",
    "\n",
    "random.seed(2022)\n",
    "\n",
    "list_of_word_pairs = []\n",
    "for item in base_df.answer.values:\n",
    "    splitted = item.split()\n",
    "    for word in splitted:\n",
    "        i = random.randrange(1,len(word))\n",
    "        word_with_space = word[:i] + \" \" + word[i:]\n",
    "        list_of_word_pairs.append((word_with_space, word))\n",
    "incorrect_word_list, correct_word_list = zip(*list_of_word_pairs)"
   ],
   "metadata": {
    "collapsed": false
   }
  },
  {
   "cell_type": "code",
   "execution_count": 10,
   "outputs": [
    {
     "data": {
      "text/plain": "    incorrect_word    correct_word\n0   промежуто чный   промежуточный\n1         арт ерия         артерия\n2          моме нт          момент\n3  госпитали зация  госпитализация\n4      прове дение      проведение",
      "text/html": "<div>\n<style scoped>\n    .dataframe tbody tr th:only-of-type {\n        vertical-align: middle;\n    }\n\n    .dataframe tbody tr th {\n        vertical-align: top;\n    }\n\n    .dataframe thead th {\n        text-align: right;\n    }\n</style>\n<table border=\"1\" class=\"dataframe\">\n  <thead>\n    <tr style=\"text-align: right;\">\n      <th></th>\n      <th>incorrect_word</th>\n      <th>correct_word</th>\n    </tr>\n  </thead>\n  <tbody>\n    <tr>\n      <th>0</th>\n      <td>промежуто чный</td>\n      <td>промежуточный</td>\n    </tr>\n    <tr>\n      <th>1</th>\n      <td>арт ерия</td>\n      <td>артерия</td>\n    </tr>\n    <tr>\n      <th>2</th>\n      <td>моме нт</td>\n      <td>момент</td>\n    </tr>\n    <tr>\n      <th>3</th>\n      <td>госпитали зация</td>\n      <td>госпитализация</td>\n    </tr>\n    <tr>\n      <th>4</th>\n      <td>прове дение</td>\n      <td>проведение</td>\n    </tr>\n  </tbody>\n</table>\n</div>"
     },
     "execution_count": 10,
     "metadata": {},
     "output_type": "execute_result"
    }
   ],
   "source": [
    "extra_spaces_test = pd.DataFrame({\"incorrect_word\":incorrect_word_list, \"correct_word\": correct_word_list})\n",
    "extra_spaces_test.head()"
   ],
   "metadata": {
    "collapsed": false
   }
  },
  {
   "cell_type": "code",
   "execution_count": 11,
   "outputs": [],
   "source": [
    "extra_spaces_test.to_csv(PATH_TO_EXTRA_SPACE_TEST_WITHOUT_CONTEXT, index=None)"
   ],
   "metadata": {
    "collapsed": false
   }
  },
  {
   "cell_type": "markdown",
   "source": [
    "# Generate data for test with context"
   ],
   "metadata": {
    "collapsed": false
   }
  },
  {
   "cell_type": "code",
   "execution_count": null,
   "outputs": [],
   "source": [
    "def create_test_with_context(path_to_data_base, path_to_result):\n",
    "    df = pd.read_csv(path_to_data_base)\n",
    "    incorrected_sentence = []\n",
    "    incorrected_words = df.incorrect_word.values\n",
    "    poses = df.pos_incorrect_word.values\n",
    "    for i, answer in enumerate(df.answer.values):\n",
    "        splitted_answer = answer.split()\n",
    "        splitted_answer[poses[i]] = incorrected_words[i]\n",
    "        incorrected_sentence.append(\" \".join(splitted_answer))\n",
    "    df[\"original\"] = incorrected_sentence\n",
    "    df.drop(columns=[\"incorrect_word\"], inplace=True)\n",
    "    df.to_csv(path_to_result, index=None)"
   ],
   "metadata": {
    "collapsed": false
   }
  },
  {
   "cell_type": "code",
   "execution_count": 42,
   "outputs": [],
   "source": [
    "list_of_data_tests_with_context = [(PATH_TO_WRONG_CHAR_TEST_BASE, PATH_TO_WRONG_CHAR_TEST_WITH_CONTEXT),\n",
    "                                      (PATH_TO_MISSING_CHAR_TEST_BASE, PATH_TO_MISSING_CHAR_TEST_WITH_CONTEXT),\n",
    "                                      (PATH_TO_EXTRA_CHAR_TEST_BASE, PATH_TO_EXTRA_CHAR_TEST_WITH_CONTEXT),\n",
    "                                      (PATH_TO_SHUFFLED_CHAR_TEST_BASE, PATH_TO_SHUFFLED_CHAR_TEST_WITH_CONTEXT)]"
   ],
   "metadata": {
    "collapsed": false
   }
  },
  {
   "cell_type": "code",
   "execution_count": 43,
   "outputs": [],
   "source": [
    "for path_base, path_result in list_of_data_tests_with_context:\n",
    "    create_test_without_context(path_base, path_result)"
   ],
   "metadata": {
    "collapsed": false
   }
  },
  {
   "cell_type": "markdown",
   "source": [
    "### Generate test for missing spaces"
   ],
   "metadata": {
    "collapsed": false
   }
  },
  {
   "cell_type": "code",
   "execution_count": 21,
   "outputs": [
    {
     "data": {
      "text/plain": "                                              answer  pos_incorrect_word  \\\n0  промежуточный артерия момент госпитализация пр...                   3   \n1  стентирование лекарственный достигнуть оптимал...                   4   \n2  тип перевести дообследование подбор терапия те...                   4   \n3  конец июнь диагноз выставить повышение тропони...                   4   \n4  контрольный анализ вираж кардиоспецифический ф...                   4   \n\n     incorrect_word  \n0    госпитализация  \n1  ангиографический  \n2           терапия  \n3         повышение  \n4           фермент  ",
      "text/html": "<div>\n<style scoped>\n    .dataframe tbody tr th:only-of-type {\n        vertical-align: middle;\n    }\n\n    .dataframe tbody tr th {\n        vertical-align: top;\n    }\n\n    .dataframe thead th {\n        text-align: right;\n    }\n</style>\n<table border=\"1\" class=\"dataframe\">\n  <thead>\n    <tr style=\"text-align: right;\">\n      <th></th>\n      <th>answer</th>\n      <th>pos_incorrect_word</th>\n      <th>incorrect_word</th>\n    </tr>\n  </thead>\n  <tbody>\n    <tr>\n      <th>0</th>\n      <td>промежуточный артерия момент госпитализация пр...</td>\n      <td>3</td>\n      <td>госпитализация</td>\n    </tr>\n    <tr>\n      <th>1</th>\n      <td>стентирование лекарственный достигнуть оптимал...</td>\n      <td>4</td>\n      <td>ангиографический</td>\n    </tr>\n    <tr>\n      <th>2</th>\n      <td>тип перевести дообследование подбор терапия те...</td>\n      <td>4</td>\n      <td>терапия</td>\n    </tr>\n    <tr>\n      <th>3</th>\n      <td>конец июнь диагноз выставить повышение тропони...</td>\n      <td>4</td>\n      <td>повышение</td>\n    </tr>\n    <tr>\n      <th>4</th>\n      <td>контрольный анализ вираж кардиоспецифический ф...</td>\n      <td>4</td>\n      <td>фермент</td>\n    </tr>\n  </tbody>\n</table>\n</div>"
     },
     "execution_count": 21,
     "metadata": {},
     "output_type": "execute_result"
    }
   ],
   "source": [
    "base_df = pd.read_csv(PATH_TO_TEST_DATA_BASE)\n",
    "base_df.head()"
   ],
   "metadata": {
    "collapsed": false
   }
  },
  {
   "cell_type": "code",
   "execution_count": 28,
   "outputs": [],
   "source": [
    "def remove_nth_space(string, n):\n",
    "    i = 1\n",
    "    result = []\n",
    "    for char in string:\n",
    "        if char == \" \":\n",
    "            if i == n:\n",
    "                i += 1\n",
    "                continue\n",
    "            else:\n",
    "                i += 1\n",
    "        result += char\n",
    "    return \"\".join(result)"
   ],
   "metadata": {
    "collapsed": false
   }
  },
  {
   "cell_type": "code",
   "execution_count": 34,
   "outputs": [],
   "source": [
    "list_of_examples = []\n",
    "for item in base_df.answer.values:\n",
    "    examples = []\n",
    "    for i in range(1,10):\n",
    "        examples.append(remove_nth_space(item, i))\n",
    "    list_of_examples.append(examples)"
   ],
   "metadata": {
    "collapsed": false
   }
  },
  {
   "cell_type": "code",
   "execution_count": 38,
   "outputs": [],
   "source": [
    "list_of_examples = [item for sublist in list_of_examples for item in sublist]"
   ],
   "metadata": {
    "collapsed": false
   }
  },
  {
   "cell_type": "code",
   "execution_count": 39,
   "outputs": [],
   "source": [
    "list_of_answers = np.repeat(base_df.answer.values,9)"
   ],
   "metadata": {
    "collapsed": false
   }
  },
  {
   "cell_type": "code",
   "execution_count": 40,
   "outputs": [
    {
     "data": {
      "text/plain": "900"
     },
     "execution_count": 40,
     "metadata": {},
     "output_type": "execute_result"
    }
   ],
   "source": [
    "len(list_of_answers)"
   ],
   "metadata": {
    "collapsed": false
   }
  },
  {
   "cell_type": "code",
   "execution_count": 58,
   "outputs": [],
   "source": [
    "missing_spaces_test = pd.DataFrame({\"original\": list_of_examples,\n",
    "                                    \"answer\": list_of_answers,\n",
    "                                    \"pos\": np.tile(np.arange(9), 100)})"
   ],
   "metadata": {
    "collapsed": false
   }
  },
  {
   "cell_type": "code",
   "execution_count": 61,
   "outputs": [],
   "source": [
    "missing_spaces_test.to_csv(PATH_TO_MISSING_SPACE_TEST_WITH_CONTEXT, index=None)"
   ],
   "metadata": {
    "collapsed": false
   }
  },
  {
   "cell_type": "markdown",
   "source": [
    "### Generate test with extra spaces"
   ],
   "metadata": {
    "collapsed": false
   }
  },
  {
   "cell_type": "code",
   "execution_count": 74,
   "outputs": [
    {
     "data": {
      "text/plain": "                                              answer  pos_incorrect_word  \\\n0  промежуточный артерия момент госпитализация пр...                   3   \n1  стентирование лекарственный достигнуть оптимал...                   4   \n2  тип перевести дообследование подбор терапия те...                   4   \n3  конец июнь диагноз выставить повышение тропони...                   4   \n4  контрольный анализ вираж кардиоспецифический ф...                   4   \n\n     incorrect_word  \n0    госпитализация  \n1  ангиографический  \n2           терапия  \n3         повышение  \n4           фермент  ",
      "text/html": "<div>\n<style scoped>\n    .dataframe tbody tr th:only-of-type {\n        vertical-align: middle;\n    }\n\n    .dataframe tbody tr th {\n        vertical-align: top;\n    }\n\n    .dataframe thead th {\n        text-align: right;\n    }\n</style>\n<table border=\"1\" class=\"dataframe\">\n  <thead>\n    <tr style=\"text-align: right;\">\n      <th></th>\n      <th>answer</th>\n      <th>pos_incorrect_word</th>\n      <th>incorrect_word</th>\n    </tr>\n  </thead>\n  <tbody>\n    <tr>\n      <th>0</th>\n      <td>промежуточный артерия момент госпитализация пр...</td>\n      <td>3</td>\n      <td>госпитализация</td>\n    </tr>\n    <tr>\n      <th>1</th>\n      <td>стентирование лекарственный достигнуть оптимал...</td>\n      <td>4</td>\n      <td>ангиографический</td>\n    </tr>\n    <tr>\n      <th>2</th>\n      <td>тип перевести дообследование подбор терапия те...</td>\n      <td>4</td>\n      <td>терапия</td>\n    </tr>\n    <tr>\n      <th>3</th>\n      <td>конец июнь диагноз выставить повышение тропони...</td>\n      <td>4</td>\n      <td>повышение</td>\n    </tr>\n    <tr>\n      <th>4</th>\n      <td>контрольный анализ вираж кардиоспецифический ф...</td>\n      <td>4</td>\n      <td>фермент</td>\n    </tr>\n  </tbody>\n</table>\n</div>"
     },
     "execution_count": 74,
     "metadata": {},
     "output_type": "execute_result"
    }
   ],
   "source": [
    "base_df = pd.read_csv(PATH_TO_TEST_DATA_BASE)\n",
    "base_df.head()"
   ],
   "metadata": {
    "collapsed": false
   }
  },
  {
   "cell_type": "code",
   "execution_count": 75,
   "outputs": [],
   "source": [
    "import random\n",
    "\n",
    "random.seed(2022)\n",
    "\n",
    "def generate_all_extra_space_examples(sentence):\n",
    "    result = []\n",
    "    for i, word in enumerate(sentence):\n",
    "        j = random.randrange(1,len(word))\n",
    "        word_with_space = word[:j] + \" \" + word[j:]\n",
    "        result.append(\n",
    "            (\" \".join(sentence[:i]) + \" \"+ word_with_space + \" \" + (\" \".join(sentence[i+1:])),\n",
    "             \" \".join(sentence),\n",
    "             i)\n",
    "        )\n",
    "    return result"
   ],
   "metadata": {
    "collapsed": false
   }
  },
  {
   "cell_type": "code",
   "execution_count": 76,
   "outputs": [],
   "source": [
    "list_of_word_pairs = []\n",
    "for item in base_df.answer.values:\n",
    "    splitted = item.split()\n",
    "    list_of_word_pairs.append(generate_all_extra_space_examples(splitted))\n",
    "list_of_examples = [item for sublist in list_of_word_pairs for item in sublist]\n",
    "incorrect_word_list, correct_word_list, pos_list = zip(*list_of_examples)"
   ],
   "metadata": {
    "collapsed": false
   }
  },
  {
   "cell_type": "code",
   "execution_count": 77,
   "outputs": [
    {
     "data": {
      "text/plain": "(' промежуто чный артерия момент госпитализация проведение операция пациентка помнить постоперационный период',\n 'промежуточный артерия момент госпитализация проведение операция пациентка помнить постоперационный период',\n 0)"
     },
     "execution_count": 77,
     "metadata": {},
     "output_type": "execute_result"
    }
   ],
   "source": [
    "list_of_examples[0]"
   ],
   "metadata": {
    "collapsed": false
   }
  },
  {
   "cell_type": "code",
   "execution_count": 78,
   "outputs": [
    {
     "data": {
      "text/plain": "0"
     },
     "execution_count": 78,
     "metadata": {},
     "output_type": "execute_result"
    }
   ],
   "source": [
    "pos_list[0]"
   ],
   "metadata": {
    "collapsed": false
   }
  },
  {
   "cell_type": "code",
   "execution_count": 79,
   "outputs": [],
   "source": [
    "extra_spaces_test = pd.DataFrame({\"original\": incorrect_word_list,\n",
    "                                    \"answer\": correct_word_list,\n",
    "                                    \"pos\": pos_list})"
   ],
   "metadata": {
    "collapsed": false
   }
  },
  {
   "cell_type": "code",
   "execution_count": 80,
   "outputs": [
    {
     "data": {
      "text/plain": "                                            original  \\\n0   промежуто чный артерия момент госпитализация ...   \n1  промежуточный арт ерия момент госпитализация п...   \n2  промежуточный артерия моме нт госпитализация п...   \n3  промежуточный артерия момент госпитали зация п...   \n4  промежуточный артерия момент госпитализация пр...   \n\n                                              answer  pos  \n0  промежуточный артерия момент госпитализация пр...    0  \n1  промежуточный артерия момент госпитализация пр...    1  \n2  промежуточный артерия момент госпитализация пр...    2  \n3  промежуточный артерия момент госпитализация пр...    3  \n4  промежуточный артерия момент госпитализация пр...    4  ",
      "text/html": "<div>\n<style scoped>\n    .dataframe tbody tr th:only-of-type {\n        vertical-align: middle;\n    }\n\n    .dataframe tbody tr th {\n        vertical-align: top;\n    }\n\n    .dataframe thead th {\n        text-align: right;\n    }\n</style>\n<table border=\"1\" class=\"dataframe\">\n  <thead>\n    <tr style=\"text-align: right;\">\n      <th></th>\n      <th>original</th>\n      <th>answer</th>\n      <th>pos</th>\n    </tr>\n  </thead>\n  <tbody>\n    <tr>\n      <th>0</th>\n      <td>промежуто чный артерия момент госпитализация ...</td>\n      <td>промежуточный артерия момент госпитализация пр...</td>\n      <td>0</td>\n    </tr>\n    <tr>\n      <th>1</th>\n      <td>промежуточный арт ерия момент госпитализация п...</td>\n      <td>промежуточный артерия момент госпитализация пр...</td>\n      <td>1</td>\n    </tr>\n    <tr>\n      <th>2</th>\n      <td>промежуточный артерия моме нт госпитализация п...</td>\n      <td>промежуточный артерия момент госпитализация пр...</td>\n      <td>2</td>\n    </tr>\n    <tr>\n      <th>3</th>\n      <td>промежуточный артерия момент госпитали зация п...</td>\n      <td>промежуточный артерия момент госпитализация пр...</td>\n      <td>3</td>\n    </tr>\n    <tr>\n      <th>4</th>\n      <td>промежуточный артерия момент госпитализация пр...</td>\n      <td>промежуточный артерия момент госпитализация пр...</td>\n      <td>4</td>\n    </tr>\n  </tbody>\n</table>\n</div>"
     },
     "execution_count": 80,
     "metadata": {},
     "output_type": "execute_result"
    }
   ],
   "source": [
    "extra_spaces_test.head()"
   ],
   "metadata": {
    "collapsed": false
   }
  },
  {
   "cell_type": "code",
   "execution_count": 81,
   "outputs": [],
   "source": [
    "extra_spaces_test.to_csv(PATH_TO_EXTRA_SPACE_TEST_WITH_CONTEXT, index=None)"
   ],
   "metadata": {
    "collapsed": false
   }
  },
  {
   "cell_type": "code",
   "execution_count": null,
   "outputs": [],
   "source": [],
   "metadata": {
    "collapsed": false
   }
  }
 ],
 "metadata": {
  "kernelspec": {
   "display_name": "Python 3",
   "language": "python",
   "name": "python3"
  },
  "language_info": {
   "codemirror_mode": {
    "name": "ipython",
    "version": 2
   },
   "file_extension": ".py",
   "mimetype": "text/x-python",
   "name": "python",
   "nbconvert_exporter": "python",
   "pygments_lexer": "ipython2",
   "version": "2.7.6"
  }
 },
 "nbformat": 4,
 "nbformat_minor": 0
}
