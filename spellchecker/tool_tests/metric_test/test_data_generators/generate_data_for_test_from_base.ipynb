{
 "cells": [
  {
   "cell_type": "code",
   "execution_count": 1,
   "metadata": {
    "collapsed": true
   },
   "outputs": [],
   "source": [
    "import pandas as pd"
   ]
  },
  {
   "cell_type": "markdown",
   "source": [
    "Let's create test dataset for test with context and without context."
   ],
   "metadata": {
    "collapsed": false
   }
  },
  {
   "cell_type": "code",
   "execution_count": 41,
   "outputs": [],
   "source": [
    "PATH_TO_WRONG_CHAR_TEST_WITHOUT_CONTEXT = \"../../../../data/test/without_context/data_wrong_char_without_context.csv\"\n",
    "PATH_TO_MISSING_CHAR_TEST_WITHOUT_CONTEXT = \"../../../../data/test/without_context/data_missing_char_without_context.csv\"\n",
    "PATH_TO_SHUFFLED_CHAR_TEST_WITHOUT_CONTEXT = \"../../../../data/test/without_context/data_shuffled_char_without_context.csv\"\n",
    "PATH_TO_EXTRA_CHAR_TEST_WITHOUT_CONTEXT = \"../../../../data/test/without_context/data_extra_char_without_context.csv\"\n",
    "\n",
    "PATH_TO_WRONG_CHAR_TEST_WITH_CONTEXT = \"../../../../data/test/with_context/data_wrong_char_without_context.csv\"\n",
    "PATH_TO_MISSING_CHAR_TEST_WITH_CONTEXT = \"../../../../data/test/with_context/data_missing_char_without_context.csv\"\n",
    "PATH_TO_SHUFFLED_CHAR_TEST_WITH_CONTEXT = \"../../../../data/test/with_context/data_shuffled_char_without_context.csv\"\n",
    "PATH_TO_EXTRA_CHAR_TEST_WITH_CONTEXT = \"../../../../data/test/with_context/data_extra_char_without_context.csv\"\n",
    "\n",
    "\n",
    "PATH_TO_WRONG_CHAR_TEST_BASE = \"../../../../data/test/data_for_test_wrong_char.csv\"\n",
    "PATH_TO_MISSING_CHAR_TEST_BASE = \"../../../../data/test/data_for_test_missing_char.csv\"\n",
    "PATH_TO_SHUFFLED_CHAR_TEST_BASE = \"../../../../data/test/data_for_test_shuffled_char.csv\"\n",
    "PATH_TO_EXTRA_CHAR_TEST_BASE = \"../../../../data/test/data_for_test_extra_char.csv\""
   ],
   "metadata": {
    "collapsed": false
   }
  },
  {
   "cell_type": "markdown",
   "source": [
    "# Generate data for tests without context"
   ],
   "metadata": {
    "collapsed": false
   }
  },
  {
   "cell_type": "code",
   "execution_count": 39,
   "outputs": [],
   "source": [
    "def create_test_without_context(path_to_data_base, path_to_result):\n",
    "    df = pd.read_csv(path_to_data_base)\n",
    "    corrected_words = []\n",
    "    poses = df.pos_incorrect_word.values\n",
    "    for i, answer in enumerate(df.answer.values):\n",
    "        splitted_answer = answer.split()\n",
    "        corrected_words.append(splitted_answer[poses[i]])\n",
    "    df[\"correct_word\"] = corrected_words\n",
    "    df.drop(columns=[\"answer\",\"pos_incorrect_word\"], inplace=True)\n",
    "    df.to_csv(path_to_result, index=None)"
   ],
   "metadata": {
    "collapsed": false
   }
  },
  {
   "cell_type": "code",
   "execution_count": 35,
   "outputs": [],
   "source": [
    "list_of_data_tests_without_context = [(PATH_TO_WRONG_CHAR_TEST_BASE, PATH_TO_WRONG_CHAR_TEST_WITHOUT_CONTEXT),\n",
    "                                      (PATH_TO_MISSING_CHAR_TEST_BASE, PATH_TO_MISSING_CHAR_TEST_WITHOUT_CONTEXT),\n",
    "                                      (PATH_TO_EXTRA_CHAR_TEST_BASE, PATH_TO_EXTRA_CHAR_TEST_WITHOUT_CONTEXT),\n",
    "                                      (PATH_TO_SHUFFLED_CHAR_TEST_BASE, PATH_TO_SHUFFLED_CHAR_TEST_WITHOUT_CONTEXT)]"
   ],
   "metadata": {
    "collapsed": false
   }
  },
  {
   "cell_type": "code",
   "execution_count": 38,
   "outputs": [],
   "source": [
    "for path_base, path_result in list_of_data_tests_without_context:\n",
    "    create_test_without_context(path_base, path_result)"
   ],
   "metadata": {
    "collapsed": false
   }
  },
  {
   "cell_type": "markdown",
   "source": [
    "# Generate data for test with context"
   ],
   "metadata": {
    "collapsed": false
   }
  },
  {
   "cell_type": "code",
   "execution_count": null,
   "outputs": [],
   "source": [
    "def create_test_with_context(path_to_data_base, path_to_result):\n",
    "    df = pd.read_csv(path_to_data_base)\n",
    "    incorrected_sentence = []\n",
    "    incorrected_words = df.incorrect_word.values\n",
    "    poses = df.pos_incorrect_word.values\n",
    "    for i, answer in enumerate(df.answer.values):\n",
    "        splitted_answer = answer.split()\n",
    "        splitted_answer[poses[i]] = incorrected_words[i]\n",
    "        incorrected_sentence.append(\" \".join(splitted_answer))\n",
    "    df[\"original\"] = incorrected_sentence\n",
    "    df.drop(columns=[\"incorrect_word\"], inplace=True)\n",
    "    df.to_csv(path_to_result, index=None)"
   ],
   "metadata": {
    "collapsed": false
   }
  },
  {
   "cell_type": "code",
   "execution_count": 42,
   "outputs": [],
   "source": [
    "list_of_data_tests_with_context = [(PATH_TO_WRONG_CHAR_TEST_BASE, PATH_TO_WRONG_CHAR_TEST_WITH_CONTEXT),\n",
    "                                      (PATH_TO_MISSING_CHAR_TEST_BASE, PATH_TO_MISSING_CHAR_TEST_WITH_CONTEXT),\n",
    "                                      (PATH_TO_EXTRA_CHAR_TEST_BASE, PATH_TO_EXTRA_CHAR_TEST_WITH_CONTEXT),\n",
    "                                      (PATH_TO_SHUFFLED_CHAR_TEST_BASE, PATH_TO_SHUFFLED_CHAR_TEST_WITH_CONTEXT)]"
   ],
   "metadata": {
    "collapsed": false
   }
  },
  {
   "cell_type": "code",
   "execution_count": 43,
   "outputs": [],
   "source": [
    "for path_base, path_result in list_of_data_tests_with_context:\n",
    "    create_test_without_context(path_base, path_result)"
   ],
   "metadata": {
    "collapsed": false
   }
  },
  {
   "cell_type": "code",
   "execution_count": null,
   "outputs": [],
   "source": [],
   "metadata": {
    "collapsed": false
   }
  }
 ],
 "metadata": {
  "kernelspec": {
   "display_name": "Python 3",
   "language": "python",
   "name": "python3"
  },
  "language_info": {
   "codemirror_mode": {
    "name": "ipython",
    "version": 2
   },
   "file_extension": ".py",
   "mimetype": "text/x-python",
   "name": "python",
   "nbconvert_exporter": "python",
   "pygments_lexer": "ipython2",
   "version": "2.7.6"
  }
 },
 "nbformat": 4,
 "nbformat_minor": 0
}
