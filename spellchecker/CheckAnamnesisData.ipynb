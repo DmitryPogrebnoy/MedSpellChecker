{
 "cells": [
  {
   "cell_type": "code",
   "execution_count": 59,
   "metadata": {
    "collapsed": true,
    "pycharm": {
     "name": "#%%\n"
    }
   },
   "outputs": [],
   "source": [
    "import pandas as pd\n",
    "import pickle\n",
    "import numpy as np\n",
    "import statistics\n",
    "import matplotlib"
   ]
  },
  {
   "cell_type": "code",
   "execution_count": 60,
   "outputs": [],
   "source": [
    "all_anams = pickle.load(open('../data/anamnesis/source/almazov_anamnesis_corpus/combined/all_anamnesis.pickle', 'rb'))"
   ],
   "metadata": {
    "collapsed": false,
    "pycharm": {
     "name": "#%%\n"
    }
   }
  },
  {
   "cell_type": "code",
   "execution_count": 61,
   "outputs": [],
   "source": [
    "list_of_word_size = list(map(lambda x: len(x), all_anams))"
   ],
   "metadata": {
    "collapsed": false,
    "pycharm": {
     "name": "#%%\n"
    }
   }
  },
  {
   "cell_type": "code",
   "execution_count": 62,
   "outputs": [],
   "source": [
    "data = pd.DataFrame(list_of_word_size, columns=[\"size\"], dtype=int)"
   ],
   "metadata": {
    "collapsed": false,
    "pycharm": {
     "name": "#%%\n"
    }
   }
  },
  {
   "cell_type": "code",
   "execution_count": 63,
   "outputs": [],
   "source": [
    "data[\"texts\"] = all_anams"
   ],
   "metadata": {
    "collapsed": false,
    "pycharm": {
     "name": "#%%\n"
    }
   }
  },
  {
   "cell_type": "code",
   "execution_count": 64,
   "outputs": [
    {
     "data": {
      "text/plain": "False"
     },
     "execution_count": 64,
     "metadata": {},
     "output_type": "execute_result"
    }
   ],
   "source": [
    "data.isnull().values.any()"
   ],
   "metadata": {
    "collapsed": false,
    "pycharm": {
     "name": "#%%\n"
    }
   }
  },
  {
   "cell_type": "code",
   "execution_count": 65,
   "outputs": [
    {
     "data": {
      "text/plain": "      size                                              texts\n0       27  [страдать, перенести, последний, ухудшение, ко...\n1      148  [год, артериальный, гипертензия, максимальный,...\n2      169  [пациент, год, длительный, анамнез, гипертонич...\n3      115  [год, артериальный, гипертензия, максимальный,...\n4       58  [считать, здоровый, ада, редкий, измерение, ст...\n...    ...                                                ...\n2677    70  [год, отмечать, подъём, ст, привычный, цифра, ...\n2678   126  [ага, год, максимальный, цифра, ада, ст, привы...\n2679    40  [длительный, время, страдать, гб, постоянный, ...\n2680    45  [артериальный, давление, повышаться, максималь...\n2681    64  [страдать, гб, год, симптомокомплекс, стенокар...\n\n[2682 rows x 2 columns]",
      "text/html": "<div>\n<style scoped>\n    .dataframe tbody tr th:only-of-type {\n        vertical-align: middle;\n    }\n\n    .dataframe tbody tr th {\n        vertical-align: top;\n    }\n\n    .dataframe thead th {\n        text-align: right;\n    }\n</style>\n<table border=\"1\" class=\"dataframe\">\n  <thead>\n    <tr style=\"text-align: right;\">\n      <th></th>\n      <th>size</th>\n      <th>texts</th>\n    </tr>\n  </thead>\n  <tbody>\n    <tr>\n      <th>0</th>\n      <td>27</td>\n      <td>[страдать, перенести, последний, ухудшение, ко...</td>\n    </tr>\n    <tr>\n      <th>1</th>\n      <td>148</td>\n      <td>[год, артериальный, гипертензия, максимальный,...</td>\n    </tr>\n    <tr>\n      <th>2</th>\n      <td>169</td>\n      <td>[пациент, год, длительный, анамнез, гипертонич...</td>\n    </tr>\n    <tr>\n      <th>3</th>\n      <td>115</td>\n      <td>[год, артериальный, гипертензия, максимальный,...</td>\n    </tr>\n    <tr>\n      <th>4</th>\n      <td>58</td>\n      <td>[считать, здоровый, ада, редкий, измерение, ст...</td>\n    </tr>\n    <tr>\n      <th>...</th>\n      <td>...</td>\n      <td>...</td>\n    </tr>\n    <tr>\n      <th>2677</th>\n      <td>70</td>\n      <td>[год, отмечать, подъём, ст, привычный, цифра, ...</td>\n    </tr>\n    <tr>\n      <th>2678</th>\n      <td>126</td>\n      <td>[ага, год, максимальный, цифра, ада, ст, привы...</td>\n    </tr>\n    <tr>\n      <th>2679</th>\n      <td>40</td>\n      <td>[длительный, время, страдать, гб, постоянный, ...</td>\n    </tr>\n    <tr>\n      <th>2680</th>\n      <td>45</td>\n      <td>[артериальный, давление, повышаться, максималь...</td>\n    </tr>\n    <tr>\n      <th>2681</th>\n      <td>64</td>\n      <td>[страдать, гб, год, симптомокомплекс, стенокар...</td>\n    </tr>\n  </tbody>\n</table>\n<p>2682 rows × 2 columns</p>\n</div>"
     },
     "execution_count": 65,
     "metadata": {},
     "output_type": "execute_result"
    }
   ],
   "source": [
    "data"
   ],
   "metadata": {
    "collapsed": false,
    "pycharm": {
     "name": "#%%\n"
    }
   }
  },
  {
   "cell_type": "code",
   "execution_count": 66,
   "outputs": [
    {
     "data": {
      "text/plain": "              size\ncount  2682.000000\nmean     76.217375\nstd      63.156078\nmin       1.000000\n25%      37.000000\n50%      63.000000\n75%     104.000000\nmax    1060.000000",
      "text/html": "<div>\n<style scoped>\n    .dataframe tbody tr th:only-of-type {\n        vertical-align: middle;\n    }\n\n    .dataframe tbody tr th {\n        vertical-align: top;\n    }\n\n    .dataframe thead th {\n        text-align: right;\n    }\n</style>\n<table border=\"1\" class=\"dataframe\">\n  <thead>\n    <tr style=\"text-align: right;\">\n      <th></th>\n      <th>size</th>\n    </tr>\n  </thead>\n  <tbody>\n    <tr>\n      <th>count</th>\n      <td>2682.000000</td>\n    </tr>\n    <tr>\n      <th>mean</th>\n      <td>76.217375</td>\n    </tr>\n    <tr>\n      <th>std</th>\n      <td>63.156078</td>\n    </tr>\n    <tr>\n      <th>min</th>\n      <td>1.000000</td>\n    </tr>\n    <tr>\n      <th>25%</th>\n      <td>37.000000</td>\n    </tr>\n    <tr>\n      <th>50%</th>\n      <td>63.000000</td>\n    </tr>\n    <tr>\n      <th>75%</th>\n      <td>104.000000</td>\n    </tr>\n    <tr>\n      <th>max</th>\n      <td>1060.000000</td>\n    </tr>\n  </tbody>\n</table>\n</div>"
     },
     "execution_count": 66,
     "metadata": {},
     "output_type": "execute_result"
    }
   ],
   "source": [
    "data.describe()"
   ],
   "metadata": {
    "collapsed": false,
    "pycharm": {
     "name": "#%%\n"
    }
   }
  },
  {
   "cell_type": "code",
   "execution_count": 67,
   "outputs": [
    {
     "data": {
      "text/plain": "76.21737509321402"
     },
     "execution_count": 67,
     "metadata": {},
     "output_type": "execute_result"
    }
   ],
   "source": [
    "data[\"size\"].mean()"
   ],
   "metadata": {
    "collapsed": false,
    "pycharm": {
     "name": "#%%\n"
    }
   }
  },
  {
   "cell_type": "code",
   "execution_count": 68,
   "outputs": [],
   "source": [
    "quantile_levels = [.25,.5,.75,.9,.95,.99]"
   ],
   "metadata": {
    "collapsed": false,
    "pycharm": {
     "name": "#%%\n"
    }
   }
  },
  {
   "cell_type": "code",
   "execution_count": 69,
   "outputs": [],
   "source": [
    "data_quantiles = data.quantile(quantile_levels)"
   ],
   "metadata": {
    "collapsed": false,
    "pycharm": {
     "name": "#%%\n"
    }
   }
  },
  {
   "cell_type": "code",
   "execution_count": 70,
   "outputs": [
    {
     "data": {
      "text/plain": "        size\n0.25   37.00\n0.50   63.00\n0.75  104.00\n0.90  148.90\n0.95  188.95\n0.99  275.00",
      "text/html": "<div>\n<style scoped>\n    .dataframe tbody tr th:only-of-type {\n        vertical-align: middle;\n    }\n\n    .dataframe tbody tr th {\n        vertical-align: top;\n    }\n\n    .dataframe thead th {\n        text-align: right;\n    }\n</style>\n<table border=\"1\" class=\"dataframe\">\n  <thead>\n    <tr style=\"text-align: right;\">\n      <th></th>\n      <th>size</th>\n    </tr>\n  </thead>\n  <tbody>\n    <tr>\n      <th>0.25</th>\n      <td>37.00</td>\n    </tr>\n    <tr>\n      <th>0.50</th>\n      <td>63.00</td>\n    </tr>\n    <tr>\n      <th>0.75</th>\n      <td>104.00</td>\n    </tr>\n    <tr>\n      <th>0.90</th>\n      <td>148.90</td>\n    </tr>\n    <tr>\n      <th>0.95</th>\n      <td>188.95</td>\n    </tr>\n    <tr>\n      <th>0.99</th>\n      <td>275.00</td>\n    </tr>\n  </tbody>\n</table>\n</div>"
     },
     "execution_count": 70,
     "metadata": {},
     "output_type": "execute_result"
    }
   ],
   "source": [
    "data_quantiles"
   ],
   "metadata": {
    "collapsed": false,
    "pycharm": {
     "name": "#%%\n"
    }
   }
  },
  {
   "cell_type": "markdown",
   "source": [
    "WTF??? Why so many texts with ~0 words and what is text with more 1000 words???"
   ],
   "metadata": {
    "collapsed": false,
    "pycharm": {
     "name": "#%% md\n"
    }
   }
  },
  {
   "cell_type": "code",
   "execution_count": 80,
   "outputs": [
    {
     "data": {
      "text/plain": "<AxesSubplot:ylabel='Frequency'>"
     },
     "execution_count": 80,
     "metadata": {},
     "output_type": "execute_result"
    },
    {
     "data": {
      "text/plain": "<Figure size 1440x720 with 1 Axes>",
      "image/png": "[encoded data removed]"
     },
     "metadata": {
      "needs_background": "light"
     },
     "output_type": "display_data"
    }
   ],
   "source": [
    "data.plot.hist(bins=200, figsize=(20,10))"
   ],
   "metadata": {
    "collapsed": false,
    "pycharm": {
     "name": "#%%\n"
    }
   }
  },
  {
   "cell_type": "code",
   "execution_count": 72,
   "outputs": [
    {
     "data": {
      "text/plain": "<AxesSubplot:>"
     },
     "execution_count": 72,
     "metadata": {},
     "output_type": "execute_result"
    },
    {
     "data": {
      "text/plain": "<Figure size 432x288 with 1 Axes>",
      "image/png": "[encoded data removed]"
     },
     "metadata": {
      "needs_background": "light"
     },
     "output_type": "display_data"
    }
   ],
   "source": [
    "data.boxplot()"
   ],
   "metadata": {
    "collapsed": false,
    "pycharm": {
     "name": "#%%\n"
    }
   }
  },
  {
   "cell_type": "code",
   "execution_count": 73,
   "outputs": [],
   "source": [
    "three_words_data = data[data[\"size\"] == 3]"
   ],
   "metadata": {
    "collapsed": false,
    "pycharm": {
     "name": "#%%\n"
    }
   }
  },
  {
   "cell_type": "code",
   "execution_count": 74,
   "outputs": [
    {
     "ename": "TypeError",
     "evalue": "unhashable type: 'list'",
     "output_type": "error",
     "traceback": [
      "\u001B[0;31m---------------------------------------------------------------------------\u001B[0m",
      "\u001B[0;31mTypeError\u001B[0m                                 Traceback (most recent call last)",
      "\u001B[0;32mpandas/_libs/hashtable_class_helper.pxi\u001B[0m in \u001B[0;36mpandas._libs.hashtable.PyObjectHashTable.map_locations\u001B[0;34m()\u001B[0m\n",
      "\u001B[0;31mTypeError\u001B[0m: unhashable type: 'list'"
     ]
    },
    {
     "name": "stderr",
     "output_type": "stream",
     "text": [
      "Exception ignored in: 'pandas._libs.index.IndexEngine._call_map_locations'\n",
      "Traceback (most recent call last):\n",
      "  File \"pandas/_libs/hashtable_class_helper.pxi\", line 5231, in pandas._libs.hashtable.PyObjectHashTable.map_locations\n",
      "TypeError: unhashable type: 'list'\n"
     ]
    },
    {
     "data": {
      "text/plain": "[анамнез, ознакомить, дополнение]     159\n[история, болезнь, ознакомить]          5\n[анмнез, ознакомить, дополнение]        2\n[анамнез, заболевание, ознакомить]      2\n[анмез, ознакомить, дополненйя]         1\n[анамнез, знакомить, дополнение]        1\n[анмнез, ознаокмить, дополнение]        1\n[анамнез, ознакамить, дополнение]       1\n[анамнез, ознакомить, дополненний]      1\n[история, болезнь, оззнакомить]         1\n[анамнез, знакомый, дополнение]         1\n[анамнез, ознаокмить, дополнение]       1\n[анамнез, озноакомить, дополнение]      1\n[анамнез, ознакомить, дополонение]      1\n[анамнез, ознакмить, дополнение]        1\nName: texts, dtype: int64"
     },
     "execution_count": 74,
     "metadata": {},
     "output_type": "execute_result"
    }
   ],
   "source": [
    "three_words_data[\"texts\"].value_counts()"
   ],
   "metadata": {
    "collapsed": false,
    "pycharm": {
     "name": "#%%\n"
    }
   }
  },
  {
   "cell_type": "markdown",
   "source": [
    "So it's seems corpus is raw data. It must be filtered."
   ],
   "metadata": {
    "collapsed": false,
    "pycharm": {
     "name": "#%% md\n"
    }
   }
  },
  {
   "cell_type": "code",
   "execution_count": 75,
   "outputs": [
    {
     "data": {
      "text/plain": "['страдать',\n 'перенести',\n 'последний',\n 'ухудшение',\n 'конец',\n 'май',\n 'год',\n 'отметить',\n 'затяжной',\n 'ангинозный',\n 'эпизод',\n 'фон',\n 'стабильный',\n 'состояние',\n 'отметить',\n 'выразить',\n 'давящий',\n 'боль',\n 'грудина',\n 'купировать',\n 'нитрат',\n 'больной',\n 'вызвать',\n 'бригада',\n 'боль',\n 'купировать',\n 'морфин',\n 'год',\n 'артериальный',\n 'гипертензия',\n 'максимальный',\n 'цифра',\n 'ада',\n 'ст',\n 'привычный',\n 'цифра',\n 'ада',\n 'ст',\n 'год',\n 'предшествовать',\n 'стенокардия',\n 'перенести',\n 'инфаркт',\n 'миокард',\n 'неуточнить',\n 'локализация',\n ' справка',\n 'дальнейший',\n 'боль',\n 'грудной',\n 'клетка',\n 'давящий',\n 'характер',\n 'нагрузка',\n 'возраст',\n 'год',\n 'отмечать',\n 'эпизод',\n 'частый',\n 'ритмичный',\n 'сердцебиение',\n 'сопровождаться',\n 'резка',\n 'слабость',\n 'потеря',\n 'сознание',\n 'выполнить',\n 'ав соединение',\n 'год',\n 'мурманск',\n 'выполнить',\n 'коронарография',\n 'ангиопластик',\n 'стентирование',\n ' установить',\n 'рекомендовать',\n 'терапия',\n 'принимать',\n 'боль',\n 'грудной',\n 'клетка',\n 'ангинозный',\n 'характер',\n 'возобновиться',\n 'год',\n 'операция',\n 'провести',\n 'баллонный',\n 'пластик',\n 'время',\n 'пациент',\n 'отмечать',\n 'прогрессивный',\n 'усугубление',\n 'стенокардия',\n 'напряжение',\n 'появление',\n 'ночное',\n 'боль',\n 'выполнить',\n 'коронарография',\n 'многососудистый',\n 'поражение',\n ' незначимый',\n 'апрель',\n 'лечиться',\n 'год',\n 'мурманск',\n 'выполнить',\n 'коронарография',\n 'стент',\n 'быть',\n 'проходимый',\n 'ухудшение',\n 'самочувствие',\n 'тошнота',\n 'многократный',\n 'рвота',\n 'съесть',\n 'пища',\n 'ломота',\n 'межлопаточный',\n 'область',\n 'принять',\n 'нитроглицерин',\n 'эффект',\n 'приступ',\n 'стенокардия',\n 'купировать',\n 'быть',\n 'вызвать',\n 'начать',\n 'инфузия',\n 'нитрат',\n 'гепарин',\n 'анальгин',\n 'церукать',\n 'метопролоть',\n 'рвота',\n 'раз',\n 'доставить',\n 'представление',\n 'клинико лабораторный',\n 'данные',\n 'переносить',\n 'инфаркт',\n 'микоард',\n 'передний',\n 'стенка',\n 'левый',\n 'желудочек',\n 'экстренный',\n 'показание',\n 'выполнить',\n 'коронарография',\n 'коронарный',\n 'артерия',\n 'значимый',\n 'стеноз',\n 'рестеноз',\n 'место',\n 'стент',\n 'выявить',\n 'настоящее',\n 'время',\n 'боль',\n 'грудной',\n 'клетка',\n 'рецидивировать',\n 'проявление',\n 'сердечный',\n 'недостатчонсотить',\n 'перевести',\n 'дальнейший',\n 'лечение',\n 'пациент',\n 'год',\n 'длительный',\n 'анамнез',\n 'гипертонический',\n 'болезнь',\n 'фактор',\n 'риска',\n 'пикс',\n 'q ий',\n 'экстренный',\n 'порядок',\n 'госпитализировать',\n 'фцскэ',\n 'имя',\n 'алмазов',\n 'диагностировать',\n 'повторный',\n 'имя',\n 'передний',\n 'локализация',\n 'экстренный',\n 'порядок',\n 'выполнить',\n 'многососудистый',\n 'поражение',\n 'коронарный',\n 'русло',\n ' критический',\n 'поражение',\n 'ствол',\n 'стеноз',\n 'пмж',\n 'субокклюзия',\n 'стеноз',\n 'стеноз',\n 'область',\n 'бифуркация',\n 'сужение',\n 'результат',\n 'ангиография',\n 'оса',\n 'устьевый',\n 'стеноз',\n 'л вс',\n 'больной',\n 'обсудить',\n 'зав',\n 'наш',\n 'котин',\n 'зав',\n 'оарит',\n 'год',\n 'гиндин',\n 'зав',\n 'зверев',\n 'принять',\n 'решение',\n 'выполнение',\n 'эндоваскулярный',\n 'реваскуляризация',\n 'ствол',\n 'пмж',\n 'имплантировать',\n 'стент',\n 'лек',\n 'покр',\n 'стент',\n 'лек',\n 'покр',\n 'интраоперационный',\n 'развитие',\n 'ангинозный',\n 'приступ',\n 'купировать',\n 'введение',\n 'наркотический',\n 'анальгетик',\n 'результат',\n 'сравнительный',\n 'анализ',\n 'уровень',\n 'тропонин',\n 'пациент',\n 'иметь',\n 'место',\n 'развитие',\n 'инфаркт',\n 'тип',\n 'рекомендовать',\n 'плановый',\n 'порядок',\n 'реваскуляризация',\n 'бассейн',\n 'неустойчивый',\n 'пароксизмальный',\n 'форма',\n 'повод',\n 'принимать',\n 'варфарин',\n 'настоящее',\n 'время',\n 'проводиться',\n 'лечение',\n 'рекомендовать',\n 'проведение',\n 'см экг',\n 'время',\n 'наблюдение',\n 'типичный',\n 'ангинозный',\n 'приступ',\n 'нарушение',\n 'ритм',\n 'рецидивировать',\n 'гемодинамика',\n 'стабильный',\n 'лихорадить',\n 'уровень',\n 'тропонина',\n 'динамика',\n 'снижаться',\n 'синусовый',\n 'ритм',\n 'нормокардия',\n 'отрицательный',\n 'динамика',\n 'предыдущий',\n 'данные',\n 'акинезия',\n 'повышение',\n 'ультразвуковой',\n 'плотность',\n 'задний',\n 'стенка',\n 'акинезия',\n 'апикальный',\n 'сегмент',\n 'весь',\n 'стенка',\n 'срединный',\n 'сегмент',\n 'боков',\n 'передний',\n 'нижний',\n 'стенка',\n 'учитывать',\n 'результат',\n 'суточный',\n 'колебание',\n 'глюкоза',\n 'консультировать',\n 'инсулинотерапия',\n 'учитывать',\n 'высокий',\n 'цифра',\n 'гликемия',\n 'необходимый',\n 'повторный',\n 'консультация',\n 'эндокринолог',\n 'пациент',\n 'переводиться',\n 'отделение',\n 'оценка',\n 'эффективность',\n 'терапия',\n 'продолжение',\n 'лечение',\n 'год',\n 'артериальный',\n 'гипертензия',\n 'максимальный',\n 'цифра',\n 'ада',\n 'ст',\n 'привычный',\n 'цифра',\n 'ада',\n 'ст',\n 'подъём',\n 'ада',\n 'ощущать',\n 'озноб',\n 'год',\n 'перенести',\n 'обширный',\n 'инфаркт',\n 'миокард',\n 'нижний',\n 'стенка',\n 'левый',\n 'желудочек',\n 'дальнейший',\n 'рекомендовать',\n 'терапия',\n 'принимать',\n 'возобновление',\n 'приступ',\n 'ангинозный',\n 'боль',\n 'грудной',\n 'клетка',\n 'ходьба',\n 'год',\n 'год',\n 'быть',\n 'выполнить',\n 'коронарография',\n 'гора',\n ' результат',\n 'обсуждаться',\n 'вопрос',\n 'оперативный',\n 'лечение',\n 'связь',\n 'заболевание',\n 'желудок',\n 'выполнить',\n 'быть',\n 'течение',\n 'последний',\n 'год',\n 'ангинозный',\n 'боль',\n 'грудной',\n 'клетка',\n 'возникать',\n 'ходьба',\n 'купироваться',\n 'остановка',\n 'движение',\n 'приём',\n 'нитрат',\n ' быль',\n 'находиться',\n 'стационарный',\n 'лечение',\n 'гора',\n 'связь',\n 'учащение',\n 'приступ',\n 'боль',\n 'грудной',\n 'клетка',\n 'быть',\n 'выписать',\n 'связь',\n 'стабилизация',\n 'состояние',\n 'иметь',\n 'место',\n 'интенсивный',\n 'болевой',\n 'эпизод',\n 'грудина',\n 'давящий',\n 'характер',\n 'рецидив',\n 'боль',\n 'быть',\n 'госпитализировать',\n 'скиэм',\n 'алмазов',\n 'экстренный',\n 'показание',\n 'связь',\n 'нестабильный',\n 'течение',\n 'стенокардия',\n 'выполнить',\n 'коронарография',\n 'стентирование',\n 'пмжть',\n ' установить',\n 'стент',\n 'лекарственный',\n 'послеоперационный',\n 'период',\n 'протекать',\n 'осложнение',\n 'перевести',\n 'дальнейший',\n 'лечение',\n 'считать',\n 'здоровый',\n 'ада',\n 'редкий',\n 'измерение',\n 'ст',\n 'день',\n 'появление',\n 'непродолжительный',\n 'неинтенсивный',\n 'боль',\n 'чувство',\n 'грудина',\n 'средний',\n 'интенсивность',\n 'купировавшийся',\n 'покой',\n 'мёд',\n 'помощь',\n 'обращаться',\n 'появление',\n 'нарастать',\n 'интенсивность',\n 'давящий',\n 'загрудинный',\n 'боль',\n 'иррадиация',\n 'левый',\n 'рука',\n 'длиться',\n 'вызвать',\n 'серия',\n 'снятой',\n 'зарегистрировать',\n 'подъесть',\n 'область',\n 'нижний',\n 'стенка',\n 'болевой',\n 'синдром',\n 'купировать',\n 'введение',\n 'фентанил',\n 'контрольный',\n 'минута',\n 'первоначальный',\n 'спонтанный',\n 'исчезновение',\n 'подъём',\n '   т',\n 'госпитализировать',\n 'представление',\n 'подъём',\n 'терапия',\n 'догоспитальиный',\n 'этап',\n 'клопидогрель',\n 'аспирин',\n 'течение',\n 'год',\n 'страдать',\n 'гипертонический',\n 'болезнь',\n 'ада',\n 'макс',\n 'ст',\n 'ада',\n 'обычн',\n 'ст',\n 'принимать',\n 'ренитечь',\n 'раз',\n 'день',\n 'течен',\n 'год',\n 'страдать',\n 'стенокардия',\n 'напряжение',\n 'ангинозный',\n 'боль',\n 'покой',\n 'отмечать',\n 'имя',\n 'анамнез',\n 'прогрессирование',\n 'стенокардия',\n 'протяжение',\n 'последний',\n 'месяц',\n 'отрицать',\n 'выполняться',\n 'ухудшение',\n 'самочувствие',\n 'вид',\n 'появление',\n 'затяжной',\n 'интенсивный',\n 'давящий',\n 'боль',\n 'левый',\n 'половина',\n 'грудной',\n 'клетка',\n 'сопровождаться',\n 'чувство',\n 'общий',\n 'слабость',\n 'потемнение',\n 'глаз',\n 'профузный',\n 'быть',\n 'госпитализировать',\n 'сиверсковать',\n 'болевой',\n 'синдром',\n 'купировать',\n 'повторный',\n 'введение',\n 'наркотический',\n 'анальгетик',\n 'быть',\n 'выполнить',\n ' метализ',\n 'оценка',\n 'эффективность',\n 'представить',\n 'быть',\n 'транспортировать',\n 'сопровождение',\n 'фмица',\n 'представление',\n 'подъём',\n 'оперативный',\n 'лечение',\n 'терапия',\n 'поступление',\n 'аспирин',\n 'клопидогрель',\n 'гепарин',\n 'метализа',\n 'морфин',\n 'фентанил',\n 'транспортировка',\n 'перенести',\n 'артериальный',\n 'гипертензия',\n 'год',\n 'максимальный',\n 'показатель',\n 'ада',\n 'ст',\n 'ст',\n 'середина',\n 'июль',\n 'год',\n 'появиться',\n 'загрудинный',\n 'боль',\n 'давящий',\n 'характер',\n 'возникать',\n 'каждый',\n 'вечер',\n 'состояние',\n 'покой',\n 'продолжаться',\n 'мина',\n 'затяжной',\n 'интенсивный',\n 'ангинозный',\n 'боль',\n 'развиться',\n 'состояние',\n 'покой',\n 'который',\n 'сохраняться',\n 'течение',\n 'сутки',\n 'подъём',\n 'лестиница',\n 'появиться',\n 'одышка',\n 'появиться',\n 'одышка',\n 'состояние',\n 'покой',\n 'быть',\n 'госпитализировать',\n 'фцскэ',\n 'диагностировать',\n 'q ий',\n 'передний',\n 'стенка',\n 'тип',\n 'коронарный',\n 'кровоснабжение',\n 'правый',\n 'проксимальный',\n 'треть',\n 'стеноз',\n 'стеноз',\n 'средний',\n 'признак',\n 'интракоронарный',\n 'тромбоаз',\n 'стеноз',\n 'проксимальный',\n 'треть',\n 'выполнить',\n 'ангиопластик',\n 'стентирование',\n 'средний',\n 'треть',\n 'пмж',\n ' стент',\n 'данные',\n 'эхокг',\n 'снизить',\n 'систолический',\n 'функция',\n 'счёт',\n 'акинезия',\n 'верхушечный',\n 'перднеперегородочный',\n 'сегмент',\n 'гипо акинезия',\n 'верхушечный',\n 'сегмент',\n 'передний',\n 'стенка',\n 'ст',\n 'систоличесый',\n 'давление',\n 'ст',\n 'степень',\n 'фон',\n 'текущий',\n 'имя',\n 'пациент',\n 'беспокоить',\n 'эпизод',\n 'удушье',\n 'ночное',\n 'часы',\n 'ангинозный',\n 'боль',\n 'рецидивировать',\n 'рентгенограмма',\n 'орган',\n 'грудной',\n 'клетка',\n 'сохраняться',\n 'признак',\n 'венозный',\n 'застой',\n 'лёгкое',\n 'незначительный',\n 'положительный',\n 'динамика',\n 'левый',\n 'задний',\n 'синус',\n 'левый',\n 'междолевой',\n 'незначительный',\n 'количество',\n 'жидкость',\n 'прододиться',\n 'терапия',\n 'диуретик',\n 'положительный',\n 'рентгенологический',\n 'картина',\n 'вид',\n 'уменьшение',\n 'застой',\n 'перевести',\n 'пероральный',\n 'приём',\n 'диуретик',\n 'пациентка',\n 'год',\n 'давний',\n 'анамнез',\n 'гб',\n 'ада',\n 'макс',\n 'ст',\n 'адаптировать',\n 'ада',\n 'ст',\n 'постоянный',\n 'гипотензивный',\n 'терапия',\n 'стенокардия',\n 'напряжение',\n 'течение',\n 'год',\n 'прогрессирование',\n 'уровень',\n 'высокий',\n 'начало',\n 'появление',\n 'нарастание',\n 'явление',\n 'развитие',\n 'переднеперегородочный',\n 'область',\n 'верхушка',\n ' стац',\n 'лечение',\n 'волховский',\n 'ранний',\n 'постинфарктный',\n 'стенокардия',\n 'связь',\n 'рецидив',\n 'имя',\n 'заднебоков',\n 'область',\n 'быть',\n 'госпитализировать',\n 'фмица',\n 'течение',\n 'имя',\n 'осложниться',\n 'развитие',\n 'отёк',\n 'лёгкое',\n 'купировать',\n 'выполнить',\n 'экстренный',\n 'выявить',\n 'многососудистый',\n 'поражение',\n 'коронарный',\n 'русло',\n 'консультировать',\n 'кардиохирург',\n 'учёт',\n 'диффузный',\n 'поражение',\n 'коронарный',\n 'русло',\n 'значимый',\n 'сосутствовать',\n 'патология',\n ' ожирение',\n 'ст',\n 'сомнительный',\n 'положительный',\n 'эффект',\n 'хирургический',\n 'реваскуляризация',\n 'высокий',\n 'риск',\n 'осложнение',\n 'выполнить',\n 'паллиативный',\n 'ртс',\n 'стентирование',\n 'показать',\n 'этап',\n 'реваскуляризация',\n 'миокард',\n 'ртс',\n 'короткий',\n 'срок',\n 'время',\n 'наблюдение',\n 'расширение',\n 'двигательный',\n 'режим',\n 'отмечаться',\n 'эпизод',\n 'дискомфорт',\n 'грудной',\n 'клетка',\n 'фон',\n 'усиление',\n 'антиангинальна',\n 'терапия',\n 'ангинозный',\n 'приступ',\n 'рецидивировать',\n 'явление',\n 'компенсировать',\n 'нарушение',\n 'ритм',\n 'проводимость',\n 'регистрироваться',\n 'регоспитализировать',\n 'выполнение',\n 'этап',\n 'реваскуляризация',\n 'миокард',\n 'ртс',\n 'пациентка',\n 'год',\n 'страдать',\n 'гб',\n 'год',\n 'дебют',\n 'имя',\n 'нижний',\n 'стенка',\n 'стенакардия',\n 'напряжение',\n 'невысокий',\n 'год',\n 'постоянный',\n 'терапия',\n 'получать',\n 'ноябрь',\n 'отмечать',\n 'прогрессирвание',\n 'стенакарди',\n 'ввид',\n 'учащение',\n 'ангинозный',\n 'приступ',\n 'снижение',\n 'толерантность',\n 'затяжной',\n 'ангинозный',\n 'приступ',\n 'купирующийся',\n 'приём',\n 'нитропрепарат',\n 'госпитализировать',\n 'гб',\n 'представление',\n 'имя',\n 'передний',\n 'стенка',\n 'фон',\n 'полный',\n 'антиангинальна',\n 'терапия',\n 'сохроняться',\n 'боль',\n 'связь',\n 'сэтим',\n 'перевести',\n 'проведение',\n 'провести',\n 'ртс',\n 'стентирование',\n 'пмж',\n 'инфаркт',\n 'зависимый',\n 'артерия',\n 'сохраняться',\n 'стеноз',\n 'промежуточный',\n 'артерия',\n 'выразить',\n 'диффузный',\n 'изменение',\n 'стенозирование',\n 'стееноз',\n 'постоперационный',\n 'период',\n 'ангинозный',\n 'боль',\n 'рецидивировать',\n 'стабильный',\n 'отмечаться',\n 'синусовый',\n 'тахикардия',\n 'сохроняться',\n 'фон',\n 'увеличение',\n 'доза',\n 'в блокатор',\n 'страдать',\n 'гипертонический',\n 'болезнь',\n 'адаптировать',\n 'ада',\n 'ст',\n 'максимальный',\n 'цифра',\n 'ада',\n 'ст',\n 'принимать',\n 'рамиприл',\n 'дебют',\n 'год',\n 'год',\n 'получать',\n 'консервативный',\n 'лечение',\n 'течение',\n 'последний',\n 'год',\n 'стенокардия',\n 'напряжение',\n 'уровень',\n 'настоящее',\n 'ухудшение',\n 'вечер',\n 'год',\n 'сильнейший',\n 'ангинозный',\n 'боль',\n 'вызвать',\n 'госпитализировать',\n 'николаевский',\n 'больница',\n 'год',\n 'перевести',\n 'выполнение',\n 'возможный',\n 'реваскуляризация',\n 'миокард',\n 'фмица',\n 'экстренный',\n 'показание',\n 'выполнить',\n 'одномоментный',\n 'ангиопластика',\n 'стентирование',\n 'год',\n 'ранний',\n 'послеоперационный',\n 'период',\n 'осложнение',\n 'стабильный',\n 'состояние',\n 'дальнейший',\n 'лечение',\n 'перевести',\n 'год',\n 'время',\n 'пребывание',\n 'отделение',\n 'самочувствие',\n 'ухудшение',\n 'место',\n 'пункция',\n ...]"
     },
     "execution_count": 75,
     "metadata": {},
     "output_type": "execute_result"
    }
   ],
   "source": [
    "all_anam = pickle.load(open('../data/anamnesis/source/almazov_anamnesis_corpus/combined/all_anam.pickle', 'rb'))\n",
    "all_anam"
   ],
   "metadata": {
    "collapsed": false,
    "pycharm": {
     "name": "#%%\n"
    }
   }
  },
  {
   "cell_type": "code",
   "execution_count": 76,
   "outputs": [
    {
     "data": {
      "text/plain": "204415"
     },
     "execution_count": 76,
     "metadata": {},
     "output_type": "execute_result"
    }
   ],
   "source": [
    "len(all_anam)"
   ],
   "metadata": {
    "collapsed": false,
    "pycharm": {
     "name": "#%%\n"
    }
   }
  },
  {
   "cell_type": "code",
   "execution_count": 78,
   "outputs": [],
   "source": [
    "all_anam_words = pd.DataFrame(all_anam, columns=[\"word\"])"
   ],
   "metadata": {
    "collapsed": false,
    "pycharm": {
     "name": "#%%\n"
    }
   }
  },
  {
   "cell_type": "code",
   "execution_count": 79,
   "outputs": [
    {
     "data": {
      "text/plain": "word                \nболь                    4304\nгод                     3293\nада                     2628\nст                      2590\nвыполнить               2344\n                        ... \nнормальногосинусовый       1\nнормализовать              1\nбеспоклоить                1\nбеспокоятс                 1\n     т                     1\nLength: 9630, dtype: int64"
     },
     "execution_count": 79,
     "metadata": {},
     "output_type": "execute_result"
    }
   ],
   "source": [
    "all_anam_words.value_counts()"
   ],
   "metadata": {
    "collapsed": false,
    "pycharm": {
     "name": "#%%\n"
    }
   }
  },
  {
   "cell_type": "code",
   "execution_count": 83,
   "outputs": [
    {
     "name": "stdout",
     "output_type": "stream",
     "text": [
      "[list(['анамнез', 'гипертонический', 'болезнь', 'последний', 'год', 'постоянный', 'антигипертензивный', 'терапия', ' таб', 'престариум', 'мг сать', 'дебют', 'клиника', 'быть', 'диагностировать', 'q инфаркт', 'миокард', 'задне боков', 'локализация', 'быть', 'госпитализировать', 'витебский', 'областной', 'диспансер', 'провести', 'течение', 'инфаркт', 'миокард', 'осложниться', 'устойчивый', 'пароксизм', 'транзиторный', 'синдром', 'фредерик', 'устойчивый', 'пароксизм', 'купировать', 'кардиогенный', 'шок', 'ст', 'эпизод', 'олжный', 'пациент', 'быть', 'перевести', 'реваскуляризация', 'миокард', 'выполнить', 'вентрикулография', 'ртс', 'стентирование', 'результат', 'левый', 'тип', 'ствол', 'стеноз', 'пмж', 'стеноз', 'стеноз', 'рассыпной', 'тип', 'вентрикулография', 'ст', 'данные', 'эхо кг', 'зона', 'акинезия', 'боков', 'нижний', 'нижний боков', 'стенка', 'весь', 'протяжение', 'ст', 'ст', 'обсудить', 'котин', 'наш', 'рекомендовать', 'контроль', 'эхо кг', 'месяц', 'уточнение', 'степень', 'динамика', 'последующий', 'повторный', 'консультация', 'кардиохирург', 'решение', 'вопрос', 'показание', 'хирургический', 'коррекция', 'перевести', 'продолжение', 'лечение', 'реабилитация', 'послеоперационный', 'период', 'сохраняласьклиник', 'сердечный', 'недостаточность', 'ст', 'связь', 'прогрессирование', 'явление', 'быть', 'инициировать', 'инотропный', 'поддержка', 'допамин', 'доза', 'мкг кг мин', 'последующий', 'увеличение', 'доза', 'кардиотонический', 'время', 'стационарный', 'лечение', 'пациент', 'перенести', 'застойный', 'правосторонний', 'среднедолевой', 'пневмония', 'повод', 'получать', 'курс', 'антибактериальный', 'терапия', ' таб', 'сульперазон', 'инванза', 'контрольный', 'рентгенограмма', 'сохраняться', 'небольшой', 'участок', 'сгущение', 'лёгочный', 'рисунок', 'наддиафрагмальный', 'расценить', 'очагово сливный', 'инфильтрация', 'стадия', 'разрешение', 'рецидив', 'правосторонний', 'среднедолевой', 'пневмония', 'данные', 'рентген контроль', 'отрицательный', 'динамик', 'вид', 'усиление', 'интенсивность', 'увеличение', 'площадь', 'инфильтрация', 'базальный', 'прикорневой', 'зона', 'очагово сливный', 'повышение', 'острофазовый', 'лихорадка', 'связь', 'проводиться', 'антибактериальный', 'терапия', 'меронемой', 'положительный', 'эффект', 'данные', 'лабораторный', 'инструментальный', 'контроль', 'рентгенограмма', 'инфильтративный', 'изменение', 'лёгкое', 'определяться', 'связь', 'проводиться', 'коронарный', 'ангиопластика', 'стентирование', 'пациент', 'получать', 'двойной', 'дезагрегантный', 'терапия', 'антикоагулянтный', 'терапия', 'всвязь', 'наличие', 'фибрилляция', 'предсердие', 'фон', 'иметь', 'место', 'небольшой', 'кровотечение', 'место', 'постанвока', 'связь', ' учитывать', 'отсутствие', 'лекарственный', 'покрытие', 'стент', 'быть', 'отменный', 'тромбоасса', 'ночь', 'иметь', 'место', 'судорожный', 'синдром', 'нижний', 'конечность', 'сопровождаться', 'интенсивный', 'болевой', 'синдром', 'кратковременный', 'потеря', 'сознание', 'фон', 'боль', 'медицинский', 'персонал', 'потеря', 'сознание', 'пациент', 'сообщать', 'приход', 'сознание', 'отметить', 'появление', 'плотный', 'болезненный', 'припухлость', 'область', 'задний', 'поверхность', 'левый', 'бедро', 'который', 'увеличиваться', 'динамика', 'данные', 'дуплексный', 'сканирование', 'быть', 'диагностировать', 'кровоизлияние', 'межмышечный', 'пространство', 'левый', 'межмышечный', 'организовать', 'гематома', 'сантиметр', 'гемограмм', 'снижение', 'гемоглобин', 'кровоизлияние', 'произойти', 'фон', 'выразить', 'судорожный', 'синдром', 'генез', 'который', 'конец', 'ясный', ' уровень', 'электролит', 'кровь', 'оставалсять', 'предел', 'нормальный', 'рекомендация', 'коагулолог', 'быть', 'уменьшить', 'доза', 'клексана', 'профилактический', 'мг сать', 'отмечаться', 'увеличение', 'размер', 'гематома', 'снижение', 'уровень', 'гемоглобин', 'доза', 'клексана', 'быть', 'уменьшить', 'мг сать', 'больной', 'перевести', 'пить', 'клиника', 'геморрагический', 'шок', 'ст', 'напрячь', 'гематома', 'левый', 'бедро', 'признак', 'продолжаться', 'кровотечение', 'мягкий', 'ткань', 'задний', 'поверхность', 'левый', 'бедро', 'выполнить', 'ревизия', 'выявить', 'разрыв', 'мышечный', 'волокно', 'выполнить', 'эвакуация', 'межмышечный', 'гематома', 'ушивание', 'мышца', 'проводиться', 'дренирование', 'послеоперационный', 'рана', 'левый', 'бедро', 'связь', 'постгеморрагический', 'анемия', 'тяжёлый', 'степень', ' снижение', 'гемоглобин', 'проводиться', 'трансфузия', 'эритроцитарный', 'взвесь', 'свежезамороженный', 'плазма', 'положительный', 'эффект', 'вид', 'повышение', 'уровень', 'гемоглобин', 'фон', 'анемия', 'отмечаться', 'ухудшение', 'течение', 'потребовать', 'временной', 'усиление', 'инотропный', 'поддержка', 'увеличение', 'доза', 'допмина', 'мкг кг мин', 'подключение', 'иметь', 'место', 'эпизод', 'ангинозный', 'боль', 'мина', 'покой', 'который', 'быть', 'купировать', 'нитрат', 'косонисходящий', 'депрессия', 'повышение', 'маркер', 'некроз', 'миокард', 'экстренный', 'показание', 'проведение', 'коронарография', 'быть', 'дальнейший', 'фон', 'минимальный', 'физический', 'нагрузка', 'ангинозный', 'боль', 'рецидивировать', 'оперативный', 'лечение', 'гематома', 'пациент', 'получать', 'антикоагулянтный', 'терапия', 'профилактический', 'доза', ' клексана', 'мг сать', 'антиагрегантный', 'терапия', 'тромбоасса', 'фон', 'геморрагический', 'осложнение', 'отмечаться', 'тот', 'время', 'наблюдение', 'стационар', 'пациент', 'перенести', 'острый', 'некалькулезный', 'холецистит', 'диагностировать', 'характерный', 'клинический', 'картина', 'данные', 'узи', 'орган', 'брюшной', 'полость', ' увеличение', 'размер', 'жёлчный', 'неравномерный', 'утолщение', 'стенка', 'жёлчный', 'густой', 'жёлчь', 'минимальный', 'количество', 'жидкость', 'паравазальный', 'заключение', 'консилиум', 'состав', 'зав', 'кардиология', 'титов', 'зав', 'хирургия', 'иваниха', 'е', 'зав', 'оаир', 'яковлев', 'зав', 'лечение', 'метаболич', 'нарушение', 'неймарка', 'е', 'зам', 'главный', 'врач', 'лечебный', 'работа', 'витковский', 'е', 'учитывать', 'основный', 'патология', 'тяжесть', 'состояние', 'высокий', 'риск', 'интраоперационный', 'осложнение', 'фон', 'проводиться', 'консервативный', 'лечение', 'холецистит', 'условие', 'кардилогический', 'отделение', 'включать', 'диета', 'парентеральный', 'спазмолитический', 'дезинтаксикационный', 'терапия', 'положительный', 'эффект', 'вид', 'купирование', 'клинический', 'картина', 'острый', 'холецистит', 'признак', 'воспалительный', 'процесс', 'данные', 'узи', 'обращать', 'внимание', 'эпизод', 'синкопальный', 'состояние', 'остановка', 'кровообращение', 'успешный', 'реанимационный', 'мероприятие', 'синкопальный', 'состояние', 'спонтанный', 'восстановление', 'сознание', 'синкопальный', 'состояние', 'пациент', 'находиться', 'условие', 'оарит', 'результат', 'обследование', 'быть', 'исключить', 'проводиться', 'мониторирование', 'эпизод', 'зарегистрировать', 'быть', 'синкопальный', 'состояние', 'быть', 'расценить', 'рамка', 'дегидратация', 'гиповолемия', 'фон', 'синдром', 'малое', 'выброс', 'тот', 'пациент', 'беспокоить', 'эпизод', 'внезапный', 'одышка', 'покой', 'зависимость', 'положение', 'тело', 'проходить', 'горизонтальный', 'положение', 'расценить', 'проявление', 'гипервентилляционный', 'синдром', 'фон', 'тяжёлый', 'митральный', 'регургитация', 'признак', 'увеличение', 'застой', 'время', 'выявляться', 'связь', 'учитывать', 'развитие', 'синкопальный', 'состояние', 'фон', 'дегидратация', 'увеличение', 'диуретический', 'терапия', 'возникновение', 'подобный', 'жалоба', 'требоваться', 'время', 'наблюдение', 'отделение', 'кардиология', 'проводиться', 'попытка', 'уменьшение', 'доза', 'допамин', 'фон', 'отмечаться', 'прогрессирование', 'симптом', 'связь', 'учитывать', 'уровень', 'ст', 'отсутствие', 'значимый', 'эффект', 'медикаментозный', 'терапия', 'условие', 'оаир', 'быть', 'выполнить', 'инфузия', 'левосимендан', 'положительный', 'эффект', 'отменить', 'инотропный', 'поддержка', 'допамин', 'норадреналин', ' норадреналин', 'быть', 'подключить', 'фон', 'инфузия', 'левосименадать', 'связь', 'выразить', 'фон', 'сохраняться', 'компенсация', 'явление', 'уровень', 'ада', 'уровень', 'ст', 'отмена', 'инотропный', 'поддержка', 'компенсация', 'явление', 'быть', 'выполнить', 'контроль', 'эхокг', 'данные', 'который', 'ст', 'счёт', 'сочетать', 'поражение', 'дисфункция', 'папиллярный', 'мышца', 'относительный', 'обращать', 'внимание', 'увеличение', 'темп', 'диурез', 'инфузия', 'левосимендан', 'вроятнея', 'ассоциированный', 'увеличение', 'почечный', 'перфузия', 'фон', 'усиление', 'системный', 'кровоток', 'связь', 'проводиться', 'временной', 'отмена', 'диуретический', 'терапия', 'инфузионный', 'терапия', 'быть', 'достигнуть', 'адекватный', 'темп', 'диурез', 'учитывать', 'наличие', 'тахисистолический', 'форма', 'фибрилляция', 'предсердие', 'начало', 'ноябрь', 'год', 'пациент', 'получать', 'терапия', 'амиодарон', 'бисопролол', 'цель', 'контроль', 'частота', 'ритм', 'фон', 'предел', 'уд мина', 'являться', 'целевой', 'показатель', 'пациент', 'учитывать', 'наличие', 'синдром', ' малое', 'контроль', 'тиреоидный', 'статус', 'фон', 'проводить', 'терапия', 'амиодарон', 'год', 'быть', 'выявить', 'гипотиреоз', 'повышение', 'уровень', 'мме ть', 'умеренный', 'снижение', 'уровень', 'пмоль ть', 'год', 'инициировать', 'терапия', 'l тироксин', 'минимальный', 'доза', 'мкг сать', 'тот', 'пациент', 'быть', 'выявить', 'признак', 'обострение', 'артрит', 'область', 'дистальный', 'межфаланговый', 'сустав', 'палец', 'левый', 'кисть', 'уровень', 'мочевой', 'кислота', 'оставаться', 'предел', 'норма', 'связь', 'наличие', 'противопоказание', 'терапия', 'нпвп', ' тяжёлый', 'проводиться', 'парентеральный', 'терапия', 'глюкокортикостероид', 'положительный', 'эффект', 'вид', 'купирование', 'обострение', 'год', 'провести', 'консилиум', 'состав', 'зам', 'глава', 'врач', 'витковский', 'е', 'зав', 'титов', 'рук ль', 'проф', 'метр', 'наш', 'ситниковый', 'метр', 'учитывать', 'длительность', 'инотропный', 'поддержка', 'тяжесть', 'поражение', 'миокард', 'выраженность', 'возраст', 'пациент', 'риск', 'оперативный', 'лечение', 'сохраняться', 'высокий', 'связь', 'выразить', 'мотивированность', 'пациент', 'родственник', 'рекомендовать', 'повторный', 'консультация', 'кардиолог', 'сухов', 'цель', 'оценка', 'сократительный', 'способность', 'миокард', 'инфузия', 'левосимендан', 'решение', 'вопрос', 'возможность', 'хирургический', 'коррекция', 'год', 'пациент', 'быть', 'проконсультировать', 'метр', 'наш', 'сухов', 'зав', 'котин', 'наш', 'данные', 'эхокг', 'сантиметр', 'сантиметр', 'кдо ксый', 'акинезия', 'задний', 'боков', 'стенка', 'умеренная выраженный', 'гипокинезия', 'остальной', 'сегмент', 'мк', 'створка', 'изменить', 'ст', 'ст', 'ст', 'ст', 'показать', 'хирургический', 'коррекция', 'предварительный', 'коронарография', 'манометрия', 'риск', 'хирургический', 'лечение', 'высокий', 'тяжесть', 'состояние', 'пациент', 'позволять', 'выписать', 'фмица', 'амбулаторный', 'этап', 'лечение', 'связь', 'быть', 'определить', 'абсолютный', 'показание', 'повторный', 'госпитализация', 'год', 'фмица', 'обследование', 'подготовка', 'протезирование', 'мк', 'предварительный', 'коронарография', 'манометрия', 'правый', 'камера', 'сердце', 'обследовать', 'протокол', 'оперативный', 'вмешательство', 'противопоказание', 'выявить', 'пациент', 'находиться', 'отделение', 'быть', 'выполнить', 'эхокг', 'следующий', 'результат', 'симпсон', 'жидкость', 'полость', 'перикард', 'выявить', 'уменренный', 'увеличение', 'левый', 'камера', 'акинезия', 'задний', 'боков', 'мк', 'открытие', 'достаточный', 'умеренный', 'кровоток', 'нарушить', 'незначительный', 'давление', 'повысить', 'провести', 'коронарография', 'зона', 'диффузный', 'изменение', 'средний', 'треть', 'пмж', 'максимальный', 'стенозирование', 'зона', 'диффузный', 'изменение', 'проксимальный', 'средний', 'треть', 'максимальный', 'стенозирование', 'состояние', 'стентирование', 'проксимальный', 'треть', 'проксимальный', 'треть', 'основной', 'ветвь', 'стент', 'признак', 'тромбоз', 'рестеноз', 'результат', 'исследование', 'определить', 'показание', 'оперативный', 'лечение', 'объём', 'коронарный', 'шунтирование', 'бассейн', 'поразить', 'артерия', 'ревизия', 'митральный', 'трикуспидальный', 'клапан', 'условие', 'выполнить', 'операция', 'пмж', 'пластик', 'митральный', 'клапан', 'батист', 'пластик', 'батист', 'условие', 'послеоперационный', 'период', 'выразить', 'явление', 'сердечно сосудистый', 'недостаточность', 'потребовать', 'многокомпонентный', 'инотропный', 'вазопрессорный', 'поддержка', 'постепенный', 'отмена', 'результат', 'контрольный', 'эхокг', 'жидкость', 'полость', 'перикард', 'выявить', 'кдо ксый', 'ст', 'ст', 'данные', 'контрольный', 'исследование', 'очагово инфильтративный', 'изменение', 'выявить', 'корень', 'лёгкое', 'структурный', 'выпот', 'левый', 'плевральный', 'полость', 'регрессировать', 'тот', 'послеоперационный', 'период', 'иметь', 'место', 'обострение', 'некалькуллезный', 'холецистит', 'купироваться', 'фон', 'терапия', 'спазмолитик', 'удовлетворительный', 'состояние', 'пациент', 'перевести', 'дальнейший', 'реабилитация', 'коррекция', 'терапия'])]\n"
     ]
    }
   ],
   "source": [
    "print(data[data[\"size\"] == max(data[\"size\"])][\"texts\"].to_numpy())"
   ],
   "metadata": {
    "collapsed": false,
    "pycharm": {
     "name": "#%%\n"
    }
   }
  }
 ],
 "metadata": {
  "kernelspec": {
   "display_name": "Python 3",
   "language": "python",
   "name": "python3"
  },
  "language_info": {
   "codemirror_mode": {
    "name": "ipython",
    "version": 2
   },
   "file_extension": ".py",
   "mimetype": "text/x-python",
   "name": "python",
   "nbconvert_exporter": "python",
   "pygments_lexer": "ipython2",
   "version": "2.7.6"
  }
 },
 "nbformat": 4,
 "nbformat_minor": 0
}