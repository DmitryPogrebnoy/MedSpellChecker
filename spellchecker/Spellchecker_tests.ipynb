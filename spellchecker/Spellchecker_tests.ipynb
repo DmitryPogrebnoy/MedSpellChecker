{
 "cells": [
  {
   "cell_type": "markdown",
   "metadata": {
    "id": "sAliKDQvhExv",
    "pycharm": {
     "name": "#%% md\n"
    }
   },
   "source": [
    "# Prepear test dataset\n",
    "Load word data for error precision test\n",
    "Format - {word}{several spaces}{answer-words separeted by comma}"
   ]
  },
  {
   "cell_type": "code",
   "execution_count": 6,
   "metadata": {
    "pycharm": {
     "name": "#%%\n"
    }
   },
   "outputs": [
    {
     "name": "stdout",
     "output_type": "stream",
     "text": [
      "Requirement already satisfied: pip in /home/Dmitry.Pogrebnoy/Desktop/MedSpellChecker/venv/lib/python3.9/site-packages (22.0.4)\r\n"
     ]
    }
   ],
   "source": [
    "!pip install --upgrade pip"
   ]
  },
  {
   "cell_type": "code",
   "execution_count": 1,
   "metadata": {
    "id": "JtZvUWdZhFOf",
    "pycharm": {
     "name": "#%%\n"
    }
   },
   "outputs": [
    {
     "name": "stdout",
     "output_type": "stream",
     "text": [
      "Requirement already satisfied: pandas in /home/Dmitry.Pogrebnoy/Desktop/MedSpellChecker/venv/lib/python3.9/site-packages (1.3.5)\r\n",
      "Requirement already satisfied: python-dateutil>=2.7.3 in /home/Dmitry.Pogrebnoy/Desktop/MedSpellChecker/venv/lib/python3.9/site-packages (from pandas) (2.8.2)\r\n",
      "Requirement already satisfied: numpy>=1.17.3 in /home/Dmitry.Pogrebnoy/Desktop/MedSpellChecker/venv/lib/python3.9/site-packages (from pandas) (1.21.5)\r\n",
      "Requirement already satisfied: pytz>=2017.3 in /home/Dmitry.Pogrebnoy/Desktop/MedSpellChecker/venv/lib/python3.9/site-packages (from pandas) (2021.3)\r\n",
      "Requirement already satisfied: six>=1.5 in /home/Dmitry.Pogrebnoy/Desktop/MedSpellChecker/venv/lib/python3.9/site-packages (from python-dateutil>=2.7.3->pandas) (1.16.0)\r\n"
     ]
    }
   ],
   "source": [
    "!pip install pandas\n",
    "import pandas as pd"
   ]
  },
  {
   "cell_type": "code",
   "execution_count": 2,
   "metadata": {
    "id": "OZYmhZvuWLfa",
    "pycharm": {
     "name": "#%%\n"
    }
   },
   "outputs": [],
   "source": [
    "error_precision_test_incorrect_file = open('../data/test_sample_incorrect.txt', 'r', encoding=\"utf8\")\n",
    "error_precision_test_incorrect_lines = error_precision_test_incorrect_file.readlines()\n",
    "error_precision_splitted_test_incorrect_lines = list(map(lambda x: x.split(maxsplit=1), error_precision_test_incorrect_lines))\n",
    "error_precision_test_incorrect_words = list(map(lambda x: x[0], error_precision_splitted_test_incorrect_lines))\n",
    "error_precision_test_incorrect_answers = list(map(lambda x: list(map(lambda y: y.strip(), x[1].split(', '))), error_precision_splitted_test_incorrect_lines))\n",
    "error_precision_test_df = pd.DataFrame(error_precision_test_incorrect_words, columns=[\"test_word\"])\n",
    "error_precision_test_df[\"answers\"] = error_precision_test_incorrect_answers"
   ]
  },
  {
   "cell_type": "code",
   "execution_count": 3,
   "metadata": {
    "colab": {
     "base_uri": "https://localhost:8080/",
     "height": 202
    },
    "id": "0P3kfs2dhj4q",
    "outputId": "1b7a854b-2395-4ddb-bf6f-8c6ee54b4ae6",
    "pycharm": {
     "name": "#%%\n"
    }
   },
   "outputs": [
    {
     "data": {
      "text/plain": "      test_word                              answers\n0     эктренном  [экстренном, экстренный, экстренно]\n1     синусовго              [синусового, синусовый]\n2         даным             [данным, данный, данные]\n3   шнутография                        [шунтография]\n4  сникопальных         [синкопальных, синкопальный]",
      "text/html": "<div>\n<style scoped>\n    .dataframe tbody tr th:only-of-type {\n        vertical-align: middle;\n    }\n\n    .dataframe tbody tr th {\n        vertical-align: top;\n    }\n\n    .dataframe thead th {\n        text-align: right;\n    }\n</style>\n<table border=\"1\" class=\"dataframe\">\n  <thead>\n    <tr style=\"text-align: right;\">\n      <th></th>\n      <th>test_word</th>\n      <th>answers</th>\n    </tr>\n  </thead>\n  <tbody>\n    <tr>\n      <th>0</th>\n      <td>эктренном</td>\n      <td>[экстренном, экстренный, экстренно]</td>\n    </tr>\n    <tr>\n      <th>1</th>\n      <td>синусовго</td>\n      <td>[синусового, синусовый]</td>\n    </tr>\n    <tr>\n      <th>2</th>\n      <td>даным</td>\n      <td>[данным, данный, данные]</td>\n    </tr>\n    <tr>\n      <th>3</th>\n      <td>шнутография</td>\n      <td>[шунтография]</td>\n    </tr>\n    <tr>\n      <th>4</th>\n      <td>сникопальных</td>\n      <td>[синкопальных, синкопальный]</td>\n    </tr>\n  </tbody>\n</table>\n</div>"
     },
     "execution_count": 3,
     "metadata": {},
     "output_type": "execute_result"
    }
   ],
   "source": [
    "error_precision_test_df.head()"
   ]
  },
  {
   "cell_type": "code",
   "execution_count": 4,
   "metadata": {
    "pycharm": {
     "name": "#%%\n"
    }
   },
   "outputs": [],
   "source": [
    "error_precision_test_word_list = error_precision_test_df[\"test_word\"].tolist()"
   ]
  },
  {
   "cell_type": "code",
   "execution_count": 5,
   "metadata": {
    "pycharm": {
     "name": "#%%\n"
    }
   },
   "outputs": [],
   "source": [
    "error_precision_test_answers = error_precision_test_df[\"answers\"].tolist()"
   ]
  },
  {
   "cell_type": "markdown",
   "source": [
    "Load word list for lexical precision test"
   ],
   "metadata": {
    "collapsed": false,
    "pycharm": {
     "name": "#%% md\n"
    }
   }
  },
  {
   "cell_type": "code",
   "execution_count": 6,
   "outputs": [],
   "source": [
    "with open(\"../data/lexical_word_list.txt\") as file:\n",
    "    lexical_precision_test_word_list = file.readlines()\n",
    "    lexical_precision_test_word_list = [line.rstrip() for line in lexical_precision_test_word_list]"
   ],
   "metadata": {
    "collapsed": false,
    "pycharm": {
     "name": "#%%\n"
    }
   }
  },
  {
   "cell_type": "code",
   "execution_count": 7,
   "outputs": [
    {
     "data": {
      "text/plain": "['выборгский',\n 'отказываться',\n 'нитропрепарат',\n 'предсердие',\n 'диссоциация',\n 'кольцевой',\n 'отрыв',\n 'вовлечение',\n 'мелкопузырчатый',\n 'госпитализировать',\n 'фтизиатр',\n 'проксимальный',\n 'приступ',\n 'рецидивировать',\n 'беспокоить',\n 'значимый',\n 'одномоментный',\n 'течение',\n 'постепенной',\n 'трафик',\n 'левый',\n 'область',\n 'окклюзия',\n 'каждый',\n 'аторвастатин',\n 'проникающий',\n 'слух',\n 'отрицательный',\n 'задний',\n 'диафрагмальный',\n 'физический',\n 'реваскуляризация',\n 'очевидный',\n 'умеренный',\n 'самостоятельный',\n 'визуализация',\n 'неселективный',\n 'септопластика',\n 'присутствие',\n 'соустье',\n 'кировский',\n 'ноющий',\n 'постоять',\n 'стенка',\n 'укоротить',\n 'назначить',\n 'госпитализация',\n 'возобновление',\n 'одеть',\n 'охранник',\n 'дексон',\n 'систолический',\n 'верхушечно-перегородочный',\n 'расширение',\n 'равнозначный',\n 'предприятие',\n 'ночь',\n 'вредность',\n 'транспортировка',\n 'март',\n 'гипотиазид',\n 'скрытый',\n 'расстройство',\n 'ломота',\n 'подготовить',\n 'помощь',\n 'большой',\n 'эквивалент',\n 'гемостатический',\n 'купировавшийся',\n 'ревизия',\n 'пульсирующий',\n 'регистрироваться',\n 'лимитирование',\n 'ометать',\n 'стихание',\n 'вазопрессорный',\n 'тредмил',\n 'тест',\n 'гипопноэ',\n 'наш',\n 'ускоренный',\n 'эффект',\n 'тромбофлебит',\n 'ишемический',\n 'купирование',\n 'патология',\n 'длительный',\n 'заключение',\n 'пунктировать',\n 'ферритина',\n 'гастропротективный',\n 'пароксизм',\n 'выполнять',\n 'показатель',\n 'посттромбофлебитический',\n 'анальгин',\n 'корректировать',\n 'секунда',\n 'креатинкиназа',\n 'утолщение',\n 'терапия',\n 'глибомёт',\n 'лобэктомия',\n 'новгородский',\n 'владеть',\n 'тенденция',\n 'мерить',\n 'поражение',\n 'перекосить',\n 'тропонин',\n 'сдвиг',\n 'отправить',\n 'сжимающее',\n 'давящий',\n 'нифедипин',\n 'мексикор',\n 'сад',\n 'мезентериальный',\n 'дальнейший',\n 'реабилитация',\n 'переносить',\n 'дискомфорт',\n 'проявление',\n 'батарея',\n 'фермент',\n 'затёк',\n 'непроизвольный',\n 'слепок',\n 'тенорик',\n 'сегмент',\n 'дрожь',\n 'появляться',\n 'гепарин',\n 'предсердие',\n 'диурез',\n 'фиксировать',\n 'временной',\n 'микропрепарат',\n 'аторвастатин',\n 'гипотензия',\n 'грудь',\n 'инфаркт',\n 'мононуклеар',\n 'постоянно',\n 'погрузка',\n 'фармакологический',\n 'нестабильный',\n 'мертенил',\n 'тахикардия',\n 'снимать',\n 'распространиться',\n 'контрпульсатор',\n 'соталол',\n 'складываться',\n 'кардиомегалия',\n 'смесь',\n 'мкг',\n 'похожий',\n 'аутовенозный',\n 'гепатин',\n 'рецидивировать',\n 'асцит',\n 'стенокардия',\n 'тысяча',\n 'промежуточный',\n 'возможный',\n 'водка',\n 'лимфодиссекция',\n 'принимать',\n 'стентирование',\n 'незначимый',\n 'настоящий',\n 'задненижний',\n 'частичный',\n 'появиться',\n 'тройной',\n 'показатель',\n 'эквивалент',\n 'утолстить',\n 'поведение',\n 'аускультативный',\n 'отказаться',\n 'рассмотреть',\n 'сывороточный',\n 'формирующийся',\n 'жир',\n 'карведилол',\n 'тонкий',\n 'единица',\n 'срабатывать',\n 'компрометация',\n 'россия',\n 'массив',\n 'нижнебоковой',\n 'отечь',\n 'трепетание',\n 'конкурировать',\n 'событие',\n 'незначительный']"
     },
     "execution_count": 7,
     "metadata": {},
     "output_type": "execute_result"
    }
   ],
   "source": [
    "lexical_precision_test_word_list"
   ],
   "metadata": {
    "collapsed": false,
    "pycharm": {
     "name": "#%%\n"
    }
   }
  },
  {
   "cell_type": "code",
   "execution_count": 8,
   "metadata": {
    "pycharm": {
     "name": "#%%\n"
    }
   },
   "outputs": [],
   "source": [
    "def compute_error_precision(original_word_list, corrected_word_list, answer_word_list):\n",
    "    words_number = len(corrected_word_list)\n",
    "    correct_words_number = 0\n",
    "    print(\"Error precision\")\n",
    "    print(\"original_word_list --- corrected_word --- answer_word_list\")\n",
    "    for i, corrected_word in enumerate(corrected_word_list):\n",
    "        if corrected_word in answer_word_list[i]:\n",
    "            correct_words_number += 1\n",
    "        else:\n",
    "            print(f\"{original_word_list[i]} --- {corrected_word} --- {answer_word_list[i]}\")\n",
    "    print(f\"Right corrected words count - {correct_words_number} of {words_number} total\")\n",
    "    return correct_words_number/words_number"
   ]
  },
  {
   "cell_type": "code",
   "execution_count": 9,
   "outputs": [],
   "source": [
    "def compute_lexical_precision(original_word_list, corrected_word_list):\n",
    "    words_number = len(corrected_word_list)\n",
    "    correct_words_number = 0\n",
    "    print(\"Lexical precision\")\n",
    "    print(\"original_word_list --- corrected_word\")\n",
    "    for i, corrected_word in enumerate(corrected_word_list):\n",
    "        if corrected_word == original_word_list[i]:\n",
    "            correct_words_number += 1\n",
    "        else:\n",
    "            print(f\"{original_word_list[i]} --- {corrected_word}\")\n",
    "    print(f\"Right corrected words count - {correct_words_number} of {words_number} total\")\n",
    "    return correct_words_number/words_number"
   ],
   "metadata": {
    "collapsed": false,
    "pycharm": {
     "name": "#%%\n"
    }
   }
  },
  {
   "cell_type": "code",
   "execution_count": 10,
   "outputs": [
    {
     "name": "stdout",
     "output_type": "stream",
     "text": [
      "Requirement already satisfied: tqdm in /home/Dmitry.Pogrebnoy/Desktop/MedSpellChecker/venv/lib/python3.9/site-packages (4.62.3)\r\n"
     ]
    }
   ],
   "source": [
    "!pip install tqdm\n",
    "from tqdm import tqdm"
   ],
   "metadata": {
    "collapsed": false,
    "pycharm": {
     "name": "#%%\n"
    }
   }
  },
  {
   "cell_type": "code",
   "execution_count": 11,
   "outputs": [],
   "source": [
    "def compute_all_metrics(error_precision_spellchecker_function,\n",
    "                        lexical_precision_spellchecker_function,\n",
    "                        error_precision_original_word_list,\n",
    "                        error_precision_answer_word_list,\n",
    "                        lexical_precision_original_word_list):\n",
    "\n",
    "    error_precision_result = error_precision_spellchecker_function()\n",
    "    error_precision_elapsed_time = error_precision_result[\"elapsed\"]\n",
    "    error_precision_corrected_word_list = error_precision_result[\"corrected_word_list\"]\n",
    "    error_precision = compute_error_precision(error_precision_original_word_list, error_precision_corrected_word_list, error_precision_answer_word_list)\n",
    "\n",
    "    lexical_precision_result = lexical_precision_spellchecker_function()\n",
    "    lexical_precision_elapsed_time = lexical_precision_result[\"elapsed\"]\n",
    "    lexical_precision_corrected_word_list = lexical_precision_result[\"corrected_word_list\"]\n",
    "    lexical_precision = compute_lexical_precision(lexical_precision_original_word_list, lexical_precision_corrected_word_list)\n",
    "\n",
    "    return {\"words_per_second\": (len(error_precision_original_word_list) + len(lexical_precision_original_word_list)) / (error_precision_elapsed_time + lexical_precision_elapsed_time),\n",
    "            \"error_precision\": error_precision,\n",
    "            \"lexical_precision\": lexical_precision,\n",
    "            \"overall_precision\": (error_precision + lexical_precision) / 2.0\n",
    "            # \"error_precision_original_word_list\": error_precision_original_word_list,\n",
    "            # \"error_precision_corrected_word_list\": error_precision_corrected_word_list,\n",
    "            # \"error_precision_answer_word_list\": error_precision_answer_word_list,\n",
    "            # \"lexical_precision_original_word_list\":lexical_precision_original_word_list\n",
    "            }"
   ],
   "metadata": {
    "collapsed": false,
    "pycharm": {
     "name": "#%%\n"
    }
   }
  },
  {
   "cell_type": "markdown",
   "metadata": {
    "id": "En1-fnjrUS7y",
    "pycharm": {
     "name": "#%% md\n"
    }
   },
   "source": [
    "# Spellchecker prototype initialization"
   ]
  },
  {
   "cell_type": "code",
   "execution_count": 74,
   "metadata": {
    "colab": {
     "base_uri": "https://localhost:8080/"
    },
    "id": "-9NdfwQyUDcR",
    "outputId": "19f552b7-eaa9-4db6-f541-816ae713f3d4",
    "pycharm": {
     "name": "#%%\n"
    }
   },
   "outputs": [
    {
     "name": "stdout",
     "output_type": "stream",
     "text": [
      "Requirement already satisfied: pymorphy2 in /home/Dmitry.Pogrebnoy/Desktop/MedSpellChecker/venv/lib/python3.9/site-packages (0.9.1)\r\n",
      "Requirement already satisfied: pymorphy2-dicts-ru<3.0,>=2.4 in /home/Dmitry.Pogrebnoy/Desktop/MedSpellChecker/venv/lib/python3.9/site-packages (from pymorphy2) (2.4.417127.4579844)\r\n",
      "Requirement already satisfied: docopt>=0.6 in /home/Dmitry.Pogrebnoy/Desktop/MedSpellChecker/venv/lib/python3.9/site-packages (from pymorphy2) (0.6.2)\r\n",
      "Requirement already satisfied: dawg-python>=0.7.1 in /home/Dmitry.Pogrebnoy/Desktop/MedSpellChecker/venv/lib/python3.9/site-packages (from pymorphy2) (0.7.2)\r\n",
      "Requirement already satisfied: gensim in /home/Dmitry.Pogrebnoy/Desktop/MedSpellChecker/venv/lib/python3.9/site-packages (4.1.2)\r\n",
      "Requirement already satisfied: numpy>=1.17.0 in /home/Dmitry.Pogrebnoy/Desktop/MedSpellChecker/venv/lib/python3.9/site-packages (from gensim) (1.21.4)\r\n",
      "Requirement already satisfied: smart-open>=1.8.1 in /home/Dmitry.Pogrebnoy/Desktop/MedSpellChecker/venv/lib/python3.9/site-packages (from gensim) (5.2.1)\r\n",
      "Requirement already satisfied: scipy>=0.18.1 in /home/Dmitry.Pogrebnoy/Desktop/MedSpellChecker/venv/lib/python3.9/site-packages (from gensim) (1.7.3)\r\n",
      "Requirement already satisfied: python-levenshtein in /home/Dmitry.Pogrebnoy/Desktop/MedSpellChecker/venv/lib/python3.9/site-packages (0.12.2)\r\n",
      "Requirement already satisfied: setuptools in /home/Dmitry.Pogrebnoy/Desktop/MedSpellChecker/venv/lib/python3.9/site-packages (from python-levenshtein) (57.0.0)\r\n",
      "Requirement already satisfied: stringdist in /home/Dmitry.Pogrebnoy/Desktop/MedSpellChecker/venv/lib/python3.9/site-packages (1.0.9)\r\n"
     ]
    }
   ],
   "source": [
    "!pip install pymorphy2 \n",
    "!pip install gensim\n",
    "!pip install python-levenshtein\n",
    "!pip install stringdist"
   ]
  },
  {
   "cell_type": "markdown",
   "metadata": {
    "id": "2mRtM4gyjlWZ",
    "pycharm": {
     "name": "#%% md\n"
    }
   },
   "source": [
    "# Test SpellChecker Prototype v.2"
   ]
  },
  {
   "cell_type": "code",
   "execution_count": 75,
   "outputs": [],
   "source": [
    "from spellchecker_prototype_v2.spell_checker import SpellChecker"
   ],
   "metadata": {
    "collapsed": false,
    "pycharm": {
     "name": "#%%\n"
    }
   }
  },
  {
   "cell_type": "markdown",
   "source": [
    "Download models (all files) from [link](https://drive.google.com/drive/folders/1ubVgiIC2pqDOpA-CbjEqV8Jo8uBbk0qi?usp=sharing) and move it to `data/spellchecker_prototype_v2/models` folder"
   ],
   "metadata": {
    "collapsed": false,
    "pycharm": {
     "name": "#%% md\n"
    }
   }
  },
  {
   "cell_type": "code",
   "execution_count": 122,
   "outputs": [
    {
     "name": "stdout",
     "output_type": "stream",
     "text": [
      "/home/Dmitry.Pogrebnoy/Desktop/MedSpellChecker/spellchecker_prototype_v2\n"
     ]
    },
    {
     "name": "stderr",
     "output_type": "stream",
     "text": [
      "0it [00:00, ?it/s]"
     ]
    },
    {
     "name": "stdout",
     "output_type": "stream",
     "text": [
      "['эктренном', 'синусовго', 'даным', 'шнутография', 'сникопальных', 'посление', 'ходавый', 'анмнезе', 'сентированный', 'самоч', 'перевдена', 'стентированеим', 'кардиол', 'переведна', 'догосптальном', 'миним', 'субфебриллитет', 'загрудиные', 'перферия', 'течени', 'оклюзия', 'жнщина', 'пциент', 'зарегистирована', 'сегмета', 'клекте', 'эпид', 'интелектуально', 'нижн', 'прводилась', 'неуст', 'госптализирован', 'вперые', 'послеоперационом', 'госпитализирова', 'ухудщение', 'рентг', 'дальнешем', 'троботическая', 'многосоудистое', 'миокрада', 'сопрвождались', 'дискмфорт', 'потлтвостью', 'левогожелудочка', 'рание', 'виед', 'ангинозныеболи', 'догоситальном', 'ввполнен', 'чаосв', 'октазалась', 'линика', 'ммента', 'проведеной', 'выполненяи', 'леченяи', 'обтилась', 'повтороно', 'зарегистриованы', 'отицает', 'дальнейщем', 'болисохраняются', 'частичынм', 'атерокслеротичсекая', 'деньс', 'назначаля', 'проведеняи', 'беспакоют', 'гипертензи', 'воленйбол', 'болезн', 'стенокардаа', 'продолжалсь', 'поворное', 'ощуащет', 'ангигнозного', 'диагностичекой', 'поддерживающией', 'межлопаточнй', 'бедреной', 'гшрядки', 'бассеине', 'возлуха', 'сенября', 'постояная', 'рекмоендовнао', 'поврждения', 'дискофморта', 'импалнтирован', 'неочетливая', 'обесвеченный', 'серце', 'блезнь', 'лергия', 'ука', 'изжга', 'жение', 'кашел', 'рствор', 'пациен', 'пожлой', 'лекарсво', 'нпреносимость', 'амупула', 'гел', 'конценрат', 'рилиф', 'чссс', 'экгъ', 'фибриляция', 'желдочек', 'хрон', 'гиподин', 'нерный', 'сист', 'диагоностика', 'гипоксмия', 'ледокоин', 'блокато', 'тахкардия', 'малоинвозивный', 'алация', 'имь', 'паражение', 'тяжолый', 'гастрапластика', 'вс', 'лешний', 'орта', 'клапа', 'вент', 'палый', 'пирикард', 'метральный', 'ултразвук', 'херург', 'кордиолог', 'килограм', 'акенезия', 'врхушка', 'апекальный', 'сгмент', 'вес', 'сьенка', 'церкулярный', 'сридиный', 'калапаный', 'апарат', 'потология', 'перекард', 'праксимальный', 'деаметр', 'корекция', 'аслажнение', 'стрдать', 'гепертонический', 'болезн', 'одоптировать', 'получять', 'кансервативный', 'тичение', 'пребование', 'отбиление', 'самачувствие', 'уходшение', 'месро', 'пункцыя', 'особеность', 'шнут', 'шнутирование', 'готчина', 'эхэ', 'каранарный', 'ортерия', 'сначимый', 'стинос', 'гаспиализировать', 'имья', 'олмазов', 'прдшствовать', 'стинакардия', 'пиринести', 'ифаркт', 'моикарда', 'лакализация', 'спразка', 'дальнейшый', 'хроническаянедостаточность', 'инфарктмиокарда', 'отузла', 'нарушениеработы', 'вминуту', 'эндокриннойсистемы', 'сердечныйритм', 'узловаятахикардия', 'основныефакторы', 'остановкасердца', 'фибрилляцияжелудочков', 'счастотой']\n"
     ]
    },
    {
     "name": "stderr",
     "output_type": "stream",
     "text": [
      "\n",
      "0it [00:00, ?it/s]\u001B[A\n",
      "1it [00:23, 23.26s/it]\u001B[A"
     ]
    },
    {
     "name": "stdout",
     "output_type": "stream",
     "text": [
      "Fast Text Exception for эктренном\n"
     ]
    },
    {
     "name": "stderr",
     "output_type": "stream",
     "text": [
      "\n",
      "2it [00:46, 23.30s/it]\u001B[A"
     ]
    },
    {
     "name": "stdout",
     "output_type": "stream",
     "text": [
      "Fast Text Exception for синусовго\n"
     ]
    },
    {
     "name": "stderr",
     "output_type": "stream",
     "text": [
      "\n",
      "3it [00:59, 18.47s/it]\u001B[A"
     ]
    },
    {
     "name": "stdout",
     "output_type": "stream",
     "text": [
      "Fast Text Exception for даным\n"
     ]
    },
    {
     "name": "stderr",
     "output_type": "stream",
     "text": [
      "\n",
      "4it [01:26, 21.95s/it]\u001B[A"
     ]
    },
    {
     "name": "stdout",
     "output_type": "stream",
     "text": [
      "Fast Text Exception for шнутография\n"
     ]
    },
    {
     "name": "stderr",
     "output_type": "stream",
     "text": [
      "\n",
      "5it [01:54, 24.19s/it]\u001B[A"
     ]
    },
    {
     "name": "stdout",
     "output_type": "stream",
     "text": [
      "try синкопальный\n"
     ]
    },
    {
     "name": "stderr",
     "output_type": "stream",
     "text": [
      "\n",
      "6it [02:14, 22.62s/it]\u001B[A"
     ]
    },
    {
     "name": "stdout",
     "output_type": "stream",
     "text": [
      "Fast Text Exception for посление\n"
     ]
    },
    {
     "name": "stderr",
     "output_type": "stream",
     "text": [
      "\n",
      "7it [02:32, 21.18s/it]\u001B[A"
     ]
    },
    {
     "name": "stdout",
     "output_type": "stream",
     "text": [
      "Fast Text Exception for ходавый\n"
     ]
    },
    {
     "name": "stderr",
     "output_type": "stream",
     "text": [
      "\n",
      "8it [02:50, 20.11s/it]\u001B[A"
     ]
    },
    {
     "name": "stdout",
     "output_type": "stream",
     "text": [
      "Fast Text Exception for анмнезе\n"
     ]
    },
    {
     "name": "stderr",
     "output_type": "stream",
     "text": [
      "\n",
      "9it [03:23, 24.33s/it]\u001B[A"
     ]
    },
    {
     "name": "stdout",
     "output_type": "stream",
     "text": [
      "Fast Text Exception for сентированный\n"
     ]
    },
    {
     "name": "stderr",
     "output_type": "stream",
     "text": [
      "\n",
      "10it [03:37, 20.85s/it]\u001B[A"
     ]
    },
    {
     "name": "stdout",
     "output_type": "stream",
     "text": [
      "Fast Text Exception for самоч\n"
     ]
    },
    {
     "name": "stderr",
     "output_type": "stream",
     "text": [
      "\n",
      "11it [03:59, 21.42s/it]\u001B[A"
     ]
    },
    {
     "name": "stdout",
     "output_type": "stream",
     "text": [
      "Fast Text Exception for перевдена\n"
     ]
    },
    {
     "name": "stderr",
     "output_type": "stream",
     "text": [
      "\n",
      "12it [04:34, 25.56s/it]\u001B[A"
     ]
    },
    {
     "name": "stdout",
     "output_type": "stream",
     "text": [
      "Fast Text Exception for стентированеим\n"
     ]
    },
    {
     "name": "stderr",
     "output_type": "stream",
     "text": [
      "\n",
      "13it [04:52, 23.13s/it]\u001B[A"
     ]
    },
    {
     "name": "stdout",
     "output_type": "stream",
     "text": [
      "Fast Text Exception for кардиол\n"
     ]
    },
    {
     "name": "stderr",
     "output_type": "stream",
     "text": [
      "\n",
      "14it [05:15, 23.04s/it]\u001B[A"
     ]
    },
    {
     "name": "stdout",
     "output_type": "stream",
     "text": [
      "Fast Text Exception for переведна\n"
     ]
    },
    {
     "name": "stderr",
     "output_type": "stream",
     "text": [
      "\n",
      "15it [05:47, 25.98s/it]\u001B[A"
     ]
    },
    {
     "name": "stdout",
     "output_type": "stream",
     "text": [
      "try догоспитальный\n"
     ]
    },
    {
     "name": "stderr",
     "output_type": "stream",
     "text": [
      "\n",
      "16it [06:01, 22.24s/it]\u001B[A"
     ]
    },
    {
     "name": "stdout",
     "output_type": "stream",
     "text": [
      "Fast Text Exception for миним\n"
     ]
    },
    {
     "name": "stderr",
     "output_type": "stream",
     "text": [
      "\n",
      "17it [06:36, 26.10s/it]\u001B[A"
     ]
    },
    {
     "name": "stdout",
     "output_type": "stream",
     "text": [
      "try субфебрилитет\n"
     ]
    },
    {
     "name": "stderr",
     "output_type": "stream",
     "text": [
      "\n",
      "18it [07:01, 25.82s/it]\u001B[A"
     ]
    },
    {
     "name": "stdout",
     "output_type": "stream",
     "text": [
      "Fast Text Exception for загрудиные\n"
     ]
    },
    {
     "name": "stderr",
     "output_type": "stream",
     "text": [
      "\n",
      "19it [07:21, 24.14s/it]\u001B[A"
     ]
    },
    {
     "name": "stdout",
     "output_type": "stream",
     "text": [
      "try периферия\n"
     ]
    },
    {
     "name": "stderr",
     "output_type": "stream",
     "text": [
      "\n",
      "20it [07:37, 21.55s/it]\u001B[A"
     ]
    },
    {
     "name": "stdout",
     "output_type": "stream",
     "text": [
      "Fast Text Exception for течени\n"
     ]
    },
    {
     "name": "stderr",
     "output_type": "stream",
     "text": [
      "\n",
      "21it [07:55, 20.38s/it]\u001B[A"
     ]
    },
    {
     "name": "stdout",
     "output_type": "stream",
     "text": [
      "try окклюзия\n"
     ]
    },
    {
     "name": "stderr",
     "output_type": "stream",
     "text": [
      "\n",
      "22it [08:10, 18.84s/it]\u001B[A"
     ]
    },
    {
     "name": "stdout",
     "output_type": "stream",
     "text": [
      "try женщина\n"
     ]
    },
    {
     "name": "stderr",
     "output_type": "stream",
     "text": [
      "\n",
      "23it [08:25, 17.78s/it]\u001B[A"
     ]
    },
    {
     "name": "stdout",
     "output_type": "stream",
     "text": [
      "try пациент\n"
     ]
    },
    {
     "name": "stderr",
     "output_type": "stream",
     "text": [
      "\n",
      "24it [09:04, 23.96s/it]\u001B[A"
     ]
    },
    {
     "name": "stdout",
     "output_type": "stream",
     "text": [
      "try зарегистрировать\n"
     ]
    },
    {
     "name": "stderr",
     "output_type": "stream",
     "text": [
      "\n",
      "25it [09:21, 22.09s/it]\u001B[A"
     ]
    },
    {
     "name": "stdout",
     "output_type": "stream",
     "text": [
      "Fast Text Exception for сегмета\n"
     ]
    },
    {
     "name": "stderr",
     "output_type": "stream",
     "text": [
      "\n",
      "26it [09:37, 20.07s/it]\u001B[A"
     ]
    },
    {
     "name": "stdout",
     "output_type": "stream",
     "text": [
      "Fast Text Exception for клекте\n"
     ]
    },
    {
     "name": "stderr",
     "output_type": "stream",
     "text": [
      "\n",
      "27it [09:47, 17.18s/it]\u001B[A"
     ]
    },
    {
     "name": "stdout",
     "output_type": "stream",
     "text": [
      "Fast Text Exception for эпид\n"
     ]
    },
    {
     "name": "stderr",
     "output_type": "stream",
     "text": [
      "\n",
      "28it [10:22, 22.47s/it]\u001B[A"
     ]
    },
    {
     "name": "stdout",
     "output_type": "stream",
     "text": [
      "Fast Text Exception for интелектуально\n"
     ]
    },
    {
     "name": "stderr",
     "output_type": "stream",
     "text": [
      "\n",
      "29it [10:32, 18.86s/it]\u001B[A"
     ]
    },
    {
     "name": "stdout",
     "output_type": "stream",
     "text": [
      "Fast Text Exception for нижн\n"
     ]
    },
    {
     "name": "stderr",
     "output_type": "stream",
     "text": [
      "\n",
      "30it [10:58, 20.89s/it]\u001B[A"
     ]
    },
    {
     "name": "stdout",
     "output_type": "stream",
     "text": [
      "Fast Text Exception for прводилась\n"
     ]
    },
    {
     "name": "stderr",
     "output_type": "stream",
     "text": [
      "\n",
      "31it [11:11, 18.47s/it]\u001B[A"
     ]
    },
    {
     "name": "stdout",
     "output_type": "stream",
     "text": [
      "Fast Text Exception for неуст\n"
     ]
    },
    {
     "name": "stderr",
     "output_type": "stream",
     "text": [
      "\n",
      "32it [11:48, 24.17s/it]\u001B[A"
     ]
    },
    {
     "name": "stdout",
     "output_type": "stream",
     "text": [
      "try госпитализировать\n"
     ]
    },
    {
     "name": "stderr",
     "output_type": "stream",
     "text": [
      "\n",
      "33it [12:04, 21.65s/it]\u001B[A"
     ]
    },
    {
     "name": "stdout",
     "output_type": "stream",
     "text": [
      "Fast Text Exception for вперые\n"
     ]
    },
    {
     "name": "stderr",
     "output_type": "stream",
     "text": [
      "\n",
      "34it [12:45, 27.44s/it]\u001B[A"
     ]
    },
    {
     "name": "stdout",
     "output_type": "stream",
     "text": [
      "Fast Text Exception for послеоперационом\n"
     ]
    },
    {
     "name": "stderr",
     "output_type": "stream",
     "text": [
      "\n",
      "35it [13:24, 30.83s/it]\u001B[A"
     ]
    },
    {
     "name": "stdout",
     "output_type": "stream",
     "text": [
      "try госпитализировать\n"
     ]
    },
    {
     "name": "stderr",
     "output_type": "stream",
     "text": [
      "\n",
      "36it [13:47, 28.45s/it]\u001B[A"
     ]
    },
    {
     "name": "stdout",
     "output_type": "stream",
     "text": [
      "try ухудшение\n"
     ]
    },
    {
     "name": "stderr",
     "output_type": "stream",
     "text": [
      "\n",
      "37it [14:00, 23.79s/it]\u001B[A"
     ]
    },
    {
     "name": "stdout",
     "output_type": "stream",
     "text": [
      "Fast Text Exception for рентг\n"
     ]
    },
    {
     "name": "stderr",
     "output_type": "stream",
     "text": [
      "\n",
      "38it [14:24, 23.84s/it]\u001B[A"
     ]
    },
    {
     "name": "stdout",
     "output_type": "stream",
     "text": [
      "Fast Text Exception for дальнешем\n"
     ]
    },
    {
     "name": "stderr",
     "output_type": "stream",
     "text": [
      "\n",
      "39it [14:56, 26.34s/it]\u001B[A"
     ]
    },
    {
     "name": "stdout",
     "output_type": "stream",
     "text": [
      "Fast Text Exception for троботическая\n"
     ]
    },
    {
     "name": "stderr",
     "output_type": "stream",
     "text": [
      "\n",
      "40it [15:30, 28.85s/it]\u001B[A"
     ]
    },
    {
     "name": "stdout",
     "output_type": "stream",
     "text": [
      "Fast Text Exception for многосоудистое\n"
     ]
    },
    {
     "name": "stderr",
     "output_type": "stream",
     "text": [
      "\n",
      "41it [15:51, 26.24s/it]\u001B[A"
     ]
    },
    {
     "name": "stdout",
     "output_type": "stream",
     "text": [
      "Fast Text Exception for миокрада\n"
     ]
    },
    {
     "name": "stderr",
     "output_type": "stream",
     "text": [
      "\n",
      "42it [16:23, 28.11s/it]\u001B[A"
     ]
    },
    {
     "name": "stdout",
     "output_type": "stream",
     "text": [
      "Fast Text Exception for сопрвождались\n"
     ]
    },
    {
     "name": "stderr",
     "output_type": "stream",
     "text": [
      "\n",
      "43it [16:45, 26.41s/it]\u001B[A"
     ]
    },
    {
     "name": "stdout",
     "output_type": "stream",
     "text": [
      "try дискомфорт\n"
     ]
    },
    {
     "name": "stderr",
     "output_type": "stream",
     "text": [
      "\n",
      "44it [17:13, 26.71s/it]\u001B[A"
     ]
    },
    {
     "name": "stdout",
     "output_type": "stream",
     "text": [
      "try потливость\n"
     ]
    },
    {
     "name": "stderr",
     "output_type": "stream",
     "text": [
      "\n",
      "45it [17:50, 29.83s/it]\u001B[A"
     ]
    },
    {
     "name": "stdout",
     "output_type": "stream",
     "text": [
      "Fast Text Exception for левогожелудочка\n"
     ]
    },
    {
     "name": "stderr",
     "output_type": "stream",
     "text": [
      "\n",
      "46it [18:03, 24.90s/it]\u001B[A"
     ]
    },
    {
     "name": "stdout",
     "output_type": "stream",
     "text": [
      "Fast Text Exception for рание\n"
     ]
    },
    {
     "name": "stderr",
     "output_type": "stream",
     "text": [
      "\n",
      "47it [18:14, 20.53s/it]\u001B[A"
     ]
    },
    {
     "name": "stdout",
     "output_type": "stream",
     "text": [
      "Fast Text Exception for виед\n"
     ]
    },
    {
     "name": "stderr",
     "output_type": "stream",
     "text": [
      "\n",
      "48it [18:48, 24.79s/it]\u001B[A"
     ]
    },
    {
     "name": "stdout",
     "output_type": "stream",
     "text": [
      "Fast Text Exception for ангинозныеболи\n"
     ]
    },
    {
     "name": "stderr",
     "output_type": "stream",
     "text": [
      "\n",
      "49it [19:22, 27.28s/it]\u001B[A"
     ]
    },
    {
     "name": "stdout",
     "output_type": "stream",
     "text": [
      "try догоспитальный\n"
     ]
    },
    {
     "name": "stderr",
     "output_type": "stream",
     "text": [
      "\n",
      "50it [19:42, 25.18s/it]\u001B[A"
     ]
    },
    {
     "name": "stdout",
     "output_type": "stream",
     "text": [
      "Fast Text Exception for ввполнен\n"
     ]
    },
    {
     "name": "stderr",
     "output_type": "stream",
     "text": [
      "\n",
      "51it [19:55, 21.52s/it]\u001B[A"
     ]
    },
    {
     "name": "stdout",
     "output_type": "stream",
     "text": [
      "Fast Text Exception for чаосв\n"
     ]
    },
    {
     "name": "stderr",
     "output_type": "stream",
     "text": [
      "\n",
      "52it [20:20, 22.59s/it]\u001B[A"
     ]
    },
    {
     "name": "stdout",
     "output_type": "stream",
     "text": [
      "Fast Text Exception for октазалась\n"
     ]
    },
    {
     "name": "stderr",
     "output_type": "stream",
     "text": [
      "\n",
      "53it [20:36, 20.61s/it]\u001B[A"
     ]
    },
    {
     "name": "stdout",
     "output_type": "stream",
     "text": [
      "Fast Text Exception for линика\n"
     ]
    },
    {
     "name": "stderr",
     "output_type": "stream",
     "text": [
      "\n",
      "54it [20:52, 19.38s/it]\u001B[A"
     ]
    },
    {
     "name": "stdout",
     "output_type": "stream",
     "text": [
      "Fast Text Exception for ммента\n"
     ]
    },
    {
     "name": "stderr",
     "output_type": "stream",
     "text": [
      "\n",
      "55it [21:18, 21.21s/it]\u001B[A"
     ]
    },
    {
     "name": "stdout",
     "output_type": "stream",
     "text": [
      "Fast Text Exception for проведеной\n"
     ]
    },
    {
     "name": "stderr",
     "output_type": "stream",
     "text": [
      "\n",
      "56it [21:44, 22.60s/it]\u001B[A"
     ]
    },
    {
     "name": "stdout",
     "output_type": "stream",
     "text": [
      "Fast Text Exception for выполненяи\n"
     ]
    },
    {
     "name": "stderr",
     "output_type": "stream",
     "text": [
      "\n",
      "57it [22:02, 21.17s/it]\u001B[A"
     ]
    },
    {
     "name": "stdout",
     "output_type": "stream",
     "text": [
      "Fast Text Exception for леченяи\n"
     ]
    },
    {
     "name": "stderr",
     "output_type": "stream",
     "text": [
      "\n",
      "58it [22:22, 20.98s/it]\u001B[A"
     ]
    },
    {
     "name": "stdout",
     "output_type": "stream",
     "text": [
      "Fast Text Exception for обтилась\n"
     ]
    },
    {
     "name": "stderr",
     "output_type": "stream",
     "text": [
      "\n",
      "59it [22:45, 21.65s/it]\u001B[A"
     ]
    },
    {
     "name": "stdout",
     "output_type": "stream",
     "text": [
      "Fast Text Exception for повтороно\n"
     ]
    },
    {
     "name": "stderr",
     "output_type": "stream",
     "text": [
      "\n",
      "60it [23:23, 26.60s/it]\u001B[A"
     ]
    },
    {
     "name": "stdout",
     "output_type": "stream",
     "text": [
      "try зарегистрировать\n"
     ]
    },
    {
     "name": "stderr",
     "output_type": "stream",
     "text": [
      "\n",
      "61it [23:42, 24.09s/it]\u001B[A"
     ]
    },
    {
     "name": "stdout",
     "output_type": "stream",
     "text": [
      "Fast Text Exception for отицает\n"
     ]
    },
    {
     "name": "stderr",
     "output_type": "stream",
     "text": [
      "\n",
      "62it [24:07, 24.41s/it]\u001B[A"
     ]
    },
    {
     "name": "stdout",
     "output_type": "stream",
     "text": [
      "Fast Text Exception for дальнейщем\n"
     ]
    },
    {
     "name": "stderr",
     "output_type": "stream",
     "text": [
      "\n",
      "63it [24:44, 28.22s/it]\u001B[A"
     ]
    },
    {
     "name": "stdout",
     "output_type": "stream",
     "text": [
      "Fast Text Exception for болисохраняются\n"
     ]
    },
    {
     "name": "stderr",
     "output_type": "stream",
     "text": [
      "\n",
      "64it [25:06, 26.49s/it]\u001B[A"
     ]
    },
    {
     "name": "stdout",
     "output_type": "stream",
     "text": [
      "Fast Text Exception for частичынм\n"
     ]
    },
    {
     "name": "stderr",
     "output_type": "stream",
     "text": [
      "\n",
      "65it [25:54, 32.91s/it]\u001B[A"
     ]
    },
    {
     "name": "stdout",
     "output_type": "stream",
     "text": [
      "Fast Text Exception for атерокслеротичсекая\n"
     ]
    },
    {
     "name": "stderr",
     "output_type": "stream",
     "text": [
      "\n",
      "66it [26:07, 26.91s/it]\u001B[A"
     ]
    },
    {
     "name": "stdout",
     "output_type": "stream",
     "text": [
      "Fast Text Exception for деньс\n"
     ]
    },
    {
     "name": "stderr",
     "output_type": "stream",
     "text": [
      "\n",
      "67it [26:30, 25.84s/it]\u001B[A"
     ]
    },
    {
     "name": "stdout",
     "output_type": "stream",
     "text": [
      "Fast Text Exception for назначаля\n"
     ]
    },
    {
     "name": "stderr",
     "output_type": "stream",
     "text": [
      "\n",
      "68it [26:56, 25.68s/it]\u001B[A"
     ]
    },
    {
     "name": "stdout",
     "output_type": "stream",
     "text": [
      "Fast Text Exception for проведеняи\n"
     ]
    },
    {
     "name": "stderr",
     "output_type": "stream",
     "text": [
      "\n",
      "69it [27:19, 25.00s/it]\u001B[A"
     ]
    },
    {
     "name": "stdout",
     "output_type": "stream",
     "text": [
      "Fast Text Exception for беспакоют\n"
     ]
    },
    {
     "name": "stderr",
     "output_type": "stream",
     "text": [
      "\n",
      "70it [27:45, 25.10s/it]\u001B[A"
     ]
    },
    {
     "name": "stdout",
     "output_type": "stream",
     "text": [
      "Fast Text Exception for гипертензи\n"
     ]
    },
    {
     "name": "stderr",
     "output_type": "stream",
     "text": [
      "\n",
      "71it [28:08, 24.51s/it]\u001B[A"
     ]
    },
    {
     "name": "stdout",
     "output_type": "stream",
     "text": [
      "Fast Text Exception for воленйбол\n"
     ]
    },
    {
     "name": "stderr",
     "output_type": "stream",
     "text": [
      "\n",
      "72it [28:24, 21.98s/it]\u001B[A"
     ]
    },
    {
     "name": "stdout",
     "output_type": "stream",
     "text": [
      "Fast Text Exception for болезн\n"
     ]
    },
    {
     "name": "stderr",
     "output_type": "stream",
     "text": [
      "\n",
      "73it [28:53, 24.07s/it]\u001B[A"
     ]
    },
    {
     "name": "stdout",
     "output_type": "stream",
     "text": [
      "try стенокардия\n"
     ]
    },
    {
     "name": "stderr",
     "output_type": "stream",
     "text": [
      "\n",
      "74it [29:21, 25.26s/it]\u001B[A"
     ]
    },
    {
     "name": "stdout",
     "output_type": "stream",
     "text": [
      "try продолжать\n"
     ]
    },
    {
     "name": "stderr",
     "output_type": "stream",
     "text": [
      "\n",
      "75it [29:40, 23.51s/it]\u001B[A"
     ]
    },
    {
     "name": "stdout",
     "output_type": "stream",
     "text": [
      "Fast Text Exception for поворное\n"
     ]
    },
    {
     "name": "stderr",
     "output_type": "stream",
     "text": [
      "\n",
      "76it [29:58, 21.88s/it]\u001B[A"
     ]
    },
    {
     "name": "stdout",
     "output_type": "stream",
     "text": [
      "Fast Text Exception for ощуащет\n"
     ]
    },
    {
     "name": "stderr",
     "output_type": "stream",
     "text": [
      "\n",
      "77it [30:30, 24.75s/it]\u001B[A"
     ]
    },
    {
     "name": "stdout",
     "output_type": "stream",
     "text": [
      "Fast Text Exception for ангигнозного\n"
     ]
    },
    {
     "name": "stderr",
     "output_type": "stream",
     "text": [
      "\n",
      "78it [31:05, 27.88s/it]\u001B[A"
     ]
    },
    {
     "name": "stdout",
     "output_type": "stream",
     "text": [
      "try диагностический\n"
     ]
    },
    {
     "name": "stderr",
     "output_type": "stream",
     "text": [
      "\n",
      "79it [31:44, 31.17s/it]\u001B[A"
     ]
    },
    {
     "name": "stdout",
     "output_type": "stream",
     "text": [
      "Fast Text Exception for поддерживающией\n"
     ]
    },
    {
     "name": "stderr",
     "output_type": "stream",
     "text": [
      "\n",
      "80it [32:14, 31.01s/it]\u001B[A"
     ]
    },
    {
     "name": "stdout",
     "output_type": "stream",
     "text": [
      "try межлопаточный\n"
     ]
    },
    {
     "name": "stderr",
     "output_type": "stream",
     "text": [
      "\n",
      "81it [32:35, 27.91s/it]\u001B[A"
     ]
    },
    {
     "name": "stdout",
     "output_type": "stream",
     "text": [
      "Fast Text Exception for бедреной\n"
     ]
    },
    {
     "name": "stderr",
     "output_type": "stream",
     "text": [
      "\n",
      "82it [32:53, 24.98s/it]\u001B[A"
     ]
    },
    {
     "name": "stdout",
     "output_type": "stream",
     "text": [
      "Fast Text Exception for гшрядки\n"
     ]
    },
    {
     "name": "stderr",
     "output_type": "stream",
     "text": [
      "\n",
      "83it [33:14, 23.70s/it]\u001B[A"
     ]
    },
    {
     "name": "stdout",
     "output_type": "stream",
     "text": [
      "Fast Text Exception for бассеине\n"
     ]
    },
    {
     "name": "stderr",
     "output_type": "stream",
     "text": [
      "\n",
      "84it [33:32, 21.98s/it]\u001B[A"
     ]
    },
    {
     "name": "stdout",
     "output_type": "stream",
     "text": [
      "Fast Text Exception for возлуха\n"
     ]
    },
    {
     "name": "stderr",
     "output_type": "stream",
     "text": [
      "\n",
      "85it [33:50, 20.94s/it]\u001B[A"
     ]
    },
    {
     "name": "stdout",
     "output_type": "stream",
     "text": [
      "try сентябрь\n"
     ]
    },
    {
     "name": "stderr",
     "output_type": "stream",
     "text": [
      "\n",
      "86it [34:13, 21.57s/it]\u001B[A"
     ]
    },
    {
     "name": "stdout",
     "output_type": "stream",
     "text": [
      "Fast Text Exception for постояная\n"
     ]
    },
    {
     "name": "stderr",
     "output_type": "stream",
     "text": [
      "\n",
      "87it [34:46, 25.01s/it]\u001B[A"
     ]
    },
    {
     "name": "stdout",
     "output_type": "stream",
     "text": [
      "try рекомендовать\n"
     ]
    },
    {
     "name": "stderr",
     "output_type": "stream",
     "text": [
      "\n",
      "88it [35:10, 24.72s/it]\u001B[A"
     ]
    },
    {
     "name": "stdout",
     "output_type": "stream",
     "text": [
      "Fast Text Exception for поврждения\n"
     ]
    },
    {
     "name": "stderr",
     "output_type": "stream",
     "text": [
      "\n",
      "89it [35:38, 25.47s/it]\u001B[A"
     ]
    },
    {
     "name": "stdout",
     "output_type": "stream",
     "text": [
      "Fast Text Exception for дискофморта\n"
     ]
    },
    {
     "name": "stderr",
     "output_type": "stream",
     "text": [
      "\n",
      "90it [36:09, 27.28s/it]\u001B[A"
     ]
    },
    {
     "name": "stdout",
     "output_type": "stream",
     "text": [
      "try имплантировать\n"
     ]
    },
    {
     "name": "stderr",
     "output_type": "stream",
     "text": [
      "\n",
      "91it [36:36, 27.11s/it]\u001B[A"
     ]
    },
    {
     "name": "stdout",
     "output_type": "stream",
     "text": [
      "Fast Text Exception for неочетливая\n"
     ]
    },
    {
     "name": "stderr",
     "output_type": "stream",
     "text": [
      "\n",
      "92it [37:05, 27.65s/it]\u001B[A"
     ]
    },
    {
     "name": "stdout",
     "output_type": "stream",
     "text": [
      "Fast Text Exception for обесвеченный\n"
     ]
    },
    {
     "name": "stderr",
     "output_type": "stream",
     "text": [
      "\n",
      "93it [37:17, 23.13s/it]\u001B[A"
     ]
    },
    {
     "name": "stdout",
     "output_type": "stream",
     "text": [
      "Fast Text Exception for серце\n"
     ]
    },
    {
     "name": "stderr",
     "output_type": "stream",
     "text": [
      "\n",
      "94it [37:32, 20.61s/it]\u001B[A"
     ]
    },
    {
     "name": "stdout",
     "output_type": "stream",
     "text": [
      "try болезнь\n"
     ]
    },
    {
     "name": "stderr",
     "output_type": "stream",
     "text": [
      "\n",
      "95it [37:50, 19.72s/it]\u001B[A"
     ]
    },
    {
     "name": "stdout",
     "output_type": "stream",
     "text": [
      "Fast Text Exception for лергия\n"
     ]
    },
    {
     "name": "stderr",
     "output_type": "stream",
     "text": [
      "\n",
      "96it [37:59, 16.70s/it]\u001B[A"
     ]
    },
    {
     "name": "stdout",
     "output_type": "stream",
     "text": [
      "Fast Text Exception for ука\n"
     ]
    },
    {
     "name": "stderr",
     "output_type": "stream",
     "text": [
      "\n",
      "97it [38:13, 15.65s/it]\u001B[A"
     ]
    },
    {
     "name": "stdout",
     "output_type": "stream",
     "text": [
      "try изжога\n"
     ]
    },
    {
     "name": "stderr",
     "output_type": "stream",
     "text": [
      "\n",
      "98it [38:27, 15.12s/it]\u001B[A"
     ]
    },
    {
     "name": "stdout",
     "output_type": "stream",
     "text": [
      "Fast Text Exception for жение\n"
     ]
    },
    {
     "name": "stderr",
     "output_type": "stream",
     "text": [
      "\n",
      "99it [38:40, 14.49s/it]\u001B[A"
     ]
    },
    {
     "name": "stdout",
     "output_type": "stream",
     "text": [
      "Fast Text Exception for кашел\n"
     ]
    },
    {
     "name": "stderr",
     "output_type": "stream",
     "text": [
      "\n",
      "100it [38:55, 14.79s/it]\u001B[A"
     ]
    },
    {
     "name": "stdout",
     "output_type": "stream",
     "text": [
      "Fast Text Exception for рствор\n"
     ]
    },
    {
     "name": "stderr",
     "output_type": "stream",
     "text": [
      "\n",
      "101it [39:10, 14.97s/it]\u001B[A"
     ]
    },
    {
     "name": "stdout",
     "output_type": "stream",
     "text": [
      "try пациент\n"
     ]
    },
    {
     "name": "stderr",
     "output_type": "stream",
     "text": [
      "\n",
      "102it [39:26, 15.10s/it]\u001B[A"
     ]
    },
    {
     "name": "stdout",
     "output_type": "stream",
     "text": [
      "Fast Text Exception for пожлой\n"
     ]
    },
    {
     "name": "stderr",
     "output_type": "stream",
     "text": [
      "\n",
      "103it [39:47, 16.86s/it]\u001B[A"
     ]
    },
    {
     "name": "stdout",
     "output_type": "stream",
     "text": [
      "try лекарство\n"
     ]
    },
    {
     "name": "stderr",
     "output_type": "stream",
     "text": [
      "\n",
      "104it [40:19, 21.58s/it]\u001B[A"
     ]
    },
    {
     "name": "stdout",
     "output_type": "stream",
     "text": [
      "Fast Text Exception for нпреносимость\n"
     ]
    },
    {
     "name": "stderr",
     "output_type": "stream",
     "text": [
      "\n",
      "105it [40:37, 20.38s/it]\u001B[A"
     ]
    },
    {
     "name": "stdout",
     "output_type": "stream",
     "text": [
      "try ампула\n"
     ]
    },
    {
     "name": "stderr",
     "output_type": "stream",
     "text": [
      "\n",
      "106it [40:46, 16.97s/it]\u001B[A"
     ]
    },
    {
     "name": "stdout",
     "output_type": "stream",
     "text": [
      "Fast Text Exception for гел\n"
     ]
    },
    {
     "name": "stderr",
     "output_type": "stream",
     "text": [
      "\n",
      "107it [41:09, 18.67s/it]\u001B[A"
     ]
    },
    {
     "name": "stdout",
     "output_type": "stream",
     "text": [
      "Fast Text Exception for конценрат\n"
     ]
    },
    {
     "name": "stderr",
     "output_type": "stream",
     "text": [
      "\n",
      "109it [41:19, 12.50s/it]\u001B[A"
     ]
    },
    {
     "name": "stdout",
     "output_type": "stream",
     "text": [
      "Fast Text Exception for чссс\n"
     ]
    },
    {
     "name": "stderr",
     "output_type": "stream",
     "text": [
      "\n",
      "110it [41:29, 11.94s/it]\u001B[A"
     ]
    },
    {
     "name": "stdout",
     "output_type": "stream",
     "text": [
      "Fast Text Exception for экгъ\n"
     ]
    },
    {
     "name": "stderr",
     "output_type": "stream",
     "text": [
      "\n",
      "111it [41:55, 15.37s/it]\u001B[A"
     ]
    },
    {
     "name": "stdout",
     "output_type": "stream",
     "text": [
      "try фибрилляция\n"
     ]
    },
    {
     "name": "stderr",
     "output_type": "stream",
     "text": [
      "\n",
      "112it [42:15, 16.70s/it]\u001B[A"
     ]
    },
    {
     "name": "stdout",
     "output_type": "stream",
     "text": [
      "try желудочек\n"
     ]
    },
    {
     "name": "stderr",
     "output_type": "stream",
     "text": [
      "\n",
      "113it [42:26, 15.12s/it]\u001B[A"
     ]
    },
    {
     "name": "stdout",
     "output_type": "stream",
     "text": [
      "Fast Text Exception for хрон\n"
     ]
    },
    {
     "name": "stderr",
     "output_type": "stream",
     "text": [
      "\n",
      "114it [42:45, 16.17s/it]\u001B[A"
     ]
    },
    {
     "name": "stdout",
     "output_type": "stream",
     "text": [
      "Fast Text Exception for гиподин\n"
     ]
    },
    {
     "name": "stderr",
     "output_type": "stream",
     "text": [
      "\n",
      "115it [43:01, 16.17s/it]\u001B[A"
     ]
    },
    {
     "name": "stdout",
     "output_type": "stream",
     "text": [
      "Fast Text Exception for нерный\n"
     ]
    },
    {
     "name": "stderr",
     "output_type": "stream",
     "text": [
      "\n",
      "116it [43:12, 14.59s/it]\u001B[A"
     ]
    },
    {
     "name": "stdout",
     "output_type": "stream",
     "text": [
      "Fast Text Exception for сист\n"
     ]
    },
    {
     "name": "stderr",
     "output_type": "stream",
     "text": [
      "\n",
      "117it [43:42, 19.31s/it]\u001B[A"
     ]
    },
    {
     "name": "stdout",
     "output_type": "stream",
     "text": [
      "Fast Text Exception for диагоностика\n"
     ]
    },
    {
     "name": "stderr",
     "output_type": "stream",
     "text": [
      "\n",
      "118it [44:05, 20.41s/it]\u001B[A"
     ]
    },
    {
     "name": "stdout",
     "output_type": "stream",
     "text": [
      "Fast Text Exception for гипоксмия\n"
     ]
    },
    {
     "name": "stderr",
     "output_type": "stream",
     "text": [
      "\n",
      "119it [44:26, 20.50s/it]\u001B[A"
     ]
    },
    {
     "name": "stdout",
     "output_type": "stream",
     "text": [
      "Fast Text Exception for ледокоин\n"
     ]
    },
    {
     "name": "stderr",
     "output_type": "stream",
     "text": [
      "\n",
      "120it [44:43, 19.60s/it]\u001B[A"
     ]
    },
    {
     "name": "stdout",
     "output_type": "stream",
     "text": [
      "try блокатор\n"
     ]
    },
    {
     "name": "stderr",
     "output_type": "stream",
     "text": [
      "\n",
      "121it [45:06, 20.38s/it]\u001B[A"
     ]
    },
    {
     "name": "stdout",
     "output_type": "stream",
     "text": [
      "try тахикардия\n"
     ]
    },
    {
     "name": "stderr",
     "output_type": "stream",
     "text": [
      "\n",
      "122it [45:41, 24.87s/it]\u001B[A"
     ]
    },
    {
     "name": "stdout",
     "output_type": "stream",
     "text": [
      "Fast Text Exception for малоинвозивный\n"
     ]
    },
    {
     "name": "stderr",
     "output_type": "stream",
     "text": [
      "\n",
      "123it [45:56, 21.96s/it]\u001B[A"
     ]
    },
    {
     "name": "stdout",
     "output_type": "stream",
     "text": [
      "Fast Text Exception for алация\n"
     ]
    },
    {
     "name": "stderr",
     "output_type": "stream",
     "text": [
      "\n",
      "124it [46:04, 17.83s/it]\u001B[A"
     ]
    },
    {
     "name": "stdout",
     "output_type": "stream",
     "text": [
      "Fast Text Exception for имь\n"
     ]
    },
    {
     "name": "stderr",
     "output_type": "stream",
     "text": [
      "\n",
      "125it [46:27, 19.23s/it]\u001B[A"
     ]
    },
    {
     "name": "stdout",
     "output_type": "stream",
     "text": [
      "Fast Text Exception for паражение\n"
     ]
    },
    {
     "name": "stderr",
     "output_type": "stream",
     "text": [
      "\n",
      "126it [46:44, 18.62s/it]\u001B[A"
     ]
    },
    {
     "name": "stdout",
     "output_type": "stream",
     "text": [
      "Fast Text Exception for тяжолый\n"
     ]
    },
    {
     "name": "stderr",
     "output_type": "stream",
     "text": [
      "\n",
      "127it [47:17, 23.00s/it]\u001B[A"
     ]
    },
    {
     "name": "stdout",
     "output_type": "stream",
     "text": [
      "Fast Text Exception for гастрапластика\n"
     ]
    },
    {
     "name": "stderr",
     "output_type": "stream",
     "text": [
      "\n",
      "129it [47:32, 15.78s/it]\u001B[A"
     ]
    },
    {
     "name": "stdout",
     "output_type": "stream",
     "text": [
      "Fast Text Exception for лешний\n"
     ]
    },
    {
     "name": "stderr",
     "output_type": "stream",
     "text": [
      "\n",
      "131it [47:45, 12.04s/it]\u001B[A"
     ]
    },
    {
     "name": "stdout",
     "output_type": "stream",
     "text": [
      "Fast Text Exception for клапа\n"
     ]
    },
    {
     "name": "stderr",
     "output_type": "stream",
     "text": [
      "\n",
      "132it [47:55, 11.72s/it]\u001B[A"
     ]
    },
    {
     "name": "stdout",
     "output_type": "stream",
     "text": [
      "Fast Text Exception for вент\n"
     ]
    },
    {
     "name": "stderr",
     "output_type": "stream",
     "text": [
      "\n",
      "134it [48:15, 11.03s/it]\u001B[A"
     ]
    },
    {
     "name": "stdout",
     "output_type": "stream",
     "text": [
      "try перикард\n"
     ]
    },
    {
     "name": "stderr",
     "output_type": "stream",
     "text": [
      "\n",
      "135it [48:39, 13.85s/it]\u001B[A"
     ]
    },
    {
     "name": "stdout",
     "output_type": "stream",
     "text": [
      "Fast Text Exception for метральный\n"
     ]
    },
    {
     "name": "stderr",
     "output_type": "stream",
     "text": [
      "\n",
      "136it [49:01, 15.83s/it]\u001B[A"
     ]
    },
    {
     "name": "stdout",
     "output_type": "stream",
     "text": [
      "Fast Text Exception for ултразвук\n"
     ]
    },
    {
     "name": "stderr",
     "output_type": "stream",
     "text": [
      "\n",
      "137it [49:16, 15.60s/it]\u001B[A"
     ]
    },
    {
     "name": "stdout",
     "output_type": "stream",
     "text": [
      "try хирург\n"
     ]
    },
    {
     "name": "stderr",
     "output_type": "stream",
     "text": [
      "\n",
      "138it [49:38, 17.21s/it]\u001B[A"
     ]
    },
    {
     "name": "stdout",
     "output_type": "stream",
     "text": [
      "try кардиолог\n"
     ]
    },
    {
     "name": "stderr",
     "output_type": "stream",
     "text": [
      "\n",
      "139it [49:57, 17.81s/it]\u001B[A"
     ]
    },
    {
     "name": "stdout",
     "output_type": "stream",
     "text": [
      "try килограмм\n"
     ]
    },
    {
     "name": "stderr",
     "output_type": "stream",
     "text": [
      "\n",
      "140it [50:17, 18.29s/it]\u001B[A"
     ]
    },
    {
     "name": "stdout",
     "output_type": "stream",
     "text": [
      "Fast Text Exception for акенезия\n"
     ]
    },
    {
     "name": "stderr",
     "output_type": "stream",
     "text": [
      "\n",
      "141it [50:34, 17.89s/it]\u001B[A"
     ]
    },
    {
     "name": "stdout",
     "output_type": "stream",
     "text": [
      "Fast Text Exception for врхушка\n"
     ]
    },
    {
     "name": "stderr",
     "output_type": "stream",
     "text": [
      "\n",
      "142it [50:58, 19.67s/it]\u001B[A"
     ]
    },
    {
     "name": "stdout",
     "output_type": "stream",
     "text": [
      "try апикальный\n"
     ]
    },
    {
     "name": "stderr",
     "output_type": "stream",
     "text": [
      "\n",
      "143it [51:13, 18.44s/it]\u001B[A"
     ]
    },
    {
     "name": "stdout",
     "output_type": "stream",
     "text": [
      "try сегмент\n"
     ]
    },
    {
     "name": "stderr",
     "output_type": "stream",
     "text": [
      "\n",
      "145it [51:29, 13.58s/it]\u001B[A"
     ]
    },
    {
     "name": "stdout",
     "output_type": "stream",
     "text": [
      "Fast Text Exception for сьенка\n"
     ]
    },
    {
     "name": "stderr",
     "output_type": "stream",
     "text": [
      "\n",
      "146it [51:56, 17.04s/it]\u001B[A"
     ]
    },
    {
     "name": "stdout",
     "output_type": "stream",
     "text": [
      "try циркулярный\n"
     ]
    },
    {
     "name": "stderr",
     "output_type": "stream",
     "text": [
      "\n",
      "147it [52:17, 18.01s/it]\u001B[A"
     ]
    },
    {
     "name": "stdout",
     "output_type": "stream",
     "text": [
      "Fast Text Exception for сридиный\n"
     ]
    },
    {
     "name": "stderr",
     "output_type": "stream",
     "text": [
      "\n",
      "148it [52:40, 19.40s/it]\u001B[A"
     ]
    },
    {
     "name": "stdout",
     "output_type": "stream",
     "text": [
      "Fast Text Exception for калапаный\n"
     ]
    },
    {
     "name": "stderr",
     "output_type": "stream",
     "text": [
      "\n",
      "149it [52:56, 18.24s/it]\u001B[A"
     ]
    },
    {
     "name": "stdout",
     "output_type": "stream",
     "text": [
      "Fast Text Exception for апарат\n"
     ]
    },
    {
     "name": "stderr",
     "output_type": "stream",
     "text": [
      "\n",
      "150it [53:18, 19.54s/it]\u001B[A"
     ]
    },
    {
     "name": "stdout",
     "output_type": "stream",
     "text": [
      "Fast Text Exception for потология\n"
     ]
    },
    {
     "name": "stderr",
     "output_type": "stream",
     "text": [
      "\n",
      "151it [53:39, 19.70s/it]\u001B[A"
     ]
    },
    {
     "name": "stdout",
     "output_type": "stream",
     "text": [
      "try перикард\n"
     ]
    },
    {
     "name": "stderr",
     "output_type": "stream",
     "text": [
      "\n",
      "152it [54:11, 23.36s/it]\u001B[A"
     ]
    },
    {
     "name": "stdout",
     "output_type": "stream",
     "text": [
      "try проксимальный\n"
     ]
    },
    {
     "name": "stderr",
     "output_type": "stream",
     "text": [
      "\n",
      "153it [54:28, 21.68s/it]\u001B[A"
     ]
    },
    {
     "name": "stdout",
     "output_type": "stream",
     "text": [
      "Fast Text Exception for деаметр\n"
     ]
    },
    {
     "name": "stderr",
     "output_type": "stream",
     "text": [
      "\n",
      "154it [54:49, 21.23s/it]\u001B[A"
     ]
    },
    {
     "name": "stdout",
     "output_type": "stream",
     "text": [
      "try коррекция\n"
     ]
    },
    {
     "name": "stderr",
     "output_type": "stream",
     "text": [
      "\n",
      "155it [55:14, 22.45s/it]\u001B[A"
     ]
    },
    {
     "name": "stdout",
     "output_type": "stream",
     "text": [
      "Fast Text Exception for аслажнение\n"
     ]
    },
    {
     "name": "stderr",
     "output_type": "stream",
     "text": [
      "\n",
      "156it [55:32, 21.16s/it]\u001B[A"
     ]
    },
    {
     "name": "stdout",
     "output_type": "stream",
     "text": [
      "try страдать\n"
     ]
    },
    {
     "name": "stderr",
     "output_type": "stream",
     "text": [
      "\n",
      "157it [56:09, 25.97s/it]\u001B[A"
     ]
    },
    {
     "name": "stdout",
     "output_type": "stream",
     "text": [
      "try гипертонический\n"
     ]
    },
    {
     "name": "stderr",
     "output_type": "stream",
     "text": [
      "\n",
      "158it [56:24, 22.75s/it]\u001B[A"
     ]
    },
    {
     "name": "stdout",
     "output_type": "stream",
     "text": [
      "Fast Text Exception for болезн\n"
     ]
    },
    {
     "name": "stderr",
     "output_type": "stream",
     "text": [
      "\n",
      "159it [56:55, 25.05s/it]\u001B[A"
     ]
    },
    {
     "name": "stdout",
     "output_type": "stream",
     "text": [
      "Fast Text Exception for одоптировать\n"
     ]
    },
    {
     "name": "stderr",
     "output_type": "stream",
     "text": [
      "\n",
      "160it [57:14, 23.38s/it]\u001B[A"
     ]
    },
    {
     "name": "stdout",
     "output_type": "stream",
     "text": [
      "try получить\n"
     ]
    },
    {
     "name": "stderr",
     "output_type": "stream",
     "text": [
      "\n",
      "161it [57:50, 27.00s/it]\u001B[A"
     ]
    },
    {
     "name": "stdout",
     "output_type": "stream",
     "text": [
      "try консервативный\n"
     ]
    },
    {
     "name": "stderr",
     "output_type": "stream",
     "text": [
      "\n",
      "162it [58:08, 24.46s/it]\u001B[A"
     ]
    },
    {
     "name": "stdout",
     "output_type": "stream",
     "text": [
      "Fast Text Exception for тичение\n"
     ]
    },
    {
     "name": "stderr",
     "output_type": "stream",
     "text": [
      "\n",
      "163it [58:34, 24.73s/it]\u001B[A"
     ]
    },
    {
     "name": "stdout",
     "output_type": "stream",
     "text": [
      "try требование\n"
     ]
    },
    {
     "name": "stderr",
     "output_type": "stream",
     "text": [
      "\n",
      "164it [58:57, 24.25s/it]\u001B[A"
     ]
    },
    {
     "name": "stdout",
     "output_type": "stream",
     "text": [
      "Fast Text Exception for отбиление\n"
     ]
    },
    {
     "name": "stderr",
     "output_type": "stream",
     "text": [
      "\n",
      "165it [59:27, 25.97s/it]\u001B[A"
     ]
    },
    {
     "name": "stdout",
     "output_type": "stream",
     "text": [
      "try самочувствие\n"
     ]
    },
    {
     "name": "stderr",
     "output_type": "stream",
     "text": [
      "\n",
      "166it [59:49, 24.96s/it]\u001B[A"
     ]
    },
    {
     "name": "stdout",
     "output_type": "stream",
     "text": [
      "try ухудшение\n"
     ]
    },
    {
     "name": "stderr",
     "output_type": "stream",
     "text": [
      "\n",
      "167it [1:00:02, 21.36s/it]\u001B[A"
     ]
    },
    {
     "name": "stdout",
     "output_type": "stream",
     "text": [
      "Fast Text Exception for месро\n"
     ]
    },
    {
     "name": "stderr",
     "output_type": "stream",
     "text": [
      "\n",
      "168it [1:00:21, 20.39s/it]\u001B[A"
     ]
    },
    {
     "name": "stdout",
     "output_type": "stream",
     "text": [
      "try пункция\n"
     ]
    },
    {
     "name": "stderr",
     "output_type": "stream",
     "text": [
      "\n",
      "169it [1:00:46, 22.04s/it]\u001B[A"
     ]
    },
    {
     "name": "stdout",
     "output_type": "stream",
     "text": [
      "try особенность\n"
     ]
    },
    {
     "name": "stderr",
     "output_type": "stream",
     "text": [
      "\n",
      "170it [1:00:57, 18.61s/it]\u001B[A"
     ]
    },
    {
     "name": "stdout",
     "output_type": "stream",
     "text": [
      "Fast Text Exception for шнут\n"
     ]
    },
    {
     "name": "stderr",
     "output_type": "stream",
     "text": [
      "\n",
      "171it [1:01:28, 22.31s/it]\u001B[A"
     ]
    },
    {
     "name": "stdout",
     "output_type": "stream",
     "text": [
      "try шунтирование\n"
     ]
    },
    {
     "name": "stderr",
     "output_type": "stream",
     "text": [
      "\n",
      "172it [1:01:46, 21.14s/it]\u001B[A"
     ]
    },
    {
     "name": "stdout",
     "output_type": "stream",
     "text": [
      "Fast Text Exception for готчина\n"
     ]
    },
    {
     "name": "stderr",
     "output_type": "stream",
     "text": [
      "\n",
      "173it [1:01:54, 17.18s/it]\u001B[A"
     ]
    },
    {
     "name": "stdout",
     "output_type": "stream",
     "text": [
      "Fast Text Exception for эхэ\n"
     ]
    },
    {
     "name": "stderr",
     "output_type": "stream",
     "text": [
      "\n",
      "174it [1:02:20, 19.72s/it]\u001B[A"
     ]
    },
    {
     "name": "stdout",
     "output_type": "stream",
     "text": [
      "Fast Text Exception for каранарный\n"
     ]
    },
    {
     "name": "stderr",
     "output_type": "stream",
     "text": [
      "\n",
      "175it [1:02:38, 19.32s/it]\u001B[A"
     ]
    },
    {
     "name": "stdout",
     "output_type": "stream",
     "text": [
      "Fast Text Exception for ортерия\n"
     ]
    },
    {
     "name": "stderr",
     "output_type": "stream",
     "text": [
      "\n",
      "176it [1:02:59, 19.67s/it]\u001B[A"
     ]
    },
    {
     "name": "stdout",
     "output_type": "stream",
     "text": [
      "Fast Text Exception for сначимый\n"
     ]
    },
    {
     "name": "stderr",
     "output_type": "stream",
     "text": [
      "\n",
      "177it [1:03:14, 18.42s/it]\u001B[A"
     ]
    },
    {
     "name": "stdout",
     "output_type": "stream",
     "text": [
      "Fast Text Exception for стинос\n"
     ]
    },
    {
     "name": "stderr",
     "output_type": "stream",
     "text": [
      "\n",
      "178it [1:03:55, 25.03s/it]\u001B[A"
     ]
    },
    {
     "name": "stdout",
     "output_type": "stream",
     "text": [
      "try госпитализировать\n"
     ]
    },
    {
     "name": "stderr",
     "output_type": "stream",
     "text": [
      "\n",
      "179it [1:04:06, 20.73s/it]\u001B[A"
     ]
    },
    {
     "name": "stdout",
     "output_type": "stream",
     "text": [
      "Fast Text Exception for имья\n"
     ]
    },
    {
     "name": "stderr",
     "output_type": "stream",
     "text": [
      "\n",
      "180it [1:04:24, 20.01s/it]\u001B[A"
     ]
    },
    {
     "name": "stdout",
     "output_type": "stream",
     "text": [
      "Fast Text Exception for олмазов\n"
     ]
    },
    {
     "name": "stderr",
     "output_type": "stream",
     "text": [
      "\n",
      "181it [1:04:55, 23.30s/it]\u001B[A"
     ]
    },
    {
     "name": "stdout",
     "output_type": "stream",
     "text": [
      "Fast Text Exception for прдшствовать\n"
     ]
    },
    {
     "name": "stderr",
     "output_type": "stream",
     "text": [
      "\n",
      "182it [1:05:22, 24.59s/it]\u001B[A"
     ]
    },
    {
     "name": "stdout",
     "output_type": "stream",
     "text": [
      "try стенокардия\n"
     ]
    },
    {
     "name": "stderr",
     "output_type": "stream",
     "text": [
      "\n",
      "183it [1:05:45, 24.00s/it]\u001B[A"
     ]
    },
    {
     "name": "stdout",
     "output_type": "stream",
     "text": [
      "Fast Text Exception for пиринести\n"
     ]
    },
    {
     "name": "stderr",
     "output_type": "stream",
     "text": [
      "\n",
      "184it [1:06:00, 21.34s/it]\u001B[A"
     ]
    },
    {
     "name": "stdout",
     "output_type": "stream",
     "text": [
      "try инфаркт\n"
     ]
    },
    {
     "name": "stderr",
     "output_type": "stream",
     "text": [
      "\n",
      "185it [1:06:20, 21.02s/it]\u001B[A"
     ]
    },
    {
     "name": "stdout",
     "output_type": "stream",
     "text": [
      "Fast Text Exception for моикарда\n"
     ]
    },
    {
     "name": "stderr",
     "output_type": "stream",
     "text": [
      "\n",
      "186it [1:06:48, 23.10s/it]\u001B[A"
     ]
    },
    {
     "name": "stdout",
     "output_type": "stream",
     "text": [
      "Fast Text Exception for лакализация\n"
     ]
    },
    {
     "name": "stderr",
     "output_type": "stream",
     "text": [
      "\n",
      "187it [1:07:06, 21.56s/it]\u001B[A"
     ]
    },
    {
     "name": "stdout",
     "output_type": "stream",
     "text": [
      "try справка\n"
     ]
    },
    {
     "name": "stderr",
     "output_type": "stream",
     "text": [
      "\n",
      "188it [1:07:32, 22.65s/it]\u001B[A"
     ]
    },
    {
     "name": "stdout",
     "output_type": "stream",
     "text": [
      "try дальнейший\n"
     ]
    },
    {
     "name": "stderr",
     "output_type": "stream",
     "text": [
      "\n",
      "189it [1:08:37, 35.37s/it]\u001B[A"
     ]
    },
    {
     "name": "stdout",
     "output_type": "stream",
     "text": [
      "Fast Text Exception for хроническаянедостаточность\n"
     ]
    },
    {
     "name": "stderr",
     "output_type": "stream",
     "text": [
      "\n",
      "190it [1:09:13, 35.82s/it]\u001B[A"
     ]
    },
    {
     "name": "stdout",
     "output_type": "stream",
     "text": [
      "Fast Text Exception for инфарктмиокарда\n"
     ]
    },
    {
     "name": "stderr",
     "output_type": "stream",
     "text": [
      "\n",
      "191it [1:09:30, 30.06s/it]\u001B[A"
     ]
    },
    {
     "name": "stdout",
     "output_type": "stream",
     "text": [
      "Fast Text Exception for отузла\n"
     ]
    },
    {
     "name": "stderr",
     "output_type": "stream",
     "text": [
      "\n",
      "192it [1:10:08, 32.44s/it]\u001B[A"
     ]
    },
    {
     "name": "stdout",
     "output_type": "stream",
     "text": [
      "try нарушение\n"
     ]
    },
    {
     "name": "stderr",
     "output_type": "stream",
     "text": [
      "\n",
      "193it [1:10:26, 27.98s/it]\u001B[A"
     ]
    },
    {
     "name": "stdout",
     "output_type": "stream",
     "text": [
      "Fast Text Exception for вминуту\n"
     ]
    },
    {
     "name": "stderr",
     "output_type": "stream",
     "text": [
      "\n",
      "194it [1:11:11, 33.27s/it]\u001B[A"
     ]
    },
    {
     "name": "stdout",
     "output_type": "stream",
     "text": [
      "Fast Text Exception for эндокриннойсистемы\n"
     ]
    },
    {
     "name": "stderr",
     "output_type": "stream",
     "text": [
      "\n",
      "195it [1:11:45, 33.27s/it]\u001B[A"
     ]
    },
    {
     "name": "stdout",
     "output_type": "stream",
     "text": [
      "try сердечный\n"
     ]
    },
    {
     "name": "stderr",
     "output_type": "stream",
     "text": [
      "\n",
      "196it [1:12:27, 36.06s/it]\u001B[A"
     ]
    },
    {
     "name": "stdout",
     "output_type": "stream",
     "text": [
      "try тахикардия\n"
     ]
    },
    {
     "name": "stderr",
     "output_type": "stream",
     "text": [
      "\n",
      "197it [1:13:05, 36.52s/it]\u001B[A"
     ]
    },
    {
     "name": "stdout",
     "output_type": "stream",
     "text": [
      "Fast Text Exception for основныефакторы\n"
     ]
    },
    {
     "name": "stderr",
     "output_type": "stream",
     "text": [
      "\n",
      "198it [1:13:42, 36.84s/it]\u001B[A"
     ]
    },
    {
     "name": "stdout",
     "output_type": "stream",
     "text": [
      "try остановка\n"
     ]
    },
    {
     "name": "stderr",
     "output_type": "stream",
     "text": [
      "\n",
      "199it [1:14:35, 41.50s/it]\u001B[A"
     ]
    },
    {
     "name": "stdout",
     "output_type": "stream",
     "text": [
      "try фибрилляция\n"
     ]
    },
    {
     "name": "stderr",
     "output_type": "stream",
     "text": [
      "\n",
      "200it [1:14:58, 22.49s/it]\u001B[A\n",
      "0it [1:14:58, ?it/s]"
     ]
    },
    {
     "name": "stdout",
     "output_type": "stream",
     "text": [
      "Fast Text Exception for счастотой\n",
      "Error precision\n",
      "original_word_list --- corrected_word --- answer_word_list\n",
      "эктренном --- экстренно --- ['экстренном']\n",
      "синусовго --- синусный --- ['синусового']\n",
      "даным --- аным --- ['данным', 'данный', 'данные']\n",
      "шнутография --- кистография --- ['шунтография']\n",
      "сникопальных --- синкопальный --- ['синкопальных']\n",
      "посление --- поселение --- ['поселение', 'последний']\n",
      "ходавый --- содовый --- ['ходовый']\n",
      "анмнезе --- намять --- ['анамнезе', 'анамнез']\n",
      "сентированный --- синтерированный --- ['стентированный']\n",
      "самоч --- самом --- ['самочувствие']\n",
      "перевдена --- переедена --- ['переведена']\n",
      "стентированеим --- тестирование --- ['стентированием', 'стентирование']\n",
      "кардиол --- кардио- --- ['кардиолог,кардиологический']\n",
      "переведна --- перевести --- ['переведена']\n",
      "догосптальном --- догоспитальный --- ['догоспитальном']\n",
      "миним --- чиним --- ['минимум', 'минимальный']\n",
      "субфебриллитет --- субфебрилитет --- ['субфебрилитет']\n",
      "загрудиные --- загрудинный --- ['загрудинные', 'загрудинный']\n",
      "перферия --- периферия --- ['периферия']\n",
      "течени --- темени --- ['течение']\n",
      "оклюзия --- окклюзия --- ['окклюзия']\n",
      "жнщина --- женщина --- ['женщина']\n",
      "пциент --- пациент --- ['пациент']\n",
      "зарегистирована --- зарегистрировать --- ['зарегистрирована']\n",
      "сегмета --- сегмент --- ['сегмента']\n",
      "клекте --- клёст --- ['клетке']\n",
      "эпид --- эпик --- ['эпидемия', 'эпидемиологический', 'эпидуральный']\n",
      "интелектуально --- интеллектуально --- ['интеллектуально']\n",
      "нижн --- нижи --- ['нижний']\n",
      "прводилась --- пропилась --- ['проводилась', 'проводить']\n",
      "неуст --- негуст --- ['неустановленный']\n",
      "госптализирован --- госпитализировать --- ['госпитализирован']\n",
      "вперые --- впереть --- ['впервые']\n",
      "послеоперационом --- послеоперационное --- ['послеоперационном']\n",
      "госпитализирова --- госпитализировать --- ['госпитализирован']\n",
      "ухудщение --- ухудшение --- ['ухудшение']\n",
      "рентг --- рента --- ['рентген']\n",
      "дальнешем --- вольнейшем --- ['дальнейшем']\n",
      "троботическая --- тромботический --- ['тромботическая']\n",
      "многосоудистое --- сосудистое --- ['многососудистое', 'многососудистый']\n",
      "миокрада --- миокард --- ['миокарда', 'миокард']\n",
      "сопрвождались --- продались --- ['сопровождались']\n",
      "дискмфорт --- дискомфорт --- ['дискомфорт']\n",
      "потлтвостью --- потливость --- ['потливостью']\n",
      "левогожелудочка --- левожелудочковый --- ['левого желудочка', 'левый желудочек']\n",
      "рание --- ранит --- ['ранее', 'ранние']\n",
      "виед --- вид --- ['виде', 'вид']\n",
      "ангинозныеболи --- ангинозное --- ['ангинозные боли', 'ангиозный боль']\n",
      "догоситальном --- догоспитальный --- ['догоспитальном']\n",
      "ввполнен --- вполне --- ['выполнен']\n",
      "чаосв --- час --- ['часов']\n",
      "октазалась --- казаться --- ['отказалась']\n",
      "линика --- линира --- ['клиника']\n",
      "ммента --- дента --- ['момента']\n",
      "проведеной --- провести --- ['проведенной']\n",
      "выполненяи --- выполнение --- ['выполнения', 'выполнение']\n",
      "леченяи --- лечения --- ['лечения', 'лечение']\n",
      "обтилась --- обвилась --- ['обратилась']\n",
      "повтороно --- повторно --- ['повторно']\n",
      "зарегистриованы --- зарегистрировать --- ['зарегистрированы']\n",
      "отицает --- тикает --- ['отрицает', 'отрицать']\n",
      "дальнейщем --- вольнейшем --- ['дальнейшем']\n",
      "болисохраняются --- предохраняются --- ['боли сохраняются']\n",
      "частичынм --- частично --- ['частичным']\n",
      "атерокслеротичсекая --- атеросклеротическая --- ['атеросклеротическая']\n",
      "деньс --- денься --- ['день', 'день с']\n",
      "назначаля --- назначать --- ['назначался']\n",
      "проведеняи --- проведения --- ['проведения']\n",
      "беспакоют --- беспокоит --- ['беспокоят']\n",
      "гипертензи --- гипертензия --- ['гипертензия']\n",
      "воленйбол --- волейбол --- ['волейбол']\n",
      "болезн --- больной --- ['болезнь']\n",
      "стенокардаа --- стенокардия --- ['стенокардия']\n",
      "продолжалсь --- продолжать --- ['продолжалась']\n",
      "поворное --- повторное --- ['повторное']\n",
      "ощуащет --- обтаять --- ['ощущает']\n",
      "ангигнозного --- ангинозное --- ['ангинозного', 'ангинозный']\n",
      "диагностичекой --- диагностический --- ['диагностической', 'диагностический']\n",
      "поддерживающией --- поддерживать --- ['поддерживающий']\n",
      "межлопаточнй --- межлопаточный --- ['межлопаточный']\n",
      "бедреной --- бедренной --- ['бедренной', 'бедренный']\n",
      "гшрядки --- городки --- ['грядки']\n",
      "бассеине --- бассини --- ['бассейне', 'бассейн']\n",
      "возлуха --- воздух --- ['воздуха', 'воздух']\n",
      "сенября --- сентябрь --- ['сентября', 'сентябрь']\n",
      "постояная --- постоянный --- ['постоянная', 'постоянный']\n",
      "рекмоендовнао --- рекомендовать --- ['рекомендовано']\n",
      "поврждения --- повреждение --- ['повреждения']\n",
      "дискофморта --- дискомфорт --- ['дискомфорт']\n",
      "импалнтирован --- имплантировать --- ['имплантирован', 'имплантировать']\n",
      "неочетливая --- неотчётливый --- ['неотчетливая', 'неотчетливый']\n",
      "обесвеченный --- обеспеченный --- ['обесцвеченный', 'обеспеченный']\n",
      "серце --- берцо --- ['сердце']\n",
      "блезнь --- болезнь --- ['болезнь']\n",
      "лергия --- еркия --- ['аллергия']\n",
      "ука --- вук --- ['рука']\n",
      "изжга --- изжога --- ['изжога']\n",
      "жение --- женил --- ['жжение']\n",
      "кашел --- кишел --- ['кашель']\n",
      "рствор --- створ --- ['раствор']\n",
      "пациен --- пациент --- ['пациент']\n",
      "пожлой --- пожилой --- ['пожилой']\n",
      "лекарсво --- лекарство --- ['лекарство']\n",
      "нпреносимость --- непереносимость --- ['непереносимость']\n",
      "амупула --- ампула --- ['ампула']\n",
      "гел --- бел --- ['гель']\n",
      "конценрат --- концентрат --- ['концентрат']\n",
      "рилиф --- рилиф --- ['релиф']\n",
      "чссс --- чсср --- ['ЧСС', 'чсс']\n",
      "экгъ --- экг --- ['ЭКГ', 'экг']\n",
      "фибриляция --- фибрилляция --- ['фибрилляция']\n",
      "желдочек --- желудочек --- ['желудочек']\n",
      "хрон --- хурон --- ['хронический']\n",
      "гиподин --- гинодиана --- ['гиподинамический']\n",
      "нерный --- нервный --- ['нервный']\n",
      "сист --- цист --- ['система']\n",
      "диагоностика --- диагностика --- ['диагностика']\n",
      "гипоксмия --- гипоксия --- ['гипоксемия']\n",
      "ледокоин --- ледокол --- ['лидокаин']\n",
      "блокато --- блокатор --- ['блокатор']\n",
      "тахкардия --- тахикардия --- ['тахикардия']\n",
      "малоинвозивный --- малоабразивный --- ['малоинвазивный']\n",
      "алация --- алания --- ['аблация', 'абляция']\n",
      "имь --- димь --- ['ИМ', 'им']\n",
      "паражение --- поражение --- ['поражение']\n",
      "тяжолый --- тяжёлый --- ['тяжелый']\n",
      "гастрапластика --- гастропластика --- ['гастропластика']\n",
      "вс --- вс --- ['вес']\n",
      "лешний --- летний --- ['лишний']\n",
      "орта --- орта --- ['аорта']\n",
      "клапа --- клава --- ['клапан']\n",
      "вент --- вендт --- ['вена']\n",
      "палый --- палый --- ['полый']\n",
      "пирикард --- перикард --- ['перикард']\n",
      "метральный --- метальный --- ['митральный']\n",
      "ултразвук --- ультразвук --- ['ультразвук']\n",
      "херург --- хирург --- ['хирург']\n",
      "кордиолог --- кардиолог --- ['кардиолог']\n",
      "килограм --- килограмм --- ['килограмм']\n",
      "акенезия --- агенезия --- ['акинезия']\n",
      "врхушка --- верхушка --- ['верхушка']\n",
      "апекальный --- апикальный --- ['апикальный']\n",
      "сгмент --- сегмент --- ['сегмент']\n",
      "вес --- вес --- ['весь']\n",
      "сьенка --- сменка --- ['стенка']\n",
      "церкулярный --- циркулярный --- ['циркулярный']\n",
      "сридиный --- срединный --- ['срединный']\n",
      "калапаный --- клёпаный --- ['клапанный']\n",
      "апарат --- аппарат --- ['аппарат']\n",
      "потология --- патология --- ['патология']\n",
      "перекард --- перикард --- ['перикард']\n",
      "праксимальный --- проксимальный --- ['проксимальный']\n",
      "деаметр --- диаметр --- ['диаметр']\n",
      "корекция --- коррекция --- ['коррекция']\n",
      "аслажнение --- услаждение --- ['осложнение']\n",
      "стрдать --- страдать --- ['страдать']\n",
      "гепертонический --- гипертонический --- ['гипертонический']\n",
      "болезн --- больной --- ['болезнь']\n",
      "одоптировать --- адоптировать --- ['адаптировать']\n",
      "получять --- получить --- ['получать']\n",
      "кансервативный --- консервативный --- ['консервативный']\n",
      "тичение --- точение --- ['течение']\n",
      "пребование --- требование --- ['пребывание']\n",
      "отбиление --- отопление --- ['отделение']\n",
      "самачувствие --- самочувствие --- ['самочувствие']\n",
      "уходшение --- ухудшение --- ['ухудшение']\n",
      "месро --- метро --- ['место']\n",
      "пункцыя --- пункция --- ['пункция']\n",
      "особеность --- особенность --- ['особенность']\n",
      "шнут --- мнут --- ['шунт']\n",
      "шнутирование --- шунтирование --- ['шунтирование']\n",
      "готчина --- гатчина --- ['гатчина']\n",
      "эхэ --- эх --- ['эхо']\n",
      "каранарный --- коронарный --- ['коронарный']\n",
      "ортерия --- артерия --- ['артерия']\n",
      "сначимый --- значимый --- ['значимый']\n",
      "стинос --- тинос --- ['стеноз']\n",
      "гаспиализировать --- госпитализировать --- ['госпитализировать']\n",
      "имья --- иметь --- ['имя']\n",
      "олмазов --- алмазов --- ['алмазов']\n",
      "прдшствовать --- прошествовать --- ['предшествовать']\n",
      "стинакардия --- стенокардия --- ['стенокардия']\n",
      "пиринести --- принести --- ['перенести']\n",
      "ифаркт --- инфаркт --- ['инфаркт']\n",
      "моикарда --- миокард --- ['миокарда']\n",
      "лакализация --- локализация --- ['локализация']\n",
      "спразка --- справка --- ['справка']\n",
      "дальнейшый --- дальнейший --- ['дальнейший']\n",
      "хроническаянедостаточность --- самодостаточность --- ['хроническая недостаточность', 'хронический недостаточность']\n",
      "инфарктмиокарда --- инфарктик --- ['инфаркт миокарда', 'инфаркт миокард']\n",
      "отузла --- стусло --- ['от узла', 'от узел']\n",
      "нарушениеработы --- нарушение --- ['нарушение работы', 'нарушение работа']\n",
      "вминуту --- минута --- ['в минуту', 'в минута', 'минута']\n",
      "эндокриннойсистемы --- эндокринное --- ['эндокринная система', 'эндокринный система']\n",
      "сердечныйритм --- сердечный --- ['сердечный ритм']\n",
      "узловаятахикардия --- тахикардия --- ['узловая тахикардия', 'узловой тахикардия']\n",
      "основныефакторы --- соредактор --- ['основной факто', 'основные факторы']\n",
      "остановкасердца --- остановка --- ['остановка сердца', 'остановка сердце']\n",
      "фибрилляцияжелудочков --- фибрилляция --- ['фибрилляция желудочков', 'фибрилляция желудочек']\n",
      "счастотой --- частый --- ['с частотой', 'с частотаб частота']\n",
      "Right corrected words count - 83 of 200 total\n",
      "/home/Dmitry.Pogrebnoy/Desktop/MedSpellChecker/spellchecker_prototype_v2\n"
     ]
    },
    {
     "name": "stderr",
     "output_type": "stream",
     "text": [
      "\n",
      "0it [00:00, ?it/s]"
     ]
    },
    {
     "name": "stdout",
     "output_type": "stream",
     "text": [
      "['выборгский', 'отказываться', 'нитропрепарат', 'предсердие', 'диссоциация', 'кольцевой', 'отрыв', 'вовлечение', 'мелкопузырчатый', 'госпитализировать', 'фтизиатр', 'проксимальный', 'приступ', 'рецидивировать', 'беспокоить', 'значимый', 'одномоментный', 'течение', 'постепенной', 'трафика', 'левый', 'область', 'окклюзия', 'каждый', 'аторвастатина', 'проникающий', 'слух', 'отрицательный', 'заднее', 'диафрагмальный', 'физическая', 'реваскуляризация', 'очевидный', 'умеренный', 'самостоятельный', 'визуализация', 'неселективный', 'септопластика', 'присутствие', 'соустье', 'кировский', 'ноющая', 'постоять', 'стенка', 'укоротить', 'назначить', 'госпитализация', 'возобновление', 'одеть', 'охранник', 'дексона', 'систолический', 'верхушечноперегородочный', 'расширение', 'равнозначный', 'предприятие', 'ночь', 'вредность', 'транспортировка', 'март', 'гипотиазид', 'скрытый', 'расстройство', 'ломота', 'подготовить', 'помощь', 'большая', 'эквивалент', 'гемостатический', 'купировавшийся', 'ревизия', 'пульсирующий', 'регистрироваться', 'лимитирование', 'ометать', 'стихание', 'вазопрессорный', 'тредмил', 'тест', 'гипопноэ', 'наш', 'ускоренный', 'эфффект', 'тромбофлебит', 'ишемический', 'купирование', 'патологии', 'длительный', 'заключение', 'пунктировать', 'ферритина', 'гастропротективный', 'пароксизм', 'выполнять', 'показатель', 'посттромбофлебитический', 'анальгин', 'корректировать', 'секунда', 'креатинкиназа', 'утолщение', 'терапия', 'глибомёт', 'лобэктомия', 'новгородский', 'владеть', 'тенденция', 'мерить', 'поражений', 'перекосить', 'тропонин', 'сдвиг', 'отправить', 'сжимающее', 'давящий', 'нифедипин', 'мексикор', 'сад', 'мезентериальный', 'дальнейшей', 'реабилитация', 'переносить', 'дискомфорт', 'проявление', 'батарея', 'фермент', 'затёк', 'непроизвольный', 'слепок', 'тенорик', 'сегмента', 'дрожь', 'появляется', 'гепарина', 'предсердие', 'диурез', 'фиксировать', 'временной', 'микропрепарат', 'аторвастатин', 'гипотензия', 'грудь', 'инфаркт', 'мононуклеары', 'постоянно', 'погрузка', 'фармакологический', 'нестабильный', 'мертенил', 'тахикардий', 'снимать', 'распространиться', 'контрпульсатор', 'соталол', 'складываться', 'кардиомегалия', 'смесь', 'мкг', 'похожий', 'аутовенозный', 'гепатина', 'рецидивировать', 'асцит', 'стенокардия', 'тысяча', 'промежуточный', 'возможный', 'водка', 'лимфодиссекция', 'принимать', 'стентирование', 'незначимый', 'настоящее', 'задненижний', 'частичный', 'появиться', 'тройной', 'показатель', 'эквивалент', 'утолстить', 'поведение', 'аускультативный', 'отказаться', 'рассмотреть', 'сывороточный', 'формирующийся', 'жир', 'карведилол', 'тонкий', 'единица', 'срабатывать', 'компрометация', 'россия', 'массив', 'нижнебоковой', 'отечь', 'трепетание', 'конкурировать', 'событие', 'незначительный']\n"
     ]
    },
    {
     "name": "stderr",
     "output_type": "stream",
     "text": [
      "\n",
      "0it [00:00, ?it/s]\u001B[A\n",
      "3it [00:33, 11.10s/it]\u001B[A"
     ]
    },
    {
     "name": "stdout",
     "output_type": "stream",
     "text": [
      "Fast Text Exception for нитропрепарат\n"
     ]
    },
    {
     "name": "stderr",
     "output_type": "stream",
     "text": [
      "\n",
      "19it [01:00,  2.82s/it]\u001B[A"
     ]
    },
    {
     "name": "stdout",
     "output_type": "stream",
     "text": [
      "Fast Text Exception for постепенной\n"
     ]
    },
    {
     "name": "stderr",
     "output_type": "stream",
     "text": [
      "\n",
      "20it [01:19,  3.93s/it]\u001B[A"
     ]
    },
    {
     "name": "stdout",
     "output_type": "stream",
     "text": [
      "Fast Text Exception for трафика\n"
     ]
    },
    {
     "name": "stderr",
     "output_type": "stream",
     "text": [
      "\n",
      "25it [01:51,  4.83s/it]\u001B[A"
     ]
    },
    {
     "name": "stdout",
     "output_type": "stream",
     "text": [
      "try аторвастатин\n"
     ]
    },
    {
     "name": "stderr",
     "output_type": "stream",
     "text": [
      "\n",
      "38it [02:25,  3.60s/it]\u001B[A"
     ]
    },
    {
     "name": "stdout",
     "output_type": "stream",
     "text": [
      "Fast Text Exception for септопластика\n"
     ]
    },
    {
     "name": "stderr",
     "output_type": "stream",
     "text": [
      "\n",
      "53it [03:27,  3.84s/it]\u001B[A"
     ]
    },
    {
     "name": "stdout",
     "output_type": "stream",
     "text": [
      "Fast Text Exception for верхушечноперегородочный\n"
     ]
    },
    {
     "name": "stderr",
     "output_type": "stream",
     "text": [
      "\n",
      "70it [04:03,  3.09s/it]\u001B[A"
     ]
    },
    {
     "name": "stdout",
     "output_type": "stream",
     "text": [
      "Fast Text Exception for купировавшийся\n"
     ]
    },
    {
     "name": "stderr",
     "output_type": "stream",
     "text": [
      "\n",
      "75it [04:21,  3.17s/it]\u001B[A"
     ]
    },
    {
     "name": "stdout",
     "output_type": "stream",
     "text": [
      "Fast Text Exception for ометать\n"
     ]
    },
    {
     "name": "stderr",
     "output_type": "stream",
     "text": [
      "\n",
      "77it [04:57,  4.35s/it]\u001B[A"
     ]
    },
    {
     "name": "stdout",
     "output_type": "stream",
     "text": [
      "Fast Text Exception for вазопрессорный\n"
     ]
    },
    {
     "name": "stderr",
     "output_type": "stream",
     "text": [
      "\n",
      "78it [05:15,  5.12s/it]\u001B[A"
     ]
    },
    {
     "name": "stdout",
     "output_type": "stream",
     "text": [
      "Fast Text Exception for тредмил\n"
     ]
    },
    {
     "name": "stderr",
     "output_type": "stream",
     "text": [
      "\n",
      "80it [05:36,  5.83s/it]\u001B[A"
     ]
    },
    {
     "name": "stdout",
     "output_type": "stream",
     "text": [
      "Fast Text Exception for гипопноэ\n"
     ]
    },
    {
     "name": "stderr",
     "output_type": "stream",
     "text": [
      "\n",
      "83it [05:53,  5.80s/it]\u001B[A"
     ]
    },
    {
     "name": "stdout",
     "output_type": "stream",
     "text": [
      "try эффект\n"
     ]
    },
    {
     "name": "stderr",
     "output_type": "stream",
     "text": [
      "\n",
      "86it [06:19,  6.52s/it]\u001B[A"
     ]
    },
    {
     "name": "stdout",
     "output_type": "stream",
     "text": [
      "Fast Text Exception for купирование\n"
     ]
    },
    {
     "name": "stderr",
     "output_type": "stream",
     "text": [
      "\n",
      "87it [06:40,  8.06s/it]\u001B[A"
     ]
    },
    {
     "name": "stdout",
     "output_type": "stream",
     "text": [
      "try патология\n"
     ]
    },
    {
     "name": "stderr",
     "output_type": "stream",
     "text": [
      "\n",
      "92it [07:23,  8.25s/it]\u001B[A"
     ]
    },
    {
     "name": "stdout",
     "output_type": "stream",
     "text": [
      "Fast Text Exception for гастропротективный\n"
     ]
    },
    {
     "name": "stderr",
     "output_type": "stream",
     "text": [
      "\n",
      "103it [07:42,  4.53s/it]\u001B[A"
     ]
    },
    {
     "name": "stdout",
     "output_type": "stream",
     "text": [
      "Fast Text Exception for глибомёт\n"
     ]
    },
    {
     "name": "stderr",
     "output_type": "stream",
     "text": [
      "\n",
      "111it [08:02,  3.76s/it]\u001B[A"
     ]
    },
    {
     "name": "stdout",
     "output_type": "stream",
     "text": [
      "Fast Text Exception for тропонин\n"
     ]
    },
    {
     "name": "stderr",
     "output_type": "stream",
     "text": [
      "\n",
      "114it [08:23,  4.34s/it]\u001B[A"
     ]
    },
    {
     "name": "stdout",
     "output_type": "stream",
     "text": [
      "Fast Text Exception for сжимающее\n"
     ]
    },
    {
     "name": "stderr",
     "output_type": "stream",
     "text": [
      "\n",
      "120it [08:47,  4.23s/it]\u001B[A"
     ]
    },
    {
     "name": "stdout",
     "output_type": "stream",
     "text": [
      "try дальнейший\n"
     ]
    },
    {
     "name": "stderr",
     "output_type": "stream",
     "text": [
      "\n",
      "130it [09:04,  3.13s/it]\u001B[A"
     ]
    },
    {
     "name": "stdout",
     "output_type": "stream",
     "text": [
      "Fast Text Exception for тенорик\n"
     ]
    },
    {
     "name": "stderr",
     "output_type": "stream",
     "text": [
      "\n",
      "133it [09:29,  3.92s/it]\u001B[A"
     ]
    },
    {
     "name": "stdout",
     "output_type": "stream",
     "text": [
      "try появляться\n"
     ]
    },
    {
     "name": "stderr",
     "output_type": "stream",
     "text": [
      "\n",
      "134it [09:49,  5.04s/it]\u001B[A"
     ]
    },
    {
     "name": "stdout",
     "output_type": "stream",
     "text": [
      "try гепарин\n"
     ]
    },
    {
     "name": "stderr",
     "output_type": "stream",
     "text": [
      "\n",
      "139it [10:21,  5.52s/it]\u001B[A"
     ]
    },
    {
     "name": "stdout",
     "output_type": "stream",
     "text": [
      "Fast Text Exception for микропрепарат\n"
     ]
    },
    {
     "name": "stderr",
     "output_type": "stream",
     "text": [
      "\n",
      "144it [10:51,  5.64s/it]\u001B[A"
     ]
    },
    {
     "name": "stdout",
     "output_type": "stream",
     "text": [
      "try мононуклеар\n"
     ]
    },
    {
     "name": "stderr",
     "output_type": "stream",
     "text": [
      "\n",
      "149it [11:12,  5.17s/it]\u001B[A"
     ]
    },
    {
     "name": "stdout",
     "output_type": "stream",
     "text": [
      "Fast Text Exception for мертенил\n"
     ]
    },
    {
     "name": "stderr",
     "output_type": "stream",
     "text": [
      "\n",
      "150it [11:36,  6.77s/it]\u001B[A"
     ]
    },
    {
     "name": "stdout",
     "output_type": "stream",
     "text": [
      "Fast Text Exception for тахикардий\n"
     ]
    },
    {
     "name": "stderr",
     "output_type": "stream",
     "text": [
      "\n",
      "153it [12:09,  7.90s/it]\u001B[A"
     ]
    },
    {
     "name": "stdout",
     "output_type": "stream",
     "text": [
      "Fast Text Exception for контрпульсатор\n"
     ]
    },
    {
     "name": "stderr",
     "output_type": "stream",
     "text": [
      "\n",
      "154it [12:27,  8.95s/it]\u001B[A"
     ]
    },
    {
     "name": "stdout",
     "output_type": "stream",
     "text": [
      "Fast Text Exception for соталол\n"
     ]
    },
    {
     "name": "stderr",
     "output_type": "stream",
     "text": [
      "\n",
      "160it [12:56,  6.94s/it]\u001B[A"
     ]
    },
    {
     "name": "stdout",
     "output_type": "stream",
     "text": [
      "Fast Text Exception for аутовенозный\n"
     ]
    },
    {
     "name": "stderr",
     "output_type": "stream",
     "text": [
      "\n",
      "161it [13:15,  8.23s/it]\u001B[A"
     ]
    },
    {
     "name": "stdout",
     "output_type": "stream",
     "text": [
      "Fast Text Exception for гепатина\n"
     ]
    },
    {
     "name": "stderr",
     "output_type": "stream",
     "text": [
      "\n",
      "169it [13:49,  6.03s/it]\u001B[A"
     ]
    },
    {
     "name": "stdout",
     "output_type": "stream",
     "text": [
      "Fast Text Exception for лимфодиссекция\n"
     ]
    },
    {
     "name": "stderr",
     "output_type": "stream",
     "text": [
      "\n",
      "171it [14:21,  7.65s/it]\u001B[A"
     ]
    },
    {
     "name": "stdout",
     "output_type": "stream",
     "text": [
      "Fast Text Exception for стентирование\n"
     ]
    },
    {
     "name": "stderr",
     "output_type": "stream",
     "text": [
      "\n",
      "174it [14:48,  8.00s/it]\u001B[A"
     ]
    },
    {
     "name": "stdout",
     "output_type": "stream",
     "text": [
      "Fast Text Exception for задненижний\n"
     ]
    },
    {
     "name": "stderr",
     "output_type": "stream",
     "text": [
      "\n",
      "200it [15:19,  4.60s/it]\u001B[A\n",
      "0it [15:19, ?it/s]"
     ]
    },
    {
     "name": "stdout",
     "output_type": "stream",
     "text": [
      "Fast Text Exception for формирующийся\n",
      "Lexical precision\n",
      "original_word_list --- corrected_word\n",
      "выборгский --- выборгский\n",
      "отказываться --- отказываться\n",
      "нитропрепарат --- биопрепарат\n",
      "предсердие --- предсердие\n",
      "диссоциация --- диссоциация\n",
      "кольцевой --- кольцевой\n",
      "отрыв --- отрыв\n",
      "вовлечение --- вовлечение\n",
      "мелкопузырчатый --- мелкопузырчатый\n",
      "госпитализировать --- госпитализировать\n",
      "фтизиатр --- фтизиатр\n",
      "проксимальный --- проксимальный\n",
      "приступ --- приступ\n",
      "рецидивировать --- рецидивировать\n",
      "беспокоить --- беспокоить\n",
      "значимый --- значимый\n",
      "одномоментный --- одномоментный\n",
      "течение --- течение\n",
      "постепенной --- постепенный\n",
      "трафика --- трофика\n",
      "левый --- левый\n",
      "область --- область\n",
      "окклюзия --- окклюзия\n",
      "каждый --- каждый\n",
      "аторвастатина --- аторвастатин\n",
      "проникающий --- проникающий\n",
      "слух --- слух\n",
      "отрицательный --- отрицательный\n",
      "заднее --- заднее\n",
      "диафрагмальный --- диафрагмальный\n",
      "физическая --- физическая\n",
      "реваскуляризация --- реваскуляризация\n",
      "очевидный --- очевидный\n",
      "умеренный --- умеренный\n",
      "самостоятельный --- самостоятельный\n",
      "визуализация --- визуализация\n",
      "неселективный --- неселективный\n",
      "септопластика --- тенопластика\n",
      "присутствие --- присутствие\n",
      "соустье --- соустье\n",
      "кировский --- кировский\n",
      "ноющая --- ноющая\n",
      "постоять --- постоять\n",
      "стенка --- стенка\n",
      "укоротить --- укоротить\n",
      "назначить --- назначить\n",
      "госпитализация --- госпитализация\n",
      "возобновление --- возобновление\n",
      "одеть --- одеть\n",
      "охранник --- охранник\n",
      "дексона --- дексона\n",
      "систолический --- систолический\n",
      "верхушечно-перегородочный --- перегородочный\n",
      "расширение --- расширение\n",
      "равнозначный --- равнозначный\n",
      "предприятие --- предприятие\n",
      "ночь --- ночь\n",
      "вредность --- вредность\n",
      "транспортировка --- транспортировка\n",
      "март --- март\n",
      "гипотиазид --- гипотиазид\n",
      "скрытый --- скрытый\n",
      "расстройство --- расстройство\n",
      "ломота --- ломота\n",
      "подготовить --- подготовить\n",
      "помощь --- помощь\n",
      "большая --- большая\n",
      "эквивалент --- эквивалент\n",
      "гемостатический --- гемостатический\n",
      "купировавшийся --- купоросившийся\n",
      "ревизия --- ревизия\n",
      "пульсирующий --- пульсирующий\n",
      "регистрироваться --- регистрироваться\n",
      "лимитирование --- лимитирование\n",
      "ометать --- обметать\n",
      "стихание --- стихание\n",
      "вазопрессорный --- газопрессовый\n",
      "тредмил --- премил\n",
      "тест --- тест\n",
      "гипопноэ --- гипопион\n",
      "наш --- наш\n",
      "ускоренный --- ускоренный\n",
      "эфффект --- эффект\n",
      "тромбофлебит --- тромбофлебит\n",
      "ишемический --- ишемический\n",
      "купирование --- курирование\n",
      "патологии --- патология\n",
      "длительный --- длительный\n",
      "заключение --- заключение\n",
      "пунктировать --- пунктировать\n",
      "ферритина --- ферритина\n",
      "гастропротективный --- частнодетективный\n",
      "пароксизм --- пароксизм\n",
      "выполнять --- выполнять\n",
      "показатель --- показатель\n",
      "посттромбофлебитический --- посттромбофлебитический\n",
      "анальгин --- анальгин\n",
      "корректировать --- корректировать\n",
      "секунда --- секунда\n",
      "креатинкиназа --- креатинкиназа\n",
      "утолщение --- утолщение\n",
      "терапия --- терапия\n",
      "глибомёт --- глибомет\n",
      "лобэктомия --- лобэктомия\n",
      "новгородский --- новгородский\n",
      "владеть --- владеть\n",
      "тенденция --- тенденция\n",
      "мерить --- мерить\n",
      "поражений --- поражений\n",
      "перекосить --- перекосить\n",
      "тропонин --- хлопонин\n",
      "сдвиг --- сдвиг\n",
      "отправить --- отправить\n",
      "сжимающее --- сжимающая\n",
      "давящий --- давящий\n",
      "нифедипин --- нифедипин\n",
      "мексикор --- мексикор\n",
      "сад --- сад\n",
      "мезентериальный --- мезентериальный\n",
      "дальнейшей --- дальнейший\n",
      "реабилитация --- реабилитация\n",
      "переносить --- переносить\n",
      "дискомфорт --- дискомфорт\n",
      "проявление --- проявление\n",
      "батарея --- батарея\n",
      "фермент --- фермент\n",
      "затёк --- затёк\n",
      "непроизвольный --- непроизвольный\n",
      "слепок --- слепок\n",
      "тенорик --- тенорит\n",
      "сегмента --- сегмента\n",
      "дрожь --- дрожь\n",
      "появляется --- появляться\n",
      "гепарина --- гепарин\n",
      "предсердие --- предсердие\n",
      "диурез --- диурез\n",
      "фиксировать --- фиксировать\n",
      "временной --- временной\n",
      "микропрепарат --- биопрепарат\n",
      "аторвастатин --- аторвастатин\n",
      "гипотензия --- гипотензия\n",
      "грудь --- грудь\n",
      "инфаркт --- инфаркт\n",
      "мононуклеары --- мононуклеар\n",
      "постоянно --- постоянно\n",
      "погрузка --- погрузка\n",
      "фармакологический --- фармакологический\n",
      "нестабильный --- нестабильный\n",
      "мертенил --- миренил\n",
      "тахикардий --- тахикардии\n",
      "снимать --- снимать\n",
      "распространиться --- распространиться\n",
      "контрпульсатор --- контрпульсация\n",
      "соталол --- сталон\n",
      "складываться --- складываться\n",
      "кардиомегалия --- кардиомегалия\n",
      "смесь --- смесь\n",
      "мкг --- мкг\n",
      "похожий --- похожий\n",
      "аутовенозный --- аутогенный\n",
      "гепатина --- гепатит\n",
      "рецидивировать --- рецидивировать\n",
      "асцит --- асцит\n",
      "стенокардия --- стенокардия\n",
      "тысяча --- тысяча\n",
      "промежуточный --- промежуточный\n",
      "возможный --- возможный\n",
      "водка --- водка\n",
      "лимфодиссекция --- диссекция\n",
      "принимать --- принимать\n",
      "стентирование --- тестирование\n",
      "незначимый --- незначимый\n",
      "настоящее --- настоящее\n",
      "задненижний --- задненёбный\n",
      "частичный --- частичный\n",
      "появиться --- появиться\n",
      "тройной --- тройной\n",
      "показатель --- показатель\n",
      "эквивалент --- эквивалент\n",
      "утолстить --- утолстить\n",
      "поведение --- поведение\n",
      "аускультативный --- аускультативный\n",
      "отказаться --- отказаться\n",
      "рассмотреть --- рассмотреть\n",
      "сывороточный --- сывороточный\n",
      "формирующийся --- бормочущийся\n",
      "жир --- жир\n",
      "карведилол --- карведилол\n",
      "тонкий --- тонкий\n",
      "единица --- единица\n",
      "срабатывать --- срабатывать\n",
      "компрометация --- компрометация\n",
      "россия --- россия\n",
      "массив --- массив\n",
      "нижнебоковой --- нижнебоковой\n",
      "отечь --- отечь\n",
      "трепетание --- трепетание\n",
      "конкурировать --- конкурировать\n",
      "событие --- событие\n",
      "незначительный --- незначительный\n",
      "Right corrected words count - 166 of 200 total\n"
     ]
    },
    {
     "name": "stderr",
     "output_type": "stream",
     "text": [
      "\n"
     ]
    },
    {
     "data": {
      "text/plain": "{'words_per_second': 0.07382898564418895,\n 'error_precision': 0.415,\n 'lexical_precision': 0.83,\n 'overall_precision': 0.6224999999999999}"
     },
     "execution_count": 122,
     "metadata": {},
     "output_type": "execute_result"
    }
   ],
   "source": [
    "def spellchecker_prototype_v2_correct_func(input_word_list):\n",
    "    spellchecker_prototype = SpellChecker()\n",
    "    word_list = \" \".join(input_word_list)\n",
    "    timer = tqdm()\n",
    "    corrected_word_list = spellchecker_prototype.correct_words(word_list)\n",
    "    return {\"elapsed\": timer.format_dict[\"elapsed\"], \"corrected_word_list\": corrected_word_list}\n",
    "\n",
    "spellchecker_prototype_v2_metrics = compute_all_metrics(\n",
    "    lambda : spellchecker_prototype_v2_correct_func(error_precision_test_word_list),\n",
    "    lambda : spellchecker_prototype_v2_correct_func(lexical_precision_test_word_list),\n",
    "    error_precision_test_word_list, error_precision_test_answers, lexical_precision_test_word_list)\n",
    "spellchecker_prototype_v2_metrics"
   ],
   "metadata": {
    "collapsed": false,
    "pycharm": {
     "name": "#%%\n"
    }
   }
  },
  {
   "cell_type": "markdown",
   "metadata": {
    "pycharm": {
     "name": "#%% md\n"
    }
   },
   "source": [
    "# Test Symspellpy - https://github.com/mammothb/symspellpy"
   ]
  },
  {
   "cell_type": "code",
   "execution_count": 77,
   "metadata": {
    "pycharm": {
     "name": "#%%\n"
    }
   },
   "outputs": [
    {
     "name": "stdout",
     "output_type": "stream",
     "text": [
      "Requirement already satisfied: symspellpy in /home/Dmitry.Pogrebnoy/Desktop/MedSpellChecker/venv/lib/python3.9/site-packages (6.7.6)\r\n",
      "\u001B[33mWARNING: Retrying (Retry(total=4, connect=None, read=None, redirect=None, status=None)) after connection broken by 'NewConnectionError('<pip._vendor.urllib3.connection.HTTPSConnection object at 0x7ffa770ec910>: Failed to establish a new connection: [Errno -3] Temporary failure in name resolution')': /simple/symspellpy/\u001B[0m\r\n",
      "\u001B[33mWARNING: Retrying (Retry(total=3, connect=None, read=None, redirect=None, status=None)) after connection broken by 'NewConnectionError('<pip._vendor.urllib3.connection.HTTPSConnection object at 0x7ffa770ecb20>: Failed to establish a new connection: [Errno -3] Temporary failure in name resolution')': /simple/symspellpy/\u001B[0m\r\n",
      "\u001B[33mWARNING: Retrying (Retry(total=2, connect=None, read=None, redirect=None, status=None)) after connection broken by 'NewConnectionError('<pip._vendor.urllib3.connection.HTTPSConnection object at 0x7ffa770eccd0>: Failed to establish a new connection: [Errno -3] Temporary failure in name resolution')': /simple/symspellpy/\u001B[0m\r\n",
      "\u001B[33mWARNING: Retrying (Retry(total=1, connect=None, read=None, redirect=None, status=None)) after connection broken by 'NewConnectionError('<pip._vendor.urllib3.connection.HTTPSConnection object at 0x7ffa770ece80>: Failed to establish a new connection: [Errno -3] Temporary failure in name resolution')': /simple/symspellpy/\u001B[0m\r\n",
      "Requirement already satisfied: editdistpy>=0.1.3 in /home/Dmitry.Pogrebnoy/Desktop/MedSpellChecker/venv/lib/python3.9/site-packages (from symspellpy) (0.1.3)\r\n"
     ]
    }
   ],
   "source": [
    "!pip install -U symspellpy"
   ]
  },
  {
   "cell_type": "code",
   "execution_count": 78,
   "outputs": [
    {
     "name": "stdout",
     "output_type": "stream",
     "text": [
      "Name: symspellpy\r\n",
      "Version: 6.7.6\r\n",
      "Summary: Python SymSpell\r\n",
      "Home-page: https://github.com/mammothb/symspellpy\r\n",
      "Author: mmb L\r\n",
      "Author-email: \r\n",
      "License: MIT\r\n",
      "Location: /home/Dmitry.Pogrebnoy/Desktop/MedSpellChecker/venv/lib/python3.9/site-packages\r\n",
      "Requires: editdistpy\r\n",
      "Required-by: \r\n"
     ]
    }
   ],
   "source": [
    "!pip show symspellpy"
   ],
   "metadata": {
    "collapsed": false,
    "pycharm": {
     "name": "#%%\n"
    }
   }
  },
  {
   "cell_type": "markdown",
   "metadata": {
    "pycharm": {
     "name": "#%% md\n"
    }
   },
   "source": [
    "### Test Symspellpy lookup on basic dict"
   ]
  },
  {
   "cell_type": "code",
   "execution_count": 79,
   "metadata": {
    "pycharm": {
     "name": "#%%\n"
    }
   },
   "outputs": [],
   "source": [
    "basic_frequency_dict = '../data/symspell/ru-100k.txt'"
   ]
  },
  {
   "cell_type": "code",
   "execution_count": 80,
   "metadata": {
    "pycharm": {
     "name": "#%%\n"
    }
   },
   "outputs": [],
   "source": [
    "from symspellpy import SymSpell, Verbosity\n",
    "\n",
    "def test_symspell_py_lookup(frequency_dict_path, input_word_list):\n",
    "    sym_spell_py = SymSpell()\n",
    "    sym_spell_py.load_dictionary(frequency_dict_path, 0, 1, encoding=\"UTF8\")\n",
    "\n",
    "    result = []\n",
    "    timer = tqdm(input_word_list)\n",
    "    for word in timer:\n",
    "        suggestions = sym_spell_py.lookup(word, Verbosity.TOP, max_edit_distance=2, include_unknown=True)\n",
    "        result.append(suggestions[0].term)\n",
    "    return  {\"elapsed\" : timer.format_dict[\"elapsed\"], \"corrected_word_list\" : result}"
   ]
  },
  {
   "cell_type": "code",
   "execution_count": 81,
   "outputs": [
    {
     "name": "stderr",
     "output_type": "stream",
     "text": [
      "100%|██████████| 200/200 [00:00<00:00, 12730.84it/s]\n"
     ]
    },
    {
     "name": "stdout",
     "output_type": "stream",
     "text": [
      "Error precision\n",
      "original_word_list --- corrected_word --- answer_word_list\n",
      "эктренном --- коренном --- ['экстренном']\n",
      "синусовго --- синусовго --- ['синусового']\n",
      "даным --- данным --- ['данным', 'данный', 'данные']\n",
      "шнутография --- шнутография --- ['шунтография']\n",
      "сникопальных --- сникопальных --- ['синкопальных']\n",
      "посление --- последние --- ['поселение', 'последний']\n",
      "ходавый --- подавай --- ['ходовый']\n",
      "анмнезе --- анамнезе --- ['анамнезе', 'анамнез']\n",
      "сентированный --- сентированный --- ['стентированный']\n",
      "самоч --- самой --- ['самочувствие']\n",
      "перевдена --- переведена --- ['переведена']\n",
      "стентированеим --- стентированеим --- ['стентированием', 'стентирование']\n",
      "кардиол --- кардинал --- ['кардиолог,кардиологический']\n",
      "переведна --- переведена --- ['переведена']\n",
      "догосптальном --- догосптальном --- ['догоспитальном']\n",
      "миним --- синим --- ['минимум', 'минимальный']\n",
      "субфебриллитет --- субфебриллитет --- ['субфебрилитет']\n",
      "загрудиные --- загрудиные --- ['загрудинные', 'загрудинный']\n",
      "перферия --- периферия --- ['периферия']\n",
      "течени --- течение --- ['течение']\n",
      "оклюзия --- иллюзия --- ['окклюзия']\n",
      "жнщина --- женщина --- ['женщина']\n",
      "пциент --- пациент --- ['пациент']\n",
      "зарегистирована --- зарегистрирована --- ['зарегистрирована']\n",
      "сегмета --- сегмента --- ['сегмента']\n",
      "клекте --- клетке --- ['клетке']\n",
      "эпид --- спид --- ['эпидемия', 'эпидемиологический', 'эпидуральный']\n",
      "интелектуально --- интеллектуально --- ['интеллектуально']\n",
      "нижн --- ниже --- ['нижний']\n",
      "прводилась --- проводилась --- ['проводилась', 'проводить']\n",
      "неуст --- несут --- ['неустановленный']\n",
      "госптализирован --- госптализирован --- ['госпитализирован']\n",
      "вперые --- впервые --- ['впервые']\n",
      "послеоперационом --- послеоперационном --- ['послеоперационном']\n",
      "госпитализирова --- госпитализирова --- ['госпитализирован']\n",
      "ухудщение --- ухудшение --- ['ухудшение']\n",
      "рентг --- ренты --- ['рентген']\n",
      "дальнешем --- дальнейшем --- ['дальнейшем']\n",
      "троботическая --- троботическая --- ['тромботическая']\n",
      "многосоудистое --- многосоудистое --- ['многососудистое', 'многососудистый']\n",
      "миокрада --- миокарда --- ['миокарда', 'миокард']\n",
      "сопрвождались --- сопровождались --- ['сопровождались']\n",
      "дискмфорт --- дискмфорт --- ['дискомфорт']\n",
      "потлтвостью --- потлтвостью --- ['потливостью']\n",
      "левогожелудочка --- левогожелудочка --- ['левого желудочка', 'левый желудочек']\n",
      "рание --- ранее --- ['ранее', 'ранние']\n",
      "виед --- виде --- ['виде', 'вид']\n",
      "ангинозныеболи --- ангинозныеболи --- ['ангинозные боли', 'ангиозный боль']\n",
      "догоситальном --- догоситальном --- ['догоспитальном']\n",
      "ввполнен --- вполне --- ['выполнен']\n",
      "чаосв --- часов --- ['часов']\n",
      "октазалась --- оказалась --- ['отказалась']\n",
      "линика --- лирика --- ['клиника']\n",
      "ммента --- момента --- ['момента']\n",
      "проведеной --- проведено --- ['проведенной']\n",
      "выполненяи --- выполнения --- ['выполнения', 'выполнение']\n",
      "леченяи --- лечения --- ['лечения', 'лечение']\n",
      "обтилась --- осталась --- ['обратилась']\n",
      "повтороно --- повторно --- ['повторно']\n",
      "зарегистриованы --- зарегистрированы --- ['зарегистрированы']\n",
      "отицает --- отрицает --- ['отрицает', 'отрицать']\n",
      "дальнейщем --- дальнейшем --- ['дальнейшем']\n",
      "болисохраняются --- болисохраняются --- ['боли сохраняются']\n",
      "частичынм --- частичным --- ['частичным']\n",
      "атерокслеротичсекая --- атерокслеротичсекая --- ['атеросклеротическая']\n",
      "деньс --- день --- ['день', 'день с']\n",
      "назначаля --- назначали --- ['назначался']\n",
      "проведеняи --- проведения --- ['проведения']\n",
      "беспакоют --- беспокоит --- ['беспокоят']\n",
      "гипертензи --- гипертензии --- ['гипертензия']\n",
      "воленйбол --- волейбол --- ['волейбол']\n",
      "болезн --- болезни --- ['болезнь']\n",
      "стенокардаа --- стенокардаа --- ['стенокардия']\n",
      "продолжалсь --- продолжалось --- ['продолжалась']\n",
      "поворное --- повторное --- ['повторное']\n",
      "ощуащет --- ощущает --- ['ощущает']\n",
      "ангигнозного --- ангигнозного --- ['ангинозного', 'ангинозный']\n",
      "диагностичекой --- диагностической --- ['диагностической', 'диагностический']\n",
      "поддерживающией --- поддерживающие --- ['поддерживающий']\n",
      "межлопаточнй --- межлопаточнй --- ['межлопаточный']\n",
      "бедреной --- бедренной --- ['бедренной', 'бедренный']\n",
      "гшрядки --- грядки --- ['грядки']\n",
      "бассеине --- бассейне --- ['бассейне', 'бассейн']\n",
      "возлуха --- воздуха --- ['воздуха', 'воздух']\n",
      "сенября --- сентября --- ['сентября', 'сентябрь']\n",
      "постояная --- постоянная --- ['постоянная', 'постоянный']\n",
      "рекмоендовнао --- рекомендовано --- ['рекомендовано']\n",
      "поврждения --- повреждения --- ['повреждения']\n",
      "дискофморта --- дискофморта --- ['дискомфорт']\n",
      "импалнтирован --- импалнтирован --- ['имплантирован', 'имплантировать']\n",
      "неочетливая --- неочетливая --- ['неотчетливая', 'неотчетливый']\n",
      "обесвеченный --- обеспеченных --- ['обесцвеченный', 'обеспеченный']\n",
      "серце --- сердце --- ['сердце']\n",
      "блезнь --- болезнь --- ['болезнь']\n",
      "лергия --- сергия --- ['аллергия']\n",
      "ука --- ука --- ['рука']\n",
      "изжга --- из-за --- ['изжога']\n",
      "жение --- жене --- ['жжение']\n",
      "кашел --- нашел --- ['кашель']\n",
      "рствор --- раствор --- ['раствор']\n",
      "пациен --- пациент --- ['пациент']\n",
      "пожлой --- пожилой --- ['пожилой']\n",
      "лекарсво --- лекарство --- ['лекарство']\n",
      "нпреносимость --- нпреносимость --- ['непереносимость']\n",
      "амупула --- ампулы --- ['ампула']\n",
      "гел --- дел --- ['гель']\n",
      "конценрат --- концентрат --- ['концентрат']\n",
      "рилиф --- или --- ['релиф']\n",
      "чссс --- ссср --- ['ЧСС', 'чсс']\n",
      "экгъ --- экг --- ['ЭКГ', 'экг']\n",
      "фибриляция --- фибриляция --- ['фибрилляция']\n",
      "желдочек --- желдочек --- ['желудочек']\n",
      "хрон --- крон --- ['хронический']\n",
      "гиподин --- господин --- ['гиподинамический']\n",
      "нерный --- черный --- ['нервный']\n",
      "сист --- сист --- ['система']\n",
      "диагоностика --- диагностика --- ['диагностика']\n",
      "гипоксмия --- гипоксии --- ['гипоксемия']\n",
      "ледокоин --- ледокол --- ['лидокаин']\n",
      "блокато --- блока --- ['блокатор']\n",
      "тахкардия --- тахкардия --- ['тахикардия']\n",
      "малоинвозивный --- малоинвозивный --- ['малоинвазивный']\n",
      "алация --- акация --- ['аблация', 'абляция']\n",
      "имь --- им --- ['ИМ', 'им']\n",
      "паражение --- поражение --- ['поражение']\n",
      "тяжолый --- тяжелый --- ['тяжелый']\n",
      "гастрапластика --- гастрапластика --- ['гастропластика']\n",
      "вс --- в --- ['вес']\n",
      "лешний --- летний --- ['лишний']\n",
      "орта --- сорта --- ['аорта']\n",
      "клапа --- клапан --- ['клапан']\n",
      "вент --- сент --- ['вена']\n",
      "палый --- малый --- ['полый']\n",
      "пирикард --- пирикард --- ['перикард']\n",
      "метральный --- центральный --- ['митральный']\n",
      "ултразвук --- ультразвук --- ['ультразвук']\n",
      "херург --- хирург --- ['хирург']\n",
      "кордиолог --- кордиолог --- ['кардиолог']\n",
      "килограм --- килограмм --- ['килограмм']\n",
      "акенезия --- акенезия --- ['акинезия']\n",
      "врхушка --- верхушка --- ['верхушка']\n",
      "апекальный --- печальный --- ['апикальный']\n",
      "сгмент --- сегмент --- ['сегмент']\n",
      "вес --- вес --- ['весь']\n",
      "сьенка --- стенка --- ['стенка']\n",
      "церкулярный --- церкулярный --- ['циркулярный']\n",
      "сридиный --- средины --- ['срединный']\n",
      "калапаный --- клапаны --- ['клапанный']\n",
      "апарат --- аппарат --- ['аппарат']\n",
      "потология --- патология --- ['патология']\n",
      "перекард --- перепад --- ['перикард']\n",
      "праксимальный --- максимальный --- ['проксимальный']\n",
      "деаметр --- диаметр --- ['диаметр']\n",
      "корекция --- коррекция --- ['коррекция']\n",
      "аслажнение --- наслаждение --- ['осложнение']\n",
      "стрдать --- страдать --- ['страдать']\n",
      "гепертонический --- гипертонической --- ['гипертонический']\n",
      "болезн --- болезни --- ['болезнь']\n",
      "одоптировать --- одоптировать --- ['адаптировать']\n",
      "получять --- получить --- ['получать']\n",
      "кансервативный --- консервативный --- ['консервативный']\n",
      "тичение --- течение --- ['течение']\n",
      "пребование --- требование --- ['пребывание']\n",
      "отбиление --- отделение --- ['отделение']\n",
      "самачувствие --- самочувствие --- ['самочувствие']\n",
      "уходшение --- ухудшение --- ['ухудшение']\n",
      "месро --- место --- ['место']\n",
      "пункцыя --- функция --- ['пункция']\n",
      "особеность --- особенность --- ['особенность']\n",
      "шнут --- шут --- ['шунт']\n",
      "шнутирование --- шнутирование --- ['шунтирование']\n",
      "готчина --- вотчина --- ['гатчина']\n",
      "эхэ --- эх --- ['эхо']\n",
      "каранарный --- каранарный --- ['коронарный']\n",
      "ортерия --- артерия --- ['артерия']\n",
      "сначимый --- значимый --- ['значимый']\n",
      "стинос --- стихов --- ['стеноз']\n",
      "гаспиализировать --- гаспиализировать --- ['госпитализировать']\n",
      "имья --- имя --- ['имя']\n",
      "олмазов --- алмазов --- ['алмазов']\n",
      "прдшствовать --- предшествовать --- ['предшествовать']\n",
      "стинакардия --- стинакардия --- ['стенокардия']\n",
      "пиринести --- принести --- ['перенести']\n",
      "ифаркт --- инфаркт --- ['инфаркт']\n",
      "моикарда --- миокарда --- ['миокарда']\n",
      "лакализация --- локализация --- ['локализация']\n",
      "спразка --- справка --- ['справка']\n",
      "дальнейшый --- дальнейшей --- ['дальнейший']\n",
      "хроническаянедостаточность --- хроническаянедостаточность --- ['хроническая недостаточность', 'хронический недостаточность']\n",
      "инфарктмиокарда --- инфарктмиокарда --- ['инфаркт миокарда', 'инфаркт миокард']\n",
      "отузла --- отдела --- ['от узла', 'от узел']\n",
      "нарушениеработы --- нарушениеработы --- ['нарушение работы', 'нарушение работа']\n",
      "вминуту --- минуту --- ['в минуту', 'в минута', 'минута']\n",
      "эндокриннойсистемы --- эндокриннойсистемы --- ['эндокринная система', 'эндокринный система']\n",
      "сердечныйритм --- сердечныйритм --- ['сердечный ритм']\n",
      "узловаятахикардия --- узловаятахикардия --- ['узловая тахикардия', 'узловой тахикардия']\n",
      "основныефакторы --- основныефакторы --- ['основной факто', 'основные факторы']\n",
      "остановкасердца --- остановкасердца --- ['остановка сердца', 'остановка сердце']\n",
      "фибрилляцияжелудочков --- фибрилляцияжелудочков --- ['фибрилляция желудочков', 'фибрилляция желудочек']\n",
      "счастотой --- частотой --- ['с частотой', 'с частотаб частота']\n",
      "Right corrected words count - 84 of 200 total\n"
     ]
    },
    {
     "name": "stderr",
     "output_type": "stream",
     "text": [
      "100%|██████████| 200/200 [00:00<00:00, 23000.13it/s]"
     ]
    },
    {
     "name": "stdout",
     "output_type": "stream",
     "text": [
      "Lexical precision\n",
      "original_word_list --- corrected_word\n",
      "выборгский --- выборгский\n",
      "отказываться --- отказываться\n",
      "нитропрепарат --- нитропрепарат\n",
      "предсердие --- предсердия\n",
      "диссоциация --- диссоциация\n",
      "кольцевой --- кольцевой\n",
      "отрыв --- отрыв\n",
      "вовлечение --- вовлечение\n",
      "мелкопузырчатый --- мелкопузырчатый\n",
      "госпитализировать --- госпитализировать\n",
      "фтизиатр --- фтизиатр\n",
      "проксимальный --- проксимальной\n",
      "приступ --- приступ\n",
      "рецидивировать --- рецидивировать\n",
      "беспокоить --- беспокоить\n",
      "значимый --- значимый\n",
      "одномоментный --- одномоментный\n",
      "течение --- течение\n",
      "постепенной --- постепенной\n",
      "трафика --- графика\n",
      "левый --- левый\n",
      "область --- область\n",
      "окклюзия --- окклюзия\n",
      "каждый --- каждый\n",
      "аторвастатина --- аторвастатина\n",
      "проникающий --- проникающих\n",
      "слух --- слух\n",
      "отрицательный --- отрицательный\n",
      "заднее --- заднее\n",
      "диафрагмальный --- диафрагмальный\n",
      "физическая --- физическая\n",
      "реваскуляризация --- реваскуляризация\n",
      "очевидный --- очевидный\n",
      "умеренный --- умеренный\n",
      "самостоятельный --- самостоятельный\n",
      "визуализация --- визуализации\n",
      "неселективный --- неселективный\n",
      "септопластика --- септопластика\n",
      "присутствие --- присутствие\n",
      "соустье --- счастье\n",
      "кировский --- кировский\n",
      "ноющая --- новая\n",
      "постоять --- постоять\n",
      "стенка --- стенка\n",
      "укоротить --- укротить\n",
      "назначить --- назначить\n",
      "госпитализация --- госпитализации\n",
      "возобновление --- возобновление\n",
      "одеть --- одеть\n",
      "охранник --- охранник\n",
      "дексона --- девона\n",
      "систолический --- исторический\n",
      "верхушечно-перегородочный --- верхушечно-перегородочный\n",
      "расширение --- расширение\n",
      "равнозначный --- равнозначны\n",
      "предприятие --- предприятие\n",
      "ночь --- ночь\n",
      "вредность --- вредность\n",
      "транспортировка --- транспортировка\n",
      "март --- март\n",
      "гипотиазид --- гипотиазид\n",
      "скрытый --- скрытый\n",
      "расстройство --- расстройство\n",
      "ломота --- ломоть\n",
      "подготовить --- подготовить\n",
      "помощь --- помощь\n",
      "большая --- большая\n",
      "эквивалент --- эквивалент\n",
      "гемостатический --- гемостатический\n",
      "купировавшийся --- купировавшийся\n",
      "ревизия --- ревизия\n",
      "пульсирующий --- пульсирующий\n",
      "регистрироваться --- регистрировать\n",
      "лимитирование --- лимитирование\n",
      "ометать --- метать\n",
      "стихание --- стирание\n",
      "вазопрессорный --- вазопрессорный\n",
      "тредмил --- бредил\n",
      "тест --- тест\n",
      "гипопноэ --- гипопноэ\n",
      "наш --- наш\n",
      "ускоренный --- ускоренный\n",
      "эфффект --- эффект\n",
      "тромбофлебит --- тромбофлебит\n",
      "ишемический --- ишемической\n",
      "купирование --- копирование\n",
      "патологии --- патологии\n",
      "длительный --- длительный\n",
      "заключение --- заключение\n",
      "пунктировать --- пунктировать\n",
      "ферритина --- феррита\n",
      "гастропротективный --- гастропротективный\n",
      "пароксизм --- марксизм\n",
      "выполнять --- выполнять\n",
      "показатель --- показатель\n",
      "посттромбофлебитический --- посттромбофлебитический\n",
      "анальгин --- аналогии\n",
      "корректировать --- корректировать\n",
      "секунда --- секунда\n",
      "креатинкиназа --- креатинкиназа\n",
      "утолщение --- утолщение\n",
      "терапия --- терапия\n",
      "глибомёт --- глибомёт\n",
      "лобэктомия --- лобэктомия\n",
      "новгородский --- новгородский\n",
      "владеть --- владеть\n",
      "тенденция --- тенденция\n",
      "мерить --- мерить\n",
      "поражений --- поражений\n",
      "перекосить --- переносить\n",
      "тропонин --- топоним\n",
      "сдвиг --- сдвиг\n",
      "отправить --- отправить\n",
      "сжимающее --- сжимающих\n",
      "давящий --- дающий\n",
      "нифедипин --- нифедипин\n",
      "мексикор --- мексики\n",
      "сад --- сад\n",
      "мезентериальный --- мезентериальный\n",
      "дальнейшей --- дальнейшей\n",
      "реабилитация --- реабилитация\n",
      "переносить --- переносить\n",
      "дискомфорт --- дискомфорт\n",
      "проявление --- проявление\n",
      "батарея --- батарея\n",
      "фермент --- фермент\n",
      "затёк --- затем\n",
      "непроизвольный --- произвольный\n",
      "слепок --- слепок\n",
      "тенорик --- теории\n",
      "сегмента --- сегмента\n",
      "дрожь --- дрожь\n",
      "появляется --- появляется\n",
      "гепарина --- гепарина\n",
      "предсердие --- предсердия\n",
      "диурез --- диурез\n",
      "фиксировать --- фиксировать\n",
      "временной --- временной\n",
      "микропрепарат --- микропрепарат\n",
      "аторвастатин --- аторвастатин\n",
      "гипотензия --- гипотензия\n",
      "грудь --- грудь\n",
      "инфаркт --- инфаркт\n",
      "мононуклеары --- мононуклеары\n",
      "постоянно --- постоянно\n",
      "погрузка --- погрузка\n",
      "фармакологический --- фармакологических\n",
      "нестабильный --- нестабильных\n",
      "мертенил --- мертенил\n",
      "тахикардий --- тахикардий\n",
      "снимать --- снимать\n",
      "распространиться --- распространиться\n",
      "контрпульсатор --- контрпульсатор\n",
      "соталол --- сожалел\n",
      "складываться --- складываться\n",
      "кардиомегалия --- кардиомегалия\n",
      "смесь --- смесь\n",
      "мкг --- мкг\n",
      "похожий --- похожий\n",
      "аутовенозный --- аутовенозный\n",
      "гепатина --- гепатита\n",
      "рецидивировать --- рецидивировать\n",
      "асцит --- акций\n",
      "стенокардия --- стенокардия\n",
      "тысяча --- тысяча\n",
      "промежуточный --- промежуточный\n",
      "возможный --- возможный\n",
      "водка --- водка\n",
      "лимфодиссекция --- лимфодиссекция\n",
      "принимать --- принимать\n",
      "стентирование --- тестирование\n",
      "незначимый --- незнакомый\n",
      "настоящее --- настоящее\n",
      "задненижний --- задненижний\n",
      "частичный --- частичный\n",
      "появиться --- появиться\n",
      "тройной --- тройной\n",
      "показатель --- показатель\n",
      "эквивалент --- эквивалент\n",
      "утолстить --- отомстить\n",
      "поведение --- поведение\n",
      "аускультативный --- аускультативный\n",
      "отказаться --- отказаться\n",
      "рассмотреть --- рассмотреть\n",
      "сывороточный --- сывороточный\n",
      "формирующийся --- формирующихся\n",
      "жир --- жир\n",
      "карведилол --- карведилол\n",
      "тонкий --- тонкий\n",
      "единица --- единица\n",
      "срабатывать --- обрабатывать\n",
      "компрометация --- компрометация\n",
      "россия --- россия\n",
      "массив --- массив\n",
      "нижнебоковой --- нижнебоковой\n",
      "отечь --- отеч\n",
      "трепетание --- трепетали\n",
      "конкурировать --- конкурировать\n",
      "событие --- событие\n",
      "незначительный --- незначительный\n",
      "Right corrected words count - 156 of 200 total\n"
     ]
    },
    {
     "name": "stderr",
     "output_type": "stream",
     "text": [
      "\n"
     ]
    },
    {
     "data": {
      "text/plain": "{'words_per_second': 15891.879398698506,\n 'error_precision': 0.42,\n 'lexical_precision': 0.78,\n 'overall_precision': 0.6}"
     },
     "execution_count": 81,
     "metadata": {},
     "output_type": "execute_result"
    }
   ],
   "source": [
    "test_symspell_py_lookup_result = compute_all_metrics(\n",
    "    lambda : test_symspell_py_lookup(basic_frequency_dict, error_precision_test_word_list),\n",
    "    lambda : test_symspell_py_lookup(basic_frequency_dict, lexical_precision_test_word_list),\n",
    "    error_precision_test_word_list, error_precision_test_answers, lexical_precision_test_word_list)\n",
    "test_symspell_py_lookup_result"
   ],
   "metadata": {
    "collapsed": false,
    "pycharm": {
     "name": "#%%\n"
    }
   }
  },
  {
   "cell_type": "code",
   "execution_count": 82,
   "outputs": [],
   "source": [
    "def test_symspell_py_lookup_compound(frequency_dict_path, input_word_list):\n",
    "    sym_spell_py = SymSpell()\n",
    "    sym_spell_py.load_dictionary(frequency_dict_path, 0, 1, encoding=\"UTF8\")\n",
    "\n",
    "    result = []\n",
    "    timer = tqdm(input_word_list)\n",
    "    for word in timer:\n",
    "        suggestions = sym_spell_py.lookup_compound(word, max_edit_distance=2)\n",
    "        result.append(suggestions[0].term)\n",
    "    return {\"elapsed\" : timer.format_dict[\"elapsed\"], \"corrected_word_list\" : result}"
   ],
   "metadata": {
    "collapsed": false,
    "pycharm": {
     "name": "#%%\n"
    }
   }
  },
  {
   "cell_type": "code",
   "execution_count": 83,
   "metadata": {
    "pycharm": {
     "name": "#%%\n"
    }
   },
   "outputs": [
    {
     "name": "stderr",
     "output_type": "stream",
     "text": [
      "100%|██████████| 200/200 [00:00<00:00, 775.93it/s]\n"
     ]
    },
    {
     "name": "stdout",
     "output_type": "stream",
     "text": [
      "Error precision\n",
      "original_word_list --- corrected_word --- answer_word_list\n",
      "эктренном --- коренном --- ['экстренном']\n",
      "синусовго --- синус его --- ['синусового']\n",
      "даным --- данным --- ['данным', 'данный', 'данные']\n",
      "шнутография --- и фотография --- ['шунтография']\n",
      "сникопальных --- они локальных --- ['синкопальных']\n",
      "посление --- последние --- ['поселение', 'последний']\n",
      "ходавый --- ход вый --- ['ходовый']\n",
      "анмнезе --- анамнезе --- ['анамнезе', 'анамнез']\n",
      "сентированный --- центров данный --- ['стентированный']\n",
      "самоч --- самой --- ['самочувствие']\n",
      "перевдена --- переведена --- ['переведена']\n",
      "стентированеим --- стен титрованием --- ['стентированием', 'стентирование']\n",
      "кардиол --- кардинал --- ['кардиолог,кардиологический']\n",
      "переведна --- переведена --- ['переведена']\n",
      "догосптальном --- до остальном --- ['догоспитальном']\n",
      "миним --- синим --- ['минимум', 'минимальный']\n",
      "субфебриллитет --- себе бриллиант --- ['субфебрилитет']\n",
      "загрудиные --- за рудные --- ['загрудинные', 'загрудинный']\n",
      "перферия --- периферия --- ['периферия']\n",
      "течени --- течение --- ['течение']\n",
      "оклюзия --- иллюзия --- ['окклюзия']\n",
      "жнщина --- женщина --- ['женщина']\n",
      "пциент --- пациент --- ['пациент']\n",
      "зарегистирована --- зарегистрирована --- ['зарегистрирована']\n",
      "сегмета --- сегмента --- ['сегмента']\n",
      "клекте --- клетке --- ['клетке']\n",
      "эпид --- спид --- ['эпидемия', 'эпидемиологический', 'эпидуральный']\n",
      "интелектуально --- интеллектуально --- ['интеллектуально']\n",
      "нижн --- ниже --- ['нижний']\n",
      "прводилась --- проводилась --- ['проводилась', 'проводить']\n",
      "неуст --- несут --- ['неустановленный']\n",
      "госптализирован --- госпитали мировая --- ['госпитализирован']\n",
      "вперые --- впервые --- ['впервые']\n",
      "послеоперационом --- послеоперационном --- ['послеоперационном']\n",
      "госпитализирова --- госпитали кирова --- ['госпитализирован']\n",
      "ухудщение --- ухудшение --- ['ухудшение']\n",
      "рентг --- ренты --- ['рентген']\n",
      "дальнешем --- дальнейшем --- ['дальнейшем']\n",
      "троботическая --- ты оптическая --- ['тромботическая']\n",
      "многосоудистое --- много сосудистой --- ['многососудистое', 'многососудистый']\n",
      "миокрада --- миокарда --- ['миокарда', 'миокард']\n",
      "сопрвождались --- сопровождались --- ['сопровождались']\n",
      "дискмфорт --- диск форт --- ['дискомфорт']\n",
      "потлтвостью --- после костью --- ['потливостью']\n",
      "левогожелудочка --- левого желудочка --- ['левого желудочка', 'левый желудочек']\n",
      "рание --- ранее --- ['ранее', 'ранние']\n",
      "виед --- виде --- ['виде', 'вид']\n",
      "ангинозныеболи --- ангинозныеболи --- ['ангинозные боли', 'ангиозный боль']\n",
      "догоситальном --- до остальном --- ['догоспитальном']\n",
      "ввполнен --- вполне --- ['выполнен']\n",
      "чаосв --- часов --- ['часов']\n",
      "октазалась --- оказалась --- ['отказалась']\n",
      "линика --- лирика --- ['клиника']\n",
      "ммента --- момента --- ['момента']\n",
      "проведеной --- проведено --- ['проведенной']\n",
      "выполненяи --- выполнения --- ['выполнения', 'выполнение']\n",
      "леченяи --- лечения --- ['лечения', 'лечение']\n",
      "обтилась --- осталась --- ['обратилась']\n",
      "повтороно --- повторно --- ['повторно']\n",
      "зарегистриованы --- зарегистрированы --- ['зарегистрированы']\n",
      "отицает --- отрицает --- ['отрицает', 'отрицать']\n",
      "дальнейщем --- дальнейшем --- ['дальнейшем']\n",
      "болисохраняются --- боли сохраняются --- ['боли сохраняются']\n",
      "частичынм --- частичным --- ['частичным']\n",
      "атерокслеротичсекая --- атеросклероз этическая --- ['атеросклеротическая']\n",
      "деньс --- день --- ['день', 'день с']\n",
      "назначаля --- назначали --- ['назначался']\n",
      "проведеняи --- проведения --- ['проведения']\n",
      "беспакоют --- беспокоит --- ['беспокоят']\n",
      "гипертензи --- гипертензии --- ['гипертензия']\n",
      "воленйбол --- волейбол --- ['волейбол']\n",
      "болезн --- болезни --- ['болезнь']\n",
      "стенокардаа --- стенок рада --- ['стенокардия']\n",
      "продолжалсь --- продолжалось --- ['продолжалась']\n",
      "поворное --- повторное --- ['повторное']\n",
      "ощуащет --- ощущает --- ['ощущает']\n",
      "ангигнозного --- ан грозного --- ['ангинозного', 'ангинозный']\n",
      "диагностичекой --- диагностической --- ['диагностической', 'диагностический']\n",
      "поддерживающией --- поддерживающие --- ['поддерживающий']\n",
      "межлопаточнй --- меж лопатой --- ['межлопаточный']\n",
      "бедреной --- бедренной --- ['бедренной', 'бедренный']\n",
      "гшрядки --- грядки --- ['грядки']\n",
      "бассеине --- бассейне --- ['бассейне', 'бассейн']\n",
      "возлуха --- воздуха --- ['воздуха', 'воздух']\n",
      "сенября --- сентября --- ['сентября', 'сентябрь']\n",
      "постояная --- постоянная --- ['постоянная', 'постоянный']\n",
      "рекмоендовнао --- рекомендовано --- ['рекомендовано']\n",
      "поврждения --- повреждения --- ['повреждения']\n",
      "дискофморта --- диском рта --- ['дискомфорт']\n",
      "импалнтирован --- импалнтирован --- ['имплантирован', 'имплантировать']\n",
      "неочетливая --- не отчетливая --- ['неотчетливая', 'неотчетливый']\n",
      "обесвеченный --- обеспеченных --- ['обесцвеченный', 'обеспеченный']\n",
      "серце --- сердце --- ['сердце']\n",
      "блезнь --- болезнь --- ['болезнь']\n",
      "лергия --- сергия --- ['аллергия']\n",
      "ука --- ука --- ['рука']\n",
      "изжга --- из га --- ['изжога']\n",
      "жение --- жене --- ['жжение']\n",
      "кашел --- нашел --- ['кашель']\n",
      "рствор --- раствор --- ['раствор']\n",
      "пациен --- пациент --- ['пациент']\n",
      "пожлой --- пожилой --- ['пожилой']\n",
      "лекарсво --- лекарство --- ['лекарство']\n",
      "нпреносимость --- перенос иметь --- ['непереносимость']\n",
      "амупула --- ампулы --- ['ампула']\n",
      "гел --- дел --- ['гель']\n",
      "конценрат --- концентрат --- ['концентрат']\n",
      "рилиф --- или --- ['релиф']\n",
      "чссс --- ссср --- ['ЧСС', 'чсс']\n",
      "экгъ --- экг --- ['ЭКГ', 'экг']\n",
      "фибриляция --- физ милиция --- ['фибрилляция']\n",
      "желдочек --- же точек --- ['желудочек']\n",
      "хрон --- крон --- ['хронический']\n",
      "гиподин --- господин --- ['гиподинамический']\n",
      "нерный --- черный --- ['нервный']\n",
      "сист --- сист --- ['система']\n",
      "диагоностика --- диагностика --- ['диагностика']\n",
      "гипоксмия --- гипоксии --- ['гипоксемия']\n",
      "ледокоин --- ледокол --- ['лидокаин']\n",
      "блокато --- блока о --- ['блокатор']\n",
      "тахкардия --- такая для --- ['тахикардия']\n",
      "малоинвозивный --- малины наивный --- ['малоинвазивный']\n",
      "алация --- акация --- ['аблация', 'абляция']\n",
      "имь --- им --- ['ИМ', 'им']\n",
      "паражение --- поражение --- ['поражение']\n",
      "тяжолый --- тяжелый --- ['тяжелый']\n",
      "гастрапластика --- астра пластика --- ['гастропластика']\n",
      "вс --- в --- ['вес']\n",
      "лешний --- летний --- ['лишний']\n",
      "орта --- сорта --- ['аорта']\n",
      "клапа --- клапан --- ['клапан']\n",
      "вент --- сент --- ['вена']\n",
      "палый --- малый --- ['полый']\n",
      "пирикард --- пи ричард --- ['перикард']\n",
      "метральный --- центральный --- ['митральный']\n",
      "ултразвук --- ультразвук --- ['ультразвук']\n",
      "херург --- хирург --- ['хирург']\n",
      "кордиолог --- ко диалог --- ['кардиолог']\n",
      "килограм --- килограмм --- ['килограмм']\n",
      "акенезия --- арене и --- ['акинезия']\n",
      "врхушка --- верхушка --- ['верхушка']\n",
      "апекальный --- печальный --- ['апикальный']\n",
      "сгмент --- сегмент --- ['сегмент']\n",
      "вес --- вес --- ['весь']\n",
      "сьенка --- стенка --- ['стенка']\n",
      "церкулярный --- и регулярный --- ['циркулярный']\n",
      "сридиный --- средины --- ['срединный']\n",
      "калапаный --- клапаны --- ['клапанный']\n",
      "апарат --- аппарат --- ['аппарат']\n",
      "потология --- патология --- ['патология']\n",
      "перекард --- перепад --- ['перикард']\n",
      "праксимальный --- максимальный --- ['проксимальный']\n",
      "деаметр --- диаметр --- ['диаметр']\n",
      "корекция --- коррекция --- ['коррекция']\n",
      "аслажнение --- наслаждение --- ['осложнение']\n",
      "стрдать --- страдать --- ['страдать']\n",
      "гепертонический --- гипертонической --- ['гипертонический']\n",
      "болезн --- болезни --- ['болезнь']\n",
      "одоптировать --- о датировать --- ['адаптировать']\n",
      "получять --- получить --- ['получать']\n",
      "кансервативный --- консервативный --- ['консервативный']\n",
      "тичение --- течение --- ['течение']\n",
      "пребование --- требование --- ['пребывание']\n",
      "отбиление --- отделение --- ['отделение']\n",
      "самачувствие --- самочувствие --- ['самочувствие']\n",
      "уходшение --- ухудшение --- ['ухудшение']\n",
      "месро --- место --- ['место']\n",
      "пункцыя --- функция --- ['пункция']\n",
      "особеность --- особенность --- ['особенность']\n",
      "шнут --- шут --- ['шунт']\n",
      "шнутирование --- и цитирование --- ['шунтирование']\n",
      "готчина --- вотчина --- ['гатчина']\n",
      "эхэ --- эх --- ['эхо']\n",
      "каранарный --- кара парный --- ['коронарный']\n",
      "ортерия --- артерия --- ['артерия']\n",
      "сначимый --- значимый --- ['значимый']\n",
      "стинос --- стихов --- ['стеноз']\n",
      "гаспиализировать --- нас анализировать --- ['госпитализировать']\n",
      "имья --- имя --- ['имя']\n",
      "олмазов --- алмазов --- ['алмазов']\n",
      "прдшствовать --- предшествовать --- ['предшествовать']\n",
      "стинакардия --- истина партия --- ['стенокардия']\n",
      "пиринести --- принести --- ['перенести']\n",
      "ифаркт --- инфаркт --- ['инфаркт']\n",
      "моикарда --- миокарда --- ['миокарда']\n",
      "лакализация --- локализация --- ['локализация']\n",
      "спразка --- справка --- ['справка']\n",
      "дальнейшый --- дальнейшей --- ['дальнейший']\n",
      "хроническаянедостаточность --- хроническая недостаточность --- ['хроническая недостаточность', 'хронический недостаточность']\n",
      "инфарктмиокарда --- инфаркт миокарда --- ['инфаркт миокарда', 'инфаркт миокард']\n",
      "отузла --- от зла --- ['от узла', 'от узел']\n",
      "нарушениеработы --- нарушение работы --- ['нарушение работы', 'нарушение работа']\n",
      "вминуту --- минуту --- ['в минуту', 'в минута', 'минута']\n",
      "эндокриннойсистемы --- эндокринной системы --- ['эндокринная система', 'эндокринный система']\n",
      "сердечныйритм --- сердечный ритм --- ['сердечный ритм']\n",
      "узловаятахикардия --- узловаятахикардия --- ['узловая тахикардия', 'узловой тахикардия']\n",
      "основныефакторы --- основные факторы --- ['основной факто', 'основные факторы']\n",
      "остановкасердца --- остановка сердца --- ['остановка сердца', 'остановка сердце']\n",
      "фибрилляцияжелудочков --- фибрилляцияжелудочков --- ['фибрилляция желудочков', 'фибрилляция желудочек']\n",
      "счастотой --- частотой --- ['с частотой', 'с частотаб частота']\n",
      "Right corrected words count - 92 of 200 total\n"
     ]
    },
    {
     "name": "stderr",
     "output_type": "stream",
     "text": [
      "100%|██████████| 200/200 [00:00<00:00, 1349.29it/s]\n"
     ]
    },
    {
     "name": "stdout",
     "output_type": "stream",
     "text": [
      "Lexical precision\n",
      "original_word_list --- corrected_word\n",
      "выборгский --- выборгский\n",
      "отказываться --- отказываться\n",
      "нитропрепарат --- нит препарат\n",
      "предсердие --- предсердия\n",
      "диссоциация --- диссоциация\n",
      "кольцевой --- кольцевой\n",
      "отрыв --- отрыв\n",
      "вовлечение --- вовлечение\n",
      "мелкопузырчатый --- мелкому зубчатый\n",
      "госпитализировать --- госпитали зимовать\n",
      "фтизиатр --- эти знать\n",
      "проксимальный --- проксимальной\n",
      "приступ --- приступ\n",
      "рецидивировать --- рецидив кровать\n",
      "беспокоить --- беспокоить\n",
      "значимый --- значимый\n",
      "одномоментный --- одном местный\n",
      "течение --- течение\n",
      "постепенной --- постепенной\n",
      "трафика --- графика\n",
      "левый --- левый\n",
      "область --- область\n",
      "окклюзия --- к ключи\n",
      "каждый --- каждый\n",
      "аторвастатина --- автор сталина\n",
      "проникающий --- проникающих\n",
      "слух --- слух\n",
      "отрицательный --- отрицательный\n",
      "заднее --- заднее\n",
      "диафрагмальный --- диафрагма юный\n",
      "физическая --- физическая\n",
      "реваскуляризация --- рева секуляризации\n",
      "очевидный --- очевидный\n",
      "умеренный --- умеренный\n",
      "самостоятельный --- самостоятельный\n",
      "визуализация --- визуализации\n",
      "неселективный --- не селективной\n",
      "септопластика --- сент пластика\n",
      "присутствие --- присутствие\n",
      "соустье --- с устье\n",
      "кировский --- кировский\n",
      "ноющая --- новая\n",
      "постоять --- постоять\n",
      "стенка --- стенка\n",
      "укоротить --- укротить\n",
      "назначить --- назначить\n",
      "госпитализация --- госпитализации\n",
      "возобновление --- возобновление\n",
      "одеть --- одеть\n",
      "охранник --- охранник\n",
      "дексона --- дек она\n",
      "систолический --- исторический\n",
      "верхушечно-перегородочный --- верхушек о перед порядочный\n",
      "расширение --- расширение\n",
      "равнозначный --- равнозначны\n",
      "предприятие --- предприятие\n",
      "ночь --- ночь\n",
      "вредность --- вредность\n",
      "транспортировка --- транспортировка\n",
      "март --- март\n",
      "гипотиазид --- гипотеза и\n",
      "скрытый --- скрытый\n",
      "расстройство --- расстройство\n",
      "ломота --- ломоть\n",
      "подготовить --- подготовить\n",
      "помощь --- помощь\n",
      "большая --- большая\n",
      "эквивалент --- эквивалент\n",
      "гемостатический --- гем статический\n",
      "купировавшийся --- купил родившийся\n",
      "ревизия --- ревизия\n",
      "пульсирующий --- пуль верующий\n",
      "регистрироваться --- регистрировать я\n",
      "лимитирование --- ли цитирование\n",
      "ометать --- метать\n",
      "стихание --- стирание\n",
      "вазопрессорный --- вазы просторный\n",
      "тредмил --- бредил\n",
      "тест --- тест\n",
      "гипопноэ --- и полной\n",
      "наш --- наш\n",
      "ускоренный --- ускоренный\n",
      "эфффект --- эффект\n",
      "тромбофлебит --- громко лежит\n",
      "ишемический --- ишемической\n",
      "купирование --- копирование\n",
      "патологии --- патологии\n",
      "длительный --- длительный\n",
      "заключение --- заключение\n",
      "пунктировать --- пункт пировать\n",
      "ферритина --- феррит на\n",
      "гастропротективный --- часто продуктивный\n",
      "пароксизм --- марксизм\n",
      "выполнять --- выполнять\n",
      "показатель --- показатель\n",
      "посттромбофлебитический --- посттромбофлебитический\n",
      "анальгин --- аналогии\n",
      "корректировать --- корректировать\n",
      "секунда --- секунда\n",
      "креатинкиназа --- крестик канала\n",
      "утолщение --- утолщение\n",
      "терапия --- терапия\n",
      "глибомёт --- грибом и\n",
      "лобэктомия --- лоб экономия\n",
      "новгородский --- новгородский\n",
      "владеть --- владеть\n",
      "тенденция --- тенденция\n",
      "мерить --- мерить\n",
      "поражений --- поражений\n",
      "перекосить --- переносить\n",
      "тропонин --- топоним\n",
      "сдвиг --- сдвиг\n",
      "отправить --- отправить\n",
      "сжимающее --- сжимающих\n",
      "давящий --- дающий\n",
      "нифедипин --- ниже диких\n",
      "мексикор --- мексики\n",
      "сад --- сад\n",
      "мезентериальный --- без материальный\n",
      "дальнейшей --- дальнейшей\n",
      "реабилитация --- реабилитация\n",
      "переносить --- переносить\n",
      "дискомфорт --- диском форт\n",
      "проявление --- проявление\n",
      "батарея --- батарея\n",
      "фермент --- фермент\n",
      "затёк --- затем\n",
      "непроизвольный --- не произвольный\n",
      "слепок --- слепок\n",
      "тенорик --- тенор к\n",
      "сегмента --- сегмента\n",
      "дрожь --- дрожь\n",
      "появляется --- появляется\n",
      "гепарина --- гепарина\n",
      "предсердие --- предсердия\n",
      "диурез --- и рез\n",
      "фиксировать --- фиксировать\n",
      "временной --- временной\n",
      "микропрепарат --- мир препарат\n",
      "аторвастатин --- автор кстати\n",
      "гипотензия --- гипотезы и\n",
      "грудь --- грудь\n",
      "инфаркт --- инфаркт\n",
      "мононуклеары --- можно нуклеусы\n",
      "постоянно --- постоянно\n",
      "погрузка --- погрузка\n",
      "фармакологический --- фармакологических\n",
      "нестабильный --- нестабильных\n",
      "мертенил --- мер тени\n",
      "тахикардий --- так армий\n",
      "снимать --- снимать\n",
      "распространиться --- распространиться\n",
      "контрпульсатор --- контур пульсаров\n",
      "соталол --- сожалел\n",
      "складываться --- складываться\n",
      "кардиомегалия --- каждом калия\n",
      "смесь --- смесь\n",
      "мкг --- мкг\n",
      "похожий --- похожий\n",
      "аутовенозный --- актов новый\n",
      "гепатина --- гепатита\n",
      "рецидивировать --- рецидив кровать\n",
      "асцит --- акций\n",
      "стенокардия --- стенок армия\n",
      "тысяча --- тысяча\n",
      "промежуточный --- промежуточный\n",
      "возможный --- возможный\n",
      "водка --- водка\n",
      "лимфодиссекция --- лимфы дирекция\n",
      "принимать --- принимать\n",
      "стентирование --- тестирование\n",
      "незначимый --- не значимый\n",
      "настоящее --- настоящее\n",
      "задненижний --- зад нижний\n",
      "частичный --- частичный\n",
      "появиться --- появиться\n",
      "тройной --- тройной\n",
      "показатель --- показатель\n",
      "эквивалент --- эквивалент\n",
      "утолстить --- отомстить\n",
      "поведение --- поведение\n",
      "аускультативный --- мускулы активный\n",
      "отказаться --- отказаться\n",
      "рассмотреть --- рассмотреть\n",
      "сывороточный --- створ точный\n",
      "формирующийся --- формирующихся\n",
      "жир --- жир\n",
      "карведилол --- кара единой\n",
      "тонкий --- тонкий\n",
      "единица --- единица\n",
      "срабатывать --- обрабатывать\n",
      "компрометация --- котором станция\n",
      "россия --- россия\n",
      "массив --- массив\n",
      "нижнебоковой --- нижне боковой\n",
      "отечь --- отеч\n",
      "трепетание --- трепетали\n",
      "конкурировать --- конкурировать\n",
      "событие --- событие\n",
      "незначительный --- незначительный\n",
      "Right corrected words count - 108 of 200 total\n"
     ]
    },
    {
     "data": {
      "text/plain": "{'words_per_second': 983.1152697628412,\n 'error_precision': 0.46,\n 'lexical_precision': 0.54,\n 'overall_precision': 0.5}"
     },
     "execution_count": 83,
     "metadata": {},
     "output_type": "execute_result"
    }
   ],
   "source": [
    "test_symspell_py_lookup_compound_result = compute_all_metrics(\n",
    "    lambda : test_symspell_py_lookup_compound(basic_frequency_dict, error_precision_test_word_list),\n",
    "    lambda : test_symspell_py_lookup_compound(basic_frequency_dict, lexical_precision_test_word_list),\n",
    "    error_precision_test_word_list, error_precision_test_answers, lexical_precision_test_word_list)\n",
    "test_symspell_py_lookup_compound_result"
   ]
  },
  {
   "cell_type": "markdown",
   "source": [
    "# Test SymSpellCppPy - https://github.com/viig99/SymSpellCppPy"
   ],
   "metadata": {
    "collapsed": false,
    "pycharm": {
     "name": "#%% md\n"
    }
   }
  },
  {
   "cell_type": "code",
   "execution_count": 84,
   "outputs": [
    {
     "name": "stdout",
     "output_type": "stream",
     "text": [
      "Requirement already satisfied: wheel in /home/Dmitry.Pogrebnoy/Desktop/MedSpellChecker/venv/lib/python3.9/site-packages (0.36.2)\r\n",
      "Requirement already satisfied: setuptools in /home/Dmitry.Pogrebnoy/Desktop/MedSpellChecker/venv/lib/python3.9/site-packages (57.0.0)\r\n"
     ]
    }
   ],
   "source": [
    "!pip install wheel setuptools"
   ],
   "metadata": {
    "collapsed": false,
    "pycharm": {
     "name": "#%%\n"
    }
   }
  },
  {
   "cell_type": "code",
   "execution_count": 85,
   "outputs": [
    {
     "name": "stdout",
     "output_type": "stream",
     "text": [
      "Collecting SymSpellCppPy\r\n",
      "  Using cached SymSpellCppPy-0.0.14.tar.gz (5.4 MB)\r\n",
      "  Preparing metadata (setup.py) ... \u001B[?25ldone\r\n",
      "\u001B[?25hBuilding wheels for collected packages: SymSpellCppPy\r\n",
      "  Building wheel for SymSpellCppPy (setup.py) ... \u001B[?25lerror\r\n",
      "\u001B[31m  ERROR: Command errored out with exit status 1:\r\n",
      "   command: /home/Dmitry.Pogrebnoy/Desktop/MedSpellChecker/venv/bin/python -u -c 'import io, os, sys, setuptools, tokenize; sys.argv[0] = '\"'\"'/tmp/pip-install-4391b1vo/symspellcpppy_9618546922e64b479305c68fc26dc333/setup.py'\"'\"'; __file__='\"'\"'/tmp/pip-install-4391b1vo/symspellcpppy_9618546922e64b479305c68fc26dc333/setup.py'\"'\"';f = getattr(tokenize, '\"'\"'open'\"'\"', open)(__file__) if os.path.exists(__file__) else io.StringIO('\"'\"'from setuptools import setup; setup()'\"'\"');code = f.read().replace('\"'\"'\\r\\n'\"'\"', '\"'\"'\\n'\"'\"');f.close();exec(compile(code, __file__, '\"'\"'exec'\"'\"'))' bdist_wheel -d /tmp/pip-wheel-j4d4cxme\r\n",
      "       cwd: /tmp/pip-install-4391b1vo/symspellcpppy_9618546922e64b479305c68fc26dc333/\r\n",
      "  Complete output (45 lines):\r\n",
      "  running bdist_wheel\r\n",
      "  running build\r\n",
      "  running build_ext\r\n",
      "  Traceback (most recent call last):\r\n",
      "    File \"/tmp/pip-install-4391b1vo/symspellcpppy_9618546922e64b479305c68fc26dc333/setup.py\", line 29, in run\r\n",
      "      out = subprocess.check_output(['cmake', '--version'])\r\n",
      "    File \"/usr/lib/python3.9/subprocess.py\", line 424, in check_output\r\n",
      "      return run(*popenargs, stdout=PIPE, timeout=timeout, check=True,\r\n",
      "    File \"/usr/lib/python3.9/subprocess.py\", line 505, in run\r\n",
      "      with Popen(*popenargs, **kwargs) as process:\r\n",
      "    File \"/usr/lib/python3.9/subprocess.py\", line 951, in __init__\r\n",
      "      self._execute_child(args, executable, preexec_fn, close_fds,\r\n",
      "    File \"/usr/lib/python3.9/subprocess.py\", line 1821, in _execute_child\r\n",
      "      raise child_exception_type(errno_num, err_msg, err_filename)\r\n",
      "  FileNotFoundError: [Errno 2] No such file or directory: 'cmake'\r\n",
      "  \r\n",
      "  During handling of the above exception, another exception occurred:\r\n",
      "  \r\n",
      "  Traceback (most recent call last):\r\n",
      "    File \"<string>\", line 1, in <module>\r\n",
      "    File \"/tmp/pip-install-4391b1vo/symspellcpppy_9618546922e64b479305c68fc26dc333/setup.py\", line 79, in <module>\r\n",
      "      setup(\r\n",
      "    File \"/home/Dmitry.Pogrebnoy/Desktop/MedSpellChecker/venv/lib/python3.9/site-packages/setuptools/__init__.py\", line 153, in setup\r\n",
      "      return distutils.core.setup(**attrs)\r\n",
      "    File \"/usr/lib/python3.9/distutils/core.py\", line 148, in setup\r\n",
      "      dist.run_commands()\r\n",
      "    File \"/usr/lib/python3.9/distutils/dist.py\", line 966, in run_commands\r\n",
      "      self.run_command(cmd)\r\n",
      "    File \"/usr/lib/python3.9/distutils/dist.py\", line 985, in run_command\r\n",
      "      cmd_obj.run()\r\n",
      "    File \"/home/Dmitry.Pogrebnoy/Desktop/MedSpellChecker/venv/lib/python3.9/site-packages/wheel/bdist_wheel.py\", line 299, in run\r\n",
      "      self.run_command('build')\r\n",
      "    File \"/usr/lib/python3.9/distutils/cmd.py\", line 313, in run_command\r\n",
      "      self.distribution.run_command(command)\r\n",
      "    File \"/usr/lib/python3.9/distutils/dist.py\", line 985, in run_command\r\n",
      "      cmd_obj.run()\r\n",
      "    File \"/usr/lib/python3.9/distutils/command/build.py\", line 135, in run\r\n",
      "      self.run_command(cmd_name)\r\n",
      "    File \"/usr/lib/python3.9/distutils/cmd.py\", line 313, in run_command\r\n",
      "      self.distribution.run_command(command)\r\n",
      "    File \"/usr/lib/python3.9/distutils/dist.py\", line 985, in run_command\r\n",
      "      cmd_obj.run()\r\n",
      "    File \"/tmp/pip-install-4391b1vo/symspellcpppy_9618546922e64b479305c68fc26dc333/setup.py\", line 31, in run\r\n",
      "      raise RuntimeError(\"CMake must be installed to build the following extensions: \" +\r\n",
      "  RuntimeError: CMake must be installed to build the following extensions: SymSpellCppPy\r\n",
      "  ----------------------------------------\u001B[0m\r\n",
      "\u001B[31m  ERROR: Failed building wheel for SymSpellCppPy\u001B[0m\r\n",
      "\u001B[?25h  Running setup.py clean for SymSpellCppPy\r\n",
      "Failed to build SymSpellCppPy\r\n",
      "Installing collected packages: SymSpellCppPy\r\n",
      "    Running setup.py install for SymSpellCppPy ... \u001B[?25lerror\r\n",
      "\u001B[31m    ERROR: Command errored out with exit status 1:\r\n",
      "     command: /home/Dmitry.Pogrebnoy/Desktop/MedSpellChecker/venv/bin/python -u -c 'import io, os, sys, setuptools, tokenize; sys.argv[0] = '\"'\"'/tmp/pip-install-4391b1vo/symspellcpppy_9618546922e64b479305c68fc26dc333/setup.py'\"'\"'; __file__='\"'\"'/tmp/pip-install-4391b1vo/symspellcpppy_9618546922e64b479305c68fc26dc333/setup.py'\"'\"';f = getattr(tokenize, '\"'\"'open'\"'\"', open)(__file__) if os.path.exists(__file__) else io.StringIO('\"'\"'from setuptools import setup; setup()'\"'\"');code = f.read().replace('\"'\"'\\r\\n'\"'\"', '\"'\"'\\n'\"'\"');f.close();exec(compile(code, __file__, '\"'\"'exec'\"'\"'))' install --record /tmp/pip-record-8ap2fi36/install-record.txt --single-version-externally-managed --compile --install-headers /home/Dmitry.Pogrebnoy/Desktop/MedSpellChecker/venv/include/site/python3.9/SymSpellCppPy\r\n",
      "         cwd: /tmp/pip-install-4391b1vo/symspellcpppy_9618546922e64b479305c68fc26dc333/\r\n",
      "    Complete output (47 lines):\r\n",
      "    running install\r\n",
      "    running build\r\n",
      "    running build_ext\r\n",
      "    Traceback (most recent call last):\r\n",
      "      File \"/tmp/pip-install-4391b1vo/symspellcpppy_9618546922e64b479305c68fc26dc333/setup.py\", line 29, in run\r\n",
      "        out = subprocess.check_output(['cmake', '--version'])\r\n",
      "      File \"/usr/lib/python3.9/subprocess.py\", line 424, in check_output\r\n",
      "        return run(*popenargs, stdout=PIPE, timeout=timeout, check=True,\r\n",
      "      File \"/usr/lib/python3.9/subprocess.py\", line 505, in run\r\n",
      "        with Popen(*popenargs, **kwargs) as process:\r\n",
      "      File \"/usr/lib/python3.9/subprocess.py\", line 951, in __init__\r\n",
      "        self._execute_child(args, executable, preexec_fn, close_fds,\r\n",
      "      File \"/usr/lib/python3.9/subprocess.py\", line 1821, in _execute_child\r\n",
      "        raise child_exception_type(errno_num, err_msg, err_filename)\r\n",
      "    FileNotFoundError: [Errno 2] No such file or directory: 'cmake'\r\n",
      "    \r\n",
      "    During handling of the above exception, another exception occurred:\r\n",
      "    \r\n",
      "    Traceback (most recent call last):\r\n",
      "      File \"<string>\", line 1, in <module>\r\n",
      "      File \"/tmp/pip-install-4391b1vo/symspellcpppy_9618546922e64b479305c68fc26dc333/setup.py\", line 79, in <module>\r\n",
      "        setup(\r\n",
      "      File \"/home/Dmitry.Pogrebnoy/Desktop/MedSpellChecker/venv/lib/python3.9/site-packages/setuptools/__init__.py\", line 153, in setup\r\n",
      "        return distutils.core.setup(**attrs)\r\n",
      "      File \"/usr/lib/python3.9/distutils/core.py\", line 148, in setup\r\n",
      "        dist.run_commands()\r\n",
      "      File \"/usr/lib/python3.9/distutils/dist.py\", line 966, in run_commands\r\n",
      "        self.run_command(cmd)\r\n",
      "      File \"/usr/lib/python3.9/distutils/dist.py\", line 985, in run_command\r\n",
      "        cmd_obj.run()\r\n",
      "      File \"/home/Dmitry.Pogrebnoy/Desktop/MedSpellChecker/venv/lib/python3.9/site-packages/setuptools/command/install.py\", line 61, in run\r\n",
      "        return orig.install.run(self)\r\n",
      "      File \"/usr/lib/python3.9/distutils/command/install.py\", line 590, in run\r\n",
      "        self.run_command('build')\r\n",
      "      File \"/usr/lib/python3.9/distutils/cmd.py\", line 313, in run_command\r\n",
      "        self.distribution.run_command(command)\r\n",
      "      File \"/usr/lib/python3.9/distutils/dist.py\", line 985, in run_command\r\n",
      "        cmd_obj.run()\r\n",
      "      File \"/usr/lib/python3.9/distutils/command/build.py\", line 135, in run\r\n",
      "        self.run_command(cmd_name)\r\n",
      "      File \"/usr/lib/python3.9/distutils/cmd.py\", line 313, in run_command\r\n",
      "        self.distribution.run_command(command)\r\n",
      "      File \"/usr/lib/python3.9/distutils/dist.py\", line 985, in run_command\r\n",
      "        cmd_obj.run()\r\n",
      "      File \"/tmp/pip-install-4391b1vo/symspellcpppy_9618546922e64b479305c68fc26dc333/setup.py\", line 31, in run\r\n",
      "        raise RuntimeError(\"CMake must be installed to build the following extensions: \" +\r\n",
      "    RuntimeError: CMake must be installed to build the following extensions: SymSpellCppPy\r\n",
      "    ----------------------------------------\u001B[0m\r\n",
      "\u001B[31mERROR: Command errored out with exit status 1: /home/Dmitry.Pogrebnoy/Desktop/MedSpellChecker/venv/bin/python -u -c 'import io, os, sys, setuptools, tokenize; sys.argv[0] = '\"'\"'/tmp/pip-install-4391b1vo/symspellcpppy_9618546922e64b479305c68fc26dc333/setup.py'\"'\"'; __file__='\"'\"'/tmp/pip-install-4391b1vo/symspellcpppy_9618546922e64b479305c68fc26dc333/setup.py'\"'\"';f = getattr(tokenize, '\"'\"'open'\"'\"', open)(__file__) if os.path.exists(__file__) else io.StringIO('\"'\"'from setuptools import setup; setup()'\"'\"');code = f.read().replace('\"'\"'\\r\\n'\"'\"', '\"'\"'\\n'\"'\"');f.close();exec(compile(code, __file__, '\"'\"'exec'\"'\"'))' install --record /tmp/pip-record-8ap2fi36/install-record.txt --single-version-externally-managed --compile --install-headers /home/Dmitry.Pogrebnoy/Desktop/MedSpellChecker/venv/include/site/python3.9/SymSpellCppPy Check the logs for full command output.\u001B[0m\r\n",
      "\u001B[?25h"
     ]
    }
   ],
   "source": [
    "!pip install --upgrade SymSpellCppPy"
   ],
   "metadata": {
    "collapsed": false,
    "pycharm": {
     "name": "#%%\n"
    }
   }
  },
  {
   "cell_type": "markdown",
   "source": [
    "There was a problem with installing the package. It is still unclear what the reason is. However, this spellchecker should not provide more accuracy, only higher speed since it is implemented in C++. However, the speed of the Python implementation is still enough at this stage.  So I decided to leave it here for now and come back if there is a need for more speed."
   ],
   "metadata": {
    "collapsed": false,
    "pycharm": {
     "name": "#%% md\n"
    }
   }
  },
  {
   "cell_type": "markdown",
   "source": [
    "# Test JumSpell - https://github.com/bakwc/JamSpell"
   ],
   "metadata": {
    "collapsed": false,
    "pycharm": {
     "name": "#%% md\n"
    }
   }
  },
  {
   "cell_type": "markdown",
   "source": [
    "#### Attention No Windows 10 support!"
   ],
   "metadata": {
    "collapsed": false,
    "pycharm": {
     "name": "#%% md\n"
    }
   }
  },
  {
   "cell_type": "markdown",
   "source": [
    "Not working with compound words"
   ],
   "metadata": {
    "collapsed": false,
    "pycharm": {
     "name": "#%% md\n"
    }
   }
  },
  {
   "cell_type": "code",
   "execution_count": 86,
   "outputs": [
    {
     "name": "stdout",
     "output_type": "stream",
     "text": [
      "Collecting jamspell\r\n",
      "  Downloading jamspell-0.0.12.tar.gz (174 kB)\r\n",
      "     |████████████████████████████████| 174 kB 502 kB/s            \r\n",
      "\u001B[?25h  Preparing metadata (setup.py) ... \u001B[?25ldone\r\n",
      "\u001B[?25hBuilding wheels for collected packages: jamspell\r\n",
      "  Building wheel for jamspell (setup.py) ... \u001B[?25ldone\r\n",
      "\u001B[?25h  Created wheel for jamspell: filename=jamspell-0.0.12-cp39-cp39-linux_x86_64.whl size=1901037 sha256=1343f9bc4f2c61c265947402bf02fc8d6a91d39ae67f8491eb93db5d3861ce18\r\n",
      "  Stored in directory: /tmp/pip-ephem-wheel-cache-nvqvqmxt/wheels/fa/7e/8f/c23ae02f1556243d33cc2e3bddf98f8cc146e174e5855788b6\r\n",
      "Successfully built jamspell\r\n",
      "Installing collected packages: jamspell\r\n",
      "Successfully installed jamspell-0.0.12\r\n"
     ]
    }
   ],
   "source": [
    "!pip install -I --no-cache-dir jamspell"
   ],
   "metadata": {
    "collapsed": false,
    "pycharm": {
     "name": "#%%\n"
    }
   }
  },
  {
   "cell_type": "code",
   "execution_count": 87,
   "outputs": [
    {
     "name": "stdout",
     "output_type": "stream",
     "text": [
      "Name: jamspell\r\n",
      "Version: 0.0.12\r\n",
      "Summary: spell checker\r\n",
      "Home-page: https://github.com/bakwc/JamSpell\r\n",
      "Author: Filipp Ozinov\r\n",
      "Author-email: fippo@mail.ru\r\n",
      "License: UNKNOWN\r\n",
      "Location: /home/Dmitry.Pogrebnoy/Desktop/MedSpellChecker/venv/lib/python3.9/site-packages\r\n",
      "Requires: \r\n",
      "Required-by: \r\n"
     ]
    }
   ],
   "source": [
    "!pip show jamspell"
   ],
   "metadata": {
    "collapsed": false,
    "pycharm": {
     "name": "#%%\n"
    }
   }
  },
  {
   "cell_type": "code",
   "execution_count": 88,
   "outputs": [],
   "source": [
    "from jamspell import TSpellCorrector\n",
    "jamspell_model_lib = \"../data/jumspell/ru_small.bin\""
   ],
   "metadata": {
    "collapsed": false,
    "pycharm": {
     "name": "#%%\n"
    }
   }
  },
  {
   "cell_type": "code",
   "execution_count": 89,
   "outputs": [],
   "source": [
    "def test_jamspell(jumspell_model_lib, input_word_list):\n",
    "    jamspell = TSpellCorrector()\n",
    "    jamspell.LoadLangModel(jumspell_model_lib)\n",
    "\n",
    "    result = []\n",
    "    timer = tqdm(input_word_list)\n",
    "    for word in timer:\n",
    "        suggestions = jamspell.FixFragment(word)\n",
    "        result.append(suggestions)\n",
    "    return  {\"elapsed\" : timer.format_dict[\"elapsed\"], \"corrected_word_list\" : result}"
   ],
   "metadata": {
    "collapsed": false,
    "pycharm": {
     "name": "#%%\n"
    }
   }
  },
  {
   "cell_type": "code",
   "execution_count": 90,
   "outputs": [
    {
     "name": "stderr",
     "output_type": "stream",
     "text": [
      "100%|██████████| 200/200 [00:00<00:00, 1504.55it/s]\n"
     ]
    },
    {
     "name": "stdout",
     "output_type": "stream",
     "text": [
      "Error precision\n",
      "original_word_list --- corrected_word --- answer_word_list\n",
      "эктренном --- экстренном --- ['экстренном']\n",
      "синусовго --- синусовго --- ['синусового']\n",
      "даным --- даным --- ['данным', 'данный', 'данные']\n",
      "шнутография --- шнутография --- ['шунтография']\n",
      "сникопальных --- сникопальных --- ['синкопальных']\n",
      "посление --- последние --- ['поселение', 'последний']\n",
      "ходавый --- ходовой --- ['ходовый']\n",
      "анмнезе --- анмнезе --- ['анамнезе', 'анамнез']\n",
      "сентированный --- сентированный --- ['стентированный']\n",
      "самоч --- самом --- ['самочувствие']\n",
      "перевдена --- переведена --- ['переведена']\n",
      "стентированеим --- стентированеим --- ['стентированием', 'стентирование']\n",
      "кардиол --- кардинал --- ['кардиолог,кардиологический']\n",
      "переведна --- переведена --- ['переведена']\n",
      "догосптальном --- догосптальном --- ['догоспитальном']\n",
      "миним --- мини --- ['минимум', 'минимальный']\n",
      "субфебриллитет --- субфебриллитет --- ['субфебрилитет']\n",
      "загрудиные --- загрудиные --- ['загрудинные', 'загрудинный']\n",
      "перферия --- периферия --- ['периферия']\n",
      "течени --- течени --- ['течение']\n",
      "оклюзия --- иллюзия --- ['окклюзия']\n",
      "жнщина --- женщина --- ['женщина']\n",
      "пциент --- пациент --- ['пациент']\n",
      "зарегистирована --- зарегистрирована --- ['зарегистрирована']\n",
      "сегмета --- сегмента --- ['сегмента']\n",
      "клекте --- клетке --- ['клетке']\n",
      "эпид --- спид --- ['эпидемия', 'эпидемиологический', 'эпидуральный']\n",
      "интелектуально --- интелектуально --- ['интеллектуально']\n",
      "нижн --- ниже --- ['нижний']\n",
      "прводилась --- проводилась --- ['проводилась', 'проводить']\n",
      "неуст --- несут --- ['неустановленный']\n",
      "госптализирован --- госпитализирован --- ['госпитализирован']\n",
      "вперые --- впервые --- ['впервые']\n",
      "послеоперационом --- послеоперационом --- ['послеоперационном']\n",
      "госпитализирова --- госпитализирован --- ['госпитализирован']\n",
      "ухудщение --- ухудшение --- ['ухудшение']\n",
      "рентг --- ренты --- ['рентген']\n",
      "дальнешем --- дальнейшем --- ['дальнейшем']\n",
      "троботическая --- троботическая --- ['тромботическая']\n",
      "многосоудистое --- многосоудистое --- ['многососудистое', 'многососудистый']\n",
      "миокрада --- миокарда --- ['миокарда', 'миокард']\n",
      "сопрвождались --- сопровождались --- ['сопровождались']\n",
      "дискмфорт --- дискомфорт --- ['дискомфорт']\n",
      "потлтвостью --- потлтвостью --- ['потливостью']\n",
      "левогожелудочка --- левогожелудочка --- ['левого желудочка', 'левый желудочек']\n",
      "рание --- ранее --- ['ранее', 'ранние']\n",
      "виед --- виде --- ['виде', 'вид']\n",
      "ангинозныеболи --- ангинозныеболи --- ['ангинозные боли', 'ангиозный боль']\n",
      "догоситальном --- догоситальном --- ['догоспитальном']\n",
      "ввполнен --- выполнен --- ['выполнен']\n",
      "чаосв --- часов --- ['часов']\n",
      "октазалась --- оказалась --- ['отказалась']\n",
      "линика --- клиника --- ['клиника']\n",
      "ммента --- момента --- ['момента']\n",
      "проведеной --- проведено --- ['проведенной']\n",
      "выполненяи --- выполнения --- ['выполнения', 'выполнение']\n",
      "леченяи --- лечения --- ['лечения', 'лечение']\n",
      "обтилась --- обтилась --- ['обратилась']\n",
      "повтороно --- повторно --- ['повторно']\n",
      "зарегистриованы --- зарегистрированы --- ['зарегистрированы']\n",
      "отицает --- отрицает --- ['отрицает', 'отрицать']\n",
      "дальнейщем --- дальнейшем --- ['дальнейшем']\n",
      "болисохраняются --- болисохраняются --- ['боли сохраняются']\n",
      "частичынм --- частичынм --- ['частичным']\n",
      "атерокслеротичсекая --- атерокслеротичсекая --- ['атеросклеротическая']\n",
      "деньс --- день --- ['день', 'день с']\n",
      "назначаля --- назначал --- ['назначался']\n",
      "проведеняи --- проведения --- ['проведения']\n",
      "беспакоют --- беспокоит --- ['беспокоят']\n",
      "гипертензи --- гипертензи --- ['гипертензия']\n",
      "воленйбол --- волейбол --- ['волейбол']\n",
      "болезн --- болезни --- ['болезнь']\n",
      "стенокардаа --- стенокардии --- ['стенокардия']\n",
      "продолжалсь --- продолжались --- ['продолжалась']\n",
      "поворное --- повторное --- ['повторное']\n",
      "ощуащет --- ощущает --- ['ощущает']\n",
      "ангигнозного --- ангигнозного --- ['ангинозного', 'ангинозный']\n",
      "диагностичекой --- диагностичекой --- ['диагностической', 'диагностический']\n",
      "поддерживающией --- поддерживающие --- ['поддерживающий']\n",
      "межлопаточнй --- межлопаточнй --- ['межлопаточный']\n",
      "бедреной --- бедреной --- ['бедренной', 'бедренный']\n",
      "гшрядки --- гшрядки --- ['грядки']\n",
      "бассеине --- бассейне --- ['бассейне', 'бассейн']\n",
      "возлуха --- воздуха --- ['воздуха', 'воздух']\n",
      "сенября --- сентября --- ['сентября', 'сентябрь']\n",
      "постояная --- постоянная --- ['постоянная', 'постоянный']\n",
      "рекмоендовнао --- рекомендовано --- ['рекомендовано']\n",
      "поврждения --- повреждения --- ['повреждения']\n",
      "дискофморта --- дискофморта --- ['дискомфорт']\n",
      "импалнтирован --- импалнтирован --- ['имплантирован', 'имплантировать']\n",
      "неочетливая --- неочетливая --- ['неотчетливая', 'неотчетливый']\n",
      "обесвеченный --- обесвеченный --- ['обесцвеченный', 'обеспеченный']\n",
      "серце --- серце --- ['сердце']\n",
      "блезнь --- болезнь --- ['болезнь']\n",
      "лергия --- сергия --- ['аллергия']\n",
      "ука --- ука --- ['рука']\n",
      "изжга --- игра --- ['изжога']\n",
      "жение --- жене --- ['жжение']\n",
      "кашел --- нашел --- ['кашель']\n",
      "рствор --- раствор --- ['раствор']\n",
      "пациен --- пациент --- ['пациент']\n",
      "пожлой --- пожилой --- ['пожилой']\n",
      "лекарсво --- лекарство --- ['лекарство']\n",
      "нпреносимость --- нпреносимость --- ['непереносимость']\n",
      "амупула --- амупула --- ['ампула']\n",
      "гел --- дел --- ['гель']\n",
      "конценрат --- конценрат --- ['концентрат']\n",
      "рилиф --- рилиф --- ['релиф']\n",
      "чссс --- чсср --- ['ЧСС', 'чсс']\n",
      "экгъ --- экг --- ['ЭКГ', 'экг']\n",
      "фибриляция --- фибриляция --- ['фибрилляция']\n",
      "желдочек --- желдочек --- ['желудочек']\n",
      "хрон --- хрон --- ['хронический']\n",
      "гиподин --- господин --- ['гиподинамический']\n",
      "нерный --- черный --- ['нервный']\n",
      "сист --- лист --- ['система']\n",
      "диагоностика --- диагностика --- ['диагностика']\n",
      "гипоксмия --- гипоксмия --- ['гипоксемия']\n",
      "ледокоин --- левочкин --- ['лидокаин']\n",
      "блокато --- блока --- ['блокатор']\n",
      "тахкардия --- тахкардия --- ['тахикардия']\n",
      "малоинвозивный --- малоинвозивный --- ['малоинвазивный']\n",
      "алация --- алания --- ['аблация', 'абляция']\n",
      "имь --- им --- ['ИМ', 'им']\n",
      "паражение --- поражение --- ['поражение']\n",
      "тяжолый --- тяжелый --- ['тяжелый']\n",
      "гастрапластика --- гастрапластика --- ['гастропластика']\n",
      "вс --- вс --- ['вес']\n",
      "лешний --- летний --- ['лишний']\n",
      "орта --- орта --- ['аорта']\n",
      "клапа --- клана --- ['клапан']\n",
      "вент --- сент --- ['вена']\n",
      "палый --- малый --- ['полый']\n",
      "пирикард --- рикардо --- ['перикард']\n",
      "метральный --- центральный --- ['митральный']\n",
      "ултразвук --- ултразвук --- ['ультразвук']\n",
      "херург --- хирург --- ['хирург']\n",
      "кордиолог --- кардиолог --- ['кардиолог']\n",
      "килограм --- килограмм --- ['килограмм']\n",
      "акенезия --- маккензи --- ['акинезия']\n",
      "врхушка --- верхушка --- ['верхушка']\n",
      "апекальный --- апекальный --- ['апикальный']\n",
      "сгмент --- сегмент --- ['сегмент']\n",
      "вес --- вес --- ['весь']\n",
      "сьенка --- стенка --- ['стенка']\n",
      "церкулярный --- церкулярный --- ['циркулярный']\n",
      "сридиный --- середины --- ['срединный']\n",
      "калапаный --- клапаны --- ['клапанный']\n",
      "апарат --- аппарат --- ['аппарат']\n",
      "потология --- патология --- ['патология']\n",
      "перекард --- перекрыт --- ['перикард']\n",
      "праксимальный --- максимальный --- ['проксимальный']\n",
      "деаметр --- диаметр --- ['диаметр']\n",
      "корекция --- коррекция --- ['коррекция']\n",
      "аслажнение --- наслаждение --- ['осложнение']\n",
      "стрдать --- страдать --- ['страдать']\n",
      "гепертонический --- гепертонический --- ['гипертонический']\n",
      "болезн --- болезни --- ['болезнь']\n",
      "одоптировать --- адаптировать --- ['адаптировать']\n",
      "получять --- получить --- ['получать']\n",
      "кансервативный --- консервативный --- ['консервативный']\n",
      "тичение --- течение --- ['течение']\n",
      "пребование --- требование --- ['пребывание']\n",
      "отбиление --- отделение --- ['отделение']\n",
      "самачувствие --- самочувствие --- ['самочувствие']\n",
      "уходшение --- ухудшение --- ['ухудшение']\n",
      "месро --- место --- ['место']\n",
      "пункцыя --- пункты --- ['пункция']\n",
      "особеность --- особенность --- ['особенность']\n",
      "шнут --- кнут --- ['шунт']\n",
      "шнутирование --- шнутирование --- ['шунтирование']\n",
      "готчина --- готчина --- ['гатчина']\n",
      "эхэ --- эхо --- ['эхо']\n",
      "каранарный --- карманный --- ['коронарный']\n",
      "ортерия --- ортерия --- ['артерия']\n",
      "сначимый --- значимый --- ['значимый']\n",
      "стинос --- сильно --- ['стеноз']\n",
      "гаспиализировать --- госпитализировать --- ['госпитализировать']\n",
      "имья --- имя --- ['имя']\n",
      "олмазов --- алмазов --- ['алмазов']\n",
      "прдшствовать --- прдшствовать --- ['предшествовать']\n",
      "стинакардия --- стинакардия --- ['стенокардия']\n",
      "пиринести --- принести --- ['перенести']\n",
      "ифаркт --- инфаркт --- ['инфаркт']\n",
      "моикарда --- миокарда --- ['миокарда']\n",
      "лакализация --- локализация --- ['локализация']\n",
      "спразка --- справка --- ['справка']\n",
      "дальнейшый --- дальнейшей --- ['дальнейший']\n",
      "хроническаянедостаточность --- хроническаянедостаточность --- ['хроническая недостаточность', 'хронический недостаточность']\n",
      "инфарктмиокарда --- инфарктмиокарда --- ['инфаркт миокарда', 'инфаркт миокард']\n",
      "отузла --- отузла --- ['от узла', 'от узел']\n",
      "нарушениеработы --- нарушениеработы --- ['нарушение работы', 'нарушение работа']\n",
      "вминуту --- минуту --- ['в минуту', 'в минута', 'минута']\n",
      "эндокриннойсистемы --- эндокриннойсистемы --- ['эндокринная система', 'эндокринный система']\n",
      "сердечныйритм --- сердечныйритм --- ['сердечный ритм']\n",
      "узловаятахикардия --- узловаятахикардия --- ['узловая тахикардия', 'узловой тахикардия']\n",
      "основныефакторы --- основныефакторы --- ['основной факто', 'основные факторы']\n",
      "остановкасердца --- остановкасердца --- ['остановка сердца', 'остановка сердце']\n",
      "фибрилляцияжелудочков --- фибрилляцияжелудочков --- ['фибрилляция желудочков', 'фибрилляция желудочек']\n",
      "счастотой --- частотой --- ['с частотой', 'с частотаб частота']\n",
      "Right corrected words count - 79 of 200 total\n"
     ]
    },
    {
     "name": "stderr",
     "output_type": "stream",
     "text": [
      "100%|██████████| 200/200 [00:00<00:00, 3234.17it/s]"
     ]
    },
    {
     "name": "stdout",
     "output_type": "stream",
     "text": [
      "Lexical precision\n",
      "original_word_list --- corrected_word\n",
      "выборгский --- выборгский\n",
      "отказываться --- отказываться\n",
      "нитропрепарат --- нитропрепарат\n",
      "предсердие --- предсердие\n",
      "диссоциация --- диссоциация\n",
      "кольцевой --- кольцевой\n",
      "отрыв --- отрыв\n",
      "вовлечение --- вовлечение\n",
      "мелкопузырчатый --- мелкопузырчатый\n",
      "госпитализировать --- госпитализировать\n",
      "фтизиатр --- фтизиатр\n",
      "проксимальный --- проксимальный\n",
      "приступ --- приступ\n",
      "рецидивировать --- рецидивировать\n",
      "беспокоить --- беспокоить\n",
      "значимый --- значимый\n",
      "одномоментный --- одномоментный\n",
      "течение --- течение\n",
      "постепенной --- постепенной\n",
      "трафика --- трафика\n",
      "левый --- левый\n",
      "область --- область\n",
      "окклюзия --- окклюзия\n",
      "каждый --- каждый\n",
      "аторвастатина --- аторвастатина\n",
      "проникающий --- проникающий\n",
      "слух --- слух\n",
      "отрицательный --- отрицательный\n",
      "заднее --- заднее\n",
      "диафрагмальный --- диафрагмальный\n",
      "физическая --- физическая\n",
      "реваскуляризация --- реваскуляризация\n",
      "очевидный --- очевидный\n",
      "умеренный --- умеренный\n",
      "самостоятельный --- самостоятельный\n",
      "визуализация --- визуализация\n",
      "неселективный --- неселективный\n",
      "септопластика --- септопластика\n",
      "присутствие --- присутствие\n",
      "соустье --- составе\n",
      "кировский --- кировский\n",
      "ноющая --- ноющая\n",
      "постоять --- постоять\n",
      "стенка --- стенка\n",
      "укоротить --- укоротить\n",
      "назначить --- назначить\n",
      "госпитализация --- госпитализация\n",
      "возобновление --- возобновление\n",
      "одеть --- одеть\n",
      "охранник --- охранник\n",
      "дексона --- джексона\n",
      "систолический --- систолический\n",
      "верхушечно-перегородочный --- верхушечно-перегородочный\n",
      "расширение --- расширение\n",
      "равнозначный --- равнозначный\n",
      "предприятие --- предприятие\n",
      "ночь --- ночь\n",
      "вредность --- вредность\n",
      "транспортировка --- транспортировка\n",
      "март --- март\n",
      "гипотиазид --- гипотиазид\n",
      "скрытый --- скрытый\n",
      "расстройство --- расстройство\n",
      "ломота --- ломота\n",
      "подготовить --- подготовить\n",
      "помощь --- помощь\n",
      "большая --- большая\n",
      "эквивалент --- эквивалент\n",
      "гемостатический --- гемостатический\n",
      "купировавшийся --- купировавшийся\n",
      "ревизия --- ревизия\n",
      "пульсирующий --- пульсирующий\n",
      "регистрироваться --- регистрироваться\n",
      "лимитирование --- лимитирование\n",
      "ометать --- ометать\n",
      "стихание --- стихание\n",
      "вазопрессорный --- вазопрессорный\n",
      "тредмил --- учредил\n",
      "тест --- тест\n",
      "гипопноэ --- гипопноэ\n",
      "наш --- наш\n",
      "ускоренный --- ускоренный\n",
      "эфффект --- эффект\n",
      "тромбофлебит --- тромбофлебит\n",
      "ишемический --- ишемический\n",
      "купирование --- копирование\n",
      "патологии --- патологии\n",
      "длительный --- длительный\n",
      "заключение --- заключение\n",
      "пунктировать --- пунктировать\n",
      "ферритина --- ферритина\n",
      "гастропротективный --- гастропротективный\n",
      "пароксизм --- пароксизм\n",
      "выполнять --- выполнять\n",
      "показатель --- показатель\n",
      "посттромбофлебитический --- посттромбофлебитический\n",
      "анальгин --- анальгин\n",
      "корректировать --- корректировать\n",
      "секунда --- секунда\n",
      "креатинкиназа --- креатинкиназа\n",
      "утолщение --- утолщение\n",
      "терапия --- терапия\n",
      "глибомёт --- глибомёт\n",
      "лобэктомия --- лобэктомия\n",
      "новгородский --- новгородский\n",
      "владеть --- владеть\n",
      "тенденция --- тенденция\n",
      "мерить --- мерить\n",
      "поражений --- поражений\n",
      "перекосить --- переносить\n",
      "тропонин --- топоним\n",
      "сдвиг --- сдвиг\n",
      "отправить --- отправить\n",
      "сжимающее --- сжимающее\n",
      "давящий --- давящий\n",
      "нифедипин --- нифедипин\n",
      "мексикор --- мексико\n",
      "сад --- сад\n",
      "мезентериальный --- мезентериальный\n",
      "дальнейшей --- дальнейшей\n",
      "реабилитация --- реабилитация\n",
      "переносить --- переносить\n",
      "дискомфорт --- дискомфорт\n",
      "проявление --- проявление\n",
      "батарея --- батарея\n",
      "фермент --- фермент\n",
      "затёк --- затёк\n",
      "непроизвольный --- непроизвольный\n",
      "слепок --- слепок\n",
      "тенорик --- вторник\n",
      "сегмента --- сегмента\n",
      "дрожь --- дрожь\n",
      "появляется --- появляется\n",
      "гепарина --- гепарина\n",
      "предсердие --- предсердие\n",
      "диурез --- диурез\n",
      "фиксировать --- фиксировать\n",
      "временной --- временной\n",
      "микропрепарат --- микропрепарат\n",
      "аторвастатин --- аторвастатин\n",
      "гипотензия --- гипотензия\n",
      "грудь --- грудь\n",
      "инфаркт --- инфаркт\n",
      "мононуклеары --- мононуклеары\n",
      "постоянно --- постоянно\n",
      "погрузка --- погрузка\n",
      "фармакологический --- фармакологический\n",
      "нестабильный --- нестабильный\n",
      "мертенил --- смертник\n",
      "тахикардий --- тахикардий\n",
      "снимать --- снимать\n",
      "распространиться --- распространиться\n",
      "контрпульсатор --- контрпульсатор\n",
      "соталол --- стало\n",
      "складываться --- складываться\n",
      "кардиомегалия --- кардиомегалия\n",
      "смесь --- смесь\n",
      "мкг --- мкг\n",
      "похожий --- похожий\n",
      "аутовенозный --- аутовенозный\n",
      "гепатина --- гепатита\n",
      "рецидивировать --- рецидивировать\n",
      "асцит --- асцит\n",
      "стенокардия --- стенокардия\n",
      "тысяча --- тысяча\n",
      "промежуточный --- промежуточный\n",
      "возможный --- возможный\n",
      "водка --- водка\n",
      "лимфодиссекция --- лимфодиссекция\n",
      "принимать --- принимать\n",
      "стентирование --- стентирование\n",
      "незначимый --- значимый\n",
      "настоящее --- настоящее\n",
      "задненижний --- задненижний\n",
      "частичный --- частичный\n",
      "появиться --- появиться\n",
      "тройной --- тройной\n",
      "показатель --- показатель\n",
      "эквивалент --- эквивалент\n",
      "утолстить --- отомстить\n",
      "поведение --- поведение\n",
      "аускультативный --- аускультативный\n",
      "отказаться --- отказаться\n",
      "рассмотреть --- рассмотреть\n",
      "сывороточный --- сывороточный\n",
      "формирующийся --- формирующийся\n",
      "жир --- жир\n",
      "карведилол --- карведилол\n",
      "тонкий --- тонкий\n",
      "единица --- единица\n",
      "срабатывать --- срабатывать\n",
      "компрометация --- компрометация\n",
      "россия --- россия\n",
      "массив --- массив\n",
      "нижнебоковой --- нижнебоковой\n",
      "отечь --- отель\n",
      "трепетание --- трепетание\n",
      "конкурировать --- конкурировать\n",
      "событие --- событие\n",
      "незначительный --- незначительный\n",
      "Right corrected words count - 185 of 200 total\n"
     ]
    },
    {
     "name": "stderr",
     "output_type": "stream",
     "text": [
      "\n"
     ]
    },
    {
     "data": {
      "text/plain": "{'words_per_second': 2043.1763877759295,\n 'error_precision': 0.395,\n 'lexical_precision': 0.925,\n 'overall_precision': 0.66}"
     },
     "execution_count": 90,
     "metadata": {},
     "output_type": "execute_result"
    }
   ],
   "source": [
    "test_jumspell_result = compute_all_metrics(\n",
    "    lambda : test_jamspell(jamspell_model_lib, error_precision_test_word_list),\n",
    "    lambda : test_jamspell(jamspell_model_lib, lexical_precision_test_word_list),\n",
    "    error_precision_test_word_list, error_precision_test_answers, lexical_precision_test_word_list)\n",
    "test_jumspell_result"
   ],
   "metadata": {
    "collapsed": false,
    "pycharm": {
     "name": "#%%\n"
    }
   }
  },
  {
   "cell_type": "markdown",
   "source": [
    "# Test Language-tool (language-tool-python) - https://github.com/jxmorris12/language_tool_python"
   ],
   "metadata": {
    "collapsed": false,
    "pycharm": {
     "name": "#%% md\n"
    }
   }
  },
  {
   "cell_type": "code",
   "execution_count": 2,
   "outputs": [
    {
     "name": "stdout",
     "output_type": "stream",
     "text": [
      "Collecting language-tool-python\r\n",
      "  Downloading language_tool_python-2.7.1-py3-none-any.whl (34 kB)\r\n",
      "Requirement already satisfied: requests in /home/Dmitry.Pogrebnoy/Desktop/MedSpellChecker/venv/lib/python3.9/site-packages (from language-tool-python) (2.27.1)\r\n",
      "Requirement already satisfied: tqdm in /home/Dmitry.Pogrebnoy/Desktop/MedSpellChecker/venv/lib/python3.9/site-packages (from language-tool-python) (4.62.3)\r\n",
      "Requirement already satisfied: charset-normalizer~=2.0.0 in /home/Dmitry.Pogrebnoy/Desktop/MedSpellChecker/venv/lib/python3.9/site-packages (from requests->language-tool-python) (2.0.12)\r\n",
      "Requirement already satisfied: urllib3<1.27,>=1.21.1 in /home/Dmitry.Pogrebnoy/Desktop/MedSpellChecker/venv/lib/python3.9/site-packages (from requests->language-tool-python) (1.26.9)\r\n",
      "Requirement already satisfied: idna<4,>=2.5 in /home/Dmitry.Pogrebnoy/Desktop/MedSpellChecker/venv/lib/python3.9/site-packages (from requests->language-tool-python) (3.3)\r\n",
      "Requirement already satisfied: certifi>=2017.4.17 in /home/Dmitry.Pogrebnoy/Desktop/MedSpellChecker/venv/lib/python3.9/site-packages (from requests->language-tool-python) (2021.10.8)\r\n",
      "Installing collected packages: language-tool-python\r\n",
      "Successfully installed language-tool-python-2.7.1\r\n"
     ]
    }
   ],
   "source": [
    "!pip install language-tool-python"
   ],
   "metadata": {
    "collapsed": false,
    "pycharm": {
     "name": "#%%\n"
    }
   }
  },
  {
   "cell_type": "code",
   "execution_count": 3,
   "outputs": [
    {
     "name": "stdout",
     "output_type": "stream",
     "text": [
      "Name: language-tool-python\r\n",
      "Version: 2.7.1\r\n",
      "Summary: Checks grammar using LanguageTool.\r\n",
      "Home-page: https://github.com/jxmorris12/language_tool_python\r\n",
      "Author: Jack Morris\r\n",
      "Author-email: jxmorris12@gmail.com\r\n",
      "License: GNU GPL\r\n",
      "Location: /home/Dmitry.Pogrebnoy/Desktop/MedSpellChecker/venv/lib/python3.9/site-packages\r\n",
      "Requires: requests, tqdm\r\n",
      "Required-by: \r\n"
     ]
    }
   ],
   "source": [
    "!pip show language-tool-python"
   ],
   "metadata": {
    "collapsed": false,
    "pycharm": {
     "name": "#%%\n"
    }
   }
  },
  {
   "cell_type": "code",
   "execution_count": 93,
   "outputs": [],
   "source": [
    "from language_tool_python import LanguageTool"
   ],
   "metadata": {
    "collapsed": false,
    "pycharm": {
     "name": "#%%\n"
    }
   }
  },
  {
   "cell_type": "code",
   "execution_count": 94,
   "outputs": [],
   "source": [
    "def test_language_tool(input_word_list):\n",
    "    tool = LanguageTool('ru')\n",
    "    result = []\n",
    "    timer = tqdm(input_word_list)\n",
    "    for word in timer:\n",
    "        suggestions = tool.correct(word)\n",
    "        result.append(suggestions)\n",
    "    return  {\"elapsed\" : timer.format_dict[\"elapsed\"], \"corrected_word_list\" : result}"
   ],
   "metadata": {
    "collapsed": false,
    "pycharm": {
     "name": "#%%\n"
    }
   }
  },
  {
   "cell_type": "code",
   "execution_count": 95,
   "outputs": [
    {
     "name": "stderr",
     "output_type": "stream",
     "text": [
      "100%|██████████| 200/200 [00:10<00:00, 19.31it/s]\n"
     ]
    },
    {
     "name": "stdout",
     "output_type": "stream",
     "text": [
      "Error precision\n",
      "original_word_list --- corrected_word --- answer_word_list\n",
      "эктренном --- экстренном --- ['экстренном']\n",
      "синусовго --- синусового --- ['синусового']\n",
      "даным --- данным --- ['данным', 'данный', 'данные']\n",
      "шнутография --- фотография --- ['шунтография']\n",
      "сникопальных --- сник опальных --- ['синкопальных']\n",
      "посление --- послание --- ['поселение', 'последний']\n",
      "ходавый --- ходовой --- ['ходовый']\n",
      "анмнезе --- анамнезе --- ['анамнезе', 'анамнез']\n",
      "сентированный --- сен тированный --- ['стентированный']\n",
      "самоч --- само --- ['самочувствие']\n",
      "перевдена --- передвину --- ['переведена']\n",
      "стентированеим --- агентированием --- ['стентированием', 'стентирование']\n",
      "кардиол --- кардио --- ['кардиолог,кардиологический']\n",
      "переведна --- переведена --- ['переведена']\n",
      "догосптальном --- догоспитальном --- ['догоспитальном']\n",
      "миним --- менем --- ['минимум', 'минимальный']\n",
      "субфебриллитет --- субфебрилитет --- ['субфебрилитет']\n",
      "загрудиные --- загруженные --- ['загрудинные', 'загрудинный']\n",
      "перферия --- периферия --- ['периферия']\n",
      "течени --- тичине --- ['течение']\n",
      "оклюзия --- окклюзия --- ['окклюзия']\n",
      "жнщина --- женщина --- ['женщина']\n",
      "пциент --- пациент --- ['пациент']\n",
      "зарегистирована --- зарегистрирована --- ['зарегистрирована']\n",
      "сегмета --- сегмента --- ['сегмента']\n",
      "клекте --- клёкоте --- ['клетке']\n",
      "эпид --- спид --- ['эпидемия', 'эпидемиологический', 'эпидуральный']\n",
      "интелектуально --- интеллектуально --- ['интеллектуально']\n",
      "нижн --- нежно --- ['нижний']\n",
      "прводилась --- поводилась --- ['проводилась', 'проводить']\n",
      "неуст --- неуют --- ['неустановленный']\n",
      "госптализирован --- госпитализирован --- ['госпитализирован']\n",
      "вперые --- впервые --- ['впервые']\n",
      "послеоперационом --- послеоперационном --- ['послеоперационном']\n",
      "госпитализирова --- госпитализировал --- ['госпитализирован']\n",
      "ухудщение --- ухудшение --- ['ухудшение']\n",
      "рентг --- рента --- ['рентген']\n",
      "дальнешем --- дальнейшем --- ['дальнейшем']\n",
      "троботическая --- акробатическая --- ['тромботическая']\n",
      "многосоудистое --- многосернистое --- ['многососудистое', 'многососудистый']\n",
      "миокрада --- миокарда --- ['миокарда', 'миокард']\n",
      "сопрвождались --- сопровождались --- ['сопровождались']\n",
      "дискмфорт --- дискомфорт --- ['дискомфорт']\n",
      "потлтвостью --- потливостью --- ['потливостью']\n",
      "левогожелудочка --- левого желудочка --- ['левого желудочка', 'левый желудочек']\n",
      "рание --- ранее --- ['ранее', 'ранние']\n",
      "виед --- вид --- ['виде', 'вид']\n",
      "ангинозныеболи --- ангинозные боли --- ['ангинозные боли', 'ангиозный боль']\n",
      "догоситальном --- догоспитальном --- ['догоспитальном']\n",
      "ввполнен --- выполнен --- ['выполнен']\n",
      "чаосв --- чаёв --- ['часов']\n",
      "октазалась --- оказалась --- ['отказалась']\n",
      "линика --- ленника --- ['клиника']\n",
      "ммента --- мента --- ['момента']\n",
      "проведеной --- проведённой --- ['проведенной']\n",
      "выполненяи --- выполнение --- ['выполнения', 'выполнение']\n",
      "леченяи --- лечение --- ['лечения', 'лечение']\n",
      "обтилась --- оббилась --- ['обратилась']\n",
      "повтороно --- повторно --- ['повторно']\n",
      "зарегистриованы --- зарегистрированы --- ['зарегистрированы']\n",
      "отицает --- отекает --- ['отрицает', 'отрицать']\n",
      "дальнейщем --- дальнейшем --- ['дальнейшем']\n",
      "болисохраняются --- боли сохраняются --- ['боли сохраняются']\n",
      "частичынм --- частичным --- ['частичным']\n",
      "атерокслеротичсекая --- атеросклеротическая --- ['атеросклеротическая']\n",
      "деньс --- день --- ['день', 'день с']\n",
      "назначаля --- назначал --- ['назначался']\n",
      "проведеняи --- проведение --- ['проведения']\n",
      "беспакоют --- беспокоить --- ['беспокоят']\n",
      "гипертензи --- гипертензию --- ['гипертензия']\n",
      "воленйбол --- волейбол --- ['волейбол']\n",
      "болезн --- болезнь --- ['болезнь']\n",
      "стенокардаа --- стенокардия --- ['стенокардия']\n",
      "продолжалсь --- продолжаюсь --- ['продолжалась']\n",
      "поворное --- говорное --- ['повторное']\n",
      "ощуащет --- ощущает --- ['ощущает']\n",
      "ангигнозного --- ангинозного --- ['ангинозного', 'ангинозный']\n",
      "диагностичекой --- диагностической --- ['диагностической', 'диагностический']\n",
      "поддерживающией --- поддерживающее --- ['поддерживающий']\n",
      "межлопаточнй --- межлопаточной --- ['межлопаточный']\n",
      "бедреной --- бедренной --- ['бедренной', 'бедренный']\n",
      "гшрядки --- грядки --- ['грядки']\n",
      "бассеине --- бассейне --- ['бассейне', 'бассейн']\n",
      "возлуха --- воздуха --- ['воздуха', 'воздух']\n",
      "сенября --- сентября --- ['сентября', 'сентябрь']\n",
      "постояная --- постоянная --- ['постоянная', 'постоянный']\n",
      "рекмоендовнао --- рекомендовано --- ['рекомендовано']\n",
      "поврждения --- повреждения --- ['повреждения']\n",
      "дискофморта --- дискомфорта --- ['дискомфорт']\n",
      "импалнтирован --- имплантирован --- ['имплантирован', 'имплантировать']\n",
      "неочетливая --- неотчетливая --- ['неотчетливая', 'неотчетливый']\n",
      "обесвеченный --- обесцвеченный --- ['обесцвеченный', 'обеспеченный']\n",
      "серце --- сердце --- ['сердце']\n",
      "блезнь --- болезнь --- ['болезнь']\n",
      "лергия --- гергия --- ['аллергия']\n",
      "ука --- ука --- ['рука']\n",
      "изжга --- изжога --- ['изжога']\n",
      "жение --- жении --- ['жжение']\n",
      "кашел --- котел --- ['кашель']\n",
      "рствор --- раствор --- ['раствор']\n",
      "пациен --- пациент --- ['пациент']\n",
      "пожлой --- пожилой --- ['пожилой']\n",
      "лекарсво --- лекарство --- ['лекарство']\n",
      "нпреносимость --- непереносимость --- ['непереносимость']\n",
      "амупула --- ампула --- ['ампула']\n",
      "гел --- гелл --- ['гель']\n",
      "конценрат --- концентрат --- ['концентрат']\n",
      "рилиф --- реле --- ['релиф']\n",
      "чссс --- чсср --- ['ЧСС', 'чсс']\n",
      "экгъ --- его --- ['ЭКГ', 'экг']\n",
      "фибриляция --- фибрилляция --- ['фибрилляция']\n",
      "желдочек --- желудочек --- ['желудочек']\n",
      "хрон --- хрен --- ['хронический']\n",
      "гиподин --- гип один --- ['гиподинамический']\n",
      "нерный --- черный --- ['нервный']\n",
      "сист --- сист --- ['система']\n",
      "диагоностика --- диагностика --- ['диагностика']\n",
      "гипоксмия --- гипоксемия --- ['гипоксемия']\n",
      "ледокоин --- лидокаин --- ['лидокаин']\n",
      "блокато --- блокатор --- ['блокатор']\n",
      "тахкардия --- тахикардия --- ['тахикардия']\n",
      "малоинвозивный --- малоинвозивный --- ['малоинвазивный']\n",
      "алация --- акация --- ['аблация', 'абляция']\n",
      "имь --- имя --- ['ИМ', 'им']\n",
      "паражение --- поражение --- ['поражение']\n",
      "тяжолый --- тяжёлый --- ['тяжелый']\n",
      "гастрапластика --- аутопластика --- ['гастропластика']\n",
      "вс --- вс --- ['вес']\n",
      "лешний --- лишний --- ['лишний']\n",
      "орта --- орта --- ['аорта']\n",
      "клапа --- клапа --- ['клапан']\n",
      "вент --- вент --- ['вена']\n",
      "палый --- палый --- ['полый']\n",
      "пирикард --- перикард --- ['перикард']\n",
      "метральный --- митральный --- ['митральный']\n",
      "ултразвук --- ультразвук --- ['ультразвук']\n",
      "херург --- хирург --- ['хирург']\n",
      "кордиолог --- кардиолог --- ['кардиолог']\n",
      "килограм --- килограмм --- ['килограмм']\n",
      "акенезия --- акинезия --- ['акинезия']\n",
      "врхушка --- верхушка --- ['верхушка']\n",
      "апекальный --- апикальный --- ['апикальный']\n",
      "сгмент --- сегмент --- ['сегмент']\n",
      "вес --- вес --- ['весь']\n",
      "сьенка --- стенка --- ['стенка']\n",
      "церкулярный --- циркулярный --- ['циркулярный']\n",
      "сридиный --- срединный --- ['срединный']\n",
      "калапаный --- колупанный --- ['клапанный']\n",
      "апарат --- опорот --- ['аппарат']\n",
      "потология --- патология --- ['патология']\n",
      "перекард --- перикард --- ['перикард']\n",
      "праксимальный --- проксимальный --- ['проксимальный']\n",
      "деаметр --- диаметр --- ['диаметр']\n",
      "корекция --- коррекция --- ['коррекция']\n",
      "аслажнение --- осложнение --- ['осложнение']\n",
      "стрдать --- страдать --- ['страдать']\n",
      "гепертонический --- гипертонический --- ['гипертонический']\n",
      "болезн --- болезнь --- ['болезнь']\n",
      "одоптировать --- адоптировать --- ['адаптировать']\n",
      "получять --- получить --- ['получать']\n",
      "кансервативный --- консервативный --- ['консервативный']\n",
      "тичение --- течение --- ['течение']\n",
      "пребование --- требование --- ['пребывание']\n",
      "отбиление --- отделение --- ['отделение']\n",
      "самачувствие --- самочувствие --- ['самочувствие']\n",
      "уходшение --- ухудшение --- ['ухудшение']\n",
      "месро --- место --- ['место']\n",
      "пункцыя --- пункция --- ['пункция']\n",
      "особеность --- особенность --- ['особенность']\n",
      "шнут --- шнур --- ['шунт']\n",
      "шнутирование --- шунтирование --- ['шунтирование']\n",
      "готчина --- вотчина --- ['гатчина']\n",
      "эхэ --- эхе --- ['эхо']\n",
      "каранарный --- коронарный --- ['коронарный']\n",
      "ортерия --- артерия --- ['артерия']\n",
      "сначимый --- значимый --- ['значимый']\n",
      "стинос --- стенной --- ['стеноз']\n",
      "гаспиализировать --- госпитализировать --- ['госпитализировать']\n",
      "имья --- имя --- ['имя']\n",
      "олмазов --- алмазов --- ['алмазов']\n",
      "прдшствовать --- предшествовать --- ['предшествовать']\n",
      "стинакардия --- стенокардия --- ['стенокардия']\n",
      "пиринести --- перенести --- ['перенести']\n",
      "ифаркт --- инфаркт --- ['инфаркт']\n",
      "моикарда --- миокарда --- ['миокарда']\n",
      "лакализация --- локализация --- ['локализация']\n",
      "спразка --- справка --- ['справка']\n",
      "дальнейшый --- дальнейший --- ['дальнейший']\n",
      "хроническаянедостаточность --- хроническая недостаточность --- ['хроническая недостаточность', 'хронический недостаточность']\n",
      "инфарктмиокарда --- инфаркт миокарда --- ['инфаркт миокарда', 'инфаркт миокард']\n",
      "отузла --- от узла --- ['от узла', 'от узел']\n",
      "нарушениеработы --- нарушение работы --- ['нарушение работы', 'нарушение работа']\n",
      "вминуту --- минуту --- ['в минуту', 'в минута', 'минута']\n",
      "эндокриннойсистемы --- эндокринной системы --- ['эндокринная система', 'эндокринный система']\n",
      "сердечныйритм --- сердечный ритм --- ['сердечный ритм']\n",
      "узловаятахикардия --- узловая тахикардия --- ['узловая тахикардия', 'узловой тахикардия']\n",
      "основныефакторы --- основные факторы --- ['основной факто', 'основные факторы']\n",
      "остановкасердца --- остановка сердца --- ['остановка сердца', 'остановка сердце']\n",
      "фибрилляцияжелудочков --- фибрилляция желудочков --- ['фибрилляция желудочков', 'фибрилляция желудочек']\n",
      "счастотой --- частотой --- ['с частотой', 'с частотаб частота']\n",
      "Right corrected words count - 128 of 200 total\n"
     ]
    },
    {
     "name": "stderr",
     "output_type": "stream",
     "text": [
      "100%|██████████| 200/200 [00:10<00:00, 18.86it/s]"
     ]
    },
    {
     "name": "stdout",
     "output_type": "stream",
     "text": [
      "Lexical precision\n",
      "original_word_list --- corrected_word\n",
      "выборгский --- выборгский\n",
      "отказываться --- отказываться\n",
      "нитропрепарат --- биопрепарат\n",
      "предсердие --- предсердие\n",
      "диссоциация --- диссоциация\n",
      "кольцевой --- кольцевой\n",
      "отрыв --- отрыв\n",
      "вовлечение --- вовлечение\n",
      "мелкопузырчатый --- мелкопузырчатый\n",
      "госпитализировать --- госпитализировать\n",
      "фтизиатр --- фтизиатр\n",
      "проксимальный --- проксимальный\n",
      "приступ --- приступ\n",
      "рецидивировать --- рецензировать\n",
      "беспокоить --- беспокоить\n",
      "значимый --- значимый\n",
      "одномоментный --- одномоментный\n",
      "течение --- течение\n",
      "постепенной --- постепенной\n",
      "трафика --- трафика\n",
      "левый --- левый\n",
      "область --- область\n",
      "окклюзия --- окклюзия\n",
      "каждый --- каждый\n",
      "аторвастатина --- аторвастатина\n",
      "проникающий --- проникающий\n",
      "слух --- слух\n",
      "отрицательный --- отрицательный\n",
      "заднее --- заднее\n",
      "диафрагмальный --- диафрагмальный\n",
      "физическая --- физическая\n",
      "реваскуляризация --- ре васкуляризация\n",
      "очевидный --- очевидный\n",
      "умеренный --- умеренный\n",
      "самостоятельный --- самостоятельный\n",
      "визуализация --- визуализация\n",
      "неселективный --- неселективный\n",
      "септопластика --- аутопластика\n",
      "присутствие --- присутствие\n",
      "соустье --- соустье\n",
      "кировский --- кировский\n",
      "ноющая --- ноющая\n",
      "постоять --- постоять\n",
      "стенка --- стенка\n",
      "укоротить --- укоротить\n",
      "назначить --- назначить\n",
      "госпитализация --- госпитализация\n",
      "возобновление --- возобновление\n",
      "одеть --- одеть\n",
      "охранник --- охранник\n",
      "дексона --- диксона\n",
      "систолический --- систолический\n",
      "верхушечно-перегородочный --- верхушечно-перегородочный\n",
      "расширение --- расширение\n",
      "равнозначный --- равнозначный\n",
      "предприятие --- предприятие\n",
      "ночь --- ночь\n",
      "вредность --- вредность\n",
      "транспортировка --- транспортировка\n",
      "март --- март\n",
      "гипотиазид --- гипотензию\n",
      "скрытый --- скрытый\n",
      "расстройство --- расстройство\n",
      "ломота --- ломота\n",
      "подготовить --- подготовить\n",
      "помощь --- помощь\n",
      "большая --- большая\n",
      "эквивалент --- эквивалент\n",
      "гемостатический --- гипостатический\n",
      "купировавшийся --- копировавшейся\n",
      "ревизия --- ревизия\n",
      "пульсирующий --- пульсирующий\n",
      "регистрироваться --- регистрироваться\n",
      "лимитирование --- лимитирование\n",
      "ометать --- обитать\n",
      "стихание --- стихание\n",
      "вазопрессорный --- газопрессовый\n",
      "тредмил --- тред мил\n",
      "тест --- тест\n",
      "гипопноэ --- цепочное\n",
      "наш --- наш\n",
      "ускоренный --- ускоренный\n",
      "эфффект --- эффект\n",
      "тромбофлебит --- тромбофлебит\n",
      "ишемический --- ишемический\n",
      "купирование --- купирование\n",
      "патологии --- патологии\n",
      "длительный --- длительный\n",
      "заключение --- заключение\n",
      "пунктировать --- пунктировать\n",
      "ферритина --- ферри тина\n",
      "гастропротективный --- гастропротективный\n",
      "пароксизм --- пароксизм\n",
      "выполнять --- выполнять\n",
      "показатель --- показатель\n",
      "посттромбофлебитический --- посттромбофлебитический\n",
      "анальгин --- анальгин\n",
      "корректировать --- корректировать\n",
      "секунда --- секунда\n",
      "креатинкиназа --- креатинкиназа\n",
      "утолщение --- утолщение\n",
      "терапия --- терапия\n",
      "глибомёт --- глебом\n",
      "лобэктомия --- лобэктомия\n",
      "новгородский --- новгородский\n",
      "владеть --- владеть\n",
      "тенденция --- тенденция\n",
      "мерить --- мерить\n",
      "поражений --- поражений\n",
      "перекосить --- перекосить\n",
      "тропонин --- тропинин\n",
      "сдвиг --- сдвиг\n",
      "отправить --- отправить\n",
      "сжимающее --- сжимающее\n",
      "давящий --- давящий\n",
      "нифедипин --- нефедовен\n",
      "мексикор --- мексикою\n",
      "сад --- сад\n",
      "мезентериальный --- мезентериальный\n",
      "дальнейшей --- дальнейшей\n",
      "реабилитация --- реабилитация\n",
      "переносить --- переносить\n",
      "дискомфорт --- дискомфорт\n",
      "проявление --- проявление\n",
      "батарея --- батарея\n",
      "фермент --- фермент\n",
      "затёк --- затёк\n",
      "непроизвольный --- непроизвольный\n",
      "слепок --- слепок\n",
      "тенорик --- тенорок\n",
      "сегмента --- сегмента\n",
      "дрожь --- дрожь\n",
      "появляется --- появляется\n",
      "гепарина --- гепарина\n",
      "предсердие --- предсердие\n",
      "диурез --- диурез\n",
      "фиксировать --- фиксировать\n",
      "временной --- временной\n",
      "микропрепарат --- микро препарат\n",
      "аторвастатин --- аторвастатин\n",
      "гипотензия --- гипотензия\n",
      "грудь --- грудь\n",
      "инфаркт --- инфаркт\n",
      "мононуклеары --- мононуклеозы\n",
      "постоянно --- постоянно\n",
      "погрузка --- погрузка\n",
      "фармакологический --- фармакологический\n",
      "нестабильный --- нестабильный\n",
      "мертенил --- мер тенил\n",
      "тахикардий --- тахикардий\n",
      "снимать --- снимать\n",
      "распространиться --- распространиться\n",
      "контрпульсатор --- контр пульсатор\n",
      "соталол --- потолок\n",
      "складываться --- складываться\n",
      "кардиомегалия --- акромегалия\n",
      "смесь --- смесь\n",
      "мкг --- мкг\n",
      "похожий --- похожий\n",
      "аутовенозный --- аутогенный\n",
      "гепатина --- гипотеза\n",
      "рецидивировать --- рецензировать\n",
      "асцит --- асцит\n",
      "стенокардия --- стенокардия\n",
      "тысяча --- тысяча\n",
      "промежуточный --- промежуточный\n",
      "возможный --- возможный\n",
      "водка --- водка\n",
      "лимфодиссекция --- лимфодиссекция\n",
      "принимать --- принимать\n",
      "стентирование --- тестирование\n",
      "незначимый --- незначимый\n",
      "настоящее --- настоящее\n",
      "задненижний --- задненебней\n",
      "частичный --- частичный\n",
      "появиться --- появиться\n",
      "тройной --- тройной\n",
      "показатель --- показатель\n",
      "эквивалент --- эквивалент\n",
      "утолстить --- утолстить\n",
      "поведение --- поведение\n",
      "аускультативный --- аускультативный\n",
      "отказаться --- отказаться\n",
      "рассмотреть --- рассмотреть\n",
      "сывороточный --- сывороточный\n",
      "формирующийся --- формирующийся\n",
      "жир --- жир\n",
      "карведилол --- корвалол\n",
      "тонкий --- тонкий\n",
      "единица --- единица\n",
      "срабатывать --- срабатывать\n",
      "компрометация --- компрометация\n",
      "россия --- россия\n",
      "массив --- массив\n",
      "нижнебоковой --- нижнебоковой\n",
      "отечь --- отечь\n",
      "трепетание --- трепетание\n",
      "конкурировать --- конкурировать\n",
      "событие --- событие\n",
      "незначительный --- незначительный\n",
      "Right corrected words count - 169 of 200 total\n"
     ]
    },
    {
     "name": "stderr",
     "output_type": "stream",
     "text": [
      "\n"
     ]
    },
    {
     "data": {
      "text/plain": "{'words_per_second': 19.081377210268506,\n 'error_precision': 0.64,\n 'lexical_precision': 0.845,\n 'overall_precision': 0.7424999999999999}"
     },
     "execution_count": 95,
     "metadata": {},
     "output_type": "execute_result"
    }
   ],
   "source": [
    "test_language_tool_result = compute_all_metrics(\n",
    "    lambda : test_language_tool(error_precision_test_word_list),\n",
    "    lambda : test_language_tool(lexical_precision_test_word_list),\n",
    "    error_precision_test_word_list, error_precision_test_answers, lexical_precision_test_word_list)\n",
    "test_language_tool_result"
   ],
   "metadata": {
    "collapsed": false,
    "pycharm": {
     "name": "#%%\n"
    }
   }
  },
  {
   "cell_type": "markdown",
   "source": [
    "# PySpelling (wrapper for Aspell and Hunspell) - https://facelessuser.github.io/pyspelling/"
   ],
   "metadata": {
    "collapsed": false,
    "pycharm": {
     "name": "#%% md\n"
    }
   }
  },
  {
   "cell_type": "markdown",
   "source": [
    "It is necessary to install for Linux\n",
    "`sudo apt-get install aspell aspell-ru`\n",
    "`sudo apt-get install hunspell hunspell-ru`"
   ],
   "metadata": {
    "collapsed": false,
    "pycharm": {
     "name": "#%% md\n"
    }
   }
  },
  {
   "cell_type": "code",
   "execution_count": 96,
   "outputs": [
    {
     "name": "stdout",
     "output_type": "stream",
     "text": [
      "Requirement already satisfied: pyspelling in /home/Dmitry.Pogrebnoy/Desktop/MedSpellChecker/venv/lib/python3.9/site-packages (2.7.3)\r\n",
      "Requirement already satisfied: html5lib in /home/Dmitry.Pogrebnoy/Desktop/MedSpellChecker/venv/lib/python3.9/site-packages (from pyspelling) (1.1)\r\n",
      "Requirement already satisfied: beautifulsoup4 in /home/Dmitry.Pogrebnoy/Desktop/MedSpellChecker/venv/lib/python3.9/site-packages (from pyspelling) (4.10.0)\r\n",
      "Requirement already satisfied: soupsieve>=1.8 in /home/Dmitry.Pogrebnoy/Desktop/MedSpellChecker/venv/lib/python3.9/site-packages (from pyspelling) (2.3.1)\r\n",
      "Requirement already satisfied: wcmatch>=6.0.3 in /home/Dmitry.Pogrebnoy/Desktop/MedSpellChecker/venv/lib/python3.9/site-packages (from pyspelling) (8.3)\r\n",
      "Requirement already satisfied: lxml in /home/Dmitry.Pogrebnoy/Desktop/MedSpellChecker/venv/lib/python3.9/site-packages (from pyspelling) (4.6.4)\r\n",
      "Requirement already satisfied: pyyaml in /home/Dmitry.Pogrebnoy/Desktop/MedSpellChecker/venv/lib/python3.9/site-packages (from pyspelling) (6.0)\r\n",
      "Requirement already satisfied: markdown in /home/Dmitry.Pogrebnoy/Desktop/MedSpellChecker/venv/lib/python3.9/site-packages (from pyspelling) (3.3.6)\r\n",
      "Requirement already satisfied: bracex>=2.1.1 in /home/Dmitry.Pogrebnoy/Desktop/MedSpellChecker/venv/lib/python3.9/site-packages (from wcmatch>=6.0.3->pyspelling) (2.2.1)\r\n",
      "Requirement already satisfied: webencodings in /home/Dmitry.Pogrebnoy/Desktop/MedSpellChecker/venv/lib/python3.9/site-packages (from html5lib->pyspelling) (0.5.1)\r\n",
      "Requirement already satisfied: six>=1.9 in /home/Dmitry.Pogrebnoy/Desktop/MedSpellChecker/venv/lib/python3.9/site-packages (from html5lib->pyspelling) (1.16.0)\r\n",
      "Requirement already satisfied: importlib-metadata>=4.4 in /home/Dmitry.Pogrebnoy/Desktop/MedSpellChecker/venv/lib/python3.9/site-packages (from markdown->pyspelling) (4.8.2)\r\n",
      "Requirement already satisfied: zipp>=0.5 in /home/Dmitry.Pogrebnoy/Desktop/MedSpellChecker/venv/lib/python3.9/site-packages (from importlib-metadata>=4.4->markdown->pyspelling) (3.6.0)\r\n"
     ]
    }
   ],
   "source": [
    "!pip install pyspelling"
   ],
   "metadata": {
    "collapsed": false,
    "pycharm": {
     "name": "#%%\n"
    }
   }
  },
  {
   "cell_type": "markdown",
   "source": [
    "This is a console module, so it will be quite difficult to parse the output of the tool and get metrics."
   ],
   "metadata": {
    "collapsed": false,
    "pycharm": {
     "name": "#%% md\n"
    }
   }
  },
  {
   "cell_type": "code",
   "execution_count": 97,
   "outputs": [
    {
     "name": "stdout",
     "output_type": "stream",
     "text": [
      "pyspelling 2.7.3\r\n"
     ]
    }
   ],
   "source": [
    "!pyspelling --version"
   ],
   "metadata": {
    "collapsed": false,
    "pycharm": {
     "name": "#%%\n"
    }
   }
  },
  {
   "cell_type": "markdown",
   "source": [
    "# Aspell wrapper for python - https://pypi.org/project/aspell-python-py3/"
   ],
   "metadata": {
    "collapsed": false,
    "pycharm": {
     "name": "#%% md\n"
    }
   }
  },
  {
   "cell_type": "markdown",
   "source": [
    "It is necessary to install for Linux\n",
    "`sudo apt-get install libaspell-dev`"
   ],
   "metadata": {
    "collapsed": false,
    "pycharm": {
     "name": "#%% md\n"
    }
   }
  },
  {
   "cell_type": "code",
   "execution_count": 4,
   "outputs": [
    {
     "name": "stdout",
     "output_type": "stream",
     "text": [
      "Collecting aspell-python-py3\r\n",
      "  Using cached aspell_python_py3-1.15-cp39-cp39-linux_x86_64.whl\r\n",
      "Installing collected packages: aspell-python-py3\r\n",
      "Successfully installed aspell-python-py3-1.15\r\n"
     ]
    }
   ],
   "source": [
    "!pip install aspell-python-py3"
   ],
   "metadata": {
    "collapsed": false,
    "pycharm": {
     "name": "#%%\n"
    }
   }
  },
  {
   "cell_type": "code",
   "execution_count": 99,
   "outputs": [
    {
     "name": "stdout",
     "output_type": "stream",
     "text": [
      "Name: aspell-python-py3\r\n",
      "Version: 1.15\r\n",
      "Summary: Wrapper around GNU Aspell for Python 3\r\n",
      "Home-page: http://github.com/WojciechMula/aspell-python\r\n",
      "Author: Wojciech Muła\r\n",
      "Author-email: wojciech_mula@poczta.onet.pl\r\n",
      "License: BSD (3 clauses)\r\n",
      "Location: /home/Dmitry.Pogrebnoy/Desktop/MedSpellChecker/venv/lib/python3.9/site-packages\r\n",
      "Requires: \r\n",
      "Required-by: \r\n"
     ]
    }
   ],
   "source": [
    "!pip show aspell-python-py3"
   ],
   "metadata": {
    "collapsed": false,
    "pycharm": {
     "name": "#%%\n"
    }
   }
  },
  {
   "cell_type": "code",
   "execution_count": 100,
   "outputs": [],
   "source": [
    "from aspell import Speller"
   ],
   "metadata": {
    "collapsed": false,
    "pycharm": {
     "name": "#%%\n"
    }
   }
  },
  {
   "cell_type": "code",
   "execution_count": 101,
   "outputs": [],
   "source": [
    "def test_aspell(input_word_list):\n",
    "    speller = Speller((\"lang\", \"ru\"))\n",
    "    result = []\n",
    "    timer = tqdm(input_word_list)\n",
    "    for word in timer:\n",
    "        suggestions = speller.suggest(word)\n",
    "        if len(suggestions) == 0:\n",
    "            result.append(word)\n",
    "        else:\n",
    "            result.append(suggestions[0])\n",
    "    return  {\"elapsed\" : timer.format_dict[\"elapsed\"], \"corrected_word_list\" : result}"
   ],
   "metadata": {
    "collapsed": false,
    "pycharm": {
     "name": "#%%\n"
    }
   }
  },
  {
   "cell_type": "code",
   "execution_count": 102,
   "outputs": [
    {
     "name": "stderr",
     "output_type": "stream",
     "text": [
      "100%|██████████| 200/200 [00:00<00:00, 333.35it/s]\n"
     ]
    },
    {
     "name": "stdout",
     "output_type": "stream",
     "text": [
      "Error precision\n",
      "original_word_list --- corrected_word --- answer_word_list\n",
      "эктренном --- экстренном --- ['экстренном']\n",
      "синусовго --- синусов го --- ['синусового']\n",
      "даным --- данным --- ['данным', 'данный', 'данные']\n",
      "шнутография --- нотография --- ['шунтография']\n",
      "сникопальных --- сник опальных --- ['синкопальных']\n",
      "посление --- поселение --- ['поселение', 'последний']\n",
      "ходавый --- ходовой --- ['ходовый']\n",
      "анмнезе --- анамнезе --- ['анамнезе', 'анамнез']\n",
      "сентированный --- смонтированный --- ['стентированный']\n",
      "самоч --- само --- ['самочувствие']\n",
      "перевдена --- переведена --- ['переведена']\n",
      "стентированеим --- смонтированном --- ['стентированием', 'стентирование']\n",
      "кардиол --- кар диол --- ['кардиолог,кардиологический']\n",
      "переведна --- переведена --- ['переведена']\n",
      "догосптальном --- госпитальном --- ['догоспитальном']\n",
      "миним --- мним --- ['минимум', 'минимальный']\n",
      "субфебриллитет --- субфебриллитет --- ['субфебрилитет']\n",
      "загрудиные --- загородные --- ['загрудинные', 'загрудинный']\n",
      "перферия --- периферия --- ['периферия']\n",
      "течени --- течению --- ['течение']\n",
      "оклюзия --- окклюзия --- ['окклюзия']\n",
      "жнщина --- женщина --- ['женщина']\n",
      "пциент --- пациент --- ['пациент']\n",
      "зарегистирована --- зарегистрирована --- ['зарегистрирована']\n",
      "сегмета --- сегмента --- ['сегмента']\n",
      "клекте --- клекоте --- ['клетке']\n",
      "эпид --- эпод --- ['эпидемия', 'эпидемиологический', 'эпидуральный']\n",
      "интелектуально --- интеллектуально --- ['интеллектуально']\n",
      "нижн --- ниж --- ['нижний']\n",
      "прводилась --- приводилась --- ['проводилась', 'проводить']\n",
      "неуст --- несут --- ['неустановленный']\n",
      "госптализирован --- госпитализирован --- ['госпитализирован']\n",
      "вперые --- впертые --- ['впервые']\n",
      "послеоперационом --- послеоперационном --- ['послеоперационном']\n",
      "госпитализирова --- госпитализировал --- ['госпитализирован']\n",
      "ухудщение --- ухудшение --- ['ухудшение']\n",
      "рентг --- рента --- ['рентген']\n",
      "дальнешем --- дальнейшем --- ['дальнейшем']\n",
      "троботическая --- теоретическая --- ['тромботическая']\n",
      "многосоудистое --- многоводности --- ['многососудистое', 'многососудистый']\n",
      "миокрада --- миокарда --- ['миокарда', 'миокард']\n",
      "сопрвождались --- сопровождались --- ['сопровождались']\n",
      "дискмфорт --- дискомфорт --- ['дискомфорт']\n",
      "потлтвостью --- потливостью --- ['потливостью']\n",
      "левогожелудочка --- левого желудочка --- ['левого желудочка', 'левый желудочек']\n",
      "рание --- ранние --- ['ранее', 'ранние']\n",
      "виед --- виде --- ['виде', 'вид']\n",
      "ангинозныеболи --- ангинозные боли --- ['ангинозные боли', 'ангиозный боль']\n",
      "догоситальном --- дистальном --- ['догоспитальном']\n",
      "ввполнен --- выполнен --- ['выполнен']\n",
      "чаосв --- часов --- ['часов']\n",
      "октазалась --- отказалась --- ['отказалась']\n",
      "линика --- лирника --- ['клиника']\n",
      "ммента --- момента --- ['момента']\n",
      "проведеной --- проведенной --- ['проведенной']\n",
      "выполненяи --- выполнения --- ['выполнения', 'выполнение']\n",
      "леченяи --- лечения --- ['лечения', 'лечение']\n",
      "обтилась --- отбилась --- ['обратилась']\n",
      "повтороно --- повторно --- ['повторно']\n",
      "зарегистриованы --- зарегистрированы --- ['зарегистрированы']\n",
      "отицает --- отрицает --- ['отрицает', 'отрицать']\n",
      "дальнейщем --- дальнейшем --- ['дальнейшем']\n",
      "болисохраняются --- боли сохраняются --- ['боли сохраняются']\n",
      "частичынм --- частичным --- ['частичным']\n",
      "атерокслеротичсекая --- атеросклеротическая --- ['атеросклеротическая']\n",
      "деньс --- день --- ['день', 'день с']\n",
      "назначаля --- назначался --- ['назначался']\n",
      "проведеняи --- проведения --- ['проведения']\n",
      "беспакоют --- успокоит --- ['беспокоят']\n",
      "гипертензи --- гипертензию --- ['гипертензия']\n",
      "воленйбол --- волейбол --- ['волейбол']\n",
      "болезн --- болезни --- ['болезнь']\n",
      "стенокардаа --- стенокардию --- ['стенокардия']\n",
      "продолжалсь --- продолжалась --- ['продолжалась']\n",
      "поворное --- подворное --- ['повторное']\n",
      "ощуащет --- ощущает --- ['ощущает']\n",
      "ангигнозного --- ангинозного --- ['ангинозного', 'ангинозный']\n",
      "диагностичекой --- диагностической --- ['диагностической', 'диагностический']\n",
      "поддерживающией --- поддерживающей --- ['поддерживающий']\n",
      "межлопаточнй --- межклеточной --- ['межлопаточный']\n",
      "бедреной --- бедренной --- ['бедренной', 'бедренный']\n",
      "гшрядки --- грядки --- ['грядки']\n",
      "бассеине --- бассейне --- ['бассейне', 'бассейн']\n",
      "возлуха --- воздуха --- ['воздуха', 'воздух']\n",
      "сенября --- сентября --- ['сентября', 'сентябрь']\n",
      "постояная --- постоянная --- ['постоянная', 'постоянный']\n",
      "рекмоендовнао --- рекомендовано --- ['рекомендовано']\n",
      "поврждения --- повреждения --- ['повреждения']\n",
      "дискофморта --- дискомфорта --- ['дискомфорт']\n",
      "импалнтирован --- имплантирован --- ['имплантирован', 'имплантировать']\n",
      "неочетливая --- неотчетливая --- ['неотчетливая', 'неотчетливый']\n",
      "обесвеченный --- обесцвеченный --- ['обесцвеченный', 'обеспеченный']\n",
      "серце --- сердце --- ['сердце']\n",
      "блезнь --- болезнь --- ['болезнь']\n",
      "лергия --- летаргия --- ['аллергия']\n",
      "ука --- укаю --- ['рука']\n",
      "изжга --- изжога --- ['изжога']\n",
      "жение --- женихе --- ['жжение']\n",
      "кашел --- кашле --- ['кашель']\n",
      "рствор --- раствор --- ['раствор']\n",
      "пациен --- пациент --- ['пациент']\n",
      "пожлой --- пожилой --- ['пожилой']\n",
      "лекарсво --- лекарство --- ['лекарство']\n",
      "нпреносимость --- непереносимость --- ['непереносимость']\n",
      "амупула --- ампула --- ['ампула']\n",
      "гел --- гелю --- ['гель']\n",
      "конценрат --- концентрат --- ['концентрат']\n",
      "рилиф --- рифли --- ['релиф']\n",
      "чссс --- час --- ['ЧСС', 'чсс']\n",
      "экгъ --- ЭКГ --- ['ЭКГ', 'экг']\n",
      "фибриляция --- фибрилляция --- ['фибрилляция']\n",
      "желдочек --- желудочек --- ['желудочек']\n",
      "хрон --- Харон --- ['хронический']\n",
      "гиподин --- гипоидная --- ['гиподинамический']\n",
      "нерный --- нервный --- ['нервный']\n",
      "сист --- сист --- ['система']\n",
      "диагоностика --- диагностика --- ['диагностика']\n",
      "гипоксмия --- гипоксемия --- ['гипоксемия']\n",
      "ледокоин --- ледокол --- ['лидокаин']\n",
      "блокато --- блокатор --- ['блокатор']\n",
      "тахкардия --- тахикардия --- ['тахикардия']\n",
      "малоинвозивный --- инвазивный --- ['малоинвазивный']\n",
      "алация --- акация --- ['аблация', 'абляция']\n",
      "имь --- им --- ['ИМ', 'им']\n",
      "паражение --- поражение --- ['поражение']\n",
      "тяжолый --- тяжелый --- ['тяжелый']\n",
      "гастрапластика --- артропластика --- ['гастропластика']\n",
      "вс --- вас --- ['вес']\n",
      "лешний --- леший --- ['лишний']\n",
      "орта --- орта --- ['аорта']\n",
      "клапа --- клапан --- ['клапан']\n",
      "вент --- вен --- ['вена']\n",
      "палый --- палый --- ['полый']\n",
      "пирикард --- перикард --- ['перикард']\n",
      "метральный --- метальный --- ['митральный']\n",
      "ултразвук --- ультразвук --- ['ультразвук']\n",
      "херург --- хирург --- ['хирург']\n",
      "кордиолог --- кардиолог --- ['кардиолог']\n",
      "килограм --- килограмм --- ['килограмм']\n",
      "акенезия --- акинезия --- ['акинезия']\n",
      "врхушка --- верхушка --- ['верхушка']\n",
      "апекальный --- апикальный --- ['апикальный']\n",
      "сгмент --- сегмент --- ['сегмент']\n",
      "вес --- вес --- ['весь']\n",
      "сьенка --- сценка --- ['стенка']\n",
      "церкулярный --- циркулярный --- ['циркулярный']\n",
      "сридиный --- срединный --- ['срединный']\n",
      "калапаный --- залапанный --- ['клапанный']\n",
      "апарат --- аппарат --- ['аппарат']\n",
      "потология --- патология --- ['патология']\n",
      "перекард --- перикард --- ['перикард']\n",
      "праксимальный --- проксимальный --- ['проксимальный']\n",
      "деаметр --- диаметр --- ['диаметр']\n",
      "корекция --- коррекция --- ['коррекция']\n",
      "аслажнение --- осложнение --- ['осложнение']\n",
      "стрдать --- страдать --- ['страдать']\n",
      "гепертонический --- гипертонический --- ['гипертонический']\n",
      "болезн --- болезни --- ['болезнь']\n",
      "одоптировать --- кооптировать --- ['адаптировать']\n",
      "получять --- получать --- ['получать']\n",
      "кансервативный --- консервативный --- ['консервативный']\n",
      "тичение --- течение --- ['течение']\n",
      "пребование --- пребывание --- ['пребывание']\n",
      "отбиление --- отбавление --- ['отделение']\n",
      "самачувствие --- самочувствие --- ['самочувствие']\n",
      "уходшение --- ухудшение --- ['ухудшение']\n",
      "месро --- место --- ['место']\n",
      "пункцыя --- пункция --- ['пункция']\n",
      "особеность --- особенность --- ['особенность']\n",
      "шнут --- шунт --- ['шунт']\n",
      "шнутирование --- шунтирование --- ['шунтирование']\n",
      "готчина --- Гатчина --- ['гатчина']\n",
      "эхэ --- эх --- ['эхо']\n",
      "каранарный --- карабинерный --- ['коронарный']\n",
      "ортерия --- артерия --- ['артерия']\n",
      "сначимый --- значимый --- ['значимый']\n",
      "стинос --- станс --- ['стеноз']\n",
      "гаспиализировать --- госпитализировать --- ['госпитализировать']\n",
      "имья --- имя --- ['имя']\n",
      "олмазов --- алмазов --- ['алмазов']\n",
      "прдшствовать --- предшествовать --- ['предшествовать']\n",
      "стинакардия --- стенокардия --- ['стенокардия']\n",
      "пиринести --- принести --- ['перенести']\n",
      "ифаркт --- инфаркт --- ['инфаркт']\n",
      "моикарда --- миокарда --- ['миокарда']\n",
      "лакализация --- алкализация --- ['локализация']\n",
      "спразка --- справка --- ['справка']\n",
      "дальнейшый --- дальнейшей --- ['дальнейший']\n",
      "хроническаянедостаточность --- хроническая недостаточность --- ['хроническая недостаточность', 'хронический недостаточность']\n",
      "инфарктмиокарда --- инфаркт миокарда --- ['инфаркт миокарда', 'инфаркт миокард']\n",
      "отузла --- от узла --- ['от узла', 'от узел']\n",
      "нарушениеработы --- нарушение работы --- ['нарушение работы', 'нарушение работа']\n",
      "вминуту --- минуту --- ['в минуту', 'в минута', 'минута']\n",
      "эндокриннойсистемы --- эндокринной системы --- ['эндокринная система', 'эндокринный система']\n",
      "сердечныйритм --- сердечный ритм --- ['сердечный ритм']\n",
      "узловаятахикардия --- узловая тахикардия --- ['узловая тахикардия', 'узловой тахикардия']\n",
      "основныефакторы --- основные факторы --- ['основной факто', 'основные факторы']\n",
      "остановкасердца --- остановка сердца --- ['остановка сердца', 'остановка сердце']\n",
      "фибрилляцияжелудочков --- фибрилляция желудочков --- ['фибрилляция желудочков', 'фибрилляция желудочек']\n",
      "счастотой --- частотой --- ['с частотой', 'с частотаб частота']\n",
      "Right corrected words count - 130 of 200 total\n"
     ]
    },
    {
     "name": "stderr",
     "output_type": "stream",
     "text": [
      "100%|██████████| 200/200 [00:00<00:00, 375.87it/s]"
     ]
    },
    {
     "name": "stdout",
     "output_type": "stream",
     "text": [
      "Lexical precision\n",
      "original_word_list --- corrected_word\n",
      "выборгский --- выборгский\n",
      "отказываться --- отказываться\n",
      "нитропрепарат --- нитропрепарат\n",
      "предсердие --- предсердие\n",
      "диссоциация --- диссоциация\n",
      "кольцевой --- кольцевой\n",
      "отрыв --- отрыв\n",
      "вовлечение --- вовлечение\n",
      "мелкопузырчатый --- мелко пузырчатый\n",
      "госпитализировать --- госпитализировать\n",
      "фтизиатр --- фтизиатр\n",
      "проксимальный --- проксимальный\n",
      "приступ --- приступ\n",
      "рецидивировать --- разворовать\n",
      "беспокоить --- беспокоить\n",
      "значимый --- значимый\n",
      "одномоментный --- одномоментный\n",
      "течение --- течение\n",
      "постепенной --- постепенной\n",
      "трафика --- трафика\n",
      "левый --- левый\n",
      "область --- область\n",
      "окклюзия --- окклюзия\n",
      "каждый --- каждый\n",
      "аторвастатина --- отрастанию\n",
      "проникающий --- проникающий\n",
      "слух --- слух\n",
      "отрицательный --- отрицательный\n",
      "заднее --- заднее\n",
      "диафрагмальный --- поддиафрагмальный\n",
      "физическая --- физическая\n",
      "реваскуляризация --- секуляризация\n",
      "очевидный --- очевидный\n",
      "умеренный --- умеренный\n",
      "самостоятельный --- самостоятельный\n",
      "визуализация --- визуализация\n",
      "неселективный --- не селективный\n",
      "септопластика --- кератопластика\n",
      "присутствие --- присутствие\n",
      "соустье --- со устье\n",
      "кировский --- кировский\n",
      "ноющая --- ноющая\n",
      "постоять --- постоять\n",
      "стенка --- стенка\n",
      "укоротить --- укоротить\n",
      "назначить --- назначить\n",
      "госпитализация --- госпитализация\n",
      "возобновление --- возобновление\n",
      "одеть --- одеть\n",
      "охранник --- охранник\n",
      "дексона --- Диксона\n",
      "систолический --- систолический\n",
      "верхушечно-перегородочный --- верхушечно-перегородочный\n",
      "расширение --- расширение\n",
      "равнозначный --- равнозначный\n",
      "предприятие --- предприятие\n",
      "ночь --- ночь\n",
      "вредность --- вредность\n",
      "транспортировка --- транспортировка\n",
      "март --- март\n",
      "гипотиазид --- гипотеза\n",
      "скрытый --- скрытый\n",
      "расстройство --- расстройство\n",
      "ломота --- ломота\n",
      "подготовить --- подготовить\n",
      "помощь --- помощь\n",
      "большая --- большая\n",
      "эквивалент --- эквивалент\n",
      "гемостатический --- гипостатический\n",
      "купировавшийся --- курировавшийся\n",
      "ревизия --- ревизия\n",
      "пульсирующий --- пульсирующий\n",
      "регистрироваться --- регистрироваться\n",
      "лимитирование --- лимитирование\n",
      "ометать --- обметать\n",
      "стихание --- стирание\n",
      "вазопрессорный --- безрессорный\n",
      "тредмил --- тред мил\n",
      "тест --- тест\n",
      "гипопноэ --- гипоидною\n",
      "наш --- наш\n",
      "ускоренный --- ускоренный\n",
      "эфффект --- эффект\n",
      "тромбофлебит --- тромбофлебит\n",
      "ишемический --- ишемический\n",
      "купирование --- купирование\n",
      "патологии --- патологии\n",
      "длительный --- длительный\n",
      "заключение --- заключение\n",
      "пунктировать --- пунктиров ать\n",
      "ферритина --- ферритная\n",
      "гастропротективный --- гастропротективный\n",
      "пароксизм --- пароксизм\n",
      "выполнять --- выполнять\n",
      "показатель --- показатель\n",
      "посттромбофлебитический --- посттромбофлебитический\n",
      "анальгин --- анальгин\n",
      "корректировать --- корректировать\n",
      "секунда --- секунда\n",
      "креатинкиназа --- кретинка\n",
      "утолщение --- утолщение\n",
      "терапия --- терапия\n",
      "глибомёт --- газомёт\n",
      "лобэктомия --- лобком\n",
      "новгородский --- новгородский\n",
      "владеть --- владеть\n",
      "тенденция --- тенденция\n",
      "мерить --- мерить\n",
      "поражений --- поражений\n",
      "перекосить --- перекосить\n",
      "тропонин --- треонин\n",
      "сдвиг --- сдвиг\n",
      "отправить --- отправить\n",
      "сжимающее --- сжимающее\n",
      "давящий --- давящий\n",
      "нифедипин --- недопит\n",
      "мексикор --- Мексико\n",
      "сад --- сад\n",
      "мезентериальный --- мезентериальный\n",
      "дальнейшей --- дальнейшей\n",
      "реабилитация --- реабилитация\n",
      "переносить --- переносить\n",
      "дискомфорт --- дискомфорт\n",
      "проявление --- проявление\n",
      "батарея --- батарея\n",
      "фермент --- фермент\n",
      "затёк --- затёк\n",
      "непроизвольный --- непроизвольный\n",
      "слепок --- слепок\n",
      "тенорик --- тенорки\n",
      "сегмента --- сегмента\n",
      "дрожь --- дрожь\n",
      "появляется --- появляется\n",
      "гепарина --- гепарина\n",
      "предсердие --- предсердие\n",
      "диурез --- диурез\n",
      "фиксировать --- фиксировать\n",
      "временной --- временной\n",
      "микропрепарат --- микропрограмм\n",
      "аторвастатин --- отрастать\n",
      "гипотензия --- гипотензия\n",
      "грудь --- грудь\n",
      "инфаркт --- инфаркт\n",
      "мононуклеары --- мононуклеоз\n",
      "постоянно --- постоянно\n",
      "погрузка --- погрузка\n",
      "фармакологический --- фармакологический\n",
      "нестабильный --- нестабильный\n",
      "мертенил --- мертвели\n",
      "тахикардий --- тахикардией\n",
      "снимать --- снимать\n",
      "распространиться --- распространиться\n",
      "контрпульсатор --- контрпульсатор\n",
      "соталол --- стлало\n",
      "складываться --- складываться\n",
      "кардиомегалия --- кардиология\n",
      "смесь --- смесь\n",
      "мкг --- мкг\n",
      "похожий --- похожий\n",
      "аутовенозный --- отвезенный\n",
      "гепатина --- гептана\n",
      "рецидивировать --- разворовать\n",
      "асцит --- асцит\n",
      "стенокардия --- стенокардия\n",
      "тысяча --- тысяча\n",
      "промежуточный --- промежуточный\n",
      "возможный --- возможный\n",
      "водка --- водка\n",
      "лимфодиссекция --- лимфодиссекция\n",
      "принимать --- принимать\n",
      "стентирование --- смонтирован\n",
      "незначимый --- не значимый\n",
      "настоящее --- настоящее\n",
      "задненижний --- задненебной\n",
      "частичный --- частичный\n",
      "появиться --- появиться\n",
      "тройной --- тройной\n",
      "показатель --- показатель\n",
      "эквивалент --- эквивалент\n",
      "утолстить --- отомстить\n",
      "поведение --- поведение\n",
      "аускультативный --- факультативный\n",
      "отказаться --- отказаться\n",
      "рассмотреть --- рассмотреть\n",
      "сывороточный --- сывороточный\n",
      "формирующийся --- формирующийся\n",
      "жир --- жир\n",
      "карведилол --- корвалол\n",
      "тонкий --- тонкий\n",
      "единица --- единица\n",
      "срабатывать --- срабатывать\n",
      "компрометация --- компрометация\n",
      "россия --- Россия\n",
      "массив --- массив\n",
      "нижнебоковой --- нанковой\n",
      "отечь --- отечь\n",
      "трепетание --- трепетание\n",
      "конкурировать --- конкурировать\n",
      "событие --- событие\n",
      "незначительный --- незначительный\n",
      "Right corrected words count - 155 of 200 total\n"
     ]
    },
    {
     "name": "stderr",
     "output_type": "stream",
     "text": [
      "\n"
     ]
    },
    {
     "data": {
      "text/plain": "{'words_per_second': 352.97255151456244,\n 'error_precision': 0.65,\n 'lexical_precision': 0.775,\n 'overall_precision': 0.7125}"
     },
     "execution_count": 102,
     "metadata": {},
     "output_type": "execute_result"
    }
   ],
   "source": [
    "test_aspell_result = compute_all_metrics(\n",
    "    lambda : test_aspell(error_precision_test_word_list),\n",
    "    lambda : test_aspell(lexical_precision_test_word_list),\n",
    "    error_precision_test_word_list, error_precision_test_answers, lexical_precision_test_word_list)\n",
    "test_aspell_result"
   ],
   "metadata": {
    "collapsed": false,
    "pycharm": {
     "name": "#%%\n"
    }
   }
  },
  {
   "cell_type": "markdown",
   "source": [
    "# Test Hunspell wrapper for Python - https://pypi.org/project/hunspell/"
   ],
   "metadata": {
    "collapsed": false,
    "pycharm": {
     "name": "#%% md\n"
    }
   }
  },
  {
   "cell_type": "markdown",
   "source": [
    "It is necessary to install for Linux\n",
    "`sudo apt-get install libhunspell-dev`"
   ],
   "metadata": {
    "collapsed": false,
    "pycharm": {
     "name": "#%% md\n"
    }
   }
  },
  {
   "cell_type": "code",
   "execution_count": 5,
   "outputs": [
    {
     "name": "stdout",
     "output_type": "stream",
     "text": [
      "Collecting hunspell\r\n",
      "  Using cached hunspell-0.5.5-cp39-cp39-linux_x86_64.whl\r\n",
      "Installing collected packages: hunspell\r\n",
      "Successfully installed hunspell-0.5.5\r\n"
     ]
    }
   ],
   "source": [
    "!pip install hunspell"
   ],
   "metadata": {
    "collapsed": false,
    "pycharm": {
     "name": "#%%\n"
    }
   }
  },
  {
   "cell_type": "code",
   "execution_count": 104,
   "outputs": [
    {
     "name": "stdout",
     "output_type": "stream",
     "text": [
      "Name: hunspell\r\n",
      "Version: 0.5.5\r\n",
      "Summary: Module for the Hunspell spellchecker engine\r\n",
      "Home-page: http://github.com/blatinier/pyhunspell\r\n",
      "Author: Benoît Latinier\r\n",
      "Author-email: benoit@latinier.fr\r\n",
      "License: LGPLv3\r\n",
      "Location: /home/Dmitry.Pogrebnoy/Desktop/MedSpellChecker/venv/lib/python3.9/site-packages\r\n",
      "Requires: \r\n",
      "Required-by: \r\n"
     ]
    }
   ],
   "source": [
    "!pip show hunspell"
   ],
   "metadata": {
    "collapsed": false,
    "pycharm": {
     "name": "#%%\n"
    }
   }
  },
  {
   "cell_type": "code",
   "execution_count": 105,
   "outputs": [],
   "source": [
    "from hunspell import HunSpell"
   ],
   "metadata": {
    "collapsed": false,
    "pycharm": {
     "name": "#%%\n"
    }
   }
  },
  {
   "cell_type": "code",
   "execution_count": 106,
   "outputs": [],
   "source": [
    "def test_hunspell(input_word_list):\n",
    "    speller = HunSpell('../data/hunspell/index.dic', '../data/hunspell/index.aff')\n",
    "    result = []\n",
    "    timer = tqdm(input_word_list)\n",
    "    for word in timer:\n",
    "        suggestions = speller.suggest(word)\n",
    "        if len(suggestions) == 0:\n",
    "            result.append(word)\n",
    "        else:\n",
    "            result.append(suggestions[0])\n",
    "    return  {\"elapsed\" : timer.format_dict[\"elapsed\"], \"corrected_word_list\" : result}"
   ],
   "metadata": {
    "collapsed": false,
    "pycharm": {
     "name": "#%%\n"
    }
   }
  },
  {
   "cell_type": "code",
   "execution_count": 107,
   "outputs": [
    {
     "name": "stderr",
     "output_type": "stream",
     "text": [
      "100%|██████████| 200/200 [00:15<00:00, 12.50it/s]\n"
     ]
    },
    {
     "name": "stdout",
     "output_type": "stream",
     "text": [
      "Error precision\n",
      "original_word_list --- corrected_word --- answer_word_list\n",
      "эктренном --- экстренном --- ['экстренном']\n",
      "синусовго --- синусов го --- ['синусового']\n",
      "даным --- даны --- ['данным', 'данный', 'данные']\n",
      "шнутография --- нотография --- ['шунтография']\n",
      "сникопальных --- сник опальных --- ['синкопальных']\n",
      "посление --- поселение --- ['поселение', 'последний']\n",
      "ходавый --- хода вый --- ['ходовый']\n",
      "анмнезе --- анамнезе --- ['анамнезе', 'анамнез']\n",
      "сентированный --- сориентированный --- ['стентированный']\n",
      "самоч --- само --- ['самочувствие']\n",
      "перевдена --- перевидена --- ['переведена']\n",
      "стентированеим --- сцементирован --- ['стентированием', 'стентирование']\n",
      "кардиол --- кар диол --- ['кардиолог,кардиологический']\n",
      "переведна --- переведена --- ['переведена']\n",
      "догосптальном --- госпитальном --- ['догоспитальном']\n",
      "миним --- мини --- ['минимум', 'минимальный']\n",
      "субфебриллитет --- субфебрилитет --- ['субфебрилитет']\n",
      "загрудиные --- нагрудные --- ['загрудинные', 'загрудинный']\n",
      "перферия --- периферия --- ['периферия']\n",
      "течени --- течении --- ['течение']\n",
      "оклюзия --- окклюзия --- ['окклюзия']\n",
      "жнщина --- женщина --- ['женщина']\n",
      "пциент --- пациент --- ['пациент']\n",
      "зарегистирована --- зарегистрирована --- ['зарегистрирована']\n",
      "сегмета --- сегмента --- ['сегмента']\n",
      "клекте --- клетке --- ['клетке']\n",
      "эпид --- эпод --- ['эпидемия', 'эпидемиологический', 'эпидуральный']\n",
      "интелектуально --- интеллектуально --- ['интеллектуально']\n",
      "нижн --- ниж --- ['нижний']\n",
      "прводилась --- проводилась --- ['проводилась', 'проводить']\n",
      "неуст --- несут --- ['неустановленный']\n",
      "госптализирован --- госпитализирован --- ['госпитализирован']\n",
      "вперые --- впертые --- ['впервые']\n",
      "послеоперационом --- послеоперационном --- ['послеоперационном']\n",
      "госпитализирова --- госпитализирован --- ['госпитализирован']\n",
      "ухудщение --- ухудшение --- ['ухудшение']\n",
      "рентг --- рент --- ['рентген']\n",
      "дальнешем --- дальнейшем --- ['дальнейшем']\n",
      "троботическая --- астроботаническая --- ['тромботическая']\n",
      "многосоудистое --- многосоставное --- ['многососудистое', 'многососудистый']\n",
      "миокрада --- миокарда --- ['миокарда', 'миокард']\n",
      "сопрвождались --- сопровождались --- ['сопровождались']\n",
      "дискмфорт --- дискомфорт --- ['дискомфорт']\n",
      "потлтвостью --- потливостью --- ['потливостью']\n",
      "левогожелудочка --- левого желудочка --- ['левого желудочка', 'левый желудочек']\n",
      "рание --- раине --- ['ранее', 'ранние']\n",
      "виед --- виде --- ['виде', 'вид']\n",
      "ангинозныеболи --- ангинозные боли --- ['ангинозные боли', 'ангиозный боль']\n",
      "догоситальном --- госпитальном --- ['догоспитальном']\n",
      "ввполнен --- выполнен --- ['выполнен']\n",
      "чаосв --- часов --- ['часов']\n",
      "октазалась --- отказалась --- ['отказалась']\n",
      "линика --- литника --- ['клиника']\n",
      "ммента --- мента --- ['момента']\n",
      "проведеной --- проведено --- ['проведенной']\n",
      "выполненяи --- выполнения --- ['выполнения', 'выполнение']\n",
      "леченяи --- лечения --- ['лечения', 'лечение']\n",
      "обтилась --- отбилась --- ['обратилась']\n",
      "повтороно --- повторно --- ['повторно']\n",
      "зарегистриованы --- зарегистрированы --- ['зарегистрированы']\n",
      "отицает --- отрицает --- ['отрицает', 'отрицать']\n",
      "дальнейщем --- дальнейшем --- ['дальнейшем']\n",
      "болисохраняются --- боли сохраняются --- ['боли сохраняются']\n",
      "частичынм --- частичным --- ['частичным']\n",
      "атерокслеротичсекая --- атеросклеротическая --- ['атеросклеротическая']\n",
      "деньс --- день --- ['день', 'день с']\n",
      "назначаля --- назначал --- ['назначался']\n",
      "проведеняи --- проведения --- ['проведения']\n",
      "беспакоют --- обеспамятеют --- ['беспокоят']\n",
      "гипертензи --- гипертензии --- ['гипертензия']\n",
      "воленйбол --- волейбол --- ['волейбол']\n",
      "болезн --- болен --- ['болезнь']\n",
      "стенокардаа --- стенокардия --- ['стенокардия']\n",
      "продолжалсь --- продолжалось --- ['продолжалась']\n",
      "поворное --- повторное --- ['повторное']\n",
      "ощуащет --- ощущает --- ['ощущает']\n",
      "ангигнозного --- ангинозного --- ['ангинозного', 'ангинозный']\n",
      "диагностичекой --- диагностической --- ['диагностической', 'диагностический']\n",
      "поддерживающией --- поддерживающие --- ['поддерживающий']\n",
      "межлопаточнй --- лопаточный --- ['межлопаточный']\n",
      "бедреной --- бедерной --- ['бедренной', 'бедренный']\n",
      "гшрядки --- грядки --- ['грядки']\n",
      "бассеине --- бассейне --- ['бассейне', 'бассейн']\n",
      "возлуха --- воздуха --- ['воздуха', 'воздух']\n",
      "сенября --- сентября --- ['сентября', 'сентябрь']\n",
      "постояная --- постоянная --- ['постоянная', 'постоянный']\n",
      "рекмоендовнао --- рекомендовано --- ['рекомендовано']\n",
      "поврждения --- повреждения --- ['повреждения']\n",
      "дискофморта --- дискомфорта --- ['дискомфорт']\n",
      "импалнтирован --- имплантирован --- ['имплантирован', 'имплантировать']\n",
      "неочетливая --- неотчетливая --- ['неотчетливая', 'неотчетливый']\n",
      "обесвеченный --- обесцвеченный --- ['обесцвеченный', 'обеспеченный']\n",
      "серце --- сере --- ['сердце']\n",
      "блезнь --- болезнь --- ['болезнь']\n",
      "лергия --- Сергия --- ['аллергия']\n",
      "ука --- ук --- ['рука']\n",
      "изжга --- изжога --- ['изжога']\n",
      "жение --- жени --- ['жжение']\n",
      "кашел --- кашле --- ['кашель']\n",
      "рствор --- створ --- ['раствор']\n",
      "пациен --- пациент --- ['пациент']\n",
      "пожлой --- полой --- ['пожилой']\n",
      "лекарсво --- лекарство --- ['лекарство']\n",
      "нпреносимость --- непереносимость --- ['непереносимость']\n",
      "амупула --- ампула --- ['ампула']\n",
      "гел --- лег --- ['гель']\n",
      "конценрат --- концентрат --- ['концентрат']\n",
      "рилиф --- рифли --- ['релиф']\n",
      "чссс --- СССР --- ['ЧСС', 'чсс']\n",
      "экгъ --- ЭКГ --- ['ЭКГ', 'экг']\n",
      "фибриляция --- фибрилляция --- ['фибрилляция']\n",
      "желдочек --- желудочек --- ['желудочек']\n",
      "хрон --- хон --- ['хронический']\n",
      "гиподин --- подин --- ['гиподинамический']\n",
      "нерный --- нервный --- ['нервный']\n",
      "сист --- сист --- ['система']\n",
      "диагоностика --- диагностика --- ['диагностика']\n",
      "гипоксмия --- гипоксия --- ['гипоксемия']\n",
      "ледокоин --- ледокол --- ['лидокаин']\n",
      "блокато --- блокатор --- ['блокатор']\n",
      "тахкардия --- тахикардия --- ['тахикардия']\n",
      "малоинвозивный --- малоинформативный --- ['малоинвазивный']\n",
      "алация --- акация --- ['аблация', 'абляция']\n",
      "имь --- им --- ['ИМ', 'им']\n",
      "паражение --- поражение --- ['поражение']\n",
      "тяжолый --- тяжелый --- ['тяжелый']\n",
      "гастрапластика --- органопластика --- ['гастропластика']\n",
      "вс --- св --- ['вес']\n",
      "лешний --- лишней --- ['лишний']\n",
      "орта --- рота --- ['аорта']\n",
      "клапа --- капа --- ['клапан']\n",
      "вент --- вен --- ['вена']\n",
      "палый --- пылай --- ['полый']\n",
      "пирикард --- перикард --- ['перикард']\n",
      "метральный --- метальный --- ['митральный']\n",
      "ултразвук --- ультразвук --- ['ультразвук']\n",
      "херург --- хирург --- ['хирург']\n",
      "кордиолог --- кардиолог --- ['кардиолог']\n",
      "килограм --- килограмм --- ['килограмм']\n",
      "акенезия --- акинезия --- ['акинезия']\n",
      "врхушка --- врушка --- ['верхушка']\n",
      "апекальный --- апикальный --- ['апикальный']\n",
      "сгмент --- сегмент --- ['сегмент']\n",
      "вес --- все --- ['весь']\n",
      "сьенка --- стенка --- ['стенка']\n",
      "церкулярный --- циркулярный --- ['циркулярный']\n",
      "сридиный --- срединный --- ['срединный']\n",
      "калапаный --- клапанный --- ['клапанный']\n",
      "апарат --- парат --- ['аппарат']\n",
      "потология --- топология --- ['патология']\n",
      "перекард --- перикард --- ['перикард']\n",
      "праксимальный --- проксимальный --- ['проксимальный']\n",
      "деаметр --- декаметр --- ['диаметр']\n",
      "корекция --- коррекция --- ['коррекция']\n",
      "аслажнение --- наслаждение --- ['осложнение']\n",
      "стрдать --- страдать --- ['страдать']\n",
      "гепертонический --- гипертонический --- ['гипертонический']\n",
      "болезн --- болен --- ['болезнь']\n",
      "одоптировать --- адоптировать --- ['адаптировать']\n",
      "получять --- получать --- ['получать']\n",
      "кансервативный --- консервативный --- ['консервативный']\n",
      "тичение --- точение --- ['течение']\n",
      "пребование --- пробование --- ['пребывание']\n",
      "отбиление --- отбавление --- ['отделение']\n",
      "самачувствие --- самочувствие --- ['самочувствие']\n",
      "уходшение --- ухудшение --- ['ухудшение']\n",
      "месро --- место --- ['место']\n",
      "пункцыя --- пункция --- ['пункция']\n",
      "особеность --- особенность --- ['особенность']\n",
      "шнут --- шунт --- ['шунт']\n",
      "шнутирование --- шунтирование --- ['шунтирование']\n",
      "готчина --- вотчина --- ['гатчина']\n",
      "эхэ --- эх --- ['эхо']\n",
      "каранарный --- карандашный --- ['коронарный']\n",
      "ортерия --- артерия --- ['артерия']\n",
      "сначимый --- сачимый --- ['значимый']\n",
      "стинос --- остинато --- ['стеноз']\n",
      "гаспиализировать --- госпитализировать --- ['госпитализировать']\n",
      "имья --- имя --- ['имя']\n",
      "олмазов --- алмазов --- ['алмазов']\n",
      "прдшствовать --- предшествовать --- ['предшествовать']\n",
      "стинакардия --- стенокардия --- ['стенокардия']\n",
      "пиринести --- принести --- ['перенести']\n",
      "ифаркт --- инфаркт --- ['инфаркт']\n",
      "моикарда --- миокарда --- ['миокарда']\n",
      "лакализация --- алкализация --- ['локализация']\n",
      "спразка --- справка --- ['справка']\n",
      "дальнейшый --- дальнейший --- ['дальнейший']\n",
      "хроническаянедостаточность --- хроническая недостаточность --- ['хроническая недостаточность', 'хронический недостаточность']\n",
      "инфарктмиокарда --- инфаркт миокарда --- ['инфаркт миокарда', 'инфаркт миокард']\n",
      "отузла --- от узла --- ['от узла', 'от узел']\n",
      "нарушениеработы --- нарушение работы --- ['нарушение работы', 'нарушение работа']\n",
      "вминуту --- минуту --- ['в минуту', 'в минута', 'минута']\n",
      "эндокриннойсистемы --- эндокринной системы --- ['эндокринная система', 'эндокринный система']\n",
      "сердечныйритм --- сердечный ритм --- ['сердечный ритм']\n",
      "узловаятахикардия --- узловая тахикардия --- ['узловая тахикардия', 'узловой тахикардия']\n",
      "основныефакторы --- основные факторы --- ['основной факто', 'основные факторы']\n",
      "остановкасердца --- остановка сердца --- ['остановка сердца', 'остановка сердце']\n",
      "фибрилляцияжелудочков --- фибрилляция желудочков --- ['фибрилляция желудочков', 'фибрилляция желудочек']\n",
      "счастотой --- частотой --- ['с частотой', 'с частотаб частота']\n",
      "Right corrected words count - 118 of 200 total\n"
     ]
    },
    {
     "name": "stderr",
     "output_type": "stream",
     "text": [
      "100%|██████████| 200/200 [00:18<00:00, 10.75it/s]"
     ]
    },
    {
     "name": "stdout",
     "output_type": "stream",
     "text": [
      "Lexical precision\n",
      "original_word_list --- corrected_word\n",
      "выборгский --- выборгски\n",
      "отказываться --- отказываться\n",
      "нитропрепарат --- органопрепарат\n",
      "предсердие --- предсердие\n",
      "диссоциация --- диссоциация\n",
      "кольцевой --- кольцевое\n",
      "отрыв --- отрыва\n",
      "вовлечение --- вовлечение\n",
      "мелкопузырчатый --- мелко пузырчатый\n",
      "госпитализировать --- госпитализировать\n",
      "фтизиатр --- фтизиатр\n",
      "проксимальный --- проксимальной\n",
      "приступ --- приступа\n",
      "рецидивировать --- рецитировать\n",
      "беспокоить --- беспокоить\n",
      "значимый --- значимы\n",
      "одномоментный --- одномоментный\n",
      "течение --- течение\n",
      "постепенной --- постепенной\n",
      "трафика --- трафика\n",
      "левый --- левы\n",
      "область --- областью\n",
      "окклюзия --- окклюзия\n",
      "каждый --- каждой\n",
      "аторвастатина --- настораживать\n",
      "проникающий --- поникающий\n",
      "слух --- сух\n",
      "отрицательный --- отрицательны\n",
      "заднее --- заднее\n",
      "диафрагмальный --- диафрагмальный\n",
      "физическая --- физическая\n",
      "реваскуляризация --- секуляризация\n",
      "очевидный --- очевидны\n",
      "умеренный --- умеренный\n",
      "самостоятельный --- самостоятельный\n",
      "визуализация --- визуализация\n",
      "неселективный --- не селективный\n",
      "септопластика --- кератопластика\n",
      "присутствие --- присутствие\n",
      "соустье --- соустье\n",
      "кировский --- кировски\n",
      "ноющая --- ноюща\n",
      "постоять --- постоять\n",
      "стенка --- снетка\n",
      "укоротить --- укоротить\n",
      "назначить --- назначить\n",
      "госпитализация --- госпитализация\n",
      "возобновление --- возобновление\n",
      "одеть --- одет\n",
      "охранник --- охранник\n",
      "дексона --- адексолина\n",
      "систолический --- систолический\n",
      "верхушечно-перегородочный --- верхушечно-перегородочный\n",
      "расширение --- расширение\n",
      "равнозначный --- равнозначный\n",
      "предприятие --- предприятие\n",
      "ночь --- ночью\n",
      "вредность --- древность\n",
      "транспортировка --- транспортировка\n",
      "март --- Март\n",
      "гипотиазид --- гипотиреоз\n",
      "скрытый --- скрытый\n",
      "расстройство --- расстройство\n",
      "ломота --- молота\n",
      "подготовить --- подготовить\n",
      "помощь --- помощь\n",
      "большая --- больная\n",
      "эквивалент --- эквивалент\n",
      "гемостатический --- магнитостатический\n",
      "купировавшийся --- копировавшийся\n",
      "ревизия --- ревизия\n",
      "пульсирующий --- пульсирующие\n",
      "регистрироваться --- регистрироваться\n",
      "лимитирование --- лимитирование\n",
      "ометать --- метать\n",
      "стихание --- стихание\n",
      "вазопрессорный --- газокомпрессорный\n",
      "тредмил --- тред мил\n",
      "тест --- тест\n",
      "гипопноэ --- гипносон\n",
      "наш --- на\n",
      "ускоренный --- ускоренный\n",
      "эфффект --- эффект\n",
      "тромбофлебит --- тромбофлебит\n",
      "ишемический --- ишемический\n",
      "купирование --- купированием\n",
      "патологии --- патологии\n",
      "длительный --- длительный\n",
      "заключение --- заключение\n",
      "пунктировать --- пунктиров ать\n",
      "ферритина --- феррита\n",
      "гастропротективный --- противопригарный\n",
      "пароксизм --- пароксизма\n",
      "выполнять --- выполнят\n",
      "показатель --- показатель\n",
      "посттромбофлебитический --- противосифилитический\n",
      "анальгин --- анальгин\n",
      "корректировать --- корректировать\n",
      "секунда --- секунд\n",
      "креатинкиназа --- панкреатина\n",
      "утолщение --- утолщение\n",
      "терапия --- терапиям\n",
      "глибомёт --- глиома\n",
      "лобэктомия --- лоботомия\n",
      "новгородский --- новгородский\n",
      "владеть --- овладеть\n",
      "тенденция --- тенденция\n",
      "мерить --- мерит\n",
      "поражений --- поражении\n",
      "перекосить --- перекосить\n",
      "тропонин --- антропоним\n",
      "сдвиг --- сдвига\n",
      "отправить --- отправит\n",
      "сжимающее --- сжимающее\n",
      "давящий --- давящи\n",
      "нифедипин --- дифениламин\n",
      "мексикор --- сикомор\n",
      "сад --- ад\n",
      "мезентериальный --- мезентериальный\n",
      "дальнейшей --- дальнейшей\n",
      "реабилитация --- реабилитация\n",
      "переносить --- переносить\n",
      "дискомфорт --- дискомфорт\n",
      "проявление --- проявление\n",
      "батарея --- батарея\n",
      "фермент --- фермент\n",
      "затёк --- заток\n",
      "непроизвольный --- непроизвольный\n",
      "слепок --- слепо\n",
      "тенорик --- тенорки\n",
      "сегмента --- сегмента\n",
      "дрожь --- рожь\n",
      "появляется --- появляется\n",
      "гепарина --- гепарина\n",
      "предсердие --- предсердие\n",
      "диурез --- диуреза\n",
      "фиксировать --- фиксировать\n",
      "временной --- временной\n",
      "микропрепарат --- химиопрепарат\n",
      "аторвастатин --- инкрустатор\n",
      "гипотензия --- гипотензиям\n",
      "грудь --- груд\n",
      "инфаркт --- инфаркта\n",
      "мононуклеары --- мононуклеозы\n",
      "постоянно --- постоянно\n",
      "погрузка --- погрузкам\n",
      "фармакологический --- фармакологический\n",
      "нестабильный --- нестабильны\n",
      "мертенил --- мер тенил\n",
      "тахикардий --- тахикардий\n",
      "снимать --- сминать\n",
      "распространиться --- распространиться\n",
      "контрпульсатор --- контр пульсатор\n",
      "соталол --- сволота\n",
      "складываться --- складываться\n",
      "кардиомегалия --- акромегалия\n",
      "смесь --- смесь\n",
      "мкг --- мг\n",
      "похожий --- похожий\n",
      "аутовенозный --- артериовенозный\n",
      "гепатина --- гепатита\n",
      "рецидивировать --- рецитировать\n",
      "асцит --- асцита\n",
      "стенокардия --- стенокардиям\n",
      "тысяча --- тысяч\n",
      "промежуточный --- промежуточны\n",
      "возможный --- возможный\n",
      "водка --- вода\n",
      "лимфодиссекция --- фотодиссоциация\n",
      "принимать --- принимать\n",
      "стентирование --- патентирование\n",
      "незначимый --- незначимый\n",
      "настоящее --- настоящее\n",
      "задненижний --- задне нижний\n",
      "частичный --- частичны\n",
      "появиться --- появится\n",
      "тройной --- тройной\n",
      "показатель --- показатель\n",
      "эквивалент --- эквивалент\n",
      "утолстить --- утолстить\n",
      "поведение --- поведение\n",
      "аускультативный --- факультативный\n",
      "отказаться --- отказаться\n",
      "рассмотреть --- рассмотреть\n",
      "сывороточный --- сывороточный\n",
      "формирующийся --- формирующийся\n",
      "жир --- жри\n",
      "карведилол --- кардиолог\n",
      "тонкий --- тонки\n",
      "единица --- единица\n",
      "срабатывать --- срабатывать\n",
      "компрометация --- компрометация\n",
      "россия --- Россия\n",
      "массив --- массив\n",
      "нижнебоковой --- нижне боковой\n",
      "отечь --- отеч\n",
      "трепетание --- трепетание\n",
      "конкурировать --- конкурировать\n",
      "событие --- событиен\n",
      "незначительный --- незначительный\n",
      "Right corrected words count - 98 of 200 total\n"
     ]
    },
    {
     "name": "stderr",
     "output_type": "stream",
     "text": [
      "\n"
     ]
    },
    {
     "data": {
      "text/plain": "{'words_per_second': 11.557233979296347,\n 'error_precision': 0.59,\n 'lexical_precision': 0.49,\n 'overall_precision': 0.54}"
     },
     "execution_count": 107,
     "metadata": {},
     "output_type": "execute_result"
    }
   ],
   "source": [
    "test_hunspell_result = compute_all_metrics(\n",
    "    lambda : test_hunspell(error_precision_test_word_list),\n",
    "    lambda : test_hunspell(lexical_precision_test_word_list),\n",
    "    error_precision_test_word_list, error_precision_test_answers, lexical_precision_test_word_list)\n",
    "test_hunspell_result"
   ],
   "metadata": {
    "collapsed": false,
    "pycharm": {
     "name": "#%%\n"
    }
   }
  },
  {
   "cell_type": "markdown",
   "source": [
    "# Pyspellchecker (Piter Norwig's algorithm) - https://github.com/barrust/pyspellchecker"
   ],
   "metadata": {
    "collapsed": false,
    "pycharm": {
     "name": "#%% md\n"
    }
   }
  },
  {
   "cell_type": "code",
   "execution_count": 108,
   "outputs": [
    {
     "name": "stdout",
     "output_type": "stream",
     "text": [
      "Requirement already satisfied: pyspellchecker in /home/Dmitry.Pogrebnoy/Desktop/MedSpellChecker/venv/lib/python3.9/site-packages (0.6.2)\r\n"
     ]
    }
   ],
   "source": [
    "!pip install pyspellchecker"
   ],
   "metadata": {
    "collapsed": false,
    "pycharm": {
     "name": "#%%\n"
    }
   }
  },
  {
   "cell_type": "code",
   "execution_count": 109,
   "outputs": [
    {
     "name": "stdout",
     "output_type": "stream",
     "text": [
      "Name: pyspellchecker\r\n",
      "Version: 0.6.2\r\n",
      "Summary: Pure python spell checker based on work by Peter Norvig\r\n",
      "Home-page: https://github.com/barrust/pyspellchecker\r\n",
      "Author: Tyler Barrus\r\n",
      "Author-email: barrust@gmail.com\r\n",
      "License: MIT\r\n",
      "Location: /home/Dmitry.Pogrebnoy/Desktop/MedSpellChecker/venv/lib/python3.9/site-packages\r\n",
      "Requires: \r\n",
      "Required-by: \r\n"
     ]
    }
   ],
   "source": [
    "!pip show pyspellchecker"
   ],
   "metadata": {
    "collapsed": false,
    "pycharm": {
     "name": "#%%\n"
    }
   }
  },
  {
   "cell_type": "code",
   "execution_count": 110,
   "outputs": [],
   "source": [
    "import spellchecker"
   ],
   "metadata": {
    "collapsed": false,
    "pycharm": {
     "name": "#%%\n"
    }
   }
  },
  {
   "cell_type": "code",
   "execution_count": 111,
   "outputs": [],
   "source": [
    "def test_pyspellshecker(input_word_list):\n",
    "    speller = spellchecker.SpellChecker(language='ru')\n",
    "    result = []\n",
    "    timer = tqdm(input_word_list)\n",
    "    for word in timer:\n",
    "        suggestions = speller.correction(word)\n",
    "        result.append(suggestions)\n",
    "    return  {\"elapsed\" : timer.format_dict[\"elapsed\"], \"corrected_word_list\" : result}"
   ],
   "metadata": {
    "collapsed": false,
    "pycharm": {
     "name": "#%%\n"
    }
   }
  },
  {
   "cell_type": "code",
   "execution_count": 112,
   "outputs": [
    {
     "name": "stderr",
     "output_type": "stream",
     "text": [
      "100%|██████████| 200/200 [00:47<00:00,  4.20it/s]\n"
     ]
    },
    {
     "name": "stdout",
     "output_type": "stream",
     "text": [
      "Error precision\n",
      "original_word_list --- corrected_word --- answer_word_list\n",
      "эктренном --- экстренное --- ['экстренном']\n",
      "синусовго --- синусовый --- ['синусового']\n",
      "даным --- давным --- ['данным', 'данный', 'данные']\n",
      "шнутография --- шнутография --- ['шунтография']\n",
      "сникопальных --- сникопальных --- ['синкопальных']\n",
      "посление --- последние --- ['поселение', 'последний']\n",
      "ходавый --- подавай --- ['ходовый']\n",
      "анмнезе --- анмнезе --- ['анамнезе', 'анамнез']\n",
      "сентированный --- сентированный --- ['стентированный']\n",
      "самоч --- самое --- ['самочувствие']\n",
      "перевдена --- переведено --- ['переведена']\n",
      "стентированеим --- стентированеим --- ['стентированием', 'стентирование']\n",
      "кардиол --- кардинал --- ['кардиолог,кардиологический']\n",
      "переведна --- переведено --- ['переведена']\n",
      "догосптальном --- догосптальном --- ['догоспитальном']\n",
      "миним --- мини --- ['минимум', 'минимальный']\n",
      "субфебриллитет --- субфебриллитет --- ['субфебрилитет']\n",
      "загрудиные --- загрудиные --- ['загрудинные', 'загрудинный']\n",
      "перферия --- перферия --- ['периферия']\n",
      "течени --- течение --- ['течение']\n",
      "оклюзия --- иллюзия --- ['окклюзия']\n",
      "жнщина --- женщина --- ['женщина']\n",
      "пциент --- пациент --- ['пациент']\n",
      "зарегистирована --- зарегистрирована --- ['зарегистрирована']\n",
      "сегмета --- семена --- ['сегмента']\n",
      "клекте --- клетке --- ['клетке']\n",
      "эпид --- спид --- ['эпидемия', 'эпидемиологический', 'эпидуральный']\n",
      "интелектуально --- интелектуально --- ['интеллектуально']\n",
      "нижн --- ниже --- ['нижний']\n",
      "прводилась --- родилась --- ['проводилась', 'проводить']\n",
      "неуст --- несут --- ['неустановленный']\n",
      "госптализирован --- госптализирован --- ['госпитализирован']\n",
      "вперые --- впервые --- ['впервые']\n",
      "послеоперационом --- послеоперационом --- ['послеоперационном']\n",
      "госпитализирова --- госпитализирова --- ['госпитализирован']\n",
      "ухудщение --- ухудшение --- ['ухудшение']\n",
      "рентг --- рента --- ['рентген']\n",
      "дальнешем --- дальнейшее --- ['дальнейшем']\n",
      "троботическая --- троботическая --- ['тромботическая']\n",
      "многосоудистое --- многосоудистое --- ['многососудистое', 'многососудистый']\n",
      "миокрада --- миокрада --- ['миокарда', 'миокард']\n",
      "сопрвождались --- сопрвождались --- ['сопровождались']\n",
      "дискмфорт --- дискмфорт --- ['дискомфорт']\n",
      "потлтвостью --- потлтвостью --- ['потливостью']\n",
      "левогожелудочка --- левогожелудочка --- ['левого желудочка', 'левый желудочек']\n",
      "рание --- ранее --- ['ранее', 'ранние']\n",
      "виед --- вид --- ['виде', 'вид']\n",
      "ангинозныеболи --- ангинозныеболи --- ['ангинозные боли', 'ангиозный боль']\n",
      "догоситальном --- догоситальном --- ['догоспитальном']\n",
      "ввполнен --- вполне --- ['выполнен']\n",
      "чаосв --- часов --- ['часов']\n",
      "октазалась --- оказалась --- ['отказалась']\n",
      "линика --- клиника --- ['клиника']\n",
      "ммента --- момента --- ['момента']\n",
      "проведеной --- проведение --- ['проведенной']\n",
      "выполненяи --- выполнение --- ['выполнения', 'выполнение']\n",
      "леченяи --- лечения --- ['лечения', 'лечение']\n",
      "обтилась --- осталась --- ['обратилась']\n",
      "повтороно --- повторно --- ['повторно']\n",
      "зарегистриованы --- зарегистрированы --- ['зарегистрированы']\n",
      "отицает --- отрицает --- ['отрицает', 'отрицать']\n",
      "дальнейщем --- дальнейшее --- ['дальнейшем']\n",
      "болисохраняются --- болисохраняются --- ['боли сохраняются']\n",
      "частичынм --- частично --- ['частичным']\n",
      "атерокслеротичсекая --- атерокслеротичсекая --- ['атеросклеротическая']\n",
      "деньс --- день --- ['день', 'день с']\n",
      "назначаля --- назначил --- ['назначался']\n",
      "проведеняи --- проведения --- ['проведения']\n",
      "беспакоют --- беспокоит --- ['беспокоят']\n",
      "гипертензи --- гипертензи --- ['гипертензия']\n",
      "воленйбол --- воленйбол --- ['волейбол']\n",
      "болезн --- болезнь --- ['болезнь']\n",
      "стенокардаа --- стенокардаа --- ['стенокардия']\n",
      "продолжалсь --- продолжалось --- ['продолжалась']\n",
      "поворное --- повторное --- ['повторное']\n",
      "ощуащет --- ощущаете --- ['ощущает']\n",
      "ангигнозного --- ангигнозного --- ['ангинозного', 'ангинозный']\n",
      "диагностичекой --- диагностичекой --- ['диагностической', 'диагностический']\n",
      "поддерживающией --- поддерживающией --- ['поддерживающий']\n",
      "межлопаточнй --- межлопаточнй --- ['межлопаточный']\n",
      "бедреной --- бедной --- ['бедренной', 'бедренный']\n",
      "гшрядки --- гшрядки --- ['грядки']\n",
      "бассеине --- бассейне --- ['бассейне', 'бассейн']\n",
      "возлуха --- воздуха --- ['воздуха', 'воздух']\n",
      "сенября --- сентября --- ['сентября', 'сентябрь']\n",
      "постояная --- постоянная --- ['постоянная', 'постоянный']\n",
      "рекмоендовнао --- рекмоендовнао --- ['рекомендовано']\n",
      "поврждения --- повреждения --- ['повреждения']\n",
      "дискофморта --- дискофморта --- ['дискомфорт']\n",
      "импалнтирован --- импалнтирован --- ['имплантирован', 'имплантировать']\n",
      "неочетливая --- неочетливая --- ['неотчетливая', 'неотчетливый']\n",
      "обесвеченный --- обесвеченный --- ['обесцвеченный', 'обеспеченный']\n",
      "серце --- сердце --- ['сердце']\n",
      "блезнь --- болезнь --- ['болезнь']\n",
      "лергия --- серия --- ['аллергия']\n",
      "ука --- ума --- ['рука']\n",
      "изжга --- инга --- ['изжога']\n",
      "жение --- жених --- ['жжение']\n",
      "кашел --- нашел --- ['кашель']\n",
      "рствор --- раствор --- ['раствор']\n",
      "пациен --- пациент --- ['пациент']\n",
      "пожлой --- пожилой --- ['пожилой']\n",
      "лекарсво --- лекарство --- ['лекарство']\n",
      "нпреносимость --- нпреносимость --- ['непереносимость']\n",
      "амупула --- ампулу --- ['ампула']\n",
      "гел --- дел --- ['гель']\n",
      "конценрат --- концерт --- ['концентрат']\n",
      "рилиф --- или --- ['релиф']\n",
      "чссс --- мисс --- ['ЧСС', 'чсс']\n",
      "экгъ --- экг --- ['ЭКГ', 'экг']\n",
      "фибриляция --- фибрилляция --- ['фибрилляция']\n",
      "желдочек --- желдочек --- ['желудочек']\n",
      "хрон --- хрен --- ['хронический']\n",
      "гиподин --- господин --- ['гиподинамический']\n",
      "нерный --- черный --- ['нервный']\n",
      "сист --- сиси --- ['система']\n",
      "диагоностика --- диагностика --- ['диагностика']\n",
      "гипоксмия --- гипоксмия --- ['гипоксемия']\n",
      "ледокоин --- ледокоин --- ['лидокаин']\n",
      "блокато --- блокнот --- ['блокатор']\n",
      "тахкардия --- тахикардия --- ['тахикардия']\n",
      "малоинвозивный --- малоинвозивный --- ['малоинвазивный']\n",
      "алация --- алисия --- ['аблация', 'абляция']\n",
      "имь --- им --- ['ИМ', 'им']\n",
      "паражение --- поражение --- ['поражение']\n",
      "тяжолый --- тяжелый --- ['тяжелый']\n",
      "гастрапластика --- гастрапластика --- ['гастропластика']\n",
      "вс --- вы --- ['вес']\n",
      "лешний --- летний --- ['лишний']\n",
      "орта --- рота --- ['аорта']\n",
      "клапа --- клара --- ['клапан']\n",
      "вент --- кент --- ['вена']\n",
      "палый --- малый --- ['полый']\n",
      "пирикард --- пикард --- ['перикард']\n",
      "метральный --- митральный --- ['митральный']\n",
      "ултразвук --- ультразвук --- ['ультразвук']\n",
      "херург --- хирург --- ['хирург']\n",
      "кордиолог --- кардиолог --- ['кардиолог']\n",
      "килограм --- килограмм --- ['килограмм']\n",
      "акенезия --- амнезия --- ['акинезия']\n",
      "врхушка --- верхушка --- ['верхушка']\n",
      "апекальный --- печальный --- ['апикальный']\n",
      "сгмент --- сегмент --- ['сегмент']\n",
      "вес --- вес --- ['весь']\n",
      "сьенка --- стенка --- ['стенка']\n",
      "церкулярный --- церкулярный --- ['циркулярный']\n",
      "сридиный --- сридиный --- ['срединный']\n",
      "калапаный --- клапаны --- ['клапанный']\n",
      "апарат --- аппарат --- ['аппарат']\n",
      "потология --- патология --- ['патология']\n",
      "перекард --- перекур --- ['перикард']\n",
      "праксимальный --- максимальный --- ['проксимальный']\n",
      "деаметр --- диаметр --- ['диаметр']\n",
      "корекция --- коррекция --- ['коррекция']\n",
      "аслажнение --- наслаждение --- ['осложнение']\n",
      "стрдать --- страдать --- ['страдать']\n",
      "гепертонический --- гепертонический --- ['гипертонический']\n",
      "болезн --- болезнь --- ['болезнь']\n",
      "одоптировать --- одоптировать --- ['адаптировать']\n",
      "получять --- получить --- ['получать']\n",
      "кансервативный --- кансервативный --- ['консервативный']\n",
      "тичение --- течение --- ['течение']\n",
      "пребование --- пребывание --- ['пребывание']\n",
      "отбиление --- отделение --- ['отделение']\n",
      "самачувствие --- самочувствие --- ['самочувствие']\n",
      "уходшение --- ухудшение --- ['ухудшение']\n",
      "месро --- место --- ['место']\n",
      "пункцыя --- пункция --- ['пункция']\n",
      "особеность --- особенность --- ['особенность']\n",
      "шнут --- кнут --- ['шунт']\n",
      "шнутирование --- шунтирование --- ['шунтирование']\n",
      "готчина --- ветчина --- ['гатчина']\n",
      "эхэ --- тхэ --- ['эхо']\n",
      "каранарный --- каранарный --- ['коронарный']\n",
      "ортерия --- артерия --- ['артерия']\n",
      "сначимый --- сначимый --- ['значимый']\n",
      "стинос --- спиной --- ['стеноз']\n",
      "гаспиализировать --- гаспиализировать --- ['госпитализировать']\n",
      "имья --- имя --- ['имя']\n",
      "олмазов --- толмачов --- ['алмазов']\n",
      "прдшствовать --- прдшствовать --- ['предшествовать']\n",
      "стинакардия --- стинакардия --- ['стенокардия']\n",
      "пиринести --- принести --- ['перенести']\n",
      "ифаркт --- инфаркт --- ['инфаркт']\n",
      "моикарда --- моикарда --- ['миокарда']\n",
      "лакализация --- канализация --- ['локализация']\n",
      "спразка --- справка --- ['справка']\n",
      "дальнейшый --- дальнейший --- ['дальнейший']\n",
      "хроническаянедостаточность --- хроническаянедостаточность --- ['хроническая недостаточность', 'хронический недостаточность']\n",
      "инфарктмиокарда --- инфарктмиокарда --- ['инфаркт миокарда', 'инфаркт миокард']\n",
      "отузла --- отдала --- ['от узла', 'от узел']\n",
      "нарушениеработы --- нарушениеработы --- ['нарушение работы', 'нарушение работа']\n",
      "вминуту --- минуту --- ['в минуту', 'в минута', 'минута']\n",
      "эндокриннойсистемы --- эндокриннойсистемы --- ['эндокринная система', 'эндокринный система']\n",
      "сердечныйритм --- сердечныйритм --- ['сердечный ритм']\n",
      "узловаятахикардия --- узловаятахикардия --- ['узловая тахикардия', 'узловой тахикардия']\n",
      "основныефакторы --- основныефакторы --- ['основной факто', 'основные факторы']\n",
      "остановкасердца --- остановкасердца --- ['остановка сердца', 'остановка сердце']\n",
      "фибрилляцияжелудочков --- фибрилляцияжелудочков --- ['фибрилляция желудочков', 'фибрилляция желудочек']\n",
      "счастотой --- счастотой --- ['с частотой', 'с частотаб частота']\n",
      "Right corrected words count - 67 of 200 total\n"
     ]
    },
    {
     "name": "stderr",
     "output_type": "stream",
     "text": [
      "100%|██████████| 200/200 [00:46<00:00,  4.34it/s]"
     ]
    },
    {
     "name": "stdout",
     "output_type": "stream",
     "text": [
      "Lexical precision\n",
      "original_word_list --- corrected_word\n",
      "выборгский --- выборгский\n",
      "отказываться --- отказываться\n",
      "нитропрепарат --- нитропрепарат\n",
      "предсердие --- предсердие\n",
      "диссоциация --- ассоциация\n",
      "кольцевой --- кольцевой\n",
      "отрыв --- отрыв\n",
      "вовлечение --- вовлечение\n",
      "мелкопузырчатый --- мелкопузырчатый\n",
      "госпитализировать --- госпитализировать\n",
      "фтизиатр --- фтизиатр\n",
      "проксимальный --- проксимальный\n",
      "приступ --- приступ\n",
      "рецидивировать --- рецидивировать\n",
      "беспокоить --- беспокоить\n",
      "значимый --- знакомый\n",
      "одномоментный --- одномоментный\n",
      "течение --- течение\n",
      "постепенной --- постепенно\n",
      "трафика --- графика\n",
      "левый --- левый\n",
      "область --- область\n",
      "окклюзия --- окклюзия\n",
      "каждый --- каждый\n",
      "аторвастатина --- аторвастатина\n",
      "проникающий --- проникающие\n",
      "слух --- слух\n",
      "отрицательный --- отрицательный\n",
      "заднее --- заднее\n",
      "диафрагмальный --- диафрагмальный\n",
      "физическая --- физическая\n",
      "реваскуляризация --- реваскуляризация\n",
      "очевидный --- очевидный\n",
      "умеренный --- уверенный\n",
      "самостоятельный --- самостоятельно\n",
      "визуализация --- визуализация\n",
      "неселективный --- неселективный\n",
      "септопластика --- септопластика\n",
      "присутствие --- присутствие\n",
      "соустье --- счастье\n",
      "кировский --- сиротский\n",
      "ноющая --- поющая\n",
      "постоять --- постоять\n",
      "стенка --- стенка\n",
      "укоротить --- укоротить\n",
      "назначить --- назначить\n",
      "госпитализация --- госпитализация\n",
      "возобновление --- возобновление\n",
      "одеть --- одеть\n",
      "охранник --- охранник\n",
      "дексона --- джексона\n",
      "систолический --- исторический\n",
      "верхушечно-перегородочный --- верхушечно-перегородочный\n",
      "расширение --- расширение\n",
      "равнозначный --- равнозначный\n",
      "предприятие --- предприятие\n",
      "ночь --- ночь\n",
      "вредность --- внешность\n",
      "транспортировка --- транспортировка\n",
      "март --- март\n",
      "гипотиазид --- гипотиазид\n",
      "скрытый --- скрытый\n",
      "расстройство --- расстройство\n",
      "ломота --- ворота\n",
      "подготовить --- подготовить\n",
      "помощь --- помощь\n",
      "большая --- большая\n",
      "эквивалент --- эквивалент\n",
      "гемостатический --- гемостатический\n",
      "купировавшийся --- купировавшийся\n",
      "ревизия --- религия\n",
      "пульсирующий --- пульсирующий\n",
      "регистрироваться --- регистрироваться\n",
      "лимитирование --- лимитирование\n",
      "ометать --- летать\n",
      "стихание --- свидание\n",
      "вазопрессорный --- вазопрессорный\n",
      "тредмил --- тредмил\n",
      "тест --- тест\n",
      "гипопноэ --- гипопноэ\n",
      "наш --- наш\n",
      "ускоренный --- ускоренный\n",
      "эфффект --- эффект\n",
      "тромбофлебит --- тромбофлебит\n",
      "ишемический --- ишемический\n",
      "купирование --- копирование\n",
      "патологии --- патология\n",
      "длительный --- длительный\n",
      "заключение --- заключение\n",
      "пунктировать --- пунктировать\n",
      "ферритина --- ферритина\n",
      "гастропротективный --- гастропротективный\n",
      "пароксизм --- пароксизм\n",
      "выполнять --- выполнять\n",
      "показатель --- показатель\n",
      "посттромбофлебитический --- посттромбофлебитический\n",
      "анальгин --- аналогия\n",
      "корректировать --- корректировать\n",
      "секунда --- секунда\n",
      "креатинкиназа --- креатинкиназа\n",
      "утолщение --- угощение\n",
      "терапия --- терапия\n",
      "глибомёт --- глибомёт\n",
      "лобэктомия --- лоботомия\n",
      "новгородский --- новгородский\n",
      "владеть --- владеть\n",
      "тенденция --- тенденция\n",
      "мерить --- верить\n",
      "поражений --- поражение\n",
      "перекосить --- перекусить\n",
      "тропонин --- тропонин\n",
      "сдвиг --- сдвиг\n",
      "отправить --- отправить\n",
      "сжимающее --- сжимающее\n",
      "давящий --- давний\n",
      "нифедипин --- нифедипин\n",
      "мексикор --- мексика\n",
      "сад --- сад\n",
      "мезентериальный --- мезентериальный\n",
      "дальнейшей --- дальнейшее\n",
      "реабилитация --- реабилитация\n",
      "переносить --- переносить\n",
      "дискомфорт --- дискомфорт\n",
      "проявление --- проявление\n",
      "батарея --- батарея\n",
      "фермент --- ферменты\n",
      "затёк --- засёк\n",
      "непроизвольный --- непроизвольный\n",
      "слепок --- слепок\n",
      "тенорик --- теория\n",
      "сегмента --- сегмент\n",
      "дрожь --- дрожь\n",
      "появляется --- появляется\n",
      "гепарина --- гепарина\n",
      "предсердие --- предсердие\n",
      "диурез --- диурез\n",
      "фиксировать --- зафиксировать\n",
      "временной --- временной\n",
      "микропрепарат --- микропрепарат\n",
      "аторвастатин --- аторвастатин\n",
      "гипотензия --- гипотензия\n",
      "грудь --- грудь\n",
      "инфаркт --- инфаркт\n",
      "мононуклеары --- мононуклеары\n",
      "постоянно --- постоянно\n",
      "погрузка --- погрузка\n",
      "фармакологический --- фармакологический\n",
      "нестабильный --- нестабильный\n",
      "мертенил --- мертенил\n",
      "тахикардий --- тахикардия\n",
      "снимать --- снимать\n",
      "распространиться --- распространить\n",
      "контрпульсатор --- контрпульсатор\n",
      "соталол --- стало\n",
      "складываться --- складывается\n",
      "кардиомегалия --- кардиомегалия\n",
      "смесь --- смесь\n",
      "мкг --- мог\n",
      "похожий --- похожий\n",
      "аутовенозный --- аутовенозный\n",
      "гепатина --- гепатит\n",
      "рецидивировать --- рецидивировать\n",
      "асцит --- спит\n",
      "стенокардия --- стенокардия\n",
      "тысяча --- тысяча\n",
      "промежуточный --- промежуточные\n",
      "возможный --- возможный\n",
      "водка --- водка\n",
      "лимфодиссекция --- лимфодиссекция\n",
      "принимать --- принимать\n",
      "стентирование --- тестирование\n",
      "незначимый --- незнакомый\n",
      "настоящее --- настоящее\n",
      "задненижний --- задненижний\n",
      "частичный --- частичный\n",
      "появиться --- появиться\n",
      "тройной --- тройной\n",
      "показатель --- показатель\n",
      "эквивалент --- эквивалент\n",
      "утолстить --- отомстить\n",
      "поведение --- поведение\n",
      "аускультативный --- аускультативный\n",
      "отказаться --- отказаться\n",
      "рассмотреть --- рассмотреть\n",
      "сывороточный --- сывороточный\n",
      "формирующийся --- формирующийся\n",
      "жир --- жир\n",
      "карведилол --- карведилол\n",
      "тонкий --- тонкий\n",
      "единица --- единица\n",
      "срабатывать --- зарабатывать\n",
      "компрометация --- компрометация\n",
      "россия --- россия\n",
      "массив --- массив\n",
      "нижнебоковой --- нижнебоковой\n",
      "отечь --- отель\n",
      "трепетание --- трепетание\n",
      "конкурировать --- конкурировать\n",
      "событие --- событие\n",
      "незначительный --- незначительный\n",
      "Right corrected words count - 153 of 200 total\n"
     ]
    },
    {
     "name": "stderr",
     "output_type": "stream",
     "text": [
      "\n"
     ]
    },
    {
     "data": {
      "text/plain": "{'words_per_second': 4.2689818545492715,\n 'error_precision': 0.335,\n 'lexical_precision': 0.765,\n 'overall_precision': 0.55}"
     },
     "execution_count": 112,
     "metadata": {},
     "output_type": "execute_result"
    }
   ],
   "source": [
    "test_pyspellshecker_result = compute_all_metrics(\n",
    "    lambda : test_pyspellshecker(error_precision_test_word_list),\n",
    "    lambda : test_pyspellshecker(lexical_precision_test_word_list),\n",
    "    error_precision_test_word_list, error_precision_test_answers, lexical_precision_test_word_list)\n",
    "test_pyspellshecker_result"
   ],
   "metadata": {
    "collapsed": false,
    "pycharm": {
     "name": "#%%\n"
    }
   }
  },
  {
   "cell_type": "markdown",
   "source": [
    "# PyEnchant - https://pypi.org/project/pyenchant/"
   ],
   "metadata": {
    "collapsed": false,
    "pycharm": {
     "name": "#%% md\n"
    }
   }
  },
  {
   "cell_type": "code",
   "execution_count": 113,
   "outputs": [
    {
     "name": "stdout",
     "output_type": "stream",
     "text": [
      "Requirement already satisfied: pyenchant in /home/Dmitry.Pogrebnoy/Desktop/MedSpellChecker/venv/lib/python3.9/site-packages (3.2.2)\r\n"
     ]
    }
   ],
   "source": [
    "!pip install pyenchant"
   ],
   "metadata": {
    "collapsed": false,
    "pycharm": {
     "name": "#%%\n"
    }
   }
  },
  {
   "cell_type": "code",
   "execution_count": 114,
   "outputs": [
    {
     "name": "stdout",
     "output_type": "stream",
     "text": [
      "Name: pyenchant\r\n",
      "Version: 3.2.2\r\n",
      "Summary: Python bindings for the Enchant spellchecking system\r\n",
      "Home-page: https://pyenchant.github.io/pyenchant/\r\n",
      "Author: Dimitri Merejkowsky\r\n",
      "Author-email: d.merej@gmail.com\r\n",
      "License: LGPL\r\n",
      "Location: /home/Dmitry.Pogrebnoy/Desktop/MedSpellChecker/venv/lib/python3.9/site-packages\r\n",
      "Requires: \r\n",
      "Required-by: \r\n"
     ]
    }
   ],
   "source": [
    "!pip show pyenchant"
   ],
   "metadata": {
    "collapsed": false,
    "pycharm": {
     "name": "#%%\n"
    }
   }
  },
  {
   "cell_type": "code",
   "execution_count": 115,
   "outputs": [],
   "source": [
    "import enchant"
   ],
   "metadata": {
    "collapsed": false,
    "pycharm": {
     "name": "#%%\n"
    }
   }
  },
  {
   "cell_type": "code",
   "execution_count": 116,
   "outputs": [],
   "source": [
    "def test_enchant(input_word_list):\n",
    "    speller = enchant.Dict(\"ru\")\n",
    "    result = []\n",
    "    timer = tqdm(input_word_list)\n",
    "    for word in timer:\n",
    "        suggestions = speller.suggest(word)\n",
    "        if len(suggestions) == 0:\n",
    "            result.append(word)\n",
    "        else:\n",
    "            result.append(suggestions[0])\n",
    "    return  {\"elapsed\" : timer.format_dict[\"elapsed\"], \"corrected_word_list\" : result}"
   ],
   "metadata": {
    "collapsed": false,
    "pycharm": {
     "name": "#%%\n"
    }
   }
  },
  {
   "cell_type": "code",
   "execution_count": 117,
   "outputs": [
    {
     "name": "stderr",
     "output_type": "stream",
     "text": [
      "100%|██████████| 200/200 [00:07<00:00, 28.48it/s]\n"
     ]
    },
    {
     "name": "stdout",
     "output_type": "stream",
     "text": [
      "Error precision\n",
      "original_word_list --- corrected_word --- answer_word_list\n",
      "эктренном --- экстренном --- ['экстренном']\n",
      "синусовго --- синусов го --- ['синусового']\n",
      "даным --- даны --- ['данным', 'данный', 'данные']\n",
      "шнутография --- нотография --- ['шунтография']\n",
      "сникопальных --- сник опальных --- ['синкопальных']\n",
      "посление --- поселение --- ['поселение', 'последний']\n",
      "ходавый --- хордовый --- ['ходовый']\n",
      "анмнезе --- анамнезе --- ['анамнезе', 'анамнез']\n",
      "сентированный --- сориентированный --- ['стентированный']\n",
      "самоч --- само --- ['самочувствие']\n",
      "перевдена --- перевидена --- ['переведена']\n",
      "стентированеим --- сориентировавшим --- ['стентированием', 'стентирование']\n",
      "кардиол --- кар диол --- ['кардиолог,кардиологический']\n",
      "переведна --- переведена --- ['переведена']\n",
      "догосптальном --- госпитальном --- ['догоспитальном']\n",
      "миним --- мини --- ['минимум', 'минимальный']\n",
      "субфебриллитет --- субмиллиметровый --- ['субфебрилитет']\n",
      "загрудиные --- нагрудные --- ['загрудинные', 'загрудинный']\n",
      "перферия --- периферия --- ['периферия']\n",
      "течени --- течении --- ['течение']\n",
      "оклюзия --- окклюзия --- ['окклюзия']\n",
      "жнщина --- женщина --- ['женщина']\n",
      "пциент --- пациент --- ['пациент']\n",
      "зарегистирована --- зарегистрирована --- ['зарегистрирована']\n",
      "сегмета --- сегмента --- ['сегмента']\n",
      "клекте --- клетке --- ['клетке']\n",
      "эпид --- эпод --- ['эпидемия', 'эпидемиологический', 'эпидуральный']\n",
      "интелектуально --- интеллектуально --- ['интеллектуально']\n",
      "нижн --- ниж --- ['нижний']\n",
      "прводилась --- приводилась --- ['проводилась', 'проводить']\n",
      "неуст --- несут --- ['неустановленный']\n",
      "госптализирован --- госпитализирован --- ['госпитализирован']\n",
      "вперые --- впертые --- ['впервые']\n",
      "послеоперационом --- послеоперационном --- ['послеоперационном']\n",
      "госпитализирова --- госпитализирован --- ['госпитализирован']\n",
      "ухудщение --- ухудшение --- ['ухудшение']\n",
      "рентг --- рента --- ['рентген']\n",
      "дальнешем --- дальнейшем --- ['дальнейшем']\n",
      "троботическая --- астроботаническая --- ['тромботическая']\n",
      "многосоудистое --- многосоставное --- ['многососудистое', 'многососудистый']\n",
      "миокрада --- миокарда --- ['миокарда', 'миокард']\n",
      "сопрвождались --- сопровождались --- ['сопровождались']\n",
      "дискмфорт --- дискомфорт --- ['дискомфорт']\n",
      "потлтвостью --- потливостью --- ['потливостью']\n",
      "левогожелудочка --- левого желудочка --- ['левого желудочка', 'левый желудочек']\n",
      "рание --- рани --- ['ранее', 'ранние']\n",
      "виед --- виде --- ['виде', 'вид']\n",
      "ангинозныеболи --- ангинозные боли --- ['ангинозные боли', 'ангиозный боль']\n",
      "догоситальном --- госпитальном --- ['догоспитальном']\n",
      "ввполнен --- выполнен --- ['выполнен']\n",
      "чаосв --- часов --- ['часов']\n",
      "октазалась --- отказалась --- ['отказалась']\n",
      "линика --- линка --- ['клиника']\n",
      "ммента --- мента --- ['момента']\n",
      "проведеной --- проведено --- ['проведенной']\n",
      "выполненяи --- выполнения --- ['выполнения', 'выполнение']\n",
      "леченяи --- лечения --- ['лечения', 'лечение']\n",
      "обтилась --- отбилась --- ['обратилась']\n",
      "повтороно --- повторно --- ['повторно']\n",
      "зарегистриованы --- зарегистрированы --- ['зарегистрированы']\n",
      "отицает --- отрицает --- ['отрицает', 'отрицать']\n",
      "дальнейщем --- дальнейшем --- ['дальнейшем']\n",
      "болисохраняются --- боли сохраняются --- ['боли сохраняются']\n",
      "частичынм --- частичным --- ['частичным']\n",
      "атерокслеротичсекая --- атеросклеротическая --- ['атеросклеротическая']\n",
      "деньс --- день --- ['день', 'день с']\n",
      "назначаля --- назначал --- ['назначался']\n",
      "проведеняи --- проведения --- ['проведения']\n",
      "беспакоют --- беспокоит --- ['беспокоят']\n",
      "гипертензи --- гипертензии --- ['гипертензия']\n",
      "воленйбол --- волейбол --- ['волейбол']\n",
      "болезн --- болен --- ['болезнь']\n",
      "стенокардаа --- стенокардия --- ['стенокардия']\n",
      "продолжалсь --- продолжались --- ['продолжалась']\n",
      "поворное --- повторное --- ['повторное']\n",
      "ощуащет --- ощущает --- ['ощущает']\n",
      "ангигнозного --- ангинозного --- ['ангинозного', 'ангинозный']\n",
      "диагностичекой --- диагностической --- ['диагностической', 'диагностический']\n",
      "поддерживающией --- поддерживающие --- ['поддерживающий']\n",
      "межлопаточнй --- лопаточный --- ['межлопаточный']\n",
      "бедреной --- бедренной --- ['бедренной', 'бедренный']\n",
      "гшрядки --- грядки --- ['грядки']\n",
      "бассеине --- бассейне --- ['бассейне', 'бассейн']\n",
      "возлуха --- воздуха --- ['воздуха', 'воздух']\n",
      "сенября --- сентября --- ['сентября', 'сентябрь']\n",
      "постояная --- постоянная --- ['постоянная', 'постоянный']\n",
      "рекмоендовнао --- рекомендовано --- ['рекомендовано']\n",
      "поврждения --- повреждения --- ['повреждения']\n",
      "дискофморта --- дискомфорта --- ['дискомфорт']\n",
      "импалнтирован --- имплантирован --- ['имплантирован', 'имплантировать']\n",
      "неочетливая --- неотчетливая --- ['неотчетливая', 'неотчетливый']\n",
      "обесвеченный --- обесцвеченный --- ['обесцвеченный', 'обеспеченный']\n",
      "серце --- сере --- ['сердце']\n",
      "блезнь --- болезнь --- ['болезнь']\n",
      "лергия --- аллергия --- ['аллергия']\n",
      "ука --- ка --- ['рука']\n",
      "изжга --- изжога --- ['изжога']\n",
      "жение --- жени --- ['жжение']\n",
      "кашел --- кашле --- ['кашель']\n",
      "рствор --- створ --- ['раствор']\n",
      "пациен --- пациент --- ['пациент']\n",
      "пожлой --- полой --- ['пожилой']\n",
      "лекарсво --- лекарство --- ['лекарство']\n",
      "нпреносимость --- непереносимость --- ['непереносимость']\n",
      "амупула --- ампула --- ['ампула']\n",
      "гел --- лег --- ['гель']\n",
      "конценрат --- концентрат --- ['концентрат']\n",
      "рилиф --- рифли --- ['релиф']\n",
      "чссс --- СССР --- ['ЧСС', 'чсс']\n",
      "экгъ --- ЭКГ --- ['ЭКГ', 'экг']\n",
      "фибриляция --- фибрилляция --- ['фибрилляция']\n",
      "желдочек --- желудочек --- ['желудочек']\n",
      "хрон --- хрен --- ['хронический']\n",
      "гиподин --- подин --- ['гиподинамический']\n",
      "нерный --- нервный --- ['нервный']\n",
      "сист --- сист --- ['система']\n",
      "диагоностика --- диагностика --- ['диагностика']\n",
      "гипоксмия --- гипоксия --- ['гипоксемия']\n",
      "ледокоин --- ледокол --- ['лидокаин']\n",
      "блокато --- блокатор --- ['блокатор']\n",
      "тахкардия --- тахикардия --- ['тахикардия']\n",
      "малоинвозивный --- малоинформативный --- ['малоинвазивный']\n",
      "алация --- акация --- ['аблация', 'абляция']\n",
      "имь --- им --- ['ИМ', 'им']\n",
      "паражение --- поражение --- ['поражение']\n",
      "тяжолый --- тяжелый --- ['тяжелый']\n",
      "гастрапластика --- органопластика --- ['гастропластика']\n",
      "вс --- св --- ['вес']\n",
      "лешний --- лишней --- ['лишний']\n",
      "орта --- рота --- ['аорта']\n",
      "клапа --- капа --- ['клапан']\n",
      "вент --- вен --- ['вена']\n",
      "палый --- пылай --- ['полый']\n",
      "пирикард --- перикард --- ['перикард']\n",
      "метральный --- метальный --- ['митральный']\n",
      "ултразвук --- ультразвук --- ['ультразвук']\n",
      "херург --- хирург --- ['хирург']\n",
      "кордиолог --- кардиолог --- ['кардиолог']\n",
      "килограм --- килограмм --- ['килограмм']\n",
      "акенезия --- акинезия --- ['акинезия']\n",
      "врхушка --- врушка --- ['верхушка']\n",
      "апекальный --- апикальный --- ['апикальный']\n",
      "сгмент --- сегмент --- ['сегмент']\n",
      "вес --- все --- ['весь']\n",
      "сьенка --- стенка --- ['стенка']\n",
      "церкулярный --- циркулярный --- ['циркулярный']\n",
      "сридиный --- срединный --- ['срединный']\n",
      "калапаный --- клапанный --- ['клапанный']\n",
      "апарат --- аппарат --- ['аппарат']\n",
      "потология --- топология --- ['патология']\n",
      "перекард --- перикард --- ['перикард']\n",
      "праксимальный --- проксимальный --- ['проксимальный']\n",
      "деаметр --- диаметр --- ['диаметр']\n",
      "корекция --- коррекция --- ['коррекция']\n",
      "аслажнение --- наслаждение --- ['осложнение']\n",
      "стрдать --- страдать --- ['страдать']\n",
      "гепертонический --- гипертонический --- ['гипертонический']\n",
      "болезн --- болен --- ['болезнь']\n",
      "одоптировать --- кооптировать --- ['адаптировать']\n",
      "получять --- получить --- ['получать']\n",
      "кансервативный --- консервативный --- ['консервативный']\n",
      "тичение --- точение --- ['течение']\n",
      "пребование --- пробование --- ['пребывание']\n",
      "отбиление --- отбавление --- ['отделение']\n",
      "самачувствие --- самочувствие --- ['самочувствие']\n",
      "уходшение --- ухудшение --- ['ухудшение']\n",
      "месро --- место --- ['место']\n",
      "пункцыя --- пункция --- ['пункция']\n",
      "особеность --- особенность --- ['особенность']\n",
      "шнут --- шунт --- ['шунт']\n",
      "шнутирование --- шунтирование --- ['шунтирование']\n",
      "готчина --- вотчина --- ['гатчина']\n",
      "эхэ --- эх --- ['эхо']\n",
      "каранарный --- карандашный --- ['коронарный']\n",
      "ортерия --- артерия --- ['артерия']\n",
      "сначимый --- значимый --- ['значимый']\n",
      "стинос --- остинато --- ['стеноз']\n",
      "гаспиализировать --- госпитализировать --- ['госпитализировать']\n",
      "имья --- имя --- ['имя']\n",
      "олмазов --- алмазов --- ['алмазов']\n",
      "прдшствовать --- предшествовать --- ['предшествовать']\n",
      "стинакардия --- стенокардия --- ['стенокардия']\n",
      "пиринести --- принести --- ['перенести']\n",
      "ифаркт --- инфаркт --- ['инфаркт']\n",
      "моикарда --- миокарда --- ['миокарда']\n",
      "лакализация --- алкализация --- ['локализация']\n",
      "спразка --- справка --- ['справка']\n",
      "дальнейшый --- дальнейший --- ['дальнейший']\n",
      "хроническаянедостаточность --- хроническая недостаточность --- ['хроническая недостаточность', 'хронический недостаточность']\n",
      "инфарктмиокарда --- инфаркт миокарда --- ['инфаркт миокарда', 'инфаркт миокард']\n",
      "отузла --- от узла --- ['от узла', 'от узел']\n",
      "нарушениеработы --- нарушение работы --- ['нарушение работы', 'нарушение работа']\n",
      "вминуту --- минуту --- ['в минуту', 'в минута', 'минута']\n",
      "эндокриннойсистемы --- эндокринной системы --- ['эндокринная система', 'эндокринный система']\n",
      "сердечныйритм --- сердечный ритм --- ['сердечный ритм']\n",
      "узловаятахикардия --- узловая тахикардия --- ['узловая тахикардия', 'узловой тахикардия']\n",
      "основныефакторы --- основные факторы --- ['основной факто', 'основные факторы']\n",
      "остановкасердца --- остановка сердца --- ['остановка сердца', 'остановка сердце']\n",
      "фибрилляцияжелудочков --- фибрилляция желудочков --- ['фибрилляция желудочков', 'фибрилляция желудочек']\n",
      "счастотой --- частотой --- ['с частотой', 'с частотаб частота']\n",
      "Right corrected words count - 120 of 200 total\n"
     ]
    },
    {
     "name": "stderr",
     "output_type": "stream",
     "text": [
      "100%|██████████| 200/200 [00:08<00:00, 24.61it/s]"
     ]
    },
    {
     "name": "stdout",
     "output_type": "stream",
     "text": [
      "Lexical precision\n",
      "original_word_list --- corrected_word\n",
      "выборгский --- выборгской\n",
      "отказываться --- отказываться\n",
      "нитропрепарат --- биопрепарат\n",
      "предсердие --- предсердие\n",
      "диссоциация --- диссоциация\n",
      "кольцевой --- кольцевое\n",
      "отрыв --- отрыва\n",
      "вовлечение --- вовлечение\n",
      "мелкопузырчатый --- мелко пузырчатый\n",
      "госпитализировать --- госпитализировать\n",
      "фтизиатр --- фтизиатр\n",
      "проксимальный --- проксимальной\n",
      "приступ --- приступи\n",
      "рецидивировать --- резецировать\n",
      "беспокоить --- беспокоить\n",
      "значимый --- значимы\n",
      "одномоментный --- одномоментный\n",
      "течение --- течение\n",
      "постепенной --- постепенной\n",
      "трафика --- трафика\n",
      "левый --- левы\n",
      "область --- областью\n",
      "окклюзия --- окклюзия\n",
      "каждый --- каждой\n",
      "аторвастатина --- настораживать\n",
      "проникающий --- поникающий\n",
      "слух --- сух\n",
      "отрицательный --- отрицательны\n",
      "заднее --- заднее\n",
      "диафрагмальный --- поддиафрагмальный\n",
      "физическая --- физическая\n",
      "реваскуляризация --- секуляризация\n",
      "очевидный --- очевидны\n",
      "умеренный --- умеренный\n",
      "самостоятельный --- самостоятельный\n",
      "визуализация --- визуализация\n",
      "неселективный --- не селективный\n",
      "септопластика --- кератопластика\n",
      "присутствие --- присутствие\n",
      "соустье --- со устье\n",
      "кировский --- кировской\n",
      "ноющая --- роющая\n",
      "постоять --- постоять\n",
      "стенка --- снетка\n",
      "укоротить --- укоротить\n",
      "назначить --- назначить\n",
      "госпитализация --- госпитализация\n",
      "возобновление --- возобновление\n",
      "одеть --- одет\n",
      "охранник --- охранник\n",
      "дексона --- декстрана\n",
      "систолический --- систолический\n",
      "верхушечно-перегородочный --- верхушечное-перегородочный\n",
      "расширение --- расширение\n",
      "равнозначный --- равнозначный\n",
      "предприятие --- предприятие\n",
      "ночь --- ночью\n",
      "вредность --- древность\n",
      "транспортировка --- транспортировка\n",
      "март --- мат\n",
      "гипотиазид --- гипотиреоз\n",
      "скрытый --- скрытый\n",
      "расстройство --- расстройство\n",
      "ломота --- молота\n",
      "подготовить --- подготовить\n",
      "помощь --- помощь\n",
      "большая --- больная\n",
      "эквивалент --- эквивалент\n",
      "гемостатический --- гипостатический\n",
      "купировавшийся --- курировавшийся\n",
      "ревизия --- ревизия\n",
      "пульсирующий --- пульсирующие\n",
      "регистрироваться --- регистрироваться\n",
      "лимитирование --- лимитирование\n",
      "ометать --- метать\n",
      "стихание --- стирание\n",
      "вазопрессорный --- газокомпрессорный\n",
      "тредмил --- тред мил\n",
      "тест --- тест\n",
      "гипопноэ --- гипнолог\n",
      "наш --- на\n",
      "ускоренный --- ускоренный\n",
      "эфффект --- эффект\n",
      "тромбофлебит --- тромбофлебит\n",
      "ишемический --- ишемический\n",
      "купирование --- купированием\n",
      "патологии --- патологии\n",
      "длительный --- длительный\n",
      "заключение --- заключение\n",
      "пунктировать --- пунктиров ать\n",
      "ферритина --- феррита\n",
      "гастропротективный --- противопригарный\n",
      "пароксизм --- пароксизма\n",
      "выполнять --- выполнят\n",
      "показатель --- показатель\n",
      "посттромбофлебитический --- противосифилитический\n",
      "анальгин --- анальгин\n",
      "корректировать --- корректировать\n",
      "секунда --- секунд\n",
      "креатинкиназа --- панкреатина\n",
      "утолщение --- утолщение\n",
      "терапия --- терапии\n",
      "глибомёт --- бомбомёт\n",
      "лобэктомия --- эмбриотомия\n",
      "новгородский --- новгородский\n",
      "владеть --- овладеть\n",
      "тенденция --- тенденция\n",
      "мерить --- мерит\n",
      "поражений --- поражении\n",
      "перекосить --- перекосить\n",
      "тропонин --- тропинка\n",
      "сдвиг --- сдвиги\n",
      "отправить --- отправит\n",
      "сжимающее --- сжимающее\n",
      "давящий --- дивящий\n",
      "нифедипин --- дифениламин\n",
      "мексикор --- мексиканка\n",
      "сад --- ад\n",
      "мезентериальный --- мезентериальный\n",
      "дальнейшей --- дальнейшей\n",
      "реабилитация --- реабилитация\n",
      "переносить --- переносить\n",
      "дискомфорт --- дискомфорт\n",
      "проявление --- проявление\n",
      "батарея --- батарея\n",
      "фермент --- фермент\n",
      "затёк --- затек\n",
      "непроизвольный --- непроизвольный\n",
      "слепок --- слепо\n",
      "тенорик --- тенорки\n",
      "сегмента --- сегмента\n",
      "дрожь --- рожь\n",
      "появляется --- появляется\n",
      "гепарина --- гепарина\n",
      "предсердие --- предсердие\n",
      "диурез --- диуреза\n",
      "фиксировать --- фиксировать\n",
      "временной --- временной\n",
      "микропрепарат --- химиопрепарат\n",
      "аторвастатин --- констатирован\n",
      "гипотензия --- гипотензии\n",
      "грудь --- груд\n",
      "инфаркт --- инфаркта\n",
      "мононуклеары --- мононуклеотиды\n",
      "постоянно --- постоянно\n",
      "погрузка --- погрузкам\n",
      "фармакологический --- фармакологический\n",
      "нестабильный --- нестабильны\n",
      "мертенил --- переменил\n",
      "тахикардий --- тахикардией\n",
      "снимать --- сминать\n",
      "распространиться --- распространиться\n",
      "контрпульсатор --- импульсатор\n",
      "соталол --- схлопотал\n",
      "складываться --- складываться\n",
      "кардиомегалия --- акромегалия\n",
      "смесь --- смесь\n",
      "мкг --- мг\n",
      "похожий --- похожий\n",
      "аутовенозный --- артериовенозный\n",
      "гепатина --- гепатита\n",
      "рецидивировать --- резецировать\n",
      "асцит --- асцита\n",
      "стенокардия --- стенокардии\n",
      "тысяча --- тысяч\n",
      "промежуточный --- промежуточной\n",
      "возможный --- возможный\n",
      "водка --- вода\n",
      "лимфодиссекция --- фотодиссоциация\n",
      "принимать --- принимать\n",
      "стентирование --- патентирование\n",
      "незначимый --- не значимый\n",
      "настоящее --- настоящее\n",
      "задненижний --- затруднений\n",
      "частичный --- частичны\n",
      "появиться --- появится\n",
      "тройной --- тройной\n",
      "показатель --- показатель\n",
      "эквивалент --- эквивалент\n",
      "утолстить --- утолиться\n",
      "поведение --- поведение\n",
      "аускультативный --- факультативный\n",
      "отказаться --- отказаться\n",
      "рассмотреть --- рассмотреть\n",
      "сывороточный --- сывороточный\n",
      "формирующийся --- формирующийся\n",
      "жир --- жри\n",
      "карведилол --- кардиолог\n",
      "тонкий --- тонки\n",
      "единица --- единица\n",
      "срабатывать --- срабатывать\n",
      "компрометация --- компрометация\n",
      "россия --- Россия\n",
      "массив --- массив\n",
      "нижнебоковой --- нижненемецкой\n",
      "отечь --- отеч\n",
      "трепетание --- трепетание\n",
      "конкурировать --- конкурировать\n",
      "событие --- событием\n",
      "незначительный --- незначительный\n",
      "Right corrected words count - 91 of 200 total\n"
     ]
    },
    {
     "name": "stderr",
     "output_type": "stream",
     "text": [
      "\n"
     ]
    },
    {
     "data": {
      "text/plain": "{'words_per_second': 26.399484309542547,\n 'error_precision': 0.6,\n 'lexical_precision': 0.455,\n 'overall_precision': 0.5275}"
     },
     "execution_count": 117,
     "metadata": {},
     "output_type": "execute_result"
    }
   ],
   "source": [
    "test_enchant_result = compute_all_metrics(\n",
    "    lambda : test_enchant(error_precision_test_word_list),\n",
    "    lambda : test_enchant(lexical_precision_test_word_list),\n",
    "    error_precision_test_word_list, error_precision_test_answers, lexical_precision_test_word_list)\n",
    "test_enchant_result"
   ],
   "metadata": {
    "collapsed": false,
    "pycharm": {
     "name": "#%%\n"
    }
   }
  },
  {
   "cell_type": "markdown",
   "source": [
    "## MedSpellchecker!!!"
   ],
   "metadata": {
    "collapsed": false,
    "pycharm": {
     "name": "#%% md\n"
    }
   }
  },
  {
   "cell_type": "code",
   "execution_count": 12,
   "outputs": [],
   "source": [
    "from med_spellchecker import MedSpellchecker\n",
    "\n",
    "def test_med_spellchecker(input_word_list):\n",
    "    med_spellchecker = MedSpellchecker(words_list=\"../data/dictionaries/processed/processed_lemmatized_all_dict.txt\",\n",
    "                                       encoding=\"UTF-8\")\n",
    "    result = []\n",
    "    timer = tqdm(input_word_list)\n",
    "    for word in timer:\n",
    "        fixed_text = med_spellchecker.fix_text(word)\n",
    "        result.append(fixed_text)\n",
    "    return  {\"elapsed\" : timer.format_dict[\"elapsed\"], \"corrected_word_list\" : result}"
   ],
   "metadata": {
    "collapsed": false,
    "pycharm": {
     "name": "#%%\n"
    }
   }
  },
  {
   "cell_type": "code",
   "execution_count": 13,
   "outputs": [
    {
     "name": "stderr",
     "output_type": "stream",
     "text": [
      "[nltk_data] Downloading package stopwords to\n",
      "[nltk_data]     /home/Dmitry.Pogrebnoy/nltk_data...\n",
      "[nltk_data]   Package stopwords is already up-to-date!\n",
      "100%|██████████| 200/200 [00:48<00:00,  4.11it/s]\n",
      "[nltk_data] Downloading package stopwords to\n",
      "[nltk_data]     /home/Dmitry.Pogrebnoy/nltk_data...\n",
      "[nltk_data]   Package stopwords is already up-to-date!\n"
     ]
    },
    {
     "name": "stdout",
     "output_type": "stream",
     "text": [
      "Error precision\n",
      "original_word_list --- corrected_word --- answer_word_list\n",
      "даным --- аным --- ['данным', 'данный', 'данные']\n",
      "шнутография --- шнутография --- ['шунтография']\n",
      "ходавый --- холевый --- ['ходовый']\n",
      "сентированный --- сентированный --- ['стентированный']\n",
      "перевдена --- перемена --- ['переведена']\n",
      "стентированеим --- стентированеим --- ['стентированием', 'стентирование']\n",
      "кардиол --- кардио --- ['кардиолог,кардиологический']\n",
      "переведна --- перемена --- ['переведена', 'переведен']\n",
      "догосптальном --- догосптальном --- ['догоспитальном', 'догоспитальный']\n",
      "миним --- минин --- ['минимум', 'минимальный']\n",
      "зарегистирована --- зарегистирована --- ['зарегистрирована', 'зарегистрирован']\n",
      "сегмета --- семема --- ['сегмента', 'сегмент']\n",
      "клекте --- плектр --- ['клетке', 'клетка']\n",
      "нижн --- ниж --- ['нижний']\n",
      "прводилась --- прводилась --- ['проводилась', 'проводить']\n",
      "госптализирован --- госптализирован --- ['госпитализирован']\n",
      "послеоперационом --- послеоперационом --- ['послеоперационном', 'послеоперационный']\n",
      "госпитализирова --- госпитализировать --- ['госпитализирован']\n",
      "рентг --- рента --- ['рентген']\n",
      "дальнешем --- дальнешем --- ['дальнейшем', 'дальнейший']\n",
      "троботическая --- троботическая --- ['тромботическая', 'тромботический']\n",
      "многосоудистое --- многосоудистое --- ['многососудистое', 'многососудистый']\n",
      "миокрада --- монрада --- ['миокарда', 'миокард']\n",
      "сопрвождались --- сопрвождались --- ['сопровождались', 'сопровождать']\n",
      "левогожелудочка --- левогожелудочка --- ['левого желудочка', 'левый желудочек']\n",
      "рание --- орание --- ['ранее', 'ранние']\n",
      "ангинозныеболи --- ангинозныеболи --- ['ангинозные боли', 'ангиозный боль']\n",
      "догоситальном --- догоситальном --- ['догоспитальном', 'догоспитальный']\n",
      "ввполнен --- вполне --- ['выполнен']\n",
      "чаосв --- чакс --- ['часов', 'час']\n",
      "октазалась --- октазалась --- ['отказалась', 'отказался']\n",
      "ммента --- мена --- ['момента', 'момент']\n",
      "проведеной --- проводной --- ['проведенной']\n",
      "леченяи --- леченый --- ['лечения', 'лечение']\n",
      "обтилась --- обтирать --- ['обратилась', 'обогатить']\n",
      "зарегистриованы --- зарегистриованы --- ['зарегистрированы', 'зарегистрирован']\n",
      "отицает --- отицает --- ['отрицает', 'отрицать']\n",
      "дальнейщем --- дальнейщем --- ['дальнейшем', 'дальнейший']\n",
      "болисохраняются --- болисохраняются --- ['боли сохраняются', 'боль сохраняется']\n",
      "частичынм --- частично --- ['частичным', 'частичный']\n",
      "атерокслеротичсекая --- атерокслеротичсекая --- ['атеросклеротическая', 'атеросклеротический']\n",
      "деньс --- денис --- ['день', 'день с']\n",
      "беспакоют --- беспакоют --- ['беспокоят', 'беспокоить']\n",
      "гипертензи --- гипертензин --- ['гипертензия']\n",
      "поворное --- поворот --- ['повторное']\n",
      "ощуащет --- ощуащет --- ['ощущает', 'ощущуать']\n",
      "ангигнозного --- ангигнозного --- ['ангинозного', 'ангинозный']\n",
      "поддерживающией --- поддерживающией --- ['поддерживающий']\n",
      "гшрядки --- грядкин --- ['грядки', 'грядка']\n",
      "возлуха --- вполуха --- ['воздуха', 'воздух']\n",
      "постояная --- постоянно --- ['постоянная', 'постоянный']\n",
      "рекмоендовнао --- рекмоендовнао --- ['рекомендовано']\n",
      "импалнтирован --- импалнтирован --- ['имплантирован', 'имплантировать']\n",
      "неочетливая --- неочетливая --- ['неотчетливая', 'неотчетливый']\n",
      "лергия --- лезия --- ['аллергия']\n",
      "ука --- ака --- ['рука']\n",
      "кашел --- карел --- ['кашель']\n",
      "рствор --- створ --- ['раствор']\n",
      "нпреносимость --- переносимость --- ['непереносимость']\n",
      "гел --- геп --- ['гель']\n",
      "рилиф --- рилиф --- ['релиф']\n",
      "хрон --- хром --- ['хронический']\n",
      "гиподин --- гипопион --- ['гиподинамический']\n",
      "нерный --- серный --- ['нервный']\n",
      "сист --- цист --- ['система']\n",
      "гипоксмия --- гипоксия --- ['гипоксемия']\n",
      "ледокоин --- леокаин --- ['лидокаин']\n",
      "малоинвозивный --- малоинвозивный --- ['малоинвазивный']\n",
      "алация --- алиция --- ['аблация', 'абляция']\n",
      "имь --- иль --- ['ИМ', 'им']\n",
      "паражение --- заражение --- ['поражение']\n",
      "тяжолый --- тяжёлый --- ['тяжелый']\n",
      "вс --- вс --- ['вес']\n",
      "лешний --- вешний --- ['лишний']\n",
      "орта --- орта --- ['аорта']\n",
      "клапа --- клака --- ['клапан']\n",
      "вент --- гент --- ['вена']\n",
      "палый --- палый --- ['полый']\n",
      "акенезия --- агенезия --- ['акинезия']\n",
      "врхушка --- врушка --- ['верхушка']\n",
      "вес --- вес --- ['весь']\n",
      "сьенка --- сценка --- ['стенка']\n",
      "сридиный --- сродный --- ['срединный']\n",
      "деаметр --- декаметр --- ['диаметр']\n",
      "аслажнение --- увлажнение --- ['осложнение']\n",
      "одоптировать --- адоптировать --- ['адаптировать']\n",
      "тичение --- точение --- ['течение']\n",
      "пребование --- требование --- ['пребывание']\n",
      "отбиление --- отопление --- ['отделение']\n",
      "месро --- месроп --- ['место']\n",
      "шнут --- нут --- ['шунт']\n",
      "готчина --- вотчина --- ['гатчина']\n",
      "эхэ --- эаэ --- ['эхо']\n",
      "каранарный --- караванный --- ['коронарный']\n",
      "ортерия --- остерия --- ['артерия']\n",
      "стинос --- тинос --- ['стеноз']\n",
      "имья --- илья --- ['имя']\n",
      "пиринести --- принести --- ['перенести']\n",
      "моикарда --- мошкара --- ['миокарда']\n",
      "хроническаянедостаточность --- хроническаянедостаточность --- ['хроническая недостаточность', 'хронический недостаточность']\n",
      "инфарктмиокарда --- инфарктмиокарда --- ['инфаркт миокарда', 'инфаркт миокард']\n",
      "отузла --- тула --- ['от узла', 'от узел']\n",
      "нарушениеработы --- нарушениеработы --- ['нарушение работы', 'нарушение работа']\n",
      "вминуту --- минуть --- ['в минуту', 'в минута', 'минута']\n",
      "эндокриннойсистемы --- эндокриннойсистемы --- ['эндокринная система', 'эндокринный система']\n",
      "сердечныйритм --- сердечныйритм --- ['сердечный ритм']\n",
      "узловаятахикардия --- узловаятахикардия --- ['узловая тахикардия', 'узловой тахикардия']\n",
      "основныефакторы --- основныефакторы --- ['основной фактор', 'основные факторы']\n",
      "остановкасердца --- остановкасердца --- ['остановка сердца', 'остановка сердце']\n",
      "фибрилляцияжелудочков --- фибрилляцияжелудочков --- ['фибрилляция желудочков', 'фибрилляция желудочек']\n",
      "счастотой --- счастотой --- ['с частотой', 'с частота', 'частота']\n",
      "Right corrected words count - 89 of 200 total\n"
     ]
    },
    {
     "name": "stderr",
     "output_type": "stream",
     "text": [
      "100%|██████████| 200/200 [00:04<00:00, 41.90it/s]"
     ]
    },
    {
     "name": "stdout",
     "output_type": "stream",
     "text": [
      "Lexical precision\n",
      "original_word_list --- corrected_word\n",
      "постепенной --- постепенно\n",
      "проникающий --- непроникающий\n",
      "ометать --- обметать\n",
      "гипопноэ --- гиперпноэ\n",
      "тропонин --- топоним\n",
      "тенорик --- тенорит\n",
      "мертенил --- миренил\n",
      "соталол --- ботало\n",
      "гепатин --- гепарин\n",
      "стентирование --- патентирование\n",
      "формирующийся --- сорбирующийся\n",
      "Right corrected words count - 189 of 200 total\n"
     ]
    },
    {
     "name": "stderr",
     "output_type": "stream",
     "text": [
      "\n"
     ]
    },
    {
     "data": {
      "text/plain": "{'words_per_second': 7.484259380329056,\n 'error_precision': 0.445,\n 'lexical_precision': 0.945,\n 'overall_precision': 0.695}"
     },
     "execution_count": 13,
     "metadata": {},
     "output_type": "execute_result"
    }
   ],
   "source": [
    "test_med_spellchecker_result = compute_all_metrics(\n",
    "    lambda : test_med_spellchecker(error_precision_test_word_list),\n",
    "    lambda : test_med_spellchecker(lexical_precision_test_word_list),\n",
    "    error_precision_test_word_list, error_precision_test_answers, lexical_precision_test_word_list)\n",
    "test_med_spellchecker_result"
   ],
   "metadata": {
    "collapsed": false,
    "pycharm": {
     "name": "#%%\n"
    }
   }
  },
  {
   "cell_type": "markdown",
   "source": [
    "## Show results in table"
   ],
   "metadata": {
    "collapsed": false,
    "pycharm": {
     "name": "#%% md\n"
    }
   }
  },
  {
   "cell_type": "code",
   "execution_count": 118,
   "outputs": [
    {
     "name": "stdout",
     "output_type": "stream",
     "text": [
      "Requirement already satisfied: tabulate in /home/Dmitry.Pogrebnoy/Desktop/MedSpellChecker/venv/lib/python3.9/site-packages (0.8.9)\r\n"
     ]
    }
   ],
   "source": [
    "!pip install tabulate"
   ],
   "metadata": {
    "collapsed": false,
    "pycharm": {
     "name": "#%%\n"
    }
   }
  },
  {
   "cell_type": "code",
   "execution_count": 119,
   "outputs": [],
   "source": [
    "from tabulate import tabulate"
   ],
   "metadata": {
    "collapsed": false,
    "pycharm": {
     "name": "#%%\n"
    }
   }
  },
  {
   "cell_type": "code",
   "execution_count": 120,
   "outputs": [
    {
     "name": "stdout",
     "output_type": "stream",
     "text": [
      "Tool name                          Avg words per minute    Error precision    Lexical precision    Overall precision\n",
      "-------------------------------  ----------------------  -----------------  -------------------  -------------------\n",
      "Spellchecker prototype v2                     0.0731228              0                    0                   0\n",
      "Symspell lookup                           15891.9                    0.42                 0.78                0.6\n",
      "Symspell lookup compound                    983.115                  0.46                 0.54                0.5\n",
      "Jumspell                                   2043.18                   0.395                0.925               0.66\n",
      "LanguageTool                                 19.0814                 0.64                 0.845               0.7425\n",
      "Aspell                                      352.973                  0.65                 0.775               0.7125\n",
      "Hunspell                                     11.5572                 0.59                 0.49                0.54\n",
      "PySpellChecker (Peter Norvig's)               4.26898                0.335                0.765               0.55\n",
      "Enchant                                      26.3995                 0.6                  0.455               0.5275\n"
     ]
    }
   ],
   "source": [
    "header = [\"Tool name\", \"Avg words per second\", \"Error precision\", \"Lexical precision\", \"Overall precision\"]\n",
    "table = [[\"Spellchecker prototype v2\", spellchecker_prototype_v2_metrics[\"words_per_second\"], spellchecker_prototype_v2_metrics[\"error_precision\"], spellchecker_prototype_v2_metrics[\"lexical_precision\"], spellchecker_prototype_v2_metrics[\"overall_precision\"]],\n",
    "         [\"Symspell lookup\", test_symspell_py_lookup_result[\"words_per_second\"], test_symspell_py_lookup_result[\"error_precision\"], test_symspell_py_lookup_result[\"lexical_precision\"], test_symspell_py_lookup_result[\"overall_precision\"]],\n",
    "         [\"Symspell lookup compound\", test_symspell_py_lookup_compound_result[\"words_per_second\"], test_symspell_py_lookup_compound_result[\"error_precision\"], test_symspell_py_lookup_compound_result[\"lexical_precision\"], test_symspell_py_lookup_compound_result[\"overall_precision\"]],\n",
    "         [\"Jumspell\", test_jumspell_result[\"words_per_second\"], test_jumspell_result[\"error_precision\"], test_jumspell_result[\"lexical_precision\"], test_jumspell_result[\"overall_precision\"]],\n",
    "         [\"LanguageTool\", test_language_tool_result[\"words_per_second\"], test_language_tool_result[\"error_precision\"], test_language_tool_result[\"lexical_precision\"], test_language_tool_result[\"overall_precision\"]],\n",
    "         [\"Aspell\", test_aspell_result[\"words_per_second\"], test_aspell_result[\"error_precision\"], test_aspell_result[\"lexical_precision\"], test_aspell_result[\"overall_precision\"]],\n",
    "         [\"Hunspell\", test_hunspell_result[\"words_per_second\"], test_hunspell_result[\"error_precision\"], test_hunspell_result[\"lexical_precision\"], test_hunspell_result[\"overall_precision\"]],\n",
    "         [\"PySpellChecker (Peter Norvig's)\", test_pyspellshecker_result[\"words_per_second\"], test_pyspellshecker_result[\"error_precision\"], test_pyspellshecker_result[\"lexical_precision\"], test_pyspellshecker_result[\"overall_precision\"]],\n",
    "         [\"Enchant\", test_enchant_result[\"words_per_second\"], test_enchant_result[\"error_precision\"], test_enchant_result[\"lexical_precision\"], test_enchant_result[\"overall_precision\"]],]\n",
    "print(tabulate(table, headers=header))"
   ],
   "metadata": {
    "collapsed": false,
    "pycharm": {
     "name": "#%%\n"
    }
   }
  },
  {
   "cell_type": "code",
   "execution_count": 120,
   "outputs": [],
   "source": [],
   "metadata": {
    "collapsed": false,
    "pycharm": {
     "name": "#%%\n"
    }
   }
  }
 ],
 "metadata": {
  "colab": {
   "name": "Spellchecker_tests.ipynb",
   "provenance": []
  },
  "kernelspec": {
   "display_name": "Python 3 (ipykernel)",
   "language": "python",
   "name": "python3"
  },
  "language_info": {
   "codemirror_mode": {
    "name": "ipython",
    "version": 3
   },
   "file_extension": ".py",
   "mimetype": "text/x-python",
   "name": "python",
   "nbconvert_exporter": "python",
   "pygments_lexer": "ipython3",
   "version": "3.9.1"
  }
 },
 "nbformat": 4,
 "nbformat_minor": 1
}