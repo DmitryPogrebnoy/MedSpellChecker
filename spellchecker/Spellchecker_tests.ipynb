{
 "cells": [
  {
   "cell_type": "markdown",
   "metadata": {
    "id": "sAliKDQvhExv"
   },
   "source": [
    "# Prepear test dataset\n",
    "Format - {word}{several spaces}{answer-words separeted by comma}"
   ]
  },
  {
   "cell_type": "code",
   "execution_count": 9,
   "metadata": {},
   "outputs": [
    {
     "name": "stdout",
     "output_type": "stream",
     "text": [
      "Requirement already satisfied: pip in /home/Dmitry.Pogrebnoy/Desktop/MedSpellChecker/venv/lib/python3.9/site-packages (21.3.1)\r\n",
      "Note: you may need to restart the kernel to use updated packages.\n"
     ]
    }
   ],
   "source": [
    "pip install --upgrade pip"
   ]
  },
  {
   "cell_type": "code",
   "execution_count": 10,
   "metadata": {
    "id": "JtZvUWdZhFOf"
   },
   "outputs": [
    {
     "name": "stdout",
     "output_type": "stream",
     "text": [
      "Requirement already satisfied: pandas in /home/Dmitry.Pogrebnoy/Desktop/MedSpellChecker/venv/lib/python3.9/site-packages (1.3.4)\r\n",
      "Requirement already satisfied: pytz>=2017.3 in /home/Dmitry.Pogrebnoy/Desktop/MedSpellChecker/venv/lib/python3.9/site-packages (from pandas) (2021.3)\r\n",
      "Requirement already satisfied: numpy>=1.17.3 in /home/Dmitry.Pogrebnoy/Desktop/MedSpellChecker/venv/lib/python3.9/site-packages (from pandas) (1.21.4)\r\n",
      "Requirement already satisfied: python-dateutil>=2.7.3 in /home/Dmitry.Pogrebnoy/Desktop/MedSpellChecker/venv/lib/python3.9/site-packages (from pandas) (2.8.2)\r\n",
      "Requirement already satisfied: six>=1.5 in /home/Dmitry.Pogrebnoy/Desktop/MedSpellChecker/venv/lib/python3.9/site-packages (from python-dateutil>=2.7.3->pandas) (1.16.0)\r\n"
     ]
    }
   ],
   "source": [
    "!pip install pandas\n",
    "import pandas as pd"
   ]
  },
  {
   "cell_type": "code",
   "execution_count": 11,
   "metadata": {
    "id": "OZYmhZvuWLfa"
   },
   "outputs": [],
   "source": [
    "test_incorrect_file = open('../data/test_sample_incorrect.txt', 'r', encoding=\"utf8\")\n",
    "test_incorrect_lines = test_incorrect_file.readlines()\n",
    "splitted_test_incorrect_lines = list(map(lambda x: x.split(maxsplit=1), test_incorrect_lines))\n",
    "test_incorrect_words = list(map(lambda x: x[0], splitted_test_incorrect_lines))\n",
    "test_incorrect_answers = list(map(lambda x: list(map(lambda y: y.strip(), x[1].split(', '))), splitted_test_incorrect_lines))\n",
    "test_df = pd.DataFrame(test_incorrect_words, columns=[\"test_word\"])\n",
    "test_df[\"answers\"] = test_incorrect_answers\n"
   ]
  },
  {
   "cell_type": "code",
   "execution_count": 12,
   "metadata": {
    "colab": {
     "base_uri": "https://localhost:8080/",
     "height": 202
    },
    "id": "0P3kfs2dhj4q",
    "outputId": "1b7a854b-2395-4ddb-bf6f-8c6ee54b4ae6"
   },
   "outputs": [
    {
     "data": {
      "text/plain": "      test_word                   answers\n0     эктренном              [экстренном]\n1     синусовго              [синусового]\n2         даным  [данным, данный, данные]\n3   шнутография             [шунтография]\n4  сникопальных            [синкопальных]",
      "text/html": "<div>\n<style scoped>\n    .dataframe tbody tr th:only-of-type {\n        vertical-align: middle;\n    }\n\n    .dataframe tbody tr th {\n        vertical-align: top;\n    }\n\n    .dataframe thead th {\n        text-align: right;\n    }\n</style>\n<table border=\"1\" class=\"dataframe\">\n  <thead>\n    <tr style=\"text-align: right;\">\n      <th></th>\n      <th>test_word</th>\n      <th>answers</th>\n    </tr>\n  </thead>\n  <tbody>\n    <tr>\n      <th>0</th>\n      <td>эктренном</td>\n      <td>[экстренном]</td>\n    </tr>\n    <tr>\n      <th>1</th>\n      <td>синусовго</td>\n      <td>[синусового]</td>\n    </tr>\n    <tr>\n      <th>2</th>\n      <td>даным</td>\n      <td>[данным, данный, данные]</td>\n    </tr>\n    <tr>\n      <th>3</th>\n      <td>шнутография</td>\n      <td>[шунтография]</td>\n    </tr>\n    <tr>\n      <th>4</th>\n      <td>сникопальных</td>\n      <td>[синкопальных]</td>\n    </tr>\n  </tbody>\n</table>\n</div>"
     },
     "execution_count": 12,
     "metadata": {},
     "output_type": "execute_result"
    }
   ],
   "source": [
    "test_df.head()"
   ]
  },
  {
   "cell_type": "code",
   "execution_count": 13,
   "metadata": {},
   "outputs": [],
   "source": [
    "test_word_list = test_df[\"test_word\"].tolist()"
   ]
  },
  {
   "cell_type": "code",
   "execution_count": 14,
   "metadata": {},
   "outputs": [],
   "source": [
    "test_answers = test_df[\"answers\"].tolist()"
   ]
  },
  {
   "cell_type": "code",
   "execution_count": 15,
   "metadata": {},
   "outputs": [],
   "source": [
    "# Need to create test example for computing lexical precision\n",
    "def compute_error_precision(original_word_list, corrected_word_list, answer_word_list):\n",
    "    words_number = len(corrected_word_list)\n",
    "    correct_words_number = 0\n",
    "    print(\"original_word_list --- corrected_word --- answer_word_list\")\n",
    "    for i, corrected_word in enumerate(corrected_word_list):\n",
    "        print(f\"{original_word_list[i]} --- {corrected_word} --- {answer_word_list[i]}\")\n",
    "        if corrected_word in answer_word_list[i]:\n",
    "            correct_words_number += 1\n",
    "    print(f\"Right corrected words count - {correct_words_number} of {words_number} total\")\n",
    "    return correct_words_number/words_number"
   ]
  },
  {
   "cell_type": "code",
   "execution_count": 16,
   "outputs": [
    {
     "name": "stdout",
     "output_type": "stream",
     "text": [
      "Requirement already satisfied: tqdm in /home/Dmitry.Pogrebnoy/Desktop/MedSpellChecker/venv/lib/python3.9/site-packages (4.62.3)\r\n"
     ]
    }
   ],
   "source": [
    "!pip install tqdm\n",
    "from tqdm import tqdm"
   ],
   "metadata": {
    "collapsed": false,
    "pycharm": {
     "name": "#%%\n"
    }
   }
  },
  {
   "cell_type": "code",
   "execution_count": 17,
   "outputs": [],
   "source": [
    "def compute_all_metrics(spellchecker_function, original_word_list, answer_word_list):\n",
    "    result = spellchecker_function()\n",
    "    elapsed_time = result[\"elapsed\"]\n",
    "    corrected_word_list = result[\"corrected_word_list\"]\n",
    "    error_precision = compute_error_precision(original_word_list, corrected_word_list, answer_word_list)\n",
    "    # TODO: Compute lexical precision\n",
    "    lexical_precision = 0.0\n",
    "    return elapsed_time / len(original_word_list), \\\n",
    "           error_precision, \\\n",
    "           lexical_precision, \\\n",
    "           original_word_list, \\\n",
    "           corrected_word_list,\\\n",
    "           answer_word_list"
   ],
   "metadata": {
    "collapsed": false,
    "pycharm": {
     "name": "#%%\n"
    }
   }
  },
  {
   "cell_type": "markdown",
   "metadata": {
    "id": "En1-fnjrUS7y"
   },
   "source": [
    "# Spellchecker prototype initialization"
   ]
  },
  {
   "cell_type": "code",
   "execution_count": 2,
   "metadata": {
    "colab": {
     "base_uri": "https://localhost:8080/"
    },
    "id": "-9NdfwQyUDcR",
    "outputId": "19f552b7-eaa9-4db6-f541-816ae713f3d4"
   },
   "outputs": [
    {
     "name": "stdout",
     "output_type": "stream",
     "text": [
      "Requirement already satisfied: pymorphy2 in /home/Dmitry.Pogrebnoy/Desktop/MedSpellChecker/venv/lib/python3.9/site-packages (0.9.1)\r\n",
      "Requirement already satisfied: docopt>=0.6 in /home/Dmitry.Pogrebnoy/Desktop/MedSpellChecker/venv/lib/python3.9/site-packages (from pymorphy2) (0.6.2)\r\n",
      "Requirement already satisfied: dawg-python>=0.7.1 in /home/Dmitry.Pogrebnoy/Desktop/MedSpellChecker/venv/lib/python3.9/site-packages (from pymorphy2) (0.7.2)\r\n",
      "Requirement already satisfied: pymorphy2-dicts-ru<3.0,>=2.4 in /home/Dmitry.Pogrebnoy/Desktop/MedSpellChecker/venv/lib/python3.9/site-packages (from pymorphy2) (2.4.417127.4579844)\r\n",
      "Requirement already satisfied: gensim in /home/Dmitry.Pogrebnoy/Desktop/MedSpellChecker/venv/lib/python3.9/site-packages (4.1.2)\r\n",
      "Requirement already satisfied: scipy>=0.18.1 in /home/Dmitry.Pogrebnoy/Desktop/MedSpellChecker/venv/lib/python3.9/site-packages (from gensim) (1.7.3)\r\n",
      "Requirement already satisfied: smart-open>=1.8.1 in /home/Dmitry.Pogrebnoy/Desktop/MedSpellChecker/venv/lib/python3.9/site-packages (from gensim) (5.2.1)\r\n",
      "Requirement already satisfied: numpy>=1.17.0 in /home/Dmitry.Pogrebnoy/Desktop/MedSpellChecker/venv/lib/python3.9/site-packages (from gensim) (1.21.4)\r\n",
      "Collecting python-levenshtein\r\n",
      "  Using cached python-Levenshtein-0.12.2.tar.gz (50 kB)\r\n",
      "  Preparing metadata (setup.py) ... \u001B[?25ldone\r\n",
      "\u001B[?25hRequirement already satisfied: setuptools in /home/Dmitry.Pogrebnoy/Desktop/MedSpellChecker/venv/lib/python3.9/site-packages (from python-levenshtein) (57.0.0)\r\n",
      "Building wheels for collected packages: python-levenshtein\r\n",
      "  Building wheel for python-levenshtein (setup.py) ... \u001B[?25ldone\r\n",
      "\u001B[?25h  Created wheel for python-levenshtein: filename=python_Levenshtein-0.12.2-cp39-cp39-linux_x86_64.whl size=168591 sha256=1c310d11dcf61766d37a6f1c1c324b9daa53cd9a67f51440f95f1a00f5d9315f\r\n",
      "  Stored in directory: /home/Dmitry.Pogrebnoy/.cache/pip/wheels/46/4a/6c/164a1d9dd67c82d208f19d869ad0a517a0c5a6117f608c53e6\r\n",
      "Successfully built python-levenshtein\r\n",
      "Installing collected packages: python-levenshtein\r\n",
      "Successfully installed python-levenshtein-0.12.2\r\n",
      "Requirement already satisfied: stringdist in /home/Dmitry.Pogrebnoy/Desktop/MedSpellChecker/venv/lib/python3.9/site-packages (1.0.9)\r\n"
     ]
    }
   ],
   "source": [
    "!pip install pymorphy2 \n",
    "!pip install gensim\n",
    "!pip install python-levenshtein\n",
    "!pip install stringdist"
   ]
  },
  {
   "cell_type": "markdown",
   "metadata": {
    "id": "2mRtM4gyjlWZ"
   },
   "source": [
    "# Test SpellChecker Prototype v.2"
   ]
  },
  {
   "cell_type": "code",
   "execution_count": 3,
   "outputs": [],
   "source": [
    "from spellchecker_prototype_v2.spell_checker import SpellChecker"
   ],
   "metadata": {
    "collapsed": false,
    "pycharm": {
     "name": "#%%\n"
    }
   }
  },
  {
   "cell_type": "markdown",
   "source": [
    "Download models (all files) from [link](https://drive.google.com/drive/folders/1ubVgiIC2pqDOpA-CbjEqV8Jo8uBbk0qi?usp=sharing) and move it to `data/spellchecker_prototype_v2/models` folder"
   ],
   "metadata": {
    "collapsed": false
   }
  },
  {
   "cell_type": "code",
   "execution_count": 4,
   "outputs": [
    {
     "ename": "NameError",
     "evalue": "name 'compute_all_metrics' is not defined",
     "output_type": "error",
     "traceback": [
      "\u001B[0;31m---------------------------------------------------------------------------\u001B[0m",
      "\u001B[0;31mNameError\u001B[0m                                 Traceback (most recent call last)",
      "\u001B[0;32m/tmp/ipykernel_16295/2898295973.py\u001B[0m in \u001B[0;36m<module>\u001B[0;34m\u001B[0m\n\u001B[1;32m      6\u001B[0m     \u001B[0;32mreturn\u001B[0m \u001B[0;34m{\u001B[0m\u001B[0;34m\"elapsed\"\u001B[0m\u001B[0;34m:\u001B[0m \u001B[0mtimer\u001B[0m\u001B[0;34m.\u001B[0m\u001B[0mformat_dict\u001B[0m\u001B[0;34m[\u001B[0m\u001B[0;34m\"elapsed\"\u001B[0m\u001B[0;34m]\u001B[0m\u001B[0;34m,\u001B[0m \u001B[0;34m\"corrected_word_list\"\u001B[0m\u001B[0;34m:\u001B[0m \u001B[0mcorrected_word_list\u001B[0m\u001B[0;34m}\u001B[0m\u001B[0;34m\u001B[0m\u001B[0;34m\u001B[0m\u001B[0m\n\u001B[1;32m      7\u001B[0m \u001B[0;34m\u001B[0m\u001B[0m\n\u001B[0;32m----> 8\u001B[0;31m \u001B[0mspellchecker_prototype_v2_metrics\u001B[0m \u001B[0;34m=\u001B[0m \u001B[0mcompute_all_metrics\u001B[0m\u001B[0;34m(\u001B[0m\u001B[0mspellchecker_prototype_v2_correct_func\u001B[0m\u001B[0;34m,\u001B[0m \u001B[0mtest_word_list\u001B[0m\u001B[0;34m,\u001B[0m \u001B[0mtest_answers\u001B[0m\u001B[0;34m)\u001B[0m\u001B[0;34m\u001B[0m\u001B[0;34m\u001B[0m\u001B[0m\n\u001B[0m\u001B[1;32m      9\u001B[0m \u001B[0mspellchecker_prototype_v2_metrics\u001B[0m\u001B[0;34m\u001B[0m\u001B[0;34m\u001B[0m\u001B[0m\n",
      "\u001B[0;31mNameError\u001B[0m: name 'compute_all_metrics' is not defined"
     ]
    }
   ],
   "source": [
    "def spellchecker_prototype_v2_correct_func():\n",
    "    spellchecker_prototype = SpellChecker()\n",
    "    input_text_for_prototype = \" \".join(test_word_list)\n",
    "    timer = tqdm()\n",
    "    corrected_word_list = spellchecker_prototype.correct_words(input_text_for_prototype)\n",
    "    return {\"elapsed\": timer.format_dict[\"elapsed\"], \"corrected_word_list\": corrected_word_list}\n",
    "\n",
    "spellchecker_prototype_v2_metrics = compute_all_metrics(spellchecker_prototype_v2_correct_func, test_word_list, test_answers)\n",
    "spellchecker_prototype_v2_metrics"
   ],
   "metadata": {
    "collapsed": false,
    "pycharm": {
     "name": "#%%\n"
    }
   }
  },
  {
   "cell_type": "markdown",
   "metadata": {},
   "source": [
    "# Test Symspellpy - https://github.com/mammothb/symspellpy"
   ]
  },
  {
   "cell_type": "code",
   "execution_count": 5,
   "metadata": {},
   "outputs": [
    {
     "name": "stdout",
     "output_type": "stream",
     "text": [
      "Collecting symspellpy\r\n",
      "  Downloading symspellpy-6.7.5-py3-none-any.whl (2.6 MB)\r\n",
      "     |████████████████████████████████| 2.6 MB 508 kB/s            \r\n",
      "\u001B[?25hCollecting editdistpy>=0.1.3\r\n",
      "  Downloading editdistpy-0.1.3.tar.gz (57 kB)\r\n",
      "     |████████████████████████████████| 57 kB 3.8 MB/s             \r\n",
      "\u001B[?25h  Installing build dependencies ... \u001B[?25ldone\r\n",
      "\u001B[?25h  Getting requirements to build wheel ... \u001B[?25ldone\r\n",
      "\u001B[?25h  Preparing metadata (pyproject.toml) ... \u001B[?25ldone\r\n",
      "\u001B[?25hBuilding wheels for collected packages: editdistpy\r\n",
      "  Building wheel for editdistpy (pyproject.toml) ... \u001B[?25ldone\r\n",
      "\u001B[?25h  Created wheel for editdistpy: filename=editdistpy-0.1.3-cp39-cp39-linux_x86_64.whl size=137366 sha256=1cdcde1ac87d9131a60044421ede35f55c5707edce581c0730bd56e85706181a\r\n",
      "  Stored in directory: /home/Dmitry.Pogrebnoy/.cache/pip/wheels/72/16/b1/ea6472dedd6ac13ad789dd294871a76fd6906fca3c010347d1\r\n",
      "Successfully built editdistpy\r\n",
      "Installing collected packages: editdistpy, symspellpy\r\n",
      "Successfully installed editdistpy-0.1.3 symspellpy-6.7.5\r\n"
     ]
    }
   ],
   "source": [
    "!pip install -U symspellpy"
   ]
  },
  {
   "cell_type": "markdown",
   "metadata": {},
   "source": [
    "### Test Symspellpy lookup on basic dict"
   ]
  },
  {
   "cell_type": "code",
   "execution_count": 6,
   "metadata": {},
   "outputs": [],
   "source": [
    "basic_frequency_dict = '../data/symspell/ru-100k.txt'"
   ]
  },
  {
   "cell_type": "code",
   "execution_count": 18,
   "metadata": {},
   "outputs": [],
   "source": [
    "from symspellpy import SymSpell, Verbosity\n",
    "\n",
    "def test_symspell_py_lookup(frequency_dict_path, input_word_list):\n",
    "    sym_spell_py = SymSpell()\n",
    "    sym_spell_py.load_dictionary(frequency_dict_path, 0, 1, encoding=\"UTF8\")\n",
    "\n",
    "    result = []\n",
    "    timer = tqdm(input_word_list)\n",
    "    for word in timer:\n",
    "        suggestions = sym_spell_py.lookup(word, Verbosity.TOP, max_edit_distance=2, include_unknown=True)\n",
    "        result.append(suggestions[0].term)\n",
    "    return  {\"elapsed\" : timer.format_dict[\"elapsed\"], \"corrected_word_list\" : result}\n",
    "\n",
    "def test_symspell_py_lookup_compound(frequency_dict_path, input_word_list):\n",
    "    sym_spell_py = SymSpell()\n",
    "    sym_spell_py.load_dictionary(frequency_dict_path, 0, 1, encoding=\"UTF8\")\n",
    "\n",
    "    result = []\n",
    "    timer = tqdm(input_word_list)\n",
    "    for word in timer:\n",
    "        suggestions = sym_spell_py.lookup_compound(word, max_edit_distance=2)\n",
    "        result.append(suggestions[0].term)\n",
    "    return {\"elapsed\" : timer.format_dict[\"elapsed\"], \"corrected_word_list\" : result}\n",
    "\n"
   ]
  },
  {
   "cell_type": "code",
   "execution_count": 19,
   "outputs": [
    {
     "name": "stderr",
     "output_type": "stream",
     "text": [
      "100%|██████████| 200/200 [00:00<00:00, 11850.49it/s]"
     ]
    },
    {
     "name": "stdout",
     "output_type": "stream",
     "text": [
      "original_word_list --- corrected_word --- answer_word_list\n",
      "эктренном --- коренном --- ['экстренном']\n",
      "синусовго --- синусовго --- ['синусового']\n",
      "даным --- данным --- ['данным', 'данный', 'данные']\n",
      "шнутография --- шнутография --- ['шунтография']\n",
      "сникопальных --- сникопальных --- ['синкопальных']\n",
      "посление --- последние --- ['поселение', 'последний']\n",
      "ходавый --- подавай --- ['ходовый']\n",
      "анмнезе --- анамнезе --- ['анамнезе', 'анамнез']\n",
      "сентированный --- сентированный --- ['стентированный']\n",
      "самоч --- самой --- ['самочувствие']\n",
      "перевдена --- переведена --- ['переведена']\n",
      "стентированеим --- стентированеим --- ['стентированием', 'стентирование']\n",
      "кардиол --- кардинал --- ['кардиолог,кардиологический']\n",
      "переведна --- переведена --- ['переведена']\n",
      "догосптальном --- догосптальном --- ['догоспитальном']\n",
      "миним --- синим --- ['минимум', 'минимальный']\n",
      "субфебриллитет --- субфебриллитет --- ['субфебрилитет']\n",
      "загрудиные --- загрудиные --- ['загрудинные', 'загрудинный']\n",
      "перферия --- периферия --- ['периферия']\n",
      "течени --- течение --- ['течение']\n",
      "оклюзия --- иллюзия --- ['окклюзия']\n",
      "жнщина --- женщина --- ['женщина']\n",
      "пциент --- пациент --- ['пациент']\n",
      "зарегистирована --- зарегистрирована --- ['зарегистрирована']\n",
      "сегмета --- сегмента --- ['сегмента']\n",
      "клекте --- клетке --- ['клетке']\n",
      "эпид --- спид --- ['эпидемия', 'эпидемиологический', 'эпидуральный']\n",
      "интелектуально --- интеллектуально --- ['интеллектуально']\n",
      "нижн --- ниже --- ['нижний']\n",
      "прводилась --- проводилась --- ['проводилась', 'проводить']\n",
      "неуст --- несут --- ['неустановленный']\n",
      "госптализирован --- госптализирован --- ['госпитализирован']\n",
      "вперые --- впервые --- ['впервые']\n",
      "послеоперационом --- послеоперационном --- ['послеоперационном']\n",
      "госпитализирова --- госпитализирова --- ['госпитализирован']\n",
      "ухудщение --- ухудшение --- ['ухудшение']\n",
      "рентг --- ренты --- ['рентген']\n",
      "дальнешем --- дальнейшем --- ['дальнейшем']\n",
      "троботическая --- троботическая --- ['тромботическая']\n",
      "многосоудистое --- многосоудистое --- ['многососудистое', 'многососудистый']\n",
      "миокрада --- миокарда --- ['миокарда', 'миокард']\n",
      "сопрвождались --- сопровождались --- ['сопровождались']\n",
      "дискмфорт --- дискмфорт --- ['дискомфорт']\n",
      "потлтвостью --- потлтвостью --- ['потливостью']\n",
      "левогожелудочка --- левогожелудочка --- ['левого желудочка', 'левый желудочек']\n",
      "рание --- ранее --- ['ранее', 'ранние']\n",
      "виед --- виде --- ['виде', 'вид']\n",
      "ангинозныеболи --- ангинозныеболи --- ['ангинозные боли', 'ангиозный боль']\n",
      "догоситальном --- догоситальном --- ['догоспитальном']\n",
      "ввполнен --- вполне --- ['выполнен']\n",
      "чаосв --- часов --- ['часов']\n",
      "октазалась --- оказалась --- ['отказалась']\n",
      "линика --- лирика --- ['клиника']\n",
      "ммента --- момента --- ['момента']\n",
      "проведеной --- проведено --- ['проведенной']\n",
      "выполненяи --- выполнения --- ['выполнения', 'выполнение']\n",
      "леченяи --- лечения --- ['лечения', 'лечение']\n",
      "обтилась --- осталась --- ['обратилась']\n",
      "повтороно --- повторно --- ['повторно']\n",
      "зарегистриованы --- зарегистрированы --- ['зарегистрированы']\n",
      "отицает --- отрицает --- ['отрицает', 'отрицать']\n",
      "дальнейщем --- дальнейшем --- ['дальнейшем']\n",
      "болисохраняются --- болисохраняются --- ['боли сохраняются']\n",
      "частичынм --- частичным --- ['частичным']\n",
      "атерокслеротичсекая --- атерокслеротичсекая --- ['атеросклеротическая']\n",
      "деньс --- день --- ['день', 'день с']\n",
      "назначаля --- назначали --- ['назначался']\n",
      "проведеняи --- проведения --- ['проведения']\n",
      "беспакоют --- беспокоит --- ['беспокоят']\n",
      "гипертензи --- гипертензии --- ['гипертензия']\n",
      "воленйбол --- волейбол --- ['волейбол']\n",
      "болезн --- болезни --- ['болезнь']\n",
      "стенокардаа --- стенокардаа --- ['стенокардия']\n",
      "продолжалсь --- продолжалось --- ['продолжалась']\n",
      "поворное --- повторное --- ['повторное']\n",
      "ощуащет --- ощущает --- ['ощущает']\n",
      "ангигнозного --- ангигнозного --- ['ангинозного', 'ангинозный']\n",
      "диагностичекой --- диагностической --- ['диагностической', 'диагностический']\n",
      "поддерживающией --- поддерживающие --- ['поддерживающий']\n",
      "межлопаточнй --- межлопаточнй --- ['межлопаточный']\n",
      "бедреной --- бедренной --- ['бедренной', 'бедренный']\n",
      "гшрядки --- грядки --- ['грядки']\n",
      "бассеине --- бассейне --- ['бассейне', 'бассейн']\n",
      "возлуха --- воздуха --- ['воздуха', 'воздух']\n",
      "сенября --- сентября --- ['сентября', 'сентябрь']\n",
      "постояная --- постоянная --- ['постоянная', 'постоянный']\n",
      "рекмоендовнао --- рекомендовано --- ['рекомендовано']\n",
      "поврждения --- повреждения --- ['повреждения']\n",
      "дискофморта --- дискофморта --- ['дискомфорт']\n",
      "импалнтирован --- импалнтирован --- ['имплантирован', 'имплантировать']\n",
      "неочетливая --- неочетливая --- ['неотчетливая', 'неотчетливый']\n",
      "обесвеченный --- обеспеченных --- ['обесцвеченный', 'обеспеченный']\n",
      "серце --- сердце --- ['сердце']\n",
      "блезнь --- болезнь --- ['болезнь']\n",
      "лергия --- сергия --- ['аллергия']\n",
      "ука --- ука --- ['рука']\n",
      "изжга --- из-за --- ['изжога']\n",
      "жение --- жене --- ['жжение']\n",
      "кашел --- нашел --- ['кашель']\n",
      "рствор --- раствор --- ['раствор']\n",
      "пациен --- пациент --- ['пациент']\n",
      "пожлой --- пожилой --- ['пожилой']\n",
      "лекарсво --- лекарство --- ['лекарство']\n",
      "нпреносимость --- нпреносимость --- ['непереносимость']\n",
      "амупула --- ампулы --- ['ампула']\n",
      "гел --- дел --- ['гель']\n",
      "конценрат --- концентрат --- ['концентрат']\n",
      "рилиф --- или --- ['релиф']\n",
      "чссс --- ссср --- ['ЧСС', 'чсс']\n",
      "экгъ --- экг --- ['ЭКГ', 'экг']\n",
      "фибриляция --- фибриляция --- ['фибрилляция']\n",
      "желдочек --- желдочек --- ['желудочек']\n",
      "хрон --- крон --- ['хронический']\n",
      "гиподин --- господин --- ['гиподинамический']\n",
      "нерный --- черный --- ['нервный']\n",
      "сист --- сист --- ['система']\n",
      "диагоностика --- диагностика --- ['диагностика']\n",
      "гипоксмия --- гипоксии --- ['гипоксемия']\n",
      "ледокоин --- ледокол --- ['лидокаин']\n",
      "блокато --- блока --- ['блокатор']\n",
      "тахкардия --- тахкардия --- ['тахикардия']\n",
      "малоинвозивный --- малоинвозивный --- ['малоинвазивный']\n",
      "алация --- акация --- ['аблация', 'абляция']\n",
      "имь --- им --- ['ИМ', 'им']\n",
      "паражение --- поражение --- ['поражение']\n",
      "тяжолый --- тяжелый --- ['тяжелый']\n",
      "гастрапластика --- гастрапластика --- ['гастропластика']\n",
      "вс --- в --- ['вес']\n",
      "лешний --- летний --- ['лишний']\n",
      "орта --- сорта --- ['аорта']\n",
      "клапа --- клапан --- ['клапан']\n",
      "вент --- сент --- ['вена']\n",
      "палый --- малый --- ['полый']\n",
      "пирикард --- пирикард --- ['перикард']\n",
      "метральный --- центральный --- ['митральный']\n",
      "ултразвук --- ультразвук --- ['ультразвук']\n",
      "херург --- хирург --- ['хирург']\n",
      "кордиолог --- кордиолог --- ['кардиолог']\n",
      "килограм --- килограмм --- ['килограмм']\n",
      "акенезия --- акенезия --- ['акинезия']\n",
      "врхушка --- верхушка --- ['верхушка']\n",
      "апекальный --- печальный --- ['апикальный']\n",
      "сгмент --- сегмент --- ['сегмент']\n",
      "вес --- вес --- ['весь']\n",
      "сьенка --- стенка --- ['стенка']\n",
      "церкулярный --- церкулярный --- ['циркулярный']\n",
      "сридиный --- средины --- ['срединный']\n",
      "калапаный --- клапаны --- ['клапанный']\n",
      "апарат --- аппарат --- ['аппарат']\n",
      "потология --- патология --- ['патология']\n",
      "перекард --- перепад --- ['перикард']\n",
      "праксимальный --- максимальный --- ['проксимальный']\n",
      "деаметр --- диаметр --- ['диаметр']\n",
      "корекция --- коррекция --- ['коррекция']\n",
      "аслажнение --- наслаждение --- ['осложнение']\n",
      "стрдать --- страдать --- ['страдать']\n",
      "гепертонический --- гипертонической --- ['гипертонический']\n",
      "болезн --- болезни --- ['болезнь']\n",
      "одоптировать --- одоптировать --- ['адаптировать']\n",
      "получять --- получить --- ['получать']\n",
      "кансервативный --- консервативный --- ['консервативный']\n",
      "тичение --- течение --- ['течение']\n",
      "пребование --- требование --- ['пребывание']\n",
      "отбиление --- отделение --- ['отделение']\n",
      "самачувствие --- самочувствие --- ['самочувствие']\n",
      "уходшение --- ухудшение --- ['ухудшение']\n",
      "месро --- место --- ['место']\n",
      "пункцыя --- функция --- ['пункция']\n",
      "особеность --- особенность --- ['особенность']\n",
      "шнут --- шут --- ['шунт']\n",
      "шнутирование --- шнутирование --- ['шунтирование']\n",
      "готчина --- вотчина --- ['гатчина']\n",
      "эхэ --- эх --- ['эхо']\n",
      "каранарный --- каранарный --- ['коронарный']\n",
      "ортерия --- артерия --- ['артерия']\n",
      "сначимый --- значимый --- ['значимый']\n",
      "стинос --- стихов --- ['стеноз']\n",
      "гаспиализировать --- гаспиализировать --- ['госпитализировать']\n",
      "имья --- имя --- ['имя']\n",
      "олмазов --- алмазов --- ['алмазов']\n",
      "прдшствовать --- предшествовать --- ['предшествовать']\n",
      "стинакардия --- стинакардия --- ['стенокардия']\n",
      "пиринести --- принести --- ['перенести']\n",
      "ифаркт --- инфаркт --- ['инфаркт']\n",
      "моикарда --- миокарда --- ['миокарда']\n",
      "лакализация --- локализация --- ['локализация']\n",
      "спразка --- справка --- ['справка']\n",
      "дальнейшый --- дальнейшей --- ['дальнейший']\n",
      "хроническаянедостаточность --- хроническаянедостаточность --- ['хроническая недостаточность', 'хронический недостаточность']\n",
      "инфарктмиокарда --- инфарктмиокарда --- ['инфаркт миокарда', 'инфаркт миокард']\n",
      "отузла --- отдела --- ['от узла', 'от узел']\n",
      "нарушениеработы --- нарушениеработы --- ['нарушение работы', 'нарушение работа']\n",
      "вминуту --- минуту --- ['в минуту', 'в минута', 'минута']\n",
      "эндокриннойсистемы --- эндокриннойсистемы --- ['эндокринная система', 'эндокринный система']\n",
      "сердечныйритм --- сердечныйритм --- ['сердечный ритм']\n",
      "узловаятахикардия --- узловаятахикардия --- ['узловая тахикардия', 'узловой тахикардия']\n",
      "основныефакторы --- основныефакторы --- ['основной факто', 'основные факторы']\n",
      "остановкасердца --- остановкасердца --- ['остановка сердца', 'остановка сердце']\n",
      "фибрилляцияжелудочков --- фибрилляцияжелудочков --- ['фибрилляция желудочков', 'фибрилляция желудочек']\n",
      "счастотой --- частотой --- ['с частотой', 'с частотаб частота']\n",
      "Right corrected words count - 84 of 200 total\n"
     ]
    },
    {
     "name": "stderr",
     "output_type": "stream",
     "text": [
      "\n"
     ]
    },
    {
     "data": {
      "text/plain": "(8.65626335144043e-05,\n 0.42,\n 0.0,\n ['эктренном',\n  'синусовго',\n  'даным',\n  'шнутография',\n  'сникопальных',\n  'посление',\n  'ходавый',\n  'анмнезе',\n  'сентированный',\n  'самоч',\n  'перевдена',\n  'стентированеим',\n  'кардиол',\n  'переведна',\n  'догосптальном',\n  'миним',\n  'субфебриллитет',\n  'загрудиные',\n  'перферия',\n  'течени',\n  'оклюзия',\n  'жнщина',\n  'пциент',\n  'зарегистирована',\n  'сегмета',\n  'клекте',\n  'эпид',\n  'интелектуально',\n  'нижн',\n  'прводилась',\n  'неуст',\n  'госптализирован',\n  'вперые',\n  'послеоперационом',\n  'госпитализирова',\n  'ухудщение',\n  'рентг',\n  'дальнешем',\n  'троботическая',\n  'многосоудистое',\n  'миокрада',\n  'сопрвождались',\n  'дискмфорт',\n  'потлтвостью',\n  'левогожелудочка',\n  'рание',\n  'виед',\n  'ангинозныеболи',\n  'догоситальном',\n  'ввполнен',\n  'чаосв',\n  'октазалась',\n  'линика',\n  'ммента',\n  'проведеной',\n  'выполненяи',\n  'леченяи',\n  'обтилась',\n  'повтороно',\n  'зарегистриованы',\n  'отицает',\n  'дальнейщем',\n  'болисохраняются',\n  'частичынм',\n  'атерокслеротичсекая',\n  'деньс',\n  'назначаля',\n  'проведеняи',\n  'беспакоют',\n  'гипертензи',\n  'воленйбол',\n  'болезн',\n  'стенокардаа',\n  'продолжалсь',\n  'поворное',\n  'ощуащет',\n  'ангигнозного',\n  'диагностичекой',\n  'поддерживающией',\n  'межлопаточнй',\n  'бедреной',\n  'гшрядки',\n  'бассеине',\n  'возлуха',\n  'сенября',\n  'постояная',\n  'рекмоендовнао',\n  'поврждения',\n  'дискофморта',\n  'импалнтирован',\n  'неочетливая',\n  'обесвеченный',\n  'серце',\n  'блезнь',\n  'лергия',\n  'ука',\n  'изжга',\n  'жение',\n  'кашел',\n  'рствор',\n  'пациен',\n  'пожлой',\n  'лекарсво',\n  'нпреносимость',\n  'амупула',\n  'гел',\n  'конценрат',\n  'рилиф',\n  'чссс',\n  'экгъ',\n  'фибриляция',\n  'желдочек',\n  'хрон',\n  'гиподин',\n  'нерный',\n  'сист',\n  'диагоностика',\n  'гипоксмия',\n  'ледокоин',\n  'блокато',\n  'тахкардия',\n  'малоинвозивный',\n  'алация',\n  'имь',\n  'паражение',\n  'тяжолый',\n  'гастрапластика',\n  'вс',\n  'лешний',\n  'орта',\n  'клапа',\n  'вент',\n  'палый',\n  'пирикард',\n  'метральный',\n  'ултразвук',\n  'херург',\n  'кордиолог',\n  'килограм',\n  'акенезия',\n  'врхушка',\n  'апекальный',\n  'сгмент',\n  'вес',\n  'сьенка',\n  'церкулярный',\n  'сридиный',\n  'калапаный',\n  'апарат',\n  'потология',\n  'перекард',\n  'праксимальный',\n  'деаметр',\n  'корекция',\n  'аслажнение',\n  'стрдать',\n  'гепертонический',\n  'болезн',\n  'одоптировать',\n  'получять',\n  'кансервативный',\n  'тичение',\n  'пребование',\n  'отбиление',\n  'самачувствие',\n  'уходшение',\n  'месро',\n  'пункцыя',\n  'особеность',\n  'шнут',\n  'шнутирование',\n  'готчина',\n  'эхэ',\n  'каранарный',\n  'ортерия',\n  'сначимый',\n  'стинос',\n  'гаспиализировать',\n  'имья',\n  'олмазов',\n  'прдшствовать',\n  'стинакардия',\n  'пиринести',\n  'ифаркт',\n  'моикарда',\n  'лакализация',\n  'спразка',\n  'дальнейшый',\n  'хроническаянедостаточность',\n  'инфарктмиокарда',\n  'отузла',\n  'нарушениеработы',\n  'вминуту',\n  'эндокриннойсистемы',\n  'сердечныйритм',\n  'узловаятахикардия',\n  'основныефакторы',\n  'остановкасердца',\n  'фибрилляцияжелудочков',\n  'счастотой'],\n ['коренном',\n  'синусовго',\n  'данным',\n  'шнутография',\n  'сникопальных',\n  'последние',\n  'подавай',\n  'анамнезе',\n  'сентированный',\n  'самой',\n  'переведена',\n  'стентированеим',\n  'кардинал',\n  'переведена',\n  'догосптальном',\n  'синим',\n  'субфебриллитет',\n  'загрудиные',\n  'периферия',\n  'течение',\n  'иллюзия',\n  'женщина',\n  'пациент',\n  'зарегистрирована',\n  'сегмента',\n  'клетке',\n  'спид',\n  'интеллектуально',\n  'ниже',\n  'проводилась',\n  'несут',\n  'госптализирован',\n  'впервые',\n  'послеоперационном',\n  'госпитализирова',\n  'ухудшение',\n  'ренты',\n  'дальнейшем',\n  'троботическая',\n  'многосоудистое',\n  'миокарда',\n  'сопровождались',\n  'дискмфорт',\n  'потлтвостью',\n  'левогожелудочка',\n  'ранее',\n  'виде',\n  'ангинозныеболи',\n  'догоситальном',\n  'вполне',\n  'часов',\n  'оказалась',\n  'лирика',\n  'момента',\n  'проведено',\n  'выполнения',\n  'лечения',\n  'осталась',\n  'повторно',\n  'зарегистрированы',\n  'отрицает',\n  'дальнейшем',\n  'болисохраняются',\n  'частичным',\n  'атерокслеротичсекая',\n  'день',\n  'назначали',\n  'проведения',\n  'беспокоит',\n  'гипертензии',\n  'волейбол',\n  'болезни',\n  'стенокардаа',\n  'продолжалось',\n  'повторное',\n  'ощущает',\n  'ангигнозного',\n  'диагностической',\n  'поддерживающие',\n  'межлопаточнй',\n  'бедренной',\n  'грядки',\n  'бассейне',\n  'воздуха',\n  'сентября',\n  'постоянная',\n  'рекомендовано',\n  'повреждения',\n  'дискофморта',\n  'импалнтирован',\n  'неочетливая',\n  'обеспеченных',\n  'сердце',\n  'болезнь',\n  'сергия',\n  'ука',\n  'из-за',\n  'жене',\n  'нашел',\n  'раствор',\n  'пациент',\n  'пожилой',\n  'лекарство',\n  'нпреносимость',\n  'ампулы',\n  'дел',\n  'концентрат',\n  'или',\n  'ссср',\n  'экг',\n  'фибриляция',\n  'желдочек',\n  'крон',\n  'господин',\n  'черный',\n  'сист',\n  'диагностика',\n  'гипоксии',\n  'ледокол',\n  'блока',\n  'тахкардия',\n  'малоинвозивный',\n  'акация',\n  'им',\n  'поражение',\n  'тяжелый',\n  'гастрапластика',\n  'в',\n  'летний',\n  'сорта',\n  'клапан',\n  'сент',\n  'малый',\n  'пирикард',\n  'центральный',\n  'ультразвук',\n  'хирург',\n  'кордиолог',\n  'килограмм',\n  'акенезия',\n  'верхушка',\n  'печальный',\n  'сегмент',\n  'вес',\n  'стенка',\n  'церкулярный',\n  'средины',\n  'клапаны',\n  'аппарат',\n  'патология',\n  'перепад',\n  'максимальный',\n  'диаметр',\n  'коррекция',\n  'наслаждение',\n  'страдать',\n  'гипертонической',\n  'болезни',\n  'одоптировать',\n  'получить',\n  'консервативный',\n  'течение',\n  'требование',\n  'отделение',\n  'самочувствие',\n  'ухудшение',\n  'место',\n  'функция',\n  'особенность',\n  'шут',\n  'шнутирование',\n  'вотчина',\n  'эх',\n  'каранарный',\n  'артерия',\n  'значимый',\n  'стихов',\n  'гаспиализировать',\n  'имя',\n  'алмазов',\n  'предшествовать',\n  'стинакардия',\n  'принести',\n  'инфаркт',\n  'миокарда',\n  'локализация',\n  'справка',\n  'дальнейшей',\n  'хроническаянедостаточность',\n  'инфарктмиокарда',\n  'отдела',\n  'нарушениеработы',\n  'минуту',\n  'эндокриннойсистемы',\n  'сердечныйритм',\n  'узловаятахикардия',\n  'основныефакторы',\n  'остановкасердца',\n  'фибрилляцияжелудочков',\n  'частотой'],\n [['экстренном'],\n  ['синусового'],\n  ['данным', 'данный', 'данные'],\n  ['шунтография'],\n  ['синкопальных'],\n  ['поселение', 'последний'],\n  ['ходовый'],\n  ['анамнезе', 'анамнез'],\n  ['стентированный'],\n  ['самочувствие'],\n  ['переведена'],\n  ['стентированием', 'стентирование'],\n  ['кардиолог,кардиологический'],\n  ['переведена'],\n  ['догоспитальном'],\n  ['минимум', 'минимальный'],\n  ['субфебрилитет'],\n  ['загрудинные', 'загрудинный'],\n  ['периферия'],\n  ['течение'],\n  ['окклюзия'],\n  ['женщина'],\n  ['пациент'],\n  ['зарегистрирована'],\n  ['сегмента'],\n  ['клетке'],\n  ['эпидемия', 'эпидемиологический', 'эпидуральный'],\n  ['интеллектуально'],\n  ['нижний'],\n  ['проводилась', 'проводить'],\n  ['неустановленный'],\n  ['госпитализирован'],\n  ['впервые'],\n  ['послеоперационном'],\n  ['госпитализирован'],\n  ['ухудшение'],\n  ['рентген'],\n  ['дальнейшем'],\n  ['тромботическая'],\n  ['многососудистое', 'многососудистый'],\n  ['миокарда', 'миокард'],\n  ['сопровождались'],\n  ['дискомфорт'],\n  ['потливостью'],\n  ['левого желудочка', 'левый желудочек'],\n  ['ранее', 'ранние'],\n  ['виде', 'вид'],\n  ['ангинозные боли', 'ангиозный боль'],\n  ['догоспитальном'],\n  ['выполнен'],\n  ['часов'],\n  ['отказалась'],\n  ['клиника'],\n  ['момента'],\n  ['проведенной'],\n  ['выполнения', 'выполнение'],\n  ['лечения', 'лечение'],\n  ['обратилась'],\n  ['повторно'],\n  ['зарегистрированы'],\n  ['отрицает', 'отрицать'],\n  ['дальнейшем'],\n  ['боли сохраняются'],\n  ['частичным'],\n  ['атеросклеротическая'],\n  ['день', 'день с'],\n  ['назначался'],\n  ['проведения'],\n  ['беспокоят'],\n  ['гипертензия'],\n  ['волейбол'],\n  ['болезнь'],\n  ['стенокардия'],\n  ['продолжалась'],\n  ['повторное'],\n  ['ощущает'],\n  ['ангинозного', 'ангинозный'],\n  ['диагностической', 'диагностический'],\n  ['поддерживающий'],\n  ['межлопаточный'],\n  ['бедренной', 'бедренный'],\n  ['грядки'],\n  ['бассейне', 'бассейн'],\n  ['воздуха', 'воздух'],\n  ['сентября', 'сентябрь'],\n  ['постоянная', 'постоянный'],\n  ['рекомендовано'],\n  ['повреждения'],\n  ['дискомфорт'],\n  ['имплантирован', 'имплантировать'],\n  ['неотчетливая', 'неотчетливый'],\n  ['обесцвеченный', 'обеспеченный'],\n  ['сердце'],\n  ['болезнь'],\n  ['аллергия'],\n  ['рука'],\n  ['изжога'],\n  ['жжение'],\n  ['кашель'],\n  ['раствор'],\n  ['пациент'],\n  ['пожилой'],\n  ['лекарство'],\n  ['непереносимость'],\n  ['ампула'],\n  ['гель'],\n  ['концентрат'],\n  ['релиф'],\n  ['ЧСС', 'чсс'],\n  ['ЭКГ', 'экг'],\n  ['фибрилляция'],\n  ['желудочек'],\n  ['хронический'],\n  ['гиподинамический'],\n  ['нервный'],\n  ['система'],\n  ['диагностика'],\n  ['гипоксемия'],\n  ['лидокаин'],\n  ['блокатор'],\n  ['тахикардия'],\n  ['малоинвазивный'],\n  ['аблация', 'абляция'],\n  ['ИМ', 'им'],\n  ['поражение'],\n  ['тяжелый'],\n  ['гастропластика'],\n  ['вес'],\n  ['лишний'],\n  ['аорта'],\n  ['клапан'],\n  ['вена'],\n  ['полый'],\n  ['перикард'],\n  ['митральный'],\n  ['ультразвук'],\n  ['хирург'],\n  ['кардиолог'],\n  ['килограмм'],\n  ['акинезия'],\n  ['верхушка'],\n  ['апикальный'],\n  ['сегмент'],\n  ['весь'],\n  ['стенка'],\n  ['циркулярный'],\n  ['срединный'],\n  ['клапанный'],\n  ['аппарат'],\n  ['патология'],\n  ['перикард'],\n  ['проксимальный'],\n  ['диаметр'],\n  ['коррекция'],\n  ['осложнение'],\n  ['страдать'],\n  ['гипертонический'],\n  ['болезнь'],\n  ['адаптировать'],\n  ['получать'],\n  ['консервативный'],\n  ['течение'],\n  ['пребывание'],\n  ['отделение'],\n  ['самочувствие'],\n  ['ухудшение'],\n  ['место'],\n  ['пункция'],\n  ['особенность'],\n  ['шунт'],\n  ['шунтирование'],\n  ['гатчина'],\n  ['эхо'],\n  ['коронарный'],\n  ['артерия'],\n  ['значимый'],\n  ['стеноз'],\n  ['госпитализировать'],\n  ['имя'],\n  ['алмазов'],\n  ['предшествовать'],\n  ['стенокардия'],\n  ['перенести'],\n  ['инфаркт'],\n  ['миокарда'],\n  ['локализация'],\n  ['справка'],\n  ['дальнейший'],\n  ['хроническая недостаточность', 'хронический недостаточность'],\n  ['инфаркт миокарда', 'инфаркт миокард'],\n  ['от узла', 'от узел'],\n  ['нарушение работы', 'нарушение работа'],\n  ['в минуту', 'в минута', 'минута'],\n  ['эндокринная система', 'эндокринный система'],\n  ['сердечный ритм'],\n  ['узловая тахикардия', 'узловой тахикардия'],\n  ['основной факто', 'основные факторы'],\n  ['остановка сердца', 'остановка сердце'],\n  ['фибрилляция желудочков', 'фибрилляция желудочек'],\n  ['с частотой', 'с частотаб частота']])"
     },
     "execution_count": 19,
     "metadata": {},
     "output_type": "execute_result"
    }
   ],
   "source": [
    "test_symspell_py_lookup_result = compute_all_metrics(\n",
    "    lambda : test_symspell_py_lookup(basic_frequency_dict, test_word_list), test_word_list, test_answers)\n",
    "test_symspell_py_lookup_result"
   ],
   "metadata": {
    "collapsed": false,
    "pycharm": {
     "name": "#%%\n"
    }
   }
  },
  {
   "cell_type": "code",
   "execution_count": 20,
   "metadata": {
    "pycharm": {
     "name": "#%%\n"
    }
   },
   "outputs": [
    {
     "name": "stderr",
     "output_type": "stream",
     "text": [
      "100%|██████████| 200/200 [00:00<00:00, 677.85it/s]"
     ]
    },
    {
     "name": "stdout",
     "output_type": "stream",
     "text": [
      "original_word_list --- corrected_word --- answer_word_list\n",
      "эктренном --- коренном --- ['экстренном']\n",
      "синусовго --- синус его --- ['синусового']\n",
      "даным --- данным --- ['данным', 'данный', 'данные']\n",
      "шнутография --- и фотография --- ['шунтография']\n",
      "сникопальных --- они локальных --- ['синкопальных']\n",
      "посление --- последние --- ['поселение', 'последний']\n",
      "ходавый --- ход вый --- ['ходовый']\n",
      "анмнезе --- анамнезе --- ['анамнезе', 'анамнез']\n",
      "сентированный --- центров данный --- ['стентированный']\n",
      "самоч --- самой --- ['самочувствие']\n",
      "перевдена --- переведена --- ['переведена']\n",
      "стентированеим --- стен титрованием --- ['стентированием', 'стентирование']\n",
      "кардиол --- кардинал --- ['кардиолог,кардиологический']\n",
      "переведна --- переведена --- ['переведена']\n",
      "догосптальном --- до остальном --- ['догоспитальном']\n",
      "миним --- синим --- ['минимум', 'минимальный']\n",
      "субфебриллитет --- себе бриллиант --- ['субфебрилитет']\n",
      "загрудиные --- за рудные --- ['загрудинные', 'загрудинный']\n",
      "перферия --- периферия --- ['периферия']\n",
      "течени --- течение --- ['течение']\n",
      "оклюзия --- иллюзия --- ['окклюзия']\n",
      "жнщина --- женщина --- ['женщина']\n",
      "пциент --- пациент --- ['пациент']\n",
      "зарегистирована --- зарегистрирована --- ['зарегистрирована']\n",
      "сегмета --- сегмента --- ['сегмента']\n",
      "клекте --- клетке --- ['клетке']\n",
      "эпид --- спид --- ['эпидемия', 'эпидемиологический', 'эпидуральный']\n",
      "интелектуально --- интеллектуально --- ['интеллектуально']\n",
      "нижн --- ниже --- ['нижний']\n",
      "прводилась --- проводилась --- ['проводилась', 'проводить']\n",
      "неуст --- несут --- ['неустановленный']\n",
      "госптализирован --- госпитали мировая --- ['госпитализирован']\n",
      "вперые --- впервые --- ['впервые']\n",
      "послеоперационом --- послеоперационном --- ['послеоперационном']\n",
      "госпитализирова --- госпитали кирова --- ['госпитализирован']\n",
      "ухудщение --- ухудшение --- ['ухудшение']\n",
      "рентг --- ренты --- ['рентген']\n",
      "дальнешем --- дальнейшем --- ['дальнейшем']\n",
      "троботическая --- ты оптическая --- ['тромботическая']\n",
      "многосоудистое --- много сосудистой --- ['многососудистое', 'многососудистый']\n",
      "миокрада --- миокарда --- ['миокарда', 'миокард']\n",
      "сопрвождались --- сопровождались --- ['сопровождались']\n",
      "дискмфорт --- диск форт --- ['дискомфорт']\n",
      "потлтвостью --- после костью --- ['потливостью']\n",
      "левогожелудочка --- левого желудочка --- ['левого желудочка', 'левый желудочек']\n",
      "рание --- ранее --- ['ранее', 'ранние']\n",
      "виед --- виде --- ['виде', 'вид']\n",
      "ангинозныеболи --- ангинозныеболи --- ['ангинозные боли', 'ангиозный боль']\n",
      "догоситальном --- до остальном --- ['догоспитальном']\n",
      "ввполнен --- вполне --- ['выполнен']\n",
      "чаосв --- часов --- ['часов']\n",
      "октазалась --- оказалась --- ['отказалась']\n",
      "линика --- лирика --- ['клиника']\n",
      "ммента --- момента --- ['момента']\n",
      "проведеной --- проведено --- ['проведенной']\n",
      "выполненяи --- выполнения --- ['выполнения', 'выполнение']\n",
      "леченяи --- лечения --- ['лечения', 'лечение']\n",
      "обтилась --- осталась --- ['обратилась']\n",
      "повтороно --- повторно --- ['повторно']\n",
      "зарегистриованы --- зарегистрированы --- ['зарегистрированы']\n",
      "отицает --- отрицает --- ['отрицает', 'отрицать']\n",
      "дальнейщем --- дальнейшем --- ['дальнейшем']\n",
      "болисохраняются --- боли сохраняются --- ['боли сохраняются']\n",
      "частичынм --- частичным --- ['частичным']\n",
      "атерокслеротичсекая --- атеросклероз этическая --- ['атеросклеротическая']\n",
      "деньс --- день --- ['день', 'день с']\n",
      "назначаля --- назначали --- ['назначался']\n",
      "проведеняи --- проведения --- ['проведения']\n",
      "беспакоют --- беспокоит --- ['беспокоят']\n",
      "гипертензи --- гипертензии --- ['гипертензия']\n",
      "воленйбол --- волейбол --- ['волейбол']\n",
      "болезн --- болезни --- ['болезнь']\n",
      "стенокардаа --- стенок рада --- ['стенокардия']\n",
      "продолжалсь --- продолжалось --- ['продолжалась']\n",
      "поворное --- повторное --- ['повторное']\n",
      "ощуащет --- ощущает --- ['ощущает']\n",
      "ангигнозного --- ан грозного --- ['ангинозного', 'ангинозный']\n",
      "диагностичекой --- диагностической --- ['диагностической', 'диагностический']\n",
      "поддерживающией --- поддерживающие --- ['поддерживающий']\n",
      "межлопаточнй --- меж лопатой --- ['межлопаточный']\n",
      "бедреной --- бедренной --- ['бедренной', 'бедренный']\n",
      "гшрядки --- грядки --- ['грядки']\n",
      "бассеине --- бассейне --- ['бассейне', 'бассейн']\n",
      "возлуха --- воздуха --- ['воздуха', 'воздух']\n",
      "сенября --- сентября --- ['сентября', 'сентябрь']\n",
      "постояная --- постоянная --- ['постоянная', 'постоянный']\n",
      "рекмоендовнао --- рекомендовано --- ['рекомендовано']\n",
      "поврждения --- повреждения --- ['повреждения']\n",
      "дискофморта --- диском рта --- ['дискомфорт']\n",
      "импалнтирован --- импалнтирован --- ['имплантирован', 'имплантировать']\n",
      "неочетливая --- не отчетливая --- ['неотчетливая', 'неотчетливый']\n",
      "обесвеченный --- обеспеченных --- ['обесцвеченный', 'обеспеченный']\n",
      "серце --- сердце --- ['сердце']\n",
      "блезнь --- болезнь --- ['болезнь']\n",
      "лергия --- сергия --- ['аллергия']\n",
      "ука --- ука --- ['рука']\n",
      "изжга --- из га --- ['изжога']\n",
      "жение --- жене --- ['жжение']\n",
      "кашел --- нашел --- ['кашель']\n",
      "рствор --- раствор --- ['раствор']\n",
      "пациен --- пациент --- ['пациент']\n",
      "пожлой --- пожилой --- ['пожилой']\n",
      "лекарсво --- лекарство --- ['лекарство']\n",
      "нпреносимость --- перенос иметь --- ['непереносимость']\n",
      "амупула --- ампулы --- ['ампула']\n",
      "гел --- дел --- ['гель']\n",
      "конценрат --- концентрат --- ['концентрат']\n",
      "рилиф --- или --- ['релиф']\n",
      "чссс --- ссср --- ['ЧСС', 'чсс']\n",
      "экгъ --- экг --- ['ЭКГ', 'экг']\n",
      "фибриляция --- физ милиция --- ['фибрилляция']\n",
      "желдочек --- же точек --- ['желудочек']\n",
      "хрон --- крон --- ['хронический']\n",
      "гиподин --- господин --- ['гиподинамический']\n",
      "нерный --- черный --- ['нервный']\n",
      "сист --- сист --- ['система']\n",
      "диагоностика --- диагностика --- ['диагностика']\n",
      "гипоксмия --- гипоксии --- ['гипоксемия']\n",
      "ледокоин --- ледокол --- ['лидокаин']\n",
      "блокато --- блока о --- ['блокатор']\n",
      "тахкардия --- такая для --- ['тахикардия']\n",
      "малоинвозивный --- малины наивный --- ['малоинвазивный']\n",
      "алация --- акация --- ['аблация', 'абляция']\n",
      "имь --- им --- ['ИМ', 'им']\n",
      "паражение --- поражение --- ['поражение']\n",
      "тяжолый --- тяжелый --- ['тяжелый']\n",
      "гастрапластика --- астра пластика --- ['гастропластика']\n",
      "вс --- в --- ['вес']\n",
      "лешний --- летний --- ['лишний']\n",
      "орта --- сорта --- ['аорта']\n",
      "клапа --- клапан --- ['клапан']\n",
      "вент --- сент --- ['вена']\n",
      "палый --- малый --- ['полый']\n",
      "пирикард --- пи ричард --- ['перикард']\n",
      "метральный --- центральный --- ['митральный']\n",
      "ултразвук --- ультразвук --- ['ультразвук']\n",
      "херург --- хирург --- ['хирург']\n",
      "кордиолог --- ко диалог --- ['кардиолог']\n",
      "килограм --- килограмм --- ['килограмм']\n",
      "акенезия --- арене и --- ['акинезия']\n",
      "врхушка --- верхушка --- ['верхушка']\n",
      "апекальный --- печальный --- ['апикальный']\n",
      "сгмент --- сегмент --- ['сегмент']\n",
      "вес --- вес --- ['весь']\n",
      "сьенка --- стенка --- ['стенка']\n",
      "церкулярный --- и регулярный --- ['циркулярный']\n",
      "сридиный --- средины --- ['срединный']\n",
      "калапаный --- клапаны --- ['клапанный']\n",
      "апарат --- аппарат --- ['аппарат']\n",
      "потология --- патология --- ['патология']\n",
      "перекард --- перепад --- ['перикард']\n",
      "праксимальный --- максимальный --- ['проксимальный']\n",
      "деаметр --- диаметр --- ['диаметр']\n",
      "корекция --- коррекция --- ['коррекция']\n",
      "аслажнение --- наслаждение --- ['осложнение']\n",
      "стрдать --- страдать --- ['страдать']\n",
      "гепертонический --- гипертонической --- ['гипертонический']\n",
      "болезн --- болезни --- ['болезнь']\n",
      "одоптировать --- о датировать --- ['адаптировать']\n",
      "получять --- получить --- ['получать']\n",
      "кансервативный --- консервативный --- ['консервативный']\n",
      "тичение --- течение --- ['течение']\n",
      "пребование --- требование --- ['пребывание']\n",
      "отбиление --- отделение --- ['отделение']\n",
      "самачувствие --- самочувствие --- ['самочувствие']\n",
      "уходшение --- ухудшение --- ['ухудшение']\n",
      "месро --- место --- ['место']\n",
      "пункцыя --- функция --- ['пункция']\n",
      "особеность --- особенность --- ['особенность']\n",
      "шнут --- шут --- ['шунт']\n",
      "шнутирование --- и цитирование --- ['шунтирование']\n",
      "готчина --- вотчина --- ['гатчина']\n",
      "эхэ --- эх --- ['эхо']\n",
      "каранарный --- кара парный --- ['коронарный']\n",
      "ортерия --- артерия --- ['артерия']\n",
      "сначимый --- значимый --- ['значимый']\n",
      "стинос --- стихов --- ['стеноз']\n",
      "гаспиализировать --- нас анализировать --- ['госпитализировать']\n",
      "имья --- имя --- ['имя']\n",
      "олмазов --- алмазов --- ['алмазов']\n",
      "прдшствовать --- предшествовать --- ['предшествовать']\n",
      "стинакардия --- истина партия --- ['стенокардия']\n",
      "пиринести --- принести --- ['перенести']\n",
      "ифаркт --- инфаркт --- ['инфаркт']\n",
      "моикарда --- миокарда --- ['миокарда']\n",
      "лакализация --- локализация --- ['локализация']\n",
      "спразка --- справка --- ['справка']\n",
      "дальнейшый --- дальнейшей --- ['дальнейший']\n",
      "хроническаянедостаточность --- хроническая недостаточность --- ['хроническая недостаточность', 'хронический недостаточность']\n",
      "инфарктмиокарда --- инфаркт миокарда --- ['инфаркт миокарда', 'инфаркт миокард']\n",
      "отузла --- от зла --- ['от узла', 'от узел']\n",
      "нарушениеработы --- нарушение работы --- ['нарушение работы', 'нарушение работа']\n",
      "вминуту --- минуту --- ['в минуту', 'в минута', 'минута']\n",
      "эндокриннойсистемы --- эндокринной системы --- ['эндокринная система', 'эндокринный система']\n",
      "сердечныйритм --- сердечный ритм --- ['сердечный ритм']\n",
      "узловаятахикардия --- узловаятахикардия --- ['узловая тахикардия', 'узловой тахикардия']\n",
      "основныефакторы --- основные факторы --- ['основной факто', 'основные факторы']\n",
      "остановкасердца --- остановка сердца --- ['остановка сердца', 'остановка сердце']\n",
      "фибрилляцияжелудочков --- фибрилляцияжелудочков --- ['фибрилляция желудочков', 'фибрилляция желудочек']\n",
      "счастотой --- частотой --- ['с частотой', 'с частотаб частота']\n",
      "Right corrected words count - 92 of 200 total\n"
     ]
    },
    {
     "name": "stderr",
     "output_type": "stream",
     "text": [
      "\n"
     ]
    },
    {
     "data": {
      "text/plain": "(0.0014775395393371582,\n 0.46,\n 0.0,\n ['эктренном',\n  'синусовго',\n  'даным',\n  'шнутография',\n  'сникопальных',\n  'посление',\n  'ходавый',\n  'анмнезе',\n  'сентированный',\n  'самоч',\n  'перевдена',\n  'стентированеим',\n  'кардиол',\n  'переведна',\n  'догосптальном',\n  'миним',\n  'субфебриллитет',\n  'загрудиные',\n  'перферия',\n  'течени',\n  'оклюзия',\n  'жнщина',\n  'пциент',\n  'зарегистирована',\n  'сегмета',\n  'клекте',\n  'эпид',\n  'интелектуально',\n  'нижн',\n  'прводилась',\n  'неуст',\n  'госптализирован',\n  'вперые',\n  'послеоперационом',\n  'госпитализирова',\n  'ухудщение',\n  'рентг',\n  'дальнешем',\n  'троботическая',\n  'многосоудистое',\n  'миокрада',\n  'сопрвождались',\n  'дискмфорт',\n  'потлтвостью',\n  'левогожелудочка',\n  'рание',\n  'виед',\n  'ангинозныеболи',\n  'догоситальном',\n  'ввполнен',\n  'чаосв',\n  'октазалась',\n  'линика',\n  'ммента',\n  'проведеной',\n  'выполненяи',\n  'леченяи',\n  'обтилась',\n  'повтороно',\n  'зарегистриованы',\n  'отицает',\n  'дальнейщем',\n  'болисохраняются',\n  'частичынм',\n  'атерокслеротичсекая',\n  'деньс',\n  'назначаля',\n  'проведеняи',\n  'беспакоют',\n  'гипертензи',\n  'воленйбол',\n  'болезн',\n  'стенокардаа',\n  'продолжалсь',\n  'поворное',\n  'ощуащет',\n  'ангигнозного',\n  'диагностичекой',\n  'поддерживающией',\n  'межлопаточнй',\n  'бедреной',\n  'гшрядки',\n  'бассеине',\n  'возлуха',\n  'сенября',\n  'постояная',\n  'рекмоендовнао',\n  'поврждения',\n  'дискофморта',\n  'импалнтирован',\n  'неочетливая',\n  'обесвеченный',\n  'серце',\n  'блезнь',\n  'лергия',\n  'ука',\n  'изжга',\n  'жение',\n  'кашел',\n  'рствор',\n  'пациен',\n  'пожлой',\n  'лекарсво',\n  'нпреносимость',\n  'амупула',\n  'гел',\n  'конценрат',\n  'рилиф',\n  'чссс',\n  'экгъ',\n  'фибриляция',\n  'желдочек',\n  'хрон',\n  'гиподин',\n  'нерный',\n  'сист',\n  'диагоностика',\n  'гипоксмия',\n  'ледокоин',\n  'блокато',\n  'тахкардия',\n  'малоинвозивный',\n  'алация',\n  'имь',\n  'паражение',\n  'тяжолый',\n  'гастрапластика',\n  'вс',\n  'лешний',\n  'орта',\n  'клапа',\n  'вент',\n  'палый',\n  'пирикард',\n  'метральный',\n  'ултразвук',\n  'херург',\n  'кордиолог',\n  'килограм',\n  'акенезия',\n  'врхушка',\n  'апекальный',\n  'сгмент',\n  'вес',\n  'сьенка',\n  'церкулярный',\n  'сридиный',\n  'калапаный',\n  'апарат',\n  'потология',\n  'перекард',\n  'праксимальный',\n  'деаметр',\n  'корекция',\n  'аслажнение',\n  'стрдать',\n  'гепертонический',\n  'болезн',\n  'одоптировать',\n  'получять',\n  'кансервативный',\n  'тичение',\n  'пребование',\n  'отбиление',\n  'самачувствие',\n  'уходшение',\n  'месро',\n  'пункцыя',\n  'особеность',\n  'шнут',\n  'шнутирование',\n  'готчина',\n  'эхэ',\n  'каранарный',\n  'ортерия',\n  'сначимый',\n  'стинос',\n  'гаспиализировать',\n  'имья',\n  'олмазов',\n  'прдшствовать',\n  'стинакардия',\n  'пиринести',\n  'ифаркт',\n  'моикарда',\n  'лакализация',\n  'спразка',\n  'дальнейшый',\n  'хроническаянедостаточность',\n  'инфарктмиокарда',\n  'отузла',\n  'нарушениеработы',\n  'вминуту',\n  'эндокриннойсистемы',\n  'сердечныйритм',\n  'узловаятахикардия',\n  'основныефакторы',\n  'остановкасердца',\n  'фибрилляцияжелудочков',\n  'счастотой'],\n ['коренном',\n  'синус его',\n  'данным',\n  'и фотография',\n  'они локальных',\n  'последние',\n  'ход вый',\n  'анамнезе',\n  'центров данный',\n  'самой',\n  'переведена',\n  'стен титрованием',\n  'кардинал',\n  'переведена',\n  'до остальном',\n  'синим',\n  'себе бриллиант',\n  'за рудные',\n  'периферия',\n  'течение',\n  'иллюзия',\n  'женщина',\n  'пациент',\n  'зарегистрирована',\n  'сегмента',\n  'клетке',\n  'спид',\n  'интеллектуально',\n  'ниже',\n  'проводилась',\n  'несут',\n  'госпитали мировая',\n  'впервые',\n  'послеоперационном',\n  'госпитали кирова',\n  'ухудшение',\n  'ренты',\n  'дальнейшем',\n  'ты оптическая',\n  'много сосудистой',\n  'миокарда',\n  'сопровождались',\n  'диск форт',\n  'после костью',\n  'левого желудочка',\n  'ранее',\n  'виде',\n  'ангинозныеболи',\n  'до остальном',\n  'вполне',\n  'часов',\n  'оказалась',\n  'лирика',\n  'момента',\n  'проведено',\n  'выполнения',\n  'лечения',\n  'осталась',\n  'повторно',\n  'зарегистрированы',\n  'отрицает',\n  'дальнейшем',\n  'боли сохраняются',\n  'частичным',\n  'атеросклероз этическая',\n  'день',\n  'назначали',\n  'проведения',\n  'беспокоит',\n  'гипертензии',\n  'волейбол',\n  'болезни',\n  'стенок рада',\n  'продолжалось',\n  'повторное',\n  'ощущает',\n  'ан грозного',\n  'диагностической',\n  'поддерживающие',\n  'меж лопатой',\n  'бедренной',\n  'грядки',\n  'бассейне',\n  'воздуха',\n  'сентября',\n  'постоянная',\n  'рекомендовано',\n  'повреждения',\n  'диском рта',\n  'импалнтирован',\n  'не отчетливая',\n  'обеспеченных',\n  'сердце',\n  'болезнь',\n  'сергия',\n  'ука',\n  'из га',\n  'жене',\n  'нашел',\n  'раствор',\n  'пациент',\n  'пожилой',\n  'лекарство',\n  'перенос иметь',\n  'ампулы',\n  'дел',\n  'концентрат',\n  'или',\n  'ссср',\n  'экг',\n  'физ милиция',\n  'же точек',\n  'крон',\n  'господин',\n  'черный',\n  'сист',\n  'диагностика',\n  'гипоксии',\n  'ледокол',\n  'блока о',\n  'такая для',\n  'малины наивный',\n  'акация',\n  'им',\n  'поражение',\n  'тяжелый',\n  'астра пластика',\n  'в',\n  'летний',\n  'сорта',\n  'клапан',\n  'сент',\n  'малый',\n  'пи ричард',\n  'центральный',\n  'ультразвук',\n  'хирург',\n  'ко диалог',\n  'килограмм',\n  'арене и',\n  'верхушка',\n  'печальный',\n  'сегмент',\n  'вес',\n  'стенка',\n  'и регулярный',\n  'средины',\n  'клапаны',\n  'аппарат',\n  'патология',\n  'перепад',\n  'максимальный',\n  'диаметр',\n  'коррекция',\n  'наслаждение',\n  'страдать',\n  'гипертонической',\n  'болезни',\n  'о датировать',\n  'получить',\n  'консервативный',\n  'течение',\n  'требование',\n  'отделение',\n  'самочувствие',\n  'ухудшение',\n  'место',\n  'функция',\n  'особенность',\n  'шут',\n  'и цитирование',\n  'вотчина',\n  'эх',\n  'кара парный',\n  'артерия',\n  'значимый',\n  'стихов',\n  'нас анализировать',\n  'имя',\n  'алмазов',\n  'предшествовать',\n  'истина партия',\n  'принести',\n  'инфаркт',\n  'миокарда',\n  'локализация',\n  'справка',\n  'дальнейшей',\n  'хроническая недостаточность',\n  'инфаркт миокарда',\n  'от зла',\n  'нарушение работы',\n  'минуту',\n  'эндокринной системы',\n  'сердечный ритм',\n  'узловаятахикардия',\n  'основные факторы',\n  'остановка сердца',\n  'фибрилляцияжелудочков',\n  'частотой'],\n [['экстренном'],\n  ['синусового'],\n  ['данным', 'данный', 'данные'],\n  ['шунтография'],\n  ['синкопальных'],\n  ['поселение', 'последний'],\n  ['ходовый'],\n  ['анамнезе', 'анамнез'],\n  ['стентированный'],\n  ['самочувствие'],\n  ['переведена'],\n  ['стентированием', 'стентирование'],\n  ['кардиолог,кардиологический'],\n  ['переведена'],\n  ['догоспитальном'],\n  ['минимум', 'минимальный'],\n  ['субфебрилитет'],\n  ['загрудинные', 'загрудинный'],\n  ['периферия'],\n  ['течение'],\n  ['окклюзия'],\n  ['женщина'],\n  ['пациент'],\n  ['зарегистрирована'],\n  ['сегмента'],\n  ['клетке'],\n  ['эпидемия', 'эпидемиологический', 'эпидуральный'],\n  ['интеллектуально'],\n  ['нижний'],\n  ['проводилась', 'проводить'],\n  ['неустановленный'],\n  ['госпитализирован'],\n  ['впервые'],\n  ['послеоперационном'],\n  ['госпитализирован'],\n  ['ухудшение'],\n  ['рентген'],\n  ['дальнейшем'],\n  ['тромботическая'],\n  ['многососудистое', 'многососудистый'],\n  ['миокарда', 'миокард'],\n  ['сопровождались'],\n  ['дискомфорт'],\n  ['потливостью'],\n  ['левого желудочка', 'левый желудочек'],\n  ['ранее', 'ранние'],\n  ['виде', 'вид'],\n  ['ангинозные боли', 'ангиозный боль'],\n  ['догоспитальном'],\n  ['выполнен'],\n  ['часов'],\n  ['отказалась'],\n  ['клиника'],\n  ['момента'],\n  ['проведенной'],\n  ['выполнения', 'выполнение'],\n  ['лечения', 'лечение'],\n  ['обратилась'],\n  ['повторно'],\n  ['зарегистрированы'],\n  ['отрицает', 'отрицать'],\n  ['дальнейшем'],\n  ['боли сохраняются'],\n  ['частичным'],\n  ['атеросклеротическая'],\n  ['день', 'день с'],\n  ['назначался'],\n  ['проведения'],\n  ['беспокоят'],\n  ['гипертензия'],\n  ['волейбол'],\n  ['болезнь'],\n  ['стенокардия'],\n  ['продолжалась'],\n  ['повторное'],\n  ['ощущает'],\n  ['ангинозного', 'ангинозный'],\n  ['диагностической', 'диагностический'],\n  ['поддерживающий'],\n  ['межлопаточный'],\n  ['бедренной', 'бедренный'],\n  ['грядки'],\n  ['бассейне', 'бассейн'],\n  ['воздуха', 'воздух'],\n  ['сентября', 'сентябрь'],\n  ['постоянная', 'постоянный'],\n  ['рекомендовано'],\n  ['повреждения'],\n  ['дискомфорт'],\n  ['имплантирован', 'имплантировать'],\n  ['неотчетливая', 'неотчетливый'],\n  ['обесцвеченный', 'обеспеченный'],\n  ['сердце'],\n  ['болезнь'],\n  ['аллергия'],\n  ['рука'],\n  ['изжога'],\n  ['жжение'],\n  ['кашель'],\n  ['раствор'],\n  ['пациент'],\n  ['пожилой'],\n  ['лекарство'],\n  ['непереносимость'],\n  ['ампула'],\n  ['гель'],\n  ['концентрат'],\n  ['релиф'],\n  ['ЧСС', 'чсс'],\n  ['ЭКГ', 'экг'],\n  ['фибрилляция'],\n  ['желудочек'],\n  ['хронический'],\n  ['гиподинамический'],\n  ['нервный'],\n  ['система'],\n  ['диагностика'],\n  ['гипоксемия'],\n  ['лидокаин'],\n  ['блокатор'],\n  ['тахикардия'],\n  ['малоинвазивный'],\n  ['аблация', 'абляция'],\n  ['ИМ', 'им'],\n  ['поражение'],\n  ['тяжелый'],\n  ['гастропластика'],\n  ['вес'],\n  ['лишний'],\n  ['аорта'],\n  ['клапан'],\n  ['вена'],\n  ['полый'],\n  ['перикард'],\n  ['митральный'],\n  ['ультразвук'],\n  ['хирург'],\n  ['кардиолог'],\n  ['килограмм'],\n  ['акинезия'],\n  ['верхушка'],\n  ['апикальный'],\n  ['сегмент'],\n  ['весь'],\n  ['стенка'],\n  ['циркулярный'],\n  ['срединный'],\n  ['клапанный'],\n  ['аппарат'],\n  ['патология'],\n  ['перикард'],\n  ['проксимальный'],\n  ['диаметр'],\n  ['коррекция'],\n  ['осложнение'],\n  ['страдать'],\n  ['гипертонический'],\n  ['болезнь'],\n  ['адаптировать'],\n  ['получать'],\n  ['консервативный'],\n  ['течение'],\n  ['пребывание'],\n  ['отделение'],\n  ['самочувствие'],\n  ['ухудшение'],\n  ['место'],\n  ['пункция'],\n  ['особенность'],\n  ['шунт'],\n  ['шунтирование'],\n  ['гатчина'],\n  ['эхо'],\n  ['коронарный'],\n  ['артерия'],\n  ['значимый'],\n  ['стеноз'],\n  ['госпитализировать'],\n  ['имя'],\n  ['алмазов'],\n  ['предшествовать'],\n  ['стенокардия'],\n  ['перенести'],\n  ['инфаркт'],\n  ['миокарда'],\n  ['локализация'],\n  ['справка'],\n  ['дальнейший'],\n  ['хроническая недостаточность', 'хронический недостаточность'],\n  ['инфаркт миокарда', 'инфаркт миокард'],\n  ['от узла', 'от узел'],\n  ['нарушение работы', 'нарушение работа'],\n  ['в минуту', 'в минута', 'минута'],\n  ['эндокринная система', 'эндокринный система'],\n  ['сердечный ритм'],\n  ['узловая тахикардия', 'узловой тахикардия'],\n  ['основной факто', 'основные факторы'],\n  ['остановка сердца', 'остановка сердце'],\n  ['фибрилляция желудочков', 'фибрилляция желудочек'],\n  ['с частотой', 'с частотаб частота']])"
     },
     "execution_count": 20,
     "metadata": {},
     "output_type": "execute_result"
    }
   ],
   "source": [
    "test_symspell_py_lookup_compound_result = compute_all_metrics(\n",
    "    lambda : test_symspell_py_lookup_compound(basic_frequency_dict, test_word_list), test_word_list, test_answers)\n",
    "test_symspell_py_lookup_compound_result"
   ]
  },
  {
   "cell_type": "markdown",
   "source": [
    "# Test SymSpellCppPy - https://github.com/viig99/SymSpellCppPy"
   ],
   "metadata": {
    "collapsed": false
   }
  },
  {
   "cell_type": "code",
   "execution_count": 22,
   "outputs": [
    {
     "name": "stdout",
     "output_type": "stream",
     "text": [
      "Requirement already satisfied: wheel in /home/Dmitry.Pogrebnoy/Desktop/MedSpellChecker/venv/lib/python3.9/site-packages (0.36.2)\r\n",
      "Requirement already satisfied: setuptools in /home/Dmitry.Pogrebnoy/Desktop/MedSpellChecker/venv/lib/python3.9/site-packages (57.0.0)\r\n"
     ]
    }
   ],
   "source": [
    "!pip install wheel setuptools"
   ],
   "metadata": {
    "collapsed": false,
    "pycharm": {
     "name": "#%%\n"
    }
   }
  },
  {
   "cell_type": "code",
   "execution_count": 29,
   "outputs": [
    {
     "name": "stdout",
     "output_type": "stream",
     "text": [
      "Collecting SymSpellCppPy\r\n",
      "  Using cached SymSpellCppPy-0.0.14.tar.gz (5.4 MB)\r\n",
      "  Preparing metadata (setup.py) ... \u001B[?25ldone\r\n",
      "\u001B[?25hBuilding wheels for collected packages: SymSpellCppPy\r\n",
      "  Building wheel for SymSpellCppPy (setup.py) ... \u001B[?25lerror\r\n",
      "\u001B[31m  ERROR: Command errored out with exit status 1:\r\n",
      "   command: /home/Dmitry.Pogrebnoy/Desktop/MedSpellChecker/venv/bin/python -u -c 'import io, os, sys, setuptools, tokenize; sys.argv[0] = '\"'\"'/tmp/pip-install-h03nugqd/symspellcpppy_7de71a60b9a84cd9aba25d717b40bd4e/setup.py'\"'\"'; __file__='\"'\"'/tmp/pip-install-h03nugqd/symspellcpppy_7de71a60b9a84cd9aba25d717b40bd4e/setup.py'\"'\"';f = getattr(tokenize, '\"'\"'open'\"'\"', open)(__file__) if os.path.exists(__file__) else io.StringIO('\"'\"'from setuptools import setup; setup()'\"'\"');code = f.read().replace('\"'\"'\\r\\n'\"'\"', '\"'\"'\\n'\"'\"');f.close();exec(compile(code, __file__, '\"'\"'exec'\"'\"'))' bdist_wheel -d /tmp/pip-wheel-6n1izgqg\r\n",
      "       cwd: /tmp/pip-install-h03nugqd/symspellcpppy_7de71a60b9a84cd9aba25d717b40bd4e/\r\n",
      "  Complete output (45 lines):\r\n",
      "  running bdist_wheel\r\n",
      "  running build\r\n",
      "  running build_ext\r\n",
      "  Traceback (most recent call last):\r\n",
      "    File \"/tmp/pip-install-h03nugqd/symspellcpppy_7de71a60b9a84cd9aba25d717b40bd4e/setup.py\", line 29, in run\r\n",
      "      out = subprocess.check_output(['cmake', '--version'])\r\n",
      "    File \"/usr/lib/python3.9/subprocess.py\", line 424, in check_output\r\n",
      "      return run(*popenargs, stdout=PIPE, timeout=timeout, check=True,\r\n",
      "    File \"/usr/lib/python3.9/subprocess.py\", line 505, in run\r\n",
      "      with Popen(*popenargs, **kwargs) as process:\r\n",
      "    File \"/usr/lib/python3.9/subprocess.py\", line 951, in __init__\r\n",
      "      self._execute_child(args, executable, preexec_fn, close_fds,\r\n",
      "    File \"/usr/lib/python3.9/subprocess.py\", line 1821, in _execute_child\r\n",
      "      raise child_exception_type(errno_num, err_msg, err_filename)\r\n",
      "  FileNotFoundError: [Errno 2] No such file or directory: 'cmake'\r\n",
      "  \r\n",
      "  During handling of the above exception, another exception occurred:\r\n",
      "  \r\n",
      "  Traceback (most recent call last):\r\n",
      "    File \"<string>\", line 1, in <module>\r\n",
      "    File \"/tmp/pip-install-h03nugqd/symspellcpppy_7de71a60b9a84cd9aba25d717b40bd4e/setup.py\", line 79, in <module>\r\n",
      "      setup(\r\n",
      "    File \"/home/Dmitry.Pogrebnoy/Desktop/MedSpellChecker/venv/lib/python3.9/site-packages/setuptools/__init__.py\", line 153, in setup\r\n",
      "      return distutils.core.setup(**attrs)\r\n",
      "    File \"/usr/lib/python3.9/distutils/core.py\", line 148, in setup\r\n",
      "      dist.run_commands()\r\n",
      "    File \"/usr/lib/python3.9/distutils/dist.py\", line 966, in run_commands\r\n",
      "      self.run_command(cmd)\r\n",
      "    File \"/usr/lib/python3.9/distutils/dist.py\", line 985, in run_command\r\n",
      "      cmd_obj.run()\r\n",
      "    File \"/home/Dmitry.Pogrebnoy/Desktop/MedSpellChecker/venv/lib/python3.9/site-packages/wheel/bdist_wheel.py\", line 299, in run\r\n",
      "      self.run_command('build')\r\n",
      "    File \"/usr/lib/python3.9/distutils/cmd.py\", line 313, in run_command\r\n",
      "      self.distribution.run_command(command)\r\n",
      "    File \"/usr/lib/python3.9/distutils/dist.py\", line 985, in run_command\r\n",
      "      cmd_obj.run()\r\n",
      "    File \"/usr/lib/python3.9/distutils/command/build.py\", line 135, in run\r\n",
      "      self.run_command(cmd_name)\r\n",
      "    File \"/usr/lib/python3.9/distutils/cmd.py\", line 313, in run_command\r\n",
      "      self.distribution.run_command(command)\r\n",
      "    File \"/usr/lib/python3.9/distutils/dist.py\", line 985, in run_command\r\n",
      "      cmd_obj.run()\r\n",
      "    File \"/tmp/pip-install-h03nugqd/symspellcpppy_7de71a60b9a84cd9aba25d717b40bd4e/setup.py\", line 31, in run\r\n",
      "      raise RuntimeError(\"CMake must be installed to build the following extensions: \" +\r\n",
      "  RuntimeError: CMake must be installed to build the following extensions: SymSpellCppPy\r\n",
      "  ----------------------------------------\u001B[0m\r\n",
      "\u001B[31m  ERROR: Failed building wheel for SymSpellCppPy\u001B[0m\r\n",
      "\u001B[?25h  Running setup.py clean for SymSpellCppPy\r\n",
      "Failed to build SymSpellCppPy\r\n",
      "Installing collected packages: SymSpellCppPy\r\n",
      "    Running setup.py install for SymSpellCppPy ... \u001B[?25lerror\r\n",
      "\u001B[31m    ERROR: Command errored out with exit status 1:\r\n",
      "     command: /home/Dmitry.Pogrebnoy/Desktop/MedSpellChecker/venv/bin/python -u -c 'import io, os, sys, setuptools, tokenize; sys.argv[0] = '\"'\"'/tmp/pip-install-h03nugqd/symspellcpppy_7de71a60b9a84cd9aba25d717b40bd4e/setup.py'\"'\"'; __file__='\"'\"'/tmp/pip-install-h03nugqd/symspellcpppy_7de71a60b9a84cd9aba25d717b40bd4e/setup.py'\"'\"';f = getattr(tokenize, '\"'\"'open'\"'\"', open)(__file__) if os.path.exists(__file__) else io.StringIO('\"'\"'from setuptools import setup; setup()'\"'\"');code = f.read().replace('\"'\"'\\r\\n'\"'\"', '\"'\"'\\n'\"'\"');f.close();exec(compile(code, __file__, '\"'\"'exec'\"'\"'))' install --record /tmp/pip-record-h3qh350_/install-record.txt --single-version-externally-managed --compile --install-headers /home/Dmitry.Pogrebnoy/Desktop/MedSpellChecker/venv/include/site/python3.9/SymSpellCppPy\r\n",
      "         cwd: /tmp/pip-install-h03nugqd/symspellcpppy_7de71a60b9a84cd9aba25d717b40bd4e/\r\n",
      "    Complete output (47 lines):\r\n",
      "    running install\r\n",
      "    running build\r\n",
      "    running build_ext\r\n",
      "    Traceback (most recent call last):\r\n",
      "      File \"/tmp/pip-install-h03nugqd/symspellcpppy_7de71a60b9a84cd9aba25d717b40bd4e/setup.py\", line 29, in run\r\n",
      "        out = subprocess.check_output(['cmake', '--version'])\r\n",
      "      File \"/usr/lib/python3.9/subprocess.py\", line 424, in check_output\r\n",
      "        return run(*popenargs, stdout=PIPE, timeout=timeout, check=True,\r\n",
      "      File \"/usr/lib/python3.9/subprocess.py\", line 505, in run\r\n",
      "        with Popen(*popenargs, **kwargs) as process:\r\n",
      "      File \"/usr/lib/python3.9/subprocess.py\", line 951, in __init__\r\n",
      "        self._execute_child(args, executable, preexec_fn, close_fds,\r\n",
      "      File \"/usr/lib/python3.9/subprocess.py\", line 1821, in _execute_child\r\n",
      "        raise child_exception_type(errno_num, err_msg, err_filename)\r\n",
      "    FileNotFoundError: [Errno 2] No such file or directory: 'cmake'\r\n",
      "    \r\n",
      "    During handling of the above exception, another exception occurred:\r\n",
      "    \r\n",
      "    Traceback (most recent call last):\r\n",
      "      File \"<string>\", line 1, in <module>\r\n",
      "      File \"/tmp/pip-install-h03nugqd/symspellcpppy_7de71a60b9a84cd9aba25d717b40bd4e/setup.py\", line 79, in <module>\r\n",
      "        setup(\r\n",
      "      File \"/home/Dmitry.Pogrebnoy/Desktop/MedSpellChecker/venv/lib/python3.9/site-packages/setuptools/__init__.py\", line 153, in setup\r\n",
      "        return distutils.core.setup(**attrs)\r\n",
      "      File \"/usr/lib/python3.9/distutils/core.py\", line 148, in setup\r\n",
      "        dist.run_commands()\r\n",
      "      File \"/usr/lib/python3.9/distutils/dist.py\", line 966, in run_commands\r\n",
      "        self.run_command(cmd)\r\n",
      "      File \"/usr/lib/python3.9/distutils/dist.py\", line 985, in run_command\r\n",
      "        cmd_obj.run()\r\n",
      "      File \"/home/Dmitry.Pogrebnoy/Desktop/MedSpellChecker/venv/lib/python3.9/site-packages/setuptools/command/install.py\", line 61, in run\r\n",
      "        return orig.install.run(self)\r\n",
      "      File \"/usr/lib/python3.9/distutils/command/install.py\", line 590, in run\r\n",
      "        self.run_command('build')\r\n",
      "      File \"/usr/lib/python3.9/distutils/cmd.py\", line 313, in run_command\r\n",
      "        self.distribution.run_command(command)\r\n",
      "      File \"/usr/lib/python3.9/distutils/dist.py\", line 985, in run_command\r\n",
      "        cmd_obj.run()\r\n",
      "      File \"/usr/lib/python3.9/distutils/command/build.py\", line 135, in run\r\n",
      "        self.run_command(cmd_name)\r\n",
      "      File \"/usr/lib/python3.9/distutils/cmd.py\", line 313, in run_command\r\n",
      "        self.distribution.run_command(command)\r\n",
      "      File \"/usr/lib/python3.9/distutils/dist.py\", line 985, in run_command\r\n",
      "        cmd_obj.run()\r\n",
      "      File \"/tmp/pip-install-h03nugqd/symspellcpppy_7de71a60b9a84cd9aba25d717b40bd4e/setup.py\", line 31, in run\r\n",
      "        raise RuntimeError(\"CMake must be installed to build the following extensions: \" +\r\n",
      "    RuntimeError: CMake must be installed to build the following extensions: SymSpellCppPy\r\n",
      "    ----------------------------------------\u001B[0m\r\n",
      "\u001B[31mERROR: Command errored out with exit status 1: /home/Dmitry.Pogrebnoy/Desktop/MedSpellChecker/venv/bin/python -u -c 'import io, os, sys, setuptools, tokenize; sys.argv[0] = '\"'\"'/tmp/pip-install-h03nugqd/symspellcpppy_7de71a60b9a84cd9aba25d717b40bd4e/setup.py'\"'\"'; __file__='\"'\"'/tmp/pip-install-h03nugqd/symspellcpppy_7de71a60b9a84cd9aba25d717b40bd4e/setup.py'\"'\"';f = getattr(tokenize, '\"'\"'open'\"'\"', open)(__file__) if os.path.exists(__file__) else io.StringIO('\"'\"'from setuptools import setup; setup()'\"'\"');code = f.read().replace('\"'\"'\\r\\n'\"'\"', '\"'\"'\\n'\"'\"');f.close();exec(compile(code, __file__, '\"'\"'exec'\"'\"'))' install --record /tmp/pip-record-h3qh350_/install-record.txt --single-version-externally-managed --compile --install-headers /home/Dmitry.Pogrebnoy/Desktop/MedSpellChecker/venv/include/site/python3.9/SymSpellCppPy Check the logs for full command output.\u001B[0m\r\n",
      "\u001B[?25h"
     ]
    }
   ],
   "source": [
    "!pip install --upgrade SymSpellCppPy"
   ],
   "metadata": {
    "collapsed": false,
    "pycharm": {
     "name": "#%%\n"
    }
   }
  },
  {
   "cell_type": "markdown",
   "source": [
    "There was a problem with installing the package. It is still unclear what the reason is. However, this spellchecker should not provide more accuracy, only higher speed since it is implemented in C++. However, the speed of the Python implementation is still enough at this stage.  So I decided to leave it here for now and come back if there is a need for more speed."
   ],
   "metadata": {
    "collapsed": false
   }
  },
  {
   "cell_type": "markdown",
   "source": [
    "# Test JunSpell - https://github.com/bakwc/JamSpell"
   ],
   "metadata": {
    "collapsed": false
   }
  },
  {
   "cell_type": "markdown",
   "source": [
    "#### Attention No Windows 10 support!"
   ],
   "metadata": {
    "collapsed": false
   }
  },
  {
   "cell_type": "code",
   "execution_count": 28,
   "outputs": [
    {
     "name": "stdout",
     "output_type": "stream",
     "text": [
      "Collecting jamspell\r\n",
      "  Downloading jamspell-0.0.12.tar.gz (174 kB)\r\n",
      "     |████████████████████████████████| 174 kB 464 kB/s            \r\n",
      "\u001B[?25h  Preparing metadata (setup.py) ... \u001B[?25ldone\r\n",
      "\u001B[?25hBuilding wheels for collected packages: jamspell\r\n",
      "  Building wheel for jamspell (setup.py) ... \u001B[?25ldone\r\n",
      "\u001B[?25h  Created wheel for jamspell: filename=jamspell-0.0.12-cp39-cp39-linux_x86_64.whl size=1901024 sha256=12f999b71c361ba070861480a02e92d3afc4e0f332bea2ec4b1851025bbabb54\r\n",
      "  Stored in directory: /tmp/pip-ephem-wheel-cache-t_m_awed/wheels/fa/7e/8f/c23ae02f1556243d33cc2e3bddf98f8cc146e174e5855788b6\r\n",
      "Successfully built jamspell\r\n",
      "Installing collected packages: jamspell\r\n",
      "Successfully installed jamspell-0.0.12\r\n"
     ]
    }
   ],
   "source": [
    "!pip install -I --no-cache-dir jamspell"
   ],
   "metadata": {
    "collapsed": false,
    "pycharm": {
     "name": "#%%\n"
    }
   }
  },
  {
   "cell_type": "code",
   "execution_count": null,
   "outputs": [],
   "source": [],
   "metadata": {
    "collapsed": false,
    "pycharm": {
     "name": "#%%\n"
    }
   }
  }
 ],
 "metadata": {
  "colab": {
   "name": "Spellchecker_tests.ipynb",
   "provenance": []
  },
  "kernelspec": {
   "display_name": "Python 3 (ipykernel)",
   "language": "python",
   "name": "python3"
  },
  "language_info": {
   "codemirror_mode": {
    "name": "ipython",
    "version": 3
   },
   "file_extension": ".py",
   "mimetype": "text/x-python",
   "name": "python",
   "nbconvert_exporter": "python",
   "pygments_lexer": "ipython3",
   "version": "3.9.1"
  }
 },
 "nbformat": 4,
 "nbformat_minor": 1
}