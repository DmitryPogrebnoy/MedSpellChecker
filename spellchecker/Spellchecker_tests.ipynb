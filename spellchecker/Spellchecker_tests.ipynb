{
 "cells": [
  {
   "cell_type": "markdown",
   "metadata": {
    "id": "sAliKDQvhExv"
   },
   "source": [
    "# Prepear test dataset\n",
    "Load word data for error precision test\n",
    "Format - {word}{several spaces}{answer-words separeted by comma}"
   ]
  },
  {
   "cell_type": "code",
   "execution_count": 97,
   "metadata": {},
   "outputs": [
    {
     "name": "stdout",
     "output_type": "stream",
     "text": [
      "Requirement already satisfied: pip in /home/Dmitry.Pogrebnoy/Desktop/MedSpellChecker/venv/lib/python3.9/site-packages (21.3.1)\r\n"
     ]
    }
   ],
   "source": [
    "!pip install --upgrade pip"
   ]
  },
  {
   "cell_type": "code",
   "execution_count": 98,
   "metadata": {
    "id": "JtZvUWdZhFOf"
   },
   "outputs": [
    {
     "name": "stdout",
     "output_type": "stream",
     "text": [
      "Requirement already satisfied: pandas in /home/Dmitry.Pogrebnoy/Desktop/MedSpellChecker/venv/lib/python3.9/site-packages (1.3.4)\r\n",
      "Requirement already satisfied: pytz>=2017.3 in /home/Dmitry.Pogrebnoy/Desktop/MedSpellChecker/venv/lib/python3.9/site-packages (from pandas) (2021.3)\r\n",
      "Requirement already satisfied: numpy>=1.17.3 in /home/Dmitry.Pogrebnoy/Desktop/MedSpellChecker/venv/lib/python3.9/site-packages (from pandas) (1.21.4)\r\n",
      "Requirement already satisfied: python-dateutil>=2.7.3 in /home/Dmitry.Pogrebnoy/Desktop/MedSpellChecker/venv/lib/python3.9/site-packages (from pandas) (2.8.2)\r\n",
      "Requirement already satisfied: six>=1.5 in /home/Dmitry.Pogrebnoy/Desktop/MedSpellChecker/venv/lib/python3.9/site-packages (from python-dateutil>=2.7.3->pandas) (1.16.0)\r\n"
     ]
    }
   ],
   "source": [
    "!pip install pandas\n",
    "import pandas as pd"
   ]
  },
  {
   "cell_type": "code",
   "execution_count": 99,
   "metadata": {
    "id": "OZYmhZvuWLfa"
   },
   "outputs": [],
   "source": [
    "error_precision_test_incorrect_file = open('../data/test_sample_incorrect.txt', 'r', encoding=\"utf8\")\n",
    "error_precision_test_incorrect_lines = error_precision_test_incorrect_file.readlines()\n",
    "error_precision_splitted_test_incorrect_lines = list(map(lambda x: x.split(maxsplit=1), error_precision_test_incorrect_lines))\n",
    "error_precision_test_incorrect_words = list(map(lambda x: x[0], error_precision_splitted_test_incorrect_lines))\n",
    "error_precision_test_incorrect_answers = list(map(lambda x: list(map(lambda y: y.strip(), x[1].split(', '))), error_precision_splitted_test_incorrect_lines))\n",
    "error_precision_test_df = pd.DataFrame(error_precision_test_incorrect_words, columns=[\"test_word\"])\n",
    "error_precision_test_df[\"answers\"] = error_precision_test_incorrect_answers"
   ]
  },
  {
   "cell_type": "code",
   "execution_count": 100,
   "metadata": {
    "colab": {
     "base_uri": "https://localhost:8080/",
     "height": 202
    },
    "id": "0P3kfs2dhj4q",
    "outputId": "1b7a854b-2395-4ddb-bf6f-8c6ee54b4ae6"
   },
   "outputs": [
    {
     "data": {
      "text/plain": "      test_word                   answers\n0     эктренном              [экстренном]\n1     синусовго              [синусового]\n2         даным  [данным, данный, данные]\n3   шнутография             [шунтография]\n4  сникопальных            [синкопальных]",
      "text/html": "<div>\n<style scoped>\n    .dataframe tbody tr th:only-of-type {\n        vertical-align: middle;\n    }\n\n    .dataframe tbody tr th {\n        vertical-align: top;\n    }\n\n    .dataframe thead th {\n        text-align: right;\n    }\n</style>\n<table border=\"1\" class=\"dataframe\">\n  <thead>\n    <tr style=\"text-align: right;\">\n      <th></th>\n      <th>test_word</th>\n      <th>answers</th>\n    </tr>\n  </thead>\n  <tbody>\n    <tr>\n      <th>0</th>\n      <td>эктренном</td>\n      <td>[экстренном]</td>\n    </tr>\n    <tr>\n      <th>1</th>\n      <td>синусовго</td>\n      <td>[синусового]</td>\n    </tr>\n    <tr>\n      <th>2</th>\n      <td>даным</td>\n      <td>[данным, данный, данные]</td>\n    </tr>\n    <tr>\n      <th>3</th>\n      <td>шнутография</td>\n      <td>[шунтография]</td>\n    </tr>\n    <tr>\n      <th>4</th>\n      <td>сникопальных</td>\n      <td>[синкопальных]</td>\n    </tr>\n  </tbody>\n</table>\n</div>"
     },
     "execution_count": 100,
     "metadata": {},
     "output_type": "execute_result"
    }
   ],
   "source": [
    "error_precision_test_df.head()"
   ]
  },
  {
   "cell_type": "code",
   "execution_count": 101,
   "metadata": {},
   "outputs": [],
   "source": [
    "error_precision_test_word_list = error_precision_test_df[\"test_word\"].tolist()"
   ]
  },
  {
   "cell_type": "code",
   "execution_count": 102,
   "metadata": {},
   "outputs": [],
   "source": [
    "error_precision_test_answers = error_precision_test_df[\"answers\"].tolist()"
   ]
  },
  {
   "cell_type": "markdown",
   "source": [
    "Load word list for lexical precision test"
   ],
   "metadata": {
    "collapsed": false
   }
  },
  {
   "cell_type": "code",
   "execution_count": 103,
   "outputs": [],
   "source": [
    "with open(\"../data/lexical_word_list.txt\") as file:\n",
    "    lexical_precision_test_word_list = file.readlines()\n",
    "    lexical_precision_test_word_list = [line.rstrip() for line in lexical_precision_test_word_list]"
   ],
   "metadata": {
    "collapsed": false,
    "pycharm": {
     "name": "#%%\n"
    }
   }
  },
  {
   "cell_type": "code",
   "execution_count": 104,
   "outputs": [
    {
     "data": {
      "text/plain": "['выборгский',\n 'отказываться',\n 'нитропрепарат',\n 'предсердие',\n 'диссоциация',\n 'кольцевой',\n 'отрыв',\n 'вовлечение',\n 'мелкопузырчатый',\n 'госпитализировать',\n 'фтизиатр',\n 'проксимальный',\n 'приступ',\n 'рецидивировать',\n 'беспокоить',\n 'значимый',\n 'одномоментный',\n 'течение',\n 'постепенной',\n 'трафика',\n 'левый',\n 'область',\n 'окклюзия',\n 'каждый',\n 'аторвастатина',\n 'проникающий',\n 'слух',\n 'отрицательный',\n 'заднее',\n 'диафрагмальный',\n 'физическая',\n 'реваскуляризация',\n 'очевидный',\n 'умеренный',\n 'самостоятельный',\n 'визуализация',\n 'неселективный',\n 'септопластика',\n 'присутствие',\n 'соустье',\n 'кировский',\n 'ноющая',\n 'постоять',\n 'стенка',\n 'укоротить',\n 'назначить',\n 'госпитализация',\n 'возобновление',\n 'одеть',\n 'охранник',\n 'дексона',\n 'систолический',\n 'верхушечно-перегородочный',\n 'расширение',\n 'равнозначный',\n 'предприятие',\n 'ночь',\n 'вредность',\n 'транспортировка',\n 'март',\n 'гипотиазид',\n 'скрытый',\n 'расстройство',\n 'ломота',\n 'подготовить',\n 'помощь',\n 'большая',\n 'эквивалент',\n 'гемостатический',\n 'купировавшийся',\n 'ревизия',\n 'пульсирующий',\n 'регистрироваться',\n 'лимитирование',\n 'ометать',\n 'стихание',\n 'вазопрессорный',\n 'тредмил',\n 'тест',\n 'гипопноэ',\n 'наш',\n 'ускоренный',\n 'эфффект',\n 'тромбофлебит',\n 'ишемический',\n 'купирование',\n 'патологии',\n 'длительный',\n 'заключение',\n 'пунктировать',\n 'ферритина',\n 'гастропротективный',\n 'пароксизм',\n 'выполнять',\n 'показатель',\n 'посттромбофлебитический',\n 'анальгин',\n 'корректировать',\n 'секунда',\n 'креатинкиназа',\n 'утолщение',\n 'терапия',\n 'глибомёт',\n 'лобэктомия',\n 'новгородский',\n 'владеть',\n 'тенденция',\n 'мерить',\n 'поражений',\n 'перекосить',\n 'тропонин',\n 'сдвиг',\n 'отправить',\n 'сжимающее',\n 'давящий',\n 'нифедипин',\n 'мексикор',\n 'сад',\n 'мезентериальный',\n 'дальнейшей',\n 'реабилитация',\n 'переносить',\n 'дискомфорт',\n 'проявление',\n 'батарея',\n 'фермент',\n 'затёк',\n 'непроизвольный',\n 'слепок',\n 'тенорик',\n 'сегмента',\n 'дрожь',\n 'появляется',\n 'гепарина',\n 'предсердие',\n 'диурез',\n 'фиксировать',\n 'временной',\n 'микропрепарат',\n 'аторвастатин',\n 'гипотензия',\n 'грудь',\n 'инфаркт',\n 'мононуклеары',\n 'постоянно',\n 'погрузка',\n 'фармакологический',\n 'нестабильный',\n 'мертенил',\n 'тахикардий',\n 'снимать',\n 'распространиться',\n 'контрпульсатор',\n 'соталол',\n 'складываться',\n 'кардиомегалия',\n 'смесь',\n 'мкг',\n 'похожий',\n 'аутовенозный',\n 'гепатина',\n 'рецидивировать',\n 'асцит',\n 'стенокардия',\n 'тысяча',\n 'промежуточный',\n 'возможный',\n 'водка',\n 'лимфодиссекция',\n 'принимать',\n 'стентирование',\n 'незначимый',\n 'настоящее',\n 'задненижний',\n 'частичный',\n 'появиться',\n 'тройной',\n 'показатель',\n 'эквивалент',\n 'утолстить',\n 'поведение',\n 'аускультативный',\n 'отказаться',\n 'рассмотреть',\n 'сывороточный',\n 'формирующийся',\n 'жир',\n 'карведилол',\n 'тонкий',\n 'единица',\n 'срабатывать',\n 'компрометация',\n 'россия',\n 'массив',\n 'нижнебоковой',\n 'отечь',\n 'трепетание',\n 'конкурировать',\n 'событие',\n 'незначительный']"
     },
     "execution_count": 104,
     "metadata": {},
     "output_type": "execute_result"
    }
   ],
   "source": [
    "lexical_precision_test_word_list"
   ],
   "metadata": {
    "collapsed": false,
    "pycharm": {
     "name": "#%%\n"
    }
   }
  },
  {
   "cell_type": "code",
   "execution_count": 104,
   "outputs": [],
   "source": [],
   "metadata": {
    "collapsed": false,
    "pycharm": {
     "name": "#%%\n"
    }
   }
  },
  {
   "cell_type": "code",
   "execution_count": 105,
   "metadata": {},
   "outputs": [],
   "source": [
    "def compute_error_precision(original_word_list, corrected_word_list, answer_word_list):\n",
    "    words_number = len(corrected_word_list)\n",
    "    correct_words_number = 0\n",
    "    print(\"Error precision\")\n",
    "    print(\"original_word_list --- corrected_word --- answer_word_list\")\n",
    "    for i, corrected_word in enumerate(corrected_word_list):\n",
    "        print(f\"{original_word_list[i]} --- {corrected_word} --- {answer_word_list[i]}\")\n",
    "        if corrected_word in answer_word_list[i]:\n",
    "            correct_words_number += 1\n",
    "    print(f\"Right corrected words count - {correct_words_number} of {words_number} total\")\n",
    "    return correct_words_number/words_number"
   ]
  },
  {
   "cell_type": "code",
   "execution_count": 106,
   "outputs": [],
   "source": [
    "def compute_lexical_precision(original_word_list, corrected_word_list):\n",
    "    words_number = len(corrected_word_list)\n",
    "    correct_words_number = 0\n",
    "    print(\"Lexical precision\")\n",
    "    print(\"original_word_list --- corrected_word\")\n",
    "    for i, corrected_word in enumerate(corrected_word_list):\n",
    "        print(f\"{original_word_list[i]} --- {corrected_word}\")\n",
    "        if corrected_word == original_word_list[i]:\n",
    "            correct_words_number += 1\n",
    "    print(f\"Right corrected words count - {correct_words_number} of {words_number} total\")\n",
    "    return correct_words_number/words_number"
   ],
   "metadata": {
    "collapsed": false,
    "pycharm": {
     "name": "#%%\n"
    }
   }
  },
  {
   "cell_type": "code",
   "execution_count": 107,
   "outputs": [
    {
     "name": "stdout",
     "output_type": "stream",
     "text": [
      "Requirement already satisfied: tqdm in /home/Dmitry.Pogrebnoy/Desktop/MedSpellChecker/venv/lib/python3.9/site-packages (4.62.3)\r\n"
     ]
    }
   ],
   "source": [
    "!pip install tqdm\n",
    "from tqdm import tqdm"
   ],
   "metadata": {
    "collapsed": false,
    "pycharm": {
     "name": "#%%\n"
    }
   }
  },
  {
   "cell_type": "code",
   "execution_count": 86,
   "outputs": [],
   "source": [
    "def compute_all_metrics(error_precision_spellchecker_function,\n",
    "                        lexical_precision_spellchecker_function,\n",
    "                        error_precision_original_word_list,\n",
    "                        error_precision_answer_word_list,\n",
    "                        lexical_precision_original_word_list):\n",
    "\n",
    "    error_precision_result = error_precision_spellchecker_function()\n",
    "    error_precision_elapsed_time = error_precision_result[\"elapsed\"]\n",
    "    error_precision_corrected_word_list = error_precision_result[\"corrected_word_list\"]\n",
    "    error_precision = compute_error_precision(error_precision_original_word_list, error_precision_corrected_word_list, error_precision_answer_word_list)\n",
    "\n",
    "    lexical_precision_result = lexical_precision_spellchecker_function()\n",
    "    lexical_precision_elapsed_time = lexical_precision_result[\"elapsed\"]\n",
    "    lexical_precision_corrected_word_list = lexical_precision_result[\"corrected_word_list\"]\n",
    "    lexical_precision = compute_lexical_precision(lexical_precision_original_word_list, lexical_precision_corrected_word_list)\n",
    "\n",
    "    return {\"words_per_minute\": 60 /\n",
    "                                ((error_precision_elapsed_time + lexical_precision_elapsed_time) /\n",
    "                                 (len(error_precision_original_word_list) + len(lexical_precision_original_word_list))),\n",
    "            \"error_precision\": error_precision,\n",
    "            \"lexical_precision\": lexical_precision,\n",
    "            # \"error_precision_original_word_list\": error_precision_original_word_list,\n",
    "            # \"error_precision_corrected_word_list\": error_precision_corrected_word_list,\n",
    "            # \"error_precision_answer_word_list\": error_precision_answer_word_list,\n",
    "            # \"lexical_precision_original_word_list\":lexical_precision_original_word_list\n",
    "            }"
   ],
   "metadata": {
    "collapsed": false,
    "pycharm": {
     "name": "#%%\n"
    }
   }
  },
  {
   "cell_type": "markdown",
   "metadata": {
    "id": "En1-fnjrUS7y"
   },
   "source": [
    "# Spellchecker prototype initialization"
   ]
  },
  {
   "cell_type": "code",
   "execution_count": 2,
   "metadata": {
    "colab": {
     "base_uri": "https://localhost:8080/"
    },
    "id": "-9NdfwQyUDcR",
    "outputId": "19f552b7-eaa9-4db6-f541-816ae713f3d4"
   },
   "outputs": [
    {
     "name": "stdout",
     "output_type": "stream",
     "text": [
      "Requirement already satisfied: pymorphy2 in /home/Dmitry.Pogrebnoy/Desktop/MedSpellChecker/venv/lib/python3.9/site-packages (0.9.1)\r\n",
      "Requirement already satisfied: docopt>=0.6 in /home/Dmitry.Pogrebnoy/Desktop/MedSpellChecker/venv/lib/python3.9/site-packages (from pymorphy2) (0.6.2)\r\n",
      "Requirement already satisfied: dawg-python>=0.7.1 in /home/Dmitry.Pogrebnoy/Desktop/MedSpellChecker/venv/lib/python3.9/site-packages (from pymorphy2) (0.7.2)\r\n",
      "Requirement already satisfied: pymorphy2-dicts-ru<3.0,>=2.4 in /home/Dmitry.Pogrebnoy/Desktop/MedSpellChecker/venv/lib/python3.9/site-packages (from pymorphy2) (2.4.417127.4579844)\r\n",
      "Requirement already satisfied: gensim in /home/Dmitry.Pogrebnoy/Desktop/MedSpellChecker/venv/lib/python3.9/site-packages (4.1.2)\r\n",
      "Requirement already satisfied: scipy>=0.18.1 in /home/Dmitry.Pogrebnoy/Desktop/MedSpellChecker/venv/lib/python3.9/site-packages (from gensim) (1.7.3)\r\n",
      "Requirement already satisfied: smart-open>=1.8.1 in /home/Dmitry.Pogrebnoy/Desktop/MedSpellChecker/venv/lib/python3.9/site-packages (from gensim) (5.2.1)\r\n",
      "Requirement already satisfied: numpy>=1.17.0 in /home/Dmitry.Pogrebnoy/Desktop/MedSpellChecker/venv/lib/python3.9/site-packages (from gensim) (1.21.4)\r\n",
      "Collecting python-levenshtein\r\n",
      "  Using cached python-Levenshtein-0.12.2.tar.gz (50 kB)\r\n",
      "  Preparing metadata (setup.py) ... \u001B[?25ldone\r\n",
      "\u001B[?25hRequirement already satisfied: setuptools in /home/Dmitry.Pogrebnoy/Desktop/MedSpellChecker/venv/lib/python3.9/site-packages (from python-levenshtein) (57.0.0)\r\n",
      "Building wheels for collected packages: python-levenshtein\r\n",
      "  Building wheel for python-levenshtein (setup.py) ... \u001B[?25ldone\r\n",
      "\u001B[?25h  Created wheel for python-levenshtein: filename=python_Levenshtein-0.12.2-cp39-cp39-linux_x86_64.whl size=168591 sha256=1c310d11dcf61766d37a6f1c1c324b9daa53cd9a67f51440f95f1a00f5d9315f\r\n",
      "  Stored in directory: /home/Dmitry.Pogrebnoy/.cache/pip/wheels/46/4a/6c/164a1d9dd67c82d208f19d869ad0a517a0c5a6117f608c53e6\r\n",
      "Successfully built python-levenshtein\r\n",
      "Installing collected packages: python-levenshtein\r\n",
      "Successfully installed python-levenshtein-0.12.2\r\n",
      "Requirement already satisfied: stringdist in /home/Dmitry.Pogrebnoy/Desktop/MedSpellChecker/venv/lib/python3.9/site-packages (1.0.9)\r\n"
     ]
    }
   ],
   "source": [
    "!pip install pymorphy2 \n",
    "!pip install gensim\n",
    "!pip install python-levenshtein\n",
    "!pip install stringdist"
   ]
  },
  {
   "cell_type": "markdown",
   "metadata": {
    "id": "2mRtM4gyjlWZ"
   },
   "source": [
    "# Test SpellChecker Prototype v.2"
   ]
  },
  {
   "cell_type": "code",
   "execution_count": 151,
   "outputs": [],
   "source": [
    "from spellchecker_prototype_v2.spell_checker import SpellChecker"
   ],
   "metadata": {
    "collapsed": false,
    "pycharm": {
     "name": "#%%\n"
    }
   }
  },
  {
   "cell_type": "markdown",
   "source": [
    "Download models (all files) from [link](https://drive.google.com/drive/folders/1ubVgiIC2pqDOpA-CbjEqV8Jo8uBbk0qi?usp=sharing) and move it to `data/spellchecker_prototype_v2/models` folder"
   ],
   "metadata": {
    "collapsed": false
   }
  },
  {
   "cell_type": "code",
   "execution_count": 152,
   "outputs": [
    {
     "name": "stdout",
     "output_type": "stream",
     "text": [
      "/home/Dmitry.Pogrebnoy/Desktop/MedSpellChecker/spellchecker_prototype_v2\n"
     ]
    },
    {
     "name": "stderr",
     "output_type": "stream",
     "text": [
      "0it [00:00, ?it/s]"
     ]
    },
    {
     "name": "stdout",
     "output_type": "stream",
     "text": [
      "['эктренном', 'синусовго', 'даным', 'шнутография', 'сникопальных', 'посление', 'ходавый', 'анмнезе', 'сентированный', 'самоч', 'перевдена', 'стентированеим', 'кардиол', 'переведна', 'догосптальном', 'миним', 'субфебриллитет', 'загрудиные', 'перферия', 'течени', 'оклюзия', 'жнщина', 'пциент', 'зарегистирована', 'сегмета', 'клекте', 'эпид', 'интелектуально', 'нижн', 'прводилась', 'неуст', 'госптализирован', 'вперые', 'послеоперационом', 'госпитализирова', 'ухудщение', 'рентг', 'дальнешем', 'троботическая', 'многосоудистое', 'миокрада', 'сопрвождались', 'дискмфорт', 'потлтвостью', 'левогожелудочка', 'рание', 'виед', 'ангинозныеболи', 'догоситальном', 'ввполнен', 'чаосв', 'октазалась', 'линика', 'ммента', 'проведеной', 'выполненяи', 'леченяи', 'обтилась', 'повтороно', 'зарегистриованы', 'отицает', 'дальнейщем', 'болисохраняются', 'частичынм', 'атерокслеротичсекая', 'деньс', 'назначаля', 'проведеняи', 'беспакоют', 'гипертензи', 'воленйбол', 'болезн', 'стенокардаа', 'продолжалсь', 'поворное', 'ощуащет', 'ангигнозного', 'диагностичекой', 'поддерживающией', 'межлопаточнй', 'бедреной', 'гшрядки', 'бассеине', 'возлуха', 'сенября', 'постояная', 'рекмоендовнао', 'поврждения', 'дискофморта', 'импалнтирован', 'неочетливая', 'обесвеченный', 'серце', 'блезнь', 'лергия', 'ука', 'изжга', 'жение', 'кашел', 'рствор', 'пациен', 'пожлой', 'лекарсво', 'нпреносимость', 'амупула', 'гел', 'конценрат', 'рилиф', 'чссс', 'экгъ', 'фибриляция', 'желдочек', 'хрон', 'гиподин', 'нерный', 'сист', 'диагоностика', 'гипоксмия', 'ледокоин', 'блокато', 'тахкардия', 'малоинвозивный', 'алация', 'имь', 'паражение', 'тяжолый', 'гастрапластика', 'вс', 'лешний', 'орта', 'клапа', 'вент', 'палый', 'пирикард', 'метральный', 'ултразвук', 'херург', 'кордиолог', 'килограм', 'акенезия', 'врхушка', 'апекальный', 'сгмент', 'вес', 'сьенка', 'церкулярный', 'сридиный', 'калапаный', 'апарат', 'потология', 'перекард', 'праксимальный', 'деаметр', 'корекция', 'аслажнение', 'стрдать', 'гепертонический', 'болезн', 'одоптировать', 'получять', 'кансервативный', 'тичение', 'пребование', 'отбиление', 'самачувствие', 'уходшение', 'месро', 'пункцыя', 'особеность', 'шнут', 'шнутирование', 'готчина', 'эхэ', 'каранарный', 'ортерия', 'сначимый', 'стинос', 'гаспиализировать', 'имья', 'олмазов', 'прдшствовать', 'стинакардия', 'пиринести', 'ифаркт', 'моикарда', 'лакализация', 'спразка', 'дальнейшый', 'хроническаянедостаточность', 'инфарктмиокарда', 'отузла', 'нарушениеработы', 'вминуту', 'эндокриннойсистемы', 'сердечныйритм', 'узловаятахикардия', 'основныефакторы', 'остановкасердца', 'фибрилляцияжелудочков', 'счастотой']\n"
     ]
    },
    {
     "name": "stderr",
     "output_type": "stream",
     "text": [
      "\n",
      "0it [00:00, ?it/s]\u001B[A\n",
      "1it [00:24, 24.82s/it]\u001B[A"
     ]
    },
    {
     "name": "stdout",
     "output_type": "stream",
     "text": [
      "Fast Text Exception for эктренном\n"
     ]
    },
    {
     "name": "stderr",
     "output_type": "stream",
     "text": [
      "\n",
      "2it [00:48, 24.28s/it]\u001B[A"
     ]
    },
    {
     "name": "stdout",
     "output_type": "stream",
     "text": [
      "Fast Text Exception for синусовго\n"
     ]
    },
    {
     "name": "stderr",
     "output_type": "stream",
     "text": [
      "\n",
      "3it [01:02, 19.27s/it]\u001B[A"
     ]
    },
    {
     "name": "stdout",
     "output_type": "stream",
     "text": [
      "Fast Text Exception for даным\n"
     ]
    },
    {
     "name": "stderr",
     "output_type": "stream",
     "text": [
      "\n",
      "4it [01:30, 22.97s/it]\u001B[A"
     ]
    },
    {
     "name": "stdout",
     "output_type": "stream",
     "text": [
      "Fast Text Exception for шнутография\n"
     ]
    },
    {
     "name": "stderr",
     "output_type": "stream",
     "text": [
      "\n",
      "5it [02:00, 25.51s/it]\u001B[A"
     ]
    },
    {
     "name": "stdout",
     "output_type": "stream",
     "text": [
      "try синкопальный\n"
     ]
    },
    {
     "name": "stderr",
     "output_type": "stream",
     "text": [
      "\n",
      "6it [02:20, 23.71s/it]\u001B[A"
     ]
    },
    {
     "name": "stdout",
     "output_type": "stream",
     "text": [
      "Fast Text Exception for посление\n"
     ]
    },
    {
     "name": "stderr",
     "output_type": "stream",
     "text": [
      "\n",
      "7it [02:39, 21.97s/it]\u001B[A"
     ]
    },
    {
     "name": "stdout",
     "output_type": "stream",
     "text": [
      "Fast Text Exception for ходавый\n"
     ]
    },
    {
     "name": "stderr",
     "output_type": "stream",
     "text": [
      "\n",
      "8it [02:56, 20.59s/it]\u001B[A"
     ]
    },
    {
     "name": "stdout",
     "output_type": "stream",
     "text": [
      "Fast Text Exception for анмнезе\n"
     ]
    },
    {
     "name": "stderr",
     "output_type": "stream",
     "text": [
      "\n",
      "9it [03:29, 24.49s/it]\u001B[A"
     ]
    },
    {
     "name": "stdout",
     "output_type": "stream",
     "text": [
      "Fast Text Exception for сентированный\n"
     ]
    },
    {
     "name": "stderr",
     "output_type": "stream",
     "text": [
      "\n",
      "10it [03:42, 20.94s/it]\u001B[A"
     ]
    },
    {
     "name": "stdout",
     "output_type": "stream",
     "text": [
      "Fast Text Exception for самоч\n"
     ]
    },
    {
     "name": "stderr",
     "output_type": "stream",
     "text": [
      "\n",
      "11it [04:06, 21.74s/it]\u001B[A"
     ]
    },
    {
     "name": "stdout",
     "output_type": "stream",
     "text": [
      "Fast Text Exception for перевдена\n"
     ]
    },
    {
     "name": "stderr",
     "output_type": "stream",
     "text": [
      "\n",
      "12it [04:42, 26.13s/it]\u001B[A"
     ]
    },
    {
     "name": "stdout",
     "output_type": "stream",
     "text": [
      "Fast Text Exception for стентированеим\n"
     ]
    },
    {
     "name": "stderr",
     "output_type": "stream",
     "text": [
      "\n",
      "13it [05:01, 24.02s/it]\u001B[A"
     ]
    },
    {
     "name": "stdout",
     "output_type": "stream",
     "text": [
      "Fast Text Exception for кардиол\n"
     ]
    },
    {
     "name": "stderr",
     "output_type": "stream",
     "text": [
      "\n",
      "14it [05:25, 23.86s/it]\u001B[A"
     ]
    },
    {
     "name": "stdout",
     "output_type": "stream",
     "text": [
      "Fast Text Exception for переведна\n"
     ]
    },
    {
     "name": "stderr",
     "output_type": "stream",
     "text": [
      "\n",
      "15it [05:58, 26.58s/it]\u001B[A"
     ]
    },
    {
     "name": "stdout",
     "output_type": "stream",
     "text": [
      "try догоспитальный\n"
     ]
    },
    {
     "name": "stderr",
     "output_type": "stream",
     "text": [
      "\n",
      "16it [06:11, 22.67s/it]\u001B[A"
     ]
    },
    {
     "name": "stdout",
     "output_type": "stream",
     "text": [
      "Fast Text Exception for миним\n"
     ]
    },
    {
     "name": "stderr",
     "output_type": "stream",
     "text": [
      "\n",
      "17it [06:46, 26.33s/it]\u001B[A"
     ]
    },
    {
     "name": "stdout",
     "output_type": "stream",
     "text": [
      "try субфебрилитет\n"
     ]
    },
    {
     "name": "stderr",
     "output_type": "stream",
     "text": [
      "\n",
      "18it [07:10, 25.69s/it]\u001B[A"
     ]
    },
    {
     "name": "stdout",
     "output_type": "stream",
     "text": [
      "Fast Text Exception for загрудиные\n"
     ]
    },
    {
     "name": "stderr",
     "output_type": "stream",
     "text": [
      "\n",
      "19it [07:31, 24.11s/it]\u001B[A"
     ]
    },
    {
     "name": "stdout",
     "output_type": "stream",
     "text": [
      "try периферия\n"
     ]
    },
    {
     "name": "stderr",
     "output_type": "stream",
     "text": [
      "\n",
      "20it [07:46, 21.55s/it]\u001B[A"
     ]
    },
    {
     "name": "stdout",
     "output_type": "stream",
     "text": [
      "Fast Text Exception for течени\n"
     ]
    },
    {
     "name": "stderr",
     "output_type": "stream",
     "text": [
      "\n",
      "21it [08:04, 20.41s/it]\u001B[A"
     ]
    },
    {
     "name": "stdout",
     "output_type": "stream",
     "text": [
      "try окклюзия\n"
     ]
    },
    {
     "name": "stderr",
     "output_type": "stream",
     "text": [
      "\n",
      "22it [08:20, 19.05s/it]\u001B[A"
     ]
    },
    {
     "name": "stdout",
     "output_type": "stream",
     "text": [
      "try женщина\n"
     ]
    },
    {
     "name": "stderr",
     "output_type": "stream",
     "text": [
      "\n",
      "23it [08:36, 18.07s/it]\u001B[A"
     ]
    },
    {
     "name": "stdout",
     "output_type": "stream",
     "text": [
      "try пациент\n"
     ]
    },
    {
     "name": "stderr",
     "output_type": "stream",
     "text": [
      "\n",
      "24it [09:14, 24.09s/it]\u001B[A"
     ]
    },
    {
     "name": "stdout",
     "output_type": "stream",
     "text": [
      "try зарегистрировать\n"
     ]
    },
    {
     "name": "stderr",
     "output_type": "stream",
     "text": [
      "\n",
      "25it [09:31, 22.12s/it]\u001B[A"
     ]
    },
    {
     "name": "stdout",
     "output_type": "stream",
     "text": [
      "Fast Text Exception for сегмета\n"
     ]
    },
    {
     "name": "stderr",
     "output_type": "stream",
     "text": [
      "\n",
      "26it [09:47, 20.02s/it]\u001B[A"
     ]
    },
    {
     "name": "stdout",
     "output_type": "stream",
     "text": [
      "Fast Text Exception for клекте\n"
     ]
    },
    {
     "name": "stderr",
     "output_type": "stream",
     "text": [
      "\n",
      "27it [09:57, 17.09s/it]\u001B[A"
     ]
    },
    {
     "name": "stdout",
     "output_type": "stream",
     "text": [
      "Fast Text Exception for эпид\n"
     ]
    },
    {
     "name": "stderr",
     "output_type": "stream",
     "text": [
      "\n",
      "28it [10:31, 22.33s/it]\u001B[A"
     ]
    },
    {
     "name": "stdout",
     "output_type": "stream",
     "text": [
      "Fast Text Exception for интелектуально\n"
     ]
    },
    {
     "name": "stderr",
     "output_type": "stream",
     "text": [
      "\n",
      "29it [10:42, 18.74s/it]\u001B[A"
     ]
    },
    {
     "name": "stdout",
     "output_type": "stream",
     "text": [
      "Fast Text Exception for нижн\n"
     ]
    },
    {
     "name": "stderr",
     "output_type": "stream",
     "text": [
      "\n",
      "30it [11:08, 21.05s/it]\u001B[A"
     ]
    },
    {
     "name": "stdout",
     "output_type": "stream",
     "text": [
      "Fast Text Exception for прводилась\n"
     ]
    },
    {
     "name": "stderr",
     "output_type": "stream",
     "text": [
      "\n",
      "31it [11:22, 18.75s/it]\u001B[A"
     ]
    },
    {
     "name": "stdout",
     "output_type": "stream",
     "text": [
      "Fast Text Exception for неуст\n"
     ]
    },
    {
     "name": "stderr",
     "output_type": "stream",
     "text": [
      "\n",
      "32it [12:01, 24.84s/it]\u001B[A"
     ]
    },
    {
     "name": "stdout",
     "output_type": "stream",
     "text": [
      "try госпитализировать\n"
     ]
    },
    {
     "name": "stderr",
     "output_type": "stream",
     "text": [
      "\n",
      "33it [12:17, 22.28s/it]\u001B[A"
     ]
    },
    {
     "name": "stdout",
     "output_type": "stream",
     "text": [
      "Fast Text Exception for вперые\n"
     ]
    },
    {
     "name": "stderr",
     "output_type": "stream",
     "text": [
      "\n",
      "34it [12:58, 28.07s/it]\u001B[A"
     ]
    },
    {
     "name": "stdout",
     "output_type": "stream",
     "text": [
      "Fast Text Exception for послеоперационом\n"
     ]
    },
    {
     "name": "stderr",
     "output_type": "stream",
     "text": [
      "\n",
      "35it [13:36, 30.98s/it]\u001B[A"
     ]
    },
    {
     "name": "stdout",
     "output_type": "stream",
     "text": [
      "try госпитализировать\n"
     ]
    },
    {
     "name": "stderr",
     "output_type": "stream",
     "text": [
      "\n",
      "36it [13:59, 28.50s/it]\u001B[A"
     ]
    },
    {
     "name": "stdout",
     "output_type": "stream",
     "text": [
      "try ухудшение\n"
     ]
    },
    {
     "name": "stderr",
     "output_type": "stream",
     "text": [
      "\n",
      "37it [14:12, 23.81s/it]\u001B[A"
     ]
    },
    {
     "name": "stdout",
     "output_type": "stream",
     "text": [
      "Fast Text Exception for рентг\n"
     ]
    },
    {
     "name": "stderr",
     "output_type": "stream",
     "text": [
      "\n",
      "38it [14:35, 23.68s/it]\u001B[A"
     ]
    },
    {
     "name": "stdout",
     "output_type": "stream",
     "text": [
      "Fast Text Exception for дальнешем\n"
     ]
    },
    {
     "name": "stderr",
     "output_type": "stream",
     "text": [
      "\n",
      "39it [15:08, 26.51s/it]\u001B[A"
     ]
    },
    {
     "name": "stdout",
     "output_type": "stream",
     "text": [
      "Fast Text Exception for троботическая\n"
     ]
    },
    {
     "name": "stderr",
     "output_type": "stream",
     "text": [
      "\n",
      "40it [15:43, 28.99s/it]\u001B[A"
     ]
    },
    {
     "name": "stdout",
     "output_type": "stream",
     "text": [
      "Fast Text Exception for многосоудистое\n"
     ]
    },
    {
     "name": "stderr",
     "output_type": "stream",
     "text": [
      "\n",
      "41it [16:03, 26.32s/it]\u001B[A"
     ]
    },
    {
     "name": "stdout",
     "output_type": "stream",
     "text": [
      "Fast Text Exception for миокрада\n"
     ]
    },
    {
     "name": "stderr",
     "output_type": "stream",
     "text": [
      "\n",
      "42it [16:36, 28.33s/it]\u001B[A"
     ]
    },
    {
     "name": "stdout",
     "output_type": "stream",
     "text": [
      "Fast Text Exception for сопрвождались\n"
     ]
    },
    {
     "name": "stderr",
     "output_type": "stream",
     "text": [
      "\n",
      "43it [17:00, 26.85s/it]\u001B[A"
     ]
    },
    {
     "name": "stdout",
     "output_type": "stream",
     "text": [
      "try дискомфорт\n"
     ]
    },
    {
     "name": "stderr",
     "output_type": "stream",
     "text": [
      "\n",
      "44it [17:30, 27.82s/it]\u001B[A"
     ]
    },
    {
     "name": "stdout",
     "output_type": "stream",
     "text": [
      "try потливость\n"
     ]
    },
    {
     "name": "stderr",
     "output_type": "stream",
     "text": [
      "\n",
      "45it [18:08, 31.07s/it]\u001B[A"
     ]
    },
    {
     "name": "stdout",
     "output_type": "stream",
     "text": [
      "Fast Text Exception for левогожелудочка\n"
     ]
    },
    {
     "name": "stderr",
     "output_type": "stream",
     "text": [
      "\n",
      "46it [18:22, 25.72s/it]\u001B[A"
     ]
    },
    {
     "name": "stdout",
     "output_type": "stream",
     "text": [
      "Fast Text Exception for рание\n"
     ]
    },
    {
     "name": "stderr",
     "output_type": "stream",
     "text": [
      "\n",
      "47it [18:32, 21.18s/it]\u001B[A"
     ]
    },
    {
     "name": "stdout",
     "output_type": "stream",
     "text": [
      "Fast Text Exception for виед\n"
     ]
    },
    {
     "name": "stderr",
     "output_type": "stream",
     "text": [
      "\n",
      "48it [19:07, 25.16s/it]\u001B[A"
     ]
    },
    {
     "name": "stdout",
     "output_type": "stream",
     "text": [
      "Fast Text Exception for ангинозныеболи\n"
     ]
    },
    {
     "name": "stderr",
     "output_type": "stream",
     "text": [
      "\n",
      "49it [19:40, 27.55s/it]\u001B[A"
     ]
    },
    {
     "name": "stdout",
     "output_type": "stream",
     "text": [
      "try догоспитальный\n"
     ]
    },
    {
     "name": "stderr",
     "output_type": "stream",
     "text": [
      "\n",
      "50it [20:00, 25.44s/it]\u001B[A"
     ]
    },
    {
     "name": "stdout",
     "output_type": "stream",
     "text": [
      "Fast Text Exception for ввполнен\n"
     ]
    },
    {
     "name": "stderr",
     "output_type": "stream",
     "text": [
      "\n",
      "51it [20:13, 21.69s/it]\u001B[A"
     ]
    },
    {
     "name": "stdout",
     "output_type": "stream",
     "text": [
      "Fast Text Exception for чаосв\n"
     ]
    },
    {
     "name": "stderr",
     "output_type": "stream",
     "text": [
      "\n",
      "52it [20:37, 22.44s/it]\u001B[A"
     ]
    },
    {
     "name": "stdout",
     "output_type": "stream",
     "text": [
      "Fast Text Exception for октазалась\n"
     ]
    },
    {
     "name": "stderr",
     "output_type": "stream",
     "text": [
      "\n",
      "53it [20:53, 20.36s/it]\u001B[A"
     ]
    },
    {
     "name": "stdout",
     "output_type": "stream",
     "text": [
      "Fast Text Exception for линика\n"
     ]
    },
    {
     "name": "stderr",
     "output_type": "stream",
     "text": [
      "\n",
      "54it [21:10, 19.25s/it]\u001B[A"
     ]
    },
    {
     "name": "stdout",
     "output_type": "stream",
     "text": [
      "Fast Text Exception for ммента\n"
     ]
    },
    {
     "name": "stderr",
     "output_type": "stream",
     "text": [
      "\n",
      "55it [21:36, 21.32s/it]\u001B[A"
     ]
    },
    {
     "name": "stdout",
     "output_type": "stream",
     "text": [
      "Fast Text Exception for проведеной\n"
     ]
    },
    {
     "name": "stderr",
     "output_type": "stream",
     "text": [
      "\n",
      "56it [22:02, 22.73s/it]\u001B[A"
     ]
    },
    {
     "name": "stdout",
     "output_type": "stream",
     "text": [
      "Fast Text Exception for выполненяи\n"
     ]
    },
    {
     "name": "stderr",
     "output_type": "stream",
     "text": [
      "\n",
      "57it [22:20, 21.30s/it]\u001B[A"
     ]
    },
    {
     "name": "stdout",
     "output_type": "stream",
     "text": [
      "Fast Text Exception for леченяи\n"
     ]
    },
    {
     "name": "stderr",
     "output_type": "stream",
     "text": [
      "\n",
      "58it [22:41, 21.15s/it]\u001B[A"
     ]
    },
    {
     "name": "stdout",
     "output_type": "stream",
     "text": [
      "Fast Text Exception for обтилась\n"
     ]
    },
    {
     "name": "stderr",
     "output_type": "stream",
     "text": [
      "\n",
      "59it [23:04, 21.73s/it]\u001B[A"
     ]
    },
    {
     "name": "stdout",
     "output_type": "stream",
     "text": [
      "Fast Text Exception for повтороно\n"
     ]
    },
    {
     "name": "stderr",
     "output_type": "stream",
     "text": [
      "\n",
      "60it [23:42, 26.68s/it]\u001B[A"
     ]
    },
    {
     "name": "stdout",
     "output_type": "stream",
     "text": [
      "try зарегистрировать\n"
     ]
    },
    {
     "name": "stderr",
     "output_type": "stream",
     "text": [
      "\n",
      "61it [24:01, 24.41s/it]\u001B[A"
     ]
    },
    {
     "name": "stdout",
     "output_type": "stream",
     "text": [
      "Fast Text Exception for отицает\n"
     ]
    },
    {
     "name": "stderr",
     "output_type": "stream",
     "text": [
      "\n",
      "62it [24:27, 24.97s/it]\u001B[A"
     ]
    },
    {
     "name": "stdout",
     "output_type": "stream",
     "text": [
      "Fast Text Exception for дальнейщем\n"
     ]
    },
    {
     "name": "stderr",
     "output_type": "stream",
     "text": [
      "\n",
      "63it [25:07, 29.52s/it]\u001B[A"
     ]
    },
    {
     "name": "stdout",
     "output_type": "stream",
     "text": [
      "Fast Text Exception for болисохраняются\n"
     ]
    },
    {
     "name": "stderr",
     "output_type": "stream",
     "text": [
      "\n",
      "64it [25:31, 27.74s/it]\u001B[A"
     ]
    },
    {
     "name": "stdout",
     "output_type": "stream",
     "text": [
      "Fast Text Exception for частичынм\n"
     ]
    },
    {
     "name": "stderr",
     "output_type": "stream",
     "text": [
      "\n",
      "65it [26:18, 33.45s/it]\u001B[A"
     ]
    },
    {
     "name": "stdout",
     "output_type": "stream",
     "text": [
      "Fast Text Exception for атерокслеротичсекая\n"
     ]
    },
    {
     "name": "stderr",
     "output_type": "stream",
     "text": [
      "\n",
      "66it [26:30, 27.23s/it]\u001B[A"
     ]
    },
    {
     "name": "stdout",
     "output_type": "stream",
     "text": [
      "Fast Text Exception for деньс\n"
     ]
    },
    {
     "name": "stderr",
     "output_type": "stream",
     "text": [
      "\n",
      "67it [26:52, 25.65s/it]\u001B[A"
     ]
    },
    {
     "name": "stdout",
     "output_type": "stream",
     "text": [
      "Fast Text Exception for назначаля\n"
     ]
    },
    {
     "name": "stderr",
     "output_type": "stream",
     "text": [
      "\n",
      "68it [27:17, 25.24s/it]\u001B[A"
     ]
    },
    {
     "name": "stdout",
     "output_type": "stream",
     "text": [
      "Fast Text Exception for проведеняи\n"
     ]
    },
    {
     "name": "stderr",
     "output_type": "stream",
     "text": [
      "\n",
      "69it [27:39, 24.23s/it]\u001B[A"
     ]
    },
    {
     "name": "stdout",
     "output_type": "stream",
     "text": [
      "Fast Text Exception for беспакоют\n"
     ]
    },
    {
     "name": "stderr",
     "output_type": "stream",
     "text": [
      "\n",
      "70it [28:04, 24.60s/it]\u001B[A"
     ]
    },
    {
     "name": "stdout",
     "output_type": "stream",
     "text": [
      "Fast Text Exception for гипертензи\n"
     ]
    },
    {
     "name": "stderr",
     "output_type": "stream",
     "text": [
      "\n",
      "71it [28:27, 24.10s/it]\u001B[A"
     ]
    },
    {
     "name": "stdout",
     "output_type": "stream",
     "text": [
      "Fast Text Exception for воленйбол\n"
     ]
    },
    {
     "name": "stderr",
     "output_type": "stream",
     "text": [
      "\n",
      "72it [28:42, 21.50s/it]\u001B[A"
     ]
    },
    {
     "name": "stdout",
     "output_type": "stream",
     "text": [
      "Fast Text Exception for болезн\n"
     ]
    },
    {
     "name": "stderr",
     "output_type": "stream",
     "text": [
      "\n",
      "73it [29:11, 23.70s/it]\u001B[A"
     ]
    },
    {
     "name": "stdout",
     "output_type": "stream",
     "text": [
      "try стенокардия\n"
     ]
    },
    {
     "name": "stderr",
     "output_type": "stream",
     "text": [
      "\n",
      "74it [29:39, 24.95s/it]\u001B[A"
     ]
    },
    {
     "name": "stdout",
     "output_type": "stream",
     "text": [
      "try продолжать\n"
     ]
    },
    {
     "name": "stderr",
     "output_type": "stream",
     "text": [
      "\n",
      "75it [30:00, 23.64s/it]\u001B[A"
     ]
    },
    {
     "name": "stdout",
     "output_type": "stream",
     "text": [
      "Fast Text Exception for поворное\n"
     ]
    },
    {
     "name": "stderr",
     "output_type": "stream",
     "text": [
      "\n",
      "76it [30:19, 22.26s/it]\u001B[A"
     ]
    },
    {
     "name": "stdout",
     "output_type": "stream",
     "text": [
      "Fast Text Exception for ощуащет\n"
     ]
    },
    {
     "name": "stderr",
     "output_type": "stream",
     "text": [
      "\n",
      "77it [30:49, 24.67s/it]\u001B[A"
     ]
    },
    {
     "name": "stdout",
     "output_type": "stream",
     "text": [
      "Fast Text Exception for ангигнозного\n"
     ]
    },
    {
     "name": "stderr",
     "output_type": "stream",
     "text": [
      "\n",
      "78it [31:26, 28.26s/it]\u001B[A"
     ]
    },
    {
     "name": "stdout",
     "output_type": "stream",
     "text": [
      "try диагностический\n"
     ]
    },
    {
     "name": "stderr",
     "output_type": "stream",
     "text": [
      "\n",
      "79it [32:03, 31.11s/it]\u001B[A"
     ]
    },
    {
     "name": "stdout",
     "output_type": "stream",
     "text": [
      "Fast Text Exception for поддерживающией\n"
     ]
    },
    {
     "name": "stderr",
     "output_type": "stream",
     "text": [
      "\n",
      "80it [32:34, 30.87s/it]\u001B[A"
     ]
    },
    {
     "name": "stdout",
     "output_type": "stream",
     "text": [
      "try межлопаточный\n"
     ]
    },
    {
     "name": "stderr",
     "output_type": "stream",
     "text": [
      "\n",
      "81it [32:54, 27.59s/it]\u001B[A"
     ]
    },
    {
     "name": "stdout",
     "output_type": "stream",
     "text": [
      "Fast Text Exception for бедреной\n"
     ]
    },
    {
     "name": "stderr",
     "output_type": "stream",
     "text": [
      "\n",
      "82it [33:11, 24.61s/it]\u001B[A"
     ]
    },
    {
     "name": "stdout",
     "output_type": "stream",
     "text": [
      "Fast Text Exception for гшрядки\n"
     ]
    },
    {
     "name": "stderr",
     "output_type": "stream",
     "text": [
      "\n",
      "83it [33:32, 23.45s/it]\u001B[A"
     ]
    },
    {
     "name": "stdout",
     "output_type": "stream",
     "text": [
      "Fast Text Exception for бассеине\n"
     ]
    },
    {
     "name": "stderr",
     "output_type": "stream",
     "text": [
      "\n",
      "84it [33:50, 21.92s/it]\u001B[A"
     ]
    },
    {
     "name": "stdout",
     "output_type": "stream",
     "text": [
      "Fast Text Exception for возлуха\n"
     ]
    },
    {
     "name": "stderr",
     "output_type": "stream",
     "text": [
      "\n",
      "85it [34:07, 20.45s/it]\u001B[A"
     ]
    },
    {
     "name": "stdout",
     "output_type": "stream",
     "text": [
      "try сентябрь\n"
     ]
    },
    {
     "name": "stderr",
     "output_type": "stream",
     "text": [
      "\n",
      "86it [34:30, 21.09s/it]\u001B[A"
     ]
    },
    {
     "name": "stdout",
     "output_type": "stream",
     "text": [
      "Fast Text Exception for постояная\n"
     ]
    },
    {
     "name": "stderr",
     "output_type": "stream",
     "text": [
      "\n",
      "87it [35:03, 24.70s/it]\u001B[A"
     ]
    },
    {
     "name": "stdout",
     "output_type": "stream",
     "text": [
      "try рекомендовать\n"
     ]
    },
    {
     "name": "stderr",
     "output_type": "stream",
     "text": [
      "\n",
      "88it [35:28, 24.90s/it]\u001B[A"
     ]
    },
    {
     "name": "stdout",
     "output_type": "stream",
     "text": [
      "Fast Text Exception for поврждения\n"
     ]
    },
    {
     "name": "stderr",
     "output_type": "stream",
     "text": [
      "\n",
      "89it [35:57, 26.07s/it]\u001B[A"
     ]
    },
    {
     "name": "stdout",
     "output_type": "stream",
     "text": [
      "Fast Text Exception for дискофморта\n"
     ]
    },
    {
     "name": "stderr",
     "output_type": "stream",
     "text": [
      "\n",
      "90it [36:31, 28.46s/it]\u001B[A"
     ]
    },
    {
     "name": "stdout",
     "output_type": "stream",
     "text": [
      "try имплантировать\n"
     ]
    },
    {
     "name": "stderr",
     "output_type": "stream",
     "text": [
      "\n",
      "91it [37:00, 28.53s/it]\u001B[A"
     ]
    },
    {
     "name": "stdout",
     "output_type": "stream",
     "text": [
      "Fast Text Exception for неочетливая\n"
     ]
    },
    {
     "name": "stderr",
     "output_type": "stream",
     "text": [
      "\n",
      "92it [37:32, 29.57s/it]\u001B[A"
     ]
    },
    {
     "name": "stdout",
     "output_type": "stream",
     "text": [
      "Fast Text Exception for обесвеченный\n"
     ]
    },
    {
     "name": "stderr",
     "output_type": "stream",
     "text": [
      "\n",
      "93it [37:45, 24.74s/it]\u001B[A"
     ]
    },
    {
     "name": "stdout",
     "output_type": "stream",
     "text": [
      "Fast Text Exception for серце\n"
     ]
    },
    {
     "name": "stderr",
     "output_type": "stream",
     "text": [
      "\n",
      "94it [38:02, 22.15s/it]\u001B[A"
     ]
    },
    {
     "name": "stdout",
     "output_type": "stream",
     "text": [
      "try болезнь\n"
     ]
    },
    {
     "name": "stderr",
     "output_type": "stream",
     "text": [
      "\n",
      "95it [38:19, 20.83s/it]\u001B[A"
     ]
    },
    {
     "name": "stdout",
     "output_type": "stream",
     "text": [
      "Fast Text Exception for лергия\n"
     ]
    },
    {
     "name": "stderr",
     "output_type": "stream",
     "text": [
      "\n",
      "96it [38:28, 17.32s/it]\u001B[A"
     ]
    },
    {
     "name": "stdout",
     "output_type": "stream",
     "text": [
      "Fast Text Exception for ука\n"
     ]
    },
    {
     "name": "stderr",
     "output_type": "stream",
     "text": [
      "\n",
      "97it [38:41, 16.00s/it]\u001B[A"
     ]
    },
    {
     "name": "stdout",
     "output_type": "stream",
     "text": [
      "try изжога\n"
     ]
    },
    {
     "name": "stderr",
     "output_type": "stream",
     "text": [
      "\n",
      "98it [38:55, 15.26s/it]\u001B[A"
     ]
    },
    {
     "name": "stdout",
     "output_type": "stream",
     "text": [
      "Fast Text Exception for жение\n"
     ]
    },
    {
     "name": "stderr",
     "output_type": "stream",
     "text": [
      "\n",
      "99it [39:08, 14.55s/it]\u001B[A"
     ]
    },
    {
     "name": "stdout",
     "output_type": "stream",
     "text": [
      "Fast Text Exception for кашел\n"
     ]
    },
    {
     "name": "stderr",
     "output_type": "stream",
     "text": [
      "\n",
      "100it [39:23, 14.85s/it]\u001B[A"
     ]
    },
    {
     "name": "stdout",
     "output_type": "stream",
     "text": [
      "Fast Text Exception for рствор\n"
     ]
    },
    {
     "name": "stderr",
     "output_type": "stream",
     "text": [
      "\n",
      "101it [39:38, 14.93s/it]\u001B[A"
     ]
    },
    {
     "name": "stdout",
     "output_type": "stream",
     "text": [
      "try пациент\n"
     ]
    },
    {
     "name": "stderr",
     "output_type": "stream",
     "text": [
      "\n",
      "102it [39:54, 15.09s/it]\u001B[A"
     ]
    },
    {
     "name": "stdout",
     "output_type": "stream",
     "text": [
      "Fast Text Exception for пожлой\n"
     ]
    },
    {
     "name": "stderr",
     "output_type": "stream",
     "text": [
      "\n",
      "103it [40:14, 16.73s/it]\u001B[A"
     ]
    },
    {
     "name": "stdout",
     "output_type": "stream",
     "text": [
      "try лекарство\n"
     ]
    },
    {
     "name": "stderr",
     "output_type": "stream",
     "text": [
      "\n",
      "104it [40:48, 21.69s/it]\u001B[A"
     ]
    },
    {
     "name": "stdout",
     "output_type": "stream",
     "text": [
      "Fast Text Exception for нпреносимость\n"
     ]
    },
    {
     "name": "stderr",
     "output_type": "stream",
     "text": [
      "\n",
      "105it [41:06, 20.69s/it]\u001B[A"
     ]
    },
    {
     "name": "stdout",
     "output_type": "stream",
     "text": [
      "try ампула\n"
     ]
    },
    {
     "name": "stderr",
     "output_type": "stream",
     "text": [
      "\n",
      "106it [41:15, 17.24s/it]\u001B[A"
     ]
    },
    {
     "name": "stdout",
     "output_type": "stream",
     "text": [
      "Fast Text Exception for гел\n"
     ]
    },
    {
     "name": "stderr",
     "output_type": "stream",
     "text": [
      "\n",
      "107it [41:38, 18.93s/it]\u001B[A"
     ]
    },
    {
     "name": "stdout",
     "output_type": "stream",
     "text": [
      "Fast Text Exception for конценрат\n"
     ]
    },
    {
     "name": "stderr",
     "output_type": "stream",
     "text": [
      "\n",
      "109it [41:49, 12.67s/it]\u001B[A"
     ]
    },
    {
     "name": "stdout",
     "output_type": "stream",
     "text": [
      "Fast Text Exception for чссс\n"
     ]
    },
    {
     "name": "stderr",
     "output_type": "stream",
     "text": [
      "\n",
      "110it [41:59, 12.13s/it]\u001B[A"
     ]
    },
    {
     "name": "stdout",
     "output_type": "stream",
     "text": [
      "Fast Text Exception for экгъ\n"
     ]
    },
    {
     "name": "stderr",
     "output_type": "stream",
     "text": [
      "\n",
      "111it [42:25, 15.58s/it]\u001B[A"
     ]
    },
    {
     "name": "stdout",
     "output_type": "stream",
     "text": [
      "try фибрилляция\n"
     ]
    },
    {
     "name": "stderr",
     "output_type": "stream",
     "text": [
      "\n",
      "112it [42:45, 16.91s/it]\u001B[A"
     ]
    },
    {
     "name": "stdout",
     "output_type": "stream",
     "text": [
      "try желудочек\n"
     ]
    },
    {
     "name": "stderr",
     "output_type": "stream",
     "text": [
      "\n",
      "113it [42:56, 15.18s/it]\u001B[A"
     ]
    },
    {
     "name": "stdout",
     "output_type": "stream",
     "text": [
      "Fast Text Exception for хрон\n"
     ]
    },
    {
     "name": "stderr",
     "output_type": "stream",
     "text": [
      "\n",
      "114it [43:15, 16.24s/it]\u001B[A"
     ]
    },
    {
     "name": "stdout",
     "output_type": "stream",
     "text": [
      "Fast Text Exception for гиподин\n"
     ]
    },
    {
     "name": "stderr",
     "output_type": "stream",
     "text": [
      "\n",
      "115it [43:31, 16.23s/it]\u001B[A"
     ]
    },
    {
     "name": "stdout",
     "output_type": "stream",
     "text": [
      "Fast Text Exception for нерный\n"
     ]
    },
    {
     "name": "stderr",
     "output_type": "stream",
     "text": [
      "\n",
      "116it [43:42, 14.60s/it]\u001B[A"
     ]
    },
    {
     "name": "stdout",
     "output_type": "stream",
     "text": [
      "Fast Text Exception for сист\n"
     ]
    },
    {
     "name": "stderr",
     "output_type": "stream",
     "text": [
      "\n",
      "117it [44:12, 19.26s/it]\u001B[A"
     ]
    },
    {
     "name": "stdout",
     "output_type": "stream",
     "text": [
      "Fast Text Exception for диагоностика\n"
     ]
    },
    {
     "name": "stderr",
     "output_type": "stream",
     "text": [
      "\n",
      "118it [44:35, 20.36s/it]\u001B[A"
     ]
    },
    {
     "name": "stdout",
     "output_type": "stream",
     "text": [
      "Fast Text Exception for гипоксмия\n"
     ]
    },
    {
     "name": "stderr",
     "output_type": "stream",
     "text": [
      "\n",
      "119it [44:55, 20.28s/it]\u001B[A"
     ]
    },
    {
     "name": "stdout",
     "output_type": "stream",
     "text": [
      "Fast Text Exception for ледокоин\n"
     ]
    },
    {
     "name": "stderr",
     "output_type": "stream",
     "text": [
      "\n",
      "120it [45:14, 19.71s/it]\u001B[A"
     ]
    },
    {
     "name": "stdout",
     "output_type": "stream",
     "text": [
      "try блокатор\n"
     ]
    },
    {
     "name": "stderr",
     "output_type": "stream",
     "text": [
      "\n",
      "121it [45:37, 20.98s/it]\u001B[A"
     ]
    },
    {
     "name": "stdout",
     "output_type": "stream",
     "text": [
      "try тахикардия\n"
     ]
    },
    {
     "name": "stderr",
     "output_type": "stream",
     "text": [
      "\n",
      "122it [46:11, 24.76s/it]\u001B[A"
     ]
    },
    {
     "name": "stdout",
     "output_type": "stream",
     "text": [
      "Fast Text Exception for малоинвозивный\n"
     ]
    },
    {
     "name": "stderr",
     "output_type": "stream",
     "text": [
      "\n",
      "123it [46:26, 21.79s/it]\u001B[A"
     ]
    },
    {
     "name": "stdout",
     "output_type": "stream",
     "text": [
      "Fast Text Exception for алация\n"
     ]
    },
    {
     "name": "stderr",
     "output_type": "stream",
     "text": [
      "\n",
      "124it [46:34, 17.75s/it]\u001B[A"
     ]
    },
    {
     "name": "stdout",
     "output_type": "stream",
     "text": [
      "Fast Text Exception for имь\n"
     ]
    },
    {
     "name": "stderr",
     "output_type": "stream",
     "text": [
      "\n",
      "125it [46:59, 19.75s/it]\u001B[A"
     ]
    },
    {
     "name": "stdout",
     "output_type": "stream",
     "text": [
      "Fast Text Exception for паражение\n"
     ]
    },
    {
     "name": "stderr",
     "output_type": "stream",
     "text": [
      "\n",
      "126it [47:17, 19.37s/it]\u001B[A"
     ]
    },
    {
     "name": "stdout",
     "output_type": "stream",
     "text": [
      "Fast Text Exception for тяжолый\n"
     ]
    },
    {
     "name": "stderr",
     "output_type": "stream",
     "text": [
      "\n",
      "127it [47:53, 24.17s/it]\u001B[A"
     ]
    },
    {
     "name": "stdout",
     "output_type": "stream",
     "text": [
      "Fast Text Exception for гастрапластика\n"
     ]
    },
    {
     "name": "stderr",
     "output_type": "stream",
     "text": [
      "\n",
      "129it [48:08, 16.60s/it]\u001B[A"
     ]
    },
    {
     "name": "stdout",
     "output_type": "stream",
     "text": [
      "Fast Text Exception for лешний\n"
     ]
    },
    {
     "name": "stderr",
     "output_type": "stream",
     "text": [
      "\n",
      "131it [48:21, 12.65s/it]\u001B[A"
     ]
    },
    {
     "name": "stdout",
     "output_type": "stream",
     "text": [
      "Fast Text Exception for клапа\n"
     ]
    },
    {
     "name": "stderr",
     "output_type": "stream",
     "text": [
      "\n",
      "132it [48:32, 12.28s/it]\u001B[A"
     ]
    },
    {
     "name": "stdout",
     "output_type": "stream",
     "text": [
      "Fast Text Exception for вент\n"
     ]
    },
    {
     "name": "stderr",
     "output_type": "stream",
     "text": [
      "\n",
      "134it [48:53, 11.61s/it]\u001B[A"
     ]
    },
    {
     "name": "stdout",
     "output_type": "stream",
     "text": [
      "try перикард\n"
     ]
    },
    {
     "name": "stderr",
     "output_type": "stream",
     "text": [
      "\n",
      "135it [49:19, 14.58s/it]\u001B[A"
     ]
    },
    {
     "name": "stdout",
     "output_type": "stream",
     "text": [
      "Fast Text Exception for метральный\n"
     ]
    },
    {
     "name": "stderr",
     "output_type": "stream",
     "text": [
      "\n",
      "136it [49:42, 16.52s/it]\u001B[A"
     ]
    },
    {
     "name": "stdout",
     "output_type": "stream",
     "text": [
      "Fast Text Exception for ултразвук\n"
     ]
    },
    {
     "name": "stderr",
     "output_type": "stream",
     "text": [
      "\n",
      "137it [49:57, 16.23s/it]\u001B[A"
     ]
    },
    {
     "name": "stdout",
     "output_type": "stream",
     "text": [
      "try хирург\n"
     ]
    },
    {
     "name": "stderr",
     "output_type": "stream",
     "text": [
      "\n",
      "138it [50:20, 18.14s/it]\u001B[A"
     ]
    },
    {
     "name": "stdout",
     "output_type": "stream",
     "text": [
      "try кардиолог\n"
     ]
    },
    {
     "name": "stderr",
     "output_type": "stream",
     "text": [
      "\n",
      "139it [50:41, 18.75s/it]\u001B[A"
     ]
    },
    {
     "name": "stdout",
     "output_type": "stream",
     "text": [
      "try килограмм\n"
     ]
    },
    {
     "name": "stderr",
     "output_type": "stream",
     "text": [
      "\n",
      "140it [51:01, 19.23s/it]\u001B[A"
     ]
    },
    {
     "name": "stdout",
     "output_type": "stream",
     "text": [
      "Fast Text Exception for акенезия\n"
     ]
    },
    {
     "name": "stderr",
     "output_type": "stream",
     "text": [
      "\n",
      "141it [51:19, 18.89s/it]\u001B[A"
     ]
    },
    {
     "name": "stdout",
     "output_type": "stream",
     "text": [
      "Fast Text Exception for врхушка\n"
     ]
    },
    {
     "name": "stderr",
     "output_type": "stream",
     "text": [
      "\n",
      "142it [51:45, 20.99s/it]\u001B[A"
     ]
    },
    {
     "name": "stdout",
     "output_type": "stream",
     "text": [
      "try апикальный\n"
     ]
    },
    {
     "name": "stderr",
     "output_type": "stream",
     "text": [
      "\n",
      "143it [52:01, 19.49s/it]\u001B[A"
     ]
    },
    {
     "name": "stdout",
     "output_type": "stream",
     "text": [
      "try сегмент\n"
     ]
    },
    {
     "name": "stderr",
     "output_type": "stream",
     "text": [
      "\n",
      "145it [52:16, 13.96s/it]\u001B[A"
     ]
    },
    {
     "name": "stdout",
     "output_type": "stream",
     "text": [
      "Fast Text Exception for сьенка\n"
     ]
    },
    {
     "name": "stderr",
     "output_type": "stream",
     "text": [
      "\n",
      "146it [52:42, 17.04s/it]\u001B[A"
     ]
    },
    {
     "name": "stdout",
     "output_type": "stream",
     "text": [
      "try циркулярный\n"
     ]
    },
    {
     "name": "stderr",
     "output_type": "stream",
     "text": [
      "\n",
      "147it [53:03, 17.86s/it]\u001B[A"
     ]
    },
    {
     "name": "stdout",
     "output_type": "stream",
     "text": [
      "Fast Text Exception for сридиный\n"
     ]
    },
    {
     "name": "stderr",
     "output_type": "stream",
     "text": [
      "\n",
      "148it [53:25, 19.00s/it]\u001B[A"
     ]
    },
    {
     "name": "stdout",
     "output_type": "stream",
     "text": [
      "Fast Text Exception for калапаный\n"
     ]
    },
    {
     "name": "stderr",
     "output_type": "stream",
     "text": [
      "\n",
      "149it [53:40, 17.96s/it]\u001B[A"
     ]
    },
    {
     "name": "stdout",
     "output_type": "stream",
     "text": [
      "Fast Text Exception for апарат\n"
     ]
    },
    {
     "name": "stderr",
     "output_type": "stream",
     "text": [
      "\n",
      "150it [54:03, 19.31s/it]\u001B[A"
     ]
    },
    {
     "name": "stdout",
     "output_type": "stream",
     "text": [
      "Fast Text Exception for потология\n"
     ]
    },
    {
     "name": "stderr",
     "output_type": "stream",
     "text": [
      "\n",
      "151it [54:22, 19.43s/it]\u001B[A"
     ]
    },
    {
     "name": "stdout",
     "output_type": "stream",
     "text": [
      "try перикард\n"
     ]
    },
    {
     "name": "stderr",
     "output_type": "stream",
     "text": [
      "\n",
      "152it [54:54, 22.99s/it]\u001B[A"
     ]
    },
    {
     "name": "stdout",
     "output_type": "stream",
     "text": [
      "try проксимальный\n"
     ]
    },
    {
     "name": "stderr",
     "output_type": "stream",
     "text": [
      "\n",
      "153it [55:12, 21.46s/it]\u001B[A"
     ]
    },
    {
     "name": "stdout",
     "output_type": "stream",
     "text": [
      "Fast Text Exception for деаметр\n"
     ]
    },
    {
     "name": "stderr",
     "output_type": "stream",
     "text": [
      "\n",
      "154it [55:32, 21.08s/it]\u001B[A"
     ]
    },
    {
     "name": "stdout",
     "output_type": "stream",
     "text": [
      "try коррекция\n"
     ]
    },
    {
     "name": "stderr",
     "output_type": "stream",
     "text": [
      "\n",
      "155it [55:58, 22.63s/it]\u001B[A"
     ]
    },
    {
     "name": "stdout",
     "output_type": "stream",
     "text": [
      "Fast Text Exception for аслажнение\n"
     ]
    },
    {
     "name": "stderr",
     "output_type": "stream",
     "text": [
      "\n",
      "156it [56:16, 21.11s/it]\u001B[A"
     ]
    },
    {
     "name": "stdout",
     "output_type": "stream",
     "text": [
      "try страдать\n"
     ]
    },
    {
     "name": "stderr",
     "output_type": "stream",
     "text": [
      "\n",
      "157it [56:53, 25.86s/it]\u001B[A"
     ]
    },
    {
     "name": "stdout",
     "output_type": "stream",
     "text": [
      "try гипертонический\n"
     ]
    },
    {
     "name": "stderr",
     "output_type": "stream",
     "text": [
      "\n",
      "158it [57:08, 22.67s/it]\u001B[A"
     ]
    },
    {
     "name": "stdout",
     "output_type": "stream",
     "text": [
      "Fast Text Exception for болезн\n"
     ]
    },
    {
     "name": "stderr",
     "output_type": "stream",
     "text": [
      "\n",
      "159it [57:39, 25.04s/it]\u001B[A"
     ]
    },
    {
     "name": "stdout",
     "output_type": "stream",
     "text": [
      "Fast Text Exception for одоптировать\n"
     ]
    },
    {
     "name": "stderr",
     "output_type": "stream",
     "text": [
      "\n",
      "160it [57:59, 23.53s/it]\u001B[A"
     ]
    },
    {
     "name": "stdout",
     "output_type": "stream",
     "text": [
      "try получить\n"
     ]
    },
    {
     "name": "stderr",
     "output_type": "stream",
     "text": [
      "\n",
      "161it [58:33, 26.92s/it]\u001B[A"
     ]
    },
    {
     "name": "stdout",
     "output_type": "stream",
     "text": [
      "try консервативный\n"
     ]
    },
    {
     "name": "stderr",
     "output_type": "stream",
     "text": [
      "\n",
      "162it [58:51, 24.13s/it]\u001B[A"
     ]
    },
    {
     "name": "stdout",
     "output_type": "stream",
     "text": [
      "Fast Text Exception for тичение\n"
     ]
    },
    {
     "name": "stderr",
     "output_type": "stream",
     "text": [
      "\n",
      "163it [59:16, 24.39s/it]\u001B[A"
     ]
    },
    {
     "name": "stdout",
     "output_type": "stream",
     "text": [
      "try требование\n"
     ]
    },
    {
     "name": "stderr",
     "output_type": "stream",
     "text": [
      "\n",
      "164it [59:39, 23.90s/it]\u001B[A"
     ]
    },
    {
     "name": "stdout",
     "output_type": "stream",
     "text": [
      "Fast Text Exception for отбиление\n"
     ]
    },
    {
     "name": "stderr",
     "output_type": "stream",
     "text": [
      "\n",
      "165it [1:00:09, 25.66s/it]\u001B[A"
     ]
    },
    {
     "name": "stdout",
     "output_type": "stream",
     "text": [
      "try самочувствие\n"
     ]
    },
    {
     "name": "stderr",
     "output_type": "stream",
     "text": [
      "\n",
      "166it [1:00:30, 24.50s/it]\u001B[A"
     ]
    },
    {
     "name": "stdout",
     "output_type": "stream",
     "text": [
      "try ухудшение\n"
     ]
    },
    {
     "name": "stderr",
     "output_type": "stream",
     "text": [
      "\n",
      "167it [1:00:44, 21.10s/it]\u001B[A"
     ]
    },
    {
     "name": "stdout",
     "output_type": "stream",
     "text": [
      "Fast Text Exception for месро\n"
     ]
    },
    {
     "name": "stderr",
     "output_type": "stream",
     "text": [
      "\n",
      "168it [1:01:01, 20.14s/it]\u001B[A"
     ]
    },
    {
     "name": "stdout",
     "output_type": "stream",
     "text": [
      "try пункция\n"
     ]
    },
    {
     "name": "stderr",
     "output_type": "stream",
     "text": [
      "\n",
      "169it [1:01:27, 21.74s/it]\u001B[A"
     ]
    },
    {
     "name": "stdout",
     "output_type": "stream",
     "text": [
      "try особенность\n"
     ]
    },
    {
     "name": "stderr",
     "output_type": "stream",
     "text": [
      "\n",
      "170it [1:01:38, 18.43s/it]\u001B[A"
     ]
    },
    {
     "name": "stdout",
     "output_type": "stream",
     "text": [
      "Fast Text Exception for шнут\n"
     ]
    },
    {
     "name": "stderr",
     "output_type": "stream",
     "text": [
      "\n",
      "171it [1:02:09, 22.32s/it]\u001B[A"
     ]
    },
    {
     "name": "stdout",
     "output_type": "stream",
     "text": [
      "try шунтирование\n"
     ]
    },
    {
     "name": "stderr",
     "output_type": "stream",
     "text": [
      "\n",
      "172it [1:02:28, 21.33s/it]\u001B[A"
     ]
    },
    {
     "name": "stdout",
     "output_type": "stream",
     "text": [
      "Fast Text Exception for готчина\n"
     ]
    },
    {
     "name": "stderr",
     "output_type": "stream",
     "text": [
      "\n",
      "173it [1:02:36, 17.35s/it]\u001B[A"
     ]
    },
    {
     "name": "stdout",
     "output_type": "stream",
     "text": [
      "Fast Text Exception for эхэ\n"
     ]
    },
    {
     "name": "stderr",
     "output_type": "stream",
     "text": [
      "\n",
      "174it [1:03:03, 20.32s/it]\u001B[A"
     ]
    },
    {
     "name": "stdout",
     "output_type": "stream",
     "text": [
      "Fast Text Exception for каранарный\n"
     ]
    },
    {
     "name": "stderr",
     "output_type": "stream",
     "text": [
      "\n",
      "175it [1:03:22, 19.68s/it]\u001B[A"
     ]
    },
    {
     "name": "stdout",
     "output_type": "stream",
     "text": [
      "Fast Text Exception for ортерия\n"
     ]
    },
    {
     "name": "stderr",
     "output_type": "stream",
     "text": [
      "\n",
      "176it [1:03:41, 19.76s/it]\u001B[A"
     ]
    },
    {
     "name": "stdout",
     "output_type": "stream",
     "text": [
      "Fast Text Exception for сначимый\n"
     ]
    },
    {
     "name": "stderr",
     "output_type": "stream",
     "text": [
      "\n",
      "177it [1:03:57, 18.53s/it]\u001B[A"
     ]
    },
    {
     "name": "stdout",
     "output_type": "stream",
     "text": [
      "Fast Text Exception for стинос\n"
     ]
    },
    {
     "name": "stderr",
     "output_type": "stream",
     "text": [
      "\n",
      "178it [1:04:37, 24.87s/it]\u001B[A"
     ]
    },
    {
     "name": "stdout",
     "output_type": "stream",
     "text": [
      "try госпитализировать\n"
     ]
    },
    {
     "name": "stderr",
     "output_type": "stream",
     "text": [
      "\n",
      "179it [1:04:47, 20.48s/it]\u001B[A"
     ]
    },
    {
     "name": "stdout",
     "output_type": "stream",
     "text": [
      "Fast Text Exception for имья\n"
     ]
    },
    {
     "name": "stderr",
     "output_type": "stream",
     "text": [
      "\n",
      "180it [1:05:05, 19.74s/it]\u001B[A"
     ]
    },
    {
     "name": "stdout",
     "output_type": "stream",
     "text": [
      "Fast Text Exception for олмазов\n"
     ]
    },
    {
     "name": "stderr",
     "output_type": "stream",
     "text": [
      "\n",
      "181it [1:05:36, 23.22s/it]\u001B[A"
     ]
    },
    {
     "name": "stdout",
     "output_type": "stream",
     "text": [
      "Fast Text Exception for прдшствовать\n"
     ]
    },
    {
     "name": "stderr",
     "output_type": "stream",
     "text": [
      "\n",
      "182it [1:06:04, 24.63s/it]\u001B[A"
     ]
    },
    {
     "name": "stdout",
     "output_type": "stream",
     "text": [
      "try стенокардия\n"
     ]
    },
    {
     "name": "stderr",
     "output_type": "stream",
     "text": [
      "\n",
      "183it [1:06:26, 23.80s/it]\u001B[A"
     ]
    },
    {
     "name": "stdout",
     "output_type": "stream",
     "text": [
      "Fast Text Exception for пиринести\n"
     ]
    },
    {
     "name": "stderr",
     "output_type": "stream",
     "text": [
      "\n",
      "184it [1:06:41, 21.21s/it]\u001B[A"
     ]
    },
    {
     "name": "stdout",
     "output_type": "stream",
     "text": [
      "try инфаркт\n"
     ]
    },
    {
     "name": "stderr",
     "output_type": "stream",
     "text": [
      "\n",
      "185it [1:07:02, 21.14s/it]\u001B[A"
     ]
    },
    {
     "name": "stdout",
     "output_type": "stream",
     "text": [
      "Fast Text Exception for моикарда\n"
     ]
    },
    {
     "name": "stderr",
     "output_type": "stream",
     "text": [
      "\n",
      "186it [1:07:31, 23.36s/it]\u001B[A"
     ]
    },
    {
     "name": "stdout",
     "output_type": "stream",
     "text": [
      "Fast Text Exception for лакализация\n"
     ]
    },
    {
     "name": "stderr",
     "output_type": "stream",
     "text": [
      "\n",
      "187it [1:07:49, 21.84s/it]\u001B[A"
     ]
    },
    {
     "name": "stdout",
     "output_type": "stream",
     "text": [
      "try справка\n"
     ]
    },
    {
     "name": "stderr",
     "output_type": "stream",
     "text": [
      "\n",
      "188it [1:08:15, 23.03s/it]\u001B[A"
     ]
    },
    {
     "name": "stdout",
     "output_type": "stream",
     "text": [
      "try дальнейший\n"
     ]
    },
    {
     "name": "stderr",
     "output_type": "stream",
     "text": [
      "\n",
      "189it [1:09:22, 36.10s/it]\u001B[A"
     ]
    },
    {
     "name": "stdout",
     "output_type": "stream",
     "text": [
      "Fast Text Exception for хроническаянедостаточность\n"
     ]
    },
    {
     "name": "stderr",
     "output_type": "stream",
     "text": [
      "\n",
      "190it [1:10:00, 36.86s/it]\u001B[A"
     ]
    },
    {
     "name": "stdout",
     "output_type": "stream",
     "text": [
      "Fast Text Exception for инфарктмиокарда\n"
     ]
    },
    {
     "name": "stderr",
     "output_type": "stream",
     "text": [
      "\n",
      "191it [1:10:17, 30.77s/it]\u001B[A"
     ]
    },
    {
     "name": "stdout",
     "output_type": "stream",
     "text": [
      "Fast Text Exception for отузла\n"
     ]
    },
    {
     "name": "stderr",
     "output_type": "stream",
     "text": [
      "\n",
      "192it [1:10:55, 33.03s/it]\u001B[A"
     ]
    },
    {
     "name": "stdout",
     "output_type": "stream",
     "text": [
      "try нарушение\n"
     ]
    },
    {
     "name": "stderr",
     "output_type": "stream",
     "text": [
      "\n",
      "193it [1:11:13, 28.66s/it]\u001B[A"
     ]
    },
    {
     "name": "stdout",
     "output_type": "stream",
     "text": [
      "Fast Text Exception for вминуту\n"
     ]
    },
    {
     "name": "stderr",
     "output_type": "stream",
     "text": [
      "\n",
      "194it [1:12:00, 33.98s/it]\u001B[A"
     ]
    },
    {
     "name": "stdout",
     "output_type": "stream",
     "text": [
      "Fast Text Exception for эндокриннойсистемы\n"
     ]
    },
    {
     "name": "stderr",
     "output_type": "stream",
     "text": [
      "\n",
      "195it [1:12:32, 33.49s/it]\u001B[A"
     ]
    },
    {
     "name": "stdout",
     "output_type": "stream",
     "text": [
      "try сердечный\n"
     ]
    },
    {
     "name": "stderr",
     "output_type": "stream",
     "text": [
      "\n",
      "196it [1:13:13, 35.69s/it]\u001B[A"
     ]
    },
    {
     "name": "stdout",
     "output_type": "stream",
     "text": [
      "try тахикардия\n"
     ]
    },
    {
     "name": "stderr",
     "output_type": "stream",
     "text": [
      "\n",
      "197it [1:13:49, 35.87s/it]\u001B[A"
     ]
    },
    {
     "name": "stdout",
     "output_type": "stream",
     "text": [
      "Fast Text Exception for основныефакторы\n"
     ]
    },
    {
     "name": "stderr",
     "output_type": "stream",
     "text": [
      "\n",
      "198it [1:14:27, 36.29s/it]\u001B[A"
     ]
    },
    {
     "name": "stdout",
     "output_type": "stream",
     "text": [
      "try остановка\n"
     ]
    },
    {
     "name": "stderr",
     "output_type": "stream",
     "text": [
      "\n",
      "199it [1:15:17, 40.51s/it]\u001B[A"
     ]
    },
    {
     "name": "stdout",
     "output_type": "stream",
     "text": [
      "try фибрилляция\n"
     ]
    },
    {
     "name": "stderr",
     "output_type": "stream",
     "text": [
      "\n",
      "200it [1:15:39, 22.70s/it]\u001B[A\n",
      "0it [1:15:39, ?it/s]"
     ]
    },
    {
     "name": "stdout",
     "output_type": "stream",
     "text": [
      "Fast Text Exception for счастотой\n",
      "Error precision\n",
      "original_word_list --- corrected_word --- answer_word_list\n",
      "эктренном --- экстренно --- ['экстренном']\n",
      "синусовго --- синусного --- ['синусового']\n",
      "даным --- дать --- ['данным', 'данный', 'данные']\n",
      "шнутография --- костография --- ['шунтография']\n",
      "сникопальных --- синкопальный --- ['синкопальных']\n",
      "посление --- поселение --- ['поселение', 'последний']\n",
      "ходавый --- подовый --- ['ходовый']\n",
      "анмнезе --- анамнез --- ['анамнезе', 'анамнез']\n",
      "сентированный --- вмонтированный --- ['стентированный']\n",
      "самоч --- самое --- ['самочувствие']\n",
      "перевдена --- перевидеть --- ['переведена']\n",
      "стентированеим --- агентирование --- ['стентированием', 'стентирование']\n",
      "кардиол --- кардил --- ['кардиолог,кардиологический']\n",
      "переведна --- перевести --- ['переведена']\n",
      "догосптальном --- догоспитальный --- ['догоспитальном']\n",
      "миним --- виним --- ['минимум', 'минимальный']\n",
      "субфебриллитет --- субфебрилитет --- ['субфебрилитет']\n",
      "загрудиные --- загрудинное --- ['загрудинные', 'загрудинный']\n",
      "перферия --- периферия --- ['периферия']\n",
      "течени --- темя --- ['течение']\n",
      "оклюзия --- окклюзия --- ['окклюзия']\n",
      "жнщина --- женщина --- ['женщина']\n",
      "пциент --- пациент --- ['пациент']\n",
      "зарегистирована --- зарегистрировать --- ['зарегистрирована']\n",
      "сегмета --- сегмента --- ['сегмента']\n",
      "клекте --- клеите --- ['клетке']\n",
      "эпид --- эпи- --- ['эпидемия', 'эпидемиологический', 'эпидуральный']\n",
      "интелектуально --- интеллектуально --- ['интеллектуально']\n",
      "нижн --- ниже --- ['нижний']\n",
      "прводилась --- неводиться --- ['проводилась', 'проводить']\n",
      "неуст --- несут --- ['неустановленный']\n",
      "госптализирован --- госпитализировать --- ['госпитализирован']\n",
      "вперые --- впереть --- ['впервые']\n",
      "послеоперационом --- послеоперационное --- ['послеоперационном']\n",
      "госпитализирова --- госпитализировать --- ['госпитализирован']\n",
      "ухудщение --- ухудшение --- ['ухудшение']\n",
      "рентг --- рента --- ['рентген']\n",
      "дальнешем --- вольнейшем --- ['дальнейшем']\n",
      "троботическая --- тромботический --- ['тромботическая']\n",
      "многосоудистое --- многоводие --- ['многососудистое', 'многососудистый']\n",
      "миокрада --- миокард --- ['миокарда', 'миокард']\n",
      "сопрвождались --- сопровождать --- ['сопровождались']\n",
      "дискмфорт --- дискомфорт --- ['дискомфорт']\n",
      "потлтвостью --- потливость --- ['потливостью']\n",
      "левогожелудочка --- левожелудочковая --- ['левого желудочка', 'левый желудочек']\n",
      "рание --- ранвие --- ['ранее', 'ранние']\n",
      "виед --- виде --- ['виде', 'вид']\n",
      "ангинозныеболи --- ангинозное --- ['ангинозные боли', 'ангиозный боль']\n",
      "догоситальном --- догоспитальный --- ['догоспитальном']\n",
      "ввполнен --- полнить --- ['выполнен']\n",
      "чаосв --- час --- ['часов']\n",
      "октазалась --- казалась --- ['отказалась']\n",
      "линика --- линин --- ['клиника']\n",
      "ммента --- кента --- ['момента']\n",
      "проведеной --- провести --- ['проведенной']\n",
      "выполненяи --- выполнить --- ['выполнения', 'выполнение']\n",
      "леченяи --- лечение --- ['лечения', 'лечение']\n",
      "обтилась --- облиться --- ['обратилась']\n",
      "повтороно --- повторно --- ['повторно']\n",
      "зарегистриованы --- зарегистрировать --- ['зарегистрированы']\n",
      "отицает --- отщипать --- ['отрицает', 'отрицать']\n",
      "дальнейщем --- вольнейшем --- ['дальнейшем']\n",
      "болисохраняются --- предохраняться --- ['боли сохраняются']\n",
      "частичынм --- частичные --- ['частичным']\n",
      "атерокслеротичсекая --- атеросклеротическая --- ['атеросклеротическая']\n",
      "деньс --- день --- ['день', 'день с']\n",
      "назначаля --- назначать --- ['назначался']\n",
      "проведеняи --- проведения --- ['проведения']\n",
      "беспакоют --- беспокоить --- ['беспокоят']\n",
      "гипертензи --- гипертензия --- ['гипертензия']\n",
      "воленйбол --- волейбол --- ['волейбол']\n",
      "болезн --- болезнь --- ['болезнь']\n",
      "стенокардаа --- стенокардия --- ['стенокардия']\n",
      "продолжалсь --- продолжать --- ['продолжалась']\n",
      "поворное --- повторный --- ['повторное']\n",
      "ощуащет --- туалет --- ['ощущает']\n",
      "ангигнозного --- ангинозное --- ['ангинозного', 'ангинозный']\n",
      "диагностичекой --- диагностический --- ['диагностической', 'диагностический']\n",
      "поддерживающией --- поддерживать --- ['поддерживающий']\n",
      "межлопаточнй --- межлопаточный --- ['межлопаточный']\n",
      "бедреной --- бедренной --- ['бедренной', 'бедренный']\n",
      "гшрядки --- городки --- ['грядки']\n",
      "бассеине --- бассейн --- ['бассейне', 'бассейн']\n",
      "возлуха --- воздуха --- ['воздуха', 'воздух']\n",
      "сенября --- сентябрь --- ['сентября', 'сентябрь']\n",
      "постояная --- постоянная --- ['постоянная', 'постоянный']\n",
      "рекмоендовнао --- рекомендовать --- ['рекомендовано']\n",
      "поврждения --- повреждение --- ['повреждения']\n",
      "дискофморта --- дискомфорт --- ['дискомфорт']\n",
      "импалнтирован --- имплантировать --- ['имплантирован', 'имплантировать']\n",
      "неочетливая --- неотчетливый --- ['неотчетливая', 'неотчетливый']\n",
      "обесвеченный --- обеспеченный --- ['обесцвеченный', 'обеспеченный']\n",
      "серце --- серка --- ['сердце']\n",
      "блезнь --- болезнь --- ['болезнь']\n",
      "лергия --- алерия --- ['аллергия']\n",
      "ука --- уна --- ['рука']\n",
      "изжга --- изжога --- ['изжога']\n",
      "жение --- женил --- ['жжение']\n",
      "кашел --- кашель --- ['кашель']\n",
      "рствор --- створ --- ['раствор']\n",
      "пациен --- пациент --- ['пациент']\n",
      "пожлой --- подлой --- ['пожилой']\n",
      "лекарсво --- лекарство --- ['лекарство']\n",
      "нпреносимость --- непереносимость --- ['непереносимость']\n",
      "амупула --- ампула --- ['ампула']\n",
      "гел --- гем --- ['гель']\n",
      "конценрат --- концентрат --- ['концентрат']\n",
      "рилиф --- рилиф --- ['релиф']\n",
      "чссс --- ссс --- ['ЧСС', 'чсс']\n",
      "экгъ --- экг --- ['ЭКГ', 'экг']\n",
      "фибриляция --- фибрилляция --- ['фибрилляция']\n",
      "желдочек --- желудочек --- ['желудочек']\n",
      "хрон --- крона --- ['хронический']\n",
      "гиподин --- диподия --- ['гиподинамический']\n",
      "нерный --- нервный --- ['нервный']\n",
      "сист --- чист --- ['система']\n",
      "диагоностика --- диагностика --- ['диагностика']\n",
      "гипоксмия --- гипосмия --- ['гипоксемия']\n",
      "ледокоин --- ледокол --- ['лидокаин']\n",
      "блокато --- блокатор --- ['блокатор']\n",
      "тахкардия --- тахикардия --- ['тахикардия']\n",
      "малоинвозивный --- малоабразивный --- ['малоинвазивный']\n",
      "алация --- акация --- ['аблация', 'абляция']\n",
      "имь --- имм --- ['ИМ', 'им']\n",
      "паражение --- заражение --- ['поражение']\n",
      "тяжолый --- тяжёлый --- ['тяжелый']\n",
      "гастрапластика --- гастропластика --- ['гастропластика']\n",
      "вс --- вс --- ['вес']\n",
      "лешний --- леший --- ['лишний']\n",
      "орта --- орта --- ['аорта']\n",
      "клапа --- клап --- ['клапан']\n",
      "вент --- вено --- ['вена']\n",
      "палый --- палый --- ['полый']\n",
      "пирикард --- перикард --- ['перикард']\n",
      "метральный --- митральный --- ['митральный']\n",
      "ултразвук --- ультразвук --- ['ультразвук']\n",
      "херург --- хирург --- ['хирург']\n",
      "кордиолог --- кардиолог --- ['кардиолог']\n",
      "килограм --- килограмм --- ['килограмм']\n",
      "акенезия --- агенезия --- ['акинезия']\n",
      "врхушка --- врушка --- ['верхушка']\n",
      "апекальный --- апикальный --- ['апикальный']\n",
      "сгмент --- сегмент --- ['сегмент']\n",
      "вес --- вес --- ['весь']\n",
      "сьенка --- сменка --- ['стенка']\n",
      "церкулярный --- циркулярный --- ['циркулярный']\n",
      "сридиный --- сродный --- ['срединный']\n",
      "калапаный --- клапанный --- ['клапанный']\n",
      "апарат --- аппарат --- ['аппарат']\n",
      "потология --- патология --- ['патология']\n",
      "перекард --- перикард --- ['перикард']\n",
      "праксимальный --- проксимальный --- ['проксимальный']\n",
      "деаметр --- диаметр --- ['диаметр']\n",
      "корекция --- коррекция --- ['коррекция']\n",
      "аслажнение --- увлажнение --- ['осложнение']\n",
      "стрдать --- страдать --- ['страдать']\n",
      "гепертонический --- гипертонический --- ['гипертонический']\n",
      "болезн --- болезнь --- ['болезнь']\n",
      "одоптировать --- адоптировать --- ['адаптировать']\n",
      "получять --- получить --- ['получать']\n",
      "кансервативный --- консервативный --- ['консервативный']\n",
      "тичение --- точение --- ['течение']\n",
      "пребование --- требование --- ['пребывание']\n",
      "отбиление --- отдаление --- ['отделение']\n",
      "самачувствие --- самочувствие --- ['самочувствие']\n",
      "уходшение --- ухудшение --- ['ухудшение']\n",
      "месро --- место --- ['место']\n",
      "пункцыя --- пункция --- ['пункция']\n",
      "особеность --- особенность --- ['особенность']\n",
      "шнут --- нут --- ['шунт']\n",
      "шнутирование --- шунтирование --- ['шунтирование']\n",
      "готчина --- гатчина --- ['гатчина']\n",
      "эхэ --- эх --- ['эхо']\n",
      "каранарный --- караванный --- ['коронарный']\n",
      "ортерия --- остерия --- ['артерия']\n",
      "сначимый --- сачимый --- ['значимый']\n",
      "стинос --- тинос --- ['стеноз']\n",
      "гаспиализировать --- госпитализировать --- ['госпитализировать']\n",
      "имья --- имея --- ['имя']\n",
      "олмазов --- алмаз --- ['алмазов']\n",
      "прдшствовать --- прошествовать --- ['предшествовать']\n",
      "стинакардия --- стенокардия --- ['стенокардия']\n",
      "пиринести --- принести --- ['перенести']\n",
      "ифаркт --- инфаркт --- ['инфаркт']\n",
      "моикарда --- миокард --- ['миокарда']\n",
      "лакализация --- локализация --- ['локализация']\n",
      "спразка --- справка --- ['справка']\n",
      "дальнейшый --- дальнейший --- ['дальнейший']\n",
      "хроническаянедостаточность --- недостаточность --- ['хроническая недостаточность', 'хронический недостаточность']\n",
      "инфарктмиокарда --- инфарктик --- ['инфаркт миокарда', 'инфаркт миокард']\n",
      "отузла --- отдел --- ['от узла', 'от узел']\n",
      "нарушениеработы --- нарушение --- ['нарушение работы', 'нарушение работа']\n",
      "вминуту --- минуть --- ['в минуту', 'в минута', 'минута']\n",
      "эндокриннойсистемы --- эндокринное --- ['эндокринная система', 'эндокринный система']\n",
      "сердечныйритм --- сердечный --- ['сердечный ритм']\n",
      "узловаятахикардия --- тахикардия --- ['узловая тахикардия', 'узловой тахикардия']\n",
      "основныефакторы --- основные --- ['основной факто', 'основные факторы']\n",
      "остановкасердца --- остановка --- ['остановка сердца', 'остановка сердце']\n",
      "фибрилляцияжелудочков --- фибрилляция --- ['фибрилляция желудочков', 'фибрилляция желудочек']\n",
      "счастотой --- частотный --- ['с частотой', 'с частотаб частота']\n",
      "Right corrected words count - 82 of 200 total\n",
      "/home/Dmitry.Pogrebnoy/Desktop/MedSpellChecker/spellchecker_prototype_v2\n"
     ]
    },
    {
     "name": "stderr",
     "output_type": "stream",
     "text": [
      "\n",
      "0it [00:00, ?it/s]"
     ]
    },
    {
     "name": "stdout",
     "output_type": "stream",
     "text": [
      "['выборгский', 'отказываться', 'нитропрепарат', 'предсердие', 'диссоциация', 'кольцевой', 'отрыв', 'вовлечение', 'мелкопузырчатый', 'госпитализировать', 'фтизиатр', 'проксимальный', 'приступ', 'рецидивировать', 'беспокоить', 'значимый', 'одномоментный', 'течение', 'постепенной', 'трафика', 'левый', 'область', 'окклюзия', 'каждый', 'аторвастатина', 'проникающий', 'слух', 'отрицательный', 'заднее', 'диафрагмальный', 'физическая', 'реваскуляризация', 'очевидный', 'умеренный', 'самостоятельный', 'визуализация', 'неселективный', 'септопластика', 'присутствие', 'соустье', 'кировский', 'ноющая', 'постоять', 'стенка', 'укоротить', 'назначить', 'госпитализация', 'возобновление', 'одеть', 'охранник', 'дексона', 'систолический', 'верхушечноперегородочный', 'расширение', 'равнозначный', 'предприятие', 'ночь', 'вредность', 'транспортировка', 'март', 'гипотиазид', 'скрытый', 'расстройство', 'ломота', 'подготовить', 'помощь', 'большая', 'эквивалент', 'гемостатический', 'купировавшийся', 'ревизия', 'пульсирующий', 'регистрироваться', 'лимитирование', 'ометать', 'стихание', 'вазопрессорный', 'тредмил', 'тест', 'гипопноэ', 'наш', 'ускоренный', 'эфффект', 'тромбофлебит', 'ишемический', 'купирование', 'патологии', 'длительный', 'заключение', 'пунктировать', 'ферритина', 'гастропротективный', 'пароксизм', 'выполнять', 'показатель', 'посттромбофлебитический', 'анальгин', 'корректировать', 'секунда', 'креатинкиназа', 'утолщение', 'терапия', 'глибомёт', 'лобэктомия', 'новгородский', 'владеть', 'тенденция', 'мерить', 'поражений', 'перекосить', 'тропонин', 'сдвиг', 'отправить', 'сжимающее', 'давящий', 'нифедипин', 'мексикор', 'сад', 'мезентериальный', 'дальнейшей', 'реабилитация', 'переносить', 'дискомфорт', 'проявление', 'батарея', 'фермент', 'затёк', 'непроизвольный', 'слепок', 'тенорик', 'сегмента', 'дрожь', 'появляется', 'гепарина', 'предсердие', 'диурез', 'фиксировать', 'временной', 'микропрепарат', 'аторвастатин', 'гипотензия', 'грудь', 'инфаркт', 'мононуклеары', 'постоянно', 'погрузка', 'фармакологический', 'нестабильный', 'мертенил', 'тахикардий', 'снимать', 'распространиться', 'контрпульсатор', 'соталол', 'складываться', 'кардиомегалия', 'смесь', 'мкг', 'похожий', 'аутовенозный', 'гепатина', 'рецидивировать', 'асцит', 'стенокардия', 'тысяча', 'промежуточный', 'возможный', 'водка', 'лимфодиссекция', 'принимать', 'стентирование', 'незначимый', 'настоящее', 'задненижний', 'частичный', 'появиться', 'тройной', 'показатель', 'эквивалент', 'утолстить', 'поведение', 'аускультативный', 'отказаться', 'рассмотреть', 'сывороточный', 'формирующийся', 'жир', 'карведилол', 'тонкий', 'единица', 'срабатывать', 'компрометация', 'россия', 'массив', 'нижнебоковой', 'отечь', 'трепетание', 'конкурировать', 'событие', 'незначительный']\n"
     ]
    },
    {
     "name": "stderr",
     "output_type": "stream",
     "text": [
      "\n",
      "0it [00:00, ?it/s]\u001B[A\n",
      "3it [00:34, 11.55s/it]\u001B[A"
     ]
    },
    {
     "name": "stdout",
     "output_type": "stream",
     "text": [
      "Fast Text Exception for нитропрепарат\n"
     ]
    },
    {
     "name": "stderr",
     "output_type": "stream",
     "text": [
      "\n",
      "19it [01:03,  2.92s/it]\u001B[A"
     ]
    },
    {
     "name": "stdout",
     "output_type": "stream",
     "text": [
      "Fast Text Exception for постепенной\n"
     ]
    },
    {
     "name": "stderr",
     "output_type": "stream",
     "text": [
      "\n",
      "20it [01:20,  3.97s/it]\u001B[A"
     ]
    },
    {
     "name": "stdout",
     "output_type": "stream",
     "text": [
      "Fast Text Exception for трафика\n"
     ]
    },
    {
     "name": "stderr",
     "output_type": "stream",
     "text": [
      "\n",
      "25it [01:54,  4.92s/it]\u001B[A"
     ]
    },
    {
     "name": "stdout",
     "output_type": "stream",
     "text": [
      "try аторвастатин\n"
     ]
    },
    {
     "name": "stderr",
     "output_type": "stream",
     "text": [
      "\n",
      "38it [02:28,  3.64s/it]\u001B[A"
     ]
    },
    {
     "name": "stdout",
     "output_type": "stream",
     "text": [
      "Fast Text Exception for септопластика\n"
     ]
    },
    {
     "name": "stderr",
     "output_type": "stream",
     "text": [
      "\n",
      "53it [03:29,  3.86s/it]\u001B[A"
     ]
    },
    {
     "name": "stdout",
     "output_type": "stream",
     "text": [
      "Fast Text Exception for верхушечноперегородочный\n"
     ]
    },
    {
     "name": "stderr",
     "output_type": "stream",
     "text": [
      "\n",
      "70it [04:06,  3.12s/it]\u001B[A"
     ]
    },
    {
     "name": "stdout",
     "output_type": "stream",
     "text": [
      "Fast Text Exception for купировавшийся\n"
     ]
    },
    {
     "name": "stderr",
     "output_type": "stream",
     "text": [
      "\n",
      "75it [04:25,  3.22s/it]\u001B[A"
     ]
    },
    {
     "name": "stdout",
     "output_type": "stream",
     "text": [
      "Fast Text Exception for ометать\n"
     ]
    },
    {
     "name": "stderr",
     "output_type": "stream",
     "text": [
      "\n",
      "77it [05:02,  4.46s/it]\u001B[A"
     ]
    },
    {
     "name": "stdout",
     "output_type": "stream",
     "text": [
      "Fast Text Exception for вазопрессорный\n"
     ]
    },
    {
     "name": "stderr",
     "output_type": "stream",
     "text": [
      "\n",
      "78it [05:19,  5.16s/it]\u001B[A"
     ]
    },
    {
     "name": "stdout",
     "output_type": "stream",
     "text": [
      "Fast Text Exception for тредмил\n"
     ]
    },
    {
     "name": "stderr",
     "output_type": "stream",
     "text": [
      "\n",
      "80it [05:41,  5.93s/it]\u001B[A"
     ]
    },
    {
     "name": "stdout",
     "output_type": "stream",
     "text": [
      "Fast Text Exception for гипопноэ\n"
     ]
    },
    {
     "name": "stderr",
     "output_type": "stream",
     "text": [
      "\n",
      "83it [05:59,  5.93s/it]\u001B[A"
     ]
    },
    {
     "name": "stdout",
     "output_type": "stream",
     "text": [
      "try эффект\n"
     ]
    },
    {
     "name": "stderr",
     "output_type": "stream",
     "text": [
      "\n",
      "86it [06:26,  6.70s/it]\u001B[A"
     ]
    },
    {
     "name": "stdout",
     "output_type": "stream",
     "text": [
      "Fast Text Exception for купирование\n"
     ]
    },
    {
     "name": "stderr",
     "output_type": "stream",
     "text": [
      "\n",
      "87it [06:48,  8.34s/it]\u001B[A"
     ]
    },
    {
     "name": "stdout",
     "output_type": "stream",
     "text": [
      "try патология\n"
     ]
    },
    {
     "name": "stderr",
     "output_type": "stream",
     "text": [
      "\n",
      "92it [07:34,  8.71s/it]\u001B[A"
     ]
    },
    {
     "name": "stdout",
     "output_type": "stream",
     "text": [
      "Fast Text Exception for гастропротективный\n"
     ]
    },
    {
     "name": "stderr",
     "output_type": "stream",
     "text": [
      "\n",
      "103it [07:54,  4.76s/it]\u001B[A"
     ]
    },
    {
     "name": "stdout",
     "output_type": "stream",
     "text": [
      "Fast Text Exception for глибомёт\n"
     ]
    },
    {
     "name": "stderr",
     "output_type": "stream",
     "text": [
      "\n",
      "111it [08:15,  3.93s/it]\u001B[A"
     ]
    },
    {
     "name": "stdout",
     "output_type": "stream",
     "text": [
      "Fast Text Exception for тропонин\n"
     ]
    },
    {
     "name": "stderr",
     "output_type": "stream",
     "text": [
      "\n",
      "114it [08:37,  4.53s/it]\u001B[A"
     ]
    },
    {
     "name": "stdout",
     "output_type": "stream",
     "text": [
      "Fast Text Exception for сжимающее\n"
     ]
    },
    {
     "name": "stderr",
     "output_type": "stream",
     "text": [
      "\n",
      "120it [09:02,  4.40s/it]\u001B[A"
     ]
    },
    {
     "name": "stdout",
     "output_type": "stream",
     "text": [
      "try дальнейший\n"
     ]
    },
    {
     "name": "stderr",
     "output_type": "stream",
     "text": [
      "\n",
      "130it [09:20,  3.25s/it]\u001B[A"
     ]
    },
    {
     "name": "stdout",
     "output_type": "stream",
     "text": [
      "Fast Text Exception for тенорик\n"
     ]
    },
    {
     "name": "stderr",
     "output_type": "stream",
     "text": [
      "\n",
      "133it [09:44,  4.04s/it]\u001B[A"
     ]
    },
    {
     "name": "stdout",
     "output_type": "stream",
     "text": [
      "try появляться\n"
     ]
    },
    {
     "name": "stderr",
     "output_type": "stream",
     "text": [
      "\n",
      "134it [10:04,  5.16s/it]\u001B[A"
     ]
    },
    {
     "name": "stdout",
     "output_type": "stream",
     "text": [
      "try гепарин\n"
     ]
    },
    {
     "name": "stderr",
     "output_type": "stream",
     "text": [
      "\n",
      "139it [10:38,  5.64s/it]\u001B[A"
     ]
    },
    {
     "name": "stdout",
     "output_type": "stream",
     "text": [
      "Fast Text Exception for микропрепарат\n"
     ]
    },
    {
     "name": "stderr",
     "output_type": "stream",
     "text": [
      "\n",
      "144it [11:07,  5.74s/it]\u001B[A"
     ]
    },
    {
     "name": "stdout",
     "output_type": "stream",
     "text": [
      "try мононуклеар\n"
     ]
    },
    {
     "name": "stderr",
     "output_type": "stream",
     "text": [
      "\n",
      "149it [11:29,  5.27s/it]\u001B[A"
     ]
    },
    {
     "name": "stdout",
     "output_type": "stream",
     "text": [
      "Fast Text Exception for мертенил\n"
     ]
    },
    {
     "name": "stderr",
     "output_type": "stream",
     "text": [
      "\n",
      "150it [11:55,  7.00s/it]\u001B[A"
     ]
    },
    {
     "name": "stdout",
     "output_type": "stream",
     "text": [
      "Fast Text Exception for тахикардий\n"
     ]
    },
    {
     "name": "stderr",
     "output_type": "stream",
     "text": [
      "\n",
      "153it [12:32,  8.43s/it]\u001B[A"
     ]
    },
    {
     "name": "stdout",
     "output_type": "stream",
     "text": [
      "Fast Text Exception for контрпульсатор\n"
     ]
    },
    {
     "name": "stderr",
     "output_type": "stream",
     "text": [
      "\n",
      "154it [12:51,  9.58s/it]\u001B[A"
     ]
    },
    {
     "name": "stdout",
     "output_type": "stream",
     "text": [
      "Fast Text Exception for соталол\n"
     ]
    },
    {
     "name": "stderr",
     "output_type": "stream",
     "text": [
      "\n",
      "160it [13:22,  7.44s/it]\u001B[A"
     ]
    },
    {
     "name": "stdout",
     "output_type": "stream",
     "text": [
      "Fast Text Exception for аутовенозный\n"
     ]
    },
    {
     "name": "stderr",
     "output_type": "stream",
     "text": [
      "\n",
      "161it [13:44,  8.90s/it]\u001B[A"
     ]
    },
    {
     "name": "stdout",
     "output_type": "stream",
     "text": [
      "Fast Text Exception for гепатина\n"
     ]
    },
    {
     "name": "stderr",
     "output_type": "stream",
     "text": [
      "\n",
      "169it [14:20,  6.53s/it]\u001B[A"
     ]
    },
    {
     "name": "stdout",
     "output_type": "stream",
     "text": [
      "Fast Text Exception for лимфодиссекция\n"
     ]
    },
    {
     "name": "stderr",
     "output_type": "stream",
     "text": [
      "\n",
      "171it [14:54,  8.24s/it]\u001B[A"
     ]
    },
    {
     "name": "stdout",
     "output_type": "stream",
     "text": [
      "Fast Text Exception for стентирование\n"
     ]
    },
    {
     "name": "stderr",
     "output_type": "stream",
     "text": [
      "\n",
      "174it [15:23,  8.60s/it]\u001B[A"
     ]
    },
    {
     "name": "stdout",
     "output_type": "stream",
     "text": [
      "Fast Text Exception for задненижний\n"
     ]
    },
    {
     "name": "stderr",
     "output_type": "stream",
     "text": [
      "\n",
      "200it [15:56,  4.78s/it]\u001B[A\n",
      "0it [15:56, ?it/s]"
     ]
    },
    {
     "name": "stdout",
     "output_type": "stream",
     "text": [
      "Fast Text Exception for формирующийся\n",
      "Lexical precision\n",
      "original_word_list --- corrected_word\n",
      "выборгский --- выборгский\n",
      "отказываться --- отказываться\n",
      "нитропрепарат --- биопрепарат\n",
      "предсердие --- предсердие\n",
      "диссоциация --- диссоциация\n",
      "кольцевой --- кольцевой\n",
      "отрыв --- отрыв\n",
      "вовлечение --- вовлечение\n",
      "мелкопузырчатый --- мелкопузырчатый\n",
      "госпитализировать --- госпитализировать\n",
      "фтизиатр --- фтизиатр\n",
      "проксимальный --- проксимальный\n",
      "приступ --- приступ\n",
      "рецидивировать --- рецидивировать\n",
      "беспокоить --- беспокоить\n",
      "значимый --- значимый\n",
      "одномоментный --- одномоментный\n",
      "течение --- течение\n",
      "постепенной --- постепенный\n",
      "трафика --- трафила\n",
      "левый --- левый\n",
      "область --- область\n",
      "окклюзия --- окклюзия\n",
      "каждый --- каждый\n",
      "аторвастатина --- аторвастатин\n",
      "проникающий --- проникающий\n",
      "слух --- слух\n",
      "отрицательный --- отрицательный\n",
      "заднее --- заднее\n",
      "диафрагмальный --- диафрагмальный\n",
      "физическая --- физическая\n",
      "реваскуляризация --- реваскуляризация\n",
      "очевидный --- очевидный\n",
      "умеренный --- умеренный\n",
      "самостоятельный --- самостоятельный\n",
      "визуализация --- визуализация\n",
      "неселективный --- неселективный\n",
      "септопластика --- десмопластик\n",
      "присутствие --- присутствие\n",
      "соустье --- соустье\n",
      "кировский --- кировский\n",
      "ноющая --- ноющая\n",
      "постоять --- постоять\n",
      "стенка --- стенка\n",
      "укоротить --- укоротить\n",
      "назначить --- назначить\n",
      "госпитализация --- госпитализация\n",
      "возобновление --- возобновление\n",
      "одеть --- одеть\n",
      "охранник --- охранник\n",
      "дексона --- дексона\n",
      "систолический --- систолический\n",
      "верхушечно-перегородочный --- верхушечно-шейный\n",
      "расширение --- расширение\n",
      "равнозначный --- равнозначный\n",
      "предприятие --- предприятие\n",
      "ночь --- ночь\n",
      "вредность --- вредность\n",
      "транспортировка --- транспортировка\n",
      "март --- март\n",
      "гипотиазид --- гипотиазид\n",
      "скрытый --- скрытый\n",
      "расстройство --- расстройство\n",
      "ломота --- ломота\n",
      "подготовить --- подготовить\n",
      "помощь --- помощь\n",
      "большая --- большая\n",
      "эквивалент --- эквивалент\n",
      "гемостатический --- гемостатический\n",
      "купировавшийся --- купоросившийся\n",
      "ревизия --- ревизия\n",
      "пульсирующий --- пульсирующий\n",
      "регистрироваться --- регистрироваться\n",
      "лимитирование --- лимитирование\n",
      "ометать --- метать\n",
      "стихание --- стихание\n",
      "вазопрессорный --- ренопрессорный\n",
      "тредмил --- трексил\n",
      "тест --- тест\n",
      "гипопноэ --- гиперпноэ\n",
      "наш --- наш\n",
      "ускоренный --- ускоренный\n",
      "эфффект --- эффект\n",
      "тромбофлебит --- тромбофлебит\n",
      "ишемический --- ишемический\n",
      "купирование --- копирование\n",
      "патологии --- патология\n",
      "длительный --- длительный\n",
      "заключение --- заключение\n",
      "пунктировать --- пунктировать\n",
      "ферритина --- ферритина\n",
      "гастропротективный --- частнодетективный\n",
      "пароксизм --- пароксизм\n",
      "выполнять --- выполнять\n",
      "показатель --- показатель\n",
      "посттромбофлебитический --- посттромбофлебитический\n",
      "анальгин --- анальгин\n",
      "корректировать --- корректировать\n",
      "секунда --- секунда\n",
      "креатинкиназа --- креатинкиназа\n",
      "утолщение --- утолщение\n",
      "терапия --- терапия\n",
      "глибомёт --- глибомет\n",
      "лобэктомия --- лобэктомия\n",
      "новгородский --- новгородский\n",
      "владеть --- владеть\n",
      "тенденция --- тенденция\n",
      "мерить --- мерить\n",
      "поражений --- поражений\n",
      "перекосить --- перекосить\n",
      "тропонин --- попонин\n",
      "сдвиг --- сдвиг\n",
      "отправить --- отправить\n",
      "сжимающее --- сжимающая\n",
      "давящий --- давящий\n",
      "нифедипин --- нифедипин\n",
      "мексикор --- мексикор\n",
      "сад --- сад\n",
      "мезентериальный --- мезентериальный\n",
      "дальнейшей --- дальнейший\n",
      "реабилитация --- реабилитация\n",
      "переносить --- переносить\n",
      "дискомфорт --- дискомфорт\n",
      "проявление --- проявление\n",
      "батарея --- батарея\n",
      "фермент --- фермент\n",
      "затёк --- затёк\n",
      "непроизвольный --- непроизвольный\n",
      "слепок --- слепок\n",
      "тенорик --- тенорит\n",
      "сегмента --- сегмента\n",
      "дрожь --- дрожь\n",
      "появляется --- появляться\n",
      "гепарина --- гепарин\n",
      "предсердие --- предсердие\n",
      "диурез --- диурез\n",
      "фиксировать --- фиксировать\n",
      "временной --- временной\n",
      "микропрепарат --- биопрепарат\n",
      "аторвастатин --- аторвастатин\n",
      "гипотензия --- гипотензия\n",
      "грудь --- грудь\n",
      "инфаркт --- инфаркт\n",
      "мононуклеары --- мононуклеар\n",
      "постоянно --- постоянно\n",
      "погрузка --- погрузка\n",
      "фармакологический --- фармакологический\n",
      "нестабильный --- нестабильный\n",
      "мертенил --- метение\n",
      "тахикардий --- тахикардии\n",
      "снимать --- снимать\n",
      "распространиться --- распространиться\n",
      "контрпульсатор --- контрпульсация\n",
      "соталол --- боталла\n",
      "складываться --- складываться\n",
      "кардиомегалия --- кардиомегалия\n",
      "смесь --- смесь\n",
      "мкг --- мкг\n",
      "похожий --- похожий\n",
      "аутовенозный --- аутогенный\n",
      "гепатина --- гепатит\n",
      "рецидивировать --- рецидивировать\n",
      "асцит --- асцит\n",
      "стенокардия --- стенокардия\n",
      "тысяча --- тысяча\n",
      "промежуточный --- промежуточный\n",
      "возможный --- возможный\n",
      "водка --- водка\n",
      "лимфодиссекция --- лимфосорбция\n",
      "принимать --- принимать\n",
      "стентирование --- агентирование\n",
      "незначимый --- незначимый\n",
      "настоящее --- настоящее\n",
      "задненижний --- задненёбный\n",
      "частичный --- частичный\n",
      "появиться --- появиться\n",
      "тройной --- тройной\n",
      "показатель --- показатель\n",
      "эквивалент --- эквивалент\n",
      "утолстить --- утолстить\n",
      "поведение --- поведение\n",
      "аускультативный --- аускультативный\n",
      "отказаться --- отказаться\n",
      "рассмотреть --- рассмотреть\n",
      "сывороточный --- сывороточный\n",
      "формирующийся --- бормочущийся\n",
      "жир --- жир\n",
      "карведилол --- карведилол\n",
      "тонкий --- тонкий\n",
      "единица --- единица\n",
      "срабатывать --- срабатывать\n",
      "компрометация --- компрометация\n",
      "россия --- россия\n",
      "массив --- массив\n",
      "нижнебоковой --- нижнебоковой\n",
      "отечь --- отечь\n",
      "трепетание --- трепетание\n",
      "конкурировать --- конкурировать\n",
      "событие --- событие\n",
      "незначительный --- незначительный\n",
      "Right corrected words count - 166 of 200 total\n"
     ]
    },
    {
     "name": "stderr",
     "output_type": "stream",
     "text": [
      "\n"
     ]
    },
    {
     "data": {
      "text/plain": "{'words_per_minute': 4.366663179821419,\n 'error_precision': 0.41,\n 'lexical_precision': 0.83}"
     },
     "execution_count": 152,
     "metadata": {},
     "output_type": "execute_result"
    }
   ],
   "source": [
    "def spellchecker_prototype_v2_correct_func(input_word_list):\n",
    "    spellchecker_prototype = SpellChecker()\n",
    "    input_text_for_prototype = \" \".join(input_word_list)\n",
    "    timer = tqdm()\n",
    "    corrected_word_list = spellchecker_prototype.correct_words(input_text_for_prototype)\n",
    "    return {\"elapsed\": timer.format_dict[\"elapsed\"], \"corrected_word_list\": corrected_word_list}\n",
    "\n",
    "spellchecker_prototype_v2_metrics = compute_all_metrics(\n",
    "    lambda : spellchecker_prototype_v2_correct_func(error_precision_test_word_list),\n",
    "    lambda : spellchecker_prototype_v2_correct_func(lexical_precision_test_word_list),\n",
    "    error_precision_test_word_list, error_precision_test_answers, lexical_precision_test_word_list)\n",
    "spellchecker_prototype_v2_metrics"
   ],
   "metadata": {
    "collapsed": false,
    "pycharm": {
     "name": "#%%\n"
    }
   }
  },
  {
   "cell_type": "markdown",
   "metadata": {},
   "source": [
    "# Test Symspellpy - https://github.com/mammothb/symspellpy"
   ]
  },
  {
   "cell_type": "code",
   "execution_count": 5,
   "metadata": {},
   "outputs": [
    {
     "name": "stdout",
     "output_type": "stream",
     "text": [
      "Collecting symspellpy\r\n",
      "  Downloading symspellpy-6.7.5-py3-none-any.whl (2.6 MB)\r\n",
      "     |████████████████████████████████| 2.6 MB 508 kB/s            \r\n",
      "\u001B[?25hCollecting editdistpy>=0.1.3\r\n",
      "  Downloading editdistpy-0.1.3.tar.gz (57 kB)\r\n",
      "     |████████████████████████████████| 57 kB 3.8 MB/s             \r\n",
      "\u001B[?25h  Installing build dependencies ... \u001B[?25ldone\r\n",
      "\u001B[?25h  Getting requirements to build wheel ... \u001B[?25ldone\r\n",
      "\u001B[?25h  Preparing metadata (pyproject.toml) ... \u001B[?25ldone\r\n",
      "\u001B[?25hBuilding wheels for collected packages: editdistpy\r\n",
      "  Building wheel for editdistpy (pyproject.toml) ... \u001B[?25ldone\r\n",
      "\u001B[?25h  Created wheel for editdistpy: filename=editdistpy-0.1.3-cp39-cp39-linux_x86_64.whl size=137366 sha256=1cdcde1ac87d9131a60044421ede35f55c5707edce581c0730bd56e85706181a\r\n",
      "  Stored in directory: /home/Dmitry.Pogrebnoy/.cache/pip/wheels/72/16/b1/ea6472dedd6ac13ad789dd294871a76fd6906fca3c010347d1\r\n",
      "Successfully built editdistpy\r\n",
      "Installing collected packages: editdistpy, symspellpy\r\n",
      "Successfully installed editdistpy-0.1.3 symspellpy-6.7.5\r\n"
     ]
    }
   ],
   "source": [
    "!pip install -U symspellpy"
   ]
  },
  {
   "cell_type": "code",
   "execution_count": 108,
   "outputs": [
    {
     "name": "stdout",
     "output_type": "stream",
     "text": [
      "Name: symspellpy\r\n",
      "Version: 6.7.5\r\n",
      "Summary: Python SymSpell\r\n",
      "Home-page: https://github.com/mammothb/symspellpy\r\n",
      "Author: mmb L\r\n",
      "Author-email: \r\n",
      "License: MIT\r\n",
      "Location: /home/Dmitry.Pogrebnoy/Desktop/MedSpellChecker/venv/lib/python3.9/site-packages\r\n",
      "Requires: editdistpy\r\n",
      "Required-by: \r\n"
     ]
    }
   ],
   "source": [
    "!pip show symspellpy"
   ],
   "metadata": {
    "collapsed": false,
    "pycharm": {
     "name": "#%%\n"
    }
   }
  },
  {
   "cell_type": "markdown",
   "metadata": {},
   "source": [
    "### Test Symspellpy lookup on basic dict"
   ]
  },
  {
   "cell_type": "code",
   "execution_count": 109,
   "metadata": {},
   "outputs": [],
   "source": [
    "basic_frequency_dict = '../data/symspell/ru-100k.txt'"
   ]
  },
  {
   "cell_type": "code",
   "execution_count": 110,
   "metadata": {},
   "outputs": [],
   "source": [
    "from symspellpy import SymSpell, Verbosity\n",
    "\n",
    "def test_symspell_py_lookup(frequency_dict_path, input_word_list):\n",
    "    sym_spell_py = SymSpell()\n",
    "    sym_spell_py.load_dictionary(frequency_dict_path, 0, 1, encoding=\"UTF8\")\n",
    "\n",
    "    result = []\n",
    "    timer = tqdm(input_word_list)\n",
    "    for word in timer:\n",
    "        suggestions = sym_spell_py.lookup(word, Verbosity.TOP, max_edit_distance=2, include_unknown=True)\n",
    "        result.append(suggestions[0].term)\n",
    "    return  {\"elapsed\" : timer.format_dict[\"elapsed\"], \"corrected_word_list\" : result}"
   ]
  },
  {
   "cell_type": "code",
   "execution_count": 111,
   "outputs": [
    {
     "name": "stderr",
     "output_type": "stream",
     "text": [
      "100%|██████████| 200/200 [00:00<00:00, 12522.74it/s]\n"
     ]
    },
    {
     "name": "stdout",
     "output_type": "stream",
     "text": [
      "Error precision\n",
      "original_word_list --- corrected_word --- answer_word_list\n",
      "эктренном --- коренном --- ['экстренном']\n",
      "синусовго --- синусовго --- ['синусового']\n",
      "даным --- данным --- ['данным', 'данный', 'данные']\n",
      "шнутография --- шнутография --- ['шунтография']\n",
      "сникопальных --- сникопальных --- ['синкопальных']\n",
      "посление --- последние --- ['поселение', 'последний']\n",
      "ходавый --- подавай --- ['ходовый']\n",
      "анмнезе --- анамнезе --- ['анамнезе', 'анамнез']\n",
      "сентированный --- сентированный --- ['стентированный']\n",
      "самоч --- самой --- ['самочувствие']\n",
      "перевдена --- переведена --- ['переведена']\n",
      "стентированеим --- стентированеим --- ['стентированием', 'стентирование']\n",
      "кардиол --- кардинал --- ['кардиолог,кардиологический']\n",
      "переведна --- переведена --- ['переведена']\n",
      "догосптальном --- догосптальном --- ['догоспитальном']\n",
      "миним --- синим --- ['минимум', 'минимальный']\n",
      "субфебриллитет --- субфебриллитет --- ['субфебрилитет']\n",
      "загрудиные --- загрудиные --- ['загрудинные', 'загрудинный']\n",
      "перферия --- периферия --- ['периферия']\n",
      "течени --- течение --- ['течение']\n",
      "оклюзия --- иллюзия --- ['окклюзия']\n",
      "жнщина --- женщина --- ['женщина']\n",
      "пциент --- пациент --- ['пациент']\n",
      "зарегистирована --- зарегистрирована --- ['зарегистрирована']\n",
      "сегмета --- сегмента --- ['сегмента']\n",
      "клекте --- клетке --- ['клетке']\n",
      "эпид --- спид --- ['эпидемия', 'эпидемиологический', 'эпидуральный']\n",
      "интелектуально --- интеллектуально --- ['интеллектуально']\n",
      "нижн --- ниже --- ['нижний']\n",
      "прводилась --- проводилась --- ['проводилась', 'проводить']\n",
      "неуст --- несут --- ['неустановленный']\n",
      "госптализирован --- госптализирован --- ['госпитализирован']\n",
      "вперые --- впервые --- ['впервые']\n",
      "послеоперационом --- послеоперационном --- ['послеоперационном']\n",
      "госпитализирова --- госпитализирова --- ['госпитализирован']\n",
      "ухудщение --- ухудшение --- ['ухудшение']\n",
      "рентг --- ренты --- ['рентген']\n",
      "дальнешем --- дальнейшем --- ['дальнейшем']\n",
      "троботическая --- троботическая --- ['тромботическая']\n",
      "многосоудистое --- многосоудистое --- ['многососудистое', 'многососудистый']\n",
      "миокрада --- миокарда --- ['миокарда', 'миокард']\n",
      "сопрвождались --- сопровождались --- ['сопровождались']\n",
      "дискмфорт --- дискмфорт --- ['дискомфорт']\n",
      "потлтвостью --- потлтвостью --- ['потливостью']\n",
      "левогожелудочка --- левогожелудочка --- ['левого желудочка', 'левый желудочек']\n",
      "рание --- ранее --- ['ранее', 'ранние']\n",
      "виед --- виде --- ['виде', 'вид']\n",
      "ангинозныеболи --- ангинозныеболи --- ['ангинозные боли', 'ангиозный боль']\n",
      "догоситальном --- догоситальном --- ['догоспитальном']\n",
      "ввполнен --- вполне --- ['выполнен']\n",
      "чаосв --- часов --- ['часов']\n",
      "октазалась --- оказалась --- ['отказалась']\n",
      "линика --- лирика --- ['клиника']\n",
      "ммента --- момента --- ['момента']\n",
      "проведеной --- проведено --- ['проведенной']\n",
      "выполненяи --- выполнения --- ['выполнения', 'выполнение']\n",
      "леченяи --- лечения --- ['лечения', 'лечение']\n",
      "обтилась --- осталась --- ['обратилась']\n",
      "повтороно --- повторно --- ['повторно']\n",
      "зарегистриованы --- зарегистрированы --- ['зарегистрированы']\n",
      "отицает --- отрицает --- ['отрицает', 'отрицать']\n",
      "дальнейщем --- дальнейшем --- ['дальнейшем']\n",
      "болисохраняются --- болисохраняются --- ['боли сохраняются']\n",
      "частичынм --- частичным --- ['частичным']\n",
      "атерокслеротичсекая --- атерокслеротичсекая --- ['атеросклеротическая']\n",
      "деньс --- день --- ['день', 'день с']\n",
      "назначаля --- назначали --- ['назначался']\n",
      "проведеняи --- проведения --- ['проведения']\n",
      "беспакоют --- беспокоит --- ['беспокоят']\n",
      "гипертензи --- гипертензии --- ['гипертензия']\n",
      "воленйбол --- волейбол --- ['волейбол']\n",
      "болезн --- болезни --- ['болезнь']\n",
      "стенокардаа --- стенокардаа --- ['стенокардия']\n",
      "продолжалсь --- продолжалось --- ['продолжалась']\n",
      "поворное --- повторное --- ['повторное']\n",
      "ощуащет --- ощущает --- ['ощущает']\n",
      "ангигнозного --- ангигнозного --- ['ангинозного', 'ангинозный']\n",
      "диагностичекой --- диагностической --- ['диагностической', 'диагностический']\n",
      "поддерживающией --- поддерживающие --- ['поддерживающий']\n",
      "межлопаточнй --- межлопаточнй --- ['межлопаточный']\n",
      "бедреной --- бедренной --- ['бедренной', 'бедренный']\n",
      "гшрядки --- грядки --- ['грядки']\n",
      "бассеине --- бассейне --- ['бассейне', 'бассейн']\n",
      "возлуха --- воздуха --- ['воздуха', 'воздух']\n",
      "сенября --- сентября --- ['сентября', 'сентябрь']\n",
      "постояная --- постоянная --- ['постоянная', 'постоянный']\n",
      "рекмоендовнао --- рекомендовано --- ['рекомендовано']\n",
      "поврждения --- повреждения --- ['повреждения']\n",
      "дискофморта --- дискофморта --- ['дискомфорт']\n",
      "импалнтирован --- импалнтирован --- ['имплантирован', 'имплантировать']\n",
      "неочетливая --- неочетливая --- ['неотчетливая', 'неотчетливый']\n",
      "обесвеченный --- обеспеченных --- ['обесцвеченный', 'обеспеченный']\n",
      "серце --- сердце --- ['сердце']\n",
      "блезнь --- болезнь --- ['болезнь']\n",
      "лергия --- сергия --- ['аллергия']\n",
      "ука --- ука --- ['рука']\n",
      "изжга --- из-за --- ['изжога']\n",
      "жение --- жене --- ['жжение']\n",
      "кашел --- нашел --- ['кашель']\n",
      "рствор --- раствор --- ['раствор']\n",
      "пациен --- пациент --- ['пациент']\n",
      "пожлой --- пожилой --- ['пожилой']\n",
      "лекарсво --- лекарство --- ['лекарство']\n",
      "нпреносимость --- нпреносимость --- ['непереносимость']\n",
      "амупула --- ампулы --- ['ампула']\n",
      "гел --- дел --- ['гель']\n",
      "конценрат --- концентрат --- ['концентрат']\n",
      "рилиф --- или --- ['релиф']\n",
      "чссс --- ссср --- ['ЧСС', 'чсс']\n",
      "экгъ --- экг --- ['ЭКГ', 'экг']\n",
      "фибриляция --- фибриляция --- ['фибрилляция']\n",
      "желдочек --- желдочек --- ['желудочек']\n",
      "хрон --- крон --- ['хронический']\n",
      "гиподин --- господин --- ['гиподинамический']\n",
      "нерный --- черный --- ['нервный']\n",
      "сист --- сист --- ['система']\n",
      "диагоностика --- диагностика --- ['диагностика']\n",
      "гипоксмия --- гипоксии --- ['гипоксемия']\n",
      "ледокоин --- ледокол --- ['лидокаин']\n",
      "блокато --- блока --- ['блокатор']\n",
      "тахкардия --- тахкардия --- ['тахикардия']\n",
      "малоинвозивный --- малоинвозивный --- ['малоинвазивный']\n",
      "алация --- акация --- ['аблация', 'абляция']\n",
      "имь --- им --- ['ИМ', 'им']\n",
      "паражение --- поражение --- ['поражение']\n",
      "тяжолый --- тяжелый --- ['тяжелый']\n",
      "гастрапластика --- гастрапластика --- ['гастропластика']\n",
      "вс --- в --- ['вес']\n",
      "лешний --- летний --- ['лишний']\n",
      "орта --- сорта --- ['аорта']\n",
      "клапа --- клапан --- ['клапан']\n",
      "вент --- сент --- ['вена']\n",
      "палый --- малый --- ['полый']\n",
      "пирикард --- пирикард --- ['перикард']\n",
      "метральный --- центральный --- ['митральный']\n",
      "ултразвук --- ультразвук --- ['ультразвук']\n",
      "херург --- хирург --- ['хирург']\n",
      "кордиолог --- кордиолог --- ['кардиолог']\n",
      "килограм --- килограмм --- ['килограмм']\n",
      "акенезия --- акенезия --- ['акинезия']\n",
      "врхушка --- верхушка --- ['верхушка']\n",
      "апекальный --- печальный --- ['апикальный']\n",
      "сгмент --- сегмент --- ['сегмент']\n",
      "вес --- вес --- ['весь']\n",
      "сьенка --- стенка --- ['стенка']\n",
      "церкулярный --- церкулярный --- ['циркулярный']\n",
      "сридиный --- средины --- ['срединный']\n",
      "калапаный --- клапаны --- ['клапанный']\n",
      "апарат --- аппарат --- ['аппарат']\n",
      "потология --- патология --- ['патология']\n",
      "перекард --- перепад --- ['перикард']\n",
      "праксимальный --- максимальный --- ['проксимальный']\n",
      "деаметр --- диаметр --- ['диаметр']\n",
      "корекция --- коррекция --- ['коррекция']\n",
      "аслажнение --- наслаждение --- ['осложнение']\n",
      "стрдать --- страдать --- ['страдать']\n",
      "гепертонический --- гипертонической --- ['гипертонический']\n",
      "болезн --- болезни --- ['болезнь']\n",
      "одоптировать --- одоптировать --- ['адаптировать']\n",
      "получять --- получить --- ['получать']\n",
      "кансервативный --- консервативный --- ['консервативный']\n",
      "тичение --- течение --- ['течение']\n",
      "пребование --- требование --- ['пребывание']\n",
      "отбиление --- отделение --- ['отделение']\n",
      "самачувствие --- самочувствие --- ['самочувствие']\n",
      "уходшение --- ухудшение --- ['ухудшение']\n",
      "месро --- место --- ['место']\n",
      "пункцыя --- функция --- ['пункция']\n",
      "особеность --- особенность --- ['особенность']\n",
      "шнут --- шут --- ['шунт']\n",
      "шнутирование --- шнутирование --- ['шунтирование']\n",
      "готчина --- вотчина --- ['гатчина']\n",
      "эхэ --- эх --- ['эхо']\n",
      "каранарный --- каранарный --- ['коронарный']\n",
      "ортерия --- артерия --- ['артерия']\n",
      "сначимый --- значимый --- ['значимый']\n",
      "стинос --- стихов --- ['стеноз']\n",
      "гаспиализировать --- гаспиализировать --- ['госпитализировать']\n",
      "имья --- имя --- ['имя']\n",
      "олмазов --- алмазов --- ['алмазов']\n",
      "прдшствовать --- предшествовать --- ['предшествовать']\n",
      "стинакардия --- стинакардия --- ['стенокардия']\n",
      "пиринести --- принести --- ['перенести']\n",
      "ифаркт --- инфаркт --- ['инфаркт']\n",
      "моикарда --- миокарда --- ['миокарда']\n",
      "лакализация --- локализация --- ['локализация']\n",
      "спразка --- справка --- ['справка']\n",
      "дальнейшый --- дальнейшей --- ['дальнейший']\n",
      "хроническаянедостаточность --- хроническаянедостаточность --- ['хроническая недостаточность', 'хронический недостаточность']\n",
      "инфарктмиокарда --- инфарктмиокарда --- ['инфаркт миокарда', 'инфаркт миокард']\n",
      "отузла --- отдела --- ['от узла', 'от узел']\n",
      "нарушениеработы --- нарушениеработы --- ['нарушение работы', 'нарушение работа']\n",
      "вминуту --- минуту --- ['в минуту', 'в минута', 'минута']\n",
      "эндокриннойсистемы --- эндокриннойсистемы --- ['эндокринная система', 'эндокринный система']\n",
      "сердечныйритм --- сердечныйритм --- ['сердечный ритм']\n",
      "узловаятахикардия --- узловаятахикардия --- ['узловая тахикардия', 'узловой тахикардия']\n",
      "основныефакторы --- основныефакторы --- ['основной факто', 'основные факторы']\n",
      "остановкасердца --- остановкасердца --- ['остановка сердца', 'остановка сердце']\n",
      "фибрилляцияжелудочков --- фибрилляцияжелудочков --- ['фибрилляция желудочков', 'фибрилляция желудочек']\n",
      "счастотой --- частотой --- ['с частотой', 'с частотаб частота']\n",
      "Right corrected words count - 84 of 200 total\n"
     ]
    },
    {
     "name": "stderr",
     "output_type": "stream",
     "text": [
      "100%|██████████| 200/200 [00:00<00:00, 24167.70it/s]"
     ]
    },
    {
     "name": "stdout",
     "output_type": "stream",
     "text": [
      "Lexical precision\n",
      "original_word_list --- corrected_word\n",
      "выборгский --- выборгский\n",
      "отказываться --- отказываться\n",
      "нитропрепарат --- нитропрепарат\n",
      "предсердие --- предсердия\n",
      "диссоциация --- диссоциация\n",
      "кольцевой --- кольцевой\n",
      "отрыв --- отрыв\n",
      "вовлечение --- вовлечение\n",
      "мелкопузырчатый --- мелкопузырчатый\n",
      "госпитализировать --- госпитализировать\n",
      "фтизиатр --- фтизиатр\n",
      "проксимальный --- проксимальной\n",
      "приступ --- приступ\n",
      "рецидивировать --- рецидивировать\n",
      "беспокоить --- беспокоить\n",
      "значимый --- значимый\n",
      "одномоментный --- одномоментный\n",
      "течение --- течение\n",
      "постепенной --- постепенной\n",
      "трафика --- графика\n",
      "левый --- левый\n",
      "область --- область\n",
      "окклюзия --- окклюзия\n",
      "каждый --- каждый\n",
      "аторвастатина --- аторвастатина\n",
      "проникающий --- проникающих\n",
      "слух --- слух\n",
      "отрицательный --- отрицательный\n",
      "заднее --- заднее\n",
      "диафрагмальный --- диафрагмальный\n",
      "физическая --- физическая\n",
      "реваскуляризация --- реваскуляризация\n",
      "очевидный --- очевидный\n",
      "умеренный --- умеренный\n",
      "самостоятельный --- самостоятельный\n",
      "визуализация --- визуализации\n",
      "неселективный --- неселективный\n",
      "септопластика --- септопластика\n",
      "присутствие --- присутствие\n",
      "соустье --- счастье\n",
      "кировский --- кировский\n",
      "ноющая --- новая\n",
      "постоять --- постоять\n",
      "стенка --- стенка\n",
      "укоротить --- укротить\n",
      "назначить --- назначить\n",
      "госпитализация --- госпитализации\n",
      "возобновление --- возобновление\n",
      "одеть --- одеть\n",
      "охранник --- охранник\n",
      "дексона --- девона\n",
      "систолический --- исторический\n",
      "верхушечно-перегородочный --- верхушечно-перегородочный\n",
      "расширение --- расширение\n",
      "равнозначный --- равнозначны\n",
      "предприятие --- предприятие\n",
      "ночь --- ночь\n",
      "вредность --- вредность\n",
      "транспортировка --- транспортировка\n",
      "март --- март\n",
      "гипотиазид --- гипотиазид\n",
      "скрытый --- скрытый\n",
      "расстройство --- расстройство\n",
      "ломота --- ломоть\n",
      "подготовить --- подготовить\n",
      "помощь --- помощь\n",
      "большая --- большая\n",
      "эквивалент --- эквивалент\n",
      "гемостатический --- гемостатический\n",
      "купировавшийся --- купировавшийся\n",
      "ревизия --- ревизия\n",
      "пульсирующий --- пульсирующий\n",
      "регистрироваться --- регистрировать\n",
      "лимитирование --- лимитирование\n",
      "ометать --- метать\n",
      "стихание --- стирание\n",
      "вазопрессорный --- вазопрессорный\n",
      "тредмил --- бредил\n",
      "тест --- тест\n",
      "гипопноэ --- гипопноэ\n",
      "наш --- наш\n",
      "ускоренный --- ускоренный\n",
      "эфффект --- эффект\n",
      "тромбофлебит --- тромбофлебит\n",
      "ишемический --- ишемической\n",
      "купирование --- копирование\n",
      "патологии --- патологии\n",
      "длительный --- длительный\n",
      "заключение --- заключение\n",
      "пунктировать --- пунктировать\n",
      "ферритина --- феррита\n",
      "гастропротективный --- гастропротективный\n",
      "пароксизм --- марксизм\n",
      "выполнять --- выполнять\n",
      "показатель --- показатель\n",
      "посттромбофлебитический --- посттромбофлебитический\n",
      "анальгин --- аналогии\n",
      "корректировать --- корректировать\n",
      "секунда --- секунда\n",
      "креатинкиназа --- креатинкиназа\n",
      "утолщение --- утолщение\n",
      "терапия --- терапия\n",
      "глибомёт --- глибомёт\n",
      "лобэктомия --- лобэктомия\n",
      "новгородский --- новгородский\n",
      "владеть --- владеть\n",
      "тенденция --- тенденция\n",
      "мерить --- мерить\n",
      "поражений --- поражений\n",
      "перекосить --- переносить\n",
      "тропонин --- топоним\n",
      "сдвиг --- сдвиг\n",
      "отправить --- отправить\n",
      "сжимающее --- сжимающих\n",
      "давящий --- дающий\n",
      "нифедипин --- нифедипин\n",
      "мексикор --- мексики\n",
      "сад --- сад\n",
      "мезентериальный --- мезентериальный\n",
      "дальнейшей --- дальнейшей\n",
      "реабилитация --- реабилитация\n",
      "переносить --- переносить\n",
      "дискомфорт --- дискомфорт\n",
      "проявление --- проявление\n",
      "батарея --- батарея\n",
      "фермент --- фермент\n",
      "затёк --- затем\n",
      "непроизвольный --- произвольный\n",
      "слепок --- слепок\n",
      "тенорик --- теории\n",
      "сегмента --- сегмента\n",
      "дрожь --- дрожь\n",
      "появляется --- появляется\n",
      "гепарина --- гепарина\n",
      "предсердие --- предсердия\n",
      "диурез --- диурез\n",
      "фиксировать --- фиксировать\n",
      "временной --- временной\n",
      "микропрепарат --- микропрепарат\n",
      "аторвастатин --- аторвастатин\n",
      "гипотензия --- гипотензия\n",
      "грудь --- грудь\n",
      "инфаркт --- инфаркт\n",
      "мононуклеары --- мононуклеары\n",
      "постоянно --- постоянно\n",
      "погрузка --- погрузка\n",
      "фармакологический --- фармакологических\n",
      "нестабильный --- нестабильных\n",
      "мертенил --- мертенил\n",
      "тахикардий --- тахикардий\n",
      "снимать --- снимать\n",
      "распространиться --- распространиться\n",
      "контрпульсатор --- контрпульсатор\n",
      "соталол --- сожалел\n",
      "складываться --- складываться\n",
      "кардиомегалия --- кардиомегалия\n",
      "смесь --- смесь\n",
      "мкг --- мкг\n",
      "похожий --- похожий\n",
      "аутовенозный --- аутовенозный\n",
      "гепатина --- гепатита\n",
      "рецидивировать --- рецидивировать\n",
      "асцит --- акций\n",
      "стенокардия --- стенокардия\n",
      "тысяча --- тысяча\n",
      "промежуточный --- промежуточный\n",
      "возможный --- возможный\n",
      "водка --- водка\n",
      "лимфодиссекция --- лимфодиссекция\n",
      "принимать --- принимать\n",
      "стентирование --- тестирование\n",
      "незначимый --- незнакомый\n",
      "настоящее --- настоящее\n",
      "задненижний --- задненижний\n",
      "частичный --- частичный\n",
      "появиться --- появиться\n",
      "тройной --- тройной\n",
      "показатель --- показатель\n",
      "эквивалент --- эквивалент\n",
      "утолстить --- отомстить\n",
      "поведение --- поведение\n",
      "аускультативный --- аускультативный\n",
      "отказаться --- отказаться\n",
      "рассмотреть --- рассмотреть\n",
      "сывороточный --- сывороточный\n",
      "формирующийся --- формирующихся\n",
      "жир --- жир\n",
      "карведилол --- карведилол\n",
      "тонкий --- тонкий\n",
      "единица --- единица\n",
      "срабатывать --- обрабатывать\n",
      "компрометация --- компрометация\n",
      "россия --- россия\n",
      "массив --- массив\n",
      "нижнебоковой --- нижнебоковой\n",
      "отечь --- отеч\n",
      "трепетание --- трепетали\n",
      "конкурировать --- конкурировать\n",
      "событие --- событие\n",
      "незначительный --- незначительный\n",
      "Right corrected words count - 156 of 200 total\n"
     ]
    },
    {
     "name": "stderr",
     "output_type": "stream",
     "text": [
      "\n"
     ]
    },
    {
     "data": {
      "text/plain": "{'words_per_minute': 955032.5512556569,\n 'error_precision': 0.42,\n 'lexical_precision': 0.78}"
     },
     "execution_count": 111,
     "metadata": {},
     "output_type": "execute_result"
    }
   ],
   "source": [
    "test_symspell_py_lookup_result = compute_all_metrics(\n",
    "    lambda : test_symspell_py_lookup(basic_frequency_dict, error_precision_test_word_list),\n",
    "    lambda : test_symspell_py_lookup(basic_frequency_dict, lexical_precision_test_word_list),\n",
    "    error_precision_test_word_list, error_precision_test_answers, lexical_precision_test_word_list)\n",
    "test_symspell_py_lookup_result"
   ],
   "metadata": {
    "collapsed": false,
    "pycharm": {
     "name": "#%%\n"
    }
   }
  },
  {
   "cell_type": "code",
   "execution_count": 112,
   "outputs": [],
   "source": [
    "def test_symspell_py_lookup_compound(frequency_dict_path, input_word_list):\n",
    "    sym_spell_py = SymSpell()\n",
    "    sym_spell_py.load_dictionary(frequency_dict_path, 0, 1, encoding=\"UTF8\")\n",
    "\n",
    "    result = []\n",
    "    timer = tqdm(input_word_list)\n",
    "    for word in timer:\n",
    "        suggestions = sym_spell_py.lookup_compound(word, max_edit_distance=2)\n",
    "        result.append(suggestions[0].term)\n",
    "    return {\"elapsed\" : timer.format_dict[\"elapsed\"], \"corrected_word_list\" : result}"
   ],
   "metadata": {
    "collapsed": false,
    "pycharm": {
     "name": "#%%\n"
    }
   }
  },
  {
   "cell_type": "code",
   "execution_count": 113,
   "metadata": {
    "pycharm": {
     "name": "#%%\n"
    }
   },
   "outputs": [
    {
     "name": "stderr",
     "output_type": "stream",
     "text": [
      "100%|██████████| 200/200 [00:00<00:00, 715.71it/s]\n"
     ]
    },
    {
     "name": "stdout",
     "output_type": "stream",
     "text": [
      "Error precision\n",
      "original_word_list --- corrected_word --- answer_word_list\n",
      "эктренном --- коренном --- ['экстренном']\n",
      "синусовго --- синус его --- ['синусового']\n",
      "даным --- данным --- ['данным', 'данный', 'данные']\n",
      "шнутография --- и фотография --- ['шунтография']\n",
      "сникопальных --- они локальных --- ['синкопальных']\n",
      "посление --- последние --- ['поселение', 'последний']\n",
      "ходавый --- ход вый --- ['ходовый']\n",
      "анмнезе --- анамнезе --- ['анамнезе', 'анамнез']\n",
      "сентированный --- центров данный --- ['стентированный']\n",
      "самоч --- самой --- ['самочувствие']\n",
      "перевдена --- переведена --- ['переведена']\n",
      "стентированеим --- стен титрованием --- ['стентированием', 'стентирование']\n",
      "кардиол --- кардинал --- ['кардиолог,кардиологический']\n",
      "переведна --- переведена --- ['переведена']\n",
      "догосптальном --- до остальном --- ['догоспитальном']\n",
      "миним --- синим --- ['минимум', 'минимальный']\n",
      "субфебриллитет --- себе бриллиант --- ['субфебрилитет']\n",
      "загрудиные --- за рудные --- ['загрудинные', 'загрудинный']\n",
      "перферия --- периферия --- ['периферия']\n",
      "течени --- течение --- ['течение']\n",
      "оклюзия --- иллюзия --- ['окклюзия']\n",
      "жнщина --- женщина --- ['женщина']\n",
      "пциент --- пациент --- ['пациент']\n",
      "зарегистирована --- зарегистрирована --- ['зарегистрирована']\n",
      "сегмета --- сегмента --- ['сегмента']\n",
      "клекте --- клетке --- ['клетке']\n",
      "эпид --- спид --- ['эпидемия', 'эпидемиологический', 'эпидуральный']\n",
      "интелектуально --- интеллектуально --- ['интеллектуально']\n",
      "нижн --- ниже --- ['нижний']\n",
      "прводилась --- проводилась --- ['проводилась', 'проводить']\n",
      "неуст --- несут --- ['неустановленный']\n",
      "госптализирован --- госпитали мировая --- ['госпитализирован']\n",
      "вперые --- впервые --- ['впервые']\n",
      "послеоперационом --- послеоперационном --- ['послеоперационном']\n",
      "госпитализирова --- госпитали кирова --- ['госпитализирован']\n",
      "ухудщение --- ухудшение --- ['ухудшение']\n",
      "рентг --- ренты --- ['рентген']\n",
      "дальнешем --- дальнейшем --- ['дальнейшем']\n",
      "троботическая --- ты оптическая --- ['тромботическая']\n",
      "многосоудистое --- много сосудистой --- ['многососудистое', 'многососудистый']\n",
      "миокрада --- миокарда --- ['миокарда', 'миокард']\n",
      "сопрвождались --- сопровождались --- ['сопровождались']\n",
      "дискмфорт --- диск форт --- ['дискомфорт']\n",
      "потлтвостью --- после костью --- ['потливостью']\n",
      "левогожелудочка --- левого желудочка --- ['левого желудочка', 'левый желудочек']\n",
      "рание --- ранее --- ['ранее', 'ранние']\n",
      "виед --- виде --- ['виде', 'вид']\n",
      "ангинозныеболи --- ангинозныеболи --- ['ангинозные боли', 'ангиозный боль']\n",
      "догоситальном --- до остальном --- ['догоспитальном']\n",
      "ввполнен --- вполне --- ['выполнен']\n",
      "чаосв --- часов --- ['часов']\n",
      "октазалась --- оказалась --- ['отказалась']\n",
      "линика --- лирика --- ['клиника']\n",
      "ммента --- момента --- ['момента']\n",
      "проведеной --- проведено --- ['проведенной']\n",
      "выполненяи --- выполнения --- ['выполнения', 'выполнение']\n",
      "леченяи --- лечения --- ['лечения', 'лечение']\n",
      "обтилась --- осталась --- ['обратилась']\n",
      "повтороно --- повторно --- ['повторно']\n",
      "зарегистриованы --- зарегистрированы --- ['зарегистрированы']\n",
      "отицает --- отрицает --- ['отрицает', 'отрицать']\n",
      "дальнейщем --- дальнейшем --- ['дальнейшем']\n",
      "болисохраняются --- боли сохраняются --- ['боли сохраняются']\n",
      "частичынм --- частичным --- ['частичным']\n",
      "атерокслеротичсекая --- атеросклероз этическая --- ['атеросклеротическая']\n",
      "деньс --- день --- ['день', 'день с']\n",
      "назначаля --- назначали --- ['назначался']\n",
      "проведеняи --- проведения --- ['проведения']\n",
      "беспакоют --- беспокоит --- ['беспокоят']\n",
      "гипертензи --- гипертензии --- ['гипертензия']\n",
      "воленйбол --- волейбол --- ['волейбол']\n",
      "болезн --- болезни --- ['болезнь']\n",
      "стенокардаа --- стенок рада --- ['стенокардия']\n",
      "продолжалсь --- продолжалось --- ['продолжалась']\n",
      "поворное --- повторное --- ['повторное']\n",
      "ощуащет --- ощущает --- ['ощущает']\n",
      "ангигнозного --- ан грозного --- ['ангинозного', 'ангинозный']\n",
      "диагностичекой --- диагностической --- ['диагностической', 'диагностический']\n",
      "поддерживающией --- поддерживающие --- ['поддерживающий']\n",
      "межлопаточнй --- меж лопатой --- ['межлопаточный']\n",
      "бедреной --- бедренной --- ['бедренной', 'бедренный']\n",
      "гшрядки --- грядки --- ['грядки']\n",
      "бассеине --- бассейне --- ['бассейне', 'бассейн']\n",
      "возлуха --- воздуха --- ['воздуха', 'воздух']\n",
      "сенября --- сентября --- ['сентября', 'сентябрь']\n",
      "постояная --- постоянная --- ['постоянная', 'постоянный']\n",
      "рекмоендовнао --- рекомендовано --- ['рекомендовано']\n",
      "поврждения --- повреждения --- ['повреждения']\n",
      "дискофморта --- диском рта --- ['дискомфорт']\n",
      "импалнтирован --- импалнтирован --- ['имплантирован', 'имплантировать']\n",
      "неочетливая --- не отчетливая --- ['неотчетливая', 'неотчетливый']\n",
      "обесвеченный --- обеспеченных --- ['обесцвеченный', 'обеспеченный']\n",
      "серце --- сердце --- ['сердце']\n",
      "блезнь --- болезнь --- ['болезнь']\n",
      "лергия --- сергия --- ['аллергия']\n",
      "ука --- ука --- ['рука']\n",
      "изжга --- из га --- ['изжога']\n",
      "жение --- жене --- ['жжение']\n",
      "кашел --- нашел --- ['кашель']\n",
      "рствор --- раствор --- ['раствор']\n",
      "пациен --- пациент --- ['пациент']\n",
      "пожлой --- пожилой --- ['пожилой']\n",
      "лекарсво --- лекарство --- ['лекарство']\n",
      "нпреносимость --- перенос иметь --- ['непереносимость']\n",
      "амупула --- ампулы --- ['ампула']\n",
      "гел --- дел --- ['гель']\n",
      "конценрат --- концентрат --- ['концентрат']\n",
      "рилиф --- или --- ['релиф']\n",
      "чссс --- ссср --- ['ЧСС', 'чсс']\n",
      "экгъ --- экг --- ['ЭКГ', 'экг']\n",
      "фибриляция --- физ милиция --- ['фибрилляция']\n",
      "желдочек --- же точек --- ['желудочек']\n",
      "хрон --- крон --- ['хронический']\n",
      "гиподин --- господин --- ['гиподинамический']\n",
      "нерный --- черный --- ['нервный']\n",
      "сист --- сист --- ['система']\n",
      "диагоностика --- диагностика --- ['диагностика']\n",
      "гипоксмия --- гипоксии --- ['гипоксемия']\n",
      "ледокоин --- ледокол --- ['лидокаин']\n",
      "блокато --- блока о --- ['блокатор']\n",
      "тахкардия --- такая для --- ['тахикардия']\n",
      "малоинвозивный --- малины наивный --- ['малоинвазивный']\n",
      "алация --- акация --- ['аблация', 'абляция']\n",
      "имь --- им --- ['ИМ', 'им']\n",
      "паражение --- поражение --- ['поражение']\n",
      "тяжолый --- тяжелый --- ['тяжелый']\n",
      "гастрапластика --- астра пластика --- ['гастропластика']\n",
      "вс --- в --- ['вес']\n",
      "лешний --- летний --- ['лишний']\n",
      "орта --- сорта --- ['аорта']\n",
      "клапа --- клапан --- ['клапан']\n",
      "вент --- сент --- ['вена']\n",
      "палый --- малый --- ['полый']\n",
      "пирикард --- пи ричард --- ['перикард']\n",
      "метральный --- центральный --- ['митральный']\n",
      "ултразвук --- ультразвук --- ['ультразвук']\n",
      "херург --- хирург --- ['хирург']\n",
      "кордиолог --- ко диалог --- ['кардиолог']\n",
      "килограм --- килограмм --- ['килограмм']\n",
      "акенезия --- арене и --- ['акинезия']\n",
      "врхушка --- верхушка --- ['верхушка']\n",
      "апекальный --- печальный --- ['апикальный']\n",
      "сгмент --- сегмент --- ['сегмент']\n",
      "вес --- вес --- ['весь']\n",
      "сьенка --- стенка --- ['стенка']\n",
      "церкулярный --- и регулярный --- ['циркулярный']\n",
      "сридиный --- средины --- ['срединный']\n",
      "калапаный --- клапаны --- ['клапанный']\n",
      "апарат --- аппарат --- ['аппарат']\n",
      "потология --- патология --- ['патология']\n",
      "перекард --- перепад --- ['перикард']\n",
      "праксимальный --- максимальный --- ['проксимальный']\n",
      "деаметр --- диаметр --- ['диаметр']\n",
      "корекция --- коррекция --- ['коррекция']\n",
      "аслажнение --- наслаждение --- ['осложнение']\n",
      "стрдать --- страдать --- ['страдать']\n",
      "гепертонический --- гипертонической --- ['гипертонический']\n",
      "болезн --- болезни --- ['болезнь']\n",
      "одоптировать --- о датировать --- ['адаптировать']\n",
      "получять --- получить --- ['получать']\n",
      "кансервативный --- консервативный --- ['консервативный']\n",
      "тичение --- течение --- ['течение']\n",
      "пребование --- требование --- ['пребывание']\n",
      "отбиление --- отделение --- ['отделение']\n",
      "самачувствие --- самочувствие --- ['самочувствие']\n",
      "уходшение --- ухудшение --- ['ухудшение']\n",
      "месро --- место --- ['место']\n",
      "пункцыя --- функция --- ['пункция']\n",
      "особеность --- особенность --- ['особенность']\n",
      "шнут --- шут --- ['шунт']\n",
      "шнутирование --- и цитирование --- ['шунтирование']\n",
      "готчина --- вотчина --- ['гатчина']\n",
      "эхэ --- эх --- ['эхо']\n",
      "каранарный --- кара парный --- ['коронарный']\n",
      "ортерия --- артерия --- ['артерия']\n",
      "сначимый --- значимый --- ['значимый']\n",
      "стинос --- стихов --- ['стеноз']\n",
      "гаспиализировать --- нас анализировать --- ['госпитализировать']\n",
      "имья --- имя --- ['имя']\n",
      "олмазов --- алмазов --- ['алмазов']\n",
      "прдшствовать --- предшествовать --- ['предшествовать']\n",
      "стинакардия --- истина партия --- ['стенокардия']\n",
      "пиринести --- принести --- ['перенести']\n",
      "ифаркт --- инфаркт --- ['инфаркт']\n",
      "моикарда --- миокарда --- ['миокарда']\n",
      "лакализация --- локализация --- ['локализация']\n",
      "спразка --- справка --- ['справка']\n",
      "дальнейшый --- дальнейшей --- ['дальнейший']\n",
      "хроническаянедостаточность --- хроническая недостаточность --- ['хроническая недостаточность', 'хронический недостаточность']\n",
      "инфарктмиокарда --- инфаркт миокарда --- ['инфаркт миокарда', 'инфаркт миокард']\n",
      "отузла --- от зла --- ['от узла', 'от узел']\n",
      "нарушениеработы --- нарушение работы --- ['нарушение работы', 'нарушение работа']\n",
      "вминуту --- минуту --- ['в минуту', 'в минута', 'минута']\n",
      "эндокриннойсистемы --- эндокринной системы --- ['эндокринная система', 'эндокринный система']\n",
      "сердечныйритм --- сердечный ритм --- ['сердечный ритм']\n",
      "узловаятахикардия --- узловаятахикардия --- ['узловая тахикардия', 'узловой тахикардия']\n",
      "основныефакторы --- основные факторы --- ['основной факто', 'основные факторы']\n",
      "остановкасердца --- остановка сердца --- ['остановка сердца', 'остановка сердце']\n",
      "фибрилляцияжелудочков --- фибрилляцияжелудочков --- ['фибрилляция желудочков', 'фибрилляция желудочек']\n",
      "счастотой --- частотой --- ['с частотой', 'с частотаб частота']\n",
      "Right corrected words count - 92 of 200 total\n"
     ]
    },
    {
     "name": "stderr",
     "output_type": "stream",
     "text": [
      "100%|██████████| 200/200 [00:00<00:00, 1167.50it/s]"
     ]
    },
    {
     "name": "stdout",
     "output_type": "stream",
     "text": [
      "Lexical precision\n",
      "original_word_list --- corrected_word\n",
      "выборгский --- выборгский\n",
      "отказываться --- отказываться\n",
      "нитропрепарат --- нит препарат\n",
      "предсердие --- предсердия\n",
      "диссоциация --- диссоциация\n",
      "кольцевой --- кольцевой\n",
      "отрыв --- отрыв\n",
      "вовлечение --- вовлечение\n",
      "мелкопузырчатый --- мелкому зубчатый\n",
      "госпитализировать --- госпитали зимовать\n",
      "фтизиатр --- эти знать\n",
      "проксимальный --- проксимальной\n",
      "приступ --- приступ\n",
      "рецидивировать --- рецидив кровать\n",
      "беспокоить --- беспокоить\n",
      "значимый --- значимый\n",
      "одномоментный --- одном местный\n",
      "течение --- течение\n",
      "постепенной --- постепенной\n",
      "трафика --- графика\n",
      "левый --- левый\n",
      "область --- область\n",
      "окклюзия --- к ключи\n",
      "каждый --- каждый\n",
      "аторвастатина --- автор сталина\n",
      "проникающий --- проникающих\n",
      "слух --- слух\n",
      "отрицательный --- отрицательный\n",
      "заднее --- заднее\n",
      "диафрагмальный --- диафрагма юный\n",
      "физическая --- физическая\n",
      "реваскуляризация --- рева секуляризации\n",
      "очевидный --- очевидный\n",
      "умеренный --- умеренный\n",
      "самостоятельный --- самостоятельный\n",
      "визуализация --- визуализации\n",
      "неселективный --- не селективной\n",
      "септопластика --- сент пластика\n",
      "присутствие --- присутствие\n",
      "соустье --- с устье\n",
      "кировский --- кировский\n",
      "ноющая --- новая\n",
      "постоять --- постоять\n",
      "стенка --- стенка\n",
      "укоротить --- укротить\n",
      "назначить --- назначить\n",
      "госпитализация --- госпитализации\n",
      "возобновление --- возобновление\n",
      "одеть --- одеть\n",
      "охранник --- охранник\n",
      "дексона --- дек она\n",
      "систолический --- исторический\n",
      "верхушечно-перегородочный --- верхушек о перед порядочный\n",
      "расширение --- расширение\n",
      "равнозначный --- равнозначны\n",
      "предприятие --- предприятие\n",
      "ночь --- ночь\n",
      "вредность --- вредность\n",
      "транспортировка --- транспортировка\n",
      "март --- март\n",
      "гипотиазид --- гипотеза и\n",
      "скрытый --- скрытый\n",
      "расстройство --- расстройство\n",
      "ломота --- ломоть\n",
      "подготовить --- подготовить\n",
      "помощь --- помощь\n",
      "большая --- большая\n",
      "эквивалент --- эквивалент\n",
      "гемостатический --- гем статический\n",
      "купировавшийся --- купил родившийся\n",
      "ревизия --- ревизия\n",
      "пульсирующий --- пуль верующий\n",
      "регистрироваться --- регистрировать я\n",
      "лимитирование --- ли цитирование\n",
      "ометать --- метать\n",
      "стихание --- стирание\n",
      "вазопрессорный --- вазы просторный\n",
      "тредмил --- бредил\n",
      "тест --- тест\n",
      "гипопноэ --- и полной\n",
      "наш --- наш\n",
      "ускоренный --- ускоренный\n",
      "эфффект --- эффект\n",
      "тромбофлебит --- громко лежит\n",
      "ишемический --- ишемической\n",
      "купирование --- копирование\n",
      "патологии --- патологии\n",
      "длительный --- длительный\n",
      "заключение --- заключение\n",
      "пунктировать --- пункт пировать\n",
      "ферритина --- феррит на\n",
      "гастропротективный --- часто продуктивный\n",
      "пароксизм --- марксизм\n",
      "выполнять --- выполнять\n",
      "показатель --- показатель\n",
      "посттромбофлебитический --- посттромбофлебитический\n",
      "анальгин --- аналогии\n",
      "корректировать --- корректировать\n",
      "секунда --- секунда\n",
      "креатинкиназа --- крестик канала\n",
      "утолщение --- утолщение\n",
      "терапия --- терапия\n",
      "глибомёт --- грибом и\n",
      "лобэктомия --- лоб экономия\n",
      "новгородский --- новгородский\n",
      "владеть --- владеть\n",
      "тенденция --- тенденция\n",
      "мерить --- мерить\n",
      "поражений --- поражений\n",
      "перекосить --- переносить\n",
      "тропонин --- топоним\n",
      "сдвиг --- сдвиг\n",
      "отправить --- отправить\n",
      "сжимающее --- сжимающих\n",
      "давящий --- дающий\n",
      "нифедипин --- ниже диких\n",
      "мексикор --- мексики\n",
      "сад --- сад\n",
      "мезентериальный --- без материальный\n",
      "дальнейшей --- дальнейшей\n",
      "реабилитация --- реабилитация\n",
      "переносить --- переносить\n",
      "дискомфорт --- диском форт\n",
      "проявление --- проявление\n",
      "батарея --- батарея\n",
      "фермент --- фермент\n",
      "затёк --- затем\n",
      "непроизвольный --- не произвольный\n",
      "слепок --- слепок\n",
      "тенорик --- тенор к\n",
      "сегмента --- сегмента\n",
      "дрожь --- дрожь\n",
      "появляется --- появляется\n",
      "гепарина --- гепарина\n",
      "предсердие --- предсердия\n",
      "диурез --- и рез\n",
      "фиксировать --- фиксировать\n",
      "временной --- временной\n",
      "микропрепарат --- мир препарат\n",
      "аторвастатин --- автор кстати\n",
      "гипотензия --- гипотезы и\n",
      "грудь --- грудь\n",
      "инфаркт --- инфаркт\n",
      "мононуклеары --- можно нуклеусы\n",
      "постоянно --- постоянно\n",
      "погрузка --- погрузка\n",
      "фармакологический --- фармакологических\n",
      "нестабильный --- нестабильных\n",
      "мертенил --- мер тени\n",
      "тахикардий --- так армий\n",
      "снимать --- снимать\n",
      "распространиться --- распространиться\n",
      "контрпульсатор --- контур пульсаров\n",
      "соталол --- сожалел\n",
      "складываться --- складываться\n",
      "кардиомегалия --- каждом калия\n",
      "смесь --- смесь\n",
      "мкг --- мкг\n",
      "похожий --- похожий\n",
      "аутовенозный --- актов новый\n",
      "гепатина --- гепатита\n",
      "рецидивировать --- рецидив кровать\n",
      "асцит --- акций\n",
      "стенокардия --- стенок армия\n",
      "тысяча --- тысяча\n",
      "промежуточный --- промежуточный\n",
      "возможный --- возможный\n",
      "водка --- водка\n",
      "лимфодиссекция --- лимфы дирекция\n",
      "принимать --- принимать\n",
      "стентирование --- тестирование\n",
      "незначимый --- не значимый\n",
      "настоящее --- настоящее\n",
      "задненижний --- зад нижний\n",
      "частичный --- частичный\n",
      "появиться --- появиться\n",
      "тройной --- тройной\n",
      "показатель --- показатель\n",
      "эквивалент --- эквивалент\n",
      "утолстить --- отомстить\n",
      "поведение --- поведение\n",
      "аускультативный --- мускулы активный\n",
      "отказаться --- отказаться\n",
      "рассмотреть --- рассмотреть\n",
      "сывороточный --- створ точный\n",
      "формирующийся --- формирующихся\n",
      "жир --- жир\n",
      "карведилол --- кара единой\n",
      "тонкий --- тонкий\n",
      "единица --- единица\n",
      "срабатывать --- обрабатывать\n",
      "компрометация --- котором станция\n",
      "россия --- россия\n",
      "массив --- массив\n",
      "нижнебоковой --- нижне боковой\n",
      "отечь --- отеч\n",
      "трепетание --- трепетали\n",
      "конкурировать --- конкурировать\n",
      "событие --- событие\n",
      "незначительный --- незначительный\n",
      "Right corrected words count - 108 of 200 total\n"
     ]
    },
    {
     "name": "stderr",
     "output_type": "stream",
     "text": [
      "\n"
     ]
    },
    {
     "data": {
      "text/plain": "{'words_per_minute': 53118.4265724856,\n 'error_precision': 0.46,\n 'lexical_precision': 0.54}"
     },
     "execution_count": 113,
     "metadata": {},
     "output_type": "execute_result"
    }
   ],
   "source": [
    "test_symspell_py_lookup_compound_result = compute_all_metrics(\n",
    "    lambda : test_symspell_py_lookup_compound(basic_frequency_dict, error_precision_test_word_list),\n",
    "    lambda : test_symspell_py_lookup_compound(basic_frequency_dict, lexical_precision_test_word_list),\n",
    "    error_precision_test_word_list, error_precision_test_answers, lexical_precision_test_word_list)\n",
    "test_symspell_py_lookup_compound_result"
   ]
  },
  {
   "cell_type": "markdown",
   "source": [
    "# Test SymSpellCppPy - https://github.com/viig99/SymSpellCppPy"
   ],
   "metadata": {
    "collapsed": false
   }
  },
  {
   "cell_type": "code",
   "execution_count": 114,
   "outputs": [
    {
     "name": "stdout",
     "output_type": "stream",
     "text": [
      "Requirement already satisfied: wheel in /home/Dmitry.Pogrebnoy/Desktop/MedSpellChecker/venv/lib/python3.9/site-packages (0.36.2)\r\n",
      "Requirement already satisfied: setuptools in /home/Dmitry.Pogrebnoy/Desktop/MedSpellChecker/venv/lib/python3.9/site-packages (57.0.0)\r\n"
     ]
    }
   ],
   "source": [
    "!pip install wheel setuptools"
   ],
   "metadata": {
    "collapsed": false,
    "pycharm": {
     "name": "#%%\n"
    }
   }
  },
  {
   "cell_type": "code",
   "execution_count": 115,
   "outputs": [
    {
     "name": "stdout",
     "output_type": "stream",
     "text": [
      "Collecting SymSpellCppPy\r\n",
      "  Using cached SymSpellCppPy-0.0.14.tar.gz (5.4 MB)\r\n",
      "  Preparing metadata (setup.py) ... \u001B[?25ldone\r\n",
      "\u001B[?25hBuilding wheels for collected packages: SymSpellCppPy\r\n",
      "  Building wheel for SymSpellCppPy (setup.py) ... \u001B[?25lerror\r\n",
      "\u001B[31m  ERROR: Command errored out with exit status 1:\r\n",
      "   command: /home/Dmitry.Pogrebnoy/Desktop/MedSpellChecker/venv/bin/python -u -c 'import io, os, sys, setuptools, tokenize; sys.argv[0] = '\"'\"'/tmp/pip-install-_njs248g/symspellcpppy_959f16e1e50d4ccf8c3bf01c454b37c2/setup.py'\"'\"'; __file__='\"'\"'/tmp/pip-install-_njs248g/symspellcpppy_959f16e1e50d4ccf8c3bf01c454b37c2/setup.py'\"'\"';f = getattr(tokenize, '\"'\"'open'\"'\"', open)(__file__) if os.path.exists(__file__) else io.StringIO('\"'\"'from setuptools import setup; setup()'\"'\"');code = f.read().replace('\"'\"'\\r\\n'\"'\"', '\"'\"'\\n'\"'\"');f.close();exec(compile(code, __file__, '\"'\"'exec'\"'\"'))' bdist_wheel -d /tmp/pip-wheel-5k08eeqt\r\n",
      "       cwd: /tmp/pip-install-_njs248g/symspellcpppy_959f16e1e50d4ccf8c3bf01c454b37c2/\r\n",
      "  Complete output (45 lines):\r\n",
      "  running bdist_wheel\r\n",
      "  running build\r\n",
      "  running build_ext\r\n",
      "  Traceback (most recent call last):\r\n",
      "    File \"/tmp/pip-install-_njs248g/symspellcpppy_959f16e1e50d4ccf8c3bf01c454b37c2/setup.py\", line 29, in run\r\n",
      "      out = subprocess.check_output(['cmake', '--version'])\r\n",
      "    File \"/usr/lib/python3.9/subprocess.py\", line 424, in check_output\r\n",
      "      return run(*popenargs, stdout=PIPE, timeout=timeout, check=True,\r\n",
      "    File \"/usr/lib/python3.9/subprocess.py\", line 505, in run\r\n",
      "      with Popen(*popenargs, **kwargs) as process:\r\n",
      "    File \"/usr/lib/python3.9/subprocess.py\", line 951, in __init__\r\n",
      "      self._execute_child(args, executable, preexec_fn, close_fds,\r\n",
      "    File \"/usr/lib/python3.9/subprocess.py\", line 1821, in _execute_child\r\n",
      "      raise child_exception_type(errno_num, err_msg, err_filename)\r\n",
      "  FileNotFoundError: [Errno 2] No such file or directory: 'cmake'\r\n",
      "  \r\n",
      "  During handling of the above exception, another exception occurred:\r\n",
      "  \r\n",
      "  Traceback (most recent call last):\r\n",
      "    File \"<string>\", line 1, in <module>\r\n",
      "    File \"/tmp/pip-install-_njs248g/symspellcpppy_959f16e1e50d4ccf8c3bf01c454b37c2/setup.py\", line 79, in <module>\r\n",
      "      setup(\r\n",
      "    File \"/home/Dmitry.Pogrebnoy/Desktop/MedSpellChecker/venv/lib/python3.9/site-packages/setuptools/__init__.py\", line 153, in setup\r\n",
      "      return distutils.core.setup(**attrs)\r\n",
      "    File \"/usr/lib/python3.9/distutils/core.py\", line 148, in setup\r\n",
      "      dist.run_commands()\r\n",
      "    File \"/usr/lib/python3.9/distutils/dist.py\", line 966, in run_commands\r\n",
      "      self.run_command(cmd)\r\n",
      "    File \"/usr/lib/python3.9/distutils/dist.py\", line 985, in run_command\r\n",
      "      cmd_obj.run()\r\n",
      "    File \"/home/Dmitry.Pogrebnoy/Desktop/MedSpellChecker/venv/lib/python3.9/site-packages/wheel/bdist_wheel.py\", line 299, in run\r\n",
      "      self.run_command('build')\r\n",
      "    File \"/usr/lib/python3.9/distutils/cmd.py\", line 313, in run_command\r\n",
      "      self.distribution.run_command(command)\r\n",
      "    File \"/usr/lib/python3.9/distutils/dist.py\", line 985, in run_command\r\n",
      "      cmd_obj.run()\r\n",
      "    File \"/usr/lib/python3.9/distutils/command/build.py\", line 135, in run\r\n",
      "      self.run_command(cmd_name)\r\n",
      "    File \"/usr/lib/python3.9/distutils/cmd.py\", line 313, in run_command\r\n",
      "      self.distribution.run_command(command)\r\n",
      "    File \"/usr/lib/python3.9/distutils/dist.py\", line 985, in run_command\r\n",
      "      cmd_obj.run()\r\n",
      "    File \"/tmp/pip-install-_njs248g/symspellcpppy_959f16e1e50d4ccf8c3bf01c454b37c2/setup.py\", line 31, in run\r\n",
      "      raise RuntimeError(\"CMake must be installed to build the following extensions: \" +\r\n",
      "  RuntimeError: CMake must be installed to build the following extensions: SymSpellCppPy\r\n",
      "  ----------------------------------------\u001B[0m\r\n",
      "\u001B[31m  ERROR: Failed building wheel for SymSpellCppPy\u001B[0m\r\n",
      "\u001B[?25h  Running setup.py clean for SymSpellCppPy\r\n",
      "Failed to build SymSpellCppPy\r\n",
      "Installing collected packages: SymSpellCppPy\r\n",
      "    Running setup.py install for SymSpellCppPy ... \u001B[?25lerror\r\n",
      "\u001B[31m    ERROR: Command errored out with exit status 1:\r\n",
      "     command: /home/Dmitry.Pogrebnoy/Desktop/MedSpellChecker/venv/bin/python -u -c 'import io, os, sys, setuptools, tokenize; sys.argv[0] = '\"'\"'/tmp/pip-install-_njs248g/symspellcpppy_959f16e1e50d4ccf8c3bf01c454b37c2/setup.py'\"'\"'; __file__='\"'\"'/tmp/pip-install-_njs248g/symspellcpppy_959f16e1e50d4ccf8c3bf01c454b37c2/setup.py'\"'\"';f = getattr(tokenize, '\"'\"'open'\"'\"', open)(__file__) if os.path.exists(__file__) else io.StringIO('\"'\"'from setuptools import setup; setup()'\"'\"');code = f.read().replace('\"'\"'\\r\\n'\"'\"', '\"'\"'\\n'\"'\"');f.close();exec(compile(code, __file__, '\"'\"'exec'\"'\"'))' install --record /tmp/pip-record-ao17zh_n/install-record.txt --single-version-externally-managed --compile --install-headers /home/Dmitry.Pogrebnoy/Desktop/MedSpellChecker/venv/include/site/python3.9/SymSpellCppPy\r\n",
      "         cwd: /tmp/pip-install-_njs248g/symspellcpppy_959f16e1e50d4ccf8c3bf01c454b37c2/\r\n",
      "    Complete output (47 lines):\r\n",
      "    running install\r\n",
      "    running build\r\n",
      "    running build_ext\r\n",
      "    Traceback (most recent call last):\r\n",
      "      File \"/tmp/pip-install-_njs248g/symspellcpppy_959f16e1e50d4ccf8c3bf01c454b37c2/setup.py\", line 29, in run\r\n",
      "        out = subprocess.check_output(['cmake', '--version'])\r\n",
      "      File \"/usr/lib/python3.9/subprocess.py\", line 424, in check_output\r\n",
      "        return run(*popenargs, stdout=PIPE, timeout=timeout, check=True,\r\n",
      "      File \"/usr/lib/python3.9/subprocess.py\", line 505, in run\r\n",
      "        with Popen(*popenargs, **kwargs) as process:\r\n",
      "      File \"/usr/lib/python3.9/subprocess.py\", line 951, in __init__\r\n",
      "        self._execute_child(args, executable, preexec_fn, close_fds,\r\n",
      "      File \"/usr/lib/python3.9/subprocess.py\", line 1821, in _execute_child\r\n",
      "        raise child_exception_type(errno_num, err_msg, err_filename)\r\n",
      "    FileNotFoundError: [Errno 2] No such file or directory: 'cmake'\r\n",
      "    \r\n",
      "    During handling of the above exception, another exception occurred:\r\n",
      "    \r\n",
      "    Traceback (most recent call last):\r\n",
      "      File \"<string>\", line 1, in <module>\r\n",
      "      File \"/tmp/pip-install-_njs248g/symspellcpppy_959f16e1e50d4ccf8c3bf01c454b37c2/setup.py\", line 79, in <module>\r\n",
      "        setup(\r\n",
      "      File \"/home/Dmitry.Pogrebnoy/Desktop/MedSpellChecker/venv/lib/python3.9/site-packages/setuptools/__init__.py\", line 153, in setup\r\n",
      "        return distutils.core.setup(**attrs)\r\n",
      "      File \"/usr/lib/python3.9/distutils/core.py\", line 148, in setup\r\n",
      "        dist.run_commands()\r\n",
      "      File \"/usr/lib/python3.9/distutils/dist.py\", line 966, in run_commands\r\n",
      "        self.run_command(cmd)\r\n",
      "      File \"/usr/lib/python3.9/distutils/dist.py\", line 985, in run_command\r\n",
      "        cmd_obj.run()\r\n",
      "      File \"/home/Dmitry.Pogrebnoy/Desktop/MedSpellChecker/venv/lib/python3.9/site-packages/setuptools/command/install.py\", line 61, in run\r\n",
      "        return orig.install.run(self)\r\n",
      "      File \"/usr/lib/python3.9/distutils/command/install.py\", line 590, in run\r\n",
      "        self.run_command('build')\r\n",
      "      File \"/usr/lib/python3.9/distutils/cmd.py\", line 313, in run_command\r\n",
      "        self.distribution.run_command(command)\r\n",
      "      File \"/usr/lib/python3.9/distutils/dist.py\", line 985, in run_command\r\n",
      "        cmd_obj.run()\r\n",
      "      File \"/usr/lib/python3.9/distutils/command/build.py\", line 135, in run\r\n",
      "        self.run_command(cmd_name)\r\n",
      "      File \"/usr/lib/python3.9/distutils/cmd.py\", line 313, in run_command\r\n",
      "        self.distribution.run_command(command)\r\n",
      "      File \"/usr/lib/python3.9/distutils/dist.py\", line 985, in run_command\r\n",
      "        cmd_obj.run()\r\n",
      "      File \"/tmp/pip-install-_njs248g/symspellcpppy_959f16e1e50d4ccf8c3bf01c454b37c2/setup.py\", line 31, in run\r\n",
      "        raise RuntimeError(\"CMake must be installed to build the following extensions: \" +\r\n",
      "    RuntimeError: CMake must be installed to build the following extensions: SymSpellCppPy\r\n",
      "    ----------------------------------------\u001B[0m\r\n",
      "\u001B[31mERROR: Command errored out with exit status 1: /home/Dmitry.Pogrebnoy/Desktop/MedSpellChecker/venv/bin/python -u -c 'import io, os, sys, setuptools, tokenize; sys.argv[0] = '\"'\"'/tmp/pip-install-_njs248g/symspellcpppy_959f16e1e50d4ccf8c3bf01c454b37c2/setup.py'\"'\"'; __file__='\"'\"'/tmp/pip-install-_njs248g/symspellcpppy_959f16e1e50d4ccf8c3bf01c454b37c2/setup.py'\"'\"';f = getattr(tokenize, '\"'\"'open'\"'\"', open)(__file__) if os.path.exists(__file__) else io.StringIO('\"'\"'from setuptools import setup; setup()'\"'\"');code = f.read().replace('\"'\"'\\r\\n'\"'\"', '\"'\"'\\n'\"'\"');f.close();exec(compile(code, __file__, '\"'\"'exec'\"'\"'))' install --record /tmp/pip-record-ao17zh_n/install-record.txt --single-version-externally-managed --compile --install-headers /home/Dmitry.Pogrebnoy/Desktop/MedSpellChecker/venv/include/site/python3.9/SymSpellCppPy Check the logs for full command output.\u001B[0m\r\n",
      "\u001B[?25h"
     ]
    }
   ],
   "source": [
    "!pip install --upgrade SymSpellCppPy"
   ],
   "metadata": {
    "collapsed": false,
    "pycharm": {
     "name": "#%%\n"
    }
   }
  },
  {
   "cell_type": "markdown",
   "source": [
    "There was a problem with installing the package. It is still unclear what the reason is. However, this spellchecker should not provide more accuracy, only higher speed since it is implemented in C++. However, the speed of the Python implementation is still enough at this stage.  So I decided to leave it here for now and come back if there is a need for more speed."
   ],
   "metadata": {
    "collapsed": false
   }
  },
  {
   "cell_type": "markdown",
   "source": [
    "# Test JumSpell - https://github.com/bakwc/JamSpell"
   ],
   "metadata": {
    "collapsed": false
   }
  },
  {
   "cell_type": "markdown",
   "source": [
    "#### Attention No Windows 10 support!"
   ],
   "metadata": {
    "collapsed": false
   }
  },
  {
   "cell_type": "markdown",
   "source": [
    "Not working with compound words"
   ],
   "metadata": {
    "collapsed": false
   }
  },
  {
   "cell_type": "code",
   "execution_count": 116,
   "outputs": [
    {
     "name": "stdout",
     "output_type": "stream",
     "text": [
      "Collecting jamspell\r\n",
      "  Downloading jamspell-0.0.12.tar.gz (174 kB)\r\n",
      "     |████████████████████████████████| 174 kB 515 kB/s            \r\n",
      "\u001B[?25h  Preparing metadata (setup.py) ... \u001B[?25ldone\r\n",
      "\u001B[?25hBuilding wheels for collected packages: jamspell\r\n",
      "  Building wheel for jamspell (setup.py) ... \u001B[?25ldone\r\n",
      "\u001B[?25h  Created wheel for jamspell: filename=jamspell-0.0.12-cp39-cp39-linux_x86_64.whl size=1901048 sha256=4f2a7cff81759b0a70c8c4b28f97631c445b7c141579cfd763f1f0948ab9557c\r\n",
      "  Stored in directory: /tmp/pip-ephem-wheel-cache-hr1cvfpd/wheels/fa/7e/8f/c23ae02f1556243d33cc2e3bddf98f8cc146e174e5855788b6\r\n",
      "Successfully built jamspell\r\n",
      "Installing collected packages: jamspell\r\n",
      "Successfully installed jamspell-0.0.12\r\n"
     ]
    }
   ],
   "source": [
    "!pip install -I --no-cache-dir jamspell"
   ],
   "metadata": {
    "collapsed": false,
    "pycharm": {
     "name": "#%%\n"
    }
   }
  },
  {
   "cell_type": "code",
   "execution_count": 117,
   "outputs": [
    {
     "name": "stdout",
     "output_type": "stream",
     "text": [
      "Name: jamspell\r\n",
      "Version: 0.0.12\r\n",
      "Summary: spell checker\r\n",
      "Home-page: https://github.com/bakwc/JamSpell\r\n",
      "Author: Filipp Ozinov\r\n",
      "Author-email: fippo@mail.ru\r\n",
      "License: UNKNOWN\r\n",
      "Location: /home/Dmitry.Pogrebnoy/Desktop/MedSpellChecker/venv/lib/python3.9/site-packages\r\n",
      "Requires: \r\n",
      "Required-by: \r\n"
     ]
    }
   ],
   "source": [
    "!pip show jamspell"
   ],
   "metadata": {
    "collapsed": false,
    "pycharm": {
     "name": "#%%\n"
    }
   }
  },
  {
   "cell_type": "code",
   "execution_count": 118,
   "outputs": [],
   "source": [
    "from jamspell import TSpellCorrector\n",
    "jumspell_model_lib = \"../data/junspell/ru_small.bin\""
   ],
   "metadata": {
    "collapsed": false,
    "pycharm": {
     "name": "#%%\n"
    }
   }
  },
  {
   "cell_type": "code",
   "execution_count": 119,
   "outputs": [],
   "source": [
    "def test_jumspell(jumspell_model_lib, input_word_list):\n",
    "    jumspell = TSpellCorrector()\n",
    "    jumspell.LoadLangModel(jumspell_model_lib)\n",
    "\n",
    "    result = []\n",
    "    timer = tqdm(input_word_list)\n",
    "    for word in timer:\n",
    "        suggestions = jumspell.FixFragment(word)\n",
    "        result.append(suggestions)\n",
    "    return  {\"elapsed\" : timer.format_dict[\"elapsed\"], \"corrected_word_list\" : result}"
   ],
   "metadata": {
    "collapsed": false,
    "pycharm": {
     "name": "#%%\n"
    }
   }
  },
  {
   "cell_type": "code",
   "execution_count": 120,
   "outputs": [
    {
     "name": "stderr",
     "output_type": "stream",
     "text": [
      "100%|██████████| 200/200 [00:00<00:00, 1408.16it/s]\n"
     ]
    },
    {
     "name": "stdout",
     "output_type": "stream",
     "text": [
      "Error precision\n",
      "original_word_list --- corrected_word --- answer_word_list\n",
      "эктренном --- экстренном --- ['экстренном']\n",
      "синусовго --- синусовго --- ['синусового']\n",
      "даным --- даным --- ['данным', 'данный', 'данные']\n",
      "шнутография --- шнутография --- ['шунтография']\n",
      "сникопальных --- сникопальных --- ['синкопальных']\n",
      "посление --- последние --- ['поселение', 'последний']\n",
      "ходавый --- ходовой --- ['ходовый']\n",
      "анмнезе --- анмнезе --- ['анамнезе', 'анамнез']\n",
      "сентированный --- сентированный --- ['стентированный']\n",
      "самоч --- самом --- ['самочувствие']\n",
      "перевдена --- переведена --- ['переведена']\n",
      "стентированеим --- стентированеим --- ['стентированием', 'стентирование']\n",
      "кардиол --- кардинал --- ['кардиолог,кардиологический']\n",
      "переведна --- переведена --- ['переведена']\n",
      "догосптальном --- догосптальном --- ['догоспитальном']\n",
      "миним --- мини --- ['минимум', 'минимальный']\n",
      "субфебриллитет --- субфебриллитет --- ['субфебрилитет']\n",
      "загрудиные --- загрудиные --- ['загрудинные', 'загрудинный']\n",
      "перферия --- периферия --- ['периферия']\n",
      "течени --- течени --- ['течение']\n",
      "оклюзия --- иллюзия --- ['окклюзия']\n",
      "жнщина --- женщина --- ['женщина']\n",
      "пциент --- пациент --- ['пациент']\n",
      "зарегистирована --- зарегистрирована --- ['зарегистрирована']\n",
      "сегмета --- сегмента --- ['сегмента']\n",
      "клекте --- клетке --- ['клетке']\n",
      "эпид --- спид --- ['эпидемия', 'эпидемиологический', 'эпидуральный']\n",
      "интелектуально --- интелектуально --- ['интеллектуально']\n",
      "нижн --- ниже --- ['нижний']\n",
      "прводилась --- проводилась --- ['проводилась', 'проводить']\n",
      "неуст --- несут --- ['неустановленный']\n",
      "госптализирован --- госпитализирован --- ['госпитализирован']\n",
      "вперые --- впервые --- ['впервые']\n",
      "послеоперационом --- послеоперационом --- ['послеоперационном']\n",
      "госпитализирова --- госпитализирован --- ['госпитализирован']\n",
      "ухудщение --- ухудшение --- ['ухудшение']\n",
      "рентг --- ренты --- ['рентген']\n",
      "дальнешем --- дальнейшем --- ['дальнейшем']\n",
      "троботическая --- троботическая --- ['тромботическая']\n",
      "многосоудистое --- многосоудистое --- ['многососудистое', 'многососудистый']\n",
      "миокрада --- миокарда --- ['миокарда', 'миокард']\n",
      "сопрвождались --- сопровождались --- ['сопровождались']\n",
      "дискмфорт --- дискомфорт --- ['дискомфорт']\n",
      "потлтвостью --- потлтвостью --- ['потливостью']\n",
      "левогожелудочка --- левогожелудочка --- ['левого желудочка', 'левый желудочек']\n",
      "рание --- ранее --- ['ранее', 'ранние']\n",
      "виед --- виде --- ['виде', 'вид']\n",
      "ангинозныеболи --- ангинозныеболи --- ['ангинозные боли', 'ангиозный боль']\n",
      "догоситальном --- догоситальном --- ['догоспитальном']\n",
      "ввполнен --- выполнен --- ['выполнен']\n",
      "чаосв --- часов --- ['часов']\n",
      "октазалась --- оказалась --- ['отказалась']\n",
      "линика --- клиника --- ['клиника']\n",
      "ммента --- момента --- ['момента']\n",
      "проведеной --- проведено --- ['проведенной']\n",
      "выполненяи --- выполнения --- ['выполнения', 'выполнение']\n",
      "леченяи --- лечения --- ['лечения', 'лечение']\n",
      "обтилась --- обтилась --- ['обратилась']\n",
      "повтороно --- повторно --- ['повторно']\n",
      "зарегистриованы --- зарегистрированы --- ['зарегистрированы']\n",
      "отицает --- отрицает --- ['отрицает', 'отрицать']\n",
      "дальнейщем --- дальнейшем --- ['дальнейшем']\n",
      "болисохраняются --- болисохраняются --- ['боли сохраняются']\n",
      "частичынм --- частичынм --- ['частичным']\n",
      "атерокслеротичсекая --- атерокслеротичсекая --- ['атеросклеротическая']\n",
      "деньс --- день --- ['день', 'день с']\n",
      "назначаля --- назначал --- ['назначался']\n",
      "проведеняи --- проведения --- ['проведения']\n",
      "беспакоют --- беспокоит --- ['беспокоят']\n",
      "гипертензи --- гипертензи --- ['гипертензия']\n",
      "воленйбол --- волейбол --- ['волейбол']\n",
      "болезн --- болезни --- ['болезнь']\n",
      "стенокардаа --- стенокардии --- ['стенокардия']\n",
      "продолжалсь --- продолжались --- ['продолжалась']\n",
      "поворное --- повторное --- ['повторное']\n",
      "ощуащет --- ощущает --- ['ощущает']\n",
      "ангигнозного --- ангигнозного --- ['ангинозного', 'ангинозный']\n",
      "диагностичекой --- диагностичекой --- ['диагностической', 'диагностический']\n",
      "поддерживающией --- поддерживающие --- ['поддерживающий']\n",
      "межлопаточнй --- межлопаточнй --- ['межлопаточный']\n",
      "бедреной --- бедреной --- ['бедренной', 'бедренный']\n",
      "гшрядки --- гшрядки --- ['грядки']\n",
      "бассеине --- бассейне --- ['бассейне', 'бассейн']\n",
      "возлуха --- воздуха --- ['воздуха', 'воздух']\n",
      "сенября --- сентября --- ['сентября', 'сентябрь']\n",
      "постояная --- постоянная --- ['постоянная', 'постоянный']\n",
      "рекмоендовнао --- рекомендовано --- ['рекомендовано']\n",
      "поврждения --- повреждения --- ['повреждения']\n",
      "дискофморта --- дискофморта --- ['дискомфорт']\n",
      "импалнтирован --- импалнтирован --- ['имплантирован', 'имплантировать']\n",
      "неочетливая --- неочетливая --- ['неотчетливая', 'неотчетливый']\n",
      "обесвеченный --- обесвеченный --- ['обесцвеченный', 'обеспеченный']\n",
      "серце --- серце --- ['сердце']\n",
      "блезнь --- болезнь --- ['болезнь']\n",
      "лергия --- сергия --- ['аллергия']\n",
      "ука --- ука --- ['рука']\n",
      "изжга --- игра --- ['изжога']\n",
      "жение --- жене --- ['жжение']\n",
      "кашел --- нашел --- ['кашель']\n",
      "рствор --- раствор --- ['раствор']\n",
      "пациен --- пациент --- ['пациент']\n",
      "пожлой --- пожилой --- ['пожилой']\n",
      "лекарсво --- лекарство --- ['лекарство']\n",
      "нпреносимость --- нпреносимость --- ['непереносимость']\n",
      "амупула --- амупула --- ['ампула']\n",
      "гел --- дел --- ['гель']\n",
      "конценрат --- конценрат --- ['концентрат']\n",
      "рилиф --- рилиф --- ['релиф']\n",
      "чссс --- чсср --- ['ЧСС', 'чсс']\n",
      "экгъ --- экг --- ['ЭКГ', 'экг']\n",
      "фибриляция --- фибриляция --- ['фибрилляция']\n",
      "желдочек --- желдочек --- ['желудочек']\n",
      "хрон --- хрон --- ['хронический']\n",
      "гиподин --- господин --- ['гиподинамический']\n",
      "нерный --- черный --- ['нервный']\n",
      "сист --- лист --- ['система']\n",
      "диагоностика --- диагностика --- ['диагностика']\n",
      "гипоксмия --- гипоксмия --- ['гипоксемия']\n",
      "ледокоин --- левочкин --- ['лидокаин']\n",
      "блокато --- блока --- ['блокатор']\n",
      "тахкардия --- тахкардия --- ['тахикардия']\n",
      "малоинвозивный --- малоинвозивный --- ['малоинвазивный']\n",
      "алация --- алания --- ['аблация', 'абляция']\n",
      "имь --- им --- ['ИМ', 'им']\n",
      "паражение --- поражение --- ['поражение']\n",
      "тяжолый --- тяжелый --- ['тяжелый']\n",
      "гастрапластика --- гастрапластика --- ['гастропластика']\n",
      "вс --- вс --- ['вес']\n",
      "лешний --- летний --- ['лишний']\n",
      "орта --- орта --- ['аорта']\n",
      "клапа --- клана --- ['клапан']\n",
      "вент --- сент --- ['вена']\n",
      "палый --- малый --- ['полый']\n",
      "пирикард --- рикардо --- ['перикард']\n",
      "метральный --- центральный --- ['митральный']\n",
      "ултразвук --- ултразвук --- ['ультразвук']\n",
      "херург --- хирург --- ['хирург']\n",
      "кордиолог --- кардиолог --- ['кардиолог']\n",
      "килограм --- килограмм --- ['килограмм']\n",
      "акенезия --- маккензи --- ['акинезия']\n",
      "врхушка --- верхушка --- ['верхушка']\n",
      "апекальный --- апекальный --- ['апикальный']\n",
      "сгмент --- сегмент --- ['сегмент']\n",
      "вес --- вес --- ['весь']\n",
      "сьенка --- стенка --- ['стенка']\n",
      "церкулярный --- церкулярный --- ['циркулярный']\n",
      "сридиный --- середины --- ['срединный']\n",
      "калапаный --- клапаны --- ['клапанный']\n",
      "апарат --- аппарат --- ['аппарат']\n",
      "потология --- патология --- ['патология']\n",
      "перекард --- перекрыт --- ['перикард']\n",
      "праксимальный --- максимальный --- ['проксимальный']\n",
      "деаметр --- диаметр --- ['диаметр']\n",
      "корекция --- коррекция --- ['коррекция']\n",
      "аслажнение --- наслаждение --- ['осложнение']\n",
      "стрдать --- страдать --- ['страдать']\n",
      "гепертонический --- гепертонический --- ['гипертонический']\n",
      "болезн --- болезни --- ['болезнь']\n",
      "одоптировать --- адаптировать --- ['адаптировать']\n",
      "получять --- получить --- ['получать']\n",
      "кансервативный --- консервативный --- ['консервативный']\n",
      "тичение --- течение --- ['течение']\n",
      "пребование --- требование --- ['пребывание']\n",
      "отбиление --- отделение --- ['отделение']\n",
      "самачувствие --- самочувствие --- ['самочувствие']\n",
      "уходшение --- ухудшение --- ['ухудшение']\n",
      "месро --- место --- ['место']\n",
      "пункцыя --- пункты --- ['пункция']\n",
      "особеность --- особенность --- ['особенность']\n",
      "шнут --- кнут --- ['шунт']\n",
      "шнутирование --- шнутирование --- ['шунтирование']\n",
      "готчина --- готчина --- ['гатчина']\n",
      "эхэ --- эхо --- ['эхо']\n",
      "каранарный --- карманный --- ['коронарный']\n",
      "ортерия --- ортерия --- ['артерия']\n",
      "сначимый --- значимый --- ['значимый']\n",
      "стинос --- сильно --- ['стеноз']\n",
      "гаспиализировать --- госпитализировать --- ['госпитализировать']\n",
      "имья --- имя --- ['имя']\n",
      "олмазов --- алмазов --- ['алмазов']\n",
      "прдшствовать --- прдшствовать --- ['предшествовать']\n",
      "стинакардия --- стинакардия --- ['стенокардия']\n",
      "пиринести --- принести --- ['перенести']\n",
      "ифаркт --- инфаркт --- ['инфаркт']\n",
      "моикарда --- миокарда --- ['миокарда']\n",
      "лакализация --- локализация --- ['локализация']\n",
      "спразка --- справка --- ['справка']\n",
      "дальнейшый --- дальнейшей --- ['дальнейший']\n",
      "хроническаянедостаточность --- хроническаянедостаточность --- ['хроническая недостаточность', 'хронический недостаточность']\n",
      "инфарктмиокарда --- инфарктмиокарда --- ['инфаркт миокарда', 'инфаркт миокард']\n",
      "отузла --- отузла --- ['от узла', 'от узел']\n",
      "нарушениеработы --- нарушениеработы --- ['нарушение работы', 'нарушение работа']\n",
      "вминуту --- минуту --- ['в минуту', 'в минута', 'минута']\n",
      "эндокриннойсистемы --- эндокриннойсистемы --- ['эндокринная система', 'эндокринный система']\n",
      "сердечныйритм --- сердечныйритм --- ['сердечный ритм']\n",
      "узловаятахикардия --- узловаятахикардия --- ['узловая тахикардия', 'узловой тахикардия']\n",
      "основныефакторы --- основныефакторы --- ['основной факто', 'основные факторы']\n",
      "остановкасердца --- остановкасердца --- ['остановка сердца', 'остановка сердце']\n",
      "фибрилляцияжелудочков --- фибрилляцияжелудочков --- ['фибрилляция желудочков', 'фибрилляция желудочек']\n",
      "счастотой --- частотой --- ['с частотой', 'с частотаб частота']\n",
      "Right corrected words count - 79 of 200 total\n"
     ]
    },
    {
     "name": "stderr",
     "output_type": "stream",
     "text": [
      "100%|██████████| 200/200 [00:00<00:00, 3153.17it/s]"
     ]
    },
    {
     "name": "stdout",
     "output_type": "stream",
     "text": [
      "Lexical precision\n",
      "original_word_list --- corrected_word\n",
      "выборгский --- выборгский\n",
      "отказываться --- отказываться\n",
      "нитропрепарат --- нитропрепарат\n",
      "предсердие --- предсердие\n",
      "диссоциация --- диссоциация\n",
      "кольцевой --- кольцевой\n",
      "отрыв --- отрыв\n",
      "вовлечение --- вовлечение\n",
      "мелкопузырчатый --- мелкопузырчатый\n",
      "госпитализировать --- госпитализировать\n",
      "фтизиатр --- фтизиатр\n",
      "проксимальный --- проксимальный\n",
      "приступ --- приступ\n",
      "рецидивировать --- рецидивировать\n",
      "беспокоить --- беспокоить\n",
      "значимый --- значимый\n",
      "одномоментный --- одномоментный\n",
      "течение --- течение\n",
      "постепенной --- постепенной\n",
      "трафика --- трафика\n",
      "левый --- левый\n",
      "область --- область\n",
      "окклюзия --- окклюзия\n",
      "каждый --- каждый\n",
      "аторвастатина --- аторвастатина\n",
      "проникающий --- проникающий\n",
      "слух --- слух\n",
      "отрицательный --- отрицательный\n",
      "заднее --- заднее\n",
      "диафрагмальный --- диафрагмальный\n",
      "физическая --- физическая\n",
      "реваскуляризация --- реваскуляризация\n",
      "очевидный --- очевидный\n",
      "умеренный --- умеренный\n",
      "самостоятельный --- самостоятельный\n",
      "визуализация --- визуализация\n",
      "неселективный --- неселективный\n",
      "септопластика --- септопластика\n",
      "присутствие --- присутствие\n",
      "соустье --- составе\n",
      "кировский --- кировский\n",
      "ноющая --- ноющая\n",
      "постоять --- постоять\n",
      "стенка --- стенка\n",
      "укоротить --- укоротить\n",
      "назначить --- назначить\n",
      "госпитализация --- госпитализация\n",
      "возобновление --- возобновление\n",
      "одеть --- одеть\n",
      "охранник --- охранник\n",
      "дексона --- джексона\n",
      "систолический --- систолический\n",
      "верхушечно-перегородочный --- верхушечно-перегородочный\n",
      "расширение --- расширение\n",
      "равнозначный --- равнозначный\n",
      "предприятие --- предприятие\n",
      "ночь --- ночь\n",
      "вредность --- вредность\n",
      "транспортировка --- транспортировка\n",
      "март --- март\n",
      "гипотиазид --- гипотиазид\n",
      "скрытый --- скрытый\n",
      "расстройство --- расстройство\n",
      "ломота --- ломота\n",
      "подготовить --- подготовить\n",
      "помощь --- помощь\n",
      "большая --- большая\n",
      "эквивалент --- эквивалент\n",
      "гемостатический --- гемостатический\n",
      "купировавшийся --- купировавшийся\n",
      "ревизия --- ревизия\n",
      "пульсирующий --- пульсирующий\n",
      "регистрироваться --- регистрироваться\n",
      "лимитирование --- лимитирование\n",
      "ометать --- ометать\n",
      "стихание --- стихание\n",
      "вазопрессорный --- вазопрессорный\n",
      "тредмил --- учредил\n",
      "тест --- тест\n",
      "гипопноэ --- гипопноэ\n",
      "наш --- наш\n",
      "ускоренный --- ускоренный\n",
      "эфффект --- эффект\n",
      "тромбофлебит --- тромбофлебит\n",
      "ишемический --- ишемический\n",
      "купирование --- копирование\n",
      "патологии --- патологии\n",
      "длительный --- длительный\n",
      "заключение --- заключение\n",
      "пунктировать --- пунктировать\n",
      "ферритина --- ферритина\n",
      "гастропротективный --- гастропротективный\n",
      "пароксизм --- пароксизм\n",
      "выполнять --- выполнять\n",
      "показатель --- показатель\n",
      "посттромбофлебитический --- посттромбофлебитический\n",
      "анальгин --- анальгин\n",
      "корректировать --- корректировать\n",
      "секунда --- секунда\n",
      "креатинкиназа --- креатинкиназа\n",
      "утолщение --- утолщение\n",
      "терапия --- терапия\n",
      "глибомёт --- глибомёт\n",
      "лобэктомия --- лобэктомия\n",
      "новгородский --- новгородский\n",
      "владеть --- владеть\n",
      "тенденция --- тенденция\n",
      "мерить --- мерить\n",
      "поражений --- поражений\n",
      "перекосить --- переносить\n",
      "тропонин --- топоним\n",
      "сдвиг --- сдвиг\n",
      "отправить --- отправить\n",
      "сжимающее --- сжимающее\n",
      "давящий --- давящий\n",
      "нифедипин --- нифедипин\n",
      "мексикор --- мексико\n",
      "сад --- сад\n",
      "мезентериальный --- мезентериальный\n",
      "дальнейшей --- дальнейшей\n",
      "реабилитация --- реабилитация\n",
      "переносить --- переносить\n",
      "дискомфорт --- дискомфорт\n",
      "проявление --- проявление\n",
      "батарея --- батарея\n",
      "фермент --- фермент\n",
      "затёк --- затёк\n",
      "непроизвольный --- непроизвольный\n",
      "слепок --- слепок\n",
      "тенорик --- вторник\n",
      "сегмента --- сегмента\n",
      "дрожь --- дрожь\n",
      "появляется --- появляется\n",
      "гепарина --- гепарина\n",
      "предсердие --- предсердие\n",
      "диурез --- диурез\n",
      "фиксировать --- фиксировать\n",
      "временной --- временной\n",
      "микропрепарат --- микропрепарат\n",
      "аторвастатин --- аторвастатин\n",
      "гипотензия --- гипотензия\n",
      "грудь --- грудь\n",
      "инфаркт --- инфаркт\n",
      "мононуклеары --- мононуклеары\n",
      "постоянно --- постоянно\n",
      "погрузка --- погрузка\n",
      "фармакологический --- фармакологический\n",
      "нестабильный --- нестабильный\n",
      "мертенил --- смертник\n",
      "тахикардий --- тахикардий\n",
      "снимать --- снимать\n",
      "распространиться --- распространиться\n",
      "контрпульсатор --- контрпульсатор\n",
      "соталол --- стало\n",
      "складываться --- складываться\n",
      "кардиомегалия --- кардиомегалия\n",
      "смесь --- смесь\n",
      "мкг --- мкг\n",
      "похожий --- похожий\n",
      "аутовенозный --- аутовенозный\n",
      "гепатина --- гепатита\n",
      "рецидивировать --- рецидивировать\n",
      "асцит --- асцит\n",
      "стенокардия --- стенокардия\n",
      "тысяча --- тысяча\n",
      "промежуточный --- промежуточный\n",
      "возможный --- возможный\n",
      "водка --- водка\n",
      "лимфодиссекция --- лимфодиссекция\n",
      "принимать --- принимать\n",
      "стентирование --- стентирование\n",
      "незначимый --- значимый\n",
      "настоящее --- настоящее\n",
      "задненижний --- задненижний\n",
      "частичный --- частичный\n",
      "появиться --- появиться\n",
      "тройной --- тройной\n",
      "показатель --- показатель\n",
      "эквивалент --- эквивалент\n",
      "утолстить --- отомстить\n",
      "поведение --- поведение\n",
      "аускультативный --- аускультативный\n",
      "отказаться --- отказаться\n",
      "рассмотреть --- рассмотреть\n",
      "сывороточный --- сывороточный\n",
      "формирующийся --- формирующийся\n",
      "жир --- жир\n",
      "карведилол --- карведилол\n",
      "тонкий --- тонкий\n",
      "единица --- единица\n",
      "срабатывать --- срабатывать\n",
      "компрометация --- компрометация\n",
      "россия --- россия\n",
      "массив --- массив\n",
      "нижнебоковой --- нижнебоковой\n",
      "отечь --- отель\n",
      "трепетание --- трепетание\n",
      "конкурировать --- конкурировать\n",
      "событие --- событие\n",
      "незначительный --- незначительный\n",
      "Right corrected words count - 185 of 200 total\n"
     ]
    },
    {
     "name": "stderr",
     "output_type": "stream",
     "text": [
      "\n"
     ]
    },
    {
     "data": {
      "text/plain": "{'words_per_minute': 116115.21167896684,\n 'error_precision': 0.395,\n 'lexical_precision': 0.925}"
     },
     "execution_count": 120,
     "metadata": {},
     "output_type": "execute_result"
    }
   ],
   "source": [
    "test_jumspell_result = compute_all_metrics(\n",
    "    lambda : test_jumspell(jumspell_model_lib, error_precision_test_word_list),\n",
    "    lambda : test_jumspell(jumspell_model_lib, lexical_precision_test_word_list),\n",
    "    error_precision_test_word_list, error_precision_test_answers, lexical_precision_test_word_list)\n",
    "test_jumspell_result"
   ],
   "metadata": {
    "collapsed": false,
    "pycharm": {
     "name": "#%%\n"
    }
   }
  },
  {
   "cell_type": "markdown",
   "source": [
    "# Test Language-tool (language-tool-python) - https://github.com/jxmorris12/language_tool_python"
   ],
   "metadata": {
    "collapsed": false
   }
  },
  {
   "cell_type": "code",
   "execution_count": 121,
   "outputs": [
    {
     "name": "stdout",
     "output_type": "stream",
     "text": [
      "Requirement already satisfied: language-tool-python in /home/Dmitry.Pogrebnoy/Desktop/MedSpellChecker/venv/lib/python3.9/site-packages (2.6.2)\r\n",
      "Requirement already satisfied: requests in /home/Dmitry.Pogrebnoy/Desktop/MedSpellChecker/venv/lib/python3.9/site-packages (from language-tool-python) (2.26.0)\r\n",
      "Requirement already satisfied: tqdm in /home/Dmitry.Pogrebnoy/Desktop/MedSpellChecker/venv/lib/python3.9/site-packages (from language-tool-python) (4.62.3)\r\n",
      "Requirement already satisfied: charset-normalizer~=2.0.0 in /home/Dmitry.Pogrebnoy/Desktop/MedSpellChecker/venv/lib/python3.9/site-packages (from requests->language-tool-python) (2.0.9)\r\n",
      "Requirement already satisfied: idna<4,>=2.5 in /home/Dmitry.Pogrebnoy/Desktop/MedSpellChecker/venv/lib/python3.9/site-packages (from requests->language-tool-python) (3.3)\r\n",
      "Requirement already satisfied: urllib3<1.27,>=1.21.1 in /home/Dmitry.Pogrebnoy/Desktop/MedSpellChecker/venv/lib/python3.9/site-packages (from requests->language-tool-python) (1.26.7)\r\n",
      "Requirement already satisfied: certifi>=2017.4.17 in /home/Dmitry.Pogrebnoy/Desktop/MedSpellChecker/venv/lib/python3.9/site-packages (from requests->language-tool-python) (2021.10.8)\r\n"
     ]
    }
   ],
   "source": [
    "!pip install language-tool-python"
   ],
   "metadata": {
    "collapsed": false,
    "pycharm": {
     "name": "#%%\n"
    }
   }
  },
  {
   "cell_type": "code",
   "execution_count": 122,
   "outputs": [
    {
     "name": "stdout",
     "output_type": "stream",
     "text": [
      "Name: language-tool-python\r\n",
      "Version: 2.6.2\r\n",
      "Summary: Checks grammar using LanguageTool.\r\n",
      "Home-page: https://github.com/jxmorris12/language_tool_python\r\n",
      "Author: Jack Morris\r\n",
      "Author-email: jxmorris12@gmail.com\r\n",
      "License: GNU GPL\r\n",
      "Location: /home/Dmitry.Pogrebnoy/Desktop/MedSpellChecker/venv/lib/python3.9/site-packages\r\n",
      "Requires: requests, tqdm\r\n",
      "Required-by: \r\n"
     ]
    }
   ],
   "source": [
    "!pip show language-tool-python"
   ],
   "metadata": {
    "collapsed": false,
    "pycharm": {
     "name": "#%%\n"
    }
   }
  },
  {
   "cell_type": "code",
   "execution_count": 123,
   "outputs": [],
   "source": [
    "from language_tool_python import LanguageTool"
   ],
   "metadata": {
    "collapsed": false,
    "pycharm": {
     "name": "#%%\n"
    }
   }
  },
  {
   "cell_type": "code",
   "execution_count": 124,
   "outputs": [],
   "source": [
    "def test_language_tool(input_word_list):\n",
    "    tool = LanguageTool('ru')\n",
    "    result = []\n",
    "    timer = tqdm(input_word_list)\n",
    "    for word in timer:\n",
    "        suggestions = tool.correct(word)\n",
    "        result.append(suggestions)\n",
    "    return  {\"elapsed\" : timer.format_dict[\"elapsed\"], \"corrected_word_list\" : result}"
   ],
   "metadata": {
    "collapsed": false,
    "pycharm": {
     "name": "#%%\n"
    }
   }
  },
  {
   "cell_type": "code",
   "execution_count": 125,
   "outputs": [
    {
     "name": "stderr",
     "output_type": "stream",
     "text": [
      "100%|██████████| 200/200 [00:13<00:00, 15.02it/s]\n"
     ]
    },
    {
     "name": "stdout",
     "output_type": "stream",
     "text": [
      "Error precision\n",
      "original_word_list --- corrected_word --- answer_word_list\n",
      "эктренном --- экстренном --- ['экстренном']\n",
      "синусовго --- синусового --- ['синусового']\n",
      "даным --- данным --- ['данным', 'данный', 'данные']\n",
      "шнутография --- фотография --- ['шунтография']\n",
      "сникопальных --- сник опальных --- ['синкопальных']\n",
      "посление --- послание --- ['поселение', 'последний']\n",
      "ходавый --- ходовой --- ['ходовый']\n",
      "анмнезе --- анамнезе --- ['анамнезе', 'анамнез']\n",
      "сентированный --- сен тированный --- ['стентированный']\n",
      "самоч --- само --- ['самочувствие']\n",
      "перевдена --- передвину --- ['переведена']\n",
      "стентированеим --- агентированием --- ['стентированием', 'стентирование']\n",
      "кардиол --- кардио --- ['кардиолог,кардиологический']\n",
      "переведна --- переведена --- ['переведена']\n",
      "догосптальном --- догоспитальном --- ['догоспитальном']\n",
      "миним --- менем --- ['минимум', 'минимальный']\n",
      "субфебриллитет --- субфебрилитет --- ['субфебрилитет']\n",
      "загрудиные --- загруженные --- ['загрудинные', 'загрудинный']\n",
      "перферия --- периферия --- ['периферия']\n",
      "течени --- тичине --- ['течение']\n",
      "оклюзия --- окклюзия --- ['окклюзия']\n",
      "жнщина --- женщина --- ['женщина']\n",
      "пциент --- пациент --- ['пациент']\n",
      "зарегистирована --- зарегистрирована --- ['зарегистрирована']\n",
      "сегмета --- сегмента --- ['сегмента']\n",
      "клекте --- клёкоте --- ['клетке']\n",
      "эпид --- спид --- ['эпидемия', 'эпидемиологический', 'эпидуральный']\n",
      "интелектуально --- интеллектуально --- ['интеллектуально']\n",
      "нижн --- нежно --- ['нижний']\n",
      "прводилась --- поводилась --- ['проводилась', 'проводить']\n",
      "неуст --- неуют --- ['неустановленный']\n",
      "госптализирован --- госпитализирован --- ['госпитализирован']\n",
      "вперые --- впервые --- ['впервые']\n",
      "послеоперационом --- послеоперационном --- ['послеоперационном']\n",
      "госпитализирова --- госпитализировал --- ['госпитализирован']\n",
      "ухудщение --- ухудшение --- ['ухудшение']\n",
      "рентг --- рента --- ['рентген']\n",
      "дальнешем --- дальнейшем --- ['дальнейшем']\n",
      "троботическая --- акробатическая --- ['тромботическая']\n",
      "многосоудистое --- многосернистое --- ['многососудистое', 'многососудистый']\n",
      "миокрада --- миокарда --- ['миокарда', 'миокард']\n",
      "сопрвождались --- сопровождались --- ['сопровождались']\n",
      "дискмфорт --- дискомфорт --- ['дискомфорт']\n",
      "потлтвостью --- потливостью --- ['потливостью']\n",
      "левогожелудочка --- левого желудочка --- ['левого желудочка', 'левый желудочек']\n",
      "рание --- ранее --- ['ранее', 'ранние']\n",
      "виед --- вид --- ['виде', 'вид']\n",
      "ангинозныеболи --- ангинозные боли --- ['ангинозные боли', 'ангиозный боль']\n",
      "догоситальном --- догоспитальном --- ['догоспитальном']\n",
      "ввполнен --- выполнен --- ['выполнен']\n",
      "чаосв --- чаёв --- ['часов']\n",
      "октазалась --- оказалась --- ['отказалась']\n",
      "линика --- ленника --- ['клиника']\n",
      "ммента --- мента --- ['момента']\n",
      "проведеной --- проведённой --- ['проведенной']\n",
      "выполненяи --- выполнение --- ['выполнения', 'выполнение']\n",
      "леченяи --- лечение --- ['лечения', 'лечение']\n",
      "обтилась --- оббилась --- ['обратилась']\n",
      "повтороно --- повторно --- ['повторно']\n",
      "зарегистриованы --- зарегистрированы --- ['зарегистрированы']\n",
      "отицает --- отекает --- ['отрицает', 'отрицать']\n",
      "дальнейщем --- дальнейшем --- ['дальнейшем']\n",
      "болисохраняются --- боли сохраняются --- ['боли сохраняются']\n",
      "частичынм --- частичным --- ['частичным']\n",
      "атерокслеротичсекая --- атеросклеротическая --- ['атеросклеротическая']\n",
      "деньс --- день --- ['день', 'день с']\n",
      "назначаля --- назначал --- ['назначался']\n",
      "проведеняи --- проведение --- ['проведения']\n",
      "беспакоют --- беспокоить --- ['беспокоят']\n",
      "гипертензи --- гипертензию --- ['гипертензия']\n",
      "воленйбол --- волейбол --- ['волейбол']\n",
      "болезн --- болезнь --- ['болезнь']\n",
      "стенокардаа --- стенокардия --- ['стенокардия']\n",
      "продолжалсь --- продолжаюсь --- ['продолжалась']\n",
      "поворное --- говорное --- ['повторное']\n",
      "ощуащет --- ощущает --- ['ощущает']\n",
      "ангигнозного --- ангинозного --- ['ангинозного', 'ангинозный']\n",
      "диагностичекой --- диагностической --- ['диагностической', 'диагностический']\n",
      "поддерживающией --- поддерживающее --- ['поддерживающий']\n",
      "межлопаточнй --- межлопаточной --- ['межлопаточный']\n",
      "бедреной --- бедренной --- ['бедренной', 'бедренный']\n",
      "гшрядки --- грядки --- ['грядки']\n",
      "бассеине --- бассейне --- ['бассейне', 'бассейн']\n",
      "возлуха --- воздуха --- ['воздуха', 'воздух']\n",
      "сенября --- сентября --- ['сентября', 'сентябрь']\n",
      "постояная --- постоянная --- ['постоянная', 'постоянный']\n",
      "рекмоендовнао --- рекомендовано --- ['рекомендовано']\n",
      "поврждения --- повреждения --- ['повреждения']\n",
      "дискофморта --- дискомфорта --- ['дискомфорт']\n",
      "импалнтирован --- имплантирован --- ['имплантирован', 'имплантировать']\n",
      "неочетливая --- неотчетливая --- ['неотчетливая', 'неотчетливый']\n",
      "обесвеченный --- обесцвеченный --- ['обесцвеченный', 'обеспеченный']\n",
      "серце --- сердце --- ['сердце']\n",
      "блезнь --- болезнь --- ['болезнь']\n",
      "лергия --- гергия --- ['аллергия']\n",
      "ука --- ука --- ['рука']\n",
      "изжга --- изжога --- ['изжога']\n",
      "жение --- жении --- ['жжение']\n",
      "кашел --- котел --- ['кашель']\n",
      "рствор --- раствор --- ['раствор']\n",
      "пациен --- пациент --- ['пациент']\n",
      "пожлой --- пожилой --- ['пожилой']\n",
      "лекарсво --- лекарство --- ['лекарство']\n",
      "нпреносимость --- непереносимость --- ['непереносимость']\n",
      "амупула --- ампула --- ['ампула']\n",
      "гел --- гелл --- ['гель']\n",
      "конценрат --- концентрат --- ['концентрат']\n",
      "рилиф --- реле --- ['релиф']\n",
      "чссс --- чсср --- ['ЧСС', 'чсс']\n",
      "экгъ --- его --- ['ЭКГ', 'экг']\n",
      "фибриляция --- фибрилляция --- ['фибрилляция']\n",
      "желдочек --- желудочек --- ['желудочек']\n",
      "хрон --- хрен --- ['хронический']\n",
      "гиподин --- гип один --- ['гиподинамический']\n",
      "нерный --- черный --- ['нервный']\n",
      "сист --- сист --- ['система']\n",
      "диагоностика --- диагностика --- ['диагностика']\n",
      "гипоксмия --- гипоксемия --- ['гипоксемия']\n",
      "ледокоин --- лидокаин --- ['лидокаин']\n",
      "блокато --- блокатор --- ['блокатор']\n",
      "тахкардия --- тахикардия --- ['тахикардия']\n",
      "малоинвозивный --- малоинвозивный --- ['малоинвазивный']\n",
      "алация --- акация --- ['аблация', 'абляция']\n",
      "имь --- имя --- ['ИМ', 'им']\n",
      "паражение --- поражение --- ['поражение']\n",
      "тяжолый --- тяжёлый --- ['тяжелый']\n",
      "гастрапластика --- аутопластика --- ['гастропластика']\n",
      "вс --- вс --- ['вес']\n",
      "лешний --- лишний --- ['лишний']\n",
      "орта --- орта --- ['аорта']\n",
      "клапа --- клапа --- ['клапан']\n",
      "вент --- вент --- ['вена']\n",
      "палый --- палый --- ['полый']\n",
      "пирикард --- перикард --- ['перикард']\n",
      "метральный --- митральный --- ['митральный']\n",
      "ултразвук --- ультразвук --- ['ультразвук']\n",
      "херург --- хирург --- ['хирург']\n",
      "кордиолог --- кардиолог --- ['кардиолог']\n",
      "килограм --- килограмм --- ['килограмм']\n",
      "акенезия --- акинезия --- ['акинезия']\n",
      "врхушка --- верхушка --- ['верхушка']\n",
      "апекальный --- апикальный --- ['апикальный']\n",
      "сгмент --- сегмент --- ['сегмент']\n",
      "вес --- вес --- ['весь']\n",
      "сьенка --- стенка --- ['стенка']\n",
      "церкулярный --- циркулярный --- ['циркулярный']\n",
      "сридиный --- срединный --- ['срединный']\n",
      "калапаный --- колупанный --- ['клапанный']\n",
      "апарат --- опорот --- ['аппарат']\n",
      "потология --- патология --- ['патология']\n",
      "перекард --- перикард --- ['перикард']\n",
      "праксимальный --- проксимальный --- ['проксимальный']\n",
      "деаметр --- диаметр --- ['диаметр']\n",
      "корекция --- коррекция --- ['коррекция']\n",
      "аслажнение --- осложнение --- ['осложнение']\n",
      "стрдать --- страдать --- ['страдать']\n",
      "гепертонический --- гипертонический --- ['гипертонический']\n",
      "болезн --- болезнь --- ['болезнь']\n",
      "одоптировать --- адоптировать --- ['адаптировать']\n",
      "получять --- получить --- ['получать']\n",
      "кансервативный --- консервативный --- ['консервативный']\n",
      "тичение --- течение --- ['течение']\n",
      "пребование --- требование --- ['пребывание']\n",
      "отбиление --- отделение --- ['отделение']\n",
      "самачувствие --- самочувствие --- ['самочувствие']\n",
      "уходшение --- ухудшение --- ['ухудшение']\n",
      "месро --- место --- ['место']\n",
      "пункцыя --- пункция --- ['пункция']\n",
      "особеность --- особенность --- ['особенность']\n",
      "шнут --- шнур --- ['шунт']\n",
      "шнутирование --- шунтирование --- ['шунтирование']\n",
      "готчина --- вотчина --- ['гатчина']\n",
      "эхэ --- эхе --- ['эхо']\n",
      "каранарный --- коронарный --- ['коронарный']\n",
      "ортерия --- артерия --- ['артерия']\n",
      "сначимый --- значимый --- ['значимый']\n",
      "стинос --- стенной --- ['стеноз']\n",
      "гаспиализировать --- госпитализировать --- ['госпитализировать']\n",
      "имья --- имя --- ['имя']\n",
      "олмазов --- алмазов --- ['алмазов']\n",
      "прдшствовать --- предшествовать --- ['предшествовать']\n",
      "стинакардия --- стенокардия --- ['стенокардия']\n",
      "пиринести --- перенести --- ['перенести']\n",
      "ифаркт --- инфаркт --- ['инфаркт']\n",
      "моикарда --- миокарда --- ['миокарда']\n",
      "лакализация --- локализация --- ['локализация']\n",
      "спразка --- справка --- ['справка']\n",
      "дальнейшый --- дальнейший --- ['дальнейший']\n",
      "хроническаянедостаточность --- хроническая недостаточность --- ['хроническая недостаточность', 'хронический недостаточность']\n",
      "инфарктмиокарда --- инфаркт миокарда --- ['инфаркт миокарда', 'инфаркт миокард']\n",
      "отузла --- от узла --- ['от узла', 'от узел']\n",
      "нарушениеработы --- нарушение работы --- ['нарушение работы', 'нарушение работа']\n",
      "вминуту --- минуту --- ['в минуту', 'в минута', 'минута']\n",
      "эндокриннойсистемы --- эндокринной системы --- ['эндокринная система', 'эндокринный система']\n",
      "сердечныйритм --- сердечный ритм --- ['сердечный ритм']\n",
      "узловаятахикардия --- узловая тахикардия --- ['узловая тахикардия', 'узловой тахикардия']\n",
      "основныефакторы --- основные факторы --- ['основной факто', 'основные факторы']\n",
      "остановкасердца --- остановка сердца --- ['остановка сердца', 'остановка сердце']\n",
      "фибрилляцияжелудочков --- фибрилляция желудочков --- ['фибрилляция желудочков', 'фибрилляция желудочек']\n",
      "счастотой --- частотой --- ['с частотой', 'с частотаб частота']\n",
      "Right corrected words count - 128 of 200 total\n"
     ]
    },
    {
     "name": "stderr",
     "output_type": "stream",
     "text": [
      "100%|██████████| 200/200 [00:13<00:00, 15.08it/s]"
     ]
    },
    {
     "name": "stdout",
     "output_type": "stream",
     "text": [
      "Lexical precision\n",
      "original_word_list --- corrected_word\n",
      "выборгский --- выборгский\n",
      "отказываться --- отказываться\n",
      "нитропрепарат --- биопрепарат\n",
      "предсердие --- предсердие\n",
      "диссоциация --- диссоциация\n",
      "кольцевой --- кольцевой\n",
      "отрыв --- отрыв\n",
      "вовлечение --- вовлечение\n",
      "мелкопузырчатый --- мелкопузырчатый\n",
      "госпитализировать --- госпитализировать\n",
      "фтизиатр --- фтизиатр\n",
      "проксимальный --- проксимальный\n",
      "приступ --- приступ\n",
      "рецидивировать --- рецензировать\n",
      "беспокоить --- беспокоить\n",
      "значимый --- значимый\n",
      "одномоментный --- одномоментный\n",
      "течение --- течение\n",
      "постепенной --- постепенной\n",
      "трафика --- трафика\n",
      "левый --- левый\n",
      "область --- область\n",
      "окклюзия --- окклюзия\n",
      "каждый --- каждый\n",
      "аторвастатина --- аторвастатина\n",
      "проникающий --- проникающий\n",
      "слух --- слух\n",
      "отрицательный --- отрицательный\n",
      "заднее --- заднее\n",
      "диафрагмальный --- диафрагмальный\n",
      "физическая --- физическая\n",
      "реваскуляризация --- ре васкуляризация\n",
      "очевидный --- очевидный\n",
      "умеренный --- умеренный\n",
      "самостоятельный --- самостоятельный\n",
      "визуализация --- визуализация\n",
      "неселективный --- неселективный\n",
      "септопластика --- аутопластика\n",
      "присутствие --- присутствие\n",
      "соустье --- соустье\n",
      "кировский --- кировский\n",
      "ноющая --- ноющая\n",
      "постоять --- постоять\n",
      "стенка --- стенка\n",
      "укоротить --- укоротить\n",
      "назначить --- назначить\n",
      "госпитализация --- госпитализация\n",
      "возобновление --- возобновление\n",
      "одеть --- одеть\n",
      "охранник --- охранник\n",
      "дексона --- диксона\n",
      "систолический --- систолический\n",
      "верхушечно-перегородочный --- верхушечно-перегородочный\n",
      "расширение --- расширение\n",
      "равнозначный --- равнозначный\n",
      "предприятие --- предприятие\n",
      "ночь --- ночь\n",
      "вредность --- вредность\n",
      "транспортировка --- транспортировка\n",
      "март --- март\n",
      "гипотиазид --- гипотензию\n",
      "скрытый --- скрытый\n",
      "расстройство --- расстройство\n",
      "ломота --- ломота\n",
      "подготовить --- подготовить\n",
      "помощь --- помощь\n",
      "большая --- большая\n",
      "эквивалент --- эквивалент\n",
      "гемостатический --- гипостатический\n",
      "купировавшийся --- копировавшейся\n",
      "ревизия --- ревизия\n",
      "пульсирующий --- пульсирующий\n",
      "регистрироваться --- регистрироваться\n",
      "лимитирование --- лимитирование\n",
      "ометать --- обитать\n",
      "стихание --- стихание\n",
      "вазопрессорный --- газопрессовый\n",
      "тредмил --- тред мил\n",
      "тест --- тест\n",
      "гипопноэ --- цепочное\n",
      "наш --- наш\n",
      "ускоренный --- ускоренный\n",
      "эфффект --- эффект\n",
      "тромбофлебит --- тромбофлебит\n",
      "ишемический --- ишемический\n",
      "купирование --- купирование\n",
      "патологии --- патологии\n",
      "длительный --- длительный\n",
      "заключение --- заключение\n",
      "пунктировать --- пунктировать\n",
      "ферритина --- ферри тина\n",
      "гастропротективный --- гастропротективный\n",
      "пароксизм --- пароксизм\n",
      "выполнять --- выполнять\n",
      "показатель --- показатель\n",
      "посттромбофлебитический --- посттромбофлебитический\n",
      "анальгин --- анальгин\n",
      "корректировать --- корректировать\n",
      "секунда --- секунда\n",
      "креатинкиназа --- креатинкиназа\n",
      "утолщение --- утолщение\n",
      "терапия --- терапия\n",
      "глибомёт --- глебом\n",
      "лобэктомия --- лобэктомия\n",
      "новгородский --- новгородский\n",
      "владеть --- владеть\n",
      "тенденция --- тенденция\n",
      "мерить --- мерить\n",
      "поражений --- поражений\n",
      "перекосить --- перекосить\n",
      "тропонин --- тропинин\n",
      "сдвиг --- сдвиг\n",
      "отправить --- отправить\n",
      "сжимающее --- сжимающее\n",
      "давящий --- давящий\n",
      "нифедипин --- нефедовен\n",
      "мексикор --- мексикою\n",
      "сад --- сад\n",
      "мезентериальный --- мезентериальный\n",
      "дальнейшей --- дальнейшей\n",
      "реабилитация --- реабилитация\n",
      "переносить --- переносить\n",
      "дискомфорт --- дискомфорт\n",
      "проявление --- проявление\n",
      "батарея --- батарея\n",
      "фермент --- фермент\n",
      "затёк --- затёк\n",
      "непроизвольный --- непроизвольный\n",
      "слепок --- слепок\n",
      "тенорик --- тенорок\n",
      "сегмента --- сегмента\n",
      "дрожь --- дрожь\n",
      "появляется --- появляется\n",
      "гепарина --- гепарина\n",
      "предсердие --- предсердие\n",
      "диурез --- диурез\n",
      "фиксировать --- фиксировать\n",
      "временной --- временной\n",
      "микропрепарат --- микро препарат\n",
      "аторвастатин --- аторвастатин\n",
      "гипотензия --- гипотензия\n",
      "грудь --- грудь\n",
      "инфаркт --- инфаркт\n",
      "мононуклеары --- мононуклеозы\n",
      "постоянно --- постоянно\n",
      "погрузка --- погрузка\n",
      "фармакологический --- фармакологический\n",
      "нестабильный --- нестабильный\n",
      "мертенил --- мер тенил\n",
      "тахикардий --- тахикардий\n",
      "снимать --- снимать\n",
      "распространиться --- распространиться\n",
      "контрпульсатор --- контр пульсатор\n",
      "соталол --- потолок\n",
      "складываться --- складываться\n",
      "кардиомегалия --- акромегалия\n",
      "смесь --- смесь\n",
      "мкг --- мкг\n",
      "похожий --- похожий\n",
      "аутовенозный --- аутогенный\n",
      "гепатина --- гипотеза\n",
      "рецидивировать --- рецензировать\n",
      "асцит --- асцит\n",
      "стенокардия --- стенокардия\n",
      "тысяча --- тысяча\n",
      "промежуточный --- промежуточный\n",
      "возможный --- возможный\n",
      "водка --- водка\n",
      "лимфодиссекция --- лимфодиссекция\n",
      "принимать --- принимать\n",
      "стентирование --- тестирование\n",
      "незначимый --- незначимый\n",
      "настоящее --- настоящее\n",
      "задненижний --- задненебней\n",
      "частичный --- частичный\n",
      "появиться --- появиться\n",
      "тройной --- тройной\n",
      "показатель --- показатель\n",
      "эквивалент --- эквивалент\n",
      "утолстить --- утолстить\n",
      "поведение --- поведение\n",
      "аускультативный --- аускультативный\n",
      "отказаться --- отказаться\n",
      "рассмотреть --- рассмотреть\n",
      "сывороточный --- сывороточный\n",
      "формирующийся --- формирующийся\n",
      "жир --- жир\n",
      "карведилол --- корвалол\n",
      "тонкий --- тонкий\n",
      "единица --- единица\n",
      "срабатывать --- срабатывать\n",
      "компрометация --- компрометация\n",
      "россия --- россия\n",
      "массив --- массив\n",
      "нижнебоковой --- нижнебоковой\n",
      "отечь --- отечь\n",
      "трепетание --- трепетание\n",
      "конкурировать --- конкурировать\n",
      "событие --- событие\n",
      "незначительный --- незначительный\n",
      "Right corrected words count - 169 of 200 total\n"
     ]
    },
    {
     "name": "stderr",
     "output_type": "stream",
     "text": [
      "\n"
     ]
    },
    {
     "data": {
      "text/plain": "{'words_per_minute': 902.789919637557,\n 'error_precision': 0.64,\n 'lexical_precision': 0.845}"
     },
     "execution_count": 125,
     "metadata": {},
     "output_type": "execute_result"
    }
   ],
   "source": [
    "test_language_tool_result = compute_all_metrics(\n",
    "    lambda : test_language_tool(error_precision_test_word_list),\n",
    "    lambda : test_language_tool(lexical_precision_test_word_list),\n",
    "    error_precision_test_word_list, error_precision_test_answers, lexical_precision_test_word_list)\n",
    "test_language_tool_result"
   ],
   "metadata": {
    "collapsed": false,
    "pycharm": {
     "name": "#%%\n"
    }
   }
  },
  {
   "cell_type": "markdown",
   "source": [
    "# PySpelling (wrapper for Aspell and Hunspell) - https://facelessuser.github.io/pyspelling/"
   ],
   "metadata": {
    "collapsed": false
   }
  },
  {
   "cell_type": "markdown",
   "source": [
    "It is necessary to install for Linux\n",
    "`sudo apt-get install aspell aspell-ru`\n",
    "`sudo apt-get install hunspell hunspell-ru`"
   ],
   "metadata": {
    "collapsed": false
   }
  },
  {
   "cell_type": "code",
   "execution_count": 126,
   "outputs": [
    {
     "name": "stdout",
     "output_type": "stream",
     "text": [
      "Requirement already satisfied: pyspelling in /home/Dmitry.Pogrebnoy/Desktop/MedSpellChecker/venv/lib/python3.9/site-packages (2.7.3)\r\n",
      "Requirement already satisfied: html5lib in /home/Dmitry.Pogrebnoy/Desktop/MedSpellChecker/venv/lib/python3.9/site-packages (from pyspelling) (1.1)\r\n",
      "Requirement already satisfied: wcmatch>=6.0.3 in /home/Dmitry.Pogrebnoy/Desktop/MedSpellChecker/venv/lib/python3.9/site-packages (from pyspelling) (8.3)\r\n",
      "Requirement already satisfied: soupsieve>=1.8 in /home/Dmitry.Pogrebnoy/Desktop/MedSpellChecker/venv/lib/python3.9/site-packages (from pyspelling) (2.3.1)\r\n",
      "Requirement already satisfied: markdown in /home/Dmitry.Pogrebnoy/Desktop/MedSpellChecker/venv/lib/python3.9/site-packages (from pyspelling) (3.3.6)\r\n",
      "Requirement already satisfied: lxml in /home/Dmitry.Pogrebnoy/Desktop/MedSpellChecker/venv/lib/python3.9/site-packages (from pyspelling) (4.6.4)\r\n",
      "Requirement already satisfied: beautifulsoup4 in /home/Dmitry.Pogrebnoy/Desktop/MedSpellChecker/venv/lib/python3.9/site-packages (from pyspelling) (4.10.0)\r\n",
      "Requirement already satisfied: pyyaml in /home/Dmitry.Pogrebnoy/Desktop/MedSpellChecker/venv/lib/python3.9/site-packages (from pyspelling) (6.0)\r\n",
      "Requirement already satisfied: bracex>=2.1.1 in /home/Dmitry.Pogrebnoy/Desktop/MedSpellChecker/venv/lib/python3.9/site-packages (from wcmatch>=6.0.3->pyspelling) (2.2.1)\r\n",
      "Requirement already satisfied: six>=1.9 in /home/Dmitry.Pogrebnoy/Desktop/MedSpellChecker/venv/lib/python3.9/site-packages (from html5lib->pyspelling) (1.16.0)\r\n",
      "Requirement already satisfied: webencodings in /home/Dmitry.Pogrebnoy/Desktop/MedSpellChecker/venv/lib/python3.9/site-packages (from html5lib->pyspelling) (0.5.1)\r\n",
      "Requirement already satisfied: importlib-metadata>=4.4 in /home/Dmitry.Pogrebnoy/Desktop/MedSpellChecker/venv/lib/python3.9/site-packages (from markdown->pyspelling) (4.8.2)\r\n",
      "Requirement already satisfied: zipp>=0.5 in /home/Dmitry.Pogrebnoy/Desktop/MedSpellChecker/venv/lib/python3.9/site-packages (from importlib-metadata>=4.4->markdown->pyspelling) (3.6.0)\r\n"
     ]
    }
   ],
   "source": [
    "!pip install pyspelling"
   ],
   "metadata": {
    "collapsed": false,
    "pycharm": {
     "name": "#%%\n"
    }
   }
  },
  {
   "cell_type": "markdown",
   "source": [
    "This is a console module, so it will be quite difficult to parse the output of the tool and get metrics."
   ],
   "metadata": {
    "collapsed": false
   }
  },
  {
   "cell_type": "code",
   "execution_count": 127,
   "outputs": [
    {
     "name": "stdout",
     "output_type": "stream",
     "text": [
      "pyspelling 2.7.3\r\n"
     ]
    }
   ],
   "source": [
    "!pyspelling --version"
   ],
   "metadata": {
    "collapsed": false,
    "pycharm": {
     "name": "#%%\n"
    }
   }
  },
  {
   "cell_type": "markdown",
   "source": [
    "# Aspell wrapper for python - https://pypi.org/project/aspell-python-py3/"
   ],
   "metadata": {
    "collapsed": false
   }
  },
  {
   "cell_type": "markdown",
   "source": [
    "It is necessary to install for Linux\n",
    "`sudo apt-get install libaspell-dev`"
   ],
   "metadata": {
    "collapsed": false
   }
  },
  {
   "cell_type": "code",
   "execution_count": 128,
   "outputs": [
    {
     "name": "stdout",
     "output_type": "stream",
     "text": [
      "Requirement already satisfied: aspell-python-py3 in /home/Dmitry.Pogrebnoy/Desktop/MedSpellChecker/venv/lib/python3.9/site-packages (1.15)\r\n"
     ]
    }
   ],
   "source": [
    "!pip install aspell-python-py3"
   ],
   "metadata": {
    "collapsed": false,
    "pycharm": {
     "name": "#%%\n"
    }
   }
  },
  {
   "cell_type": "code",
   "execution_count": 129,
   "outputs": [
    {
     "name": "stdout",
     "output_type": "stream",
     "text": [
      "Name: aspell-python-py3\r\n",
      "Version: 1.15\r\n",
      "Summary: Wrapper around GNU Aspell for Python 3\r\n",
      "Home-page: http://github.com/WojciechMula/aspell-python\r\n",
      "Author: Wojciech Muła\r\n",
      "Author-email: wojciech_mula@poczta.onet.pl\r\n",
      "License: BSD (3 clauses)\r\n",
      "Location: /home/Dmitry.Pogrebnoy/Desktop/MedSpellChecker/venv/lib/python3.9/site-packages\r\n",
      "Requires: \r\n",
      "Required-by: \r\n"
     ]
    }
   ],
   "source": [
    "!pip show aspell-python-py3"
   ],
   "metadata": {
    "collapsed": false,
    "pycharm": {
     "name": "#%%\n"
    }
   }
  },
  {
   "cell_type": "code",
   "execution_count": 130,
   "outputs": [],
   "source": [
    "from aspell import Speller"
   ],
   "metadata": {
    "collapsed": false,
    "pycharm": {
     "name": "#%%\n"
    }
   }
  },
  {
   "cell_type": "code",
   "execution_count": 131,
   "outputs": [],
   "source": [
    "def test_aspell(input_word_list):\n",
    "    speller = Speller((\"lang\", \"ru\"))\n",
    "    result = []\n",
    "    timer = tqdm(input_word_list)\n",
    "    for word in timer:\n",
    "        suggestions = speller.suggest(word)\n",
    "        if len(suggestions) == 0:\n",
    "            result.append(word)\n",
    "        else:\n",
    "            result.append(suggestions[0])\n",
    "    return  {\"elapsed\" : timer.format_dict[\"elapsed\"], \"corrected_word_list\" : result}"
   ],
   "metadata": {
    "collapsed": false,
    "pycharm": {
     "name": "#%%\n"
    }
   }
  },
  {
   "cell_type": "code",
   "execution_count": 132,
   "outputs": [
    {
     "name": "stderr",
     "output_type": "stream",
     "text": [
      "100%|██████████| 200/200 [00:00<00:00, 324.34it/s]\n"
     ]
    },
    {
     "name": "stdout",
     "output_type": "stream",
     "text": [
      "Error precision\n",
      "original_word_list --- corrected_word --- answer_word_list\n",
      "эктренном --- экстренном --- ['экстренном']\n",
      "синусовго --- синусов го --- ['синусового']\n",
      "даным --- данным --- ['данным', 'данный', 'данные']\n",
      "шнутография --- нотография --- ['шунтография']\n",
      "сникопальных --- сник опальных --- ['синкопальных']\n",
      "посление --- поселение --- ['поселение', 'последний']\n",
      "ходавый --- ходовой --- ['ходовый']\n",
      "анмнезе --- анамнезе --- ['анамнезе', 'анамнез']\n",
      "сентированный --- смонтированный --- ['стентированный']\n",
      "самоч --- само --- ['самочувствие']\n",
      "перевдена --- переведена --- ['переведена']\n",
      "стентированеим --- смонтированном --- ['стентированием', 'стентирование']\n",
      "кардиол --- кар диол --- ['кардиолог,кардиологический']\n",
      "переведна --- переведена --- ['переведена']\n",
      "догосптальном --- госпитальном --- ['догоспитальном']\n",
      "миним --- мним --- ['минимум', 'минимальный']\n",
      "субфебриллитет --- субфебриллитет --- ['субфебрилитет']\n",
      "загрудиные --- загородные --- ['загрудинные', 'загрудинный']\n",
      "перферия --- периферия --- ['периферия']\n",
      "течени --- течению --- ['течение']\n",
      "оклюзия --- окклюзия --- ['окклюзия']\n",
      "жнщина --- женщина --- ['женщина']\n",
      "пциент --- пациент --- ['пациент']\n",
      "зарегистирована --- зарегистрирована --- ['зарегистрирована']\n",
      "сегмета --- сегмента --- ['сегмента']\n",
      "клекте --- клекоте --- ['клетке']\n",
      "эпид --- эпод --- ['эпидемия', 'эпидемиологический', 'эпидуральный']\n",
      "интелектуально --- интеллектуально --- ['интеллектуально']\n",
      "нижн --- ниж --- ['нижний']\n",
      "прводилась --- приводилась --- ['проводилась', 'проводить']\n",
      "неуст --- несут --- ['неустановленный']\n",
      "госптализирован --- госпитализирован --- ['госпитализирован']\n",
      "вперые --- впертые --- ['впервые']\n",
      "послеоперационом --- послеоперационном --- ['послеоперационном']\n",
      "госпитализирова --- госпитализировал --- ['госпитализирован']\n",
      "ухудщение --- ухудшение --- ['ухудшение']\n",
      "рентг --- рента --- ['рентген']\n",
      "дальнешем --- дальнейшем --- ['дальнейшем']\n",
      "троботическая --- теоретическая --- ['тромботическая']\n",
      "многосоудистое --- многоводности --- ['многососудистое', 'многососудистый']\n",
      "миокрада --- миокарда --- ['миокарда', 'миокард']\n",
      "сопрвождались --- сопровождались --- ['сопровождались']\n",
      "дискмфорт --- дискомфорт --- ['дискомфорт']\n",
      "потлтвостью --- потливостью --- ['потливостью']\n",
      "левогожелудочка --- левого желудочка --- ['левого желудочка', 'левый желудочек']\n",
      "рание --- ранние --- ['ранее', 'ранние']\n",
      "виед --- виде --- ['виде', 'вид']\n",
      "ангинозныеболи --- ангинозные боли --- ['ангинозные боли', 'ангиозный боль']\n",
      "догоситальном --- дистальном --- ['догоспитальном']\n",
      "ввполнен --- выполнен --- ['выполнен']\n",
      "чаосв --- часов --- ['часов']\n",
      "октазалась --- отказалась --- ['отказалась']\n",
      "линика --- лирника --- ['клиника']\n",
      "ммента --- момента --- ['момента']\n",
      "проведеной --- проведенной --- ['проведенной']\n",
      "выполненяи --- выполнения --- ['выполнения', 'выполнение']\n",
      "леченяи --- лечения --- ['лечения', 'лечение']\n",
      "обтилась --- отбилась --- ['обратилась']\n",
      "повтороно --- повторно --- ['повторно']\n",
      "зарегистриованы --- зарегистрированы --- ['зарегистрированы']\n",
      "отицает --- отрицает --- ['отрицает', 'отрицать']\n",
      "дальнейщем --- дальнейшем --- ['дальнейшем']\n",
      "болисохраняются --- боли сохраняются --- ['боли сохраняются']\n",
      "частичынм --- частичным --- ['частичным']\n",
      "атерокслеротичсекая --- атеросклеротическая --- ['атеросклеротическая']\n",
      "деньс --- день --- ['день', 'день с']\n",
      "назначаля --- назначался --- ['назначался']\n",
      "проведеняи --- проведения --- ['проведения']\n",
      "беспакоют --- успокоит --- ['беспокоят']\n",
      "гипертензи --- гипертензию --- ['гипертензия']\n",
      "воленйбол --- волейбол --- ['волейбол']\n",
      "болезн --- болезни --- ['болезнь']\n",
      "стенокардаа --- стенокардию --- ['стенокардия']\n",
      "продолжалсь --- продолжалась --- ['продолжалась']\n",
      "поворное --- подворное --- ['повторное']\n",
      "ощуащет --- ощущает --- ['ощущает']\n",
      "ангигнозного --- ангинозного --- ['ангинозного', 'ангинозный']\n",
      "диагностичекой --- диагностической --- ['диагностической', 'диагностический']\n",
      "поддерживающией --- поддерживающей --- ['поддерживающий']\n",
      "межлопаточнй --- межклеточной --- ['межлопаточный']\n",
      "бедреной --- бедренной --- ['бедренной', 'бедренный']\n",
      "гшрядки --- грядки --- ['грядки']\n",
      "бассеине --- бассейне --- ['бассейне', 'бассейн']\n",
      "возлуха --- воздуха --- ['воздуха', 'воздух']\n",
      "сенября --- сентября --- ['сентября', 'сентябрь']\n",
      "постояная --- постоянная --- ['постоянная', 'постоянный']\n",
      "рекмоендовнао --- рекомендовано --- ['рекомендовано']\n",
      "поврждения --- повреждения --- ['повреждения']\n",
      "дискофморта --- дискомфорта --- ['дискомфорт']\n",
      "импалнтирован --- имплантирован --- ['имплантирован', 'имплантировать']\n",
      "неочетливая --- неотчетливая --- ['неотчетливая', 'неотчетливый']\n",
      "обесвеченный --- обесцвеченный --- ['обесцвеченный', 'обеспеченный']\n",
      "серце --- сердце --- ['сердце']\n",
      "блезнь --- болезнь --- ['болезнь']\n",
      "лергия --- летаргия --- ['аллергия']\n",
      "ука --- укаю --- ['рука']\n",
      "изжга --- изжога --- ['изжога']\n",
      "жение --- женихе --- ['жжение']\n",
      "кашел --- кашле --- ['кашель']\n",
      "рствор --- раствор --- ['раствор']\n",
      "пациен --- пациент --- ['пациент']\n",
      "пожлой --- пожилой --- ['пожилой']\n",
      "лекарсво --- лекарство --- ['лекарство']\n",
      "нпреносимость --- непереносимость --- ['непереносимость']\n",
      "амупула --- ампула --- ['ампула']\n",
      "гел --- гелю --- ['гель']\n",
      "конценрат --- концентрат --- ['концентрат']\n",
      "рилиф --- рифли --- ['релиф']\n",
      "чссс --- час --- ['ЧСС', 'чсс']\n",
      "экгъ --- ЭКГ --- ['ЭКГ', 'экг']\n",
      "фибриляция --- фибрилляция --- ['фибрилляция']\n",
      "желдочек --- желудочек --- ['желудочек']\n",
      "хрон --- Харон --- ['хронический']\n",
      "гиподин --- гипоидная --- ['гиподинамический']\n",
      "нерный --- нервный --- ['нервный']\n",
      "сист --- сист --- ['система']\n",
      "диагоностика --- диагностика --- ['диагностика']\n",
      "гипоксмия --- гипоксемия --- ['гипоксемия']\n",
      "ледокоин --- ледокол --- ['лидокаин']\n",
      "блокато --- блокатор --- ['блокатор']\n",
      "тахкардия --- тахикардия --- ['тахикардия']\n",
      "малоинвозивный --- инвазивный --- ['малоинвазивный']\n",
      "алация --- акация --- ['аблация', 'абляция']\n",
      "имь --- им --- ['ИМ', 'им']\n",
      "паражение --- поражение --- ['поражение']\n",
      "тяжолый --- тяжелый --- ['тяжелый']\n",
      "гастрапластика --- артропластика --- ['гастропластика']\n",
      "вс --- вас --- ['вес']\n",
      "лешний --- леший --- ['лишний']\n",
      "орта --- орта --- ['аорта']\n",
      "клапа --- клапан --- ['клапан']\n",
      "вент --- вен --- ['вена']\n",
      "палый --- палый --- ['полый']\n",
      "пирикард --- перикард --- ['перикард']\n",
      "метральный --- метальный --- ['митральный']\n",
      "ултразвук --- ультразвук --- ['ультразвук']\n",
      "херург --- хирург --- ['хирург']\n",
      "кордиолог --- кардиолог --- ['кардиолог']\n",
      "килограм --- килограмм --- ['килограмм']\n",
      "акенезия --- акинезия --- ['акинезия']\n",
      "врхушка --- верхушка --- ['верхушка']\n",
      "апекальный --- апикальный --- ['апикальный']\n",
      "сгмент --- сегмент --- ['сегмент']\n",
      "вес --- вес --- ['весь']\n",
      "сьенка --- сценка --- ['стенка']\n",
      "церкулярный --- циркулярный --- ['циркулярный']\n",
      "сридиный --- срединный --- ['срединный']\n",
      "калапаный --- залапанный --- ['клапанный']\n",
      "апарат --- аппарат --- ['аппарат']\n",
      "потология --- патология --- ['патология']\n",
      "перекард --- перикард --- ['перикард']\n",
      "праксимальный --- проксимальный --- ['проксимальный']\n",
      "деаметр --- диаметр --- ['диаметр']\n",
      "корекция --- коррекция --- ['коррекция']\n",
      "аслажнение --- осложнение --- ['осложнение']\n",
      "стрдать --- страдать --- ['страдать']\n",
      "гепертонический --- гипертонический --- ['гипертонический']\n",
      "болезн --- болезни --- ['болезнь']\n",
      "одоптировать --- кооптировать --- ['адаптировать']\n",
      "получять --- получать --- ['получать']\n",
      "кансервативный --- консервативный --- ['консервативный']\n",
      "тичение --- течение --- ['течение']\n",
      "пребование --- пребывание --- ['пребывание']\n",
      "отбиление --- отбавление --- ['отделение']\n",
      "самачувствие --- самочувствие --- ['самочувствие']\n",
      "уходшение --- ухудшение --- ['ухудшение']\n",
      "месро --- место --- ['место']\n",
      "пункцыя --- пункция --- ['пункция']\n",
      "особеность --- особенность --- ['особенность']\n",
      "шнут --- шунт --- ['шунт']\n",
      "шнутирование --- шунтирование --- ['шунтирование']\n",
      "готчина --- Гатчина --- ['гатчина']\n",
      "эхэ --- эх --- ['эхо']\n",
      "каранарный --- карабинерный --- ['коронарный']\n",
      "ортерия --- артерия --- ['артерия']\n",
      "сначимый --- значимый --- ['значимый']\n",
      "стинос --- станс --- ['стеноз']\n",
      "гаспиализировать --- госпитализировать --- ['госпитализировать']\n",
      "имья --- имя --- ['имя']\n",
      "олмазов --- алмазов --- ['алмазов']\n",
      "прдшствовать --- предшествовать --- ['предшествовать']\n",
      "стинакардия --- стенокардия --- ['стенокардия']\n",
      "пиринести --- принести --- ['перенести']\n",
      "ифаркт --- инфаркт --- ['инфаркт']\n",
      "моикарда --- миокарда --- ['миокарда']\n",
      "лакализация --- алкализация --- ['локализация']\n",
      "спразка --- справка --- ['справка']\n",
      "дальнейшый --- дальнейшей --- ['дальнейший']\n",
      "хроническаянедостаточность --- хроническая недостаточность --- ['хроническая недостаточность', 'хронический недостаточность']\n",
      "инфарктмиокарда --- инфаркт миокарда --- ['инфаркт миокарда', 'инфаркт миокард']\n",
      "отузла --- от узла --- ['от узла', 'от узел']\n",
      "нарушениеработы --- нарушение работы --- ['нарушение работы', 'нарушение работа']\n",
      "вминуту --- минуту --- ['в минуту', 'в минута', 'минута']\n",
      "эндокриннойсистемы --- эндокринной системы --- ['эндокринная система', 'эндокринный система']\n",
      "сердечныйритм --- сердечный ритм --- ['сердечный ритм']\n",
      "узловаятахикардия --- узловая тахикардия --- ['узловая тахикардия', 'узловой тахикардия']\n",
      "основныефакторы --- основные факторы --- ['основной факто', 'основные факторы']\n",
      "остановкасердца --- остановка сердца --- ['остановка сердца', 'остановка сердце']\n",
      "фибрилляцияжелудочков --- фибрилляция желудочков --- ['фибрилляция желудочков', 'фибрилляция желудочек']\n",
      "счастотой --- частотой --- ['с частотой', 'с частотаб частота']\n",
      "Right corrected words count - 130 of 200 total\n"
     ]
    },
    {
     "name": "stderr",
     "output_type": "stream",
     "text": [
      "100%|██████████| 200/200 [00:00<00:00, 376.15it/s]"
     ]
    },
    {
     "name": "stdout",
     "output_type": "stream",
     "text": [
      "Lexical precision\n",
      "original_word_list --- corrected_word\n",
      "выборгский --- выборгский\n",
      "отказываться --- отказываться\n",
      "нитропрепарат --- нитропрепарат\n",
      "предсердие --- предсердие\n",
      "диссоциация --- диссоциация\n",
      "кольцевой --- кольцевой\n",
      "отрыв --- отрыв\n",
      "вовлечение --- вовлечение\n",
      "мелкопузырчатый --- мелко пузырчатый\n",
      "госпитализировать --- госпитализировать\n",
      "фтизиатр --- фтизиатр\n",
      "проксимальный --- проксимальный\n",
      "приступ --- приступ\n",
      "рецидивировать --- разворовать\n",
      "беспокоить --- беспокоить\n",
      "значимый --- значимый\n",
      "одномоментный --- одномоментный\n",
      "течение --- течение\n",
      "постепенной --- постепенной\n",
      "трафика --- трафика\n",
      "левый --- левый\n",
      "область --- область\n",
      "окклюзия --- окклюзия\n",
      "каждый --- каждый\n",
      "аторвастатина --- отрастанию\n",
      "проникающий --- проникающий\n",
      "слух --- слух\n",
      "отрицательный --- отрицательный\n",
      "заднее --- заднее\n",
      "диафрагмальный --- поддиафрагмальный\n",
      "физическая --- физическая\n",
      "реваскуляризация --- секуляризация\n",
      "очевидный --- очевидный\n",
      "умеренный --- умеренный\n",
      "самостоятельный --- самостоятельный\n",
      "визуализация --- визуализация\n",
      "неселективный --- не селективный\n",
      "септопластика --- кератопластика\n",
      "присутствие --- присутствие\n",
      "соустье --- со устье\n",
      "кировский --- кировский\n",
      "ноющая --- ноющая\n",
      "постоять --- постоять\n",
      "стенка --- стенка\n",
      "укоротить --- укоротить\n",
      "назначить --- назначить\n",
      "госпитализация --- госпитализация\n",
      "возобновление --- возобновление\n",
      "одеть --- одеть\n",
      "охранник --- охранник\n",
      "дексона --- Диксона\n",
      "систолический --- систолический\n",
      "верхушечно-перегородочный --- верхушечно-перегородочный\n",
      "расширение --- расширение\n",
      "равнозначный --- равнозначный\n",
      "предприятие --- предприятие\n",
      "ночь --- ночь\n",
      "вредность --- вредность\n",
      "транспортировка --- транспортировка\n",
      "март --- март\n",
      "гипотиазид --- гипотеза\n",
      "скрытый --- скрытый\n",
      "расстройство --- расстройство\n",
      "ломота --- ломота\n",
      "подготовить --- подготовить\n",
      "помощь --- помощь\n",
      "большая --- большая\n",
      "эквивалент --- эквивалент\n",
      "гемостатический --- гипостатический\n",
      "купировавшийся --- курировавшийся\n",
      "ревизия --- ревизия\n",
      "пульсирующий --- пульсирующий\n",
      "регистрироваться --- регистрироваться\n",
      "лимитирование --- лимитирование\n",
      "ометать --- обметать\n",
      "стихание --- стирание\n",
      "вазопрессорный --- безрессорный\n",
      "тредмил --- тред мил\n",
      "тест --- тест\n",
      "гипопноэ --- гипоидною\n",
      "наш --- наш\n",
      "ускоренный --- ускоренный\n",
      "эфффект --- эффект\n",
      "тромбофлебит --- тромбофлебит\n",
      "ишемический --- ишемический\n",
      "купирование --- купирование\n",
      "патологии --- патологии\n",
      "длительный --- длительный\n",
      "заключение --- заключение\n",
      "пунктировать --- пунктиров ать\n",
      "ферритина --- ферритная\n",
      "гастропротективный --- гастропротективный\n",
      "пароксизм --- пароксизм\n",
      "выполнять --- выполнять\n",
      "показатель --- показатель\n",
      "посттромбофлебитический --- посттромбофлебитический\n",
      "анальгин --- анальгин\n",
      "корректировать --- корректировать\n",
      "секунда --- секунда\n",
      "креатинкиназа --- кретинка\n",
      "утолщение --- утолщение\n",
      "терапия --- терапия\n",
      "глибомёт --- газомёт\n",
      "лобэктомия --- лобком\n",
      "новгородский --- новгородский\n",
      "владеть --- владеть\n",
      "тенденция --- тенденция\n",
      "мерить --- мерить\n",
      "поражений --- поражений\n",
      "перекосить --- перекосить\n",
      "тропонин --- треонин\n",
      "сдвиг --- сдвиг\n",
      "отправить --- отправить\n",
      "сжимающее --- сжимающее\n",
      "давящий --- давящий\n",
      "нифедипин --- недопит\n",
      "мексикор --- Мексико\n",
      "сад --- сад\n",
      "мезентериальный --- мезентериальный\n",
      "дальнейшей --- дальнейшей\n",
      "реабилитация --- реабилитация\n",
      "переносить --- переносить\n",
      "дискомфорт --- дискомфорт\n",
      "проявление --- проявление\n",
      "батарея --- батарея\n",
      "фермент --- фермент\n",
      "затёк --- затёк\n",
      "непроизвольный --- непроизвольный\n",
      "слепок --- слепок\n",
      "тенорик --- тенорки\n",
      "сегмента --- сегмента\n",
      "дрожь --- дрожь\n",
      "появляется --- появляется\n",
      "гепарина --- гепарина\n",
      "предсердие --- предсердие\n",
      "диурез --- диурез\n",
      "фиксировать --- фиксировать\n",
      "временной --- временной\n",
      "микропрепарат --- микропрограмм\n",
      "аторвастатин --- отрастать\n",
      "гипотензия --- гипотензия\n",
      "грудь --- грудь\n",
      "инфаркт --- инфаркт\n",
      "мононуклеары --- мононуклеоз\n",
      "постоянно --- постоянно\n",
      "погрузка --- погрузка\n",
      "фармакологический --- фармакологический\n",
      "нестабильный --- нестабильный\n",
      "мертенил --- мертвели\n",
      "тахикардий --- тахикардией\n",
      "снимать --- снимать\n",
      "распространиться --- распространиться\n",
      "контрпульсатор --- контрпульсатор\n",
      "соталол --- стлало\n",
      "складываться --- складываться\n",
      "кардиомегалия --- кардиология\n",
      "смесь --- смесь\n",
      "мкг --- мкг\n",
      "похожий --- похожий\n",
      "аутовенозный --- отвезенный\n",
      "гепатина --- гептана\n",
      "рецидивировать --- разворовать\n",
      "асцит --- асцит\n",
      "стенокардия --- стенокардия\n",
      "тысяча --- тысяча\n",
      "промежуточный --- промежуточный\n",
      "возможный --- возможный\n",
      "водка --- водка\n",
      "лимфодиссекция --- лимфодиссекция\n",
      "принимать --- принимать\n",
      "стентирование --- смонтирован\n",
      "незначимый --- не значимый\n",
      "настоящее --- настоящее\n",
      "задненижний --- задненебной\n",
      "частичный --- частичный\n",
      "появиться --- появиться\n",
      "тройной --- тройной\n",
      "показатель --- показатель\n",
      "эквивалент --- эквивалент\n",
      "утолстить --- отомстить\n",
      "поведение --- поведение\n",
      "аускультативный --- факультативный\n",
      "отказаться --- отказаться\n",
      "рассмотреть --- рассмотреть\n",
      "сывороточный --- сывороточный\n",
      "формирующийся --- формирующийся\n",
      "жир --- жир\n",
      "карведилол --- корвалол\n",
      "тонкий --- тонкий\n",
      "единица --- единица\n",
      "срабатывать --- срабатывать\n",
      "компрометация --- компрометация\n",
      "россия --- Россия\n",
      "массив --- массив\n",
      "нижнебоковой --- нанковой\n",
      "отечь --- отечь\n",
      "трепетание --- трепетание\n",
      "конкурировать --- конкурировать\n",
      "событие --- событие\n",
      "незначительный --- незначительный\n",
      "Right corrected words count - 155 of 200 total\n"
     ]
    },
    {
     "name": "stderr",
     "output_type": "stream",
     "text": [
      "\n"
     ]
    },
    {
     "data": {
      "text/plain": "{'words_per_minute': 20885.29852591883,\n 'error_precision': 0.65,\n 'lexical_precision': 0.775}"
     },
     "execution_count": 132,
     "metadata": {},
     "output_type": "execute_result"
    }
   ],
   "source": [
    "test_aspell_result = compute_all_metrics(\n",
    "    lambda : test_aspell(error_precision_test_word_list),\n",
    "    lambda : test_aspell(lexical_precision_test_word_list),\n",
    "    error_precision_test_word_list, error_precision_test_answers, lexical_precision_test_word_list)\n",
    "test_aspell_result"
   ],
   "metadata": {
    "collapsed": false,
    "pycharm": {
     "name": "#%%\n"
    }
   }
  },
  {
   "cell_type": "markdown",
   "source": [
    "# Test Hunspell wrapper for Python - https://pypi.org/project/hunspell/"
   ],
   "metadata": {
    "collapsed": false
   }
  },
  {
   "cell_type": "markdown",
   "source": [
    "It is necessary to install for Linux\n",
    "`sudo apt-get install libhunspell-dev`"
   ],
   "metadata": {
    "collapsed": false
   }
  },
  {
   "cell_type": "code",
   "execution_count": 133,
   "outputs": [
    {
     "name": "stdout",
     "output_type": "stream",
     "text": [
      "Requirement already satisfied: hunspell in /home/Dmitry.Pogrebnoy/Desktop/MedSpellChecker/venv/lib/python3.9/site-packages (0.5.5)\r\n"
     ]
    }
   ],
   "source": [
    "!pip install hunspell"
   ],
   "metadata": {
    "collapsed": false,
    "pycharm": {
     "name": "#%%\n"
    }
   }
  },
  {
   "cell_type": "code",
   "execution_count": 134,
   "outputs": [
    {
     "name": "stdout",
     "output_type": "stream",
     "text": [
      "Name: hunspell\r\n",
      "Version: 0.5.5\r\n",
      "Summary: Module for the Hunspell spellchecker engine\r\n",
      "Home-page: http://github.com/blatinier/pyhunspell\r\n",
      "Author: Benoît Latinier\r\n",
      "Author-email: benoit@latinier.fr\r\n",
      "License: LGPLv3\r\n",
      "Location: /home/Dmitry.Pogrebnoy/Desktop/MedSpellChecker/venv/lib/python3.9/site-packages\r\n",
      "Requires: \r\n",
      "Required-by: \r\n"
     ]
    }
   ],
   "source": [
    "!pip show hunspell"
   ],
   "metadata": {
    "collapsed": false,
    "pycharm": {
     "name": "#%%\n"
    }
   }
  },
  {
   "cell_type": "code",
   "execution_count": 135,
   "outputs": [],
   "source": [
    "from hunspell import HunSpell"
   ],
   "metadata": {
    "collapsed": false,
    "pycharm": {
     "name": "#%%\n"
    }
   }
  },
  {
   "cell_type": "code",
   "execution_count": 136,
   "outputs": [],
   "source": [
    "def test_hunspell(input_word_list):\n",
    "    speller = HunSpell('../data/hunspell/index.dic', '../data/hunspell/index.aff')\n",
    "    result = []\n",
    "    timer = tqdm(input_word_list)\n",
    "    for word in timer:\n",
    "        suggestions = speller.suggest(word)\n",
    "        if len(suggestions) == 0:\n",
    "            result.append(word)\n",
    "        else:\n",
    "            result.append(suggestions[0])\n",
    "    return  {\"elapsed\" : timer.format_dict[\"elapsed\"], \"corrected_word_list\" : result}"
   ],
   "metadata": {
    "collapsed": false,
    "pycharm": {
     "name": "#%%\n"
    }
   }
  },
  {
   "cell_type": "code",
   "execution_count": 137,
   "outputs": [
    {
     "name": "stderr",
     "output_type": "stream",
     "text": [
      "100%|██████████| 200/200 [00:16<00:00, 12.41it/s]\n"
     ]
    },
    {
     "name": "stdout",
     "output_type": "stream",
     "text": [
      "Error precision\n",
      "original_word_list --- corrected_word --- answer_word_list\n",
      "эктренном --- экстренном --- ['экстренном']\n",
      "синусовго --- синусов го --- ['синусового']\n",
      "даным --- даны --- ['данным', 'данный', 'данные']\n",
      "шнутография --- нотография --- ['шунтография']\n",
      "сникопальных --- сник опальных --- ['синкопальных']\n",
      "посление --- поселение --- ['поселение', 'последний']\n",
      "ходавый --- хода вый --- ['ходовый']\n",
      "анмнезе --- анамнезе --- ['анамнезе', 'анамнез']\n",
      "сентированный --- сориентированный --- ['стентированный']\n",
      "самоч --- само --- ['самочувствие']\n",
      "перевдена --- перевидена --- ['переведена']\n",
      "стентированеим --- сцементирован --- ['стентированием', 'стентирование']\n",
      "кардиол --- кар диол --- ['кардиолог,кардиологический']\n",
      "переведна --- переведена --- ['переведена']\n",
      "догосптальном --- госпитальном --- ['догоспитальном']\n",
      "миним --- мини --- ['минимум', 'минимальный']\n",
      "субфебриллитет --- субфебрилитет --- ['субфебрилитет']\n",
      "загрудиные --- нагрудные --- ['загрудинные', 'загрудинный']\n",
      "перферия --- периферия --- ['периферия']\n",
      "течени --- течении --- ['течение']\n",
      "оклюзия --- окклюзия --- ['окклюзия']\n",
      "жнщина --- женщина --- ['женщина']\n",
      "пциент --- пациент --- ['пациент']\n",
      "зарегистирована --- зарегистрирована --- ['зарегистрирована']\n",
      "сегмета --- сегмента --- ['сегмента']\n",
      "клекте --- клетке --- ['клетке']\n",
      "эпид --- эпод --- ['эпидемия', 'эпидемиологический', 'эпидуральный']\n",
      "интелектуально --- интеллектуально --- ['интеллектуально']\n",
      "нижн --- ниж --- ['нижний']\n",
      "прводилась --- проводилась --- ['проводилась', 'проводить']\n",
      "неуст --- несут --- ['неустановленный']\n",
      "госптализирован --- госпитализирован --- ['госпитализирован']\n",
      "вперые --- впертые --- ['впервые']\n",
      "послеоперационом --- послеоперационном --- ['послеоперационном']\n",
      "госпитализирова --- госпитализирован --- ['госпитализирован']\n",
      "ухудщение --- ухудшение --- ['ухудшение']\n",
      "рентг --- рент --- ['рентген']\n",
      "дальнешем --- дальнейшем --- ['дальнейшем']\n",
      "троботическая --- астроботаническая --- ['тромботическая']\n",
      "многосоудистое --- многосоставное --- ['многососудистое', 'многососудистый']\n",
      "миокрада --- миокарда --- ['миокарда', 'миокард']\n",
      "сопрвождались --- сопровождались --- ['сопровождались']\n",
      "дискмфорт --- дискомфорт --- ['дискомфорт']\n",
      "потлтвостью --- потливостью --- ['потливостью']\n",
      "левогожелудочка --- левого желудочка --- ['левого желудочка', 'левый желудочек']\n",
      "рание --- раине --- ['ранее', 'ранние']\n",
      "виед --- виде --- ['виде', 'вид']\n",
      "ангинозныеболи --- ангинозные боли --- ['ангинозные боли', 'ангиозный боль']\n",
      "догоситальном --- госпитальном --- ['догоспитальном']\n",
      "ввполнен --- выполнен --- ['выполнен']\n",
      "чаосв --- часов --- ['часов']\n",
      "октазалась --- отказалась --- ['отказалась']\n",
      "линика --- литника --- ['клиника']\n",
      "ммента --- мента --- ['момента']\n",
      "проведеной --- проведено --- ['проведенной']\n",
      "выполненяи --- выполнения --- ['выполнения', 'выполнение']\n",
      "леченяи --- лечения --- ['лечения', 'лечение']\n",
      "обтилась --- отбилась --- ['обратилась']\n",
      "повтороно --- повторно --- ['повторно']\n",
      "зарегистриованы --- зарегистрированы --- ['зарегистрированы']\n",
      "отицает --- отрицает --- ['отрицает', 'отрицать']\n",
      "дальнейщем --- дальнейшем --- ['дальнейшем']\n",
      "болисохраняются --- боли сохраняются --- ['боли сохраняются']\n",
      "частичынм --- частичным --- ['частичным']\n",
      "атерокслеротичсекая --- атеросклеротическая --- ['атеросклеротическая']\n",
      "деньс --- день --- ['день', 'день с']\n",
      "назначаля --- назначал --- ['назначался']\n",
      "проведеняи --- проведения --- ['проведения']\n",
      "беспакоют --- обеспамятеют --- ['беспокоят']\n",
      "гипертензи --- гипертензии --- ['гипертензия']\n",
      "воленйбол --- волейбол --- ['волейбол']\n",
      "болезн --- болен --- ['болезнь']\n",
      "стенокардаа --- стенокардия --- ['стенокардия']\n",
      "продолжалсь --- продолжалось --- ['продолжалась']\n",
      "поворное --- повторное --- ['повторное']\n",
      "ощуащет --- ощущает --- ['ощущает']\n",
      "ангигнозного --- ангинозного --- ['ангинозного', 'ангинозный']\n",
      "диагностичекой --- диагностической --- ['диагностической', 'диагностический']\n",
      "поддерживающией --- поддерживающие --- ['поддерживающий']\n",
      "межлопаточнй --- лопаточный --- ['межлопаточный']\n",
      "бедреной --- бедерной --- ['бедренной', 'бедренный']\n",
      "гшрядки --- грядки --- ['грядки']\n",
      "бассеине --- бассейне --- ['бассейне', 'бассейн']\n",
      "возлуха --- воздуха --- ['воздуха', 'воздух']\n",
      "сенября --- сентября --- ['сентября', 'сентябрь']\n",
      "постояная --- постоянная --- ['постоянная', 'постоянный']\n",
      "рекмоендовнао --- рекомендовано --- ['рекомендовано']\n",
      "поврждения --- повреждения --- ['повреждения']\n",
      "дискофморта --- дискомфорта --- ['дискомфорт']\n",
      "импалнтирован --- имплантирован --- ['имплантирован', 'имплантировать']\n",
      "неочетливая --- неотчетливая --- ['неотчетливая', 'неотчетливый']\n",
      "обесвеченный --- обесцвеченный --- ['обесцвеченный', 'обеспеченный']\n",
      "серце --- сере --- ['сердце']\n",
      "блезнь --- болезнь --- ['болезнь']\n",
      "лергия --- Сергия --- ['аллергия']\n",
      "ука --- ук --- ['рука']\n",
      "изжга --- изжога --- ['изжога']\n",
      "жение --- жени --- ['жжение']\n",
      "кашел --- кашле --- ['кашель']\n",
      "рствор --- створ --- ['раствор']\n",
      "пациен --- пациент --- ['пациент']\n",
      "пожлой --- полой --- ['пожилой']\n",
      "лекарсво --- лекарство --- ['лекарство']\n",
      "нпреносимость --- непереносимость --- ['непереносимость']\n",
      "амупула --- ампула --- ['ампула']\n",
      "гел --- лег --- ['гель']\n",
      "конценрат --- концентрат --- ['концентрат']\n",
      "рилиф --- рифли --- ['релиф']\n",
      "чссс --- СССР --- ['ЧСС', 'чсс']\n",
      "экгъ --- ЭКГ --- ['ЭКГ', 'экг']\n",
      "фибриляция --- фибрилляция --- ['фибрилляция']\n",
      "желдочек --- желудочек --- ['желудочек']\n",
      "хрон --- хон --- ['хронический']\n",
      "гиподин --- подин --- ['гиподинамический']\n",
      "нерный --- нервный --- ['нервный']\n",
      "сист --- сист --- ['система']\n",
      "диагоностика --- диагностика --- ['диагностика']\n",
      "гипоксмия --- гипоксия --- ['гипоксемия']\n",
      "ледокоин --- ледокол --- ['лидокаин']\n",
      "блокато --- блокатор --- ['блокатор']\n",
      "тахкардия --- тахикардия --- ['тахикардия']\n",
      "малоинвозивный --- малоинформативный --- ['малоинвазивный']\n",
      "алация --- акация --- ['аблация', 'абляция']\n",
      "имь --- им --- ['ИМ', 'им']\n",
      "паражение --- поражение --- ['поражение']\n",
      "тяжолый --- тяжелый --- ['тяжелый']\n",
      "гастрапластика --- органопластика --- ['гастропластика']\n",
      "вс --- св --- ['вес']\n",
      "лешний --- лишней --- ['лишний']\n",
      "орта --- рота --- ['аорта']\n",
      "клапа --- капа --- ['клапан']\n",
      "вент --- вен --- ['вена']\n",
      "палый --- пылай --- ['полый']\n",
      "пирикард --- перикард --- ['перикард']\n",
      "метральный --- метальный --- ['митральный']\n",
      "ултразвук --- ультразвук --- ['ультразвук']\n",
      "херург --- хирург --- ['хирург']\n",
      "кордиолог --- кардиолог --- ['кардиолог']\n",
      "килограм --- килограмм --- ['килограмм']\n",
      "акенезия --- акинезия --- ['акинезия']\n",
      "врхушка --- врушка --- ['верхушка']\n",
      "апекальный --- апикальный --- ['апикальный']\n",
      "сгмент --- сегмент --- ['сегмент']\n",
      "вес --- все --- ['весь']\n",
      "сьенка --- стенка --- ['стенка']\n",
      "церкулярный --- циркулярный --- ['циркулярный']\n",
      "сридиный --- срединный --- ['срединный']\n",
      "калапаный --- клапанный --- ['клапанный']\n",
      "апарат --- парат --- ['аппарат']\n",
      "потология --- топология --- ['патология']\n",
      "перекард --- перикард --- ['перикард']\n",
      "праксимальный --- проксимальный --- ['проксимальный']\n",
      "деаметр --- декаметр --- ['диаметр']\n",
      "корекция --- коррекция --- ['коррекция']\n",
      "аслажнение --- наслаждение --- ['осложнение']\n",
      "стрдать --- страдать --- ['страдать']\n",
      "гепертонический --- гипертонический --- ['гипертонический']\n",
      "болезн --- болен --- ['болезнь']\n",
      "одоптировать --- адоптировать --- ['адаптировать']\n",
      "получять --- получать --- ['получать']\n",
      "кансервативный --- консервативный --- ['консервативный']\n",
      "тичение --- точение --- ['течение']\n",
      "пребование --- пробование --- ['пребывание']\n",
      "отбиление --- отбавление --- ['отделение']\n",
      "самачувствие --- самочувствие --- ['самочувствие']\n",
      "уходшение --- ухудшение --- ['ухудшение']\n",
      "месро --- место --- ['место']\n",
      "пункцыя --- пункция --- ['пункция']\n",
      "особеность --- особенность --- ['особенность']\n",
      "шнут --- шунт --- ['шунт']\n",
      "шнутирование --- шунтирование --- ['шунтирование']\n",
      "готчина --- вотчина --- ['гатчина']\n",
      "эхэ --- эх --- ['эхо']\n",
      "каранарный --- карандашный --- ['коронарный']\n",
      "ортерия --- артерия --- ['артерия']\n",
      "сначимый --- сачимый --- ['значимый']\n",
      "стинос --- остинато --- ['стеноз']\n",
      "гаспиализировать --- госпитализировать --- ['госпитализировать']\n",
      "имья --- имя --- ['имя']\n",
      "олмазов --- алмазов --- ['алмазов']\n",
      "прдшствовать --- предшествовать --- ['предшествовать']\n",
      "стинакардия --- стенокардия --- ['стенокардия']\n",
      "пиринести --- принести --- ['перенести']\n",
      "ифаркт --- инфаркт --- ['инфаркт']\n",
      "моикарда --- миокарда --- ['миокарда']\n",
      "лакализация --- алкализация --- ['локализация']\n",
      "спразка --- справка --- ['справка']\n",
      "дальнейшый --- дальнейший --- ['дальнейший']\n",
      "хроническаянедостаточность --- хроническая недостаточность --- ['хроническая недостаточность', 'хронический недостаточность']\n",
      "инфарктмиокарда --- инфаркт миокарда --- ['инфаркт миокарда', 'инфаркт миокард']\n",
      "отузла --- от узла --- ['от узла', 'от узел']\n",
      "нарушениеработы --- нарушение работы --- ['нарушение работы', 'нарушение работа']\n",
      "вминуту --- минуту --- ['в минуту', 'в минута', 'минута']\n",
      "эндокриннойсистемы --- эндокринной системы --- ['эндокринная система', 'эндокринный система']\n",
      "сердечныйритм --- сердечный ритм --- ['сердечный ритм']\n",
      "узловаятахикардия --- узловая тахикардия --- ['узловая тахикардия', 'узловой тахикардия']\n",
      "основныефакторы --- основные факторы --- ['основной факто', 'основные факторы']\n",
      "остановкасердца --- остановка сердца --- ['остановка сердца', 'остановка сердце']\n",
      "фибрилляцияжелудочков --- фибрилляция желудочков --- ['фибрилляция желудочков', 'фибрилляция желудочек']\n",
      "счастотой --- частотой --- ['с частотой', 'с частотаб частота']\n",
      "Right corrected words count - 118 of 200 total\n"
     ]
    },
    {
     "name": "stderr",
     "output_type": "stream",
     "text": [
      "100%|██████████| 200/200 [00:18<00:00, 11.02it/s]"
     ]
    },
    {
     "name": "stdout",
     "output_type": "stream",
     "text": [
      "Lexical precision\n",
      "original_word_list --- corrected_word\n",
      "выборгский --- выборгски\n",
      "отказываться --- отказываться\n",
      "нитропрепарат --- органопрепарат\n",
      "предсердие --- предсердие\n",
      "диссоциация --- диссоциация\n",
      "кольцевой --- кольцевое\n",
      "отрыв --- отрыва\n",
      "вовлечение --- вовлечение\n",
      "мелкопузырчатый --- мелко пузырчатый\n",
      "госпитализировать --- госпитализировать\n",
      "фтизиатр --- фтизиатр\n",
      "проксимальный --- проксимальной\n",
      "приступ --- приступа\n",
      "рецидивировать --- рецитировать\n",
      "беспокоить --- беспокоить\n",
      "значимый --- значимы\n",
      "одномоментный --- одномоментный\n",
      "течение --- течение\n",
      "постепенной --- постепенной\n",
      "трафика --- трафика\n",
      "левый --- левы\n",
      "область --- областью\n",
      "окклюзия --- окклюзия\n",
      "каждый --- каждой\n",
      "аторвастатина --- настораживать\n",
      "проникающий --- поникающий\n",
      "слух --- сух\n",
      "отрицательный --- отрицательны\n",
      "заднее --- заднее\n",
      "диафрагмальный --- диафрагмальный\n",
      "физическая --- физическая\n",
      "реваскуляризация --- секуляризация\n",
      "очевидный --- очевидны\n",
      "умеренный --- умеренный\n",
      "самостоятельный --- самостоятельный\n",
      "визуализация --- визуализация\n",
      "неселективный --- не селективный\n",
      "септопластика --- кератопластика\n",
      "присутствие --- присутствие\n",
      "соустье --- соустье\n",
      "кировский --- кировски\n",
      "ноющая --- ноюща\n",
      "постоять --- постоять\n",
      "стенка --- снетка\n",
      "укоротить --- укоротить\n",
      "назначить --- назначить\n",
      "госпитализация --- госпитализация\n",
      "возобновление --- возобновление\n",
      "одеть --- одет\n",
      "охранник --- охранник\n",
      "дексона --- адексолина\n",
      "систолический --- систолический\n",
      "верхушечно-перегородочный --- верхушечно-перегородочный\n",
      "расширение --- расширение\n",
      "равнозначный --- равнозначный\n",
      "предприятие --- предприятие\n",
      "ночь --- ночью\n",
      "вредность --- древность\n",
      "транспортировка --- транспортировка\n",
      "март --- Март\n",
      "гипотиазид --- гипотиреоз\n",
      "скрытый --- скрытый\n",
      "расстройство --- расстройство\n",
      "ломота --- молота\n",
      "подготовить --- подготовить\n",
      "помощь --- помощь\n",
      "большая --- больная\n",
      "эквивалент --- эквивалент\n",
      "гемостатический --- магнитостатический\n",
      "купировавшийся --- копировавшийся\n",
      "ревизия --- ревизия\n",
      "пульсирующий --- пульсирующие\n",
      "регистрироваться --- регистрироваться\n",
      "лимитирование --- лимитирование\n",
      "ометать --- метать\n",
      "стихание --- стихание\n",
      "вазопрессорный --- газокомпрессорный\n",
      "тредмил --- тред мил\n",
      "тест --- тест\n",
      "гипопноэ --- гипносон\n",
      "наш --- на\n",
      "ускоренный --- ускоренный\n",
      "эфффект --- эффект\n",
      "тромбофлебит --- тромбофлебит\n",
      "ишемический --- ишемический\n",
      "купирование --- купированием\n",
      "патологии --- патологии\n",
      "длительный --- длительный\n",
      "заключение --- заключение\n",
      "пунктировать --- пунктиров ать\n",
      "ферритина --- феррита\n",
      "гастропротективный --- противопригарный\n",
      "пароксизм --- пароксизма\n",
      "выполнять --- выполнят\n",
      "показатель --- показатель\n",
      "посттромбофлебитический --- противосифилитический\n",
      "анальгин --- анальгин\n",
      "корректировать --- корректировать\n",
      "секунда --- секунд\n",
      "креатинкиназа --- панкреатина\n",
      "утолщение --- утолщение\n",
      "терапия --- терапиям\n",
      "глибомёт --- глиома\n",
      "лобэктомия --- лоботомия\n",
      "новгородский --- новгородский\n",
      "владеть --- овладеть\n",
      "тенденция --- тенденция\n",
      "мерить --- мерит\n",
      "поражений --- поражении\n",
      "перекосить --- перекосить\n",
      "тропонин --- антропоним\n",
      "сдвиг --- сдвига\n",
      "отправить --- отправит\n",
      "сжимающее --- сжимающее\n",
      "давящий --- давящи\n",
      "нифедипин --- дифениламин\n",
      "мексикор --- сикомор\n",
      "сад --- ад\n",
      "мезентериальный --- мезентериальный\n",
      "дальнейшей --- дальнейшей\n",
      "реабилитация --- реабилитация\n",
      "переносить --- переносить\n",
      "дискомфорт --- дискомфорт\n",
      "проявление --- проявление\n",
      "батарея --- батарея\n",
      "фермент --- фермент\n",
      "затёк --- заток\n",
      "непроизвольный --- непроизвольный\n",
      "слепок --- слепо\n",
      "тенорик --- тенорки\n",
      "сегмента --- сегмента\n",
      "дрожь --- рожь\n",
      "появляется --- появляется\n",
      "гепарина --- гепарина\n",
      "предсердие --- предсердие\n",
      "диурез --- диуреза\n",
      "фиксировать --- фиксировать\n",
      "временной --- временной\n",
      "микропрепарат --- химиопрепарат\n",
      "аторвастатин --- инкрустатор\n",
      "гипотензия --- гипотензиям\n",
      "грудь --- груд\n",
      "инфаркт --- инфаркта\n",
      "мононуклеары --- мононуклеозы\n",
      "постоянно --- постоянно\n",
      "погрузка --- погрузкам\n",
      "фармакологический --- фармакологический\n",
      "нестабильный --- нестабильны\n",
      "мертенил --- мер тенил\n",
      "тахикардий --- тахикардий\n",
      "снимать --- сминать\n",
      "распространиться --- распространиться\n",
      "контрпульсатор --- контр пульсатор\n",
      "соталол --- сволота\n",
      "складываться --- складываться\n",
      "кардиомегалия --- акромегалия\n",
      "смесь --- смесь\n",
      "мкг --- мг\n",
      "похожий --- похожий\n",
      "аутовенозный --- артериовенозный\n",
      "гепатина --- гепатита\n",
      "рецидивировать --- рецитировать\n",
      "асцит --- асцита\n",
      "стенокардия --- стенокардиям\n",
      "тысяча --- тысяч\n",
      "промежуточный --- промежуточны\n",
      "возможный --- возможный\n",
      "водка --- вода\n",
      "лимфодиссекция --- фотодиссоциация\n",
      "принимать --- принимать\n",
      "стентирование --- патентирование\n",
      "незначимый --- незначимый\n",
      "настоящее --- настоящее\n",
      "задненижний --- задне нижний\n",
      "частичный --- частичны\n",
      "появиться --- появится\n",
      "тройной --- тройной\n",
      "показатель --- показатель\n",
      "эквивалент --- эквивалент\n",
      "утолстить --- утолстить\n",
      "поведение --- поведение\n",
      "аускультативный --- факультативный\n",
      "отказаться --- отказаться\n",
      "рассмотреть --- рассмотреть\n",
      "сывороточный --- сывороточный\n",
      "формирующийся --- формирующийся\n",
      "жир --- жри\n",
      "карведилол --- кардиолог\n",
      "тонкий --- тонки\n",
      "единица --- единица\n",
      "срабатывать --- срабатывать\n",
      "компрометация --- компрометация\n",
      "россия --- Россия\n",
      "массив --- массив\n",
      "нижнебоковой --- нижне боковой\n",
      "отечь --- отеч\n",
      "трепетание --- трепетание\n",
      "конкурировать --- конкурировать\n",
      "событие --- событиен\n",
      "незначительный --- незначительный\n",
      "Right corrected words count - 98 of 200 total\n"
     ]
    },
    {
     "name": "stderr",
     "output_type": "stream",
     "text": [
      "\n"
     ]
    },
    {
     "data": {
      "text/plain": "{'words_per_minute': 700.3135557189026,\n 'error_precision': 0.59,\n 'lexical_precision': 0.49}"
     },
     "execution_count": 137,
     "metadata": {},
     "output_type": "execute_result"
    }
   ],
   "source": [
    "test_hunspell_result = compute_all_metrics(\n",
    "    lambda : test_hunspell(error_precision_test_word_list),\n",
    "    lambda : test_hunspell(lexical_precision_test_word_list),\n",
    "    error_precision_test_word_list, error_precision_test_answers, lexical_precision_test_word_list)\n",
    "test_hunspell_result"
   ],
   "metadata": {
    "collapsed": false,
    "pycharm": {
     "name": "#%%\n"
    }
   }
  },
  {
   "cell_type": "markdown",
   "source": [
    "# Pyspellchecker (Piter Norwig's algorithm) - https://github.com/barrust/pyspellchecker"
   ],
   "metadata": {
    "collapsed": false
   }
  },
  {
   "cell_type": "code",
   "execution_count": 138,
   "outputs": [
    {
     "name": "stdout",
     "output_type": "stream",
     "text": [
      "Requirement already satisfied: pyspellchecker in /home/Dmitry.Pogrebnoy/Desktop/MedSpellChecker/venv/lib/python3.9/site-packages (0.6.2)\r\n"
     ]
    }
   ],
   "source": [
    "!pip install pyspellchecker"
   ],
   "metadata": {
    "collapsed": false,
    "pycharm": {
     "name": "#%%\n"
    }
   }
  },
  {
   "cell_type": "code",
   "execution_count": 139,
   "outputs": [
    {
     "name": "stdout",
     "output_type": "stream",
     "text": [
      "Name: pyspellchecker\r\n",
      "Version: 0.6.2\r\n",
      "Summary: Pure python spell checker based on work by Peter Norvig\r\n",
      "Home-page: https://github.com/barrust/pyspellchecker\r\n",
      "Author: Tyler Barrus\r\n",
      "Author-email: barrust@gmail.com\r\n",
      "License: MIT\r\n",
      "Location: /home/Dmitry.Pogrebnoy/Desktop/MedSpellChecker/venv/lib/python3.9/site-packages\r\n",
      "Requires: \r\n",
      "Required-by: \r\n"
     ]
    }
   ],
   "source": [
    "!pip show pyspellchecker"
   ],
   "metadata": {
    "collapsed": false,
    "pycharm": {
     "name": "#%%\n"
    }
   }
  },
  {
   "cell_type": "code",
   "execution_count": 140,
   "outputs": [],
   "source": [
    "import spellchecker"
   ],
   "metadata": {
    "collapsed": false,
    "pycharm": {
     "name": "#%%\n"
    }
   }
  },
  {
   "cell_type": "code",
   "execution_count": 141,
   "outputs": [],
   "source": [
    "def test_pyspellshecker(input_word_list):\n",
    "    speller = spellchecker.SpellChecker(language='ru')\n",
    "    result = []\n",
    "    timer = tqdm(input_word_list)\n",
    "    for word in timer:\n",
    "        suggestions = speller.correction(word)\n",
    "        result.append(suggestions)\n",
    "    return  {\"elapsed\" : timer.format_dict[\"elapsed\"], \"corrected_word_list\" : result}"
   ],
   "metadata": {
    "collapsed": false,
    "pycharm": {
     "name": "#%%\n"
    }
   }
  },
  {
   "cell_type": "code",
   "execution_count": 142,
   "outputs": [
    {
     "name": "stderr",
     "output_type": "stream",
     "text": [
      "100%|██████████| 200/200 [00:45<00:00,  4.38it/s]\n"
     ]
    },
    {
     "name": "stdout",
     "output_type": "stream",
     "text": [
      "Error precision\n",
      "original_word_list --- corrected_word --- answer_word_list\n",
      "эктренном --- экстренное --- ['экстренном']\n",
      "синусовго --- синусовый --- ['синусового']\n",
      "даным --- давным --- ['данным', 'данный', 'данные']\n",
      "шнутография --- шнутография --- ['шунтография']\n",
      "сникопальных --- сникопальных --- ['синкопальных']\n",
      "посление --- последние --- ['поселение', 'последний']\n",
      "ходавый --- подавай --- ['ходовый']\n",
      "анмнезе --- анмнезе --- ['анамнезе', 'анамнез']\n",
      "сентированный --- сентированный --- ['стентированный']\n",
      "самоч --- самое --- ['самочувствие']\n",
      "перевдена --- переведено --- ['переведена']\n",
      "стентированеим --- стентированеим --- ['стентированием', 'стентирование']\n",
      "кардиол --- кардинал --- ['кардиолог,кардиологический']\n",
      "переведна --- переведено --- ['переведена']\n",
      "догосптальном --- догосптальном --- ['догоспитальном']\n",
      "миним --- мини --- ['минимум', 'минимальный']\n",
      "субфебриллитет --- субфебриллитет --- ['субфебрилитет']\n",
      "загрудиные --- загрудиные --- ['загрудинные', 'загрудинный']\n",
      "перферия --- перферия --- ['периферия']\n",
      "течени --- течение --- ['течение']\n",
      "оклюзия --- иллюзия --- ['окклюзия']\n",
      "жнщина --- женщина --- ['женщина']\n",
      "пциент --- пациент --- ['пациент']\n",
      "зарегистирована --- зарегистрирована --- ['зарегистрирована']\n",
      "сегмета --- семена --- ['сегмента']\n",
      "клекте --- клетке --- ['клетке']\n",
      "эпид --- спид --- ['эпидемия', 'эпидемиологический', 'эпидуральный']\n",
      "интелектуально --- интелектуально --- ['интеллектуально']\n",
      "нижн --- ниже --- ['нижний']\n",
      "прводилась --- родилась --- ['проводилась', 'проводить']\n",
      "неуст --- несут --- ['неустановленный']\n",
      "госптализирован --- госптализирован --- ['госпитализирован']\n",
      "вперые --- впервые --- ['впервые']\n",
      "послеоперационом --- послеоперационом --- ['послеоперационном']\n",
      "госпитализирова --- госпитализирова --- ['госпитализирован']\n",
      "ухудщение --- ухудшение --- ['ухудшение']\n",
      "рентг --- рента --- ['рентген']\n",
      "дальнешем --- дальнейшее --- ['дальнейшем']\n",
      "троботическая --- троботическая --- ['тромботическая']\n",
      "многосоудистое --- многосоудистое --- ['многососудистое', 'многососудистый']\n",
      "миокрада --- миокрада --- ['миокарда', 'миокард']\n",
      "сопрвождались --- сопрвождались --- ['сопровождались']\n",
      "дискмфорт --- дискмфорт --- ['дискомфорт']\n",
      "потлтвостью --- потлтвостью --- ['потливостью']\n",
      "левогожелудочка --- левогожелудочка --- ['левого желудочка', 'левый желудочек']\n",
      "рание --- ранее --- ['ранее', 'ранние']\n",
      "виед --- вид --- ['виде', 'вид']\n",
      "ангинозныеболи --- ангинозныеболи --- ['ангинозные боли', 'ангиозный боль']\n",
      "догоситальном --- догоситальном --- ['догоспитальном']\n",
      "ввполнен --- вполне --- ['выполнен']\n",
      "чаосв --- часов --- ['часов']\n",
      "октазалась --- оказалась --- ['отказалась']\n",
      "линика --- клиника --- ['клиника']\n",
      "ммента --- момента --- ['момента']\n",
      "проведеной --- проведение --- ['проведенной']\n",
      "выполненяи --- выполнение --- ['выполнения', 'выполнение']\n",
      "леченяи --- лечения --- ['лечения', 'лечение']\n",
      "обтилась --- осталась --- ['обратилась']\n",
      "повтороно --- повторно --- ['повторно']\n",
      "зарегистриованы --- зарегистрированы --- ['зарегистрированы']\n",
      "отицает --- отрицает --- ['отрицает', 'отрицать']\n",
      "дальнейщем --- дальнейшее --- ['дальнейшем']\n",
      "болисохраняются --- болисохраняются --- ['боли сохраняются']\n",
      "частичынм --- частично --- ['частичным']\n",
      "атерокслеротичсекая --- атерокслеротичсекая --- ['атеросклеротическая']\n",
      "деньс --- день --- ['день', 'день с']\n",
      "назначаля --- назначил --- ['назначался']\n",
      "проведеняи --- проведения --- ['проведения']\n",
      "беспакоют --- беспокоит --- ['беспокоят']\n",
      "гипертензи --- гипертензи --- ['гипертензия']\n",
      "воленйбол --- воленйбол --- ['волейбол']\n",
      "болезн --- болезнь --- ['болезнь']\n",
      "стенокардаа --- стенокардаа --- ['стенокардия']\n",
      "продолжалсь --- продолжалось --- ['продолжалась']\n",
      "поворное --- повторное --- ['повторное']\n",
      "ощуащет --- ощущаете --- ['ощущает']\n",
      "ангигнозного --- ангигнозного --- ['ангинозного', 'ангинозный']\n",
      "диагностичекой --- диагностичекой --- ['диагностической', 'диагностический']\n",
      "поддерживающией --- поддерживающией --- ['поддерживающий']\n",
      "межлопаточнй --- межлопаточнй --- ['межлопаточный']\n",
      "бедреной --- бедной --- ['бедренной', 'бедренный']\n",
      "гшрядки --- гшрядки --- ['грядки']\n",
      "бассеине --- бассейне --- ['бассейне', 'бассейн']\n",
      "возлуха --- воздуха --- ['воздуха', 'воздух']\n",
      "сенября --- сентября --- ['сентября', 'сентябрь']\n",
      "постояная --- постоянная --- ['постоянная', 'постоянный']\n",
      "рекмоендовнао --- рекмоендовнао --- ['рекомендовано']\n",
      "поврждения --- повреждения --- ['повреждения']\n",
      "дискофморта --- дискофморта --- ['дискомфорт']\n",
      "импалнтирован --- импалнтирован --- ['имплантирован', 'имплантировать']\n",
      "неочетливая --- неочетливая --- ['неотчетливая', 'неотчетливый']\n",
      "обесвеченный --- обесвеченный --- ['обесцвеченный', 'обеспеченный']\n",
      "серце --- сердце --- ['сердце']\n",
      "блезнь --- болезнь --- ['болезнь']\n",
      "лергия --- серия --- ['аллергия']\n",
      "ука --- ума --- ['рука']\n",
      "изжга --- инга --- ['изжога']\n",
      "жение --- жених --- ['жжение']\n",
      "кашел --- нашел --- ['кашель']\n",
      "рствор --- раствор --- ['раствор']\n",
      "пациен --- пациент --- ['пациент']\n",
      "пожлой --- пожилой --- ['пожилой']\n",
      "лекарсво --- лекарство --- ['лекарство']\n",
      "нпреносимость --- нпреносимость --- ['непереносимость']\n",
      "амупула --- ампулу --- ['ампула']\n",
      "гел --- дел --- ['гель']\n",
      "конценрат --- концерт --- ['концентрат']\n",
      "рилиф --- или --- ['релиф']\n",
      "чссс --- мисс --- ['ЧСС', 'чсс']\n",
      "экгъ --- экг --- ['ЭКГ', 'экг']\n",
      "фибриляция --- фибрилляция --- ['фибрилляция']\n",
      "желдочек --- желдочек --- ['желудочек']\n",
      "хрон --- хрен --- ['хронический']\n",
      "гиподин --- господин --- ['гиподинамический']\n",
      "нерный --- черный --- ['нервный']\n",
      "сист --- сиси --- ['система']\n",
      "диагоностика --- диагностика --- ['диагностика']\n",
      "гипоксмия --- гипоксмия --- ['гипоксемия']\n",
      "ледокоин --- ледокоин --- ['лидокаин']\n",
      "блокато --- блокнот --- ['блокатор']\n",
      "тахкардия --- тахикардия --- ['тахикардия']\n",
      "малоинвозивный --- малоинвозивный --- ['малоинвазивный']\n",
      "алация --- алисия --- ['аблация', 'абляция']\n",
      "имь --- им --- ['ИМ', 'им']\n",
      "паражение --- поражение --- ['поражение']\n",
      "тяжолый --- тяжелый --- ['тяжелый']\n",
      "гастрапластика --- гастрапластика --- ['гастропластика']\n",
      "вс --- вы --- ['вес']\n",
      "лешний --- летний --- ['лишний']\n",
      "орта --- рота --- ['аорта']\n",
      "клапа --- клара --- ['клапан']\n",
      "вент --- кент --- ['вена']\n",
      "палый --- малый --- ['полый']\n",
      "пирикард --- пикард --- ['перикард']\n",
      "метральный --- митральный --- ['митральный']\n",
      "ултразвук --- ультразвук --- ['ультразвук']\n",
      "херург --- хирург --- ['хирург']\n",
      "кордиолог --- кардиолог --- ['кардиолог']\n",
      "килограм --- килограмм --- ['килограмм']\n",
      "акенезия --- амнезия --- ['акинезия']\n",
      "врхушка --- верхушка --- ['верхушка']\n",
      "апекальный --- печальный --- ['апикальный']\n",
      "сгмент --- сегмент --- ['сегмент']\n",
      "вес --- вес --- ['весь']\n",
      "сьенка --- стенка --- ['стенка']\n",
      "церкулярный --- церкулярный --- ['циркулярный']\n",
      "сридиный --- сридиный --- ['срединный']\n",
      "калапаный --- клапаны --- ['клапанный']\n",
      "апарат --- аппарат --- ['аппарат']\n",
      "потология --- патология --- ['патология']\n",
      "перекард --- перекур --- ['перикард']\n",
      "праксимальный --- максимальный --- ['проксимальный']\n",
      "деаметр --- диаметр --- ['диаметр']\n",
      "корекция --- коррекция --- ['коррекция']\n",
      "аслажнение --- наслаждение --- ['осложнение']\n",
      "стрдать --- страдать --- ['страдать']\n",
      "гепертонический --- гепертонический --- ['гипертонический']\n",
      "болезн --- болезнь --- ['болезнь']\n",
      "одоптировать --- одоптировать --- ['адаптировать']\n",
      "получять --- получить --- ['получать']\n",
      "кансервативный --- кансервативный --- ['консервативный']\n",
      "тичение --- течение --- ['течение']\n",
      "пребование --- пребывание --- ['пребывание']\n",
      "отбиление --- отделение --- ['отделение']\n",
      "самачувствие --- самочувствие --- ['самочувствие']\n",
      "уходшение --- ухудшение --- ['ухудшение']\n",
      "месро --- место --- ['место']\n",
      "пункцыя --- пункция --- ['пункция']\n",
      "особеность --- особенность --- ['особенность']\n",
      "шнут --- кнут --- ['шунт']\n",
      "шнутирование --- шунтирование --- ['шунтирование']\n",
      "готчина --- ветчина --- ['гатчина']\n",
      "эхэ --- тхэ --- ['эхо']\n",
      "каранарный --- каранарный --- ['коронарный']\n",
      "ортерия --- артерия --- ['артерия']\n",
      "сначимый --- сначимый --- ['значимый']\n",
      "стинос --- спиной --- ['стеноз']\n",
      "гаспиализировать --- гаспиализировать --- ['госпитализировать']\n",
      "имья --- имя --- ['имя']\n",
      "олмазов --- толмачов --- ['алмазов']\n",
      "прдшствовать --- прдшствовать --- ['предшествовать']\n",
      "стинакардия --- стинакардия --- ['стенокардия']\n",
      "пиринести --- принести --- ['перенести']\n",
      "ифаркт --- инфаркт --- ['инфаркт']\n",
      "моикарда --- моикарда --- ['миокарда']\n",
      "лакализация --- канализация --- ['локализация']\n",
      "спразка --- справка --- ['справка']\n",
      "дальнейшый --- дальнейший --- ['дальнейший']\n",
      "хроническаянедостаточность --- хроническаянедостаточность --- ['хроническая недостаточность', 'хронический недостаточность']\n",
      "инфарктмиокарда --- инфарктмиокарда --- ['инфаркт миокарда', 'инфаркт миокард']\n",
      "отузла --- отдала --- ['от узла', 'от узел']\n",
      "нарушениеработы --- нарушениеработы --- ['нарушение работы', 'нарушение работа']\n",
      "вминуту --- минуту --- ['в минуту', 'в минута', 'минута']\n",
      "эндокриннойсистемы --- эндокриннойсистемы --- ['эндокринная система', 'эндокринный система']\n",
      "сердечныйритм --- сердечныйритм --- ['сердечный ритм']\n",
      "узловаятахикардия --- узловаятахикардия --- ['узловая тахикардия', 'узловой тахикардия']\n",
      "основныефакторы --- основныефакторы --- ['основной факто', 'основные факторы']\n",
      "остановкасердца --- остановкасердца --- ['остановка сердца', 'остановка сердце']\n",
      "фибрилляцияжелудочков --- фибрилляцияжелудочков --- ['фибрилляция желудочков', 'фибрилляция желудочек']\n",
      "счастотой --- счастотой --- ['с частотой', 'с частотаб частота']\n",
      "Right corrected words count - 67 of 200 total\n"
     ]
    },
    {
     "name": "stderr",
     "output_type": "stream",
     "text": [
      "100%|██████████| 200/200 [00:45<00:00,  4.41it/s]"
     ]
    },
    {
     "name": "stdout",
     "output_type": "stream",
     "text": [
      "Lexical precision\n",
      "original_word_list --- corrected_word\n",
      "выборгский --- выборгский\n",
      "отказываться --- отказываться\n",
      "нитропрепарат --- нитропрепарат\n",
      "предсердие --- предсердие\n",
      "диссоциация --- ассоциация\n",
      "кольцевой --- кольцевой\n",
      "отрыв --- отрыв\n",
      "вовлечение --- вовлечение\n",
      "мелкопузырчатый --- мелкопузырчатый\n",
      "госпитализировать --- госпитализировать\n",
      "фтизиатр --- фтизиатр\n",
      "проксимальный --- проксимальный\n",
      "приступ --- приступ\n",
      "рецидивировать --- рецидивировать\n",
      "беспокоить --- беспокоить\n",
      "значимый --- знакомый\n",
      "одномоментный --- одномоментный\n",
      "течение --- течение\n",
      "постепенной --- постепенно\n",
      "трафика --- графика\n",
      "левый --- левый\n",
      "область --- область\n",
      "окклюзия --- окклюзия\n",
      "каждый --- каждый\n",
      "аторвастатина --- аторвастатина\n",
      "проникающий --- проникающие\n",
      "слух --- слух\n",
      "отрицательный --- отрицательный\n",
      "заднее --- заднее\n",
      "диафрагмальный --- диафрагмальный\n",
      "физическая --- физическая\n",
      "реваскуляризация --- реваскуляризация\n",
      "очевидный --- очевидный\n",
      "умеренный --- уверенный\n",
      "самостоятельный --- самостоятельно\n",
      "визуализация --- визуализация\n",
      "неселективный --- неселективный\n",
      "септопластика --- септопластика\n",
      "присутствие --- присутствие\n",
      "соустье --- счастье\n",
      "кировский --- сиротский\n",
      "ноющая --- поющая\n",
      "постоять --- постоять\n",
      "стенка --- стенка\n",
      "укоротить --- укоротить\n",
      "назначить --- назначить\n",
      "госпитализация --- госпитализация\n",
      "возобновление --- возобновление\n",
      "одеть --- одеть\n",
      "охранник --- охранник\n",
      "дексона --- джексона\n",
      "систолический --- исторический\n",
      "верхушечно-перегородочный --- верхушечно-перегородочный\n",
      "расширение --- расширение\n",
      "равнозначный --- равнозначный\n",
      "предприятие --- предприятие\n",
      "ночь --- ночь\n",
      "вредность --- внешность\n",
      "транспортировка --- транспортировка\n",
      "март --- март\n",
      "гипотиазид --- гипотиазид\n",
      "скрытый --- скрытый\n",
      "расстройство --- расстройство\n",
      "ломота --- ворота\n",
      "подготовить --- подготовить\n",
      "помощь --- помощь\n",
      "большая --- большая\n",
      "эквивалент --- эквивалент\n",
      "гемостатический --- гемостатический\n",
      "купировавшийся --- купировавшийся\n",
      "ревизия --- религия\n",
      "пульсирующий --- пульсирующий\n",
      "регистрироваться --- регистрироваться\n",
      "лимитирование --- лимитирование\n",
      "ометать --- летать\n",
      "стихание --- свидание\n",
      "вазопрессорный --- вазопрессорный\n",
      "тредмил --- тредмил\n",
      "тест --- тест\n",
      "гипопноэ --- гипопноэ\n",
      "наш --- наш\n",
      "ускоренный --- ускоренный\n",
      "эфффект --- эффект\n",
      "тромбофлебит --- тромбофлебит\n",
      "ишемический --- ишемический\n",
      "купирование --- копирование\n",
      "патологии --- патология\n",
      "длительный --- длительный\n",
      "заключение --- заключение\n",
      "пунктировать --- пунктировать\n",
      "ферритина --- ферритина\n",
      "гастропротективный --- гастропротективный\n",
      "пароксизм --- пароксизм\n",
      "выполнять --- выполнять\n",
      "показатель --- показатель\n",
      "посттромбофлебитический --- посттромбофлебитический\n",
      "анальгин --- аналогия\n",
      "корректировать --- корректировать\n",
      "секунда --- секунда\n",
      "креатинкиназа --- креатинкиназа\n",
      "утолщение --- угощение\n",
      "терапия --- терапия\n",
      "глибомёт --- глибомёт\n",
      "лобэктомия --- лоботомия\n",
      "новгородский --- новгородский\n",
      "владеть --- владеть\n",
      "тенденция --- тенденция\n",
      "мерить --- верить\n",
      "поражений --- поражение\n",
      "перекосить --- перекусить\n",
      "тропонин --- тропонин\n",
      "сдвиг --- сдвиг\n",
      "отправить --- отправить\n",
      "сжимающее --- сжимающее\n",
      "давящий --- давний\n",
      "нифедипин --- нифедипин\n",
      "мексикор --- мексика\n",
      "сад --- сад\n",
      "мезентериальный --- мезентериальный\n",
      "дальнейшей --- дальнейшее\n",
      "реабилитация --- реабилитация\n",
      "переносить --- переносить\n",
      "дискомфорт --- дискомфорт\n",
      "проявление --- проявление\n",
      "батарея --- батарея\n",
      "фермент --- ферменты\n",
      "затёк --- засёк\n",
      "непроизвольный --- непроизвольный\n",
      "слепок --- слепок\n",
      "тенорик --- теория\n",
      "сегмента --- сегмент\n",
      "дрожь --- дрожь\n",
      "появляется --- появляется\n",
      "гепарина --- гепарина\n",
      "предсердие --- предсердие\n",
      "диурез --- диурез\n",
      "фиксировать --- зафиксировать\n",
      "временной --- временной\n",
      "микропрепарат --- микропрепарат\n",
      "аторвастатин --- аторвастатин\n",
      "гипотензия --- гипотензия\n",
      "грудь --- грудь\n",
      "инфаркт --- инфаркт\n",
      "мононуклеары --- мононуклеары\n",
      "постоянно --- постоянно\n",
      "погрузка --- погрузка\n",
      "фармакологический --- фармакологический\n",
      "нестабильный --- нестабильный\n",
      "мертенил --- мертенил\n",
      "тахикардий --- тахикардия\n",
      "снимать --- снимать\n",
      "распространиться --- распространить\n",
      "контрпульсатор --- контрпульсатор\n",
      "соталол --- стало\n",
      "складываться --- складывается\n",
      "кардиомегалия --- кардиомегалия\n",
      "смесь --- смесь\n",
      "мкг --- мог\n",
      "похожий --- похожий\n",
      "аутовенозный --- аутовенозный\n",
      "гепатина --- гепатит\n",
      "рецидивировать --- рецидивировать\n",
      "асцит --- спит\n",
      "стенокардия --- стенокардия\n",
      "тысяча --- тысяча\n",
      "промежуточный --- промежуточные\n",
      "возможный --- возможный\n",
      "водка --- водка\n",
      "лимфодиссекция --- лимфодиссекция\n",
      "принимать --- принимать\n",
      "стентирование --- тестирование\n",
      "незначимый --- незнакомый\n",
      "настоящее --- настоящее\n",
      "задненижний --- задненижний\n",
      "частичный --- частичный\n",
      "появиться --- появиться\n",
      "тройной --- тройной\n",
      "показатель --- показатель\n",
      "эквивалент --- эквивалент\n",
      "утолстить --- отомстить\n",
      "поведение --- поведение\n",
      "аускультативный --- аускультативный\n",
      "отказаться --- отказаться\n",
      "рассмотреть --- рассмотреть\n",
      "сывороточный --- сывороточный\n",
      "формирующийся --- формирующийся\n",
      "жир --- жир\n",
      "карведилол --- карведилол\n",
      "тонкий --- тонкий\n",
      "единица --- единица\n",
      "срабатывать --- зарабатывать\n",
      "компрометация --- компрометация\n",
      "россия --- россия\n",
      "массив --- массив\n",
      "нижнебоковой --- нижнебоковой\n",
      "отечь --- отель\n",
      "трепетание --- трепетание\n",
      "конкурировать --- конкурировать\n",
      "событие --- событие\n",
      "незначительный --- незначительный\n",
      "Right corrected words count - 153 of 200 total\n"
     ]
    },
    {
     "name": "stderr",
     "output_type": "stream",
     "text": [
      "\n"
     ]
    },
    {
     "data": {
      "text/plain": "{'words_per_minute': 263.76953125383835,\n 'error_precision': 0.335,\n 'lexical_precision': 0.765}"
     },
     "execution_count": 142,
     "metadata": {},
     "output_type": "execute_result"
    }
   ],
   "source": [
    "test_pyspellshecker_result = compute_all_metrics(\n",
    "    lambda : test_pyspellshecker(error_precision_test_word_list),\n",
    "    lambda : test_pyspellshecker(lexical_precision_test_word_list),\n",
    "    error_precision_test_word_list, error_precision_test_answers, lexical_precision_test_word_list)\n",
    "test_pyspellshecker_result"
   ],
   "metadata": {
    "collapsed": false,
    "pycharm": {
     "name": "#%%\n"
    }
   }
  },
  {
   "cell_type": "markdown",
   "source": [
    "# PyEnchant - https://pypi.org/project/pyenchant/"
   ],
   "metadata": {
    "collapsed": false
   }
  },
  {
   "cell_type": "code",
   "execution_count": 143,
   "outputs": [
    {
     "name": "stdout",
     "output_type": "stream",
     "text": [
      "Requirement already satisfied: pyenchant in /home/Dmitry.Pogrebnoy/Desktop/MedSpellChecker/venv/lib/python3.9/site-packages (3.2.2)\r\n"
     ]
    }
   ],
   "source": [
    "!pip install pyenchant"
   ],
   "metadata": {
    "collapsed": false,
    "pycharm": {
     "name": "#%%\n"
    }
   }
  },
  {
   "cell_type": "code",
   "execution_count": 144,
   "outputs": [
    {
     "name": "stdout",
     "output_type": "stream",
     "text": [
      "Name: pyenchant\r\n",
      "Version: 3.2.2\r\n",
      "Summary: Python bindings for the Enchant spellchecking system\r\n",
      "Home-page: https://pyenchant.github.io/pyenchant/\r\n",
      "Author: Dimitri Merejkowsky\r\n",
      "Author-email: d.merej@gmail.com\r\n",
      "License: LGPL\r\n",
      "Location: /home/Dmitry.Pogrebnoy/Desktop/MedSpellChecker/venv/lib/python3.9/site-packages\r\n",
      "Requires: \r\n",
      "Required-by: \r\n"
     ]
    }
   ],
   "source": [
    "!pip show pyenchant"
   ],
   "metadata": {
    "collapsed": false,
    "pycharm": {
     "name": "#%%\n"
    }
   }
  },
  {
   "cell_type": "code",
   "execution_count": 145,
   "outputs": [],
   "source": [
    "import enchant"
   ],
   "metadata": {
    "collapsed": false,
    "pycharm": {
     "name": "#%%\n"
    }
   }
  },
  {
   "cell_type": "code",
   "execution_count": 146,
   "outputs": [],
   "source": [
    "def test_enchant(input_word_list):\n",
    "    speller = enchant.Dict(\"ru\")\n",
    "    result = []\n",
    "    timer = tqdm(input_word_list)\n",
    "    for word in timer:\n",
    "        suggestions = speller.suggest(word)\n",
    "        if len(suggestions) == 0:\n",
    "            result.append(word)\n",
    "        else:\n",
    "            result.append(suggestions[0])\n",
    "    return  {\"elapsed\" : timer.format_dict[\"elapsed\"], \"corrected_word_list\" : result}"
   ],
   "metadata": {
    "collapsed": false,
    "pycharm": {
     "name": "#%%\n"
    }
   }
  },
  {
   "cell_type": "code",
   "execution_count": 147,
   "outputs": [
    {
     "name": "stderr",
     "output_type": "stream",
     "text": [
      "100%|██████████| 200/200 [00:06<00:00, 28.98it/s]\n"
     ]
    },
    {
     "name": "stdout",
     "output_type": "stream",
     "text": [
      "Error precision\n",
      "original_word_list --- corrected_word --- answer_word_list\n",
      "эктренном --- экстренном --- ['экстренном']\n",
      "синусовго --- синусов го --- ['синусового']\n",
      "даным --- даны --- ['данным', 'данный', 'данные']\n",
      "шнутография --- нотография --- ['шунтография']\n",
      "сникопальных --- сник опальных --- ['синкопальных']\n",
      "посление --- поселение --- ['поселение', 'последний']\n",
      "ходавый --- хордовый --- ['ходовый']\n",
      "анмнезе --- анамнезе --- ['анамнезе', 'анамнез']\n",
      "сентированный --- сориентированный --- ['стентированный']\n",
      "самоч --- само --- ['самочувствие']\n",
      "перевдена --- перевидена --- ['переведена']\n",
      "стентированеим --- сориентировавшим --- ['стентированием', 'стентирование']\n",
      "кардиол --- кар диол --- ['кардиолог,кардиологический']\n",
      "переведна --- переведена --- ['переведена']\n",
      "догосптальном --- госпитальном --- ['догоспитальном']\n",
      "миним --- мини --- ['минимум', 'минимальный']\n",
      "субфебриллитет --- субмиллиметровый --- ['субфебрилитет']\n",
      "загрудиные --- нагрудные --- ['загрудинные', 'загрудинный']\n",
      "перферия --- периферия --- ['периферия']\n",
      "течени --- течении --- ['течение']\n",
      "оклюзия --- окклюзия --- ['окклюзия']\n",
      "жнщина --- женщина --- ['женщина']\n",
      "пциент --- пациент --- ['пациент']\n",
      "зарегистирована --- зарегистрирована --- ['зарегистрирована']\n",
      "сегмета --- сегмента --- ['сегмента']\n",
      "клекте --- клетке --- ['клетке']\n",
      "эпид --- эпод --- ['эпидемия', 'эпидемиологический', 'эпидуральный']\n",
      "интелектуально --- интеллектуально --- ['интеллектуально']\n",
      "нижн --- ниж --- ['нижний']\n",
      "прводилась --- приводилась --- ['проводилась', 'проводить']\n",
      "неуст --- несут --- ['неустановленный']\n",
      "госптализирован --- госпитализирован --- ['госпитализирован']\n",
      "вперые --- впертые --- ['впервые']\n",
      "послеоперационом --- послеоперационном --- ['послеоперационном']\n",
      "госпитализирова --- госпитализирован --- ['госпитализирован']\n",
      "ухудщение --- ухудшение --- ['ухудшение']\n",
      "рентг --- рента --- ['рентген']\n",
      "дальнешем --- дальнейшем --- ['дальнейшем']\n",
      "троботическая --- астроботаническая --- ['тромботическая']\n",
      "многосоудистое --- многосоставное --- ['многососудистое', 'многососудистый']\n",
      "миокрада --- миокарда --- ['миокарда', 'миокард']\n",
      "сопрвождались --- сопровождались --- ['сопровождались']\n",
      "дискмфорт --- дискомфорт --- ['дискомфорт']\n",
      "потлтвостью --- потливостью --- ['потливостью']\n",
      "левогожелудочка --- левого желудочка --- ['левого желудочка', 'левый желудочек']\n",
      "рание --- рани --- ['ранее', 'ранние']\n",
      "виед --- виде --- ['виде', 'вид']\n",
      "ангинозныеболи --- ангинозные боли --- ['ангинозные боли', 'ангиозный боль']\n",
      "догоситальном --- госпитальном --- ['догоспитальном']\n",
      "ввполнен --- выполнен --- ['выполнен']\n",
      "чаосв --- часов --- ['часов']\n",
      "октазалась --- отказалась --- ['отказалась']\n",
      "линика --- линка --- ['клиника']\n",
      "ммента --- мента --- ['момента']\n",
      "проведеной --- проведено --- ['проведенной']\n",
      "выполненяи --- выполнения --- ['выполнения', 'выполнение']\n",
      "леченяи --- лечения --- ['лечения', 'лечение']\n",
      "обтилась --- отбилась --- ['обратилась']\n",
      "повтороно --- повторно --- ['повторно']\n",
      "зарегистриованы --- зарегистрированы --- ['зарегистрированы']\n",
      "отицает --- отрицает --- ['отрицает', 'отрицать']\n",
      "дальнейщем --- дальнейшем --- ['дальнейшем']\n",
      "болисохраняются --- боли сохраняются --- ['боли сохраняются']\n",
      "частичынм --- частичным --- ['частичным']\n",
      "атерокслеротичсекая --- атеросклеротическая --- ['атеросклеротическая']\n",
      "деньс --- день --- ['день', 'день с']\n",
      "назначаля --- назначал --- ['назначался']\n",
      "проведеняи --- проведения --- ['проведения']\n",
      "беспакоют --- беспокоит --- ['беспокоят']\n",
      "гипертензи --- гипертензии --- ['гипертензия']\n",
      "воленйбол --- волейбол --- ['волейбол']\n",
      "болезн --- болен --- ['болезнь']\n",
      "стенокардаа --- стенокардия --- ['стенокардия']\n",
      "продолжалсь --- продолжались --- ['продолжалась']\n",
      "поворное --- повторное --- ['повторное']\n",
      "ощуащет --- ощущает --- ['ощущает']\n",
      "ангигнозного --- ангинозного --- ['ангинозного', 'ангинозный']\n",
      "диагностичекой --- диагностической --- ['диагностической', 'диагностический']\n",
      "поддерживающией --- поддерживающие --- ['поддерживающий']\n",
      "межлопаточнй --- лопаточный --- ['межлопаточный']\n",
      "бедреной --- бедренной --- ['бедренной', 'бедренный']\n",
      "гшрядки --- грядки --- ['грядки']\n",
      "бассеине --- бассейне --- ['бассейне', 'бассейн']\n",
      "возлуха --- воздуха --- ['воздуха', 'воздух']\n",
      "сенября --- сентября --- ['сентября', 'сентябрь']\n",
      "постояная --- постоянная --- ['постоянная', 'постоянный']\n",
      "рекмоендовнао --- рекомендовано --- ['рекомендовано']\n",
      "поврждения --- повреждения --- ['повреждения']\n",
      "дискофморта --- дискомфорта --- ['дискомфорт']\n",
      "импалнтирован --- имплантирован --- ['имплантирован', 'имплантировать']\n",
      "неочетливая --- неотчетливая --- ['неотчетливая', 'неотчетливый']\n",
      "обесвеченный --- обесцвеченный --- ['обесцвеченный', 'обеспеченный']\n",
      "серце --- сере --- ['сердце']\n",
      "блезнь --- болезнь --- ['болезнь']\n",
      "лергия --- аллергия --- ['аллергия']\n",
      "ука --- ка --- ['рука']\n",
      "изжга --- изжога --- ['изжога']\n",
      "жение --- жени --- ['жжение']\n",
      "кашел --- кашле --- ['кашель']\n",
      "рствор --- створ --- ['раствор']\n",
      "пациен --- пациент --- ['пациент']\n",
      "пожлой --- полой --- ['пожилой']\n",
      "лекарсво --- лекарство --- ['лекарство']\n",
      "нпреносимость --- непереносимость --- ['непереносимость']\n",
      "амупула --- ампула --- ['ампула']\n",
      "гел --- лег --- ['гель']\n",
      "конценрат --- концентрат --- ['концентрат']\n",
      "рилиф --- рифли --- ['релиф']\n",
      "чссс --- СССР --- ['ЧСС', 'чсс']\n",
      "экгъ --- ЭКГ --- ['ЭКГ', 'экг']\n",
      "фибриляция --- фибрилляция --- ['фибрилляция']\n",
      "желдочек --- желудочек --- ['желудочек']\n",
      "хрон --- хрен --- ['хронический']\n",
      "гиподин --- подин --- ['гиподинамический']\n",
      "нерный --- нервный --- ['нервный']\n",
      "сист --- сист --- ['система']\n",
      "диагоностика --- диагностика --- ['диагностика']\n",
      "гипоксмия --- гипоксия --- ['гипоксемия']\n",
      "ледокоин --- ледокол --- ['лидокаин']\n",
      "блокато --- блокатор --- ['блокатор']\n",
      "тахкардия --- тахикардия --- ['тахикардия']\n",
      "малоинвозивный --- малоинформативный --- ['малоинвазивный']\n",
      "алация --- акация --- ['аблация', 'абляция']\n",
      "имь --- им --- ['ИМ', 'им']\n",
      "паражение --- поражение --- ['поражение']\n",
      "тяжолый --- тяжелый --- ['тяжелый']\n",
      "гастрапластика --- органопластика --- ['гастропластика']\n",
      "вс --- св --- ['вес']\n",
      "лешний --- лишней --- ['лишний']\n",
      "орта --- рота --- ['аорта']\n",
      "клапа --- капа --- ['клапан']\n",
      "вент --- вен --- ['вена']\n",
      "палый --- пылай --- ['полый']\n",
      "пирикард --- перикард --- ['перикард']\n",
      "метральный --- метальный --- ['митральный']\n",
      "ултразвук --- ультразвук --- ['ультразвук']\n",
      "херург --- хирург --- ['хирург']\n",
      "кордиолог --- кардиолог --- ['кардиолог']\n",
      "килограм --- килограмм --- ['килограмм']\n",
      "акенезия --- акинезия --- ['акинезия']\n",
      "врхушка --- врушка --- ['верхушка']\n",
      "апекальный --- апикальный --- ['апикальный']\n",
      "сгмент --- сегмент --- ['сегмент']\n",
      "вес --- все --- ['весь']\n",
      "сьенка --- стенка --- ['стенка']\n",
      "церкулярный --- циркулярный --- ['циркулярный']\n",
      "сридиный --- срединный --- ['срединный']\n",
      "калапаный --- клапанный --- ['клапанный']\n",
      "апарат --- аппарат --- ['аппарат']\n",
      "потология --- топология --- ['патология']\n",
      "перекард --- перикард --- ['перикард']\n",
      "праксимальный --- проксимальный --- ['проксимальный']\n",
      "деаметр --- диаметр --- ['диаметр']\n",
      "корекция --- коррекция --- ['коррекция']\n",
      "аслажнение --- наслаждение --- ['осложнение']\n",
      "стрдать --- страдать --- ['страдать']\n",
      "гепертонический --- гипертонический --- ['гипертонический']\n",
      "болезн --- болен --- ['болезнь']\n",
      "одоптировать --- кооптировать --- ['адаптировать']\n",
      "получять --- получить --- ['получать']\n",
      "кансервативный --- консервативный --- ['консервативный']\n",
      "тичение --- точение --- ['течение']\n",
      "пребование --- пробование --- ['пребывание']\n",
      "отбиление --- отбавление --- ['отделение']\n",
      "самачувствие --- самочувствие --- ['самочувствие']\n",
      "уходшение --- ухудшение --- ['ухудшение']\n",
      "месро --- место --- ['место']\n",
      "пункцыя --- пункция --- ['пункция']\n",
      "особеность --- особенность --- ['особенность']\n",
      "шнут --- шунт --- ['шунт']\n",
      "шнутирование --- шунтирование --- ['шунтирование']\n",
      "готчина --- вотчина --- ['гатчина']\n",
      "эхэ --- эх --- ['эхо']\n",
      "каранарный --- карандашный --- ['коронарный']\n",
      "ортерия --- артерия --- ['артерия']\n",
      "сначимый --- значимый --- ['значимый']\n",
      "стинос --- остинато --- ['стеноз']\n",
      "гаспиализировать --- госпитализировать --- ['госпитализировать']\n",
      "имья --- имя --- ['имя']\n",
      "олмазов --- алмазов --- ['алмазов']\n",
      "прдшствовать --- предшествовать --- ['предшествовать']\n",
      "стинакардия --- стенокардия --- ['стенокардия']\n",
      "пиринести --- принести --- ['перенести']\n",
      "ифаркт --- инфаркт --- ['инфаркт']\n",
      "моикарда --- миокарда --- ['миокарда']\n",
      "лакализация --- алкализация --- ['локализация']\n",
      "спразка --- справка --- ['справка']\n",
      "дальнейшый --- дальнейший --- ['дальнейший']\n",
      "хроническаянедостаточность --- хроническая недостаточность --- ['хроническая недостаточность', 'хронический недостаточность']\n",
      "инфарктмиокарда --- инфаркт миокарда --- ['инфаркт миокарда', 'инфаркт миокард']\n",
      "отузла --- от узла --- ['от узла', 'от узел']\n",
      "нарушениеработы --- нарушение работы --- ['нарушение работы', 'нарушение работа']\n",
      "вминуту --- минуту --- ['в минуту', 'в минута', 'минута']\n",
      "эндокриннойсистемы --- эндокринной системы --- ['эндокринная система', 'эндокринный система']\n",
      "сердечныйритм --- сердечный ритм --- ['сердечный ритм']\n",
      "узловаятахикардия --- узловая тахикардия --- ['узловая тахикардия', 'узловой тахикардия']\n",
      "основныефакторы --- основные факторы --- ['основной факто', 'основные факторы']\n",
      "остановкасердца --- остановка сердца --- ['остановка сердца', 'остановка сердце']\n",
      "фибрилляцияжелудочков --- фибрилляция желудочков --- ['фибрилляция желудочков', 'фибрилляция желудочек']\n",
      "счастотой --- частотой --- ['с частотой', 'с частотаб частота']\n",
      "Right corrected words count - 120 of 200 total\n"
     ]
    },
    {
     "name": "stderr",
     "output_type": "stream",
     "text": [
      "100%|██████████| 200/200 [00:08<00:00, 24.65it/s]"
     ]
    },
    {
     "name": "stdout",
     "output_type": "stream",
     "text": [
      "Lexical precision\n",
      "original_word_list --- corrected_word\n",
      "выборгский --- выборгской\n",
      "отказываться --- отказываться\n",
      "нитропрепарат --- биопрепарат\n",
      "предсердие --- предсердие\n",
      "диссоциация --- диссоциация\n",
      "кольцевой --- кольцевое\n",
      "отрыв --- отрыва\n",
      "вовлечение --- вовлечение\n",
      "мелкопузырчатый --- мелко пузырчатый\n",
      "госпитализировать --- госпитализировать\n",
      "фтизиатр --- фтизиатр\n",
      "проксимальный --- проксимальной\n",
      "приступ --- приступи\n",
      "рецидивировать --- резецировать\n",
      "беспокоить --- беспокоить\n",
      "значимый --- значимы\n",
      "одномоментный --- одномоментный\n",
      "течение --- течение\n",
      "постепенной --- постепенной\n",
      "трафика --- трафика\n",
      "левый --- левы\n",
      "область --- областью\n",
      "окклюзия --- окклюзия\n",
      "каждый --- каждой\n",
      "аторвастатина --- настораживать\n",
      "проникающий --- поникающий\n",
      "слух --- сух\n",
      "отрицательный --- отрицательны\n",
      "заднее --- заднее\n",
      "диафрагмальный --- поддиафрагмальный\n",
      "физическая --- физическая\n",
      "реваскуляризация --- секуляризация\n",
      "очевидный --- очевидны\n",
      "умеренный --- умеренный\n",
      "самостоятельный --- самостоятельный\n",
      "визуализация --- визуализация\n",
      "неселективный --- не селективный\n",
      "септопластика --- кератопластика\n",
      "присутствие --- присутствие\n",
      "соустье --- со устье\n",
      "кировский --- кировской\n",
      "ноющая --- роющая\n",
      "постоять --- постоять\n",
      "стенка --- снетка\n",
      "укоротить --- укоротить\n",
      "назначить --- назначить\n",
      "госпитализация --- госпитализация\n",
      "возобновление --- возобновление\n",
      "одеть --- одет\n",
      "охранник --- охранник\n",
      "дексона --- декстрана\n",
      "систолический --- систолический\n",
      "верхушечно-перегородочный --- верхушечное-перегородочный\n",
      "расширение --- расширение\n",
      "равнозначный --- равнозначный\n",
      "предприятие --- предприятие\n",
      "ночь --- ночью\n",
      "вредность --- древность\n",
      "транспортировка --- транспортировка\n",
      "март --- мат\n",
      "гипотиазид --- гипотиреоз\n",
      "скрытый --- скрытый\n",
      "расстройство --- расстройство\n",
      "ломота --- молота\n",
      "подготовить --- подготовить\n",
      "помощь --- помощь\n",
      "большая --- больная\n",
      "эквивалент --- эквивалент\n",
      "гемостатический --- гипостатический\n",
      "купировавшийся --- курировавшийся\n",
      "ревизия --- ревизия\n",
      "пульсирующий --- пульсирующие\n",
      "регистрироваться --- регистрироваться\n",
      "лимитирование --- лимитирование\n",
      "ометать --- метать\n",
      "стихание --- стирание\n",
      "вазопрессорный --- газокомпрессорный\n",
      "тредмил --- тред мил\n",
      "тест --- тест\n",
      "гипопноэ --- гипнолог\n",
      "наш --- на\n",
      "ускоренный --- ускоренный\n",
      "эфффект --- эффект\n",
      "тромбофлебит --- тромбофлебит\n",
      "ишемический --- ишемический\n",
      "купирование --- купированием\n",
      "патологии --- патологии\n",
      "длительный --- длительный\n",
      "заключение --- заключение\n",
      "пунктировать --- пунктиров ать\n",
      "ферритина --- феррита\n",
      "гастропротективный --- противопригарный\n",
      "пароксизм --- пароксизма\n",
      "выполнять --- выполнят\n",
      "показатель --- показатель\n",
      "посттромбофлебитический --- противосифилитический\n",
      "анальгин --- анальгин\n",
      "корректировать --- корректировать\n",
      "секунда --- секунд\n",
      "креатинкиназа --- панкреатина\n",
      "утолщение --- утолщение\n",
      "терапия --- терапии\n",
      "глибомёт --- бомбомёт\n",
      "лобэктомия --- эмбриотомия\n",
      "новгородский --- новгородский\n",
      "владеть --- овладеть\n",
      "тенденция --- тенденция\n",
      "мерить --- мерит\n",
      "поражений --- поражении\n",
      "перекосить --- перекосить\n",
      "тропонин --- тропинка\n",
      "сдвиг --- сдвиги\n",
      "отправить --- отправит\n",
      "сжимающее --- сжимающее\n",
      "давящий --- дивящий\n",
      "нифедипин --- дифениламин\n",
      "мексикор --- мексиканка\n",
      "сад --- ад\n",
      "мезентериальный --- мезентериальный\n",
      "дальнейшей --- дальнейшей\n",
      "реабилитация --- реабилитация\n",
      "переносить --- переносить\n",
      "дискомфорт --- дискомфорт\n",
      "проявление --- проявление\n",
      "батарея --- батарея\n",
      "фермент --- фермент\n",
      "затёк --- затек\n",
      "непроизвольный --- непроизвольный\n",
      "слепок --- слепо\n",
      "тенорик --- тенорки\n",
      "сегмента --- сегмента\n",
      "дрожь --- рожь\n",
      "появляется --- появляется\n",
      "гепарина --- гепарина\n",
      "предсердие --- предсердие\n",
      "диурез --- диуреза\n",
      "фиксировать --- фиксировать\n",
      "временной --- временной\n",
      "микропрепарат --- химиопрепарат\n",
      "аторвастатин --- констатирован\n",
      "гипотензия --- гипотензии\n",
      "грудь --- груд\n",
      "инфаркт --- инфаркта\n",
      "мононуклеары --- мононуклеотиды\n",
      "постоянно --- постоянно\n",
      "погрузка --- погрузкам\n",
      "фармакологический --- фармакологический\n",
      "нестабильный --- нестабильны\n",
      "мертенил --- переменил\n",
      "тахикардий --- тахикардией\n",
      "снимать --- сминать\n",
      "распространиться --- распространиться\n",
      "контрпульсатор --- импульсатор\n",
      "соталол --- схлопотал\n",
      "складываться --- складываться\n",
      "кардиомегалия --- акромегалия\n",
      "смесь --- смесь\n",
      "мкг --- мг\n",
      "похожий --- похожий\n",
      "аутовенозный --- артериовенозный\n",
      "гепатина --- гепатита\n",
      "рецидивировать --- резецировать\n",
      "асцит --- асцита\n",
      "стенокардия --- стенокардии\n",
      "тысяча --- тысяч\n",
      "промежуточный --- промежуточной\n",
      "возможный --- возможный\n",
      "водка --- вода\n",
      "лимфодиссекция --- фотодиссоциация\n",
      "принимать --- принимать\n",
      "стентирование --- патентирование\n",
      "незначимый --- не значимый\n",
      "настоящее --- настоящее\n",
      "задненижний --- затруднений\n",
      "частичный --- частичны\n",
      "появиться --- появится\n",
      "тройной --- тройной\n",
      "показатель --- показатель\n",
      "эквивалент --- эквивалент\n",
      "утолстить --- утолиться\n",
      "поведение --- поведение\n",
      "аускультативный --- факультативный\n",
      "отказаться --- отказаться\n",
      "рассмотреть --- рассмотреть\n",
      "сывороточный --- сывороточный\n",
      "формирующийся --- формирующийся\n",
      "жир --- жри\n",
      "карведилол --- кардиолог\n",
      "тонкий --- тонки\n",
      "единица --- единица\n",
      "срабатывать --- срабатывать\n",
      "компрометация --- компрометация\n",
      "россия --- Россия\n",
      "массив --- массив\n",
      "нижнебоковой --- нижненемецкой\n",
      "отечь --- отеч\n",
      "трепетание --- трепетание\n",
      "конкурировать --- конкурировать\n",
      "событие --- событием\n",
      "незначительный --- незначительный\n",
      "Right corrected words count - 91 of 200 total\n"
     ]
    },
    {
     "name": "stderr",
     "output_type": "stream",
     "text": [
      "\n"
     ]
    },
    {
     "data": {
      "text/plain": "{'words_per_minute': 1598.1222472050963,\n 'error_precision': 0.6,\n 'lexical_precision': 0.455}"
     },
     "execution_count": 147,
     "metadata": {},
     "output_type": "execute_result"
    }
   ],
   "source": [
    "test_enchant_result = compute_all_metrics(\n",
    "    lambda : test_enchant(error_precision_test_word_list),\n",
    "    lambda : test_enchant(lexical_precision_test_word_list),\n",
    "    error_precision_test_word_list, error_precision_test_answers, lexical_precision_test_word_list)\n",
    "test_enchant_result"
   ],
   "metadata": {
    "collapsed": false,
    "pycharm": {
     "name": "#%%\n"
    }
   }
  },
  {
   "cell_type": "markdown",
   "source": [
    "## Show results in table"
   ],
   "metadata": {
    "collapsed": false
   }
  },
  {
   "cell_type": "code",
   "execution_count": 148,
   "outputs": [
    {
     "name": "stdout",
     "output_type": "stream",
     "text": [
      "Requirement already satisfied: tabulate in /home/Dmitry.Pogrebnoy/Desktop/MedSpellChecker/venv/lib/python3.9/site-packages (0.8.9)\r\n"
     ]
    }
   ],
   "source": [
    "!pip install tabulate"
   ],
   "metadata": {
    "collapsed": false,
    "pycharm": {
     "name": "#%%\n"
    }
   }
  },
  {
   "cell_type": "code",
   "execution_count": 153,
   "outputs": [],
   "source": [
    "from tabulate import tabulate"
   ],
   "metadata": {
    "collapsed": false,
    "pycharm": {
     "name": "#%%\n"
    }
   }
  },
  {
   "cell_type": "code",
   "execution_count": 155,
   "outputs": [
    {
     "name": "stdout",
     "output_type": "stream",
     "text": [
      "Tool name                          Avg words per minute    Error precision    Lexical precision\n",
      "-------------------------------  ----------------------  -----------------  -------------------\n",
      "Spellchecker prototype v2                       4.36666              0.41                 0.83\n",
      "Symspell lookup                            955033                    0.42                 0.78\n",
      "Symspell lookup compound                    53118.4                  0.46                 0.54\n",
      "Jumspell                                   116115                    0.395                0.925\n",
      "LanguageTool                                  902.79                 0.64                 0.845\n",
      "Aspell                                      20885.3                  0.65                 0.775\n",
      "Hunspell                                      700.314                0.59                 0.49\n",
      "PySpellChecker (Peter Norvig's)               263.77                 0.335                0.765\n",
      "Enchant                                      1598.12                 0.6                  0.455\n"
     ]
    }
   ],
   "source": [
    "header = [\"Tool name\", \"Avg words per minute\", \"Error precision\", \"Lexical precision\"]\n",
    "table = [[\"Spellchecker prototype v2\", spellchecker_prototype_v2_metrics[\"words_per_minute\"], spellchecker_prototype_v2_metrics[\"error_precision\"], spellchecker_prototype_v2_metrics[\"lexical_precision\"]],\n",
    "         [\"Symspell lookup\", test_symspell_py_lookup_result[\"words_per_minute\"], test_symspell_py_lookup_result[\"error_precision\"], test_symspell_py_lookup_result[\"lexical_precision\"]],\n",
    "         [\"Symspell lookup compound\", test_symspell_py_lookup_compound_result[\"words_per_minute\"], test_symspell_py_lookup_compound_result[\"error_precision\"], test_symspell_py_lookup_compound_result[\"lexical_precision\"]],\n",
    "         [\"Jumspell\", test_jumspell_result[\"words_per_minute\"], test_jumspell_result[\"error_precision\"], test_jumspell_result[\"lexical_precision\"]],\n",
    "         [\"LanguageTool\", test_language_tool_result[\"words_per_minute\"], test_language_tool_result[\"error_precision\"], test_language_tool_result[\"lexical_precision\"]],\n",
    "         [\"Aspell\", test_aspell_result[\"words_per_minute\"], test_aspell_result[\"error_precision\"], test_aspell_result[\"lexical_precision\"]],\n",
    "         [\"Hunspell\", test_hunspell_result[\"words_per_minute\"], test_hunspell_result[\"error_precision\"], test_hunspell_result[\"lexical_precision\"]],\n",
    "         [\"PySpellChecker (Peter Norvig's)\", test_pyspellshecker_result[\"words_per_minute\"], test_pyspellshecker_result[\"error_precision\"], test_pyspellshecker_result[\"lexical_precision\"]],\n",
    "         [\"Enchant\", test_enchant_result[\"words_per_minute\"], test_enchant_result[\"error_precision\"], test_enchant_result[\"lexical_precision\"]],]\n",
    "print(tabulate(table, headers=header))"
   ],
   "metadata": {
    "collapsed": false,
    "pycharm": {
     "name": "#%%\n"
    }
   }
  },
  {
   "cell_type": "code",
   "execution_count": null,
   "outputs": [],
   "source": [],
   "metadata": {
    "collapsed": false,
    "pycharm": {
     "name": "#%%\n"
    }
   }
  }
 ],
 "metadata": {
  "colab": {
   "name": "Spellchecker_tests.ipynb",
   "provenance": []
  },
  "kernelspec": {
   "display_name": "Python 3 (ipykernel)",
   "language": "python",
   "name": "python3"
  },
  "language_info": {
   "codemirror_mode": {
    "name": "ipython",
    "version": 3
   },
   "file_extension": ".py",
   "mimetype": "text/x-python",
   "name": "python",
   "nbconvert_exporter": "python",
   "pygments_lexer": "ipython3",
   "version": "3.9.1"
  }
 },
 "nbformat": 4,
 "nbformat_minor": 1
}