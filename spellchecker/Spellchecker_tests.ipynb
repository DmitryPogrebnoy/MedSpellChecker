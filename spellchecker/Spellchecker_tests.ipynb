{
 "cells": [
  {
   "cell_type": "markdown",
   "metadata": {
    "id": "sAliKDQvhExv"
   },
   "source": [
    "# Prepear test dataset\n",
    "Format - {word}{several spaces}{answer-words separeted by comma}"
   ]
  },
  {
   "cell_type": "code",
   "execution_count": 1,
   "metadata": {},
   "outputs": [
    {
     "name": "stdout",
     "output_type": "stream",
     "text": [
      "Requirement already satisfied: pip in c:\\users\\pogre\\appdata\\local\\programs\\python\\python39\\lib\\site-packages (21.3.1)\n",
      "Note: you may need to restart the kernel to use updated packages.\n"
     ]
    }
   ],
   "source": [
    "pip install --upgrade pip"
   ]
  },
  {
   "cell_type": "code",
   "execution_count": 2,
   "metadata": {
    "id": "JtZvUWdZhFOf"
   },
   "outputs": [
    {
     "name": "stdout",
     "output_type": "stream",
     "text": [
      "Requirement already satisfied: pandas in c:\\users\\pogre\\appdata\\local\\programs\\python\\python39\\lib\\site-packages (1.3.3)\n",
      "Requirement already satisfied: numpy>=1.17.3 in c:\\users\\pogre\\appdata\\local\\programs\\python\\python39\\lib\\site-packages (from pandas) (1.21.2)\n",
      "Requirement already satisfied: python-dateutil>=2.7.3 in c:\\users\\pogre\\appdata\\local\\programs\\python\\python39\\lib\\site-packages (from pandas) (2.8.1)\n",
      "Requirement already satisfied: pytz>=2017.3 in c:\\users\\pogre\\appdata\\local\\programs\\python\\python39\\lib\\site-packages (from pandas) (2021.3)\n",
      "Requirement already satisfied: six>=1.5 in c:\\users\\pogre\\appdata\\local\\programs\\python\\python39\\lib\\site-packages (from python-dateutil>=2.7.3->pandas) (1.15.0)\n"
     ]
    }
   ],
   "source": [
    "!pip install pandas\n",
    "import pandas as pd"
   ]
  },
  {
   "cell_type": "code",
   "execution_count": 3,
   "metadata": {
    "id": "OZYmhZvuWLfa"
   },
   "outputs": [],
   "source": [
    "test_incorrect_file = open('../data/test_sample_incorrect.txt', 'r', encoding=\"utf8\")\n",
    "test_incorrect_lines = test_incorrect_file.readlines()\n",
    "splitted_test_incorrect_lines = list(map(lambda x: x.split(maxsplit=1), test_incorrect_lines))\n",
    "test_incorrect_words = list(map(lambda x: x[0], splitted_test_incorrect_lines))\n",
    "test_incorrect_answers = list(map(lambda x: list(map(lambda y: y.strip(), x[1].split(', '))), splitted_test_incorrect_lines))\n",
    "test_df = pd.DataFrame(test_incorrect_words, columns=[\"test_word\"])\n",
    "test_df[\"answers\"] = test_incorrect_answers\n"
   ]
  },
  {
   "cell_type": "code",
   "execution_count": 4,
   "metadata": {
    "colab": {
     "base_uri": "https://localhost:8080/",
     "height": 202
    },
    "id": "0P3kfs2dhj4q",
    "outputId": "1b7a854b-2395-4ddb-bf6f-8c6ee54b4ae6"
   },
   "outputs": [
    {
     "data": {
      "text/plain": "      test_word                   answers\n0     эктренном              [экстренном]\n1     синусовго              [синусового]\n2         даным  [данным, данный, данные]\n3   шнутография             [шунтография]\n4  сникопальных            [синкопальных]",
      "text/html": "<div>\n<style scoped>\n    .dataframe tbody tr th:only-of-type {\n        vertical-align: middle;\n    }\n\n    .dataframe tbody tr th {\n        vertical-align: top;\n    }\n\n    .dataframe thead th {\n        text-align: right;\n    }\n</style>\n<table border=\"1\" class=\"dataframe\">\n  <thead>\n    <tr style=\"text-align: right;\">\n      <th></th>\n      <th>test_word</th>\n      <th>answers</th>\n    </tr>\n  </thead>\n  <tbody>\n    <tr>\n      <th>0</th>\n      <td>эктренном</td>\n      <td>[экстренном]</td>\n    </tr>\n    <tr>\n      <th>1</th>\n      <td>синусовго</td>\n      <td>[синусового]</td>\n    </tr>\n    <tr>\n      <th>2</th>\n      <td>даным</td>\n      <td>[данным, данный, данные]</td>\n    </tr>\n    <tr>\n      <th>3</th>\n      <td>шнутография</td>\n      <td>[шунтография]</td>\n    </tr>\n    <tr>\n      <th>4</th>\n      <td>сникопальных</td>\n      <td>[синкопальных]</td>\n    </tr>\n  </tbody>\n</table>\n</div>"
     },
     "execution_count": 4,
     "metadata": {},
     "output_type": "execute_result"
    }
   ],
   "source": [
    "test_df.head()"
   ]
  },
  {
   "cell_type": "code",
   "execution_count": 5,
   "metadata": {},
   "outputs": [],
   "source": [
    "test_word_list = test_df[\"test_word\"].tolist()"
   ]
  },
  {
   "cell_type": "code",
   "execution_count": 6,
   "metadata": {},
   "outputs": [],
   "source": [
    "test_answers = test_df[\"answers\"].tolist()"
   ]
  },
  {
   "cell_type": "code",
   "execution_count": 7,
   "metadata": {},
   "outputs": [],
   "source": [
    "# Need to create test example for computing lexical precision\n",
    "def compute_error_precision(original_word_list, corrected_word_list, answer_word_list):\n",
    "    words_number = len(corrected_word_list)\n",
    "    correct_words_number = 0\n",
    "    print(\"original_word_list --- corrected_word --- answer_word_list\")\n",
    "    for i, corrected_word in enumerate(corrected_word_list):\n",
    "        print(f\"{original_word_list[i]} --- {corrected_word} --- {answer_word_list[i]}\")\n",
    "        if corrected_word in answer_word_list[i]:\n",
    "            correct_words_number += 1\n",
    "    print(f\"Right corrected words count - {correct_words_number} of {words_number} total\")\n",
    "    return correct_words_number/words_number"
   ]
  },
  {
   "cell_type": "code",
   "execution_count": 8,
   "outputs": [],
   "source": [
    "from tqdm import tqdm"
   ],
   "metadata": {
    "collapsed": false,
    "pycharm": {
     "name": "#%%\n"
    }
   }
  },
  {
   "cell_type": "code",
   "execution_count": 9,
   "outputs": [],
   "source": [
    "def compute_all_metrics(spellchecker_function, original_word_list, answer_word_list):\n",
    "    result = spellchecker_function()\n",
    "    elapsed_time = result[\"elapsed\"]\n",
    "    corrected_word_list = result[\"corrected_word_list\"]\n",
    "    error_precision = compute_error_precision(original_word_list, corrected_word_list, answer_word_list)\n",
    "    # TODO: Compute lexical precision\n",
    "    lexical_precision = 0.0\n",
    "    return elapsed_time / len(original_word_list), \\\n",
    "           error_precision, \\\n",
    "           lexical_precision, \\\n",
    "           original_word_list, \\\n",
    "           corrected_word_list,\\\n",
    "           answer_word_list"
   ],
   "metadata": {
    "collapsed": false,
    "pycharm": {
     "name": "#%%\n"
    }
   }
  },
  {
   "cell_type": "markdown",
   "metadata": {
    "id": "En1-fnjrUS7y"
   },
   "source": [
    "# Spellchecker prototype initialization"
   ]
  },
  {
   "cell_type": "code",
   "execution_count": 10,
   "metadata": {
    "colab": {
     "base_uri": "https://localhost:8080/"
    },
    "id": "-9NdfwQyUDcR",
    "outputId": "19f552b7-eaa9-4db6-f541-816ae713f3d4"
   },
   "outputs": [
    {
     "name": "stdout",
     "output_type": "stream",
     "text": [
      "Requirement already satisfied: pymorphy2 in c:\\users\\pogre\\appdata\\local\\programs\\python\\python39\\lib\\site-packages (0.9.1)\n",
      "Requirement already satisfied: docopt>=0.6 in c:\\users\\pogre\\appdata\\local\\programs\\python\\python39\\lib\\site-packages (from pymorphy2) (0.6.2)\n",
      "Requirement already satisfied: pymorphy2-dicts-ru<3.0,>=2.4 in c:\\users\\pogre\\appdata\\local\\programs\\python\\python39\\lib\\site-packages (from pymorphy2) (2.4.417127.4579844)\n",
      "Requirement already satisfied: dawg-python>=0.7.1 in c:\\users\\pogre\\appdata\\local\\programs\\python\\python39\\lib\\site-packages (from pymorphy2) (0.7.2)\n",
      "Requirement already satisfied: gensim in c:\\users\\pogre\\appdata\\local\\programs\\python\\python39\\lib\\site-packages (4.1.2)\n",
      "Requirement already satisfied: Cython==0.29.23 in c:\\users\\pogre\\appdata\\local\\programs\\python\\python39\\lib\\site-packages (from gensim) (0.29.23)\n",
      "Requirement already satisfied: scipy>=0.18.1 in c:\\users\\pogre\\appdata\\local\\programs\\python\\python39\\lib\\site-packages (from gensim) (1.7.1)\n",
      "Requirement already satisfied: numpy>=1.17.0 in c:\\users\\pogre\\appdata\\local\\programs\\python\\python39\\lib\\site-packages (from gensim) (1.21.2)\n",
      "Requirement already satisfied: smart-open>=1.8.1 in c:\\users\\pogre\\appdata\\local\\programs\\python\\python39\\lib\\site-packages (from gensim) (5.2.1)\n",
      "Requirement already satisfied: python-levenshtein in c:\\users\\pogre\\appdata\\local\\programs\\python\\python39\\lib\\site-packages (0.12.2)\n",
      "Requirement already satisfied: setuptools in c:\\users\\pogre\\appdata\\local\\programs\\python\\python39\\lib\\site-packages (from python-levenshtein) (49.2.1)\n",
      "Requirement already satisfied: stringdist in c:\\users\\pogre\\appdata\\local\\programs\\python\\python39\\lib\\site-packages (1.0.9)\n",
      "Requirement already satisfied: tqdm in c:\\users\\pogre\\appdata\\local\\programs\\python\\python39\\lib\\site-packages (4.62.3)\n",
      "Requirement already satisfied: colorama in c:\\users\\pogre\\appdata\\local\\programs\\python\\python39\\lib\\site-packages (from tqdm) (0.4.4)\n"
     ]
    }
   ],
   "source": [
    "!pip install pymorphy2 \n",
    "!pip install gensim\n",
    "!pip install python-levenshtein\n",
    "!pip install stringdist\n",
    "!pip install tqdm"
   ]
  },
  {
   "cell_type": "markdown",
   "metadata": {
    "id": "2mRtM4gyjlWZ"
   },
   "source": [
    "# Test SpellChecker Prototype v.2"
   ]
  },
  {
   "cell_type": "code",
   "execution_count": null,
   "outputs": [
    {
     "ename": "KeyboardInterrupt",
     "evalue": "",
     "output_type": "error",
     "traceback": [
      "\u001B[1;31m---------------------------------------------------------------------------\u001B[0m",
      "\u001B[1;31mKeyboardInterrupt\u001B[0m                         Traceback (most recent call last)",
      "\u001B[1;32m~\\AppData\\Local\\Temp/ipykernel_6704/3400879527.py\u001B[0m in \u001B[0;36m<module>\u001B[1;34m\u001B[0m\n\u001B[1;32m----> 1\u001B[1;33m \u001B[1;32mfrom\u001B[0m \u001B[0mspellchecker_prototype_v2\u001B[0m\u001B[1;33m.\u001B[0m\u001B[0mspell_checker\u001B[0m \u001B[1;32mimport\u001B[0m \u001B[0mSpellChecker\u001B[0m\u001B[1;33m\u001B[0m\u001B[1;33m\u001B[0m\u001B[0m\n\u001B[0m",
      "\u001B[1;32m~\\Desktop\\MedSpellChecker\\spellchecker_prototype_v2\\spell_checker.py\u001B[0m in \u001B[0;36m<module>\u001B[1;34m\u001B[0m\n\u001B[0;32m      1\u001B[0m \u001B[1;32mimport\u001B[0m \u001B[0mpickle\u001B[0m\u001B[1;33m\u001B[0m\u001B[1;33m\u001B[0m\u001B[0m\n\u001B[1;32m----> 2\u001B[1;33m \u001B[1;32mimport\u001B[0m \u001B[0mpymorphy2\u001B[0m  \u001B[1;31m# python -m pip install pymorphy2 #python -m pip install gensim\u001B[0m\u001B[1;33m\u001B[0m\u001B[1;33m\u001B[0m\u001B[0m\n\u001B[0m\u001B[0;32m      3\u001B[0m \u001B[1;32mimport\u001B[0m \u001B[0mLevenshtein\u001B[0m  \u001B[1;31m# python -m pip install python-levenshtein\u001B[0m\u001B[1;33m\u001B[0m\u001B[1;33m\u001B[0m\u001B[0m\n\u001B[0;32m      4\u001B[0m \u001B[1;32mimport\u001B[0m \u001B[0mstringdist\u001B[0m  \u001B[1;31m# python -m pip install stringdist\u001B[0m\u001B[1;33m\u001B[0m\u001B[1;33m\u001B[0m\u001B[0m\n\u001B[0;32m      5\u001B[0m \u001B[1;32mfrom\u001B[0m \u001B[0mscipy\u001B[0m\u001B[1;33m.\u001B[0m\u001B[0mspecial\u001B[0m \u001B[1;32mimport\u001B[0m \u001B[0msoftmax\u001B[0m\u001B[1;33m\u001B[0m\u001B[1;33m\u001B[0m\u001B[0m\n",
      "\u001B[1;32mc:\\users\\pogre\\appdata\\local\\programs\\python\\python39\\lib\\site-packages\\pymorphy2\\__init__.py\u001B[0m in \u001B[0;36m<module>\u001B[1;34m\u001B[0m\n\u001B[0;32m      1\u001B[0m \u001B[1;31m# -*- coding: utf-8 -*-\u001B[0m\u001B[1;33m\u001B[0m\u001B[1;33m\u001B[0m\u001B[1;33m\u001B[0m\u001B[0m\n\u001B[0;32m      2\u001B[0m \u001B[1;32mfrom\u001B[0m \u001B[1;33m.\u001B[0m\u001B[0mversion\u001B[0m \u001B[1;32mimport\u001B[0m \u001B[0m__version__\u001B[0m\u001B[1;33m\u001B[0m\u001B[1;33m\u001B[0m\u001B[0m\n\u001B[1;32m----> 3\u001B[1;33m \u001B[1;32mfrom\u001B[0m \u001B[1;33m.\u001B[0m\u001B[0manalyzer\u001B[0m \u001B[1;32mimport\u001B[0m \u001B[0mMorphAnalyzer\u001B[0m\u001B[1;33m\u001B[0m\u001B[1;33m\u001B[0m\u001B[0m\n\u001B[0m",
      "\u001B[1;32mc:\\users\\pogre\\appdata\\local\\programs\\python\\python39\\lib\\site-packages\\pymorphy2\\analyzer.py\u001B[0m in \u001B[0;36m<module>\u001B[1;34m\u001B[0m\n\u001B[0;32m      9\u001B[0m \u001B[1;32mimport\u001B[0m \u001B[0mwarnings\u001B[0m\u001B[1;33m\u001B[0m\u001B[1;33m\u001B[0m\u001B[0m\n\u001B[0;32m     10\u001B[0m \u001B[1;33m\u001B[0m\u001B[0m\n\u001B[1;32m---> 11\u001B[1;33m \u001B[1;32mfrom\u001B[0m \u001B[0mpymorphy2\u001B[0m \u001B[1;32mimport\u001B[0m \u001B[0mopencorpora_dict\u001B[0m\u001B[1;33m\u001B[0m\u001B[1;33m\u001B[0m\u001B[0m\n\u001B[0m\u001B[0;32m     12\u001B[0m \u001B[1;32mfrom\u001B[0m \u001B[0mpymorphy2\u001B[0m\u001B[1;33m.\u001B[0m\u001B[0mdawg\u001B[0m \u001B[1;32mimport\u001B[0m \u001B[0mConditionalProbDistDAWG\u001B[0m\u001B[1;33m\u001B[0m\u001B[1;33m\u001B[0m\u001B[0m\n\u001B[0;32m     13\u001B[0m \u001B[1;32mimport\u001B[0m \u001B[0mpymorphy2\u001B[0m\u001B[1;33m.\u001B[0m\u001B[0mlang\u001B[0m\u001B[1;33m\u001B[0m\u001B[1;33m\u001B[0m\u001B[0m\n",
      "\u001B[1;32mc:\\users\\pogre\\appdata\\local\\programs\\python\\python39\\lib\\importlib\\_bootstrap.py\u001B[0m in \u001B[0;36m_find_and_load\u001B[1;34m(name, import_)\u001B[0m\n",
      "\u001B[1;32mc:\\users\\pogre\\appdata\\local\\programs\\python\\python39\\lib\\importlib\\_bootstrap.py\u001B[0m in \u001B[0;36m_find_and_load_unlocked\u001B[1;34m(name, import_)\u001B[0m\n",
      "\u001B[1;32mc:\\users\\pogre\\appdata\\local\\programs\\python\\python39\\lib\\importlib\\_bootstrap.py\u001B[0m in \u001B[0;36m_load_unlocked\u001B[1;34m(spec)\u001B[0m\n",
      "\u001B[1;32mc:\\users\\pogre\\appdata\\local\\programs\\python\\python39\\lib\\importlib\\_bootstrap_external.py\u001B[0m in \u001B[0;36mexec_module\u001B[1;34m(self, module)\u001B[0m\n",
      "\u001B[1;32mc:\\users\\pogre\\appdata\\local\\programs\\python\\python39\\lib\\importlib\\_bootstrap_external.py\u001B[0m in \u001B[0;36mget_code\u001B[1;34m(self, fullname)\u001B[0m\n",
      "\u001B[1;32mc:\\users\\pogre\\appdata\\local\\programs\\python\\python39\\lib\\importlib\\_bootstrap_external.py\u001B[0m in \u001B[0;36mget_data\u001B[1;34m(self, path)\u001B[0m\n",
      "\u001B[1;31mKeyboardInterrupt\u001B[0m: "
     ]
    }
   ],
   "source": [
    "from spellchecker_prototype_v2.spell_checker import SpellChecker"
   ],
   "metadata": {
    "collapsed": false,
    "pycharm": {
     "name": "#%%\n",
     "is_executing": true
    }
   }
  },
  {
   "cell_type": "code",
   "execution_count": 2,
   "outputs": [
    {
     "ename": "NameError",
     "evalue": "name 'compute_all_metrics' is not defined",
     "output_type": "error",
     "traceback": [
      "\u001B[1;31m---------------------------------------------------------------------------\u001B[0m",
      "\u001B[1;31mNameError\u001B[0m                                 Traceback (most recent call last)",
      "\u001B[1;32m~\\AppData\\Local\\Temp/ipykernel_6704/2898295973.py\u001B[0m in \u001B[0;36m<module>\u001B[1;34m\u001B[0m\n\u001B[0;32m      6\u001B[0m     \u001B[1;32mreturn\u001B[0m \u001B[1;33m{\u001B[0m\u001B[1;34m\"elapsed\"\u001B[0m\u001B[1;33m:\u001B[0m \u001B[0mtimer\u001B[0m\u001B[1;33m.\u001B[0m\u001B[0mformat_dict\u001B[0m\u001B[1;33m[\u001B[0m\u001B[1;34m\"elapsed\"\u001B[0m\u001B[1;33m]\u001B[0m\u001B[1;33m,\u001B[0m \u001B[1;34m\"corrected_word_list\"\u001B[0m\u001B[1;33m:\u001B[0m \u001B[0mcorrected_word_list\u001B[0m\u001B[1;33m}\u001B[0m\u001B[1;33m\u001B[0m\u001B[1;33m\u001B[0m\u001B[0m\n\u001B[0;32m      7\u001B[0m \u001B[1;33m\u001B[0m\u001B[0m\n\u001B[1;32m----> 8\u001B[1;33m \u001B[0mspellchecker_prototype_v2_metrics\u001B[0m \u001B[1;33m=\u001B[0m \u001B[0mcompute_all_metrics\u001B[0m\u001B[1;33m(\u001B[0m\u001B[0mspellchecker_prototype_v2_correct_func\u001B[0m\u001B[1;33m,\u001B[0m \u001B[0mtest_word_list\u001B[0m\u001B[1;33m,\u001B[0m \u001B[0mtest_answers\u001B[0m\u001B[1;33m)\u001B[0m\u001B[1;33m\u001B[0m\u001B[1;33m\u001B[0m\u001B[0m\n\u001B[0m\u001B[0;32m      9\u001B[0m \u001B[0mspellchecker_prototype_v2_metrics\u001B[0m\u001B[1;33m\u001B[0m\u001B[1;33m\u001B[0m\u001B[0m\n",
      "\u001B[1;31mNameError\u001B[0m: name 'compute_all_metrics' is not defined"
     ]
    }
   ],
   "source": [
    "def spellchecker_prototype_v2_correct_func():\n",
    "    spellchecker_prototype = SpellChecker()\n",
    "    input_text_for_prototype = \" \".join(test_word_list)\n",
    "    timer = tqdm()\n",
    "    corrected_word_list = spellchecker_prototype.correct_words(input_text_for_prototype)\n",
    "    return {\"elapsed\": timer.format_dict[\"elapsed\"], \"corrected_word_list\": corrected_word_list}\n",
    "\n",
    "spellchecker_prototype_v2_metrics = compute_all_metrics(spellchecker_prototype_v2_correct_func, test_word_list, test_answers)\n",
    "spellchecker_prototype_v2_metrics"
   ],
   "metadata": {
    "collapsed": false,
    "pycharm": {
     "name": "#%%\n"
    }
   }
  },
  {
   "cell_type": "markdown",
   "metadata": {},
   "source": [
    "# Test Symspellpy - https://github.com/mammothb/symspellpy"
   ]
  },
  {
   "cell_type": "code",
   "execution_count": null,
   "metadata": {},
   "outputs": [],
   "source": [
    "!pip install -U symspellpy"
   ]
  },
  {
   "cell_type": "markdown",
   "metadata": {},
   "source": [
    "### Test Symspellpy lookup on basic dict"
   ]
  },
  {
   "cell_type": "code",
   "execution_count": 11,
   "metadata": {},
   "outputs": [],
   "source": [
    "basic_frequency_dict = '../data/symspell/ru-100k.txt'"
   ]
  },
  {
   "cell_type": "code",
   "execution_count": 12,
   "metadata": {},
   "outputs": [],
   "source": [
    "from symspellpy import SymSpell, Verbosity\n",
    "\n",
    "def test_symspell_py_lookup(frequency_dict_path, input_word_list):\n",
    "    sym_spell_py = SymSpell()\n",
    "    sym_spell_py.load_dictionary(frequency_dict_path, 0, 1, encoding=\"UTF8\")\n",
    "\n",
    "    result = []\n",
    "    timer = tqdm(input_word_list)\n",
    "    for word in timer:\n",
    "        suggestions = sym_spell_py.lookup(word, Verbosity.TOP, max_edit_distance=2, include_unknown=True)\n",
    "        result.append(suggestions[0].term)\n",
    "    return  {\"elapsed\" : timer.format_dict[\"elapsed\"], \"corrected_word_list\" : result}\n",
    "\n",
    "def test_symspell_py_lookup_compound(frequency_dict_path, input_word_list):\n",
    "    sym_spell_py = SymSpell()\n",
    "    sym_spell_py.load_dictionary(frequency_dict_path, 0, 1, encoding=\"UTF8\")\n",
    "\n",
    "    result = []\n",
    "    timer = tqdm(input_word_list)\n",
    "    for word in timer:\n",
    "        suggestions = sym_spell_py.lookup_compound(word, max_edit_distance=2)\n",
    "        result.append(suggestions[0].term)\n",
    "    return {\"elapsed\" : timer.format_dict[\"elapsed\"], \"corrected_word_list\" : result}\n",
    "\n"
   ]
  },
  {
   "cell_type": "code",
   "execution_count": 13,
   "outputs": [
    {
     "name": "stderr",
     "output_type": "stream",
     "text": [
      "100%|██████████| 200/200 [00:00<00:00, 7143.31it/s]"
     ]
    },
    {
     "name": "stdout",
     "output_type": "stream",
     "text": [
      "original_word_list --- corrected_word --- answer_word_list\n",
      "эктренном --- коренном --- ['экстренном']\n",
      "синусовго --- синусовго --- ['синусового']\n",
      "даным --- данным --- ['данным', 'данный', 'данные']\n",
      "шнутография --- шнутография --- ['шунтография']\n",
      "сникопальных --- сникопальных --- ['синкопальных']\n",
      "посление --- последние --- ['поселение', 'последний']\n",
      "ходавый --- подавай --- ['ходовый']\n",
      "анмнезе --- анамнезе --- ['анамнезе', 'анамнез']\n",
      "сентированный --- сентированный --- ['стентированный']\n",
      "самоч --- самой --- ['самочувствие']\n",
      "перевдена --- переведена --- ['переведена']\n",
      "стентированеим --- стентированеим --- ['стентированием', 'стентирование']\n",
      "кардиол --- кардинал --- ['кардиолог,кардиологический']\n",
      "переведна --- переведена --- ['переведена']\n",
      "догосптальном --- догосптальном --- ['догоспитальном']\n",
      "миним --- синим --- ['минимум', 'минимальный']\n",
      "субфебриллитет --- субфебриллитет --- ['субфебрилитет']\n",
      "загрудиные --- загрудиные --- ['загрудинные', 'загрудинный']\n",
      "перферия --- периферия --- ['периферия']\n",
      "течени --- течение --- ['течение']\n",
      "оклюзия --- иллюзия --- ['окклюзия']\n",
      "жнщина --- женщина --- ['женщина']\n",
      "пциент --- пациент --- ['пациент']\n",
      "зарегистирована --- зарегистрирована --- ['зарегистрирована']\n",
      "сегмета --- сегмента --- ['сегмента']\n",
      "клекте --- клетке --- ['клетке']\n",
      "эпид --- спид --- ['эпидемия', 'эпидемиологический', 'эпидуральный']\n",
      "интелектуально --- интеллектуально --- ['интеллектуально']\n",
      "нижн --- ниже --- ['нижний']\n",
      "прводилась --- проводилась --- ['проводилась', 'проводить']\n",
      "неуст --- несут --- ['неустановленный']\n",
      "госптализирован --- госптализирован --- ['госпитализирован']\n",
      "вперые --- впервые --- ['впервые']\n",
      "послеоперационом --- послеоперационном --- ['послеоперационном']\n",
      "госпитализирова --- госпитализирова --- ['госпитализирован']\n",
      "ухудщение --- ухудшение --- ['ухудшение']\n",
      "рентг --- ренты --- ['рентген']\n",
      "дальнешем --- дальнейшем --- ['дальнейшем']\n",
      "троботическая --- троботическая --- ['тромботическая']\n",
      "многосоудистое --- многосоудистое --- ['многососудистое', 'многососудистый']\n",
      "миокрада --- миокарда --- ['миокарда', 'миокард']\n",
      "сопрвождались --- сопровождались --- ['сопровождались']\n",
      "дискмфорт --- дискмфорт --- ['дискомфорт']\n",
      "потлтвостью --- потлтвостью --- ['потливостью']\n",
      "левогожелудочка --- левогожелудочка --- ['левого желудочка', 'левый желудочек']\n",
      "рание --- ранее --- ['ранее', 'ранние']\n",
      "виед --- виде --- ['виде', 'вид']\n",
      "ангинозныеболи --- ангинозныеболи --- ['ангинозные боли', 'ангиозный боль']\n",
      "догоситальном --- догоситальном --- ['догоспитальном']\n",
      "ввполнен --- вполне --- ['выполнен']\n",
      "чаосв --- часов --- ['часов']\n",
      "октазалась --- оказалась --- ['отказалась']\n",
      "линика --- лирика --- ['клиника']\n",
      "ммента --- момента --- ['момента']\n",
      "проведеной --- проведено --- ['проведенной']\n",
      "выполненяи --- выполнения --- ['выполнения', 'выполнение']\n",
      "леченяи --- лечения --- ['лечения', 'лечение']\n",
      "обтилась --- осталась --- ['обратилась']\n",
      "повтороно --- повторно --- ['повторно']\n",
      "зарегистриованы --- зарегистрированы --- ['зарегистрированы']\n",
      "отицает --- отрицает --- ['отрицает', 'отрицать']\n",
      "дальнейщем --- дальнейшем --- ['дальнейшем']\n",
      "болисохраняются --- болисохраняются --- ['боли сохраняются']\n",
      "частичынм --- частичным --- ['частичным']\n",
      "атерокслеротичсекая --- атерокслеротичсекая --- ['атеросклеротическая']\n",
      "деньс --- день --- ['день', 'день с']\n",
      "назначаля --- назначали --- ['назначался']\n",
      "проведеняи --- проведения --- ['проведения']\n",
      "беспакоют --- беспокоит --- ['беспокоят']\n",
      "гипертензи --- гипертензии --- ['гипертензия']\n",
      "воленйбол --- волейбол --- ['волейбол']\n",
      "болезн --- болезни --- ['болезнь']\n",
      "стенокардаа --- стенокардаа --- ['стенокардия']\n",
      "продолжалсь --- продолжалось --- ['продолжалась']\n",
      "поворное --- повторное --- ['повторное']\n",
      "ощуащет --- ощущает --- ['ощущает']\n",
      "ангигнозного --- ангигнозного --- ['ангинозного', 'ангинозный']\n",
      "диагностичекой --- диагностической --- ['диагностической', 'диагностический']\n",
      "поддерживающией --- поддерживающие --- ['поддерживающий']\n",
      "межлопаточнй --- межлопаточнй --- ['межлопаточный']\n",
      "бедреной --- бедренной --- ['бедренной', 'бедренный']\n",
      "гшрядки --- грядки --- ['грядки']\n",
      "бассеине --- бассейне --- ['бассейне', 'бассейн']\n",
      "возлуха --- воздуха --- ['воздуха', 'воздух']\n",
      "сенября --- сентября --- ['сентября', 'сентябрь']\n",
      "постояная --- постоянная --- ['постоянная', 'постоянный']\n",
      "рекмоендовнао --- рекомендовано --- ['рекомендовано']\n",
      "поврждения --- повреждения --- ['повреждения']\n",
      "дискофморта --- дискофморта --- ['дискомфорт']\n",
      "импалнтирован --- импалнтирован --- ['имплантирован', 'имплантировать']\n",
      "неочетливая --- неочетливая --- ['неотчетливая', 'неотчетливый']\n",
      "обесвеченный --- обеспеченных --- ['обесцвеченный', 'обеспеченный']\n",
      "серце --- сердце --- ['сердце']\n",
      "блезнь --- болезнь --- ['болезнь']\n",
      "лергия --- сергия --- ['аллергия']\n",
      "ука --- ука --- ['рука']\n",
      "изжга --- из-за --- ['изжога']\n",
      "жение --- жене --- ['жжение']\n",
      "кашел --- нашел --- ['кашель']\n",
      "рствор --- раствор --- ['раствор']\n",
      "пациен --- пациент --- ['пациент']\n",
      "пожлой --- пожилой --- ['пожилой']\n",
      "лекарсво --- лекарство --- ['лекарство']\n",
      "нпреносимость --- нпреносимость --- ['непереносимость']\n",
      "амупула --- ампулы --- ['ампула']\n",
      "гел --- дел --- ['гель']\n",
      "конценрат --- концентрат --- ['концентрат']\n",
      "рилиф --- или --- ['релиф']\n",
      "чссс --- ссср --- ['ЧСС', 'чсс']\n",
      "экгъ --- экг --- ['ЭКГ', 'экг']\n",
      "фибриляция --- фибриляция --- ['фибрилляция']\n",
      "желдочек --- желдочек --- ['желудочек']\n",
      "хрон --- крон --- ['хронический']\n",
      "гиподин --- господин --- ['гиподинамический']\n",
      "нерный --- черный --- ['нервный']\n",
      "сист --- сист --- ['система']\n",
      "диагоностика --- диагностика --- ['диагностика']\n",
      "гипоксмия --- гипоксии --- ['гипоксемия']\n",
      "ледокоин --- ледокол --- ['лидокаин']\n",
      "блокато --- блока --- ['блокатор']\n",
      "тахкардия --- тахкардия --- ['тахикардия']\n",
      "малоинвозивный --- малоинвозивный --- ['малоинвазивный']\n",
      "алация --- акация --- ['аблация', 'абляция']\n",
      "имь --- им --- ['ИМ', 'им']\n",
      "паражение --- поражение --- ['поражение']\n",
      "тяжолый --- тяжелый --- ['тяжелый']\n",
      "гастрапластика --- гастрапластика --- ['гастропластика']\n",
      "вс --- в --- ['вес']\n",
      "лешний --- летний --- ['лишний']\n",
      "орта --- сорта --- ['аорта']\n",
      "клапа --- клапан --- ['клапан']\n",
      "вент --- сент --- ['вена']\n",
      "палый --- малый --- ['полый']\n",
      "пирикард --- пирикард --- ['перикард']\n",
      "метральный --- центральный --- ['митральный']\n",
      "ултразвук --- ультразвук --- ['ультразвук']\n",
      "херург --- хирург --- ['хирург']\n",
      "кордиолог --- кордиолог --- ['кардиолог']\n",
      "килограм --- килограмм --- ['килограмм']\n",
      "акенезия --- акенезия --- ['акинезия']\n",
      "врхушка --- верхушка --- ['верхушка']\n",
      "апекальный --- печальный --- ['апикальный']\n",
      "сгмент --- сегмент --- ['сегмент']\n",
      "вес --- вес --- ['весь']\n",
      "сьенка --- стенка --- ['стенка']\n",
      "церкулярный --- церкулярный --- ['циркулярный']\n",
      "сридиный --- средины --- ['срединный']\n",
      "калапаный --- клапаны --- ['клапанный']\n",
      "апарат --- аппарат --- ['аппарат']\n",
      "потология --- патология --- ['патология']\n",
      "перекард --- перепад --- ['перикард']\n",
      "праксимальный --- максимальный --- ['проксимальный']\n",
      "деаметр --- диаметр --- ['диаметр']\n",
      "корекция --- коррекция --- ['коррекция']\n",
      "аслажнение --- наслаждение --- ['осложнение']\n",
      "стрдать --- страдать --- ['страдать']\n",
      "гепертонический --- гипертонической --- ['гипертонический']\n",
      "болезн --- болезни --- ['болезнь']\n",
      "одоптировать --- одоптировать --- ['адаптировать']\n",
      "получять --- получить --- ['получать']\n",
      "кансервативный --- консервативный --- ['консервативный']\n",
      "тичение --- течение --- ['течение']\n",
      "пребование --- требование --- ['пребывание']\n",
      "отбиление --- отделение --- ['отделение']\n",
      "самачувствие --- самочувствие --- ['самочувствие']\n",
      "уходшение --- ухудшение --- ['ухудшение']\n",
      "месро --- место --- ['место']\n",
      "пункцыя --- функция --- ['пункция']\n",
      "особеность --- особенность --- ['особенность']\n",
      "шнут --- шут --- ['шунт']\n",
      "шнутирование --- шнутирование --- ['шунтирование']\n",
      "готчина --- вотчина --- ['гатчина']\n",
      "эхэ --- эх --- ['эхо']\n",
      "каранарный --- каранарный --- ['коронарный']\n",
      "ортерия --- артерия --- ['артерия']\n",
      "сначимый --- значимый --- ['значимый']\n",
      "стинос --- стихов --- ['стеноз']\n",
      "гаспиализировать --- гаспиализировать --- ['госпитализировать']\n",
      "имья --- имя --- ['имя']\n",
      "олмазов --- алмазов --- ['алмазов']\n",
      "прдшствовать --- предшествовать --- ['предшествовать']\n",
      "стинакардия --- стинакардия --- ['стенокардия']\n",
      "пиринести --- принести --- ['перенести']\n",
      "ифаркт --- инфаркт --- ['инфаркт']\n",
      "моикарда --- миокарда --- ['миокарда']\n",
      "лакализация --- локализация --- ['локализация']\n",
      "спразка --- справка --- ['справка']\n",
      "дальнейшый --- дальнейшей --- ['дальнейший']\n",
      "хроническаянедостаточность --- хроническаянедостаточность --- ['хроническая недостаточность', 'хронический недостаточность']\n",
      "инфарктмиокарда --- инфарктмиокарда --- ['инфаркт миокарда', 'инфаркт миокард']\n",
      "отузла --- отдела --- ['от узла', 'от узел']\n",
      "нарушениеработы --- нарушениеработы --- ['нарушение работы', 'нарушение работа']\n",
      "вминуту --- минуту --- ['в минуту', 'в минута', 'минута']\n",
      "эндокриннойсистемы --- эндокриннойсистемы --- ['эндокринная система', 'эндокринный система']\n",
      "сердечныйритм --- сердечныйритм --- ['сердечный ритм']\n",
      "узловаятахикардия --- узловаятахикардия --- ['узловая тахикардия', 'узловой тахикардия']\n",
      "основныефакторы --- основныефакторы --- ['основной факто', 'основные факторы']\n",
      "остановкасердца --- остановкасердца --- ['остановка сердца', 'остановка сердце']\n",
      "фибрилляцияжелудочков --- фибрилляцияжелудочков --- ['фибрилляция желудочков', 'фибрилляция желудочек']\n",
      "счастотой --- частотой --- ['с частотой', 'с частотаб частота']\n",
      "Right corrected words count - 84 of 200 total\n"
     ]
    },
    {
     "name": "stderr",
     "output_type": "stream",
     "text": [
      "\n"
     ]
    },
    {
     "data": {
      "text/plain": "(0.00014653325080871582,\n 0.42,\n 0.0,\n ['эктренном',\n  'синусовго',\n  'даным',\n  'шнутография',\n  'сникопальных',\n  'посление',\n  'ходавый',\n  'анмнезе',\n  'сентированный',\n  'самоч',\n  'перевдена',\n  'стентированеим',\n  'кардиол',\n  'переведна',\n  'догосптальном',\n  'миним',\n  'субфебриллитет',\n  'загрудиные',\n  'перферия',\n  'течени',\n  'оклюзия',\n  'жнщина',\n  'пциент',\n  'зарегистирована',\n  'сегмета',\n  'клекте',\n  'эпид',\n  'интелектуально',\n  'нижн',\n  'прводилась',\n  'неуст',\n  'госптализирован',\n  'вперые',\n  'послеоперационом',\n  'госпитализирова',\n  'ухудщение',\n  'рентг',\n  'дальнешем',\n  'троботическая',\n  'многосоудистое',\n  'миокрада',\n  'сопрвождались',\n  'дискмфорт',\n  'потлтвостью',\n  'левогожелудочка',\n  'рание',\n  'виед',\n  'ангинозныеболи',\n  'догоситальном',\n  'ввполнен',\n  'чаосв',\n  'октазалась',\n  'линика',\n  'ммента',\n  'проведеной',\n  'выполненяи',\n  'леченяи',\n  'обтилась',\n  'повтороно',\n  'зарегистриованы',\n  'отицает',\n  'дальнейщем',\n  'болисохраняются',\n  'частичынм',\n  'атерокслеротичсекая',\n  'деньс',\n  'назначаля',\n  'проведеняи',\n  'беспакоют',\n  'гипертензи',\n  'воленйбол',\n  'болезн',\n  'стенокардаа',\n  'продолжалсь',\n  'поворное',\n  'ощуащет',\n  'ангигнозного',\n  'диагностичекой',\n  'поддерживающией',\n  'межлопаточнй',\n  'бедреной',\n  'гшрядки',\n  'бассеине',\n  'возлуха',\n  'сенября',\n  'постояная',\n  'рекмоендовнао',\n  'поврждения',\n  'дискофморта',\n  'импалнтирован',\n  'неочетливая',\n  'обесвеченный',\n  'серце',\n  'блезнь',\n  'лергия',\n  'ука',\n  'изжга',\n  'жение',\n  'кашел',\n  'рствор',\n  'пациен',\n  'пожлой',\n  'лекарсво',\n  'нпреносимость',\n  'амупула',\n  'гел',\n  'конценрат',\n  'рилиф',\n  'чссс',\n  'экгъ',\n  'фибриляция',\n  'желдочек',\n  'хрон',\n  'гиподин',\n  'нерный',\n  'сист',\n  'диагоностика',\n  'гипоксмия',\n  'ледокоин',\n  'блокато',\n  'тахкардия',\n  'малоинвозивный',\n  'алация',\n  'имь',\n  'паражение',\n  'тяжолый',\n  'гастрапластика',\n  'вс',\n  'лешний',\n  'орта',\n  'клапа',\n  'вент',\n  'палый',\n  'пирикард',\n  'метральный',\n  'ултразвук',\n  'херург',\n  'кордиолог',\n  'килограм',\n  'акенезия',\n  'врхушка',\n  'апекальный',\n  'сгмент',\n  'вес',\n  'сьенка',\n  'церкулярный',\n  'сридиный',\n  'калапаный',\n  'апарат',\n  'потология',\n  'перекард',\n  'праксимальный',\n  'деаметр',\n  'корекция',\n  'аслажнение',\n  'стрдать',\n  'гепертонический',\n  'болезн',\n  'одоптировать',\n  'получять',\n  'кансервативный',\n  'тичение',\n  'пребование',\n  'отбиление',\n  'самачувствие',\n  'уходшение',\n  'месро',\n  'пункцыя',\n  'особеность',\n  'шнут',\n  'шнутирование',\n  'готчина',\n  'эхэ',\n  'каранарный',\n  'ортерия',\n  'сначимый',\n  'стинос',\n  'гаспиализировать',\n  'имья',\n  'олмазов',\n  'прдшствовать',\n  'стинакардия',\n  'пиринести',\n  'ифаркт',\n  'моикарда',\n  'лакализация',\n  'спразка',\n  'дальнейшый',\n  'хроническаянедостаточность',\n  'инфарктмиокарда',\n  'отузла',\n  'нарушениеработы',\n  'вминуту',\n  'эндокриннойсистемы',\n  'сердечныйритм',\n  'узловаятахикардия',\n  'основныефакторы',\n  'остановкасердца',\n  'фибрилляцияжелудочков',\n  'счастотой'],\n ['коренном',\n  'синусовго',\n  'данным',\n  'шнутография',\n  'сникопальных',\n  'последние',\n  'подавай',\n  'анамнезе',\n  'сентированный',\n  'самой',\n  'переведена',\n  'стентированеим',\n  'кардинал',\n  'переведена',\n  'догосптальном',\n  'синим',\n  'субфебриллитет',\n  'загрудиные',\n  'периферия',\n  'течение',\n  'иллюзия',\n  'женщина',\n  'пациент',\n  'зарегистрирована',\n  'сегмента',\n  'клетке',\n  'спид',\n  'интеллектуально',\n  'ниже',\n  'проводилась',\n  'несут',\n  'госптализирован',\n  'впервые',\n  'послеоперационном',\n  'госпитализирова',\n  'ухудшение',\n  'ренты',\n  'дальнейшем',\n  'троботическая',\n  'многосоудистое',\n  'миокарда',\n  'сопровождались',\n  'дискмфорт',\n  'потлтвостью',\n  'левогожелудочка',\n  'ранее',\n  'виде',\n  'ангинозныеболи',\n  'догоситальном',\n  'вполне',\n  'часов',\n  'оказалась',\n  'лирика',\n  'момента',\n  'проведено',\n  'выполнения',\n  'лечения',\n  'осталась',\n  'повторно',\n  'зарегистрированы',\n  'отрицает',\n  'дальнейшем',\n  'болисохраняются',\n  'частичным',\n  'атерокслеротичсекая',\n  'день',\n  'назначали',\n  'проведения',\n  'беспокоит',\n  'гипертензии',\n  'волейбол',\n  'болезни',\n  'стенокардаа',\n  'продолжалось',\n  'повторное',\n  'ощущает',\n  'ангигнозного',\n  'диагностической',\n  'поддерживающие',\n  'межлопаточнй',\n  'бедренной',\n  'грядки',\n  'бассейне',\n  'воздуха',\n  'сентября',\n  'постоянная',\n  'рекомендовано',\n  'повреждения',\n  'дискофморта',\n  'импалнтирован',\n  'неочетливая',\n  'обеспеченных',\n  'сердце',\n  'болезнь',\n  'сергия',\n  'ука',\n  'из-за',\n  'жене',\n  'нашел',\n  'раствор',\n  'пациент',\n  'пожилой',\n  'лекарство',\n  'нпреносимость',\n  'ампулы',\n  'дел',\n  'концентрат',\n  'или',\n  'ссср',\n  'экг',\n  'фибриляция',\n  'желдочек',\n  'крон',\n  'господин',\n  'черный',\n  'сист',\n  'диагностика',\n  'гипоксии',\n  'ледокол',\n  'блока',\n  'тахкардия',\n  'малоинвозивный',\n  'акация',\n  'им',\n  'поражение',\n  'тяжелый',\n  'гастрапластика',\n  'в',\n  'летний',\n  'сорта',\n  'клапан',\n  'сент',\n  'малый',\n  'пирикард',\n  'центральный',\n  'ультразвук',\n  'хирург',\n  'кордиолог',\n  'килограмм',\n  'акенезия',\n  'верхушка',\n  'печальный',\n  'сегмент',\n  'вес',\n  'стенка',\n  'церкулярный',\n  'средины',\n  'клапаны',\n  'аппарат',\n  'патология',\n  'перепад',\n  'максимальный',\n  'диаметр',\n  'коррекция',\n  'наслаждение',\n  'страдать',\n  'гипертонической',\n  'болезни',\n  'одоптировать',\n  'получить',\n  'консервативный',\n  'течение',\n  'требование',\n  'отделение',\n  'самочувствие',\n  'ухудшение',\n  'место',\n  'функция',\n  'особенность',\n  'шут',\n  'шнутирование',\n  'вотчина',\n  'эх',\n  'каранарный',\n  'артерия',\n  'значимый',\n  'стихов',\n  'гаспиализировать',\n  'имя',\n  'алмазов',\n  'предшествовать',\n  'стинакардия',\n  'принести',\n  'инфаркт',\n  'миокарда',\n  'локализация',\n  'справка',\n  'дальнейшей',\n  'хроническаянедостаточность',\n  'инфарктмиокарда',\n  'отдела',\n  'нарушениеработы',\n  'минуту',\n  'эндокриннойсистемы',\n  'сердечныйритм',\n  'узловаятахикардия',\n  'основныефакторы',\n  'остановкасердца',\n  'фибрилляцияжелудочков',\n  'частотой'],\n [['экстренном'],\n  ['синусового'],\n  ['данным', 'данный', 'данные'],\n  ['шунтография'],\n  ['синкопальных'],\n  ['поселение', 'последний'],\n  ['ходовый'],\n  ['анамнезе', 'анамнез'],\n  ['стентированный'],\n  ['самочувствие'],\n  ['переведена'],\n  ['стентированием', 'стентирование'],\n  ['кардиолог,кардиологический'],\n  ['переведена'],\n  ['догоспитальном'],\n  ['минимум', 'минимальный'],\n  ['субфебрилитет'],\n  ['загрудинные', 'загрудинный'],\n  ['периферия'],\n  ['течение'],\n  ['окклюзия'],\n  ['женщина'],\n  ['пациент'],\n  ['зарегистрирована'],\n  ['сегмента'],\n  ['клетке'],\n  ['эпидемия', 'эпидемиологический', 'эпидуральный'],\n  ['интеллектуально'],\n  ['нижний'],\n  ['проводилась', 'проводить'],\n  ['неустановленный'],\n  ['госпитализирован'],\n  ['впервые'],\n  ['послеоперационном'],\n  ['госпитализирован'],\n  ['ухудшение'],\n  ['рентген'],\n  ['дальнейшем'],\n  ['тромботическая'],\n  ['многососудистое', 'многососудистый'],\n  ['миокарда', 'миокард'],\n  ['сопровождались'],\n  ['дискомфорт'],\n  ['потливостью'],\n  ['левого желудочка', 'левый желудочек'],\n  ['ранее', 'ранние'],\n  ['виде', 'вид'],\n  ['ангинозные боли', 'ангиозный боль'],\n  ['догоспитальном'],\n  ['выполнен'],\n  ['часов'],\n  ['отказалась'],\n  ['клиника'],\n  ['момента'],\n  ['проведенной'],\n  ['выполнения', 'выполнение'],\n  ['лечения', 'лечение'],\n  ['обратилась'],\n  ['повторно'],\n  ['зарегистрированы'],\n  ['отрицает', 'отрицать'],\n  ['дальнейшем'],\n  ['боли сохраняются'],\n  ['частичным'],\n  ['атеросклеротическая'],\n  ['день', 'день с'],\n  ['назначался'],\n  ['проведения'],\n  ['беспокоят'],\n  ['гипертензия'],\n  ['волейбол'],\n  ['болезнь'],\n  ['стенокардия'],\n  ['продолжалась'],\n  ['повторное'],\n  ['ощущает'],\n  ['ангинозного', 'ангинозный'],\n  ['диагностической', 'диагностический'],\n  ['поддерживающий'],\n  ['межлопаточный'],\n  ['бедренной', 'бедренный'],\n  ['грядки'],\n  ['бассейне', 'бассейн'],\n  ['воздуха', 'воздух'],\n  ['сентября', 'сентябрь'],\n  ['постоянная', 'постоянный'],\n  ['рекомендовано'],\n  ['повреждения'],\n  ['дискомфорт'],\n  ['имплантирован', 'имплантировать'],\n  ['неотчетливая', 'неотчетливый'],\n  ['обесцвеченный', 'обеспеченный'],\n  ['сердце'],\n  ['болезнь'],\n  ['аллергия'],\n  ['рука'],\n  ['изжога'],\n  ['жжение'],\n  ['кашель'],\n  ['раствор'],\n  ['пациент'],\n  ['пожилой'],\n  ['лекарство'],\n  ['непереносимость'],\n  ['ампула'],\n  ['гель'],\n  ['концентрат'],\n  ['релиф'],\n  ['ЧСС', 'чсс'],\n  ['ЭКГ', 'экг'],\n  ['фибрилляция'],\n  ['желудочек'],\n  ['хронический'],\n  ['гиподинамический'],\n  ['нервный'],\n  ['система'],\n  ['диагностика'],\n  ['гипоксемия'],\n  ['лидокаин'],\n  ['блокатор'],\n  ['тахикардия'],\n  ['малоинвазивный'],\n  ['аблация', 'абляция'],\n  ['ИМ', 'им'],\n  ['поражение'],\n  ['тяжелый'],\n  ['гастропластика'],\n  ['вес'],\n  ['лишний'],\n  ['аорта'],\n  ['клапан'],\n  ['вена'],\n  ['полый'],\n  ['перикард'],\n  ['митральный'],\n  ['ультразвук'],\n  ['хирург'],\n  ['кардиолог'],\n  ['килограмм'],\n  ['акинезия'],\n  ['верхушка'],\n  ['апикальный'],\n  ['сегмент'],\n  ['весь'],\n  ['стенка'],\n  ['циркулярный'],\n  ['срединный'],\n  ['клапанный'],\n  ['аппарат'],\n  ['патология'],\n  ['перикард'],\n  ['проксимальный'],\n  ['диаметр'],\n  ['коррекция'],\n  ['осложнение'],\n  ['страдать'],\n  ['гипертонический'],\n  ['болезнь'],\n  ['адаптировать'],\n  ['получать'],\n  ['консервативный'],\n  ['течение'],\n  ['пребывание'],\n  ['отделение'],\n  ['самочувствие'],\n  ['ухудшение'],\n  ['место'],\n  ['пункция'],\n  ['особенность'],\n  ['шунт'],\n  ['шунтирование'],\n  ['гатчина'],\n  ['эхо'],\n  ['коронарный'],\n  ['артерия'],\n  ['значимый'],\n  ['стеноз'],\n  ['госпитализировать'],\n  ['имя'],\n  ['алмазов'],\n  ['предшествовать'],\n  ['стенокардия'],\n  ['перенести'],\n  ['инфаркт'],\n  ['миокарда'],\n  ['локализация'],\n  ['справка'],\n  ['дальнейший'],\n  ['хроническая недостаточность', 'хронический недостаточность'],\n  ['инфаркт миокарда', 'инфаркт миокард'],\n  ['от узла', 'от узел'],\n  ['нарушение работы', 'нарушение работа'],\n  ['в минуту', 'в минута', 'минута'],\n  ['эндокринная система', 'эндокринный система'],\n  ['сердечный ритм'],\n  ['узловая тахикардия', 'узловой тахикардия'],\n  ['основной факто', 'основные факторы'],\n  ['остановка сердца', 'остановка сердце'],\n  ['фибрилляция желудочков', 'фибрилляция желудочек'],\n  ['с частотой', 'с частотаб частота']])"
     },
     "execution_count": 13,
     "metadata": {},
     "output_type": "execute_result"
    }
   ],
   "source": [
    "test_symspell_py_lookup_result = compute_all_metrics(\n",
    "    lambda : test_symspell_py_lookup(basic_frequency_dict, test_word_list), test_word_list, test_answers)\n",
    "test_symspell_py_lookup_result"
   ],
   "metadata": {
    "collapsed": false,
    "pycharm": {
     "name": "#%%\n"
    }
   }
  },
  {
   "cell_type": "code",
   "execution_count": 14,
   "metadata": {
    "pycharm": {
     "name": "#%%\n"
    }
   },
   "outputs": [
    {
     "name": "stderr",
     "output_type": "stream",
     "text": [
      "100%|██████████| 200/200 [00:00<00:00, 570.50it/s]\n"
     ]
    },
    {
     "name": "stdout",
     "output_type": "stream",
     "text": [
      "original_word_list --- corrected_word --- answer_word_list\n",
      "эктренном --- коренном --- ['экстренном']\n",
      "синусовго --- синус его --- ['синусового']\n",
      "даным --- данным --- ['данным', 'данный', 'данные']\n",
      "шнутография --- и фотография --- ['шунтография']\n",
      "сникопальных --- они локальных --- ['синкопальных']\n",
      "посление --- последние --- ['поселение', 'последний']\n",
      "ходавый --- ход вый --- ['ходовый']\n",
      "анмнезе --- анамнезе --- ['анамнезе', 'анамнез']\n",
      "сентированный --- центров данный --- ['стентированный']\n",
      "самоч --- самой --- ['самочувствие']\n",
      "перевдена --- переведена --- ['переведена']\n",
      "стентированеим --- стен титрованием --- ['стентированием', 'стентирование']\n",
      "кардиол --- кардинал --- ['кардиолог,кардиологический']\n",
      "переведна --- переведена --- ['переведена']\n",
      "догосптальном --- до остальном --- ['догоспитальном']\n",
      "миним --- синим --- ['минимум', 'минимальный']\n",
      "субфебриллитет --- себе бриллиант --- ['субфебрилитет']\n",
      "загрудиные --- за рудные --- ['загрудинные', 'загрудинный']\n",
      "перферия --- периферия --- ['периферия']\n",
      "течени --- течение --- ['течение']\n",
      "оклюзия --- иллюзия --- ['окклюзия']\n",
      "жнщина --- женщина --- ['женщина']\n",
      "пциент --- пациент --- ['пациент']\n",
      "зарегистирована --- зарегистрирована --- ['зарегистрирована']\n",
      "сегмета --- сегмента --- ['сегмента']\n",
      "клекте --- клетке --- ['клетке']\n",
      "эпид --- спид --- ['эпидемия', 'эпидемиологический', 'эпидуральный']\n",
      "интелектуально --- интеллектуально --- ['интеллектуально']\n",
      "нижн --- ниже --- ['нижний']\n",
      "прводилась --- проводилась --- ['проводилась', 'проводить']\n",
      "неуст --- несут --- ['неустановленный']\n",
      "госптализирован --- госпитали мировая --- ['госпитализирован']\n",
      "вперые --- впервые --- ['впервые']\n",
      "послеоперационом --- послеоперационном --- ['послеоперационном']\n",
      "госпитализирова --- госпитали кирова --- ['госпитализирован']\n",
      "ухудщение --- ухудшение --- ['ухудшение']\n",
      "рентг --- ренты --- ['рентген']\n",
      "дальнешем --- дальнейшем --- ['дальнейшем']\n",
      "троботическая --- ты оптическая --- ['тромботическая']\n",
      "многосоудистое --- много сосудистой --- ['многососудистое', 'многососудистый']\n",
      "миокрада --- миокарда --- ['миокарда', 'миокард']\n",
      "сопрвождались --- сопровождались --- ['сопровождались']\n",
      "дискмфорт --- диск форт --- ['дискомфорт']\n",
      "потлтвостью --- после костью --- ['потливостью']\n",
      "левогожелудочка --- левого желудочка --- ['левого желудочка', 'левый желудочек']\n",
      "рание --- ранее --- ['ранее', 'ранние']\n",
      "виед --- виде --- ['виде', 'вид']\n",
      "ангинозныеболи --- ангинозныеболи --- ['ангинозные боли', 'ангиозный боль']\n",
      "догоситальном --- до остальном --- ['догоспитальном']\n",
      "ввполнен --- вполне --- ['выполнен']\n",
      "чаосв --- часов --- ['часов']\n",
      "октазалась --- оказалась --- ['отказалась']\n",
      "линика --- лирика --- ['клиника']\n",
      "ммента --- момента --- ['момента']\n",
      "проведеной --- проведено --- ['проведенной']\n",
      "выполненяи --- выполнения --- ['выполнения', 'выполнение']\n",
      "леченяи --- лечения --- ['лечения', 'лечение']\n",
      "обтилась --- осталась --- ['обратилась']\n",
      "повтороно --- повторно --- ['повторно']\n",
      "зарегистриованы --- зарегистрированы --- ['зарегистрированы']\n",
      "отицает --- отрицает --- ['отрицает', 'отрицать']\n",
      "дальнейщем --- дальнейшем --- ['дальнейшем']\n",
      "болисохраняются --- боли сохраняются --- ['боли сохраняются']\n",
      "частичынм --- частичным --- ['частичным']\n",
      "атерокслеротичсекая --- атеросклероз этическая --- ['атеросклеротическая']\n",
      "деньс --- день --- ['день', 'день с']\n",
      "назначаля --- назначали --- ['назначался']\n",
      "проведеняи --- проведения --- ['проведения']\n",
      "беспакоют --- беспокоит --- ['беспокоят']\n",
      "гипертензи --- гипертензии --- ['гипертензия']\n",
      "воленйбол --- волейбол --- ['волейбол']\n",
      "болезн --- болезни --- ['болезнь']\n",
      "стенокардаа --- стенок рада --- ['стенокардия']\n",
      "продолжалсь --- продолжалось --- ['продолжалась']\n",
      "поворное --- повторное --- ['повторное']\n",
      "ощуащет --- ощущает --- ['ощущает']\n",
      "ангигнозного --- ан грозного --- ['ангинозного', 'ангинозный']\n",
      "диагностичекой --- диагностической --- ['диагностической', 'диагностический']\n",
      "поддерживающией --- поддерживающие --- ['поддерживающий']\n",
      "межлопаточнй --- меж лопатой --- ['межлопаточный']\n",
      "бедреной --- бедренной --- ['бедренной', 'бедренный']\n",
      "гшрядки --- грядки --- ['грядки']\n",
      "бассеине --- бассейне --- ['бассейне', 'бассейн']\n",
      "возлуха --- воздуха --- ['воздуха', 'воздух']\n",
      "сенября --- сентября --- ['сентября', 'сентябрь']\n",
      "постояная --- постоянная --- ['постоянная', 'постоянный']\n",
      "рекмоендовнао --- рекомендовано --- ['рекомендовано']\n",
      "поврждения --- повреждения --- ['повреждения']\n",
      "дискофморта --- диском рта --- ['дискомфорт']\n",
      "импалнтирован --- импалнтирован --- ['имплантирован', 'имплантировать']\n",
      "неочетливая --- не отчетливая --- ['неотчетливая', 'неотчетливый']\n",
      "обесвеченный --- обеспеченных --- ['обесцвеченный', 'обеспеченный']\n",
      "серце --- сердце --- ['сердце']\n",
      "блезнь --- болезнь --- ['болезнь']\n",
      "лергия --- сергия --- ['аллергия']\n",
      "ука --- ука --- ['рука']\n",
      "изжга --- из га --- ['изжога']\n",
      "жение --- жене --- ['жжение']\n",
      "кашел --- нашел --- ['кашель']\n",
      "рствор --- раствор --- ['раствор']\n",
      "пациен --- пациент --- ['пациент']\n",
      "пожлой --- пожилой --- ['пожилой']\n",
      "лекарсво --- лекарство --- ['лекарство']\n",
      "нпреносимость --- перенос иметь --- ['непереносимость']\n",
      "амупула --- ампулы --- ['ампула']\n",
      "гел --- дел --- ['гель']\n",
      "конценрат --- концентрат --- ['концентрат']\n",
      "рилиф --- или --- ['релиф']\n",
      "чссс --- ссср --- ['ЧСС', 'чсс']\n",
      "экгъ --- экг --- ['ЭКГ', 'экг']\n",
      "фибриляция --- физ милиция --- ['фибрилляция']\n",
      "желдочек --- же точек --- ['желудочек']\n",
      "хрон --- крон --- ['хронический']\n",
      "гиподин --- господин --- ['гиподинамический']\n",
      "нерный --- черный --- ['нервный']\n",
      "сист --- сист --- ['система']\n",
      "диагоностика --- диагностика --- ['диагностика']\n",
      "гипоксмия --- гипоксии --- ['гипоксемия']\n",
      "ледокоин --- ледокол --- ['лидокаин']\n",
      "блокато --- блока о --- ['блокатор']\n",
      "тахкардия --- такая для --- ['тахикардия']\n",
      "малоинвозивный --- малины наивный --- ['малоинвазивный']\n",
      "алация --- акация --- ['аблация', 'абляция']\n",
      "имь --- им --- ['ИМ', 'им']\n",
      "паражение --- поражение --- ['поражение']\n",
      "тяжолый --- тяжелый --- ['тяжелый']\n",
      "гастрапластика --- астра пластика --- ['гастропластика']\n",
      "вс --- в --- ['вес']\n",
      "лешний --- летний --- ['лишний']\n",
      "орта --- сорта --- ['аорта']\n",
      "клапа --- клапан --- ['клапан']\n",
      "вент --- сент --- ['вена']\n",
      "палый --- малый --- ['полый']\n",
      "пирикард --- пи ричард --- ['перикард']\n",
      "метральный --- центральный --- ['митральный']\n",
      "ултразвук --- ультразвук --- ['ультразвук']\n",
      "херург --- хирург --- ['хирург']\n",
      "кордиолог --- ко диалог --- ['кардиолог']\n",
      "килограм --- килограмм --- ['килограмм']\n",
      "акенезия --- арене и --- ['акинезия']\n",
      "врхушка --- верхушка --- ['верхушка']\n",
      "апекальный --- печальный --- ['апикальный']\n",
      "сгмент --- сегмент --- ['сегмент']\n",
      "вес --- вес --- ['весь']\n",
      "сьенка --- стенка --- ['стенка']\n",
      "церкулярный --- и регулярный --- ['циркулярный']\n",
      "сридиный --- средины --- ['срединный']\n",
      "калапаный --- клапаны --- ['клапанный']\n",
      "апарат --- аппарат --- ['аппарат']\n",
      "потология --- патология --- ['патология']\n",
      "перекард --- перепад --- ['перикард']\n",
      "праксимальный --- максимальный --- ['проксимальный']\n",
      "деаметр --- диаметр --- ['диаметр']\n",
      "корекция --- коррекция --- ['коррекция']\n",
      "аслажнение --- наслаждение --- ['осложнение']\n",
      "стрдать --- страдать --- ['страдать']\n",
      "гепертонический --- гипертонической --- ['гипертонический']\n",
      "болезн --- болезни --- ['болезнь']\n",
      "одоптировать --- о датировать --- ['адаптировать']\n",
      "получять --- получить --- ['получать']\n",
      "кансервативный --- консервативный --- ['консервативный']\n",
      "тичение --- течение --- ['течение']\n",
      "пребование --- требование --- ['пребывание']\n",
      "отбиление --- отделение --- ['отделение']\n",
      "самачувствие --- самочувствие --- ['самочувствие']\n",
      "уходшение --- ухудшение --- ['ухудшение']\n",
      "месро --- место --- ['место']\n",
      "пункцыя --- функция --- ['пункция']\n",
      "особеность --- особенность --- ['особенность']\n",
      "шнут --- шут --- ['шунт']\n",
      "шнутирование --- и цитирование --- ['шунтирование']\n",
      "готчина --- вотчина --- ['гатчина']\n",
      "эхэ --- эх --- ['эхо']\n",
      "каранарный --- кара парный --- ['коронарный']\n",
      "ортерия --- артерия --- ['артерия']\n",
      "сначимый --- значимый --- ['значимый']\n",
      "стинос --- стихов --- ['стеноз']\n",
      "гаспиализировать --- нас анализировать --- ['госпитализировать']\n",
      "имья --- имя --- ['имя']\n",
      "олмазов --- алмазов --- ['алмазов']\n",
      "прдшствовать --- предшествовать --- ['предшествовать']\n",
      "стинакардия --- истина партия --- ['стенокардия']\n",
      "пиринести --- принести --- ['перенести']\n",
      "ифаркт --- инфаркт --- ['инфаркт']\n",
      "моикарда --- миокарда --- ['миокарда']\n",
      "лакализация --- локализация --- ['локализация']\n",
      "спразка --- справка --- ['справка']\n",
      "дальнейшый --- дальнейшей --- ['дальнейший']\n",
      "хроническаянедостаточность --- хроническая недостаточность --- ['хроническая недостаточность', 'хронический недостаточность']\n",
      "инфарктмиокарда --- инфаркт миокарда --- ['инфаркт миокарда', 'инфаркт миокард']\n",
      "отузла --- от зла --- ['от узла', 'от узел']\n",
      "нарушениеработы --- нарушение работы --- ['нарушение работы', 'нарушение работа']\n",
      "вминуту --- минуту --- ['в минуту', 'в минута', 'минута']\n",
      "эндокриннойсистемы --- эндокринной системы --- ['эндокринная система', 'эндокринный система']\n",
      "сердечныйритм --- сердечный ритм --- ['сердечный ритм']\n",
      "узловаятахикардия --- узловаятахикардия --- ['узловая тахикардия', 'узловой тахикардия']\n",
      "основныефакторы --- основные факторы --- ['основной факто', 'основные факторы']\n",
      "остановкасердца --- остановка сердца --- ['остановка сердца', 'остановка сердце']\n",
      "фибрилляцияжелудочков --- фибрилляцияжелудочков --- ['фибрилляция желудочков', 'фибрилляция желудочек']\n",
      "счастотой --- частотой --- ['с частотой', 'с частотаб частота']\n",
      "Right corrected words count - 92 of 200 total\n"
     ]
    },
    {
     "data": {
      "text/plain": "(0.001753671169281006,\n 0.46,\n 0.0,\n ['эктренном',\n  'синусовго',\n  'даным',\n  'шнутография',\n  'сникопальных',\n  'посление',\n  'ходавый',\n  'анмнезе',\n  'сентированный',\n  'самоч',\n  'перевдена',\n  'стентированеим',\n  'кардиол',\n  'переведна',\n  'догосптальном',\n  'миним',\n  'субфебриллитет',\n  'загрудиные',\n  'перферия',\n  'течени',\n  'оклюзия',\n  'жнщина',\n  'пциент',\n  'зарегистирована',\n  'сегмета',\n  'клекте',\n  'эпид',\n  'интелектуально',\n  'нижн',\n  'прводилась',\n  'неуст',\n  'госптализирован',\n  'вперые',\n  'послеоперационом',\n  'госпитализирова',\n  'ухудщение',\n  'рентг',\n  'дальнешем',\n  'троботическая',\n  'многосоудистое',\n  'миокрада',\n  'сопрвождались',\n  'дискмфорт',\n  'потлтвостью',\n  'левогожелудочка',\n  'рание',\n  'виед',\n  'ангинозныеболи',\n  'догоситальном',\n  'ввполнен',\n  'чаосв',\n  'октазалась',\n  'линика',\n  'ммента',\n  'проведеной',\n  'выполненяи',\n  'леченяи',\n  'обтилась',\n  'повтороно',\n  'зарегистриованы',\n  'отицает',\n  'дальнейщем',\n  'болисохраняются',\n  'частичынм',\n  'атерокслеротичсекая',\n  'деньс',\n  'назначаля',\n  'проведеняи',\n  'беспакоют',\n  'гипертензи',\n  'воленйбол',\n  'болезн',\n  'стенокардаа',\n  'продолжалсь',\n  'поворное',\n  'ощуащет',\n  'ангигнозного',\n  'диагностичекой',\n  'поддерживающией',\n  'межлопаточнй',\n  'бедреной',\n  'гшрядки',\n  'бассеине',\n  'возлуха',\n  'сенября',\n  'постояная',\n  'рекмоендовнао',\n  'поврждения',\n  'дискофморта',\n  'импалнтирован',\n  'неочетливая',\n  'обесвеченный',\n  'серце',\n  'блезнь',\n  'лергия',\n  'ука',\n  'изжга',\n  'жение',\n  'кашел',\n  'рствор',\n  'пациен',\n  'пожлой',\n  'лекарсво',\n  'нпреносимость',\n  'амупула',\n  'гел',\n  'конценрат',\n  'рилиф',\n  'чссс',\n  'экгъ',\n  'фибриляция',\n  'желдочек',\n  'хрон',\n  'гиподин',\n  'нерный',\n  'сист',\n  'диагоностика',\n  'гипоксмия',\n  'ледокоин',\n  'блокато',\n  'тахкардия',\n  'малоинвозивный',\n  'алация',\n  'имь',\n  'паражение',\n  'тяжолый',\n  'гастрапластика',\n  'вс',\n  'лешний',\n  'орта',\n  'клапа',\n  'вент',\n  'палый',\n  'пирикард',\n  'метральный',\n  'ултразвук',\n  'херург',\n  'кордиолог',\n  'килограм',\n  'акенезия',\n  'врхушка',\n  'апекальный',\n  'сгмент',\n  'вес',\n  'сьенка',\n  'церкулярный',\n  'сридиный',\n  'калапаный',\n  'апарат',\n  'потология',\n  'перекард',\n  'праксимальный',\n  'деаметр',\n  'корекция',\n  'аслажнение',\n  'стрдать',\n  'гепертонический',\n  'болезн',\n  'одоптировать',\n  'получять',\n  'кансервативный',\n  'тичение',\n  'пребование',\n  'отбиление',\n  'самачувствие',\n  'уходшение',\n  'месро',\n  'пункцыя',\n  'особеность',\n  'шнут',\n  'шнутирование',\n  'готчина',\n  'эхэ',\n  'каранарный',\n  'ортерия',\n  'сначимый',\n  'стинос',\n  'гаспиализировать',\n  'имья',\n  'олмазов',\n  'прдшствовать',\n  'стинакардия',\n  'пиринести',\n  'ифаркт',\n  'моикарда',\n  'лакализация',\n  'спразка',\n  'дальнейшый',\n  'хроническаянедостаточность',\n  'инфарктмиокарда',\n  'отузла',\n  'нарушениеработы',\n  'вминуту',\n  'эндокриннойсистемы',\n  'сердечныйритм',\n  'узловаятахикардия',\n  'основныефакторы',\n  'остановкасердца',\n  'фибрилляцияжелудочков',\n  'счастотой'],\n ['коренном',\n  'синус его',\n  'данным',\n  'и фотография',\n  'они локальных',\n  'последние',\n  'ход вый',\n  'анамнезе',\n  'центров данный',\n  'самой',\n  'переведена',\n  'стен титрованием',\n  'кардинал',\n  'переведена',\n  'до остальном',\n  'синим',\n  'себе бриллиант',\n  'за рудные',\n  'периферия',\n  'течение',\n  'иллюзия',\n  'женщина',\n  'пациент',\n  'зарегистрирована',\n  'сегмента',\n  'клетке',\n  'спид',\n  'интеллектуально',\n  'ниже',\n  'проводилась',\n  'несут',\n  'госпитали мировая',\n  'впервые',\n  'послеоперационном',\n  'госпитали кирова',\n  'ухудшение',\n  'ренты',\n  'дальнейшем',\n  'ты оптическая',\n  'много сосудистой',\n  'миокарда',\n  'сопровождались',\n  'диск форт',\n  'после костью',\n  'левого желудочка',\n  'ранее',\n  'виде',\n  'ангинозныеболи',\n  'до остальном',\n  'вполне',\n  'часов',\n  'оказалась',\n  'лирика',\n  'момента',\n  'проведено',\n  'выполнения',\n  'лечения',\n  'осталась',\n  'повторно',\n  'зарегистрированы',\n  'отрицает',\n  'дальнейшем',\n  'боли сохраняются',\n  'частичным',\n  'атеросклероз этическая',\n  'день',\n  'назначали',\n  'проведения',\n  'беспокоит',\n  'гипертензии',\n  'волейбол',\n  'болезни',\n  'стенок рада',\n  'продолжалось',\n  'повторное',\n  'ощущает',\n  'ан грозного',\n  'диагностической',\n  'поддерживающие',\n  'меж лопатой',\n  'бедренной',\n  'грядки',\n  'бассейне',\n  'воздуха',\n  'сентября',\n  'постоянная',\n  'рекомендовано',\n  'повреждения',\n  'диском рта',\n  'импалнтирован',\n  'не отчетливая',\n  'обеспеченных',\n  'сердце',\n  'болезнь',\n  'сергия',\n  'ука',\n  'из га',\n  'жене',\n  'нашел',\n  'раствор',\n  'пациент',\n  'пожилой',\n  'лекарство',\n  'перенос иметь',\n  'ампулы',\n  'дел',\n  'концентрат',\n  'или',\n  'ссср',\n  'экг',\n  'физ милиция',\n  'же точек',\n  'крон',\n  'господин',\n  'черный',\n  'сист',\n  'диагностика',\n  'гипоксии',\n  'ледокол',\n  'блока о',\n  'такая для',\n  'малины наивный',\n  'акация',\n  'им',\n  'поражение',\n  'тяжелый',\n  'астра пластика',\n  'в',\n  'летний',\n  'сорта',\n  'клапан',\n  'сент',\n  'малый',\n  'пи ричард',\n  'центральный',\n  'ультразвук',\n  'хирург',\n  'ко диалог',\n  'килограмм',\n  'арене и',\n  'верхушка',\n  'печальный',\n  'сегмент',\n  'вес',\n  'стенка',\n  'и регулярный',\n  'средины',\n  'клапаны',\n  'аппарат',\n  'патология',\n  'перепад',\n  'максимальный',\n  'диаметр',\n  'коррекция',\n  'наслаждение',\n  'страдать',\n  'гипертонической',\n  'болезни',\n  'о датировать',\n  'получить',\n  'консервативный',\n  'течение',\n  'требование',\n  'отделение',\n  'самочувствие',\n  'ухудшение',\n  'место',\n  'функция',\n  'особенность',\n  'шут',\n  'и цитирование',\n  'вотчина',\n  'эх',\n  'кара парный',\n  'артерия',\n  'значимый',\n  'стихов',\n  'нас анализировать',\n  'имя',\n  'алмазов',\n  'предшествовать',\n  'истина партия',\n  'принести',\n  'инфаркт',\n  'миокарда',\n  'локализация',\n  'справка',\n  'дальнейшей',\n  'хроническая недостаточность',\n  'инфаркт миокарда',\n  'от зла',\n  'нарушение работы',\n  'минуту',\n  'эндокринной системы',\n  'сердечный ритм',\n  'узловаятахикардия',\n  'основные факторы',\n  'остановка сердца',\n  'фибрилляцияжелудочков',\n  'частотой'],\n [['экстренном'],\n  ['синусового'],\n  ['данным', 'данный', 'данные'],\n  ['шунтография'],\n  ['синкопальных'],\n  ['поселение', 'последний'],\n  ['ходовый'],\n  ['анамнезе', 'анамнез'],\n  ['стентированный'],\n  ['самочувствие'],\n  ['переведена'],\n  ['стентированием', 'стентирование'],\n  ['кардиолог,кардиологический'],\n  ['переведена'],\n  ['догоспитальном'],\n  ['минимум', 'минимальный'],\n  ['субфебрилитет'],\n  ['загрудинные', 'загрудинный'],\n  ['периферия'],\n  ['течение'],\n  ['окклюзия'],\n  ['женщина'],\n  ['пациент'],\n  ['зарегистрирована'],\n  ['сегмента'],\n  ['клетке'],\n  ['эпидемия', 'эпидемиологический', 'эпидуральный'],\n  ['интеллектуально'],\n  ['нижний'],\n  ['проводилась', 'проводить'],\n  ['неустановленный'],\n  ['госпитализирован'],\n  ['впервые'],\n  ['послеоперационном'],\n  ['госпитализирован'],\n  ['ухудшение'],\n  ['рентген'],\n  ['дальнейшем'],\n  ['тромботическая'],\n  ['многососудистое', 'многососудистый'],\n  ['миокарда', 'миокард'],\n  ['сопровождались'],\n  ['дискомфорт'],\n  ['потливостью'],\n  ['левого желудочка', 'левый желудочек'],\n  ['ранее', 'ранние'],\n  ['виде', 'вид'],\n  ['ангинозные боли', 'ангиозный боль'],\n  ['догоспитальном'],\n  ['выполнен'],\n  ['часов'],\n  ['отказалась'],\n  ['клиника'],\n  ['момента'],\n  ['проведенной'],\n  ['выполнения', 'выполнение'],\n  ['лечения', 'лечение'],\n  ['обратилась'],\n  ['повторно'],\n  ['зарегистрированы'],\n  ['отрицает', 'отрицать'],\n  ['дальнейшем'],\n  ['боли сохраняются'],\n  ['частичным'],\n  ['атеросклеротическая'],\n  ['день', 'день с'],\n  ['назначался'],\n  ['проведения'],\n  ['беспокоят'],\n  ['гипертензия'],\n  ['волейбол'],\n  ['болезнь'],\n  ['стенокардия'],\n  ['продолжалась'],\n  ['повторное'],\n  ['ощущает'],\n  ['ангинозного', 'ангинозный'],\n  ['диагностической', 'диагностический'],\n  ['поддерживающий'],\n  ['межлопаточный'],\n  ['бедренной', 'бедренный'],\n  ['грядки'],\n  ['бассейне', 'бассейн'],\n  ['воздуха', 'воздух'],\n  ['сентября', 'сентябрь'],\n  ['постоянная', 'постоянный'],\n  ['рекомендовано'],\n  ['повреждения'],\n  ['дискомфорт'],\n  ['имплантирован', 'имплантировать'],\n  ['неотчетливая', 'неотчетливый'],\n  ['обесцвеченный', 'обеспеченный'],\n  ['сердце'],\n  ['болезнь'],\n  ['аллергия'],\n  ['рука'],\n  ['изжога'],\n  ['жжение'],\n  ['кашель'],\n  ['раствор'],\n  ['пациент'],\n  ['пожилой'],\n  ['лекарство'],\n  ['непереносимость'],\n  ['ампула'],\n  ['гель'],\n  ['концентрат'],\n  ['релиф'],\n  ['ЧСС', 'чсс'],\n  ['ЭКГ', 'экг'],\n  ['фибрилляция'],\n  ['желудочек'],\n  ['хронический'],\n  ['гиподинамический'],\n  ['нервный'],\n  ['система'],\n  ['диагностика'],\n  ['гипоксемия'],\n  ['лидокаин'],\n  ['блокатор'],\n  ['тахикардия'],\n  ['малоинвазивный'],\n  ['аблация', 'абляция'],\n  ['ИМ', 'им'],\n  ['поражение'],\n  ['тяжелый'],\n  ['гастропластика'],\n  ['вес'],\n  ['лишний'],\n  ['аорта'],\n  ['клапан'],\n  ['вена'],\n  ['полый'],\n  ['перикард'],\n  ['митральный'],\n  ['ультразвук'],\n  ['хирург'],\n  ['кардиолог'],\n  ['килограмм'],\n  ['акинезия'],\n  ['верхушка'],\n  ['апикальный'],\n  ['сегмент'],\n  ['весь'],\n  ['стенка'],\n  ['циркулярный'],\n  ['срединный'],\n  ['клапанный'],\n  ['аппарат'],\n  ['патология'],\n  ['перикард'],\n  ['проксимальный'],\n  ['диаметр'],\n  ['коррекция'],\n  ['осложнение'],\n  ['страдать'],\n  ['гипертонический'],\n  ['болезнь'],\n  ['адаптировать'],\n  ['получать'],\n  ['консервативный'],\n  ['течение'],\n  ['пребывание'],\n  ['отделение'],\n  ['самочувствие'],\n  ['ухудшение'],\n  ['место'],\n  ['пункция'],\n  ['особенность'],\n  ['шунт'],\n  ['шунтирование'],\n  ['гатчина'],\n  ['эхо'],\n  ['коронарный'],\n  ['артерия'],\n  ['значимый'],\n  ['стеноз'],\n  ['госпитализировать'],\n  ['имя'],\n  ['алмазов'],\n  ['предшествовать'],\n  ['стенокардия'],\n  ['перенести'],\n  ['инфаркт'],\n  ['миокарда'],\n  ['локализация'],\n  ['справка'],\n  ['дальнейший'],\n  ['хроническая недостаточность', 'хронический недостаточность'],\n  ['инфаркт миокарда', 'инфаркт миокард'],\n  ['от узла', 'от узел'],\n  ['нарушение работы', 'нарушение работа'],\n  ['в минуту', 'в минута', 'минута'],\n  ['эндокринная система', 'эндокринный система'],\n  ['сердечный ритм'],\n  ['узловая тахикардия', 'узловой тахикардия'],\n  ['основной факто', 'основные факторы'],\n  ['остановка сердца', 'остановка сердце'],\n  ['фибрилляция желудочков', 'фибрилляция желудочек'],\n  ['с частотой', 'с частотаб частота']])"
     },
     "execution_count": 14,
     "metadata": {},
     "output_type": "execute_result"
    }
   ],
   "source": [
    "test_symspell_py_lookup_compound_result = compute_all_metrics(\n",
    "    lambda : test_symspell_py_lookup_compound(basic_frequency_dict, test_word_list), test_word_list, test_answers)\n",
    "test_symspell_py_lookup_compound_result"
   ]
  },
  {
   "cell_type": "markdown",
   "source": [
    "# Test SymSpellCppPy - https://github.com/viig99/SymSpellCppPy"
   ],
   "metadata": {
    "collapsed": false
   }
  },
  {
   "cell_type": "code",
   "execution_count": 27,
   "outputs": [
    {
     "name": "stdout",
     "output_type": "stream",
     "text": [
      "Requirement already satisfied: wheel in c:\\users\\pogre\\appdata\\local\\programs\\python\\python39\\lib\\site-packages (0.37.0)\n",
      "Requirement already satisfied: setuptools in c:\\users\\pogre\\appdata\\local\\programs\\python\\python39\\lib\\site-packages (49.2.1)\n"
     ]
    }
   ],
   "source": [
    "!pip install wheel setuptools"
   ],
   "metadata": {
    "collapsed": false,
    "pycharm": {
     "name": "#%%\n"
    }
   }
  },
  {
   "cell_type": "code",
   "execution_count": 29,
   "outputs": [
    {
     "name": "stdout",
     "output_type": "stream",
     "text": [
      "Collecting SymSpellCppPy\n",
      "  Using cached SymSpellCppPy-0.0.14.tar.gz (5.4 MB)\n",
      "  Preparing metadata (setup.py): started\n",
      "  Preparing metadata (setup.py): finished with status 'done'\n",
      "Building wheels for collected packages: SymSpellCppPy\n",
      "  Building wheel for SymSpellCppPy (setup.py): started\n",
      "  Building wheel for SymSpellCppPy (setup.py): finished with status 'error'\n",
      "  Running setup.py clean for SymSpellCppPy\n",
      "Failed to build SymSpellCppPy\n",
      "Installing collected packages: SymSpellCppPy\n",
      "    Running setup.py install for SymSpellCppPy: started\n",
      "    Running setup.py install for SymSpellCppPy: finished with status 'error'\n"
     ]
    },
    {
     "name": "stderr",
     "output_type": "stream",
     "text": [
      "  ERROR: Command errored out with exit status 1:\n",
      "   command: 'c:\\users\\pogre\\appdata\\local\\programs\\python\\python39\\python.exe' -u -c 'import io, os, sys, setuptools, tokenize; sys.argv[0] = '\"'\"'C:\\\\Users\\\\pogre\\\\AppData\\\\Local\\\\Temp\\\\pip-install-fkh0s3wn\\\\symspellcpppy_2da100226ca64a51aded2561628e791d\\\\setup.py'\"'\"'; __file__='\"'\"'C:\\\\Users\\\\pogre\\\\AppData\\\\Local\\\\Temp\\\\pip-install-fkh0s3wn\\\\symspellcpppy_2da100226ca64a51aded2561628e791d\\\\setup.py'\"'\"';f = getattr(tokenize, '\"'\"'open'\"'\"', open)(__file__) if os.path.exists(__file__) else io.StringIO('\"'\"'from setuptools import setup; setup()'\"'\"');code = f.read().replace('\"'\"'\\r\\n'\"'\"', '\"'\"'\\n'\"'\"');f.close();exec(compile(code, __file__, '\"'\"'exec'\"'\"'))' bdist_wheel -d 'C:\\Users\\pogre\\AppData\\Local\\Temp\\pip-wheel-0o0_me56'\n",
      "       cwd: C:\\Users\\pogre\\AppData\\Local\\Temp\\pip-install-fkh0s3wn\\symspellcpppy_2da100226ca64a51aded2561628e791d\\\n",
      "  Complete output (45 lines):\n",
      "  running bdist_wheel\n",
      "  running build\n",
      "  running build_ext\n",
      "  Traceback (most recent call last):\n",
      "    File \"C:\\Users\\pogre\\AppData\\Local\\Temp\\pip-install-fkh0s3wn\\symspellcpppy_2da100226ca64a51aded2561628e791d\\setup.py\", line 29, in run\n",
      "      out = subprocess.check_output(['cmake', '--version'])\n",
      "    File \"c:\\users\\pogre\\appdata\\local\\programs\\python\\python39\\lib\\subprocess.py\", line 420, in check_output\n",
      "      return run(*popenargs, stdout=PIPE, timeout=timeout, check=True,\n",
      "    File \"c:\\users\\pogre\\appdata\\local\\programs\\python\\python39\\lib\\subprocess.py\", line 501, in run\n",
      "      with Popen(*popenargs, **kwargs) as process:\n",
      "    File \"c:\\users\\pogre\\appdata\\local\\programs\\python\\python39\\lib\\subprocess.py\", line 947, in __init__\n",
      "      self._execute_child(args, executable, preexec_fn, close_fds,\n",
      "    File \"c:\\users\\pogre\\appdata\\local\\programs\\python\\python39\\lib\\subprocess.py\", line 1416, in _execute_child\n",
      "      hp, ht, pid, tid = _winapi.CreateProcess(executable, args,\n",
      "  FileNotFoundError: [WinError 2] Не удается найти указанный файл\n",
      "  \n",
      "  During handling of the above exception, another exception occurred:\n",
      "  \n",
      "  Traceback (most recent call last):\n",
      "    File \"<string>\", line 1, in <module>\n",
      "    File \"C:\\Users\\pogre\\AppData\\Local\\Temp\\pip-install-fkh0s3wn\\symspellcpppy_2da100226ca64a51aded2561628e791d\\setup.py\", line 79, in <module>\n",
      "      setup(\n",
      "    File \"c:\\users\\pogre\\appdata\\local\\programs\\python\\python39\\lib\\site-packages\\setuptools\\__init__.py\", line 165, in setup\n",
      "      return distutils.core.setup(**attrs)\n",
      "    File \"c:\\users\\pogre\\appdata\\local\\programs\\python\\python39\\lib\\distutils\\core.py\", line 148, in setup\n",
      "      dist.run_commands()\n",
      "    File \"c:\\users\\pogre\\appdata\\local\\programs\\python\\python39\\lib\\distutils\\dist.py\", line 966, in run_commands\n",
      "      self.run_command(cmd)\n",
      "    File \"c:\\users\\pogre\\appdata\\local\\programs\\python\\python39\\lib\\distutils\\dist.py\", line 985, in run_command\n",
      "      cmd_obj.run()\n",
      "    File \"c:\\users\\pogre\\appdata\\local\\programs\\python\\python39\\lib\\site-packages\\wheel\\bdist_wheel.py\", line 299, in run\n",
      "      self.run_command('build')\n",
      "    File \"c:\\users\\pogre\\appdata\\local\\programs\\python\\python39\\lib\\distutils\\cmd.py\", line 313, in run_command\n",
      "      self.distribution.run_command(command)\n",
      "    File \"c:\\users\\pogre\\appdata\\local\\programs\\python\\python39\\lib\\distutils\\dist.py\", line 985, in run_command\n",
      "      cmd_obj.run()\n",
      "    File \"c:\\users\\pogre\\appdata\\local\\programs\\python\\python39\\lib\\distutils\\command\\build.py\", line 135, in run\n",
      "      self.run_command(cmd_name)\n",
      "    File \"c:\\users\\pogre\\appdata\\local\\programs\\python\\python39\\lib\\distutils\\cmd.py\", line 313, in run_command\n",
      "      self.distribution.run_command(command)\n",
      "    File \"c:\\users\\pogre\\appdata\\local\\programs\\python\\python39\\lib\\distutils\\dist.py\", line 985, in run_command\n",
      "      cmd_obj.run()\n",
      "    File \"C:\\Users\\pogre\\AppData\\Local\\Temp\\pip-install-fkh0s3wn\\symspellcpppy_2da100226ca64a51aded2561628e791d\\setup.py\", line 31, in run\n",
      "      raise RuntimeError(\"CMake must be installed to build the following extensions: \" +\n",
      "  RuntimeError: CMake must be installed to build the following extensions: SymSpellCppPy\n",
      "  ----------------------------------------\n",
      "  ERROR: Failed building wheel for SymSpellCppPy\n",
      "    ERROR: Command errored out with exit status 1:\n",
      "     command: 'c:\\users\\pogre\\appdata\\local\\programs\\python\\python39\\python.exe' -u -c 'import io, os, sys, setuptools, tokenize; sys.argv[0] = '\"'\"'C:\\\\Users\\\\pogre\\\\AppData\\\\Local\\\\Temp\\\\pip-install-fkh0s3wn\\\\symspellcpppy_2da100226ca64a51aded2561628e791d\\\\setup.py'\"'\"'; __file__='\"'\"'C:\\\\Users\\\\pogre\\\\AppData\\\\Local\\\\Temp\\\\pip-install-fkh0s3wn\\\\symspellcpppy_2da100226ca64a51aded2561628e791d\\\\setup.py'\"'\"';f = getattr(tokenize, '\"'\"'open'\"'\"', open)(__file__) if os.path.exists(__file__) else io.StringIO('\"'\"'from setuptools import setup; setup()'\"'\"');code = f.read().replace('\"'\"'\\r\\n'\"'\"', '\"'\"'\\n'\"'\"');f.close();exec(compile(code, __file__, '\"'\"'exec'\"'\"'))' install --record 'C:\\Users\\pogre\\AppData\\Local\\Temp\\pip-record-n5xbzn_9\\install-record.txt' --single-version-externally-managed --compile --install-headers 'c:\\users\\pogre\\appdata\\local\\programs\\python\\python39\\Include\\SymSpellCppPy'\n",
      "         cwd: C:\\Users\\pogre\\AppData\\Local\\Temp\\pip-install-fkh0s3wn\\symspellcpppy_2da100226ca64a51aded2561628e791d\\\n",
      "    Complete output (47 lines):\n",
      "    running install\n",
      "    running build\n",
      "    running build_ext\n",
      "    Traceback (most recent call last):\n",
      "      File \"C:\\Users\\pogre\\AppData\\Local\\Temp\\pip-install-fkh0s3wn\\symspellcpppy_2da100226ca64a51aded2561628e791d\\setup.py\", line 29, in run\n",
      "        out = subprocess.check_output(['cmake', '--version'])\n",
      "      File \"c:\\users\\pogre\\appdata\\local\\programs\\python\\python39\\lib\\subprocess.py\", line 420, in check_output\n",
      "        return run(*popenargs, stdout=PIPE, timeout=timeout, check=True,\n",
      "      File \"c:\\users\\pogre\\appdata\\local\\programs\\python\\python39\\lib\\subprocess.py\", line 501, in run\n",
      "        with Popen(*popenargs, **kwargs) as process:\n",
      "      File \"c:\\users\\pogre\\appdata\\local\\programs\\python\\python39\\lib\\subprocess.py\", line 947, in __init__\n",
      "        self._execute_child(args, executable, preexec_fn, close_fds,\n",
      "      File \"c:\\users\\pogre\\appdata\\local\\programs\\python\\python39\\lib\\subprocess.py\", line 1416, in _execute_child\n",
      "        hp, ht, pid, tid = _winapi.CreateProcess(executable, args,\n",
      "    FileNotFoundError: [WinError 2] Не удается найти указанный файл\n",
      "    \n",
      "    During handling of the above exception, another exception occurred:\n",
      "    \n",
      "    Traceback (most recent call last):\n",
      "      File \"<string>\", line 1, in <module>\n",
      "      File \"C:\\Users\\pogre\\AppData\\Local\\Temp\\pip-install-fkh0s3wn\\symspellcpppy_2da100226ca64a51aded2561628e791d\\setup.py\", line 79, in <module>\n",
      "        setup(\n",
      "      File \"c:\\users\\pogre\\appdata\\local\\programs\\python\\python39\\lib\\site-packages\\setuptools\\__init__.py\", line 165, in setup\n",
      "        return distutils.core.setup(**attrs)\n",
      "      File \"c:\\users\\pogre\\appdata\\local\\programs\\python\\python39\\lib\\distutils\\core.py\", line 148, in setup\n",
      "        dist.run_commands()\n",
      "      File \"c:\\users\\pogre\\appdata\\local\\programs\\python\\python39\\lib\\distutils\\dist.py\", line 966, in run_commands\n",
      "        self.run_command(cmd)\n",
      "      File \"c:\\users\\pogre\\appdata\\local\\programs\\python\\python39\\lib\\distutils\\dist.py\", line 985, in run_command\n",
      "        cmd_obj.run()\n",
      "      File \"c:\\users\\pogre\\appdata\\local\\programs\\python\\python39\\lib\\site-packages\\setuptools\\command\\install.py\", line 61, in run\n",
      "        return orig.install.run(self)\n",
      "      File \"c:\\users\\pogre\\appdata\\local\\programs\\python\\python39\\lib\\distutils\\command\\install.py\", line 546, in run\n",
      "        self.run_command('build')\n",
      "      File \"c:\\users\\pogre\\appdata\\local\\programs\\python\\python39\\lib\\distutils\\cmd.py\", line 313, in run_command\n",
      "        self.distribution.run_command(command)\n",
      "      File \"c:\\users\\pogre\\appdata\\local\\programs\\python\\python39\\lib\\distutils\\dist.py\", line 985, in run_command\n",
      "        cmd_obj.run()\n",
      "      File \"c:\\users\\pogre\\appdata\\local\\programs\\python\\python39\\lib\\distutils\\command\\build.py\", line 135, in run\n",
      "        self.run_command(cmd_name)\n",
      "      File \"c:\\users\\pogre\\appdata\\local\\programs\\python\\python39\\lib\\distutils\\cmd.py\", line 313, in run_command\n",
      "        self.distribution.run_command(command)\n",
      "      File \"c:\\users\\pogre\\appdata\\local\\programs\\python\\python39\\lib\\distutils\\dist.py\", line 985, in run_command\n",
      "        cmd_obj.run()\n",
      "      File \"C:\\Users\\pogre\\AppData\\Local\\Temp\\pip-install-fkh0s3wn\\symspellcpppy_2da100226ca64a51aded2561628e791d\\setup.py\", line 31, in run\n",
      "        raise RuntimeError(\"CMake must be installed to build the following extensions: \" +\n",
      "    RuntimeError: CMake must be installed to build the following extensions: SymSpellCppPy\n",
      "    ----------------------------------------\n",
      "ERROR: Command errored out with exit status 1: 'c:\\users\\pogre\\appdata\\local\\programs\\python\\python39\\python.exe' -u -c 'import io, os, sys, setuptools, tokenize; sys.argv[0] = '\"'\"'C:\\\\Users\\\\pogre\\\\AppData\\\\Local\\\\Temp\\\\pip-install-fkh0s3wn\\\\symspellcpppy_2da100226ca64a51aded2561628e791d\\\\setup.py'\"'\"'; __file__='\"'\"'C:\\\\Users\\\\pogre\\\\AppData\\\\Local\\\\Temp\\\\pip-install-fkh0s3wn\\\\symspellcpppy_2da100226ca64a51aded2561628e791d\\\\setup.py'\"'\"';f = getattr(tokenize, '\"'\"'open'\"'\"', open)(__file__) if os.path.exists(__file__) else io.StringIO('\"'\"'from setuptools import setup; setup()'\"'\"');code = f.read().replace('\"'\"'\\r\\n'\"'\"', '\"'\"'\\n'\"'\"');f.close();exec(compile(code, __file__, '\"'\"'exec'\"'\"'))' install --record 'C:\\Users\\pogre\\AppData\\Local\\Temp\\pip-record-n5xbzn_9\\install-record.txt' --single-version-externally-managed --compile --install-headers 'c:\\users\\pogre\\appdata\\local\\programs\\python\\python39\\Include\\SymSpellCppPy' Check the logs for full command output.\n"
     ]
    }
   ],
   "source": [
    "!pip install --upgrade SymSpellCppPy"
   ],
   "metadata": {
    "collapsed": false,
    "pycharm": {
     "name": "#%%\n"
    }
   }
  },
  {
   "cell_type": "markdown",
   "source": [
    "There was a problem with installing the package. It is still unclear what the reason is. However, this spellchecker should not provide more accuracy, only higher speed since it is implemented in C++. However, the speed of the Python implementation is still enough at this stage.  So I decided to leave it here for now and come back if there is a need for more speed."
   ],
   "metadata": {
    "collapsed": false
   }
  },
  {
   "cell_type": "markdown",
   "source": [
    "# Test JunSpell - https://github.com/bakwc/JamSpell"
   ],
   "metadata": {
    "collapsed": false
   }
  },
  {
   "cell_type": "markdown",
   "source": [
    "#### Attention No Windows 10 support!"
   ],
   "metadata": {
    "collapsed": false
   }
  },
  {
   "cell_type": "code",
   "execution_count": 31,
   "outputs": [
    {
     "name": "stderr",
     "output_type": "stream",
     "text": [
      "\"sudo\" ­Ґ пў«пҐвбп ў­гваҐ­­Ґ© Ё«Ё ў­Ґи­Ґ©\n",
      "Є®¬ ­¤®©, ЁбЇ®«­пҐ¬®© Їа®Ја ¬¬®© Ё«Ё Ї ЄҐв­л¬ д ©«®¬.\n"
     ]
    }
   ],
   "source": [
    "!sudo apt-get install swig"
   ],
   "metadata": {
    "collapsed": false,
    "pycharm": {
     "name": "#%%\n"
    }
   }
  },
  {
   "cell_type": "code",
   "execution_count": 30,
   "outputs": [
    {
     "name": "stdout",
     "output_type": "stream",
     "text": [
      "Collecting jamspell"
     ]
    },
    {
     "name": "stderr",
     "output_type": "stream",
     "text": [
      "  ERROR: Command errored out with exit status 1:\n",
      "   command: 'c:\\users\\pogre\\appdata\\local\\programs\\python\\python39\\python.exe' -u -c 'import io, os, sys, setuptools, tokenize; sys.argv[0] = '\"'\"'C:\\\\Users\\\\pogre\\\\AppData\\\\Local\\\\Temp\\\\pip-install-gtwd7y3t\\\\jamspell_18ec665c3f74451087bf50fc7ac9509f\\\\setup.py'\"'\"'; __file__='\"'\"'C:\\\\Users\\\\pogre\\\\AppData\\\\Local\\\\Temp\\\\pip-install-gtwd7y3t\\\\jamspell_18ec665c3f74451087bf50fc7ac9509f\\\\setup.py'\"'\"';f = getattr(tokenize, '\"'\"'open'\"'\"', open)(__file__) if os.path.exists(__file__) else io.StringIO('\"'\"'from setuptools import setup; setup()'\"'\"');code = f.read().replace('\"'\"'\\r\\n'\"'\"', '\"'\"'\\n'\"'\"');f.close();exec(compile(code, __file__, '\"'\"'exec'\"'\"'))' bdist_wheel -d 'C:\\Users\\pogre\\AppData\\Local\\Temp\\pip-wheel-5mzpgtdg'\n",
      "       cwd: C:\\Users\\pogre\\AppData\\Local\\Temp\\pip-install-gtwd7y3t\\jamspell_18ec665c3f74451087bf50fc7ac9509f\\\n",
      "  Complete output (41 lines):\n",
      "  running bdist_wheel\n",
      "  running build\n",
      "  running build_ext\n",
      "  building '_jamspell' extension\n",
      "  Traceback (most recent call last):\n",
      "    File \"<string>\", line 1, in <module>\n",
      "    File \"C:\\Users\\pogre\\AppData\\Local\\Temp\\pip-install-gtwd7y3t\\jamspell_18ec665c3f74451087bf50fc7ac9509f\\setup.py\", line 55, in <module>\n",
      "      setup(\n",
      "    File \"c:\\users\\pogre\\appdata\\local\\programs\\python\\python39\\lib\\site-packages\\setuptools\\__init__.py\", line 165, in setup\n",
      "      return distutils.core.setup(**attrs)\n",
      "    File \"c:\\users\\pogre\\appdata\\local\\programs\\python\\python39\\lib\\distutils\\core.py\", line 148, in setup\n",
      "      dist.run_commands()\n",
      "    File \"c:\\users\\pogre\\appdata\\local\\programs\\python\\python39\\lib\\distutils\\dist.py\", line 966, in run_commands\n",
      "      self.run_command(cmd)\n",
      "    File \"c:\\users\\pogre\\appdata\\local\\programs\\python\\python39\\lib\\distutils\\dist.py\", line 985, in run_command\n",
      "      cmd_obj.run()\n",
      "    File \"c:\\users\\pogre\\appdata\\local\\programs\\python\\python39\\lib\\site-packages\\wheel\\bdist_wheel.py\", line 299, in run\n",
      "      self.run_command('build')\n",
      "    File \"c:\\users\\pogre\\appdata\\local\\programs\\python\\python39\\lib\\distutils\\cmd.py\", line 313, in run_command\n",
      "      self.distribution.run_command(command)\n",
      "    File \"c:\\users\\pogre\\appdata\\local\\programs\\python\\python39\\lib\\distutils\\dist.py\", line 985, in run_command\n",
      "      cmd_obj.run()\n",
      "    File \"C:\\Users\\pogre\\AppData\\Local\\Temp\\pip-install-gtwd7y3t\\jamspell_18ec665c3f74451087bf50fc7ac9509f\\setup.py\", line 37, in run\n",
      "      self.run_command('build_ext')\n",
      "    File \"c:\\users\\pogre\\appdata\\local\\programs\\python\\python39\\lib\\distutils\\cmd.py\", line 313, in run_command\n",
      "      self.distribution.run_command(command)\n",
      "    File \"c:\\users\\pogre\\appdata\\local\\programs\\python\\python39\\lib\\distutils\\dist.py\", line 985, in run_command\n",
      "      cmd_obj.run()\n",
      "    File \"c:\\users\\pogre\\appdata\\local\\programs\\python\\python39\\lib\\distutils\\command\\build_ext.py\", line 340, in run\n",
      "      self.build_extensions()\n",
      "    File \"c:\\users\\pogre\\appdata\\local\\programs\\python\\python39\\lib\\distutils\\command\\build_ext.py\", line 449, in build_extensions\n",
      "      self._build_extensions_serial()\n",
      "    File \"c:\\users\\pogre\\appdata\\local\\programs\\python\\python39\\lib\\distutils\\command\\build_ext.py\", line 474, in _build_extensions_serial\n",
      "      self.build_extension(ext)\n",
      "    File \"c:\\users\\pogre\\appdata\\local\\programs\\python\\python39\\lib\\distutils\\command\\build_ext.py\", line 507, in build_extension\n",
      "      sources = self.swig_sources(sources, ext)\n",
      "    File \"c:\\users\\pogre\\appdata\\local\\programs\\python\\python39\\lib\\distutils\\command\\build_ext.py\", line 598, in swig_sources\n",
      "      swig = self.swig or self.find_swig()\n",
      "    File \"C:\\Users\\pogre\\AppData\\Local\\Temp\\pip-install-gtwd7y3t\\jamspell_18ec665c3f74451087bf50fc7ac9509f\\setup.py\", line 49, in find_swig\n",
      "      assert swigBinary is not None\n",
      "  AssertionError\n",
      "  ----------------------------------------\n",
      "  ERROR: Failed building wheel for jamspell\n",
      "    ERROR: Command errored out with exit status 1:\n",
      "     command: 'c:\\users\\pogre\\appdata\\local\\programs\\python\\python39\\python.exe' -u -c 'import io, os, sys, setuptools, tokenize; sys.argv[0] = '\"'\"'C:\\\\Users\\\\pogre\\\\AppData\\\\Local\\\\Temp\\\\pip-install-gtwd7y3t\\\\jamspell_18ec665c3f74451087bf50fc7ac9509f\\\\setup.py'\"'\"'; __file__='\"'\"'C:\\\\Users\\\\pogre\\\\AppData\\\\Local\\\\Temp\\\\pip-install-gtwd7y3t\\\\jamspell_18ec665c3f74451087bf50fc7ac9509f\\\\setup.py'\"'\"';f = getattr(tokenize, '\"'\"'open'\"'\"', open)(__file__) if os.path.exists(__file__) else io.StringIO('\"'\"'from setuptools import setup; setup()'\"'\"');code = f.read().replace('\"'\"'\\r\\n'\"'\"', '\"'\"'\\n'\"'\"');f.close();exec(compile(code, __file__, '\"'\"'exec'\"'\"'))' install --record 'C:\\Users\\pogre\\AppData\\Local\\Temp\\pip-record-l_mrh19g\\install-record.txt' --single-version-externally-managed --compile --install-headers 'c:\\users\\pogre\\appdata\\local\\programs\\python\\python39\\Include\\jamspell'\n",
      "         cwd: C:\\Users\\pogre\\AppData\\Local\\Temp\\pip-install-gtwd7y3t\\jamspell_18ec665c3f74451087bf50fc7ac9509f\\\n",
      "    Complete output (34 lines):\n",
      "    running install\n",
      "    running build_ext\n",
      "    building '_jamspell' extension\n",
      "    Traceback (most recent call last):\n",
      "      File \"<string>\", line 1, in <module>\n",
      "      File \"C:\\Users\\pogre\\AppData\\Local\\Temp\\pip-install-gtwd7y3t\\jamspell_18ec665c3f74451087bf50fc7ac9509f\\setup.py\", line 55, in <module>\n",
      "        setup(\n",
      "      File \"c:\\users\\pogre\\appdata\\local\\programs\\python\\python39\\lib\\site-packages\\setuptools\\__init__.py\", line 165, in setup\n",
      "        return distutils.core.setup(**attrs)\n",
      "      File \"c:\\users\\pogre\\appdata\\local\\programs\\python\\python39\\lib\\distutils\\core.py\", line 148, in setup\n",
      "        dist.run_commands()\n",
      "      File \"c:\\users\\pogre\\appdata\\local\\programs\\python\\python39\\lib\\distutils\\dist.py\", line 966, in run_commands\n",
      "        self.run_command(cmd)\n",
      "      File \"c:\\users\\pogre\\appdata\\local\\programs\\python\\python39\\lib\\distutils\\dist.py\", line 985, in run_command\n",
      "        cmd_obj.run()\n",
      "      File \"C:\\Users\\pogre\\AppData\\Local\\Temp\\pip-install-gtwd7y3t\\jamspell_18ec665c3f74451087bf50fc7ac9509f\\setup.py\", line 43, in run\n",
      "        self.run_command('build_ext')\n",
      "      File \"c:\\users\\pogre\\appdata\\local\\programs\\python\\python39\\lib\\distutils\\cmd.py\", line 313, in run_command\n",
      "        self.distribution.run_command(command)\n",
      "      File \"c:\\users\\pogre\\appdata\\local\\programs\\python\\python39\\lib\\distutils\\dist.py\", line 985, in run_command\n",
      "        cmd_obj.run()\n",
      "      File \"c:\\users\\pogre\\appdata\\local\\programs\\python\\python39\\lib\\distutils\\command\\build_ext.py\", line 340, in run\n"
     ]
    },
    {
     "name": "stdout",
     "output_type": "stream",
     "text": [
      "\n",
      "  Downloading jamspell-0.0.12.tar.gz (174 kB)\n",
      "  Preparing metadata (setup.py): started\n",
      "  Preparing metadata (setup.py): finished with status 'done'\n",
      "Building wheels for collected packages: jamspell\n",
      "  Building wheel for jamspell (setup.py): started\n",
      "  Building wheel for jamspell (setup.py): finished with status 'error'\n",
      "  Running setup.py clean for jamspell\n",
      "Failed to build jamspell\n",
      "Installing collected packages: jamspell\n",
      "    Running setup.py install for jamspell: started\n",
      "    Running setup.py install for jamspell: finished with status 'error'\n"
     ]
    },
    {
     "name": "stderr",
     "output_type": "stream",
     "text": [
      "        self.build_extensions()\n",
      "      File \"c:\\users\\pogre\\appdata\\local\\programs\\python\\python39\\lib\\distutils\\command\\build_ext.py\", line 449, in build_extensions\n",
      "        self._build_extensions_serial()\n",
      "      File \"c:\\users\\pogre\\appdata\\local\\programs\\python\\python39\\lib\\distutils\\command\\build_ext.py\", line 474, in _build_extensions_serial\n",
      "        self.build_extension(ext)\n",
      "      File \"c:\\users\\pogre\\appdata\\local\\programs\\python\\python39\\lib\\distutils\\command\\build_ext.py\", line 507, in build_extension\n",
      "        sources = self.swig_sources(sources, ext)\n",
      "      File \"c:\\users\\pogre\\appdata\\local\\programs\\python\\python39\\lib\\distutils\\command\\build_ext.py\", line 598, in swig_sources\n",
      "        swig = self.swig or self.find_swig()\n",
      "      File \"C:\\Users\\pogre\\AppData\\Local\\Temp\\pip-install-gtwd7y3t\\jamspell_18ec665c3f74451087bf50fc7ac9509f\\setup.py\", line 49, in find_swig\n",
      "        assert swigBinary is not None\n",
      "    AssertionError\n",
      "    ----------------------------------------\n",
      "ERROR: Command errored out with exit status 1: 'c:\\users\\pogre\\appdata\\local\\programs\\python\\python39\\python.exe' -u -c 'import io, os, sys, setuptools, tokenize; sys.argv[0] = '\"'\"'C:\\\\Users\\\\pogre\\\\AppData\\\\Local\\\\Temp\\\\pip-install-gtwd7y3t\\\\jamspell_18ec665c3f74451087bf50fc7ac9509f\\\\setup.py'\"'\"'; __file__='\"'\"'C:\\\\Users\\\\pogre\\\\AppData\\\\Local\\\\Temp\\\\pip-install-gtwd7y3t\\\\jamspell_18ec665c3f74451087bf50fc7ac9509f\\\\setup.py'\"'\"';f = getattr(tokenize, '\"'\"'open'\"'\"', open)(__file__) if os.path.exists(__file__) else io.StringIO('\"'\"'from setuptools import setup; setup()'\"'\"');code = f.read().replace('\"'\"'\\r\\n'\"'\"', '\"'\"'\\n'\"'\"');f.close();exec(compile(code, __file__, '\"'\"'exec'\"'\"'))' install --record 'C:\\Users\\pogre\\AppData\\Local\\Temp\\pip-record-l_mrh19g\\install-record.txt' --single-version-externally-managed --compile --install-headers 'c:\\users\\pogre\\appdata\\local\\programs\\python\\python39\\Include\\jamspell' Check the logs for full command output.\n"
     ]
    }
   ],
   "source": [
    "!pip install jamspell"
   ],
   "metadata": {
    "collapsed": false,
    "pycharm": {
     "name": "#%%\n"
    }
   }
  }
 ],
 "metadata": {
  "colab": {
   "name": "Spellchecker_tests.ipynb",
   "provenance": []
  },
  "kernelspec": {
   "display_name": "Python 3 (ipykernel)",
   "language": "python",
   "name": "python3"
  },
  "language_info": {
   "codemirror_mode": {
    "name": "ipython",
    "version": 3
   },
   "file_extension": ".py",
   "mimetype": "text/x-python",
   "name": "python",
   "nbconvert_exporter": "python",
   "pygments_lexer": "ipython3",
   "version": "3.9.1"
  }
 },
 "nbformat": 4,
 "nbformat_minor": 1
}