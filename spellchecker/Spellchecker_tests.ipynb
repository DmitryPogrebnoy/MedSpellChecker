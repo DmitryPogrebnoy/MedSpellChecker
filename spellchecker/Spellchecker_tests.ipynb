{
 "cells": [
  {
   "cell_type": "markdown",
   "metadata": {
    "id": "sAliKDQvhExv"
   },
   "source": [
    "# Prepear test dataset\n",
    "Load word data for error precision test\n",
    "Format - {word}{several spaces}{answer-words separeted by comma}"
   ]
  },
  {
   "cell_type": "code",
   "execution_count": 72,
   "metadata": {},
   "outputs": [
    {
     "name": "stdout",
     "output_type": "stream",
     "text": [
      "Requirement already satisfied: pip in /home/Dmitry.Pogrebnoy/Desktop/MedSpellChecker/venv/lib/python3.9/site-packages (21.3.1)\r\n"
     ]
    }
   ],
   "source": [
    "!pip install --upgrade pip"
   ]
  },
  {
   "cell_type": "code",
   "execution_count": 73,
   "metadata": {
    "id": "JtZvUWdZhFOf"
   },
   "outputs": [
    {
     "name": "stdout",
     "output_type": "stream",
     "text": [
      "Requirement already satisfied: pandas in /home/Dmitry.Pogrebnoy/Desktop/MedSpellChecker/venv/lib/python3.9/site-packages (1.3.4)\r\n",
      "Requirement already satisfied: numpy>=1.17.3 in /home/Dmitry.Pogrebnoy/Desktop/MedSpellChecker/venv/lib/python3.9/site-packages (from pandas) (1.21.4)\r\n",
      "Requirement already satisfied: python-dateutil>=2.7.3 in /home/Dmitry.Pogrebnoy/Desktop/MedSpellChecker/venv/lib/python3.9/site-packages (from pandas) (2.8.2)\r\n",
      "Requirement already satisfied: pytz>=2017.3 in /home/Dmitry.Pogrebnoy/Desktop/MedSpellChecker/venv/lib/python3.9/site-packages (from pandas) (2021.3)\r\n",
      "Requirement already satisfied: six>=1.5 in /home/Dmitry.Pogrebnoy/Desktop/MedSpellChecker/venv/lib/python3.9/site-packages (from python-dateutil>=2.7.3->pandas) (1.16.0)\r\n"
     ]
    }
   ],
   "source": [
    "!pip install pandas\n",
    "import pandas as pd"
   ]
  },
  {
   "cell_type": "code",
   "execution_count": 74,
   "metadata": {
    "id": "OZYmhZvuWLfa"
   },
   "outputs": [],
   "source": [
    "error_precision_test_incorrect_file = open('../data/test_sample_incorrect.txt', 'r', encoding=\"utf8\")\n",
    "error_precision_test_incorrect_lines = error_precision_test_incorrect_file.readlines()\n",
    "error_precision_splitted_test_incorrect_lines = list(map(lambda x: x.split(maxsplit=1), error_precision_test_incorrect_lines))\n",
    "error_precision_test_incorrect_words = list(map(lambda x: x[0], error_precision_splitted_test_incorrect_lines))\n",
    "error_precision_test_incorrect_answers = list(map(lambda x: list(map(lambda y: y.strip(), x[1].split(', '))), error_precision_splitted_test_incorrect_lines))\n",
    "error_precision_test_df = pd.DataFrame(error_precision_test_incorrect_words, columns=[\"test_word\"])\n",
    "error_precision_test_df[\"answers\"] = error_precision_test_incorrect_answers"
   ]
  },
  {
   "cell_type": "code",
   "execution_count": 75,
   "metadata": {
    "colab": {
     "base_uri": "https://localhost:8080/",
     "height": 202
    },
    "id": "0P3kfs2dhj4q",
    "outputId": "1b7a854b-2395-4ddb-bf6f-8c6ee54b4ae6"
   },
   "outputs": [
    {
     "data": {
      "text/plain": "      test_word                   answers\n0     эктренном              [экстренном]\n1     синусовго              [синусового]\n2         даным  [данным, данный, данные]\n3   шнутография             [шунтография]\n4  сникопальных            [синкопальных]",
      "text/html": "<div>\n<style scoped>\n    .dataframe tbody tr th:only-of-type {\n        vertical-align: middle;\n    }\n\n    .dataframe tbody tr th {\n        vertical-align: top;\n    }\n\n    .dataframe thead th {\n        text-align: right;\n    }\n</style>\n<table border=\"1\" class=\"dataframe\">\n  <thead>\n    <tr style=\"text-align: right;\">\n      <th></th>\n      <th>test_word</th>\n      <th>answers</th>\n    </tr>\n  </thead>\n  <tbody>\n    <tr>\n      <th>0</th>\n      <td>эктренном</td>\n      <td>[экстренном]</td>\n    </tr>\n    <tr>\n      <th>1</th>\n      <td>синусовго</td>\n      <td>[синусового]</td>\n    </tr>\n    <tr>\n      <th>2</th>\n      <td>даным</td>\n      <td>[данным, данный, данные]</td>\n    </tr>\n    <tr>\n      <th>3</th>\n      <td>шнутография</td>\n      <td>[шунтография]</td>\n    </tr>\n    <tr>\n      <th>4</th>\n      <td>сникопальных</td>\n      <td>[синкопальных]</td>\n    </tr>\n  </tbody>\n</table>\n</div>"
     },
     "execution_count": 75,
     "metadata": {},
     "output_type": "execute_result"
    }
   ],
   "source": [
    "error_precision_test_df.head()"
   ]
  },
  {
   "cell_type": "code",
   "execution_count": 76,
   "metadata": {},
   "outputs": [],
   "source": [
    "error_precision_test_word_list = error_precision_test_df[\"test_word\"].tolist()"
   ]
  },
  {
   "cell_type": "code",
   "execution_count": 77,
   "metadata": {},
   "outputs": [],
   "source": [
    "error_precision_test_answers = error_precision_test_df[\"answers\"].tolist()"
   ]
  },
  {
   "cell_type": "markdown",
   "source": [
    "Load word list for lexical precision test"
   ],
   "metadata": {
    "collapsed": false
   }
  },
  {
   "cell_type": "code",
   "execution_count": 93,
   "outputs": [],
   "source": [
    "lexical_precision_test_word_list = [\"Привет\"]"
   ],
   "metadata": {
    "collapsed": false,
    "pycharm": {
     "name": "#%%\n"
    }
   }
  },
  {
   "cell_type": "code",
   "execution_count": 78,
   "outputs": [],
   "source": [],
   "metadata": {
    "collapsed": false,
    "pycharm": {
     "name": "#%%\n"
    }
   }
  },
  {
   "cell_type": "code",
   "execution_count": 91,
   "metadata": {},
   "outputs": [],
   "source": [
    "def compute_error_precision(original_word_list, corrected_word_list, answer_word_list):\n",
    "    words_number = len(corrected_word_list)\n",
    "    correct_words_number = 0\n",
    "    print(\"Error precision\")\n",
    "    print(\"original_word_list --- corrected_word --- answer_word_list\")\n",
    "    for i, corrected_word in enumerate(corrected_word_list):\n",
    "        print(f\"{original_word_list[i]} --- {corrected_word} --- {answer_word_list[i]}\")\n",
    "        if corrected_word in answer_word_list[i]:\n",
    "            correct_words_number += 1\n",
    "    print(f\"Right corrected words count - {correct_words_number} of {words_number} total\")\n",
    "    return correct_words_number/words_number"
   ]
  },
  {
   "cell_type": "code",
   "execution_count": 90,
   "outputs": [],
   "source": [
    "def compute_lexical_precision(original_word_list, corrected_word_list):\n",
    "    words_number = len(corrected_word_list)\n",
    "    correct_words_number = 0\n",
    "    print(\"Lexical precision\")\n",
    "    print(\"original_word_list --- corrected_word\")\n",
    "    for i, corrected_word in enumerate(corrected_word_list):\n",
    "        print(f\"{original_word_list[i]} --- {corrected_word}\")\n",
    "        if corrected_word == original_word_list[i]:\n",
    "            correct_words_number += 1\n",
    "    print(f\"Right corrected words count - {correct_words_number} of {words_number} total\")\n",
    "    return correct_words_number/words_number"
   ],
   "metadata": {
    "collapsed": false,
    "pycharm": {
     "name": "#%%\n"
    }
   }
  },
  {
   "cell_type": "code",
   "execution_count": 81,
   "outputs": [
    {
     "name": "stdout",
     "output_type": "stream",
     "text": [
      "Requirement already satisfied: tqdm in /home/Dmitry.Pogrebnoy/Desktop/MedSpellChecker/venv/lib/python3.9/site-packages (4.62.3)\r\n"
     ]
    }
   ],
   "source": [
    "!pip install tqdm\n",
    "from tqdm import tqdm"
   ],
   "metadata": {
    "collapsed": false,
    "pycharm": {
     "name": "#%%\n"
    }
   }
  },
  {
   "cell_type": "code",
   "execution_count": 86,
   "outputs": [],
   "source": [
    "def compute_all_metrics(error_precision_spellchecker_function,\n",
    "                        lexical_precision_spellchecker_function,\n",
    "                        error_precision_original_word_list,\n",
    "                        error_precision_answer_word_list,\n",
    "                        lexical_precision_original_word_list):\n",
    "\n",
    "    error_precision_result = error_precision_spellchecker_function()\n",
    "    error_precision_elapsed_time = error_precision_result[\"elapsed\"]\n",
    "    error_precision_corrected_word_list = error_precision_result[\"corrected_word_list\"]\n",
    "    error_precision = compute_error_precision(error_precision_original_word_list, error_precision_corrected_word_list, error_precision_answer_word_list)\n",
    "\n",
    "    lexical_precision_result = lexical_precision_spellchecker_function()\n",
    "    lexical_precision_elapsed_time = lexical_precision_result[\"elapsed\"]\n",
    "    lexical_precision_corrected_word_list = lexical_precision_result[\"corrected_word_list\"]\n",
    "    lexical_precision = compute_lexical_precision(lexical_precision_original_word_list, lexical_precision_corrected_word_list)\n",
    "\n",
    "    return {\"words_per_minute\": 60 /\n",
    "                                ((error_precision_elapsed_time + lexical_precision_elapsed_time) /\n",
    "                                 (len(error_precision_original_word_list) + len(lexical_precision_original_word_list))),\n",
    "            \"error_precision\": error_precision,\n",
    "            \"lexical_precision\": lexical_precision,\n",
    "            # \"error_precision_original_word_list\": error_precision_original_word_list,\n",
    "            # \"error_precision_corrected_word_list\": error_precision_corrected_word_list,\n",
    "            # \"error_precision_answer_word_list\": error_precision_answer_word_list,\n",
    "            # \"lexical_precision_original_word_list\":lexical_precision_original_word_list\n",
    "            }"
   ],
   "metadata": {
    "collapsed": false,
    "pycharm": {
     "name": "#%%\n"
    }
   }
  },
  {
   "cell_type": "markdown",
   "metadata": {
    "id": "En1-fnjrUS7y"
   },
   "source": [
    "# Spellchecker prototype initialization"
   ]
  },
  {
   "cell_type": "code",
   "execution_count": 2,
   "metadata": {
    "colab": {
     "base_uri": "https://localhost:8080/"
    },
    "id": "-9NdfwQyUDcR",
    "outputId": "19f552b7-eaa9-4db6-f541-816ae713f3d4"
   },
   "outputs": [
    {
     "name": "stdout",
     "output_type": "stream",
     "text": [
      "Requirement already satisfied: pymorphy2 in /home/Dmitry.Pogrebnoy/Desktop/MedSpellChecker/venv/lib/python3.9/site-packages (0.9.1)\r\n",
      "Requirement already satisfied: docopt>=0.6 in /home/Dmitry.Pogrebnoy/Desktop/MedSpellChecker/venv/lib/python3.9/site-packages (from pymorphy2) (0.6.2)\r\n",
      "Requirement already satisfied: dawg-python>=0.7.1 in /home/Dmitry.Pogrebnoy/Desktop/MedSpellChecker/venv/lib/python3.9/site-packages (from pymorphy2) (0.7.2)\r\n",
      "Requirement already satisfied: pymorphy2-dicts-ru<3.0,>=2.4 in /home/Dmitry.Pogrebnoy/Desktop/MedSpellChecker/venv/lib/python3.9/site-packages (from pymorphy2) (2.4.417127.4579844)\r\n",
      "Requirement already satisfied: gensim in /home/Dmitry.Pogrebnoy/Desktop/MedSpellChecker/venv/lib/python3.9/site-packages (4.1.2)\r\n",
      "Requirement already satisfied: scipy>=0.18.1 in /home/Dmitry.Pogrebnoy/Desktop/MedSpellChecker/venv/lib/python3.9/site-packages (from gensim) (1.7.3)\r\n",
      "Requirement already satisfied: smart-open>=1.8.1 in /home/Dmitry.Pogrebnoy/Desktop/MedSpellChecker/venv/lib/python3.9/site-packages (from gensim) (5.2.1)\r\n",
      "Requirement already satisfied: numpy>=1.17.0 in /home/Dmitry.Pogrebnoy/Desktop/MedSpellChecker/venv/lib/python3.9/site-packages (from gensim) (1.21.4)\r\n",
      "Collecting python-levenshtein\r\n",
      "  Using cached python-Levenshtein-0.12.2.tar.gz (50 kB)\r\n",
      "  Preparing metadata (setup.py) ... \u001B[?25ldone\r\n",
      "\u001B[?25hRequirement already satisfied: setuptools in /home/Dmitry.Pogrebnoy/Desktop/MedSpellChecker/venv/lib/python3.9/site-packages (from python-levenshtein) (57.0.0)\r\n",
      "Building wheels for collected packages: python-levenshtein\r\n",
      "  Building wheel for python-levenshtein (setup.py) ... \u001B[?25ldone\r\n",
      "\u001B[?25h  Created wheel for python-levenshtein: filename=python_Levenshtein-0.12.2-cp39-cp39-linux_x86_64.whl size=168591 sha256=1c310d11dcf61766d37a6f1c1c324b9daa53cd9a67f51440f95f1a00f5d9315f\r\n",
      "  Stored in directory: /home/Dmitry.Pogrebnoy/.cache/pip/wheels/46/4a/6c/164a1d9dd67c82d208f19d869ad0a517a0c5a6117f608c53e6\r\n",
      "Successfully built python-levenshtein\r\n",
      "Installing collected packages: python-levenshtein\r\n",
      "Successfully installed python-levenshtein-0.12.2\r\n",
      "Requirement already satisfied: stringdist in /home/Dmitry.Pogrebnoy/Desktop/MedSpellChecker/venv/lib/python3.9/site-packages (1.0.9)\r\n"
     ]
    }
   ],
   "source": [
    "!pip install pymorphy2 \n",
    "!pip install gensim\n",
    "!pip install python-levenshtein\n",
    "!pip install stringdist"
   ]
  },
  {
   "cell_type": "markdown",
   "metadata": {
    "id": "2mRtM4gyjlWZ"
   },
   "source": [
    "# Test SpellChecker Prototype v.2"
   ]
  },
  {
   "cell_type": "code",
   "execution_count": 3,
   "outputs": [],
   "source": [
    "from spellchecker_prototype_v2.spell_checker import SpellChecker"
   ],
   "metadata": {
    "collapsed": false,
    "pycharm": {
     "name": "#%%\n"
    }
   }
  },
  {
   "cell_type": "markdown",
   "source": [
    "Download models (all files) from [link](https://drive.google.com/drive/folders/1ubVgiIC2pqDOpA-CbjEqV8Jo8uBbk0qi?usp=sharing) and move it to `data/spellchecker_prototype_v2/models` folder"
   ],
   "metadata": {
    "collapsed": false
   }
  },
  {
   "cell_type": "code",
   "execution_count": 70,
   "outputs": [
    {
     "name": "stdout",
     "output_type": "stream",
     "text": [
      "/home/Dmitry.Pogrebnoy/Desktop/MedSpellChecker/spellchecker_prototype_v2\n"
     ]
    },
    {
     "name": "stderr",
     "output_type": "stream",
     "text": [
      "0it [00:00, ?it/s]"
     ]
    },
    {
     "name": "stdout",
     "output_type": "stream",
     "text": [
      "['эктренном', 'синусовго', 'даным', 'шнутография', 'сникопальных', 'посление', 'ходавый', 'анмнезе', 'сентированный', 'самоч', 'перевдена', 'стентированеим', 'кардиол', 'переведна', 'догосптальном', 'миним', 'субфебриллитет', 'загрудиные', 'перферия', 'течени', 'оклюзия', 'жнщина', 'пциент', 'зарегистирована', 'сегмета', 'клекте', 'эпид', 'интелектуально', 'нижн', 'прводилась', 'неуст', 'госптализирован', 'вперые', 'послеоперационом', 'госпитализирова', 'ухудщение', 'рентг', 'дальнешем', 'троботическая', 'многосоудистое', 'миокрада', 'сопрвождались', 'дискмфорт', 'потлтвостью', 'левогожелудочка', 'рание', 'виед', 'ангинозныеболи', 'догоситальном', 'ввполнен', 'чаосв', 'октазалась', 'линика', 'ммента', 'проведеной', 'выполненяи', 'леченяи', 'обтилась', 'повтороно', 'зарегистриованы', 'отицает', 'дальнейщем', 'болисохраняются', 'частичынм', 'атерокслеротичсекая', 'деньс', 'назначаля', 'проведеняи', 'беспакоют', 'гипертензи', 'воленйбол', 'болезн', 'стенокардаа', 'продолжалсь', 'поворное', 'ощуащет', 'ангигнозного', 'диагностичекой', 'поддерживающией', 'межлопаточнй', 'бедреной', 'гшрядки', 'бассеине', 'возлуха', 'сенября', 'постояная', 'рекмоендовнао', 'поврждения', 'дискофморта', 'импалнтирован', 'неочетливая', 'обесвеченный', 'серце', 'блезнь', 'лергия', 'ука', 'изжга', 'жение', 'кашел', 'рствор', 'пациен', 'пожлой', 'лекарсво', 'нпреносимость', 'амупула', 'гел', 'конценрат', 'рилиф', 'чссс', 'экгъ', 'фибриляция', 'желдочек', 'хрон', 'гиподин', 'нерный', 'сист', 'диагоностика', 'гипоксмия', 'ледокоин', 'блокато', 'тахкардия', 'малоинвозивный', 'алация', 'имь', 'паражение', 'тяжолый', 'гастрапластика', 'вс', 'лешний', 'орта', 'клапа', 'вент', 'палый', 'пирикард', 'метральный', 'ултразвук', 'херург', 'кордиолог', 'килограм', 'акенезия', 'врхушка', 'апекальный', 'сгмент', 'вес', 'сьенка', 'церкулярный', 'сридиный', 'калапаный', 'апарат', 'потология', 'перекард', 'праксимальный', 'деаметр', 'корекция', 'аслажнение', 'стрдать', 'гепертонический', 'болезн', 'одоптировать', 'получять', 'кансервативный', 'тичение', 'пребование', 'отбиление', 'самачувствие', 'уходшение', 'месро', 'пункцыя', 'особеность', 'шнут', 'шнутирование', 'готчина', 'эхэ', 'каранарный', 'ортерия', 'сначимый', 'стинос', 'гаспиализировать', 'имья', 'олмазов', 'прдшствовать', 'стинакардия', 'пиринести', 'ифаркт', 'моикарда', 'лакализация', 'спразка', 'дальнейшый', 'хроническаянедостаточность', 'инфарктмиокарда', 'отузла', 'нарушениеработы', 'вминуту', 'эндокриннойсистемы', 'сердечныйритм', 'узловаятахикардия', 'основныефакторы', 'остановкасердца', 'фибрилляцияжелудочков', 'счастотой']\n"
     ]
    },
    {
     "name": "stderr",
     "output_type": "stream",
     "text": [
      "\n",
      "0it [00:00, ?it/s]\u001B[A\n",
      "1it [00:25, 25.84s/it]\u001B[A"
     ]
    },
    {
     "name": "stdout",
     "output_type": "stream",
     "text": [
      "Fast Text Exception for эктренном\n"
     ]
    },
    {
     "name": "stderr",
     "output_type": "stream",
     "text": [
      "\n",
      "2it [00:52, 26.15s/it]\u001B[A"
     ]
    },
    {
     "name": "stdout",
     "output_type": "stream",
     "text": [
      "Fast Text Exception for синусовго\n"
     ]
    },
    {
     "name": "stderr",
     "output_type": "stream",
     "text": [
      "\n",
      "3it [01:06, 20.75s/it]\u001B[A"
     ]
    },
    {
     "name": "stdout",
     "output_type": "stream",
     "text": [
      "Fast Text Exception for даным\n"
     ]
    },
    {
     "name": "stderr",
     "output_type": "stream",
     "text": [
      "\n",
      "4it [01:38, 25.36s/it]\u001B[A"
     ]
    },
    {
     "name": "stdout",
     "output_type": "stream",
     "text": [
      "Fast Text Exception for шнутография\n"
     ]
    },
    {
     "name": "stderr",
     "output_type": "stream",
     "text": [
      "\n",
      "5it [02:12, 28.31s/it]\u001B[A"
     ]
    },
    {
     "name": "stdout",
     "output_type": "stream",
     "text": [
      "try синкопальный\n"
     ]
    },
    {
     "name": "stderr",
     "output_type": "stream",
     "text": [
      "\n",
      "6it [02:35, 26.44s/it]\u001B[A"
     ]
    },
    {
     "name": "stdout",
     "output_type": "stream",
     "text": [
      "Fast Text Exception for посление\n"
     ]
    },
    {
     "name": "stderr",
     "output_type": "stream",
     "text": [
      "\n",
      "7it [02:56, 24.61s/it]\u001B[A"
     ]
    },
    {
     "name": "stdout",
     "output_type": "stream",
     "text": [
      "Fast Text Exception for ходавый\n"
     ]
    },
    {
     "name": "stderr",
     "output_type": "stream",
     "text": [
      "\n",
      "8it [03:15, 23.02s/it]\u001B[A"
     ]
    },
    {
     "name": "stdout",
     "output_type": "stream",
     "text": [
      "Fast Text Exception for анмнезе\n"
     ]
    },
    {
     "name": "stderr",
     "output_type": "stream",
     "text": [
      "\n",
      "9it [03:52, 27.34s/it]\u001B[A"
     ]
    },
    {
     "name": "stdout",
     "output_type": "stream",
     "text": [
      "Fast Text Exception for сентированный\n"
     ]
    },
    {
     "name": "stderr",
     "output_type": "stream",
     "text": [
      "\n",
      "10it [04:06, 23.08s/it]\u001B[A"
     ]
    },
    {
     "name": "stdout",
     "output_type": "stream",
     "text": [
      "Fast Text Exception for самоч\n"
     ]
    },
    {
     "name": "stderr",
     "output_type": "stream",
     "text": [
      "\n",
      "11it [04:31, 23.72s/it]\u001B[A"
     ]
    },
    {
     "name": "stdout",
     "output_type": "stream",
     "text": [
      "Fast Text Exception for перевдена\n"
     ]
    },
    {
     "name": "stderr",
     "output_type": "stream",
     "text": [
      "\n",
      "12it [05:08, 27.66s/it]\u001B[A"
     ]
    },
    {
     "name": "stdout",
     "output_type": "stream",
     "text": [
      "Fast Text Exception for стентированеим\n"
     ]
    },
    {
     "name": "stderr",
     "output_type": "stream",
     "text": [
      "\n",
      "13it [05:26, 24.75s/it]\u001B[A"
     ]
    },
    {
     "name": "stdout",
     "output_type": "stream",
     "text": [
      "Fast Text Exception for кардиол\n"
     ]
    },
    {
     "name": "stderr",
     "output_type": "stream",
     "text": [
      "\n",
      "14it [05:48, 24.07s/it]\u001B[A"
     ]
    },
    {
     "name": "stdout",
     "output_type": "stream",
     "text": [
      "Fast Text Exception for переведна\n"
     ]
    },
    {
     "name": "stderr",
     "output_type": "stream",
     "text": [
      "\n",
      "15it [06:20, 26.30s/it]\u001B[A"
     ]
    },
    {
     "name": "stdout",
     "output_type": "stream",
     "text": [
      "try догоспитальный\n"
     ]
    },
    {
     "name": "stderr",
     "output_type": "stream",
     "text": [
      "\n",
      "16it [06:33, 22.56s/it]\u001B[A"
     ]
    },
    {
     "name": "stdout",
     "output_type": "stream",
     "text": [
      "Fast Text Exception for миним\n"
     ]
    },
    {
     "name": "stderr",
     "output_type": "stream",
     "text": [
      "\n",
      "17it [07:10, 26.65s/it]\u001B[A"
     ]
    },
    {
     "name": "stdout",
     "output_type": "stream",
     "text": [
      "try субфебрилитет\n"
     ]
    },
    {
     "name": "stderr",
     "output_type": "stream",
     "text": [
      "\n",
      "18it [07:36, 26.51s/it]\u001B[A"
     ]
    },
    {
     "name": "stdout",
     "output_type": "stream",
     "text": [
      "Fast Text Exception for загрудиные\n"
     ]
    },
    {
     "name": "stderr",
     "output_type": "stream",
     "text": [
      "\n",
      "19it [07:56, 24.75s/it]\u001B[A"
     ]
    },
    {
     "name": "stdout",
     "output_type": "stream",
     "text": [
      "try периферия\n"
     ]
    },
    {
     "name": "stderr",
     "output_type": "stream",
     "text": [
      "\n",
      "20it [08:12, 22.00s/it]\u001B[A"
     ]
    },
    {
     "name": "stdout",
     "output_type": "stream",
     "text": [
      "Fast Text Exception for течени\n"
     ]
    },
    {
     "name": "stderr",
     "output_type": "stream",
     "text": [
      "\n",
      "21it [08:30, 20.70s/it]\u001B[A"
     ]
    },
    {
     "name": "stdout",
     "output_type": "stream",
     "text": [
      "try окклюзия\n"
     ]
    },
    {
     "name": "stderr",
     "output_type": "stream",
     "text": [
      "\n",
      "22it [08:45, 19.22s/it]\u001B[A"
     ]
    },
    {
     "name": "stdout",
     "output_type": "stream",
     "text": [
      "try женщина\n"
     ]
    },
    {
     "name": "stderr",
     "output_type": "stream",
     "text": [
      "\n",
      "23it [09:01, 18.14s/it]\u001B[A"
     ]
    },
    {
     "name": "stdout",
     "output_type": "stream",
     "text": [
      "try пациент\n"
     ]
    },
    {
     "name": "stderr",
     "output_type": "stream",
     "text": [
      "\n",
      "24it [09:41, 24.57s/it]\u001B[A"
     ]
    },
    {
     "name": "stdout",
     "output_type": "stream",
     "text": [
      "try зарегистрировать\n"
     ]
    },
    {
     "name": "stderr",
     "output_type": "stream",
     "text": [
      "\n",
      "25it [09:59, 22.80s/it]\u001B[A"
     ]
    },
    {
     "name": "stdout",
     "output_type": "stream",
     "text": [
      "Fast Text Exception for сегмета\n"
     ]
    },
    {
     "name": "stderr",
     "output_type": "stream",
     "text": [
      "\n",
      "26it [10:15, 20.66s/it]\u001B[A"
     ]
    },
    {
     "name": "stdout",
     "output_type": "stream",
     "text": [
      "Fast Text Exception for клекте\n"
     ]
    },
    {
     "name": "stderr",
     "output_type": "stream",
     "text": [
      "\n",
      "27it [10:26, 17.73s/it]\u001B[A"
     ]
    },
    {
     "name": "stdout",
     "output_type": "stream",
     "text": [
      "Fast Text Exception for эпид\n"
     ]
    },
    {
     "name": "stderr",
     "output_type": "stream",
     "text": [
      "\n",
      "28it [11:05, 24.21s/it]\u001B[A"
     ]
    },
    {
     "name": "stdout",
     "output_type": "stream",
     "text": [
      "Fast Text Exception for интелектуально\n"
     ]
    },
    {
     "name": "stderr",
     "output_type": "stream",
     "text": [
      "\n",
      "29it [11:16, 20.27s/it]\u001B[A"
     ]
    },
    {
     "name": "stdout",
     "output_type": "stream",
     "text": [
      "Fast Text Exception for нижн\n"
     ]
    },
    {
     "name": "stderr",
     "output_type": "stream",
     "text": [
      "\n",
      "30it [11:43, 22.28s/it]\u001B[A"
     ]
    },
    {
     "name": "stdout",
     "output_type": "stream",
     "text": [
      "Fast Text Exception for прводилась\n"
     ]
    },
    {
     "name": "stderr",
     "output_type": "stream",
     "text": [
      "\n",
      "31it [11:58, 20.04s/it]\u001B[A"
     ]
    },
    {
     "name": "stdout",
     "output_type": "stream",
     "text": [
      "Fast Text Exception for неуст\n"
     ]
    },
    {
     "name": "stderr",
     "output_type": "stream",
     "text": [
      "\n",
      "32it [12:37, 25.69s/it]\u001B[A"
     ]
    },
    {
     "name": "stdout",
     "output_type": "stream",
     "text": [
      "try госпитализировать\n"
     ]
    },
    {
     "name": "stderr",
     "output_type": "stream",
     "text": [
      "\n",
      "33it [12:53, 22.79s/it]\u001B[A"
     ]
    },
    {
     "name": "stdout",
     "output_type": "stream",
     "text": [
      "Fast Text Exception for вперые\n"
     ]
    },
    {
     "name": "stderr",
     "output_type": "stream",
     "text": [
      "\n",
      "34it [13:35, 28.45s/it]\u001B[A"
     ]
    },
    {
     "name": "stdout",
     "output_type": "stream",
     "text": [
      "Fast Text Exception for послеоперационом\n"
     ]
    },
    {
     "name": "stderr",
     "output_type": "stream",
     "text": [
      "\n",
      "35it [14:12, 31.25s/it]\u001B[A"
     ]
    },
    {
     "name": "stdout",
     "output_type": "stream",
     "text": [
      "try госпитализировать\n"
     ]
    },
    {
     "name": "stderr",
     "output_type": "stream",
     "text": [
      "\n",
      "36it [14:35, 28.60s/it]\u001B[A"
     ]
    },
    {
     "name": "stdout",
     "output_type": "stream",
     "text": [
      "try ухудшение\n"
     ]
    },
    {
     "name": "stderr",
     "output_type": "stream",
     "text": [
      "\n",
      "37it [14:49, 24.28s/it]\u001B[A"
     ]
    },
    {
     "name": "stdout",
     "output_type": "stream",
     "text": [
      "Fast Text Exception for рентг\n"
     ]
    },
    {
     "name": "stderr",
     "output_type": "stream",
     "text": [
      "\n",
      "38it [15:14, 24.61s/it]\u001B[A"
     ]
    },
    {
     "name": "stdout",
     "output_type": "stream",
     "text": [
      "Fast Text Exception for дальнешем\n"
     ]
    },
    {
     "name": "stderr",
     "output_type": "stream",
     "text": [
      "\n",
      "39it [15:48, 27.37s/it]\u001B[A"
     ]
    },
    {
     "name": "stdout",
     "output_type": "stream",
     "text": [
      "Fast Text Exception for троботическая\n"
     ]
    },
    {
     "name": "stderr",
     "output_type": "stream",
     "text": [
      "\n",
      "40it [16:26, 30.62s/it]\u001B[A"
     ]
    },
    {
     "name": "stdout",
     "output_type": "stream",
     "text": [
      "Fast Text Exception for многосоудистое\n"
     ]
    },
    {
     "name": "stderr",
     "output_type": "stream",
     "text": [
      "\n",
      "41it [16:50, 28.51s/it]\u001B[A"
     ]
    },
    {
     "name": "stdout",
     "output_type": "stream",
     "text": [
      "Fast Text Exception for миокрада\n"
     ]
    },
    {
     "name": "stderr",
     "output_type": "stream",
     "text": [
      "\n",
      "42it [17:25, 30.43s/it]\u001B[A"
     ]
    },
    {
     "name": "stdout",
     "output_type": "stream",
     "text": [
      "Fast Text Exception for сопрвождались\n"
     ]
    },
    {
     "name": "stderr",
     "output_type": "stream",
     "text": [
      "\n",
      "43it [17:48, 28.27s/it]\u001B[A"
     ]
    },
    {
     "name": "stdout",
     "output_type": "stream",
     "text": [
      "try дискомфорт\n"
     ]
    },
    {
     "name": "stderr",
     "output_type": "stream",
     "text": [
      "\n",
      "44it [18:18, 28.63s/it]\u001B[A"
     ]
    },
    {
     "name": "stdout",
     "output_type": "stream",
     "text": [
      "try потливость\n"
     ]
    },
    {
     "name": "stderr",
     "output_type": "stream",
     "text": [
      "\n",
      "45it [18:58, 32.14s/it]\u001B[A"
     ]
    },
    {
     "name": "stdout",
     "output_type": "stream",
     "text": [
      "Fast Text Exception for левогожелудочка\n"
     ]
    },
    {
     "name": "stderr",
     "output_type": "stream",
     "text": [
      "\n",
      "46it [19:13, 26.96s/it]\u001B[A"
     ]
    },
    {
     "name": "stdout",
     "output_type": "stream",
     "text": [
      "Fast Text Exception for рание\n"
     ]
    },
    {
     "name": "stderr",
     "output_type": "stream",
     "text": [
      "\n",
      "47it [19:24, 22.24s/it]\u001B[A"
     ]
    },
    {
     "name": "stdout",
     "output_type": "stream",
     "text": [
      "Fast Text Exception for виед\n"
     ]
    },
    {
     "name": "stderr",
     "output_type": "stream",
     "text": [
      "\n",
      "48it [20:02, 26.97s/it]\u001B[A"
     ]
    },
    {
     "name": "stdout",
     "output_type": "stream",
     "text": [
      "Fast Text Exception for ангинозныеболи\n"
     ]
    },
    {
     "name": "stderr",
     "output_type": "stream",
     "text": [
      "\n",
      "49it [20:38, 29.57s/it]\u001B[A"
     ]
    },
    {
     "name": "stdout",
     "output_type": "stream",
     "text": [
      "try догоспитальный\n"
     ]
    },
    {
     "name": "stderr",
     "output_type": "stream",
     "text": [
      "\n",
      "50it [20:58, 26.95s/it]\u001B[A"
     ]
    },
    {
     "name": "stdout",
     "output_type": "stream",
     "text": [
      "Fast Text Exception for ввполнен\n"
     ]
    },
    {
     "name": "stderr",
     "output_type": "stream",
     "text": [
      "\n",
      "51it [21:11, 22.75s/it]\u001B[A"
     ]
    },
    {
     "name": "stdout",
     "output_type": "stream",
     "text": [
      "Fast Text Exception for чаосв\n"
     ]
    },
    {
     "name": "stderr",
     "output_type": "stream",
     "text": [
      "\n",
      "52it [21:40, 24.53s/it]\u001B[A"
     ]
    },
    {
     "name": "stdout",
     "output_type": "stream",
     "text": [
      "Fast Text Exception for октазалась\n"
     ]
    },
    {
     "name": "stderr",
     "output_type": "stream",
     "text": [
      "\n",
      "53it [21:56, 21.93s/it]\u001B[A"
     ]
    },
    {
     "name": "stdout",
     "output_type": "stream",
     "text": [
      "Fast Text Exception for линика\n"
     ]
    },
    {
     "name": "stderr",
     "output_type": "stream",
     "text": [
      "\n",
      "54it [22:13, 20.45s/it]\u001B[A"
     ]
    },
    {
     "name": "stdout",
     "output_type": "stream",
     "text": [
      "Fast Text Exception for ммента\n"
     ]
    },
    {
     "name": "stderr",
     "output_type": "stream",
     "text": [
      "\n",
      "55it [22:41, 22.58s/it]\u001B[A"
     ]
    },
    {
     "name": "stdout",
     "output_type": "stream",
     "text": [
      "Fast Text Exception for проведеной\n"
     ]
    },
    {
     "name": "stderr",
     "output_type": "stream",
     "text": [
      "\n",
      "56it [23:08, 23.96s/it]\u001B[A"
     ]
    },
    {
     "name": "stdout",
     "output_type": "stream",
     "text": [
      "Fast Text Exception for выполненяи\n"
     ]
    },
    {
     "name": "stderr",
     "output_type": "stream",
     "text": [
      "\n",
      "57it [23:27, 22.65s/it]\u001B[A"
     ]
    },
    {
     "name": "stdout",
     "output_type": "stream",
     "text": [
      "Fast Text Exception for леченяи\n"
     ]
    },
    {
     "name": "stderr",
     "output_type": "stream",
     "text": [
      "\n",
      "58it [23:48, 21.96s/it]\u001B[A"
     ]
    },
    {
     "name": "stdout",
     "output_type": "stream",
     "text": [
      "Fast Text Exception for обтилась\n"
     ]
    },
    {
     "name": "stderr",
     "output_type": "stream",
     "text": [
      "\n",
      "59it [24:12, 22.60s/it]\u001B[A"
     ]
    },
    {
     "name": "stdout",
     "output_type": "stream",
     "text": [
      "Fast Text Exception for повтороно\n"
     ]
    },
    {
     "name": "stderr",
     "output_type": "stream",
     "text": [
      "\n",
      "60it [24:52, 28.00s/it]\u001B[A"
     ]
    },
    {
     "name": "stdout",
     "output_type": "stream",
     "text": [
      "try зарегистрировать\n"
     ]
    },
    {
     "name": "stderr",
     "output_type": "stream",
     "text": [
      "\n",
      "61it [25:10, 24.99s/it]\u001B[A"
     ]
    },
    {
     "name": "stdout",
     "output_type": "stream",
     "text": [
      "Fast Text Exception for отицает\n"
     ]
    },
    {
     "name": "stderr",
     "output_type": "stream",
     "text": [
      "\n",
      "62it [25:36, 25.24s/it]\u001B[A"
     ]
    },
    {
     "name": "stdout",
     "output_type": "stream",
     "text": [
      "Fast Text Exception for дальнейщем\n"
     ]
    },
    {
     "name": "stderr",
     "output_type": "stream",
     "text": [
      "\n",
      "63it [26:15, 29.27s/it]\u001B[A"
     ]
    },
    {
     "name": "stdout",
     "output_type": "stream",
     "text": [
      "Fast Text Exception for болисохраняются\n"
     ]
    },
    {
     "name": "stderr",
     "output_type": "stream",
     "text": [
      "\n",
      "64it [26:39, 27.66s/it]\u001B[A"
     ]
    },
    {
     "name": "stdout",
     "output_type": "stream",
     "text": [
      "Fast Text Exception for частичынм\n"
     ]
    },
    {
     "name": "stderr",
     "output_type": "stream",
     "text": [
      "\n",
      "65it [27:31, 35.03s/it]\u001B[A"
     ]
    },
    {
     "name": "stdout",
     "output_type": "stream",
     "text": [
      "Fast Text Exception for атерокслеротичсекая\n"
     ]
    },
    {
     "name": "stderr",
     "output_type": "stream",
     "text": [
      "\n",
      "66it [27:45, 28.78s/it]\u001B[A"
     ]
    },
    {
     "name": "stdout",
     "output_type": "stream",
     "text": [
      "Fast Text Exception for деньс\n"
     ]
    },
    {
     "name": "stderr",
     "output_type": "stream",
     "text": [
      "\n",
      "67it [28:08, 27.12s/it]\u001B[A"
     ]
    },
    {
     "name": "stdout",
     "output_type": "stream",
     "text": [
      "Fast Text Exception for назначаля\n"
     ]
    },
    {
     "name": "stderr",
     "output_type": "stream",
     "text": [
      "\n",
      "68it [28:34, 26.76s/it]\u001B[A"
     ]
    },
    {
     "name": "stdout",
     "output_type": "stream",
     "text": [
      "Fast Text Exception for проведеняи\n"
     ]
    },
    {
     "name": "stderr",
     "output_type": "stream",
     "text": [
      "\n",
      "69it [28:59, 26.17s/it]\u001B[A"
     ]
    },
    {
     "name": "stdout",
     "output_type": "stream",
     "text": [
      "Fast Text Exception for беспакоют\n"
     ]
    },
    {
     "name": "stderr",
     "output_type": "stream",
     "text": [
      "\n",
      "70it [29:26, 26.43s/it]\u001B[A"
     ]
    },
    {
     "name": "stdout",
     "output_type": "stream",
     "text": [
      "Fast Text Exception for гипертензи\n"
     ]
    },
    {
     "name": "stderr",
     "output_type": "stream",
     "text": [
      "\n",
      "71it [29:52, 26.22s/it]\u001B[A"
     ]
    },
    {
     "name": "stdout",
     "output_type": "stream",
     "text": [
      "Fast Text Exception for воленйбол\n"
     ]
    },
    {
     "name": "stderr",
     "output_type": "stream",
     "text": [
      "\n",
      "72it [30:09, 23.41s/it]\u001B[A"
     ]
    },
    {
     "name": "stdout",
     "output_type": "stream",
     "text": [
      "Fast Text Exception for болезн\n"
     ]
    },
    {
     "name": "stderr",
     "output_type": "stream",
     "text": [
      "\n",
      "73it [30:39, 25.45s/it]\u001B[A"
     ]
    },
    {
     "name": "stdout",
     "output_type": "stream",
     "text": [
      "try стенокардия\n"
     ]
    },
    {
     "name": "stderr",
     "output_type": "stream",
     "text": [
      "\n",
      "74it [31:08, 26.48s/it]\u001B[A"
     ]
    },
    {
     "name": "stdout",
     "output_type": "stream",
     "text": [
      "try продолжать\n"
     ]
    },
    {
     "name": "stderr",
     "output_type": "stream",
     "text": [
      "\n",
      "75it [31:30, 25.13s/it]\u001B[A"
     ]
    },
    {
     "name": "stdout",
     "output_type": "stream",
     "text": [
      "Fast Text Exception for поворное\n"
     ]
    },
    {
     "name": "stderr",
     "output_type": "stream",
     "text": [
      "\n",
      "76it [31:50, 23.62s/it]\u001B[A"
     ]
    },
    {
     "name": "stdout",
     "output_type": "stream",
     "text": [
      "Fast Text Exception for ощуащет\n"
     ]
    },
    {
     "name": "stderr",
     "output_type": "stream",
     "text": [
      "\n",
      "77it [32:21, 25.75s/it]\u001B[A"
     ]
    },
    {
     "name": "stdout",
     "output_type": "stream",
     "text": [
      "Fast Text Exception for ангигнозного\n"
     ]
    },
    {
     "name": "stderr",
     "output_type": "stream",
     "text": [
      "\n",
      "78it [33:00, 29.74s/it]\u001B[A"
     ]
    },
    {
     "name": "stdout",
     "output_type": "stream",
     "text": [
      "try диагностический\n"
     ]
    },
    {
     "name": "stderr",
     "output_type": "stream",
     "text": [
      "\n",
      "79it [33:39, 32.69s/it]\u001B[A"
     ]
    },
    {
     "name": "stdout",
     "output_type": "stream",
     "text": [
      "Fast Text Exception for поддерживающией\n"
     ]
    },
    {
     "name": "stderr",
     "output_type": "stream",
     "text": [
      "\n",
      "80it [34:11, 32.44s/it]\u001B[A"
     ]
    },
    {
     "name": "stdout",
     "output_type": "stream",
     "text": [
      "try межлопаточный\n"
     ]
    },
    {
     "name": "stderr",
     "output_type": "stream",
     "text": [
      "\n",
      "81it [34:33, 29.19s/it]\u001B[A"
     ]
    },
    {
     "name": "stdout",
     "output_type": "stream",
     "text": [
      "Fast Text Exception for бедреной\n"
     ]
    },
    {
     "name": "stderr",
     "output_type": "stream",
     "text": [
      "\n",
      "82it [34:52, 26.19s/it]\u001B[A"
     ]
    },
    {
     "name": "stdout",
     "output_type": "stream",
     "text": [
      "Fast Text Exception for гшрядки\n"
     ]
    },
    {
     "name": "stderr",
     "output_type": "stream",
     "text": [
      "\n",
      "83it [35:13, 24.71s/it]\u001B[A"
     ]
    },
    {
     "name": "stdout",
     "output_type": "stream",
     "text": [
      "Fast Text Exception for бассеине\n"
     ]
    },
    {
     "name": "stderr",
     "output_type": "stream",
     "text": [
      "\n",
      "84it [35:32, 22.87s/it]\u001B[A"
     ]
    },
    {
     "name": "stdout",
     "output_type": "stream",
     "text": [
      "Fast Text Exception for возлуха\n"
     ]
    },
    {
     "name": "stderr",
     "output_type": "stream",
     "text": [
      "\n",
      "85it [35:51, 21.79s/it]\u001B[A"
     ]
    },
    {
     "name": "stdout",
     "output_type": "stream",
     "text": [
      "try сентябрь\n"
     ]
    },
    {
     "name": "stderr",
     "output_type": "stream",
     "text": [
      "\n",
      "86it [36:16, 22.78s/it]\u001B[A"
     ]
    },
    {
     "name": "stdout",
     "output_type": "stream",
     "text": [
      "Fast Text Exception for постояная\n"
     ]
    },
    {
     "name": "stderr",
     "output_type": "stream",
     "text": [
      "\n",
      "87it [36:51, 26.48s/it]\u001B[A"
     ]
    },
    {
     "name": "stdout",
     "output_type": "stream",
     "text": [
      "try рекомендовать\n"
     ]
    },
    {
     "name": "stderr",
     "output_type": "stream",
     "text": [
      "\n",
      "88it [37:18, 26.62s/it]\u001B[A"
     ]
    },
    {
     "name": "stdout",
     "output_type": "stream",
     "text": [
      "Fast Text Exception for поврждения\n"
     ]
    },
    {
     "name": "stderr",
     "output_type": "stream",
     "text": [
      "\n",
      "89it [37:48, 27.53s/it]\u001B[A"
     ]
    },
    {
     "name": "stdout",
     "output_type": "stream",
     "text": [
      "Fast Text Exception for дискофморта\n"
     ]
    },
    {
     "name": "stderr",
     "output_type": "stream",
     "text": [
      "\n",
      "90it [38:24, 30.04s/it]\u001B[A"
     ]
    },
    {
     "name": "stdout",
     "output_type": "stream",
     "text": [
      "try имплантировать\n"
     ]
    },
    {
     "name": "stderr",
     "output_type": "stream",
     "text": [
      "\n",
      "91it [38:54, 30.13s/it]\u001B[A"
     ]
    },
    {
     "name": "stdout",
     "output_type": "stream",
     "text": [
      "Fast Text Exception for неочетливая\n"
     ]
    },
    {
     "name": "stderr",
     "output_type": "stream",
     "text": [
      "\n",
      "92it [39:26, 30.81s/it]\u001B[A"
     ]
    },
    {
     "name": "stdout",
     "output_type": "stream",
     "text": [
      "Fast Text Exception for обесвеченный\n"
     ]
    },
    {
     "name": "stderr",
     "output_type": "stream",
     "text": [
      "\n",
      "93it [39:41, 25.88s/it]\u001B[A"
     ]
    },
    {
     "name": "stdout",
     "output_type": "stream",
     "text": [
      "Fast Text Exception for серце\n"
     ]
    },
    {
     "name": "stderr",
     "output_type": "stream",
     "text": [
      "\n",
      "94it [39:56, 22.80s/it]\u001B[A"
     ]
    },
    {
     "name": "stdout",
     "output_type": "stream",
     "text": [
      "try болезнь\n"
     ]
    },
    {
     "name": "stderr",
     "output_type": "stream",
     "text": [
      "\n",
      "95it [40:14, 21.08s/it]\u001B[A"
     ]
    },
    {
     "name": "stdout",
     "output_type": "stream",
     "text": [
      "Fast Text Exception for лергия\n"
     ]
    },
    {
     "name": "stderr",
     "output_type": "stream",
     "text": [
      "\n",
      "96it [40:23, 17.55s/it]\u001B[A"
     ]
    },
    {
     "name": "stdout",
     "output_type": "stream",
     "text": [
      "Fast Text Exception for ука\n"
     ]
    },
    {
     "name": "stderr",
     "output_type": "stream",
     "text": [
      "\n",
      "97it [40:36, 16.30s/it]\u001B[A"
     ]
    },
    {
     "name": "stdout",
     "output_type": "stream",
     "text": [
      "try изжога\n"
     ]
    },
    {
     "name": "stderr",
     "output_type": "stream",
     "text": [
      "\n",
      "98it [40:50, 15.60s/it]\u001B[A"
     ]
    },
    {
     "name": "stdout",
     "output_type": "stream",
     "text": [
      "Fast Text Exception for жение\n"
     ]
    },
    {
     "name": "stderr",
     "output_type": "stream",
     "text": [
      "\n",
      "99it [41:03, 14.92s/it]\u001B[A"
     ]
    },
    {
     "name": "stdout",
     "output_type": "stream",
     "text": [
      "Fast Text Exception for кашел\n"
     ]
    },
    {
     "name": "stderr",
     "output_type": "stream",
     "text": [
      "\n",
      "100it [41:20, 15.51s/it]\u001B[A"
     ]
    },
    {
     "name": "stdout",
     "output_type": "stream",
     "text": [
      "Fast Text Exception for рствор\n"
     ]
    },
    {
     "name": "stderr",
     "output_type": "stream",
     "text": [
      "\n",
      "101it [41:36, 15.58s/it]\u001B[A"
     ]
    },
    {
     "name": "stdout",
     "output_type": "stream",
     "text": [
      "try пациент\n"
     ]
    },
    {
     "name": "stderr",
     "output_type": "stream",
     "text": [
      "\n",
      "102it [41:53, 15.92s/it]\u001B[A"
     ]
    },
    {
     "name": "stdout",
     "output_type": "stream",
     "text": [
      "Fast Text Exception for пожлой\n"
     ]
    },
    {
     "name": "stderr",
     "output_type": "stream",
     "text": [
      "\n",
      "103it [42:13, 17.29s/it]\u001B[A"
     ]
    },
    {
     "name": "stdout",
     "output_type": "stream",
     "text": [
      "try лекарство\n"
     ]
    },
    {
     "name": "stderr",
     "output_type": "stream",
     "text": [
      "\n",
      "104it [42:46, 21.94s/it]\u001B[A"
     ]
    },
    {
     "name": "stdout",
     "output_type": "stream",
     "text": [
      "Fast Text Exception for нпреносимость\n"
     ]
    },
    {
     "name": "stderr",
     "output_type": "stream",
     "text": [
      "\n",
      "105it [43:06, 21.46s/it]\u001B[A"
     ]
    },
    {
     "name": "stdout",
     "output_type": "stream",
     "text": [
      "try ампула\n"
     ]
    },
    {
     "name": "stderr",
     "output_type": "stream",
     "text": [
      "\n",
      "106it [43:16, 17.88s/it]\u001B[A"
     ]
    },
    {
     "name": "stdout",
     "output_type": "stream",
     "text": [
      "Fast Text Exception for гел\n"
     ]
    },
    {
     "name": "stderr",
     "output_type": "stream",
     "text": [
      "\n",
      "107it [43:41, 20.03s/it]\u001B[A"
     ]
    },
    {
     "name": "stdout",
     "output_type": "stream",
     "text": [
      "Fast Text Exception for конценрат\n"
     ]
    },
    {
     "name": "stderr",
     "output_type": "stream",
     "text": [
      "\n",
      "109it [43:53, 13.49s/it]\u001B[A"
     ]
    },
    {
     "name": "stdout",
     "output_type": "stream",
     "text": [
      "Fast Text Exception for чссс\n"
     ]
    },
    {
     "name": "stderr",
     "output_type": "stream",
     "text": [
      "\n",
      "110it [44:04, 12.87s/it]\u001B[A"
     ]
    },
    {
     "name": "stdout",
     "output_type": "stream",
     "text": [
      "Fast Text Exception for экгъ\n"
     ]
    },
    {
     "name": "stderr",
     "output_type": "stream",
     "text": [
      "\n",
      "111it [44:30, 16.27s/it]\u001B[A"
     ]
    },
    {
     "name": "stdout",
     "output_type": "stream",
     "text": [
      "try фибрилляция\n"
     ]
    },
    {
     "name": "stderr",
     "output_type": "stream",
     "text": [
      "\n",
      "112it [44:50, 17.42s/it]\u001B[A"
     ]
    },
    {
     "name": "stdout",
     "output_type": "stream",
     "text": [
      "try желудочек\n"
     ]
    },
    {
     "name": "stderr",
     "output_type": "stream",
     "text": [
      "\n",
      "113it [45:01, 15.69s/it]\u001B[A"
     ]
    },
    {
     "name": "stdout",
     "output_type": "stream",
     "text": [
      "Fast Text Exception for хрон\n"
     ]
    },
    {
     "name": "stderr",
     "output_type": "stream",
     "text": [
      "\n",
      "114it [45:21, 16.90s/it]\u001B[A"
     ]
    },
    {
     "name": "stdout",
     "output_type": "stream",
     "text": [
      "Fast Text Exception for гиподин\n"
     ]
    },
    {
     "name": "stderr",
     "output_type": "stream",
     "text": [
      "\n",
      "115it [45:38, 16.99s/it]\u001B[A"
     ]
    },
    {
     "name": "stdout",
     "output_type": "stream",
     "text": [
      "Fast Text Exception for нерный\n"
     ]
    },
    {
     "name": "stderr",
     "output_type": "stream",
     "text": [
      "\n",
      "116it [45:50, 15.41s/it]\u001B[A"
     ]
    },
    {
     "name": "stdout",
     "output_type": "stream",
     "text": [
      "Fast Text Exception for сист\n"
     ]
    },
    {
     "name": "stderr",
     "output_type": "stream",
     "text": [
      "\n",
      "117it [46:24, 20.75s/it]\u001B[A"
     ]
    },
    {
     "name": "stdout",
     "output_type": "stream",
     "text": [
      "Fast Text Exception for диагоностика\n"
     ]
    },
    {
     "name": "stderr",
     "output_type": "stream",
     "text": [
      "\n",
      "118it [46:48, 21.86s/it]\u001B[A"
     ]
    },
    {
     "name": "stdout",
     "output_type": "stream",
     "text": [
      "Fast Text Exception for гипоксмия\n"
     ]
    },
    {
     "name": "stderr",
     "output_type": "stream",
     "text": [
      "\n",
      "119it [47:10, 21.95s/it]\u001B[A"
     ]
    },
    {
     "name": "stdout",
     "output_type": "stream",
     "text": [
      "Fast Text Exception for ледокоин\n"
     ]
    },
    {
     "name": "stderr",
     "output_type": "stream",
     "text": [
      "\n",
      "120it [47:30, 21.32s/it]\u001B[A"
     ]
    },
    {
     "name": "stdout",
     "output_type": "stream",
     "text": [
      "try блокатор\n"
     ]
    },
    {
     "name": "stderr",
     "output_type": "stream",
     "text": [
      "\n",
      "121it [47:54, 22.14s/it]\u001B[A"
     ]
    },
    {
     "name": "stdout",
     "output_type": "stream",
     "text": [
      "try тахикардия\n"
     ]
    },
    {
     "name": "stderr",
     "output_type": "stream",
     "text": [
      "\n",
      "122it [48:30, 26.33s/it]\u001B[A"
     ]
    },
    {
     "name": "stdout",
     "output_type": "stream",
     "text": [
      "Fast Text Exception for малоинвозивный\n"
     ]
    },
    {
     "name": "stderr",
     "output_type": "stream",
     "text": [
      "\n",
      "123it [48:46, 23.13s/it]\u001B[A"
     ]
    },
    {
     "name": "stdout",
     "output_type": "stream",
     "text": [
      "Fast Text Exception for алация\n"
     ]
    },
    {
     "name": "stderr",
     "output_type": "stream",
     "text": [
      "\n",
      "124it [48:55, 18.78s/it]\u001B[A"
     ]
    },
    {
     "name": "stdout",
     "output_type": "stream",
     "text": [
      "Fast Text Exception for имь\n"
     ]
    },
    {
     "name": "stderr",
     "output_type": "stream",
     "text": [
      "\n",
      "125it [49:18, 20.27s/it]\u001B[A"
     ]
    },
    {
     "name": "stdout",
     "output_type": "stream",
     "text": [
      "Fast Text Exception for паражение\n"
     ]
    },
    {
     "name": "stderr",
     "output_type": "stream",
     "text": [
      "\n",
      "126it [49:37, 19.83s/it]\u001B[A"
     ]
    },
    {
     "name": "stdout",
     "output_type": "stream",
     "text": [
      "Fast Text Exception for тяжолый\n"
     ]
    },
    {
     "name": "stderr",
     "output_type": "stream",
     "text": [
      "\n",
      "127it [50:14, 24.87s/it]\u001B[A"
     ]
    },
    {
     "name": "stdout",
     "output_type": "stream",
     "text": [
      "Fast Text Exception for гастрапластика\n"
     ]
    },
    {
     "name": "stderr",
     "output_type": "stream",
     "text": [
      "\n",
      "129it [50:30, 17.25s/it]\u001B[A"
     ]
    },
    {
     "name": "stdout",
     "output_type": "stream",
     "text": [
      "Fast Text Exception for лешний\n"
     ]
    },
    {
     "name": "stderr",
     "output_type": "stream",
     "text": [
      "\n",
      "131it [50:45, 13.21s/it]\u001B[A"
     ]
    },
    {
     "name": "stdout",
     "output_type": "stream",
     "text": [
      "Fast Text Exception for клапа\n"
     ]
    },
    {
     "name": "stderr",
     "output_type": "stream",
     "text": [
      "\n",
      "132it [50:57, 13.01s/it]\u001B[A"
     ]
    },
    {
     "name": "stdout",
     "output_type": "stream",
     "text": [
      "Fast Text Exception for вент\n"
     ]
    },
    {
     "name": "stderr",
     "output_type": "stream",
     "text": [
      "\n",
      "134it [51:19, 12.31s/it]\u001B[A"
     ]
    },
    {
     "name": "stdout",
     "output_type": "stream",
     "text": [
      "try перикард\n"
     ]
    },
    {
     "name": "stderr",
     "output_type": "stream",
     "text": [
      "\n",
      "135it [51:47, 15.61s/it]\u001B[A"
     ]
    },
    {
     "name": "stdout",
     "output_type": "stream",
     "text": [
      "Fast Text Exception for метральный\n"
     ]
    },
    {
     "name": "stderr",
     "output_type": "stream",
     "text": [
      "\n",
      "136it [52:11, 17.63s/it]\u001B[A"
     ]
    },
    {
     "name": "stdout",
     "output_type": "stream",
     "text": [
      "Fast Text Exception for ултразвук\n"
     ]
    },
    {
     "name": "stderr",
     "output_type": "stream",
     "text": [
      "\n",
      "137it [52:26, 17.06s/it]\u001B[A"
     ]
    },
    {
     "name": "stdout",
     "output_type": "stream",
     "text": [
      "try хирург\n"
     ]
    },
    {
     "name": "stderr",
     "output_type": "stream",
     "text": [
      "\n",
      "138it [52:49, 18.54s/it]\u001B[A"
     ]
    },
    {
     "name": "stdout",
     "output_type": "stream",
     "text": [
      "try кардиолог\n"
     ]
    },
    {
     "name": "stderr",
     "output_type": "stream",
     "text": [
      "\n",
      "139it [53:09, 18.98s/it]\u001B[A"
     ]
    },
    {
     "name": "stdout",
     "output_type": "stream",
     "text": [
      "try килограмм\n"
     ]
    },
    {
     "name": "stderr",
     "output_type": "stream",
     "text": [
      "\n",
      "140it [53:31, 19.68s/it]\u001B[A"
     ]
    },
    {
     "name": "stdout",
     "output_type": "stream",
     "text": [
      "Fast Text Exception for акенезия\n"
     ]
    },
    {
     "name": "stderr",
     "output_type": "stream",
     "text": [
      "\n",
      "141it [53:49, 19.44s/it]\u001B[A"
     ]
    },
    {
     "name": "stdout",
     "output_type": "stream",
     "text": [
      "Fast Text Exception for врхушка\n"
     ]
    },
    {
     "name": "stderr",
     "output_type": "stream",
     "text": [
      "\n",
      "142it [54:15, 21.26s/it]\u001B[A"
     ]
    },
    {
     "name": "stdout",
     "output_type": "stream",
     "text": [
      "try апикальный\n"
     ]
    },
    {
     "name": "stderr",
     "output_type": "stream",
     "text": [
      "\n",
      "143it [54:31, 19.62s/it]\u001B[A"
     ]
    },
    {
     "name": "stdout",
     "output_type": "stream",
     "text": [
      "try сегмент\n"
     ]
    },
    {
     "name": "stderr",
     "output_type": "stream",
     "text": [
      "\n",
      "145it [54:47, 14.40s/it]\u001B[A"
     ]
    },
    {
     "name": "stdout",
     "output_type": "stream",
     "text": [
      "Fast Text Exception for сьенка\n"
     ]
    },
    {
     "name": "stderr",
     "output_type": "stream",
     "text": [
      "\n",
      "146it [55:15, 17.78s/it]\u001B[A"
     ]
    },
    {
     "name": "stdout",
     "output_type": "stream",
     "text": [
      "try циркулярный\n"
     ]
    },
    {
     "name": "stderr",
     "output_type": "stream",
     "text": [
      "\n",
      "147it [55:36, 18.39s/it]\u001B[A"
     ]
    },
    {
     "name": "stdout",
     "output_type": "stream",
     "text": [
      "Fast Text Exception for сридиный\n"
     ]
    },
    {
     "name": "stderr",
     "output_type": "stream",
     "text": [
      "\n",
      "148it [55:58, 19.55s/it]\u001B[A"
     ]
    },
    {
     "name": "stdout",
     "output_type": "stream",
     "text": [
      "Fast Text Exception for калапаный\n"
     ]
    },
    {
     "name": "stderr",
     "output_type": "stream",
     "text": [
      "\n",
      "149it [56:14, 18.59s/it]\u001B[A"
     ]
    },
    {
     "name": "stdout",
     "output_type": "stream",
     "text": [
      "Fast Text Exception for апарат\n"
     ]
    },
    {
     "name": "stderr",
     "output_type": "stream",
     "text": [
      "\n",
      "150it [56:38, 20.10s/it]\u001B[A"
     ]
    },
    {
     "name": "stdout",
     "output_type": "stream",
     "text": [
      "Fast Text Exception for потология\n"
     ]
    },
    {
     "name": "stderr",
     "output_type": "stream",
     "text": [
      "\n",
      "151it [56:59, 20.40s/it]\u001B[A"
     ]
    },
    {
     "name": "stdout",
     "output_type": "stream",
     "text": [
      "try перикард\n"
     ]
    },
    {
     "name": "stderr",
     "output_type": "stream",
     "text": [
      "\n",
      "152it [57:33, 24.30s/it]\u001B[A"
     ]
    },
    {
     "name": "stdout",
     "output_type": "stream",
     "text": [
      "try проксимальный\n"
     ]
    },
    {
     "name": "stderr",
     "output_type": "stream",
     "text": [
      "\n",
      "153it [57:50, 22.18s/it]\u001B[A"
     ]
    },
    {
     "name": "stdout",
     "output_type": "stream",
     "text": [
      "Fast Text Exception for деаметр\n"
     ]
    },
    {
     "name": "stderr",
     "output_type": "stream",
     "text": [
      "\n",
      "154it [58:10, 21.50s/it]\u001B[A"
     ]
    },
    {
     "name": "stdout",
     "output_type": "stream",
     "text": [
      "try коррекция\n"
     ]
    },
    {
     "name": "stderr",
     "output_type": "stream",
     "text": [
      "\n",
      "155it [58:35, 22.43s/it]\u001B[A"
     ]
    },
    {
     "name": "stdout",
     "output_type": "stream",
     "text": [
      "Fast Text Exception for аслажнение\n"
     ]
    },
    {
     "name": "stderr",
     "output_type": "stream",
     "text": [
      "\n",
      "156it [58:52, 21.03s/it]\u001B[A"
     ]
    },
    {
     "name": "stdout",
     "output_type": "stream",
     "text": [
      "try страдать\n"
     ]
    },
    {
     "name": "stderr",
     "output_type": "stream",
     "text": [
      "\n",
      "157it [59:29, 25.62s/it]\u001B[A"
     ]
    },
    {
     "name": "stdout",
     "output_type": "stream",
     "text": [
      "try гипертонический\n"
     ]
    },
    {
     "name": "stderr",
     "output_type": "stream",
     "text": [
      "\n",
      "158it [59:44, 22.42s/it]\u001B[A"
     ]
    },
    {
     "name": "stdout",
     "output_type": "stream",
     "text": [
      "Fast Text Exception for болезн\n"
     ]
    },
    {
     "name": "stderr",
     "output_type": "stream",
     "text": [
      "\n",
      "159it [1:00:14, 24.73s/it]\u001B[A"
     ]
    },
    {
     "name": "stdout",
     "output_type": "stream",
     "text": [
      "Fast Text Exception for одоптировать\n"
     ]
    },
    {
     "name": "stderr",
     "output_type": "stream",
     "text": [
      "\n",
      "160it [1:00:33, 23.20s/it]\u001B[A"
     ]
    },
    {
     "name": "stdout",
     "output_type": "stream",
     "text": [
      "try получить\n"
     ]
    },
    {
     "name": "stderr",
     "output_type": "stream",
     "text": [
      "\n",
      "161it [1:01:07, 26.40s/it]\u001B[A"
     ]
    },
    {
     "name": "stdout",
     "output_type": "stream",
     "text": [
      "try консервативный\n"
     ]
    },
    {
     "name": "stderr",
     "output_type": "stream",
     "text": [
      "\n",
      "162it [1:01:25, 23.80s/it]\u001B[A"
     ]
    },
    {
     "name": "stdout",
     "output_type": "stream",
     "text": [
      "Fast Text Exception for тичение\n"
     ]
    },
    {
     "name": "stderr",
     "output_type": "stream",
     "text": [
      "\n",
      "163it [1:01:50, 24.24s/it]\u001B[A"
     ]
    },
    {
     "name": "stdout",
     "output_type": "stream",
     "text": [
      "try требование\n"
     ]
    },
    {
     "name": "stderr",
     "output_type": "stream",
     "text": [
      "\n",
      "164it [1:02:13, 23.67s/it]\u001B[A"
     ]
    },
    {
     "name": "stdout",
     "output_type": "stream",
     "text": [
      "Fast Text Exception for отбиление\n"
     ]
    },
    {
     "name": "stderr",
     "output_type": "stream",
     "text": [
      "\n",
      "165it [1:02:42, 25.26s/it]\u001B[A"
     ]
    },
    {
     "name": "stdout",
     "output_type": "stream",
     "text": [
      "try самочувствие\n"
     ]
    },
    {
     "name": "stderr",
     "output_type": "stream",
     "text": [
      "\n",
      "166it [1:03:04, 24.39s/it]\u001B[A"
     ]
    },
    {
     "name": "stdout",
     "output_type": "stream",
     "text": [
      "try ухудшение\n"
     ]
    },
    {
     "name": "stderr",
     "output_type": "stream",
     "text": [
      "\n",
      "167it [1:03:17, 20.85s/it]\u001B[A"
     ]
    },
    {
     "name": "stdout",
     "output_type": "stream",
     "text": [
      "Fast Text Exception for месро\n"
     ]
    },
    {
     "name": "stderr",
     "output_type": "stream",
     "text": [
      "\n",
      "168it [1:03:34, 19.70s/it]\u001B[A"
     ]
    },
    {
     "name": "stdout",
     "output_type": "stream",
     "text": [
      "try пункция\n"
     ]
    },
    {
     "name": "stderr",
     "output_type": "stream",
     "text": [
      "\n",
      "169it [1:04:00, 21.82s/it]\u001B[A"
     ]
    },
    {
     "name": "stdout",
     "output_type": "stream",
     "text": [
      "try особенность\n"
     ]
    },
    {
     "name": "stderr",
     "output_type": "stream",
     "text": [
      "\n",
      "170it [1:04:11, 18.53s/it]\u001B[A"
     ]
    },
    {
     "name": "stdout",
     "output_type": "stream",
     "text": [
      "Fast Text Exception for шнут\n"
     ]
    },
    {
     "name": "stderr",
     "output_type": "stream",
     "text": [
      "\n",
      "171it [1:04:42, 22.21s/it]\u001B[A"
     ]
    },
    {
     "name": "stdout",
     "output_type": "stream",
     "text": [
      "try шунтирование\n"
     ]
    },
    {
     "name": "stderr",
     "output_type": "stream",
     "text": [
      "\n",
      "172it [1:05:00, 21.02s/it]\u001B[A"
     ]
    },
    {
     "name": "stdout",
     "output_type": "stream",
     "text": [
      "Fast Text Exception for готчина\n"
     ]
    },
    {
     "name": "stderr",
     "output_type": "stream",
     "text": [
      "\n",
      "173it [1:05:08, 17.03s/it]\u001B[A"
     ]
    },
    {
     "name": "stdout",
     "output_type": "stream",
     "text": [
      "Fast Text Exception for эхэ\n"
     ]
    },
    {
     "name": "stderr",
     "output_type": "stream",
     "text": [
      "\n",
      "174it [1:05:34, 19.61s/it]\u001B[A"
     ]
    },
    {
     "name": "stdout",
     "output_type": "stream",
     "text": [
      "Fast Text Exception for каранарный\n"
     ]
    },
    {
     "name": "stderr",
     "output_type": "stream",
     "text": [
      "\n",
      "175it [1:05:52, 19.23s/it]\u001B[A"
     ]
    },
    {
     "name": "stdout",
     "output_type": "stream",
     "text": [
      "Fast Text Exception for ортерия\n"
     ]
    },
    {
     "name": "stderr",
     "output_type": "stream",
     "text": [
      "\n",
      "176it [1:06:12, 19.61s/it]\u001B[A"
     ]
    },
    {
     "name": "stdout",
     "output_type": "stream",
     "text": [
      "Fast Text Exception for сначимый\n"
     ]
    },
    {
     "name": "stderr",
     "output_type": "stream",
     "text": [
      "\n",
      "177it [1:06:28, 18.54s/it]\u001B[A"
     ]
    },
    {
     "name": "stdout",
     "output_type": "stream",
     "text": [
      "Fast Text Exception for стинос\n"
     ]
    },
    {
     "name": "stderr",
     "output_type": "stream",
     "text": [
      "\n",
      "178it [1:07:09, 25.15s/it]\u001B[A"
     ]
    },
    {
     "name": "stdout",
     "output_type": "stream",
     "text": [
      "try госпитализировать\n"
     ]
    },
    {
     "name": "stderr",
     "output_type": "stream",
     "text": [
      "\n",
      "179it [1:07:19, 20.73s/it]\u001B[A"
     ]
    },
    {
     "name": "stdout",
     "output_type": "stream",
     "text": [
      "Fast Text Exception for имья\n"
     ]
    },
    {
     "name": "stderr",
     "output_type": "stream",
     "text": [
      "\n",
      "180it [1:07:38, 20.04s/it]\u001B[A"
     ]
    },
    {
     "name": "stdout",
     "output_type": "stream",
     "text": [
      "Fast Text Exception for олмазов\n"
     ]
    },
    {
     "name": "stderr",
     "output_type": "stream",
     "text": [
      "\n",
      "181it [1:08:08, 23.17s/it]\u001B[A"
     ]
    },
    {
     "name": "stdout",
     "output_type": "stream",
     "text": [
      "Fast Text Exception for прдшствовать\n"
     ]
    },
    {
     "name": "stderr",
     "output_type": "stream",
     "text": [
      "\n",
      "182it [1:08:36, 24.42s/it]\u001B[A"
     ]
    },
    {
     "name": "stdout",
     "output_type": "stream",
     "text": [
      "try стенокардия\n"
     ]
    },
    {
     "name": "stderr",
     "output_type": "stream",
     "text": [
      "\n",
      "183it [1:08:59, 24.07s/it]\u001B[A"
     ]
    },
    {
     "name": "stdout",
     "output_type": "stream",
     "text": [
      "Fast Text Exception for пиринести\n"
     ]
    },
    {
     "name": "stderr",
     "output_type": "stream",
     "text": [
      "\n",
      "184it [1:09:14, 21.42s/it]\u001B[A"
     ]
    },
    {
     "name": "stdout",
     "output_type": "stream",
     "text": [
      "try инфаркт\n"
     ]
    },
    {
     "name": "stderr",
     "output_type": "stream",
     "text": [
      "\n",
      "185it [1:09:34, 20.96s/it]\u001B[A"
     ]
    },
    {
     "name": "stdout",
     "output_type": "stream",
     "text": [
      "Fast Text Exception for моикарда\n"
     ]
    },
    {
     "name": "stderr",
     "output_type": "stream",
     "text": [
      "\n",
      "186it [1:10:02, 22.91s/it]\u001B[A"
     ]
    },
    {
     "name": "stdout",
     "output_type": "stream",
     "text": [
      "Fast Text Exception for лакализация\n"
     ]
    },
    {
     "name": "stderr",
     "output_type": "stream",
     "text": [
      "\n",
      "187it [1:10:19, 21.31s/it]\u001B[A"
     ]
    },
    {
     "name": "stdout",
     "output_type": "stream",
     "text": [
      "try справка\n"
     ]
    },
    {
     "name": "stderr",
     "output_type": "stream",
     "text": [
      "\n",
      "188it [1:10:45, 22.57s/it]\u001B[A"
     ]
    },
    {
     "name": "stdout",
     "output_type": "stream",
     "text": [
      "try дальнейший\n"
     ]
    },
    {
     "name": "stderr",
     "output_type": "stream",
     "text": [
      "\n",
      "189it [1:11:51, 35.84s/it]\u001B[A"
     ]
    },
    {
     "name": "stdout",
     "output_type": "stream",
     "text": [
      "Fast Text Exception for хроническаянедостаточность\n"
     ]
    },
    {
     "name": "stderr",
     "output_type": "stream",
     "text": [
      "\n",
      "190it [1:12:31, 37.03s/it]\u001B[A"
     ]
    },
    {
     "name": "stdout",
     "output_type": "stream",
     "text": [
      "Fast Text Exception for инфарктмиокарда\n"
     ]
    },
    {
     "name": "stderr",
     "output_type": "stream",
     "text": [
      "\n",
      "191it [1:12:48, 30.97s/it]\u001B[A"
     ]
    },
    {
     "name": "stdout",
     "output_type": "stream",
     "text": [
      "Fast Text Exception for отузла\n"
     ]
    },
    {
     "name": "stderr",
     "output_type": "stream",
     "text": [
      "\n",
      "192it [1:13:27, 33.20s/it]\u001B[A"
     ]
    },
    {
     "name": "stdout",
     "output_type": "stream",
     "text": [
      "try нарушение\n"
     ]
    },
    {
     "name": "stderr",
     "output_type": "stream",
     "text": [
      "\n",
      "193it [1:13:44, 28.56s/it]\u001B[A"
     ]
    },
    {
     "name": "stdout",
     "output_type": "stream",
     "text": [
      "Fast Text Exception for вминуту\n"
     ]
    },
    {
     "name": "stderr",
     "output_type": "stream",
     "text": [
      "\n",
      "194it [1:14:31, 34.01s/it]\u001B[A"
     ]
    },
    {
     "name": "stdout",
     "output_type": "stream",
     "text": [
      "Fast Text Exception for эндокриннойсистемы\n"
     ]
    },
    {
     "name": "stderr",
     "output_type": "stream",
     "text": [
      "\n",
      "195it [1:15:05, 33.96s/it]\u001B[A"
     ]
    },
    {
     "name": "stdout",
     "output_type": "stream",
     "text": [
      "try сердечный\n"
     ]
    },
    {
     "name": "stderr",
     "output_type": "stream",
     "text": [
      "\n",
      "196it [1:15:49, 36.92s/it]\u001B[A"
     ]
    },
    {
     "name": "stdout",
     "output_type": "stream",
     "text": [
      "try тахикардия\n"
     ]
    },
    {
     "name": "stderr",
     "output_type": "stream",
     "text": [
      "\n",
      "197it [1:16:27, 37.49s/it]\u001B[A"
     ]
    },
    {
     "name": "stdout",
     "output_type": "stream",
     "text": [
      "Fast Text Exception for основныефакторы\n"
     ]
    },
    {
     "name": "stderr",
     "output_type": "stream",
     "text": [
      "\n",
      "198it [1:17:06, 37.87s/it]\u001B[A"
     ]
    },
    {
     "name": "stdout",
     "output_type": "stream",
     "text": [
      "try остановка\n"
     ]
    },
    {
     "name": "stderr",
     "output_type": "stream",
     "text": [
      "\n",
      "199it [1:18:00, 42.68s/it]\u001B[A"
     ]
    },
    {
     "name": "stdout",
     "output_type": "stream",
     "text": [
      "try фибрилляция\n"
     ]
    },
    {
     "name": "stderr",
     "output_type": "stream",
     "text": [
      "\n",
      "200it [1:18:24, 23.52s/it]\u001B[A\n",
      "0it [1:18:24, ?it/s]"
     ]
    },
    {
     "name": "stdout",
     "output_type": "stream",
     "text": [
      "Fast Text Exception for счастотой\n",
      "original_word_list --- corrected_word --- answer_word_list\n",
      "эктренном --- экстренный --- ['экстренном']\n",
      "синусовго --- синусный --- ['синусового']\n",
      "даным --- данные --- ['данным', 'данный', 'данные']\n",
      "шнутография --- кистография --- ['шунтография']\n",
      "сникопальных --- синкопальный --- ['синкопальных']\n",
      "посление --- поселение --- ['поселение', 'последний']\n",
      "ходавый --- холевый --- ['ходовый']\n",
      "анмнезе --- намять --- ['анамнезе', 'анамнез']\n",
      "сентированный --- ориентировать --- ['стентированный']\n",
      "самоч --- самос --- ['самочувствие']\n",
      "перевдена --- переедена --- ['переведена']\n",
      "стентированеим --- тестирование --- ['стентированием', 'стентирование']\n",
      "кардиол --- кардио- --- ['кардиолог,кардиологический']\n",
      "переведна --- перевести --- ['переведена']\n",
      "догосптальном --- догоспитальный --- ['догоспитальном']\n",
      "миним --- синим --- ['минимум', 'минимальный']\n",
      "субфебриллитет --- субфебрилитет --- ['субфебрилитет']\n",
      "загрудиные --- загрудинный --- ['загрудинные', 'загрудинный']\n",
      "перферия --- периферия --- ['периферия']\n",
      "течени --- течения --- ['течение']\n",
      "оклюзия --- окклюзия --- ['окклюзия']\n",
      "жнщина --- женщина --- ['женщина']\n",
      "пциент --- пациент --- ['пациент']\n",
      "зарегистирована --- зарегистрировать --- ['зарегистрирована']\n",
      "сегмета --- сегмента --- ['сегмента']\n",
      "клекте --- клеите --- ['клетке']\n",
      "эпид --- эпик --- ['эпидемия', 'эпидемиологический', 'эпидуральный']\n",
      "интелектуально --- интеллектуально --- ['интеллектуально']\n",
      "нижн --- низать --- ['нижний']\n",
      "прводилась --- прудилась --- ['проводилась', 'проводить']\n",
      "неуст --- несут --- ['неустановленный']\n",
      "госптализирован --- госпитализировать --- ['госпитализирован']\n",
      "вперые --- впереть --- ['впервые']\n",
      "послеоперационом --- послеоперационное --- ['послеоперационном']\n",
      "госпитализирова --- госпитализировать --- ['госпитализирован']\n",
      "ухудщение --- ухудшение --- ['ухудшение']\n",
      "рентг --- рента --- ['рентген']\n",
      "дальнешем --- далёкий --- ['дальнейшем']\n",
      "троботическая --- тромботический --- ['тромботическая']\n",
      "многосоудистое --- многоводие --- ['многососудистое', 'многососудистый']\n",
      "миокрада --- миокард --- ['миокарда', 'миокард']\n",
      "сопрвождались --- сопровождаться --- ['сопровождались']\n",
      "дискмфорт --- дискомфорт --- ['дискомфорт']\n",
      "потлтвостью --- потливость --- ['потливостью']\n",
      "левогожелудочка --- левожелудочковая --- ['левого желудочка', 'левый желудочек']\n",
      "рание --- ранте --- ['ранее', 'ранние']\n",
      "виед --- виде --- ['виде', 'вид']\n",
      "ангинозныеболи --- ангинозное --- ['ангинозные боли', 'ангиозный боль']\n",
      "догоситальном --- догоспитальный --- ['догоспитальном']\n",
      "ввполнен --- полнить --- ['выполнен']\n",
      "чаосв --- часов --- ['часов']\n",
      "октазалась --- казаться --- ['отказалась']\n",
      "линика --- линин --- ['клиника']\n",
      "ммента --- гент --- ['момента']\n",
      "проведеной --- проведено --- ['проведенной']\n",
      "выполненяи --- выполнение --- ['выполнения', 'выполнение']\n",
      "леченяи --- лечение --- ['лечения', 'лечение']\n",
      "обтилась --- оббилась --- ['обратилась']\n",
      "повтороно --- повторно --- ['повторно']\n",
      "зарегистриованы --- зарегистрировать --- ['зарегистрированы']\n",
      "отицает --- тикать --- ['отрицает', 'отрицать']\n",
      "дальнейщем --- вольнейшем --- ['дальнейшем']\n",
      "болисохраняются --- предохраняться --- ['боли сохраняются']\n",
      "частичынм --- частично --- ['частичным']\n",
      "атерокслеротичсекая --- атеросклеротическая --- ['атеросклеротическая']\n",
      "деньс --- деться --- ['день', 'день с']\n",
      "назначаля --- назначать --- ['назначался']\n",
      "проведеняи --- проведения --- ['проведения']\n",
      "беспакоют --- беспокою --- ['беспокоят']\n",
      "гипертензи --- гипертензин --- ['гипертензия']\n",
      "воленйбол --- волейбол --- ['волейбол']\n",
      "болезн --- болен --- ['болезнь']\n",
      "стенокардаа --- стенокардия --- ['стенокардия']\n",
      "продолжалсь --- продолжать --- ['продолжалась']\n",
      "поворное --- повторный --- ['повторное']\n",
      "ощуащет --- оплещет --- ['ощущает']\n",
      "ангигнозного --- ангинозное --- ['ангинозного', 'ангинозный']\n",
      "диагностичекой --- диагностический --- ['диагностической', 'диагностический']\n",
      "поддерживающией --- поддерживающие --- ['поддерживающий']\n",
      "межлопаточнй --- межлопаточный --- ['межлопаточный']\n",
      "бедреной --- бедренный --- ['бедренной', 'бедренный']\n",
      "гшрядки --- грядка --- ['грядки']\n",
      "бассеине --- бассинь --- ['бассейне', 'бассейн']\n",
      "возлуха --- воздуха --- ['воздуха', 'воздух']\n",
      "сенября --- сентябрь --- ['сентября', 'сентябрь']\n",
      "постояная --- постоянный --- ['постоянная', 'постоянный']\n",
      "рекмоендовнао --- рекомендовать --- ['рекомендовано']\n",
      "поврждения --- повреждение --- ['повреждения']\n",
      "дискофморта --- дискомфорт --- ['дискомфорт']\n",
      "импалнтирован --- имплантировать --- ['имплантирован', 'имплантировать']\n",
      "неочетливая --- неотчётливый --- ['неотчетливая', 'неотчетливый']\n",
      "обесвеченный --- обеспечить --- ['обесцвеченный', 'обеспеченный']\n",
      "серце --- берце --- ['сердце']\n",
      "блезнь --- болезнь --- ['болезнь']\n",
      "лергия --- тергит --- ['аллергия']\n",
      "ука --- вука --- ['рука']\n",
      "изжга --- изжога --- ['изжога']\n",
      "жение --- женить --- ['жжение']\n",
      "кашел --- найти --- ['кашель']\n",
      "рствор --- раствор --- ['раствор']\n",
      "пациен --- пациент --- ['пациент']\n",
      "пожлой --- полый --- ['пожилой']\n",
      "лекарсво --- лекарство --- ['лекарство']\n",
      "нпреносимость --- непереносимость --- ['непереносимость']\n",
      "амупула --- ампула --- ['ампула']\n",
      "гел --- гул --- ['гель']\n",
      "конценрат --- концентрат --- ['концентрат']\n",
      "рилиф --- рилиф --- ['релиф']\n",
      "чссс --- чсс --- ['ЧСС', 'чсс']\n",
      "экгъ --- экг --- ['ЭКГ', 'экг']\n",
      "фибриляция --- фибрилляция --- ['фибрилляция']\n",
      "желдочек --- желудочек --- ['желудочек']\n",
      "хрон --- хроно --- ['хронический']\n",
      "гиподин --- гирудин --- ['гиподинамический']\n",
      "нерный --- нервный --- ['нервный']\n",
      "сист --- вист --- ['система']\n",
      "диагоностика --- диагностика --- ['диагностика']\n",
      "гипоксмия --- гипоксемия --- ['гипоксемия']\n",
      "ледокоин --- лидокаин --- ['лидокаин']\n",
      "блокато --- блокатор --- ['блокатор']\n",
      "тахкардия --- тахикардия --- ['тахикардия']\n",
      "малоинвозивный --- малоабразивный --- ['малоинвазивный']\n",
      "алация --- алания --- ['аблация', 'абляция']\n",
      "имь --- иль --- ['ИМ', 'им']\n",
      "паражение --- поражение --- ['поражение']\n",
      "тяжолый --- тяжёлый --- ['тяжелый']\n",
      "гастрапластика --- гастропластика --- ['гастропластика']\n",
      "вс --- вс --- ['вес']\n",
      "лешний --- леший --- ['лишний']\n",
      "орта --- орта --- ['аорта']\n",
      "клапа --- клаппа --- ['клапан']\n",
      "вент --- веять --- ['вена']\n",
      "палый --- палый --- ['полый']\n",
      "пирикард --- перикард --- ['перикард']\n",
      "метральный --- метальный --- ['митральный']\n",
      "ултразвук --- ультразвук --- ['ультразвук']\n",
      "херург --- хирург --- ['хирург']\n",
      "кордиолог --- кардиолог --- ['кардиолог']\n",
      "килограм --- килограмм --- ['килограмм']\n",
      "акенезия --- акинезия --- ['акинезия']\n",
      "врхушка --- верхушка --- ['верхушка']\n",
      "апекальный --- апикальный --- ['апикальный']\n",
      "сгмент --- сегмент --- ['сегмент']\n",
      "вес --- вес --- ['весь']\n",
      "сьенка --- сменка --- ['стенка']\n",
      "церкулярный --- циркулярный --- ['циркулярный']\n",
      "сридиный --- аридный --- ['срединный']\n",
      "калапаный --- клапаны --- ['клапанный']\n",
      "апарат --- арарат --- ['аппарат']\n",
      "потология --- патология --- ['патология']\n",
      "перекард --- перикард --- ['перикард']\n",
      "праксимальный --- проксимальный --- ['проксимальный']\n",
      "деаметр --- диаметр --- ['диаметр']\n",
      "корекция --- коррекция --- ['коррекция']\n",
      "аслажнение --- увлажнение --- ['осложнение']\n",
      "стрдать --- страдать --- ['страдать']\n",
      "гепертонический --- гипертонический --- ['гипертонический']\n",
      "болезн --- болен --- ['болезнь']\n",
      "одоптировать --- адоптировать --- ['адаптировать']\n",
      "получять --- получить --- ['получать']\n",
      "кансервативный --- консервативный --- ['консервативный']\n",
      "тичение --- точение --- ['течение']\n",
      "пребование --- требование --- ['пребывание']\n",
      "отбиление --- отдаление --- ['отделение']\n",
      "самачувствие --- самочувствие --- ['самочувствие']\n",
      "уходшение --- ухудшение --- ['ухудшение']\n",
      "месро --- метро --- ['место']\n",
      "пункцыя --- пункция --- ['пункция']\n",
      "особеность --- особенность --- ['особенность']\n",
      "шнут --- гнут --- ['шунт']\n",
      "шнутирование --- шунтирование --- ['шунтирование']\n",
      "готчина --- гатчина --- ['гатчина']\n",
      "эхэ --- эаэ --- ['эхо']\n",
      "каранарный --- карандашный --- ['коронарный']\n",
      "ортерия --- артерия --- ['артерия']\n",
      "сначимый --- значимый --- ['значимый']\n",
      "стинос --- тинос --- ['стеноз']\n",
      "гаспиализировать --- госпитализировать --- ['госпитализировать']\n",
      "имья --- имея --- ['имя']\n",
      "олмазов --- алмаз --- ['алмазов']\n",
      "прдшствовать --- прошествовать --- ['предшествовать']\n",
      "стинакардия --- стенокардия --- ['стенокардия']\n",
      "пиринести --- принести --- ['перенести']\n",
      "ифаркт --- инфаркт --- ['инфаркт']\n",
      "моикарда --- миокард --- ['миокарда']\n",
      "лакализация --- алкализация --- ['локализация']\n",
      "спразка --- справка --- ['справка']\n",
      "дальнейшый --- дальнейший --- ['дальнейший']\n",
      "хроническаянедостаточность --- недостаточность --- ['хроническая недостаточность', 'хронический недостаточность']\n",
      "инфарктмиокарда --- инфарктик --- ['инфаркт миокарда', 'инфаркт миокард']\n",
      "отузла --- грузнуть --- ['от узла', 'от узел']\n",
      "нарушениеработы --- нарушение --- ['нарушение работы', 'нарушение работа']\n",
      "вминуту --- вкинуть --- ['в минуту', 'в минута', 'минута']\n",
      "эндокриннойсистемы --- эндокринное --- ['эндокринная система', 'эндокринный система']\n",
      "сердечныйритм --- сердечный --- ['сердечный ритм']\n",
      "узловаятахикардия --- тахикардия --- ['узловая тахикардия', 'узловой тахикардия']\n",
      "основныефакторы --- соредактор --- ['основной факто', 'основные факторы']\n",
      "остановкасердца --- остановка --- ['остановка сердца', 'остановка сердце']\n",
      "фибрилляцияжелудочков --- фибрилляция --- ['фибрилляция желудочков', 'фибрилляция желудочек']\n",
      "счастотой --- пластовой --- ['с частотой', 'с частотаб частота']\n",
      "Right corrected words count - 81 of 200 total\n"
     ]
    },
    {
     "name": "stderr",
     "output_type": "stream",
     "text": [
      "\n"
     ]
    },
    {
     "data": {
      "text/plain": "{'words_per_minute': 2.5506935162686775,\n 'error_precision': 0.405,\n 'lexical_precision': 0.0,\n 'original_word_list': ['эктренном',\n  'синусовго',\n  'даным',\n  'шнутография',\n  'сникопальных',\n  'посление',\n  'ходавый',\n  'анмнезе',\n  'сентированный',\n  'самоч',\n  'перевдена',\n  'стентированеим',\n  'кардиол',\n  'переведна',\n  'догосптальном',\n  'миним',\n  'субфебриллитет',\n  'загрудиные',\n  'перферия',\n  'течени',\n  'оклюзия',\n  'жнщина',\n  'пциент',\n  'зарегистирована',\n  'сегмета',\n  'клекте',\n  'эпид',\n  'интелектуально',\n  'нижн',\n  'прводилась',\n  'неуст',\n  'госптализирован',\n  'вперые',\n  'послеоперационом',\n  'госпитализирова',\n  'ухудщение',\n  'рентг',\n  'дальнешем',\n  'троботическая',\n  'многосоудистое',\n  'миокрада',\n  'сопрвождались',\n  'дискмфорт',\n  'потлтвостью',\n  'левогожелудочка',\n  'рание',\n  'виед',\n  'ангинозныеболи',\n  'догоситальном',\n  'ввполнен',\n  'чаосв',\n  'октазалась',\n  'линика',\n  'ммента',\n  'проведеной',\n  'выполненяи',\n  'леченяи',\n  'обтилась',\n  'повтороно',\n  'зарегистриованы',\n  'отицает',\n  'дальнейщем',\n  'болисохраняются',\n  'частичынм',\n  'атерокслеротичсекая',\n  'деньс',\n  'назначаля',\n  'проведеняи',\n  'беспакоют',\n  'гипертензи',\n  'воленйбол',\n  'болезн',\n  'стенокардаа',\n  'продолжалсь',\n  'поворное',\n  'ощуащет',\n  'ангигнозного',\n  'диагностичекой',\n  'поддерживающией',\n  'межлопаточнй',\n  'бедреной',\n  'гшрядки',\n  'бассеине',\n  'возлуха',\n  'сенября',\n  'постояная',\n  'рекмоендовнао',\n  'поврждения',\n  'дискофморта',\n  'импалнтирован',\n  'неочетливая',\n  'обесвеченный',\n  'серце',\n  'блезнь',\n  'лергия',\n  'ука',\n  'изжга',\n  'жение',\n  'кашел',\n  'рствор',\n  'пациен',\n  'пожлой',\n  'лекарсво',\n  'нпреносимость',\n  'амупула',\n  'гел',\n  'конценрат',\n  'рилиф',\n  'чссс',\n  'экгъ',\n  'фибриляция',\n  'желдочек',\n  'хрон',\n  'гиподин',\n  'нерный',\n  'сист',\n  'диагоностика',\n  'гипоксмия',\n  'ледокоин',\n  'блокато',\n  'тахкардия',\n  'малоинвозивный',\n  'алация',\n  'имь',\n  'паражение',\n  'тяжолый',\n  'гастрапластика',\n  'вс',\n  'лешний',\n  'орта',\n  'клапа',\n  'вент',\n  'палый',\n  'пирикард',\n  'метральный',\n  'ултразвук',\n  'херург',\n  'кордиолог',\n  'килограм',\n  'акенезия',\n  'врхушка',\n  'апекальный',\n  'сгмент',\n  'вес',\n  'сьенка',\n  'церкулярный',\n  'сридиный',\n  'калапаный',\n  'апарат',\n  'потология',\n  'перекард',\n  'праксимальный',\n  'деаметр',\n  'корекция',\n  'аслажнение',\n  'стрдать',\n  'гепертонический',\n  'болезн',\n  'одоптировать',\n  'получять',\n  'кансервативный',\n  'тичение',\n  'пребование',\n  'отбиление',\n  'самачувствие',\n  'уходшение',\n  'месро',\n  'пункцыя',\n  'особеность',\n  'шнут',\n  'шнутирование',\n  'готчина',\n  'эхэ',\n  'каранарный',\n  'ортерия',\n  'сначимый',\n  'стинос',\n  'гаспиализировать',\n  'имья',\n  'олмазов',\n  'прдшствовать',\n  'стинакардия',\n  'пиринести',\n  'ифаркт',\n  'моикарда',\n  'лакализация',\n  'спразка',\n  'дальнейшый',\n  'хроническаянедостаточность',\n  'инфарктмиокарда',\n  'отузла',\n  'нарушениеработы',\n  'вминуту',\n  'эндокриннойсистемы',\n  'сердечныйритм',\n  'узловаятахикардия',\n  'основныефакторы',\n  'остановкасердца',\n  'фибрилляцияжелудочков',\n  'счастотой'],\n 'corrected_word_list': ['экстренный',\n  'синусный',\n  'данные',\n  'кистография',\n  'синкопальный',\n  'поселение',\n  'холевый',\n  'намять',\n  'ориентировать',\n  'самос',\n  'переедена',\n  'тестирование',\n  'кардио-',\n  'перевести',\n  'догоспитальный',\n  'синим',\n  'субфебрилитет',\n  'загрудинный',\n  'периферия',\n  'течения',\n  'окклюзия',\n  'женщина',\n  'пациент',\n  'зарегистрировать',\n  'сегмента',\n  'клеите',\n  'эпик',\n  'интеллектуально',\n  'низать',\n  'прудилась',\n  'несут',\n  'госпитализировать',\n  'впереть',\n  'послеоперационное',\n  'госпитализировать',\n  'ухудшение',\n  'рента',\n  'далёкий',\n  'тромботический',\n  'многоводие',\n  'миокард',\n  'сопровождаться',\n  'дискомфорт',\n  'потливость',\n  'левожелудочковая',\n  'ранте',\n  'виде',\n  'ангинозное',\n  'догоспитальный',\n  'полнить',\n  'часов',\n  'казаться',\n  'линин',\n  'гент',\n  'проведено',\n  'выполнение',\n  'лечение',\n  'оббилась',\n  'повторно',\n  'зарегистрировать',\n  'тикать',\n  'вольнейшем',\n  'предохраняться',\n  'частично',\n  'атеросклеротическая',\n  'деться',\n  'назначать',\n  'проведения',\n  'беспокою',\n  'гипертензин',\n  'волейбол',\n  'болен',\n  'стенокардия',\n  'продолжать',\n  'повторный',\n  'оплещет',\n  'ангинозное',\n  'диагностический',\n  'поддерживающие',\n  'межлопаточный',\n  'бедренный',\n  'грядка',\n  'бассинь',\n  'воздуха',\n  'сентябрь',\n  'постоянный',\n  'рекомендовать',\n  'повреждение',\n  'дискомфорт',\n  'имплантировать',\n  'неотчётливый',\n  'обеспечить',\n  'берце',\n  'болезнь',\n  'тергит',\n  'вука',\n  'изжога',\n  'женить',\n  'найти',\n  'раствор',\n  'пациент',\n  'полый',\n  'лекарство',\n  'непереносимость',\n  'ампула',\n  'гул',\n  'концентрат',\n  'рилиф',\n  'чсс',\n  'экг',\n  'фибрилляция',\n  'желудочек',\n  'хроно',\n  'гирудин',\n  'нервный',\n  'вист',\n  'диагностика',\n  'гипоксемия',\n  'лидокаин',\n  'блокатор',\n  'тахикардия',\n  'малоабразивный',\n  'алания',\n  'иль',\n  'поражение',\n  'тяжёлый',\n  'гастропластика',\n  'вс',\n  'леший',\n  'орта',\n  'клаппа',\n  'веять',\n  'палый',\n  'перикард',\n  'метальный',\n  'ультразвук',\n  'хирург',\n  'кардиолог',\n  'килограмм',\n  'акинезия',\n  'верхушка',\n  'апикальный',\n  'сегмент',\n  'вес',\n  'сменка',\n  'циркулярный',\n  'аридный',\n  'клапаны',\n  'арарат',\n  'патология',\n  'перикард',\n  'проксимальный',\n  'диаметр',\n  'коррекция',\n  'увлажнение',\n  'страдать',\n  'гипертонический',\n  'болен',\n  'адоптировать',\n  'получить',\n  'консервативный',\n  'точение',\n  'требование',\n  'отдаление',\n  'самочувствие',\n  'ухудшение',\n  'метро',\n  'пункция',\n  'особенность',\n  'гнут',\n  'шунтирование',\n  'гатчина',\n  'эаэ',\n  'карандашный',\n  'артерия',\n  'значимый',\n  'тинос',\n  'госпитализировать',\n  'имея',\n  'алмаз',\n  'прошествовать',\n  'стенокардия',\n  'принести',\n  'инфаркт',\n  'миокард',\n  'алкализация',\n  'справка',\n  'дальнейший',\n  'недостаточность',\n  'инфарктик',\n  'грузнуть',\n  'нарушение',\n  'вкинуть',\n  'эндокринное',\n  'сердечный',\n  'тахикардия',\n  'соредактор',\n  'остановка',\n  'фибрилляция',\n  'пластовой'],\n 'answer_word_list': [['экстренном'],\n  ['синусового'],\n  ['данным', 'данный', 'данные'],\n  ['шунтография'],\n  ['синкопальных'],\n  ['поселение', 'последний'],\n  ['ходовый'],\n  ['анамнезе', 'анамнез'],\n  ['стентированный'],\n  ['самочувствие'],\n  ['переведена'],\n  ['стентированием', 'стентирование'],\n  ['кардиолог,кардиологический'],\n  ['переведена'],\n  ['догоспитальном'],\n  ['минимум', 'минимальный'],\n  ['субфебрилитет'],\n  ['загрудинные', 'загрудинный'],\n  ['периферия'],\n  ['течение'],\n  ['окклюзия'],\n  ['женщина'],\n  ['пациент'],\n  ['зарегистрирована'],\n  ['сегмента'],\n  ['клетке'],\n  ['эпидемия', 'эпидемиологический', 'эпидуральный'],\n  ['интеллектуально'],\n  ['нижний'],\n  ['проводилась', 'проводить'],\n  ['неустановленный'],\n  ['госпитализирован'],\n  ['впервые'],\n  ['послеоперационном'],\n  ['госпитализирован'],\n  ['ухудшение'],\n  ['рентген'],\n  ['дальнейшем'],\n  ['тромботическая'],\n  ['многососудистое', 'многососудистый'],\n  ['миокарда', 'миокард'],\n  ['сопровождались'],\n  ['дискомфорт'],\n  ['потливостью'],\n  ['левого желудочка', 'левый желудочек'],\n  ['ранее', 'ранние'],\n  ['виде', 'вид'],\n  ['ангинозные боли', 'ангиозный боль'],\n  ['догоспитальном'],\n  ['выполнен'],\n  ['часов'],\n  ['отказалась'],\n  ['клиника'],\n  ['момента'],\n  ['проведенной'],\n  ['выполнения', 'выполнение'],\n  ['лечения', 'лечение'],\n  ['обратилась'],\n  ['повторно'],\n  ['зарегистрированы'],\n  ['отрицает', 'отрицать'],\n  ['дальнейшем'],\n  ['боли сохраняются'],\n  ['частичным'],\n  ['атеросклеротическая'],\n  ['день', 'день с'],\n  ['назначался'],\n  ['проведения'],\n  ['беспокоят'],\n  ['гипертензия'],\n  ['волейбол'],\n  ['болезнь'],\n  ['стенокардия'],\n  ['продолжалась'],\n  ['повторное'],\n  ['ощущает'],\n  ['ангинозного', 'ангинозный'],\n  ['диагностической', 'диагностический'],\n  ['поддерживающий'],\n  ['межлопаточный'],\n  ['бедренной', 'бедренный'],\n  ['грядки'],\n  ['бассейне', 'бассейн'],\n  ['воздуха', 'воздух'],\n  ['сентября', 'сентябрь'],\n  ['постоянная', 'постоянный'],\n  ['рекомендовано'],\n  ['повреждения'],\n  ['дискомфорт'],\n  ['имплантирован', 'имплантировать'],\n  ['неотчетливая', 'неотчетливый'],\n  ['обесцвеченный', 'обеспеченный'],\n  ['сердце'],\n  ['болезнь'],\n  ['аллергия'],\n  ['рука'],\n  ['изжога'],\n  ['жжение'],\n  ['кашель'],\n  ['раствор'],\n  ['пациент'],\n  ['пожилой'],\n  ['лекарство'],\n  ['непереносимость'],\n  ['ампула'],\n  ['гель'],\n  ['концентрат'],\n  ['релиф'],\n  ['ЧСС', 'чсс'],\n  ['ЭКГ', 'экг'],\n  ['фибрилляция'],\n  ['желудочек'],\n  ['хронический'],\n  ['гиподинамический'],\n  ['нервный'],\n  ['система'],\n  ['диагностика'],\n  ['гипоксемия'],\n  ['лидокаин'],\n  ['блокатор'],\n  ['тахикардия'],\n  ['малоинвазивный'],\n  ['аблация', 'абляция'],\n  ['ИМ', 'им'],\n  ['поражение'],\n  ['тяжелый'],\n  ['гастропластика'],\n  ['вес'],\n  ['лишний'],\n  ['аорта'],\n  ['клапан'],\n  ['вена'],\n  ['полый'],\n  ['перикард'],\n  ['митральный'],\n  ['ультразвук'],\n  ['хирург'],\n  ['кардиолог'],\n  ['килограмм'],\n  ['акинезия'],\n  ['верхушка'],\n  ['апикальный'],\n  ['сегмент'],\n  ['весь'],\n  ['стенка'],\n  ['циркулярный'],\n  ['срединный'],\n  ['клапанный'],\n  ['аппарат'],\n  ['патология'],\n  ['перикард'],\n  ['проксимальный'],\n  ['диаметр'],\n  ['коррекция'],\n  ['осложнение'],\n  ['страдать'],\n  ['гипертонический'],\n  ['болезнь'],\n  ['адаптировать'],\n  ['получать'],\n  ['консервативный'],\n  ['течение'],\n  ['пребывание'],\n  ['отделение'],\n  ['самочувствие'],\n  ['ухудшение'],\n  ['место'],\n  ['пункция'],\n  ['особенность'],\n  ['шунт'],\n  ['шунтирование'],\n  ['гатчина'],\n  ['эхо'],\n  ['коронарный'],\n  ['артерия'],\n  ['значимый'],\n  ['стеноз'],\n  ['госпитализировать'],\n  ['имя'],\n  ['алмазов'],\n  ['предшествовать'],\n  ['стенокардия'],\n  ['перенести'],\n  ['инфаркт'],\n  ['миокарда'],\n  ['локализация'],\n  ['справка'],\n  ['дальнейший'],\n  ['хроническая недостаточность', 'хронический недостаточность'],\n  ['инфаркт миокарда', 'инфаркт миокард'],\n  ['от узла', 'от узел'],\n  ['нарушение работы', 'нарушение работа'],\n  ['в минуту', 'в минута', 'минута'],\n  ['эндокринная система', 'эндокринный система'],\n  ['сердечный ритм'],\n  ['узловая тахикардия', 'узловой тахикардия'],\n  ['основной факто', 'основные факторы'],\n  ['остановка сердца', 'остановка сердце'],\n  ['фибрилляция желудочков', 'фибрилляция желудочек'],\n  ['с частотой', 'с частотаб частота']]}"
     },
     "execution_count": 70,
     "metadata": {},
     "output_type": "execute_result"
    }
   ],
   "source": [
    "def spellchecker_prototype_v2_correct_func(input_word_list):\n",
    "    spellchecker_prototype = SpellChecker()\n",
    "    input_text_for_prototype = \" \".join(input_word_list)\n",
    "    timer = tqdm()\n",
    "    corrected_word_list = spellchecker_prototype.correct_words(input_text_for_prototype)\n",
    "    return {\"elapsed\": timer.format_dict[\"elapsed\"], \"corrected_word_list\": corrected_word_list}\n",
    "\n",
    "spellchecker_prototype_v2_metrics = compute_all_metrics(\n",
    "    lambda : spellchecker_prototype_v2_correct_func(error_precision_test_word_list),\n",
    "    lambda : spellchecker_prototype_v2_correct_func(lexical_precision_test_word_list),\n",
    "    error_precision_test_word_list, error_precision_test_answers, lexical_precision_test_word_list)\n",
    "spellchecker_prototype_v2_metrics"
   ],
   "metadata": {
    "collapsed": false,
    "pycharm": {
     "name": "#%%\n"
    }
   }
  },
  {
   "cell_type": "markdown",
   "metadata": {},
   "source": [
    "# Test Symspellpy - https://github.com/mammothb/symspellpy"
   ]
  },
  {
   "cell_type": "code",
   "execution_count": 5,
   "metadata": {},
   "outputs": [
    {
     "name": "stdout",
     "output_type": "stream",
     "text": [
      "Collecting symspellpy\r\n",
      "  Downloading symspellpy-6.7.5-py3-none-any.whl (2.6 MB)\r\n",
      "     |████████████████████████████████| 2.6 MB 508 kB/s            \r\n",
      "\u001B[?25hCollecting editdistpy>=0.1.3\r\n",
      "  Downloading editdistpy-0.1.3.tar.gz (57 kB)\r\n",
      "     |████████████████████████████████| 57 kB 3.8 MB/s             \r\n",
      "\u001B[?25h  Installing build dependencies ... \u001B[?25ldone\r\n",
      "\u001B[?25h  Getting requirements to build wheel ... \u001B[?25ldone\r\n",
      "\u001B[?25h  Preparing metadata (pyproject.toml) ... \u001B[?25ldone\r\n",
      "\u001B[?25hBuilding wheels for collected packages: editdistpy\r\n",
      "  Building wheel for editdistpy (pyproject.toml) ... \u001B[?25ldone\r\n",
      "\u001B[?25h  Created wheel for editdistpy: filename=editdistpy-0.1.3-cp39-cp39-linux_x86_64.whl size=137366 sha256=1cdcde1ac87d9131a60044421ede35f55c5707edce581c0730bd56e85706181a\r\n",
      "  Stored in directory: /home/Dmitry.Pogrebnoy/.cache/pip/wheels/72/16/b1/ea6472dedd6ac13ad789dd294871a76fd6906fca3c010347d1\r\n",
      "Successfully built editdistpy\r\n",
      "Installing collected packages: editdistpy, symspellpy\r\n",
      "Successfully installed editdistpy-0.1.3 symspellpy-6.7.5\r\n"
     ]
    }
   ],
   "source": [
    "!pip install -U symspellpy"
   ]
  },
  {
   "cell_type": "code",
   "execution_count": 48,
   "outputs": [
    {
     "name": "stdout",
     "output_type": "stream",
     "text": [
      "Name: symspellpy\r\n",
      "Version: 6.7.5\r\n",
      "Summary: Python SymSpell\r\n",
      "Home-page: https://github.com/mammothb/symspellpy\r\n",
      "Author: mmb L\r\n",
      "Author-email: \r\n",
      "License: MIT\r\n",
      "Location: /home/Dmitry.Pogrebnoy/Desktop/MedSpellChecker/venv/lib/python3.9/site-packages\r\n",
      "Requires: editdistpy\r\n",
      "Required-by: \r\n"
     ]
    }
   ],
   "source": [
    "!pip show symspellpy"
   ],
   "metadata": {
    "collapsed": false,
    "pycharm": {
     "name": "#%%\n"
    }
   }
  },
  {
   "cell_type": "markdown",
   "metadata": {},
   "source": [
    "### Test Symspellpy lookup on basic dict"
   ]
  },
  {
   "cell_type": "code",
   "execution_count": 61,
   "metadata": {},
   "outputs": [],
   "source": [
    "basic_frequency_dict = '../data/symspell/ru-100k.txt'"
   ]
  },
  {
   "cell_type": "code",
   "execution_count": 62,
   "metadata": {},
   "outputs": [],
   "source": [
    "from symspellpy import SymSpell, Verbosity\n",
    "\n",
    "def test_symspell_py_lookup(frequency_dict_path, input_word_list):\n",
    "    sym_spell_py = SymSpell()\n",
    "    sym_spell_py.load_dictionary(frequency_dict_path, 0, 1, encoding=\"UTF8\")\n",
    "\n",
    "    result = []\n",
    "    timer = tqdm(input_word_list)\n",
    "    for word in timer:\n",
    "        suggestions = sym_spell_py.lookup(word, Verbosity.TOP, max_edit_distance=2, include_unknown=True)\n",
    "        result.append(suggestions[0].term)\n",
    "    return  {\"elapsed\" : timer.format_dict[\"elapsed\"], \"corrected_word_list\" : result}"
   ]
  },
  {
   "cell_type": "code",
   "execution_count": 63,
   "outputs": [
    {
     "name": "stderr",
     "output_type": "stream",
     "text": [
      "100%|██████████| 200/200 [00:00<00:00, 12771.16it/s]"
     ]
    },
    {
     "name": "stdout",
     "output_type": "stream",
     "text": [
      "original_word_list --- corrected_word --- answer_word_list\n",
      "эктренном --- коренном --- ['экстренном']\n",
      "синусовго --- синусовго --- ['синусового']\n",
      "даным --- данным --- ['данным', 'данный', 'данные']\n",
      "шнутография --- шнутография --- ['шунтография']\n",
      "сникопальных --- сникопальных --- ['синкопальных']\n",
      "посление --- последние --- ['поселение', 'последний']\n",
      "ходавый --- подавай --- ['ходовый']\n",
      "анмнезе --- анамнезе --- ['анамнезе', 'анамнез']\n",
      "сентированный --- сентированный --- ['стентированный']\n",
      "самоч --- самой --- ['самочувствие']\n",
      "перевдена --- переведена --- ['переведена']\n",
      "стентированеим --- стентированеим --- ['стентированием', 'стентирование']\n",
      "кардиол --- кардинал --- ['кардиолог,кардиологический']\n",
      "переведна --- переведена --- ['переведена']\n",
      "догосптальном --- догосптальном --- ['догоспитальном']\n",
      "миним --- синим --- ['минимум', 'минимальный']\n",
      "субфебриллитет --- субфебриллитет --- ['субфебрилитет']\n",
      "загрудиные --- загрудиные --- ['загрудинные', 'загрудинный']\n",
      "перферия --- периферия --- ['периферия']\n",
      "течени --- течение --- ['течение']\n",
      "оклюзия --- иллюзия --- ['окклюзия']\n",
      "жнщина --- женщина --- ['женщина']\n",
      "пциент --- пациент --- ['пациент']\n",
      "зарегистирована --- зарегистрирована --- ['зарегистрирована']\n",
      "сегмета --- сегмента --- ['сегмента']\n",
      "клекте --- клетке --- ['клетке']\n",
      "эпид --- спид --- ['эпидемия', 'эпидемиологический', 'эпидуральный']\n",
      "интелектуально --- интеллектуально --- ['интеллектуально']\n",
      "нижн --- ниже --- ['нижний']\n",
      "прводилась --- проводилась --- ['проводилась', 'проводить']\n",
      "неуст --- несут --- ['неустановленный']\n",
      "госптализирован --- госптализирован --- ['госпитализирован']\n",
      "вперые --- впервые --- ['впервые']\n",
      "послеоперационом --- послеоперационном --- ['послеоперационном']\n",
      "госпитализирова --- госпитализирова --- ['госпитализирован']\n",
      "ухудщение --- ухудшение --- ['ухудшение']\n",
      "рентг --- ренты --- ['рентген']\n",
      "дальнешем --- дальнейшем --- ['дальнейшем']\n",
      "троботическая --- троботическая --- ['тромботическая']\n",
      "многосоудистое --- многосоудистое --- ['многососудистое', 'многососудистый']\n",
      "миокрада --- миокарда --- ['миокарда', 'миокард']\n",
      "сопрвождались --- сопровождались --- ['сопровождались']\n",
      "дискмфорт --- дискмфорт --- ['дискомфорт']\n",
      "потлтвостью --- потлтвостью --- ['потливостью']\n",
      "левогожелудочка --- левогожелудочка --- ['левого желудочка', 'левый желудочек']\n",
      "рание --- ранее --- ['ранее', 'ранние']\n",
      "виед --- виде --- ['виде', 'вид']\n",
      "ангинозныеболи --- ангинозныеболи --- ['ангинозные боли', 'ангиозный боль']\n",
      "догоситальном --- догоситальном --- ['догоспитальном']\n",
      "ввполнен --- вполне --- ['выполнен']\n",
      "чаосв --- часов --- ['часов']\n",
      "октазалась --- оказалась --- ['отказалась']\n",
      "линика --- лирика --- ['клиника']\n",
      "ммента --- момента --- ['момента']\n",
      "проведеной --- проведено --- ['проведенной']\n",
      "выполненяи --- выполнения --- ['выполнения', 'выполнение']\n",
      "леченяи --- лечения --- ['лечения', 'лечение']\n",
      "обтилась --- осталась --- ['обратилась']\n",
      "повтороно --- повторно --- ['повторно']\n",
      "зарегистриованы --- зарегистрированы --- ['зарегистрированы']\n",
      "отицает --- отрицает --- ['отрицает', 'отрицать']\n",
      "дальнейщем --- дальнейшем --- ['дальнейшем']\n",
      "болисохраняются --- болисохраняются --- ['боли сохраняются']\n",
      "частичынм --- частичным --- ['частичным']\n",
      "атерокслеротичсекая --- атерокслеротичсекая --- ['атеросклеротическая']\n",
      "деньс --- день --- ['день', 'день с']\n",
      "назначаля --- назначали --- ['назначался']\n",
      "проведеняи --- проведения --- ['проведения']\n",
      "беспакоют --- беспокоит --- ['беспокоят']\n",
      "гипертензи --- гипертензии --- ['гипертензия']\n",
      "воленйбол --- волейбол --- ['волейбол']\n",
      "болезн --- болезни --- ['болезнь']\n",
      "стенокардаа --- стенокардаа --- ['стенокардия']\n",
      "продолжалсь --- продолжалось --- ['продолжалась']\n",
      "поворное --- повторное --- ['повторное']\n",
      "ощуащет --- ощущает --- ['ощущает']\n",
      "ангигнозного --- ангигнозного --- ['ангинозного', 'ангинозный']\n",
      "диагностичекой --- диагностической --- ['диагностической', 'диагностический']\n",
      "поддерживающией --- поддерживающие --- ['поддерживающий']\n",
      "межлопаточнй --- межлопаточнй --- ['межлопаточный']\n",
      "бедреной --- бедренной --- ['бедренной', 'бедренный']\n",
      "гшрядки --- грядки --- ['грядки']\n",
      "бассеине --- бассейне --- ['бассейне', 'бассейн']\n",
      "возлуха --- воздуха --- ['воздуха', 'воздух']\n",
      "сенября --- сентября --- ['сентября', 'сентябрь']\n",
      "постояная --- постоянная --- ['постоянная', 'постоянный']\n",
      "рекмоендовнао --- рекомендовано --- ['рекомендовано']\n",
      "поврждения --- повреждения --- ['повреждения']\n",
      "дискофморта --- дискофморта --- ['дискомфорт']\n",
      "импалнтирован --- импалнтирован --- ['имплантирован', 'имплантировать']\n",
      "неочетливая --- неочетливая --- ['неотчетливая', 'неотчетливый']\n",
      "обесвеченный --- обеспеченных --- ['обесцвеченный', 'обеспеченный']\n",
      "серце --- сердце --- ['сердце']\n",
      "блезнь --- болезнь --- ['болезнь']\n",
      "лергия --- сергия --- ['аллергия']\n",
      "ука --- ука --- ['рука']\n",
      "изжга --- из-за --- ['изжога']\n",
      "жение --- жене --- ['жжение']\n",
      "кашел --- нашел --- ['кашель']\n",
      "рствор --- раствор --- ['раствор']\n",
      "пациен --- пациент --- ['пациент']\n",
      "пожлой --- пожилой --- ['пожилой']\n",
      "лекарсво --- лекарство --- ['лекарство']\n",
      "нпреносимость --- нпреносимость --- ['непереносимость']\n",
      "амупула --- ампулы --- ['ампула']\n",
      "гел --- дел --- ['гель']\n",
      "конценрат --- концентрат --- ['концентрат']\n",
      "рилиф --- или --- ['релиф']\n",
      "чссс --- ссср --- ['ЧСС', 'чсс']\n",
      "экгъ --- экг --- ['ЭКГ', 'экг']\n",
      "фибриляция --- фибриляция --- ['фибрилляция']\n",
      "желдочек --- желдочек --- ['желудочек']\n",
      "хрон --- крон --- ['хронический']\n",
      "гиподин --- господин --- ['гиподинамический']\n",
      "нерный --- черный --- ['нервный']\n",
      "сист --- сист --- ['система']\n",
      "диагоностика --- диагностика --- ['диагностика']\n",
      "гипоксмия --- гипоксии --- ['гипоксемия']\n",
      "ледокоин --- ледокол --- ['лидокаин']\n",
      "блокато --- блока --- ['блокатор']\n",
      "тахкардия --- тахкардия --- ['тахикардия']\n",
      "малоинвозивный --- малоинвозивный --- ['малоинвазивный']\n",
      "алация --- акация --- ['аблация', 'абляция']\n",
      "имь --- им --- ['ИМ', 'им']\n",
      "паражение --- поражение --- ['поражение']\n",
      "тяжолый --- тяжелый --- ['тяжелый']\n",
      "гастрапластика --- гастрапластика --- ['гастропластика']\n",
      "вс --- в --- ['вес']\n",
      "лешний --- летний --- ['лишний']\n",
      "орта --- сорта --- ['аорта']\n",
      "клапа --- клапан --- ['клапан']\n",
      "вент --- сент --- ['вена']\n",
      "палый --- малый --- ['полый']\n",
      "пирикард --- пирикард --- ['перикард']\n",
      "метральный --- центральный --- ['митральный']\n",
      "ултразвук --- ультразвук --- ['ультразвук']\n",
      "херург --- хирург --- ['хирург']\n",
      "кордиолог --- кордиолог --- ['кардиолог']\n",
      "килограм --- килограмм --- ['килограмм']\n",
      "акенезия --- акенезия --- ['акинезия']\n",
      "врхушка --- верхушка --- ['верхушка']\n",
      "апекальный --- печальный --- ['апикальный']\n",
      "сгмент --- сегмент --- ['сегмент']\n",
      "вес --- вес --- ['весь']\n",
      "сьенка --- стенка --- ['стенка']\n",
      "церкулярный --- церкулярный --- ['циркулярный']\n",
      "сридиный --- средины --- ['срединный']\n",
      "калапаный --- клапаны --- ['клапанный']\n",
      "апарат --- аппарат --- ['аппарат']\n",
      "потология --- патология --- ['патология']\n",
      "перекард --- перепад --- ['перикард']\n",
      "праксимальный --- максимальный --- ['проксимальный']\n",
      "деаметр --- диаметр --- ['диаметр']\n",
      "корекция --- коррекция --- ['коррекция']\n",
      "аслажнение --- наслаждение --- ['осложнение']\n",
      "стрдать --- страдать --- ['страдать']\n",
      "гепертонический --- гипертонической --- ['гипертонический']\n",
      "болезн --- болезни --- ['болезнь']\n",
      "одоптировать --- одоптировать --- ['адаптировать']\n",
      "получять --- получить --- ['получать']\n",
      "кансервативный --- консервативный --- ['консервативный']\n",
      "тичение --- течение --- ['течение']\n",
      "пребование --- требование --- ['пребывание']\n",
      "отбиление --- отделение --- ['отделение']\n",
      "самачувствие --- самочувствие --- ['самочувствие']\n",
      "уходшение --- ухудшение --- ['ухудшение']\n",
      "месро --- место --- ['место']\n",
      "пункцыя --- функция --- ['пункция']\n",
      "особеность --- особенность --- ['особенность']\n",
      "шнут --- шут --- ['шунт']\n",
      "шнутирование --- шнутирование --- ['шунтирование']\n",
      "готчина --- вотчина --- ['гатчина']\n",
      "эхэ --- эх --- ['эхо']\n",
      "каранарный --- каранарный --- ['коронарный']\n",
      "ортерия --- артерия --- ['артерия']\n",
      "сначимый --- значимый --- ['значимый']\n",
      "стинос --- стихов --- ['стеноз']\n",
      "гаспиализировать --- гаспиализировать --- ['госпитализировать']\n",
      "имья --- имя --- ['имя']\n",
      "олмазов --- алмазов --- ['алмазов']\n",
      "прдшствовать --- предшествовать --- ['предшествовать']\n",
      "стинакардия --- стинакардия --- ['стенокардия']\n",
      "пиринести --- принести --- ['перенести']\n",
      "ифаркт --- инфаркт --- ['инфаркт']\n",
      "моикарда --- миокарда --- ['миокарда']\n",
      "лакализация --- локализация --- ['локализация']\n",
      "спразка --- справка --- ['справка']\n",
      "дальнейшый --- дальнейшей --- ['дальнейший']\n",
      "хроническаянедостаточность --- хроническаянедостаточность --- ['хроническая недостаточность', 'хронический недостаточность']\n",
      "инфарктмиокарда --- инфарктмиокарда --- ['инфаркт миокарда', 'инфаркт миокард']\n",
      "отузла --- отдела --- ['от узла', 'от узел']\n",
      "нарушениеработы --- нарушениеработы --- ['нарушение работы', 'нарушение работа']\n",
      "вминуту --- минуту --- ['в минуту', 'в минута', 'минута']\n",
      "эндокриннойсистемы --- эндокриннойсистемы --- ['эндокринная система', 'эндокринный система']\n",
      "сердечныйритм --- сердечныйритм --- ['сердечный ритм']\n",
      "узловаятахикардия --- узловаятахикардия --- ['узловая тахикардия', 'узловой тахикардия']\n",
      "основныефакторы --- основныефакторы --- ['основной факто', 'основные факторы']\n",
      "остановкасердца --- остановкасердца --- ['остановка сердца', 'остановка сердце']\n",
      "фибрилляцияжелудочков --- фибрилляцияжелудочков --- ['фибрилляция желудочков', 'фибрилляция желудочек']\n",
      "счастотой --- частотой --- ['с частотой', 'с частотаб частота']\n",
      "Right corrected words count - 84 of 200 total\n"
     ]
    },
    {
     "name": "stderr",
     "output_type": "stream",
     "text": [
      "\n"
     ]
    },
    {
     "data": {
      "text/plain": "{'words_per_minute': 747936.6362528605,\n 'error_precision': 0.42,\n 'lexical_precision': 0.0,\n 'original_word_list': ['эктренном',\n  'синусовго',\n  'даным',\n  'шнутография',\n  'сникопальных',\n  'посление',\n  'ходавый',\n  'анмнезе',\n  'сентированный',\n  'самоч',\n  'перевдена',\n  'стентированеим',\n  'кардиол',\n  'переведна',\n  'догосптальном',\n  'миним',\n  'субфебриллитет',\n  'загрудиные',\n  'перферия',\n  'течени',\n  'оклюзия',\n  'жнщина',\n  'пциент',\n  'зарегистирована',\n  'сегмета',\n  'клекте',\n  'эпид',\n  'интелектуально',\n  'нижн',\n  'прводилась',\n  'неуст',\n  'госптализирован',\n  'вперые',\n  'послеоперационом',\n  'госпитализирова',\n  'ухудщение',\n  'рентг',\n  'дальнешем',\n  'троботическая',\n  'многосоудистое',\n  'миокрада',\n  'сопрвождались',\n  'дискмфорт',\n  'потлтвостью',\n  'левогожелудочка',\n  'рание',\n  'виед',\n  'ангинозныеболи',\n  'догоситальном',\n  'ввполнен',\n  'чаосв',\n  'октазалась',\n  'линика',\n  'ммента',\n  'проведеной',\n  'выполненяи',\n  'леченяи',\n  'обтилась',\n  'повтороно',\n  'зарегистриованы',\n  'отицает',\n  'дальнейщем',\n  'болисохраняются',\n  'частичынм',\n  'атерокслеротичсекая',\n  'деньс',\n  'назначаля',\n  'проведеняи',\n  'беспакоют',\n  'гипертензи',\n  'воленйбол',\n  'болезн',\n  'стенокардаа',\n  'продолжалсь',\n  'поворное',\n  'ощуащет',\n  'ангигнозного',\n  'диагностичекой',\n  'поддерживающией',\n  'межлопаточнй',\n  'бедреной',\n  'гшрядки',\n  'бассеине',\n  'возлуха',\n  'сенября',\n  'постояная',\n  'рекмоендовнао',\n  'поврждения',\n  'дискофморта',\n  'импалнтирован',\n  'неочетливая',\n  'обесвеченный',\n  'серце',\n  'блезнь',\n  'лергия',\n  'ука',\n  'изжга',\n  'жение',\n  'кашел',\n  'рствор',\n  'пациен',\n  'пожлой',\n  'лекарсво',\n  'нпреносимость',\n  'амупула',\n  'гел',\n  'конценрат',\n  'рилиф',\n  'чссс',\n  'экгъ',\n  'фибриляция',\n  'желдочек',\n  'хрон',\n  'гиподин',\n  'нерный',\n  'сист',\n  'диагоностика',\n  'гипоксмия',\n  'ледокоин',\n  'блокато',\n  'тахкардия',\n  'малоинвозивный',\n  'алация',\n  'имь',\n  'паражение',\n  'тяжолый',\n  'гастрапластика',\n  'вс',\n  'лешний',\n  'орта',\n  'клапа',\n  'вент',\n  'палый',\n  'пирикард',\n  'метральный',\n  'ултразвук',\n  'херург',\n  'кордиолог',\n  'килограм',\n  'акенезия',\n  'врхушка',\n  'апекальный',\n  'сгмент',\n  'вес',\n  'сьенка',\n  'церкулярный',\n  'сридиный',\n  'калапаный',\n  'апарат',\n  'потология',\n  'перекард',\n  'праксимальный',\n  'деаметр',\n  'корекция',\n  'аслажнение',\n  'стрдать',\n  'гепертонический',\n  'болезн',\n  'одоптировать',\n  'получять',\n  'кансервативный',\n  'тичение',\n  'пребование',\n  'отбиление',\n  'самачувствие',\n  'уходшение',\n  'месро',\n  'пункцыя',\n  'особеность',\n  'шнут',\n  'шнутирование',\n  'готчина',\n  'эхэ',\n  'каранарный',\n  'ортерия',\n  'сначимый',\n  'стинос',\n  'гаспиализировать',\n  'имья',\n  'олмазов',\n  'прдшствовать',\n  'стинакардия',\n  'пиринести',\n  'ифаркт',\n  'моикарда',\n  'лакализация',\n  'спразка',\n  'дальнейшый',\n  'хроническаянедостаточность',\n  'инфарктмиокарда',\n  'отузла',\n  'нарушениеработы',\n  'вминуту',\n  'эндокриннойсистемы',\n  'сердечныйритм',\n  'узловаятахикардия',\n  'основныефакторы',\n  'остановкасердца',\n  'фибрилляцияжелудочков',\n  'счастотой'],\n 'corrected_word_list': ['коренном',\n  'синусовго',\n  'данным',\n  'шнутография',\n  'сникопальных',\n  'последние',\n  'подавай',\n  'анамнезе',\n  'сентированный',\n  'самой',\n  'переведена',\n  'стентированеим',\n  'кардинал',\n  'переведена',\n  'догосптальном',\n  'синим',\n  'субфебриллитет',\n  'загрудиные',\n  'периферия',\n  'течение',\n  'иллюзия',\n  'женщина',\n  'пациент',\n  'зарегистрирована',\n  'сегмента',\n  'клетке',\n  'спид',\n  'интеллектуально',\n  'ниже',\n  'проводилась',\n  'несут',\n  'госптализирован',\n  'впервые',\n  'послеоперационном',\n  'госпитализирова',\n  'ухудшение',\n  'ренты',\n  'дальнейшем',\n  'троботическая',\n  'многосоудистое',\n  'миокарда',\n  'сопровождались',\n  'дискмфорт',\n  'потлтвостью',\n  'левогожелудочка',\n  'ранее',\n  'виде',\n  'ангинозныеболи',\n  'догоситальном',\n  'вполне',\n  'часов',\n  'оказалась',\n  'лирика',\n  'момента',\n  'проведено',\n  'выполнения',\n  'лечения',\n  'осталась',\n  'повторно',\n  'зарегистрированы',\n  'отрицает',\n  'дальнейшем',\n  'болисохраняются',\n  'частичным',\n  'атерокслеротичсекая',\n  'день',\n  'назначали',\n  'проведения',\n  'беспокоит',\n  'гипертензии',\n  'волейбол',\n  'болезни',\n  'стенокардаа',\n  'продолжалось',\n  'повторное',\n  'ощущает',\n  'ангигнозного',\n  'диагностической',\n  'поддерживающие',\n  'межлопаточнй',\n  'бедренной',\n  'грядки',\n  'бассейне',\n  'воздуха',\n  'сентября',\n  'постоянная',\n  'рекомендовано',\n  'повреждения',\n  'дискофморта',\n  'импалнтирован',\n  'неочетливая',\n  'обеспеченных',\n  'сердце',\n  'болезнь',\n  'сергия',\n  'ука',\n  'из-за',\n  'жене',\n  'нашел',\n  'раствор',\n  'пациент',\n  'пожилой',\n  'лекарство',\n  'нпреносимость',\n  'ампулы',\n  'дел',\n  'концентрат',\n  'или',\n  'ссср',\n  'экг',\n  'фибриляция',\n  'желдочек',\n  'крон',\n  'господин',\n  'черный',\n  'сист',\n  'диагностика',\n  'гипоксии',\n  'ледокол',\n  'блока',\n  'тахкардия',\n  'малоинвозивный',\n  'акация',\n  'им',\n  'поражение',\n  'тяжелый',\n  'гастрапластика',\n  'в',\n  'летний',\n  'сорта',\n  'клапан',\n  'сент',\n  'малый',\n  'пирикард',\n  'центральный',\n  'ультразвук',\n  'хирург',\n  'кордиолог',\n  'килограмм',\n  'акенезия',\n  'верхушка',\n  'печальный',\n  'сегмент',\n  'вес',\n  'стенка',\n  'церкулярный',\n  'средины',\n  'клапаны',\n  'аппарат',\n  'патология',\n  'перепад',\n  'максимальный',\n  'диаметр',\n  'коррекция',\n  'наслаждение',\n  'страдать',\n  'гипертонической',\n  'болезни',\n  'одоптировать',\n  'получить',\n  'консервативный',\n  'течение',\n  'требование',\n  'отделение',\n  'самочувствие',\n  'ухудшение',\n  'место',\n  'функция',\n  'особенность',\n  'шут',\n  'шнутирование',\n  'вотчина',\n  'эх',\n  'каранарный',\n  'артерия',\n  'значимый',\n  'стихов',\n  'гаспиализировать',\n  'имя',\n  'алмазов',\n  'предшествовать',\n  'стинакардия',\n  'принести',\n  'инфаркт',\n  'миокарда',\n  'локализация',\n  'справка',\n  'дальнейшей',\n  'хроническаянедостаточность',\n  'инфарктмиокарда',\n  'отдела',\n  'нарушениеработы',\n  'минуту',\n  'эндокриннойсистемы',\n  'сердечныйритм',\n  'узловаятахикардия',\n  'основныефакторы',\n  'остановкасердца',\n  'фибрилляцияжелудочков',\n  'частотой'],\n 'answer_word_list': [['экстренном'],\n  ['синусового'],\n  ['данным', 'данный', 'данные'],\n  ['шунтография'],\n  ['синкопальных'],\n  ['поселение', 'последний'],\n  ['ходовый'],\n  ['анамнезе', 'анамнез'],\n  ['стентированный'],\n  ['самочувствие'],\n  ['переведена'],\n  ['стентированием', 'стентирование'],\n  ['кардиолог,кардиологический'],\n  ['переведена'],\n  ['догоспитальном'],\n  ['минимум', 'минимальный'],\n  ['субфебрилитет'],\n  ['загрудинные', 'загрудинный'],\n  ['периферия'],\n  ['течение'],\n  ['окклюзия'],\n  ['женщина'],\n  ['пациент'],\n  ['зарегистрирована'],\n  ['сегмента'],\n  ['клетке'],\n  ['эпидемия', 'эпидемиологический', 'эпидуральный'],\n  ['интеллектуально'],\n  ['нижний'],\n  ['проводилась', 'проводить'],\n  ['неустановленный'],\n  ['госпитализирован'],\n  ['впервые'],\n  ['послеоперационном'],\n  ['госпитализирован'],\n  ['ухудшение'],\n  ['рентген'],\n  ['дальнейшем'],\n  ['тромботическая'],\n  ['многососудистое', 'многососудистый'],\n  ['миокарда', 'миокард'],\n  ['сопровождались'],\n  ['дискомфорт'],\n  ['потливостью'],\n  ['левого желудочка', 'левый желудочек'],\n  ['ранее', 'ранние'],\n  ['виде', 'вид'],\n  ['ангинозные боли', 'ангиозный боль'],\n  ['догоспитальном'],\n  ['выполнен'],\n  ['часов'],\n  ['отказалась'],\n  ['клиника'],\n  ['момента'],\n  ['проведенной'],\n  ['выполнения', 'выполнение'],\n  ['лечения', 'лечение'],\n  ['обратилась'],\n  ['повторно'],\n  ['зарегистрированы'],\n  ['отрицает', 'отрицать'],\n  ['дальнейшем'],\n  ['боли сохраняются'],\n  ['частичным'],\n  ['атеросклеротическая'],\n  ['день', 'день с'],\n  ['назначался'],\n  ['проведения'],\n  ['беспокоят'],\n  ['гипертензия'],\n  ['волейбол'],\n  ['болезнь'],\n  ['стенокардия'],\n  ['продолжалась'],\n  ['повторное'],\n  ['ощущает'],\n  ['ангинозного', 'ангинозный'],\n  ['диагностической', 'диагностический'],\n  ['поддерживающий'],\n  ['межлопаточный'],\n  ['бедренной', 'бедренный'],\n  ['грядки'],\n  ['бассейне', 'бассейн'],\n  ['воздуха', 'воздух'],\n  ['сентября', 'сентябрь'],\n  ['постоянная', 'постоянный'],\n  ['рекомендовано'],\n  ['повреждения'],\n  ['дискомфорт'],\n  ['имплантирован', 'имплантировать'],\n  ['неотчетливая', 'неотчетливый'],\n  ['обесцвеченный', 'обеспеченный'],\n  ['сердце'],\n  ['болезнь'],\n  ['аллергия'],\n  ['рука'],\n  ['изжога'],\n  ['жжение'],\n  ['кашель'],\n  ['раствор'],\n  ['пациент'],\n  ['пожилой'],\n  ['лекарство'],\n  ['непереносимость'],\n  ['ампула'],\n  ['гель'],\n  ['концентрат'],\n  ['релиф'],\n  ['ЧСС', 'чсс'],\n  ['ЭКГ', 'экг'],\n  ['фибрилляция'],\n  ['желудочек'],\n  ['хронический'],\n  ['гиподинамический'],\n  ['нервный'],\n  ['система'],\n  ['диагностика'],\n  ['гипоксемия'],\n  ['лидокаин'],\n  ['блокатор'],\n  ['тахикардия'],\n  ['малоинвазивный'],\n  ['аблация', 'абляция'],\n  ['ИМ', 'им'],\n  ['поражение'],\n  ['тяжелый'],\n  ['гастропластика'],\n  ['вес'],\n  ['лишний'],\n  ['аорта'],\n  ['клапан'],\n  ['вена'],\n  ['полый'],\n  ['перикард'],\n  ['митральный'],\n  ['ультразвук'],\n  ['хирург'],\n  ['кардиолог'],\n  ['килограмм'],\n  ['акинезия'],\n  ['верхушка'],\n  ['апикальный'],\n  ['сегмент'],\n  ['весь'],\n  ['стенка'],\n  ['циркулярный'],\n  ['срединный'],\n  ['клапанный'],\n  ['аппарат'],\n  ['патология'],\n  ['перикард'],\n  ['проксимальный'],\n  ['диаметр'],\n  ['коррекция'],\n  ['осложнение'],\n  ['страдать'],\n  ['гипертонический'],\n  ['болезнь'],\n  ['адаптировать'],\n  ['получать'],\n  ['консервативный'],\n  ['течение'],\n  ['пребывание'],\n  ['отделение'],\n  ['самочувствие'],\n  ['ухудшение'],\n  ['место'],\n  ['пункция'],\n  ['особенность'],\n  ['шунт'],\n  ['шунтирование'],\n  ['гатчина'],\n  ['эхо'],\n  ['коронарный'],\n  ['артерия'],\n  ['значимый'],\n  ['стеноз'],\n  ['госпитализировать'],\n  ['имя'],\n  ['алмазов'],\n  ['предшествовать'],\n  ['стенокардия'],\n  ['перенести'],\n  ['инфаркт'],\n  ['миокарда'],\n  ['локализация'],\n  ['справка'],\n  ['дальнейший'],\n  ['хроническая недостаточность', 'хронический недостаточность'],\n  ['инфаркт миокарда', 'инфаркт миокард'],\n  ['от узла', 'от узел'],\n  ['нарушение работы', 'нарушение работа'],\n  ['в минуту', 'в минута', 'минута'],\n  ['эндокринная система', 'эндокринный система'],\n  ['сердечный ритм'],\n  ['узловая тахикардия', 'узловой тахикардия'],\n  ['основной факто', 'основные факторы'],\n  ['остановка сердца', 'остановка сердце'],\n  ['фибрилляция желудочков', 'фибрилляция желудочек'],\n  ['с частотой', 'с частотаб частота']]}"
     },
     "execution_count": 63,
     "metadata": {},
     "output_type": "execute_result"
    }
   ],
   "source": [
    "test_symspell_py_lookup_result = compute_all_metrics(\n",
    "    lambda : test_symspell_py_lookup(basic_frequency_dict, error_precision_test_word_list),\n",
    "    lambda : test_symspell_py_lookup(basic_frequency_dict, lexical_precision_test_word_list),\n",
    "    error_precision_test_word_list, error_precision_test_answers, lexical_precision_test_word_list)\n",
    "test_symspell_py_lookup_result"
   ],
   "metadata": {
    "collapsed": false,
    "pycharm": {
     "name": "#%%\n"
    }
   }
  },
  {
   "cell_type": "code",
   "execution_count": null,
   "outputs": [],
   "source": [
    "def test_symspell_py_lookup_compound(frequency_dict_path, input_word_list):\n",
    "    sym_spell_py = SymSpell()\n",
    "    sym_spell_py.load_dictionary(frequency_dict_path, 0, 1, encoding=\"UTF8\")\n",
    "\n",
    "    result = []\n",
    "    timer = tqdm(input_word_list)\n",
    "    for word in timer:\n",
    "        suggestions = sym_spell_py.lookup_compound(word, max_edit_distance=2)\n",
    "        result.append(suggestions[0].term)\n",
    "    return {\"elapsed\" : timer.format_dict[\"elapsed\"], \"corrected_word_list\" : result}"
   ],
   "metadata": {
    "collapsed": false,
    "pycharm": {
     "name": "#%%\n"
    }
   }
  },
  {
   "cell_type": "code",
   "execution_count": 64,
   "metadata": {
    "pycharm": {
     "name": "#%%\n"
    }
   },
   "outputs": [
    {
     "name": "stderr",
     "output_type": "stream",
     "text": [
      "100%|██████████| 200/200 [00:00<00:00, 753.19it/s]"
     ]
    },
    {
     "name": "stdout",
     "output_type": "stream",
     "text": [
      "original_word_list --- corrected_word --- answer_word_list\n",
      "эктренном --- коренном --- ['экстренном']\n",
      "синусовго --- синус его --- ['синусового']\n",
      "даным --- данным --- ['данным', 'данный', 'данные']\n",
      "шнутография --- и фотография --- ['шунтография']\n",
      "сникопальных --- они локальных --- ['синкопальных']\n",
      "посление --- последние --- ['поселение', 'последний']\n",
      "ходавый --- ход вый --- ['ходовый']\n",
      "анмнезе --- анамнезе --- ['анамнезе', 'анамнез']\n",
      "сентированный --- центров данный --- ['стентированный']\n",
      "самоч --- самой --- ['самочувствие']\n",
      "перевдена --- переведена --- ['переведена']\n",
      "стентированеим --- стен титрованием --- ['стентированием', 'стентирование']\n",
      "кардиол --- кардинал --- ['кардиолог,кардиологический']\n",
      "переведна --- переведена --- ['переведена']\n",
      "догосптальном --- до остальном --- ['догоспитальном']\n",
      "миним --- синим --- ['минимум', 'минимальный']\n",
      "субфебриллитет --- себе бриллиант --- ['субфебрилитет']\n",
      "загрудиные --- за рудные --- ['загрудинные', 'загрудинный']\n",
      "перферия --- периферия --- ['периферия']\n",
      "течени --- течение --- ['течение']\n",
      "оклюзия --- иллюзия --- ['окклюзия']\n",
      "жнщина --- женщина --- ['женщина']\n",
      "пциент --- пациент --- ['пациент']\n",
      "зарегистирована --- зарегистрирована --- ['зарегистрирована']\n",
      "сегмета --- сегмента --- ['сегмента']\n",
      "клекте --- клетке --- ['клетке']\n",
      "эпид --- спид --- ['эпидемия', 'эпидемиологический', 'эпидуральный']\n",
      "интелектуально --- интеллектуально --- ['интеллектуально']\n",
      "нижн --- ниже --- ['нижний']\n",
      "прводилась --- проводилась --- ['проводилась', 'проводить']\n",
      "неуст --- несут --- ['неустановленный']\n",
      "госптализирован --- госпитали мировая --- ['госпитализирован']\n",
      "вперые --- впервые --- ['впервые']\n",
      "послеоперационом --- послеоперационном --- ['послеоперационном']\n",
      "госпитализирова --- госпитали кирова --- ['госпитализирован']\n",
      "ухудщение --- ухудшение --- ['ухудшение']\n",
      "рентг --- ренты --- ['рентген']\n",
      "дальнешем --- дальнейшем --- ['дальнейшем']\n",
      "троботическая --- ты оптическая --- ['тромботическая']\n",
      "многосоудистое --- много сосудистой --- ['многососудистое', 'многососудистый']\n",
      "миокрада --- миокарда --- ['миокарда', 'миокард']\n",
      "сопрвождались --- сопровождались --- ['сопровождались']\n",
      "дискмфорт --- диск форт --- ['дискомфорт']\n",
      "потлтвостью --- после костью --- ['потливостью']\n",
      "левогожелудочка --- левого желудочка --- ['левого желудочка', 'левый желудочек']\n",
      "рание --- ранее --- ['ранее', 'ранние']\n",
      "виед --- виде --- ['виде', 'вид']\n",
      "ангинозныеболи --- ангинозныеболи --- ['ангинозные боли', 'ангиозный боль']\n",
      "догоситальном --- до остальном --- ['догоспитальном']\n",
      "ввполнен --- вполне --- ['выполнен']\n",
      "чаосв --- часов --- ['часов']\n",
      "октазалась --- оказалась --- ['отказалась']\n",
      "линика --- лирика --- ['клиника']\n",
      "ммента --- момента --- ['момента']\n",
      "проведеной --- проведено --- ['проведенной']\n",
      "выполненяи --- выполнения --- ['выполнения', 'выполнение']\n",
      "леченяи --- лечения --- ['лечения', 'лечение']\n",
      "обтилась --- осталась --- ['обратилась']\n",
      "повтороно --- повторно --- ['повторно']\n",
      "зарегистриованы --- зарегистрированы --- ['зарегистрированы']\n",
      "отицает --- отрицает --- ['отрицает', 'отрицать']\n",
      "дальнейщем --- дальнейшем --- ['дальнейшем']\n",
      "болисохраняются --- боли сохраняются --- ['боли сохраняются']\n",
      "частичынм --- частичным --- ['частичным']\n",
      "атерокслеротичсекая --- атеросклероз этическая --- ['атеросклеротическая']\n",
      "деньс --- день --- ['день', 'день с']\n",
      "назначаля --- назначали --- ['назначался']\n",
      "проведеняи --- проведения --- ['проведения']\n",
      "беспакоют --- беспокоит --- ['беспокоят']\n",
      "гипертензи --- гипертензии --- ['гипертензия']\n",
      "воленйбол --- волейбол --- ['волейбол']\n",
      "болезн --- болезни --- ['болезнь']\n",
      "стенокардаа --- стенок рада --- ['стенокардия']\n",
      "продолжалсь --- продолжалось --- ['продолжалась']\n",
      "поворное --- повторное --- ['повторное']\n",
      "ощуащет --- ощущает --- ['ощущает']\n",
      "ангигнозного --- ан грозного --- ['ангинозного', 'ангинозный']\n",
      "диагностичекой --- диагностической --- ['диагностической', 'диагностический']\n",
      "поддерживающией --- поддерживающие --- ['поддерживающий']\n",
      "межлопаточнй --- меж лопатой --- ['межлопаточный']\n",
      "бедреной --- бедренной --- ['бедренной', 'бедренный']\n",
      "гшрядки --- грядки --- ['грядки']\n",
      "бассеине --- бассейне --- ['бассейне', 'бассейн']\n",
      "возлуха --- воздуха --- ['воздуха', 'воздух']\n",
      "сенября --- сентября --- ['сентября', 'сентябрь']\n",
      "постояная --- постоянная --- ['постоянная', 'постоянный']\n",
      "рекмоендовнао --- рекомендовано --- ['рекомендовано']\n",
      "поврждения --- повреждения --- ['повреждения']\n",
      "дискофморта --- диском рта --- ['дискомфорт']\n",
      "импалнтирован --- импалнтирован --- ['имплантирован', 'имплантировать']\n",
      "неочетливая --- не отчетливая --- ['неотчетливая', 'неотчетливый']\n",
      "обесвеченный --- обеспеченных --- ['обесцвеченный', 'обеспеченный']\n",
      "серце --- сердце --- ['сердце']\n",
      "блезнь --- болезнь --- ['болезнь']\n",
      "лергия --- сергия --- ['аллергия']\n",
      "ука --- ука --- ['рука']\n",
      "изжга --- из га --- ['изжога']\n",
      "жение --- жене --- ['жжение']\n",
      "кашел --- нашел --- ['кашель']\n",
      "рствор --- раствор --- ['раствор']\n",
      "пациен --- пациент --- ['пациент']\n",
      "пожлой --- пожилой --- ['пожилой']\n",
      "лекарсво --- лекарство --- ['лекарство']\n",
      "нпреносимость --- перенос иметь --- ['непереносимость']\n",
      "амупула --- ампулы --- ['ампула']\n",
      "гел --- дел --- ['гель']\n",
      "конценрат --- концентрат --- ['концентрат']\n",
      "рилиф --- или --- ['релиф']\n",
      "чссс --- ссср --- ['ЧСС', 'чсс']\n",
      "экгъ --- экг --- ['ЭКГ', 'экг']\n",
      "фибриляция --- физ милиция --- ['фибрилляция']\n",
      "желдочек --- же точек --- ['желудочек']\n",
      "хрон --- крон --- ['хронический']\n",
      "гиподин --- господин --- ['гиподинамический']\n",
      "нерный --- черный --- ['нервный']\n",
      "сист --- сист --- ['система']\n",
      "диагоностика --- диагностика --- ['диагностика']\n",
      "гипоксмия --- гипоксии --- ['гипоксемия']\n",
      "ледокоин --- ледокол --- ['лидокаин']\n",
      "блокато --- блока о --- ['блокатор']\n",
      "тахкардия --- такая для --- ['тахикардия']\n",
      "малоинвозивный --- малины наивный --- ['малоинвазивный']\n",
      "алация --- акация --- ['аблация', 'абляция']\n",
      "имь --- им --- ['ИМ', 'им']\n",
      "паражение --- поражение --- ['поражение']\n",
      "тяжолый --- тяжелый --- ['тяжелый']\n",
      "гастрапластика --- астра пластика --- ['гастропластика']\n",
      "вс --- в --- ['вес']\n",
      "лешний --- летний --- ['лишний']\n",
      "орта --- сорта --- ['аорта']\n",
      "клапа --- клапан --- ['клапан']\n",
      "вент --- сент --- ['вена']\n",
      "палый --- малый --- ['полый']\n",
      "пирикард --- пи ричард --- ['перикард']\n",
      "метральный --- центральный --- ['митральный']\n",
      "ултразвук --- ультразвук --- ['ультразвук']\n",
      "херург --- хирург --- ['хирург']\n",
      "кордиолог --- ко диалог --- ['кардиолог']\n",
      "килограм --- килограмм --- ['килограмм']\n",
      "акенезия --- арене и --- ['акинезия']\n",
      "врхушка --- верхушка --- ['верхушка']\n",
      "апекальный --- печальный --- ['апикальный']\n",
      "сгмент --- сегмент --- ['сегмент']\n",
      "вес --- вес --- ['весь']\n",
      "сьенка --- стенка --- ['стенка']\n",
      "церкулярный --- и регулярный --- ['циркулярный']\n",
      "сридиный --- средины --- ['срединный']\n",
      "калапаный --- клапаны --- ['клапанный']\n",
      "апарат --- аппарат --- ['аппарат']\n",
      "потология --- патология --- ['патология']\n",
      "перекард --- перепад --- ['перикард']\n",
      "праксимальный --- максимальный --- ['проксимальный']\n",
      "деаметр --- диаметр --- ['диаметр']\n",
      "корекция --- коррекция --- ['коррекция']\n",
      "аслажнение --- наслаждение --- ['осложнение']\n",
      "стрдать --- страдать --- ['страдать']\n",
      "гепертонический --- гипертонической --- ['гипертонический']\n",
      "болезн --- болезни --- ['болезнь']\n",
      "одоптировать --- о датировать --- ['адаптировать']\n",
      "получять --- получить --- ['получать']\n",
      "кансервативный --- консервативный --- ['консервативный']\n",
      "тичение --- течение --- ['течение']\n",
      "пребование --- требование --- ['пребывание']\n",
      "отбиление --- отделение --- ['отделение']\n",
      "самачувствие --- самочувствие --- ['самочувствие']\n",
      "уходшение --- ухудшение --- ['ухудшение']\n",
      "месро --- место --- ['место']\n",
      "пункцыя --- функция --- ['пункция']\n",
      "особеность --- особенность --- ['особенность']\n",
      "шнут --- шут --- ['шунт']\n",
      "шнутирование --- и цитирование --- ['шунтирование']\n",
      "готчина --- вотчина --- ['гатчина']\n",
      "эхэ --- эх --- ['эхо']\n",
      "каранарный --- кара парный --- ['коронарный']\n",
      "ортерия --- артерия --- ['артерия']\n",
      "сначимый --- значимый --- ['значимый']\n",
      "стинос --- стихов --- ['стеноз']\n",
      "гаспиализировать --- нас анализировать --- ['госпитализировать']\n",
      "имья --- имя --- ['имя']\n",
      "олмазов --- алмазов --- ['алмазов']\n",
      "прдшствовать --- предшествовать --- ['предшествовать']\n",
      "стинакардия --- истина партия --- ['стенокардия']\n",
      "пиринести --- принести --- ['перенести']\n",
      "ифаркт --- инфаркт --- ['инфаркт']\n",
      "моикарда --- миокарда --- ['миокарда']\n",
      "лакализация --- локализация --- ['локализация']\n",
      "спразка --- справка --- ['справка']\n",
      "дальнейшый --- дальнейшей --- ['дальнейший']\n",
      "хроническаянедостаточность --- хроническая недостаточность --- ['хроническая недостаточность', 'хронический недостаточность']\n",
      "инфарктмиокарда --- инфаркт миокарда --- ['инфаркт миокарда', 'инфаркт миокард']\n",
      "отузла --- от зла --- ['от узла', 'от узел']\n",
      "нарушениеработы --- нарушение работы --- ['нарушение работы', 'нарушение работа']\n",
      "вминуту --- минуту --- ['в минуту', 'в минута', 'минута']\n",
      "эндокриннойсистемы --- эндокринной системы --- ['эндокринная система', 'эндокринный система']\n",
      "сердечныйритм --- сердечный ритм --- ['сердечный ритм']\n",
      "узловаятахикардия --- узловаятахикардия --- ['узловая тахикардия', 'узловой тахикардия']\n",
      "основныефакторы --- основные факторы --- ['основной факто', 'основные факторы']\n",
      "остановкасердца --- остановка сердца --- ['остановка сердца', 'остановка сердце']\n",
      "фибрилляцияжелудочков --- фибрилляцияжелудочков --- ['фибрилляция желудочков', 'фибрилляция желудочек']\n",
      "счастотой --- частотой --- ['с частотой', 'с частотаб частота']\n",
      "Right corrected words count - 92 of 200 total\n"
     ]
    },
    {
     "name": "stderr",
     "output_type": "stream",
     "text": [
      "\n"
     ]
    },
    {
     "data": {
      "text/plain": "{'words_per_minute': 45122.32114601385,\n 'error_precision': 0.46,\n 'lexical_precision': 0.0,\n 'original_word_list': ['эктренном',\n  'синусовго',\n  'даным',\n  'шнутография',\n  'сникопальных',\n  'посление',\n  'ходавый',\n  'анмнезе',\n  'сентированный',\n  'самоч',\n  'перевдена',\n  'стентированеим',\n  'кардиол',\n  'переведна',\n  'догосптальном',\n  'миним',\n  'субфебриллитет',\n  'загрудиные',\n  'перферия',\n  'течени',\n  'оклюзия',\n  'жнщина',\n  'пциент',\n  'зарегистирована',\n  'сегмета',\n  'клекте',\n  'эпид',\n  'интелектуально',\n  'нижн',\n  'прводилась',\n  'неуст',\n  'госптализирован',\n  'вперые',\n  'послеоперационом',\n  'госпитализирова',\n  'ухудщение',\n  'рентг',\n  'дальнешем',\n  'троботическая',\n  'многосоудистое',\n  'миокрада',\n  'сопрвождались',\n  'дискмфорт',\n  'потлтвостью',\n  'левогожелудочка',\n  'рание',\n  'виед',\n  'ангинозныеболи',\n  'догоситальном',\n  'ввполнен',\n  'чаосв',\n  'октазалась',\n  'линика',\n  'ммента',\n  'проведеной',\n  'выполненяи',\n  'леченяи',\n  'обтилась',\n  'повтороно',\n  'зарегистриованы',\n  'отицает',\n  'дальнейщем',\n  'болисохраняются',\n  'частичынм',\n  'атерокслеротичсекая',\n  'деньс',\n  'назначаля',\n  'проведеняи',\n  'беспакоют',\n  'гипертензи',\n  'воленйбол',\n  'болезн',\n  'стенокардаа',\n  'продолжалсь',\n  'поворное',\n  'ощуащет',\n  'ангигнозного',\n  'диагностичекой',\n  'поддерживающией',\n  'межлопаточнй',\n  'бедреной',\n  'гшрядки',\n  'бассеине',\n  'возлуха',\n  'сенября',\n  'постояная',\n  'рекмоендовнао',\n  'поврждения',\n  'дискофморта',\n  'импалнтирован',\n  'неочетливая',\n  'обесвеченный',\n  'серце',\n  'блезнь',\n  'лергия',\n  'ука',\n  'изжга',\n  'жение',\n  'кашел',\n  'рствор',\n  'пациен',\n  'пожлой',\n  'лекарсво',\n  'нпреносимость',\n  'амупула',\n  'гел',\n  'конценрат',\n  'рилиф',\n  'чссс',\n  'экгъ',\n  'фибриляция',\n  'желдочек',\n  'хрон',\n  'гиподин',\n  'нерный',\n  'сист',\n  'диагоностика',\n  'гипоксмия',\n  'ледокоин',\n  'блокато',\n  'тахкардия',\n  'малоинвозивный',\n  'алация',\n  'имь',\n  'паражение',\n  'тяжолый',\n  'гастрапластика',\n  'вс',\n  'лешний',\n  'орта',\n  'клапа',\n  'вент',\n  'палый',\n  'пирикард',\n  'метральный',\n  'ултразвук',\n  'херург',\n  'кордиолог',\n  'килограм',\n  'акенезия',\n  'врхушка',\n  'апекальный',\n  'сгмент',\n  'вес',\n  'сьенка',\n  'церкулярный',\n  'сридиный',\n  'калапаный',\n  'апарат',\n  'потология',\n  'перекард',\n  'праксимальный',\n  'деаметр',\n  'корекция',\n  'аслажнение',\n  'стрдать',\n  'гепертонический',\n  'болезн',\n  'одоптировать',\n  'получять',\n  'кансервативный',\n  'тичение',\n  'пребование',\n  'отбиление',\n  'самачувствие',\n  'уходшение',\n  'месро',\n  'пункцыя',\n  'особеность',\n  'шнут',\n  'шнутирование',\n  'готчина',\n  'эхэ',\n  'каранарный',\n  'ортерия',\n  'сначимый',\n  'стинос',\n  'гаспиализировать',\n  'имья',\n  'олмазов',\n  'прдшствовать',\n  'стинакардия',\n  'пиринести',\n  'ифаркт',\n  'моикарда',\n  'лакализация',\n  'спразка',\n  'дальнейшый',\n  'хроническаянедостаточность',\n  'инфарктмиокарда',\n  'отузла',\n  'нарушениеработы',\n  'вминуту',\n  'эндокриннойсистемы',\n  'сердечныйритм',\n  'узловаятахикардия',\n  'основныефакторы',\n  'остановкасердца',\n  'фибрилляцияжелудочков',\n  'счастотой'],\n 'corrected_word_list': ['коренном',\n  'синус его',\n  'данным',\n  'и фотография',\n  'они локальных',\n  'последние',\n  'ход вый',\n  'анамнезе',\n  'центров данный',\n  'самой',\n  'переведена',\n  'стен титрованием',\n  'кардинал',\n  'переведена',\n  'до остальном',\n  'синим',\n  'себе бриллиант',\n  'за рудные',\n  'периферия',\n  'течение',\n  'иллюзия',\n  'женщина',\n  'пациент',\n  'зарегистрирована',\n  'сегмента',\n  'клетке',\n  'спид',\n  'интеллектуально',\n  'ниже',\n  'проводилась',\n  'несут',\n  'госпитали мировая',\n  'впервые',\n  'послеоперационном',\n  'госпитали кирова',\n  'ухудшение',\n  'ренты',\n  'дальнейшем',\n  'ты оптическая',\n  'много сосудистой',\n  'миокарда',\n  'сопровождались',\n  'диск форт',\n  'после костью',\n  'левого желудочка',\n  'ранее',\n  'виде',\n  'ангинозныеболи',\n  'до остальном',\n  'вполне',\n  'часов',\n  'оказалась',\n  'лирика',\n  'момента',\n  'проведено',\n  'выполнения',\n  'лечения',\n  'осталась',\n  'повторно',\n  'зарегистрированы',\n  'отрицает',\n  'дальнейшем',\n  'боли сохраняются',\n  'частичным',\n  'атеросклероз этическая',\n  'день',\n  'назначали',\n  'проведения',\n  'беспокоит',\n  'гипертензии',\n  'волейбол',\n  'болезни',\n  'стенок рада',\n  'продолжалось',\n  'повторное',\n  'ощущает',\n  'ан грозного',\n  'диагностической',\n  'поддерживающие',\n  'меж лопатой',\n  'бедренной',\n  'грядки',\n  'бассейне',\n  'воздуха',\n  'сентября',\n  'постоянная',\n  'рекомендовано',\n  'повреждения',\n  'диском рта',\n  'импалнтирован',\n  'не отчетливая',\n  'обеспеченных',\n  'сердце',\n  'болезнь',\n  'сергия',\n  'ука',\n  'из га',\n  'жене',\n  'нашел',\n  'раствор',\n  'пациент',\n  'пожилой',\n  'лекарство',\n  'перенос иметь',\n  'ампулы',\n  'дел',\n  'концентрат',\n  'или',\n  'ссср',\n  'экг',\n  'физ милиция',\n  'же точек',\n  'крон',\n  'господин',\n  'черный',\n  'сист',\n  'диагностика',\n  'гипоксии',\n  'ледокол',\n  'блока о',\n  'такая для',\n  'малины наивный',\n  'акация',\n  'им',\n  'поражение',\n  'тяжелый',\n  'астра пластика',\n  'в',\n  'летний',\n  'сорта',\n  'клапан',\n  'сент',\n  'малый',\n  'пи ричард',\n  'центральный',\n  'ультразвук',\n  'хирург',\n  'ко диалог',\n  'килограмм',\n  'арене и',\n  'верхушка',\n  'печальный',\n  'сегмент',\n  'вес',\n  'стенка',\n  'и регулярный',\n  'средины',\n  'клапаны',\n  'аппарат',\n  'патология',\n  'перепад',\n  'максимальный',\n  'диаметр',\n  'коррекция',\n  'наслаждение',\n  'страдать',\n  'гипертонической',\n  'болезни',\n  'о датировать',\n  'получить',\n  'консервативный',\n  'течение',\n  'требование',\n  'отделение',\n  'самочувствие',\n  'ухудшение',\n  'место',\n  'функция',\n  'особенность',\n  'шут',\n  'и цитирование',\n  'вотчина',\n  'эх',\n  'кара парный',\n  'артерия',\n  'значимый',\n  'стихов',\n  'нас анализировать',\n  'имя',\n  'алмазов',\n  'предшествовать',\n  'истина партия',\n  'принести',\n  'инфаркт',\n  'миокарда',\n  'локализация',\n  'справка',\n  'дальнейшей',\n  'хроническая недостаточность',\n  'инфаркт миокарда',\n  'от зла',\n  'нарушение работы',\n  'минуту',\n  'эндокринной системы',\n  'сердечный ритм',\n  'узловаятахикардия',\n  'основные факторы',\n  'остановка сердца',\n  'фибрилляцияжелудочков',\n  'частотой'],\n 'answer_word_list': [['экстренном'],\n  ['синусового'],\n  ['данным', 'данный', 'данные'],\n  ['шунтография'],\n  ['синкопальных'],\n  ['поселение', 'последний'],\n  ['ходовый'],\n  ['анамнезе', 'анамнез'],\n  ['стентированный'],\n  ['самочувствие'],\n  ['переведена'],\n  ['стентированием', 'стентирование'],\n  ['кардиолог,кардиологический'],\n  ['переведена'],\n  ['догоспитальном'],\n  ['минимум', 'минимальный'],\n  ['субфебрилитет'],\n  ['загрудинные', 'загрудинный'],\n  ['периферия'],\n  ['течение'],\n  ['окклюзия'],\n  ['женщина'],\n  ['пациент'],\n  ['зарегистрирована'],\n  ['сегмента'],\n  ['клетке'],\n  ['эпидемия', 'эпидемиологический', 'эпидуральный'],\n  ['интеллектуально'],\n  ['нижний'],\n  ['проводилась', 'проводить'],\n  ['неустановленный'],\n  ['госпитализирован'],\n  ['впервые'],\n  ['послеоперационном'],\n  ['госпитализирован'],\n  ['ухудшение'],\n  ['рентген'],\n  ['дальнейшем'],\n  ['тромботическая'],\n  ['многососудистое', 'многососудистый'],\n  ['миокарда', 'миокард'],\n  ['сопровождались'],\n  ['дискомфорт'],\n  ['потливостью'],\n  ['левого желудочка', 'левый желудочек'],\n  ['ранее', 'ранние'],\n  ['виде', 'вид'],\n  ['ангинозные боли', 'ангиозный боль'],\n  ['догоспитальном'],\n  ['выполнен'],\n  ['часов'],\n  ['отказалась'],\n  ['клиника'],\n  ['момента'],\n  ['проведенной'],\n  ['выполнения', 'выполнение'],\n  ['лечения', 'лечение'],\n  ['обратилась'],\n  ['повторно'],\n  ['зарегистрированы'],\n  ['отрицает', 'отрицать'],\n  ['дальнейшем'],\n  ['боли сохраняются'],\n  ['частичным'],\n  ['атеросклеротическая'],\n  ['день', 'день с'],\n  ['назначался'],\n  ['проведения'],\n  ['беспокоят'],\n  ['гипертензия'],\n  ['волейбол'],\n  ['болезнь'],\n  ['стенокардия'],\n  ['продолжалась'],\n  ['повторное'],\n  ['ощущает'],\n  ['ангинозного', 'ангинозный'],\n  ['диагностической', 'диагностический'],\n  ['поддерживающий'],\n  ['межлопаточный'],\n  ['бедренной', 'бедренный'],\n  ['грядки'],\n  ['бассейне', 'бассейн'],\n  ['воздуха', 'воздух'],\n  ['сентября', 'сентябрь'],\n  ['постоянная', 'постоянный'],\n  ['рекомендовано'],\n  ['повреждения'],\n  ['дискомфорт'],\n  ['имплантирован', 'имплантировать'],\n  ['неотчетливая', 'неотчетливый'],\n  ['обесцвеченный', 'обеспеченный'],\n  ['сердце'],\n  ['болезнь'],\n  ['аллергия'],\n  ['рука'],\n  ['изжога'],\n  ['жжение'],\n  ['кашель'],\n  ['раствор'],\n  ['пациент'],\n  ['пожилой'],\n  ['лекарство'],\n  ['непереносимость'],\n  ['ампула'],\n  ['гель'],\n  ['концентрат'],\n  ['релиф'],\n  ['ЧСС', 'чсс'],\n  ['ЭКГ', 'экг'],\n  ['фибрилляция'],\n  ['желудочек'],\n  ['хронический'],\n  ['гиподинамический'],\n  ['нервный'],\n  ['система'],\n  ['диагностика'],\n  ['гипоксемия'],\n  ['лидокаин'],\n  ['блокатор'],\n  ['тахикардия'],\n  ['малоинвазивный'],\n  ['аблация', 'абляция'],\n  ['ИМ', 'им'],\n  ['поражение'],\n  ['тяжелый'],\n  ['гастропластика'],\n  ['вес'],\n  ['лишний'],\n  ['аорта'],\n  ['клапан'],\n  ['вена'],\n  ['полый'],\n  ['перикард'],\n  ['митральный'],\n  ['ультразвук'],\n  ['хирург'],\n  ['кардиолог'],\n  ['килограмм'],\n  ['акинезия'],\n  ['верхушка'],\n  ['апикальный'],\n  ['сегмент'],\n  ['весь'],\n  ['стенка'],\n  ['циркулярный'],\n  ['срединный'],\n  ['клапанный'],\n  ['аппарат'],\n  ['патология'],\n  ['перикард'],\n  ['проксимальный'],\n  ['диаметр'],\n  ['коррекция'],\n  ['осложнение'],\n  ['страдать'],\n  ['гипертонический'],\n  ['болезнь'],\n  ['адаптировать'],\n  ['получать'],\n  ['консервативный'],\n  ['течение'],\n  ['пребывание'],\n  ['отделение'],\n  ['самочувствие'],\n  ['ухудшение'],\n  ['место'],\n  ['пункция'],\n  ['особенность'],\n  ['шунт'],\n  ['шунтирование'],\n  ['гатчина'],\n  ['эхо'],\n  ['коронарный'],\n  ['артерия'],\n  ['значимый'],\n  ['стеноз'],\n  ['госпитализировать'],\n  ['имя'],\n  ['алмазов'],\n  ['предшествовать'],\n  ['стенокардия'],\n  ['перенести'],\n  ['инфаркт'],\n  ['миокарда'],\n  ['локализация'],\n  ['справка'],\n  ['дальнейший'],\n  ['хроническая недостаточность', 'хронический недостаточность'],\n  ['инфаркт миокарда', 'инфаркт миокард'],\n  ['от узла', 'от узел'],\n  ['нарушение работы', 'нарушение работа'],\n  ['в минуту', 'в минута', 'минута'],\n  ['эндокринная система', 'эндокринный система'],\n  ['сердечный ритм'],\n  ['узловая тахикардия', 'узловой тахикардия'],\n  ['основной факто', 'основные факторы'],\n  ['остановка сердца', 'остановка сердце'],\n  ['фибрилляция желудочков', 'фибрилляция желудочек'],\n  ['с частотой', 'с частотаб частота']]}"
     },
     "execution_count": 64,
     "metadata": {},
     "output_type": "execute_result"
    }
   ],
   "source": [
    "test_symspell_py_lookup_compound_result = compute_all_metrics(\n",
    "    lambda : test_symspell_py_lookup_compound(basic_frequency_dict, error_precision_test_word_list),\n",
    "    lambda : test_symspell_py_lookup_compound(basic_frequency_dict, lexical_precision_test_word_list),\n",
    "    error_precision_test_word_list, error_precision_test_answers, lexical_precision_test_word_list)\n",
    "test_symspell_py_lookup_compound_result"
   ]
  },
  {
   "cell_type": "markdown",
   "source": [
    "# Test SymSpellCppPy - https://github.com/viig99/SymSpellCppPy"
   ],
   "metadata": {
    "collapsed": false
   }
  },
  {
   "cell_type": "code",
   "execution_count": 22,
   "outputs": [
    {
     "name": "stdout",
     "output_type": "stream",
     "text": [
      "Requirement already satisfied: wheel in /home/Dmitry.Pogrebnoy/Desktop/MedSpellChecker/venv/lib/python3.9/site-packages (0.36.2)\r\n",
      "Requirement already satisfied: setuptools in /home/Dmitry.Pogrebnoy/Desktop/MedSpellChecker/venv/lib/python3.9/site-packages (57.0.0)\r\n"
     ]
    }
   ],
   "source": [
    "!pip install wheel setuptools"
   ],
   "metadata": {
    "collapsed": false,
    "pycharm": {
     "name": "#%%\n"
    }
   }
  },
  {
   "cell_type": "code",
   "execution_count": 29,
   "outputs": [
    {
     "name": "stdout",
     "output_type": "stream",
     "text": [
      "Collecting SymSpellCppPy\r\n",
      "  Using cached SymSpellCppPy-0.0.14.tar.gz (5.4 MB)\r\n",
      "  Preparing metadata (setup.py) ... \u001B[?25ldone\r\n",
      "\u001B[?25hBuilding wheels for collected packages: SymSpellCppPy\r\n",
      "  Building wheel for SymSpellCppPy (setup.py) ... \u001B[?25lerror\r\n",
      "\u001B[31m  ERROR: Command errored out with exit status 1:\r\n",
      "   command: /home/Dmitry.Pogrebnoy/Desktop/MedSpellChecker/venv/bin/python -u -c 'import io, os, sys, setuptools, tokenize; sys.argv[0] = '\"'\"'/tmp/pip-install-h03nugqd/symspellcpppy_7de71a60b9a84cd9aba25d717b40bd4e/setup.py'\"'\"'; __file__='\"'\"'/tmp/pip-install-h03nugqd/symspellcpppy_7de71a60b9a84cd9aba25d717b40bd4e/setup.py'\"'\"';f = getattr(tokenize, '\"'\"'open'\"'\"', open)(__file__) if os.path.exists(__file__) else io.StringIO('\"'\"'from setuptools import setup; setup()'\"'\"');code = f.read().replace('\"'\"'\\r\\n'\"'\"', '\"'\"'\\n'\"'\"');f.close();exec(compile(code, __file__, '\"'\"'exec'\"'\"'))' bdist_wheel -d /tmp/pip-wheel-6n1izgqg\r\n",
      "       cwd: /tmp/pip-install-h03nugqd/symspellcpppy_7de71a60b9a84cd9aba25d717b40bd4e/\r\n",
      "  Complete output (45 lines):\r\n",
      "  running bdist_wheel\r\n",
      "  running build\r\n",
      "  running build_ext\r\n",
      "  Traceback (most recent call last):\r\n",
      "    File \"/tmp/pip-install-h03nugqd/symspellcpppy_7de71a60b9a84cd9aba25d717b40bd4e/setup.py\", line 29, in run\r\n",
      "      out = subprocess.check_output(['cmake', '--version'])\r\n",
      "    File \"/usr/lib/python3.9/subprocess.py\", line 424, in check_output\r\n",
      "      return run(*popenargs, stdout=PIPE, timeout=timeout, check=True,\r\n",
      "    File \"/usr/lib/python3.9/subprocess.py\", line 505, in run\r\n",
      "      with Popen(*popenargs, **kwargs) as process:\r\n",
      "    File \"/usr/lib/python3.9/subprocess.py\", line 951, in __init__\r\n",
      "      self._execute_child(args, executable, preexec_fn, close_fds,\r\n",
      "    File \"/usr/lib/python3.9/subprocess.py\", line 1821, in _execute_child\r\n",
      "      raise child_exception_type(errno_num, err_msg, err_filename)\r\n",
      "  FileNotFoundError: [Errno 2] No such file or directory: 'cmake'\r\n",
      "  \r\n",
      "  During handling of the above exception, another exception occurred:\r\n",
      "  \r\n",
      "  Traceback (most recent call last):\r\n",
      "    File \"<string>\", line 1, in <module>\r\n",
      "    File \"/tmp/pip-install-h03nugqd/symspellcpppy_7de71a60b9a84cd9aba25d717b40bd4e/setup.py\", line 79, in <module>\r\n",
      "      setup(\r\n",
      "    File \"/home/Dmitry.Pogrebnoy/Desktop/MedSpellChecker/venv/lib/python3.9/site-packages/setuptools/__init__.py\", line 153, in setup\r\n",
      "      return distutils.core.setup(**attrs)\r\n",
      "    File \"/usr/lib/python3.9/distutils/core.py\", line 148, in setup\r\n",
      "      dist.run_commands()\r\n",
      "    File \"/usr/lib/python3.9/distutils/dist.py\", line 966, in run_commands\r\n",
      "      self.run_command(cmd)\r\n",
      "    File \"/usr/lib/python3.9/distutils/dist.py\", line 985, in run_command\r\n",
      "      cmd_obj.run()\r\n",
      "    File \"/home/Dmitry.Pogrebnoy/Desktop/MedSpellChecker/venv/lib/python3.9/site-packages/wheel/bdist_wheel.py\", line 299, in run\r\n",
      "      self.run_command('build')\r\n",
      "    File \"/usr/lib/python3.9/distutils/cmd.py\", line 313, in run_command\r\n",
      "      self.distribution.run_command(command)\r\n",
      "    File \"/usr/lib/python3.9/distutils/dist.py\", line 985, in run_command\r\n",
      "      cmd_obj.run()\r\n",
      "    File \"/usr/lib/python3.9/distutils/command/build.py\", line 135, in run\r\n",
      "      self.run_command(cmd_name)\r\n",
      "    File \"/usr/lib/python3.9/distutils/cmd.py\", line 313, in run_command\r\n",
      "      self.distribution.run_command(command)\r\n",
      "    File \"/usr/lib/python3.9/distutils/dist.py\", line 985, in run_command\r\n",
      "      cmd_obj.run()\r\n",
      "    File \"/tmp/pip-install-h03nugqd/symspellcpppy_7de71a60b9a84cd9aba25d717b40bd4e/setup.py\", line 31, in run\r\n",
      "      raise RuntimeError(\"CMake must be installed to build the following extensions: \" +\r\n",
      "  RuntimeError: CMake must be installed to build the following extensions: SymSpellCppPy\r\n",
      "  ----------------------------------------\u001B[0m\r\n",
      "\u001B[31m  ERROR: Failed building wheel for SymSpellCppPy\u001B[0m\r\n",
      "\u001B[?25h  Running setup.py clean for SymSpellCppPy\r\n",
      "Failed to build SymSpellCppPy\r\n",
      "Installing collected packages: SymSpellCppPy\r\n",
      "    Running setup.py install for SymSpellCppPy ... \u001B[?25lerror\r\n",
      "\u001B[31m    ERROR: Command errored out with exit status 1:\r\n",
      "     command: /home/Dmitry.Pogrebnoy/Desktop/MedSpellChecker/venv/bin/python -u -c 'import io, os, sys, setuptools, tokenize; sys.argv[0] = '\"'\"'/tmp/pip-install-h03nugqd/symspellcpppy_7de71a60b9a84cd9aba25d717b40bd4e/setup.py'\"'\"'; __file__='\"'\"'/tmp/pip-install-h03nugqd/symspellcpppy_7de71a60b9a84cd9aba25d717b40bd4e/setup.py'\"'\"';f = getattr(tokenize, '\"'\"'open'\"'\"', open)(__file__) if os.path.exists(__file__) else io.StringIO('\"'\"'from setuptools import setup; setup()'\"'\"');code = f.read().replace('\"'\"'\\r\\n'\"'\"', '\"'\"'\\n'\"'\"');f.close();exec(compile(code, __file__, '\"'\"'exec'\"'\"'))' install --record /tmp/pip-record-h3qh350_/install-record.txt --single-version-externally-managed --compile --install-headers /home/Dmitry.Pogrebnoy/Desktop/MedSpellChecker/venv/include/site/python3.9/SymSpellCppPy\r\n",
      "         cwd: /tmp/pip-install-h03nugqd/symspellcpppy_7de71a60b9a84cd9aba25d717b40bd4e/\r\n",
      "    Complete output (47 lines):\r\n",
      "    running install\r\n",
      "    running build\r\n",
      "    running build_ext\r\n",
      "    Traceback (most recent call last):\r\n",
      "      File \"/tmp/pip-install-h03nugqd/symspellcpppy_7de71a60b9a84cd9aba25d717b40bd4e/setup.py\", line 29, in run\r\n",
      "        out = subprocess.check_output(['cmake', '--version'])\r\n",
      "      File \"/usr/lib/python3.9/subprocess.py\", line 424, in check_output\r\n",
      "        return run(*popenargs, stdout=PIPE, timeout=timeout, check=True,\r\n",
      "      File \"/usr/lib/python3.9/subprocess.py\", line 505, in run\r\n",
      "        with Popen(*popenargs, **kwargs) as process:\r\n",
      "      File \"/usr/lib/python3.9/subprocess.py\", line 951, in __init__\r\n",
      "        self._execute_child(args, executable, preexec_fn, close_fds,\r\n",
      "      File \"/usr/lib/python3.9/subprocess.py\", line 1821, in _execute_child\r\n",
      "        raise child_exception_type(errno_num, err_msg, err_filename)\r\n",
      "    FileNotFoundError: [Errno 2] No such file or directory: 'cmake'\r\n",
      "    \r\n",
      "    During handling of the above exception, another exception occurred:\r\n",
      "    \r\n",
      "    Traceback (most recent call last):\r\n",
      "      File \"<string>\", line 1, in <module>\r\n",
      "      File \"/tmp/pip-install-h03nugqd/symspellcpppy_7de71a60b9a84cd9aba25d717b40bd4e/setup.py\", line 79, in <module>\r\n",
      "        setup(\r\n",
      "      File \"/home/Dmitry.Pogrebnoy/Desktop/MedSpellChecker/venv/lib/python3.9/site-packages/setuptools/__init__.py\", line 153, in setup\r\n",
      "        return distutils.core.setup(**attrs)\r\n",
      "      File \"/usr/lib/python3.9/distutils/core.py\", line 148, in setup\r\n",
      "        dist.run_commands()\r\n",
      "      File \"/usr/lib/python3.9/distutils/dist.py\", line 966, in run_commands\r\n",
      "        self.run_command(cmd)\r\n",
      "      File \"/usr/lib/python3.9/distutils/dist.py\", line 985, in run_command\r\n",
      "        cmd_obj.run()\r\n",
      "      File \"/home/Dmitry.Pogrebnoy/Desktop/MedSpellChecker/venv/lib/python3.9/site-packages/setuptools/command/install.py\", line 61, in run\r\n",
      "        return orig.install.run(self)\r\n",
      "      File \"/usr/lib/python3.9/distutils/command/install.py\", line 590, in run\r\n",
      "        self.run_command('build')\r\n",
      "      File \"/usr/lib/python3.9/distutils/cmd.py\", line 313, in run_command\r\n",
      "        self.distribution.run_command(command)\r\n",
      "      File \"/usr/lib/python3.9/distutils/dist.py\", line 985, in run_command\r\n",
      "        cmd_obj.run()\r\n",
      "      File \"/usr/lib/python3.9/distutils/command/build.py\", line 135, in run\r\n",
      "        self.run_command(cmd_name)\r\n",
      "      File \"/usr/lib/python3.9/distutils/cmd.py\", line 313, in run_command\r\n",
      "        self.distribution.run_command(command)\r\n",
      "      File \"/usr/lib/python3.9/distutils/dist.py\", line 985, in run_command\r\n",
      "        cmd_obj.run()\r\n",
      "      File \"/tmp/pip-install-h03nugqd/symspellcpppy_7de71a60b9a84cd9aba25d717b40bd4e/setup.py\", line 31, in run\r\n",
      "        raise RuntimeError(\"CMake must be installed to build the following extensions: \" +\r\n",
      "    RuntimeError: CMake must be installed to build the following extensions: SymSpellCppPy\r\n",
      "    ----------------------------------------\u001B[0m\r\n",
      "\u001B[31mERROR: Command errored out with exit status 1: /home/Dmitry.Pogrebnoy/Desktop/MedSpellChecker/venv/bin/python -u -c 'import io, os, sys, setuptools, tokenize; sys.argv[0] = '\"'\"'/tmp/pip-install-h03nugqd/symspellcpppy_7de71a60b9a84cd9aba25d717b40bd4e/setup.py'\"'\"'; __file__='\"'\"'/tmp/pip-install-h03nugqd/symspellcpppy_7de71a60b9a84cd9aba25d717b40bd4e/setup.py'\"'\"';f = getattr(tokenize, '\"'\"'open'\"'\"', open)(__file__) if os.path.exists(__file__) else io.StringIO('\"'\"'from setuptools import setup; setup()'\"'\"');code = f.read().replace('\"'\"'\\r\\n'\"'\"', '\"'\"'\\n'\"'\"');f.close();exec(compile(code, __file__, '\"'\"'exec'\"'\"'))' install --record /tmp/pip-record-h3qh350_/install-record.txt --single-version-externally-managed --compile --install-headers /home/Dmitry.Pogrebnoy/Desktop/MedSpellChecker/venv/include/site/python3.9/SymSpellCppPy Check the logs for full command output.\u001B[0m\r\n",
      "\u001B[?25h"
     ]
    }
   ],
   "source": [
    "!pip install --upgrade SymSpellCppPy"
   ],
   "metadata": {
    "collapsed": false,
    "pycharm": {
     "name": "#%%\n"
    }
   }
  },
  {
   "cell_type": "markdown",
   "source": [
    "There was a problem with installing the package. It is still unclear what the reason is. However, this spellchecker should not provide more accuracy, only higher speed since it is implemented in C++. However, the speed of the Python implementation is still enough at this stage.  So I decided to leave it here for now and come back if there is a need for more speed."
   ],
   "metadata": {
    "collapsed": false
   }
  },
  {
   "cell_type": "markdown",
   "source": [
    "# Test JumSpell - https://github.com/bakwc/JamSpell"
   ],
   "metadata": {
    "collapsed": false
   }
  },
  {
   "cell_type": "markdown",
   "source": [
    "#### Attention No Windows 10 support!"
   ],
   "metadata": {
    "collapsed": false
   }
  },
  {
   "cell_type": "markdown",
   "source": [
    "Not working with compound words"
   ],
   "metadata": {
    "collapsed": false
   }
  },
  {
   "cell_type": "code",
   "execution_count": 28,
   "outputs": [
    {
     "name": "stdout",
     "output_type": "stream",
     "text": [
      "Collecting jamspell\r\n",
      "  Downloading jamspell-0.0.12.tar.gz (174 kB)\r\n",
      "     |████████████████████████████████| 174 kB 464 kB/s            \r\n",
      "\u001B[?25h  Preparing metadata (setup.py) ... \u001B[?25ldone\r\n",
      "\u001B[?25hBuilding wheels for collected packages: jamspell\r\n",
      "  Building wheel for jamspell (setup.py) ... \u001B[?25ldone\r\n",
      "\u001B[?25h  Created wheel for jamspell: filename=jamspell-0.0.12-cp39-cp39-linux_x86_64.whl size=1901024 sha256=12f999b71c361ba070861480a02e92d3afc4e0f332bea2ec4b1851025bbabb54\r\n",
      "  Stored in directory: /tmp/pip-ephem-wheel-cache-t_m_awed/wheels/fa/7e/8f/c23ae02f1556243d33cc2e3bddf98f8cc146e174e5855788b6\r\n",
      "Successfully built jamspell\r\n",
      "Installing collected packages: jamspell\r\n",
      "Successfully installed jamspell-0.0.12\r\n"
     ]
    }
   ],
   "source": [
    "!pip install -I --no-cache-dir jamspell"
   ],
   "metadata": {
    "collapsed": false,
    "pycharm": {
     "name": "#%%\n"
    }
   }
  },
  {
   "cell_type": "code",
   "execution_count": 46,
   "outputs": [
    {
     "name": "stdout",
     "output_type": "stream",
     "text": [
      "Name: jamspell\r\n",
      "Version: 0.0.12\r\n",
      "Summary: spell checker\r\n",
      "Home-page: https://github.com/bakwc/JamSpell\r\n",
      "Author: Filipp Ozinov\r\n",
      "Author-email: fippo@mail.ru\r\n",
      "License: UNKNOWN\r\n",
      "Location: /home/Dmitry.Pogrebnoy/Desktop/MedSpellChecker/venv/lib/python3.9/site-packages\r\n",
      "Requires: \r\n",
      "Required-by: \r\n"
     ]
    }
   ],
   "source": [
    "!pip show jamspell"
   ],
   "metadata": {
    "collapsed": false,
    "pycharm": {
     "name": "#%%\n"
    }
   }
  },
  {
   "cell_type": "code",
   "execution_count": 65,
   "outputs": [],
   "source": [
    "from jamspell import TSpellCorrector\n",
    "jumspell_model_lib = \"../data/junspell/ru_small.bin\""
   ],
   "metadata": {
    "collapsed": false,
    "pycharm": {
     "name": "#%%\n"
    }
   }
  },
  {
   "cell_type": "code",
   "execution_count": 66,
   "outputs": [],
   "source": [
    "def test_jumspell(jumspell_model_lib, input_word_list):\n",
    "    jumspell = TSpellCorrector()\n",
    "    jumspell.LoadLangModel(jumspell_model_lib)\n",
    "\n",
    "    result = []\n",
    "    timer = tqdm(input_word_list)\n",
    "    for word in timer:\n",
    "        suggestions = jumspell.FixFragment(word)\n",
    "        result.append(suggestions)\n",
    "    return  {\"elapsed\" : timer.format_dict[\"elapsed\"], \"corrected_word_list\" : result}"
   ],
   "metadata": {
    "collapsed": false,
    "pycharm": {
     "name": "#%%\n"
    }
   }
  },
  {
   "cell_type": "code",
   "execution_count": 67,
   "outputs": [
    {
     "name": "stderr",
     "output_type": "stream",
     "text": [
      "100%|██████████| 200/200 [00:00<00:00, 1442.58it/s]\n"
     ]
    },
    {
     "name": "stdout",
     "output_type": "stream",
     "text": [
      "original_word_list --- corrected_word --- answer_word_list\n",
      "эктренном --- экстренном --- ['экстренном']\n",
      "синусовго --- синусовго --- ['синусового']\n",
      "даным --- даным --- ['данным', 'данный', 'данные']\n",
      "шнутография --- шнутография --- ['шунтография']\n",
      "сникопальных --- сникопальных --- ['синкопальных']\n",
      "посление --- последние --- ['поселение', 'последний']\n",
      "ходавый --- ходовой --- ['ходовый']\n",
      "анмнезе --- анмнезе --- ['анамнезе', 'анамнез']\n",
      "сентированный --- сентированный --- ['стентированный']\n",
      "самоч --- самом --- ['самочувствие']\n",
      "перевдена --- переведена --- ['переведена']\n",
      "стентированеим --- стентированеим --- ['стентированием', 'стентирование']\n",
      "кардиол --- кардинал --- ['кардиолог,кардиологический']\n",
      "переведна --- переведена --- ['переведена']\n",
      "догосптальном --- догосптальном --- ['догоспитальном']\n",
      "миним --- мини --- ['минимум', 'минимальный']\n",
      "субфебриллитет --- субфебриллитет --- ['субфебрилитет']\n",
      "загрудиные --- загрудиные --- ['загрудинные', 'загрудинный']\n",
      "перферия --- периферия --- ['периферия']\n",
      "течени --- течени --- ['течение']\n",
      "оклюзия --- иллюзия --- ['окклюзия']\n",
      "жнщина --- женщина --- ['женщина']\n",
      "пциент --- пациент --- ['пациент']\n",
      "зарегистирована --- зарегистрирована --- ['зарегистрирована']\n",
      "сегмета --- сегмента --- ['сегмента']\n",
      "клекте --- клетке --- ['клетке']\n",
      "эпид --- спид --- ['эпидемия', 'эпидемиологический', 'эпидуральный']\n",
      "интелектуально --- интелектуально --- ['интеллектуально']\n",
      "нижн --- ниже --- ['нижний']\n",
      "прводилась --- проводилась --- ['проводилась', 'проводить']\n",
      "неуст --- несут --- ['неустановленный']\n",
      "госптализирован --- госпитализирован --- ['госпитализирован']\n",
      "вперые --- впервые --- ['впервые']\n",
      "послеоперационом --- послеоперационом --- ['послеоперационном']\n",
      "госпитализирова --- госпитализирован --- ['госпитализирован']\n",
      "ухудщение --- ухудшение --- ['ухудшение']\n",
      "рентг --- ренты --- ['рентген']\n",
      "дальнешем --- дальнейшем --- ['дальнейшем']\n",
      "троботическая --- троботическая --- ['тромботическая']\n",
      "многосоудистое --- многосоудистое --- ['многососудистое', 'многососудистый']\n",
      "миокрада --- миокарда --- ['миокарда', 'миокард']\n",
      "сопрвождались --- сопровождались --- ['сопровождались']\n",
      "дискмфорт --- дискомфорт --- ['дискомфорт']\n",
      "потлтвостью --- потлтвостью --- ['потливостью']\n",
      "левогожелудочка --- левогожелудочка --- ['левого желудочка', 'левый желудочек']\n",
      "рание --- ранее --- ['ранее', 'ранние']\n",
      "виед --- виде --- ['виде', 'вид']\n",
      "ангинозныеболи --- ангинозныеболи --- ['ангинозные боли', 'ангиозный боль']\n",
      "догоситальном --- догоситальном --- ['догоспитальном']\n",
      "ввполнен --- выполнен --- ['выполнен']\n",
      "чаосв --- часов --- ['часов']\n",
      "октазалась --- оказалась --- ['отказалась']\n",
      "линика --- клиника --- ['клиника']\n",
      "ммента --- момента --- ['момента']\n",
      "проведеной --- проведено --- ['проведенной']\n",
      "выполненяи --- выполнения --- ['выполнения', 'выполнение']\n",
      "леченяи --- лечения --- ['лечения', 'лечение']\n",
      "обтилась --- обтилась --- ['обратилась']\n",
      "повтороно --- повторно --- ['повторно']\n",
      "зарегистриованы --- зарегистрированы --- ['зарегистрированы']\n",
      "отицает --- отрицает --- ['отрицает', 'отрицать']\n",
      "дальнейщем --- дальнейшем --- ['дальнейшем']\n",
      "болисохраняются --- болисохраняются --- ['боли сохраняются']\n",
      "частичынм --- частичынм --- ['частичным']\n",
      "атерокслеротичсекая --- атерокслеротичсекая --- ['атеросклеротическая']\n",
      "деньс --- день --- ['день', 'день с']\n",
      "назначаля --- назначал --- ['назначался']\n",
      "проведеняи --- проведения --- ['проведения']\n",
      "беспакоют --- беспокоит --- ['беспокоят']\n",
      "гипертензи --- гипертензи --- ['гипертензия']\n",
      "воленйбол --- волейбол --- ['волейбол']\n",
      "болезн --- болезни --- ['болезнь']\n",
      "стенокардаа --- стенокардии --- ['стенокардия']\n",
      "продолжалсь --- продолжались --- ['продолжалась']\n",
      "поворное --- повторное --- ['повторное']\n",
      "ощуащет --- ощущает --- ['ощущает']\n",
      "ангигнозного --- ангигнозного --- ['ангинозного', 'ангинозный']\n",
      "диагностичекой --- диагностичекой --- ['диагностической', 'диагностический']\n",
      "поддерживающией --- поддерживающие --- ['поддерживающий']\n",
      "межлопаточнй --- межлопаточнй --- ['межлопаточный']\n",
      "бедреной --- бедреной --- ['бедренной', 'бедренный']\n",
      "гшрядки --- гшрядки --- ['грядки']\n",
      "бассеине --- бассейне --- ['бассейне', 'бассейн']\n",
      "возлуха --- воздуха --- ['воздуха', 'воздух']\n",
      "сенября --- сентября --- ['сентября', 'сентябрь']\n",
      "постояная --- постоянная --- ['постоянная', 'постоянный']\n",
      "рекмоендовнао --- рекомендовано --- ['рекомендовано']\n",
      "поврждения --- повреждения --- ['повреждения']\n",
      "дискофморта --- дискофморта --- ['дискомфорт']\n",
      "импалнтирован --- импалнтирован --- ['имплантирован', 'имплантировать']\n",
      "неочетливая --- неочетливая --- ['неотчетливая', 'неотчетливый']\n",
      "обесвеченный --- обесвеченный --- ['обесцвеченный', 'обеспеченный']\n",
      "серце --- серце --- ['сердце']\n",
      "блезнь --- болезнь --- ['болезнь']\n",
      "лергия --- сергия --- ['аллергия']\n",
      "ука --- ука --- ['рука']\n",
      "изжга --- игра --- ['изжога']\n",
      "жение --- жене --- ['жжение']\n",
      "кашел --- нашел --- ['кашель']\n",
      "рствор --- раствор --- ['раствор']\n",
      "пациен --- пациент --- ['пациент']\n",
      "пожлой --- пожилой --- ['пожилой']\n",
      "лекарсво --- лекарство --- ['лекарство']\n",
      "нпреносимость --- нпреносимость --- ['непереносимость']\n",
      "амупула --- амупула --- ['ампула']\n",
      "гел --- дел --- ['гель']\n",
      "конценрат --- конценрат --- ['концентрат']\n",
      "рилиф --- рилиф --- ['релиф']\n",
      "чссс --- чсср --- ['ЧСС', 'чсс']\n",
      "экгъ --- экг --- ['ЭКГ', 'экг']\n",
      "фибриляция --- фибриляция --- ['фибрилляция']\n",
      "желдочек --- желдочек --- ['желудочек']\n",
      "хрон --- хрон --- ['хронический']\n",
      "гиподин --- господин --- ['гиподинамический']\n",
      "нерный --- черный --- ['нервный']\n",
      "сист --- лист --- ['система']\n",
      "диагоностика --- диагностика --- ['диагностика']\n",
      "гипоксмия --- гипоксмия --- ['гипоксемия']\n",
      "ледокоин --- левочкин --- ['лидокаин']\n",
      "блокато --- блока --- ['блокатор']\n",
      "тахкардия --- тахкардия --- ['тахикардия']\n",
      "малоинвозивный --- малоинвозивный --- ['малоинвазивный']\n",
      "алация --- алания --- ['аблация', 'абляция']\n",
      "имь --- им --- ['ИМ', 'им']\n",
      "паражение --- поражение --- ['поражение']\n",
      "тяжолый --- тяжелый --- ['тяжелый']\n",
      "гастрапластика --- гастрапластика --- ['гастропластика']\n",
      "вс --- вс --- ['вес']\n",
      "лешний --- летний --- ['лишний']\n",
      "орта --- орта --- ['аорта']\n",
      "клапа --- клана --- ['клапан']\n",
      "вент --- сент --- ['вена']\n",
      "палый --- малый --- ['полый']\n",
      "пирикард --- рикардо --- ['перикард']\n",
      "метральный --- центральный --- ['митральный']\n",
      "ултразвук --- ултразвук --- ['ультразвук']\n",
      "херург --- хирург --- ['хирург']\n",
      "кордиолог --- кардиолог --- ['кардиолог']\n",
      "килограм --- килограмм --- ['килограмм']\n",
      "акенезия --- маккензи --- ['акинезия']\n",
      "врхушка --- верхушка --- ['верхушка']\n",
      "апекальный --- апекальный --- ['апикальный']\n",
      "сгмент --- сегмент --- ['сегмент']\n",
      "вес --- вес --- ['весь']\n",
      "сьенка --- стенка --- ['стенка']\n",
      "церкулярный --- церкулярный --- ['циркулярный']\n",
      "сридиный --- середины --- ['срединный']\n",
      "калапаный --- клапаны --- ['клапанный']\n",
      "апарат --- аппарат --- ['аппарат']\n",
      "потология --- патология --- ['патология']\n",
      "перекард --- перекрыт --- ['перикард']\n",
      "праксимальный --- максимальный --- ['проксимальный']\n",
      "деаметр --- диаметр --- ['диаметр']\n",
      "корекция --- коррекция --- ['коррекция']\n",
      "аслажнение --- наслаждение --- ['осложнение']\n",
      "стрдать --- страдать --- ['страдать']\n",
      "гепертонический --- гепертонический --- ['гипертонический']\n",
      "болезн --- болезни --- ['болезнь']\n",
      "одоптировать --- адаптировать --- ['адаптировать']\n",
      "получять --- получить --- ['получать']\n",
      "кансервативный --- консервативный --- ['консервативный']\n",
      "тичение --- течение --- ['течение']\n",
      "пребование --- требование --- ['пребывание']\n",
      "отбиление --- отделение --- ['отделение']\n",
      "самачувствие --- самочувствие --- ['самочувствие']\n",
      "уходшение --- ухудшение --- ['ухудшение']\n",
      "месро --- место --- ['место']\n",
      "пункцыя --- пункты --- ['пункция']\n",
      "особеность --- особенность --- ['особенность']\n",
      "шнут --- кнут --- ['шунт']\n",
      "шнутирование --- шнутирование --- ['шунтирование']\n",
      "готчина --- готчина --- ['гатчина']\n",
      "эхэ --- эхо --- ['эхо']\n",
      "каранарный --- карманный --- ['коронарный']\n",
      "ортерия --- ортерия --- ['артерия']\n",
      "сначимый --- значимый --- ['значимый']\n",
      "стинос --- сильно --- ['стеноз']\n",
      "гаспиализировать --- госпитализировать --- ['госпитализировать']\n",
      "имья --- имя --- ['имя']\n",
      "олмазов --- алмазов --- ['алмазов']\n",
      "прдшствовать --- прдшствовать --- ['предшествовать']\n",
      "стинакардия --- стинакардия --- ['стенокардия']\n",
      "пиринести --- принести --- ['перенести']\n",
      "ифаркт --- инфаркт --- ['инфаркт']\n",
      "моикарда --- миокарда --- ['миокарда']\n",
      "лакализация --- локализация --- ['локализация']\n",
      "спразка --- справка --- ['справка']\n",
      "дальнейшый --- дальнейшей --- ['дальнейший']\n",
      "хроническаянедостаточность --- хроническаянедостаточность --- ['хроническая недостаточность', 'хронический недостаточность']\n",
      "инфарктмиокарда --- инфарктмиокарда --- ['инфаркт миокарда', 'инфаркт миокард']\n",
      "отузла --- отузла --- ['от узла', 'от узел']\n",
      "нарушениеработы --- нарушениеработы --- ['нарушение работы', 'нарушение работа']\n",
      "вминуту --- минуту --- ['в минуту', 'в минута', 'минута']\n",
      "эндокриннойсистемы --- эндокриннойсистемы --- ['эндокринная система', 'эндокринный система']\n",
      "сердечныйритм --- сердечныйритм --- ['сердечный ритм']\n",
      "узловаятахикардия --- узловаятахикардия --- ['узловая тахикардия', 'узловой тахикардия']\n",
      "основныефакторы --- основныефакторы --- ['основной факто', 'основные факторы']\n",
      "остановкасердца --- остановкасердца --- ['остановка сердца', 'остановка сердце']\n",
      "фибрилляцияжелудочков --- фибрилляцияжелудочков --- ['фибрилляция желудочков', 'фибрилляция желудочек']\n",
      "счастотой --- частотой --- ['с частотой', 'с частотаб частота']\n",
      "Right corrected words count - 79 of 200 total\n"
     ]
    },
    {
     "data": {
      "text/plain": "{'words_per_minute': 86250.78913546397,\n 'error_precision': 0.395,\n 'lexical_precision': 0.0,\n 'original_word_list': ['эктренном',\n  'синусовго',\n  'даным',\n  'шнутография',\n  'сникопальных',\n  'посление',\n  'ходавый',\n  'анмнезе',\n  'сентированный',\n  'самоч',\n  'перевдена',\n  'стентированеим',\n  'кардиол',\n  'переведна',\n  'догосптальном',\n  'миним',\n  'субфебриллитет',\n  'загрудиные',\n  'перферия',\n  'течени',\n  'оклюзия',\n  'жнщина',\n  'пциент',\n  'зарегистирована',\n  'сегмета',\n  'клекте',\n  'эпид',\n  'интелектуально',\n  'нижн',\n  'прводилась',\n  'неуст',\n  'госптализирован',\n  'вперые',\n  'послеоперационом',\n  'госпитализирова',\n  'ухудщение',\n  'рентг',\n  'дальнешем',\n  'троботическая',\n  'многосоудистое',\n  'миокрада',\n  'сопрвождались',\n  'дискмфорт',\n  'потлтвостью',\n  'левогожелудочка',\n  'рание',\n  'виед',\n  'ангинозныеболи',\n  'догоситальном',\n  'ввполнен',\n  'чаосв',\n  'октазалась',\n  'линика',\n  'ммента',\n  'проведеной',\n  'выполненяи',\n  'леченяи',\n  'обтилась',\n  'повтороно',\n  'зарегистриованы',\n  'отицает',\n  'дальнейщем',\n  'болисохраняются',\n  'частичынм',\n  'атерокслеротичсекая',\n  'деньс',\n  'назначаля',\n  'проведеняи',\n  'беспакоют',\n  'гипертензи',\n  'воленйбол',\n  'болезн',\n  'стенокардаа',\n  'продолжалсь',\n  'поворное',\n  'ощуащет',\n  'ангигнозного',\n  'диагностичекой',\n  'поддерживающией',\n  'межлопаточнй',\n  'бедреной',\n  'гшрядки',\n  'бассеине',\n  'возлуха',\n  'сенября',\n  'постояная',\n  'рекмоендовнао',\n  'поврждения',\n  'дискофморта',\n  'импалнтирован',\n  'неочетливая',\n  'обесвеченный',\n  'серце',\n  'блезнь',\n  'лергия',\n  'ука',\n  'изжга',\n  'жение',\n  'кашел',\n  'рствор',\n  'пациен',\n  'пожлой',\n  'лекарсво',\n  'нпреносимость',\n  'амупула',\n  'гел',\n  'конценрат',\n  'рилиф',\n  'чссс',\n  'экгъ',\n  'фибриляция',\n  'желдочек',\n  'хрон',\n  'гиподин',\n  'нерный',\n  'сист',\n  'диагоностика',\n  'гипоксмия',\n  'ледокоин',\n  'блокато',\n  'тахкардия',\n  'малоинвозивный',\n  'алация',\n  'имь',\n  'паражение',\n  'тяжолый',\n  'гастрапластика',\n  'вс',\n  'лешний',\n  'орта',\n  'клапа',\n  'вент',\n  'палый',\n  'пирикард',\n  'метральный',\n  'ултразвук',\n  'херург',\n  'кордиолог',\n  'килограм',\n  'акенезия',\n  'врхушка',\n  'апекальный',\n  'сгмент',\n  'вес',\n  'сьенка',\n  'церкулярный',\n  'сридиный',\n  'калапаный',\n  'апарат',\n  'потология',\n  'перекард',\n  'праксимальный',\n  'деаметр',\n  'корекция',\n  'аслажнение',\n  'стрдать',\n  'гепертонический',\n  'болезн',\n  'одоптировать',\n  'получять',\n  'кансервативный',\n  'тичение',\n  'пребование',\n  'отбиление',\n  'самачувствие',\n  'уходшение',\n  'месро',\n  'пункцыя',\n  'особеность',\n  'шнут',\n  'шнутирование',\n  'готчина',\n  'эхэ',\n  'каранарный',\n  'ортерия',\n  'сначимый',\n  'стинос',\n  'гаспиализировать',\n  'имья',\n  'олмазов',\n  'прдшствовать',\n  'стинакардия',\n  'пиринести',\n  'ифаркт',\n  'моикарда',\n  'лакализация',\n  'спразка',\n  'дальнейшый',\n  'хроническаянедостаточность',\n  'инфарктмиокарда',\n  'отузла',\n  'нарушениеработы',\n  'вминуту',\n  'эндокриннойсистемы',\n  'сердечныйритм',\n  'узловаятахикардия',\n  'основныефакторы',\n  'остановкасердца',\n  'фибрилляцияжелудочков',\n  'счастотой'],\n 'corrected_word_list': ['экстренном',\n  'синусовго',\n  'даным',\n  'шнутография',\n  'сникопальных',\n  'последние',\n  'ходовой',\n  'анмнезе',\n  'сентированный',\n  'самом',\n  'переведена',\n  'стентированеим',\n  'кардинал',\n  'переведена',\n  'догосптальном',\n  'мини',\n  'субфебриллитет',\n  'загрудиные',\n  'периферия',\n  'течени',\n  'иллюзия',\n  'женщина',\n  'пациент',\n  'зарегистрирована',\n  'сегмента',\n  'клетке',\n  'спид',\n  'интелектуально',\n  'ниже',\n  'проводилась',\n  'несут',\n  'госпитализирован',\n  'впервые',\n  'послеоперационом',\n  'госпитализирован',\n  'ухудшение',\n  'ренты',\n  'дальнейшем',\n  'троботическая',\n  'многосоудистое',\n  'миокарда',\n  'сопровождались',\n  'дискомфорт',\n  'потлтвостью',\n  'левогожелудочка',\n  'ранее',\n  'виде',\n  'ангинозныеболи',\n  'догоситальном',\n  'выполнен',\n  'часов',\n  'оказалась',\n  'клиника',\n  'момента',\n  'проведено',\n  'выполнения',\n  'лечения',\n  'обтилась',\n  'повторно',\n  'зарегистрированы',\n  'отрицает',\n  'дальнейшем',\n  'болисохраняются',\n  'частичынм',\n  'атерокслеротичсекая',\n  'день',\n  'назначал',\n  'проведения',\n  'беспокоит',\n  'гипертензи',\n  'волейбол',\n  'болезни',\n  'стенокардии',\n  'продолжались',\n  'повторное',\n  'ощущает',\n  'ангигнозного',\n  'диагностичекой',\n  'поддерживающие',\n  'межлопаточнй',\n  'бедреной',\n  'гшрядки',\n  'бассейне',\n  'воздуха',\n  'сентября',\n  'постоянная',\n  'рекомендовано',\n  'повреждения',\n  'дискофморта',\n  'импалнтирован',\n  'неочетливая',\n  'обесвеченный',\n  'серце',\n  'болезнь',\n  'сергия',\n  'ука',\n  'игра',\n  'жене',\n  'нашел',\n  'раствор',\n  'пациент',\n  'пожилой',\n  'лекарство',\n  'нпреносимость',\n  'амупула',\n  'дел',\n  'конценрат',\n  'рилиф',\n  'чсср',\n  'экг',\n  'фибриляция',\n  'желдочек',\n  'хрон',\n  'господин',\n  'черный',\n  'лист',\n  'диагностика',\n  'гипоксмия',\n  'левочкин',\n  'блока',\n  'тахкардия',\n  'малоинвозивный',\n  'алания',\n  'им',\n  'поражение',\n  'тяжелый',\n  'гастрапластика',\n  'вс',\n  'летний',\n  'орта',\n  'клана',\n  'сент',\n  'малый',\n  'рикардо',\n  'центральный',\n  'ултразвук',\n  'хирург',\n  'кардиолог',\n  'килограмм',\n  'маккензи',\n  'верхушка',\n  'апекальный',\n  'сегмент',\n  'вес',\n  'стенка',\n  'церкулярный',\n  'середины',\n  'клапаны',\n  'аппарат',\n  'патология',\n  'перекрыт',\n  'максимальный',\n  'диаметр',\n  'коррекция',\n  'наслаждение',\n  'страдать',\n  'гепертонический',\n  'болезни',\n  'адаптировать',\n  'получить',\n  'консервативный',\n  'течение',\n  'требование',\n  'отделение',\n  'самочувствие',\n  'ухудшение',\n  'место',\n  'пункты',\n  'особенность',\n  'кнут',\n  'шнутирование',\n  'готчина',\n  'эхо',\n  'карманный',\n  'ортерия',\n  'значимый',\n  'сильно',\n  'госпитализировать',\n  'имя',\n  'алмазов',\n  'прдшствовать',\n  'стинакардия',\n  'принести',\n  'инфаркт',\n  'миокарда',\n  'локализация',\n  'справка',\n  'дальнейшей',\n  'хроническаянедостаточность',\n  'инфарктмиокарда',\n  'отузла',\n  'нарушениеработы',\n  'минуту',\n  'эндокриннойсистемы',\n  'сердечныйритм',\n  'узловаятахикардия',\n  'основныефакторы',\n  'остановкасердца',\n  'фибрилляцияжелудочков',\n  'частотой'],\n 'answer_word_list': [['экстренном'],\n  ['синусового'],\n  ['данным', 'данный', 'данные'],\n  ['шунтография'],\n  ['синкопальных'],\n  ['поселение', 'последний'],\n  ['ходовый'],\n  ['анамнезе', 'анамнез'],\n  ['стентированный'],\n  ['самочувствие'],\n  ['переведена'],\n  ['стентированием', 'стентирование'],\n  ['кардиолог,кардиологический'],\n  ['переведена'],\n  ['догоспитальном'],\n  ['минимум', 'минимальный'],\n  ['субфебрилитет'],\n  ['загрудинные', 'загрудинный'],\n  ['периферия'],\n  ['течение'],\n  ['окклюзия'],\n  ['женщина'],\n  ['пациент'],\n  ['зарегистрирована'],\n  ['сегмента'],\n  ['клетке'],\n  ['эпидемия', 'эпидемиологический', 'эпидуральный'],\n  ['интеллектуально'],\n  ['нижний'],\n  ['проводилась', 'проводить'],\n  ['неустановленный'],\n  ['госпитализирован'],\n  ['впервые'],\n  ['послеоперационном'],\n  ['госпитализирован'],\n  ['ухудшение'],\n  ['рентген'],\n  ['дальнейшем'],\n  ['тромботическая'],\n  ['многососудистое', 'многососудистый'],\n  ['миокарда', 'миокард'],\n  ['сопровождались'],\n  ['дискомфорт'],\n  ['потливостью'],\n  ['левого желудочка', 'левый желудочек'],\n  ['ранее', 'ранние'],\n  ['виде', 'вид'],\n  ['ангинозные боли', 'ангиозный боль'],\n  ['догоспитальном'],\n  ['выполнен'],\n  ['часов'],\n  ['отказалась'],\n  ['клиника'],\n  ['момента'],\n  ['проведенной'],\n  ['выполнения', 'выполнение'],\n  ['лечения', 'лечение'],\n  ['обратилась'],\n  ['повторно'],\n  ['зарегистрированы'],\n  ['отрицает', 'отрицать'],\n  ['дальнейшем'],\n  ['боли сохраняются'],\n  ['частичным'],\n  ['атеросклеротическая'],\n  ['день', 'день с'],\n  ['назначался'],\n  ['проведения'],\n  ['беспокоят'],\n  ['гипертензия'],\n  ['волейбол'],\n  ['болезнь'],\n  ['стенокардия'],\n  ['продолжалась'],\n  ['повторное'],\n  ['ощущает'],\n  ['ангинозного', 'ангинозный'],\n  ['диагностической', 'диагностический'],\n  ['поддерживающий'],\n  ['межлопаточный'],\n  ['бедренной', 'бедренный'],\n  ['грядки'],\n  ['бассейне', 'бассейн'],\n  ['воздуха', 'воздух'],\n  ['сентября', 'сентябрь'],\n  ['постоянная', 'постоянный'],\n  ['рекомендовано'],\n  ['повреждения'],\n  ['дискомфорт'],\n  ['имплантирован', 'имплантировать'],\n  ['неотчетливая', 'неотчетливый'],\n  ['обесцвеченный', 'обеспеченный'],\n  ['сердце'],\n  ['болезнь'],\n  ['аллергия'],\n  ['рука'],\n  ['изжога'],\n  ['жжение'],\n  ['кашель'],\n  ['раствор'],\n  ['пациент'],\n  ['пожилой'],\n  ['лекарство'],\n  ['непереносимость'],\n  ['ампула'],\n  ['гель'],\n  ['концентрат'],\n  ['релиф'],\n  ['ЧСС', 'чсс'],\n  ['ЭКГ', 'экг'],\n  ['фибрилляция'],\n  ['желудочек'],\n  ['хронический'],\n  ['гиподинамический'],\n  ['нервный'],\n  ['система'],\n  ['диагностика'],\n  ['гипоксемия'],\n  ['лидокаин'],\n  ['блокатор'],\n  ['тахикардия'],\n  ['малоинвазивный'],\n  ['аблация', 'абляция'],\n  ['ИМ', 'им'],\n  ['поражение'],\n  ['тяжелый'],\n  ['гастропластика'],\n  ['вес'],\n  ['лишний'],\n  ['аорта'],\n  ['клапан'],\n  ['вена'],\n  ['полый'],\n  ['перикард'],\n  ['митральный'],\n  ['ультразвук'],\n  ['хирург'],\n  ['кардиолог'],\n  ['килограмм'],\n  ['акинезия'],\n  ['верхушка'],\n  ['апикальный'],\n  ['сегмент'],\n  ['весь'],\n  ['стенка'],\n  ['циркулярный'],\n  ['срединный'],\n  ['клапанный'],\n  ['аппарат'],\n  ['патология'],\n  ['перикард'],\n  ['проксимальный'],\n  ['диаметр'],\n  ['коррекция'],\n  ['осложнение'],\n  ['страдать'],\n  ['гипертонический'],\n  ['болезнь'],\n  ['адаптировать'],\n  ['получать'],\n  ['консервативный'],\n  ['течение'],\n  ['пребывание'],\n  ['отделение'],\n  ['самочувствие'],\n  ['ухудшение'],\n  ['место'],\n  ['пункция'],\n  ['особенность'],\n  ['шунт'],\n  ['шунтирование'],\n  ['гатчина'],\n  ['эхо'],\n  ['коронарный'],\n  ['артерия'],\n  ['значимый'],\n  ['стеноз'],\n  ['госпитализировать'],\n  ['имя'],\n  ['алмазов'],\n  ['предшествовать'],\n  ['стенокардия'],\n  ['перенести'],\n  ['инфаркт'],\n  ['миокарда'],\n  ['локализация'],\n  ['справка'],\n  ['дальнейший'],\n  ['хроническая недостаточность', 'хронический недостаточность'],\n  ['инфаркт миокарда', 'инфаркт миокард'],\n  ['от узла', 'от узел'],\n  ['нарушение работы', 'нарушение работа'],\n  ['в минуту', 'в минута', 'минута'],\n  ['эндокринная система', 'эндокринный система'],\n  ['сердечный ритм'],\n  ['узловая тахикардия', 'узловой тахикардия'],\n  ['основной факто', 'основные факторы'],\n  ['остановка сердца', 'остановка сердце'],\n  ['фибрилляция желудочков', 'фибрилляция желудочек'],\n  ['с частотой', 'с частотаб частота']]}"
     },
     "execution_count": 67,
     "metadata": {},
     "output_type": "execute_result"
    }
   ],
   "source": [
    "test_jumspell_result = compute_all_metrics(\n",
    "    lambda : test_jumspell(jumspell_model_lib, error_precision_test_word_list),\n",
    "    lambda : test_jumspell(jumspell_model_lib, lexical_precision_test_word_list),\n",
    "    error_precision_test_word_list, error_precision_test_answers, lexical_precision_test_word_list)\n",
    "test_jumspell_result"
   ],
   "metadata": {
    "collapsed": false,
    "pycharm": {
     "name": "#%%\n"
    }
   }
  },
  {
   "cell_type": "markdown",
   "source": [
    "# Test Language-tool (language-tool-python) - https://github.com/jxmorris12/language_tool_python"
   ],
   "metadata": {
    "collapsed": false
   }
  },
  {
   "cell_type": "code",
   "execution_count": 49,
   "outputs": [
    {
     "name": "stdout",
     "output_type": "stream",
     "text": [
      "Collecting language-tool-python\r\n",
      "  Downloading language_tool_python-2.6.2-py3-none-any.whl (30 kB)\r\n",
      "Requirement already satisfied: tqdm in /home/Dmitry.Pogrebnoy/Desktop/MedSpellChecker/venv/lib/python3.9/site-packages (from language-tool-python) (4.62.3)\r\n",
      "Collecting requests\r\n",
      "  Downloading requests-2.26.0-py2.py3-none-any.whl (62 kB)\r\n",
      "     |████████████████████████████████| 62 kB 496 kB/s            \r\n",
      "\u001B[?25hCollecting idna<4,>=2.5\r\n",
      "  Downloading idna-3.3-py3-none-any.whl (61 kB)\r\n",
      "     |████████████████████████████████| 61 kB 851 kB/s            \r\n",
      "\u001B[?25hCollecting certifi>=2017.4.17\r\n",
      "  Downloading certifi-2021.10.8-py2.py3-none-any.whl (149 kB)\r\n",
      "     |████████████████████████████████| 149 kB 1.1 MB/s            \r\n",
      "\u001B[?25hCollecting urllib3<1.27,>=1.21.1\r\n",
      "  Downloading urllib3-1.26.7-py2.py3-none-any.whl (138 kB)\r\n",
      "     |████████████████████████████████| 138 kB 3.0 MB/s            \r\n",
      "\u001B[?25hCollecting charset-normalizer~=2.0.0\r\n",
      "  Downloading charset_normalizer-2.0.9-py3-none-any.whl (39 kB)\r\n",
      "Installing collected packages: urllib3, idna, charset-normalizer, certifi, requests, language-tool-python\r\n",
      "Successfully installed certifi-2021.10.8 charset-normalizer-2.0.9 idna-3.3 language-tool-python-2.6.2 requests-2.26.0 urllib3-1.26.7\r\n"
     ]
    }
   ],
   "source": [
    "!pip install language-tool-python"
   ],
   "metadata": {
    "collapsed": false,
    "pycharm": {
     "name": "#%%\n"
    }
   }
  },
  {
   "cell_type": "code",
   "execution_count": 45,
   "outputs": [
    {
     "name": "stdout",
     "output_type": "stream",
     "text": [
      "Name: language-tool-python\r\n",
      "Version: 2.6.2\r\n",
      "Summary: Checks grammar using LanguageTool.\r\n",
      "Home-page: https://github.com/jxmorris12/language_tool_python\r\n",
      "Author: Jack Morris\r\n",
      "Author-email: jxmorris12@gmail.com\r\n",
      "License: GNU GPL\r\n",
      "Location: /home/Dmitry.Pogrebnoy/Desktop/MedSpellChecker/venv/lib/python3.9/site-packages\r\n",
      "Requires: requests, tqdm\r\n",
      "Required-by: \r\n"
     ]
    }
   ],
   "source": [
    "!pip show language-tool-python"
   ],
   "metadata": {
    "collapsed": false,
    "pycharm": {
     "name": "#%%\n"
    }
   }
  },
  {
   "cell_type": "code",
   "execution_count": 50,
   "outputs": [],
   "source": [
    "from language_tool_python import LanguageTool"
   ],
   "metadata": {
    "collapsed": false,
    "pycharm": {
     "name": "#%%\n"
    }
   }
  },
  {
   "cell_type": "code",
   "execution_count": 68,
   "outputs": [],
   "source": [
    "def test_language_tool(input_word_list):\n",
    "    tool = LanguageTool('ru')\n",
    "    result = []\n",
    "    timer = tqdm(input_word_list)\n",
    "    for word in timer:\n",
    "        suggestions = tool.correct(word)\n",
    "        result.append(suggestions)\n",
    "    return  {\"elapsed\" : timer.format_dict[\"elapsed\"], \"corrected_word_list\" : result}"
   ],
   "metadata": {
    "collapsed": false,
    "pycharm": {
     "name": "#%%\n"
    }
   }
  },
  {
   "cell_type": "code",
   "execution_count": 69,
   "outputs": [
    {
     "name": "stderr",
     "output_type": "stream",
     "text": [
      "100%|██████████| 200/200 [00:12<00:00, 15.67it/s]\n"
     ]
    },
    {
     "name": "stdout",
     "output_type": "stream",
     "text": [
      "original_word_list --- corrected_word --- answer_word_list\n",
      "эктренном --- экстренном --- ['экстренном']\n",
      "синусовго --- синусового --- ['синусового']\n",
      "даным --- данным --- ['данным', 'данный', 'данные']\n",
      "шнутография --- фотография --- ['шунтография']\n",
      "сникопальных --- сник опальных --- ['синкопальных']\n",
      "посление --- послание --- ['поселение', 'последний']\n",
      "ходавый --- ходовой --- ['ходовый']\n",
      "анмнезе --- анамнезе --- ['анамнезе', 'анамнез']\n",
      "сентированный --- сен тированный --- ['стентированный']\n",
      "самоч --- само --- ['самочувствие']\n",
      "перевдена --- передвину --- ['переведена']\n",
      "стентированеим --- агентированием --- ['стентированием', 'стентирование']\n",
      "кардиол --- кардио --- ['кардиолог,кардиологический']\n",
      "переведна --- переведена --- ['переведена']\n",
      "догосптальном --- догоспитальном --- ['догоспитальном']\n",
      "миним --- менем --- ['минимум', 'минимальный']\n",
      "субфебриллитет --- субфебрилитет --- ['субфебрилитет']\n",
      "загрудиные --- загруженные --- ['загрудинные', 'загрудинный']\n",
      "перферия --- периферия --- ['периферия']\n",
      "течени --- тичине --- ['течение']\n",
      "оклюзия --- окклюзия --- ['окклюзия']\n",
      "жнщина --- женщина --- ['женщина']\n",
      "пциент --- пациент --- ['пациент']\n",
      "зарегистирована --- зарегистрирована --- ['зарегистрирована']\n",
      "сегмета --- сегмента --- ['сегмента']\n",
      "клекте --- клёкоте --- ['клетке']\n",
      "эпид --- спид --- ['эпидемия', 'эпидемиологический', 'эпидуральный']\n",
      "интелектуально --- интеллектуально --- ['интеллектуально']\n",
      "нижн --- нежно --- ['нижний']\n",
      "прводилась --- поводилась --- ['проводилась', 'проводить']\n",
      "неуст --- неуют --- ['неустановленный']\n",
      "госптализирован --- госпитализирован --- ['госпитализирован']\n",
      "вперые --- впервые --- ['впервые']\n",
      "послеоперационом --- послеоперационном --- ['послеоперационном']\n",
      "госпитализирова --- госпитализировал --- ['госпитализирован']\n",
      "ухудщение --- ухудшение --- ['ухудшение']\n",
      "рентг --- рента --- ['рентген']\n",
      "дальнешем --- дальнейшем --- ['дальнейшем']\n",
      "троботическая --- акробатическая --- ['тромботическая']\n",
      "многосоудистое --- многосернистое --- ['многососудистое', 'многососудистый']\n",
      "миокрада --- миокарда --- ['миокарда', 'миокард']\n",
      "сопрвождались --- сопровождались --- ['сопровождались']\n",
      "дискмфорт --- дискомфорт --- ['дискомфорт']\n",
      "потлтвостью --- потливостью --- ['потливостью']\n",
      "левогожелудочка --- левого желудочка --- ['левого желудочка', 'левый желудочек']\n",
      "рание --- ранее --- ['ранее', 'ранние']\n",
      "виед --- вид --- ['виде', 'вид']\n",
      "ангинозныеболи --- ангинозные боли --- ['ангинозные боли', 'ангиозный боль']\n",
      "догоситальном --- догоспитальном --- ['догоспитальном']\n",
      "ввполнен --- выполнен --- ['выполнен']\n",
      "чаосв --- чаёв --- ['часов']\n",
      "октазалась --- оказалась --- ['отказалась']\n",
      "линика --- ленника --- ['клиника']\n",
      "ммента --- мента --- ['момента']\n",
      "проведеной --- проведённой --- ['проведенной']\n",
      "выполненяи --- выполнение --- ['выполнения', 'выполнение']\n",
      "леченяи --- лечение --- ['лечения', 'лечение']\n",
      "обтилась --- оббилась --- ['обратилась']\n",
      "повтороно --- повторно --- ['повторно']\n",
      "зарегистриованы --- зарегистрированы --- ['зарегистрированы']\n",
      "отицает --- отекает --- ['отрицает', 'отрицать']\n",
      "дальнейщем --- дальнейшем --- ['дальнейшем']\n",
      "болисохраняются --- боли сохраняются --- ['боли сохраняются']\n",
      "частичынм --- частичным --- ['частичным']\n",
      "атерокслеротичсекая --- атеросклеротическая --- ['атеросклеротическая']\n",
      "деньс --- день --- ['день', 'день с']\n",
      "назначаля --- назначал --- ['назначался']\n",
      "проведеняи --- проведение --- ['проведения']\n",
      "беспакоют --- беспокоить --- ['беспокоят']\n",
      "гипертензи --- гипертензию --- ['гипертензия']\n",
      "воленйбол --- волейбол --- ['волейбол']\n",
      "болезн --- болезнь --- ['болезнь']\n",
      "стенокардаа --- стенокардия --- ['стенокардия']\n",
      "продолжалсь --- продолжаюсь --- ['продолжалась']\n",
      "поворное --- говорное --- ['повторное']\n",
      "ощуащет --- ощущает --- ['ощущает']\n",
      "ангигнозного --- ангинозного --- ['ангинозного', 'ангинозный']\n",
      "диагностичекой --- диагностической --- ['диагностической', 'диагностический']\n",
      "поддерживающией --- поддерживающее --- ['поддерживающий']\n",
      "межлопаточнй --- межлопаточной --- ['межлопаточный']\n",
      "бедреной --- бедренной --- ['бедренной', 'бедренный']\n",
      "гшрядки --- грядки --- ['грядки']\n",
      "бассеине --- бассейне --- ['бассейне', 'бассейн']\n",
      "возлуха --- воздуха --- ['воздуха', 'воздух']\n",
      "сенября --- сентября --- ['сентября', 'сентябрь']\n",
      "постояная --- постоянная --- ['постоянная', 'постоянный']\n",
      "рекмоендовнао --- рекомендовано --- ['рекомендовано']\n",
      "поврждения --- повреждения --- ['повреждения']\n",
      "дискофморта --- дискомфорта --- ['дискомфорт']\n",
      "импалнтирован --- имплантирован --- ['имплантирован', 'имплантировать']\n",
      "неочетливая --- неотчетливая --- ['неотчетливая', 'неотчетливый']\n",
      "обесвеченный --- обесцвеченный --- ['обесцвеченный', 'обеспеченный']\n",
      "серце --- сердце --- ['сердце']\n",
      "блезнь --- болезнь --- ['болезнь']\n",
      "лергия --- гергия --- ['аллергия']\n",
      "ука --- ука --- ['рука']\n",
      "изжга --- изжога --- ['изжога']\n",
      "жение --- жении --- ['жжение']\n",
      "кашел --- котел --- ['кашель']\n",
      "рствор --- раствор --- ['раствор']\n",
      "пациен --- пациент --- ['пациент']\n",
      "пожлой --- пожилой --- ['пожилой']\n",
      "лекарсво --- лекарство --- ['лекарство']\n",
      "нпреносимость --- непереносимость --- ['непереносимость']\n",
      "амупула --- ампула --- ['ампула']\n",
      "гел --- гелл --- ['гель']\n",
      "конценрат --- концентрат --- ['концентрат']\n",
      "рилиф --- реле --- ['релиф']\n",
      "чссс --- чсср --- ['ЧСС', 'чсс']\n",
      "экгъ --- его --- ['ЭКГ', 'экг']\n",
      "фибриляция --- фибрилляция --- ['фибрилляция']\n",
      "желдочек --- желудочек --- ['желудочек']\n",
      "хрон --- хрен --- ['хронический']\n",
      "гиподин --- гип один --- ['гиподинамический']\n",
      "нерный --- черный --- ['нервный']\n",
      "сист --- сист --- ['система']\n",
      "диагоностика --- диагностика --- ['диагностика']\n",
      "гипоксмия --- гипоксемия --- ['гипоксемия']\n",
      "ледокоин --- лидокаин --- ['лидокаин']\n",
      "блокато --- блокатор --- ['блокатор']\n",
      "тахкардия --- тахикардия --- ['тахикардия']\n",
      "малоинвозивный --- малоинвозивный --- ['малоинвазивный']\n",
      "алация --- акация --- ['аблация', 'абляция']\n",
      "имь --- имя --- ['ИМ', 'им']\n",
      "паражение --- поражение --- ['поражение']\n",
      "тяжолый --- тяжёлый --- ['тяжелый']\n",
      "гастрапластика --- аутопластика --- ['гастропластика']\n",
      "вс --- вс --- ['вес']\n",
      "лешний --- лишний --- ['лишний']\n",
      "орта --- орта --- ['аорта']\n",
      "клапа --- клапа --- ['клапан']\n",
      "вент --- вент --- ['вена']\n",
      "палый --- палый --- ['полый']\n",
      "пирикард --- перикард --- ['перикард']\n",
      "метральный --- митральный --- ['митральный']\n",
      "ултразвук --- ультразвук --- ['ультразвук']\n",
      "херург --- хирург --- ['хирург']\n",
      "кордиолог --- кардиолог --- ['кардиолог']\n",
      "килограм --- килограмм --- ['килограмм']\n",
      "акенезия --- акинезия --- ['акинезия']\n",
      "врхушка --- верхушка --- ['верхушка']\n",
      "апекальный --- апикальный --- ['апикальный']\n",
      "сгмент --- сегмент --- ['сегмент']\n",
      "вес --- вес --- ['весь']\n",
      "сьенка --- стенка --- ['стенка']\n",
      "церкулярный --- циркулярный --- ['циркулярный']\n",
      "сридиный --- срединный --- ['срединный']\n",
      "калапаный --- колупанный --- ['клапанный']\n",
      "апарат --- опорот --- ['аппарат']\n",
      "потология --- патология --- ['патология']\n",
      "перекард --- перикард --- ['перикард']\n",
      "праксимальный --- проксимальный --- ['проксимальный']\n",
      "деаметр --- диаметр --- ['диаметр']\n",
      "корекция --- коррекция --- ['коррекция']\n",
      "аслажнение --- осложнение --- ['осложнение']\n",
      "стрдать --- страдать --- ['страдать']\n",
      "гепертонический --- гипертонический --- ['гипертонический']\n",
      "болезн --- болезнь --- ['болезнь']\n",
      "одоптировать --- адоптировать --- ['адаптировать']\n",
      "получять --- получить --- ['получать']\n",
      "кансервативный --- консервативный --- ['консервативный']\n",
      "тичение --- течение --- ['течение']\n",
      "пребование --- требование --- ['пребывание']\n",
      "отбиление --- отделение --- ['отделение']\n",
      "самачувствие --- самочувствие --- ['самочувствие']\n",
      "уходшение --- ухудшение --- ['ухудшение']\n",
      "месро --- место --- ['место']\n",
      "пункцыя --- пункция --- ['пункция']\n",
      "особеность --- особенность --- ['особенность']\n",
      "шнут --- шнур --- ['шунт']\n",
      "шнутирование --- шунтирование --- ['шунтирование']\n",
      "готчина --- вотчина --- ['гатчина']\n",
      "эхэ --- эхе --- ['эхо']\n",
      "каранарный --- коронарный --- ['коронарный']\n",
      "ортерия --- артерия --- ['артерия']\n",
      "сначимый --- значимый --- ['значимый']\n",
      "стинос --- стенной --- ['стеноз']\n",
      "гаспиализировать --- госпитализировать --- ['госпитализировать']\n",
      "имья --- имя --- ['имя']\n",
      "олмазов --- алмазов --- ['алмазов']\n",
      "прдшствовать --- предшествовать --- ['предшествовать']\n",
      "стинакардия --- стенокардия --- ['стенокардия']\n",
      "пиринести --- перенести --- ['перенести']\n",
      "ифаркт --- инфаркт --- ['инфаркт']\n",
      "моикарда --- миокарда --- ['миокарда']\n",
      "лакализация --- локализация --- ['локализация']\n",
      "спразка --- справка --- ['справка']\n",
      "дальнейшый --- дальнейший --- ['дальнейший']\n",
      "хроническаянедостаточность --- хроническая недостаточность --- ['хроническая недостаточность', 'хронический недостаточность']\n",
      "инфарктмиокарда --- инфаркт миокарда --- ['инфаркт миокарда', 'инфаркт миокард']\n",
      "отузла --- от узла --- ['от узла', 'от узел']\n",
      "нарушениеработы --- нарушение работы --- ['нарушение работы', 'нарушение работа']\n",
      "вминуту --- минуту --- ['в минуту', 'в минута', 'минута']\n",
      "эндокриннойсистемы --- эндокринной системы --- ['эндокринная система', 'эндокринный система']\n",
      "сердечныйритм --- сердечный ритм --- ['сердечный ритм']\n",
      "узловаятахикардия --- узловая тахикардия --- ['узловая тахикардия', 'узловой тахикардия']\n",
      "основныефакторы --- основные факторы --- ['основной факто', 'основные факторы']\n",
      "остановкасердца --- остановка сердца --- ['остановка сердца', 'остановка сердце']\n",
      "фибрилляцияжелудочков --- фибрилляция желудочков --- ['фибрилляция желудочков', 'фибрилляция желудочек']\n",
      "счастотой --- частотой --- ['с частотой', 'с частотаб частота']\n",
      "Right corrected words count - 128 of 200 total\n"
     ]
    },
    {
     "data": {
      "text/plain": "{'words_per_minute': 940.002218728534,\n 'error_precision': 0.64,\n 'lexical_precision': 0.0,\n 'original_word_list': ['эктренном',\n  'синусовго',\n  'даным',\n  'шнутография',\n  'сникопальных',\n  'посление',\n  'ходавый',\n  'анмнезе',\n  'сентированный',\n  'самоч',\n  'перевдена',\n  'стентированеим',\n  'кардиол',\n  'переведна',\n  'догосптальном',\n  'миним',\n  'субфебриллитет',\n  'загрудиные',\n  'перферия',\n  'течени',\n  'оклюзия',\n  'жнщина',\n  'пциент',\n  'зарегистирована',\n  'сегмета',\n  'клекте',\n  'эпид',\n  'интелектуально',\n  'нижн',\n  'прводилась',\n  'неуст',\n  'госптализирован',\n  'вперые',\n  'послеоперационом',\n  'госпитализирова',\n  'ухудщение',\n  'рентг',\n  'дальнешем',\n  'троботическая',\n  'многосоудистое',\n  'миокрада',\n  'сопрвождались',\n  'дискмфорт',\n  'потлтвостью',\n  'левогожелудочка',\n  'рание',\n  'виед',\n  'ангинозныеболи',\n  'догоситальном',\n  'ввполнен',\n  'чаосв',\n  'октазалась',\n  'линика',\n  'ммента',\n  'проведеной',\n  'выполненяи',\n  'леченяи',\n  'обтилась',\n  'повтороно',\n  'зарегистриованы',\n  'отицает',\n  'дальнейщем',\n  'болисохраняются',\n  'частичынм',\n  'атерокслеротичсекая',\n  'деньс',\n  'назначаля',\n  'проведеняи',\n  'беспакоют',\n  'гипертензи',\n  'воленйбол',\n  'болезн',\n  'стенокардаа',\n  'продолжалсь',\n  'поворное',\n  'ощуащет',\n  'ангигнозного',\n  'диагностичекой',\n  'поддерживающией',\n  'межлопаточнй',\n  'бедреной',\n  'гшрядки',\n  'бассеине',\n  'возлуха',\n  'сенября',\n  'постояная',\n  'рекмоендовнао',\n  'поврждения',\n  'дискофморта',\n  'импалнтирован',\n  'неочетливая',\n  'обесвеченный',\n  'серце',\n  'блезнь',\n  'лергия',\n  'ука',\n  'изжга',\n  'жение',\n  'кашел',\n  'рствор',\n  'пациен',\n  'пожлой',\n  'лекарсво',\n  'нпреносимость',\n  'амупула',\n  'гел',\n  'конценрат',\n  'рилиф',\n  'чссс',\n  'экгъ',\n  'фибриляция',\n  'желдочек',\n  'хрон',\n  'гиподин',\n  'нерный',\n  'сист',\n  'диагоностика',\n  'гипоксмия',\n  'ледокоин',\n  'блокато',\n  'тахкардия',\n  'малоинвозивный',\n  'алация',\n  'имь',\n  'паражение',\n  'тяжолый',\n  'гастрапластика',\n  'вс',\n  'лешний',\n  'орта',\n  'клапа',\n  'вент',\n  'палый',\n  'пирикард',\n  'метральный',\n  'ултразвук',\n  'херург',\n  'кордиолог',\n  'килограм',\n  'акенезия',\n  'врхушка',\n  'апекальный',\n  'сгмент',\n  'вес',\n  'сьенка',\n  'церкулярный',\n  'сридиный',\n  'калапаный',\n  'апарат',\n  'потология',\n  'перекард',\n  'праксимальный',\n  'деаметр',\n  'корекция',\n  'аслажнение',\n  'стрдать',\n  'гепертонический',\n  'болезн',\n  'одоптировать',\n  'получять',\n  'кансервативный',\n  'тичение',\n  'пребование',\n  'отбиление',\n  'самачувствие',\n  'уходшение',\n  'месро',\n  'пункцыя',\n  'особеность',\n  'шнут',\n  'шнутирование',\n  'готчина',\n  'эхэ',\n  'каранарный',\n  'ортерия',\n  'сначимый',\n  'стинос',\n  'гаспиализировать',\n  'имья',\n  'олмазов',\n  'прдшствовать',\n  'стинакардия',\n  'пиринести',\n  'ифаркт',\n  'моикарда',\n  'лакализация',\n  'спразка',\n  'дальнейшый',\n  'хроническаянедостаточность',\n  'инфарктмиокарда',\n  'отузла',\n  'нарушениеработы',\n  'вминуту',\n  'эндокриннойсистемы',\n  'сердечныйритм',\n  'узловаятахикардия',\n  'основныефакторы',\n  'остановкасердца',\n  'фибрилляцияжелудочков',\n  'счастотой'],\n 'corrected_word_list': ['экстренном',\n  'синусового',\n  'данным',\n  'фотография',\n  'сник опальных',\n  'послание',\n  'ходовой',\n  'анамнезе',\n  'сен тированный',\n  'само',\n  'передвину',\n  'агентированием',\n  'кардио',\n  'переведена',\n  'догоспитальном',\n  'менем',\n  'субфебрилитет',\n  'загруженные',\n  'периферия',\n  'тичине',\n  'окклюзия',\n  'женщина',\n  'пациент',\n  'зарегистрирована',\n  'сегмента',\n  'клёкоте',\n  'спид',\n  'интеллектуально',\n  'нежно',\n  'поводилась',\n  'неуют',\n  'госпитализирован',\n  'впервые',\n  'послеоперационном',\n  'госпитализировал',\n  'ухудшение',\n  'рента',\n  'дальнейшем',\n  'акробатическая',\n  'многосернистое',\n  'миокарда',\n  'сопровождались',\n  'дискомфорт',\n  'потливостью',\n  'левого желудочка',\n  'ранее',\n  'вид',\n  'ангинозные боли',\n  'догоспитальном',\n  'выполнен',\n  'чаёв',\n  'оказалась',\n  'ленника',\n  'мента',\n  'проведённой',\n  'выполнение',\n  'лечение',\n  'оббилась',\n  'повторно',\n  'зарегистрированы',\n  'отекает',\n  'дальнейшем',\n  'боли сохраняются',\n  'частичным',\n  'атеросклеротическая',\n  'день',\n  'назначал',\n  'проведение',\n  'беспокоить',\n  'гипертензию',\n  'волейбол',\n  'болезнь',\n  'стенокардия',\n  'продолжаюсь',\n  'говорное',\n  'ощущает',\n  'ангинозного',\n  'диагностической',\n  'поддерживающее',\n  'межлопаточной',\n  'бедренной',\n  'грядки',\n  'бассейне',\n  'воздуха',\n  'сентября',\n  'постоянная',\n  'рекомендовано',\n  'повреждения',\n  'дискомфорта',\n  'имплантирован',\n  'неотчетливая',\n  'обесцвеченный',\n  'сердце',\n  'болезнь',\n  'гергия',\n  'ука',\n  'изжога',\n  'жении',\n  'котел',\n  'раствор',\n  'пациент',\n  'пожилой',\n  'лекарство',\n  'непереносимость',\n  'ампула',\n  'гелл',\n  'концентрат',\n  'реле',\n  'чсср',\n  'его',\n  'фибрилляция',\n  'желудочек',\n  'хрен',\n  'гип один',\n  'черный',\n  'сист',\n  'диагностика',\n  'гипоксемия',\n  'лидокаин',\n  'блокатор',\n  'тахикардия',\n  'малоинвозивный',\n  'акация',\n  'имя',\n  'поражение',\n  'тяжёлый',\n  'аутопластика',\n  'вс',\n  'лишний',\n  'орта',\n  'клапа',\n  'вент',\n  'палый',\n  'перикард',\n  'митральный',\n  'ультразвук',\n  'хирург',\n  'кардиолог',\n  'килограмм',\n  'акинезия',\n  'верхушка',\n  'апикальный',\n  'сегмент',\n  'вес',\n  'стенка',\n  'циркулярный',\n  'срединный',\n  'колупанный',\n  'опорот',\n  'патология',\n  'перикард',\n  'проксимальный',\n  'диаметр',\n  'коррекция',\n  'осложнение',\n  'страдать',\n  'гипертонический',\n  'болезнь',\n  'адоптировать',\n  'получить',\n  'консервативный',\n  'течение',\n  'требование',\n  'отделение',\n  'самочувствие',\n  'ухудшение',\n  'место',\n  'пункция',\n  'особенность',\n  'шнур',\n  'шунтирование',\n  'вотчина',\n  'эхе',\n  'коронарный',\n  'артерия',\n  'значимый',\n  'стенной',\n  'госпитализировать',\n  'имя',\n  'алмазов',\n  'предшествовать',\n  'стенокардия',\n  'перенести',\n  'инфаркт',\n  'миокарда',\n  'локализация',\n  'справка',\n  'дальнейший',\n  'хроническая недостаточность',\n  'инфаркт миокарда',\n  'от узла',\n  'нарушение работы',\n  'минуту',\n  'эндокринной системы',\n  'сердечный ритм',\n  'узловая тахикардия',\n  'основные факторы',\n  'остановка сердца',\n  'фибрилляция желудочков',\n  'частотой'],\n 'answer_word_list': [['экстренном'],\n  ['синусового'],\n  ['данным', 'данный', 'данные'],\n  ['шунтография'],\n  ['синкопальных'],\n  ['поселение', 'последний'],\n  ['ходовый'],\n  ['анамнезе', 'анамнез'],\n  ['стентированный'],\n  ['самочувствие'],\n  ['переведена'],\n  ['стентированием', 'стентирование'],\n  ['кардиолог,кардиологический'],\n  ['переведена'],\n  ['догоспитальном'],\n  ['минимум', 'минимальный'],\n  ['субфебрилитет'],\n  ['загрудинные', 'загрудинный'],\n  ['периферия'],\n  ['течение'],\n  ['окклюзия'],\n  ['женщина'],\n  ['пациент'],\n  ['зарегистрирована'],\n  ['сегмента'],\n  ['клетке'],\n  ['эпидемия', 'эпидемиологический', 'эпидуральный'],\n  ['интеллектуально'],\n  ['нижний'],\n  ['проводилась', 'проводить'],\n  ['неустановленный'],\n  ['госпитализирован'],\n  ['впервые'],\n  ['послеоперационном'],\n  ['госпитализирован'],\n  ['ухудшение'],\n  ['рентген'],\n  ['дальнейшем'],\n  ['тромботическая'],\n  ['многососудистое', 'многососудистый'],\n  ['миокарда', 'миокард'],\n  ['сопровождались'],\n  ['дискомфорт'],\n  ['потливостью'],\n  ['левого желудочка', 'левый желудочек'],\n  ['ранее', 'ранние'],\n  ['виде', 'вид'],\n  ['ангинозные боли', 'ангиозный боль'],\n  ['догоспитальном'],\n  ['выполнен'],\n  ['часов'],\n  ['отказалась'],\n  ['клиника'],\n  ['момента'],\n  ['проведенной'],\n  ['выполнения', 'выполнение'],\n  ['лечения', 'лечение'],\n  ['обратилась'],\n  ['повторно'],\n  ['зарегистрированы'],\n  ['отрицает', 'отрицать'],\n  ['дальнейшем'],\n  ['боли сохраняются'],\n  ['частичным'],\n  ['атеросклеротическая'],\n  ['день', 'день с'],\n  ['назначался'],\n  ['проведения'],\n  ['беспокоят'],\n  ['гипертензия'],\n  ['волейбол'],\n  ['болезнь'],\n  ['стенокардия'],\n  ['продолжалась'],\n  ['повторное'],\n  ['ощущает'],\n  ['ангинозного', 'ангинозный'],\n  ['диагностической', 'диагностический'],\n  ['поддерживающий'],\n  ['межлопаточный'],\n  ['бедренной', 'бедренный'],\n  ['грядки'],\n  ['бассейне', 'бассейн'],\n  ['воздуха', 'воздух'],\n  ['сентября', 'сентябрь'],\n  ['постоянная', 'постоянный'],\n  ['рекомендовано'],\n  ['повреждения'],\n  ['дискомфорт'],\n  ['имплантирован', 'имплантировать'],\n  ['неотчетливая', 'неотчетливый'],\n  ['обесцвеченный', 'обеспеченный'],\n  ['сердце'],\n  ['болезнь'],\n  ['аллергия'],\n  ['рука'],\n  ['изжога'],\n  ['жжение'],\n  ['кашель'],\n  ['раствор'],\n  ['пациент'],\n  ['пожилой'],\n  ['лекарство'],\n  ['непереносимость'],\n  ['ампула'],\n  ['гель'],\n  ['концентрат'],\n  ['релиф'],\n  ['ЧСС', 'чсс'],\n  ['ЭКГ', 'экг'],\n  ['фибрилляция'],\n  ['желудочек'],\n  ['хронический'],\n  ['гиподинамический'],\n  ['нервный'],\n  ['система'],\n  ['диагностика'],\n  ['гипоксемия'],\n  ['лидокаин'],\n  ['блокатор'],\n  ['тахикардия'],\n  ['малоинвазивный'],\n  ['аблация', 'абляция'],\n  ['ИМ', 'им'],\n  ['поражение'],\n  ['тяжелый'],\n  ['гастропластика'],\n  ['вес'],\n  ['лишний'],\n  ['аорта'],\n  ['клапан'],\n  ['вена'],\n  ['полый'],\n  ['перикард'],\n  ['митральный'],\n  ['ультразвук'],\n  ['хирург'],\n  ['кардиолог'],\n  ['килограмм'],\n  ['акинезия'],\n  ['верхушка'],\n  ['апикальный'],\n  ['сегмент'],\n  ['весь'],\n  ['стенка'],\n  ['циркулярный'],\n  ['срединный'],\n  ['клапанный'],\n  ['аппарат'],\n  ['патология'],\n  ['перикард'],\n  ['проксимальный'],\n  ['диаметр'],\n  ['коррекция'],\n  ['осложнение'],\n  ['страдать'],\n  ['гипертонический'],\n  ['болезнь'],\n  ['адаптировать'],\n  ['получать'],\n  ['консервативный'],\n  ['течение'],\n  ['пребывание'],\n  ['отделение'],\n  ['самочувствие'],\n  ['ухудшение'],\n  ['место'],\n  ['пункция'],\n  ['особенность'],\n  ['шунт'],\n  ['шунтирование'],\n  ['гатчина'],\n  ['эхо'],\n  ['коронарный'],\n  ['артерия'],\n  ['значимый'],\n  ['стеноз'],\n  ['госпитализировать'],\n  ['имя'],\n  ['алмазов'],\n  ['предшествовать'],\n  ['стенокардия'],\n  ['перенести'],\n  ['инфаркт'],\n  ['миокарда'],\n  ['локализация'],\n  ['справка'],\n  ['дальнейший'],\n  ['хроническая недостаточность', 'хронический недостаточность'],\n  ['инфаркт миокарда', 'инфаркт миокард'],\n  ['от узла', 'от узел'],\n  ['нарушение работы', 'нарушение работа'],\n  ['в минуту', 'в минута', 'минута'],\n  ['эндокринная система', 'эндокринный система'],\n  ['сердечный ритм'],\n  ['узловая тахикардия', 'узловой тахикардия'],\n  ['основной факто', 'основные факторы'],\n  ['остановка сердца', 'остановка сердце'],\n  ['фибрилляция желудочков', 'фибрилляция желудочек'],\n  ['с частотой', 'с частотаб частота']]}"
     },
     "execution_count": 69,
     "metadata": {},
     "output_type": "execute_result"
    }
   ],
   "source": [
    "test_language_tool_result = compute_all_metrics(\n",
    "    lambda : test_language_tool(error_precision_test_word_list),\n",
    "    lambda : test_language_tool(lexical_precision_test_word_list),\n",
    "    error_precision_test_word_list, error_precision_test_answers, lexical_precision_test_word_list)\n",
    "test_language_tool_result"
   ],
   "metadata": {
    "collapsed": false,
    "pycharm": {
     "name": "#%%\n"
    }
   }
  },
  {
   "cell_type": "markdown",
   "source": [
    "# PySpelling (wrapper for Aspell and Hunspell) - https://facelessuser.github.io/pyspelling/"
   ],
   "metadata": {
    "collapsed": false
   }
  },
  {
   "cell_type": "markdown",
   "source": [
    "It is necessary to install for Linux\n",
    "`sudo apt-get install aspell aspell-ru`\n",
    "`sudo apt-get install hunspell hunspell-ru`"
   ],
   "metadata": {
    "collapsed": false
   }
  },
  {
   "cell_type": "code",
   "execution_count": 10,
   "outputs": [
    {
     "name": "stdout",
     "output_type": "stream",
     "text": [
      "Collecting pyspelling\r\n",
      "  Downloading pyspelling-2.7.3-py3-none-any.whl (45 kB)\r\n",
      "     |████████████████████████████████| 45 kB 508 kB/s             \r\n",
      "\u001B[?25hCollecting wcmatch>=6.0.3\r\n",
      "  Downloading wcmatch-8.3-py3-none-any.whl (42 kB)\r\n",
      "     |████████████████████████████████| 42 kB 736 kB/s            \r\n",
      "\u001B[?25hCollecting lxml\r\n",
      "  Downloading lxml-4.6.4-cp39-cp39-manylinux_2_17_x86_64.manylinux2014_x86_64.manylinux_2_24_x86_64.whl (6.9 MB)\r\n",
      "     |████████████████████████████████| 6.9 MB 2.0 MB/s            \r\n",
      "\u001B[?25hCollecting html5lib\r\n",
      "  Downloading html5lib-1.1-py2.py3-none-any.whl (112 kB)\r\n",
      "     |████████████████████████████████| 112 kB 2.2 MB/s            \r\n",
      "\u001B[?25hCollecting markdown\r\n",
      "  Downloading Markdown-3.3.6-py3-none-any.whl (97 kB)\r\n",
      "     |████████████████████████████████| 97 kB 1.8 MB/s            \r\n",
      "\u001B[?25hCollecting beautifulsoup4\r\n",
      "  Downloading beautifulsoup4-4.10.0-py3-none-any.whl (97 kB)\r\n",
      "     |████████████████████████████████| 97 kB 1.9 MB/s            \r\n",
      "\u001B[?25hCollecting pyyaml\r\n",
      "  Downloading PyYAML-6.0-cp39-cp39-manylinux_2_5_x86_64.manylinux1_x86_64.manylinux_2_12_x86_64.manylinux2010_x86_64.whl (661 kB)\r\n",
      "     |████████████████████████████████| 661 kB 2.1 MB/s            \r\n",
      "\u001B[?25hCollecting soupsieve>=1.8\r\n",
      "  Downloading soupsieve-2.3.1-py3-none-any.whl (37 kB)\r\n",
      "Collecting bracex>=2.1.1\r\n",
      "  Downloading bracex-2.2.1-py3-none-any.whl (12 kB)\r\n",
      "Requirement already satisfied: six>=1.9 in /home/Dmitry.Pogrebnoy/Desktop/MedSpellChecker/venv/lib/python3.9/site-packages (from html5lib->pyspelling) (1.16.0)\r\n",
      "Requirement already satisfied: webencodings in /home/Dmitry.Pogrebnoy/Desktop/MedSpellChecker/venv/lib/python3.9/site-packages (from html5lib->pyspelling) (0.5.1)\r\n",
      "Collecting importlib-metadata>=4.4\r\n",
      "  Downloading importlib_metadata-4.8.2-py3-none-any.whl (17 kB)\r\n",
      "Collecting zipp>=0.5\r\n",
      "  Downloading zipp-3.6.0-py3-none-any.whl (5.3 kB)\r\n",
      "Installing collected packages: zipp, soupsieve, importlib-metadata, bracex, wcmatch, pyyaml, markdown, lxml, html5lib, beautifulsoup4, pyspelling\r\n",
      "Successfully installed beautifulsoup4-4.10.0 bracex-2.2.1 html5lib-1.1 importlib-metadata-4.8.2 lxml-4.6.4 markdown-3.3.6 pyspelling-2.7.3 pyyaml-6.0 soupsieve-2.3.1 wcmatch-8.3 zipp-3.6.0\r\n"
     ]
    }
   ],
   "source": [
    "!pip install pyspelling"
   ],
   "metadata": {
    "collapsed": false,
    "pycharm": {
     "name": "#%%\n"
    }
   }
  },
  {
   "cell_type": "markdown",
   "source": [
    "This is a console module, so it will be quite difficult to parse the output of the tool and get metrics."
   ],
   "metadata": {
    "collapsed": false
   }
  },
  {
   "cell_type": "code",
   "execution_count": 13,
   "outputs": [
    {
     "name": "stdout",
     "output_type": "stream",
     "text": [
      "pyspelling 2.7.3\r\n"
     ]
    }
   ],
   "source": [
    "!pyspelling --version"
   ],
   "metadata": {
    "collapsed": false,
    "pycharm": {
     "name": "#%%\n"
    }
   }
  },
  {
   "cell_type": "markdown",
   "source": [
    "# Aspell wrapper for python - https://pypi.org/project/aspell-python-py3/"
   ],
   "metadata": {
    "collapsed": false
   }
  },
  {
   "cell_type": "markdown",
   "source": [
    "It is necessary to install for Linux\n",
    "`sudo apt-get install libaspell-dev`"
   ],
   "metadata": {
    "collapsed": false
   }
  },
  {
   "cell_type": "code",
   "execution_count": 15,
   "outputs": [
    {
     "name": "stdout",
     "output_type": "stream",
     "text": [
      "Collecting aspell-python-py3\r\n",
      "  Using cached aspell-python-py3-1.15.tar.bz2 (12 kB)\r\n",
      "  Preparing metadata (setup.py) ... \u001B[?25ldone\r\n",
      "\u001B[?25hBuilding wheels for collected packages: aspell-python-py3\r\n",
      "  Building wheel for aspell-python-py3 (setup.py) ... \u001B[?25ldone\r\n",
      "\u001B[?25h  Created wheel for aspell-python-py3: filename=aspell_python_py3-1.15-cp39-cp39-linux_x86_64.whl size=32277 sha256=88cebc3f0ae1fc6677ef7c879052e10d5ba53a6a4894d90256d63c3fc14cb599\r\n",
      "  Stored in directory: /home/Dmitry.Pogrebnoy/.cache/pip/wheels/cd/bc/ba/22f1fcf521721e21edfc7373b9e8dd9cf4192bb6646f9224b6\r\n",
      "Successfully built aspell-python-py3\r\n",
      "Installing collected packages: aspell-python-py3\r\n",
      "Successfully installed aspell-python-py3-1.15\r\n"
     ]
    }
   ],
   "source": [
    "!pip install aspell-python-py3"
   ],
   "metadata": {
    "collapsed": false,
    "pycharm": {
     "name": "#%%\n"
    }
   }
  },
  {
   "cell_type": "code",
   "execution_count": 31,
   "outputs": [
    {
     "name": "stdout",
     "output_type": "stream",
     "text": [
      "Name: aspell-python-py3\r\n",
      "Version: 1.15\r\n",
      "Summary: Wrapper around GNU Aspell for Python 3\r\n",
      "Home-page: http://github.com/WojciechMula/aspell-python\r\n",
      "Author: Wojciech Muła\r\n",
      "Author-email: wojciech_mula@poczta.onet.pl\r\n",
      "License: BSD (3 clauses)\r\n",
      "Location: /home/Dmitry.Pogrebnoy/Desktop/MedSpellChecker/venv/lib/python3.9/site-packages\r\n",
      "Requires: \r\n",
      "Required-by: \r\n"
     ]
    }
   ],
   "source": [
    "!pip show aspell-python-py3"
   ],
   "metadata": {
    "collapsed": false,
    "pycharm": {
     "name": "#%%\n"
    }
   }
  },
  {
   "cell_type": "code",
   "execution_count": 22,
   "outputs": [],
   "source": [
    "from aspell import Speller"
   ],
   "metadata": {
    "collapsed": false,
    "pycharm": {
     "name": "#%%\n"
    }
   }
  },
  {
   "cell_type": "code",
   "execution_count": 25,
   "outputs": [],
   "source": [
    "def test_aspell(input_word_list):\n",
    "    speller = Speller((\"lang\", \"ru\"))\n",
    "    result = []\n",
    "    timer = tqdm(input_word_list)\n",
    "    for word in timer:\n",
    "        suggestions = speller.suggest(word)\n",
    "        if len(suggestions) == 0:\n",
    "            result.append(word)\n",
    "        else:\n",
    "            result.append(suggestions[0])\n",
    "    return  {\"elapsed\" : timer.format_dict[\"elapsed\"], \"corrected_word_list\" : result}"
   ],
   "metadata": {
    "collapsed": false,
    "pycharm": {
     "name": "#%%\n"
    }
   }
  },
  {
   "cell_type": "code",
   "execution_count": 89,
   "outputs": [
    {
     "name": "stderr",
     "output_type": "stream",
     "text": [
      "100%|██████████| 200/200 [00:00<00:00, 271.01it/s]\n"
     ]
    },
    {
     "name": "stdout",
     "output_type": "stream",
     "text": [
      "original_word_list --- corrected_word --- answer_word_list\n",
      "эктренном --- экстренном --- ['экстренном']\n",
      "синусовго --- синусов го --- ['синусового']\n",
      "даным --- данным --- ['данным', 'данный', 'данные']\n",
      "шнутография --- нотография --- ['шунтография']\n",
      "сникопальных --- сник опальных --- ['синкопальных']\n",
      "посление --- поселение --- ['поселение', 'последний']\n",
      "ходавый --- ходовой --- ['ходовый']\n",
      "анмнезе --- анамнезе --- ['анамнезе', 'анамнез']\n",
      "сентированный --- смонтированный --- ['стентированный']\n",
      "самоч --- само --- ['самочувствие']\n",
      "перевдена --- переведена --- ['переведена']\n",
      "стентированеим --- смонтированном --- ['стентированием', 'стентирование']\n",
      "кардиол --- кар диол --- ['кардиолог,кардиологический']\n",
      "переведна --- переведена --- ['переведена']\n",
      "догосптальном --- госпитальном --- ['догоспитальном']\n",
      "миним --- мним --- ['минимум', 'минимальный']\n",
      "субфебриллитет --- субфебриллитет --- ['субфебрилитет']\n",
      "загрудиные --- загородные --- ['загрудинные', 'загрудинный']\n",
      "перферия --- периферия --- ['периферия']\n",
      "течени --- течению --- ['течение']\n",
      "оклюзия --- окклюзия --- ['окклюзия']\n",
      "жнщина --- женщина --- ['женщина']\n",
      "пциент --- пациент --- ['пациент']\n",
      "зарегистирована --- зарегистрирована --- ['зарегистрирована']\n",
      "сегмета --- сегмента --- ['сегмента']\n",
      "клекте --- клекоте --- ['клетке']\n",
      "эпид --- эпод --- ['эпидемия', 'эпидемиологический', 'эпидуральный']\n",
      "интелектуально --- интеллектуально --- ['интеллектуально']\n",
      "нижн --- ниж --- ['нижний']\n",
      "прводилась --- приводилась --- ['проводилась', 'проводить']\n",
      "неуст --- несут --- ['неустановленный']\n",
      "госптализирован --- госпитализирован --- ['госпитализирован']\n",
      "вперые --- впертые --- ['впервые']\n",
      "послеоперационом --- послеоперационном --- ['послеоперационном']\n",
      "госпитализирова --- госпитализировал --- ['госпитализирован']\n",
      "ухудщение --- ухудшение --- ['ухудшение']\n",
      "рентг --- рента --- ['рентген']\n",
      "дальнешем --- дальнейшем --- ['дальнейшем']\n",
      "троботическая --- теоретическая --- ['тромботическая']\n",
      "многосоудистое --- многоводности --- ['многососудистое', 'многососудистый']\n",
      "миокрада --- миокарда --- ['миокарда', 'миокард']\n",
      "сопрвождались --- сопровождались --- ['сопровождались']\n",
      "дискмфорт --- дискомфорт --- ['дискомфорт']\n",
      "потлтвостью --- потливостью --- ['потливостью']\n",
      "левогожелудочка --- левого желудочка --- ['левого желудочка', 'левый желудочек']\n",
      "рание --- ранние --- ['ранее', 'ранние']\n",
      "виед --- виде --- ['виде', 'вид']\n",
      "ангинозныеболи --- ангинозные боли --- ['ангинозные боли', 'ангиозный боль']\n",
      "догоситальном --- дистальном --- ['догоспитальном']\n",
      "ввполнен --- выполнен --- ['выполнен']\n",
      "чаосв --- часов --- ['часов']\n",
      "октазалась --- отказалась --- ['отказалась']\n",
      "линика --- лирника --- ['клиника']\n",
      "ммента --- момента --- ['момента']\n",
      "проведеной --- проведенной --- ['проведенной']\n",
      "выполненяи --- выполнения --- ['выполнения', 'выполнение']\n",
      "леченяи --- лечения --- ['лечения', 'лечение']\n",
      "обтилась --- отбилась --- ['обратилась']\n",
      "повтороно --- повторно --- ['повторно']\n",
      "зарегистриованы --- зарегистрированы --- ['зарегистрированы']\n",
      "отицает --- отрицает --- ['отрицает', 'отрицать']\n",
      "дальнейщем --- дальнейшем --- ['дальнейшем']\n",
      "болисохраняются --- боли сохраняются --- ['боли сохраняются']\n",
      "частичынм --- частичным --- ['частичным']\n",
      "атерокслеротичсекая --- атеросклеротическая --- ['атеросклеротическая']\n",
      "деньс --- день --- ['день', 'день с']\n",
      "назначаля --- назначался --- ['назначался']\n",
      "проведеняи --- проведения --- ['проведения']\n",
      "беспакоют --- успокоит --- ['беспокоят']\n",
      "гипертензи --- гипертензию --- ['гипертензия']\n",
      "воленйбол --- волейбол --- ['волейбол']\n",
      "болезн --- болезни --- ['болезнь']\n",
      "стенокардаа --- стенокардию --- ['стенокардия']\n",
      "продолжалсь --- продолжалась --- ['продолжалась']\n",
      "поворное --- подворное --- ['повторное']\n",
      "ощуащет --- ощущает --- ['ощущает']\n",
      "ангигнозного --- ангинозного --- ['ангинозного', 'ангинозный']\n",
      "диагностичекой --- диагностической --- ['диагностической', 'диагностический']\n",
      "поддерживающией --- поддерживающей --- ['поддерживающий']\n",
      "межлопаточнй --- межклеточной --- ['межлопаточный']\n",
      "бедреной --- бедренной --- ['бедренной', 'бедренный']\n",
      "гшрядки --- грядки --- ['грядки']\n",
      "бассеине --- бассейне --- ['бассейне', 'бассейн']\n",
      "возлуха --- воздуха --- ['воздуха', 'воздух']\n",
      "сенября --- сентября --- ['сентября', 'сентябрь']\n",
      "постояная --- постоянная --- ['постоянная', 'постоянный']\n",
      "рекмоендовнао --- рекомендовано --- ['рекомендовано']\n",
      "поврждения --- повреждения --- ['повреждения']\n",
      "дискофморта --- дискомфорта --- ['дискомфорт']\n",
      "импалнтирован --- имплантирован --- ['имплантирован', 'имплантировать']\n",
      "неочетливая --- неотчетливая --- ['неотчетливая', 'неотчетливый']\n",
      "обесвеченный --- обесцвеченный --- ['обесцвеченный', 'обеспеченный']\n",
      "серце --- сердце --- ['сердце']\n",
      "блезнь --- болезнь --- ['болезнь']\n",
      "лергия --- летаргия --- ['аллергия']\n",
      "ука --- укаю --- ['рука']\n",
      "изжга --- изжога --- ['изжога']\n",
      "жение --- женихе --- ['жжение']\n",
      "кашел --- кашле --- ['кашель']\n",
      "рствор --- раствор --- ['раствор']\n",
      "пациен --- пациент --- ['пациент']\n",
      "пожлой --- пожилой --- ['пожилой']\n",
      "лекарсво --- лекарство --- ['лекарство']\n",
      "нпреносимость --- непереносимость --- ['непереносимость']\n",
      "амупула --- ампула --- ['ампула']\n",
      "гел --- гелю --- ['гель']\n",
      "конценрат --- концентрат --- ['концентрат']\n",
      "рилиф --- рифли --- ['релиф']\n",
      "чссс --- час --- ['ЧСС', 'чсс']\n",
      "экгъ --- ЭКГ --- ['ЭКГ', 'экг']\n",
      "фибриляция --- фибрилляция --- ['фибрилляция']\n",
      "желдочек --- желудочек --- ['желудочек']\n",
      "хрон --- Харон --- ['хронический']\n",
      "гиподин --- гипоидная --- ['гиподинамический']\n",
      "нерный --- нервный --- ['нервный']\n",
      "сист --- сист --- ['система']\n",
      "диагоностика --- диагностика --- ['диагностика']\n",
      "гипоксмия --- гипоксемия --- ['гипоксемия']\n",
      "ледокоин --- ледокол --- ['лидокаин']\n",
      "блокато --- блокатор --- ['блокатор']\n",
      "тахкардия --- тахикардия --- ['тахикардия']\n",
      "малоинвозивный --- инвазивный --- ['малоинвазивный']\n",
      "алация --- акация --- ['аблация', 'абляция']\n",
      "имь --- им --- ['ИМ', 'им']\n",
      "паражение --- поражение --- ['поражение']\n",
      "тяжолый --- тяжелый --- ['тяжелый']\n",
      "гастрапластика --- артропластика --- ['гастропластика']\n",
      "вс --- вас --- ['вес']\n",
      "лешний --- леший --- ['лишний']\n",
      "орта --- орта --- ['аорта']\n",
      "клапа --- клапан --- ['клапан']\n",
      "вент --- вен --- ['вена']\n",
      "палый --- палый --- ['полый']\n",
      "пирикард --- перикард --- ['перикард']\n",
      "метральный --- метальный --- ['митральный']\n",
      "ултразвук --- ультразвук --- ['ультразвук']\n",
      "херург --- хирург --- ['хирург']\n",
      "кордиолог --- кардиолог --- ['кардиолог']\n",
      "килограм --- килограмм --- ['килограмм']\n",
      "акенезия --- акинезия --- ['акинезия']\n",
      "врхушка --- верхушка --- ['верхушка']\n",
      "апекальный --- апикальный --- ['апикальный']\n",
      "сгмент --- сегмент --- ['сегмент']\n",
      "вес --- вес --- ['весь']\n",
      "сьенка --- сценка --- ['стенка']\n",
      "церкулярный --- циркулярный --- ['циркулярный']\n",
      "сридиный --- срединный --- ['срединный']\n",
      "калапаный --- залапанный --- ['клапанный']\n",
      "апарат --- аппарат --- ['аппарат']\n",
      "потология --- патология --- ['патология']\n",
      "перекард --- перикард --- ['перикард']\n",
      "праксимальный --- проксимальный --- ['проксимальный']\n",
      "деаметр --- диаметр --- ['диаметр']\n",
      "корекция --- коррекция --- ['коррекция']\n",
      "аслажнение --- осложнение --- ['осложнение']\n",
      "стрдать --- страдать --- ['страдать']\n",
      "гепертонический --- гипертонический --- ['гипертонический']\n",
      "болезн --- болезни --- ['болезнь']\n",
      "одоптировать --- кооптировать --- ['адаптировать']\n",
      "получять --- получать --- ['получать']\n",
      "кансервативный --- консервативный --- ['консервативный']\n",
      "тичение --- течение --- ['течение']\n",
      "пребование --- пребывание --- ['пребывание']\n",
      "отбиление --- отбавление --- ['отделение']\n",
      "самачувствие --- самочувствие --- ['самочувствие']\n",
      "уходшение --- ухудшение --- ['ухудшение']\n",
      "месро --- место --- ['место']\n",
      "пункцыя --- пункция --- ['пункция']\n",
      "особеность --- особенность --- ['особенность']\n",
      "шнут --- шунт --- ['шунт']\n",
      "шнутирование --- шунтирование --- ['шунтирование']\n",
      "готчина --- Гатчина --- ['гатчина']\n",
      "эхэ --- эх --- ['эхо']\n",
      "каранарный --- карабинерный --- ['коронарный']\n",
      "ортерия --- артерия --- ['артерия']\n",
      "сначимый --- значимый --- ['значимый']\n",
      "стинос --- станс --- ['стеноз']\n",
      "гаспиализировать --- госпитализировать --- ['госпитализировать']\n",
      "имья --- имя --- ['имя']\n",
      "олмазов --- алмазов --- ['алмазов']\n",
      "прдшствовать --- предшествовать --- ['предшествовать']\n",
      "стинакардия --- стенокардия --- ['стенокардия']\n",
      "пиринести --- принести --- ['перенести']\n",
      "ифаркт --- инфаркт --- ['инфаркт']\n",
      "моикарда --- миокарда --- ['миокарда']\n",
      "лакализация --- алкализация --- ['локализация']\n",
      "спразка --- справка --- ['справка']\n",
      "дальнейшый --- дальнейшей --- ['дальнейший']\n",
      "хроническаянедостаточность --- хроническая недостаточность --- ['хроническая недостаточность', 'хронический недостаточность']\n",
      "инфарктмиокарда --- инфаркт миокарда --- ['инфаркт миокарда', 'инфаркт миокард']\n",
      "отузла --- от узла --- ['от узла', 'от узел']\n",
      "нарушениеработы --- нарушение работы --- ['нарушение работы', 'нарушение работа']\n",
      "вминуту --- минуту --- ['в минуту', 'в минута', 'минута']\n",
      "эндокриннойсистемы --- эндокринной системы --- ['эндокринная система', 'эндокринный система']\n",
      "сердечныйритм --- сердечный ритм --- ['сердечный ритм']\n",
      "узловаятахикардия --- узловая тахикардия --- ['узловая тахикардия', 'узловой тахикардия']\n",
      "основныефакторы --- основные факторы --- ['основной факто', 'основные факторы']\n",
      "остановкасердца --- остановка сердца --- ['остановка сердца', 'остановка сердце']\n",
      "фибрилляцияжелудочков --- фибрилляция желудочков --- ['фибрилляция желудочков', 'фибрилляция желудочек']\n",
      "счастотой --- частотой --- ['с частотой', 'с частотаб частота']\n",
      "Right corrected words count - 130 of 200 total\n"
     ]
    },
    {
     "name": "stderr",
     "output_type": "stream",
     "text": [
      "100%|██████████| 6/6 [00:00<00:00, 1446.06it/s]"
     ]
    },
    {
     "name": "stdout",
     "output_type": "stream",
     "text": [
      "original_word_list --- corrected_word\n",
      "П --- ПА\n",
      "р --- ре\n",
      "и --- и\n",
      "в --- в\n",
      "е --- ею\n",
      "т --- тю\n",
      "Right corrected words count - 2 of 6 total\n"
     ]
    },
    {
     "name": "stderr",
     "output_type": "stream",
     "text": [
      "\n"
     ]
    },
    {
     "data": {
      "text/plain": "{'words_per_minute': 16633.77792665577,\n 'error_precision': 0.65,\n 'lexical_precision': 0.3333333333333333}"
     },
     "execution_count": 89,
     "metadata": {},
     "output_type": "execute_result"
    }
   ],
   "source": [
    "test_aspell_result = compute_all_metrics(\n",
    "    lambda : test_aspell(error_precision_test_word_list),\n",
    "    lambda : test_aspell(lexical_precision_test_word_list),\n",
    "    error_precision_test_word_list, error_precision_test_answers, lexical_precision_test_word_list)\n",
    "test_aspell_result"
   ],
   "metadata": {
    "collapsed": false,
    "pycharm": {
     "name": "#%%\n"
    }
   }
  },
  {
   "cell_type": "markdown",
   "source": [
    "# Test Hunspell wrapper for Python - https://pypi.org/project/hunspell/"
   ],
   "metadata": {
    "collapsed": false
   }
  },
  {
   "cell_type": "markdown",
   "source": [
    "It is necessary to install for Linux\n",
    "`sudo apt-get install libhunspell-dev`"
   ],
   "metadata": {
    "collapsed": false
   }
  },
  {
   "cell_type": "code",
   "execution_count": 33,
   "outputs": [
    {
     "name": "stdout",
     "output_type": "stream",
     "text": [
      "Collecting hunspell\r\n",
      "  Using cached hunspell-0.5.5.tar.gz (34 kB)\r\n",
      "  Preparing metadata (setup.py) ... \u001B[?25ldone\r\n",
      "\u001B[?25hBuilding wheels for collected packages: hunspell\r\n",
      "  Building wheel for hunspell (setup.py) ... \u001B[?25ldone\r\n",
      "\u001B[?25h  Created wheel for hunspell: filename=hunspell-0.5.5-cp39-cp39-linux_x86_64.whl size=71479 sha256=b553539242f8711480ca30cb24d3c79420f2086418638f8ee1fa653a8a74b1de\r\n",
      "  Stored in directory: /home/Dmitry.Pogrebnoy/.cache/pip/wheels/26/15/2a/9342fc72db7e13be532f1e183ef0c7d18c3af0ecbd70fdb872\r\n",
      "Successfully built hunspell\r\n",
      "Installing collected packages: hunspell\r\n",
      "Successfully installed hunspell-0.5.5\r\n"
     ]
    }
   ],
   "source": [
    "!pip install hunspell"
   ],
   "metadata": {
    "collapsed": false,
    "pycharm": {
     "name": "#%%\n"
    }
   }
  },
  {
   "cell_type": "code",
   "execution_count": 44,
   "outputs": [
    {
     "name": "stdout",
     "output_type": "stream",
     "text": [
      "Name: hunspell\r\n",
      "Version: 0.5.5\r\n",
      "Summary: Module for the Hunspell spellchecker engine\r\n",
      "Home-page: http://github.com/blatinier/pyhunspell\r\n",
      "Author: Benoît Latinier\r\n",
      "Author-email: benoit@latinier.fr\r\n",
      "License: LGPLv3\r\n",
      "Location: /home/Dmitry.Pogrebnoy/Desktop/MedSpellChecker/venv/lib/python3.9/site-packages\r\n",
      "Requires: \r\n",
      "Required-by: \r\n"
     ]
    }
   ],
   "source": [
    "!pip show hunspell"
   ],
   "metadata": {
    "collapsed": false,
    "pycharm": {
     "name": "#%%\n"
    }
   }
  },
  {
   "cell_type": "code",
   "execution_count": 34,
   "outputs": [],
   "source": [
    "from hunspell import HunSpell"
   ],
   "metadata": {
    "collapsed": false,
    "pycharm": {
     "name": "#%%\n"
    }
   }
  },
  {
   "cell_type": "code",
   "execution_count": 42,
   "outputs": [],
   "source": [
    "def test_hunspell(input_word_list):\n",
    "    speller = HunSpell('../data/hunspell/index.dic', '../data/hunspell/index.aff')\n",
    "    result = []\n",
    "    timer = tqdm(input_word_list)\n",
    "    for word in timer:\n",
    "        suggestions = speller.suggest(word)\n",
    "        if len(suggestions) == 0:\n",
    "            result.append(word)\n",
    "        else:\n",
    "            result.append(suggestions[0])\n",
    "    return  {\"elapsed\" : timer.format_dict[\"elapsed\"], \"corrected_word_list\" : result}"
   ],
   "metadata": {
    "collapsed": false,
    "pycharm": {
     "name": "#%%\n"
    }
   }
  },
  {
   "cell_type": "code",
   "execution_count": 43,
   "outputs": [
    {
     "name": "stderr",
     "output_type": "stream",
     "text": [
      "100%|██████████| 200/200 [00:16<00:00, 12.43it/s]\n"
     ]
    },
    {
     "name": "stdout",
     "output_type": "stream",
     "text": [
      "original_word_list --- corrected_word --- answer_word_list\n",
      "эктренном --- экстренном --- ['экстренном']\n",
      "синусовго --- синусов го --- ['синусового']\n",
      "даным --- даны --- ['данным', 'данный', 'данные']\n",
      "шнутография --- нотография --- ['шунтография']\n",
      "сникопальных --- сник опальных --- ['синкопальных']\n",
      "посление --- поселение --- ['поселение', 'последний']\n",
      "ходавый --- хода вый --- ['ходовый']\n",
      "анмнезе --- анамнезе --- ['анамнезе', 'анамнез']\n",
      "сентированный --- сориентированный --- ['стентированный']\n",
      "самоч --- само --- ['самочувствие']\n",
      "перевдена --- перевидена --- ['переведена']\n",
      "стентированеим --- сцементирован --- ['стентированием', 'стентирование']\n",
      "кардиол --- кар диол --- ['кардиолог,кардиологический']\n",
      "переведна --- переведена --- ['переведена']\n",
      "догосптальном --- госпитальном --- ['догоспитальном']\n",
      "миним --- мини --- ['минимум', 'минимальный']\n",
      "субфебриллитет --- субфебрилитет --- ['субфебрилитет']\n",
      "загрудиные --- нагрудные --- ['загрудинные', 'загрудинный']\n",
      "перферия --- периферия --- ['периферия']\n",
      "течени --- течении --- ['течение']\n",
      "оклюзия --- окклюзия --- ['окклюзия']\n",
      "жнщина --- женщина --- ['женщина']\n",
      "пциент --- пациент --- ['пациент']\n",
      "зарегистирована --- зарегистрирована --- ['зарегистрирована']\n",
      "сегмета --- сегмента --- ['сегмента']\n",
      "клекте --- клетке --- ['клетке']\n",
      "эпид --- эпод --- ['эпидемия', 'эпидемиологический', 'эпидуральный']\n",
      "интелектуально --- интеллектуально --- ['интеллектуально']\n",
      "нижн --- ниж --- ['нижний']\n",
      "прводилась --- проводилась --- ['проводилась', 'проводить']\n",
      "неуст --- несут --- ['неустановленный']\n",
      "госптализирован --- госпитализирован --- ['госпитализирован']\n",
      "вперые --- впертые --- ['впервые']\n",
      "послеоперационом --- послеоперационном --- ['послеоперационном']\n",
      "госпитализирова --- госпитализирован --- ['госпитализирован']\n",
      "ухудщение --- ухудшение --- ['ухудшение']\n",
      "рентг --- рент --- ['рентген']\n",
      "дальнешем --- дальнейшем --- ['дальнейшем']\n",
      "троботическая --- астроботаническая --- ['тромботическая']\n",
      "многосоудистое --- многосоставное --- ['многососудистое', 'многососудистый']\n",
      "миокрада --- миокарда --- ['миокарда', 'миокард']\n",
      "сопрвождались --- сопровождались --- ['сопровождались']\n",
      "дискмфорт --- дискомфорт --- ['дискомфорт']\n",
      "потлтвостью --- потливостью --- ['потливостью']\n",
      "левогожелудочка --- левого желудочка --- ['левого желудочка', 'левый желудочек']\n",
      "рание --- раине --- ['ранее', 'ранние']\n",
      "виед --- виде --- ['виде', 'вид']\n",
      "ангинозныеболи --- ангинозные боли --- ['ангинозные боли', 'ангиозный боль']\n",
      "догоситальном --- госпитальном --- ['догоспитальном']\n",
      "ввполнен --- выполнен --- ['выполнен']\n",
      "чаосв --- часов --- ['часов']\n",
      "октазалась --- отказалась --- ['отказалась']\n",
      "линика --- литника --- ['клиника']\n",
      "ммента --- мента --- ['момента']\n",
      "проведеной --- проведено --- ['проведенной']\n",
      "выполненяи --- выполнения --- ['выполнения', 'выполнение']\n",
      "леченяи --- лечения --- ['лечения', 'лечение']\n",
      "обтилась --- отбилась --- ['обратилась']\n",
      "повтороно --- повторно --- ['повторно']\n",
      "зарегистриованы --- зарегистрированы --- ['зарегистрированы']\n",
      "отицает --- отрицает --- ['отрицает', 'отрицать']\n",
      "дальнейщем --- дальнейшем --- ['дальнейшем']\n",
      "болисохраняются --- боли сохраняются --- ['боли сохраняются']\n",
      "частичынм --- частичным --- ['частичным']\n",
      "атерокслеротичсекая --- атеросклеротическая --- ['атеросклеротическая']\n",
      "деньс --- день --- ['день', 'день с']\n",
      "назначаля --- назначал --- ['назначался']\n",
      "проведеняи --- проведения --- ['проведения']\n",
      "беспакоют --- обеспамятеют --- ['беспокоят']\n",
      "гипертензи --- гипертензии --- ['гипертензия']\n",
      "воленйбол --- волейбол --- ['волейбол']\n",
      "болезн --- болен --- ['болезнь']\n",
      "стенокардаа --- стенокардия --- ['стенокардия']\n",
      "продолжалсь --- продолжалось --- ['продолжалась']\n",
      "поворное --- повторное --- ['повторное']\n",
      "ощуащет --- ощущает --- ['ощущает']\n",
      "ангигнозного --- ангинозного --- ['ангинозного', 'ангинозный']\n",
      "диагностичекой --- диагностической --- ['диагностической', 'диагностический']\n",
      "поддерживающией --- поддерживающие --- ['поддерживающий']\n",
      "межлопаточнй --- лопаточный --- ['межлопаточный']\n",
      "бедреной --- бедерной --- ['бедренной', 'бедренный']\n",
      "гшрядки --- грядки --- ['грядки']\n",
      "бассеине --- бассейне --- ['бассейне', 'бассейн']\n",
      "возлуха --- воздуха --- ['воздуха', 'воздух']\n",
      "сенября --- сентября --- ['сентября', 'сентябрь']\n",
      "постояная --- постоянная --- ['постоянная', 'постоянный']\n",
      "рекмоендовнао --- рекомендовано --- ['рекомендовано']\n",
      "поврждения --- повреждения --- ['повреждения']\n",
      "дискофморта --- дискомфорта --- ['дискомфорт']\n",
      "импалнтирован --- имплантирован --- ['имплантирован', 'имплантировать']\n",
      "неочетливая --- неотчетливая --- ['неотчетливая', 'неотчетливый']\n",
      "обесвеченный --- обесцвеченный --- ['обесцвеченный', 'обеспеченный']\n",
      "серце --- сере --- ['сердце']\n",
      "блезнь --- болезнь --- ['болезнь']\n",
      "лергия --- Сергия --- ['аллергия']\n",
      "ука --- ук --- ['рука']\n",
      "изжга --- изжога --- ['изжога']\n",
      "жение --- жени --- ['жжение']\n",
      "кашел --- кашле --- ['кашель']\n",
      "рствор --- створ --- ['раствор']\n",
      "пациен --- пациент --- ['пациент']\n",
      "пожлой --- полой --- ['пожилой']\n",
      "лекарсво --- лекарство --- ['лекарство']\n",
      "нпреносимость --- непереносимость --- ['непереносимость']\n",
      "амупула --- ампула --- ['ампула']\n",
      "гел --- лег --- ['гель']\n",
      "конценрат --- концентрат --- ['концентрат']\n",
      "рилиф --- рифли --- ['релиф']\n",
      "чссс --- СССР --- ['ЧСС', 'чсс']\n",
      "экгъ --- ЭКГ --- ['ЭКГ', 'экг']\n",
      "фибриляция --- фибрилляция --- ['фибрилляция']\n",
      "желдочек --- желудочек --- ['желудочек']\n",
      "хрон --- хон --- ['хронический']\n",
      "гиподин --- подин --- ['гиподинамический']\n",
      "нерный --- нервный --- ['нервный']\n",
      "сист --- сист --- ['система']\n",
      "диагоностика --- диагностика --- ['диагностика']\n",
      "гипоксмия --- гипоксия --- ['гипоксемия']\n",
      "ледокоин --- ледокол --- ['лидокаин']\n",
      "блокато --- блокатор --- ['блокатор']\n",
      "тахкардия --- тахикардия --- ['тахикардия']\n",
      "малоинвозивный --- малоинформативный --- ['малоинвазивный']\n",
      "алация --- акация --- ['аблация', 'абляция']\n",
      "имь --- им --- ['ИМ', 'им']\n",
      "паражение --- поражение --- ['поражение']\n",
      "тяжолый --- тяжелый --- ['тяжелый']\n",
      "гастрапластика --- органопластика --- ['гастропластика']\n",
      "вс --- св --- ['вес']\n",
      "лешний --- лишней --- ['лишний']\n",
      "орта --- рота --- ['аорта']\n",
      "клапа --- капа --- ['клапан']\n",
      "вент --- вен --- ['вена']\n",
      "палый --- пылай --- ['полый']\n",
      "пирикард --- перикард --- ['перикард']\n",
      "метральный --- метальный --- ['митральный']\n",
      "ултразвук --- ультразвук --- ['ультразвук']\n",
      "херург --- хирург --- ['хирург']\n",
      "кордиолог --- кардиолог --- ['кардиолог']\n",
      "килограм --- килограмм --- ['килограмм']\n",
      "акенезия --- акинезия --- ['акинезия']\n",
      "врхушка --- врушка --- ['верхушка']\n",
      "апекальный --- апикальный --- ['апикальный']\n",
      "сгмент --- сегмент --- ['сегмент']\n",
      "вес --- все --- ['весь']\n",
      "сьенка --- стенка --- ['стенка']\n",
      "церкулярный --- циркулярный --- ['циркулярный']\n",
      "сридиный --- срединный --- ['срединный']\n",
      "калапаный --- клапанный --- ['клапанный']\n",
      "апарат --- парат --- ['аппарат']\n",
      "потология --- топология --- ['патология']\n",
      "перекард --- перикард --- ['перикард']\n",
      "праксимальный --- проксимальный --- ['проксимальный']\n",
      "деаметр --- декаметр --- ['диаметр']\n",
      "корекция --- коррекция --- ['коррекция']\n",
      "аслажнение --- наслаждение --- ['осложнение']\n",
      "стрдать --- страдать --- ['страдать']\n",
      "гепертонический --- гипертонический --- ['гипертонический']\n",
      "болезн --- болен --- ['болезнь']\n",
      "одоптировать --- адоптировать --- ['адаптировать']\n",
      "получять --- получать --- ['получать']\n",
      "кансервативный --- консервативный --- ['консервативный']\n",
      "тичение --- точение --- ['течение']\n",
      "пребование --- пробование --- ['пребывание']\n",
      "отбиление --- отбавление --- ['отделение']\n",
      "самачувствие --- самочувствие --- ['самочувствие']\n",
      "уходшение --- ухудшение --- ['ухудшение']\n",
      "месро --- место --- ['место']\n",
      "пункцыя --- пункция --- ['пункция']\n",
      "особеность --- особенность --- ['особенность']\n",
      "шнут --- шунт --- ['шунт']\n",
      "шнутирование --- шунтирование --- ['шунтирование']\n",
      "готчина --- вотчина --- ['гатчина']\n",
      "эхэ --- эх --- ['эхо']\n",
      "каранарный --- карандашный --- ['коронарный']\n",
      "ортерия --- артерия --- ['артерия']\n",
      "сначимый --- сачимый --- ['значимый']\n",
      "стинос --- остинато --- ['стеноз']\n",
      "гаспиализировать --- госпитализировать --- ['госпитализировать']\n",
      "имья --- имя --- ['имя']\n",
      "олмазов --- алмазов --- ['алмазов']\n",
      "прдшствовать --- предшествовать --- ['предшествовать']\n",
      "стинакардия --- стенокардия --- ['стенокардия']\n",
      "пиринести --- принести --- ['перенести']\n",
      "ифаркт --- инфаркт --- ['инфаркт']\n",
      "моикарда --- миокарда --- ['миокарда']\n",
      "лакализация --- алкализация --- ['локализация']\n",
      "спразка --- справка --- ['справка']\n",
      "дальнейшый --- дальнейший --- ['дальнейший']\n",
      "хроническаянедостаточность --- хроническая недостаточность --- ['хроническая недостаточность', 'хронический недостаточность']\n",
      "инфарктмиокарда --- инфаркт миокарда --- ['инфаркт миокарда', 'инфаркт миокард']\n",
      "отузла --- от узла --- ['от узла', 'от узел']\n",
      "нарушениеработы --- нарушение работы --- ['нарушение работы', 'нарушение работа']\n",
      "вминуту --- минуту --- ['в минуту', 'в минута', 'минута']\n",
      "эндокриннойсистемы --- эндокринной системы --- ['эндокринная система', 'эндокринный система']\n",
      "сердечныйритм --- сердечный ритм --- ['сердечный ритм']\n",
      "узловаятахикардия --- узловая тахикардия --- ['узловая тахикардия', 'узловой тахикардия']\n",
      "основныефакторы --- основные факторы --- ['основной факто', 'основные факторы']\n",
      "остановкасердца --- остановка сердца --- ['остановка сердца', 'остановка сердце']\n",
      "фибрилляцияжелудочков --- фибрилляция желудочков --- ['фибрилляция желудочков', 'фибрилляция желудочек']\n",
      "счастотой --- частотой --- ['с частотой', 'с частотаб частота']\n",
      "Right corrected words count - 118 of 200 total\n"
     ]
    },
    {
     "data": {
      "text/plain": "{'words_per_minute': 745.7555003371791,\n 'error_precision': 0.59,\n 'lexical_precision': 0.0,\n 'original_word_list': ['эктренном',\n  'синусовго',\n  'даным',\n  'шнутография',\n  'сникопальных',\n  'посление',\n  'ходавый',\n  'анмнезе',\n  'сентированный',\n  'самоч',\n  'перевдена',\n  'стентированеим',\n  'кардиол',\n  'переведна',\n  'догосптальном',\n  'миним',\n  'субфебриллитет',\n  'загрудиные',\n  'перферия',\n  'течени',\n  'оклюзия',\n  'жнщина',\n  'пциент',\n  'зарегистирована',\n  'сегмета',\n  'клекте',\n  'эпид',\n  'интелектуально',\n  'нижн',\n  'прводилась',\n  'неуст',\n  'госптализирован',\n  'вперые',\n  'послеоперационом',\n  'госпитализирова',\n  'ухудщение',\n  'рентг',\n  'дальнешем',\n  'троботическая',\n  'многосоудистое',\n  'миокрада',\n  'сопрвождались',\n  'дискмфорт',\n  'потлтвостью',\n  'левогожелудочка',\n  'рание',\n  'виед',\n  'ангинозныеболи',\n  'догоситальном',\n  'ввполнен',\n  'чаосв',\n  'октазалась',\n  'линика',\n  'ммента',\n  'проведеной',\n  'выполненяи',\n  'леченяи',\n  'обтилась',\n  'повтороно',\n  'зарегистриованы',\n  'отицает',\n  'дальнейщем',\n  'болисохраняются',\n  'частичынм',\n  'атерокслеротичсекая',\n  'деньс',\n  'назначаля',\n  'проведеняи',\n  'беспакоют',\n  'гипертензи',\n  'воленйбол',\n  'болезн',\n  'стенокардаа',\n  'продолжалсь',\n  'поворное',\n  'ощуащет',\n  'ангигнозного',\n  'диагностичекой',\n  'поддерживающией',\n  'межлопаточнй',\n  'бедреной',\n  'гшрядки',\n  'бассеине',\n  'возлуха',\n  'сенября',\n  'постояная',\n  'рекмоендовнао',\n  'поврждения',\n  'дискофморта',\n  'импалнтирован',\n  'неочетливая',\n  'обесвеченный',\n  'серце',\n  'блезнь',\n  'лергия',\n  'ука',\n  'изжга',\n  'жение',\n  'кашел',\n  'рствор',\n  'пациен',\n  'пожлой',\n  'лекарсво',\n  'нпреносимость',\n  'амупула',\n  'гел',\n  'конценрат',\n  'рилиф',\n  'чссс',\n  'экгъ',\n  'фибриляция',\n  'желдочек',\n  'хрон',\n  'гиподин',\n  'нерный',\n  'сист',\n  'диагоностика',\n  'гипоксмия',\n  'ледокоин',\n  'блокато',\n  'тахкардия',\n  'малоинвозивный',\n  'алация',\n  'имь',\n  'паражение',\n  'тяжолый',\n  'гастрапластика',\n  'вс',\n  'лешний',\n  'орта',\n  'клапа',\n  'вент',\n  'палый',\n  'пирикард',\n  'метральный',\n  'ултразвук',\n  'херург',\n  'кордиолог',\n  'килограм',\n  'акенезия',\n  'врхушка',\n  'апекальный',\n  'сгмент',\n  'вес',\n  'сьенка',\n  'церкулярный',\n  'сридиный',\n  'калапаный',\n  'апарат',\n  'потология',\n  'перекард',\n  'праксимальный',\n  'деаметр',\n  'корекция',\n  'аслажнение',\n  'стрдать',\n  'гепертонический',\n  'болезн',\n  'одоптировать',\n  'получять',\n  'кансервативный',\n  'тичение',\n  'пребование',\n  'отбиление',\n  'самачувствие',\n  'уходшение',\n  'месро',\n  'пункцыя',\n  'особеность',\n  'шнут',\n  'шнутирование',\n  'готчина',\n  'эхэ',\n  'каранарный',\n  'ортерия',\n  'сначимый',\n  'стинос',\n  'гаспиализировать',\n  'имья',\n  'олмазов',\n  'прдшствовать',\n  'стинакардия',\n  'пиринести',\n  'ифаркт',\n  'моикарда',\n  'лакализация',\n  'спразка',\n  'дальнейшый',\n  'хроническаянедостаточность',\n  'инфарктмиокарда',\n  'отузла',\n  'нарушениеработы',\n  'вминуту',\n  'эндокриннойсистемы',\n  'сердечныйритм',\n  'узловаятахикардия',\n  'основныефакторы',\n  'остановкасердца',\n  'фибрилляцияжелудочков',\n  'счастотой'],\n 'corrected_word_list': ['экстренном',\n  'синусов го',\n  'даны',\n  'нотография',\n  'сник опальных',\n  'поселение',\n  'хода вый',\n  'анамнезе',\n  'сориентированный',\n  'само',\n  'перевидена',\n  'сцементирован',\n  'кар диол',\n  'переведена',\n  'госпитальном',\n  'мини',\n  'субфебрилитет',\n  'нагрудные',\n  'периферия',\n  'течении',\n  'окклюзия',\n  'женщина',\n  'пациент',\n  'зарегистрирована',\n  'сегмента',\n  'клетке',\n  'эпод',\n  'интеллектуально',\n  'ниж',\n  'проводилась',\n  'несут',\n  'госпитализирован',\n  'впертые',\n  'послеоперационном',\n  'госпитализирован',\n  'ухудшение',\n  'рент',\n  'дальнейшем',\n  'астроботаническая',\n  'многосоставное',\n  'миокарда',\n  'сопровождались',\n  'дискомфорт',\n  'потливостью',\n  'левого желудочка',\n  'раине',\n  'виде',\n  'ангинозные боли',\n  'госпитальном',\n  'выполнен',\n  'часов',\n  'отказалась',\n  'литника',\n  'мента',\n  'проведено',\n  'выполнения',\n  'лечения',\n  'отбилась',\n  'повторно',\n  'зарегистрированы',\n  'отрицает',\n  'дальнейшем',\n  'боли сохраняются',\n  'частичным',\n  'атеросклеротическая',\n  'день',\n  'назначал',\n  'проведения',\n  'обеспамятеют',\n  'гипертензии',\n  'волейбол',\n  'болен',\n  'стенокардия',\n  'продолжалось',\n  'повторное',\n  'ощущает',\n  'ангинозного',\n  'диагностической',\n  'поддерживающие',\n  'лопаточный',\n  'бедерной',\n  'грядки',\n  'бассейне',\n  'воздуха',\n  'сентября',\n  'постоянная',\n  'рекомендовано',\n  'повреждения',\n  'дискомфорта',\n  'имплантирован',\n  'неотчетливая',\n  'обесцвеченный',\n  'сере',\n  'болезнь',\n  'Сергия',\n  'ук',\n  'изжога',\n  'жени',\n  'кашле',\n  'створ',\n  'пациент',\n  'полой',\n  'лекарство',\n  'непереносимость',\n  'ампула',\n  'лег',\n  'концентрат',\n  'рифли',\n  'СССР',\n  'ЭКГ',\n  'фибрилляция',\n  'желудочек',\n  'хон',\n  'подин',\n  'нервный',\n  'сист',\n  'диагностика',\n  'гипоксия',\n  'ледокол',\n  'блокатор',\n  'тахикардия',\n  'малоинформативный',\n  'акация',\n  'им',\n  'поражение',\n  'тяжелый',\n  'органопластика',\n  'св',\n  'лишней',\n  'рота',\n  'капа',\n  'вен',\n  'пылай',\n  'перикард',\n  'метальный',\n  'ультразвук',\n  'хирург',\n  'кардиолог',\n  'килограмм',\n  'акинезия',\n  'врушка',\n  'апикальный',\n  'сегмент',\n  'все',\n  'стенка',\n  'циркулярный',\n  'срединный',\n  'клапанный',\n  'парат',\n  'топология',\n  'перикард',\n  'проксимальный',\n  'декаметр',\n  'коррекция',\n  'наслаждение',\n  'страдать',\n  'гипертонический',\n  'болен',\n  'адоптировать',\n  'получать',\n  'консервативный',\n  'точение',\n  'пробование',\n  'отбавление',\n  'самочувствие',\n  'ухудшение',\n  'место',\n  'пункция',\n  'особенность',\n  'шунт',\n  'шунтирование',\n  'вотчина',\n  'эх',\n  'карандашный',\n  'артерия',\n  'сачимый',\n  'остинато',\n  'госпитализировать',\n  'имя',\n  'алмазов',\n  'предшествовать',\n  'стенокардия',\n  'принести',\n  'инфаркт',\n  'миокарда',\n  'алкализация',\n  'справка',\n  'дальнейший',\n  'хроническая недостаточность',\n  'инфаркт миокарда',\n  'от узла',\n  'нарушение работы',\n  'минуту',\n  'эндокринной системы',\n  'сердечный ритм',\n  'узловая тахикардия',\n  'основные факторы',\n  'остановка сердца',\n  'фибрилляция желудочков',\n  'частотой'],\n 'answer_word_list': [['экстренном'],\n  ['синусового'],\n  ['данным', 'данный', 'данные'],\n  ['шунтография'],\n  ['синкопальных'],\n  ['поселение', 'последний'],\n  ['ходовый'],\n  ['анамнезе', 'анамнез'],\n  ['стентированный'],\n  ['самочувствие'],\n  ['переведена'],\n  ['стентированием', 'стентирование'],\n  ['кардиолог,кардиологический'],\n  ['переведена'],\n  ['догоспитальном'],\n  ['минимум', 'минимальный'],\n  ['субфебрилитет'],\n  ['загрудинные', 'загрудинный'],\n  ['периферия'],\n  ['течение'],\n  ['окклюзия'],\n  ['женщина'],\n  ['пациент'],\n  ['зарегистрирована'],\n  ['сегмента'],\n  ['клетке'],\n  ['эпидемия', 'эпидемиологический', 'эпидуральный'],\n  ['интеллектуально'],\n  ['нижний'],\n  ['проводилась', 'проводить'],\n  ['неустановленный'],\n  ['госпитализирован'],\n  ['впервые'],\n  ['послеоперационном'],\n  ['госпитализирован'],\n  ['ухудшение'],\n  ['рентген'],\n  ['дальнейшем'],\n  ['тромботическая'],\n  ['многососудистое', 'многососудистый'],\n  ['миокарда', 'миокард'],\n  ['сопровождались'],\n  ['дискомфорт'],\n  ['потливостью'],\n  ['левого желудочка', 'левый желудочек'],\n  ['ранее', 'ранние'],\n  ['виде', 'вид'],\n  ['ангинозные боли', 'ангиозный боль'],\n  ['догоспитальном'],\n  ['выполнен'],\n  ['часов'],\n  ['отказалась'],\n  ['клиника'],\n  ['момента'],\n  ['проведенной'],\n  ['выполнения', 'выполнение'],\n  ['лечения', 'лечение'],\n  ['обратилась'],\n  ['повторно'],\n  ['зарегистрированы'],\n  ['отрицает', 'отрицать'],\n  ['дальнейшем'],\n  ['боли сохраняются'],\n  ['частичным'],\n  ['атеросклеротическая'],\n  ['день', 'день с'],\n  ['назначался'],\n  ['проведения'],\n  ['беспокоят'],\n  ['гипертензия'],\n  ['волейбол'],\n  ['болезнь'],\n  ['стенокардия'],\n  ['продолжалась'],\n  ['повторное'],\n  ['ощущает'],\n  ['ангинозного', 'ангинозный'],\n  ['диагностической', 'диагностический'],\n  ['поддерживающий'],\n  ['межлопаточный'],\n  ['бедренной', 'бедренный'],\n  ['грядки'],\n  ['бассейне', 'бассейн'],\n  ['воздуха', 'воздух'],\n  ['сентября', 'сентябрь'],\n  ['постоянная', 'постоянный'],\n  ['рекомендовано'],\n  ['повреждения'],\n  ['дискомфорт'],\n  ['имплантирован', 'имплантировать'],\n  ['неотчетливая', 'неотчетливый'],\n  ['обесцвеченный', 'обеспеченный'],\n  ['сердце'],\n  ['болезнь'],\n  ['аллергия'],\n  ['рука'],\n  ['изжога'],\n  ['жжение'],\n  ['кашель'],\n  ['раствор'],\n  ['пациент'],\n  ['пожилой'],\n  ['лекарство'],\n  ['непереносимость'],\n  ['ампула'],\n  ['гель'],\n  ['концентрат'],\n  ['релиф'],\n  ['ЧСС', 'чсс'],\n  ['ЭКГ', 'экг'],\n  ['фибрилляция'],\n  ['желудочек'],\n  ['хронический'],\n  ['гиподинамический'],\n  ['нервный'],\n  ['система'],\n  ['диагностика'],\n  ['гипоксемия'],\n  ['лидокаин'],\n  ['блокатор'],\n  ['тахикардия'],\n  ['малоинвазивный'],\n  ['аблация', 'абляция'],\n  ['ИМ', 'им'],\n  ['поражение'],\n  ['тяжелый'],\n  ['гастропластика'],\n  ['вес'],\n  ['лишний'],\n  ['аорта'],\n  ['клапан'],\n  ['вена'],\n  ['полый'],\n  ['перикард'],\n  ['митральный'],\n  ['ультразвук'],\n  ['хирург'],\n  ['кардиолог'],\n  ['килограмм'],\n  ['акинезия'],\n  ['верхушка'],\n  ['апикальный'],\n  ['сегмент'],\n  ['весь'],\n  ['стенка'],\n  ['циркулярный'],\n  ['срединный'],\n  ['клапанный'],\n  ['аппарат'],\n  ['патология'],\n  ['перикард'],\n  ['проксимальный'],\n  ['диаметр'],\n  ['коррекция'],\n  ['осложнение'],\n  ['страдать'],\n  ['гипертонический'],\n  ['болезнь'],\n  ['адаптировать'],\n  ['получать'],\n  ['консервативный'],\n  ['течение'],\n  ['пребывание'],\n  ['отделение'],\n  ['самочувствие'],\n  ['ухудшение'],\n  ['место'],\n  ['пункция'],\n  ['особенность'],\n  ['шунт'],\n  ['шунтирование'],\n  ['гатчина'],\n  ['эхо'],\n  ['коронарный'],\n  ['артерия'],\n  ['значимый'],\n  ['стеноз'],\n  ['госпитализировать'],\n  ['имя'],\n  ['алмазов'],\n  ['предшествовать'],\n  ['стенокардия'],\n  ['перенести'],\n  ['инфаркт'],\n  ['миокарда'],\n  ['локализация'],\n  ['справка'],\n  ['дальнейший'],\n  ['хроническая недостаточность', 'хронический недостаточность'],\n  ['инфаркт миокарда', 'инфаркт миокард'],\n  ['от узла', 'от узел'],\n  ['нарушение работы', 'нарушение работа'],\n  ['в минуту', 'в минута', 'минута'],\n  ['эндокринная система', 'эндокринный система'],\n  ['сердечный ритм'],\n  ['узловая тахикардия', 'узловой тахикардия'],\n  ['основной факто', 'основные факторы'],\n  ['остановка сердца', 'остановка сердце'],\n  ['фибрилляция желудочков', 'фибрилляция желудочек'],\n  ['с частотой', 'с частотаб частота']]}"
     },
     "execution_count": 43,
     "metadata": {},
     "output_type": "execute_result"
    }
   ],
   "source": [
    "test_hunspell_result = compute_all_metrics(\n",
    "    lambda : test_hunspell(error_precision_test_word_list),\n",
    "    lambda : test_hunspell(lexical_precision_test_word_list),\n",
    "    error_precision_test_word_list, error_precision_test_answers, lexical_precision_test_word_list)\n",
    "test_hunspell_result"
   ],
   "metadata": {
    "collapsed": false,
    "pycharm": {
     "name": "#%%\n"
    }
   }
  },
  {
   "cell_type": "markdown",
   "source": [
    "# Pyspellchecker (Piter Norwig's algorithm) - https://github.com/barrust/pyspellchecker"
   ],
   "metadata": {
    "collapsed": false
   }
  },
  {
   "cell_type": "code",
   "execution_count": 52,
   "outputs": [
    {
     "name": "stdout",
     "output_type": "stream",
     "text": [
      "Collecting pyspellchecker\r\n",
      "  Downloading pyspellchecker-0.6.2-py3-none-any.whl (2.7 MB)\r\n",
      "     |████████████████████████████████| 2.7 MB 281 kB/s            \r\n",
      "\u001B[?25hInstalling collected packages: pyspellchecker\r\n",
      "Successfully installed pyspellchecker-0.6.2\r\n"
     ]
    }
   ],
   "source": [
    "!pip install pyspellchecker"
   ],
   "metadata": {
    "collapsed": false,
    "pycharm": {
     "name": "#%%\n"
    }
   }
  },
  {
   "cell_type": "code",
   "execution_count": 53,
   "outputs": [
    {
     "name": "stdout",
     "output_type": "stream",
     "text": [
      "Name: pyspellchecker\r\n",
      "Version: 0.6.2\r\n",
      "Summary: Pure python spell checker based on work by Peter Norvig\r\n",
      "Home-page: https://github.com/barrust/pyspellchecker\r\n",
      "Author: Tyler Barrus\r\n",
      "Author-email: barrust@gmail.com\r\n",
      "License: MIT\r\n",
      "Location: /home/Dmitry.Pogrebnoy/Desktop/MedSpellChecker/venv/lib/python3.9/site-packages\r\n",
      "Requires: \r\n",
      "Required-by: \r\n"
     ]
    }
   ],
   "source": [
    "!pip show pyspellchecker"
   ],
   "metadata": {
    "collapsed": false,
    "pycharm": {
     "name": "#%%\n"
    }
   }
  },
  {
   "cell_type": "code",
   "execution_count": 54,
   "outputs": [],
   "source": [
    "import spellchecker"
   ],
   "metadata": {
    "collapsed": false,
    "pycharm": {
     "name": "#%%\n"
    }
   }
  },
  {
   "cell_type": "code",
   "execution_count": 55,
   "outputs": [],
   "source": [
    "def test_pyspellshecker(input_word_list):\n",
    "    speller = spellchecker.SpellChecker(language='ru')\n",
    "    result = []\n",
    "    timer = tqdm(input_word_list)\n",
    "    for word in timer:\n",
    "        suggestions = speller.correction(word)\n",
    "        result.append(suggestions)\n",
    "    return  {\"elapsed\" : timer.format_dict[\"elapsed\"], \"corrected_word_list\" : result}"
   ],
   "metadata": {
    "collapsed": false,
    "pycharm": {
     "name": "#%%\n"
    }
   }
  },
  {
   "cell_type": "code",
   "execution_count": 56,
   "outputs": [
    {
     "name": "stderr",
     "output_type": "stream",
     "text": [
      "100%|██████████| 200/200 [00:47<00:00,  4.17it/s]"
     ]
    },
    {
     "name": "stdout",
     "output_type": "stream",
     "text": [
      "original_word_list --- corrected_word --- answer_word_list\n",
      "эктренном --- экстренное --- ['экстренном']\n",
      "синусовго --- синусовый --- ['синусового']\n",
      "даным --- давным --- ['данным', 'данный', 'данные']\n",
      "шнутография --- шнутография --- ['шунтография']\n",
      "сникопальных --- сникопальных --- ['синкопальных']\n",
      "посление --- последние --- ['поселение', 'последний']\n",
      "ходавый --- подавай --- ['ходовый']\n",
      "анмнезе --- анмнезе --- ['анамнезе', 'анамнез']\n",
      "сентированный --- сентированный --- ['стентированный']\n",
      "самоч --- самое --- ['самочувствие']\n",
      "перевдена --- переведено --- ['переведена']\n",
      "стентированеим --- стентированеим --- ['стентированием', 'стентирование']\n",
      "кардиол --- кардинал --- ['кардиолог,кардиологический']\n",
      "переведна --- переведено --- ['переведена']\n",
      "догосптальном --- догосптальном --- ['догоспитальном']\n",
      "миним --- мини --- ['минимум', 'минимальный']\n",
      "субфебриллитет --- субфебриллитет --- ['субфебрилитет']\n",
      "загрудиные --- загрудиные --- ['загрудинные', 'загрудинный']\n",
      "перферия --- перферия --- ['периферия']\n",
      "течени --- течение --- ['течение']\n",
      "оклюзия --- иллюзия --- ['окклюзия']\n",
      "жнщина --- женщина --- ['женщина']\n",
      "пциент --- пациент --- ['пациент']\n",
      "зарегистирована --- зарегистрирована --- ['зарегистрирована']\n",
      "сегмета --- семена --- ['сегмента']\n",
      "клекте --- клетке --- ['клетке']\n",
      "эпид --- спид --- ['эпидемия', 'эпидемиологический', 'эпидуральный']\n",
      "интелектуально --- интелектуально --- ['интеллектуально']\n",
      "нижн --- ниже --- ['нижний']\n",
      "прводилась --- родилась --- ['проводилась', 'проводить']\n",
      "неуст --- несут --- ['неустановленный']\n",
      "госптализирован --- госптализирован --- ['госпитализирован']\n",
      "вперые --- впервые --- ['впервые']\n",
      "послеоперационом --- послеоперационом --- ['послеоперационном']\n",
      "госпитализирова --- госпитализирова --- ['госпитализирован']\n",
      "ухудщение --- ухудшение --- ['ухудшение']\n",
      "рентг --- рента --- ['рентген']\n",
      "дальнешем --- дальнейшее --- ['дальнейшем']\n",
      "троботическая --- троботическая --- ['тромботическая']\n",
      "многосоудистое --- многосоудистое --- ['многососудистое', 'многососудистый']\n",
      "миокрада --- миокрада --- ['миокарда', 'миокард']\n",
      "сопрвождались --- сопрвождались --- ['сопровождались']\n",
      "дискмфорт --- дискмфорт --- ['дискомфорт']\n",
      "потлтвостью --- потлтвостью --- ['потливостью']\n",
      "левогожелудочка --- левогожелудочка --- ['левого желудочка', 'левый желудочек']\n",
      "рание --- ранее --- ['ранее', 'ранние']\n",
      "виед --- вид --- ['виде', 'вид']\n",
      "ангинозныеболи --- ангинозныеболи --- ['ангинозные боли', 'ангиозный боль']\n",
      "догоситальном --- догоситальном --- ['догоспитальном']\n",
      "ввполнен --- вполне --- ['выполнен']\n",
      "чаосв --- часов --- ['часов']\n",
      "октазалась --- оказалась --- ['отказалась']\n",
      "линика --- клиника --- ['клиника']\n",
      "ммента --- момента --- ['момента']\n",
      "проведеной --- проведение --- ['проведенной']\n",
      "выполненяи --- выполнение --- ['выполнения', 'выполнение']\n",
      "леченяи --- лечения --- ['лечения', 'лечение']\n",
      "обтилась --- осталась --- ['обратилась']\n",
      "повтороно --- повторно --- ['повторно']\n",
      "зарегистриованы --- зарегистрированы --- ['зарегистрированы']\n",
      "отицает --- отрицает --- ['отрицает', 'отрицать']\n",
      "дальнейщем --- дальнейшее --- ['дальнейшем']\n",
      "болисохраняются --- болисохраняются --- ['боли сохраняются']\n",
      "частичынм --- частично --- ['частичным']\n",
      "атерокслеротичсекая --- атерокслеротичсекая --- ['атеросклеротическая']\n",
      "деньс --- день --- ['день', 'день с']\n",
      "назначаля --- назначил --- ['назначался']\n",
      "проведеняи --- проведения --- ['проведения']\n",
      "беспакоют --- беспокоит --- ['беспокоят']\n",
      "гипертензи --- гипертензи --- ['гипертензия']\n",
      "воленйбол --- воленйбол --- ['волейбол']\n",
      "болезн --- болезнь --- ['болезнь']\n",
      "стенокардаа --- стенокардаа --- ['стенокардия']\n",
      "продолжалсь --- продолжалось --- ['продолжалась']\n",
      "поворное --- повторное --- ['повторное']\n",
      "ощуащет --- ощущаете --- ['ощущает']\n",
      "ангигнозного --- ангигнозного --- ['ангинозного', 'ангинозный']\n",
      "диагностичекой --- диагностичекой --- ['диагностической', 'диагностический']\n",
      "поддерживающией --- поддерживающией --- ['поддерживающий']\n",
      "межлопаточнй --- межлопаточнй --- ['межлопаточный']\n",
      "бедреной --- бедной --- ['бедренной', 'бедренный']\n",
      "гшрядки --- гшрядки --- ['грядки']\n",
      "бассеине --- бассейне --- ['бассейне', 'бассейн']\n",
      "возлуха --- воздуха --- ['воздуха', 'воздух']\n",
      "сенября --- сентября --- ['сентября', 'сентябрь']\n",
      "постояная --- постоянная --- ['постоянная', 'постоянный']\n",
      "рекмоендовнао --- рекмоендовнао --- ['рекомендовано']\n",
      "поврждения --- повреждения --- ['повреждения']\n",
      "дискофморта --- дискофморта --- ['дискомфорт']\n",
      "импалнтирован --- импалнтирован --- ['имплантирован', 'имплантировать']\n",
      "неочетливая --- неочетливая --- ['неотчетливая', 'неотчетливый']\n",
      "обесвеченный --- обесвеченный --- ['обесцвеченный', 'обеспеченный']\n",
      "серце --- сердце --- ['сердце']\n",
      "блезнь --- болезнь --- ['болезнь']\n",
      "лергия --- серия --- ['аллергия']\n",
      "ука --- ума --- ['рука']\n",
      "изжга --- инга --- ['изжога']\n",
      "жение --- жених --- ['жжение']\n",
      "кашел --- нашел --- ['кашель']\n",
      "рствор --- раствор --- ['раствор']\n",
      "пациен --- пациент --- ['пациент']\n",
      "пожлой --- пожилой --- ['пожилой']\n",
      "лекарсво --- лекарство --- ['лекарство']\n",
      "нпреносимость --- нпреносимость --- ['непереносимость']\n",
      "амупула --- ампулу --- ['ампула']\n",
      "гел --- дел --- ['гель']\n",
      "конценрат --- концерт --- ['концентрат']\n",
      "рилиф --- или --- ['релиф']\n",
      "чссс --- мисс --- ['ЧСС', 'чсс']\n",
      "экгъ --- экг --- ['ЭКГ', 'экг']\n",
      "фибриляция --- фибрилляция --- ['фибрилляция']\n",
      "желдочек --- желдочек --- ['желудочек']\n",
      "хрон --- хрен --- ['хронический']\n",
      "гиподин --- господин --- ['гиподинамический']\n",
      "нерный --- черный --- ['нервный']\n",
      "сист --- сиси --- ['система']\n",
      "диагоностика --- диагностика --- ['диагностика']\n",
      "гипоксмия --- гипоксмия --- ['гипоксемия']\n",
      "ледокоин --- ледокоин --- ['лидокаин']\n",
      "блокато --- блокнот --- ['блокатор']\n",
      "тахкардия --- тахикардия --- ['тахикардия']\n",
      "малоинвозивный --- малоинвозивный --- ['малоинвазивный']\n",
      "алация --- алисия --- ['аблация', 'абляция']\n",
      "имь --- им --- ['ИМ', 'им']\n",
      "паражение --- поражение --- ['поражение']\n",
      "тяжолый --- тяжелый --- ['тяжелый']\n",
      "гастрапластика --- гастрапластика --- ['гастропластика']\n",
      "вс --- вы --- ['вес']\n",
      "лешний --- летний --- ['лишний']\n",
      "орта --- рота --- ['аорта']\n",
      "клапа --- клара --- ['клапан']\n",
      "вент --- кент --- ['вена']\n",
      "палый --- малый --- ['полый']\n",
      "пирикард --- пикард --- ['перикард']\n",
      "метральный --- митральный --- ['митральный']\n",
      "ултразвук --- ультразвук --- ['ультразвук']\n",
      "херург --- хирург --- ['хирург']\n",
      "кордиолог --- кардиолог --- ['кардиолог']\n",
      "килограм --- килограмм --- ['килограмм']\n",
      "акенезия --- амнезия --- ['акинезия']\n",
      "врхушка --- верхушка --- ['верхушка']\n",
      "апекальный --- печальный --- ['апикальный']\n",
      "сгмент --- сегмент --- ['сегмент']\n",
      "вес --- вес --- ['весь']\n",
      "сьенка --- стенка --- ['стенка']\n",
      "церкулярный --- церкулярный --- ['циркулярный']\n",
      "сридиный --- сридиный --- ['срединный']\n",
      "калапаный --- клапаны --- ['клапанный']\n",
      "апарат --- аппарат --- ['аппарат']\n",
      "потология --- патология --- ['патология']\n",
      "перекард --- перекур --- ['перикард']\n",
      "праксимальный --- максимальный --- ['проксимальный']\n",
      "деаметр --- диаметр --- ['диаметр']\n",
      "корекция --- коррекция --- ['коррекция']\n",
      "аслажнение --- наслаждение --- ['осложнение']\n",
      "стрдать --- страдать --- ['страдать']\n",
      "гепертонический --- гепертонический --- ['гипертонический']\n",
      "болезн --- болезнь --- ['болезнь']\n",
      "одоптировать --- одоптировать --- ['адаптировать']\n",
      "получять --- получить --- ['получать']\n",
      "кансервативный --- кансервативный --- ['консервативный']\n",
      "тичение --- течение --- ['течение']\n",
      "пребование --- пребывание --- ['пребывание']\n",
      "отбиление --- отделение --- ['отделение']\n",
      "самачувствие --- самочувствие --- ['самочувствие']\n",
      "уходшение --- ухудшение --- ['ухудшение']\n",
      "месро --- место --- ['место']\n",
      "пункцыя --- пункция --- ['пункция']\n",
      "особеность --- особенность --- ['особенность']\n",
      "шнут --- кнут --- ['шунт']\n",
      "шнутирование --- шунтирование --- ['шунтирование']\n",
      "готчина --- ветчина --- ['гатчина']\n",
      "эхэ --- тхэ --- ['эхо']\n",
      "каранарный --- каранарный --- ['коронарный']\n",
      "ортерия --- артерия --- ['артерия']\n",
      "сначимый --- сначимый --- ['значимый']\n",
      "стинос --- спиной --- ['стеноз']\n",
      "гаспиализировать --- гаспиализировать --- ['госпитализировать']\n",
      "имья --- имя --- ['имя']\n",
      "олмазов --- толмачов --- ['алмазов']\n",
      "прдшствовать --- прдшствовать --- ['предшествовать']\n",
      "стинакардия --- стинакардия --- ['стенокардия']\n",
      "пиринести --- принести --- ['перенести']\n",
      "ифаркт --- инфаркт --- ['инфаркт']\n",
      "моикарда --- моикарда --- ['миокарда']\n",
      "лакализация --- канализация --- ['локализация']\n",
      "спразка --- справка --- ['справка']\n",
      "дальнейшый --- дальнейший --- ['дальнейший']\n",
      "хроническаянедостаточность --- хроническаянедостаточность --- ['хроническая недостаточность', 'хронический недостаточность']\n",
      "инфарктмиокарда --- инфарктмиокарда --- ['инфаркт миокарда', 'инфаркт миокард']\n",
      "отузла --- отдала --- ['от узла', 'от узел']\n",
      "нарушениеработы --- нарушениеработы --- ['нарушение работы', 'нарушение работа']\n",
      "вминуту --- минуту --- ['в минуту', 'в минута', 'минута']\n",
      "эндокриннойсистемы --- эндокриннойсистемы --- ['эндокринная система', 'эндокринный система']\n",
      "сердечныйритм --- сердечныйритм --- ['сердечный ритм']\n",
      "узловаятахикардия --- узловаятахикардия --- ['узловая тахикардия', 'узловой тахикардия']\n",
      "основныефакторы --- основныефакторы --- ['основной факто', 'основные факторы']\n",
      "остановкасердца --- остановкасердца --- ['остановка сердца', 'остановка сердце']\n",
      "фибрилляцияжелудочков --- фибрилляцияжелудочков --- ['фибрилляция желудочков', 'фибрилляция желудочек']\n",
      "счастотой --- счастотой --- ['с частотой', 'с частотаб частота']\n",
      "Right corrected words count - 67 of 200 total\n"
     ]
    },
    {
     "name": "stderr",
     "output_type": "stream",
     "text": [
      "\n"
     ]
    },
    {
     "data": {
      "text/plain": "{'words_per_minute': 250.29052741295192,\n 'error_precision': 0.335,\n 'lexical_precision': 0.0,\n 'original_word_list': ['эктренном',\n  'синусовго',\n  'даным',\n  'шнутография',\n  'сникопальных',\n  'посление',\n  'ходавый',\n  'анмнезе',\n  'сентированный',\n  'самоч',\n  'перевдена',\n  'стентированеим',\n  'кардиол',\n  'переведна',\n  'догосптальном',\n  'миним',\n  'субфебриллитет',\n  'загрудиные',\n  'перферия',\n  'течени',\n  'оклюзия',\n  'жнщина',\n  'пциент',\n  'зарегистирована',\n  'сегмета',\n  'клекте',\n  'эпид',\n  'интелектуально',\n  'нижн',\n  'прводилась',\n  'неуст',\n  'госптализирован',\n  'вперые',\n  'послеоперационом',\n  'госпитализирова',\n  'ухудщение',\n  'рентг',\n  'дальнешем',\n  'троботическая',\n  'многосоудистое',\n  'миокрада',\n  'сопрвождались',\n  'дискмфорт',\n  'потлтвостью',\n  'левогожелудочка',\n  'рание',\n  'виед',\n  'ангинозныеболи',\n  'догоситальном',\n  'ввполнен',\n  'чаосв',\n  'октазалась',\n  'линика',\n  'ммента',\n  'проведеной',\n  'выполненяи',\n  'леченяи',\n  'обтилась',\n  'повтороно',\n  'зарегистриованы',\n  'отицает',\n  'дальнейщем',\n  'болисохраняются',\n  'частичынм',\n  'атерокслеротичсекая',\n  'деньс',\n  'назначаля',\n  'проведеняи',\n  'беспакоют',\n  'гипертензи',\n  'воленйбол',\n  'болезн',\n  'стенокардаа',\n  'продолжалсь',\n  'поворное',\n  'ощуащет',\n  'ангигнозного',\n  'диагностичекой',\n  'поддерживающией',\n  'межлопаточнй',\n  'бедреной',\n  'гшрядки',\n  'бассеине',\n  'возлуха',\n  'сенября',\n  'постояная',\n  'рекмоендовнао',\n  'поврждения',\n  'дискофморта',\n  'импалнтирован',\n  'неочетливая',\n  'обесвеченный',\n  'серце',\n  'блезнь',\n  'лергия',\n  'ука',\n  'изжга',\n  'жение',\n  'кашел',\n  'рствор',\n  'пациен',\n  'пожлой',\n  'лекарсво',\n  'нпреносимость',\n  'амупула',\n  'гел',\n  'конценрат',\n  'рилиф',\n  'чссс',\n  'экгъ',\n  'фибриляция',\n  'желдочек',\n  'хрон',\n  'гиподин',\n  'нерный',\n  'сист',\n  'диагоностика',\n  'гипоксмия',\n  'ледокоин',\n  'блокато',\n  'тахкардия',\n  'малоинвозивный',\n  'алация',\n  'имь',\n  'паражение',\n  'тяжолый',\n  'гастрапластика',\n  'вс',\n  'лешний',\n  'орта',\n  'клапа',\n  'вент',\n  'палый',\n  'пирикард',\n  'метральный',\n  'ултразвук',\n  'херург',\n  'кордиолог',\n  'килограм',\n  'акенезия',\n  'врхушка',\n  'апекальный',\n  'сгмент',\n  'вес',\n  'сьенка',\n  'церкулярный',\n  'сридиный',\n  'калапаный',\n  'апарат',\n  'потология',\n  'перекард',\n  'праксимальный',\n  'деаметр',\n  'корекция',\n  'аслажнение',\n  'стрдать',\n  'гепертонический',\n  'болезн',\n  'одоптировать',\n  'получять',\n  'кансервативный',\n  'тичение',\n  'пребование',\n  'отбиление',\n  'самачувствие',\n  'уходшение',\n  'месро',\n  'пункцыя',\n  'особеность',\n  'шнут',\n  'шнутирование',\n  'готчина',\n  'эхэ',\n  'каранарный',\n  'ортерия',\n  'сначимый',\n  'стинос',\n  'гаспиализировать',\n  'имья',\n  'олмазов',\n  'прдшствовать',\n  'стинакардия',\n  'пиринести',\n  'ифаркт',\n  'моикарда',\n  'лакализация',\n  'спразка',\n  'дальнейшый',\n  'хроническаянедостаточность',\n  'инфарктмиокарда',\n  'отузла',\n  'нарушениеработы',\n  'вминуту',\n  'эндокриннойсистемы',\n  'сердечныйритм',\n  'узловаятахикардия',\n  'основныефакторы',\n  'остановкасердца',\n  'фибрилляцияжелудочков',\n  'счастотой'],\n 'corrected_word_list': ['экстренное',\n  'синусовый',\n  'давным',\n  'шнутография',\n  'сникопальных',\n  'последние',\n  'подавай',\n  'анмнезе',\n  'сентированный',\n  'самое',\n  'переведено',\n  'стентированеим',\n  'кардинал',\n  'переведено',\n  'догосптальном',\n  'мини',\n  'субфебриллитет',\n  'загрудиные',\n  'перферия',\n  'течение',\n  'иллюзия',\n  'женщина',\n  'пациент',\n  'зарегистрирована',\n  'семена',\n  'клетке',\n  'спид',\n  'интелектуально',\n  'ниже',\n  'родилась',\n  'несут',\n  'госптализирован',\n  'впервые',\n  'послеоперационом',\n  'госпитализирова',\n  'ухудшение',\n  'рента',\n  'дальнейшее',\n  'троботическая',\n  'многосоудистое',\n  'миокрада',\n  'сопрвождались',\n  'дискмфорт',\n  'потлтвостью',\n  'левогожелудочка',\n  'ранее',\n  'вид',\n  'ангинозныеболи',\n  'догоситальном',\n  'вполне',\n  'часов',\n  'оказалась',\n  'клиника',\n  'момента',\n  'проведение',\n  'выполнение',\n  'лечения',\n  'осталась',\n  'повторно',\n  'зарегистрированы',\n  'отрицает',\n  'дальнейшее',\n  'болисохраняются',\n  'частично',\n  'атерокслеротичсекая',\n  'день',\n  'назначил',\n  'проведения',\n  'беспокоит',\n  'гипертензи',\n  'воленйбол',\n  'болезнь',\n  'стенокардаа',\n  'продолжалось',\n  'повторное',\n  'ощущаете',\n  'ангигнозного',\n  'диагностичекой',\n  'поддерживающией',\n  'межлопаточнй',\n  'бедной',\n  'гшрядки',\n  'бассейне',\n  'воздуха',\n  'сентября',\n  'постоянная',\n  'рекмоендовнао',\n  'повреждения',\n  'дискофморта',\n  'импалнтирован',\n  'неочетливая',\n  'обесвеченный',\n  'сердце',\n  'болезнь',\n  'серия',\n  'ума',\n  'инга',\n  'жених',\n  'нашел',\n  'раствор',\n  'пациент',\n  'пожилой',\n  'лекарство',\n  'нпреносимость',\n  'ампулу',\n  'дел',\n  'концерт',\n  'или',\n  'мисс',\n  'экг',\n  'фибрилляция',\n  'желдочек',\n  'хрен',\n  'господин',\n  'черный',\n  'сиси',\n  'диагностика',\n  'гипоксмия',\n  'ледокоин',\n  'блокнот',\n  'тахикардия',\n  'малоинвозивный',\n  'алисия',\n  'им',\n  'поражение',\n  'тяжелый',\n  'гастрапластика',\n  'вы',\n  'летний',\n  'рота',\n  'клара',\n  'кент',\n  'малый',\n  'пикард',\n  'митральный',\n  'ультразвук',\n  'хирург',\n  'кардиолог',\n  'килограмм',\n  'амнезия',\n  'верхушка',\n  'печальный',\n  'сегмент',\n  'вес',\n  'стенка',\n  'церкулярный',\n  'сридиный',\n  'клапаны',\n  'аппарат',\n  'патология',\n  'перекур',\n  'максимальный',\n  'диаметр',\n  'коррекция',\n  'наслаждение',\n  'страдать',\n  'гепертонический',\n  'болезнь',\n  'одоптировать',\n  'получить',\n  'кансервативный',\n  'течение',\n  'пребывание',\n  'отделение',\n  'самочувствие',\n  'ухудшение',\n  'место',\n  'пункция',\n  'особенность',\n  'кнут',\n  'шунтирование',\n  'ветчина',\n  'тхэ',\n  'каранарный',\n  'артерия',\n  'сначимый',\n  'спиной',\n  'гаспиализировать',\n  'имя',\n  'толмачов',\n  'прдшствовать',\n  'стинакардия',\n  'принести',\n  'инфаркт',\n  'моикарда',\n  'канализация',\n  'справка',\n  'дальнейший',\n  'хроническаянедостаточность',\n  'инфарктмиокарда',\n  'отдала',\n  'нарушениеработы',\n  'минуту',\n  'эндокриннойсистемы',\n  'сердечныйритм',\n  'узловаятахикардия',\n  'основныефакторы',\n  'остановкасердца',\n  'фибрилляцияжелудочков',\n  'счастотой'],\n 'answer_word_list': [['экстренном'],\n  ['синусового'],\n  ['данным', 'данный', 'данные'],\n  ['шунтография'],\n  ['синкопальных'],\n  ['поселение', 'последний'],\n  ['ходовый'],\n  ['анамнезе', 'анамнез'],\n  ['стентированный'],\n  ['самочувствие'],\n  ['переведена'],\n  ['стентированием', 'стентирование'],\n  ['кардиолог,кардиологический'],\n  ['переведена'],\n  ['догоспитальном'],\n  ['минимум', 'минимальный'],\n  ['субфебрилитет'],\n  ['загрудинные', 'загрудинный'],\n  ['периферия'],\n  ['течение'],\n  ['окклюзия'],\n  ['женщина'],\n  ['пациент'],\n  ['зарегистрирована'],\n  ['сегмента'],\n  ['клетке'],\n  ['эпидемия', 'эпидемиологический', 'эпидуральный'],\n  ['интеллектуально'],\n  ['нижний'],\n  ['проводилась', 'проводить'],\n  ['неустановленный'],\n  ['госпитализирован'],\n  ['впервые'],\n  ['послеоперационном'],\n  ['госпитализирован'],\n  ['ухудшение'],\n  ['рентген'],\n  ['дальнейшем'],\n  ['тромботическая'],\n  ['многососудистое', 'многососудистый'],\n  ['миокарда', 'миокард'],\n  ['сопровождались'],\n  ['дискомфорт'],\n  ['потливостью'],\n  ['левого желудочка', 'левый желудочек'],\n  ['ранее', 'ранние'],\n  ['виде', 'вид'],\n  ['ангинозные боли', 'ангиозный боль'],\n  ['догоспитальном'],\n  ['выполнен'],\n  ['часов'],\n  ['отказалась'],\n  ['клиника'],\n  ['момента'],\n  ['проведенной'],\n  ['выполнения', 'выполнение'],\n  ['лечения', 'лечение'],\n  ['обратилась'],\n  ['повторно'],\n  ['зарегистрированы'],\n  ['отрицает', 'отрицать'],\n  ['дальнейшем'],\n  ['боли сохраняются'],\n  ['частичным'],\n  ['атеросклеротическая'],\n  ['день', 'день с'],\n  ['назначался'],\n  ['проведения'],\n  ['беспокоят'],\n  ['гипертензия'],\n  ['волейбол'],\n  ['болезнь'],\n  ['стенокардия'],\n  ['продолжалась'],\n  ['повторное'],\n  ['ощущает'],\n  ['ангинозного', 'ангинозный'],\n  ['диагностической', 'диагностический'],\n  ['поддерживающий'],\n  ['межлопаточный'],\n  ['бедренной', 'бедренный'],\n  ['грядки'],\n  ['бассейне', 'бассейн'],\n  ['воздуха', 'воздух'],\n  ['сентября', 'сентябрь'],\n  ['постоянная', 'постоянный'],\n  ['рекомендовано'],\n  ['повреждения'],\n  ['дискомфорт'],\n  ['имплантирован', 'имплантировать'],\n  ['неотчетливая', 'неотчетливый'],\n  ['обесцвеченный', 'обеспеченный'],\n  ['сердце'],\n  ['болезнь'],\n  ['аллергия'],\n  ['рука'],\n  ['изжога'],\n  ['жжение'],\n  ['кашель'],\n  ['раствор'],\n  ['пациент'],\n  ['пожилой'],\n  ['лекарство'],\n  ['непереносимость'],\n  ['ампула'],\n  ['гель'],\n  ['концентрат'],\n  ['релиф'],\n  ['ЧСС', 'чсс'],\n  ['ЭКГ', 'экг'],\n  ['фибрилляция'],\n  ['желудочек'],\n  ['хронический'],\n  ['гиподинамический'],\n  ['нервный'],\n  ['система'],\n  ['диагностика'],\n  ['гипоксемия'],\n  ['лидокаин'],\n  ['блокатор'],\n  ['тахикардия'],\n  ['малоинвазивный'],\n  ['аблация', 'абляция'],\n  ['ИМ', 'им'],\n  ['поражение'],\n  ['тяжелый'],\n  ['гастропластика'],\n  ['вес'],\n  ['лишний'],\n  ['аорта'],\n  ['клапан'],\n  ['вена'],\n  ['полый'],\n  ['перикард'],\n  ['митральный'],\n  ['ультразвук'],\n  ['хирург'],\n  ['кардиолог'],\n  ['килограмм'],\n  ['акинезия'],\n  ['верхушка'],\n  ['апикальный'],\n  ['сегмент'],\n  ['весь'],\n  ['стенка'],\n  ['циркулярный'],\n  ['срединный'],\n  ['клапанный'],\n  ['аппарат'],\n  ['патология'],\n  ['перикард'],\n  ['проксимальный'],\n  ['диаметр'],\n  ['коррекция'],\n  ['осложнение'],\n  ['страдать'],\n  ['гипертонический'],\n  ['болезнь'],\n  ['адаптировать'],\n  ['получать'],\n  ['консервативный'],\n  ['течение'],\n  ['пребывание'],\n  ['отделение'],\n  ['самочувствие'],\n  ['ухудшение'],\n  ['место'],\n  ['пункция'],\n  ['особенность'],\n  ['шунт'],\n  ['шунтирование'],\n  ['гатчина'],\n  ['эхо'],\n  ['коронарный'],\n  ['артерия'],\n  ['значимый'],\n  ['стеноз'],\n  ['госпитализировать'],\n  ['имя'],\n  ['алмазов'],\n  ['предшествовать'],\n  ['стенокардия'],\n  ['перенести'],\n  ['инфаркт'],\n  ['миокарда'],\n  ['локализация'],\n  ['справка'],\n  ['дальнейший'],\n  ['хроническая недостаточность', 'хронический недостаточность'],\n  ['инфаркт миокарда', 'инфаркт миокард'],\n  ['от узла', 'от узел'],\n  ['нарушение работы', 'нарушение работа'],\n  ['в минуту', 'в минута', 'минута'],\n  ['эндокринная система', 'эндокринный система'],\n  ['сердечный ритм'],\n  ['узловая тахикардия', 'узловой тахикардия'],\n  ['основной факто', 'основные факторы'],\n  ['остановка сердца', 'остановка сердце'],\n  ['фибрилляция желудочков', 'фибрилляция желудочек'],\n  ['с частотой', 'с частотаб частота']]}"
     },
     "execution_count": 56,
     "metadata": {},
     "output_type": "execute_result"
    }
   ],
   "source": [
    "test_pyspellshecker_result = compute_all_metrics(\n",
    "    lambda : test_pyspellshecker(error_precision_test_word_list),\n",
    "    lambda : test_pyspellshecker(lexical_precision_test_word_list),\n",
    "    error_precision_test_word_list, error_precision_test_answers, lexical_precision_test_word_list)\n",
    "test_pyspellshecker_result"
   ],
   "metadata": {
    "collapsed": false,
    "pycharm": {
     "name": "#%%\n"
    }
   }
  },
  {
   "cell_type": "markdown",
   "source": [
    "# PyEnchant - https://pypi.org/project/pyenchant/"
   ],
   "metadata": {
    "collapsed": false
   }
  },
  {
   "cell_type": "code",
   "execution_count": 57,
   "outputs": [
    {
     "name": "stdout",
     "output_type": "stream",
     "text": [
      "Collecting pyenchant\r\n",
      "  Downloading pyenchant-3.2.2-py3-none-any.whl (55 kB)\r\n",
      "     |████████████████████████████████| 55 kB 328 kB/s             \r\n",
      "\u001B[?25hInstalling collected packages: pyenchant\r\n",
      "Successfully installed pyenchant-3.2.2\r\n"
     ]
    }
   ],
   "source": [
    "!pip install pyenchant"
   ],
   "metadata": {
    "collapsed": false,
    "pycharm": {
     "name": "#%%\n"
    }
   }
  },
  {
   "cell_type": "code",
   "execution_count": 58,
   "outputs": [
    {
     "name": "stdout",
     "output_type": "stream",
     "text": [
      "Name: pyenchant\r\n",
      "Version: 3.2.2\r\n",
      "Summary: Python bindings for the Enchant spellchecking system\r\n",
      "Home-page: https://pyenchant.github.io/pyenchant/\r\n",
      "Author: Dimitri Merejkowsky\r\n",
      "Author-email: d.merej@gmail.com\r\n",
      "License: LGPL\r\n",
      "Location: /home/Dmitry.Pogrebnoy/Desktop/MedSpellChecker/venv/lib/python3.9/site-packages\r\n",
      "Requires: \r\n",
      "Required-by: \r\n"
     ]
    }
   ],
   "source": [
    "!pip show pyenchant"
   ],
   "metadata": {
    "collapsed": false,
    "pycharm": {
     "name": "#%%\n"
    }
   }
  },
  {
   "cell_type": "code",
   "execution_count": 83,
   "outputs": [],
   "source": [
    "import enchant"
   ],
   "metadata": {
    "collapsed": false,
    "pycharm": {
     "name": "#%%\n"
    }
   }
  },
  {
   "cell_type": "code",
   "execution_count": 84,
   "outputs": [],
   "source": [
    "def test_enchant(input_word_list):\n",
    "    speller = enchant.Dict(\"ru\")\n",
    "    result = []\n",
    "    timer = tqdm(input_word_list)\n",
    "    for word in timer:\n",
    "        suggestions = speller.suggest(word)\n",
    "        if len(suggestions) == 0:\n",
    "            result.append(word)\n",
    "        else:\n",
    "            result.append(suggestions[0])\n",
    "    return  {\"elapsed\" : timer.format_dict[\"elapsed\"], \"corrected_word_list\" : result}"
   ],
   "metadata": {
    "collapsed": false,
    "pycharm": {
     "name": "#%%\n"
    }
   }
  },
  {
   "cell_type": "code",
   "execution_count": 94,
   "outputs": [
    {
     "name": "stderr",
     "output_type": "stream",
     "text": [
      "100%|██████████| 200/200 [00:07<00:00, 27.12it/s]\n"
     ]
    },
    {
     "name": "stdout",
     "output_type": "stream",
     "text": [
      "Error precision\n",
      "original_word_list --- corrected_word --- answer_word_list\n",
      "эктренном --- экстренном --- ['экстренном']\n",
      "синусовго --- синусов го --- ['синусового']\n",
      "даным --- даны --- ['данным', 'данный', 'данные']\n",
      "шнутография --- нотография --- ['шунтография']\n",
      "сникопальных --- сник опальных --- ['синкопальных']\n",
      "посление --- поселение --- ['поселение', 'последний']\n",
      "ходавый --- хордовый --- ['ходовый']\n",
      "анмнезе --- анамнезе --- ['анамнезе', 'анамнез']\n",
      "сентированный --- сориентированный --- ['стентированный']\n",
      "самоч --- само --- ['самочувствие']\n",
      "перевдена --- перевидена --- ['переведена']\n",
      "стентированеим --- сориентировавшим --- ['стентированием', 'стентирование']\n",
      "кардиол --- кар диол --- ['кардиолог,кардиологический']\n",
      "переведна --- переведена --- ['переведена']\n",
      "догосптальном --- госпитальном --- ['догоспитальном']\n",
      "миним --- мини --- ['минимум', 'минимальный']\n",
      "субфебриллитет --- субмиллиметровый --- ['субфебрилитет']\n",
      "загрудиные --- нагрудные --- ['загрудинные', 'загрудинный']\n",
      "перферия --- периферия --- ['периферия']\n",
      "течени --- течении --- ['течение']\n",
      "оклюзия --- окклюзия --- ['окклюзия']\n",
      "жнщина --- женщина --- ['женщина']\n",
      "пциент --- пациент --- ['пациент']\n",
      "зарегистирована --- зарегистрирована --- ['зарегистрирована']\n",
      "сегмета --- сегмента --- ['сегмента']\n",
      "клекте --- клетке --- ['клетке']\n",
      "эпид --- эпод --- ['эпидемия', 'эпидемиологический', 'эпидуральный']\n",
      "интелектуально --- интеллектуально --- ['интеллектуально']\n",
      "нижн --- ниж --- ['нижний']\n",
      "прводилась --- приводилась --- ['проводилась', 'проводить']\n",
      "неуст --- несут --- ['неустановленный']\n",
      "госптализирован --- госпитализирован --- ['госпитализирован']\n",
      "вперые --- впертые --- ['впервые']\n",
      "послеоперационом --- послеоперационном --- ['послеоперационном']\n",
      "госпитализирова --- госпитализирован --- ['госпитализирован']\n",
      "ухудщение --- ухудшение --- ['ухудшение']\n",
      "рентг --- рента --- ['рентген']\n",
      "дальнешем --- дальнейшем --- ['дальнейшем']\n",
      "троботическая --- астроботаническая --- ['тромботическая']\n",
      "многосоудистое --- многосоставное --- ['многососудистое', 'многососудистый']\n",
      "миокрада --- миокарда --- ['миокарда', 'миокард']\n",
      "сопрвождались --- сопровождались --- ['сопровождались']\n",
      "дискмфорт --- дискомфорт --- ['дискомфорт']\n",
      "потлтвостью --- потливостью --- ['потливостью']\n",
      "левогожелудочка --- левого желудочка --- ['левого желудочка', 'левый желудочек']\n",
      "рание --- рани --- ['ранее', 'ранние']\n",
      "виед --- виде --- ['виде', 'вид']\n",
      "ангинозныеболи --- ангинозные боли --- ['ангинозные боли', 'ангиозный боль']\n",
      "догоситальном --- госпитальном --- ['догоспитальном']\n",
      "ввполнен --- выполнен --- ['выполнен']\n",
      "чаосв --- часов --- ['часов']\n",
      "октазалась --- отказалась --- ['отказалась']\n",
      "линика --- линка --- ['клиника']\n",
      "ммента --- мента --- ['момента']\n",
      "проведеной --- проведено --- ['проведенной']\n",
      "выполненяи --- выполнения --- ['выполнения', 'выполнение']\n",
      "леченяи --- лечения --- ['лечения', 'лечение']\n",
      "обтилась --- отбилась --- ['обратилась']\n",
      "повтороно --- повторно --- ['повторно']\n",
      "зарегистриованы --- зарегистрированы --- ['зарегистрированы']\n",
      "отицает --- отрицает --- ['отрицает', 'отрицать']\n",
      "дальнейщем --- дальнейшем --- ['дальнейшем']\n",
      "болисохраняются --- боли сохраняются --- ['боли сохраняются']\n",
      "частичынм --- частичным --- ['частичным']\n",
      "атерокслеротичсекая --- атеросклеротическая --- ['атеросклеротическая']\n",
      "деньс --- день --- ['день', 'день с']\n",
      "назначаля --- назначал --- ['назначался']\n",
      "проведеняи --- проведения --- ['проведения']\n",
      "беспакоют --- беспокоит --- ['беспокоят']\n",
      "гипертензи --- гипертензии --- ['гипертензия']\n",
      "воленйбол --- волейбол --- ['волейбол']\n",
      "болезн --- болен --- ['болезнь']\n",
      "стенокардаа --- стенокардия --- ['стенокардия']\n",
      "продолжалсь --- продолжались --- ['продолжалась']\n",
      "поворное --- повторное --- ['повторное']\n",
      "ощуащет --- ощущает --- ['ощущает']\n",
      "ангигнозного --- ангинозного --- ['ангинозного', 'ангинозный']\n",
      "диагностичекой --- диагностической --- ['диагностической', 'диагностический']\n",
      "поддерживающией --- поддерживающие --- ['поддерживающий']\n",
      "межлопаточнй --- лопаточный --- ['межлопаточный']\n",
      "бедреной --- бедренной --- ['бедренной', 'бедренный']\n",
      "гшрядки --- грядки --- ['грядки']\n",
      "бассеине --- бассейне --- ['бассейне', 'бассейн']\n",
      "возлуха --- воздуха --- ['воздуха', 'воздух']\n",
      "сенября --- сентября --- ['сентября', 'сентябрь']\n",
      "постояная --- постоянная --- ['постоянная', 'постоянный']\n",
      "рекмоендовнао --- рекомендовано --- ['рекомендовано']\n",
      "поврждения --- повреждения --- ['повреждения']\n",
      "дискофморта --- дискомфорта --- ['дискомфорт']\n",
      "импалнтирован --- имплантирован --- ['имплантирован', 'имплантировать']\n",
      "неочетливая --- неотчетливая --- ['неотчетливая', 'неотчетливый']\n",
      "обесвеченный --- обесцвеченный --- ['обесцвеченный', 'обеспеченный']\n",
      "серце --- сере --- ['сердце']\n",
      "блезнь --- болезнь --- ['болезнь']\n",
      "лергия --- аллергия --- ['аллергия']\n",
      "ука --- ка --- ['рука']\n",
      "изжга --- изжога --- ['изжога']\n",
      "жение --- жени --- ['жжение']\n",
      "кашел --- кашле --- ['кашель']\n",
      "рствор --- створ --- ['раствор']\n",
      "пациен --- пациент --- ['пациент']\n",
      "пожлой --- полой --- ['пожилой']\n",
      "лекарсво --- лекарство --- ['лекарство']\n",
      "нпреносимость --- непереносимость --- ['непереносимость']\n",
      "амупула --- ампула --- ['ампула']\n",
      "гел --- лег --- ['гель']\n",
      "конценрат --- концентрат --- ['концентрат']\n",
      "рилиф --- рифли --- ['релиф']\n",
      "чссс --- СССР --- ['ЧСС', 'чсс']\n",
      "экгъ --- ЭКГ --- ['ЭКГ', 'экг']\n",
      "фибриляция --- фибрилляция --- ['фибрилляция']\n",
      "желдочек --- желудочек --- ['желудочек']\n",
      "хрон --- хрен --- ['хронический']\n",
      "гиподин --- подин --- ['гиподинамический']\n",
      "нерный --- нервный --- ['нервный']\n",
      "сист --- сист --- ['система']\n",
      "диагоностика --- диагностика --- ['диагностика']\n",
      "гипоксмия --- гипоксия --- ['гипоксемия']\n",
      "ледокоин --- ледокол --- ['лидокаин']\n",
      "блокато --- блокатор --- ['блокатор']\n",
      "тахкардия --- тахикардия --- ['тахикардия']\n",
      "малоинвозивный --- малоинформативный --- ['малоинвазивный']\n",
      "алация --- акация --- ['аблация', 'абляция']\n",
      "имь --- им --- ['ИМ', 'им']\n",
      "паражение --- поражение --- ['поражение']\n",
      "тяжолый --- тяжелый --- ['тяжелый']\n",
      "гастрапластика --- органопластика --- ['гастропластика']\n",
      "вс --- св --- ['вес']\n",
      "лешний --- лишней --- ['лишний']\n",
      "орта --- рота --- ['аорта']\n",
      "клапа --- капа --- ['клапан']\n",
      "вент --- вен --- ['вена']\n",
      "палый --- пылай --- ['полый']\n",
      "пирикард --- перикард --- ['перикард']\n",
      "метральный --- метальный --- ['митральный']\n",
      "ултразвук --- ультразвук --- ['ультразвук']\n",
      "херург --- хирург --- ['хирург']\n",
      "кордиолог --- кардиолог --- ['кардиолог']\n",
      "килограм --- килограмм --- ['килограмм']\n",
      "акенезия --- акинезия --- ['акинезия']\n",
      "врхушка --- врушка --- ['верхушка']\n",
      "апекальный --- апикальный --- ['апикальный']\n",
      "сгмент --- сегмент --- ['сегмент']\n",
      "вес --- все --- ['весь']\n",
      "сьенка --- стенка --- ['стенка']\n",
      "церкулярный --- циркулярный --- ['циркулярный']\n",
      "сридиный --- срединный --- ['срединный']\n",
      "калапаный --- клапанный --- ['клапанный']\n",
      "апарат --- аппарат --- ['аппарат']\n",
      "потология --- топология --- ['патология']\n",
      "перекард --- перикард --- ['перикард']\n",
      "праксимальный --- проксимальный --- ['проксимальный']\n",
      "деаметр --- диаметр --- ['диаметр']\n",
      "корекция --- коррекция --- ['коррекция']\n",
      "аслажнение --- наслаждение --- ['осложнение']\n",
      "стрдать --- страдать --- ['страдать']\n",
      "гепертонический --- гипертонический --- ['гипертонический']\n",
      "болезн --- болен --- ['болезнь']\n",
      "одоптировать --- кооптировать --- ['адаптировать']\n",
      "получять --- получить --- ['получать']\n",
      "кансервативный --- консервативный --- ['консервативный']\n",
      "тичение --- точение --- ['течение']\n",
      "пребование --- пробование --- ['пребывание']\n",
      "отбиление --- отбавление --- ['отделение']\n",
      "самачувствие --- самочувствие --- ['самочувствие']\n",
      "уходшение --- ухудшение --- ['ухудшение']\n",
      "месро --- место --- ['место']\n",
      "пункцыя --- пункция --- ['пункция']\n",
      "особеность --- особенность --- ['особенность']\n",
      "шнут --- шунт --- ['шунт']\n",
      "шнутирование --- шунтирование --- ['шунтирование']\n",
      "готчина --- вотчина --- ['гатчина']\n",
      "эхэ --- эх --- ['эхо']\n",
      "каранарный --- карандашный --- ['коронарный']\n",
      "ортерия --- артерия --- ['артерия']\n",
      "сначимый --- значимый --- ['значимый']\n",
      "стинос --- остинато --- ['стеноз']\n",
      "гаспиализировать --- госпитализировать --- ['госпитализировать']\n",
      "имья --- имя --- ['имя']\n",
      "олмазов --- алмазов --- ['алмазов']\n",
      "прдшствовать --- предшествовать --- ['предшествовать']\n",
      "стинакардия --- стенокардия --- ['стенокардия']\n",
      "пиринести --- принести --- ['перенести']\n",
      "ифаркт --- инфаркт --- ['инфаркт']\n",
      "моикарда --- миокарда --- ['миокарда']\n",
      "лакализация --- алкализация --- ['локализация']\n",
      "спразка --- справка --- ['справка']\n",
      "дальнейшый --- дальнейший --- ['дальнейший']\n",
      "хроническаянедостаточность --- хроническая недостаточность --- ['хроническая недостаточность', 'хронический недостаточность']\n",
      "инфарктмиокарда --- инфаркт миокарда --- ['инфаркт миокарда', 'инфаркт миокард']\n",
      "отузла --- от узла --- ['от узла', 'от узел']\n",
      "нарушениеработы --- нарушение работы --- ['нарушение работы', 'нарушение работа']\n",
      "вминуту --- минуту --- ['в минуту', 'в минута', 'минута']\n",
      "эндокриннойсистемы --- эндокринной системы --- ['эндокринная система', 'эндокринный система']\n",
      "сердечныйритм --- сердечный ритм --- ['сердечный ритм']\n",
      "узловаятахикардия --- узловая тахикардия --- ['узловая тахикардия', 'узловой тахикардия']\n",
      "основныефакторы --- основные факторы --- ['основной факто', 'основные факторы']\n",
      "остановкасердца --- остановка сердца --- ['остановка сердца', 'остановка сердце']\n",
      "фибрилляцияжелудочков --- фибрилляция желудочков --- ['фибрилляция желудочков', 'фибрилляция желудочек']\n",
      "счастотой --- частотой --- ['с частотой', 'с частотаб частота']\n",
      "Right corrected words count - 120 of 200 total\n"
     ]
    },
    {
     "name": "stderr",
     "output_type": "stream",
     "text": [
      "100%|██████████| 1/1 [00:00<00:00, 40.65it/s]"
     ]
    },
    {
     "name": "stdout",
     "output_type": "stream",
     "text": [
      "Lexical precision\n",
      "original_word_list --- corrected_word\n",
      "Привет --- Привет\n",
      "Right corrected words count - 1 of 1 total\n"
     ]
    },
    {
     "name": "stderr",
     "output_type": "stream",
     "text": [
      "\n"
     ]
    },
    {
     "data": {
      "text/plain": "{'words_per_minute': 1629.4213886652708,\n 'error_precision': 0.6,\n 'lexical_precision': 1.0}"
     },
     "execution_count": 94,
     "metadata": {},
     "output_type": "execute_result"
    }
   ],
   "source": [
    "test_enchant_result = compute_all_metrics(\n",
    "    lambda : test_enchant(error_precision_test_word_list),\n",
    "    lambda : test_enchant(lexical_precision_test_word_list),\n",
    "    error_precision_test_word_list, error_precision_test_answers, lexical_precision_test_word_list)\n",
    "test_enchant_result"
   ],
   "metadata": {
    "collapsed": false,
    "pycharm": {
     "name": "#%%\n"
    }
   }
  },
  {
   "cell_type": "markdown",
   "source": [
    "## Show results in table"
   ],
   "metadata": {
    "collapsed": false
   }
  },
  {
   "cell_type": "code",
   "execution_count": 49,
   "outputs": [
    {
     "name": "stdout",
     "output_type": "stream",
     "text": [
      "Requirement already satisfied: tabulate in /home/Dmitry.Pogrebnoy/Desktop/MedSpellChecker/venv/lib/python3.9/site-packages (0.8.9)\r\n"
     ]
    }
   ],
   "source": [
    "!pip install tabulate"
   ],
   "metadata": {
    "collapsed": false,
    "pycharm": {
     "name": "#%%\n"
    }
   }
  },
  {
   "cell_type": "code",
   "execution_count": 50,
   "outputs": [],
   "source": [
    "from tabulate import tabulate"
   ],
   "metadata": {
    "collapsed": false,
    "pycharm": {
     "name": "#%%\n"
    }
   }
  },
  {
   "cell_type": "code",
   "execution_count": 51,
   "outputs": [
    {
     "ename": "NameError",
     "evalue": "name 'spellchecker_prototype_v2_metrics' is not defined",
     "output_type": "error",
     "traceback": [
      "\u001B[0;31m---------------------------------------------------------------------------\u001B[0m",
      "\u001B[0;31mNameError\u001B[0m                                 Traceback (most recent call last)",
      "\u001B[0;32m/tmp/ipykernel_120413/1001240362.py\u001B[0m in \u001B[0;36m<module>\u001B[0;34m\u001B[0m\n\u001B[1;32m      1\u001B[0m \u001B[0mheader\u001B[0m \u001B[0;34m=\u001B[0m \u001B[0;34m[\u001B[0m\u001B[0;34m\"Tool name\"\u001B[0m\u001B[0;34m,\u001B[0m \u001B[0;34m\"Avg words per minute\"\u001B[0m\u001B[0;34m,\u001B[0m \u001B[0;34m\"Error precision\"\u001B[0m\u001B[0;34m,\u001B[0m \u001B[0;34m\"Lexical precision\"\u001B[0m\u001B[0;34m]\u001B[0m\u001B[0;34m\u001B[0m\u001B[0;34m\u001B[0m\u001B[0m\n\u001B[0;32m----> 2\u001B[0;31m table = [[\"Spellchecker prototype v2\", spellchecker_prototype_v2_metrics[\"words_per_minute\"], spellchecker_prototype_v2_metrics[\"error_precision\"], spellchecker_prototype_v2_metrics[\"lexical_precision\"]],\n\u001B[0m\u001B[1;32m      3\u001B[0m          \u001B[0;34m[\u001B[0m\u001B[0;34m\"Symspell lookup\"\u001B[0m\u001B[0;34m,\u001B[0m \u001B[0mtest_symspell_py_lookup_result\u001B[0m\u001B[0;34m[\u001B[0m\u001B[0;34m\"words_per_minute\"\u001B[0m\u001B[0;34m]\u001B[0m\u001B[0;34m,\u001B[0m \u001B[0mtest_symspell_py_lookup_result\u001B[0m\u001B[0;34m[\u001B[0m\u001B[0;34m\"error_precision\"\u001B[0m\u001B[0;34m]\u001B[0m\u001B[0;34m,\u001B[0m \u001B[0mtest_symspell_py_lookup_result\u001B[0m\u001B[0;34m[\u001B[0m\u001B[0;34m\"lexical_precision\"\u001B[0m\u001B[0;34m]\u001B[0m\u001B[0;34m]\u001B[0m\u001B[0;34m,\u001B[0m\u001B[0;34m\u001B[0m\u001B[0;34m\u001B[0m\u001B[0m\n\u001B[1;32m      4\u001B[0m          \u001B[0;34m[\u001B[0m\u001B[0;34m\"Symspell lookup compound\"\u001B[0m\u001B[0;34m,\u001B[0m \u001B[0mtest_symspell_py_lookup_compound_result\u001B[0m\u001B[0;34m[\u001B[0m\u001B[0;34m\"words_per_minute\"\u001B[0m\u001B[0;34m]\u001B[0m\u001B[0;34m,\u001B[0m \u001B[0mtest_symspell_py_lookup_compound_result\u001B[0m\u001B[0;34m[\u001B[0m\u001B[0;34m\"error_precision\"\u001B[0m\u001B[0;34m]\u001B[0m\u001B[0;34m,\u001B[0m \u001B[0mtest_symspell_py_lookup_compound_result\u001B[0m\u001B[0;34m[\u001B[0m\u001B[0;34m\"lexical_precision\"\u001B[0m\u001B[0;34m]\u001B[0m\u001B[0;34m]\u001B[0m\u001B[0;34m,\u001B[0m\u001B[0;34m\u001B[0m\u001B[0;34m\u001B[0m\u001B[0m\n\u001B[1;32m      5\u001B[0m          \u001B[0;34m[\u001B[0m\u001B[0;34m\"Jumspell\"\u001B[0m\u001B[0;34m,\u001B[0m \u001B[0mtest_jumspell_result\u001B[0m\u001B[0;34m[\u001B[0m\u001B[0;34m\"words_per_minute\"\u001B[0m\u001B[0;34m]\u001B[0m\u001B[0;34m,\u001B[0m \u001B[0mtest_jumspell_result\u001B[0m\u001B[0;34m[\u001B[0m\u001B[0;34m\"error_precision\"\u001B[0m\u001B[0;34m]\u001B[0m\u001B[0;34m,\u001B[0m \u001B[0mtest_jumspell_result\u001B[0m\u001B[0;34m[\u001B[0m\u001B[0;34m\"lexical_precision\"\u001B[0m\u001B[0;34m]\u001B[0m\u001B[0;34m]\u001B[0m\u001B[0;34m,\u001B[0m\u001B[0;34m\u001B[0m\u001B[0;34m\u001B[0m\u001B[0m\n",
      "\u001B[0;31mNameError\u001B[0m: name 'spellchecker_prototype_v2_metrics' is not defined"
     ]
    }
   ],
   "source": [
    "header = [\"Tool name\", \"Avg words per minute\", \"Error precision\", \"Lexical precision\"]\n",
    "table = [[\"Spellchecker prototype v2\", spellchecker_prototype_v2_metrics[\"words_per_minute\"], spellchecker_prototype_v2_metrics[\"error_precision\"], spellchecker_prototype_v2_metrics[\"lexical_precision\"]],\n",
    "         [\"Symspell lookup\", test_symspell_py_lookup_result[\"words_per_minute\"], test_symspell_py_lookup_result[\"error_precision\"], test_symspell_py_lookup_result[\"lexical_precision\"]],\n",
    "         [\"Symspell lookup compound\", test_symspell_py_lookup_compound_result[\"words_per_minute\"], test_symspell_py_lookup_compound_result[\"error_precision\"], test_symspell_py_lookup_compound_result[\"lexical_precision\"]],\n",
    "         [\"Jumspell\", test_jumspell_result[\"words_per_minute\"], test_jumspell_result[\"error_precision\"], test_jumspell_result[\"lexical_precision\"]],\n",
    "         [\"LanguageTool\", test_language_tool_result[\"words_per_minute\"], test_language_tool_result[\"error_precision\"], test_language_tool_result[\"lexical_precision\"]],\n",
    "         [\"Aspell\", test_aspell_result[\"words_per_minute\"], test_aspell_result[\"error_precision\"], test_aspell_result[\"lexical_precision\"]],\n",
    "         [\"Hunspell\", test_hunspell_result[\"words_per_minute\"], test_hunspell_result[\"error_precision\"], test_hunspell_result[\"lexical_precision\"]],\n",
    "         [\"PySpellChecker \\n(Peter Norvig's)\", test_pyspellshecker_result[\"words_per_minute\"], test_pyspellshecker_result[\"error_precision\"], test_pyspellshecker_result[\"lexical_precision\"]],\n",
    "         [\"Enchant\", test_enchant_result[\"words_per_minute\"], test_enchant_result[\"error_precision\"], test_enchant_result[\"lexical_precision\"]],]\n",
    "print(tabulate(table, headers=header))"
   ],
   "metadata": {
    "collapsed": false,
    "pycharm": {
     "name": "#%%\n"
    }
   }
  },
  {
   "cell_type": "code",
   "execution_count": null,
   "outputs": [],
   "source": [],
   "metadata": {
    "collapsed": false,
    "pycharm": {
     "name": "#%%\n"
    }
   }
  }
 ],
 "metadata": {
  "colab": {
   "name": "Spellchecker_tests.ipynb",
   "provenance": []
  },
  "kernelspec": {
   "display_name": "Python 3 (ipykernel)",
   "language": "python",
   "name": "python3"
  },
  "language_info": {
   "codemirror_mode": {
    "name": "ipython",
    "version": 3
   },
   "file_extension": ".py",
   "mimetype": "text/x-python",
   "name": "python",
   "nbconvert_exporter": "python",
   "pygments_lexer": "ipython3",
   "version": "3.9.1"
  }
 },
 "nbformat": 4,
 "nbformat_minor": 1
}