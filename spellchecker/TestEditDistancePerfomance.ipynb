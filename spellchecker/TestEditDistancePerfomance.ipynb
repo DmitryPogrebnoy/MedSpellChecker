{
 "cells": [
  {
   "cell_type": "code",
   "execution_count": 23,
   "metadata": {
    "collapsed": true,
    "pycharm": {
     "name": "#%%\n"
    }
   },
   "outputs": [],
   "source": [
    "import timeit"
   ]
  },
  {
   "cell_type": "code",
   "execution_count": 24,
   "outputs": [
    {
     "name": "stdout",
     "output_type": "stream",
     "text": [
      "Requirement already satisfied: pip in /home/Dmitry.Pogrebnoy/Desktop/MedSpellChecker/venv/lib/python3.9/site-packages (21.3.1)\r\n"
     ]
    }
   ],
   "source": [
    "!pip install --upgrade pip"
   ],
   "metadata": {
    "collapsed": false,
    "pycharm": {
     "name": "#%%\n"
    }
   }
  },
  {
   "cell_type": "code",
   "execution_count": 25,
   "outputs": [],
   "source": [
    "test_string_1_1: str = \"частнопредпринимательский\"\n",
    "test_string_1_2: str = \"чеснтопредпринимательский\" # one transpose and one replace\n",
    "test_string_2_1: str = \"человеконенавистничество\"\n",
    "test_string_2_2: str = \"челвеконеанавистничество\" # one delete and one add"
   ],
   "metadata": {
    "collapsed": false,
    "pycharm": {
     "name": "#%%\n"
    }
   }
  },
  {
   "cell_type": "markdown",
   "source": [
    "# True Damerau-Levenshtein distance"
   ],
   "metadata": {
    "collapsed": false,
    "pycharm": {
     "name": "#%% md\n"
    }
   }
  },
  {
   "cell_type": "code",
   "execution_count": 26,
   "outputs": [
    {
     "name": "stdout",
     "output_type": "stream",
     "text": [
      "Requirement already satisfied: pyxDamerauLevenshtein in /home/Dmitry.Pogrebnoy/Desktop/MedSpellChecker/venv/lib/python3.9/site-packages (1.7.0)\r\n"
     ]
    }
   ],
   "source": [
    "!pip install pyxDamerauLevenshtein"
   ],
   "metadata": {
    "collapsed": false,
    "pycharm": {
     "name": "#%%\n"
    }
   }
  },
  {
   "cell_type": "code",
   "execution_count": 27,
   "outputs": [
    {
     "name": "stdout",
     "output_type": "stream",
     "text": [
      "2\n",
      "2\n",
      "pyxdameraulevenshtein: damerau_levenshtein_distance test1 - 75.40398944200024\n",
      "pyxdameraulevenshtein: damerau_levenshtein_distance test2 - 56.43684218599992\n"
     ]
    }
   ],
   "source": [
    "import pyxdameraulevenshtein\n",
    "\n",
    "print(pyxdameraulevenshtein.damerau_levenshtein_distance(test_string_1_1, test_string_1_2))\n",
    "print(pyxdameraulevenshtein.damerau_levenshtein_distance(test_string_2_1,test_string_2_2))\n",
    "\n",
    "print(\"pyxdameraulevenshtein: damerau_levenshtein_distance test1 - \" + str(timeit.timeit(lambda : pyxdameraulevenshtein.damerau_levenshtein_distance(test_string_1_1, test_string_1_2))))\n",
    "\n",
    "print(\"pyxdameraulevenshtein: damerau_levenshtein_distance test2 - \" + str(timeit.timeit(lambda : pyxdameraulevenshtein.damerau_levenshtein_distance(test_string_2_1,test_string_2_2))))"
   ],
   "metadata": {
    "collapsed": false,
    "pycharm": {
     "name": "#%%\n"
    }
   }
  },
  {
   "cell_type": "code",
   "execution_count": 28,
   "outputs": [
    {
     "name": "stdout",
     "output_type": "stream",
     "text": [
      "Requirement already satisfied: fastDamerauLevenshtein in /home/Dmitry.Pogrebnoy/Desktop/MedSpellChecker/venv/lib/python3.9/site-packages (1.0.7)\r\n"
     ]
    }
   ],
   "source": [
    "!pip install fastDamerauLevenshtein"
   ],
   "metadata": {
    "collapsed": false,
    "pycharm": {
     "name": "#%%\n"
    }
   }
  },
  {
   "cell_type": "code",
   "execution_count": 29,
   "outputs": [
    {
     "name": "stdout",
     "output_type": "stream",
     "text": [
      "2.0\n",
      "2.0\n",
      "fastDamerauLevenshtein: damerauLevenshtein test1 - 8.332083060999594\n",
      "fastDamerauLevenshtein: damerauLevenshtein test2 - 7.166207725999811\n"
     ]
    }
   ],
   "source": [
    "import fastDamerauLevenshtein\n",
    "\n",
    "print(fastDamerauLevenshtein.damerauLevenshtein(test_string_1_1, test_string_1_2, False))\n",
    "print(fastDamerauLevenshtein.damerauLevenshtein(test_string_2_1,test_string_2_2, False))\n",
    "\n",
    "print(\"fastDamerauLevenshtein: damerauLevenshtein test1 - \" + str(timeit.timeit(lambda : fastDamerauLevenshtein.damerauLevenshtein(test_string_1_1, test_string_1_2, False))))\n",
    "\n",
    "print(\"fastDamerauLevenshtein: damerauLevenshtein test2 - \" + str(timeit.timeit(lambda : fastDamerauLevenshtein.damerauLevenshtein(test_string_2_1,test_string_2_2, False))))"
   ],
   "metadata": {
    "collapsed": false,
    "pycharm": {
     "name": "#%%\n"
    }
   }
  },
  {
   "cell_type": "code",
   "execution_count": 30,
   "outputs": [
    {
     "name": "stdout",
     "output_type": "stream",
     "text": [
      "Requirement already satisfied: jellyfish in /home/Dmitry.Pogrebnoy/Desktop/MedSpellChecker/venv/lib/python3.9/site-packages (0.9.0)\r\n"
     ]
    }
   ],
   "source": [
    "!pip install jellyfish"
   ],
   "metadata": {
    "collapsed": false,
    "pycharm": {
     "name": "#%%\n"
    }
   }
  },
  {
   "cell_type": "code",
   "execution_count": 31,
   "outputs": [
    {
     "name": "stdout",
     "output_type": "stream",
     "text": [
      "2\n",
      "2\n",
      "jellyfish: damerau_levenshtein_distance test1 - 4.964812407999943\n",
      "jellyfish: damerau_levenshtein_distance test2 - 4.698997202999635\n"
     ]
    }
   ],
   "source": [
    "import jellyfish\n",
    "\n",
    "print(jellyfish.damerau_levenshtein_distance(test_string_1_1, test_string_1_2))\n",
    "print(jellyfish.damerau_levenshtein_distance(test_string_2_1,test_string_2_2))\n",
    "\n",
    "print(\"jellyfish: damerau_levenshtein_distance test1 - \" + str(timeit.timeit(lambda : jellyfish.damerau_levenshtein_distance(test_string_1_1, test_string_1_2))))\n",
    "\n",
    "print(\"jellyfish: damerau_levenshtein_distance test2 - \" + str(timeit.timeit(lambda : jellyfish.damerau_levenshtein_distance(test_string_2_1,test_string_2_2))))"
   ],
   "metadata": {
    "collapsed": false,
    "pycharm": {
     "name": "#%%\n"
    }
   }
  },
  {
   "cell_type": "code",
   "execution_count": 32,
   "outputs": [
    {
     "name": "stdout",
     "output_type": "stream",
     "text": [
      "Requirement already satisfied: textdistance[DamerauLevenshtein] in /home/Dmitry.Pogrebnoy/Desktop/MedSpellChecker/venv/lib/python3.9/site-packages (4.2.2)\r\n",
      "Requirement already satisfied: jellyfish in /home/Dmitry.Pogrebnoy/Desktop/MedSpellChecker/venv/lib/python3.9/site-packages (from textdistance[DamerauLevenshtein]) (0.9.0)\r\n",
      "Requirement already satisfied: pyxDamerauLevenshtein in /home/Dmitry.Pogrebnoy/Desktop/MedSpellChecker/venv/lib/python3.9/site-packages (from textdistance[DamerauLevenshtein]) (1.7.0)\r\n"
     ]
    }
   ],
   "source": [
    "!pip install \"textdistance[DamerauLevenshtein]\""
   ],
   "metadata": {
    "collapsed": false,
    "pycharm": {
     "name": "#%%\n"
    }
   }
  },
  {
   "cell_type": "code",
   "execution_count": 33,
   "outputs": [
    {
     "name": "stdout",
     "output_type": "stream",
     "text": [
      "2\n",
      "2\n",
      "textdistance: damerau_levenshtein test1 - 8.115871093999885\n",
      "textdistance: damerau_levenshtein test2 - 7.88729059599973\n"
     ]
    }
   ],
   "source": [
    "import textdistance\n",
    "\n",
    "print(textdistance.damerau_levenshtein(test_string_1_1, test_string_1_2))\n",
    "print(textdistance.damerau_levenshtein(test_string_2_1,test_string_2_2))\n",
    "\n",
    "print(\"textdistance: damerau_levenshtein test1 - \" + str(timeit.timeit(lambda : textdistance.damerau_levenshtein(test_string_1_1, test_string_1_2))))\n",
    "\n",
    "print(\"textdistance: damerau_levenshtein test2 - \" + str(timeit.timeit(lambda : textdistance.damerau_levenshtein(test_string_2_1,test_string_2_2))))"
   ],
   "metadata": {
    "collapsed": false,
    "pycharm": {
     "name": "#%%\n"
    }
   }
  },
  {
   "cell_type": "code",
   "execution_count": 34,
   "outputs": [
    {
     "name": "stdout",
     "output_type": "stream",
     "text": [
      "Requirement already satisfied: editdistpy in /home/Dmitry.Pogrebnoy/Desktop/MedSpellChecker/venv/lib/python3.9/site-packages (0.1.3)\r\n"
     ]
    }
   ],
   "source": [
    "!pip install -U editdistpy"
   ],
   "metadata": {
    "collapsed": false,
    "pycharm": {
     "name": "#%%\n"
    }
   }
  },
  {
   "cell_type": "code",
   "execution_count": 35,
   "outputs": [
    {
     "name": "stdout",
     "output_type": "stream",
     "text": [
      "2\n",
      "2\n",
      "editdistpy: damerau_osa test1 - 1.4374117600000318\n",
      "editdistpy: damerau_osa test2 - 1.417567152999709\n"
     ]
    }
   ],
   "source": [
    "from editdistpy import damerau_osa\n",
    "\n",
    "print(damerau_osa.distance(test_string_1_1, test_string_1_2, 2))\n",
    "print(damerau_osa.distance(test_string_2_1,test_string_2_2, 2))\n",
    "\n",
    "print(\"editdistpy: damerau_osa test1 - \" + str(timeit.timeit(lambda : damerau_osa.distance(test_string_1_1, test_string_1_2, 2))))\n",
    "\n",
    "print(\"editdistpy: damerau_osa test2 - \" + str(timeit.timeit(lambda : damerau_osa.distance(test_string_2_1,test_string_2_2, 2))))"
   ],
   "metadata": {
    "collapsed": false,
    "pycharm": {
     "name": "#%%\n"
    }
   }
  },
  {
   "cell_type": "markdown",
   "source": [
    "This lib for computing editdistance is extremely slow! (used in initial prototype from article)"
   ],
   "metadata": {
    "collapsed": false,
    "pycharm": {
     "name": "#%% md\n"
    }
   }
  },
  {
   "cell_type": "code",
   "execution_count": 36,
   "outputs": [
    {
     "name": "stdout",
     "output_type": "stream",
     "text": [
      "2\n",
      "2\n",
      "stringdist: rdlevenshtein test1 - 384.75301231599997\n",
      "stringdist: rdlevenshtein test2 - 362.13162366999995\n"
     ]
    }
   ],
   "source": [
    "import stringdist\n",
    "\n",
    "print(stringdist.rdlevenshtein(test_string_1_1, test_string_1_2))\n",
    "print(stringdist.rdlevenshtein(test_string_2_1,test_string_2_2))\n",
    "\n",
    "print(\"stringdist: rdlevenshtein test1 - \" + str(timeit.timeit(lambda : stringdist.rdlevenshtein(test_string_1_1, test_string_1_2))))\n",
    "\n",
    "print(\"stringdist: rdlevenshtein test2 - \" + str(timeit.timeit(lambda : stringdist.rdlevenshtein(test_string_2_1,test_string_2_2))))"
   ],
   "metadata": {
    "collapsed": false,
    "pycharm": {
     "name": "#%%\n"
    }
   }
  },
  {
   "cell_type": "markdown",
   "source": [
    "# Levenshtain distance"
   ],
   "metadata": {
    "collapsed": false,
    "pycharm": {
     "name": "#%% md\n"
    }
   }
  },
  {
   "cell_type": "code",
   "execution_count": 37,
   "outputs": [
    {
     "name": "stdout",
     "output_type": "stream",
     "text": [
      "Requirement already satisfied: editdistance-s in /home/Dmitry.Pogrebnoy/Desktop/MedSpellChecker/venv/lib/python3.9/site-packages (1.0.0)\r\n",
      "Requirement already satisfied: cffi>=1 in /home/Dmitry.Pogrebnoy/Desktop/MedSpellChecker/venv/lib/python3.9/site-packages (from editdistance-s) (1.15.0)\r\n",
      "Requirement already satisfied: pycparser in /home/Dmitry.Pogrebnoy/Desktop/MedSpellChecker/venv/lib/python3.9/site-packages (from cffi>=1->editdistance-s) (2.21)\r\n"
     ]
    }
   ],
   "source": [
    "!pip install editdistance-s"
   ],
   "metadata": {
    "collapsed": false,
    "pycharm": {
     "name": "#%%\n"
    }
   }
  },
  {
   "cell_type": "code",
   "execution_count": 38,
   "outputs": [
    {
     "name": "stdout",
     "output_type": "stream",
     "text": [
      "3\n",
      "2\n",
      "editdistance-s: distance test1 - 1.1667037890001666\n",
      "editdistance-s: distance test2 - 0.9929535759997634\n"
     ]
    }
   ],
   "source": [
    "import editdistance_s\n",
    "\n",
    "print(editdistance_s.distance(test_string_1_1, test_string_1_2))\n",
    "print(editdistance_s.distance(test_string_2_1,test_string_2_2))\n",
    "\n",
    "print(\"editdistance-s: distance test1 - \" + str(timeit.timeit(lambda : editdistance_s.distance(test_string_1_1, test_string_1_2))))\n",
    "\n",
    "print(\"editdistance-s: distance test2 - \" + str(timeit.timeit(lambda : editdistance_s.distance(test_string_2_1,test_string_2_2))))"
   ],
   "metadata": {
    "collapsed": false,
    "pycharm": {
     "name": "#%%\n"
    }
   }
  },
  {
   "cell_type": "code",
   "execution_count": 39,
   "outputs": [
    {
     "name": "stdout",
     "output_type": "stream",
     "text": [
      "3\n",
      "2\n",
      "jellyfish: levenshtein_distance test1 - 1.2837985800001661\n",
      "jellyfish: levenshtein_distance test2 - 1.127846559000318\n"
     ]
    }
   ],
   "source": [
    "import jellyfish\n",
    "\n",
    "print(jellyfish.levenshtein_distance(test_string_1_1, test_string_1_2))\n",
    "print(jellyfish.levenshtein_distance(test_string_2_1,test_string_2_2))\n",
    "\n",
    "print(\"jellyfish: levenshtein_distance test1 - \" + str(timeit.timeit(lambda : jellyfish.levenshtein_distance(test_string_1_1, test_string_1_2))))\n",
    "\n",
    "print(\"jellyfish: levenshtein_distance test2 - \" + str(timeit.timeit(lambda : jellyfish.levenshtein_distance(test_string_2_1,test_string_2_2))))"
   ],
   "metadata": {
    "collapsed": false,
    "pycharm": {
     "name": "#%%\n"
    }
   }
  },
  {
   "cell_type": "code",
   "execution_count": 40,
   "outputs": [
    {
     "name": "stdout",
     "output_type": "stream",
     "text": [
      "3\n",
      "2\n",
      "textdistance: levenshtein test1 - 5.210575707999851\n",
      "textdistance: levenshtein test2 - 5.061802750999959\n"
     ]
    }
   ],
   "source": [
    "import textdistance\n",
    "\n",
    "print(textdistance.levenshtein(test_string_1_1, test_string_1_2))\n",
    "print(textdistance.levenshtein(test_string_2_1,test_string_2_2))\n",
    "\n",
    "print(\"textdistance: levenshtein test1 - \" + str(timeit.timeit(lambda : textdistance.levenshtein(test_string_1_1, test_string_1_2))))\n",
    "\n",
    "print(\"textdistance: levenshtein test2 - \" + str(timeit.timeit(lambda : textdistance.levenshtein(test_string_2_1,test_string_2_2))))"
   ],
   "metadata": {
    "collapsed": false,
    "pycharm": {
     "name": "#%%\n"
    }
   }
  },
  {
   "cell_type": "code",
   "execution_count": 41,
   "outputs": [
    {
     "name": "stdout",
     "output_type": "stream",
     "text": [
      "-1\n",
      "2\n",
      "editdistpy: levenshtein test1 - 1.3602881130000242\n",
      "editdistpy: levenshtein test2 - 1.3405677579999065\n"
     ]
    }
   ],
   "source": [
    "from editdistpy import levenshtein\n",
    "\n",
    "print(levenshtein.distance(test_string_1_1, test_string_1_2, 2))\n",
    "print(levenshtein.distance(test_string_2_1,test_string_2_2, 2))\n",
    "\n",
    "print(\"editdistpy: levenshtein test1 - \" + str(timeit.timeit(lambda : levenshtein.distance(test_string_1_1, test_string_1_2, 2))))\n",
    "\n",
    "print(\"editdistpy: levenshtein test2 - \" + str(timeit.timeit(lambda : levenshtein.distance(test_string_2_1,test_string_2_2, 2))))"
   ],
   "metadata": {
    "collapsed": false,
    "pycharm": {
     "name": "#%%\n"
    }
   }
  },
  {
   "cell_type": "code",
   "execution_count": 42,
   "outputs": [
    {
     "name": "stdout",
     "output_type": "stream",
     "text": [
      "3\n",
      "2\n",
      "stringdist: levenshtein test1 - 283.99023567499944\n",
      "stringdist: levenshtein test2 - 267.10999354700016\n"
     ]
    }
   ],
   "source": [
    "import stringdist\n",
    "\n",
    "print(stringdist.levenshtein(test_string_1_1, test_string_1_2))\n",
    "print(stringdist.levenshtein(test_string_2_1,test_string_2_2))\n",
    "\n",
    "print(\"stringdist: levenshtein test1 - \" + str(timeit.timeit(lambda : stringdist.levenshtein(test_string_1_1, test_string_1_2))))\n",
    "\n",
    "print(\"stringdist: levenshtein test2 - \" + str(timeit.timeit(lambda : stringdist.levenshtein(test_string_2_1,test_string_2_2))))"
   ],
   "metadata": {
    "collapsed": false,
    "pycharm": {
     "name": "#%%\n"
    }
   }
  },
  {
   "cell_type": "code",
   "execution_count": 42,
   "outputs": [],
   "source": [],
   "metadata": {
    "collapsed": false,
    "pycharm": {
     "name": "#%%\n"
    }
   }
  }
 ],
 "metadata": {
  "kernelspec": {
   "display_name": "Python 3",
   "language": "python",
   "name": "python3"
  },
  "language_info": {
   "codemirror_mode": {
    "name": "ipython",
    "version": 2
   },
   "file_extension": ".py",
   "mimetype": "text/x-python",
   "name": "python",
   "nbconvert_exporter": "python",
   "pygments_lexer": "ipython2",
   "version": "2.7.6"
  }
 },
 "nbformat": 4,
 "nbformat_minor": 0
}