{
 "cells": [
  {
   "cell_type": "code",
   "execution_count": null,
   "metadata": {
    "collapsed": true
   },
   "outputs": [],
   "source": []
  },
  {
   "cell_type": "code",
   "execution_count": 30,
   "outputs": [],
   "source": [
    "example = \"У больногодиагностирован инфркт и туберкулз\"\n",
    "example_list = example.split()"
   ],
   "metadata": {
    "collapsed": false
   }
  },
  {
   "cell_type": "code",
   "execution_count": 31,
   "outputs": [
    {
     "name": "stdout",
     "output_type": "stream",
     "text": [
      "huggingface/tokenizers: The current process just got forked, after parallelism has already been used. Disabling parallelism to avoid deadlocks...\n",
      "To disable this warning, you can either:\n",
      "\t- Avoid using `tokenizers` before the fork if possible\n",
      "\t- Explicitly set the environment variable TOKENIZERS_PARALLELISM=(true | false)\n"
     ]
    },
    {
     "data": {
      "text/plain": "'У больной диагностировать инфаркт и туберкулёз'"
     },
     "execution_count": 31,
     "metadata": {},
     "output_type": "execute_result"
    }
   ],
   "source": [
    "from medspellchecker.tool.distilbert_candidate_ranker import RuDistilBertCandidateRanker\n",
    "from medspellchecker.tool.medspellchecker import MedSpellchecker\n",
    "\n",
    "candidate_ranker = RuDistilBertCandidateRanker()\n",
    "spellchecker = MedSpellchecker(candidate_ranker, handle_compound_words=True)\n",
    "spellchecker.fix_text(example)"
   ],
   "metadata": {
    "collapsed": false
   }
  },
  {
   "cell_type": "code",
   "execution_count": 56,
   "outputs": [
    {
     "name": "stdout",
     "output_type": "stream",
     "text": [
      "huggingface/tokenizers: The current process just got forked, after parallelism has already been used. Disabling parallelism to avoid deadlocks...\n",
      "To disable this warning, you can either:\n",
      "\t- Avoid using `tokenizers` before the fork if possible\n",
      "\t- Explicitly set the environment variable TOKENIZERS_PARALLELISM=(true | false)\n"
     ]
    },
    {
     "data": {
      "text/plain": "'У больной диагностировать инфект и туберкулёз'"
     },
     "execution_count": 56,
     "metadata": {},
     "output_type": "execute_result"
    }
   ],
   "source": [
    "from medspellchecker.tool.roberta_candidate_ranker import RuRobertaCandidateRanker\n",
    "\n",
    "candidate_ranker = RuRobertaCandidateRanker()\n",
    "spellchecker = MedSpellchecker(candidate_ranker, handle_compound_words=True)\n",
    "spellchecker.fix_text(example)"
   ],
   "metadata": {
    "collapsed": false
   }
  },
  {
   "cell_type": "code",
   "execution_count": 57,
   "outputs": [
    {
     "name": "stdout",
     "output_type": "stream",
     "text": [
      "huggingface/tokenizers: The current process just got forked, after parallelism has already been used. Disabling parallelism to avoid deadlocks...\n",
      "To disable this warning, you can either:\n",
      "\t- Avoid using `tokenizers` before the fork if possible\n",
      "\t- Explicitly set the environment variable TOKENIZERS_PARALLELISM=(true | false)\n"
     ]
    },
    {
     "data": {
      "text/plain": "'У больной диагностировать инфаркт и туберкуль'"
     },
     "execution_count": 57,
     "metadata": {},
     "output_type": "execute_result"
    }
   ],
   "source": [
    "from medspellchecker.tool.rubert_tiny2_candidate_ranker import RuBertTiny2CandidateRanker\n",
    "\n",
    "candidate_ranker = RuBertTiny2CandidateRanker()\n",
    "spellchecker = MedSpellchecker(candidate_ranker, handle_compound_words=True)\n",
    "spellchecker.fix_text(example)"
   ],
   "metadata": {
    "collapsed": false
   }
  },
  {
   "cell_type": "markdown",
   "source": [
    "Aspell"
   ],
   "metadata": {
    "collapsed": false
   }
  },
  {
   "cell_type": "code",
   "execution_count": 48,
   "outputs": [
    {
     "data": {
      "text/plain": "'У больного диагностирован инфаркт и туберкулез'"
     },
     "execution_count": 48,
     "metadata": {},
     "output_type": "execute_result"
    }
   ],
   "source": [
    "from aspell import Speller\n",
    "\n",
    "speller = Speller((\"lang\", \"ru\"))\n",
    "result = []\n",
    "\n",
    "for word in example_list:\n",
    "    suggestions = speller.suggest(word)\n",
    "    if len(suggestions) == 0:\n",
    "        result.append(word)\n",
    "    else:\n",
    "        result.append(suggestions[0])\n",
    "\" \".join(result)"
   ],
   "metadata": {
    "collapsed": false
   }
  },
  {
   "cell_type": "code",
   "execution_count": 49,
   "outputs": [
    {
     "data": {
      "text/plain": "'Уф больного диагностирован инфаркт аи туберкул'"
     },
     "execution_count": 49,
     "metadata": {},
     "output_type": "execute_result"
    }
   ],
   "source": [
    "from hunspell import HunSpell\n",
    "\n",
    "hunspell_dic = '../../data/other_spellcheckers/hunspell/index.dic'\n",
    "hunspell_aff = '../../data/other_spellcheckers/hunspell/index.aff'\n",
    "\n",
    "\n",
    "speller = HunSpell(hunspell_dic, hunspell_aff)\n",
    "result = []\n",
    "for word in example_list:\n",
    "    suggestions = speller.suggest(word)\n",
    "    if len(suggestions) == 0:\n",
    "        result.append(word)\n",
    "    else:\n",
    "        result.append(suggestions[0])\n",
    "\" \".join(result)"
   ],
   "metadata": {
    "collapsed": false
   }
  },
  {
   "cell_type": "code",
   "execution_count": 50,
   "outputs": [
    {
     "data": {
      "text/plain": "'У больногодиагностирован инфркт и туберкулз'"
     },
     "execution_count": 50,
     "metadata": {},
     "output_type": "execute_result"
    }
   ],
   "source": [
    "from jamspell import TSpellCorrector\n",
    "\n",
    "jumspell_model_lib = \"../../../../../data/other_spellcheckers/jumspell/ru_small.bin\"\n",
    "\n",
    "\n",
    "jamspell = TSpellCorrector()\n",
    "jamspell.LoadLangModel(jumspell_model_lib)\n",
    "\n",
    "\" \".join(\n",
    "[jamspell.FixFragment(word) for word in example_list])"
   ],
   "metadata": {
    "collapsed": false
   }
  },
  {
   "cell_type": "code",
   "execution_count": 51,
   "outputs": [
    {
     "name": "stdout",
     "output_type": "stream",
     "text": [
      "huggingface/tokenizers: The current process just got forked, after parallelism has already been used. Disabling parallelism to avoid deadlocks...\n",
      "To disable this warning, you can either:\n",
      "\t- Avoid using `tokenizers` before the fork if possible\n",
      "\t- Explicitly set the environment variable TOKENIZERS_PARALLELISM=(true | false)\n",
      "huggingface/tokenizers: The current process just got forked, after parallelism has already been used. Disabling parallelism to avoid deadlocks...\n",
      "To disable this warning, you can either:\n",
      "\t- Avoid using `tokenizers` before the fork if possible\n",
      "\t- Explicitly set the environment variable TOKENIZERS_PARALLELISM=(true | false)\n",
      "huggingface/tokenizers: The current process just got forked, after parallelism has already been used. Disabling parallelism to avoid deadlocks...\n",
      "To disable this warning, you can either:\n",
      "\t- Avoid using `tokenizers` before the fork if possible\n",
      "\t- Explicitly set the environment variable TOKENIZERS_PARALLELISM=(true | false)\n",
      "huggingface/tokenizers: The current process just got forked, after parallelism has already been used. Disabling parallelism to avoid deadlocks...\n",
      "To disable this warning, you can either:\n",
      "\t- Avoid using `tokenizers` before the fork if possible\n",
      "\t- Explicitly set the environment variable TOKENIZERS_PARALLELISM=(true | false)\n"
     ]
    },
    {
     "data": {
      "text/plain": "'У больного диагностирован инфаркт и туберкулез'"
     },
     "execution_count": 51,
     "metadata": {},
     "output_type": "execute_result"
    }
   ],
   "source": [
    "from language_tool_python import LanguageTool\n",
    "\n",
    "tool = LanguageTool('ru')\n",
    "result = []\n",
    "\n",
    "\" \".join(\n",
    "[tool.correct(word) for word in example_list])"
   ],
   "metadata": {
    "collapsed": false
   }
  },
  {
   "cell_type": "code",
   "execution_count": 52,
   "outputs": [
    {
     "data": {
      "text/plain": "'И больного диагностирован инфаркт аи туберкул'"
     },
     "execution_count": 52,
     "metadata": {},
     "output_type": "execute_result"
    }
   ],
   "source": [
    "import enchant\n",
    "\n",
    "result = []\n",
    "speller = enchant.Dict(\"ru\")\n",
    "for word in example_list:\n",
    "    suggestions = speller.suggest(word)\n",
    "    if len(suggestions) == 0:\n",
    "        result.append(word)\n",
    "    else:\n",
    "        result.append(suggestions[0])\n",
    "\" \".join(result)"
   ],
   "metadata": {
    "collapsed": false
   }
  },
  {
   "cell_type": "code",
   "execution_count": 53,
   "outputs": [
    {
     "data": {
      "text/plain": "'У больногодиагностирован инфаркт и туберкулез'"
     },
     "execution_count": 53,
     "metadata": {},
     "output_type": "execute_result"
    }
   ],
   "source": [
    "from spellchecker import SpellChecker\n",
    "\n",
    "\n",
    "speller = SpellChecker(language='ru')\n",
    "result = []\n",
    "\" \".join(\n",
    "[speller.correction(word) for word in example_list])"
   ],
   "metadata": {
    "collapsed": false
   }
  },
  {
   "cell_type": "code",
   "execution_count": 54,
   "outputs": [
    {
     "data": {
      "text/plain": "'у больного диагностирования инфаркт и туберкулез'"
     },
     "execution_count": 54,
     "metadata": {},
     "output_type": "execute_result"
    }
   ],
   "source": [
    "from symspellpy import SymSpell\n",
    "\n",
    "basic_frequency_dict = '../../data/other_spellcheckers/symspell/ru-100k.txt'\n",
    "\n",
    "\n",
    "sym_spell_py = SymSpell()\n",
    "sym_spell_py.load_dictionary(basic_frequency_dict, 0, 1, encoding=\"UTF8\")\n",
    "\n",
    "result = []\n",
    "for word in example_list:\n",
    "    suggestions = sym_spell_py.lookup_compound(word, max_edit_distance=2)\n",
    "    result.append(suggestions[0].term)\n",
    "\" \".join(result)\n"
   ],
   "metadata": {
    "collapsed": false
   }
  },
  {
   "cell_type": "code",
   "execution_count": 55,
   "outputs": [
    {
     "data": {
      "text/plain": "'и больногодиагностирован инфаркт и туберкулез'"
     },
     "execution_count": 55,
     "metadata": {},
     "output_type": "execute_result"
    }
   ],
   "source": [
    "from symspellpy import Verbosity\n",
    "\n",
    "basic_frequency_dict = '../../data/other_spellcheckers/symspell/ru-100k.txt'\n",
    "\n",
    "\n",
    "sym_spell_py = SymSpell()\n",
    "sym_spell_py.load_dictionary(basic_frequency_dict, 0, 1, encoding=\"UTF8\")\n",
    "\n",
    "result = []\n",
    "for word in example_list:\n",
    "    suggestions = sym_spell_py.lookup(word, Verbosity.TOP, max_edit_distance=2, include_unknown=True)\n",
    "    result.append(suggestions[0].term)\n",
    "\" \".join(result)\n"
   ],
   "metadata": {
    "collapsed": false
   }
  },
  {
   "cell_type": "code",
   "execution_count": null,
   "outputs": [],
   "source": [],
   "metadata": {
    "collapsed": false
   }
  }
 ],
 "metadata": {
  "kernelspec": {
   "display_name": "Python 3",
   "language": "python",
   "name": "python3"
  },
  "language_info": {
   "codemirror_mode": {
    "name": "ipython",
    "version": 2
   },
   "file_extension": ".py",
   "mimetype": "text/x-python",
   "name": "python",
   "nbconvert_exporter": "python",
   "pygments_lexer": "ipython2",
   "version": "2.7.6"
  }
 },
 "nbformat": 4,
 "nbformat_minor": 0
}
