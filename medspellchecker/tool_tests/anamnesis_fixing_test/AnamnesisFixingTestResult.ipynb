{
 "cells": [
  {
   "cell_type": "code",
   "execution_count": 2,
   "outputs": [],
   "source": [
    "import pandas as pd\n",
    "from tabulate import tabulate"
   ],
   "metadata": {
    "collapsed": false
   }
  },
  {
   "cell_type": "code",
   "execution_count": 3,
   "outputs": [],
   "source": [
    "correct_fix_count = [13, 15, 17, 18, 19,\n",
    "                     20, \"-\", \"-\", 21, \"-\", \"-\", \"-\", \"-\", 21]\n",
    "unnecessary_fix_count = [13, 16, 7, 9, 12,\n",
    "                         171, \"-\", \"-\", 134, \"-\", \"-\", \"-\", \"-\", 0]\n",
    "\n",
    "def compute_ratio_fix_count(a, b):\n",
    "    if a == \"-\" or b == \"-\":\n",
    "        return \"-\"\n",
    "    return round(a/(a + b),3)\n",
    "\n",
    "ratio_fix_count = [compute_ratio_fix_count(a,b) for a,b in zip(correct_fix_count, unnecessary_fix_count)]\n",
    "\n",
    "tool_names = [\"MedSpellChecker(RuBioBerta)\",\n",
    "              \"MedSpellChecker(RuBioRoBerta)\",\n",
    "              \"MedSpellChecker(MedRuBertTiny2)\",\n",
    "              \"MedSpellChecker(MedDistilBert)\",\n",
    "              \"MedSpellChecker(MedRuRoberta)\",\n",
    "              \"Aspell-python\", \"PyHunspell\", \"JumSpell\", \"LanguageTool-python\", \"PyEnchant\",\n",
    "              \"PySpellChecker\", \"SymSpellPy (compound)\", \"SymSpellPy\", \"Yandex Speller\"]"
   ],
   "metadata": {
    "collapsed": false
   }
  },
  {
   "cell_type": "code",
   "execution_count": 4,
   "outputs": [],
   "source": [
    "HEADER = [\"Tool Name\", \"Correct Fixes\", \"Unnecessary Fixes\", \"Fixes Ratio\"]"
   ],
   "metadata": {
    "collapsed": false
   }
  },
  {
   "cell_type": "code",
   "execution_count": 5,
   "outputs": [
    {
     "name": "stdout",
     "output_type": "stream",
     "text": [
      "Tool Name                        Correct Fixes    Unnecessary Fixes    Fixes Ratio\n",
      "-------------------------------  ---------------  -------------------  -------------\n",
      "MedSpellChecker(RuBioBerta)      13               13                   0.5\n",
      "MedSpellChecker(RuBioRoBerta)    15               16                   0.484\n",
      "MedSpellChecker(MedRuBertTiny2)  17               7                    0.708\n",
      "MedSpellChecker(MedDistilBert)   18               9                    0.667\n",
      "MedSpellChecker(MedRuRoberta)    19               12                   0.613\n",
      "Aspell-python                    20               171                  0.105\n",
      "PyHunspell                       -                -                    -\n",
      "JumSpell                         -                -                    -\n",
      "LanguageTool-python              21               134                  0.135\n",
      "PyEnchant                        -                -                    -\n",
      "PySpellChecker                   -                -                    -\n",
      "SymSpellPy (compound)            -                -                    -\n",
      "SymSpellPy                       -                -                    -\n",
      "Yandex Speller                   21               0                    1.0\n"
     ]
    }
   ],
   "source": [
    "table = []\n",
    "\n",
    "for row in zip(tool_names, correct_fix_count, unnecessary_fix_count, ratio_fix_count):\n",
    "    table.append(row)\n",
    "\n",
    "df_table = pd.DataFrame(table, columns=HEADER)\n",
    "print(tabulate(df_table, headers=\"keys\", showindex=False))"
   ],
   "metadata": {
    "collapsed": false
   }
  },
  {
   "cell_type": "markdown",
   "source": [],
   "metadata": {
    "collapsed": false
   }
  }
 ],
 "metadata": {
  "kernelspec": {
   "display_name": "Python 3",
   "language": "python",
   "name": "python3"
  },
  "language_info": {
   "codemirror_mode": {
    "name": "ipython",
    "version": 2
   },
   "file_extension": ".py",
   "mimetype": "text/x-python",
   "name": "python",
   "nbconvert_exporter": "python",
   "pygments_lexer": "ipython2",
   "version": "2.7.6"
  }
 },
 "nbformat": 4,
 "nbformat_minor": 0
}
