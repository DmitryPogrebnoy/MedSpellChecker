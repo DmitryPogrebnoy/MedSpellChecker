{
 "cells": [
  {
   "cell_type": "code",
   "execution_count": 1,
   "outputs": [],
   "source": [
    "from regex import regex\n",
    "from transformers import DistilBertTokenizer, DistilBertForMaskedLM, pipeline\n",
    "import json\n",
    "import os\n",
    "from torch import nn"
   ],
   "metadata": {
    "collapsed": false,
    "ExecuteTime": {
     "end_time": "2023-09-02T09:56:13.011570334Z",
     "start_time": "2023-09-02T09:56:10.910958673Z"
    }
   }
  },
  {
   "cell_type": "code",
   "execution_count": 2,
   "outputs": [],
   "source": [
    "# There is no uncased multilang distilbert\n",
    "MULTILANG_DISTILBERT_CHECKPOINT = \"distilbert-base-multilingual-cased\"\n",
    "\n",
    "RUSSIAN_DISTILBERT_CHECKPOINT = \"distilbert-base-russian-cased\"\n",
    "\n",
    "PATH_TO_NEW_MODEL = \"../../../../data/ml/distilbert_base_russian_cased/model\"\n",
    "PATH_TO_NEW_TOKENIZER = \"../../../../data/ml/distilbert_base_russian_cased/tokenizer\""
   ],
   "metadata": {
    "collapsed": false,
    "ExecuteTime": {
     "end_time": "2023-09-02T09:56:13.037334817Z",
     "start_time": "2023-09-02T09:56:12.970172534Z"
    }
   }
  },
  {
   "cell_type": "code",
   "execution_count": 3,
   "outputs": [
    {
     "data": {
      "text/plain": "Downloading:   0%|          | 0.00/996k [00:00<?, ?B/s]",
      "application/vnd.jupyter.widget-view+json": {
       "version_major": 2,
       "version_minor": 0,
       "model_id": "3fc5d2b1c32c4217b9b4cf814f0e16c4"
      }
     },
     "metadata": {},
     "output_type": "display_data"
    },
    {
     "data": {
      "text/plain": "Downloading:   0%|          | 0.00/29.0 [00:00<?, ?B/s]",
      "application/vnd.jupyter.widget-view+json": {
       "version_major": 2,
       "version_minor": 0,
       "model_id": "84a59aa4f87c4f49a04fb99f5bfcd846"
      }
     },
     "metadata": {},
     "output_type": "display_data"
    },
    {
     "data": {
      "text/plain": "Downloading:   0%|          | 0.00/466 [00:00<?, ?B/s]",
      "application/vnd.jupyter.widget-view+json": {
       "version_major": 2,
       "version_minor": 0,
       "model_id": "15a661051a694eceab0a348e0148463f"
      }
     },
     "metadata": {},
     "output_type": "display_data"
    },
    {
     "name": "stderr",
     "output_type": "stream",
     "text": [
      "Using bos_token, but it is not set yet.\n"
     ]
    },
    {
     "name": "stdout",
     "output_type": "stream",
     "text": [
      "Initial distilbert vocab size: 119547\n",
      "None\n"
     ]
    }
   ],
   "source": [
    "multilang_tokenizer = DistilBertTokenizer.from_pretrained(MULTILANG_DISTILBERT_CHECKPOINT)\n",
    "multilang_vocab = list(multilang_tokenizer.vocab.keys())\n",
    "print(f\"Initial distilbert vocab size: {len(multilang_vocab)}\")\n",
    "print(f\"{multilang_tokenizer.bos_token}\")"
   ],
   "metadata": {
    "collapsed": false,
    "ExecuteTime": {
     "end_time": "2023-09-02T09:56:15.605404667Z",
     "start_time": "2023-09-02T09:56:12.986495798Z"
    }
   }
  },
  {
   "cell_type": "code",
   "execution_count": 4,
   "outputs": [],
   "source": [
    "REGEXP_FOR_SPECIAL_TOKENS = \"\\[.*\\]\"\n",
    "REGEXP_FOR_UNUSED_TOKENS = \"\\[unused\\d+\\]\"\n",
    "REGEXP_FOR_RUSSIAN_WORDPIECE = \"#*[аАбБвВгГдДеЕёЁжЖзЗиИйЙкКлЛмМнНоОпПрРсСтТуУфФхХцЦчЧшШщЩъЪыЫьЬэЭюЮяЯ]*\"\n",
    "REGEXP_FOR_FULL_HASHTAG_PIECE = \"#+\"\n",
    "REGEXP_FOR_PUNCTUATION = \"\\p{Punct}\"\n",
    "REGEXP_FOR_DIGITS = \"#*\\d+#*\""
   ],
   "metadata": {
    "collapsed": false,
    "ExecuteTime": {
     "end_time": "2023-09-02T09:56:15.614053740Z",
     "start_time": "2023-09-02T09:56:15.606350865Z"
    }
   }
  },
  {
   "cell_type": "code",
   "execution_count": 5,
   "outputs": [
    {
     "data": {
      "text/plain": "['[PAD]',\n '[unused1]',\n '[unused2]',\n '[unused3]',\n '[unused4]',\n '[unused5]',\n '[unused6]',\n '[unused7]',\n '[unused8]',\n '[unused9]',\n '[unused10]',\n '[unused11]',\n '[unused12]',\n '[unused13]',\n '[unused14]',\n '[unused15]',\n '[unused16]',\n '[unused17]',\n '[unused18]',\n '[unused19]',\n '[unused20]',\n '[unused21]',\n '[unused22]',\n '[unused23]',\n '[unused24]',\n '[unused25]',\n '[unused26]',\n '[unused27]',\n '[unused28]',\n '[unused29]',\n '[unused30]',\n '[unused31]',\n '[unused32]',\n '[unused33]',\n '[unused34]',\n '[unused35]',\n '[unused36]',\n '[unused37]',\n '[unused38]',\n '[unused39]',\n '[unused40]',\n '[unused41]',\n '[unused42]',\n '[unused43]',\n '[unused44]',\n '[unused45]',\n '[unused46]',\n '[unused47]',\n '[unused48]',\n '[unused49]',\n '[unused50]',\n '[unused51]',\n '[unused52]',\n '[unused53]',\n '[unused54]',\n '[unused55]',\n '[unused56]',\n '[unused57]',\n '[unused58]',\n '[unused59]',\n '[unused60]',\n '[unused61]',\n '[unused62]',\n '[unused63]',\n '[unused64]',\n '[unused65]',\n '[unused66]',\n '[unused67]',\n '[unused68]',\n '[unused69]',\n '[unused70]',\n '[unused71]',\n '[unused72]',\n '[unused73]',\n '[unused74]',\n '[unused75]',\n '[unused76]',\n '[unused77]',\n '[unused78]',\n '[unused79]',\n '[unused80]',\n '[unused81]',\n '[unused82]',\n '[unused83]',\n '[unused84]',\n '[unused85]',\n '[unused86]',\n '[unused87]',\n '[unused88]',\n '[unused89]',\n '[unused90]',\n '[unused91]',\n '[unused92]',\n '[unused93]',\n '[unused94]',\n '[unused95]',\n '[unused96]',\n '[unused97]',\n '[unused98]',\n '[unused99]',\n '[UNK]',\n '[CLS]',\n '[SEP]',\n '[MASK]',\n '!',\n '\"',\n '#',\n '%',\n '&',\n \"'\",\n '(',\n ')',\n '*',\n ',',\n '-',\n '.',\n '/',\n '0',\n '1',\n '2',\n '3',\n '4',\n '5',\n '6',\n '7',\n '8',\n '9',\n ':',\n ';',\n '?',\n '@',\n '[',\n '\\\\',\n ']',\n '_',\n '{',\n '}',\n '¡',\n '§',\n '«',\n '¶',\n '·',\n '»',\n '¿',\n 'Ё',\n 'А',\n 'Б',\n 'В',\n 'Г',\n 'Д',\n 'Е',\n 'Ж',\n 'З',\n 'И',\n 'Й',\n 'К',\n 'Л',\n 'М',\n 'Н',\n 'О',\n 'П',\n 'Р',\n 'С',\n 'Т',\n 'У',\n 'Ф',\n 'Х',\n 'Ц',\n 'Ч',\n 'Ш',\n 'Щ',\n 'Ъ',\n 'Ы',\n 'Ь',\n 'Э',\n 'Ю',\n 'Я',\n 'а',\n 'б',\n 'в',\n 'г',\n 'д',\n 'е',\n 'ж',\n 'з',\n 'и',\n 'й',\n 'к',\n 'л',\n 'м',\n 'н',\n 'о',\n 'п',\n 'р',\n 'с',\n 'т',\n 'у',\n 'ф',\n 'х',\n 'ц',\n 'ч',\n 'ш',\n 'щ',\n 'ъ',\n 'ы',\n 'ь',\n 'э',\n 'ю',\n 'я',\n 'ё',\n '՚',\n '՛',\n '՜',\n '՝',\n '՞',\n '։',\n '֊',\n '־',\n '׃',\n '׳',\n '״',\n '،',\n '؍',\n '؛',\n '؟',\n '٠',\n '١',\n '٢',\n '٣',\n '٤',\n '٥',\n '٩',\n '٪',\n '٫',\n '٬',\n '٭',\n '۔',\n '۰',\n '۱',\n '۲',\n '۳',\n '۴',\n '۵',\n '۶',\n '۷',\n '۸',\n '۹',\n '।',\n '॥',\n '०',\n '१',\n '२',\n '३',\n '४',\n '५',\n '६',\n '७',\n '८',\n '९',\n '॰',\n '০',\n '১',\n '২',\n '৩',\n '৪',\n '৫',\n '৬',\n '৭',\n '৮',\n '৯',\n '੦',\n '੧',\n '੨',\n '੩',\n '੪',\n '੫',\n '૦',\n '૧',\n '૨',\n '૩',\n '૪',\n '૫',\n '૬',\n '૭',\n '૮',\n '૯',\n '೦',\n '೧',\n '೨',\n '೩',\n '೪',\n '೫',\n '೬',\n '೭',\n '೮',\n '೯',\n '൧',\n '๐',\n '๑',\n '๒',\n '๓',\n '๔',\n '๕',\n '๖',\n '๗',\n '๘',\n '๙',\n '་',\n '།',\n '၀',\n '၁',\n '၂',\n '၃',\n '၄',\n '၅',\n '၆',\n '၇',\n '၈',\n '၉',\n '၊',\n '။',\n '၌',\n '၍',\n '၎',\n '၏',\n '‖',\n '‚',\n '„',\n '‟',\n '†',\n '‡',\n '•',\n '․',\n '‥',\n '‧',\n '‰',\n '′',\n '″',\n '‹',\n '›',\n '※',\n '‿',\n '⁾',\n '₍',\n '₎',\n '〈',\n '〉',\n '⟨',\n '⟩',\n '、',\n '。',\n '〃',\n '〈',\n '〉',\n '《',\n '》',\n '「',\n '」',\n '『',\n '』',\n '【',\n '】',\n '〔',\n '〕',\n '〖',\n '〗',\n '〜',\n '〝',\n '・',\n '﴾',\n '﴿',\n '︰',\n '﹐',\n '﹑',\n '﹔',\n '﹕',\n '﹝',\n '﹞',\n '﹣',\n '！',\n '＂',\n '＃',\n '％',\n '＆',\n '（',\n '）',\n '＊',\n '，',\n '－',\n '．',\n '／',\n '０',\n '１',\n '２',\n '３',\n '４',\n '５',\n '６',\n '７',\n '８',\n '９',\n '：',\n '；',\n '？',\n '＠',\n '［',\n '＼',\n '］',\n '＿',\n '｡',\n '｢',\n '｣',\n '､',\n '･',\n 'на',\n '10',\n '2011',\n '2010',\n '##а',\n '2000',\n '2012',\n '12',\n '##и',\n '11',\n '2014',\n '2009',\n '20',\n '2007',\n '2008',\n '##е',\n '2013',\n '15',\n '2006',\n '18',\n '2015',\n '##у',\n '24',\n 'за',\n '##м',\n '30',\n '14',\n '13',\n '16',\n '2005',\n '2016',\n '25',\n '000',\n '2004',\n '##н',\n '19',\n '2001',\n '17',\n '2002',\n 'се',\n '##ы',\n '2003',\n '21',\n 'по',\n '2017',\n '22',\n '26',\n '##о',\n '1999',\n '23',\n 'от',\n 'года',\n 'до',\n '28',\n '##т',\n '##х',\n '1998',\n '##ом',\n '27',\n '##та',\n 'не',\n '##й',\n '##я',\n '29',\n 'из',\n '1996',\n '1997',\n 'да',\n '100',\n '##на',\n '31',\n '1990',\n 'од',\n '##ов',\n '2018',\n '1995',\n 'во',\n '1991',\n '1994',\n '1992',\n '50',\n '1993',\n 'та',\n 'году',\n '##ми',\n '##к',\n '##с',\n '##л',\n '##р',\n 'для',\n '##ка',\n '1989',\n '40',\n '1980',\n '##в',\n '1988',\n '1986',\n '1987',\n '1985',\n '978',\n 'су',\n '##ю',\n '1984',\n '1970',\n '##ся',\n '##но',\n '1982',\n '1983',\n '##ки',\n '1981',\n '##ни',\n '1975',\n '01',\n '1945',\n '##ла',\n '1979',\n '1972',\n '1978',\n '##не',\n '##те',\n '1968',\n '1960',\n 'был',\n '1976',\n '60',\n 'року',\n '06',\n '1977',\n '1974',\n '1973',\n '##2',\n '1971',\n '##д',\n '##то',\n '500',\n '##1',\n '1969',\n '200',\n 'На',\n 'км',\n '##ли',\n 'что',\n '1967',\n '35',\n '1950',\n '04',\n '##г',\n '1944',\n '45',\n '1962',\n '05',\n '80',\n '1965',\n '32',\n '65',\n '##ь',\n '##ва',\n '1964',\n '1966',\n 'що',\n 'са',\n '1961',\n '07',\n 'или',\n '1941',\n '##3',\n '1940',\n '1939',\n '1963',\n '03',\n 'при',\n '90',\n '70',\n '##ен',\n '##0',\n 'его',\n '1958',\n 'как',\n 'со',\n '##ти',\n '##ных',\n '1956',\n '1959',\n '02',\n '##да',\n '1943',\n '##го',\n '##ма',\n '33',\n 'године',\n '1948',\n '##4',\n '##от',\n '1942',\n 'англ',\n '00',\n '1957',\n '1930',\n '1920',\n '1954',\n '09',\n '##ного',\n '08',\n '36',\n 'он',\n '1946',\n '34',\n '1955',\n '##ной',\n '##п',\n '##ра',\n '1938',\n '1953',\n '##ный',\n '300',\n '1949',\n '1918',\n '1952',\n '##ской',\n '1947',\n '1936',\n '44',\n '##ш',\n '##5',\n '38',\n '1937',\n '400',\n '##ского',\n '##ку',\n '##ные',\n '1951',\n '37',\n '##6',\n 'година',\n '##ан',\n '1933',\n '##ть',\n '1935',\n '42',\n 'но',\n '1934',\n '1919',\n '##ой',\n '64',\n '48',\n '39',\n '##7',\n '1914',\n '##ны',\n 'де',\n '1932',\n '1929',\n '1928',\n '##га',\n '41',\n 'як',\n '55',\n '1917',\n '43',\n '##9',\n '1931',\n '##ский',\n '##8',\n '47',\n '1924',\n '75',\n 'под',\n 'области',\n '##ски',\n '1927',\n 'также',\n 'была',\n 'становника',\n '##ца',\n '1922',\n '1925',\n '1921',\n '1926',\n 'По',\n '##них',\n 'го',\n '##ия',\n '1912',\n '1923',\n '51',\n '52',\n '46',\n '##ний',\n '##ная',\n '##ий',\n 'Кхузахь',\n '##ке',\n '##ст',\n '1900',\n '##з',\n 'ду',\n '##он',\n '49',\n 'было',\n '1910',\n '##ло',\n '1913',\n '##ет',\n '##ко',\n '56',\n 'были',\n '54',\n 'время',\n 'то',\n '1915',\n '##ным',\n 'коды',\n 'За',\n 'што',\n '##ник',\n '1911',\n '##ей',\n '##ч',\n '##ну',\n '53',\n '84',\n '150',\n '##ри',\n '1916',\n '600',\n '##му',\n '1905',\n 'же',\n '57',\n '1908',\n 'дар',\n '58',\n '##сь',\n '##ле',\n '1907',\n '59',\n '##ды',\n '##ок',\n '800',\n '##ии',\n 'после',\n '1906',\n '1904',\n '1909',\n 'було',\n 'село',\n 'год',\n '##ер',\n '95',\n '##ская',\n 'налази',\n 'населения',\n '##ци',\n '##са',\n '85',\n '##ова',\n '##ж',\n '##ин',\n 'був',\n '##ами',\n '120',\n 'их',\n '62',\n 'РФ',\n 'като',\n 'Према',\n '88',\n 'юкъа',\n '##сы',\n 'його',\n 'през',\n '##ль',\n '##ын',\n '72',\n 'так',\n 'России',\n '##ском',\n '1903',\n '82',\n '##ц',\n '##ска',\n '1000',\n '99',\n '##сти',\n '##ты',\n '250',\n '66',\n '86',\n '##ство',\n 'где',\n '1901',\n '63',\n 'СССР',\n '##де',\n '##ния',\n '1902',\n '##ського',\n '96',\n '##ства',\n '1890',\n '61',\n 'жана',\n '67',\n 'живело',\n '81',\n '98',\n '97',\n '##ою',\n '700',\n '68',\n '##ат',\n 'хуьлу',\n 'му',\n 'эвла',\n '##ном',\n '83',\n 'того',\n '76',\n 'висини',\n 'том',\n '##ских',\n 'ва',\n '92',\n '##ого',\n '93',\n 'буенча',\n '1898',\n '78',\n 'два',\n 'бассейны',\n '71',\n '91',\n '77',\n '##б',\n '74',\n '73',\n 'областан',\n '1897',\n '1896',\n '##ции',\n 'час',\n '1899',\n '69',\n '##ем',\n '87',\n '##ах',\n '1895',\n 'над',\n '##ное',\n 'Во',\n 'аса',\n 'па',\n '89',\n 'бойынша',\n 'си',\n 'како',\n '##ге',\n '##ите',\n '##ие',\n 'её',\n 'држави',\n 'про',\n '##ную',\n '1889',\n '1880',\n 'або',\n '##сть',\n '##ал',\n 'општини',\n '94',\n '##ня',\n '##ди',\n 'Сахьтан',\n '##ар',\n 'лет',\n 'США',\n 'була',\n '79',\n 'через',\n '1870',\n '##ту',\n 'нь',\n 'После',\n 'као',\n 'сахьт',\n '##ых',\n '##ена',\n 'також',\n '##ць',\n '1886',\n '##нда',\n '1885',\n 'индексаш',\n '1894',\n '##ський',\n '##ция',\n 'буйынса',\n '1893',\n '1892',\n 'который',\n 'има',\n '1891',\n '##цы',\n 'это',\n '##их',\n 'без',\n 'Русия',\n 'подацима',\n 'нийса',\n 'климат',\n 'лелаш',\n '##ча',\n '##ков',\n '1888',\n '110',\n 'може',\n '##ят',\n 'були',\n '##ор',\n 'более',\n '##се',\n '##ним',\n '##ина',\n '##ам',\n 'але',\n 'человек',\n '##лар',\n 'между',\n '1878',\n '##ша',\n 'об',\n '1883',\n 'три',\n '##лы',\n '1887',\n '##ев',\n '##це',\n 'место',\n '##ры',\n 'им',\n '1860',\n '##ната',\n '1884',\n '##ът',\n 'оьрс',\n '130',\n '##ба',\n '##ше',\n '##ком',\n 'является',\n '1848',\n '1882',\n '1881',\n 'аз',\n '##ил',\n 'стал',\n '##им',\n '##ым',\n 'против',\n 'який',\n 'През',\n '1871',\n 'реестры',\n '##ел',\n '##ши',\n '##ние',\n '900',\n 'января',\n 'саны',\n '##ию',\n '##ско',\n 'шп',\n 'ба',\n 'Российн',\n '##ф',\n '##за',\n 'Федерацин',\n '1861',\n 'те',\n 'них',\n 'Мексику',\n '1864',\n '1857',\n '1879',\n 'време',\n 'жылы',\n ...]"
     },
     "execution_count": 5,
     "metadata": {},
     "output_type": "execute_result"
    }
   ],
   "source": [
    "russian_vocab = [token for token in multilang_vocab if (regex.fullmatch(\"|\".join([REGEXP_FOR_SPECIAL_TOKENS, REGEXP_FOR_UNUSED_TOKENS, REGEXP_FOR_RUSSIAN_WORDPIECE, REGEXP_FOR_FULL_HASHTAG_PIECE, REGEXP_FOR_PUNCTUATION, REGEXP_FOR_DIGITS]), token))]\n",
    "russian_vocab"
   ],
   "metadata": {
    "collapsed": false,
    "ExecuteTime": {
     "end_time": "2023-09-02T09:56:16.976937407Z",
     "start_time": "2023-09-02T09:56:15.614230704Z"
    }
   }
  },
  {
   "cell_type": "code",
   "execution_count": 6,
   "outputs": [],
   "source": [
    "russian_num_tokens = len(russian_vocab)"
   ],
   "metadata": {
    "collapsed": false,
    "ExecuteTime": {
     "end_time": "2023-09-02T09:56:17.035406937Z",
     "start_time": "2023-09-02T09:56:16.981057415Z"
    }
   }
  },
  {
   "cell_type": "code",
   "execution_count": 7,
   "outputs": [
    {
     "data": {
      "text/plain": "Downloading:   0%|          | 0.00/542M [00:00<?, ?B/s]",
      "application/vnd.jupyter.widget-view+json": {
       "version_major": 2,
       "version_minor": 0,
       "model_id": "fb77429018394f7fb3dbf924a6cf03c8"
      }
     },
     "metadata": {},
     "output_type": "display_data"
    },
    {
     "name": "stdout",
     "output_type": "stream",
     "text": [
      "Multilang distilbert model has 135445755 parameters\n"
     ]
    }
   ],
   "source": [
    "multilang_model = DistilBertForMaskedLM.from_pretrained(MULTILANG_DISTILBERT_CHECKPOINT)\n",
    "print(f\"Multilang distilbert model has {multilang_model.num_parameters()} parameters\")"
   ],
   "metadata": {
    "collapsed": false,
    "ExecuteTime": {
     "end_time": "2023-09-02T09:56:38.053716164Z",
     "start_time": "2023-09-02T09:56:17.023088342Z"
    }
   }
  },
  {
   "cell_type": "code",
   "execution_count": 8,
   "outputs": [],
   "source": [
    "# Code partially borrowed from https://github.com/Geotrend-research/smaller-transformers/blob/main/notebooks/select_mBERT_vocabularies.ipynb\n",
    "\n",
    "# Get old embeddings from model\n",
    "multilang_embeddings = multilang_model.get_input_embeddings()\n",
    "multilang_num_tokens,multilang_embedding_dim = multilang_embeddings.weight.size()"
   ],
   "metadata": {
    "collapsed": false,
    "ExecuteTime": {
     "end_time": "2023-09-02T09:56:38.053985744Z",
     "start_time": "2023-09-02T09:56:38.028221179Z"
    }
   }
  },
  {
   "cell_type": "code",
   "execution_count": 9,
   "outputs": [
    {
     "data": {
      "text/plain": "(119547, 768)"
     },
     "execution_count": 9,
     "metadata": {},
     "output_type": "execute_result"
    }
   ],
   "source": [
    "multilang_num_tokens, multilang_embedding_dim"
   ],
   "metadata": {
    "collapsed": false,
    "ExecuteTime": {
     "end_time": "2023-09-02T09:56:38.091325854Z",
     "start_time": "2023-09-02T09:56:38.031686342Z"
    }
   }
  },
  {
   "cell_type": "code",
   "execution_count": 10,
   "outputs": [
    {
     "data": {
      "text/plain": "Embedding(13982, 768)"
     },
     "execution_count": 10,
     "metadata": {},
     "output_type": "execute_result"
    }
   ],
   "source": [
    "# Build new embeddings\n",
    "new_embeddings = nn.Embedding(russian_num_tokens, multilang_embedding_dim)\n",
    "new_embeddings.to(multilang_embeddings.weight.device)"
   ],
   "metadata": {
    "collapsed": false,
    "ExecuteTime": {
     "end_time": "2023-09-02T09:56:38.138134087Z",
     "start_time": "2023-09-02T09:56:38.091558710Z"
    }
   }
  },
  {
   "cell_type": "code",
   "execution_count": 11,
   "outputs": [
    {
     "name": "stdout",
     "output_type": "stream",
     "text": [
      "Embedding(13982, 768)\n",
      "Embedding(13982, 768)\n"
     ]
    }
   ],
   "source": [
    "# Copy weights for similar tokens and drop others\n",
    "i = 0\n",
    "j = 0\n",
    "for token in multilang_vocab:\n",
    "    if token in russian_vocab:\n",
    "        new_embeddings.weight.data[i, :] = multilang_embeddings.weight.data[j, :]\n",
    "        i += 1\n",
    "    j += 1\n",
    "\n",
    "multilang_model.set_input_embeddings(new_embeddings)\n",
    "\n",
    "print(multilang_model.get_input_embeddings())\n",
    "\n",
    "# Update base model and current model config\n",
    "multilang_model.config.vocab_size = russian_num_tokens\n",
    "multilang_model.vocab_size = russian_num_tokens\n",
    "\n",
    "# Tie weights\n",
    "multilang_model.tie_weights()\n",
    "\n",
    "print(multilang_model.get_input_embeddings())"
   ],
   "metadata": {
    "collapsed": false,
    "ExecuteTime": {
     "end_time": "2023-09-02T09:57:14.223204581Z",
     "start_time": "2023-09-02T09:56:38.138426883Z"
    }
   }
  },
  {
   "cell_type": "code",
   "execution_count": 12,
   "outputs": [
    {
     "name": "stdout",
     "output_type": "stream",
     "text": [
      "../../../../data/ml/distilbert_base_russian_cased/model  -   num_parameters :  54266270\n",
      "../../../../data/ml/distilbert_base_russian_cased/model  -   num_tokens :  13982\n"
     ]
    }
   ],
   "source": [
    "# Save new model\n",
    "multilang_model.save_pretrained(PATH_TO_NEW_MODEL)\n",
    "print(PATH_TO_NEW_MODEL, \" - \", \" num_parameters : \", multilang_model.num_parameters())\n",
    "print(PATH_TO_NEW_MODEL, \" - \", \" num_tokens : \", len(russian_vocab))"
   ],
   "metadata": {
    "collapsed": false,
    "ExecuteTime": {
     "end_time": "2023-09-02T09:57:14.429126838Z",
     "start_time": "2023-09-02T09:57:14.223050665Z"
    }
   }
  },
  {
   "cell_type": "code",
   "execution_count": 13,
   "outputs": [],
   "source": [
    "# Save vocab\n",
    "with open(os.path.join(PATH_TO_NEW_TOKENIZER, 'vocab.txt'), 'w+') as fw:\n",
    "    for token in russian_vocab:\n",
    "        fw.write(token + '\\n')\n",
    "\n",
    "# Save tokenizer config\n",
    "with open(os.path.join(PATH_TO_NEW_TOKENIZER, 'tokenizer_config.json'), 'w+') as fw:\n",
    "    json.dump({\"do_lower_case\": False, \"model_max_length\": 512}, fw)"
   ],
   "metadata": {
    "collapsed": false,
    "ExecuteTime": {
     "end_time": "2023-09-02T09:57:14.454776050Z",
     "start_time": "2023-09-02T09:57:14.434161499Z"
    }
   }
  },
  {
   "cell_type": "code",
   "execution_count": 14,
   "outputs": [
    {
     "name": "stderr",
     "output_type": "stream",
     "text": [
      "The tokenizer class you load from this checkpoint is not the same type as the class this function is called from. It may result in unexpected tokenization. \n",
      "The tokenizer class you load from this checkpoint is 'BertTokenizer'. \n",
      "The class this function is called from is 'DistilBertTokenizer'.\n"
     ]
    }
   ],
   "source": [
    "russian_tokenizer = DistilBertTokenizer.from_pretrained(PATH_TO_NEW_TOKENIZER)\n",
    "russian_model = DistilBertForMaskedLM.from_pretrained(PATH_TO_NEW_MODEL)"
   ],
   "metadata": {
    "collapsed": false,
    "ExecuteTime": {
     "end_time": "2023-09-02T09:57:15.140390539Z",
     "start_time": "2023-09-02T09:57:14.455972164Z"
    }
   }
  },
  {
   "cell_type": "code",
   "execution_count": 15,
   "outputs": [
    {
     "data": {
      "text/plain": "54266270"
     },
     "execution_count": 15,
     "metadata": {},
     "output_type": "execute_result"
    }
   ],
   "source": [
    "russian_model.num_parameters()"
   ],
   "metadata": {
    "collapsed": false,
    "ExecuteTime": {
     "end_time": "2023-09-02T09:57:15.175097490Z",
     "start_time": "2023-09-02T09:57:15.106308408Z"
    }
   }
  },
  {
   "cell_type": "code",
   "execution_count": 16,
   "outputs": [
    {
     "data": {
      "text/plain": "Embedding(13982, 768, padding_idx=0)"
     },
     "execution_count": 16,
     "metadata": {},
     "output_type": "execute_result"
    }
   ],
   "source": [
    "russian_model.get_input_embeddings()"
   ],
   "metadata": {
    "collapsed": false,
    "ExecuteTime": {
     "end_time": "2023-09-02T09:57:15.177000947Z",
     "start_time": "2023-09-02T09:57:15.114589656Z"
    }
   }
  },
  {
   "cell_type": "code",
   "execution_count": 1,
   "outputs": [
    {
     "ename": "NameError",
     "evalue": "name 'russian_tokenizer' is not defined",
     "output_type": "error",
     "traceback": [
      "\u001B[0;31m---------------------------------------------------------------------------\u001B[0m",
      "\u001B[0;31mNameError\u001B[0m                                 Traceback (most recent call last)",
      "Input \u001B[0;32mIn [1]\u001B[0m, in \u001B[0;36m<cell line: 1>\u001B[0;34m()\u001B[0m\n\u001B[0;32m----> 1\u001B[0m \u001B[43mrussian_tokenizer\u001B[49m\n",
      "\u001B[0;31mNameError\u001B[0m: name 'russian_tokenizer' is not defined"
     ]
    }
   ],
   "source": [
    "russian_tokenizer"
   ],
   "metadata": {
    "collapsed": false,
    "ExecuteTime": {
     "end_time": "2023-09-02T20:35:08.979932307Z",
     "start_time": "2023-09-02T20:35:08.435027883Z"
    }
   }
  },
  {
   "cell_type": "code",
   "execution_count": 18,
   "outputs": [],
   "source": [
    "# Save and reopen model and tokenizer\n",
    "russian_tokenizer.save_pretrained(PATH_TO_NEW_TOKENIZER)\n",
    "russian_model.save_pretrained(PATH_TO_NEW_MODEL)"
   ],
   "metadata": {
    "collapsed": false,
    "ExecuteTime": {
     "end_time": "2023-09-02T09:57:16.607958432Z",
     "start_time": "2023-09-02T09:57:15.139567116Z"
    }
   }
  },
  {
   "cell_type": "code",
   "execution_count": 19,
   "outputs": [],
   "source": [
    "russian_tokenizer = DistilBertTokenizer.from_pretrained(PATH_TO_NEW_TOKENIZER)\n",
    "russian_model = DistilBertForMaskedLM.from_pretrained(PATH_TO_NEW_MODEL)"
   ],
   "metadata": {
    "collapsed": false,
    "ExecuteTime": {
     "end_time": "2023-09-02T09:57:17.183965026Z",
     "start_time": "2023-09-02T09:57:16.610667933Z"
    }
   }
  },
  {
   "cell_type": "markdown",
   "source": [
    "# Fast test on example"
   ],
   "metadata": {
    "collapsed": false
   }
  },
  {
   "cell_type": "code",
   "execution_count": 221,
   "outputs": [],
   "source": [
    "text = \"Я люблю [MASK] Россию.\""
   ],
   "metadata": {
    "collapsed": false
   }
  },
  {
   "cell_type": "code",
   "execution_count": 222,
   "outputs": [
    {
     "name": "stdout",
     "output_type": "stream",
     "text": [
      "{'input_ids': tensor([[  101,   540,   552, 10593, 61394, 10593,   103, 89043,   119,   102]]), 'attention_mask': tensor([[1, 1, 1, 1, 1, 1, 1, 1, 1, 1]])}\n",
      "MaskedLMOutput(loss=None, logits=tensor([[[-10.0335, -10.0463, -10.0795,  ...,  -9.7731,  -9.5484,  -9.6199],\n",
      "         [-11.8299, -11.8983, -12.1971,  ..., -10.9337, -10.1853, -10.4831],\n",
      "         [-13.4928, -13.5642, -13.2392,  ..., -11.6357, -11.8119, -11.6546],\n",
      "         ...,\n",
      "         [-10.4157, -10.7096,  -9.9264,  ...,  -9.3829,  -9.3726,  -8.8452],\n",
      "         [-13.7720, -13.6973, -13.0738,  ..., -12.4249, -11.4396, -12.2219],\n",
      "         [-12.2253, -11.8086, -11.6672,  ..., -10.8050, -10.0424, -10.2295]]],\n",
      "       grad_fn=<AddBackward0>), hidden_states=None, attentions=None)\n"
     ]
    }
   ],
   "source": [
    "multilang_model = DistilBertForMaskedLM.from_pretrained(MULTILANG_DISTILBERT_CHECKPOINT)\n",
    "multilang_tokenizer = DistilBertTokenizer.from_pretrained(MULTILANG_DISTILBERT_CHECKPOINT)\n",
    "multilang_encoded_input = multilang_tokenizer(text, return_tensors='pt')\n",
    "print(multilang_encoded_input)\n",
    "multilang_output_original = multilang_model(**multilang_encoded_input)\n",
    "print(multilang_output_original)"
   ],
   "metadata": {
    "collapsed": false
   }
  },
  {
   "cell_type": "code",
   "execution_count": 223,
   "outputs": [
    {
     "name": "stdout",
     "output_type": "stream",
     "text": [
      "{'input_ids': tensor([[  101,   176,   188,   515,  7251,   515,   103, 10984,   115,   102]]), 'attention_mask': tensor([[1, 1, 1, 1, 1, 1, 1, 1, 1, 1]])}\n",
      "MaskedLMOutput(loss=None, logits=tensor([[[-10.0335, -10.0463, -10.0795,  ...,  -7.7228,  -7.9533,  -7.4824],\n",
      "         [-11.8299, -11.8983, -12.1971,  ..., -10.7823, -10.8269, -11.2712],\n",
      "         [-13.4928, -13.5642, -13.2392,  ..., -13.2591, -11.9726, -14.4595],\n",
      "         ...,\n",
      "         [-10.4157, -10.7096,  -9.9264,  ...,  -8.3721,  -7.6625,  -8.0074],\n",
      "         [-13.7720, -13.6973, -13.0738,  ..., -11.5708, -11.5165, -10.8910],\n",
      "         [-12.2253, -11.8086, -11.6672,  ..., -11.6470, -11.9485, -11.5482]]],\n",
      "       grad_fn=<AddBackward0>), hidden_states=None, attentions=None)\n"
     ]
    }
   ],
   "source": [
    "russian_encoded_input = russian_tokenizer(text, return_tensors='pt')\n",
    "print(russian_encoded_input)\n",
    "russian_output_original = russian_model(**russian_encoded_input)\n",
    "print(russian_output_original)"
   ],
   "metadata": {
    "collapsed": false
   }
  },
  {
   "cell_type": "code",
   "execution_count": 224,
   "outputs": [
    {
     "name": "stdout",
     "output_type": "stream",
     "text": [
      "с в о ю 0.1130324974656105\n",
      "э т у 0.07151170819997787\n",
      "# # ю 0.048914585262537\n",
      "# # с ь 0.04644572734832764\n",
      "в 0.023181308060884476\n"
     ]
    }
   ],
   "source": [
    "pipe = pipeline(task=\"fill-mask\", model=multilang_model, tokenizer=multilang_tokenizer)\n",
    "output_ = pipe(text)\n",
    "for i in range(len(output_)):\n",
    "    print(output_[i]['token_str'], output_[i]['score'])"
   ],
   "metadata": {
    "collapsed": false
   }
  },
  {
   "cell_type": "code",
   "execution_count": 225,
   "outputs": [
    {
     "name": "stdout",
     "output_type": "stream",
     "text": [
      "с в о ю 0.12282546609640121\n",
      "э т у 0.07515835762023926\n",
      "# # с ь 0.06283950805664062\n",
      "я 0.024548979476094246\n",
      "# # ю 0.02267817035317421\n"
     ]
    }
   ],
   "source": [
    "pipe = pipeline(task=\"fill-mask\", model=russian_model, tokenizer=russian_tokenizer)\n",
    "output_ = pipe(text)\n",
    "for i in range(len(output_)):\n",
    "    print(output_[i]['token_str'], output_[i]['score'])"
   ],
   "metadata": {
    "collapsed": false
   }
  },
  {
   "cell_type": "code",
   "execution_count": 226,
   "outputs": [],
   "source": [
    "geo_model = DistilBertForMaskedLM.from_pretrained(\"Geotrend/distilbert-base-ru-cased\")\n",
    "geo_tokenizer = DistilBertTokenizer.from_pretrained(\"Geotrend/distilbert-base-ru-cased\")"
   ],
   "metadata": {
    "collapsed": false
   }
  },
  {
   "cell_type": "code",
   "execution_count": 227,
   "outputs": [
    {
     "name": "stdout",
     "output_type": "stream",
     "text": [
      "с в о ю 0.11730142682790756\n",
      "э т у 0.08307341486215591\n",
      "# # с ь 0.04491831362247467\n",
      "# # ю 0.03141210600733757\n",
      "я 0.027354605495929718\n"
     ]
    }
   ],
   "source": [
    "pipe = pipeline(task=\"fill-mask\", model=geo_model, tokenizer=geo_tokenizer)\n",
    "output_ = pipe(text)\n",
    "for i in range(len(output_)):\n",
    "    print(output_[i]['token_str'], output_[i]['score'])"
   ],
   "metadata": {
    "collapsed": false
   }
  },
  {
   "cell_type": "markdown",
   "source": [
    "Here we have three distil models (multilang, own and from Geotrend). We need to pick most suitable one.\n",
    "So let's see perplexity metrics on the anamnesis dataset and decide which one is winner"
   ],
   "metadata": {
    "collapsed": false
   }
  },
  {
   "cell_type": "markdown",
   "source": [
    "Also let's check diffs between tokens of Geotrend model and owr model"
   ],
   "metadata": {
    "collapsed": false
   }
  },
  {
   "cell_type": "code",
   "execution_count": 228,
   "outputs": [
    {
     "data": {
      "text/plain": "{'Publishing',\n '##эм',\n 'берегу',\n 'крепости',\n 'RF',\n 'муниципальных',\n '##ьний',\n '##стите',\n 'договор',\n 'Capitol',\n 'Rap',\n '##лях',\n '##чных',\n '##берг',\n '##ющий',\n '##ав',\n 'представители',\n 'Rainbow',\n '##ену',\n '734',\n '##одом',\n '1202',\n 'ряда',\n 'Ту',\n '##ope',\n 'бала',\n '##ο',\n '##тету',\n 'главы',\n '##ычных',\n '819',\n 'представляет',\n 'периоду',\n 'God',\n 'Дон',\n 'Lab',\n '##пособность',\n '##виг',\n '##ny',\n '##pil',\n 'WWF',\n 'est',\n '1585',\n 'Dark',\n 'Nights',\n '219',\n '##еми',\n 'Польши',\n 'Пловдив',\n '##жную',\n '##рения',\n '##йного',\n '##емой',\n '##ческому',\n '100',\n 'M1',\n '##ужно',\n 'Flash',\n 'Fra',\n 'Тим',\n 'проходили',\n 'W',\n 'Ol',\n 'памяти',\n '984',\n '##ристиан',\n 'Усть',\n 'Shi',\n 'решил',\n 'Smith',\n '##bot',\n 'Ел',\n '##нула',\n '1809',\n '##AC',\n '##нус',\n 'Численность',\n 'Dawn',\n '##авна',\n 'пак',\n '##мая',\n 'река',\n '623',\n '##сен',\n 'документи',\n '##сновы',\n 'евро',\n '1305',\n '##нае',\n '##щение',\n 'Након',\n 'нея',\n '1951',\n '644',\n '##ид',\n 'Бу',\n 'изучения',\n '##psis',\n '##нав',\n '896',\n '47',\n '##оре',\n '##ведения',\n 'Rev',\n '##сын',\n 'сами',\n 'Edition',\n 'ATP',\n '##ba',\n '##говор',\n 'сразу',\n '441',\n '704',\n 'формирования',\n '##ге',\n 'Vu',\n '##мки',\n '##000',\n 'Mix',\n 'матери',\n '##eo',\n 'Planet',\n 'Реал',\n '##или',\n '##каз',\n '##ans',\n 'пример',\n '844',\n '##удио',\n 'Мала',\n '1955',\n '##тину',\n 'will',\n 'входить',\n '##жение',\n 'Station',\n '##pan',\n '##IG',\n 'имя',\n '##ктор',\n '##льзя',\n '##лось',\n 'нём',\n 'Кама',\n '##ns',\n 'другу',\n '##ште',\n '##tic',\n 'командованием',\n 'Max',\n '##mat',\n 'Showtime',\n 'Италия',\n 'але',\n '##эг',\n '##пасности',\n 'Pa',\n '##упе',\n '##ра',\n 'ступеня',\n '1157',\n 'деревни',\n '##логической',\n 'MIT',\n '##вые',\n 'эта',\n 'домашних',\n '##ирма',\n 'свойства',\n 'Conference',\n 'медал',\n '##шими',\n '##ops',\n '##гия',\n 'жив',\n 'задача',\n 'произведение',\n 'Sc',\n 'view',\n 'Need',\n 'group',\n 'Line',\n '##нные',\n 'Крыма',\n 'Русский',\n '##ощность',\n '##О',\n 'ae',\n '##U',\n '##wi',\n '##юри',\n '##ецкой',\n 'начинает',\n '##58',\n 'ФЗ',\n '##win',\n '##57',\n 'там',\n '##кер',\n '##сад',\n '##ональный',\n 'Hum',\n '##rae',\n 'Thing',\n '##ёра',\n '897',\n 'силы',\n 'пола',\n 'Новгород',\n '##onic',\n '104',\n 'NA',\n 'городской',\n '##ыла',\n 'Ass',\n 'My',\n 'центром',\n 'Доктор',\n '##тив',\n '##чреждения',\n '##hol',\n '##вести',\n 'это',\n '373',\n '##ливо',\n '386',\n 'комиссии',\n '##бул',\n 'страна',\n '1826',\n 'si',\n '1560',\n '##личия',\n 'D',\n '##руется',\n 'Arts',\n 'форме',\n '##ree',\n 'Jackson',\n '##циональная',\n '##лд',\n '1187',\n 'литература',\n 'Аз',\n 'ял',\n 'тонн',\n '##cat',\n '##ву',\n '##ута',\n '##тский',\n 'простор',\n 'мало',\n 'театры',\n '##тий',\n '##tax',\n 'Вопросы',\n '##cs',\n 'Ci',\n '##рального',\n '1947',\n '##υ',\n 'вместе',\n '492',\n '##ht',\n 'кандидат',\n 'спорту',\n 'Ju',\n 'тему',\n 'звания',\n '##над',\n '##лые',\n '##лски',\n '##слуг',\n '##LC',\n 'Некоторые',\n '\\\\',\n 'Kings',\n 'т',\n '344',\n 'юк',\n '##ь',\n 'новых',\n 'Will',\n '625',\n '##жается',\n '##полага',\n '488',\n 'бассейн',\n 'Stories',\n 'Cam',\n 'гора',\n 'Martin',\n '##тав',\n 'статьи',\n 'дерева',\n '##шины',\n '##эх',\n 'Battle',\n '417',\n '##СР',\n '##овен',\n '##кций',\n '##шне',\n '726',\n '##АТ',\n 'SG',\n 'данный',\n 'New',\n 'Tam',\n '1204',\n 'нею',\n 'КПСС',\n '##м',\n 'della',\n '##ское',\n '##есе',\n 'Израиль',\n '##рупный',\n '308',\n '##ожных',\n '##gas',\n 'строительстве',\n '##ster',\n 'AP',\n '##овка',\n 'IT',\n 'GR',\n '4500',\n '##S',\n 'книг',\n '##орка',\n 'et',\n '##ники',\n '##ур',\n 'астрономы',\n '##тал',\n 'Life',\n '##ране',\n 'дружина',\n 'церква',\n '##ктар',\n 'ё',\n 'страну',\n '133',\n 'The',\n 'Volvo',\n '##гана',\n 'we',\n '##икой',\n '812',\n '##py',\n '##ански',\n '##ожным',\n '4',\n '##очки',\n '##садки',\n '»',\n 'Stone',\n 'Program',\n 'pra',\n 'событий',\n '##орж',\n '##евой',\n 'видов',\n '##няли',\n 'Пол',\n 'Whitney',\n 'университет',\n 'Wrestling',\n 'пара',\n 'начиная',\n '##азывает',\n '##tum',\n 'объекта',\n '##зи',\n 'НАН',\n 'вернуться',\n 'Российской',\n '##рито',\n '##сько',\n '##шних',\n 'улы',\n 'капитана',\n '##скан',\n 'TA',\n '##стых',\n 'CF',\n '##есна',\n '##тства',\n '##рен',\n '##кен',\n 'By',\n '##BC',\n 'Hong',\n '##чай',\n 'Front',\n 'переводе',\n 'Перу',\n '750',\n '##рация',\n 'письмо',\n '##йб',\n '019',\n 'Кирил',\n '550',\n 'контракт',\n 'сост',\n '147',\n '1622',\n '540',\n 'Звезды',\n '##ких',\n '##довы',\n 'are',\n '##руют',\n 'Международной',\n 'VC',\n 'чем',\n '1513',\n 'world',\n '##yd',\n 'картин',\n '604',\n 'око',\n 'штату',\n 'награждён',\n '##ET',\n '480',\n '##рских',\n '##арри',\n '##вается',\n '1406',\n 'Nature',\n 'сезона',\n '##nica',\n '002',\n 'памятник',\n 'русского',\n 'Карл',\n 'сад',\n 'некоторых',\n '##ü',\n '##bian',\n 'ki',\n '##лаг',\n 'секретар',\n '##ani',\n 'Enter',\n '##SI',\n 'част',\n 'MX',\n '1949',\n '##rium',\n '##тв',\n 'Four',\n '##бра',\n 'Beast',\n '673',\n '##ко',\n 'Алматы',\n 'Michael',\n '##хь',\n 'B2',\n '##положен',\n '##hil',\n '##ционно',\n '##кан',\n '##ону',\n '##язей',\n 'IGN',\n 'Зур',\n '##КО',\n '##цин',\n 'ворота',\n '##лий',\n '##тери',\n 'TV',\n 'Long',\n '##LL',\n 'турнира',\n 'Северной',\n 'Deutsche',\n '##алог',\n 'последних',\n '##ell',\n 'завоевал',\n '##ано',\n '##сок',\n 'Info',\n '##e',\n '08',\n '##бль',\n '800',\n '795',\n '404',\n 'другом',\n '1921',\n '##зом',\n '##жая',\n '##маса',\n '##M',\n 'Li',\n '##gan',\n 'Wild',\n 'положения',\n '##ius',\n '500',\n 'Америке',\n 'para',\n 'East',\n 'Ghost',\n '##ований',\n '##уб',\n '##шений',\n 'блок',\n 'больших',\n 'Фонд',\n '##dus',\n '##вила',\n '##дро',\n '##04',\n '##жает',\n 'машины',\n '##вает',\n 'Airbus',\n 'y',\n 'Berlin',\n '##ации',\n 'западнее',\n '##ьского',\n '##феры',\n 'месте',\n '##кула',\n 'себе',\n 'Series',\n 'Wolf',\n '257',\n 'томах',\n 'Unix',\n '958',\n '##тания',\n 'Dead',\n '##nti',\n 'зала',\n 'цела',\n 'операции',\n '##нальным',\n '1917',\n '##ционные',\n '111',\n '##чан',\n '1480',\n 'Республика',\n '##латы',\n 'Volkswagen',\n 'белых',\n '##жнем',\n 'Wave',\n '1482',\n '##id',\n '##28',\n 'политику',\n 'научно',\n '##yli',\n 'случаях',\n 'Венера',\n '##лос',\n 'Медаль',\n '##ис',\n 'Георги',\n 'Main',\n 'языках',\n 'проживало',\n 'дворец',\n 'передач',\n '##вших',\n 'был',\n '151',\n '355',\n 'счётом',\n 'Николая',\n 'предприятия',\n '##аж',\n '##wit',\n '##ел',\n '1854',\n '|',\n '##go',\n 'зараз',\n '##бал',\n 'Ein',\n '##can',\n '##тска',\n 'ДНК',\n 'Федеральный',\n 'Sky',\n '324',\n 'му',\n '##лт',\n 'iPhone',\n '223',\n 'v',\n 'юли',\n '##fu',\n '720',\n 'Royce',\n 'процесс',\n 'информация',\n '##влен',\n 'позднее',\n '##t',\n 'Bel',\n 'комп',\n '##fa',\n '##держания',\n 'i',\n '##dea',\n 'Советский',\n '##мым',\n '##вка',\n '##ици',\n '##щая',\n 'общины',\n 'ба',\n '##льский',\n 'Социалистического',\n 'Zi',\n '05',\n '##нь',\n '##тва',\n 'определения',\n '##нском',\n 'ni',\n 'английский',\n '##мены',\n '##мс',\n 'клубом',\n 'персонажей',\n 'рассказывает',\n '032',\n '1372',\n '732',\n '##гез',\n 'was',\n 'сцены',\n '##bank',\n '##есной',\n 'York',\n 'дома',\n 'ЦК',\n 'искусство',\n '##аря',\n 'There',\n '##хист',\n '##аллы',\n '##таны',\n '→',\n 'Na',\n 'Dar',\n 'доля',\n '##ведена',\n '477',\n '##еса',\n '##баев',\n '##льское',\n 'Anti',\n 'Time',\n 'автор',\n '##бой',\n 'Вадим',\n 'LP',\n 'план',\n 'российского',\n '##зера',\n '##van',\n 'политик',\n 'офицеров',\n 'Journey',\n '1453',\n 'Qui',\n '##тары',\n 'PC',\n 'Чемпион',\n 'Bella',\n 'Велики',\n '1914',\n '##ней',\n 'Audi',\n 'виды',\n 'Ак',\n '##ode',\n 'поведение',\n '##шина',\n 'Proto',\n '##hl',\n '##уми',\n 'Rage',\n '##ева',\n '##рту',\n '##бежать',\n 'третий',\n '##ski',\n '753',\n 'кн',\n 'размер',\n '##ания',\n '660',\n '##енную',\n '199',\n 'року',\n 'исследования',\n 'персонаж',\n '##рху',\n 'Ефрона',\n 'прошла',\n '##дик',\n '##sm',\n '##але',\n '##птура',\n '##кими',\n '##укова',\n 'культуре',\n 'Вторая',\n '##жены',\n 'по',\n 'FIFA',\n '262',\n '##шы',\n '##уктуре',\n 'Holding',\n '##лической',\n '##ваны',\n 'Например',\n 'Университета',\n 'ст',\n '##ничество',\n '##мина',\n '##лялся',\n 'China',\n 'медаль',\n '1759',\n 'Model',\n '##ери',\n 'Выпуск',\n 'Os',\n 'VL',\n 'деп',\n 'власт',\n '##уска',\n '##фы',\n '1475',\n '1502',\n 'апрель',\n '##world',\n 'площадь',\n 'Opera',\n 'Intel',\n '##евский',\n 'ja',\n 'Вид',\n '273',\n '1849',\n 'членами',\n '##бие',\n '##яется',\n 'Русской',\n '##В',\n '3200',\n 'привело',\n '##фон',\n 'западу',\n 'услуги',\n '##вело',\n '1218',\n '##шней',\n 'победы',\n 'видео',\n 'Race',\n 'L',\n 'Ob',\n 'ши',\n 'Bad',\n '##side',\n '##водство',\n 'Советская',\n '##рас',\n '##бия',\n 'Het',\n '1140',\n 'South',\n 'ред',\n '##ината',\n '375',\n '#',\n '##рованных',\n '##онального',\n '##war',\n '##вара',\n '##тины',\n '##шому',\n '##ive',\n 'Friends',\n '1371',\n 'Forever',\n 'приема',\n '##ita',\n 'территориальных',\n 'революция',\n 'УЕФА',\n '##рование',\n '428',\n '##нт',\n '##ус',\n '##стань',\n 'sur',\n 'мужество',\n 'экипажа',\n 'музыкальных',\n 'решения',\n 'Par',\n 'сайты',\n '##сл',\n 'mail',\n 'Be',\n 'пытался',\n '##ковского',\n 'Крис',\n '921',\n 'Россию',\n 'суда',\n '##жава',\n 'Camp',\n 'Tek',\n '##ровского',\n 'листа',\n 'Color',\n 'th',\n '##ьори',\n 'сражении',\n 'Tennis',\n '##менил',\n 'Street',\n 'Dol',\n '##ька',\n 'eu',\n '##ct',\n '##ностей',\n 'Forbes',\n 'Wanna',\n 'Hi',\n '##бан',\n '##тична',\n 'Digital',\n '##ющего',\n '1561',\n 'те',\n '##цию',\n '2008',\n '##час',\n 'USS',\n 'Alone',\n '79',\n 'реж',\n 'Баку',\n '##ален',\n '##яи',\n '##IC',\n '##ийской',\n '##ьд',\n '##бур',\n 'WP',\n '##влено',\n 'позиция',\n 'ситуации',\n '1423',\n 'должности',\n 'Z',\n 'He',\n 'илл',\n 'пути',\n '1150',\n 'государственных',\n 'Германия',\n '1988',\n 'Classic',\n '##rap',\n '##рованы',\n '##росла',\n 'очередь',\n '##ota',\n '##цио',\n 'воды',\n '##чели',\n '1609',\n 'Viva',\n '793',\n '##вания',\n '##nte',\n '##chy',\n '##алы',\n '##жоу',\n '1198',\n '##ейс',\n 'Bill',\n 'ОАО',\n 'Sea',\n 'Visual',\n '##уля',\n 'вы',\n 'муниципального',\n '##ă',\n 'После',\n 'победа',\n '1',\n '##цкая',\n '1758',\n '1497',\n 'K',\n '##NG',\n '##лот',\n '##он',\n 'самого',\n '##ивных',\n '863',\n '##zz',\n 'источников',\n 'Age',\n '##Р',\n '##ито',\n 'звёзд',\n '04',\n 'Екатерина',\n '##or',\n 'дочь',\n 'БССР',\n '##own',\n '##тник',\n '##лады',\n 'председателем',\n '##сшее',\n 'Jo',\n '1682',\n 'здания',\n 'вступил',\n 'приложение',\n '1985',\n 'сайта',\n 'судно',\n 'Carl',\n '1547',\n '##ъединение',\n '##ёс',\n '176',\n '584',\n 'ноябре',\n '##мка',\n 'Championship',\n 'Kim',\n '##пания',\n '1457',\n 'реки',\n '1516',\n '##чное',\n 'гол',\n '##ственным',\n '1264',\n '##ig',\n 'действия',\n 'исследование',\n '##ule',\n 'Off',\n 'Москве',\n 'Partners',\n 'була',\n 'СС',\n '##our',\n '##тики',\n 'награду',\n '##бный',\n '##ими',\n 'ок',\n '##пции',\n 'Ei',\n '##уп',\n '##qua',\n 'cm',\n '##an',\n '##рдан',\n '610',\n '##мана',\n '145',\n 'книга',\n 'Джек',\n '##ί',\n '##ателей',\n 'Тогда',\n 'Wi',\n 'речи',\n '1722',\n '##ndi',\n ...}"
     },
     "execution_count": 228,
     "metadata": {},
     "output_type": "execute_result"
    }
   ],
   "source": [
    "geotrend_tokens = set(geo_tokenizer.get_vocab().keys())\n",
    "geotrend_tokens"
   ],
   "metadata": {
    "collapsed": false
   }
  },
  {
   "cell_type": "code",
   "execution_count": 229,
   "outputs": [
    {
     "data": {
      "text/plain": "{'##ичний',\n 'найкращих',\n '##эм',\n 'берегу',\n 'крепости',\n 'спочатку',\n 'муниципальных',\n '##ьний',\n '##стите',\n 'договор',\n 'включаючи',\n '##ському',\n '##цыйны',\n '##лях',\n '##чому',\n '##чных',\n '##берг',\n '##ющий',\n '##ав',\n 'представители',\n '734',\n '##ену',\n '##одом',\n '1202',\n 'ряда',\n 'Ту',\n 'България',\n 'юханшыв',\n 'видання',\n 'бала',\n '##тету',\n 'главы',\n 'вайны',\n '##ычных',\n 'општ',\n '819',\n 'кушыла',\n 'представляет',\n 'периоду',\n 'Дон',\n '##пособность',\n '##виг',\n 'редакциясы',\n '##зення',\n '1585',\n 'населението',\n '219',\n '##еми',\n 'Польши',\n '##۷۶',\n 'Пловдив',\n '##жную',\n 'Калкы',\n '##рения',\n '##йного',\n '##емой',\n '･',\n 'агентстви',\n '##ческому',\n '100',\n '##ужно',\n 'биде',\n 'Тим',\n 'брзо',\n 'проходили',\n '511228',\n 'памяти',\n '984',\n '##ристиан',\n 'Усть',\n '##альних',\n 'решил',\n '##нула',\n 'Ел',\n 'регионалну',\n '1809',\n 'Населението',\n '۲۲',\n '##нус',\n 'Численность',\n 'близько',\n '##авна',\n 'зэрэг',\n 'бекитилген',\n 'пак',\n '##мая',\n 'река',\n '623',\n '098',\n '##сен',\n 'септември',\n 'документи',\n '##сновы',\n 'евро',\n 'цхьабосса',\n '1305',\n '##нае',\n '##щение',\n 'Након',\n 'нея',\n '1951',\n '૦',\n '644',\n '೬',\n '##ид',\n 'юкъара',\n 'Бу',\n 'изучения',\n '##нав',\n 'онда',\n '896',\n '47',\n '##оре',\n '##ведения',\n 'сами',\n '##сын',\n 'Беларуская',\n '2551',\n 'сразу',\n '##говор',\n '704',\n '441',\n 'формирования',\n '##ге',\n '##мки',\n '##000',\n '##цкага',\n 'матери',\n 'Реал',\n '##или',\n '##ыгыш',\n '##каз',\n '##੪',\n 'биринчи',\n 'пример',\n '844',\n '##удио',\n 'Мала',\n '[unused23]',\n '1955',\n '##тину',\n 'входить',\n '##ивни',\n '##жение',\n '##۷۲',\n 'доьзна',\n 'имя',\n '##ктор',\n '##льзя',\n '##лось',\n 'нём',\n '##ылып',\n 'Аьхка',\n 'Кама',\n 'другу',\n 'тощо',\n '##ште',\n 'командованием',\n 'Италия',\n 'болуы',\n 'але',\n '##эг',\n '##пасности',\n 'молекулярна',\n '##чына',\n '##чын',\n '##упе',\n '##ра',\n 'ступеня',\n '1157',\n 'деревни',\n '##логической',\n '061',\n '##вые',\n 'эта',\n 'домашних',\n '##ирма',\n 'леррана',\n 'свойства',\n 'якын',\n 'медал',\n '##шими',\n '##чалося',\n '##гия',\n 'жив',\n '##сього',\n 'задача',\n 'произведение',\n '##нные',\n 'Крыма',\n 'Русский',\n '##ощность',\n '##О',\n 'Оахака',\n 'дължина',\n 'пролетната',\n 'различни',\n 'семейството',\n '##няга',\n '##юри',\n '##ецкой',\n 'начинает',\n '##58',\n 'ФЗ',\n '##57',\n 'там',\n '##кер',\n '##сад',\n '##йських',\n 'Српске',\n '##ональный',\n '##ёра',\n '897',\n 'силы',\n 'пола',\n 'открива',\n 'Новгород',\n 'дукхаллин',\n '104',\n 'торучы',\n '११',\n 'городской',\n '##ыла',\n '##၀၀',\n 'центром',\n 'тобто',\n 'Доктор',\n '##тив',\n '##чреждения',\n '##вести',\n 'это',\n '##уы',\n '373',\n '##ливо',\n '386',\n 'комиссии',\n '##бул',\n 'страна',\n '၀',\n '1826',\n '1560',\n '##личия',\n '##руется',\n 'форме',\n '##имий',\n 'херцог',\n '##циональная',\n '068',\n '##лд',\n 'хто',\n 'литература',\n 'Аз',\n 'ял',\n '1187',\n 'отново',\n 'тонн',\n '##ву',\n '##ута',\n '##тский',\n 'Збройних',\n 'простор',\n 'мало',\n 'театры',\n '##чыць',\n '##тий',\n 'Вопросы',\n '##рального',\n '1947',\n '492',\n 'вместе',\n 'кандидат',\n 'спорту',\n 'тему',\n 'звания',\n '##лые',\n '##над',\n '২',\n 'жайгашкан',\n '##слуг',\n '##лски',\n 'Некоторые',\n '\\\\',\n '##бына',\n 'т',\n '344',\n 'юк',\n '##ь',\n 'новых',\n 'радиацин',\n '625',\n '##жается',\n '##полага',\n '488',\n 'башлай',\n 'бассейн',\n '۲۳',\n 'гора',\n '##тав',\n 'статьи',\n '##၁',\n 'дерева',\n '##шины',\n '##эх',\n 'манастира',\n 'водата',\n '417',\n '##СР',\n '##овен',\n '##кций',\n '##шне',\n '726',\n '2543',\n '##АТ',\n '##лэг',\n 'данный',\n '1204',\n 'нею',\n 'КПСС',\n '##м',\n '․',\n '##ское',\n '##есе',\n 'Израиль',\n 'кога',\n '308',\n '##ожных',\n '##рупный',\n 'строительстве',\n '##ьнай',\n '##овка',\n 'Нацыянальны',\n 'некои',\n '4500',\n 'книг',\n '##орка',\n '##ники',\n '##ур',\n 'астрономы',\n 'коьрта',\n '##тал',\n '##ране',\n 'дружина',\n '##ктар',\n 'церква',\n 'башхалла',\n 'ё',\n 'яна',\n '133',\n 'страну',\n '##ських',\n '##гана',\n 'знаходиться',\n 'името',\n '##чнага',\n '##икой',\n '812',\n '##ански',\n '##ожным',\n '4',\n '##очки',\n '##садки',\n '»',\n 'кушылдыгы',\n 'влада',\n '##орж',\n 'событий',\n '##евой',\n 'видов',\n '##няли',\n 'Пол',\n 'университет',\n 'пара',\n 'начиная',\n '##азывает',\n 'объекта',\n '##зи',\n 'висини',\n 'НАН',\n 'вернуться',\n 'Российской',\n '##рито',\n '##сько',\n '##шних',\n 'улы',\n 'капитана',\n '##скан',\n '##००',\n '।',\n '##стых',\n 'европан',\n '##есна',\n '##тства',\n '##рен',\n '##кен',\n '##чай',\n 'переводе',\n 'Перу',\n '750',\n '##рация',\n 'письмо',\n '##йб',\n '019',\n 'Кирил',\n '550',\n 'контракт',\n 'сост',\n '147',\n '1622',\n '540',\n 'Звезды',\n 'окуу',\n '##ких',\n '##довы',\n '##руют',\n 'Международной',\n 'главни',\n '##๒',\n 'чем',\n '##ванне',\n '1513',\n 'картин',\n '604',\n 'око',\n 'штату',\n 'награждён',\n '##ласы',\n '480',\n '##рских',\n '##арри',\n '##вается',\n '1406',\n 'сезона',\n '002',\n 'памятник',\n 'русского',\n 'Карл',\n 'сад',\n 'некоторых',\n '##лаг',\n 'секретар',\n 'Проверено',\n 'част',\n 'ларарца',\n '##чних',\n 'Входить',\n '1949',\n '##тв',\n '##бра',\n '673',\n '##၀',\n '##йственного',\n '##ко',\n 'Алматы',\n '##положен',\n '##хь',\n '##ционно',\n 'долази',\n '##кан',\n 'горадзе',\n '##ону',\n '##язей',\n 'Зур',\n '##КО',\n '##цин',\n 'ворота',\n '##лий',\n '##тери',\n 'улогу',\n '##۲۰',\n 'турнира',\n 'Северной',\n 'Поради',\n '##ръща',\n '##алог',\n '१४',\n 'последних',\n 'завоевал',\n '##ано',\n 'шаары',\n '##иця',\n '##сок',\n '08',\n '##бль',\n '800',\n '795',\n '404',\n 'другом',\n '1921',\n '##зом',\n 'месец',\n '##жая',\n 'Бассейндин',\n '045',\n '##маса',\n '##ццё',\n 'положения',\n 'према',\n '500',\n 'Америке',\n 'Първата',\n '##ований',\n 'больших',\n '##уб',\n '##шений',\n 'блок',\n 'Фонд',\n '##лення',\n '##вила',\n '##дро',\n '##04',\n '##жает',\n 'машины',\n '##вает',\n '##гання',\n '##ации',\n 'западнее',\n '##ьского',\n '##феры',\n 'месте',\n '##кула',\n 'себе',\n '958',\n '257',\n 'томах',\n '##тания',\n 'зала',\n '0393333647',\n 'цела',\n 'битката',\n 'операции',\n '##нальным',\n '[unused11]',\n '##цтво',\n '1917',\n 'групу',\n '[unused13]',\n '111',\n '##чан',\n '1480',\n 'Республика',\n '##латы',\n '##ционные',\n 'белых',\n '##жнем',\n 'аймактарын',\n '1482',\n '##28',\n 'политику',\n 'збереження',\n 'научно',\n 'каттоо',\n 'случаях',\n 'Венера',\n '##лос',\n 'Медаль',\n '##ис',\n 'Георги',\n 'языках',\n '##салы',\n 'проживало',\n 'дворец',\n 'передач',\n '##вших',\n '1249',\n 'был',\n '151',\n '355',\n 'округуна',\n 'счётом',\n 'Николая',\n 'предприятия',\n '##аж',\n '##ел',\n '1854',\n 'италиански',\n 'зараз',\n '##бал',\n '##тска',\n 'Федеральный',\n 'ДНК',\n '324',\n 'му',\n '##лт',\n 'префектури',\n '223',\n 'юли',\n '##влен',\n '720',\n 'информация',\n 'процесс',\n 'позднее',\n '##циално',\n '##держания',\n 'комп',\n '۲۰۱۱',\n 'Советский',\n 'анын',\n '##мым',\n '##икалык',\n '##вка',\n '##ици',\n '##щая',\n 'общины',\n 'ба',\n '##льский',\n 'аднак',\n 'Социалистического',\n '##нь',\n '05',\n 'нийса',\n '##тва',\n 'определения',\n '##нском',\n 'почали',\n 'статистикасы',\n 'английский',\n '##мены',\n '##мс',\n 'клубом',\n 'персонажей',\n 'належать',\n '##йшли',\n 'рассказывает',\n 'спроведено',\n '##нската',\n 'яшчэ',\n 'Загальна',\n '032',\n '1372',\n '732',\n '##гез',\n 'сцены',\n '##есной',\n 'дома',\n 'искусство',\n 'ЦК',\n '##аря',\n '##аллы',\n '##хист',\n '##таны',\n 'доля',\n '##ведена',\n '477',\n '##еса',\n '##баев',\n '##льское',\n '##бой',\n 'автор',\n 'општина',\n 'Вадим',\n 'план',\n 'российского',\n '##зера',\n 'политик',\n 'офицеров',\n '‿',\n '1453',\n '##тары',\n 'Лудвиг',\n 'Чемпион',\n 'массаш',\n 'Велики',\n '1914',\n 'аны',\n '##ней',\n 'виды',\n 'Ак',\n '##плення',\n 'поведение',\n '##шина',\n '##уми',\n '##бежать',\n '##ева',\n '##рту',\n 'третий',\n '753',\n '[unused71]',\n 'дараа',\n 'кн',\n 'размер',\n 'якому',\n 'Површина',\n '##ания',\n '660',\n '##енную',\n '199',\n 'року',\n 'исследования',\n 'персонаж',\n '##рху',\n 'Ефрона',\n 'прошла',\n '##дик',\n '##укова',\n '##але',\n '##птура',\n '##кими',\n 'культуре',\n 'Вторая',\n 'циклонашца',\n '2545',\n '##жены',\n 'по',\n 'еклиптиката',\n '262',\n '[unused67]',\n '##шы',\n '##уктуре',\n '##йняв',\n '##۸۷',\n '##лической',\n '##ваны',\n 'Например',\n 'Университета',\n 'ст',\n '##ничество',\n '##мина',\n '##лялся',\n 'медаль',\n '1759',\n '##ери',\n 'Выпуск',\n '1475',\n 'Воронеж',\n 'деп',\n 'власт',\n '##уска',\n '##фы',\n '1502',\n '##ежно',\n 'апрель',\n 'площадь',\n 'особено',\n 'минималната',\n '023',\n '##евский',\n 'Вид',\n '##орыя',\n '273',\n '1849',\n 'членами',\n '##бие',\n '##яется',\n 'Русской',\n '##В',\n '3200',\n 'Према',\n '##фон',\n 'привело',\n 'западу',\n 'услуги',\n '##вело',\n '1218',\n '##шней',\n 'победы',\n 'видео',\n '##водство',\n 'ши',\n 'немски',\n 'Советская',\n '##рас',\n '##бия',\n '1140',\n 'Жогорку',\n '##яства',\n 'ред',\n '##ината',\n '##мица',\n '375',\n '#',\n '##рованных',\n '##онального',\n '##ився',\n '##вара',\n '##тины',\n '##шому',\n '1371',\n 'приема',\n 'территориальных',\n 'кушылдыклары',\n 'революция',\n 'УЕФА',\n '##рование',\n '428',\n '##нт',\n '##ус',\n '[unused15]',\n '##стань',\n 'мужество',\n 'экипажа',\n 'музыкальных',\n 'решения',\n 'сайты',\n '##зитет',\n '##сл',\n 'пытался',\n '##ковского',\n 'Крис',\n '921',\n 'ознаката',\n 'Россию',\n '3411062525',\n 'суда',\n '##жава',\n 'последните',\n '##ровского',\n 'листа',\n '##ьори',\n 'сражении',\n '##۵۲',\n '##менил',\n '##ька',\n 'долу',\n '##ностей',\n 'даний',\n '##бан',\n '##тична',\n 'башчысы',\n 'сельсавета',\n '##ющего',\n '1561',\n 'те',\n '##цию',\n '2008',\n '[unused77]',\n '##ылган',\n '##час',\n '79',\n 'реж',\n 'Баку',\n '##ален',\n '##яи',\n '੫',\n '##ууд',\n '##ийской',\n '##ьд',\n '##бур',\n '##влено',\n 'позиция',\n 'лаьтта',\n 'ситуации',\n '0136120512',\n '1423',\n 'должности',\n 'илл',\n 'пути',\n '1150',\n 'государственных',\n 'Германия',\n '1988',\n '##енням',\n '##рованы',\n '##хустин',\n 'очередь',\n '##росла',\n '##цио',\n 'воды',\n '##чели',\n '1609',\n '793',\n 'болатын',\n '##вания',\n '##алы',\n '##жоу',\n '1198',\n 'министър',\n '##ейс',\n 'ОАО',\n '##уля',\n 'вы',\n 'муниципального',\n 'После',\n 'победа',\n '1',\n '##цкая',\n '1758',\n '1497',\n 'перыяд',\n '##лот',\n '##он',\n 'самого',\n '##ивных',\n '863',\n 'источников',\n '৫৯',\n '##ито',\n '##Р',\n '##ът',\n 'звёзд',\n '04',\n 'Екатерина',\n 'дочь',\n 'БССР',\n '##тник',\n '##лады',\n 'председателем',\n '##сшее',\n 'освен',\n 'Иртеш',\n '1682',\n 'здания',\n 'вступил',\n '＊',\n 'приложение',\n '1985',\n 'алып',\n 'судно',\n '1547',\n 'базасы',\n '##ъединение',\n '##ёс',\n '176',\n '584',\n 'атласот',\n 'почетку',\n '1016',\n 'ноябре',\n 'Мектеп',\n '##мка',\n 'турат',\n '##пания',\n '1457',\n 'реки',\n '1516',\n '1269',\n '##чное',\n 'гол',\n '##ственным',\n '1264',\n '##۱',\n 'действия',\n 'исследование',\n 'номуру',\n 'Москве',\n 'була',\n 'СС',\n '##тики',\n 'награду',\n '##бный',\n '##ими',\n 'ок',\n '##пции',\n '##۹۲',\n 'Анын',\n '##уп',\n '##рдан',\n '610',\n 'зур',\n '##мана',\n '145',\n 'книга',\n 'Джек',\n '##ателей',\n 'Тогда',\n 'речи',\n '1722',\n '##вской',\n 'француз',\n 'состав',\n '494',\n 'Монголын',\n 'всей',\n 'вопросы',\n 'состоянии',\n 'лютому',\n '1310',\n 'близо',\n '##оружённых',\n 'Президента',\n 'большинство',\n '##лем',\n '##народный',\n '##жин',\n 'гергга',\n 'семья',\n 'фебруар',\n '933',\n '62',\n '1215',\n '##нскую',\n '1070',\n '1060',\n 'Первоначально',\n '##၅',\n '##тельной',\n 'основных',\n '925',\n 'Нового',\n '##усь',\n 'парламента',\n 'посебно',\n 'вони',\n '۷',\n '##овали',\n '##валася',\n '##жным',\n 'тома',\n 'било',\n 'Перед',\n 'медалями',\n ...}"
     },
     "execution_count": 229,
     "metadata": {},
     "output_type": "execute_result"
    }
   ],
   "source": [
    "own_tokens = set(russian_tokenizer.get_vocab().keys())\n",
    "own_tokens"
   ],
   "metadata": {
    "collapsed": false
   }
  },
  {
   "cell_type": "code",
   "execution_count": 230,
   "outputs": [
    {
     "name": "stdout",
     "output_type": "stream",
     "text": [
      "{'Publishing', 'Tonight', '##cco', 'RF', '##pe', 'Sing', 'Capitol', 'Rap', 'Voice', 'LM', 'Pay', '##ý', '##h', 'Rainbow', 'Lost', 'NH', 'b', 'Cap', '##ope', '##ο', 'für', 'Toyota', 'Enterprise', 'RM', 'God', 'Lab', 'DVB', '##ny', '##pil', '##osa', 'WWF', 'FN', 'Jam', 'est', 'Only', '##GA', 'Dark', 'Nights', 'Pictures', 'Lau', 'CL', '##oth', '##tte', 'Water', '##el', 'Le', 'Fu', 'off', '##wa', 'Tracks', 'Death', 'M1', 'A2', '##ono', 'Original', 'Monte', 'Web', '##craft', 'Ethernet', 'Ash', 'Flash', 'Fra', '##gel', 'W', 'Ol', '##re', '##hor', 'AI', 'Soc', '##b', 'Strike', '##peche', 'Nu', 'Shi', 'Smith', '##bot', 'Land', '##AC', 'Capital', '£', 'q', 'Prince', 'Dawn', 'Empire', 'Rose', 'S1', '##row', 'Freedom', 'Adventure', 'JG', 'Games', 'DJ', 'MG', 'Mu', 'London', 'Nation', 'as', '##psis', 'info', 'EMI', '##pers', '##hus', 'Space', 'Rec', 'Rev', '##CI', '##Pa', '##pot', '##ud', 'DF', 'at', 'Edition', 'ATP', '##ba', '##ok', 'Semi', '##ed', 'Tra', 'Vu', 'Alliance', 'Pack', 'Mix', 'Cross', 'Pel', '##wis', '##eo', '##NT', 'Planet', 'Burn', 'RCA', '##ans', 'va', 'Mother', 'ESO', 'will', 'Il', 'Station', '##pan', '##IG', 'Open', 'Av', 'Ubuntu', 'CE', '##kin', 'XP', '##ai', '##ns', 'Years', '##SL', '##rato', 'Island', '##ck', '##tic', 'Max', '##mat', 'Pro', 'V', 'Wars', 'Showtime', '##PG', 'Ring', '##GI', 'Psycho', 'Pa', '##lum', 'Black', '##ism', 'Asia', 'MIT', 'MVP', 'Monster', 'Conference', 'Kind', '×', 'Das', '##ick', '##ops', 'Clan', '##rac', '##sh', '##−', 'AS', 'DA', 'is', 'Sc', 'view', 'Need', 'License', 'group', 'Line', 'FS', '##№', 'Cooper', '##ue', 'Mario', '##SE', 'ae', '##U', '##wi', 'Vic', '3D', 'P', '##ef', 'Boeing', '##win', 'Action', 'Universe', '##tha', 'Game', '##ina', 'Metallica', 'Hum', '##Q', '##rae', 'Late', 'Um', 'Thing', 'Terra', '##uer', 'Ant', 'Galaxy', '##onic', 'Big', '##urs', 'Alt', '##IB', '##EN', 'NA', '##cca', '##ez', 'Motors', '##op', 'Ass', 'My', 'AC', '##hol', '##lli', 'Por', 'France', 'RAW', 'si', '##w', 'OVA', 'UA', '##hou', 'D', '##so', '##CT', 'Wind', 'z', 'Arts', 'Know', '##ree', 'Jackson', 'Explorer', 'Ch', 'Ka', 'Entertainment', 'GC', '##cat', 'Shin', 'DE', 'La', 'E2', '##es', '##rina', 'DH', '##time', 'ge', 'Nikon', 'Bluetooth', '45°', '##tax', 'Mercedes', '##ria', 'Ci', '##cs', '##υ', 'h', 'Control', 'Fl', 'AU', 'Wish', 'Amb', '##ht', 'fr', 'Ju', 'Thomas', '##LC', '##gger', 'Jane', 'Kings', '##gg', 'Maria', 'Angel', 'Ave', 'Trophy', 'Rat', '##ura', 'Hus', 'ST', 'Movie', 'Ada', 'Will', 'Un', 'Kar', '##oot', 'At', '##nu', 'Oracle', '$', 'Stories', '##fish', 'Save', 'Cam', 'Martin', 'Battle', 'WB', 'Junior', '##vi', '##cy', '##sia', 'Des', 'VI', '##ped', 'Korn', 'SG', 'км²', '##rol', 'New', 'Tam', 'SM', 'Times', '##ha', 'della', 'Mi', 'Collection', 'IC', 'AR', '##gas', '##ster', 'River', 'Quick', 'AP', 'Yamaha', 'IT', 'Language', 'GR', 'Pol', 'Play', '##S', '##Net', '##yst', 'et', '##cam', 'GPS', '##usi', 'o', 'Et', 'SC', 'Life', '##ong', 'Sad', 'Ny', 'Phys', 'The', 'Volvo', 'U2', '##ev', 'HK', 'we', '##no', '##py', '##CC', 'Tribune', '##ε', 'Ride', 'Around', 'When', '##lop', 'Stone', 'Chicago', 'C2', 'Program', '##ray', '##L', 'pra', '##sci', 'Whitney', 'Wrestling', 'pp', 'ba', 'VR', '##X', '##des', '##tum', 'news', '##idea', 'Oil', 'Design', '##pop', 'H', 'Dor', 'Pink', 'TA', 'Sol', '##́', '##water', '##Y', 'CF', '##І', 'Pos', '##j', '##ob', 'Monde', '##BC', 'By', '##mb', 'Hong', 'Front', '##ar', 'Jean', 'Cry', '##ada', 'Lie', 'Remix', 'Girls', '##lec', 'Six', 'TD', 'Cass', 'are', 'VC', '##xa', 'Steam', 'Aero', 'world', '##yd', '##am', '##DE', 'Trio', '##chia', 'que', 'Vita', '##ET', 'Diamond', '##orum', 'Strong', 'Nature', '##nica', 'UFC', '##ions', 'UK', '##olo', '##oda', 'AA', 'AG', 'Mega', '##ü', '##bian', 'ki', 'Sports', 'ou', 'r', '##det', 'Castle', 'Du', '##cht', 'Enter', '##ani', '##SI', 'MX', 'Washington', 'Riot', '##rium', 'Atlas', '##del', 'Four', 'van', 'Beast', 'GameSpot', 'First', 'Foundation', '##lin', 'Michael', 'B2', '##hil', 'Am', 'Word', '##BSD', '##all', 'out', 'Financial', 'Blast', 'Drive', 'GL', 'TR', 'IGN', 'Pe', '##nch', '##TA', '##FC', '##inae', 'Dog', 'Chart', 'TV', 'Long', '##LL', 'Mono', 'Drop', 'Light', 'One', 'Deutsche', 'You', 'Rotten', 'NE', 'Da', '##ell', 'Beatles', 'XII', '##xi', 'Press', '##cor', 'North', 'Joseph', 'Ya', 'Ars', 'Info', '##ti', '##e', 'University', 'Channel', 'Devi', 'Five', 'Son', 'Cinema', '##M', 'Li', '##gan', 'Wild', 'Guns', 'CG', '##ius', '##press', 'Shop', 'para', 'East', 'Ghost', 'Storm', '##nem', '##os', 'Orange', 'European', '##oca', '##dus', 'DI', 'Children', '##aw', '##AN', 'Cent', 'https', 'Che', '##ctus', '##SA', 'la', 'Airbus', 'y', 'Hai', 'Mal', '##NE', 'Berlin', 'Hold', '##ula', 'Series', 'Wolf', 'Broken', 'Fantasy', 'Unix', 'Fast', 'Dead', '##nti', '##lea', '##ight', 'Animal', '##nes', 'sh', '##mun', 'AMD', '##eni', 'λ', 'Volkswagen', 'am', 'Corp', '##AA', 'Tai', 'Wave', '##lic', '##id', '##FS', 'Wii', '##cla', '##yli', 'Hill', '##hin', 'Main', 'do', 'SD', 'html', '##phi', 'Information', 'Russian', 'Wood', 'US', 'ua', '##sco', 'Ras', '##wind', '##wit', '##smo', 'Public', '|', 'Pain', '##go', '##TI', 'Ein', '##can', '##NO', 'Sky', 'iPhone', 'Boston', 'Journal', '##ite', 'v', '##fu', 'M2', 'Royce', '##t', 'Bel', 'PHP', '##fa', 'i', '##dea', 'Inter', '##AX', '##ls', 'XIII', 'Child', '##bach', '##tions', 'Eagle', '##a', 'Plant', 'Devil', '##іль', 'Zi', 'SE', 'JP', 'Den', '##ī', '##ji', 'ni', 'EP', 'Porsche', 'Business', 'n', 'Ph', '##k', 'Heroes', '##he', 'Want', 'Nine', 'Soft', 'was', '##bank', 'York', 'There', 'Cum', '##ch', '##rop', '→', 'Our', 'Na', '##NS', 'Dar', '##RA', 'CW', '##yri', 'live', 'Anti', 'Time', '##rea', 'Ultimate', 'Eyes', 'LP', 'Funk', '##ane', '##van', '##ime', 'Journey', '##OT', '##uli', '##cha', 'Into', 'Qui', 'Cup', '区', 'PC', 'Paramount', 'Forest', 'T', 'Some', 'Bella', '##OL', '##udo', 'VS', 'Audi', 'Artists', '##ode', 'Mg', 'Beat', 'da', 'Bank', 'Festival', 'Proto', '##cto', '##B', '##hl', 'Alpha', '##cus', 'Chaos', 'Rage', '##ic', 'XI', '##ski', 'IB', 'Facebook', 'Vor', 'Books', '##eci', 'Blind', '##ila', 'NR', 'HTML', 'CM', 'Cruise', 'net', 'Telegraph', 'Kr', 'Warner', '##sm', 'White', '##lay', '##ER', 'Marine', '##lco', '##cm', 'Royal', 'Form', 'Sur', 'FIFA', '##bi', 'Robot', 'TCP', 'Fall', 'Holding', 'Lake', '##ag', '##ko', 'FM', 'Block', 'Kong', 'Metacritic', 'China', '##ned', 'Pacific', 'Model', 'a', '##ng', 'Os', 'VL', 'Attack', 'NME', 'fe', '##world', 'Theatre', '##ien', 'Opera', 'Intel', 'Nothing', '##ov', '##tom', 'ja', '##rk', 'Arcade', 'time', '##tru', 'Roll', 'Robert', 'by', '##gh', 'V8', 'PS', 'Grand', 'CEO', 'Lu', '##cer', 'Race', 'L', '##F', 'Ob', '##lou', 'Bad', '##side', '##san', 'Mon', '##hu', 'Cold', 'Server', 'Het', 'South', 'Samsung', '##π', 'BL', 'all', '##ted', '##war', 'Care', '##ive', 'Friends', 'Forever', 'Yellow', 'Eli', '##ita', '##nor', 'sur', '##nie', '##tron', 'Blu', '##d', 'Par', 'Men', '##hem', '##ies', '##ial', 'BS', 'mail', 'ra', 'Be', 'Micro', 'Camp', 'Tek', 'Mac', '##bra', 'th', 'Color', 'Fest', 'Hip', 'Tennis', 'Hunter', 'Od', '##yo', 'LG', 'Golden', 'Street', '##lip', 'Dol', 'Silence', 'Ir', 'eu', '##ct', '##gono', 'Forbes', 'Aur', 'Wanna', 'Past', 'Hi', 'Ama', 'Digital', 'Get', '##ta', 'Award', 'Ar', 'Point', '>', 'Valley', 'Northern', 'Sci', 'free', '##ira', 'Fiat', 'USS', 'Alone', 'Studio', '##ram', 'μ', 'SW', 'BR', 'Lines', '##IC', 'WP', 'Engineering', 'me', 'Ik', 'Internet', 'Z', 'Disco', '##bus', 'He', 'Ethnologue', 'Investment', '##s', '##rap', 'Classic', 'Moon', '##ota', '##sche', 'Store', 'Viva', '##ham', '##gri', '##nte', '##chy', 'Data', '##E', 'Center', '##nus', 'Hall', 'Honda', 'Bill', 'Sea', 'Visual', '##eti', 'Change', '##ă', '##rius', 'Sonic', 'Ki', 'MP', 'Arctic', 'il', 'K', '##ido', '##NG', '##ware', '##ding', 'Red', 'for', 'Money', 'Things', '##zz', '##we', 'Bi', 'Force', 'Age', 'Comic', '90°', '##or', 'color', '##ves', '##ft', '##own', 'Com', 'CV', '##ack', '##NC', 'Jo', 'Factory', 'au', '##air', 'Class', '##rm', 'f', '##nia', 'Carl', 'Renault', 'Mr', '##chis', '##dro', '##rmi', 'Championship', 'Kim', '##llo', 'Any', '##tar', 'EM', 'Motor', 'Double', 'Crystal', 'Faith', 'Vol', '##ig', '##hog', '##illa', 'Mot', 'Ray', 'Len', '##ule', 'Billboard', '##ser', '##ensis', 'Off', 'Partners', 'United', 'SF', 'NBC', '##our', 'can', 'Trans', 'Media', 'Hard', '##dor', '##ne', 'F', 'Days', 'Holy', 'Mus', 'IMDb', 'Ra', 'ABC', 'Metro', 'Ei', '##qua', 'Ad', '##cro', 'cm', '##ma', '##ese', '##an', 'S0', 'iOS', '##rs', '##tek', 'Magazine', 'IBGE', '##ί', 'ex', 'Wi', '##ndi', '##ile', '##ent', 'Ent', '##GL', 'Ea', '##ör', '##ot', 'IF', 'Tears', 'Multi', '##lle', 'MAC', 'Track', '##PO', 'State', 'Order', 'mu', 'Fund', 'Union', 'Hu', '##³', '##eth', '##un', '°', 'We', 'Blood', 'Evolution', 'Lady', '##sc', 'mac', 'te', 'Ultra', 'Brothers', 'Ans', '##tia', '##vir', '##EG', 'Cop', '##IS', '##IL', 'BSD', '##max', 'GP', '##US', '##nd', '##nik', '##tor', 'UGC', 'Electronics', 'Call', '##EM', '##at', 'l', '##ush', 'with', 'Ni', '##char', 'Adult', 'XX', '##EC', '##de', '##top', 'Association', 'Dia', 'Films', '##uda', 'VIP', '##yl', 'Rain', 'Mel', '##sy', 'Southern', 'Kiss', '##kt', 'C', '##ges', 'Pot', '##nami', 'Gram', 'Var', 'Down', 'le', 'Raw', 'ob', '##naut', 'Through', 'Solaris', '##cant', '##ia', '##HA', 'Greatest', '##ju', 'Spin', 'Reg', 'Man', 'Toy', 'Marvel', 'Saturday', 'Bros', '##TC', 'Music', 'Albums', 'Break', 'li', 'Nuclear', '##cter', '##×', '##te', 'Im', 'Spectrum', 'Macintosh', 'Syn', '##ep', 'Card', '##ex', '##nat', 'Gene', 'Ser', 'Computer', 'Sm', 'Silent', '##age', '##FF', '##tidae', 'International', 'Your', 'Systems', 'Sha', '##IF', 'qui', 'fl', '##cap', 'Romeo', '##icus', 'Like', '##ist', 'Records', 'ITF', 'Lim', 'MCG', '##cti', 'Australian', 'SO', 'Touch', '##ni', 'Office', '##co', '##sch', '##J', '##rus', '##tis', 'Tour', 'Comedy', 'Kan', '##tes', '##oc', 'De', 'w', '##ead', 'Just', 'Joe', 'Rich', 'Ji', 'Bot', 'States', '##tt', '##SC', '##ter', 'VII', 'Mod', 'the', 'Angels', 'Su', 'AF', 'Sciences', 'Paris', 'Chrysler', 'Port', 'Talk', '##TE', 'Rock', 'Without', '##ema', 'GB', 'ma', 'McLaren', 'AT', 'Low', 'Ima', '##i', '##ph', 'Ship', '##ї', '##ning', 'Source', 'Give', 'δ', 'Interactive', '##ts', '##dia', '##hro', 'GO', 'WTA', '##ON', 'Ur', 'Rail', '##CE', 'Run', 'John', 'Blues', '##tsu', 'Note', '##MI', 'Tem', 'N', 'Counter', 'non', '##yi', 'WM', '##wood', 'Texas', 'Def', '##den', 'True', '##oy', 'Sal', '##ose', '##ger', '##tre', 'Paul', '##ў', '##das', 'Jan', 'my', 'Mitsubishi', '##ful', '##dy', '##IP', 'TT', '##lor', '##ren', 'Start', '##ae', 'e4', 'Dam', 'Pic', '##ting', '##ja', 'Neo', 'of', 'Family', 'Tur', '##han', '##don', 'Chr', 'Home', 'Deep', 'B1', 'Has', '##ze', 'Spring', 'Lei', 'pl', 'Met', '##ice', 'Stage', 'Commodore', 'Melo', 'ce', 'Lockheed', '##lob', 'pre', '##ver', 'Club', 'Future', 'RT', '##hr', 'NT', 'A', 'DR', '##ks', '##oli', '##ld', 'Sega', 'lo', '##gna', 'Revolution', '##ume', '##ero', 'Novel', '##DC', '##IE', 'Ferrari', 'Dragon', '##pet', '##nk', '##eno', 'σ', 'Sec', 'sp', '##ino', 'j', 'Field', 'Production', 'Kingdom', 'With', '##sti', 'Hy', 'Bol', 'Rolling', '##ax', 'SQL', 'PSP', 'Ken', '##uz', 'Jump', 'e5', '##AF', 'pe', 'Other', '##rp', 'Bas', 'Flying', 'Ten', '##yx', 'Ann', 'Geschichte', '##dae', '##eon', 'Mars', 'Beyond', 'art', '##com', '##amo', 'Heart', 'Direct', 'RB', '##ela', 'Min', '##UR', '##rin', '##th', 'RD', '##od', 'CH', 'Tan', '##ke', 'VV', '##ker', '##ol', 'm', '##pha', 'FIA', '##net', 'T2', '##CP', '##pat', '##ora', '##RC', 'BP', 'Most', 'ci', '##uti', '##art', 'Arch', 'OP', 'Papa', 'Lan', '##tone', '##RT', 'Arena', 'Ren', '##het', '##rom', '##zar', '##ru', '##ә', 'one', '##color', '##ce', 'Benz', 'Way', 'Day', 'den', 'Better', '##ras', 'RIAA', 'Square', 'vol', 'EC', 'Pass', '##ther', 'Snow', '##ty', '##vo', 'Avenue', '##ang', '##ML', 'Act', 'George', 'Para', 'Bo', '##hi', 'J', 'Tor', 'Factor', 'Gun', 'Sign', '##pro', 'Hate', 'Army', 'MLS', 'Zeitung', '##ink', 'Hearts', '##z', '##ock', '##ida', 'Survivor', 'htm', 'Peace', 'no', '##ge', 'People', '##BA', 'Morning', 'Wiki', '##tra', 'codice', 'Me', '##ban', 'Studios', 'Board', 'HBO', '##EA', 'Record', 'Apache', 'Tun', '##ail', 'Te', '##ten', 'CD', 'Con', 'Fight', 'DC', 'Floyd', 'Born', '##ble', '##out', 'Mit', 'Say', '##and', '##ale', 'Seven', '##ona', 'Car', 'DOS', '##cu', '##ella', 'Three', '##omo', 'Las', 'Mont', 'gu', '##ric', 'Christian', '##ben', '##zer', '##roni', 'ray', 'Echo', 'SMS', '##eu', 'Are', 'Gone', 'Linux', 'Spa', 'MF', 'Historia', '##cent', '##TV', '##tro', '##W', 'XXI', 'MA', '##pa', 'Zen', 'David', 'E', '##f', 'Ano', 'Maker', 'Ai', 'Sims', 'MR', 'Daimler', 'Thu', 'Electric', 'Fly', '##ul', 'Fire', 'Ele', 'st', 'Tea', '##ug', 'For', '##hone', 'Total', '##ple', '##ew', 'Eye', '##ils', 'man', 'Fun', '##g', 'Sir', 'Ha', '20th', 'Kepler', '##ade', 'BMW', '##GO', '##AR', 'Little', 'Scott', 'or', 'Aus', 'Labs', 'Chevrolet', '##ivi', '##CO', 'Airways', 'Bit', 'DP', 'Mary', '##bre', '##line', 'Europe', '##ings', '##con', 'Travel', '##sto', '##bro', '##xy', '##cker', 'Free', 'Nem', '##gue', 'Vir', '##ain', 'Atari', '##box', 'SL', 'Nat', 'Canadian', 'Mercury', 'PR', '##ih', '##jet', 'Frank', 'Got', '##í', 'DB', 'Kill', 'Virtual', '##é', 'Der', 're', '##ier', 'Party', '##ē', 'MySpace', '##al', 'ri', '##p', 'Roland', 'As', 'Ga', '##cinae', 'Uni', 'Earth', '##len', 'WWE', 'Lex', '##PS', 'Singles', 'Bus', 'Security', 'Legend', 'Amiga', '##zy', 'SN', 'If', '##ome', '##est', 'Dir', 'background', '##yg', 'Crazy', '##ear', 'Co', 'Idol', '##lar', 'pH', '##ga', 'IEEE', 'Apple', 'Hawk', '##pal', 'BA', '##lio', '##pes', '##bu', 'Gaming', 'im', '##ach', '##ub', 'Is', 'Po', 'USA', 'Hotel', 'Auto', 'Ty', 'Fuji', 'con', 'UN', 'str', '##RD', 'ap', 'And', 'Limited', 'Que', '##oma', 'HS', 'k', 'Standard', '##zen', '##phe', '##sen', 'Pre', 'Stars', 'Here', 'Les', '##tin', 'In', 'Jesus', 'micro', 'Ma', 'and', 'Adventures', 'Professional', 'Ski', '##vin', '##ie', '##oz', '##on', '##hop', 'Truth', '##oni', 'Kai', 'DVD', 'mon', 'vi', 'G', 'c', '##bia', 'Anime', '##tri', '##za', '##ur', '##ato', 'OM', 'Siemens', 'MP3', 'Dirty', '##jo', 'VIII', 'FIS', '##eri', 'Mountain', 'und', 'Italia', 'Telecom', '##ku', 'Review', 'XVIII', 'Triple', '##sis', 'Tim', '##ow', 'Si', 'Natural', 'Sun', 'National', 'Bou', 'CBS', 'Happy', 'Val', '##shi', '##it', 'Brain', 'EU', '##RI', '##G', 'C1', 'Inn', '##m', 'Heavy', 'id', 'Department', 'Lea', 'Young', '##ros', 'Body', 'Christ', '##ka', 'Shadow', '##har', 'index', '##AG', 'over', '##ah', '##KA', '<', '##SM', 'Let', 'Place', 'Too', 'Kur', 'RA', '##tec', '##she', 'Smash', '##bs', 'Om', '##clo', 'West', '##ā', 'Honey', '##cera', '##pus', '##SS', 'м²', 'bar', 'INSEE', 'Lotus', '##uca', '##uss', 'Advance', '##ing', 'Corporation', '##ym', '##°', '##tel', '##ara', 'Recordings', 'Discovery', 'Es', 'Sem', 'Top', 'TC', '=', 'Go', 'Global', 'Az', 'IR', '##tter', 'Geo', 'car', 'Tournament', 'Audio', 'Fine', '##dis', '##wo', '##lé', '##ι', 'Marie', 'California', 'XIV', 'Her', 'ASCII', 'Van', '##nas', 'us', 'Try', 'Zo', 'Peugeot', '##ini', 'Brown', 'Inf', 'ac', '##eis', 'Adobe', '##ς', 'Fashion', '##q', 'IX', 'KM', 'd4', 'SI', '##HC', 'XXIV', '##oe', '##FA', 'Jack', 'Urban', '##EE', 'Again', 'CB', 'Full', 'be', 'Opel', '##VE', 'Jones', 'Mad', '##tein', '##xe', 'Nissan', 'BE', 'NC', 'Af', 'SAS', 'Album', '##IX', 'NP', '##cce', '##cra', 'tu', 'Everything', '##ate', 'S', 'Teen', 'Cola', '##ro', 'SmackDown', 'Rush', '##C', '##SP', '−1', '½', '##ill', 'ISBN', 'SH', '##eb', 'Belle', 'She', 'ER', 'Tech', '##bb', 'On', '##by', 'App', 'π', 'Walt', 'Women', 'Sim', '##²', 'Boys', '##mia', 'Cell', 'Country', 'Bug', '##dio', 'Of', 'Mag', 'CO', 'Aqua', '专', '2n', '##aro', 'tri', 'Today', 'Speed', 'Paradise', 'An', 'Vista', 'Market', 'fa', '##pt', '##vid', '##ee', '##ds', 'Cor', 'Π', 'Night', '##lis', '##ere', '##mer', 'Technologies', '##ium', 'Advanced', 'ISO', 'Comics', '##ech', 'Ang', '##get', '##his', '##ō', 'Made', 'Ltd', 'Orchestra', 'ME', '##lf', '##man', '##ics', 'org', 'Hal', '##house', 'AH', 'UNIX', '##lt', '##ND', 'Common', '##ator', '##TM', 'Ali', '##ssa', '##GS', 'round', 'Ela', 'Another', '##peri', 'CP', '##pla', '##la', 'Blue', 'Up', '##OS', 'HR', '##eg', '##tur', 'Steel', 'Under', 'Something', 'Aviation', 'Charles', '##r', '##bar', 'Republic', 'fu', 'ch', '##ken', '##ca', 'Yo', 'En', '##pri', 'Bet', '##nsis', '##qui', '##bas', 'Mor', 'go', 'Har', '##stol', 'Return', 'What', 'Sy', 'MM', 'Gods', 'Roses', 'Ba', 'Research', 'Eco', 'Must', 'Russia', 'Dre', '##mi', '##um', 'SS', '##iss', 'Transport', 've', 'BBC', 'Sep', '##gil', 'Bal', 'MGM', '##cher', 'vs', 'Fighter', 'Mark', '##st', '##her', 'Than', 'Mode', 'po', 'Det', 'Ram', 'Gold', 'America', 'em', '##lau', 'BM', 'Book', 'Strange', 'pour', 'β', 'à', 'Op', '##nae', 'Alexander', '##OC', 'Master', '##und', 'Saturn', '##ard', 'Pont', 'er', 'Report', '°C', '##ho', 'Firefox', '##pf', '##sky', 'd', 'Miss', 'Fa', 'Road', '##sta', '##ѣ', 'Name', 'Mach', '##stic', 'Fi', 'pi', '##yth', '##my', '##pon', 'Nippon', 'Trade', 'Chi', 'Yes', '##MS', '##ri', 'English', '##RO', '##ik', 'Led', 'Evil', 'Monkey', '##mas', 'Can', 'CS', 'Res', 'CR', 'Dy', 'Week', 'u', 'Ye', '##dri', 'Pi', 'His', '##ont', 'How', '##IR', 'Central', '##rme', '##rd', 'NN', 'Velvet', '0°', '##port', 'Now', 'MO', '##mus', 'XIX', '##ena', '##iti', '##ych', '##num', '##alis', '##oa', 'Guy', 'Step', 'Rosa', '##LS', 'NET', '##me', 'Fin', '##ces', '##rb', 'Room', 'Br', 'Tu', '##IO', 'Reich', 'Nintendo', 'Pt', 'Q', '##R', '##head', 'Health', 'Cal', 'Airlines', 'Trust', 'Coll', 'SU', 'Mk', 'ED', '##umi', 'wa', 'VT', 'Capcom', '##rc', '##tus', 'RE', 'Dr', 'IV', 'Last', 'It', 'Ban', 'Cho', '##cta', '##ler', 'Link', 'SR', 'Victor', 'Sp', 'Hat', 'Software', 'Dan', '##DS', 'FA', '##ast', 'Move', '##ó', '##da', 'bi', 'Rad', '##oba', 'Back', '##reat', 'up', '##ica', '##du', 'Clash', '##yn', 'Bu', '##ll', 'Ami', 'Sb', 'Ab', 'Gent', 'Nova', 'Purple', '##vis', '##raft', 'Rocks', 'American', '##io', 'Hammer', '##ari', 'Set', '##ube', '##mm', '##ith', 'Canon', 'ar', 'Sport', '##sel', 'HTTP', '##ry', '##cript', '##ː', 'Who', 'Key', '##ine', 'Hero', 'Ana', 'Shu', '##ms', 'Year', 'Easy', 'Ed', 'Formicidae', 'Ball', 'Still', 'Ne', '##ori', 'Expo', '##us', 'x', 'ET', 'IM', '##ence', 'Kom', 'long', 'Math', 'PlayStation', '##ers', '##ima', 'Phil', 'German', '##lp', '##ins', '##CS', 'de', '##ran', 'Petro', 'Falcon', '##ad', 'Power', 'Inside', 'from', 'Small', 'Make', '##na', 'ha', '##ico', '##rip', '##ford', '##AD', 'par', 'bu', '##if', '##va', '##ral', '##fo', 'Gas', 'Management', 'Part', '##ici', 'DM', 'Post', '##uri', 'Mo', '##ix', '##UM', 'Gall', '##chen', 'Law', '##lot', 'Star', 'Vis', 'KA', '##ole', '##der', 'E1', 'III', 'Rus', 'Legends', 'Bay', 'RC', '##ii', '##á', 'Productions', '##ip', '县', 'RS', 'School', 'right', '##ür', 'Mortal', 'Punk', 'Path', 'Jazz', '##ian', '##hon', 'Rep', 'Lo', '##MP', 'Bau', 'General', 'that', 'KO', 'Xi', '##fer', 'From', 'Final', '##odi', '##rra', '##ou', 'Inc', '##OP', '##om', 'it', 'an', 'Ho', 'Vogue', 'V6', '##tas', '##AT', '##pis', 'Best', 'XV', '##pu', '##sa', '##less', 'Alfa', 'Pri', '##ity', 'ab', '##K', 'EX', '##ME', '##gs', 'M4', '€', '##bal', 'Fat', 'Garros', '##gno', 'Pal', '##kan', 'LL', 'Pet', '##iz', 'Nacional', '##logy', 'PhD', 'CC', '##UN', '##evi', '##haus', 'El', 'Edge', 'Park', '##ki', '##lan', 'LC', '##æ', '##ків', 'F1', 'IA', '##over', '##eli', 'Welt', 'Š', 'GA', '##tation', 'na', 'VP', 'Knight', '##yu', 'Industries', '城', '##sion', '##il', '##ua', 'Halo', 'Science', 'Volume', 'von', 'Hot', 'That', 'Take', 'XXIII', 'É', 'Ever', '##RS', 'Test', 'Tales', 'iTunes', 'Mer', 'ya', '##ens', 'Turbo', 'Ö', 'Next', 'des', 'Bird', 'Francisco', '##pi', 'Eat', 'Centre', 'Code', 'Windows', 'Mid', '##ction', '##½', '##sus', 'Plus', 'Sai', 'ca', 'William', 'php', '##eus', 'Fed', 'Guardian', '##ult', 'UCI', '##erm', 'PP', '##idi', 'Slayer', '##su', '##igo', '##hen', 'Au', 'Peter', 'UTC', 'Columbia', 'Pretty', '##au', 'Us', 'VHS', 'Ari', '##ght', '##iga', 'Fort', 'Luc', 'DS', 'Half', 'pro', 'AM', '##town', '##oi', 'Gal', '##rod', 'Away', 'Dom', 'IN', 'PGC', 'Box', 'Heaven', 'GE', 'mi', 'Hits', '##alo', 'Chu', 'Human', 'align', 'che', 'ARM', '##idae', '##DM', '##field', 'Creative', 'Resident', 'STS', 'Adi', '##YS', 'Bomb', 'Cara', 'NES', 'Fr', '##act', 'Communications', 'Vers', 'Boom', 'GPL', 'Bob', '地', 'Prize', '##ut', '##v', 'BAFTA', 'Dot', 'XXII', 'UP', 'Or', '##nce', '##er', 'Arms', '##cos', 'Va', 'James', 'Motion', 'Sa', 'Sei', 'Neu', '##game', 'del', 'Division', 'CSS', 'Spy', 'Shell', 'Thunder', '##TF', '##uil', 'Mission', '##lee', 'Engine', 'Tri', 'Dreams', 'Ben', 'Story', '##well', '##ES', 'Special', 'Pentium', 'Vi', '##son', 'Train', 'mag', '##que', '##ws', 'Pearl', '##men', 'Pr', '##tion', 'Smart', 'Racing', 'Songs', '##rf', 'Київ', 'Energy', '##IN', 'FL', '##yr', '##les', '##lina', 'SB', '##ω', 'Atlantic', 'his', 'www', 'Had', 'Dai', 'Wings', 'Stand', '##ei', 'SA', '##gen', 'Watch', 'Δ', 'Two', 'DNS', 'das', 'Portable', 'su', '##ä', 'web', 'Homo', 'Cut', 'Photo', 'Sabbath', '##but', 'za', 'Cyber', 'MI', 'e', 'Heat', 'Walk', '##pp', '##amp', '##cal', 'Per', '~', '##its', '##hel', 'ti', '##AP', '##ST', 'Re', '##book', '##rst', '##ea', '##berg', 'Sand', 'Joy', 'But', '##ano', 'MK', '##tal', 'IRAS', 'Richard', '##le', 'Twitter', 'Society', 'iPad', '##±', '##ir', '##ort', '##oon', 'Nirvana', 'Glass', '##f6', 'ne', 'Sound', 'Over', 'Tomorrow', 'EL', '##ping', 'GmbH', 'Eu', 'Non', 'to', '##bir', '##і', '±', '##able', '##lla', '##ab', '##mes', '##omi', 'fi', '##cia', 'Pac', '##lam', '##š', 'Sin', '##dos', 'Core', 'Head', 'Musical', 'Gen', '##sk', '##ec', 'Tag', '##fi', 'Active', 'Moscow', 'Ex', 'ed', 'Victoria', 'ru', '##ola', 'Euro', 'Soul', 'Tom', '##AS', 'Song', '##nis', 'XXX', '##play', 'Underground', 'BB', '##fr', 'Scream', '##α', '##ra', 'pa', 'Stop', '##chi', '##N', 'Solid', 'League', '##UI', 'Holdings', 'Panzer', '##CH', '##rum', '##rti', 'Mann', '##ness', 'HC', '##for', 'rus', '##UP', 'Tokyo', '##ket', 'Tin', '##pter', 'en', '##adi', '##orp', '##oft', 'Filmfare', '##in', 'EA', '##ump', 'Ke', '##lab', '##cast', 'D1', 'Band', '##o', '##ú', 'WBC', 'Mat', 'WBA', 'Yahoo', 'EF', '##kon', 'Unit', 'OH', 'Oh', 'LA', 'Saint', 'p', '##min', '##oce', 'les', 'B0', 'Project', '##uro', 'Town', 'Fam', '##elo', '##hit', 'Dev', '##ali', '##́й', 'Cha', 'IS', 'Alice', 'Independent', 'Against', '##ore', 'Social', 'Via', '##kh', 'Pit', 'Sweet', '##ac', 'GT', 'Dec', '##ly', '##rch', 'Library', '##ber', 'Living', '##ris', 'll', 'Nas', 'Company', 'Side', '##ary', 'High', '##ique', 'Hollywood', '##OM', '##A', 'Mas', 'Love', '##MC', 'Mau', 'gi', 'XML', 'formula', 'iu', 'CNN', '5°', 'Ocean', '##UT', '##mo', 'Woman', 'San', 'T1', 'Med', 'Stones', '##bol', '##IT', 'Lee', 'mo', 'Ze', 'Christmas', '##u', 'History', '##ap', '##tina', 'City', '##ling', 'pu', 'di', 'Inst', 'Radio', 'Ace', '##og', 'Good', '##sp', 'Sons', '##CA', 'Angeles', 'un', 'Yu', 'mm', 'in', '##gus', '##cle', 'M6', 'U', '##l', 'Tre', 'Brand', 'ε', 'Th', 'Int', 'Fe', 'Fear', '##DB', 'Hope', '##res', 'op', 'X', 'pop', '##ons', '##ui', 'Android', 'ka', 'Secret', '##zo', '##plo', '##day', 'el', 'VA', 'OF', '##hy', '##tio', '##nda', 'PL', 'Win', '##bis', 'Kids', '##gni', 'Cat', 'This', 'Hand', 'A3', 'Real', '##oo', '##IV', '2D', 'Girl', 'Come', 'Mail', '##hal', '##mor', '##sse', 'See', 'Ku', 'Jay', 'Hyundai', 'Tomatoes', '##po', 'Mol', 'End', '##pterus', '##ū', '##ό', '##ib', 'Tel', 'Wo', '##ish', '##tta', 'Network', '##V', 'Official', 'Dio', 'Mobile', 'USD', 'Pl', 'Packard', 'Hen', '##cum', 'Perfect', 'Chain', 'zur', '##rr', '##ele', 'Extreme', '##VI', 'Ill', 'World', 'Gran', '##is', 'Lai', 'News', 'Ve', 'Hello', '##avi', 'JavaScript', '##star', 'Boo', 'Irish', 'USB', 'Rai', 'MD', 'Douglas', '##GB', '##ya', '##wl', 'you', '##ton', 'http', 'Tree', '##si', 'Fair', 'Za', 'nu', '##stra', '##ett', 'і', 'Bone', 'es', 'Winter', 'Kit', 'Electronic', 'Ice', 'XVI', 'Daily', '##ë', 'Allmusic', 'com', '##tu', 'Nokia', 'Ala', 'die', 'Museum', '##ky', 'Qua', 'Midnight', 'AL', '##yt', '##ette', 'Ut', 'College', '##lidae', '##ote', 'Choice', 'Elite', 'Ah', '##up', 'View', 'Right', '##gro', 'ID', '##T', 'OR', '##TP', '##ID', '##ank', 'Α', 'Bang', '##esi', '##cc', 'Louis', 'GS', 'Ti', 'Mar', 'Mis', '##car', 'per', '##nt', 'g', 'Was', 'Col', 'x86', 'Weekly', '##ation', 'NS', '##et', 'March', 'Abs', '##rna', '##hia', '##ye', 'Football', 'NASA', '##im', '##log', 'Tell', 'Henry', '##oh', '##more', 'Dei', '##OW', 'Doom', '##YP', 'Zone', 'Baby', 'Roman', '##light', 'Australia', 'Gear', 'Index', '##fest', 'IBM', 'Playboy', 'І', 'Institute', 'Boy', '##lia', 'Horse', '##fire', 'XXV', 'All', '##ys', '##sma', 'Feel', 'TS', 'Globe', 'System', 'Nan', 'Fortune', '##EP', 'Java', 'Television', '##hn', 'FR', '##break', '##one', 'Lin', 'PD', 'O', '##°C', 'Pan', 'HMS', 'Mani', 'R', 'Glory', '##tch', 'Sleep', '##mar', 'Garden', '##ect', 'Bon', 'NCAA', '##mp', 'British', 'Horizon', 'Fighting', '##boy', 'TN', 'Turn', 'VM', '##dom', '##mel', '##VA', '##ceae', '##bird', '##III', '##lus', 'Art', 'Se', 'Mini', '##the', 'Cure', '##ath', 'Green', '##ctor', 'Magic', 'sub', 'DL', 'Image', 'α', 'Die', 'Works', 'TO', 'Carr', 'Monthly', '##ress', 'Kick', 'EN', '##OD', 'House', '##mis', '##IM', 'BT', 'Pat', 'ph', 'text', 'Charts', 'Jaguar', 'HD', 'Lion', 'Amazon', '##not', 'Maiden', 'Keep', 'Івано', 'Services', 'Far', '##cci', '##LA', '##bel', '##ні', '##roc', 'Great', 'Bf', '##sat', 'Dis', '##ці', '##ff', 'Don', 'Bee', 'Dream', '##tle', 'sa', 'center', 'PAL', 'Sam', '##ek', 'al', 'BD', 'Bar', 'Nord', 'KC', 'Cloud', 'Liber', 'Effect', '##ball', '##AM', 'Colo', '##D', 'FOX', 'Los', 'Mass', 'Wall', '##ant', '##lu', 'IP', '№', 'Rights', 'Hey', '##ure', 'Virgin', '##dem', '##land', 'Crown', 'Bat', 'Guitar', 'GM', 'м³', 'No', 'music', 'Zeppelin', '##Z', 'Look', 'left', 'NO', '##cl', '##ox', 'Anna', 'Do', 'Service', 'II', 'Al', '##ss', 'Perl', '##UD', 'EV', 'SP', '##IA', 'Animation', 'Phone', '##ich', 'Williams', 'PM', '##ci', 'Mozilla', '##NI', 'Mil', 'Believe', 'Show', '##TO', '##tica', 'Universal', '##mon', 'Em', 'Lam', 'gr', 'Ja', 'cu', 'SK', 'Sony', 'ko', 'Bell', '##ace', '##rn', '##NA', 'King', '##PR', 'Stereo', '##ion', 'Japan', 'br', 'Film', 'SV', 'Bro', 'May', 'Ky', '##rot', 'YouTube', '##era', '##dig', 'Arm', 'Sub', 'Ver', 'Ruby', '##erg', 'IL', 'Simon', '##CL', 'Lay', '##form', 'Σ', 'Group', 'Volk', 'JA', 'Gala', 'Hit', 'Python', '##fe', 'lu', 'MC', '##eur', 'Studies', 'Did', 'Wonder', 'Bull', '##bat', '##dge', '##WA', '##nge', 'Academy', '##dent', 'Prix', 'List', 'Net', 'Ara', '##sha', 'ad', '##cho', '##uc', 'St', '##oti', 'Oz', '##zh', '##ook', 'OS', 'Coast', 'Lil', '##lon', 'Base', 'Bio', 'Delta', '##O', 'Technology', '##sca', '##las', '##way', 'Quest', 'Masters', 'M', '##PA', '##works', '##ska', '##I', 'RFC', 'chi', 'Arc', 'LE', 'Kid', 'Shot', '##DO', '##DI', '##ste', 'Del', '3G', '##ps', 'du', '##ley', '##nit', 'Hell', 'WC', '##HL', 'Alive', 'Beach', '##P', '##iana', '##phon', '##II', 'Di', 'Vision', '##che', 'Youth', '##do', 'Wu', 'Railway', '##mit', '##ata', 'After', '##ire', 'ES', 'Generation', 'Santa', 'Came', 'Have', '##hip', 'DD', '##zi', 'Tower', 'Ani', '##ay', '##ide', 'Work', 'kr', '##back', 'India', 'Herald', 'Sex', 'Not', 'Twin', '##as', 'HM', 'Dance', '##bo', 'se', 'AB', 'About', '−', 'Hop', 'PT', 'Blade', 'Ter', '##gy', 'Canada', '##ux', 'AD', '##LE', 'Western', '##ili', 'Meta', 'MTV', 'B', 'Pop', 'so', 'he', 'γ', 'Ta', 'E3', '##ame', '##omy', 'Queen', 'Pin', 'PE', 'AN', 'BC', 'Evan', 'MT', 'ga', '##mann', '##rat', 'So', 'CT', '##ner', 'Ca', '##be', '##x', '+', 'Guide', 'Cool', 'co', 'Type', 'MS', '##run', '##ak', 'CA', '##UL', 'Sar', '##PC', '##OR', '##ED', '##ring', 'Vo', 'COM', 'Combat', '##per', 'FX', 'ke', 'Motorola', 'FC', 'M3', 'Pen', 'Tha', 'Team', 'Rise', '##ville', 'I', 'RI', 'Fox', 'Him', '##iro', 'Sau', 'Lights', 'Circle', 'Y', '##gra', 'col', 'Aga', '##ів', 'Village', 'Je', '##card', 'RPG', 'Disney', 'Awards', 'Rob', 'TM', 'Spirit', 'Genesis', 'Sen', 'Ford', '##och', 'Every', 'Ost', '^', '##urus', '##ey', '##lex', 'Amazing', '##em', 'Vert', '##rt', 'MB', 'DO', '##ö', '##ron', '##key', '##lac', 'AV', 'Ce', 'Epic', '##of', 'Challenge', 'Nickelodeon', '##eh', '##rid', '##ν', 'Face', '##master', '##je', 'Nos', 'Mine', 'Nam', '##OH', '##oco', '##rio', 'Never', '##en', '##bit', '##H', '##scope', 'Old', 'Ale', 'Video', 'A1', '##cks', 'Proc', '##li', 'Concert', '##BS', 'Aircraft', 'Sugar', 'Out', '##SD', 'Machine', 'Continental', 'Variety', 'not', 'Challenger', '##RE', 'Google', '##ment', 'Philips', 'Air', 'Plan', 'Access', '##c', 'NGC', 'More', '##TS', 'Live', '##rie', 'Mirror', '##rou', '##EL', 'Pla', 'Express', '##ung', 'Ark', 'Century', 'Gang', 'Zu', '##mati', 'Mind', 't', 'Style', 'Xbox', 'PA', 'Theater', 'Online', 'Development', 'GNU', '##y', 'Jet', 'Disc', 'XVII', '##GE', 'Lord', 'Sunday', '##gon', 'Microsoft', '##ides', 'Where', 'Second', 'Fan', '##́н', 'To', '##ala', '##chan', 'Pitchfork', 'Spider', '##n', 'PG', '##thi', '##let', '##down', 'Bridge', 'Single', 'Silver', 'Beautiful', 'Gallery', '##dra', 'API', '##Works', 'Lac', '州', '##af', '##di', 'Modern', 'Zero', 'der', 'bg', 'style', '##HS', 'ro', 'Duty', '##lb', 'FF', 'Europa', '##AL', 'R2', 'Quo', '##are', '##ische', '##xo', '##ρ', 'on', 'Super', 'Kod', '##zu', 'GSM', 'CN', '##se', '##ous', 'Summer', '##ana', 's', '##tz', 'Chemical', '##hat', 'Cl', 'XL', 'Ak', '##gor', '##DA', '##rach', '##tti', '##to', '≈', 'Extra', 'Er', 'Ko', '##MA', 'ML', '##gi', '##lo', 'War', 'Metal', 'Sounds', 'AE', 'Skin', '##ve', 'Cu', 'ZWG', '##real', 'HP', '##ost', 'Iron', 'ABBA', '##ust'}\n"
     ]
    }
   ],
   "source": [
    "print(geotrend_tokens.difference(own_tokens))"
   ],
   "metadata": {
    "collapsed": false
   }
  },
  {
   "cell_type": "code",
   "execution_count": 231,
   "outputs": [
    {
     "name": "stdout",
     "output_type": "stream",
     "text": [
      "{'##ичний', '٠', 'найкращих', '1324', 'спочатку', '۱۰۰', 'вивчення', 'включаючи', '##цыйны', '##ському', '՞', '۱۳۹۰', '##чому', 'райондоштуруу', 'добър', 'алтын', '##леген', '۲۰', 'улар', 'тоо', '##дната', 'България', 'юханшыв', 'видання', '##лява', 'бити', 'вайны', '๒', 'видове', '##нням', '##ално', '১৬', 'општ', 'барамехь', '##скае', 'кушыла', '##тичних', '૮', '۲۰۱۲', '##нською', '＆', '0684805332', '##зення', 'редакциясы', 'энэ', '[unused97]', 'населението', 'пачхьалкхан', '[unused48]', '##۷۶', 'Калкы', '##цыя', '##нските', '･', '##ливим', 'припада', 'атлантикан', 'агентстви', '##ецца', '१', '[unused38]', 'належить', '##ався', 'нешто', 'биде', 'брзо', '##ээс', '511228', '[unused44]', 'томунун', '##творена', '২০', '##аних', 'геоинформация', '##альних', 'жатады', 'байгаа', '##лучення', '[unused22]', 'областан', '##๕', 'регионалну', 'Населението', 'самоврядування', '۲۲', '､', 'деец', 'близько', 'зэрэг', '##ниця', 'бекитилген', '1037', '##гийн', 'працягу', 'език', '[unused62]', '1331', '##чною', '[unused26]', '098', 'септември', '1391', '##чний', 'цхьабосса', '##۴۰', 'чыккан', '##гаа', '૦', '೬', '##телите', 'юкъара', 'оьрс', '۸', 'завършва', 'онда', 'катары', 'Беларуская', 'груп', 'ауданы', '2551', 'районлау', '۲۰۰۸', '১৯', '2022', 'имала', '9780521872386', 'дарыянын', 'чекхболуш', '##๐', 'використання', '##цкага', '##положено', '##шою', '##увати', 'переважно', 'познат', 'завршио', '##ыгыш', '##੪', 'биринчи', 'цуьнан', '[unused16]', '[unused23]', '##яват', 'врз', 'Польшчы', 'където', 'Тие', '##ивни', '##۷۲', 'доьзна', '1281', '##нця', 'Београд', '۔', '##йым', 'нысанды', '##ийг', '##ылып', 'онд', '##нення', 'Срба', 'факултет', 'Аьхка', 'предмети', 'хаан', '##днання', '০', 'тощо', 'байх', 'првог', '##яння', '##цыяй', 'кожен', 'които', 'болуы', '##кування', '##значити', 'смт', 'охорони', 'дъщеря', 'молекулярна', 'првата', 'вёска', 'номеры', '##чына', '##чын', '[unused12]', 'дуже', 'првенство', '৭', '061', '১৫', '##ходження', '۳۰', 'интервалот', 'авсан', '1369', 'леррана', 'якын', '2539', '##цька', 'составына', '##чалося', 'шифру', 'вршено', '##сього', '##чког', 'асанехь', 'историята', '《', 'Оахака', 'дължина', '1438', 'Расмий', '0521347483', 'пролетната', 'айланасында', 'различни', 'семейството', '##няга', 'новата', 'Новага', 'снежня', 'минути', 'басты', 'Пскован', 'отримати', 'ринку', '##йських', 'худро', 'Српске', '##вият', 'открива', 'дукхаллин', '##цима', 'Амрико', 'торучы', '##пису', '۲۰۰۱', '११', '##၀၀', 'визначення', '२०००', '##۶۲', '﹔', 'безпеки', 'тобто', '۲۰۰۰', 'утворення', '0062700553', 'живее', 'шелонаш', 'Разом', '##уы', 'СРСР', 'мови', '１', '๗', 'филма', 'двома', '1192', '၀', 'аермасы', '२०', 'Радянського', '055', 'професор', '##имий', 'кирет', 'Паводле', 'херцог', '068', 'хто', 'будинку', '##будована', 'отново', 'туралы', 'додека', 'алады', 'същата', 'километри', '##сынын', 'Збройних', 'треба', '##илген', '##чыць', 'Социалистик', 'беркате', 'культури', 'индексаш', '٢', '1443', 'Орусиядагы', 'який', 'Праверана', 'борби', 'повернення', 'використовуються', 'път', '২', 'жайгашкан', '##۵۸', 'велике', '##бына', 'цэнтр', 'което', 'Корылмалар', 'Когато', 'Године', 'радиацин', 'застрашен', 'буюу', '##жува', 'отримала', '##۸۱', 'Махкахь', 'башлай', '٬', 'однойменним', '##уьнан', '##квата', 'куралы', '1383', '۲۳', 'газу', 'шен', 'паводле', 'алсама', 'дарыя', '##၁', '##нська', 'манастира', 'водата', 'юл', '2543', 'Жалпы', 'беларускай', '##елба', '##ционална', '##лэг', '12148', 'двох', '##５', '․', 'створення', 'кога', 'тата', 'муниципалдык', '##ьнай', 'акъарин', 'Його', 'члан', 'Нацыянальны', 'некои', 'хенаца', 'вклучен', '##ичайно', '##даа', 'монастиря', 'коьрта', 'елгасына', '##валося', '##ецького', 'башхалла', '২১', 'пачатку', '##８', 'яна', '＃', '##۶۱', '##ських', '೪', 'знаходиться', 'името', '##чнага', 'безпосередньо', '২০১০', '၅', '『', 'кушылдыгы', '##сгийн', 'супраць', 'влада', 'Гърция', 'промени', 'перебував', 'ИОТО', 'жилийн', 'прве', '##дуу', '1056', '1257', 'висини', '২০০৫', '##००', '##овища', '।', '##цця', '〈', 'умови', '##рында', 'европан', '##๔', '##ець', 'шш', '۵۰', 'перемогу', 'окуу', 'малки', 'Асанов', 'юханшыва', '##৫', 'Орусиялык', '##ткен', 'главни', '##๒', '##ванне', 'аты', 'површинскиот', 'денес', '##ласы', '##вився', '##ття', '[unused34]', 'орус', 'жери', '1343', '##хований', 'общо', 'адным', 'потоа', '##нують', '##альний', 'жолу', 'якая', '093', '〖', 'Проверено', 'ларарца', 'месца', '##чних', 'Входить', 'поново', '##૬', '1403962588', '##၀', '##йственного', '##цький', '##ствени', '1007', '##шыню', 'картасында', 'болох', 'значително', '2549', 'обично', 'долази', 'горадзе', 'завжди', '##лген', '##๗', 'расмий', 'милиона', 'налазе', 'ять', 'захисту', 'култура', 'улогу', '##۲۰', 'орны', 'липня', 'Поради', '##ръща', 'културе', '१४', '##৩', 'медыяфайлы', '##ставники', '2540', '২৩', 'тарихи', '##мдар', 'своето', 'шаары', '##иця', '##ливий', 'йовхо', '##ър', '1358', 'постао', 'сулахай', 'падчас', '##аючи', 'месец', 'одиниця', '۲۸', 'Идел', 'Бассейндин', '045', '1074', '##ццё', '[unused78]', 'албум', 'према', 'листопада', 'Първата', 'видот', 'Сахьтан', 'урыны', 'праць', '##шните', '##овського', '##лення', 'почав', 'баща', '##ймае', '0415263549', '﴿', 'новембра', '##гання', '##೫', 'председник', 'могат', 'сондай', 'держави', '0393333647', 'битката', '##мийн', 'морфолошката', 'складу', 'Веракруз', '[unused11]', '२०१०', '##цтво', 'товариства', 'групу', 'група', '[unused13]', 'башында', '##۵۹', 'аймактарын', '##увач', '1025', 'превод', 'багатьох', '##３', 'учасник', 'збереження', 'каттоо', 'става', 'природи', 'частка', 'роден', 'простору', '##ндагы', '৪৪', '##нското', '২৭', '##салы', '##улж', '##чката', 'немесе', '1249', '##ърва', 'тада', 'округуна', '##тання', 'делови', 'йолуш', 'италиански', 'защото', '۰۰۰', '##ляють', '۲۷', '[unused59]', '1376', '೩', 'префектури', '##шити', '##৬', '##тою', 'поделба', '##ылат', '##циално', '##३', 'назву', '##вним', '۲۰۱۱', 'регионашка', 'досить', '##вався', '⟩', 'анын', '##шысы', 'бойових', 'надморска', '﹐', '##икалык', 'долара', '##бережжя', 'зерттелу', 'имали', '¶', 'аднак', '##щата', '৩১', 'помош', 'нийса', '##гыш', 'Шеран', 'обраний', 'почали', 'статистикасы', 'ресурстары', 'належать', '။', 'спроведено', '##йшли', '1277', '##нската', 'яшчэ', 'створена', 'Загальна', '##ваат', '๐', 'неколку', '＂', '##сних', 'жататын', '2550', 'наукових', 'Завършва', 'крайы', '［', '##брзо', 'српски', '##১', 'рослин', 'шляху', 'вперше', 'Населенные', 'општина', 'Таа', '##ливих', '##۴۶', '##ърво', '、', '‿', '۲۴', 'заснована', 'програма', 'Лудвиг', '##ърт', 'массаш', 'йолчу', 'аны', 'першу', 'оьрсий', '##нскага', 'хьолаш', '۲۰۰۲', '##плення', 'гравцем', 'децата', 'писмо', 'олар', '##лыгы', 'Видливиот', 'зони', 'болып', 'нижче', '##ваецца', '00012', '[unused71]', 'дараа', 'Републике', 'неке', 'резултат', '1334', 'СИЭМТ', '[unused84]', 'населенага', 'федералды', 'якому', 'Површина', '১৭', '##тског', '##۸۹', '1286', 'энциклопедиясы', 'донишномаи', 'эске', '##۷۵', 'значно', '[unused68]', 'таксама', 'працювати', '२६', 'БелЭн', '۱۹', 'циклонашца', '2545', 'еклиптиката', 'возера', '։', '[unused67]', '974', '##йняв', '##۸۷', 'арасында', '2554', 'маса', '##цията', 'септембра', '##ляються', 'батько', 'хиларо', 'майка', '959', 'станом', 'тие', '১০', 'розташоване', '##۳', 'роки', 'минималната', 'особено', 'получава', 'бассейни', '023', 'використовувати', '039', 'пасля', 'продължава', 'Назвы', 'Мессье', '##орыя', 'лаьттачу', 'Шевченка', '##ванням', 'Вона', 'гэта', 'шамасы', 'Према', '##тити', 'поясында', '##٤', 'боку', '1306', 'немски', 'елга', '##алися', 'Жогорку', '##яства', '##мица', '##скага', '##ився', 'излиза', 'орынбасары', 'декадехь', 'келип', 'дохил', 'лараран', 'кушылдыклары', '##੦', '##ючись', '[unused15]', 'жеринде', '[unused47]', 'нафар', '##зитет', 'Китап', '۲۱', 'ознаката', '3411062525', 'кожного', 'роботи', 'неактивних', 'раёна', 'последните', '২৬', 'Хрватска', 'гуьйре', 'Вони', '##۵۲', 'деца', 'ноябрехь', '##ницького', '‹', '1272', 'цьому', 'суу', 'човек', '[unused17]', '##тичний', 'долу', '##۸۴', '##чэнне', 'можливо', 'сателитот', 'заступник', 'гръцки', 'даний', 'горад', 'уряду', '##найти', 'башчысы', 'односно', 'сельсавета', 'чыганагыннан', '২৪', '##ческия', '##ылган', '[unused77]', 'Наприклад', '##атър', '১৮', 'здобув', '۱۹۹۸', '๘', '##голем', '؛', 'музики', 'изчезване', '〜', 'смрти', '੫', '##ууд', 'шийлачу', '##ковий', 'българска', 'познато', 'эсвэл', 'зробив', '##ствено', 'кыргызча', '[unused69]', '೫', 'лаьтта', 'ёсць', '##влення', 'мовы', '0136120512', '##ън', 'можна', 'многу', 'болалуш', '##енням', '##хустин', 'болатын', 'дарыясынын', '##иятия', 'застосування', 'министър', '[unused37]', 'гана', '〉', 'лютого', 'данни', 'перыяд', '##۹۶', '##७', '096', '##тады', 'яра', 'гэх', '074', 'Народився', '##иць', 'баттахь', 'Энэ', '৫৯', '##алася', '##ът', '##ността', 'активними', 'освен', 'Иртеш', '＊', 'САЩ', 'агульны', 'трьох', '֊', 'вплив', 'Олександра', 'алып', '##чныя', '｢', 'базасы', 'почетку', 'частина', 'атласот', 'користат', 'бастап', '##сына', '1016', '१६८२६', '##илася', 'Мектеп', '##५', 'быць', 'турат', 'вийшла', 'жеке', '〕', 'саяси', 'випадку', 'Аурупа', 'Википедиаи', '〈', '##ують', '1269', 'Уггар', '##десет', '##۱', '##ушы', 'значення', '২০০১', 'номуру', 'мистецтв', 'каталогтарда', '##۹۴', '##цького', 'коммуналары', 'калган', '2556', '##٩', 'Анын', '##۹۲', 'аварга', '##९', '##۵۵', 'каталогу', 'Гидрологиялык', 'ийн', 'раёне', 'користе', 'багато', 'зур', '՜', 'селото', '1359', 'Гэта', 'халыклар', '##живання', 'Гидротехник', 'Монголын', 'лютому', 'вважають', '##шчу', '1128', '##щава', '##лдар', 'географин', 'гергга', 'фебруар', 'Химия', 'юккъехь', '##чните', '[unused32]', '##၅', '२००७', 'новим', 'процеси', 'селище', 'реестрында', 'посебно', 'вони', '۷', '##валася', '##дэг', 'било', '၌', 'откриен', 'будинок', 'печели', 'тоа', 'површини', '##точната', 'посаду', 'Оьрсийн', 'сайце', 'пошта', 'годишна', 'хенан', '##६', '##۰۰', 'такий', '##۶۷', '[unused94]', '২৮', '1373', 'Гидрологик', 'виробництво', 'влиза', 'менен', 'забележан', '##дарын', 'частково', 'црква', '[unused21]', 'загального', 'можаце', 'нього', 'ён', '##лиця', '##۵۷', '1329', '[unused65]', 'Чивава', 'аудандастыру', 'юхса', '[unused66]', 'алар', '१७', '##гледа', '##чинаючи', '##੩', 'ових', 'РСР', '##цкан', 'Казахстану', 'француски', '[unused61]', '٭', '[unused57]', '1103', 'сям', '٩', '##нскан', 'територията', '‟', 'орун', 'байдаг', '##щайн', 'околу', '##овима', '[unused95]', '[unused49]', 'Гидротехнических', 'разам', 'стагоддзя', '﹕', '##увалися', 'тог', '2558', '##лчу', 'Гидротехникалык', 'аянты', '२२', 'истражувачи', '##йович', 'чым', 'неговиот', 'напрямку', '##илися', '##۶۵', 'началото', 'процени', '095', 'турган', '##кху', '##нског', '၆', 'основним', '##дсан', '##улах', 'Республикасынын', '1319', 'ауылында', 'основи', 'хвилин', 'односи', 'добио', 'прво', 'кольору', 'знову', '##۵۴', '36836', '##зького', '##талады', 'снага', '##ээр', 'Энциклопедический', '##штво', 'отримали', '##ведення', 'Однак', 'българската', 'алардын', 'виконання', '‥', 'възраст', '2544', 'навчання', '##ълно', '６', 'бидат', 'пайдалануу', 'барып', 'головним', '১৩', '[unused25]', '೨', '1379', 'булган', 'Светог', '##дих', 'Прва', 'епохата', 'руск', '0691152071', 'бараман', 'хилар', 'започват', '##нстава', '##ыркы', 'министерстви', 'ект', 'дитташ', 'шампион', 'яти', '[unused43]', 'ИОТОи', '##шол', '##тися', 'атты', 'москван', 'саласы', '##криття', '[unused86]', '[unused74]', 'ялташ', 'чотири', 'ЗША', '##ъжена', 'дахь', '२८', '##ъм', '[unused19]', 'Селото', 'професора', '[unused40]', '##ькою', 'неговата', '##ските', 'основни', 'агып', '＠', '##гында', '．', '۱۰', 'системин', '##аць', 'улсын', '##висност', 'областта', '##рылды', 'режисер', 'окръг', 'човека', 'тэме', '##атися', 'попису', 'Гэты', '۲۰۰۴', 'йылда', 'државе', '२४', 'руху', 'канцы', 'Кхузара', 'фотографска', '1276', 'шаарларынын', 'Середня', 'чынам', 'режисера', '##ивну', 'тез', '২০০৮', '##۴۳', 'пазней', '##ктуу', 'саны', '##жните', 'англиски', '[unused87]', 'бива', 'избори', 'куйган', 'простире', 'Эвла', 'поразки', '0001', '##забаром', 'жылдын', '1184', 'борба', 'Новиот', 'подаци', '##٠', 'часом', 'дохк', '##вежда', '##аються', '3885570963', '१९', '##народни', 'поред', '၄', '##ованих', '##чнува', 'къилба', 'споменува', 'свим', 'цього', 'аьхкенан', 'Към', '##лних', '՛', 'орналасуы', 'гуьйренан', 'континенталан', '##ськими', 'Шулай', '##нува', '##сечна', '##льну', '##૯', '۲۰۰۹', 'мовою', '##ональному', 'енглески', '৬', '##нася', '##ьський', 'статистикалар', '##вскан', '##дарды', '##ською', '##ържа', 'Гидрологи', 'април', 'цэргийн', 'имале', '｣', 'димензии', '##кання', '३', 'жана', 'жарияланымдар', 'тога', 'групи', 'асфалт', '##ээд', 'травня', '##улсан', '##последствие', 'галаксии', '##ългарската', '##нську', 'кхин', '##кових', 'уггар', '##ьких', 'априла', 'назви', 'користи', 'походить', '##ьських', 'досягнення', '##вних', 'средишта', 'даярдаган', 'докторы', '049', '1289', '##нському', 'први', '##тапа', 'яким', 'хьалхарчу', 'Улсын', '##ният', 'Мемлекет', 'планината', 'барамерачу', 'карайт', 'болести', 'энциклопедический', '##стър', 'ичинде', '##ництва', 'яке', '##ржава', '〗', 'барамера', '1344', 'реестри', 'Втората', 'аренан', 'голови', '##щта', 'навколо', 'елгасы', '۲۰۱۵', 'обикновено', 'смрт', 'роках', '##времено', 'агол', 'мангалан', '##۶۹', '##૦', 'звання', 'болса', 'добре', 'кхолламан', '৩০', '##эсэн', 'програми', 'заедно', '##೮', 'поправени', '##граден', '२०१२', 'уьш', '##дсэн', '२', 'юккъера', 'отырып', '1035', 'проблеми', '২২', 'лаьттан', 'яких', 'мова', 'частин', '٥', 'малхбузан', '၃', 'поширення', 'густина', 'Любичев', 'загальному', '##хання', '〃', '##０', 'томы', '##рського', '##жната', 'каталогында', '⁾', 'барам', 'яка', '٣', 'Системаи', 'елларда', '۲۰۱۴', 'отримав', 'екватор', 'кхуьйлина', '##۹۷', '##шування', '##телни', '،', 'ознакама', '３', '1361', '##ията', '##диний', 'център', '१८', '४', 'менше', 'розных', '[unused81]', '##ээ', 'йина', 'курулуштарды', '##၈', '##чнал', 'Южна', 'авиона', '047', 'Дарыянын', 'питання', '##алып', 'працы', 'Федератсияи', '##эшшара', 'перша', '[unused30]', 'працював', 'групата', 'голямата', '﹞', 'подоцна', 'свързани', 'походження', '1353', 'аьхка', 'дийнахь', 'башка', 'българи', 'жыл', '》', 'Башкы', 'йолу', '##۳۰', 'картада', 'ике', '૫', '##２', 'Энцыклапедыя', '2561', 'оподаткованих', 'Энциклопедиясынын', 'облысы', 'нарича', 'роками', '##лиште', 'балалар', 'аймгийн', 'познати', 'одан', '##੨', 'аголот', '##эння', '[unused14]', '##крита', '##۶', '##ування', '##яття', 'территориясынын', 'политички', 'къилбаседа', 'розвитку', '##стих', 'шеран', 'шул', 'включително', '##ндеги', '84433', '##вува', 'иза', 'Ресми', 'Орусиянын', 'рр', 'створений', '[unused46]', '1186', 'държава', 'сиха', 'халык', 'планина', '##ирао', 'разлика', 'перейшов', 'забезпечення', 'войната', 'алынган', '##жував', 'життя', 'чаклы', 'другите', 'другий', '##вима', 'снаге', '029', 'Новий', '##ытай', 'Елизабет', '##๓', 'умовах', 'державний', 'връзка', 'табигый', 'Володимира', 'населення', 'сваю', 'карата', 'громади', '१२', 'айыл', 'небесниот', 'людина', '2616', '##йын', 'горада', 'Орысша', 'торак', '۹', '##೭', 'теж', 'Энциклопедиясы', '##۸۳', '##၉', 'футболбози', '##няття', '##тнография', 'зонехь', '##чысы', 'згодом', '¡', 'тыпу', '2555', '##уучу', '۱۷', 'административног', '##ював', '၍', 'йочанаш', '##шылар', 'школи', 'Српска', '1311', '1322', 'всички', '##шення', '##۴۷', '##１', 'гурту', '##۸۶', 'гидротехник', 'Република', '५', 'бойынша', '1416', '〉', 'брой', '0415285569', 'впливу', 'департману', '##۷', '##аецца', 'допомоги', '5036', '৯', 'използват', '##лаар', '1085', '##стание', 'прв', 'кроз', 'днес', 'отримання', 'температурасы', '##овою', 'громадян', 'тухай', '۱۹۹۹', '，', 'метою', '[unused54]', 'байна', '060', 'районундагы', '##лучу', '1357', '##йы', 'областа', '##၂', '##2013', 'няколко', 'хьолахь', '੩', 'тиклем', 'проведення', '##ятий', 'вулиця', '︰', 'уртача', '[unused70]', '##иците', 'поселення', 'цих', '##щето', 'Минскца', '##дугаар', 'думку', '##ичних', '##хьацца', 'гэдэг', 'Русия', '[unused91]', '##гляду', 'тисяч', 'однак', '۶۰', 'одночасно', 'групы', '1002', 'вже', '##сехь', 'Мичоакан', '[unused96]', 'народних', 'головних', 'жылдан', '1088', 'завдяки', '৫০', '##лася', 'жок', '##прыклад', 'музика', 'чега', 'Европера', '##чними', 'меттиг', 'Республикин', 'играе', 'мастацтва', '##ьського', '১', 'зокрема', 'кхаччалц', '##няй', 'назив', '##ството', '[unused92]', '##никнення', 'учурда', 'жерде', '##аршы', 'агентлыгы', 'Ранчо', 'перше', 'сузор', 'чергу', 'Алып', '۴۰', '٪', '##дагы', 'годзе', 'пописа', '##цять', '།', '[unused80]', 'гурахь', '##мою', 'екипа', 'обов', 'поблизу', '##ционален', '[unused76]', '・', '۲۰۰۶', 'збирки', '1442', 'манастир', 'држава', 'почетокот', 'критериуми', 'работата', '##ництво', '2548', 'януари', '89800', 'веома', 'студзеня', '##Ё', '೧', '##веза', '##૫', 'Багато', 'роботу', 'йовха', 'працездатного', '0791095126', 'Новгородан', '##шого', '##юць', 'належало', 'салкын', 'във', '১৪', 'део', 'Ъ', '1175', 'албума', 'долуш', 'преко', '##۷۹', 'Гапоненка', 'навчався', '₍', 'октобра', '##ужини', 'Криму', '４', '##юються', 'Европан', '##ларында', 'македонска', '##эж', 'гэж', 'ролята', '##льського', 'першим', 'таа', 'эвла', '׃', 'оваа', '1317', '1884964311', 'износила', 'бардык', 'учнями', 'градот', '00238', '##۹۵', 'що', 'даними', 'мебошад', '۲۰۰۳', '##ални', 'дукхалла', 'кийин', 'Налази', 'неговите', '##шао', 'Халиско', 'други', '##йних', '##градена', 'чейинки', 'голем', '##ькими', 'Аднак', 'колькасць', '1321', '２', '۰', 'апрелехь', 'енгл', '##нського', 'нових', 'Перша', '##яване', '2535', '[unused79]', '##дання', 'елемент', 'свега', 'розташованим', '##৭', '##хьа', '##۴', '##вилися', 'агульнага', 'Ауыл', '##ивних', 'заради', '2546', '##ським', 'розташований', 'както', 'Вологдан', '##২', 'кырау', '##чния', 'почала', '95382', 'архивланган', '##увався', 'мрежа', '〝', '##овете', 'кепара', 'гуо', 'ИКАО', 'реката', '՚', 'кушылганга', '##۶۶', 'гэты', 'йолан', 'жынысы', 'филм', 'длабокото', '3540681353', '[unused98]', 'одне', 'дебютував', 'увагу', '२१', '##дарда', 'бахьнехь', 'означава', 'лелаш', '##родження', 'команди', 'изнесува', 'Федерациясы', '۲۰۰۵', '##ларын', 'призначений', 'срещу', 'каля', 'нд', '##рып', '＼', 'свайго', '##тарын', 'Мамлекеттик', 'Сепак', '[unused29]', '׳', '##ецько', '868', '₎', 'деша', 'керек', 'довжиною', 'поради', '1335', 'табигать', 'обладнання', '1579583377', 'голема', 'Тверан', 'першого', 'нивните', 'редакциясын', '##ъри', 'февруари', 'нову', '1367', 'селища', '９', '[unused60]', '##йний', '২০১৩', '##будовано', 'създава', '[unused73]', 'големите', '0815752199', 'повстання', 'бусад', '##онастир', '״', '##валися', '##овими', 'рэд', 'авыл', 'министрлыгы', 'довха', '８', 'жалпы', '##۶۰', '##рлар', 'монети', 'буйынса', '[unused18]', 'узундугу', 'Википедиа', 'честота', '##۸۲', '##лехь', '##2010', 'Згодом', 'перших', 'држави', 'Аудан', 'Месье', '″', '1126', '##೯', '##вими', '994', '##телството', '5194', 'кезде', 'хьостан', 'бассейнинин', 'Чулман', '##ликува', 'Александар', '##ньому', 'коду', '##ъпва', 'шарахь', '##ларда', 'тым', '##тао', 'маалыматы', '##новлення', 'ньому', 'годину', 'директно', '##аюць', 'високо', '##овим', '##૨', 'владу', '##ървоначално', '૨', 'дубоког', 'створив', 'пайда', 'намира', 'болж', '##೦', '##чого', 'тарафынан', '##૩', '‖', 'стоьмийн', '##ькому', 'Иёлоти', 'сентябрехь', 'жол', '##эрээр', '##ають', 'Плошча', 'Група', 'Кхузахь', 'претставува', '##нський', '[unused55]', 'адамды', 'декември', 'першому', 'као', 'кишвари', '۱۳۸۵', '১১', '३०', '##юцца', 'штатынын', 'Тоа', '۵', '##۹', 'църква', 'французскай', '१५', '##чките', 'климатан', 'кадастрларын', 'атындагы', '၎', '##сън', 'складае', '২০১২', 'його', '##луу', 'частцы', 'стигал', '२००८', '##тып', 'Екатеринбургца', 'хамгийн', 'френски', 'мову', 'перший', 'виета', 'когато', '##ините', 'фуруди', 'зображення', 'використовують', '۱۵', '##цыю', 'можа', '৪৯', 'розпочав', '｡', 'Полша', 'ерекше', '##๘', '١', 'хабарнигории', '20970519', 'вобласць', '##йската', 'червня', '२०१३', '९', 'преминава', 'Рэдкал', 'српске', 'ээ', 'нэгэн', '##жання', '೮', '0691008000', '##१८', 'американський', '[unused85]', '##нього', '2560', '־', 'групе', 'болады', '১২', 'чыгарылышы', 'майхь', '##народний', 'статусы', '۱۳', 'чэрвеня', '2538', '1426', 'вона', 'участва', 'Цундела', '##цый', 'малхбузера', '；', 'къаьмнийн', '##тпуно', '##ндай', 'йоцу', 'Стразбур', '1366', 'сучасних', '##нське', 'октомври', 'алган', '##ыннан', 'елда', 'березня', '##۷۴', 'орта', '##۸', 'вдалося', '##೦೦', '##элхийн', '##дници', '##светнай', '၊', 'очолив', 'Российн', '1283', '२०११', 'йому', '1374', '##масы', '##уваат', '##телна', '೯', 'грудня', 'территоринчи', '##учава', 'ресми', 'таму', '##۵۰', '৪৮', 'употреба', '##ницата', '2553', 'еш', '၁', '）', 'чал', '##льныя', 'денош', 'Гереро', '[unused36]', '६३८५९६', 'Къилбаседа', '##раження', 'гэсэн', 'болмайды', 'затим', 'басейн', 'картол', 'страната', 'приликом', '##੫', 'играч', '##๙', 'асан', 'Орусия', '##лината', 'крал', '[unused90]', '##೬', 'нысанына', 'актор', 'година', '८', 'едно', 'називають', 'жатат', '۱', 'зробити', '۱۱', 'Населення', 'провинциясында', 'галаксиите', 'Пасля', 'височина', 'якога', 'друго', '##нути', 'бастады', '##нування', '##лекет', '##೧', 'були', 'новий', '[unused39]', 'виступав', 'газар', 'караган', '৩২', 'чалавек', 'аьхке', '##೩', '【', '[unused41]', '##стта', 'буда', 'свого', 'овог', 'овом', 'войски', 'фебруара', 'башхаллаш', '##шкахь', 'цхьаьна', '##ждава', '##уються', 'чланова', 'дейност', 'метара', 'округында', 'болуп', 'процес', 'також', '５', '054', '##сцю', '##ратио', 'хастоьмаш', 'серпня', 'кардааст', 'Аьхке', 'мають', 'территорипе', '##۷۸', '##дування', 'Центар', 'территорин', 'хандсан', '0195082095', 'Всесоюзная', 'иако', '##ували', '##чыльнасць', 'розвиток', 'сябе', '##чнай', '##ването', '##чыны', 'кхуьлина', 'тамагы', '071', 'списокот', '1417', '1393', 'гадах', '％', 'межах', '##народна', 'алаптары', 'врсте', 'галактыка', 'който', '##٣', '##ваць', 'зазвичай', 'мача', 'със', 'големи', 'Пошта', 'кхуза', 'алыу', 'Другог', 'буенча', '##калык', '##４', '##нскай', '##ланып', 'ауыл', 'письменник', '##начна', '##руу', 'гэтага', 'Гванахуато', 'лакот', '۲۰۱۶', 'ъ', 'дээр', '##ецьких', 'Абаев', '##падках', '٤', 'више', '##льних', '##кращий', 'давлатии', 'Климатан', 'шуда', '1441', '##०', 'всеки', 'юхать', '##ууль', '##овини', 'уште', '##ватися', '۲۰۱۷', '##ынан', '##ниците', 'даими', 'Витебскан', 'озынлыгы', 'Општина', 'имаат', 'башха', 'дахаран', '##цюють', 'подацима', 'болгон', '##чната', 'пакуль', '##۷۳', '##тування', '##сування', '「', 'келген', '##цкай', '092917', 'боротьби', '##ових', '##вний', 'нису', '##атака', '##чким', 'часи', 'орусча', 'място', 'бутт', '##۸۵', '২০১৫', 'првиот', '##лната', '##зерото', '##эдэг', '๓', 'Спочатку', '##дзел', 'цркве', '1063', 'юкъа', 'працювала', '##٥', 'силно', '##၆', '##ключно', 'първи', '¿', '[unused52]', 'дигар', 'книгата', 'податоци', 'воно', '##ркву', '##۵۳', 'елементи', '##ковського', 'кхоллало', '1354', 'встановлено', '[unused42]', 'озын', 'редица', 'чура', '##۸۸', 'размешчаны', 'имат', 'Якщо', '＿', '##ньою', 'зерттеу', '1298', '1038', 'поясу', '##ският', 'недоступная', '##৯', 'ниво', '৫১', '২০১৮', 'знаходяться', 'висината', 'Улуттук', '##унун', 'пласман', '##често', 'ако', 'административдик', '##увала', '1351', 'язку', 'свог', '##၃', 'Процитовано', 'вийшов', 'износи', '##ювання', 'температуран', '##улган', 'юккъерачу', '##сында', 'Током', '##мында', '##цтва', 'Лемцюгова', '##чають', '##яць', '၈', '##ував', 'месеца', 'Працював', 'Бахархойн', '9965', '##০২', 'градове', '##денбург', '##чення', 'Урта', 'становника', 'състои', 'системи', 'алабы', 'шудааст', '０', 'Олар', '##зовий', '？', '۲۰۱۸', 'йылдан', 'обаче', 'газети', 'Архивировано', 'Також', 'Олександр', 'КСРО', 'станал', '##۴۴', 'показник', '##ързо', 'алу', '[unused51]', 'Батыс', 'цю', 'сярод', 'назвою', 'руслар', '##був', '##цыйна', 'анхны', '##нував', '৫', '﹝', 'сахьтийн', 'федералдык', '##учува', 'будуть', 'Йочанийн', '##ського', '##щення', '##ниот', 'уггаре', 'годината', 'групиран', 'Атлантикан', 'ГЗ', '૩', '##телство', 'байв', '२००९', 'загинув', '2552', 'тях', '##йська', 'народження', 'мов', 'милиони', 'живело', '9967', 'сахьт', 'наприклад', '##значення', '२०१४', 'частини', 'магнитуда', 'кафедри', 'дадзеных', '[unused35]', 'Оваа', '##чествовао', '##писва', 'торган', '##будований', '##цьких', '##۸۰', '##жээ', 'можуть', 'български', '##вництво', '1852337520', 'мистецтва', '##൧', '##૧', '२००१', 'призначення', '##шнього', '۲۹', '##۴۸', '954', '[unused20]', 'оквиру', 'кариера', '##ховання', 'районуна', 'към', 'працювали', 'районында', 'шамасында', '##۶۸', '॰', 'мехкан', '১৯৯১', 'континентан', 'представлява', '1338', 'двата', 'амалехь', '063', 'астрономски', 'алды', 'перепису', 'ятник', 'хората', 'педагогика', '##๑', 'якой', 'според', 'становништва', '##ехь', '##вського', '##бних', '0816044732', 'головний', '##раат', '］', 'виносила', '[unused10]', '੪', 'шыв', '##ъка', 'можат', '২০০৯', '##ють', '੦', 'турски', 'декабрехь', 'повече', 'бъде', 'баландии', '##нських', '##нували', '957', 'язки', 'основних', '1278', 'Париз', '##уун', '0816071365', 'юьртан', '##۴۵', 'окремих', 'болсон', '##۰', 'працювало', '##дээ', '##галом', 'една', '##продовж', '##йшла', 'був', '##০', 'служби', 'асанан', '##когаш', '##нёй', 'хромосоми', '##ието', 'майже', 'таго', '##эрэг', 'елгы', '##ерзитет', 'хуьлу', '##лардын', 'битка', 'ткъа', '##۶۳', 'дукха', 'завдання', '##вната', 'навук', 'тарабынан', 'шийла', '##чним', '##۷۷', '：', 'Според', 'ошондой', 'бецаш', 'године', 'Энциклопедиялык', 'програм', 'Федерацин', '0821419161', 'кушылып', 'Кече', 'световна', '044', '1006', 'мекунад', 'бовха', '೦', '##۴۲', 'ярына', 'Минскан', 'шляхом', 'общината', 'Украинан', 'очолював', '૪', '⟨', 'гэтай', 'частиною', '૬', '##донци', 'Завдяки', '২৯', 'Энсиклопедияи', 'уметности', 'сарын', '##льнай', 'яки', '！', '२७', 'због', 'олон', '##৮', 'спирална', '##алды', '##йшов', '६', '8108', '੨', 'Малхбален', 'домогосподарств', '3075095206', '[unused53]', 'орам', '##2011', 'Лемцюговай', '##ього', 'кеше', '1052', '##ставник', 'шулай', 'баспасы', '##туу', '[unused33]', '094', 'басып', 'боюнча', '##०६', '056', '﴾', '[unused31]', '##иране', '۳۱', '##чоьнан', 'гады', '##ецький', 'энцыклапедыя', 'бири', 'ноември', '##۷۱', '##сць', '২০০৭', 'басшысы', 'српског', '##ылады', 'итеп', 'односу', '##нувала', 'якого', 'реестринин', 'жас', 'прва', 'чкъор', '##ческата', 'рата', 'муьран', 'съвет', '##хьара', '##йски', 'късно', '##йския', '##нява', 'хьун', 'приблизно', 'мати', 'свом', 'Због', '##зода', 'негизги', 'лело', '2559', 'Мамлекет', '##явява', 'всього', 'электронды', '۱۳۹۵', '۲۰۱۳', 'тора', '؟', 'Станом', '##жя', 'щата', 'Каталогот', '2557', 'Ярославлан', 'сайтра', 'хьоькху', 'САД', '##връща', '१०', '##шава', '##४', '##ална', '##мних', '٫', 'Шыв', '##таган', '##гээр', 'жайында', 'температури', '##лэл', 'редактору', 'този', 'особливо', 'сите', 'аркылуу', '##алады', '2542', 'преку', '##чених', '##льним', '##къан', '##ланган', 'илимий', 'беренсе', 'язок', 'првенству', 'директоры', '##емята', 'трябва', 'първия', 'йовхачу', '##дардын', '೭', '1287', '۶', '[unused58]', '##бний', '৩', 'съюз', '##૪', '1111', 'свих', '##чання', 'булып', '1194', 'сучасного', 'якщо', 'территориясын', 'ордены', '۲۰۰۷', 'пише', '1098', 'налази', 'данас', '๖', '##тарда', 'максималната', '」', 'арктикан', 'своята', 'периодот', 'кадастра', '՝', '##вання', 'геоинформативдик', 'тарихы', 'крила', 'августехь', '##ымен', 'допомогу', '1093', 'аьхкенца', 'меттиган', 'аталган', 'французша', 'општини', 'почео', '##ження', 'раён', '؍', '1046', 'щоб', 'Ресей', 'докато', 'УРСР', '##оження', 'початку', '##скиот', '（', 'активних', 'улс', '[unused27]', 'башкы', 'Разпространен', 'била', 'Югары', 'вредност', 'мелхан', '##зяржавы', '##ствена', 'листи', 'Републички', '۲۰۱۰', 'Дрееров', 'орыс', 'Сондай', 'означена', 'округот', '##ську', '0521820486', '##гийг', 'нэг', 'площ', '933346', 'кадастры', '##۵۱', 'чарбачылык', 'минот', 'първата', 'въпреки', '##၄', '##латын', 'дикка', '##６', '##гнення', 'участогы', 'верасня', 'дакъа', '৪', '[unused28]', 'цей', '##৪', 'Володимир', 'байжээ', '[unused64]', 'времето', 'господарства', 'Неговата', '##ындагы', 'радянський', '】', 'чого', 'Становништво', 'реестры', 'врло', 'изток', 'санна', '৮', 'людини', 'Протягом', '۱۲', 'четири', '##ционални', 'питань', 'першы', '##щия', '##٢', 'нэр', 'министирлиги', 'сайтында', 'улуттук', '##лног', '##кога', '##цями', '##۵', '##ския', '൧', '##риство', '##шых', '##ларды', 'ингл', 'върху', 'Поред', 'народився', 'сохтаи', '。', 'първенство', 'щодо', '##۶۴', '##лното', 'половини', 'няма', 'работи', 'тогава', 'повернувся', 'ь', '##۲', 'зерттеулер', 'Халык', '99947', '###', 'беренче', '##ваюць', 'Хайнрих', 'имало', '##೪', 'Петър', '##чився', 'нивната', 'громада', '##епублици', '##хисник', 'Београду', '##чити', 'съпругата', '1073', 'сега', '##ствената', 'кхочу', '##робки', '##бування', '२९', 'Республикасы', 'створено', '[unused88]', 'Въпреки', '##кахь', '[unused93]', 'гурт', '953', 'привидни', 'болон', 'якими', 'шила', '๙', '－', 'също', '##нання', 'центар', '۲', 'практично', '##гаар', '২০০০', 'втората', '৫২', 'Видът', 'билим', '་', '##۴۱', '##ьну', '›', '##тарында', 'частину', 'хьалхара', 'Общероссийский', 'месеци', 'Нысанбаев', '##едення', 'умов', '##ынын', '##١', '##рамя', 'Перший', 'провежда', '##२', 'включва', '۱۴', '##ються', '##ээх', 'озод', '##๖', '##игао', 'овие', 'допомогою', '##сунун', '2050', '##૭', '0521189748', 'република', '০১', 'Москваца', '##зважаючи', 'Венето', 'започва', 'гэтым', 'църквата', 'почетком', '##чэння', 'долчу', '१६', '[unused82]', 'улога', '##ккен', '1096', 'бий', '##ционално', '[unused99]', 'малхбален', '##шчана', '๕', '##ыу', '২০১১', 'повечето', '##кхна', 'къаьста', 'байланысты', '##ивний', 'урнашкан', 'седиште', 'Шкадов', '1407', '##юють', 'руски', 'живи', '##чких', '##ьнага', '##сынан', 'имао', '##атты', '७', '##ското', 'обох', '[unused24]', '〔', '২০১৬', '##ъд', 'барои', '##йський', 'неколико', 'микрохаамаш', 'мушкараца', 'деяких', 'кръг', '##гинен', 'дорад', 'екъа', '』', 'текот', '##омих', 'болды', '၂', '##емоги', 'населеных', 'формування', '##੧', 'Юханшыв', '2307', '1267', 'години', '300000', '##ючы', '##ък', '##народного', 'Поправени', '2547', '२३', 'класу', '##чалася', 'ресурслары', '1273', 'коьллаш', '067', 'науково', '२०१५', 'предимно', 'Хоча', 'Мехкан', 'рамките', '##тында', '५०', 'головою', '۴', '۱۳۸۷', '##ртып', 'батька', 'вересня', 'Први', 'имал', 'особоспоживача', 'болно', 'висока', '﹣', '##овлення', 'сваёй', 'исеме', '949', '##ъл', 'даних', 'входять', '##каторыя', '1294', '026', 'вакыты', 'ням', '##ювати', 'складзе', '##писао', '२०१७', 'смъртта', '##служений', '##телно', 'наггахь', 'бъдат', '##ында', 'хийцадалар', 'мехаш', '[unused72]', 'състава', '##ратын', 'дехьайолуш', '২০১৭', 'живеят', 'тъй', 'якое', '##уючи', '۱۶', '[unused45]', '##шната', '०', 'Воениздат', 'Ь', '##१', '૧', 'острва', 'январехь', 'површина', 'Белоруссин', '##７', '##чык', 'чейин', '০০০', 'родини', '##೨', '##йського', 'початок', 'животни', '੧', 'вредности', '##ылыш', 'ауылы', '[unused63]', 'жылы', '##০০', 'атаулары', '048', 'някои', '[unused75]', '##८', 'байсан', '1332', 'агульным', 'малхбалехь', '##насць', 'борбору', 'емес', '‧', '952', '‡', 'Болжолдуу', 'тимер', '6667', 'кола', '##дою', '##родний', 'општине', '1017', '﹑', '##чаткова', 'требало', '##лэх', 'тварин', 'суык', '##۵۶', 'йыл', '१३', 'Северна', 'державного', '／', '0521669928', 'саставу', 'яе', 'ын', '##арската', '##ървото', 'аралык', 'якою', '1243', '87237', '##၇', 'агенттиги', 'аша', 'айрыгы', '##чийн', 'ОКАТО', 'авч', 'елдан', 'първите', '##ската', '۱۹۹۰', '[unused83]', 'лютага', 'успява', 'която', 'ця', 'разпространен', 'розташована', 'облусу', '##казва', 'хоёр', 'шуд', 'голяма', 'сматра', 'жылдары', '##вао', 'менш', 'жовтня', '২০০৩', '၏', 'динамикасы', '##елген', 'ЖШС', '##۷۰', 'повинен', '##яването', '##нително', '##сыз', '0230573398', 'мешавад', '##янських', '૭', 'сезоната', '##никот', '0000', 'още', '॥', '##вський', 'децембра', 'Александър', 'Довжина', '၉', 'своите', 'съпруга', 'ресурстар', 'статтю', 'сезони', 'малко', 'прысвечаных', 'вилояти', 'каршы', '۳', 'Федерациясынын', 'неактивними', 'февралехь', 'току', 'виробництва', 'чотирьох', 'ярыннан', 'Османската', '๑', '9789004244870', 'Централна', 'стоьмаш', 'неговото', 'Осы', '##۹۳', 'комуни', '##дження', 'Црква', 'средата', '##тарды', '##нието', 'Теллина', '##ртстан', '##９', '##нымен', '২০০৬', '၇', 'Димитър', '##авната', 'углавном', '1021', '##лийг', '027', '[unused50]', '๔', '※', '##уыр', 'голям', 'швидко', 'Привидна', 'ераклыкта', '７', 'десет', '##лися', 'табылады', 'следните', '[unused56]', 'заманаш', 'негово', '1119', 'процесу', 'мамлекеттик', 'вище', 'ефект', 'довжина', 'жыцця', '۲۶', '[unused89]', 'эмес', '##родних', '##ське', '##۹۱', 'АКШ', 'породице', 'регистры', 'първият', '‚', '##рката', 'бонди', '૯', 'Мысалы', 'заснований', '##૮', 'врста', 'Муниципалитеттин', '२५', 'маркази', 'позната', '028', 'ланцюга', '২০০৪', 'кхузахь', 'рахунок', '##елений', 'постала', 'връх', 'протягом', '##ъв', '##ског', 'еден', '##ецька', 'използва', 'шерашкахь', '۲۵', 'класа', 'октябрехь', '২০১৪', 'среща', '##энне', '##ционалната', 'хоча', 'укупно', 'дури', '##ээн', 'Федеративдик', '२०१६', 'Москван', '২৫', '۱۸', 'пъти', 'Вилхелм', 'нагороджений', '000291', '##ворити', '##перше', 'двете'}\n"
     ]
    }
   ],
   "source": [
    "print(own_tokens.difference(geotrend_tokens))"
   ],
   "metadata": {
    "collapsed": false
   }
  }
 ],
 "metadata": {
  "kernelspec": {
   "display_name": "Python 3",
   "language": "python",
   "name": "python3"
  },
  "language_info": {
   "codemirror_mode": {
    "name": "ipython",
    "version": 2
   },
   "file_extension": ".py",
   "mimetype": "text/x-python",
   "name": "python",
   "nbconvert_exporter": "python",
   "pygments_lexer": "ipython2",
   "version": "2.7.6"
  }
 },
 "nbformat": 4,
 "nbformat_minor": 0
}
