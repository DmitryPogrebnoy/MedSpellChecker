{
 "cells": [
  {
   "cell_type": "code",
   "execution_count": 1,
   "outputs": [],
   "source": [
    "from huggingface_hub import HfApi\n",
    "import os"
   ],
   "metadata": {
    "collapsed": false
   }
  },
  {
   "cell_type": "code",
   "execution_count": 2,
   "outputs": [],
   "source": [
    "api = HfApi()"
   ],
   "metadata": {
    "collapsed": false
   }
  },
  {
   "cell_type": "code",
   "execution_count": 3,
   "outputs": [],
   "source": [
    "folder_path = cwd = os.getcwd()"
   ],
   "metadata": {
    "collapsed": false
   }
  },
  {
   "cell_type": "code",
   "execution_count": 4,
   "outputs": [],
   "source": [
    "ROOT_PROJECT_PATH = os.path.sep + os.path.join(*folder_path.split(sep=\"/\")[:5])"
   ],
   "metadata": {
    "collapsed": false
   }
  },
  {
   "cell_type": "code",
   "execution_count": 5,
   "outputs": [
    {
     "data": {
      "text/plain": "'https://huggingface.co/DmitryPogrebnoy/MedDistilBertBaseRuCased/tree/main/'"
     },
     "execution_count": 5,
     "metadata": {},
     "output_type": "execute_result"
    }
   ],
   "source": [
    "api.upload_folder(\n",
    "    folder_path=os.path.join(ROOT_PROJECT_PATH, \"data/ml/med_distilbert_base_russian_cased/model\"),\n",
    "    repo_id=\"DmitryPogrebnoy/MedDistilBertBaseRuCased\",\n",
    "    path_in_repo =\"\",\n",
    "    repo_type=\"model\",\n",
    "    revision=\"main\",\n",
    "    commit_message=\"Model\",\n",
    "    token = \"\"\n",
    ")"
   ],
   "metadata": {
    "collapsed": false
   }
  },
  {
   "cell_type": "code",
   "execution_count": 6,
   "outputs": [
    {
     "data": {
      "text/plain": "'https://huggingface.co/DmitryPogrebnoy/MedDistilBertBaseRuCased/tree/main/'"
     },
     "execution_count": 6,
     "metadata": {},
     "output_type": "execute_result"
    }
   ],
   "source": [
    "api.upload_folder(\n",
    "    folder_path=os.path.join(ROOT_PROJECT_PATH, \"data/ml/med_distilbert_base_russian_cased/tokenizer\"),\n",
    "    repo_id=\"DmitryPogrebnoy/MedDistilBertBaseRuCased\",\n",
    "    path_in_repo =\"\",\n",
    "    repo_type=\"model\",\n",
    "    revision=\"main\",\n",
    "    commit_message=\"Tokenizer\",\n",
    "    token = \"\"\n",
    ")"
   ],
   "metadata": {
    "collapsed": false
   }
  },
  {
   "cell_type": "code",
   "execution_count": 12,
   "outputs": [],
   "source": [],
   "metadata": {
    "collapsed": false
   }
  }
 ],
 "metadata": {
  "kernelspec": {
   "display_name": "Python 3",
   "language": "python",
   "name": "python3"
  },
  "language_info": {
   "codemirror_mode": {
    "name": "ipython",
    "version": 2
   },
   "file_extension": ".py",
   "mimetype": "text/x-python",
   "name": "python",
   "nbconvert_exporter": "python",
   "pygments_lexer": "ipython2",
   "version": "2.7.6"
  }
 },
 "nbformat": 4,
 "nbformat_minor": 0
}
