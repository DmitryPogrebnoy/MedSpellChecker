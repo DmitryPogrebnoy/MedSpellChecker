{
 "cells": [
  {
   "cell_type": "code",
   "execution_count": 1,
   "outputs": [],
   "source": [
    "from regex import regex\n",
    "from transformers import DebertaV2Tokenizer, DebertaV2TokenizerFast, DebertaV2ForMaskedLM, pipeline\n",
    "import json\n",
    "import os\n",
    "from torch import nn"
   ],
   "metadata": {
    "collapsed": false,
    "ExecuteTime": {
     "end_time": "2023-09-02T18:42:16.145384625Z",
     "start_time": "2023-09-02T18:42:14.542952505Z"
    }
   }
  },
  {
   "cell_type": "code",
   "execution_count": 2,
   "outputs": [],
   "source": [
    "MULTILANG_DISTILBERT_CHECKPOINT = \"microsoft/mdeberta-v3-base\"\n",
    "\n",
    "RUSSIAN_DISTILBERT_CHECKPOINT = \"mdeberta-russian\"\n",
    "\n",
    "PATH_TO_NEW_MODEL = \"../../../../data/ml/mdeberta-russian/model\"\n",
    "PATH_TO_NEW_TOKENIZER = \"../../../../data/ml/mdeberta-russian/tokenizer\""
   ],
   "metadata": {
    "collapsed": false,
    "ExecuteTime": {
     "end_time": "2023-09-02T18:42:16.145605379Z",
     "start_time": "2023-09-02T18:42:16.119606362Z"
    }
   }
  },
  {
   "cell_type": "code",
   "execution_count": 3,
   "outputs": [
    {
     "name": "stderr",
     "output_type": "stream",
     "text": [
      "Special tokens have been added in the vocabulary, make sure the associated word embeddings are fine-tuned or trained.\n"
     ]
    },
    {
     "name": "stdout",
     "output_type": "stream",
     "text": [
      "Initial vocab size: 250101\n",
      "[CLS]\n"
     ]
    }
   ],
   "source": [
    "multilang_tokenizer = DebertaV2Tokenizer.from_pretrained(MULTILANG_DISTILBERT_CHECKPOINT)\n",
    "multilang_vocab = list(multilang_tokenizer.vocab.keys())\n",
    "print(f\"Initial vocab size: {len(multilang_vocab)}\")\n",
    "print(f\"{multilang_tokenizer.bos_token}\")"
   ],
   "metadata": {
    "collapsed": false,
    "ExecuteTime": {
     "end_time": "2023-09-02T18:42:18.080101974Z",
     "start_time": "2023-09-02T18:42:16.125149908Z"
    }
   }
  },
  {
   "cell_type": "code",
   "execution_count": 4,
   "outputs": [
    {
     "data": {
      "text/plain": "PreTrainedTokenizer(name_or_path='microsoft/mdeberta-v3-base', vocab_size=250101, model_max_len=1000000000000000019884624838656, is_fast=False, padding_side='right', truncation_side='right', special_tokens={'bos_token': '[CLS]', 'eos_token': '[SEP]', 'unk_token': '[UNK]', 'sep_token': '[SEP]', 'pad_token': '[PAD]', 'cls_token': '[CLS]', 'mask_token': '[MASK]'})"
     },
     "execution_count": 4,
     "metadata": {},
     "output_type": "execute_result"
    }
   ],
   "source": [
    "multilang_tokenizer"
   ],
   "metadata": {
    "collapsed": false,
    "ExecuteTime": {
     "end_time": "2023-09-02T18:42:18.087796356Z",
     "start_time": "2023-09-02T18:42:18.082047839Z"
    }
   }
  },
  {
   "cell_type": "code",
   "execution_count": 5,
   "outputs": [],
   "source": [
    "REGEXP_FOR_SPECIAL_TOKENS = \"\\[.*\\]\"\n",
    "REGEXP_FOR_UNUSED_TOKENS = \"\\[unused\\d+\\]\"\n",
    "REGEXP_FOR_RUSSIAN_WORDPIECE = \"#*[аАбБвВгГдДеЕёЁжЖзЗиИйЙкКлЛмМнНоОпПрРсСтТуУфФхХцЦчЧшШщЩъЪыЫьЬэЭюЮяЯ]*\"\n",
    "REGEXP_FOR_FULL_HASHTAG_PIECE = \"#+\"\n",
    "REGEXP_FOR_PUNCTUATION = \"\\p{Punct}\"\n",
    "REGEXP_FOR_DIGITS = \"#*\\d+#*\""
   ],
   "metadata": {
    "collapsed": false,
    "ExecuteTime": {
     "end_time": "2023-09-02T18:42:40.463320262Z",
     "start_time": "2023-09-02T18:42:40.439811101Z"
    }
   }
  },
  {
   "cell_type": "code",
   "execution_count": 6,
   "outputs": [
    {
     "data": {
      "text/plain": "['[PAD]',\n '[CLS]',\n '[SEP]',\n '[UNK]',\n '.',\n ',',\n '-',\n ':',\n ')',\n '/',\n \"'\",\n 'и',\n '_',\n '?',\n '、',\n '’',\n ';',\n '。',\n 'а',\n '!',\n '\"',\n '(',\n 'е',\n '3',\n '2',\n '،',\n '1',\n 'у',\n '”',\n '।',\n 'я',\n '4',\n 'о',\n '5',\n 'ы',\n '»',\n ']',\n '8',\n '6',\n '0',\n '7',\n '9',\n 'м',\n '\\\\',\n 'й',\n '&',\n 'на',\n 'т',\n '“',\n '{',\n 'х',\n 'но',\n '・',\n 'ом',\n 'ки',\n '10',\n 'ни',\n 'ка',\n 'ов',\n 'н',\n '#',\n 'для',\n 'ю',\n '[',\n 'их',\n 'ой',\n '‘',\n 'то',\n 'ь',\n '】',\n '」',\n '%',\n 'ого',\n '*',\n 'р',\n 'д',\n 'г',\n 'та',\n 'л',\n '「',\n 'ите',\n 'да',\n 'с',\n 'Р',\n 'не',\n 'ку',\n 'ж',\n 'п',\n '11',\n 'ий',\n 'ей',\n 'га',\n 'к',\n 'ш',\n 'С',\n '@',\n 'ть',\n '12',\n 'им',\n 'же',\n '20',\n 'б',\n 'ли',\n '·',\n 'ен',\n 'ата',\n '88',\n 'ных',\n 'от',\n '30',\n 'ем',\n 'ах',\n 'те',\n '‚',\n 'ные',\n 'з',\n 'в',\n '–',\n 'ня',\n '003',\n 'ить',\n '15',\n 'ам',\n 'ет',\n '}',\n 'ок',\n 'ти',\n 'ны',\n 'ат',\n 'ного',\n '【',\n 'ия',\n 'ла',\n 'ая',\n '16',\n '18',\n '24',\n 'ами',\n 'ч',\n '13',\n 'ие',\n '00',\n 'ной',\n 'ке',\n 'ный',\n '22',\n 'них',\n 'ый',\n '14',\n '17',\n '19',\n 'го',\n 'де',\n '21',\n 'ди',\n 'ний',\n 'ва',\n '28',\n '25',\n 'его',\n 'ых',\n 'ын',\n 'нь',\n '«',\n 'ят',\n 'лар',\n 'ная',\n 'ц',\n '50',\n 'ма',\n 'ил',\n 'ения',\n '—',\n 'ан',\n 'В',\n 'ды',\n 'ко',\n 'ну',\n 'дан',\n '23',\n 'Г',\n 'ё',\n '29',\n '05',\n '01',\n '၊',\n 'ты',\n 'или',\n '27',\n 'ин',\n '100',\n 'ому',\n '؟',\n 'бы',\n 'К',\n '40',\n 'ча',\n 'ге',\n 'ар',\n 'за',\n 'ит',\n '26',\n 'А',\n 'ць',\n 'ган',\n 'ните',\n 'он',\n '03',\n '《',\n 'ую',\n '66',\n 'ми',\n 'ния',\n 'ным',\n 'ым',\n '》',\n 'ба',\n '365',\n '31',\n 'ности',\n 'са',\n '02',\n 'ло',\n 'ение',\n 'ном',\n '07',\n '։',\n 'му',\n 'ната',\n 'ется',\n '08',\n 'М',\n '60',\n 'ски',\n 'ник',\n 'що',\n 'ме',\n 'ова',\n '』',\n 'ып',\n 'Б',\n 'ийн',\n '90',\n 'ые',\n '06',\n 'Д',\n 'ити',\n '04',\n 'сы',\n 'ное',\n '¿',\n 'ша',\n 'О',\n 'ее',\n 'ии',\n 'нинг',\n 'П',\n 'они',\n 'ска',\n 'ля',\n 'ле',\n '45',\n '¶',\n '80',\n 'ним',\n '32',\n 'ту',\n 'может',\n '35',\n 'мен',\n '።',\n '99',\n 'ф',\n '36',\n 'во',\n 'Х',\n 'можно',\n 'ою',\n '09',\n '70',\n 'ими',\n 'ер',\n 'сан',\n 'ца',\n '200',\n 'ето',\n '『',\n '2019',\n 'ое',\n 'али',\n 'только',\n 'ство',\n 'тар',\n '။',\n '។',\n 'ника',\n 'ся',\n 'ев',\n 'ила',\n 'ше',\n 'ют',\n 'ал',\n '46',\n '§',\n '•',\n 'того',\n 'ства',\n '۔',\n 'ков',\n 'У',\n 'ную',\n 'иб',\n '64',\n 'ком',\n 'гийн',\n 'Ф',\n 'ится',\n '፣',\n 'Ш',\n 'до',\n 'би',\n 'тай',\n '91',\n 'ци',\n '2018',\n 'ування',\n 'уже',\n 'иш',\n 'З',\n '55',\n 'мо',\n 'чи',\n 'ете',\n 'ях',\n 'ина',\n 'кой',\n 'рез',\n '500',\n 'че',\n '؛',\n 'Т',\n '33',\n '43',\n '39',\n '›',\n '48',\n '42',\n 'ът',\n '38',\n 'И',\n '65',\n 'ор',\n '41',\n 'будет',\n 'це',\n '77',\n '34',\n 'ра',\n 'ри',\n 'ання',\n '61',\n '‹',\n 'тер',\n 'ро',\n 'которые',\n 'ью',\n 'како',\n 'ум',\n 'ност',\n '44',\n '58',\n '86',\n '53',\n '300',\n 'ува',\n '51',\n 'си',\n 'было',\n 'ай',\n '՝',\n 'ться',\n '95',\n 'ында',\n 'ать',\n 'если',\n '54',\n '82',\n 'ове',\n '56',\n 'Для',\n '¡',\n 'ской',\n '69',\n 'ха',\n 'ена',\n '92',\n '52',\n 'ям',\n 'ката',\n '63',\n 'ви',\n 'ять',\n 'ст',\n 'се',\n '72',\n 'ито',\n 'ел',\n '75',\n '78',\n 'гу',\n 'руб',\n '49',\n 'зи',\n '57',\n 'более',\n 'по',\n 'иться',\n 'има',\n 'ён',\n 'дар',\n 'ген',\n 'ние',\n 'Я',\n '81',\n '98',\n 'лик',\n '85',\n '97',\n 'ала',\n 'ает',\n '62',\n '2017',\n '89',\n 'као',\n 'очень',\n 'ман',\n 'шы',\n 'лари',\n 'ги',\n '94',\n 'ако',\n 'цы',\n '2016',\n '37',\n 'жа',\n '„',\n '67',\n '59',\n 'ская',\n 'ность',\n 'ными',\n 'ида',\n '47',\n 'ден',\n '2020',\n '400',\n 'ено',\n '93',\n 'па',\n 'Ц',\n 'ног',\n 'Е',\n '2015',\n 'ик',\n '87',\n '71',\n '73',\n 'ак',\n 'Л',\n 'ский',\n 'ках',\n '74',\n '84',\n 'Ч',\n 'ут',\n '043',\n 'су',\n 'ана',\n 'бу',\n 'ив',\n '96',\n 'ото',\n '1000',\n 'лы',\n 'ята',\n 'тому',\n '79',\n 'этом',\n 'ному',\n 'чу',\n 'еще',\n 'тан',\n 'когда',\n 'э',\n '68',\n 'ян',\n 'ского',\n 'Н',\n 'рд',\n 'ати',\n '2014',\n 'Ж',\n '250',\n '83',\n 'ад',\n 'купить',\n 'Если',\n 'где',\n 'ват',\n 'ини',\n '600',\n 'най',\n 'ует',\n '76',\n 'рын',\n 'сон',\n 'гляд',\n 'ске',\n 'ду',\n 'Это',\n '५',\n 'ното',\n '‡',\n 'лан',\n 'ек',\n 'ени',\n 'ёр',\n '―',\n 'кон',\n '2000',\n 'из',\n 'ъ',\n '150',\n 'нд',\n 'ации',\n 'гда',\n 'ови',\n 'кам',\n '888',\n 'ця',\n 'кои',\n 'ями',\n 'сэн',\n 'бор',\n '׳',\n 'тази',\n '†',\n 'року',\n 'ення',\n 'ады',\n 'вар',\n 'ления',\n 'ских',\n 'сё',\n 'тен',\n '〜',\n 'ол',\n 'ация',\n 'ается',\n 'овой',\n 'аны',\n 'овые',\n 'лийн',\n 'дин',\n 'сти',\n 'ками',\n 'ья',\n '120',\n 'дзе',\n 'ру',\n 'лю',\n 'дат',\n 'ници',\n 'нэ',\n 'чы',\n 'Э',\n 'тэй',\n 'ження',\n 'ль',\n 'ща',\n 'жана',\n 'пер',\n '800',\n 'ър',\n 'треба',\n 'ве',\n 'ння',\n 'ира',\n 'бе',\n '360',\n 'гар',\n 'йти',\n 'ъв',\n 'ийг',\n 'ши',\n 'ец',\n 'щ',\n 'Ю',\n 'менен',\n 'кто',\n 'эн',\n 'ване',\n '777',\n 'од',\n 'ына',\n 'тря',\n '700',\n 'ход',\n 'увати',\n 'делать',\n 'ении',\n 'ового',\n 'нат',\n 'ава',\n 'вер',\n 'сколько',\n 'ники',\n 'кер',\n 'сь',\n 'гэж',\n '2012',\n 'ско',\n 'шка',\n 'ож',\n 'была',\n 'бо',\n 'ыя',\n 'уть',\n 'зе',\n 'раз',\n 'ун',\n 'ция',\n 'вод',\n 'ница',\n '2013',\n 'бар',\n 'ре',\n 'ради',\n 'ему',\n 'За',\n 'ости',\n 'ндай',\n '၏',\n 'чун',\n 'ними',\n 'ают',\n '፡',\n 'этому',\n 'нага',\n 'лу',\n 'една',\n '०',\n 'ул',\n '2010',\n 'мер',\n 'ади',\n 'рок',\n 'лын',\n 'тор',\n 'овых',\n 'мы',\n 'тоа',\n 'лось',\n 'стан',\n 'нее',\n 'вести',\n 'бити',\n 'сын',\n 'ху',\n 'ява',\n 'ём',\n 'лення',\n 'ица',\n 'ском',\n 'ають',\n '900',\n 'Щ',\n 'ав',\n 'вся',\n 'ще',\n 'ск',\n '450',\n 'ог',\n '६',\n 'ень',\n '〖',\n 'На',\n '160',\n 'лог',\n 'бва',\n 'няма',\n 'щу',\n 'той',\n '000',\n 'ального',\n 'еш',\n 'чего',\n 'ас',\n 'она',\n 'ныя',\n 'всем',\n 'ус',\n 'йил',\n 'тым',\n 'сть',\n 'ряд',\n 'ступ',\n 'По',\n 'Ако',\n '123',\n 'ются',\n 'ился',\n 'ников',\n 'вен',\n '5000',\n 'ких',\n 'об',\n 'ките',\n 'кор',\n 'вы',\n 'атын',\n 'гер',\n 'ската',\n 'рат',\n 'вал',\n '2011',\n 'ские',\n '111',\n 'кан',\n 'дер',\n 'лары',\n 'тки',\n 'бек',\n '፤',\n 'алып',\n 'дор',\n 'ву',\n 'ият',\n 'ант',\n 'анд',\n 'истон',\n 'уд',\n 'дын',\n 'ес',\n '110',\n 'дир',\n 'жи',\n 'чин',\n 'ани',\n '০',\n 'щи',\n 'године',\n 'вляется',\n 'жээ',\n 'Ы',\n 'ара',\n 'энэ',\n 'ально',\n 'мон',\n 'ост',\n 'лер',\n 'ир',\n 'кен',\n '〗',\n '2009',\n 'ага',\n 'дня',\n 'кого',\n 'яна',\n 'лаш',\n '180',\n 'ходит',\n 'бер',\n 'так',\n 'десь',\n 'яго',\n 'мар',\n 'фа',\n '৩',\n 'оз',\n 'дам',\n '७',\n 'лек',\n 'яет',\n 'ван',\n 'ье',\n 'аться',\n 'ева',\n 'ларга',\n 'лег',\n '႔',\n 'гон',\n 'Курс',\n 'ээ',\n 'поред',\n '320',\n 'сад',\n 'альный',\n 'вот',\n 'лся',\n '356',\n 'йте',\n 'што',\n 'чен',\n 'кога',\n 'ине',\n 'ению',\n '125',\n 'имо',\n 'ших',\n 'ток',\n '350',\n 'ято',\n 'ниот',\n 'дали',\n 'кова',\n 'лись',\n 'ович',\n 'тися',\n 'ию',\n 'ього',\n 'разу',\n 'ностью',\n 'ление',\n 'ней',\n 'шли',\n 'ох',\n 'тары',\n 'ительно',\n 'ос',\n 'нес',\n 'рт',\n 'ыми',\n 'нем',\n 'ейчас',\n 'ларни',\n 'клад',\n '666',\n 'ню',\n 'дел',\n 'ського',\n '140',\n 'РФ',\n '112',\n '৫',\n 'ёт',\n 'ують',\n 'кий',\n '750',\n 'ятся',\n 'ъл',\n 'знач',\n 'тку',\n 'ист',\n 'шення',\n 'ур',\n 'ску',\n 'лучш',\n 'ика',\n 'будь',\n 'зу',\n 'ээр',\n 'ений',\n 'ама',\n '४',\n 'пи',\n 'ило',\n 'було',\n 'том',\n 'шу',\n 'сыз',\n 'ових',\n '918',\n 'эр',\n 'мет',\n 'гор',\n 'хи',\n 'ировать',\n 'даги',\n 'Ё',\n 'ились',\n 'още',\n 'глед',\n 'лет',\n 'едь',\n '‐',\n 'рак',\n 'даг',\n 'када',\n 'говор',\n '‰',\n 'рад',\n 'ста',\n 'чки',\n 'лай',\n 'игры',\n '114',\n 'зо',\n 'лага',\n 'тон',\n '३',\n '৪',\n 'ением',\n 'лен',\n 'Что',\n 'скачать',\n '८',\n '3000',\n 'више',\n 'чь',\n 'било',\n 'ною',\n 'ким',\n 'пен',\n 'иши',\n 'дай',\n 'бай',\n 'ры',\n 'казать',\n 'ио',\n 'над',\n 'илась',\n 'лучше',\n 'ък',\n 'нення',\n 'Про',\n '240',\n 'ьного',\n 'ците',\n '101',\n 'вече',\n 'ции',\n 'уваат',\n 'хай',\n 'рон',\n 'ис',\n 'хоч',\n 'лык',\n 'около',\n 'ично',\n '′',\n 'нг',\n 'месте',\n 'хан',\n 'тя',\n 'ларнинг',\n 'казино',\n 'стой',\n 'ьных',\n '[]',\n 'сто',\n 'ров',\n 'месе',\n 'яка',\n 'инг',\n '৬',\n 'лов',\n 'смотреть',\n 'олон',\n 'юу',\n 'колко',\n '4000',\n 'эг',\n '999',\n 'був',\n 'уге',\n '१',\n 'иот',\n 'сия',\n 'стер',\n 'кар',\n 'щото',\n 'ыг',\n 'при',\n 'ъм',\n 'кою',\n 'зор',\n 'ед',\n 'ран',\n 'Купить',\n '128',\n 'жу',\n 'ларини',\n 'счита',\n 'лаб',\n 'дет',\n '2008',\n 'енных',\n 'айн',\n 'мин',\n 'Скачать',\n '၀',\n 'нар',\n 'куп',\n 'ният',\n 'илган',\n 'яване',\n 'нча',\n '220',\n '৭',\n ...]"
     },
     "execution_count": 6,
     "metadata": {},
     "output_type": "execute_result"
    }
   ],
   "source": [
    "russian_vocab = [token for token in multilang_vocab if (regex.fullmatch(\"|\".join([REGEXP_FOR_SPECIAL_TOKENS, REGEXP_FOR_UNUSED_TOKENS, REGEXP_FOR_RUSSIAN_WORDPIECE, REGEXP_FOR_FULL_HASHTAG_PIECE, REGEXP_FOR_PUNCTUATION, REGEXP_FOR_DIGITS]), token))]\n",
    "russian_vocab"
   ],
   "metadata": {
    "collapsed": false,
    "ExecuteTime": {
     "end_time": "2023-09-02T18:42:44.344113287Z",
     "start_time": "2023-09-02T18:42:41.100710640Z"
    }
   }
  },
  {
   "cell_type": "code",
   "execution_count": 7,
   "outputs": [],
   "source": [
    "russian_num_tokens = len(russian_vocab)"
   ],
   "metadata": {
    "collapsed": false,
    "ExecuteTime": {
     "end_time": "2023-09-02T18:42:44.344373942Z",
     "start_time": "2023-09-02T18:42:43.737113991Z"
    }
   }
  },
  {
   "cell_type": "code",
   "execution_count": 8,
   "outputs": [
    {
     "data": {
      "text/plain": "22807"
     },
     "execution_count": 8,
     "metadata": {},
     "output_type": "execute_result"
    }
   ],
   "source": [
    "russian_num_tokens"
   ],
   "metadata": {
    "collapsed": false,
    "ExecuteTime": {
     "end_time": "2023-09-02T18:42:44.414991951Z",
     "start_time": "2023-09-02T18:42:44.339200262Z"
    }
   }
  },
  {
   "cell_type": "code",
   "execution_count": 9,
   "outputs": [
    {
     "name": "stderr",
     "output_type": "stream",
     "text": [
      "Some weights of the model checkpoint at microsoft/mdeberta-v3-base were not used when initializing DebertaV2ForMaskedLM: ['deberta.embeddings.position_embeddings._weight', 'mask_predictions.classifier.weight', 'mask_predictions.classifier.bias', 'deberta.embeddings.word_embeddings._weight', 'mask_predictions.LayerNorm.bias', 'mask_predictions.LayerNorm.weight', 'lm_predictions.lm_head.bias', 'lm_predictions.lm_head.LayerNorm.bias', 'deberta.embeddings.position_embeddings.weight', 'mask_predictions.dense.weight', 'lm_predictions.lm_head.dense.bias', 'lm_predictions.lm_head.dense.weight', 'lm_predictions.lm_head.LayerNorm.weight', 'mask_predictions.dense.bias']\n",
      "- This IS expected if you are initializing DebertaV2ForMaskedLM from the checkpoint of a model trained on another task or with another architecture (e.g. initializing a BertForSequenceClassification model from a BertForPreTraining model).\n",
      "- This IS NOT expected if you are initializing DebertaV2ForMaskedLM from the checkpoint of a model that you expect to be exactly identical (initializing a BertForSequenceClassification model from a BertForSequenceClassification model).\n",
      "Some weights of DebertaV2ForMaskedLM were not initialized from the model checkpoint at microsoft/mdeberta-v3-base and are newly initialized: ['cls.predictions.decoder.weight', 'cls.predictions.transform.dense.weight', 'cls.predictions.bias', 'cls.predictions.transform.dense.bias', 'cls.predictions.transform.LayerNorm.bias', 'cls.predictions.transform.LayerNorm.weight']\n",
      "You should probably TRAIN this model on a down-stream task to be able to use it for predictions and inference.\n"
     ]
    },
    {
     "name": "stdout",
     "output_type": "stream",
     "text": [
      "Multilang model has 279061880 parameters\n"
     ]
    }
   ],
   "source": [
    "multilang_model = DebertaV2ForMaskedLM.from_pretrained(MULTILANG_DISTILBERT_CHECKPOINT)\n",
    "print(f\"Multilang model has {multilang_model.num_parameters()} parameters\")"
   ],
   "metadata": {
    "collapsed": false,
    "ExecuteTime": {
     "end_time": "2023-09-02T18:42:53.191025111Z",
     "start_time": "2023-09-02T18:42:45.178659403Z"
    }
   }
  },
  {
   "cell_type": "code",
   "execution_count": 10,
   "outputs": [],
   "source": [
    "# Code partially borrowed from https://github.com/Geotrend-research/smaller-transformers/blob/main/notebooks/select_mBERT_vocabularies.ipynb\n",
    "\n",
    "# Get old embeddings from model\n",
    "multilang_embeddings = multilang_model.get_input_embeddings()\n",
    "multilang_num_tokens,multilang_embedding_dim = multilang_embeddings.weight.size()"
   ],
   "metadata": {
    "collapsed": false,
    "ExecuteTime": {
     "end_time": "2023-09-02T18:42:53.191301107Z",
     "start_time": "2023-09-02T18:42:53.122470409Z"
    }
   }
  },
  {
   "cell_type": "code",
   "execution_count": 11,
   "outputs": [
    {
     "data": {
      "text/plain": "(251000, 768)"
     },
     "execution_count": 11,
     "metadata": {},
     "output_type": "execute_result"
    }
   ],
   "source": [
    "multilang_num_tokens, multilang_embedding_dim"
   ],
   "metadata": {
    "collapsed": false,
    "ExecuteTime": {
     "end_time": "2023-09-02T18:42:53.191918381Z",
     "start_time": "2023-09-02T18:42:53.127213880Z"
    }
   }
  },
  {
   "cell_type": "code",
   "execution_count": 12,
   "outputs": [
    {
     "data": {
      "text/plain": "Embedding(22807, 768)"
     },
     "execution_count": 12,
     "metadata": {},
     "output_type": "execute_result"
    }
   ],
   "source": [
    "# Build new embeddings\n",
    "new_embeddings = nn.Embedding(russian_num_tokens, multilang_embedding_dim)\n",
    "new_embeddings.to(multilang_embeddings.weight.device)"
   ],
   "metadata": {
    "collapsed": false,
    "ExecuteTime": {
     "end_time": "2023-09-02T18:42:53.351656173Z",
     "start_time": "2023-09-02T18:42:53.170977862Z"
    }
   }
  },
  {
   "cell_type": "code",
   "execution_count": 13,
   "outputs": [
    {
     "name": "stdout",
     "output_type": "stream",
     "text": [
      "Embedding(22807, 768)\n",
      "Embedding(22807, 768)\n"
     ]
    }
   ],
   "source": [
    "# Copy weights for similar tokens and drop others\n",
    "i = 0\n",
    "j = 0\n",
    "for token in multilang_vocab:\n",
    "    if token in russian_vocab:\n",
    "        new_embeddings.weight.data[i, :] = multilang_embeddings.weight.data[j, :]\n",
    "        i += 1\n",
    "    j += 1\n",
    "\n",
    "multilang_model.set_input_embeddings(new_embeddings)\n",
    "\n",
    "print(multilang_model.get_input_embeddings())\n",
    "\n",
    "# Update base model and current model config\n",
    "multilang_model.config.vocab_size = russian_num_tokens\n",
    "multilang_model.vocab_size = russian_num_tokens\n",
    "\n",
    "# Tie weights\n",
    "multilang_model.tie_weights()\n",
    "\n",
    "print(multilang_model.get_input_embeddings())"
   ],
   "metadata": {
    "collapsed": false,
    "ExecuteTime": {
     "end_time": "2023-09-02T18:45:49.268247910Z",
     "start_time": "2023-09-02T18:42:53.330869572Z"
    }
   }
  },
  {
   "cell_type": "code",
   "execution_count": 14,
   "outputs": [
    {
     "name": "stdout",
     "output_type": "stream",
     "text": [
      "../../../../data/ml/mdeberta-russian/model  -   num_parameters :  103581463\n",
      "../../../../data/ml/mdeberta-russian/model  -   num_tokens :  22807\n"
     ]
    }
   ],
   "source": [
    "# Save new model\n",
    "multilang_model.save_pretrained(PATH_TO_NEW_MODEL)\n",
    "print(PATH_TO_NEW_MODEL, \" - \", \" num_parameters : \", multilang_model.num_parameters())\n",
    "print(PATH_TO_NEW_MODEL, \" - \", \" num_tokens : \", len(russian_vocab))"
   ],
   "metadata": {
    "collapsed": false,
    "ExecuteTime": {
     "end_time": "2023-09-02T18:45:53.426551957Z",
     "start_time": "2023-09-02T18:45:49.246928472Z"
    }
   }
  },
  {
   "cell_type": "code",
   "execution_count": 15,
   "outputs": [],
   "source": [
    "set_russian_vocab = set(russian_vocab)\n",
    "new_vocad = dict(filter(lambda pair: pair[0] in set_russian_vocab, multilang_tokenizer.vocab.items()))"
   ],
   "metadata": {
    "collapsed": false,
    "ExecuteTime": {
     "end_time": "2023-09-02T18:45:53.495216444Z",
     "start_time": "2023-09-02T18:45:53.431801360Z"
    }
   }
  },
  {
   "cell_type": "code",
   "execution_count": 16,
   "outputs": [
    {
     "data": {
      "text/plain": "{'[PAD]': 0,\n '[CLS]': 1,\n '[SEP]': 2,\n '[UNK]': 3,\n '.': 261,\n ',': 262,\n '-': 265,\n ':': 268,\n ')': 272,\n '/': 276,\n \"'\": 278,\n 'и': 280,\n '_': 291,\n '?': 292,\n '、': 293,\n '’': 294,\n ';': 297,\n '。': 307,\n 'а': 309,\n '!': 310,\n '\"': 312,\n '(': 313,\n 'е': 325,\n '3': 329,\n '2': 339,\n '،': 344,\n '1': 354,\n 'у': 355,\n '”': 366,\n '।': 379,\n 'я': 397,\n '4': 411,\n 'о': 412,\n '5': 429,\n 'ы': 434,\n '»': 437,\n ']': 440,\n '8': 450,\n '6': 452,\n '0': 461,\n '7': 488,\n '9': 496,\n 'м': 508,\n '\\\\': 541,\n 'й': 544,\n '&': 547,\n 'на': 559,\n 'т': 588,\n '“': 592,\n '{': 597,\n 'х': 606,\n 'но': 617,\n '・': 627,\n 'ом': 638,\n 'ки': 658,\n '10': 661,\n 'ни': 669,\n 'ка': 680,\n 'ов': 686,\n 'н': 687,\n '#': 718,\n 'для': 736,\n 'ю': 749,\n '[': 766,\n 'их': 778,\n 'ой': 818,\n '‘': 830,\n 'то': 833,\n 'ь': 834,\n '】': 837,\n '」': 880,\n '%': 882,\n 'ого': 894,\n '*': 895,\n 'р': 898,\n 'д': 903,\n 'г': 910,\n 'та': 919,\n 'л': 921,\n '「': 940,\n 'ите': 945,\n 'да': 946,\n 'с': 947,\n 'Р': 955,\n 'не': 958,\n 'ку': 990,\n 'ж': 991,\n 'п': 996,\n '11': 1004,\n 'ий': 1009,\n 'ей': 1012,\n 'га': 1035,\n 'к': 1041,\n 'ш': 1045,\n 'С': 1055,\n '@': 1062,\n 'ть': 1068,\n '12': 1088,\n 'им': 1105,\n 'же': 1109,\n '20': 1118,\n 'б': 1122,\n 'ли': 1123,\n '·': 1126,\n 'ен': 1127,\n 'ата': 1129,\n '88': 1131,\n 'ных': 1141,\n 'от': 1212,\n '30': 1250,\n 'ем': 1257,\n 'ах': 1261,\n 'те': 1272,\n '‚': 1292,\n 'ные': 1294,\n 'з': 1297,\n 'в': 1317,\n '–': 1327,\n 'ня': 1331,\n '003': 1334,\n 'ить': 1335,\n '15': 1344,\n 'ам': 1345,\n 'ет': 1349,\n '}': 1355,\n 'ок': 1359,\n 'ти': 1364,\n 'ны': 1367,\n 'ат': 1391,\n 'ного': 1401,\n '【': 1417,\n 'ия': 1420,\n 'ла': 1429,\n 'ая': 1432,\n '16': 1440,\n '18': 1454,\n '24': 1456,\n 'ами': 1503,\n 'ч': 1532,\n '13': 1580,\n 'ие': 1593,\n '00': 1601,\n 'ной': 1610,\n 'ке': 1626,\n 'ный': 1627,\n '22': 1631,\n 'них': 1633,\n 'ый': 1634,\n '14': 1636,\n '17': 1654,\n '19': 1667,\n 'го': 1678,\n 'де': 1705,\n '21': 1741,\n 'ди': 1746,\n 'ний': 1765,\n 'ва': 1790,\n '28': 1796,\n '25': 1800,\n 'его': 1803,\n 'ых': 1828,\n 'ын': 1845,\n 'нь': 1858,\n '«': 1886,\n 'ят': 1916,\n 'лар': 1934,\n 'ная': 1966,\n 'ц': 1970,\n '50': 1971,\n 'ма': 1978,\n 'ил': 2008,\n 'ения': 2014,\n '—': 2015,\n 'ан': 2058,\n 'В': 2081,\n 'ды': 2085,\n 'ко': 2094,\n 'ну': 2098,\n 'дан': 2104,\n '23': 2117,\n 'Г': 2121,\n 'ё': 2123,\n '29': 2127,\n '05': 2151,\n '01': 2153,\n '၊': 2176,\n 'ты': 2204,\n 'или': 2224,\n '27': 2231,\n 'ин': 2250,\n '100': 2252,\n 'ому': 2267,\n '؟': 2274,\n 'бы': 2315,\n 'К': 2328,\n '40': 2335,\n 'ча': 2381,\n 'ге': 2387,\n 'ар': 2401,\n 'за': 2416,\n 'ит': 2417,\n '26': 2428,\n 'А': 2429,\n 'ць': 2440,\n 'ган': 2453,\n 'ните': 2473,\n 'он': 2476,\n '03': 2498,\n '《': 2519,\n 'ую': 2537,\n '66': 2543,\n 'ми': 2567,\n 'ния': 2573,\n 'ным': 2588,\n 'ым': 2602,\n '》': 2641,\n 'ба': 2645,\n '365': 2655,\n '31': 2682,\n 'ности': 2684,\n 'са': 2694,\n '02': 2700,\n 'ло': 2703,\n 'ение': 2730,\n 'ном': 2739,\n '07': 2751,\n '։': 2774,\n 'му': 2777,\n 'ната': 2779,\n 'ется': 2794,\n '08': 2839,\n 'М': 2882,\n '60': 2887,\n 'ски': 2900,\n 'ник': 2914,\n 'що': 2932,\n 'ме': 2935,\n 'ова': 2941,\n '』': 2964,\n 'ып': 2971,\n 'Б': 2977,\n 'ийн': 2981,\n '90': 2993,\n 'ые': 3003,\n '06': 3024,\n 'Д': 3042,\n 'ити': 3045,\n '04': 3050,\n 'сы': 3051,\n 'ное': 3054,\n '¿': 3116,\n 'ша': 3123,\n 'О': 3170,\n 'ее': 3206,\n 'ии': 3230,\n 'нинг': 3248,\n 'П': 3252,\n 'они': 3267,\n 'ска': 3274,\n 'ля': 3284,\n 'ле': 3286,\n '45': 3301,\n '¶': 3311,\n '80': 3314,\n 'ним': 3319,\n '32': 3323,\n 'ту': 3331,\n 'может': 3332,\n '35': 3338,\n 'мен': 3341,\n '።': 3370,\n '99': 3378,\n 'ф': 3379,\n '36': 3385,\n 'во': 3388,\n 'Х': 3392,\n 'можно': 3395,\n 'ою': 3398,\n '09': 3413,\n '70': 3430,\n 'ими': 3441,\n 'ер': 3448,\n 'сан': 3449,\n 'ца': 3451,\n '200': 3465,\n 'ето': 3472,\n '『': 3475,\n '2019': 3557,\n 'ое': 3577,\n 'али': 3581,\n 'только': 3584,\n 'ство': 3588,\n 'тар': 3592,\n '။': 3611,\n '។': 3622,\n 'ника': 3637,\n 'ся': 3638,\n 'ев': 3643,\n 'ила': 3672,\n 'ше': 3681,\n 'ют': 3696,\n 'ал': 3726,\n '46': 3758,\n '§': 3793,\n '•': 3795,\n 'того': 3813,\n 'ства': 3857,\n '۔': 3883,\n 'ков': 3889,\n 'У': 3901,\n 'ную': 3927,\n 'иб': 3949,\n '64': 3951,\n 'ком': 3952,\n 'гийн': 3960,\n 'Ф': 4005,\n 'ится': 4014,\n '፣': 4016,\n 'Ш': 4018,\n 'до': 4023,\n 'би': 4059,\n 'тай': 4069,\n '91': 4100,\n 'ци': 4133,\n '2018': 4138,\n 'ування': 4145,\n 'уже': 4151,\n 'иш': 4161,\n 'З': 4170,\n '55': 4181,\n 'мо': 4182,\n 'чи': 4190,\n 'ете': 4198,\n 'ях': 4203,\n 'ина': 4230,\n 'кой': 4239,\n 'рез': 4250,\n '500': 4258,\n 'че': 4263,\n '؛': 4267,\n 'Т': 4274,\n '33': 4283,\n '43': 4298,\n '39': 4306,\n '›': 4315,\n '48': 4318,\n '42': 4347,\n 'ът': 4353,\n '38': 4386,\n 'И': 4405,\n '65': 4412,\n 'ор': 4448,\n '41': 4454,\n 'будет': 4467,\n 'це': 4478,\n '77': 4496,\n '34': 4508,\n 'ра': 4532,\n 'ри': 4547,\n 'ання': 4552,\n '61': 4598,\n '‹': 4605,\n 'тер': 4638,\n 'ро': 4684,\n 'которые': 4691,\n 'ью': 4723,\n 'како': 4763,\n 'ум': 4767,\n 'ност': 4775,\n '44': 4776,\n '58': 4783,\n '86': 4785,\n '53': 4796,\n '300': 4800,\n 'ува': 4804,\n '51': 4813,\n 'си': 4833,\n 'было': 4847,\n 'ай': 4856,\n '՝': 4895,\n 'ться': 4903,\n '95': 4911,\n 'ында': 4943,\n 'ать': 4947,\n 'если': 4982,\n '54': 4999,\n '82': 5002,\n 'ове': 5035,\n '56': 5038,\n 'Для': 5042,\n '¡': 5056,\n 'ской': 5085,\n '69': 5110,\n 'ха': 5169,\n 'ена': 5173,\n '92': 5174,\n '52': 5186,\n 'ям': 5191,\n 'ката': 5192,\n '63': 5210,\n 'ви': 5248,\n 'ять': 5250,\n 'ст': 5282,\n 'се': 5286,\n '72': 5297,\n 'ито': 5307,\n 'ел': 5315,\n '75': 5376,\n '78': 5391,\n 'гу': 5401,\n 'руб': 5420,\n '49': 5429,\n 'зи': 5437,\n '57': 5440,\n 'более': 5457,\n 'по': 5462,\n 'иться': 5478,\n 'има': 5480,\n 'ён': 5487,\n 'дар': 5489,\n 'ген': 5498,\n 'ние': 5512,\n 'Я': 5554,\n '81': 5565,\n '98': 5578,\n 'лик': 5591,\n '85': 5603,\n '97': 5610,\n 'ала': 5611,\n 'ает': 5614,\n '62': 5619,\n '2017': 5625,\n '89': 5656,\n 'као': 5665,\n 'очень': 5712,\n 'ман': 5729,\n 'шы': 5740,\n 'лари': 5746,\n 'ги': 5772,\n '94': 5787,\n 'ако': 5790,\n 'цы': 5813,\n '2016': 5816,\n '37': 5820,\n 'жа': 5826,\n '„': 5842,\n '67': 5849,\n '59': 5851,\n 'ская': 5869,\n 'ность': 5871,\n 'ными': 5886,\n 'ида': 5888,\n '47': 5921,\n 'ден': 5935,\n '2020': 5954,\n '400': 5955,\n 'ено': 5959,\n '93': 5983,\n 'па': 6006,\n 'Ц': 6010,\n 'ног': 6012,\n 'Е': 6024,\n '2015': 6041,\n 'ик': 6046,\n '87': 6049,\n '71': 6086,\n '73': 6092,\n 'ак': 6101,\n 'Л': 6126,\n 'ский': 6149,\n 'ках': 6151,\n '74': 6160,\n '84': 6161,\n 'Ч': 6171,\n 'ут': 6204,\n '043': 6209,\n 'су': 6214,\n 'ана': 6252,\n 'бу': 6292,\n 'ив': 6315,\n '96': 6340,\n 'ото': 6366,\n '1000': 6372,\n 'лы': 6376,\n 'ята': 6377,\n 'тому': 6445,\n '79': 6450,\n 'этом': 6463,\n 'ному': 6473,\n 'чу': 6482,\n 'еще': 6487,\n 'тан': 6489,\n 'когда': 6526,\n 'э': 6589,\n '68': 6610,\n 'ян': 6630,\n 'ского': 6694,\n 'Н': 6739,\n 'рд': 6740,\n 'ати': 6747,\n '2014': 6754,\n 'Ж': 6759,\n '250': 6761,\n '83': 6777,\n 'ад': 6815,\n 'купить': 6834,\n 'Если': 6836,\n 'где': 6841,\n 'ват': 6882,\n 'ини': 6900,\n '600': 6923,\n 'най': 7060,\n 'ует': 7078,\n '76': 7082,\n 'рын': 7086,\n 'сон': 7102,\n 'гляд': 7133,\n 'ске': 7150,\n 'ду': 7151,\n 'Это': 7174,\n '५': 7219,\n 'ното': 7225,\n '‡': 7228,\n 'лан': 7241,\n 'ек': 7266,\n 'ени': 7279,\n 'ёр': 7280,\n '―': 7307,\n 'кон': 7356,\n '2000': 7368,\n 'из': 7385,\n 'ъ': 7392,\n '150': 7396,\n 'нд': 7409,\n 'ации': 7548,\n 'гда': 7585,\n 'ови': 7596,\n 'кам': 7598,\n '888': 7661,\n 'ця': 7678,\n 'кои': 7711,\n 'ями': 7718,\n 'сэн': 7738,\n 'бор': 7767,\n '׳': 7772,\n 'тази': 7788,\n '†': 7790,\n 'року': 7796,\n 'ення': 7805,\n 'ады': 7809,\n 'вар': 7847,\n 'ления': 7880,\n 'ских': 7902,\n 'сё': 7913,\n 'тен': 7927,\n '〜': 7947,\n 'ол': 7964,\n 'ация': 7967,\n 'ается': 7991,\n 'овой': 8051,\n 'аны': 8057,\n 'овые': 8084,\n 'лийн': 8152,\n 'дин': 8153,\n 'сти': 8163,\n 'ками': 8227,\n 'ья': 8232,\n '120': 8275,\n 'дзе': 8288,\n 'ру': 8310,\n 'лю': 8333,\n 'дат': 8372,\n 'ници': 8400,\n 'нэ': 8401,\n 'чы': 8419,\n 'Э': 8422,\n 'тэй': 8472,\n 'ження': 8480,\n 'ль': 8502,\n 'ща': 8527,\n 'жана': 8540,\n 'пер': 8550,\n '800': 8579,\n 'ър': 8588,\n 'треба': 8646,\n 'ве': 8671,\n 'ння': 8672,\n 'ира': 8677,\n 'бе': 8685,\n '360': 8782,\n 'гар': 8826,\n 'йти': 8830,\n 'ъв': 8834,\n 'ийг': 8842,\n 'ши': 8867,\n 'ец': 8906,\n 'щ': 8915,\n 'Ю': 8945,\n 'менен': 8958,\n 'кто': 8974,\n 'эн': 8979,\n 'ване': 9026,\n '777': 9050,\n 'од': 9068,\n 'ына': 9076,\n 'тря': 9109,\n '700': 9130,\n 'ход': 9241,\n 'увати': 9242,\n 'делать': 9250,\n 'ении': 9265,\n 'ового': 9274,\n 'нат': 9317,\n 'ава': 9349,\n 'вер': 9428,\n 'сколько': 9440,\n 'ники': 9452,\n 'кер': 9529,\n 'сь': 9530,\n 'гэж': 9536,\n '2012': 9549,\n 'ско': 9550,\n 'шка': 9568,\n 'ож': 9584,\n 'была': 9595,\n 'бо': 9600,\n 'ыя': 9640,\n 'уть': 9647,\n 'зе': 9672,\n 'раз': 9674,\n 'ун': 9701,\n 'ция': 9708,\n 'вод': 9709,\n 'ница': 9713,\n '2013': 9729,\n 'бар': 9730,\n 'ре': 9733,\n 'ради': 9761,\n 'ему': 9782,\n 'За': 9787,\n 'ости': 9809,\n 'ндай': 9835,\n '၏': 9851,\n 'чун': 9902,\n 'ними': 9915,\n 'ают': 9948,\n '፡': 10004,\n 'этому': 10006,\n 'нага': 10015,\n 'лу': 10039,\n 'една': 10049,\n '०': 10058,\n 'ул': 10079,\n '2010': 10086,\n 'мер': 10132,\n 'ади': 10134,\n 'рок': 10143,\n 'лын': 10164,\n 'тор': 10182,\n 'овых': 10198,\n 'мы': 10227,\n 'тоа': 10237,\n 'лось': 10264,\n 'стан': 10268,\n 'нее': 10270,\n 'вести': 10290,\n 'бити': 10335,\n 'сын': 10366,\n 'ху': 10376,\n 'ява': 10389,\n 'ём': 10442,\n 'лення': 10447,\n 'ица': 10473,\n 'ском': 10475,\n 'ають': 10493,\n '900': 10539,\n 'Щ': 10540,\n 'ав': 10568,\n 'вся': 10578,\n 'ще': 10591,\n 'ск': 10615,\n '450': 10625,\n 'ог': 10637,\n '६': 10672,\n 'ень': 10697,\n '〖': 10751,\n 'На': 10752,\n '160': 10787,\n 'лог': 10792,\n 'бва': 10793,\n 'няма': 10811,\n 'щу': 10815,\n 'той': 10856,\n '000': 10875,\n 'ального': 10877,\n 'еш': 10899,\n 'чего': 10995,\n 'ас': 11065,\n 'она': 11066,\n 'ныя': 11068,\n 'всем': 11070,\n 'ус': 11084,\n 'йил': 11114,\n 'тым': 11148,\n 'сть': 11157,\n 'ряд': 11168,\n 'ступ': 11219,\n 'По': 11234,\n 'Ако': 11349,\n '123': 11353,\n 'ются': 11355,\n 'ился': 11383,\n 'ников': 11408,\n 'вен': 11437,\n '5000': 11446,\n 'ких': 11457,\n 'об': 11483,\n 'ките': 11521,\n 'кор': 11541,\n 'вы': 11549,\n 'атын': 11562,\n 'гер': 11592,\n 'ската': 11634,\n 'рат': 11639,\n 'вал': 11691,\n '2011': 11717,\n 'ские': 11723,\n '111': 11725,\n 'кан': 11745,\n 'дер': 11747,\n 'лары': 11779,\n 'тки': 11790,\n 'бек': 11841,\n '፤': 11853,\n 'алып': 11862,\n 'дор': 11922,\n 'ву': 11937,\n 'ият': 11945,\n 'ант': 11967,\n 'анд': 11973,\n 'истон': 11999,\n 'уд': 12060,\n 'дын': 12063,\n 'ес': 12077,\n '110': 12089,\n 'дир': 12092,\n 'жи': 12097,\n 'чин': 12108,\n 'ани': 12129,\n '০': 12130,\n 'щи': 12135,\n 'године': 12143,\n 'вляется': 12147,\n 'жээ': 12199,\n 'Ы': 12247,\n 'ара': 12251,\n 'энэ': 12252,\n 'ально': 12270,\n 'мон': 12321,\n 'ост': 12340,\n 'лер': 12350,\n 'ир': 12353,\n 'кен': 12374,\n '〗': 12405,\n '2009': 12461,\n 'ага': 12515,\n 'дня': 12516,\n 'кого': 12533,\n 'яна': 12546,\n 'лаш': 12549,\n '180': 12552,\n 'ходит': 12561,\n 'бер': 12570,\n 'так': 12622,\n 'десь': 12682,\n 'яго': 12709,\n 'мар': 12720,\n 'фа': 12726,\n '৩': 12732,\n 'оз': 12766,\n 'дам': 12800,\n '७': 12829,\n 'лек': 12874,\n 'яет': 12961,\n 'ван': 12966,\n 'ье': 12968,\n 'аться': 13018,\n 'ева': 13025,\n 'ларга': 13033,\n 'лег': 13035,\n '႔': 13056,\n 'гон': 13085,\n 'Курс': 13090,\n 'ээ': 13119,\n 'поред': 13186,\n '320': 13196,\n 'сад': 13249,\n 'альный': 13267,\n 'вот': 13308,\n 'лся': 13311,\n '356': 13315,\n 'йте': 13339,\n 'што': 13367,\n 'чен': 13383,\n 'кога': 13389,\n 'ине': 13391,\n 'ению': 13398,\n '125': 13422,\n 'имо': 13444,\n 'ших': 13482,\n 'ток': 13486,\n '350': 13491,\n 'ято': 13514,\n 'ниот': 13551,\n 'дали': 13560,\n 'кова': 13578,\n 'лись': 13630,\n 'ович': 13641,\n 'тися': 13643,\n 'ию': 13648,\n 'ього': 13653,\n 'разу': 13677,\n 'ностью': 13702,\n 'ление': 13706,\n 'ней': 13715,\n 'шли': 13724,\n 'ох': 13756,\n 'тары': 13790,\n 'ительно': 13821,\n 'ос': 13832,\n 'нес': 13855,\n 'рт': 13867,\n 'ыми': 13888,\n 'нем': 13889,\n 'ейчас': 13891,\n 'ларни': 13910,\n 'клад': 13941,\n '666': 13963,\n 'ню': 13968,\n 'дел': 13987,\n 'ського': 13989,\n '140': 14053,\n 'РФ': 14057,\n '112': 14062,\n '৫': 14066,\n 'ёт': 14079,\n 'ують': 14093,\n 'кий': 14105,\n '750': 14109,\n 'ятся': 14111,\n 'ъл': 14116,\n 'знач': 14155,\n 'тку': 14160,\n 'ист': 14210,\n 'шення': 14221,\n 'ур': 14223,\n 'ску': 14224,\n 'лучш': 14260,\n 'ика': 14315,\n 'будь': 14320,\n 'зу': 14321,\n 'ээр': 14352,\n 'ений': 14354,\n 'ама': 14355,\n '४': 14361,\n 'пи': 14381,\n 'ило': 14386,\n 'було': 14405,\n 'том': 14435,\n 'шу': 14465,\n 'сыз': 14482,\n 'ових': 14484,\n '918': 14490,\n 'эр': 14525,\n 'мет': 14547,\n 'гор': 14549,\n 'хи': 14555,\n 'ировать': 14603,\n 'даги': 14616,\n 'Ё': 14682,\n 'ились': 14725,\n 'още': 14735,\n 'глед': 14755,\n 'лет': 14794,\n 'едь': 14798,\n '‐': 14821,\n 'рак': 14837,\n 'даг': 14838,\n 'када': 14872,\n 'говор': 14879,\n '‰': 14908,\n 'рад': 14911,\n 'ста': 14924,\n 'чки': 14932,\n 'лай': 14948,\n 'игры': 14954,\n '114': 15006,\n 'зо': 15013,\n 'лага': 15015,\n 'тон': 15031,\n '३': 15046,\n '৪': 15051,\n 'ением': 15063,\n 'лен': 15081,\n 'Что': 15089,\n 'скачать': 15126,\n '८': 15132,\n '3000': 15136,\n 'више': 15149,\n 'чь': 15150,\n 'било': 15154,\n 'ною': 15157,\n 'ким': 15175,\n 'пен': 15199,\n 'иши': 15236,\n 'дай': 15237,\n 'бай': 15241,\n 'ры': 15254,\n 'казать': 15309,\n 'ио': 15317,\n 'над': 15324,\n 'илась': 15352,\n 'лучше': 15355,\n 'ък': 15372,\n 'нення': 15379,\n 'Про': 15396,\n '240': 15403,\n 'ьного': 15421,\n 'ците': 15427,\n '101': 15430,\n 'вече': 15431,\n 'ции': 15437,\n 'уваат': 15444,\n 'хай': 15448,\n 'рон': 15501,\n 'ис': 15523,\n 'хоч': 15525,\n 'лык': 15543,\n 'около': 15563,\n 'ично': 15568,\n '′': 15586,\n 'нг': 15587,\n 'месте': 15632,\n 'хан': 15670,\n 'тя': 15689,\n 'ларнинг': 15697,\n 'казино': 15705,\n 'стой': 15744,\n 'ьных': 15752,\n '[]': 15795,\n 'сто': 15800,\n 'ров': 15837,\n 'месе': 15874,\n 'яка': 15900,\n 'инг': 15913,\n '৬': 15920,\n 'лов': 16027,\n 'смотреть': 16046,\n 'олон': 16074,\n 'юу': 16077,\n 'колко': 16092,\n '4000': 16119,\n 'эг': 16135,\n '999': 16150,\n 'був': 16151,\n 'уге': 16160,\n '१': 16195,\n 'иот': 16202,\n 'сия': 16220,\n 'стер': 16226,\n 'кар': 16229,\n 'щото': 16247,\n 'ыг': 16256,\n 'при': 16297,\n 'ъм': 16313,\n 'кою': 16315,\n 'зор': 16326,\n 'ед': 16356,\n 'ран': 16371,\n 'Купить': 16419,\n '128': 16421,\n 'жу': 16426,\n 'ларини': 16459,\n 'счита': 16495,\n 'лаб': 16523,\n 'дет': 16530,\n '2008': 16543,\n 'енных': 16550,\n 'айн': 16554,\n 'мин': 16562,\n 'Скачать': 16573,\n '၀': 16615,\n 'нар': 16623,\n 'куп': 16625,\n 'ният': 16646,\n 'илган': 16683,\n 'яване': 16694,\n 'нча': 16700,\n '220': 16732,\n '৭': 16753,\n ...}"
     },
     "execution_count": 16,
     "metadata": {},
     "output_type": "execute_result"
    }
   ],
   "source": [
    "new_vocad"
   ],
   "metadata": {
    "collapsed": false,
    "ExecuteTime": {
     "end_time": "2023-09-02T18:45:53.544665674Z",
     "start_time": "2023-09-02T18:45:53.494780348Z"
    }
   }
  },
  {
   "cell_type": "markdown",
   "source": [
    "# Adjust sequence piece tokenizer "
   ],
   "metadata": {
    "collapsed": false
   }
  },
  {
   "cell_type": "code",
   "execution_count": null,
   "outputs": [],
   "source": [
    "! wget https://raw.githubusercontent.com/google/sentencepiece/master/src/sentencepiece_model.proto"
   ],
   "metadata": {
    "collapsed": false
   }
  },
  {
   "cell_type": "code",
   "execution_count": null,
   "outputs": [],
   "source": [
    "! protoc --python_out=. sentencepiece_model.proto"
   ],
   "metadata": {
    "collapsed": false
   }
  },
  {
   "cell_type": "code",
   "execution_count": 13,
   "outputs": [
    {
     "data": {
      "text/plain": "PreTrainedTokenizerFast(name_or_path='microsoft/mdeberta-v3-base', vocab_size=250101, model_max_len=1000000000000000019884624838656, is_fast=True, padding_side='right', truncation_side='right', special_tokens={'bos_token': '[CLS]', 'eos_token': '[SEP]', 'unk_token': '[UNK]', 'sep_token': '[SEP]', 'pad_token': '[PAD]', 'cls_token': '[CLS]', 'mask_token': '[MASK]'})"
     },
     "execution_count": 13,
     "metadata": {},
     "output_type": "execute_result"
    }
   ],
   "source": [
    "multilang_tokenizer"
   ],
   "metadata": {
    "collapsed": false,
    "ExecuteTime": {
     "end_time": "2023-09-02T17:42:33.057602850Z",
     "start_time": "2023-09-02T17:42:32.979800878Z"
    }
   }
  },
  {
   "cell_type": "code",
   "execution_count": 17,
   "outputs": [
    {
     "data": {
      "text/plain": "('../../../../data/ml/mdeberta-russian/tokenizer/tokenizer_config.json',\n '../../../../data/ml/mdeberta-russian/tokenizer/special_tokens_map.json',\n '../../../../data/ml/mdeberta-russian/tokenizer/spm.model',\n '../../../../data/ml/mdeberta-russian/tokenizer/added_tokens.json')"
     },
     "execution_count": 17,
     "metadata": {},
     "output_type": "execute_result"
    }
   ],
   "source": [
    "multilang_tokenizer.save_pretrained(PATH_TO_NEW_TOKENIZER)"
   ],
   "metadata": {
    "collapsed": false,
    "ExecuteTime": {
     "end_time": "2023-09-02T18:45:53.618881878Z",
     "start_time": "2023-09-02T18:45:53.539200808Z"
    }
   }
  },
  {
   "cell_type": "code",
   "execution_count": 18,
   "outputs": [],
   "source": [
    "import sentencepiece_model_pb2 as spmp"
   ],
   "metadata": {
    "collapsed": false,
    "ExecuteTime": {
     "end_time": "2023-09-02T18:45:53.619123982Z",
     "start_time": "2023-09-02T18:45:53.583041087Z"
    }
   }
  },
  {
   "cell_type": "code",
   "execution_count": 19,
   "outputs": [],
   "source": [
    "smp = multilang_tokenizer._tokenizer.spm.serialized_model_proto()"
   ],
   "metadata": {
    "collapsed": false,
    "ExecuteTime": {
     "end_time": "2023-09-02T18:45:53.619253213Z",
     "start_time": "2023-09-02T18:45:53.598260325Z"
    }
   }
  },
  {
   "cell_type": "code",
   "execution_count": 20,
   "outputs": [],
   "source": [
    "smp"
   ],
   "metadata": {
    "collapsed": false,
    "ExecuteTime": {
     "end_time": "2023-09-02T18:45:53.794108094Z",
     "start_time": "2023-09-02T18:45:53.601699098Z"
    }
   }
  },
  {
   "cell_type": "code",
   "execution_count": 22,
   "outputs": [
    {
     "data": {
      "text/plain": "4305025"
     },
     "execution_count": 22,
     "metadata": {},
     "output_type": "execute_result"
    }
   ],
   "source": [
    "m = spmp.ModelProto()\n",
    "m.ParseFromString(smp)"
   ],
   "metadata": {
    "collapsed": false,
    "ExecuteTime": {
     "end_time": "2023-09-02T18:51:35.919464371Z",
     "start_time": "2023-09-02T18:51:35.765689214Z"
    }
   }
  },
  {
   "cell_type": "code",
   "execution_count": 23,
   "outputs": [],
   "source": [
    "m"
   ],
   "metadata": {
    "collapsed": false,
    "ExecuteTime": {
     "end_time": "2023-09-02T18:51:40.396558747Z",
     "start_time": "2023-09-02T18:51:37.591175582Z"
    }
   }
  },
  {
   "cell_type": "code",
   "execution_count": 24,
   "outputs": [],
   "source": [
    "# Disable splitting unknown chars to utf bytes, because we know all tokens what we need\n",
    "m.trainer_spec.byte_fallback = False"
   ],
   "metadata": {
    "collapsed": false,
    "ExecuteTime": {
     "end_time": "2023-09-02T18:51:44.402947088Z",
     "start_time": "2023-09-02T18:51:44.347033280Z"
    }
   }
  },
  {
   "cell_type": "code",
   "execution_count": 32,
   "outputs": [
    {
     "name": "stdout",
     "output_type": "stream",
     "text": [
      "[piece: \"[PAD]\"\n",
      "score: 0.0\n",
      "type: CONTROL\n",
      ", piece: \"[CLS]\"\n",
      "score: 0.0\n",
      "type: CONTROL\n",
      ", piece: \"[SEP]\"\n",
      "score: 0.0\n",
      "type: CONTROL\n",
      ", piece: \"[UNK]\"\n",
      "score: 0.0\n",
      "type: UNKNOWN\n",
      ", piece: \"<0x00>\"\n",
      "score: 0.0\n",
      "type: BYTE\n",
      ", piece: \"<0x01>\"\n",
      "score: 0.0\n",
      "type: BYTE\n",
      ", piece: \"<0x02>\"\n",
      "score: 0.0\n",
      "type: BYTE\n",
      ", piece: \"<0x03>\"\n",
      "score: 0.0\n",
      "type: BYTE\n",
      ", piece: \"<0x04>\"\n",
      "score: 0.0\n",
      "type: BYTE\n",
      ", piece: \"<0x05>\"\n",
      "score: 0.0\n",
      "type: BYTE\n",
      ", piece: \"<0x06>\"\n",
      "score: 0.0\n",
      "type: BYTE\n",
      ", piece: \"<0x07>\"\n",
      "score: 0.0\n",
      "type: BYTE\n",
      ", piece: \"<0x08>\"\n",
      "score: 0.0\n",
      "type: BYTE\n",
      ", piece: \"<0x09>\"\n",
      "score: 0.0\n",
      "type: BYTE\n",
      ", piece: \"<0x0A>\"\n",
      "score: 0.0\n",
      "type: BYTE\n",
      ", piece: \"<0x0B>\"\n",
      "score: 0.0\n",
      "type: BYTE\n",
      ", piece: \"<0x0C>\"\n",
      "score: 0.0\n",
      "type: BYTE\n",
      ", piece: \"<0x0D>\"\n",
      "score: 0.0\n",
      "type: BYTE\n",
      ", piece: \"<0x0E>\"\n",
      "score: 0.0\n",
      "type: BYTE\n",
      ", piece: \"<0x0F>\"\n",
      "score: 0.0\n",
      "type: BYTE\n",
      ", piece: \"<0x10>\"\n",
      "score: 0.0\n",
      "type: BYTE\n",
      ", piece: \"<0x11>\"\n",
      "score: 0.0\n",
      "type: BYTE\n",
      ", piece: \"<0x12>\"\n",
      "score: 0.0\n",
      "type: BYTE\n",
      ", piece: \"<0x13>\"\n",
      "score: 0.0\n",
      "type: BYTE\n",
      ", piece: \"<0x14>\"\n",
      "score: 0.0\n",
      "type: BYTE\n",
      ", piece: \"<0x15>\"\n",
      "score: 0.0\n",
      "type: BYTE\n",
      ", piece: \"<0x16>\"\n",
      "score: 0.0\n",
      "type: BYTE\n",
      ", piece: \"<0x17>\"\n",
      "score: 0.0\n",
      "type: BYTE\n",
      ", piece: \"<0x18>\"\n",
      "score: 0.0\n",
      "type: BYTE\n",
      ", piece: \"<0x19>\"\n",
      "score: 0.0\n",
      "type: BYTE\n",
      ", piece: \"<0x1A>\"\n",
      "score: 0.0\n",
      "type: BYTE\n",
      ", piece: \"<0x1B>\"\n",
      "score: 0.0\n",
      "type: BYTE\n",
      ", piece: \"<0x1C>\"\n",
      "score: 0.0\n",
      "type: BYTE\n",
      ", piece: \"<0x1D>\"\n",
      "score: 0.0\n",
      "type: BYTE\n",
      ", piece: \"<0x1E>\"\n",
      "score: 0.0\n",
      "type: BYTE\n",
      ", piece: \"<0x1F>\"\n",
      "score: 0.0\n",
      "type: BYTE\n",
      ", piece: \"<0x20>\"\n",
      "score: 0.0\n",
      "type: BYTE\n",
      ", piece: \"<0x21>\"\n",
      "score: 0.0\n",
      "type: BYTE\n",
      ", piece: \"<0x22>\"\n",
      "score: 0.0\n",
      "type: BYTE\n",
      ", piece: \"<0x23>\"\n",
      "score: 0.0\n",
      "type: BYTE\n",
      ", piece: \"<0x24>\"\n",
      "score: 0.0\n",
      "type: BYTE\n",
      ", piece: \"<0x25>\"\n",
      "score: 0.0\n",
      "type: BYTE\n",
      ", piece: \"<0x26>\"\n",
      "score: 0.0\n",
      "type: BYTE\n",
      ", piece: \"<0x27>\"\n",
      "score: 0.0\n",
      "type: BYTE\n",
      ", piece: \"<0x28>\"\n",
      "score: 0.0\n",
      "type: BYTE\n",
      ", piece: \"<0x29>\"\n",
      "score: 0.0\n",
      "type: BYTE\n",
      ", piece: \"<0x2A>\"\n",
      "score: 0.0\n",
      "type: BYTE\n",
      ", piece: \"<0x2B>\"\n",
      "score: 0.0\n",
      "type: BYTE\n",
      ", piece: \"<0x2C>\"\n",
      "score: 0.0\n",
      "type: BYTE\n",
      ", piece: \"<0x2D>\"\n",
      "score: 0.0\n",
      "type: BYTE\n",
      ", piece: \"<0x2E>\"\n",
      "score: 0.0\n",
      "type: BYTE\n",
      ", piece: \"<0x2F>\"\n",
      "score: 0.0\n",
      "type: BYTE\n",
      ", piece: \"<0x30>\"\n",
      "score: 0.0\n",
      "type: BYTE\n",
      ", piece: \"<0x31>\"\n",
      "score: 0.0\n",
      "type: BYTE\n",
      ", piece: \"<0x32>\"\n",
      "score: 0.0\n",
      "type: BYTE\n",
      ", piece: \"<0x33>\"\n",
      "score: 0.0\n",
      "type: BYTE\n",
      ", piece: \"<0x34>\"\n",
      "score: 0.0\n",
      "type: BYTE\n",
      ", piece: \"<0x35>\"\n",
      "score: 0.0\n",
      "type: BYTE\n",
      ", piece: \"<0x36>\"\n",
      "score: 0.0\n",
      "type: BYTE\n",
      ", piece: \"<0x37>\"\n",
      "score: 0.0\n",
      "type: BYTE\n",
      ", piece: \"<0x38>\"\n",
      "score: 0.0\n",
      "type: BYTE\n",
      ", piece: \"<0x39>\"\n",
      "score: 0.0\n",
      "type: BYTE\n",
      ", piece: \"<0x3A>\"\n",
      "score: 0.0\n",
      "type: BYTE\n",
      ", piece: \"<0x3B>\"\n",
      "score: 0.0\n",
      "type: BYTE\n",
      ", piece: \"<0x3C>\"\n",
      "score: 0.0\n",
      "type: BYTE\n",
      ", piece: \"<0x3D>\"\n",
      "score: 0.0\n",
      "type: BYTE\n",
      ", piece: \"<0x3E>\"\n",
      "score: 0.0\n",
      "type: BYTE\n",
      ", piece: \"<0x3F>\"\n",
      "score: 0.0\n",
      "type: BYTE\n",
      ", piece: \"<0x40>\"\n",
      "score: 0.0\n",
      "type: BYTE\n",
      ", piece: \"<0x41>\"\n",
      "score: 0.0\n",
      "type: BYTE\n",
      ", piece: \"<0x42>\"\n",
      "score: 0.0\n",
      "type: BYTE\n",
      ", piece: \"<0x43>\"\n",
      "score: 0.0\n",
      "type: BYTE\n",
      ", piece: \"<0x44>\"\n",
      "score: 0.0\n",
      "type: BYTE\n",
      ", piece: \"<0x45>\"\n",
      "score: 0.0\n",
      "type: BYTE\n",
      ", piece: \"<0x46>\"\n",
      "score: 0.0\n",
      "type: BYTE\n",
      ", piece: \"<0x47>\"\n",
      "score: 0.0\n",
      "type: BYTE\n",
      ", piece: \"<0x48>\"\n",
      "score: 0.0\n",
      "type: BYTE\n",
      ", piece: \"<0x49>\"\n",
      "score: 0.0\n",
      "type: BYTE\n",
      ", piece: \"<0x4A>\"\n",
      "score: 0.0\n",
      "type: BYTE\n",
      ", piece: \"<0x4B>\"\n",
      "score: 0.0\n",
      "type: BYTE\n",
      ", piece: \"<0x4C>\"\n",
      "score: 0.0\n",
      "type: BYTE\n",
      ", piece: \"<0x4D>\"\n",
      "score: 0.0\n",
      "type: BYTE\n",
      ", piece: \"<0x4E>\"\n",
      "score: 0.0\n",
      "type: BYTE\n",
      ", piece: \"<0x4F>\"\n",
      "score: 0.0\n",
      "type: BYTE\n",
      ", piece: \"<0x50>\"\n",
      "score: 0.0\n",
      "type: BYTE\n",
      ", piece: \"<0x51>\"\n",
      "score: 0.0\n",
      "type: BYTE\n",
      ", piece: \"<0x52>\"\n",
      "score: 0.0\n",
      "type: BYTE\n",
      ", piece: \"<0x53>\"\n",
      "score: 0.0\n",
      "type: BYTE\n",
      ", piece: \"<0x54>\"\n",
      "score: 0.0\n",
      "type: BYTE\n",
      ", piece: \"<0x55>\"\n",
      "score: 0.0\n",
      "type: BYTE\n",
      ", piece: \"<0x56>\"\n",
      "score: 0.0\n",
      "type: BYTE\n",
      ", piece: \"<0x57>\"\n",
      "score: 0.0\n",
      "type: BYTE\n",
      ", piece: \"<0x58>\"\n",
      "score: 0.0\n",
      "type: BYTE\n",
      ", piece: \"<0x59>\"\n",
      "score: 0.0\n",
      "type: BYTE\n",
      ", piece: \"<0x5A>\"\n",
      "score: 0.0\n",
      "type: BYTE\n",
      ", piece: \"<0x5B>\"\n",
      "score: 0.0\n",
      "type: BYTE\n",
      ", piece: \"<0x5C>\"\n",
      "score: 0.0\n",
      "type: BYTE\n",
      ", piece: \"<0x5D>\"\n",
      "score: 0.0\n",
      "type: BYTE\n",
      ", piece: \"<0x5E>\"\n",
      "score: 0.0\n",
      "type: BYTE\n",
      ", piece: \"<0x5F>\"\n",
      "score: 0.0\n",
      "type: BYTE\n",
      ", piece: \"<0x60>\"\n",
      "score: 0.0\n",
      "type: BYTE\n",
      ", piece: \"<0x61>\"\n",
      "score: 0.0\n",
      "type: BYTE\n",
      ", piece: \"<0x62>\"\n",
      "score: 0.0\n",
      "type: BYTE\n",
      ", piece: \"<0x63>\"\n",
      "score: 0.0\n",
      "type: BYTE\n",
      ", piece: \"<0x64>\"\n",
      "score: 0.0\n",
      "type: BYTE\n",
      ", piece: \"<0x65>\"\n",
      "score: 0.0\n",
      "type: BYTE\n",
      ", piece: \"<0x66>\"\n",
      "score: 0.0\n",
      "type: BYTE\n",
      ", piece: \"<0x67>\"\n",
      "score: 0.0\n",
      "type: BYTE\n",
      ", piece: \"<0x68>\"\n",
      "score: 0.0\n",
      "type: BYTE\n",
      ", piece: \"<0x69>\"\n",
      "score: 0.0\n",
      "type: BYTE\n",
      ", piece: \"<0x6A>\"\n",
      "score: 0.0\n",
      "type: BYTE\n",
      ", piece: \"<0x6B>\"\n",
      "score: 0.0\n",
      "type: BYTE\n",
      ", piece: \"<0x6C>\"\n",
      "score: 0.0\n",
      "type: BYTE\n",
      ", piece: \"<0x6D>\"\n",
      "score: 0.0\n",
      "type: BYTE\n",
      ", piece: \"<0x6E>\"\n",
      "score: 0.0\n",
      "type: BYTE\n",
      ", piece: \"<0x6F>\"\n",
      "score: 0.0\n",
      "type: BYTE\n",
      ", piece: \"<0x70>\"\n",
      "score: 0.0\n",
      "type: BYTE\n",
      ", piece: \"<0x71>\"\n",
      "score: 0.0\n",
      "type: BYTE\n",
      ", piece: \"<0x72>\"\n",
      "score: 0.0\n",
      "type: BYTE\n",
      ", piece: \"<0x73>\"\n",
      "score: 0.0\n",
      "type: BYTE\n",
      ", piece: \"<0x74>\"\n",
      "score: 0.0\n",
      "type: BYTE\n",
      ", piece: \"<0x75>\"\n",
      "score: 0.0\n",
      "type: BYTE\n",
      ", piece: \"<0x76>\"\n",
      "score: 0.0\n",
      "type: BYTE\n",
      ", piece: \"<0x77>\"\n",
      "score: 0.0\n",
      "type: BYTE\n",
      ", piece: \"<0x78>\"\n",
      "score: 0.0\n",
      "type: BYTE\n",
      ", piece: \"<0x79>\"\n",
      "score: 0.0\n",
      "type: BYTE\n",
      ", piece: \"<0x7A>\"\n",
      "score: 0.0\n",
      "type: BYTE\n",
      ", piece: \"<0x7B>\"\n",
      "score: 0.0\n",
      "type: BYTE\n",
      ", piece: \"<0x7C>\"\n",
      "score: 0.0\n",
      "type: BYTE\n",
      ", piece: \"<0x7D>\"\n",
      "score: 0.0\n",
      "type: BYTE\n",
      ", piece: \"<0x7E>\"\n",
      "score: 0.0\n",
      "type: BYTE\n",
      ", piece: \"<0x7F>\"\n",
      "score: 0.0\n",
      "type: BYTE\n",
      ", piece: \"<0x80>\"\n",
      "score: 0.0\n",
      "type: BYTE\n",
      ", piece: \"<0x81>\"\n",
      "score: 0.0\n",
      "type: BYTE\n",
      ", piece: \"<0x82>\"\n",
      "score: 0.0\n",
      "type: BYTE\n",
      ", piece: \"<0x83>\"\n",
      "score: 0.0\n",
      "type: BYTE\n",
      ", piece: \"<0x84>\"\n",
      "score: 0.0\n",
      "type: BYTE\n",
      ", piece: \"<0x85>\"\n",
      "score: 0.0\n",
      "type: BYTE\n",
      ", piece: \"<0x86>\"\n",
      "score: 0.0\n",
      "type: BYTE\n",
      ", piece: \"<0x87>\"\n",
      "score: 0.0\n",
      "type: BYTE\n",
      ", piece: \"<0x88>\"\n",
      "score: 0.0\n",
      "type: BYTE\n",
      ", piece: \"<0x89>\"\n",
      "score: 0.0\n",
      "type: BYTE\n",
      ", piece: \"<0x8A>\"\n",
      "score: 0.0\n",
      "type: BYTE\n",
      ", piece: \"<0x8B>\"\n",
      "score: 0.0\n",
      "type: BYTE\n",
      ", piece: \"<0x8C>\"\n",
      "score: 0.0\n",
      "type: BYTE\n",
      ", piece: \"<0x8D>\"\n",
      "score: 0.0\n",
      "type: BYTE\n",
      ", piece: \"<0x8E>\"\n",
      "score: 0.0\n",
      "type: BYTE\n",
      ", piece: \"<0x8F>\"\n",
      "score: 0.0\n",
      "type: BYTE\n",
      ", piece: \"<0x90>\"\n",
      "score: 0.0\n",
      "type: BYTE\n",
      ", piece: \"<0x91>\"\n",
      "score: 0.0\n",
      "type: BYTE\n",
      ", piece: \"<0x92>\"\n",
      "score: 0.0\n",
      "type: BYTE\n",
      ", piece: \"<0x93>\"\n",
      "score: 0.0\n",
      "type: BYTE\n",
      ", piece: \"<0x94>\"\n",
      "score: 0.0\n",
      "type: BYTE\n",
      ", piece: \"<0x95>\"\n",
      "score: 0.0\n",
      "type: BYTE\n",
      ", piece: \"<0x96>\"\n",
      "score: 0.0\n",
      "type: BYTE\n",
      ", piece: \"<0x97>\"\n",
      "score: 0.0\n",
      "type: BYTE\n",
      ", piece: \"<0x98>\"\n",
      "score: 0.0\n",
      "type: BYTE\n",
      ", piece: \"<0x99>\"\n",
      "score: 0.0\n",
      "type: BYTE\n",
      ", piece: \"<0x9A>\"\n",
      "score: 0.0\n",
      "type: BYTE\n",
      ", piece: \"<0x9B>\"\n",
      "score: 0.0\n",
      "type: BYTE\n",
      ", piece: \"<0x9C>\"\n",
      "score: 0.0\n",
      "type: BYTE\n",
      ", piece: \"<0x9D>\"\n",
      "score: 0.0\n",
      "type: BYTE\n",
      ", piece: \"<0x9E>\"\n",
      "score: 0.0\n",
      "type: BYTE\n",
      ", piece: \"<0x9F>\"\n",
      "score: 0.0\n",
      "type: BYTE\n",
      ", piece: \"<0xA0>\"\n",
      "score: 0.0\n",
      "type: BYTE\n",
      ", piece: \"<0xA1>\"\n",
      "score: 0.0\n",
      "type: BYTE\n",
      ", piece: \"<0xA2>\"\n",
      "score: 0.0\n",
      "type: BYTE\n",
      ", piece: \"<0xA3>\"\n",
      "score: 0.0\n",
      "type: BYTE\n",
      ", piece: \"<0xA4>\"\n",
      "score: 0.0\n",
      "type: BYTE\n",
      ", piece: \"<0xA5>\"\n",
      "score: 0.0\n",
      "type: BYTE\n",
      ", piece: \"<0xA6>\"\n",
      "score: 0.0\n",
      "type: BYTE\n",
      ", piece: \"<0xA7>\"\n",
      "score: 0.0\n",
      "type: BYTE\n",
      ", piece: \"<0xA8>\"\n",
      "score: 0.0\n",
      "type: BYTE\n",
      ", piece: \"<0xA9>\"\n",
      "score: 0.0\n",
      "type: BYTE\n",
      ", piece: \"<0xAA>\"\n",
      "score: 0.0\n",
      "type: BYTE\n",
      ", piece: \"<0xAB>\"\n",
      "score: 0.0\n",
      "type: BYTE\n",
      ", piece: \"<0xAC>\"\n",
      "score: 0.0\n",
      "type: BYTE\n",
      ", piece: \"<0xAD>\"\n",
      "score: 0.0\n",
      "type: BYTE\n",
      ", piece: \"<0xAE>\"\n",
      "score: 0.0\n",
      "type: BYTE\n",
      ", piece: \"<0xAF>\"\n",
      "score: 0.0\n",
      "type: BYTE\n",
      ", piece: \"<0xB0>\"\n",
      "score: 0.0\n",
      "type: BYTE\n",
      ", piece: \"<0xB1>\"\n",
      "score: 0.0\n",
      "type: BYTE\n",
      ", piece: \"<0xB2>\"\n",
      "score: 0.0\n",
      "type: BYTE\n",
      ", piece: \"<0xB3>\"\n",
      "score: 0.0\n",
      "type: BYTE\n",
      ", piece: \"<0xB4>\"\n",
      "score: 0.0\n",
      "type: BYTE\n",
      ", piece: \"<0xB5>\"\n",
      "score: 0.0\n",
      "type: BYTE\n",
      ", piece: \"<0xB6>\"\n",
      "score: 0.0\n",
      "type: BYTE\n",
      ", piece: \"<0xB7>\"\n",
      "score: 0.0\n",
      "type: BYTE\n",
      ", piece: \"<0xB8>\"\n",
      "score: 0.0\n",
      "type: BYTE\n",
      ", piece: \"<0xB9>\"\n",
      "score: 0.0\n",
      "type: BYTE\n",
      ", piece: \"<0xBA>\"\n",
      "score: 0.0\n",
      "type: BYTE\n",
      ", piece: \"<0xBB>\"\n",
      "score: 0.0\n",
      "type: BYTE\n",
      ", piece: \"<0xBC>\"\n",
      "score: 0.0\n",
      "type: BYTE\n",
      ", piece: \"<0xBD>\"\n",
      "score: 0.0\n",
      "type: BYTE\n",
      ", piece: \"<0xBE>\"\n",
      "score: 0.0\n",
      "type: BYTE\n",
      ", piece: \"<0xBF>\"\n",
      "score: 0.0\n",
      "type: BYTE\n",
      ", piece: \"<0xC0>\"\n",
      "score: 0.0\n",
      "type: BYTE\n",
      ", piece: \"<0xC1>\"\n",
      "score: 0.0\n",
      "type: BYTE\n",
      ", piece: \"<0xC2>\"\n",
      "score: 0.0\n",
      "type: BYTE\n",
      ", piece: \"<0xC3>\"\n",
      "score: 0.0\n",
      "type: BYTE\n",
      ", piece: \"<0xC4>\"\n",
      "score: 0.0\n",
      "type: BYTE\n",
      ", piece: \"<0xC5>\"\n",
      "score: 0.0\n",
      "type: BYTE\n",
      ", piece: \"<0xC6>\"\n",
      "score: 0.0\n",
      "type: BYTE\n",
      ", piece: \"<0xC7>\"\n",
      "score: 0.0\n",
      "type: BYTE\n",
      ", piece: \"<0xC8>\"\n",
      "score: 0.0\n",
      "type: BYTE\n",
      ", piece: \"<0xC9>\"\n",
      "score: 0.0\n",
      "type: BYTE\n",
      ", piece: \"<0xCA>\"\n",
      "score: 0.0\n",
      "type: BYTE\n",
      ", piece: \"<0xCB>\"\n",
      "score: 0.0\n",
      "type: BYTE\n",
      ", piece: \"<0xCC>\"\n",
      "score: 0.0\n",
      "type: BYTE\n",
      ", piece: \"<0xCD>\"\n",
      "score: 0.0\n",
      "type: BYTE\n",
      ", piece: \"<0xCE>\"\n",
      "score: 0.0\n",
      "type: BYTE\n",
      ", piece: \"<0xCF>\"\n",
      "score: 0.0\n",
      "type: BYTE\n",
      ", piece: \"<0xD0>\"\n",
      "score: 0.0\n",
      "type: BYTE\n",
      ", piece: \"<0xD1>\"\n",
      "score: 0.0\n",
      "type: BYTE\n",
      ", piece: \"<0xD2>\"\n",
      "score: 0.0\n",
      "type: BYTE\n",
      ", piece: \"<0xD3>\"\n",
      "score: 0.0\n",
      "type: BYTE\n",
      ", piece: \"<0xD4>\"\n",
      "score: 0.0\n",
      "type: BYTE\n",
      ", piece: \"<0xD5>\"\n",
      "score: 0.0\n",
      "type: BYTE\n",
      ", piece: \"<0xD6>\"\n",
      "score: 0.0\n",
      "type: BYTE\n",
      ", piece: \"<0xD7>\"\n",
      "score: 0.0\n",
      "type: BYTE\n",
      ", piece: \"<0xD8>\"\n",
      "score: 0.0\n",
      "type: BYTE\n",
      ", piece: \"<0xD9>\"\n",
      "score: 0.0\n",
      "type: BYTE\n",
      ", piece: \"<0xDA>\"\n",
      "score: 0.0\n",
      "type: BYTE\n",
      ", piece: \"<0xDB>\"\n",
      "score: 0.0\n",
      "type: BYTE\n",
      ", piece: \"<0xDC>\"\n",
      "score: 0.0\n",
      "type: BYTE\n",
      ", piece: \"<0xDD>\"\n",
      "score: 0.0\n",
      "type: BYTE\n",
      ", piece: \"<0xDE>\"\n",
      "score: 0.0\n",
      "type: BYTE\n",
      ", piece: \"<0xDF>\"\n",
      "score: 0.0\n",
      "type: BYTE\n",
      ", piece: \"<0xE0>\"\n",
      "score: 0.0\n",
      "type: BYTE\n",
      ", piece: \"<0xE1>\"\n",
      "score: 0.0\n",
      "type: BYTE\n",
      ", piece: \"<0xE2>\"\n",
      "score: 0.0\n",
      "type: BYTE\n",
      ", piece: \"<0xE3>\"\n",
      "score: 0.0\n",
      "type: BYTE\n",
      ", piece: \"<0xE4>\"\n",
      "score: 0.0\n",
      "type: BYTE\n",
      ", piece: \"<0xE5>\"\n",
      "score: 0.0\n",
      "type: BYTE\n",
      ", piece: \"<0xE6>\"\n",
      "score: 0.0\n",
      "type: BYTE\n",
      ", piece: \"<0xE7>\"\n",
      "score: 0.0\n",
      "type: BYTE\n",
      ", piece: \"<0xE8>\"\n",
      "score: 0.0\n",
      "type: BYTE\n",
      ", piece: \"<0xE9>\"\n",
      "score: 0.0\n",
      "type: BYTE\n",
      ", piece: \"<0xEA>\"\n",
      "score: 0.0\n",
      "type: BYTE\n",
      ", piece: \"<0xEB>\"\n",
      "score: 0.0\n",
      "type: BYTE\n",
      ", piece: \"<0xEC>\"\n",
      "score: 0.0\n",
      "type: BYTE\n",
      ", piece: \"<0xED>\"\n",
      "score: 0.0\n",
      "type: BYTE\n",
      ", piece: \"<0xEE>\"\n",
      "score: 0.0\n",
      "type: BYTE\n",
      ", piece: \"<0xEF>\"\n",
      "score: 0.0\n",
      "type: BYTE\n",
      ", piece: \"<0xF0>\"\n",
      "score: 0.0\n",
      "type: BYTE\n",
      ", piece: \"<0xF1>\"\n",
      "score: 0.0\n",
      "type: BYTE\n",
      ", piece: \"<0xF2>\"\n",
      "score: 0.0\n",
      "type: BYTE\n",
      ", piece: \"<0xF3>\"\n",
      "score: 0.0\n",
      "type: BYTE\n",
      ", piece: \"<0xF4>\"\n",
      "score: 0.0\n",
      "type: BYTE\n",
      ", piece: \"<0xF5>\"\n",
      "score: 0.0\n",
      "type: BYTE\n",
      ", piece: \"<0xF6>\"\n",
      "score: 0.0\n",
      "type: BYTE\n",
      ", piece: \"<0xF7>\"\n",
      "score: 0.0\n",
      "type: BYTE\n",
      ", piece: \"<0xF8>\"\n",
      "score: 0.0\n",
      "type: BYTE\n",
      ", piece: \"<0xF9>\"\n",
      "score: 0.0\n",
      "type: BYTE\n",
      ", piece: \"<0xFA>\"\n",
      "score: 0.0\n",
      "type: BYTE\n",
      ", piece: \"<0xFB>\"\n",
      "score: 0.0\n",
      "type: BYTE\n",
      ", piece: \"<0xFC>\"\n",
      "score: 0.0\n",
      "type: BYTE\n",
      ", piece: \"<0xFD>\"\n",
      "score: 0.0\n",
      "type: BYTE\n",
      ", piece: \"<0xFE>\"\n",
      "score: 0.0\n",
      "type: BYTE\n",
      ", piece: \"<0xFF>\"\n",
      "score: 0.0\n",
      "type: BYTE\n",
      ", piece: \"\\342\\226\\201\"\n",
      "score: -2.320359468460083\n",
      ", piece: \".\"\n",
      "score: -3.7542622089385986\n",
      ", piece: \",\"\n",
      "score: -3.769829034805298\n",
      ", piece: \"a\"\n",
      "score: -4.594512462615967\n",
      ", piece: \"s\"\n",
      "score: -4.7455315589904785\n",
      ", piece: \"-\"\n",
      "score: -4.746638774871826\n",
      ", piece: \"e\"\n",
      "score: -5.073781490325928\n",
      ", piece: \"i\"\n",
      "score: -5.153326988220215\n",
      ", piece: \":\"\n",
      "score: -5.337433815002441\n",
      ", piece: \"o\"\n",
      "score: -5.435947895050049\n",
      ", piece: \"\\342\\226\\201de\"\n",
      "score: -5.490814685821533\n",
      ", piece: \"t\"\n",
      "score: -5.606383323669434\n",
      ", piece: \")\"\n",
      "score: -5.9410080909729\n",
      ", piece: \"n\"\n",
      "score: -5.944159030914307\n",
      ", piece: \"u\"\n",
      "score: -5.9849419593811035\n",
      ", piece: \"\\342\\226\\201(\"\n",
      "score: -6.017582416534424\n",
      ", piece: \"/\"\n",
      "score: -6.058782577514648\n",
      ", piece: \"y\"\n",
      "score: -6.069671154022217\n",
      ", piece: \"\\'\"\n",
      "score: -6.302693843841553\n",
      ", piece: \"en\"\n",
      "score: -6.309596538543701\n",
      ", piece: \"\\320\\270\"\n",
      "score: -6.334526062011719\n",
      ", piece: \"l\"\n",
      "score: -6.375718116760254\n",
      ", piece: \"\\342\\226\\201in\"\n",
      "score: -6.378617286682129\n",
      ", piece: \"m\"\n",
      "score: -6.424614906311035\n",
      ", piece: \"\\342\\226\\201la\"\n",
      "score: -6.428891181945801\n",
      ", piece: \"com\"\n",
      "score: -6.449378490447998\n",
      ", piece: \"d\"\n",
      "score: -6.484914779663086\n",
      ", piece: \"r\"\n",
      "score: -6.497548580169678\n",
      ", piece: \"\\342\\226\\201the\"\n",
      "score: -6.544258117675781\n",
      ", piece: \"\\342\\226\\201to\"\n",
      "score: -6.64163064956665\n",
      ", piece: \"\\342\\226\\201en\"\n",
      "score: -6.661249160766602\n",
      ", piece: \"_\"\n",
      "score: -6.704091548919678\n",
      ", piece: \"?\"\n",
      "score: -6.719667911529541\n",
      ", piece: \"\\343\\200\\201\"\n",
      "score: -6.727962493896484\n",
      ", piece: \"\\342\\200\\231\"\n",
      "score: -6.736017227172852\n",
      ", piece: \"\\342\\226\\201na\"\n",
      "score: -6.741353988647461\n",
      ", piece: \"er\"\n",
      "score: -6.747235298156738\n",
      ", piece: \";\"\n",
      "score: -6.783848285675049\n",
      ", piece: \"c\"\n",
      "score: -6.818680286407471\n",
      ", piece: \"\\342\\226\\201A\"\n",
      "score: -6.823920726776123\n",
      "]\n"
     ]
    }
   ],
   "source": [
    "print(m.pieces[:300])"
   ],
   "metadata": {
    "collapsed": false,
    "ExecuteTime": {
     "end_time": "2023-09-02T18:58:02.252402719Z",
     "start_time": "2023-09-02T18:58:02.224024822Z"
    }
   }
  },
  {
   "cell_type": "code",
   "execution_count": 33,
   "outputs": [
    {
     "name": "stdout",
     "output_type": "stream",
     "text": [
      "the loaded model has pieces: 250101\n",
      "the new pieces: 22807\n"
     ]
    }
   ],
   "source": [
    "print('the loaded model has pieces:', len(m.pieces))\n",
    "new_pieces = [m.pieces[idx] for idx in new_vocad.values()]\n",
    "print('the new pieces:', len(new_pieces))"
   ],
   "metadata": {
    "collapsed": false,
    "ExecuteTime": {
     "end_time": "2023-09-02T18:58:24.015245502Z",
     "start_time": "2023-09-02T18:58:23.968405434Z"
    }
   }
  },
  {
   "cell_type": "code",
   "execution_count": 34,
   "outputs": [],
   "source": [
    "# replace the content of the first pieces\n",
    "for i, p in enumerate(new_pieces):\n",
    "    m.pieces[i].piece = p.piece\n",
    "    m.pieces[i].score = p.score\n",
    "    m.pieces[i].type = p.type"
   ],
   "metadata": {
    "collapsed": false,
    "ExecuteTime": {
     "end_time": "2023-09-02T18:58:26.251983115Z",
     "start_time": "2023-09-02T18:58:26.186282187Z"
    }
   }
  },
  {
   "cell_type": "code",
   "execution_count": 35,
   "outputs": [
    {
     "name": "stdout",
     "output_type": "stream",
     "text": [
      "22807\n"
     ]
    }
   ],
   "source": [
    "# drop the remaining pieces\n",
    "n = len(new_pieces)\n",
    "for i in range(len(m.pieces) - n):\n",
    "    m.pieces.pop(len(m.pieces) - 1)\n",
    "print(len(m.pieces))"
   ],
   "metadata": {
    "collapsed": false,
    "ExecuteTime": {
     "end_time": "2023-09-02T18:58:59.755633657Z",
     "start_time": "2023-09-02T18:58:26.441843408Z"
    }
   }
  },
  {
   "cell_type": "code",
   "execution_count": 36,
   "outputs": [],
   "source": [
    "# save result tokenizer model\n",
    "with open(PATH_TO_NEW_TOKENIZER+'/spm.model', 'wb') as f:\n",
    "    f.write(m.SerializeToString())"
   ],
   "metadata": {
    "collapsed": false,
    "ExecuteTime": {
     "end_time": "2023-09-02T18:58:59.755867201Z",
     "start_time": "2023-09-02T18:58:59.739019813Z"
    }
   }
  },
  {
   "cell_type": "code",
   "execution_count": 24,
   "outputs": [],
   "source": [
    "# Save vocab\n",
    "with open(os.path.join(PATH_TO_NEW_TOKENIZER, 'vocab.txt'), 'w+') as fw:\n",
    "    for token in russian_vocab:\n",
    "        fw.write(token + '\\n')\n",
    "\n",
    "# Save tokenizer config\n",
    "with open(os.path.join(PATH_TO_NEW_TOKENIZER, 'tokenizer_config.json'), 'w+') as fw:\n",
    "    json.dump({\"do_lower_case\": False, \"model_max_length\": 512}, fw)"
   ],
   "metadata": {
    "collapsed": false,
    "ExecuteTime": {
     "start_time": "2023-09-02T17:59:46.617303691Z"
    }
   }
  },
  {
   "cell_type": "code",
   "execution_count": 37,
   "outputs": [
    {
     "data": {
      "text/plain": "PreTrainedTokenizer(name_or_path='', vocab_size=22807, model_max_len=1000000000000000019884624838656, is_fast=False, padding_side='right', truncation_side='right', special_tokens={'bos_token': '[CLS]', 'eos_token': '[SEP]', 'unk_token': '[UNK]', 'sep_token': '[SEP]', 'pad_token': '[PAD]', 'cls_token': '[CLS]', 'mask_token': '[MASK]'})"
     },
     "execution_count": 37,
     "metadata": {},
     "output_type": "execute_result"
    }
   ],
   "source": [
    "t = DebertaV2Tokenizer(vocab_file=PATH_TO_NEW_TOKENIZER + '/spm.model')\n",
    "t"
   ],
   "metadata": {
    "collapsed": false,
    "ExecuteTime": {
     "end_time": "2023-09-02T18:59:51.354135899Z",
     "start_time": "2023-09-02T18:59:51.240402453Z"
    }
   }
  },
  {
   "cell_type": "code",
   "execution_count": 38,
   "outputs": [
    {
     "data": {
      "text/plain": "3"
     },
     "execution_count": 38,
     "metadata": {},
     "output_type": "execute_result"
    }
   ],
   "source": [
    "t.mask_token_id"
   ],
   "metadata": {
    "collapsed": false,
    "ExecuteTime": {
     "end_time": "2023-09-02T18:59:52.089762388Z",
     "start_time": "2023-09-02T18:59:52.074239739Z"
    }
   }
  },
  {
   "cell_type": "code",
   "execution_count": 39,
   "outputs": [
    {
     "name": "stderr",
     "output_type": "stream",
     "text": [
      "Special tokens have been added in the vocabulary, make sure the associated word embeddings are fine-tuned or trained.\n"
     ]
    }
   ],
   "source": [
    "russian_tokenizer = DebertaV2Tokenizer.from_pretrained(PATH_TO_NEW_TOKENIZER)\n",
    "russian_model = DebertaV2ForMaskedLM.from_pretrained(PATH_TO_NEW_MODEL)"
   ],
   "metadata": {
    "collapsed": false,
    "ExecuteTime": {
     "end_time": "2023-09-02T18:59:57.256106616Z",
     "start_time": "2023-09-02T18:59:55.747868048Z"
    }
   }
  },
  {
   "cell_type": "code",
   "execution_count": 40,
   "outputs": [
    {
     "data": {
      "text/plain": "103581463"
     },
     "execution_count": 40,
     "metadata": {},
     "output_type": "execute_result"
    }
   ],
   "source": [
    "russian_model.num_parameters()"
   ],
   "metadata": {
    "collapsed": false,
    "ExecuteTime": {
     "end_time": "2023-09-02T18:59:59.249141344Z",
     "start_time": "2023-09-02T18:59:59.229922494Z"
    }
   }
  },
  {
   "cell_type": "code",
   "execution_count": 41,
   "outputs": [
    {
     "data": {
      "text/plain": "Embedding(22807, 768, padding_idx=0)"
     },
     "execution_count": 41,
     "metadata": {},
     "output_type": "execute_result"
    }
   ],
   "source": [
    "russian_model.get_input_embeddings()"
   ],
   "metadata": {
    "collapsed": false,
    "ExecuteTime": {
     "end_time": "2023-09-02T18:59:59.633638244Z",
     "start_time": "2023-09-02T18:59:59.617130597Z"
    }
   }
  },
  {
   "cell_type": "code",
   "execution_count": 51,
   "outputs": [
    {
     "data": {
      "text/plain": "PreTrainedTokenizer(name_or_path='../../../../data/ml/mdeberta-russian/tokenizer', vocab_size=22807, model_max_len=512, is_fast=False, padding_side='right', truncation_side='right', special_tokens={'bos_token': '[CLS]', 'eos_token': '[SEP]', 'unk_token': '[UNK]', 'sep_token': '[SEP]', 'pad_token': '[PAD]', 'cls_token': '[CLS]', 'mask_token': '[MASK]'})"
     },
     "execution_count": 51,
     "metadata": {},
     "output_type": "execute_result"
    }
   ],
   "source": [
    "russian_tokenizer"
   ],
   "metadata": {
    "collapsed": false,
    "ExecuteTime": {
     "end_time": "2023-09-02T18:18:30.269002048Z",
     "start_time": "2023-09-02T18:18:30.220557715Z"
    }
   }
  },
  {
   "cell_type": "code",
   "execution_count": 42,
   "outputs": [],
   "source": [
    "# Save and reopen model and tokenizer\n",
    "russian_tokenizer.save_pretrained(PATH_TO_NEW_TOKENIZER)\n",
    "russian_model.save_pretrained(PATH_TO_NEW_MODEL)"
   ],
   "metadata": {
    "collapsed": false,
    "ExecuteTime": {
     "end_time": "2023-09-02T19:00:11.503076389Z",
     "start_time": "2023-09-02T19:00:07.683390712Z"
    }
   }
  },
  {
   "cell_type": "code",
   "execution_count": 6,
   "outputs": [],
   "source": [
    "russian_tokenizer = DebertaV2TokenizerFast.from_pretrained(PATH_TO_NEW_TOKENIZER)\n",
    "russian_model = DebertaV2ForMaskedLM.from_pretrained(PATH_TO_NEW_MODEL)"
   ],
   "metadata": {
    "collapsed": false,
    "ExecuteTime": {
     "end_time": "2023-09-02T18:19:35.627106300Z",
     "start_time": "2023-09-02T18:19:33.847561253Z"
    }
   }
  },
  {
   "cell_type": "markdown",
   "source": [
    "# Fast test on example"
   ],
   "metadata": {
    "collapsed": false
   }
  },
  {
   "cell_type": "code",
   "execution_count": 3,
   "outputs": [],
   "source": [
    "text = \"Я люблю [MASK] Россию.\""
   ],
   "metadata": {
    "collapsed": false,
    "ExecuteTime": {
     "end_time": "2023-09-02T18:19:16.027375800Z",
     "start_time": "2023-09-02T18:19:15.981568548Z"
    }
   }
  },
  {
   "cell_type": "code",
   "execution_count": 10,
   "outputs": [
    {
     "name": "stderr",
     "output_type": "stream",
     "text": [
      "Some weights of the model checkpoint at microsoft/mdeberta-v3-base were not used when initializing DebertaV2ForMaskedLM: ['mask_predictions.LayerNorm.bias', 'deberta.embeddings.position_embeddings._weight', 'deberta.embeddings.word_embeddings._weight', 'mask_predictions.dense.bias', 'deberta.embeddings.position_embeddings.weight', 'lm_predictions.lm_head.bias', 'lm_predictions.lm_head.dense.weight', 'lm_predictions.lm_head.LayerNorm.bias', 'mask_predictions.dense.weight', 'mask_predictions.LayerNorm.weight', 'lm_predictions.lm_head.LayerNorm.weight', 'lm_predictions.lm_head.dense.bias', 'mask_predictions.classifier.weight', 'mask_predictions.classifier.bias']\n",
      "- This IS expected if you are initializing DebertaV2ForMaskedLM from the checkpoint of a model trained on another task or with another architecture (e.g. initializing a BertForSequenceClassification model from a BertForPreTraining model).\n",
      "- This IS NOT expected if you are initializing DebertaV2ForMaskedLM from the checkpoint of a model that you expect to be exactly identical (initializing a BertForSequenceClassification model from a BertForSequenceClassification model).\n",
      "Some weights of DebertaV2ForMaskedLM were not initialized from the model checkpoint at microsoft/mdeberta-v3-base and are newly initialized: ['cls.predictions.bias', 'cls.predictions.transform.LayerNorm.bias', 'cls.predictions.transform.dense.bias', 'cls.predictions.decoder.weight', 'cls.predictions.transform.dense.weight', 'cls.predictions.transform.LayerNorm.weight']\n",
      "You should probably TRAIN this model on a down-stream task to be able to use it for predictions and inference.\n",
      "Special tokens have been added in the vocabulary, make sure the associated word embeddings are fine-tuned or trained.\n",
      "Special tokens have been added in the vocabulary, make sure the associated word embeddings are fine-tuned or trained.\n"
     ]
    },
    {
     "name": "stdout",
     "output_type": "stream",
     "text": [
      "{'input_ids': tensor([[     1,   2554,   5510,   8333, 250101,  95666,    749,    261,      2]]), 'token_type_ids': tensor([[0, 0, 0, 0, 0, 0, 0, 0, 0]]), 'attention_mask': tensor([[1, 1, 1, 1, 1, 1, 1, 1, 1]])}\n",
      "MaskedLMOutput(loss=None, logits=tensor([[[-0.3833,  2.4777,  2.4006,  ..., -0.3270, -0.2702, -0.2534],\n",
      "         [-0.1899,  0.6699,  0.6800,  ..., -0.0352,  0.0773, -0.3111],\n",
      "         [-0.3125, -1.1108, -1.1087,  ..., -0.1949,  0.0143, -0.3542],\n",
      "         ...,\n",
      "         [ 0.5432,  1.4716,  1.4770,  ...,  0.5933,  0.5920,  0.5140],\n",
      "         [-0.5995, -0.4898, -0.4728,  ..., -0.6239, -0.4977, -0.9380],\n",
      "         [ 0.3003,  0.8728,  0.8526,  ...,  0.1912,  0.2536,  0.3930]]],\n",
      "       grad_fn=<AddBackward0>), hidden_states=None, attentions=None)\n"
     ]
    }
   ],
   "source": [
    "multilang_model = DebertaV2ForMaskedLM.from_pretrained(MULTILANG_DISTILBERT_CHECKPOINT)\n",
    "multilang_tokenizer = DebertaV2TokenizerFast.from_pretrained(MULTILANG_DISTILBERT_CHECKPOINT)\n",
    "multilang_encoded_input = multilang_tokenizer(text, return_tensors='pt')\n",
    "print(multilang_encoded_input)\n",
    "multilang_output_original = multilang_model(**multilang_encoded_input)\n",
    "print(multilang_output_original)"
   ],
   "metadata": {
    "collapsed": false,
    "ExecuteTime": {
     "end_time": "2023-09-02T18:33:48.663995872Z",
     "start_time": "2023-09-02T18:33:40.325076962Z"
    }
   }
  },
  {
   "cell_type": "code",
   "execution_count": 11,
   "outputs": [
    {
     "name": "stdout",
     "output_type": "stream",
     "text": [
      "{'input_ids': tensor([[    1,     3,   422,     3,  2463,   570, 22807,     3,  7862, 17005,\n",
      "             4,     2]]), 'token_type_ids': tensor([[0, 0, 0, 0, 0, 0, 0, 0, 0, 0, 0, 0]]), 'attention_mask': tensor([[1, 1, 1, 1, 1, 1, 1, 1, 1, 1, 1, 1]])}\n",
      "MaskedLMOutput(loss=None, logits=tensor([[[ 0.3538,  0.4494,  0.4151,  ...,  0.5232,  0.5618,  0.2090],\n",
      "         [ 0.1261,  0.1887,  0.1003,  ...,  0.2501,  0.3241, -0.0214],\n",
      "         [ 0.5795,  0.5976,  0.6952,  ...,  0.6437,  0.7327,  0.4548],\n",
      "         ...,\n",
      "         [ 0.0966,  0.0562,  0.0822,  ...,  0.1305,  0.2235,  0.0555],\n",
      "         [ 0.0272,  0.0501, -0.0039,  ...,  0.1392,  0.1625,  0.0808],\n",
      "         [-0.0016, -0.0388, -0.0380,  ...,  0.0592,  0.1128, -0.0171]]],\n",
      "       grad_fn=<AddBackward0>), hidden_states=None, attentions=None)\n"
     ]
    }
   ],
   "source": [
    "russian_encoded_input = russian_tokenizer(text, return_tensors='pt')\n",
    "print(russian_encoded_input)\n",
    "russian_output_original = russian_model(**russian_encoded_input)\n",
    "print(russian_output_original)"
   ],
   "metadata": {
    "collapsed": false,
    "ExecuteTime": {
     "end_time": "2023-09-02T18:33:48.815013500Z",
     "start_time": "2023-09-02T18:33:48.666427218Z"
    }
   }
  },
  {
   "cell_type": "code",
   "execution_count": 12,
   "outputs": [
    {
     "name": "stdout",
     "output_type": "stream",
     "text": [
      "льных 0.056287918239831924\n",
      "łuch 0.038719743490219116\n",
      "hleb 0.03622915968298912\n",
      "ebal 0.03287938982248306\n",
      "haudiere 0.02623041532933712\n"
     ]
    }
   ],
   "source": [
    "pipe = pipeline(task=\"fill-mask\", model=multilang_model, tokenizer=multilang_tokenizer)\n",
    "output_ = pipe(text)\n",
    "for i in range(len(output_)):\n",
    "    print(output_[i]['token_str'], output_[i]['score'])"
   ],
   "metadata": {
    "collapsed": false,
    "ExecuteTime": {
     "end_time": "2023-09-02T18:33:49.030225987Z",
     "start_time": "2023-09-02T18:33:48.816537688Z"
    }
   }
  },
  {
   "cell_type": "code",
   "execution_count": null,
   "outputs": [],
   "source": [
    "pipe = pipeline(task=\"fill-mask\", model=russian_model, tokenizer=russian_tokenizer)\n",
    "output_ = pipe(text)\n",
    "for i in range(len(output_)):\n",
    "    print(output_[i]['token_str'], output_[i]['score'])"
   ],
   "metadata": {
    "collapsed": false
   }
  },
  {
   "cell_type": "code",
   "execution_count": 15,
   "outputs": [
    {
     "name": "stdout",
     "output_type": "stream",
     "text": [
      "Обществ 0.09146923571825027\n",
      "мело 0.06979215145111084\n",
      "поверх 0.06024843081831932\n",
      "уман 0.05661516264081001\n",
      "джи 0.05083320662379265\n"
     ]
    }
   ],
   "source": [
    "pipe = pipeline(task=\"fill-mask\", model=russian_model, tokenizer=russian_tokenizer)\n",
    "output_ = pipe(\"Молоко это [MASK].\")\n",
    "for i in range(len(output_)):\n",
    "    print(output_[i]['token_str'], output_[i]['score'])"
   ],
   "metadata": {
    "collapsed": false,
    "ExecuteTime": {
     "end_time": "2023-09-02T18:37:38.851301759Z",
     "start_time": "2023-09-02T18:37:38.445200313Z"
    }
   }
  },
  {
   "cell_type": "code",
   "execution_count": 16,
   "outputs": [
    {
     "name": "stdout",
     "output_type": "stream",
     "text": [
      "screv 0.11209029704332352\n",
      "neem 0.03488057851791382\n",
      "riadi 0.031111158430576324\n",
      ":0, 0.02865675836801529\n",
      "ueber 0.021498851478099823\n"
     ]
    }
   ],
   "source": [
    "pipe = pipeline(task=\"fill-mask\", model=multilang_model, tokenizer=multilang_tokenizer)\n",
    "output_ = pipe(\"Молоко это [MASK].\")\n",
    "for i in range(len(output_)):\n",
    "    print(output_[i]['token_str'], output_[i]['score'])"
   ],
   "metadata": {
    "collapsed": false,
    "ExecuteTime": {
     "end_time": "2023-09-02T18:38:06.140865664Z",
     "start_time": "2023-09-02T18:38:05.670295025Z"
    }
   }
  },
  {
   "cell_type": "code",
   "execution_count": 43,
   "outputs": [
    {
     "data": {
      "text/plain": "('../../../../data/ml/mdeberta-russian/tokenizer_config.json',\n '../../../../data/ml/mdeberta-russian/special_tokens_map.json',\n '../../../../data/ml/mdeberta-russian/spm.model',\n '../../../../data/ml/mdeberta-russian/added_tokens.json')"
     },
     "execution_count": 43,
     "metadata": {},
     "output_type": "execute_result"
    }
   ],
   "source": [
    "russian_tokenizer.save_pretrained(\"../../../../data/ml/mdeberta-russian/\")"
   ],
   "metadata": {
    "collapsed": false,
    "ExecuteTime": {
     "end_time": "2023-09-02T19:10:59.038370084Z",
     "start_time": "2023-09-02T19:10:58.961620632Z"
    }
   }
  }
 ],
 "metadata": {
  "kernelspec": {
   "display_name": "Python 3",
   "language": "python",
   "name": "python3"
  },
  "language_info": {
   "codemirror_mode": {
    "name": "ipython",
    "version": 2
   },
   "file_extension": ".py",
   "mimetype": "text/x-python",
   "name": "python",
   "nbconvert_exporter": "python",
   "pygments_lexer": "ipython2",
   "version": "2.7.6"
  }
 },
 "nbformat": 4,
 "nbformat_minor": 0
}
