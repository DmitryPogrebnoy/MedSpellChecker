{
 "cells": [
  {
   "cell_type": "code",
   "execution_count": 6,
   "outputs": [],
   "source": [
    "from huggingface_hub import HfApi\n",
    "import os"
   ],
   "metadata": {
    "collapsed": false,
    "ExecuteTime": {
     "end_time": "2023-09-08T15:36:56.190369773Z",
     "start_time": "2023-09-08T15:36:56.147784192Z"
    }
   }
  },
  {
   "cell_type": "code",
   "execution_count": 7,
   "outputs": [],
   "source": [
    "api = HfApi()"
   ],
   "metadata": {
    "collapsed": false,
    "ExecuteTime": {
     "end_time": "2023-09-08T15:36:56.419438209Z",
     "start_time": "2023-09-08T15:36:56.395756524Z"
    }
   }
  },
  {
   "cell_type": "code",
   "execution_count": 8,
   "outputs": [],
   "source": [
    "folder_path = cwd = os.getcwd()"
   ],
   "metadata": {
    "collapsed": false,
    "ExecuteTime": {
     "end_time": "2023-09-08T15:36:56.661095394Z",
     "start_time": "2023-09-08T15:36:56.541305088Z"
    }
   }
  },
  {
   "cell_type": "code",
   "execution_count": 9,
   "outputs": [],
   "source": [
    "ROOT_PROJECT_PATH = os.path.sep + os.path.join(*folder_path.split(sep=\"/\")[:5])"
   ],
   "metadata": {
    "collapsed": false,
    "ExecuteTime": {
     "end_time": "2023-09-08T15:36:56.762702677Z",
     "start_time": "2023-09-08T15:36:56.720221350Z"
    }
   }
  },
  {
   "cell_type": "code",
   "execution_count": 12,
   "outputs": [
    {
     "data": {
      "text/plain": "'https://huggingface.co/DmitryPogrebnoy/MedMDebertaV3/tree/main/'"
     },
     "execution_count": 12,
     "metadata": {},
     "output_type": "execute_result"
    }
   ],
   "source": [
    "api.upload_folder(\n",
    "    folder_path=os.path.join(ROOT_PROJECT_PATH, \"data/ml/med_mdeberta/model\"),\n",
    "    repo_id=\"DmitryPogrebnoy/MedMDebertaV3\",\n",
    "    path_in_repo =\"\",\n",
    "    repo_type=\"model\",\n",
    "    revision=\"main\",\n",
    "    commit_message=\"Model\",\n",
    "    token = \"\"\n",
    ")"
   ],
   "metadata": {
    "collapsed": false,
    "ExecuteTime": {
     "end_time": "2023-09-08T17:39:11.534257534Z",
     "start_time": "2023-09-08T17:31:13.138360421Z"
    }
   }
  },
  {
   "cell_type": "code",
   "execution_count": 13,
   "outputs": [
    {
     "data": {
      "text/plain": "'https://huggingface.co/DmitryPogrebnoy/MedMDebertaV3/tree/main/'"
     },
     "execution_count": 13,
     "metadata": {},
     "output_type": "execute_result"
    }
   ],
   "source": [
    "api.upload_folder(\n",
    "    folder_path=os.path.join(ROOT_PROJECT_PATH, \"data/ml/med_mdeberta/tokenizer\"),\n",
    "    repo_id=\"DmitryPogrebnoy/MedMDebertaV3\",\n",
    "    path_in_repo =\"\",\n",
    "    repo_type=\"model\",\n",
    "    revision=\"main\",\n",
    "    commit_message=\"Tokenizer\",\n",
    "    token = \"\"\n",
    ")"
   ],
   "metadata": {
    "collapsed": false,
    "ExecuteTime": {
     "end_time": "2023-09-08T17:39:23.339530744Z",
     "start_time": "2023-09-08T17:39:11.534042643Z"
    }
   }
  },
  {
   "cell_type": "code",
   "execution_count": 11,
   "outputs": [],
   "source": [],
   "metadata": {
    "collapsed": false,
    "ExecuteTime": {
     "end_time": "2023-09-08T15:45:15.816389309Z",
     "start_time": "2023-09-08T15:45:15.811512275Z"
    }
   }
  },
  {
   "cell_type": "code",
   "execution_count": null,
   "outputs": [],
   "source": [],
   "metadata": {
    "collapsed": false
   }
  }
 ],
 "metadata": {
  "kernelspec": {
   "display_name": "Python 3",
   "language": "python",
   "name": "python3"
  },
  "language_info": {
   "codemirror_mode": {
    "name": "ipython",
    "version": 2
   },
   "file_extension": ".py",
   "mimetype": "text/x-python",
   "name": "python",
   "nbconvert_exporter": "python",
   "pygments_lexer": "ipython2",
   "version": "2.7.6"
  }
 },
 "nbformat": 4,
 "nbformat_minor": 0
}
