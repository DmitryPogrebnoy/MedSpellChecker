{
 "cells": [
  {
   "cell_type": "markdown",
   "source": [
    "## Load anamnesis from files"
   ],
   "metadata": {
    "collapsed": false,
    "pycharm": {
     "name": "#%% md\n"
    }
   }
  },
  {
   "cell_type": "code",
   "execution_count": 10,
   "metadata": {
    "collapsed": true,
    "pycharm": {
     "name": "#%%\n"
    }
   },
   "outputs": [],
   "source": [
    "import numpy as np\n",
    "import pandas as pd\n",
    "import re"
   ]
  },
  {
   "cell_type": "code",
   "execution_count": 11,
   "outputs": [],
   "source": [
    "PATH_TO_ANAMNESIS_DEV_DATA = \"../../data/anamnesis/source/ru_med_nli_data_corpus/dev_v1.jsonl\"\n",
    "PATH_TO_ANAMNESIS_TEST_DATA = \"../../data/anamnesis/source/ru_med_nli_data_corpus/test_v1.jsonl\"\n",
    "PATH_TO_ANAMNESIS_TRAIN_DATA = \"../../data/anamnesis/source/ru_med_nli_data_corpus/train_v1.jsonl\""
   ],
   "metadata": {
    "collapsed": false,
    "pycharm": {
     "name": "#%%\n"
    }
   }
  },
  {
   "cell_type": "code",
   "execution_count": 12,
   "outputs": [],
   "source": [
    "df_dev_data = pd.read_json(PATH_TO_ANAMNESIS_DEV_DATA, lines=True)"
   ],
   "metadata": {
    "collapsed": false,
    "pycharm": {
     "name": "#%%\n"
    }
   }
  },
  {
   "cell_type": "code",
   "execution_count": 13,
   "outputs": [
    {
     "data": {
      "text/plain": "                                           ru_sentence1  \\\n0     В анамнезе нет тромбозов или ТГВ, никогда не б...   \n1     В анамнезе нет тромбозов или ТГВ, никогда не б...   \n2     В анамнезе нет тромбозов или ТГВ, никогда не б...   \n3     В течение последней недели стал более сонливым...   \n4     В течение последней недели стал более сонливым...   \n...                                                 ...   \n1390  ИБС + операция коронарного шунтирования [**3-1...   \n1391  ИБС + операция коронарного шунтирования [**3-1...   \n1392  Респираторный статус улучшился при использован...   \n1393  Респираторный статус улучшился при использован...   \n1394  Респираторный статус улучшился при использован...   \n\n                                        ru_sentence2     gold_label  \\\n0                      Пациент страдает стенокардией     entailment   \n1                    Перенес несколько эпизодов ТЭЛА  contradiction   \n2              У пациента коронарная недостаточность        neutral   \n3         В последнюю неделю он был менее внимателен     entailment   \n4     В последнюю неделю был бдителен и ориентирован  contradiction   \n...                                              ...            ...   \n1390               У пациента нет заболеваний сердца  contradiction   \n1391          У пациента в анамнезе инфаркт миокарда        neutral   \n1392                              У пациента одышка.     entailment   \n1393                  У больного нормальное дыхание.  contradiction   \n1394                                У больного ХОБЛ.        neutral   \n\n                                    pairID  \n0     1892c19a-66c7-11e7-be8f-f45c89b91419  \n1     1892c578-66c7-11e7-97cf-f45c89b91419  \n2     1892c8ac-66c7-11e7-9f8f-f45c89b91419  \n3     1892cadc-66c7-11e7-92e6-f45c89b91419  \n4     1892cce4-66c7-11e7-8c22-f45c89b91419  \n...                                    ...  \n1390  189fc514-66c7-11e7-b374-f45c89b91419  \n1391  189fc6f8-66c7-11e7-8314-f45c89b91419  \n1392  189fc892-66c7-11e7-b6c4-f45c89b91419  \n1393  189fca18-66c7-11e7-9825-f45c89b91419  \n1394  189fcb92-66c7-11e7-a450-f45c89b91419  \n\n[1395 rows x 4 columns]",
      "text/html": "<div>\n<style scoped>\n    .dataframe tbody tr th:only-of-type {\n        vertical-align: middle;\n    }\n\n    .dataframe tbody tr th {\n        vertical-align: top;\n    }\n\n    .dataframe thead th {\n        text-align: right;\n    }\n</style>\n<table border=\"1\" class=\"dataframe\">\n  <thead>\n    <tr style=\"text-align: right;\">\n      <th></th>\n      <th>ru_sentence1</th>\n      <th>ru_sentence2</th>\n      <th>gold_label</th>\n      <th>pairID</th>\n    </tr>\n  </thead>\n  <tbody>\n    <tr>\n      <th>0</th>\n      <td>В анамнезе нет тромбозов или ТГВ, никогда не б...</td>\n      <td>Пациент страдает стенокардией</td>\n      <td>entailment</td>\n      <td>1892c19a-66c7-11e7-be8f-f45c89b91419</td>\n    </tr>\n    <tr>\n      <th>1</th>\n      <td>В анамнезе нет тромбозов или ТГВ, никогда не б...</td>\n      <td>Перенес несколько эпизодов ТЭЛА</td>\n      <td>contradiction</td>\n      <td>1892c578-66c7-11e7-97cf-f45c89b91419</td>\n    </tr>\n    <tr>\n      <th>2</th>\n      <td>В анамнезе нет тромбозов или ТГВ, никогда не б...</td>\n      <td>У пациента коронарная недостаточность</td>\n      <td>neutral</td>\n      <td>1892c8ac-66c7-11e7-9f8f-f45c89b91419</td>\n    </tr>\n    <tr>\n      <th>3</th>\n      <td>В течение последней недели стал более сонливым...</td>\n      <td>В последнюю неделю он был менее внимателен</td>\n      <td>entailment</td>\n      <td>1892cadc-66c7-11e7-92e6-f45c89b91419</td>\n    </tr>\n    <tr>\n      <th>4</th>\n      <td>В течение последней недели стал более сонливым...</td>\n      <td>В последнюю неделю был бдителен и ориентирован</td>\n      <td>contradiction</td>\n      <td>1892cce4-66c7-11e7-8c22-f45c89b91419</td>\n    </tr>\n    <tr>\n      <th>...</th>\n      <td>...</td>\n      <td>...</td>\n      <td>...</td>\n      <td>...</td>\n    </tr>\n    <tr>\n      <th>1390</th>\n      <td>ИБС + операция коронарного шунтирования [**3-1...</td>\n      <td>У пациента нет заболеваний сердца</td>\n      <td>contradiction</td>\n      <td>189fc514-66c7-11e7-b374-f45c89b91419</td>\n    </tr>\n    <tr>\n      <th>1391</th>\n      <td>ИБС + операция коронарного шунтирования [**3-1...</td>\n      <td>У пациента в анамнезе инфаркт миокарда</td>\n      <td>neutral</td>\n      <td>189fc6f8-66c7-11e7-8314-f45c89b91419</td>\n    </tr>\n    <tr>\n      <th>1392</th>\n      <td>Респираторный статус улучшился при использован...</td>\n      <td>У пациента одышка.</td>\n      <td>entailment</td>\n      <td>189fc892-66c7-11e7-b6c4-f45c89b91419</td>\n    </tr>\n    <tr>\n      <th>1393</th>\n      <td>Респираторный статус улучшился при использован...</td>\n      <td>У больного нормальное дыхание.</td>\n      <td>contradiction</td>\n      <td>189fca18-66c7-11e7-9825-f45c89b91419</td>\n    </tr>\n    <tr>\n      <th>1394</th>\n      <td>Респираторный статус улучшился при использован...</td>\n      <td>У больного ХОБЛ.</td>\n      <td>neutral</td>\n      <td>189fcb92-66c7-11e7-a450-f45c89b91419</td>\n    </tr>\n  </tbody>\n</table>\n<p>1395 rows × 4 columns</p>\n</div>"
     },
     "execution_count": 13,
     "metadata": {},
     "output_type": "execute_result"
    }
   ],
   "source": [
    "df_dev_data"
   ],
   "metadata": {
    "collapsed": false,
    "pycharm": {
     "name": "#%%\n"
    }
   }
  },
  {
   "cell_type": "code",
   "execution_count": 14,
   "outputs": [],
   "source": [
    "df_test_data = pd.read_json(PATH_TO_ANAMNESIS_TEST_DATA, lines=True)"
   ],
   "metadata": {
    "collapsed": false,
    "pycharm": {
     "name": "#%%\n"
    }
   }
  },
  {
   "cell_type": "code",
   "execution_count": 15,
   "outputs": [
    {
     "data": {
      "text/plain": "                                           ru_sentence1  \\\n0     В реанимации: измеренные жиз. показатели Т 37....   \n1     В реанимации: измеренные жиз. показатели Т 37....   \n2     В реанимации: измеренные жиз. показатели Т 37....   \n3     63-летняя женщина с гиперхолестеринемией и язв...   \n4     63-летняя женщина с гиперхолестеринемией и язв...   \n...                                                 ...   \n1417  Во время этой госпитализации у пациента возник...   \n1418  Во время этой госпитализации у пациента возник...   \n1419  Папиллярная перитонеальная серозная карцинома,...   \n1420  Папиллярная перитонеальная серозная карцинома,...   \n1421  Папиллярная перитонеальная серозная карцинома,...   \n\n                                         ru_sentence2     gold_label  \\\n0                    Пациент гемодинамически стабилен     entailment   \n1                 Пациент гемодинамически нестабилен.  contradiction   \n2                            Пациент испытывает боль.        neutral   \n3                                 пациент попал в ДТП     entailment   \n4             у пациента отстутствует история болезни  contradiction   \n...                                               ...            ...   \n1417                            У пациента эуволемия.  contradiction   \n1418  У пациента застойная сердечная недостаточность.        neutral   \n1419                         У пациента рак IV стадии     entailment   \n1420   У пациента нет злокачественных новообразований  contradiction   \n1421                  Пациенту требуется химиотерапия        neutral   \n\n                                    pairID  \n0     1f2a8146-66c7-11e7-b4f2-f45c89b91419  \n1     1f2a8538-66c7-11e7-8228-f45c89b91419  \n2     1f2a87a4-66c7-11e7-a3d7-f45c89b91419  \n3     1f2a89f0-66c7-11e7-922b-f45c89b91419  \n4     1f2a8c36-66c7-11e7-9c12-f45c89b91419  \n...                                    ...  \n1417  1f376b18-66c7-11e7-85ee-f45c89b91419  \n1418  1f376d36-66c7-11e7-9e5f-f45c89b91419  \n1419  1f376ec2-66c7-11e7-84c9-f45c89b91419  \n1420  1f3770a4-66c7-11e7-9adb-f45c89b91419  \n1421  1f377270-66c7-11e7-8ca1-f45c89b91419  \n\n[1422 rows x 4 columns]",
      "text/html": "<div>\n<style scoped>\n    .dataframe tbody tr th:only-of-type {\n        vertical-align: middle;\n    }\n\n    .dataframe tbody tr th {\n        vertical-align: top;\n    }\n\n    .dataframe thead th {\n        text-align: right;\n    }\n</style>\n<table border=\"1\" class=\"dataframe\">\n  <thead>\n    <tr style=\"text-align: right;\">\n      <th></th>\n      <th>ru_sentence1</th>\n      <th>ru_sentence2</th>\n      <th>gold_label</th>\n      <th>pairID</th>\n    </tr>\n  </thead>\n  <tbody>\n    <tr>\n      <th>0</th>\n      <td>В реанимации: измеренные жиз. показатели Т 37....</td>\n      <td>Пациент гемодинамически стабилен</td>\n      <td>entailment</td>\n      <td>1f2a8146-66c7-11e7-b4f2-f45c89b91419</td>\n    </tr>\n    <tr>\n      <th>1</th>\n      <td>В реанимации: измеренные жиз. показатели Т 37....</td>\n      <td>Пациент гемодинамически нестабилен.</td>\n      <td>contradiction</td>\n      <td>1f2a8538-66c7-11e7-8228-f45c89b91419</td>\n    </tr>\n    <tr>\n      <th>2</th>\n      <td>В реанимации: измеренные жиз. показатели Т 37....</td>\n      <td>Пациент испытывает боль.</td>\n      <td>neutral</td>\n      <td>1f2a87a4-66c7-11e7-a3d7-f45c89b91419</td>\n    </tr>\n    <tr>\n      <th>3</th>\n      <td>63-летняя женщина с гиперхолестеринемией и язв...</td>\n      <td>пациент попал в ДТП</td>\n      <td>entailment</td>\n      <td>1f2a89f0-66c7-11e7-922b-f45c89b91419</td>\n    </tr>\n    <tr>\n      <th>4</th>\n      <td>63-летняя женщина с гиперхолестеринемией и язв...</td>\n      <td>у пациента отстутствует история болезни</td>\n      <td>contradiction</td>\n      <td>1f2a8c36-66c7-11e7-9c12-f45c89b91419</td>\n    </tr>\n    <tr>\n      <th>...</th>\n      <td>...</td>\n      <td>...</td>\n      <td>...</td>\n      <td>...</td>\n    </tr>\n    <tr>\n      <th>1417</th>\n      <td>Во время этой госпитализации у пациента возник...</td>\n      <td>У пациента эуволемия.</td>\n      <td>contradiction</td>\n      <td>1f376b18-66c7-11e7-85ee-f45c89b91419</td>\n    </tr>\n    <tr>\n      <th>1418</th>\n      <td>Во время этой госпитализации у пациента возник...</td>\n      <td>У пациента застойная сердечная недостаточность.</td>\n      <td>neutral</td>\n      <td>1f376d36-66c7-11e7-9e5f-f45c89b91419</td>\n    </tr>\n    <tr>\n      <th>1419</th>\n      <td>Папиллярная перитонеальная серозная карцинома,...</td>\n      <td>У пациента рак IV стадии</td>\n      <td>entailment</td>\n      <td>1f376ec2-66c7-11e7-84c9-f45c89b91419</td>\n    </tr>\n    <tr>\n      <th>1420</th>\n      <td>Папиллярная перитонеальная серозная карцинома,...</td>\n      <td>У пациента нет злокачественных новообразований</td>\n      <td>contradiction</td>\n      <td>1f3770a4-66c7-11e7-9adb-f45c89b91419</td>\n    </tr>\n    <tr>\n      <th>1421</th>\n      <td>Папиллярная перитонеальная серозная карцинома,...</td>\n      <td>Пациенту требуется химиотерапия</td>\n      <td>neutral</td>\n      <td>1f377270-66c7-11e7-8ca1-f45c89b91419</td>\n    </tr>\n  </tbody>\n</table>\n<p>1422 rows × 4 columns</p>\n</div>"
     },
     "execution_count": 15,
     "metadata": {},
     "output_type": "execute_result"
    }
   ],
   "source": [
    "df_test_data"
   ],
   "metadata": {
    "collapsed": false,
    "pycharm": {
     "name": "#%%\n"
    }
   }
  },
  {
   "cell_type": "code",
   "execution_count": 16,
   "outputs": [
    {
     "data": {
      "text/plain": "                                            ru_sentence1  \\\n0      Анализы отличались содержанием креатина 1,7 (и...   \n1      Анализы отличались содержанием креатина 1,7 (и...   \n2      Анализы отличались содержанием креатина 1,7 (и...   \n3      Отмечены нистагм и судорожное подергивание пра...   \n4      Отмечены нистагм и судорожное подергивание пра...   \n...                                                  ...   \n11227  Получил 2 ед цельной крови, прошёл ПЭТ сканиро...   \n11228  Получил 2 ед цельной крови, прошёл ПЭТ сканиро...   \n11229  Беременность осложнилась кровянистыми выделени...   \n11230  Беременность осложнилась кровянистыми выделени...   \n11231  Беременность осложнилась кровянистыми выделени...   \n\n                                            ru_sentence2     gold_label  \\\n0                             У пациента повышен креатин     entailment   \n1                          У пациента нормальный креатин  contradiction   \n2             У пациента повышенный уровень азота в моче        neutral   \n3      На неврологическом обследовании у пациента обн...     entailment   \n4      У пациента нормальное неврологическое обследов...  contradiction   \n...                                                  ...            ...   \n11227  Пациенту не проводилось процедуры ядерной меди...  contradiction   \n11228                  У пациента активное кровотечение.        neutral   \n11229  Пациентка сообщила о кровянистых выделениях пр...     entailment   \n11230              Беременность протекала без осложнений  contradiction   \n11231      У неё в анамнезе были самопроизвольные аборты        neutral   \n\n                                     pairID  \n0      23eb94b8-66c7-11e7-a8dc-f45c89b91419  \n1      23eb979c-66c7-11e7-b76c-f45c89b91419  \n2      23eb9986-66c7-11e7-9ef9-f45c89b91419  \n3      23eb9ba2-66c7-11e7-9ac1-f45c89b91419  \n4      23eb9d64-66c7-11e7-a16b-f45c89b91419  \n...                                     ...  \n11227  2449d50a-66c7-11e7-828c-f45c89b91419  \n11228  2449d712-66c7-11e7-9d9e-f45c89b91419  \n11229  2449d9ae-66c7-11e7-8338-f45c89b91419  \n11230  2449db5e-66c7-11e7-b9aa-f45c89b91419  \n11231  2449dcee-66c7-11e7-9099-f45c89b91419  \n\n[11232 rows x 4 columns]",
      "text/html": "<div>\n<style scoped>\n    .dataframe tbody tr th:only-of-type {\n        vertical-align: middle;\n    }\n\n    .dataframe tbody tr th {\n        vertical-align: top;\n    }\n\n    .dataframe thead th {\n        text-align: right;\n    }\n</style>\n<table border=\"1\" class=\"dataframe\">\n  <thead>\n    <tr style=\"text-align: right;\">\n      <th></th>\n      <th>ru_sentence1</th>\n      <th>ru_sentence2</th>\n      <th>gold_label</th>\n      <th>pairID</th>\n    </tr>\n  </thead>\n  <tbody>\n    <tr>\n      <th>0</th>\n      <td>Анализы отличались содержанием креатина 1,7 (и...</td>\n      <td>У пациента повышен креатин</td>\n      <td>entailment</td>\n      <td>23eb94b8-66c7-11e7-a8dc-f45c89b91419</td>\n    </tr>\n    <tr>\n      <th>1</th>\n      <td>Анализы отличались содержанием креатина 1,7 (и...</td>\n      <td>У пациента нормальный креатин</td>\n      <td>contradiction</td>\n      <td>23eb979c-66c7-11e7-b76c-f45c89b91419</td>\n    </tr>\n    <tr>\n      <th>2</th>\n      <td>Анализы отличались содержанием креатина 1,7 (и...</td>\n      <td>У пациента повышенный уровень азота в моче</td>\n      <td>neutral</td>\n      <td>23eb9986-66c7-11e7-9ef9-f45c89b91419</td>\n    </tr>\n    <tr>\n      <th>3</th>\n      <td>Отмечены нистагм и судорожное подергивание пра...</td>\n      <td>На неврологическом обследовании у пациента обн...</td>\n      <td>entailment</td>\n      <td>23eb9ba2-66c7-11e7-9ac1-f45c89b91419</td>\n    </tr>\n    <tr>\n      <th>4</th>\n      <td>Отмечены нистагм и судорожное подергивание пра...</td>\n      <td>У пациента нормальное неврологическое обследов...</td>\n      <td>contradiction</td>\n      <td>23eb9d64-66c7-11e7-a16b-f45c89b91419</td>\n    </tr>\n    <tr>\n      <th>...</th>\n      <td>...</td>\n      <td>...</td>\n      <td>...</td>\n      <td>...</td>\n    </tr>\n    <tr>\n      <th>11227</th>\n      <td>Получил 2 ед цельной крови, прошёл ПЭТ сканиро...</td>\n      <td>Пациенту не проводилось процедуры ядерной меди...</td>\n      <td>contradiction</td>\n      <td>2449d50a-66c7-11e7-828c-f45c89b91419</td>\n    </tr>\n    <tr>\n      <th>11228</th>\n      <td>Получил 2 ед цельной крови, прошёл ПЭТ сканиро...</td>\n      <td>У пациента активное кровотечение.</td>\n      <td>neutral</td>\n      <td>2449d712-66c7-11e7-9d9e-f45c89b91419</td>\n    </tr>\n    <tr>\n      <th>11229</th>\n      <td>Беременность осложнилась кровянистыми выделени...</td>\n      <td>Пациентка сообщила о кровянистых выделениях пр...</td>\n      <td>entailment</td>\n      <td>2449d9ae-66c7-11e7-8338-f45c89b91419</td>\n    </tr>\n    <tr>\n      <th>11230</th>\n      <td>Беременность осложнилась кровянистыми выделени...</td>\n      <td>Беременность протекала без осложнений</td>\n      <td>contradiction</td>\n      <td>2449db5e-66c7-11e7-b9aa-f45c89b91419</td>\n    </tr>\n    <tr>\n      <th>11231</th>\n      <td>Беременность осложнилась кровянистыми выделени...</td>\n      <td>У неё в анамнезе были самопроизвольные аборты</td>\n      <td>neutral</td>\n      <td>2449dcee-66c7-11e7-9099-f45c89b91419</td>\n    </tr>\n  </tbody>\n</table>\n<p>11232 rows × 4 columns</p>\n</div>"
     },
     "execution_count": 16,
     "metadata": {},
     "output_type": "execute_result"
    }
   ],
   "source": [
    "df_train_data = pd.read_json(PATH_TO_ANAMNESIS_TRAIN_DATA, lines=True)\n",
    "df_train_data"
   ],
   "metadata": {
    "collapsed": false,
    "pycharm": {
     "name": "#%%\n"
    }
   }
  },
  {
   "cell_type": "code",
   "execution_count": 17,
   "outputs": [],
   "source": [
    "df = pd.concat([df_dev_data, df_test_data, df_train_data])"
   ],
   "metadata": {
    "collapsed": false,
    "pycharm": {
     "name": "#%%\n"
    }
   }
  },
  {
   "cell_type": "code",
   "execution_count": 20,
   "outputs": [
    {
     "data": {
      "text/plain": "14049"
     },
     "execution_count": 20,
     "metadata": {},
     "output_type": "execute_result"
    }
   ],
   "source": [
    "len(df)"
   ],
   "metadata": {
    "collapsed": false,
    "pycharm": {
     "name": "#%%\n"
    }
   }
  },
  {
   "cell_type": "code",
   "execution_count": 21,
   "outputs": [],
   "source": [
    "df.drop(columns=[\"gold_label\",\"pairID\"], inplace=True)"
   ],
   "metadata": {
    "collapsed": false,
    "pycharm": {
     "name": "#%%\n"
    }
   }
  },
  {
   "cell_type": "code",
   "execution_count": 23,
   "outputs": [],
   "source": [
    "df_sentence1 = df.ru_sentence1\n",
    "df_sentence2 = df.ru_sentence2"
   ],
   "metadata": {
    "collapsed": false,
    "pycharm": {
     "name": "#%%\n"
    }
   }
  },
  {
   "cell_type": "code",
   "execution_count": 25,
   "outputs": [],
   "source": [
    "df = pd.concat([df_sentence1, df_sentence2])"
   ],
   "metadata": {
    "collapsed": false,
    "pycharm": {
     "name": "#%%\n"
    }
   }
  },
  {
   "cell_type": "code",
   "execution_count": 26,
   "outputs": [
    {
     "data": {
      "text/plain": "0        В анамнезе нет тромбозов или ТГВ, никогда не б...\n1        В анамнезе нет тромбозов или ТГВ, никогда не б...\n2        В анамнезе нет тромбозов или ТГВ, никогда не б...\n3        В течение последней недели стал более сонливым...\n4        В течение последней недели стал более сонливым...\n                               ...                        \n11227    Пациенту не проводилось процедуры ядерной меди...\n11228                    У пациента активное кровотечение.\n11229    Пациентка сообщила о кровянистых выделениях пр...\n11230                Беременность протекала без осложнений\n11231        У неё в анамнезе были самопроизвольные аборты\nLength: 28098, dtype: object"
     },
     "execution_count": 26,
     "metadata": {},
     "output_type": "execute_result"
    }
   ],
   "source": [
    "df"
   ],
   "metadata": {
    "collapsed": false,
    "pycharm": {
     "name": "#%%\n"
    }
   }
  },
  {
   "cell_type": "code",
   "execution_count": 27,
   "outputs": [],
   "source": [
    "df = df.to_frame(name=\"data\")"
   ],
   "metadata": {
    "collapsed": false,
    "pycharm": {
     "name": "#%%\n"
    }
   }
  },
  {
   "cell_type": "code",
   "execution_count": 28,
   "outputs": [],
   "source": [
    "df.reset_index(drop=True, inplace=True)"
   ],
   "metadata": {
    "collapsed": false,
    "pycharm": {
     "name": "#%%\n"
    }
   }
  },
  {
   "cell_type": "code",
   "execution_count": 29,
   "outputs": [
    {
     "data": {
      "text/plain": "                                                    data\n0      В анамнезе нет тромбозов или ТГВ, никогда не б...\n1      В анамнезе нет тромбозов или ТГВ, никогда не б...\n2      В анамнезе нет тромбозов или ТГВ, никогда не б...\n3      В течение последней недели стал более сонливым...\n4      В течение последней недели стал более сонливым...\n...                                                  ...\n28093  Пациенту не проводилось процедуры ядерной меди...\n28094                  У пациента активное кровотечение.\n28095  Пациентка сообщила о кровянистых выделениях пр...\n28096              Беременность протекала без осложнений\n28097      У неё в анамнезе были самопроизвольные аборты\n\n[28098 rows x 1 columns]",
      "text/html": "<div>\n<style scoped>\n    .dataframe tbody tr th:only-of-type {\n        vertical-align: middle;\n    }\n\n    .dataframe tbody tr th {\n        vertical-align: top;\n    }\n\n    .dataframe thead th {\n        text-align: right;\n    }\n</style>\n<table border=\"1\" class=\"dataframe\">\n  <thead>\n    <tr style=\"text-align: right;\">\n      <th></th>\n      <th>data</th>\n    </tr>\n  </thead>\n  <tbody>\n    <tr>\n      <th>0</th>\n      <td>В анамнезе нет тромбозов или ТГВ, никогда не б...</td>\n    </tr>\n    <tr>\n      <th>1</th>\n      <td>В анамнезе нет тромбозов или ТГВ, никогда не б...</td>\n    </tr>\n    <tr>\n      <th>2</th>\n      <td>В анамнезе нет тромбозов или ТГВ, никогда не б...</td>\n    </tr>\n    <tr>\n      <th>3</th>\n      <td>В течение последней недели стал более сонливым...</td>\n    </tr>\n    <tr>\n      <th>4</th>\n      <td>В течение последней недели стал более сонливым...</td>\n    </tr>\n    <tr>\n      <th>...</th>\n      <td>...</td>\n    </tr>\n    <tr>\n      <th>28093</th>\n      <td>Пациенту не проводилось процедуры ядерной меди...</td>\n    </tr>\n    <tr>\n      <th>28094</th>\n      <td>У пациента активное кровотечение.</td>\n    </tr>\n    <tr>\n      <th>28095</th>\n      <td>Пациентка сообщила о кровянистых выделениях пр...</td>\n    </tr>\n    <tr>\n      <th>28096</th>\n      <td>Беременность протекала без осложнений</td>\n    </tr>\n    <tr>\n      <th>28097</th>\n      <td>У неё в анамнезе были самопроизвольные аборты</td>\n    </tr>\n  </tbody>\n</table>\n<p>28098 rows × 1 columns</p>\n</div>"
     },
     "execution_count": 29,
     "metadata": {},
     "output_type": "execute_result"
    }
   ],
   "source": [
    "df"
   ],
   "metadata": {
    "collapsed": false,
    "pycharm": {
     "name": "#%%\n"
    }
   }
  },
  {
   "cell_type": "code",
   "execution_count": 33,
   "outputs": [],
   "source": [
    "df = pd.DataFrame(df.data.unique())"
   ],
   "metadata": {
    "collapsed": false,
    "pycharm": {
     "name": "#%%\n"
    }
   }
  },
  {
   "cell_type": "code",
   "execution_count": 42,
   "outputs": [],
   "source": [
    "df = df.rename({0: \"data\"}, axis=1)"
   ],
   "metadata": {
    "collapsed": false,
    "pycharm": {
     "name": "#%%\n"
    }
   }
  },
  {
   "cell_type": "code",
   "execution_count": 50,
   "outputs": [
    {
     "data": {
      "text/plain": "                                                    data  \\\n0      В анамнезе нет тромбозов или ТГВ, никогда не б...   \n1      В течение последней недели стал более сонливым...   \n2      ХОБЛ/астма: Спирометрия ([**4-/3393**]) ФЖЕЛ 2...   \n3      Во время госпитализации у пациента постепенно ...   \n4      Лечили сульфатом магния, лабеталолом, гидралаз...   \n...                                                  ...   \n14712                        пациент - один из близнецов   \n14713      у пациентки была беременность с низким риском   \n14714  Пациенту не проводилось процедуры ядерной меди...   \n14715  Пациентка сообщила о кровянистых выделениях пр...   \n14716      У неё в анамнезе были самопроизвольные аборты   \n\n                                                  tokens  tokens_size  \n0      [В, анамнезе, нет, тромбозов, или, ТГВ, ,, ник...           18  \n1      [В, течение, последней, недели, стал, более, с...           11  \n2      [ХОБЛ, /, астма, :, Спирометрия, (, &#91;, *, ...          101  \n3      [Во, время, госпитализации, у, пациента, посте...           26  \n4      [Лечили, сульфатом, магния, ,, лабеталолом, ,,...           16  \n...                                                  ...          ...  \n14712                  [пациент, -, один, из, близнецов]            5  \n14713  [у, пациентки, была, беременность, с, низким, ...            7  \n14714  [Пациенту, не, проводилось, процедуры, ядерной...            7  \n14715  [Пациентка, сообщила, о, кровянистых, выделени...            7  \n14716  [У, неё, в, анамнезе, были, самопроизвольные, ...            7  \n\n[14717 rows x 3 columns]",
      "text/html": "<div>\n<style scoped>\n    .dataframe tbody tr th:only-of-type {\n        vertical-align: middle;\n    }\n\n    .dataframe tbody tr th {\n        vertical-align: top;\n    }\n\n    .dataframe thead th {\n        text-align: right;\n    }\n</style>\n<table border=\"1\" class=\"dataframe\">\n  <thead>\n    <tr style=\"text-align: right;\">\n      <th></th>\n      <th>data</th>\n      <th>tokens</th>\n      <th>tokens_size</th>\n    </tr>\n  </thead>\n  <tbody>\n    <tr>\n      <th>0</th>\n      <td>В анамнезе нет тромбозов или ТГВ, никогда не б...</td>\n      <td>[В, анамнезе, нет, тромбозов, или, ТГВ, ,, ник...</td>\n      <td>18</td>\n    </tr>\n    <tr>\n      <th>1</th>\n      <td>В течение последней недели стал более сонливым...</td>\n      <td>[В, течение, последней, недели, стал, более, с...</td>\n      <td>11</td>\n    </tr>\n    <tr>\n      <th>2</th>\n      <td>ХОБЛ/астма: Спирометрия ([**4-/3393**]) ФЖЕЛ 2...</td>\n      <td>[ХОБЛ, /, астма, :, Спирометрия, (, &amp;#91;, *, ...</td>\n      <td>101</td>\n    </tr>\n    <tr>\n      <th>3</th>\n      <td>Во время госпитализации у пациента постепенно ...</td>\n      <td>[Во, время, госпитализации, у, пациента, посте...</td>\n      <td>26</td>\n    </tr>\n    <tr>\n      <th>4</th>\n      <td>Лечили сульфатом магния, лабеталолом, гидралаз...</td>\n      <td>[Лечили, сульфатом, магния, ,, лабеталолом, ,,...</td>\n      <td>16</td>\n    </tr>\n    <tr>\n      <th>...</th>\n      <td>...</td>\n      <td>...</td>\n      <td>...</td>\n    </tr>\n    <tr>\n      <th>14712</th>\n      <td>пациент - один из близнецов</td>\n      <td>[пациент, -, один, из, близнецов]</td>\n      <td>5</td>\n    </tr>\n    <tr>\n      <th>14713</th>\n      <td>у пациентки была беременность с низким риском</td>\n      <td>[у, пациентки, была, беременность, с, низким, ...</td>\n      <td>7</td>\n    </tr>\n    <tr>\n      <th>14714</th>\n      <td>Пациенту не проводилось процедуры ядерной меди...</td>\n      <td>[Пациенту, не, проводилось, процедуры, ядерной...</td>\n      <td>7</td>\n    </tr>\n    <tr>\n      <th>14715</th>\n      <td>Пациентка сообщила о кровянистых выделениях пр...</td>\n      <td>[Пациентка, сообщила, о, кровянистых, выделени...</td>\n      <td>7</td>\n    </tr>\n    <tr>\n      <th>14716</th>\n      <td>У неё в анамнезе были самопроизвольные аборты</td>\n      <td>[У, неё, в, анамнезе, были, самопроизвольные, ...</td>\n      <td>7</td>\n    </tr>\n  </tbody>\n</table>\n<p>14717 rows × 3 columns</p>\n</div>"
     },
     "execution_count": 50,
     "metadata": {},
     "output_type": "execute_result"
    }
   ],
   "source": [
    "df"
   ],
   "metadata": {
    "collapsed": false,
    "pycharm": {
     "name": "#%%\n"
    }
   }
  },
  {
   "cell_type": "markdown",
   "source": [
    "## Tokenize anamnesis texts"
   ],
   "metadata": {
    "collapsed": false,
    "pycharm": {
     "name": "#%% md\n"
    }
   }
  },
  {
   "cell_type": "markdown",
   "source": [
    "Let's tokenize anamnesis"
   ],
   "metadata": {
    "collapsed": false,
    "pycharm": {
     "name": "#%% md\n"
    }
   }
  },
  {
   "cell_type": "code",
   "execution_count": 51,
   "outputs": [
    {
     "name": "stdout",
     "output_type": "stream",
     "text": [
      "Requirement already satisfied: mosestokenizer in /home/dmitrypogrebnoy/Desktop/MedSpellChecker/venv/lib/python3.9/site-packages (1.2.1)\r\n",
      "Requirement already satisfied: openfile in /home/dmitrypogrebnoy/Desktop/MedSpellChecker/venv/lib/python3.9/site-packages (from mosestokenizer) (0.0.7)\r\n",
      "Requirement already satisfied: uctools in /home/dmitrypogrebnoy/Desktop/MedSpellChecker/venv/lib/python3.9/site-packages (from mosestokenizer) (1.3.0)\r\n",
      "Requirement already satisfied: toolwrapper in /home/dmitrypogrebnoy/Desktop/MedSpellChecker/venv/lib/python3.9/site-packages (from mosestokenizer) (2.1.0)\r\n",
      "Requirement already satisfied: docopt in /home/dmitrypogrebnoy/Desktop/MedSpellChecker/venv/lib/python3.9/site-packages (from mosestokenizer) (0.6.2)\r\n",
      "\u001B[33mWARNING: You are using pip version 21.3.1; however, version 22.2.1 is available.\r\n",
      "You should consider upgrading via the '/home/dmitrypogrebnoy/Desktop/MedSpellChecker/venv/bin/python -m pip install --upgrade pip' command.\u001B[0m\r\n"
     ]
    }
   ],
   "source": [
    "!pip install mosestokenizer"
   ],
   "metadata": {
    "collapsed": false,
    "pycharm": {
     "name": "#%%\n"
    }
   }
  },
  {
   "cell_type": "code",
   "execution_count": 52,
   "outputs": [],
   "source": [
    "from mosestokenizer import MosesTokenizer\n",
    "tokenize = MosesTokenizer(lang=\"ru\")"
   ],
   "metadata": {
    "collapsed": false,
    "pycharm": {
     "name": "#%%\n"
    }
   }
  },
  {
   "cell_type": "code",
   "execution_count": 53,
   "outputs": [],
   "source": [
    "all_anamnesis_tokens = [tokenize(text) for text in df.data]"
   ],
   "metadata": {
    "collapsed": false,
    "pycharm": {
     "name": "#%%\n"
    }
   }
  },
  {
   "cell_type": "code",
   "execution_count": 54,
   "outputs": [],
   "source": [
    "df[\"tokens\"] = all_anamnesis_tokens"
   ],
   "metadata": {
    "collapsed": false,
    "pycharm": {
     "name": "#%%\n"
    }
   }
  },
  {
   "cell_type": "code",
   "execution_count": 55,
   "outputs": [
    {
     "data": {
      "text/plain": "0        [В, анамнезе, нет, тромбозов, или, ТГВ, ,, ник...\n1        [В, течение, последней, недели, стал, более, с...\n2        [ХОБЛ, /, астма, :, Спирометрия, (, &#91;, *, ...\n3        [Во, время, госпитализации, у, пациента, посте...\n4        [Лечили, сульфатом, магния, ,, лабеталолом, ,,...\n                               ...                        \n14712                    [пациент, -, один, из, близнецов]\n14713    [у, пациентки, была, беременность, с, низким, ...\n14714    [Пациенту, не, проводилось, процедуры, ядерной...\n14715    [Пациентка, сообщила, о, кровянистых, выделени...\n14716    [У, неё, в, анамнезе, были, самопроизвольные, ...\nName: tokens, Length: 14717, dtype: object"
     },
     "execution_count": 55,
     "metadata": {},
     "output_type": "execute_result"
    }
   ],
   "source": [
    "df[\"tokens\"]"
   ],
   "metadata": {
    "collapsed": false,
    "pycharm": {
     "name": "#%%\n"
    }
   }
  },
  {
   "cell_type": "markdown",
   "source": [
    "## Filter tokens and make some analyse of words count distribution"
   ],
   "metadata": {
    "collapsed": false,
    "pycharm": {
     "name": "#%% md\n"
    }
   }
  },
  {
   "cell_type": "markdown",
   "source": [
    "Let's filter tokens"
   ],
   "metadata": {
    "collapsed": false,
    "pycharm": {
     "name": "#%% md\n"
    }
   }
  },
  {
   "cell_type": "code",
   "execution_count": 56,
   "outputs": [],
   "source": [
    "df[\"tokens_size\"] = [len(tokens) for tokens in df[\"tokens\"]]"
   ],
   "metadata": {
    "collapsed": false,
    "pycharm": {
     "name": "#%%\n"
    }
   }
  },
  {
   "cell_type": "code",
   "execution_count": 57,
   "outputs": [
    {
     "data": {
      "text/plain": "<AxesSubplot:>"
     },
     "execution_count": 57,
     "metadata": {},
     "output_type": "execute_result"
    },
    {
     "data": {
      "text/plain": "<Figure size 1440x720 with 1 Axes>",
      "image/png": "[encoded data removed]"
     },
     "metadata": {
      "needs_background": "light"
     },
     "output_type": "display_data"
    }
   ],
   "source": [
    "df[\"tokens_size\"].hist(bins=300, figsize=(20,10))"
   ],
   "metadata": {
    "collapsed": false,
    "pycharm": {
     "name": "#%%\n"
    }
   }
  },
  {
   "cell_type": "markdown",
   "source": [
    "It seems like this data some kind of surrogate since there is empty place between bars."
   ],
   "metadata": {
    "collapsed": false,
    "pycharm": {
     "name": "#%% md\n"
    }
   }
  },
  {
   "cell_type": "code",
   "execution_count": 103,
   "outputs": [],
   "source": [
    "import regex\n",
    "\n",
    "# Filter words with any non-сyrillic character\n",
    "def filter_invalid_token(token_list):\n",
    "    return [token for token in token_list if (not regex.search(\"\\P{Cyrillic}\", token))]"
   ],
   "metadata": {
    "collapsed": false,
    "pycharm": {
     "name": "#%%\n"
    }
   }
  },
  {
   "cell_type": "code",
   "execution_count": 104,
   "outputs": [],
   "source": [
    "df[\"filtered_tokens\"] = [filter_invalid_token(tokens) for tokens in df[\"tokens\"]]"
   ],
   "metadata": {
    "collapsed": false,
    "pycharm": {
     "name": "#%%\n"
    }
   }
  },
  {
   "cell_type": "code",
   "execution_count": 105,
   "outputs": [
    {
     "data": {
      "text/plain": "0        [В, анамнезе, нет, тромбозов, или, ТГВ, никогд...\n1        [В, течение, последней, недели, стал, более, с...\n2        [ХОБЛ, астма, Спирометрия, ФЖЕЛ, ФЖЕЛ, объём, ...\n3        [Во, время, госпитализации, у, пациента, посте...\n4        [Лечили, сульфатом, магния, лабеталолом, гидра...\n                               ...                        \n14712                       [пациент, один, из, близнецов]\n14713    [у, пациентки, была, беременность, с, низким, ...\n14714    [Пациенту, не, проводилось, процедуры, ядерной...\n14715    [Пациентка, сообщила, о, кровянистых, выделени...\n14716    [У, неё, в, анамнезе, были, самопроизвольные, ...\nName: filtered_tokens, Length: 14717, dtype: object"
     },
     "execution_count": 105,
     "metadata": {},
     "output_type": "execute_result"
    }
   ],
   "source": [
    "df[\"filtered_tokens\"]"
   ],
   "metadata": {
    "collapsed": false,
    "pycharm": {
     "name": "#%%\n"
    }
   }
  },
  {
   "cell_type": "code",
   "execution_count": 106,
   "outputs": [],
   "source": [
    "df[\"filtered_tokens_size\"] = [len(tokens) for tokens in df[\"filtered_tokens\"]]"
   ],
   "metadata": {
    "collapsed": false,
    "pycharm": {
     "name": "#%%\n"
    }
   }
  },
  {
   "cell_type": "code",
   "execution_count": 107,
   "outputs": [
    {
     "data": {
      "text/plain": "<AxesSubplot:>"
     },
     "execution_count": 107,
     "metadata": {},
     "output_type": "execute_result"
    },
    {
     "data": {
      "text/plain": "<Figure size 1440x720 with 1 Axes>",
      "image/png": "[encoded data removed]"
     },
     "metadata": {
      "needs_background": "light"
     },
     "output_type": "display_data"
    }
   ],
   "source": [
    "df[\"filtered_tokens_size\"].hist(bins=300, figsize=(20,10))"
   ],
   "metadata": {
    "collapsed": false,
    "pycharm": {
     "name": "#%%\n"
    }
   }
  },
  {
   "cell_type": "code",
   "execution_count": 108,
   "outputs": [
    {
     "data": {
      "text/plain": "0.25     4.0\n0.50     5.0\n0.75     8.0\n0.90    15.0\n0.95    20.0\n0.99    32.0\nName: filtered_tokens_size, dtype: float64"
     },
     "execution_count": 108,
     "metadata": {},
     "output_type": "execute_result"
    }
   ],
   "source": [
    "quantile_levels = [.25,.5,.75,.9,.95,.99]\n",
    "filtered_tokens_size_quantiles = df[\"filtered_tokens_size\"].quantile(quantile_levels)\n",
    "filtered_tokens_size_quantiles"
   ],
   "metadata": {
    "collapsed": false,
    "pycharm": {
     "name": "#%%\n"
    }
   }
  },
  {
   "cell_type": "code",
   "execution_count": 109,
   "outputs": [
    {
     "data": {
      "text/plain": "5     2799\n4     2750\n6     1789\n3     1649\n7     1134\n      ... \n57       1\n66       1\n93       1\n54       1\n75       1\nName: filtered_tokens_size, Length: 66, dtype: int64"
     },
     "execution_count": 109,
     "metadata": {},
     "output_type": "execute_result"
    }
   ],
   "source": [
    "df[\"filtered_tokens_size\"].value_counts()"
   ],
   "metadata": {
    "collapsed": false,
    "pycharm": {
     "name": "#%%\n"
    }
   }
  },
  {
   "cell_type": "markdown",
   "source": [
    "Check anamnesis with extremely low word counts"
   ],
   "metadata": {
    "collapsed": false,
    "pycharm": {
     "name": "#%% md\n"
    }
   }
  },
  {
   "cell_type": "code",
   "execution_count": 110,
   "outputs": [
    {
     "data": {
      "text/plain": "                                                 data  \\\n11                   Выявлен ИМпST с тропонином 0,11.   \n14                           Сахарный диабет II типа.   \n23                                     ХСН, ФВ 55% 6.   \n26                        Монгольские пятна на спине.   \n44         АНАМНЕЗ: Не способен воспринимать команды.   \n...                                               ...   \n14706         пациентка проходит лечение от бесплодия   \n14707  пациентка имеет преклонный материнский возраст   \n14709         Пациент имеет нормальный ур гематокрита   \n14711              пациентка родила здорового ребёнка   \n14712                     пациент - один из близнецов   \n\n                                                  tokens  tokens_size  \\\n11              [Выявлен, ИМпST, с, тропонином, 0,11, .]            6   \n14                       [Сахарный, диабет, II, типа, .]            5   \n23                             [ХСН, ,, ФВ, 55, %, 6, .]            7   \n26                    [Монгольские, пятна, на, спине, .]            5   \n44     [АНАМНЕЗ, :, Не, способен, воспринимать, коман...            7   \n...                                                  ...          ...   \n14706      [пациентка, проходит, лечение, от, бесплодия]            5   \n14707  [пациентка, имеет, преклонный, материнский, во...            5   \n14709      [Пациент, имеет, нормальный, ур, гематокрита]            5   \n14711            [пациентка, родила, здорового, ребёнка]            4   \n14712                  [пациент, -, один, из, близнецов]            5   \n\n                                         filtered_tokens  filtered_tokens_size  \n11                              [Выявлен, с, тропонином]                     3  \n14                              [Сахарный, диабет, типа]                     3  \n23                                             [ХСН, ФВ]                     2  \n26                       [Монгольские, пятна, на, спине]                     4  \n44        [АНАМНЕЗ, Не, способен, воспринимать, команды]                     5  \n...                                                  ...                   ...  \n14706      [пациентка, проходит, лечение, от, бесплодия]                     5  \n14707  [пациентка, имеет, преклонный, материнский, во...                     5  \n14709      [Пациент, имеет, нормальный, ур, гематокрита]                     5  \n14711            [пациентка, родила, здорового, ребёнка]                     4  \n14712                     [пациент, один, из, близнецов]                     4  \n\n[7659 rows x 5 columns]",
      "text/html": "<div>\n<style scoped>\n    .dataframe tbody tr th:only-of-type {\n        vertical-align: middle;\n    }\n\n    .dataframe tbody tr th {\n        vertical-align: top;\n    }\n\n    .dataframe thead th {\n        text-align: right;\n    }\n</style>\n<table border=\"1\" class=\"dataframe\">\n  <thead>\n    <tr style=\"text-align: right;\">\n      <th></th>\n      <th>data</th>\n      <th>tokens</th>\n      <th>tokens_size</th>\n      <th>filtered_tokens</th>\n      <th>filtered_tokens_size</th>\n    </tr>\n  </thead>\n  <tbody>\n    <tr>\n      <th>11</th>\n      <td>Выявлен ИМпST с тропонином 0,11.</td>\n      <td>[Выявлен, ИМпST, с, тропонином, 0,11, .]</td>\n      <td>6</td>\n      <td>[Выявлен, с, тропонином]</td>\n      <td>3</td>\n    </tr>\n    <tr>\n      <th>14</th>\n      <td>Сахарный диабет II типа.</td>\n      <td>[Сахарный, диабет, II, типа, .]</td>\n      <td>5</td>\n      <td>[Сахарный, диабет, типа]</td>\n      <td>3</td>\n    </tr>\n    <tr>\n      <th>23</th>\n      <td>ХСН, ФВ 55% 6.</td>\n      <td>[ХСН, ,, ФВ, 55, %, 6, .]</td>\n      <td>7</td>\n      <td>[ХСН, ФВ]</td>\n      <td>2</td>\n    </tr>\n    <tr>\n      <th>26</th>\n      <td>Монгольские пятна на спине.</td>\n      <td>[Монгольские, пятна, на, спине, .]</td>\n      <td>5</td>\n      <td>[Монгольские, пятна, на, спине]</td>\n      <td>4</td>\n    </tr>\n    <tr>\n      <th>44</th>\n      <td>АНАМНЕЗ: Не способен воспринимать команды.</td>\n      <td>[АНАМНЕЗ, :, Не, способен, воспринимать, коман...</td>\n      <td>7</td>\n      <td>[АНАМНЕЗ, Не, способен, воспринимать, команды]</td>\n      <td>5</td>\n    </tr>\n    <tr>\n      <th>...</th>\n      <td>...</td>\n      <td>...</td>\n      <td>...</td>\n      <td>...</td>\n      <td>...</td>\n    </tr>\n    <tr>\n      <th>14706</th>\n      <td>пациентка проходит лечение от бесплодия</td>\n      <td>[пациентка, проходит, лечение, от, бесплодия]</td>\n      <td>5</td>\n      <td>[пациентка, проходит, лечение, от, бесплодия]</td>\n      <td>5</td>\n    </tr>\n    <tr>\n      <th>14707</th>\n      <td>пациентка имеет преклонный материнский возраст</td>\n      <td>[пациентка, имеет, преклонный, материнский, во...</td>\n      <td>5</td>\n      <td>[пациентка, имеет, преклонный, материнский, во...</td>\n      <td>5</td>\n    </tr>\n    <tr>\n      <th>14709</th>\n      <td>Пациент имеет нормальный ур гематокрита</td>\n      <td>[Пациент, имеет, нормальный, ур, гематокрита]</td>\n      <td>5</td>\n      <td>[Пациент, имеет, нормальный, ур, гематокрита]</td>\n      <td>5</td>\n    </tr>\n    <tr>\n      <th>14711</th>\n      <td>пациентка родила здорового ребёнка</td>\n      <td>[пациентка, родила, здорового, ребёнка]</td>\n      <td>4</td>\n      <td>[пациентка, родила, здорового, ребёнка]</td>\n      <td>4</td>\n    </tr>\n    <tr>\n      <th>14712</th>\n      <td>пациент - один из близнецов</td>\n      <td>[пациент, -, один, из, близнецов]</td>\n      <td>5</td>\n      <td>[пациент, один, из, близнецов]</td>\n      <td>4</td>\n    </tr>\n  </tbody>\n</table>\n<p>7659 rows × 5 columns</p>\n</div>"
     },
     "execution_count": 110,
     "metadata": {},
     "output_type": "execute_result"
    }
   ],
   "source": [
    "df[df[\"filtered_tokens_size\"] <= 5]"
   ],
   "metadata": {
    "collapsed": false,
    "pycharm": {
     "name": "#%%\n"
    }
   }
  },
  {
   "cell_type": "code",
   "execution_count": 111,
   "outputs": [
    {
     "data": {
      "text/plain": "                                                    data  \\\n0      В анамнезе нет тромбозов или ТГВ, никогда не б...   \n1      В течение последней недели стал более сонливым...   \n2      ХОБЛ/астма: Спирометрия ([**4-/3393**]) ФЖЕЛ 2...   \n3      Во время госпитализации у пациента постепенно ...   \n4      Лечили сульфатом магния, лабеталолом, гидралаз...   \n...                                                  ...   \n14712                        пациент - один из близнецов   \n14713      у пациентки была беременность с низким риском   \n14714  Пациенту не проводилось процедуры ядерной меди...   \n14715  Пациентка сообщила о кровянистых выделениях пр...   \n14716      У неё в анамнезе были самопроизвольные аборты   \n\n                                                  tokens  tokens_size  \\\n0      [В, анамнезе, нет, тромбозов, или, ТГВ, ,, ник...           18   \n1      [В, течение, последней, недели, стал, более, с...           11   \n2      [ХОБЛ, /, астма, :, Спирометрия, (, &#91;, *, ...          101   \n3      [Во, время, госпитализации, у, пациента, посте...           26   \n4      [Лечили, сульфатом, магния, ,, лабеталолом, ,,...           16   \n...                                                  ...          ...   \n14712                  [пациент, -, один, из, близнецов]            5   \n14713  [у, пациентки, была, беременность, с, низким, ...            7   \n14714  [Пациенту, не, проводилось, процедуры, ядерной...            7   \n14715  [Пациентка, сообщила, о, кровянистых, выделени...            7   \n14716  [У, неё, в, анамнезе, были, самопроизвольные, ...            7   \n\n                                         filtered_tokens  filtered_tokens_size  \n0      [В, анамнезе, нет, тромбозов, или, ТГВ, никогд...                    16  \n1      [В, течение, последней, недели, стал, более, с...                    10  \n2      [ХОБЛ, астма, Спирометрия, ФЖЕЛ, ФЖЕЛ, объём, ...                    20  \n3      [Во, время, госпитализации, у, пациента, посте...                    23  \n4      [Лечили, сульфатом, магния, лабеталолом, гидра...                    12  \n...                                                  ...                   ...  \n14712                     [пациент, один, из, близнецов]                     4  \n14713  [у, пациентки, была, беременность, с, низким, ...                     7  \n14714  [Пациенту, не, проводилось, процедуры, ядерной...                     6  \n14715  [Пациентка, сообщила, о, кровянистых, выделени...                     7  \n14716  [У, неё, в, анамнезе, были, самопроизвольные, ...                     7  \n\n[14717 rows x 5 columns]",
      "text/html": "<div>\n<style scoped>\n    .dataframe tbody tr th:only-of-type {\n        vertical-align: middle;\n    }\n\n    .dataframe tbody tr th {\n        vertical-align: top;\n    }\n\n    .dataframe thead th {\n        text-align: right;\n    }\n</style>\n<table border=\"1\" class=\"dataframe\">\n  <thead>\n    <tr style=\"text-align: right;\">\n      <th></th>\n      <th>data</th>\n      <th>tokens</th>\n      <th>tokens_size</th>\n      <th>filtered_tokens</th>\n      <th>filtered_tokens_size</th>\n    </tr>\n  </thead>\n  <tbody>\n    <tr>\n      <th>0</th>\n      <td>В анамнезе нет тромбозов или ТГВ, никогда не б...</td>\n      <td>[В, анамнезе, нет, тромбозов, или, ТГВ, ,, ник...</td>\n      <td>18</td>\n      <td>[В, анамнезе, нет, тромбозов, или, ТГВ, никогд...</td>\n      <td>16</td>\n    </tr>\n    <tr>\n      <th>1</th>\n      <td>В течение последней недели стал более сонливым...</td>\n      <td>[В, течение, последней, недели, стал, более, с...</td>\n      <td>11</td>\n      <td>[В, течение, последней, недели, стал, более, с...</td>\n      <td>10</td>\n    </tr>\n    <tr>\n      <th>2</th>\n      <td>ХОБЛ/астма: Спирометрия ([**4-/3393**]) ФЖЕЛ 2...</td>\n      <td>[ХОБЛ, /, астма, :, Спирометрия, (, &amp;#91;, *, ...</td>\n      <td>101</td>\n      <td>[ХОБЛ, астма, Спирометрия, ФЖЕЛ, ФЖЕЛ, объём, ...</td>\n      <td>20</td>\n    </tr>\n    <tr>\n      <th>3</th>\n      <td>Во время госпитализации у пациента постепенно ...</td>\n      <td>[Во, время, госпитализации, у, пациента, посте...</td>\n      <td>26</td>\n      <td>[Во, время, госпитализации, у, пациента, посте...</td>\n      <td>23</td>\n    </tr>\n    <tr>\n      <th>4</th>\n      <td>Лечили сульфатом магния, лабеталолом, гидралаз...</td>\n      <td>[Лечили, сульфатом, магния, ,, лабеталолом, ,,...</td>\n      <td>16</td>\n      <td>[Лечили, сульфатом, магния, лабеталолом, гидра...</td>\n      <td>12</td>\n    </tr>\n    <tr>\n      <th>...</th>\n      <td>...</td>\n      <td>...</td>\n      <td>...</td>\n      <td>...</td>\n      <td>...</td>\n    </tr>\n    <tr>\n      <th>14712</th>\n      <td>пациент - один из близнецов</td>\n      <td>[пациент, -, один, из, близнецов]</td>\n      <td>5</td>\n      <td>[пациент, один, из, близнецов]</td>\n      <td>4</td>\n    </tr>\n    <tr>\n      <th>14713</th>\n      <td>у пациентки была беременность с низким риском</td>\n      <td>[у, пациентки, была, беременность, с, низким, ...</td>\n      <td>7</td>\n      <td>[у, пациентки, была, беременность, с, низким, ...</td>\n      <td>7</td>\n    </tr>\n    <tr>\n      <th>14714</th>\n      <td>Пациенту не проводилось процедуры ядерной меди...</td>\n      <td>[Пациенту, не, проводилось, процедуры, ядерной...</td>\n      <td>7</td>\n      <td>[Пациенту, не, проводилось, процедуры, ядерной...</td>\n      <td>6</td>\n    </tr>\n    <tr>\n      <th>14715</th>\n      <td>Пациентка сообщила о кровянистых выделениях пр...</td>\n      <td>[Пациентка, сообщила, о, кровянистых, выделени...</td>\n      <td>7</td>\n      <td>[Пациентка, сообщила, о, кровянистых, выделени...</td>\n      <td>7</td>\n    </tr>\n    <tr>\n      <th>14716</th>\n      <td>У неё в анамнезе были самопроизвольные аборты</td>\n      <td>[У, неё, в, анамнезе, были, самопроизвольные, ...</td>\n      <td>7</td>\n      <td>[У, неё, в, анамнезе, были, самопроизвольные, ...</td>\n      <td>7</td>\n    </tr>\n  </tbody>\n</table>\n<p>14717 rows × 5 columns</p>\n</div>"
     },
     "execution_count": 111,
     "metadata": {},
     "output_type": "execute_result"
    }
   ],
   "source": [
    "df = df[df[\"filtered_tokens_size\"] != 0]\n",
    "df"
   ],
   "metadata": {
    "collapsed": false,
    "pycharm": {
     "name": "#%%\n"
    }
   }
  },
  {
   "cell_type": "markdown",
   "source": [
    "Check anamnesis with many tokens"
   ],
   "metadata": {
    "collapsed": false,
    "pycharm": {
     "name": "#%% md\n"
    }
   }
  },
  {
   "cell_type": "code",
   "execution_count": 112,
   "outputs": [
    {
     "name": "stdout",
     "output_type": "stream",
     "text": [
      "['На', 'приёме', 'у', 'доктора', 'Имя', 'мобильное', 'УЗИ', 'выявило', 'Сложный', 'материал', 'в', 'полости', 'эндометрия', 'от', 'дна', 'до', 'внутреннего', 'отверстия', 'диаметром', 'около', 'см', 'с', 'сосудами', 'сохраненные', 'продукты', 'зачатия', 'Кроме', 'того', 'в', 'области', 'переднего', 'дна', 'граница', 'между', 'миометрием', 'и', 'сохраненными', 'продуктами', 'зачатия', 'размыта', 'что', 'вероятно', 'представляет', 'аккрецию', 'Свободной', 'жидкости', 'и', 'гидронефроза', 'нет', 'Таким', 'образом', 'поскольку', 'ее', 'жизненные', 'показатели', 'были', 'стабильными', 'ее', 'перевели', 'в', 'стационар', 'для', 'дальнейшей', 'оценки', 'и', 'планирования']\n",
      "['ИБС', 'выполненная', 'процедура', 'чрезкожного', 'коронарного', 'вмешательства', 'в', 'тупая', 'краевая', 'с', 'поражением', 'сосудов', 'на', 'катетеризации', 'в', 'От', 'умеренной', 'до', 'тяжелой', 'Систолическая', 'и', 'диастолическая', 'ХСН', 'на', 'эхокг', 'в', 'Пульмозная', 'ГВС', 'Левая', 'операция', 'катаракты', 'в', 'ПВД', 'бедренно', 'перонеальной', 'неудачный', 'трансплантат', 'перенес', 'левую', 'БКА', 'ИМП', 'с', 'сепсисом', 'рецидивирующие', 'ИМП', 'на', 'супрессивных', 'антибиотиках', 'ГВС', 'Гиперлипидемия', 'Положительная', 'реакция', 'Манту', 'в', 'Анемия', 'с', 'цереброваскулярными', 'нарушениями', 'в', 'сонная', 'эндартерэктомия', 'Диабетическая', 'ретинопатия', 'состояние', 'после', 'лазерной', 'терапии']\n",
      "['ИСТОРИЯ', 'БОЛЕЗНИ', 'Диабет', 'типа', 'лечится', 'инсулином', 'гастроэзофагеальная', 'рефлюксная', 'болезнь', 'кольцо', 'Шацки', 'нарушения', 'мозгового', 'кровообращения', 'в', 'с', 'остаточным', 'левым', 'гемипарезом', 'лечится', 'кумадином', 'тотальная', 'абдоминальная', 'гистерэктомия', 'и', 'двусторонняя', 'сальпингоофорэктомия', 'заболевания', 'периферических', 'сосудов', 'состояние', 'после', 'аппендэктомии', 'ишемическая', 'болезнь', 'сердца', 'с', 'пересадкой', 'коронарной', 'артерии', 'в', 'с', 'пересадкой', 'левой', 'внутренней', 'грудной', 'артерии', 'в', 'левую', 'переднюю', 'нисходящую', 'правой', 'подкожной', 'вены', 'в', 'тупой', 'край', 'номер', 'один', 'и', 'лучевой', 'в', 'заднюю', 'нисходящую', 'артерию']\n",
      "['ХОБЛ', 'ожирение', 'неуточненная', 'гипоксемия', 'лимфома', 'ЦНС', 'ОНМК', 'заднее', 'кровообращение', 'и', 'судороги', 'в', 'анамнезе', 'САК', 'во', 'время', 'приема', 'кумадина', 'диастолическая', 'сердечная', 'недостаточность', 'ишемическая', 'болезнь', 'сердца', 'фибрилляция', 'предсердий', 'гипертония', 'гиперлипидемия', 'токсическая', 'мультимодулярная', 'гиперлипидемия', 'тяжелая', 'форма', 'СОАС', 'в', 'прошлом', 'не', 'переносил', 'СИПАП', 'терапию', 'первичный', 'гиперпаратиреоз', 'дефицит', 'вит', 'с', 'б', 'нефролитиаз', 'токсический', 'многоузловой', 'зоб', 'с', 'субклиническим', 'гипертиреозом', 'неоваскулярная', 'глаукома', 'с', 'б', 'слепота', 'на', 'правый', 'глаз']\n",
      "['Метастатическая', 'почечно', 'клеточная', 'карцинома', 'диагностирована', 'в', 'левая', 'радикальная', 'нефрэктомия', 'с', 'патологией', 'соответствующей', 'ясноклеточной', 'карциноме', 'удаление', 'правой', 'верхней', 'доли', 'легочного', 'метастаза', 'резекция', 'метастаза', 'правой', 'лобной', 'доли', 'мозга', 'со', 'стеротактической', 'радиохирургией', 'на', 'место', 'резекции', 'курс', 'высокодозного', 'правой', 'билобэктомии', 'правая', 'верхняя', 'и', 'правая', 'средняя', 'доля', 'резекции', 'правой', 'грудной', 'стенки', 'клиновидной', 'резекции', 'правой', 'нижней', 'доли', 'киберножом', 'сунитиниб', 'осложненной', 'синдромом', 'рука', 'нога', 'мукозит', 'исследование', 'по', 'настоящее', 'время', 'и', 'ветебрэктомия', 'и', 'реконтрукция', 'Гипертония', 'Язвенная', 'болезнь', 'положительный', 'Гипергликемия']\n",
      "['Находится', 'на', 'хроническом', 'лечении', 'хинидином', 'Пароксизмальная', 'ЖТ', 'потребовавшая', 'установки', 'ИКД', 'в', 'в', 'Больница', 'ИКД', 'был', 'заменен', 'с', 'левой', 'на', 'правую', 'сторону', 'грудной', 'клетки', 'в', 'из', 'за', 'перелома', 'проводника', 'срабатывания', 'ИКД', 'раз', 'в', 'год', 'обычно', 'связанные', 'с', 'напряженной', 'деятельностью', 'обычно', 'при', 'рубке', 'дров', 'обычно', 'с', 'головокружением', 'и', 'предобморочным', 'состоянием', 'иногда', 'обмороки', 'Рецидивирующие', 'лёгочные', 'инфекции', 'в', 'детстве', 'и', 'юности', 'множественные', 'легочные', 'узелки', 'при', 'биопсии', 'лёгких', 'с', 'острой', 'и', 'хронической', 'организующейся', 'тромбоэмболией', 'с', 'очаговым', 'инфарктом', 'и', 'обширными', 'реактивными', 'изменениями', 'включая', 'организующийся', 'пневмонит', 'На', 'Эхо', 'КГ', 'и', 'ТЭЭ', 'обнаружено', 'зарастание', 'отведений', 'ИКД']\n",
      "['СД', 'на', 'инсулине', 'рак', 'предстательной', 'железы', 'лучевая', 'терапия', 'хроническое', 'недержание', 'мочи', 'трансуретральная', 'резекция', 'простаты', 'история', 'ИМП', 'включая', 'предшествующие', 'МРЗС', 'клебсиеллы', 'протеус', 'псевдомонас', 'разрыв', 'и', 'восстановление', 'мочевого', 'пузыря', 'фибрилляция', 'предсердий', 'не', 'принимает', 'антикоагулянты', 'из', 'за', 'кровотечения', 'аортальный', 'стеноз', 'на', 'Эхо', 'КГ', 'сосудистые', 'заболевания', 'сосудистая', 'недостаточность', 'хроническая', 'аксональная', 'нейропатия', 'радикулопатия', 'и', 'плексопатия', 'из', 'за', 'луч', 'терапии', 'с', 'опусканием', 'правой', 'ноги', 'в', 'течение', 'многих', 'лет', 'перелом', 'двусторонняя', 'лазерная', 'операция', 'также', 'с', 'макулярным', 'отеком', 'инъекции', 'дексаметазона', 'левой', 'щитовидной', 'железы', 'доброкачественный']\n",
      "['Цитогенетика', 'примечательна', 'для', 'первоначально', 'лечился', 'и', 'идарубицин', 'и', 'однако', 'на', 'й', 'день', 'в', 'костном', 'мозге', 'были', 'обнаружены', 'персистирующие', 'бласты', 'Он', 'был', 'включен', 'в', 'рандомизированное', 'исследование', 'с', 'клофарабином', 'или', 'без', 'него', 'и', 'начал', 'лечение', 'Этот', 'курс', 'сопровождался', 'лихорадкой', 'до', 'сыпью', 'ФПП', 'Костный', 'мозг', 'показал', 'умеренно', 'гиперклеточный', 'эритроидный', 'доминирующий', 'костный', 'мозг', 'без', 'морфологических', 'признаков', 'лейкемии', 'получили', 'однократный', 'цикл', 'Дакогена', 'из', 'за', 'проблем', 'с', 'донором', 'начали', 'кондиционирование', 'сниженной', 'интенсивности', 'с', 'флударабином', 'бусульфаном', 'и', 'АТГ', 'День', 'был', 'Он', 'получил', 'один', 'пакет', 'кг', 'Течение', 'после', 'трансплантации', 'было', 'неосложненным', 'за', 'исключением', 'легкого', 'трансаминита', 'Он', 'был', 'выписан', 'из', 'больницы', 'на', 'й', 'день', 'Информация', 'о', 'доноре', 'реципиент', 'донор', 'мужчина']\n",
      "['Последнее', 'обследование', 'было', 'проведено', 'в', 'прошлом', 'месяц', 'когда', 'были', 'обнаружены', 'ангиоэктазии', 'в', 'желудке', 'одна', 'в', 'тонкой', 'кишке', 'и', 'одна', 'в', 'нисходящей', 'ободочной', 'кишке', 'контролируемый', 'дефицит', 'железа', 'мальформации', 'АВ', 'желудка', 'и', 'двенадцатиперстной', 'кишки', 'как', 'указано', 'выше', 'зависимость', 'от', 'переливания', 'крови', 'исходный', 'уровень', 'гематокрита', 'около', 'абдоминальная', 'боль', 'опорожнения', 'желудка', 'ТГВ', 'тромбэктомия', 'установка', 'фильтра', 'нижней', 'полой', 'вены', 'стентирование', 'общей', 'и', 'наружной', 'подвздошной', 'вены', 'на', 'кумадине', 'плавиксе', 'домашнем', 'против']\n",
      "['Его', 'эпилептолог', 'доктор', 'Фамилия', 'Частота', 'основных', 'приступов', 'обычно', 'составляет', 'больших', 'приступа', 'в', 'год', 'с', 'и', 'рвотой', 'усталостью', 'после', 'приступа', 'раза', 'в', 'неделю', 'меньшие', 'приступы', 'с', 'запрокидыванием', 'головы', 'назад', 'поднятие', 'левой', 'руки', 'в', 'течение', 'нескольких', 'секунд', 'стимулятор', 'блуждающего', 'нерва', 'умственная', 'отсталость', 'церебральный', 'паралич', 'синдром', 'Денди', 'Уокера', 'хроническая', 'экзотропия', 'правого', 'глаза', 'вентрикулоперитонеальный', 'шунт', 'удаление', 'АВМ', 'височная', 'левый', 'гемипарез', 'и', 'гемигипоплазия', 'агенезия', 'левого', 'мозжечка', 'депрессия', 'тяжелые', 'переломы', 'левого', 'колена', 'и', 'бедра', 'со', 'стержнем', 'в', 'ноге', 'тяжёлое', 'возможное', 'желудочно', 'кишечное', 'кровотечение', 'также', 'периодически', 'наблюдается', 'рвота', 'кофейной', 'гущей', 'гипертония', 'рак', 'простаты', 'проходит', 'ежедневную', 'рентгенотерапию', 'дней', 'в', 'неделю', 'начата']\n",
      "['после', 'шунтирования', 'восходящей', 'аорты', 'в', 'нисходящую', 'аорту', 'миллиметровым', 'гелевым', 'трансплантатом', 'разрыва', 'правого', 'желудочка', 'и', 'дебридмент', 'раны', 'грудины', 'дистальной', 'дуги', 'хирургическое', 'восстановление', 'дуги', 'деск', 'с', 'гомотрансплантатом', 'через', 'левую', 'торакотомию', 'в', 'возрасте', 'лет', 'аортальный', 'клапан', 'сердечная', 'недостаточность', 'последнее', 'ЭхоКГ', 'было', 'сделанное', 'после', 'восстановления', 'разрыва', 'но', 'в', 'то', 'время', 'ФВ', 'был', 'артрит', 'Меккеля', 'операция', 'правого', 'лёгкого', 'крестцовое', 'соединение', 'декомпрессия', 'через', 'артроскопию', 'холецистэктомия', 'правой', 'паховой', 'грыжи', 'на', 'носу', 'при', 'искривлении', 'перегородки', 'линз', 'индуцированная', 'тромбоцитопения', 'недавняя', 'МРЗС', 'пневмония', 'предсердий', 'во', 'время', 'госпитализации', 'ВРЭ', 'линезолид', 'через', 'инфекции', 'аортального', 'трансплантата', 'МРЗС', 'установка', 'желудочной', 'трубки', 'трахеостомия']\n",
      "['Он', 'был', 'переведен', 'из', 'Больница', 'в', 'Больница', 'для', 'катетеризации', 'которая', 'показала', 'следующее', 'праводоминантная', 'система', 'остиальное', 'поражение', 'сильно', 'кальцифицированная', 'ПМЖВ', 'проксимально', 'середина', 'после', 'высокой', 'диагонали', 'Умеренная', 'таранная', 'полностью', 'окклюзирована', 'ПКА', 'полностью', 'окклюзирована', 'в', 'середине', 'поражения', 'коллатерали', 'к', 'таранной', 'патент', 'патент', 'ПМЖВ', 'окклюзированы', 'очень', 'маленький', 'сосуд', 'дистально', 'и', 'не', 'визуализируется', 'через', 'в', 'левую', 'магистраль', 'не', 'удалось', 'развернуть', 'в', 'ПМЖВ', 'с', 'последующим', 'крупным', 'рассечением', 'и', 'поэтому', 'голый', 'металлический', 'стент', 'в', 'ПМЖВ', 'чтобы', 'закрыть', 'рассечение']\n",
      "['ИБС', 'АКШ', 'в', 'шунт', 'и', 'заплата', 'из', 'левой', 'сонной', 'артерии', 'в', 'восходящую', 'аорту', 'в', 'условиях', 'СВТ', 'стент', 'для', 'блокады', 'ЛМА', 'ЧМТ', 'с', 'ФВ', 'с', 'умеренным', 'ТР', 'МР', 'РЧА', 'для', 'АВ', 'узловой', 'тахикардии', 'ХОБЛ', 'на', 'домашнем', 'кислороде', 'ночью', 'Гипотиреоз', 'гипертония', 'уровень', 'креатина', 'ЗПА', 'Левое', 'шунтирование', 'и', 'аорто', 'фемово', 'шунтирование', 'Шунтирование', 'тибиального', 'анастомоза', 'ОНМК', 'с', 'некоторой', 'остаточной', 'правосторонней', 'слабостью', 'остеопороз', 'Восстановление', 'вентральной', 'грыжи', 'полная', 'абдоминальная', 'гистерэктомия', 'Открытая', 'репозиция', 'и', 'внутренняя', 'фиксация', 'левого', 'бедра', 'анемия', 'СД', 'Диабет', 'Гиперлипидемия']\n"
     ]
    }
   ],
   "source": [
    "for tokens in df[df[\"filtered_tokens_size\"] > 60][\"filtered_tokens\"]:\n",
    "    print(tokens)"
   ],
   "metadata": {
    "collapsed": false,
    "pycharm": {
     "name": "#%%\n"
    }
   }
  },
  {
   "cell_type": "markdown",
   "source": [
    "It's ok"
   ],
   "metadata": {
    "collapsed": false,
    "pycharm": {
     "name": "#%% md\n"
    }
   }
  },
  {
   "cell_type": "markdown",
   "source": [
    "## Try to detect stopwords for anamnesis by tf-idf metric"
   ],
   "metadata": {
    "collapsed": false,
    "pycharm": {
     "name": "#%% md\n"
    }
   }
  },
  {
   "cell_type": "markdown",
   "source": [
    "Let's find stopwords by tf-idf to filter it out"
   ],
   "metadata": {
    "collapsed": false,
    "pycharm": {
     "name": "#%% md\n"
    }
   }
  },
  {
   "cell_type": "code",
   "execution_count": 113,
   "outputs": [],
   "source": [
    "from sklearn.feature_extraction.text import TfidfVectorizer"
   ],
   "metadata": {
    "collapsed": false,
    "pycharm": {
     "name": "#%%\n"
    }
   }
  },
  {
   "cell_type": "code",
   "execution_count": 114,
   "outputs": [],
   "source": [
    "tf_idf_vectorizer = TfidfVectorizer()"
   ],
   "metadata": {
    "collapsed": false,
    "pycharm": {
     "name": "#%%\n"
    }
   }
  },
  {
   "cell_type": "code",
   "execution_count": 115,
   "outputs": [
    {
     "data": {
      "text/plain": "0        В анамнезе нет тромбозов или ТГВ никогда не бы...\n1        В течение последней недели стал более сонливым...\n2        ХОБЛ астма Спирометрия ФЖЕЛ ФЖЕЛ объём легких ...\n3        Во время госпитализации у пациента постепенно ...\n4        Лечили сульфатом магния лабеталолом гидралазин...\n                               ...                        \n14712                            пациент один из близнецов\n14713        у пациентки была беременность с низким риском\n14714    Пациенту не проводилось процедуры ядерной меди...\n14715    Пациентка сообщила о кровянистых выделениях пр...\n14716        У неё в анамнезе были самопроизвольные аборты\nName: filtered_tokens, Length: 14717, dtype: object"
     },
     "execution_count": 115,
     "metadata": {},
     "output_type": "execute_result"
    }
   ],
   "source": [
    "filtered_tokens_string = df[\"filtered_tokens\"].apply(lambda x: \" \".join(x))\n",
    "filtered_tokens_string"
   ],
   "metadata": {
    "collapsed": false,
    "pycharm": {
     "name": "#%%\n"
    }
   }
  },
  {
   "cell_type": "code",
   "execution_count": 116,
   "outputs": [],
   "source": [
    "tf_idf_vectorizer = tf_idf_vectorizer.fit(filtered_tokens_string)"
   ],
   "metadata": {
    "collapsed": false,
    "pycharm": {
     "name": "#%%\n"
    }
   }
  },
  {
   "cell_type": "code",
   "execution_count": 117,
   "outputs": [
    {
     "data": {
      "text/plain": "'абактериальной абдоминальная абдоминальное абдоминальной абдоминальном абдоминальную абдоминальные аблации аблация абляции абляцию абляция аборт аборта аборты абстинентного абстинентном абстинентные абстиненции абсцесс абсцесса абсцессами абсцессом ав авалокс аварией аварии аварию авидность авитаминоза авм автобус автокресле автомобиле автомобилем автомобильной автомобильном автомобильную автомобиля авф аг аггрестат агенезии агенезия агональном агренокс агрессивна агрессивная агрессивного агрессивное агрессивный ад адвил адвилом аддисона адекватная адекватно адекватное адекватную адекватными аденоидэктомии аденоидэктомия аденокарцинома аденокарциномы аденома аденомой аденому аденомы аденопатию аденопатия адреналин адреналина адреноблокатор адреноблокаторы адрес адриамицин азиатско азии азитромицин азитромицина азитромицином азот азота азотемией азтреонам азтреонама акинез акинетической аккрецию акн аксиальные аксональная аксональное акта активатор активаторами активен активированного активированный активна активная активно активного активное активной активности активность активностью активный активным активными актуальном актуальны актуальные акустическую акушером акушерская акушерский акушерское акушерском акушерскую акш алгоритма алк алкалоз алкилоз алкоголем алкоголизм алкоголизма алкоголизмом алкоголик алкоголики алкоголь алкогольная алкогольного алкогольное алкогольной алкогольный алкогольных алкоголя аллергенами аллергенов аллергии аллергий аллергическая аллергические аллергический аллергических аллергической аллергическую аллергия аллогенная аллогенной аллогенных аллотрансплантация алт альбумин альбумина альбутерол альбутеролом альвеол альдактон альзеймера альфа альцгеймера амбулаторная амбулаторно амбулаторного амбулаторное амбулаторном амбулаторную амбулаторные амбулаторный амбулаторным амбулаторных американка америку амилаза амилазы амилоидным амилоидозом амиодарон амиодарона амиодароне амиодароном амитриптилина амлодипин амнезию амнезия амниональный амниотическая амниотический амниотического амниотической амниотомия амниоты ампициллин ампициллина ампициллином ампициллину ампула ампулами ампуллярную ампулу ампулы ампутации ампутаций ампутация анализ анализа анализами анализах анализе анализов анализом анализы аналог аналогичная аналогичного аналогичной аналогичными аналогичных анамнез анамнеза анамнезе анамнезом анамнезу анасарки анасаркой анастомоз анастомоза анатомией анатомической анатомию анатомия анафилактическая анаэробное анаэробные ангидрамниоз ангина ангины ангиограмма ангиограмме ангиограммой ангиограмму ангиограммы ангиографии ангиографию ангиография ангиозашита ангиомами ангиоматоз ангиопластик ангиопластика ангиопластики ангиопластикой ангиоэктазии английским аневризма аневризмами аневризме аневризмой аневризму аневризмы анемией анемии анемичен анемию анемия анестезией анестезии анестезиолог анестезиолога анестезию анестезия анестетик анестетиков анионная анионной анионным анкилозирующий анксиолитики аннулопластики анод аноксическая аномалией аномалии аномалий аномалию аномалия аномалиями аномальная аномально аномального аномальное аномальной аномальную аномальные аномальный аномальным аномальными аномальных анонимных анорексией антацидов антекубитальной антенатальный антиаритмические антибактериальная антибактериальной антибиотик антибиотика антибиотикам антибиотиками антибиотиках антибиотики антибиотиков антибиотиком антибиотикотерапию антибиотикотерапия антиген антигену антигипертензивные антигипертензивный антигипертензивным антигистон антидепрессантами антидепрессанты антикардиолипиновые антикоагулирован антикоагулянт антикоагулянтами антикоагулянтная антикоагулянтного антикоагулянтной антикоагулянтную антикоагулянтные антикоагулянтом антикоагулянты антикоагуляции антикоагуляционные антикоагуляцию антикоагуляция антикубитальной антимикробная антиобитиков антипсихотические антипсихотических антиретровирусные антистрептозный антитела антителами антитимоцитарного антитрипсина антитромбоцитарные антраваскулярная антропометрические ануса анцеф ао аорта аортальная аортального аортальной аортальную аортальные аортальный аортальным аорте аорто аортой аортокоронарного аортокоронарное аорту аорты апара апатичной апатию апатия апгар апгара апетите апикально апикальной апикальную апикальные апикальный апласт апноэ аппарат аппарата аппарате аппаратов аппаратом аппатичен аппендикс аппендикса аппендиксе аппендицит аппендицита аппендиците аппендэктомии аппендэктомия аппетит аппетита аптеку аптечки апф ар аранеспом арбузный аримидексе аритеноидов аритм аритмией аритмии аритмий аритмической аритмию аритмия аритмиям аритмиями аритмиях арт артериальная артериально артериального артериальное артериальной артериальном артериальному артериальную артериальные артериальный артериальным артериальных артерией артерии артериит артериита артериитом артерий артериоваскулярное артериовенозная артериовенозного артериовенозную артериовенозные артериовенозный артериолосклероз артериолы артериотомии артерию артерия артериях артерэктомией артралагию артралгиях артрит артритом артро артропатия артропластика артроскопию артроскопия ас асбеста асбестом асимметричного асимметричные асимметрия асистолия аспекте аспергилл аспергиллез аспергилломы аспирацией аспирации аспирационная аспирационной аспирационную аспирацию аспирация аспирин аспирина аспирином аспириночувствительной аспирину аспирировал аспирирует ассоциации ассоциированная аст астма астмой астмы асцит асцита асцитической асцитом атак атака атаками атаки атакой атаксичен атаксия атг ателектаз атенолол атенолола атенололе атенололом атеросклероз атеросклероза атеросклерозом атеросклеротического атеросклеротическое атеросклеротической ативан ативана ативаном атипичной атравматическая атрезия атрио атриовентрикулярная атриовентрикулярного атровент атропин атропина атропия атросклероз атрофия аугментине аудио аурами аурой ауры аускультация аутоантител аутоиммунная аутоиммунного аутоиммунное аутоиммунной аутоиммунный аутоиммунным аутоиммунными аутоиммунных аутологичной афазией афазии афазию афазия афатичен афебрилен афебрильна афебрильная афебрильный афебрильным афиб афибрилляторный афибрилляции афибрилляцию афибрилляция афибриляцией афибриляции афибриляцию афибриляция афроамериканец афроамериканка ахалазия ацетаминофен ацетилсалициловой ацетилцистеин ацетилцистеина ацетоминофен ацетоминофена ацетоминофеном ацидоз ацидоза ацидозом ацикловир ацинетобактера ачтв аэрацией аэробные базально базальной базальноклеточная базальноклеточного базальноклеточной базальноклеточный базальный базальных базилярной базилярную базилярный базовом базовый базовым бактериальная бактериального бактериальной бактериальную бактериальный бактериальным бактериемией бактериемии бактериемический бактериемию бактериемия бактерии бактерий бактериями бактрим бактрима баланс балит балл баллов баллонная баллонного баллонной баллонный баллы бандемия банкарта банковский барием бария барре баррета барретта бациллы бациллярный бдителен бдительный беге беглой беговой бедер бедра бедре бедренная бедренно бедренной бедренном бедренную бедренные бедренный бедро бежать без безболезнен безболезненные безболезненный бездомный безжелчной безнадежность безнадёжным безопасен безопасности безотёчные безработный безрезультатно безрецептурное безсознательное безсознательном безупречным безуспешен безуспешно безуспешны безуспешные безуспешным безуспешных безымянной белая белка белла беловатой белого белой белок белую белые белый белых бенадрил бенадрила бенадрилом бензодиазапинами бензодиазепин бензодиазепинами бензодиазепиновые бензодиазепины беремена беременна беременная беременностей беременности беременность беременностью беременностях беременных берут бескровной бесплоден бесплодие бесплодия беспокоен беспокоит беспокоится беспокоить беспокоиться беспокойства беспокойство беспокоящих беспомощьном беспульсовая беспульсовой бессвязная бессвязно бессвязном бессимптоматичный бессимптомен бессимптомна бессимптомная бессимптомно бессимптомного бессимптомной бессимптомный бессимптомным бессмысленной бессознательно бессознательном бессонница бесцельно бета бетаметазон бетаметазона бетаметазоном бибазилярное бибазилярные бибазилярный бибисилярные бикарб бикарбонат бикарбоната бикарбонатом бил билиарная билиарного билиарной билирубин билирубина билобэктомии биополярного биопсией биопсии биопсию биопсия биофизический биофизическим биофизических биохимическую бипап бипапа бипапе бипапом биполярное биполярным биться бифронтальное бифронтальные бифуркационную бка благоприятный бластов бласты бледен бледной бледность бледный бледным блеомицин блеомицина блеомицином ближайшую близкие близнец близнеца близнецов близнецу близнецы блнпг блокада блокадой блокаду блокады блокатор блокатора блокаторами блокаторные блокаторы блокировка блокируется блрс блуждающего блюд бляшек бляшки бодр бодра бодрствования бодрствует бодрым бок бокалов боковая бокового боковой боковые боку бол болевого болевой болевые болевых более болеет болезней болезненное болезненной болезненности болезненность болезненностью болезненные болезненный болезни болезнь болезнью болей болел болела болело болен болеутоляющее болеутоляющие болеутоляющий боли болит боль больна больная больница больницах больнице больницу больницы больничной больничном больничных больно больного больной больному больным больными больных большая больше большеберцовой большего большие большим большинство больших большого большое большой большом большую болью болюдирован болюс болюса болюсно болюсный болюсов болюсом болюсы болями болях бордовой бордовый бордовыми борьбе бпнпг бпп брадикардией брадикардии брадикардия брали братом брату брать братья брахиоцефальной брахитерапия бред бреда бреду бригада бригадой бригады брови бронх бронха бронхах бронхе бронхи бронхиальной бронхиальный бронхит бронхита бронхитом бронхоальвеолярная бронхоальвеолярной бронхоальвеолярный бронхов бронхогенное бронхолитики бронхолитическое бронхоскопии бронхоскопий бронхоскопию бронхоскопия бронхоскопиях бросил бросила брыжеечной брыжеечные брыжейки брюки брюшине брюшная брюшного брюшной брющине будда будет будто будут булемии булимия буллезная буллезной бурсит бурсы бусульфаном бутылки бутылкой бутылку бутылок бутылочка бы бывает бывают бывшая бывший бывшим был была были было быстрее быстро быстрое быстрой быстром быстрый быстрым быстрыми быть бычий ваарт вагинально вагинальное вагинальные вагинальным вагинальными вагинальных вагоном важные важных вазовагальному вазодилататоры вазопрессор вазопрессорных вазопрессоров вазопрессоры вазэктомии вазэктомия вакуумного вакцина вакцинацию вальсальвы ванк ванка ванко ванком ванкомицин ванкомицина ванкомицином ванной ванц ванциомицину вариабельности вариабельностью вариант вариантной вариантов варианты варикоз варикозно варикозного варикозное варикозным варикозными варикозных варикозом варикоцеле варфарин васкулита васкулитом ватх вблизи введен введена введение введением введении введению введения введено введены введён ввели ввероятность вверх ввести ввиг вводил вводили вводится вводить вводят вводятся вгс вдвое вдоль вдох вдохе вдувания вдыханием вегенера вегетативная вегетативное вегетаций вегетацию вегетация ведения ведет везти век веке векуронием векурония вела велась велоэргометрия вен вена венам венах вене венограмма венограмму венограммы венозная венозного венозное венозной венозные венозный венозных венотомии вентиляции вентиляционная вентиляционной вентиляцию вентиляция вентральная вентральной вентральную вентральный вентральных вентрикулограмма вентрикуломегалию вентрикулоперитонеальный вентрикулярная вентрикулярной вентрикулярную вену вены верапамилом вербальные вермиана вернее вернувшись вернула вернулась вернулись вернулся вернуться верный вероятно вероятной вероятный вероятным версед верседа вертебрального вертебрэктомия вертолете верх верхнего верхней верхнем верхнечелюстной верхние верхний верхних верхняя вершина вершиной вершины вес веса весе весит весом вести вестибулярные вестибулярных вестибюле ветвей ветви ветебрэктомия вехр вехрней вечер вечера вечерние вечером вещей веществ вещества веществам веществами веществе вещи взаимодействовать взволнован взволнована вздутие вздутием вздутия взк взора взрослый взял взяла взяли взята взятие взятии взяты взятые вибрионов вид виде видел видели виден видеоассистированной видимо видимому видимости видимых видит видна видно видны видов виду визита визиты визуализации визуализационные визуализационных визуализацию визуализация визуализируется визуализирующие визуального визуальное визуальном визуальных викодин вина вирус вируса вирусная вирусного вирусное вирусной вирусный вирусным вирусом вирусы виски височная височно височное височной височную височным вит витамин витамина витамином витамины витрэктомии вич вк вклад включавшее включает включали включало включают включающего включающее включая включен включения вкололи вкратце влагалища влагалище владеет влажными влево влечёт вливание вливаний вливания влияния вместе вместо вмешательств вмешательства вмешательствам вмешательстве вмешательство вмешательству вначале вне внебольничная внебольничной внезапная внезапно внезапного внезапную внезапный внезапным внесены внесосудистых внешнего внешней внешнему внешним внешности внешняя вниз внизу внимание внимателен внимательна внимательным вновь внутренне внутреннего внутреннее внутренней внутренний внутренних внутреннюю внутренняя внутри внутриаортального внутриаортальный внутриартериальная внутриартериального внутрибольничная внутрибольничной внутрибрюшинная внутрибрюшинной внутрибрюшинный внутрибрюшная внутрибрюшного внутрибрюшное внутрибрюшной внутрибрюшный внутривенная внутривенно внутривенного внутривенное внутривенной внутривенном внутривенные внутривенный внутривенным внутривенными внутривенных внутригрудной внутригрудных внутрижелудочковое внутриматочной внутримозгового внутримышечное внутрипаренхиматозное внутрипеченочного внутрипеченочное внутрипроцедурно внутрисердечного внутрисосудистая внутрисосудистого внутрисосудистое внутрисосудистому внутрисосудистую внутрисосудистый внутристентовый внутриутробная внутриутробного внутричерепная внутричерепного внутричерепное внутричерепной внутричерепных внутрь внучка внучки внучкой во вовлечен вовлечение вовлечением вогнутость вод водителем водитель водой воды водянистой водянистых водятся военную возбудимым возбудители возбуждена возбуждение возбуждения возбужденной возбужденным возбуждён возбуждённого возбуждённом возбуждёном возврат возврата возвратом возвращается возвращаться возвращения возд воздействие воздействием воздействии воздействию воздействующей воздерживается воздух воздуха воздухе воздухом воздуху воздушная воздушное воздушным возле возможено возможна возможная возможно возможного возможное возможной возможном возможности возможность возможную возможные возможный возможным возможными возникает возникали возникают возникающая возникающих возникла возникли возникло возникновения возникшей возобновились возобновился возобновлен возобновлялись возобновлён возобновлённый возраст возраста возрастающая возрастающих возрасте возрастом возрасту возросло вокруг волдырь волдырями волн волной волны волосистой волчанка волчанкой волчаночного волчаночным вообще воостановление вопрос вопроса вопросом вопросу вопросы воротная воротнике воротной восемнадцати восемь восемьдесят воскресенье воскресенью воспалена воспаление воспалению воспаления воспалительная воспалительного воспалительное воспалительной воспалительные воспалительный воспалительных восприимчив восприимчива воспринимать восприятие восприятии восприятия восстановилось восстановился восстановительного восстановлен восстановление восстановлением восстановлению восстановления восстановленной восстановленный восстановлено восходящая восходящей восходящий восходящую восьмого вот впала впв впг впервые вперед вплоть впмо впоследствии вправо врач врача врачам врачами врачебным врачей врачи врачом врачу вращательной врезалась врезался врема временем времени временная временно временное временной временный время врожденная врожденное врожденный врожденным врожденных врождённое врождённый врождённых вручную врэ вряд вса всасывается все всегда всего всей всем всеми всему всестороннего всех вскармливании вскоре вскрытие вследствие вследствии вспоминает вспоминал вспомнить вспомогательная вспомогательного вспомогательное вспомогательной вспомогательных вспотевшим вспотел вспышек вспышка вспышки вставал вставала вставании вставлена встать встречающихся всю вся всё вт втлж вторая вторична вторичная вторично вторичное вторичной вторичные вторичный вторичным вторичными вторник второго второй втором втягивание втяжениями вутривенное входит вчд вчера вчерашнего выбором выборочные выброс выброса выбросило вывалилась выведен выведения вывих вывиха вывихом выводить выглядел выглядели выглядело выглядит выговаривать выговорить выделен выделена выделение выделением выделений выделения выделениями выделениях выделил выделяет выделял выделялись выделялся выделять выделяя выдержать выдерживает выдоха выдохе выезда выезжал вызвавшая вызвал вызвала вызвали вызвало вызван вызвана вызванная вызванного вызванное вызванной вызванную вызванные вызванный вызванным вызванных вызвано вызваны вызвать выздоравливает выздоровел выздоровлении вызываемое вызывает вызывали вызывающая вызывающего вызывающее вызывающие выкидыш выкидышей выкидыши выключен выключенным выкупил вылечен вылечена вылечилась вылечить вынашивание вынашиванием вынуждена выополнялась выпадал выпала выпивает выпивал выпивая выписали выписан выписана выписка выписке выписки выпиской выписных выполнен выполнена выполнением выполнении выполнения выполненная выполненно выполненное выполненной выполнено выполнены выполнила выполнили выполнить выполняет выполняется выполняла выполнялась выполняли выполнялись выполнялось выполнять выполняют выпот выпота выпотами выпотом выпоты выпуклость выпускном выработка выработки выработку выраженная выраженного выраженное выраженной выраженности выраженный выраженным выраженными вырвало вырезаемой вырос выросла выросли высвобождали выскабливания высокая высокие высокий высоким высоких высокоатипичных высокого высокодозного высокодозную высокое высокой высокому высокочастотная высокую высота высоты высушен высушивания высушили высыпания вытащил вытекает вытекающую вытяжку выход выхода выходного выходные выходных выше вышел вышесказанному вышеуказанных вышла вышло выявившего выявившее выявившей выявил выявила выявили выявило выявлен выявлена выявление выявления выявленная выявленного выявленны выявленный выявленным выявленных выявлено выявлены выявляет выявляют выявляются выяснения выяснилось выяснить выясниться вялой вялом вялости вялость вялостью вялый вялым вялыми вёл гадолинием газа газировка газов газовую газы гаити гайморит галдол галдолом галлюцинации галлюцинаций галлюцинациями галлюцинациях галюцинаций гамма гаммопатия ганглиев ганглий ганглиях гангрена гангрене гангренозной гангрены ганца гаптоглобина гарднера гарднереллезом гастаута гастринома гастрит гастрита гастритом гастро гастроеюностомии гастропарез гастропарезом гастропатия гастростомическая гастростомический гастростомическую гастроэзофагеальная гастроэзофагеальной гастроэзофагеальный гастроэзофагеальных гастроэнтерит гастроэнтерита гастроэнтерологического гастроэнтерологом гастрэктомии гваяк гваяковая гвс где гелевым гельминтов гемаглобина гемартроза гематемазиса гематемезис гематемезиса гематемы гематокр гематокрит гематокрита гематокритом гематолога гематологическая гематологических гематологическое гематома гематомазой гематоме гематомой гематому гематомы гематохезией гематохезии гематохезия гематурией гематурии гематурию гематурия гемерроидэктомия гемианопсия гемигипоплазия гемиколэктомии гемипарез гемипарезом гемиплегией гемистернотомия гемоглобин гемоглобина гемоглобинурия гемодиализ гемодиализа гемодиализе гемодинамика гемодинамическая гемодинамически гемодинамической гемокультуру гемокультуры гемолиз гемолизом гемолитическая гемолитические гемолитической гемоперикард гемоперитонеум гемоперитонеумом гемоположительной геморрагический геморрагическое геморроидальное геморрой геморроя гемостаз гемостаза гемоторакса гемцитабин гемцитабином гена генерализованные генетическая генетически генетического генитальная генитальный гентамицин гентамицину гепарин гепарина гепарином гепатит гепатита гепатите гепатитом гепатиту гепатобилиарная гепатогидроторакс гепатологу гепатомой гепатому гепатомы гепатопульмональный гепаторенальным гепатоспленомегалии гепатоцеллюлярная гепатоцеллюлярного гепатоцеллюлярной героин героина героиновая героином герпес герпеса герпесвирусная гестацией гестационного гестационной гестационному гестационный гестационным ги гибель гибкой гигантоклеточного гигантоклеточный гидразина гидралазина гидралазином гидратации гидратация гидратировали гидрокорта гидронефроз гидронефроза гидроуретерный гидрохлоротиазид гидроцеле гидроцефалии гидроцефалия гийена гинеколога гинекологическая гинекологическую гинекология гинекологу гиперактивность гипербилирубинемией гипербилирубинемия гипервентиляция гиперволемичен гиперволемия гипергликемией гипергликемии гипергликемичен гипергликемия гипердинамическое гиперемезисом гиперестезия гиперинтенсивная гиперинтенсивными гиперинфляцию гиперкалиемией гиперкалиемию гиперкалиемия гиперкальциемии гиперкапнии гиперкапнию гиперкапния гиперкарбией гиперкарбическая гиперкарбической гиперкератотические гиперклеточный гиперкоагулопатия гиперкоагуляции гиперкоагуляцию гиперлипидемией гиперлипидемии гиперлипидемию гиперлипидемия гиперпаратиреоз гиперпаратиреоза гиперпаратиреозом гиперплазии гиперплазия гиперсенситивным гипертензией гипертензии гипертензию гипертензия гипертермия гипертиреоз гипертиреозом гипертонией гипертонии гипертоник гипертоническая гипертонический гипертонического гипертоническое гипертонической гипертонию гипертония гипертоня гипертрофией гипертрофированной гипертрофическая гипертрофической гипертрофию гипертрофия гиперхолестемия гиперхолестеринемией гиперхолестеринемии гиперхолестеринемия гиперхолия гиперчувствительность гипоальбуминемия гипоальдостеронизм гиповентиляции гиповолемией гиповолемии гиповолемичен гиповолемию гиповолемия гипогастральные гипогликемией гипогликемии гипогликемичен гипогликемические гипогликемическим гипогликемия гипокалиемию гипокалиемия гипокинез гипокинезом гипокинетическая гипокоагуляцией гипоксемией гипоксемия гипоксией гипоксии гипоксичен гипоксическая гипоксическое гипоксической гипоксию гипоксия гиполипидемической гипомания гипонатриемии гипонатриемию гипонатриемия гипоплазию гипоплазия гипорефлексия гипотензивна гипотензивная гипотензивное гипотензивной гипотензивные гипотензивный гипотензивным гипотензивных гипотензией гипотензии гипотензию гипотензия гипотермической гипотермия гипотиреоз гипотиреоза гипотиреозом гипотонией гипотонии гипотоник гипотоничной гипотонию гипотония гипофиз гипофиза гипохлоремический гипоэнхансерных гиса гистерэктомии гистерэктомию гистерэктомия гистиоцитома гистологический гк главная главного главной главном главные главный главным глаз глаза глазами глазах глазная глазное глазной глазные глазных глазом глазу глаукома глаукому глаукомы глж глибенкламид глибурид гливек глинас глиобластома глиобластомы глобальная глобальный глобальным глобулин глобулина гломерулонефрит гломерулонефрита гломерулонефритом гломерулосклерозу глотание глотанием глотании глотания глотательной глотать глотка глубоких глубокое глубокой глухой глюк глюкоза глюкозу глюкозы глютеновой гм гн гнд гнилостные гной гнойничковой гнойное гнойный гнойными гноя го говорил говорила говорили говорит говорится говорить говорят говорящий год года годах годичной годов году голени голеностопного голень голова голове головки головная головного головной головном головную головные головными головных головой головокружение головокружением головокружения голову головы голод голода голодании голодания голос голоса голосовые голосовых голый голым гомонимная гомотрансплантатом горла горле горло горлу гормона гормональные города городе горстей горсть гортани горячка горячке горячкой госпитализацие госпитализацией госпитализации госпитализаций госпитализацию госпитализация госпитализациями госпитализациях госпитализировал госпитализировалась госпитализировали госпитализировался госпитализирован госпитализирована госпитализированна госпитализированная госпитализированный госпиталь госпитального госпитальный гостинице готов готова готовила готовился готовиться готовы гр гравис градацией градиент градиента градиенте градиентом градусов грамм грамма граммов граммовый грамотрицательными грамположительная грамположительные грамположительных граму граница границы гранулематоз гранулематозной гранулемы гранулоцитарно грануляционной график графта грибков грибок гримаса грипп гриппа гриппом гриппоподобное гриппоподобные громкий громким громких грубое грубую грубые грубыми груди грудино грудиной грудины грудная грудного грудной грудном грудную грудные грудь грудью грузовик грузовика группа группами группе групповой группой группу группы грушей грыж грыжа грыжами грыжей грыжесечения грыжи грыжу гу губе губы густого густой гущей гцк гэрб да давали давать давление давлением давлении давления давней давний давним давности давнюю давняя давящая давящие давящую даже дакогена дал дала дали дало дальнейшая дальнейшего дальнейшее дальнейшей дальнейшем дальнейшие дальнейших дальние дальше далёком дан дана даназолом данного данном данные данный данным данных дано даны даптомицин даптомицином дарвоцета дат дата датой датчик даты дать дауна даунорубицином дают два двадцать дважды две двенадцатиперстная двенадцатиперстной двенадцатиперстную дверной дверцу двигавшаяся двигает двигал двигала двигательная двигательного двигательном двигательные двигательный двигательных двигать двигаться движение движением движении движений движения движущуюся двое двоение двоения двоится двойней двойни двойню двойня дворе двоюродным двс двумя двурогая двустворчатый двустворчатым двустороннего двустороннее двусторонней двусторонние двусторонний двусторонними двусторонних двустороннюю двусторонняя двух двухбазилярный двухдневной двухкамерного двухкамерным двухкратного двухлетней двухнедельный двухсосудистая двухсторонняя двуцепочечная дгпж дебридмент дебридмента девочка девочки девушка девять дегенеративное дегенеративные дегенерация дегтеобразной дегтеобразном дегтеобразный дееспособности дезориентирован действием действий действительно действительную действия декадрон декадрона декадроном декомпенсации декомпенсация декомпенсированная декомпенсированной декомпрессивная декомпрессии декомпрессия декортикальной декортикацией декортикация дексаметазон дексаметазона декстрометорфаном декубитальная декубитная декубитусные дел дела делает делается делала делали делами делать делах деле делирием делирий деменцией деменцию деменция демерол демонстрировал демонстрирует демонстрируют демпинг денди день деня депакот депрессивного депрессией депрессии депрессию депрессия дергается дерева держали держать дерматит дерматологический дерматологического дерматологическое десатурацией десатурацию десатурация десен десертом деск десне десятидневным десятой десять деталей детали детей дети детоксикации детской детства детстве дефекацией дефекации дефекаций дефекацию дефект дефекта дефектами дефектов дефектом дефекты дефибриллятор дефибриллятора дефибрилляция дефицит дефицита дефицитом деформации деформация деформированные дефромацию децеребрации децилитр деятельности деятельность деятельностью дж джоулей диабет диабета диабете диабетик диабетиком диабетическая диабетический диабетическим диабетического диабетическом диабетическую диабетом диабету диагноз диагноза диагнозе диагнозом диагнозы диагностики диагностировали диагностировались диагностирован диагностирована диагностированная диагностированного диагностированной диагностированный диагностированным диагностическая диагностический диагностическим диагонали диагональ диагональной диазепама диализ диализа диализе диализного диализный диаметра диаметре диаметром диамниотическая диамниотической диапазон диапазона диапазоне диарее диареей диареи диарею диарея диаслокационная диастолическая диастолический диастолическое диастолической диастолическую диафорез диафорезом диафрагмы диван диване дивертикулез дивертикулеза дивертикулезом дивертикулит дивертикулита дивертикулитом дивертикулиту дивертикулы дивертикулэктомией дивертикулярного дивертикулярной дивертикулёз дигоксин дигоксина диета диете диетой диету диеты дизартрии дизартрию дизартрия дизурии дизурию дизурия дилантин дилантина дилантином дилатации дилатационная дилатационной дилатация дилаудид дилаудида дилаудидом дилаудит дилта дилтиазем дилтиазема дилтиаземом дилюадид динамические диоксида диплопией диплопии диплопию диплопия диска диске диски дискинез дисков дискомфорт дискомфорта дискомфортом дискордантностью дискретное дислипидемией дислипидемия дисморфическими диспепсии диспепсию диспепсия дисплазии дисплазию диспластические диспноэ диссекция диссеминированная диссеминированному диссеминированную дистальная дистальнее дистально дистального дистальное дистальной дистальном дистальный дистальным дистальных дистензии дистензия дистресс дистресса дистрессом дистрессу дистрофия дисфагией дисфагии дисфагию дисфагия дисфазией дисфазия дисфункцией дисфункции дисфункций дисфункцию дисфункция диурез диуреза диурезе диурезная диурезом диуретик диуретикам диуретиками диуретики диуретиком диуретическая дифенгидрамина дифибрилятора дифибриляция дифференцированная диффицитным диффузная диффузно диффузного диффузное диффузному диффузную диффузные диффузный диффузным диффузными дихориальная дихориальным дка длившегося длившиеся длилась длился длина длине длительно длительного длительное длительной длительном длительностью длится для длятся дна дневная дневного дневное дневной дневный дневным дней днем днк дно дню дня днях днём до добавил добавки добавку добавлен добавлены доброкачественная доброкачественного доброкачественное доброкачественной доброкачественные доброкачественный доброкачественным доброкачественными добутамин добутамина добутамине доведенный доверенного доверенным довольно доз доза дозам дозах дозе дозирования дозировка дозой дозу дозы докагем доказательств докатаксел доксициклин доктор доктора доктором доктору документами документах долго долгое доле должен должна должно должны доли долькового долю доля долях дом дома домаша домашнего домашней домашнем домашний домашних домашняя доме доминанта доминирующий домой дому донор донора доноре донором донорскую доношен доношена доношенная доношенное доношенной доношенные доношенный доношенным доношенными доношенных допамин дополнение дополнил дополнительная дополнительно дополнительное дополнительной дополнительном дополнительному дополнительную дополнительные дополнительный дополнительных допущен дороге дородового дородовую дорожке дорожно дорсально дорсолатерального доставила доставили доставке доставлен доставлена доставленный достаточно достаточного достаточное достиг достигла достигло достигнут достигнуто достижения достоверно достоверную достоверных доступ доступа доступен доступна дотронуться дофамин дофамина дочерей дочери дочерьми дочерью дочь дошла др дремлет дренаж дренажа дренаже дренажная дренажной дренирован дренирование дренированием дренирования дробящий дров дрожанием дрожания дрожжевая дрожжевых дрожжи дрожи дрожь друг другая другие другими других другого другое другой другом другую друзьями дт дтп дуги думает думал думала дуоденальные дуоденит дуплексное духи духовки душ душа дых дыхание дыханием дыхании дыхания дыхательная дыхательного дыхательной дыхательную дыхательные дыхательный дыхательным дыхательными дыхательных дыша дышал дышать дышит дёргаются европеоидный его ед еде единиц единица единицами единицу единицы единожды единственная единственное единственным едкого едой еду еды ее ежегодные ежедневно ежедневной ежедневную ежедневные еженедельный ей ел емкость ему если ест естественное естественные естественным естественных есть ехал ехала еще ещё её жажду жажды жалоб жалоба жалобами жалобах жалобой жалобы жаловалась жаловался жаловаться жалуется жалучется жалуются жалующийся жаобами жар жара жарко жаром жгучая жд же желает желез железа железе железо железодефицитная железы желтая желтоватой желтого желтой желтуха желтухи желтухой желудка желудке желудок желудочек желудочка желудочке желудочки желудочков желудочковая желудочкового желудочковой желудочковую желудочковый желудочковым желудочком желудочно желудочного желудочное желудочной желудочным желчевыводящих желчекаменная желчи желчная желчного желчнокаменной желчнокаменную желчнокаменный желчнокаменным желчном желчные желчный желчным желчных желчью жен жена женат жене женой женского жену женщин женщина женщиной женщины жены жжение жжения жив живет живой живот живота животе животными живёт жидкий жидких жидкого жидкостей жидкости жидкостная жидкостной жидкостную жидкостный жидкостным жидкость жидкостью жизн жизнедеятельности жизненно жизненные жизненными жизнеобеспечения жизни жизнь жизнью жил жирной жиров жировая жировую жиросодержащая жить жк жкк жкт жп жт жуков жёлтой за забавно забеременеть заболевание заболеванием заболевании заболеваний заболеванию заболевания заболеваниям заболеваниями заболеваниях заболеванй заболевают заболел заболела заболели забора заборы заботу забрюшинного забрюшинное забрюшинном забрюшинную забывать завалилась завершена завершено завершил завершила завершить зависима зависимость зависимостью зависимый зависит заворот завтра завтрака завтракал загрудинной загружен загрязнитель задействование задержали задержало задержка задержке задержки задержкой задержку заднебоковой заднебоковым заднее заднезатылочной задней заднелатеральные заднем задний задних заднюю задыхается задыхался заетное зажал заживал заживающая заживили заживление зажила зажима зажимы заканчивала заканчивалась заканчиваются заклинивания заключение заключением заключении заключению закончен закончившихся закончил закончила закончились закреплена закружилась закрывающее закрытая закрытие закрытию закрытия закрыть закупорена закупорка закупорке закупорки закупоркой закупорку зале заложенности заложенность замедление замедления замедлениями замедленное замедленный замедлить замедляется замен замена замене заменен заменены заменили заменой замену замены заменён заместительную заметив заметил заметила заметили заметно заметного заметной заметны заметными заметных замечает замечал замечала замечали замечаний замечено замечены замешательстве замещающие замужем замёршая занимался занкомых зантак занятием занятий занятия запас запасы запах запахом записан записаны записаться записей записи запись записям записями записях запланировал запланирован запланирована запланированно запланированной запланировано заплата запойного запоминает запор запора запорами запоров запором запрет запрещающий запрещенных запрещено запрокидыванием запрошен запущен запястий запястного запястье запястья запястьях заражена заражение заражения заразилась зарастание зародились зарубежных засвидетельствованы заснула засохшая застала застой застойная застойной застойность застойную застойных застоя застревают засыпает затем заторможен заторможена затрагивающие затрагивающий затронул затронуты затруднена затруднений затруднения затрудненно затрудненного затрудненное затрудненную затрудненным затруднено затрудняется затруднён затруднённого затруднённое затруднённость затуманенное затуманенном затуманенным затухания затылке затылком затылок затылочная затылочной затылочную затылочных затяжного затяжные затянувшаяся зафиксировала зафиксирован зафиксировано зачатая зачатия зачать защитить защиты заявив заявил заявила заявлений заявления заядлый звание звоне звонил звонить звукам звуками звуках звуки звуков звуковые здесь здоров здорова здоровая здорового здоровой здоровы здоровый здоровым здоровье здоровьем здоровья здравом зеленоватого зеленого зеленой зелёная зелёного земле зимой зитромакса злокачественная злокачественное злокачественной злокачественности злокачественную злокачественные злокачественный злокачественным злокачественных злостный злоупотребление злоупотреблением злоупотребления злоупотребляет злоупотреблял злоупотребляла злоупотребляющие злоупотребляющий змжв знает знак знакомых знал значение значением значений значения значениях значимого значимой значимых значит значительна значительная значительно значительного значительное значительной значительную значительные значительный значительным значительными значительных значится зоб зозином золотистого золотистый золотистым зомету зонд зонда зондовое зоне зосин зосина зосином зофран зпа зрачки зрачков зрачковых зрачок зрение зрением зрении зрения зрительного зрительной зрительные зрительными зрительных зубах зубной зубов зубца зубцы зуда зудом зфг иабп иаж ибп ибс ибупрофен ибупрофена ивдп ивл ивлп иглой иголки играла игры идарубицин идарубицином идентификатор идентифицированы идентифицируемой идиовентрикулярного идиовентрикулярным идиопатическая идиопатическим идопатический идущей иерсинии из избавиться избежать избытком избыточную избыточный избыточным известен известная известно известного известной известны известный известным известными известных извилине извилистая извлекается извлечена изгибе изделия изжога изжоги изл излагает изложение изложил измельчать измельченных изменен изменена изменение изменением изменений изменения изменениям изменениями изменениях измененный измененным изменены измений изменилась изменились изменилось изменился изменяет изменён изменённое измерен измерения измеренной измеренны измеренные измерено измерены измерял изначально изнуряющие изо изображение изображения изолированной изолированный изониазидом изофан изредка изсд изучении изучено изъязвлений икд икрах икроножных икры илеостомии илеостомия илеостомы илеоцекоктомии илеоцеэктомии или им имдур имевшая имееет имеет имеетистории имеется имел имела имелась имели имелись имело имеют имеются имеющий имеющимся имипенем имипенема имипенему иммодиум иммодиума иммунитет иммунитета иммунитетом иммунная иммуннитет иммунноглобулина иммунный иммунных иммуноглобиновую иммуноглобулин иммуноглобулиновой иммунодепрессанты иммунодефицит иммунодефицита иммунокомпетентен иммунореактивен иммуносупрессивные иммуносупрессивных иммуносупрессии иммуносупрессия имп импетиго имплантаты имплантация импульс импульсно импульсной импѕт имт имя инвазивная инвазивного инвазивную инвазивный инвазии инвазию инвазия инвалидной инвалидном инвалидности инвалидность инверсии инверсию ингалятор ингалятора ингаляторы ингаляционные ингаляционных ингаляция ингибитор ингибиторами ингибиторы индекс индексом индийская индометацином индукционная индукционного индукция индуцированная индуцированный индуцированы инициирован инициирована инициирующей инкаркации иногда инсеминации инсипид инсипидус инструкции инструментальное инструментальном инструментарий инструментария инсулин инсулина инсулине инсулиннезависимый инсулиннезависимым инсулиновой инсулинозависимая инсулинозависимый инсулинозависимым инсулином инсулинонезависимого инсулинотерапии инсульт инсульта инсульте инсультов инсультом инсульту инсульты интактен интактна интегралин интегрилин интегриллин интенсивная интенсивной интенсивности интервал интервенционная интервенционной интерлейкина интерлейкином интермиттирующая интерпаренхимальной интерстициального интерстициальное интерстициальные интерстициальный интимы интракоронарные интраназально интранатальном интрапаренхимальное интубацией интубации интубаций интубационным интубацию интубация интубациями интубировали интубирован интубирована интубированной интубированным интубировать инфаркт инфаркта инфарктам инфаркте инфарктов инфарктом инфаркту инфаркты инфекцией инфекции инфекций инфекционного инфекционное инфекционный инфекционным инфекционных инфекцию инфекция инфекциями инферолатеральный инфильтрат инфильтрата инфильтратами инфильтратов инфильтраты инфильтрация инфильтрирующая инфильтрирующего инфиции инфицирован инфицирована инфицирование инфицирования инфицированная инфицированного инфицированное инфицированной информации информация инфраренальная инфраренальной инфраренальные инфраренальный инфузии инфузия инцидента инцизуре инъекции инъекций инъекционные ипп ипратропиум ипс иррадации иррадиацией иррадиации иррадирующая исключен исключением исключены исключила исключили исключило исключить исключён искривлении искривленной искусственная искусственно искусственного искусственное искусственной искусственные искусственный испаноговорящий использовал использовала использовалась использовани использование использованием использовании использования использовано использовать используемые используемыми использует используются исправление испражнение испражнений испражнения испустила испытав испытал испытала испытании испытывает испытывал испытывала испытывать испытывающий иссечение иссечением иссечения исследование исследованием исследовании исследований исследованию исследования исследованиях ист истинного истока историей истории историю история источник источника источники источников источником истощен истощена истощение истощения истощён истощённым исходная исходно исходного исходное исходной исходном исходному исходные исходный исходным исходных исходят исчезающие исчезла исчезли исчезновение исчезновения исчезнув итальянски итоге итории их ишемией ишемии ишемическая ишемические ишемический ишемическим ишемических ишемического ишемической ишемическую ишемию ишемия йода йодированный кабинете кабины кавказской каждого каждой каждом каждую каждые каждый кажется кажутся казалась казалось казался кайексалат как какие каких каков какого какое какой какую кал кала кале калибр калибра калий калия каловых калом калориях калькулезным кальциевых кальцием кальций кальцификатов кальцификаты кальцифицированная кальцифицированной кальцифицированным кальция каменную камень камней камнем камни камня кампилобактер кампилобактера канала каналами канале каналов кандидатом канта кантонском канцерогена канюле канюли канюлирована канюль канюлю канюля капать капельница капельницей капельницу капельницы капельно капельное капилляра капилляров капоши каппа капсаицином капсулы карбидопу карбоплатин кардизем кардиоверсии кардиоверсию кардиоверсия кардиовертирована кардиогенного кардиогенном кардиогенный кардиограмма кардиозависим кардиолога кардиологическая кардиологические кардиологический кардиологических кардиологического кардиологическое кардиологической кардиологическом кардиологическому кардиологическую кардиологов кардиологом кардиологу кардиомегалия кардиомедиастинальные кардиомедиастинальный кардиомиопатией кардиомиопатий кардиомиопатия кардиомипопатия кардиостимулятор кардиостимулятора кардиостимуляторами кардиостимулятором кардиостимуляторы кардиостимуляции кардиостимуляцию кардиостимуляция кардиоторакальной кардиоторакальную кардиохирургии кардиохирургического кардиохирургическое кардиохирургическую кардиоэмболической карет карины кариогенного каротидного каротидной каротидную каротидный карте картина картине картину картины карты карцинома карциноме карциномой карциному карциномы карциноэмбриональный касается касания касательно катаракта катаракты катастрофа катере катетер катетера катетере катетеризацией катетеризации катетеризацию катетеризация катетеризирована катетеризирование катетерная катетерной катетерную катетеров катетером катетеру катила качестве кашель кашешь кашле кашлевой кашлем кашля кашляет кашлял кашляла кв квадрант квадранта квадранте квадрате квадрипарез квалифицированного квалифицированной кварталов квинтона кг кейтонов кении кеппра кеппру кеппры кесарева кесарево кесаревом кесаревым кесаревых кетоацидоз кетоацидоза кетоацидозе кетоацидозом кетонами кетонов кетонурия кетоны кефлекс кефлекса кефлексом киари кибернож киберножом килограмм килограммов кис кисл кислород кислорода кислороде кислородная кислородно кислородного кислородное кислородной кислородном кислородный кислородным кислородозависимой кислородозависимый кислородом кислота кислотность кислотный кислотоустойчивые кислоты кист киста кисти кистозная кистозное кистозную кистозными кистой кисты китайское кишечная кишечник кишечника кишечнике кишечником кишечного кишечное кишечной кишечном кишечную кишечные кишечный кишечным кишечных кишка кишке кишки кишкой кишку кишок клапан клапана клапанная клапанов клапаном клапаны класс класса классификации кластерная клебсиелла клебсиеллу клебсиеллы клетка клетке клетки клеток клеточная клеточного клеточной клеточность клеточный клеточным клеточных клетчатку клещ клеща клещевой клещей клизму клизмы клин клина клиндамицин клиндамицина клинике клиники клинику клиническая клинически клинический клиническими клинических клиническое клиническом клиновидное клиновидной клипирование клипирования кломидом клоническая клонические клонический клоническую клонопина клофарабином км ко коаг коагулопатии коагулопатия коагуляты коагуляции коагуляция коарктации когда когентином когнитивная когнитивно когнитивное когнитивном когнитивные когнитивным когнитивных когнитивых код кожа коже кожей кожи кожная кожное кожной кожные кожным кожных кожу кокаин кокаина кокаиновая кокаином кокки кокков коктейль колба колебалось колебался колеблется колеблются колен колена колене колени коленного коленной коленном колено коленях колика колит колита колитом количества количествах количестве количество количеством коллапс коллапса коллапсе коллатерали коллегами колониестимулирующий колонизация колонизирована колоноскопией колоноскопии колоноскопию колоноскопия колопоскопия колоректальный колостомии колостомой колостомы колото кольцевидное кольцо колэктомией колэктомии колэктомия колющая колющий коляске коляски ком команды коматозном комбивент комбинированное коме коммитированным коммуникативной комн комнате комнатном комнатный комнатным комнату комнтаном компания комплекс комплексная комплексной компонентом компрессии компрессионный компрометирующая компьютерная компьютерной компьютерную компьютером кому комфортно комфортном комфортных комы кондиционирование кондуктивная конечная конечное конечной конечном конечностей конечности конечность конечностями конечностях конечную конечных конкретная конкретные конна консервативное консилиума консистенции консолидации консолидацию консолидация констатировала конституциональные констриктивно консультации консультаций консультация консультировался контакт контакта контактировал контактировала контактировать контактов контакты контраст контраста контрастирования контрастное контрацептивов контроле контролем контролемым контролировал контролировали контролировался контролировать контролируемая контролируемого контролируемой контролируемы контролируемый контролируемым контролирует контролируется контролируют контроль контроля контуры конформационного конце концентрация концов кончиком конъюнктивит корд корень корешка корешковой кореянка коричневато коричневой коричневый корма кормление кормлении кормления корня коробки корон коронарная коронарного коронарное коронарной коронарном коронарную коронарные коронарный коронарным коронарных короткие короткий короткого короткое короче коррекции корреляции корсета кортизола кортизон кортикостероидами кортикостероидной кортикостероидов кортикостероиды косоглазие косоглазия костей кости костно костного костной костном костный костных кость которая которого которое которой котором которому которую которые который которым которых кофеина кофейного кофейной кошачьих кошки краевая краевой краевые край крайне крайней краниосиностоз краниотомии краниотомия краниэктомии крапивницей красная красного красной краснуха краснухе краснухи красную красный красными красных краткая краткие кратковременная кратковременно кратковременной краткое края креатин креатина креатинин креатинина креатинином креатинкиназа креатинкиназе креатинкиназы крем крепление кресле крестце крестцовая крестцового крестцовое кривая кривошея криз крик крикоида криком крикофарингеальной криоконцентрата криотерапия криптогенном криптогенный критериям критически критический критическим критических критического критическое критическом кровававую кровавая кровавой кровавую кровавые кровавый кровавым кровати кроватью кровеносных крови кровоизлияние кровоизлиянием кровоизлиянии кровоизлияний кровоизлияния кровообращение кровообращения кровоподтёками кровопотерей кровопотери кровопотерю кровопотеря кровоснабжением кровот кровотеч кровотечение кровотечением кровотечении кровотечений кровотечению кровотечения кровотечениями кровоток кровотока кровотоке кровотоком кровоточащая кровоточащие кровоточащих кровоточивость кровохарканье кровохарканьем кровохарканья кровь кровью кровянистого кровянистое кровянистой кровянистый кровянистыми кровянистых кровяного кровяное кровяные кровяным кровяных кроме крона круглые кругового круговом кругу кружилась крупная крупноклеточной крупный крупным крупными крупных крупозная крэк кряхтел кт кта кубиков куда кузова кулаком культура культурах культуре культуры кумадин кумадина кумадине кумадинизации кумадином кумбс кумбса купания купил купирования купировать купируется купить купленных курение курением курения курил курила курильщик курильщиком курильщица курит курить курс курса курсам курсов курсом курткой куртку курящая курящий кусочков куссмауля кухне кфк кщс ла лаб лабеталол лабеталола лабеталолом лабетолола лабильная лабильный лабильным лаборатории лабораторию лабораторном лабораторные лабораторными лабораторных лаваж лад лазерная лазерной лазерных лазикс лазикса лазиксом лайма лактамаза лактат лактата лактулозе лактулозу лактулозы лакунарные лакунарным лакунарных лакуны ламинофораминотомия ламинэктомии ламинэктомия лампэктомию лантус лапароскопическая лапароскопически лапароскопическим лапароскопической лапароскопию лапаротомии лапаротомию лапаротомия лапарохолецистэктомия ларингомаляция ласточка латеральная латеральной латеральном латеральный латеральным лаэ лба лдг леваквин леваквина левакин левакина левакином левая лево левого леводопу левое левой левоксил левоксилом левом левосторонней левосторонний левосторонним левостороннюю левосторонняя левотироксин левофед левофеда левофеморальной левофлокс левофлоксаином левофлоксацин левофлоксацина левофлоксацином левофлоксацину левофлоксом левую левша левые левый левым левых легкая легкие легкий легким легкими легких легко легкого легкой легком легкую легочная легочного легочное легочной легочную легочные легочный легочным легочных лежа лежал лежала лежачей лежащей лежащим лейкемией лейкемии лейкемию лейкемия лейковорином лейкоз лейкозом лейкокории лейкокория лейкофорез лейкоцитов лейкоцитоз лейкоцитоза лейкоцитозом лейкоциты лек лекарств лекарства лекарствам лекарствами лекарствах лекарственная лекарственные лекарственных лекарство лекарством ленивый лепестковой лепирудин лептоменингеальное лесистой лестнице лестницы лестничных лет летнего летней летний летняя леч лечат лечащего лечащееся лечащему лечащий лечащим лечебное лечение лечением лечении лечению лечения лечившаяся лечившееся лечившейся лечившийся лечившуюся лечивщая лечилась лечили лечились лечился лечит лечится лечить лечиться лечь лж ли либо лигирование лидокаин лидокаина лизиноприл лизиноприла лизиса лимфаденопатии лимфаденопатия лимфаденэктомией лимфатические лимфатических лимфатического лимфедема лимфоваскулярная лимфолейкозом лимфома лимфомой лимфому лимфомы лимфопролиферативное лимфоузлы лимфоцитарным лимфоцитов линезолид линезолида линз линии линия липаза липазы липидов липитор липитором липкой липоидный липомы липосомальным листерии листериозная листья литий литию лития литотрипсия литр литра литрах литров лихорадило лихорадит лихорадка лихорадке лихорадки лихорадкой лихорадку лихорадочен лихорадочное лица лице лицевого лицевое лицевой лицевом лицевую лицевых лицо лицом личном личности лишай лишая лишь лка лма лобарной лобка лобковую лобная лобного лобное лобной лобном лобным лобулярное лобэктомии лобэктомия ловенокс ловенокса логенокс лодыжек лодыжках лодыжке лодыжки локализовалась локализована локализованную локализованные локализованный локализованным локализуется локте ломка ломки лопатке лопресор лопрессор лопрессора лор лором лоскут лоскута лпвп лпнп луже луковице луковицы луч лучами лучевая лучевой лучевую лучевым лучше лучшее лэ любые людей людьми людях люмбальная люмбальной люмбальный люмпэктомии люмпэктомия лёг лёгк лёгкая лёгкие лёгкий лёгким лёгкими лёгких лёгкого лёгкое лёгкой лёгком лёгкую лёгочная лёгочного лёгочное лёгочной лёгочную лёгочные лёгочных лёжа ма магазин магазине магистрали магистраль магний магнитно магния мазки мазок мазь макроаденома макроглоссию макросомия макрофагальный макроцефалия макроцитарная макроцитарной максимальная максимально максимальной макулярная макулярным мал мала малакией малация маленькая маленький маленьким маленьких маленькое маллеоле мало малоберцовой маловероятно малого малоинвазивное малой малоподвижный малопродуктивный малыш малыша малыши малышки мальформации мальформация мальчик мама маммарная маммарной маммограмма маммографии маммографические мамы манжете манжетой манжеты маниакальным маниакальных маний мания маннитола маннитолом манту манёвр маргинального маргинальную марихуану марихуаны марфана маска маске маски маской маску масс масса массаж массах массе массивного массивные массивный массовое массой массы мастоидэктомии мастэктомией мастэктомии мастэктомию мастэктомия матери материал материала материнская материнский материнской матерью матка матке матки матового маточных матчах мать машина машине машину машины мв мг мдс мед медиальная медиально медиального медиальной медиальном медиастинальная медиастинальным медиастиноскопию медикаментозно медикаментозное медикаментозной медикаментозном медикаментозную медикаментозный медики медиков медицинская медицинские медицинский медицинским медицинскими медицинских медицинского медицинское медицинской медицинском медицинскую медицины медленнее медленно медленное медленный медосмотра медрол медроле медсестра медсестрами медсестры медуллобластома между межжелудочковая межжелудочковой межжелудочковом межлопаточной межпозвоночного межпредсердной межродовой межсосудистого мезентериальная мезентериальной мезентериальный меккеля меконием меконий мекония меланома меланомой меланомы мелена мелену мелены мелких мелкоклеточная мелкоклеточную мелкоклеточный мелкососудистым мельтешении мембран мембранной мембранозной мембраны менее менейра менингиома менингит менингита менструальной менструальном меньера меньше меньшей меньшие меня мерами мере меропенем меропенема меропенемом меропенему мероприятий мероприятия мертворождение мертворожденным мерфи мерц мерцательная мерцательной меры мерял мест места местах месте местинон местинона местиноне местное местной местности местные местный местными место местонахождение местоположение местоположении месту месяц месяца месяце месяцев месяцы метаболизм метаболическая метаболический метаболическим метаболических метаболическое метаболической метадон метадоне металические металла металлические металлический металлическим метамфетамина метастаз метастаза метастазами метастазирования метастазов метастазы метастатическая метастатические метастатический метастатическим метастатического метастатическое метастатической метилпреднизолон метициллин метициллинрезистентного метициллинрезистентный метициллинчувствительный метолазон метопролол метопролола метотрексата метр метра метров метронидазол метронидазола метронидазолом метформин механический механическим механического меченых мешка мешок мешочка ми миалгии миалгий миалгия миастенией миастении миастения мигательных мигреней мигрени мигрень мигренью мидазолом миелобластов миелобласты миелогенный миелодиспластический миелодиспластическую миелоидная миелоидный миелолейкоз миелолейкозом миелома миеломе миеломой миеломы миелопролиферативного микродебридмент микрон микроорганизмов микроспоридии микроцитарной миланту миллиметровым миллионов мимо мин миндалин миндалины мини минимально минимальное минимальной минимальном минимальные минимальный минимальным минимальными минимальных минимум минут минутах минуте минутный минуту минуты миовентиляция миоглобина миокарда миокардит миома миометрием миомэктомия митральная митрального митральной митральную митральный митральным мицетома мка мкг мл младенец младенца младенцем младенцу младенцы мм мнению мно многие многими многих много многодолевыми многократно многократное многократные многоплодная многососудистое многоузловой многофакторных многочисленные многочисленным многочисленными многочисленных множественная множественной множественные множественный множественным множественными множественных множество множеством множеству мнп мобильное мог могилу могла могли могло модифицированный моей может можно мозг мозга мозге мозговая мозгового мозговой мозжечка мозжечке мозжечковый мозжечок мозолистого мокрая мокрота мокроте мокротой мокроту мокроты молодом молодости молоко молочная молочной молочнокислый момент момента моментов моменту монгольские мониторинг мониторинга мониторинге моногестационной моноклональная моноклональный моноклональными мононуклеоз моосу морбидное морбидным моркови моро морфин морфина морфином морфологических морфология моторика мотрина моча моче мочевине мочевины мочевого мочевой мочевом мочевыводящими мочевыводящих мочевыделительной мочевые мочевым мочевых мочегонного мочегонное мочегонные мочегонным мочегонными мочегонных мочеиспускание мочеиспусканием мочеиспускании мочеиспусканию мочеиспускания мочеполовой мочеполовую мочеточника мочеточникового мочеточниковом мочи мочиться мочу мошонке мошонки мошоночная мр мра мрзс мрт мрхпг му муж мужа мужем мужского мужское мужчина мужчины муковисцидоз муковисцидозом мукозит мультивитамины мультидетекторные мультикистозные мультимодулярная мультифокальной мультиформная мультиформной мускатного мутацию мутация мутной муцинекс мучался мучительной мушек мы мыла мыльным мыслей мысли мыслить мыслями мытья мышечно мышечного мышечное мышечной мышечную мышечным мышечных мышление мышц мышцами мышцах мышцу мышцы мягкий мягким мягких мягкую на набирает набирать набирая наблюдавшиеся наблюдавшимся наблюдаемая наблюдается наблюдала наблюдалась наблюдались наблюдалось наблюдался наблюдаться наблюдаются наблюдение наблюдением наблюдении наблюдения набор набора набрал набухало набухание нагрузка нагрузке нагрузки нагрузкой нагрузок нагрузочный нагруской над надгортанника надеется надежд надеждой наджелудочковая наджелудочковой наджелудочковую надир надколенника надлобковая надпочечного надсадный назад назальная назальной назальную назальные назальных название названием назначали назначались назначен назначена назначении назначению назначенный назначенными назначено назначены назначил назначила назначили назначить назогастрального назогастральное назогастральном назогастральный назоларингоскопии назоэнтериальный наиболее наименование найден найдена найденными найдено найдены накануне наклонился наклонности наклонные наконец налево наличие наличием наличии наличия наложен наложена наложение наложенная наложили налоксона намерений намеренно намного нападением нападения напитка наполнение наполнения напоминающие направил направили направлен направлена направлении направлению направленная направленный направленными направляющего например напрягается напряжение напряжении напряженной напряжёнными нарастали нарастание нарастанием нарастать нарастающая нарастающего нарастающее нарастающей нарастающем нарастающий нарастающими нарастающую нарастил наркан наркана наркоз наркоманией наркомании наркомания наркоманов наркотиками наркотики наркотиков наркотические наркотический наркотическим наркотических наркотического наркотическое наркотической наркотическую наружная наружной наружный наружу нарушается нарушающего нарушен нарушена нарушение нарушением нарушений нарушения нарушениями нарушениях нарушены нарциссическими нас насг наследственной насморк насморка насос насоса настолько настораживающими настораживающих настоящего настоящее настоящему настроение настроения наступила наступило насыш насышение насышением насыщ насыщаемость насыщает насыщается насыщался насыщение насыщением насыщения насыщенны натрий натрия наттокиназа натуральную нафталина нафциллина нафциллину находившаяся находившийся находила находилась находился находится находиться находок находясь находящаяся находящийся нахождение нахождения начавшаяся начавшейся начавшийся начавшимися начал начала началась начале начали начались начало началом началось начался началу начальная начальное начальные начальный начальным начат начата начато начатой начатый начать начинала начинают начинающейся начиная наше нашей нашел нашем наших нашла нашли нашлось нашу нашёл нгл не неагрессивный неадекватная неадекватно неактивная неалкогольная небезопасна небезопасная неблагоприятный небольшая небольшие небольшим небольшими небольшого небольшое небольшой небольшую небс небулайзер небулайзерами небулайзеров небулайзером небыло неважно неважными невербальный невнимателен невнятная невнятно невнятной невозможен невозможно невозможности невозможностью невосприимчив невосприимчивость невралгией невралгии невралгия неврального невролигические невролог невролога неврологии неврологическая неврологически неврологические неврологический неврологическим неврологических неврологического неврологическое неврологической неврологическом неврологическую неврологом неврому невропатией невропатическая невропатия негативный негнойным него недавнего недавнее недавней недавнем недавние недавний недавним недавними недавних недавно недавнюю недавняе недавняя недалеко недееспособен неделе недели недель недельного недельной недельном недельный недельным неделю неделя неделях недержание недержанием недержания недиагностическими недифференцированное недоедает недолго недоминирующий недомогание недомоганием недоношен недоношена недоношенная недоношенного недоношенной недоношенности недоношенность недоношенный недоношенным недоношенных недостатке недостаток недостаточно недостаточности недостаточность недостаточностью недоступны нее нежизнеспособной незадолго незаживающая незаживающей незамедлительно незапланированная нездоров незнакомую незначительные незначительным незначительных неизвестен неизвестна неизвестно неизвестного неизвестной неизвестны неизвестный неизвестным неизлечимая неизлечимый неизмененный неизменной неизменный неиммунная неинвазивной неинвазивную неинвазивные неинвазивный неинсулинозависимый ней нейровизуализация нейрогенный нейрогенным нейрогрибки нейродегенеративное нейродегенеративных нейрокогнитивные нейрокогнитивных нейромиелитом нейроонкологию нейропатией нейропатии нейропатическая нейропатию нейропатия нейропсихологическое нейросифилис нейротоксоплазмоз нейрофиброматоз нейрохирург нейрохирурга нейрохирурги нейрохирургией нейрохирургический нейрохирургическим нейрохирургическое нейрохирургической нейрохирургическому нейтрального нейтропенической нейтропения нейтрофилов неконтрастная неконтрастной неконтрастную неконтролируемая неконтролируемое неконтролируемый некоторая некоторое некоторой некоторую некоторые некоторый некоторым некоторыми некоторых некробиоз некровавой некровоточащих некроз некрозом некротизирующая некротизирующие некротизирующий некротизирующую некротический некротическим нексавар некурящий нельзя немедленная немедленно немедленной немеланомные немного немого нему ненадолго ненаркотический ненаркотических ненормальная ненормальное ненормальные ненормальный ненормальным ненормальными неоадъювантная неоадъювантной неоадъювантную необратим необходим необходима необходимо необходимости необходимостью необходимую необходимы необходимые необходимый необычное необычной необычных неоваскулярная неоднократно неоднородного неожиданного неонатальная неонатального неонатальное неонатальной неонатальных неонатологи неоперабельный неопределенная неопределенное неосинефрин неосложненная неосложненный неосложненным неосложненными неотложная неотложной неотложную непальпируемый непереносимость непереносимые неплохо неподвижностью неполноценной неполноценный неполный непосредственно неправильно неправильного непредвиденное непреднамеренная непреднамеренно непреднамеренной непрекращающейся непрерывная непрерывно непрерывной непрерывную непримечательными непристегнутым неприятным непрогрессирования непрозрачность непроизвольно непроходимости непроходимость непроходимостью непроходящая непрямая непрямого неравномерность неравномерные нерализованного нерв нерва нервная нервно нервной нервных нервов нервозность нервы нереактивная нереактивное нереактивные нереактивный нерегулярная нерегулярно нерегулярного нерегулярное нерегулярный неровность нерожавшая несговорчив несколькими нескольких несколько несложные несмотря несоблюдением несоблюдения несоответствие неспецифические неспецифический неспособен неспособность неспособностью несращения нестабилен нестабильная нестабильной нестабильном нестабильность нестабильны нестабильным нестероидных неступило несчастного несчастные несъемный несъёмная нет неуверенном неудачная неудачно неудачного неудачной неудачную неудачный неуклюжестью неустойчивая неустойчиво неустойчивой неустойчивости неустойчивость неустойчивый неутешительная неутешительного неутешительную неутешительный неутешительным неуточненная нефритом нефрогенный нефроз нефролитиаз нефролитиаза нефролитиазу нефролога нефрологом нефропатией нефропатии нефропатия нефростома нефростомической нефротическим нефротоксические нефротоксичные нефрэктомией нефрэктомии нефрэктомию нефрэктомия неходжкинская неходжкинской нехорошо нецеленаправленные нечасто нечего нечеткое неэффективность неэффективным неясен неясна неясно неясного неясной неясны неясные неясным неё ни ниже нижнаяя нижнего нижней нижнем нижнему нижние нижний нижними нижних нижняя низкая низкие низкий низким низкими низкого низкое низкой низком никакие никаким никаких никакого никакой никогда никому никто никуда ним ниприд ниприда ниссену нистагм нистагма нисходящая нисходящего нисходящей нисходящую нитрат нитратами нитратов нитро нитроглицерин нитроглицерина нитроглицерином нитрокапельницы нитропастой нитропасту нитропасты нифедипина нифедипином них ничего ничем ничто нмрл нневрологический но новая ново нового новой новообразование новообразованием новообразований новообразования новообразованной новорожденная новорожденного новорожденный новорожденных новорождённая новорождённого новорождённый новорождённых новые новый новым новых ног нога ногами ногах ноге ноги ногой ногу ножевыми ножки ноздрей ноздри ноздрю номер норм нормализацией нормализовалось нормальна нормальная нормально нормального нормальное нормальной нормальном нормальному нормальную нормальны нормальные нормальный нормальным нормальными нормальных норме нормотензивен нормотензивная нормотензивный нормотоничен нормотония нормоцефальная норму нормы норэпи норэпинефрин норэпинефрина нос носа носила носит носителем носового носовое носовой носовую носовых носоглотки носоглотку носу ночам ночей ночи ночная ночное ночной ночном ночную ночные ночь ночью ноющей нпв нпвп нпх нс нср нуждается нуждалась нуждался нуждающимся нужен нужна нужно нулевая нхл нынешнего нынешние нынешний об оба обвисла обе обед обеда обезбаливания обезбаливающее обезбаливающие обезболивание обезболивания обезболивающее обезболивающие обезболивающий обезболивающими обезболивающих обезвожен обезвожена обезвоживание обезвоживанием обезвоживания обездвижена обеих обернуту обеспечение обеспечения обеспечить обеспокоен обеспокоеность обещго обильное обильные обильный обильных обкрадывания обладает области область областью облегчается облегчал облегчались облегчалось облегчение облегчением облегчении облегчения облегчилась облегчились облегчить обломки облучение облучением облучений облучения обмен обмена обморок обморока обмороками обмороки обмороков обмороком обмороку обморочного обморочное обморочном обморочноым обморочный обнадеживающее обнадеживающие обнадеживающим обнадёживающие обнадёживающим обнадёживающими обнаружен обнаружена обнаружения обнаруженные обнаруженным обнаружено обнаружены обнаружив обнаруживается обнаружившие обнаружил обнаружила обнаружилась обнаружили ободковым ободочной обозначенным обоими обоих оболочек оболочка оболочки оборудование обострение обострением обострении обострений обострения обострениями обострениях обострилась обострились обострился обрабатывали обработки обработкой образ образная образной образную образовался образование образованием образований образованию образования образованиями образом образцов образцы обратившаяся обратилась обратили обратился обратимый обратимым обратимыми обратимых обратиться обратно обратное обращается обращалась обращался обращение обращением обращении обращения обращённые обращённых обследовали обследовался обследован обследована обследование обследованием обследовании обследования обследованиями обследуют обсмотра обстановка обстановку обстоятельствам обструктивная обструктивного обструктивное обструктивной обструктивную обструктивным обструкцией обструкции обструкций обструкцию обструкция обсуждались обсуждался обсуждение обсуждения обусловленная обусловленной обхвата обходного обходной обширна обширная обширного обширное обширной обширные обширный обширным обширными обширных общ общается общалась общаться общая общего общее общей общем общему общения общества общий общим общими общителен общую объем объема объеме объемная объемной объемную объемный объемов объемом объему объявила объявлен объяснила объяснили объясняет объясняется объяснял объё объём объёма объёме объёмная объёмный объёмом обычная обычно обычного обычное обычной обычном обычному обычную обычные обычный обычным обычных ов овального овальное овариэктомии огибающая огибающей оглядывается огнестрельного огнестрельное ого ограничен ограничение ограничением ограничения ограниченную ограниченный ограниченным ограниченными ограничивает ограничивающего ограничивающую ограничительную одевалась одежда оделении один одинаковые одна однажды однако одни одним одно одновременно одного однодневной одной однократно однократный одном однонитевого одноплодная односторонний одну одонтоида одышка одышке одышки одышкой одышку ожидаемая ожидаемого ожидается ожидании ожидания ожирение ожирением ожирении ожирения ознакомьтесь означает озноб озноба ознобом оим оит ой оказалась оказались оказалось оказался оказана оказании оказания оказывалась оказывающего окклюзией окклюзии окклюзирована окклюзированной окклюзированными окклюзированы окклюзировную окклюзию окклюзия окн около околоплодного околоплодной околоплодные околоплодных околосердечной околососудистая околососудистой окончаний окончательного окраска окраске окрашена окрашенной окрашены окрашивание окружающим окружающими окружающих окружающую окружении окружного окружности окружность окружностью окс оксигенацией оксигенации оксигенация оксикодон оксикодона оксикодону оксиконтин октреолтида октреотид октреотида октреотидом олени олигогидрамниоз олигурической ом оментэктомии омл он она ондансетрон онемение онемением онемения они онкобольной онколога онкологическая онкологические онкологическим онкологических онкологического онкологию онкология онкологом онкологу онкотическое онмк оно ооо ооставался оофорэктомии оофорэктомия опаздывает опасается опасен опасение опасением опасений опасения опасениями опасная опасность опасным операбельным оперативного операцией операции операций операционное операционной операционную операционный операцию операция оперировали оперировался оперирована опиат опиатам опиатные опиатный опиатов опиаты опиоидам опиоидов описал описала описание описании описанию описанный описанными описано описаны описать описываемого описываемх описывает описывала описывалась описывались оплодотворена оплодотворение оплодотворении оплодотворения опн опорно опорожнение опорожнении опорожнений опорожнения опорожнениях опорожнилась опоясывающего опоясывающей опоясывающий опп оппозиционными определения определенно определенное определены определили определить определяемое определяемых определялась определялось определялся определённо определённого определённые опрос опроса опросе опросом опросу опрошен оптимальное опускание опусканием опустился опухание опухании опухолевой опухолей опухоли опухоль опухолью опухшая опухшее опухшие опухшим опущение опущением опущения опущенной опфорэктомии опьянения опять ор орального оральных орбиты орви органа органах органегалии организм организма организме организующейся организующийся органов органомегалии органы ординатором ордс ореха орехов ориентация ориентировалась ориентировался ориентирован ориентированный ориентированом ориентируется ориентирующейся ориит орит ориф орицательны орофарингеальная ортопед ортопеда ортопедические ортопедических ортопеду ортопноэ ортостатическая ортостатическую ортотропная орхопноэ освидетельствования освобождению осевые осенью ослабевал ослабевала ослаблен ослабление ослаблением ослабленном ослабленный ослабленным осложнена осложнение осложнений осложнения осложнениями осложненная осложненного осложненное осложненной осложненном осложненные осложненный осложненным осложнено осложнилась осложнилось осложнился осложняется осложнялось осложнённый осмолярность осмотр осмотра осмотре осмотрел осмотрели осмотрен осмотрена осмотров осмотры осн основании основания основе основная основного основной основном основную основные основных особенно особенного особенностей особых осознаёт оставалась оставались оставалось оставался оставаться оставлен оставшегося оставьте остается осталась остались осталось остальном остальные остановилась остановили остановка остановки остановкой остановку остановлен остаточного остаточное остаточной остаточные остаточный остаточным остаточных остаться остаются остаётся остео остеоартрит остеоартрита остеоартритом остеоартрозом остеомиелит остеомиелита остеопения остеопороз остеопороза остеопорозный остеосаркомой остиального остиальное остиальной остома остому острая острейший остро острого острое острой остром острому острота острую острые острый острым острых осуществляющего осью от отапноэ отброшен отведении отведений отведения отведениями отведениях отвезла отверстие отверстий отверстия ответ ответа ответами ответил ответила ответить ответом ответы отвечает отвечал отвечала отвечать отводил отводит отводящей отвращение отвыкла отд отдавала отдавали отдал отдаленного отдаленной отдаленных отдающей отдающие отдающую отдаёт отдел отдела отделах отделе отделение отделении отделению отделения отделов отдельности отдельные отдельными отдельных отделён отдохнуть отдыха отдыхает отдыхала отеделение отеделении отедление отек отека отеками отеке отеки отеков отеком отеле отель отец отзывчивой отзывчивостью отзывчивым отказ отказа отказалась отказались отказался отказаться отказывается отказывался откачано откашлять отклоненением отклонение отклонением отклонении отклонений отклонения отклонениями отклоненниями отклоняется отклонялась отключен отключена отключила открыта открытая открытием открытого открытое открытой открытом открытоугольная открытый открытыми открытых откуда отличается отличалась отличались отличное отличном отличную отличным отложена отложение отложено отмена отмене отменен отменена отмененный отменены отменили отменой отмены отменён отметил отметила отметили отметить отмечает отмечается отмечал отмечала отмечалась отмечались отмечалось отмечался отмечают отмечаются отмечен отмечена отмеченно отмеченной отмечено отмечены относительно относится отношение отношении отношению отношениях ото отошли отправили отправился отправить отправлен отправлена отправленные отправлены отпускаемое отпускаемых отравление отреагировал отреагировала отрицает отрицается отрицал отрицала отрицание отрицательна отрицательная отрицательно отрицательного отрицательное отрицательной отрицательную отрицательные отрицательный отрицательным отрицательными отрицательных отрицаются отрицая отросток отсасывание отсасывании отскока отслеживался отслеживании отслеживания отсталости отсталость отсталостью отстутствует отсутствие отсутствием отсутствии отсутствия отсутствовал отсутствовали отсутствует отсутствуют оттенком оттока отторжение отторжением отторжения отхаркиванием отчет отчету отчёт отчёта отчёту отёк отёка отёке отёки отёков отёком отёчность отёчные оформлен офтальмологический офтальмологическими офтальмологическом охарактеризовал охарактеризовать охватывают охлажден охлаждение охлаждения охлаждён оцевидцев оцениваемой оцениваемую оценивает оценивается оценила оценить оценка оценкам оценками оценки оценкой оценку оценочная оцепенении очаг очага очагами очаги очаговая очаговое очаговой очаговую очаговые очаговый очаговым очаговыми очаговых очагом очевидна очевидно очевидной очевидцы очень очередной очеренд очищена очищение очищения очищены очнулся ошибочно ощущаемая ощущает ощущать ощущение ощущением ощущении ощущений ощущения ощущениям оятгощённым па падает падал падала падение падением падении падений падения пазух пакет палате палату палец паллиативное паллиативной паллиативном паллиативный палочками палочки палочкой пальпации пальпируемое пальпируемых пальпируются пальпитации пальца пальцах пальце пальцев пальцы памяти память памятью пандусу паники панические паническими паническое панкреатина панкреатит панкреатита панкреатитом панкреатический панкреатическим панкреатического панкреатодуоденэктомия панникулит панцитопения панчувствительной папиллярная папиллярный паравальвулярной парагриппа парадоксального парадоксальный паразитов парализовали парализован паралич паралича параличи параличом параметры параноидальных параплегией парапневмонический парапсилоз парасимпатическая парасимпатической паратиреоидэктомии парацентез парацентеза парацентезом парацетамола паращитовидного паращитовидной парезами парентерального парентеральном паренхима паренхиму парень парестезией парестезии парестезий паркинсон паркинсона парковке парнем парня пароксизмальная пароксизмального пароксизмальной пароксизмальную партнёр пару парциальные паршиво пары пассажиром пассажирской пассивная пастереллезной паталогии паталогий патент патентного патентные патологией патологии патологий патологический патологическое патологию патология патриотов паттерном паузы паукообразными паховая паховой паху пациент пациента пациентаки пациентка пациентке пациентки пациенткой пациенткти пациентку пациентов пациентом пациенту пациенты пачек пачка пачке пв пвд пвцк пдкв педальную педжета пенистые пеной пенообразование пенсии пенсионер пентостатин пептической первая первичная первичного первичное первичной первичном первичные первичный первичным первого первое первой первом первоначальная первоначально первоначальное первоначальной первоначальные первоначальный первородящей первую первые первый переболела переведен переведена переведенн переведенна переведенная переведенный переведён переведённый перевели перевести перевод перевода переводе переводить переводом переводу переводят переворачиванием перевязка перегородка перегородки перегружен перегрузка перегрузки перегрузкой перегрузку перед передающимися передающимся передающихся передаёт передвигается передвигалась передвигался передвигаться передвигающимся передвижением передвижения передкатетерной передне переднеапикальные переднебоковой переднего передней переднелатеральную переднелатеральных передние передним передними переднюю передняя передозировал передозировала передозировка передозировки передозировкой передозировку пережил пережила перейти перекрута перекручивание перекрывающиеся перекрытие перекрёстного переливали переливание переливанием переливании переливаний переливания перелили перелита перелито перелом перелома переломами переломах переломов переломом перелому переломы перелёта перемежающаяся перемежающейся переменных перемычки перенапряжения перенес перенесенная перенесенного перенесенный перенесенным перенесла перенесшая перенесший перенесённая перенесённого перенесённом перенесённый перенесённым перенесённых переносил переносила переносимости переносимость переносит переносить перенёс переодические переохладили переохлажден переохлаждён переоценена перепады перерыва пересадка пересадке пересадки пересадкой пересадку пересажена пересмотрами пересмотрен переставало перестает перестал перестала перестаньте перестаёт переход перехода переходит переходная переходно переходной переходом переходящую перешел перешли перешёл перивальвулярного перивезикулярную перикард перикарда перикарде перикардиальная перикардиального перикардиальной перикардиальный перикардиоцентез перикардиоцентеза перикардит перикардита перикардитом перимезенцефалической период периода периоде периодическая периодически периодические периодический периодическим периодическими периодического периодическое периодической периодов периоды перипартальной перитонеальная перитонеального перитонеальной перитонеальном перитонеальные перитонеальный перитонит перитонита периферическая периферически периферические периферический периферических периферического периферическое периферической периферическую перифозина перкоцет перкоцетом перкуссию перкутанная перонеальной перорально пероральном пероральные пероральный пероральным пероральных персистенции персистирующие персонал перфоративным перфорацией перфорации перфорацию перфорация перфузии перфузию перфузия петлей петли печени печеночная печеночной печеночном печеночных печень печенью печёночная печёночной печёночных пж пжсн пива пиелонефрит пиелонефрита пиелонефритом пик пикового пиковое пиковые пиковый пиковым пиком пил пилори пилорусе пиперациллин пириметамином пирке питается питался питание питании питания питательной питоцина пить питье питья питьём пишу пищеварения пищеварительного пищеварительный пищевого пищевод пищевода пищеводе пищеводного пищеводный пищевому пищей пищи пищу пка пкф плавикс плавикса плавиксе плавиксом плазматических плазминогена плазмой плазму плазмы плакал плакать план плана плане планировалось планирования планируется плановая планово планового плановое плановой плановом плановую плановые планом плану пластика пластики пластиковым пластырь пластыря платина плацент плацентарная плаценту плачущим плевральная плеврального плевральной плевральные плевральный плевральным плевральными плеврит плевритические плевритического плевритической плевритическую плевритная плевродез плевры плексопатия плеча плечам плечах плече плечевого плечо плод плода плодного плодной плодные плодных плодом плоским плоскоклеточная плоскоклеточной плоскоклеточный плотности плохая плохие плохо плохого плохое плохой плохом площадку площадь площадью плюснефалангового плёнкой пмжв пнг пневмовакс пневмовакса пневмококковая пневмококковой пневмомедиастинум пневмомедиастинума пневмомию пневмонией пневмонии пневмонит пневмонитом пневмонию пневмония пневмонэктомии пневмонэктомия пневмосепсиса пневмоторакс пневмоторакса пневмоцистная пневмоцистную по побледнел побочная побочные побочных побывал поведение поведения поверхностей поверхностная поверхностно поверхностное поверхностной поверхностный поверхностных поводу повороте поврежден повреждение повреждением повреждений повреждения повреждены повреждён повседневного повседневной повседневную повседневные повседневных повтор повторена повторивщейся повторилась повторить повторная повторно повторного повторное повторной повторнородящая повторную повторные повторный повторным повторялись повторяющегося повторяющиеся повторён повысилась повысилось повысился повышается повышался повышающего повышен повышена повышение повышением повышении повышения повышенная повышенние повышенного повышенное повышенной повышенном повышенному повышенную повышенные повышенный повышенным повышенными повышено повышены повышеный повыщ поглощения погоду пограничная пограничное пограничные пограничный пограничными под подавлен подавлена подавленная подавленный подавленными подавляющим подавляющих подагра подагры подаче подбором подвальной подвергается подвергалась подвергали подвергался подверглась подвергнута подвергся подвержен подвержена подвеска подвздошная подвздошной подвздошный подвздошных подвижен подвижности подвижность подвижностью подвывихом подгибается подглазничная подглоточный подготовили подготовка подготовки поддавались поддавался поддающиеся поддержанием поддержания поддержать поддерживается поддерживала поддерживалась поддерживать поддерживающей поддерживающую поддержка поддержке поддержки поддержку подергивание подергивания поджелудочная поджелудочной подиатрии подкапсульной подключена подключился подключичной подключичную подключичные подкожная подкожно подкожной подкожные подкожный подкожных подколенного подколенной подколенный подмышечного подмышечную подмышечные подмышечных поднималось поднимался поднимать подниматься поднялась поднялось поднялся поднятие поднять подняться подобное подобные подобных подобранным подозревали подозрение подозрением подозрении подозрений подозрения подозрительные подозрительными подолог подострого подострыми подошве подошвенного подошвенных подреберными подреберье подреберья подробная подробно подробностей подробную подслизистых подтвердил подтвердила подтвердило подтвердить подтверждает подтверждена подтверждений подтвержденные подтекание подушки подход подхода подходит подчиняется подъездной подъем подъема подъеме подъемом подъемы подъём подёргиваний поедания поездки поездок поесть поехали пожаловалась пожаловался пожалуйста пожарную пожарный пожелала пожизненный пожилая пожилого пожилой пожилым позаботиться позатели позволило позволяет позволяли позвонил позвонила позвонили позвонить позвонка позвонках позвонков позвоночная позвоночник позвоночника позвоночнике позвоночного позвоночной позднего позднее поздние поздними поздно позе позже позитивно позитивные позиционированная познавательные позы позыв позывов позывы пойдёт пойти пока показавшая показавшей показавшие показавший показал показала показали показало показан показана показаний показания показаниям показано показаны показат показателей показатели показатель показателя показателям показателями показателях показывает показывал показывают показывающее показывающей покакал покалывание покалывания покинул покинуть покое покой покончить покоя покраснение покровы покрыт пола полагают полевых полезна полезно полезны ползающих поливитамины полигидрамниоза полигидрамниозом полидипсию полидипсия поликистоз поликистозных полимиалгия полимиозит полиморфизма полиморфноядерных полинейропатия полиомиелит полиомиелита полиомиелитом полип полипами полипов полипы политетрафторэтилен полиурию полиурия полихондрит полицией полицитемией полицитемический полицитемия полицию полиция полна полная полно полного полное полной полном полностью полноценно полночь полную полный полным полными половина половине половиной половины полового половом половым половых положение положении положения положено положили положительна положительная положительно положительного положительной положительную положительны положительные положительный положительным положительными положительных полой полон полос полоса полоска полости полостного полостное полость полостью полпути полторы полу полудня полудуги полуночи полуобморочных полустабильное полуторагодичного получает получал получала получать получена получение получением получения полученная полученной получено получены получив получившего получивший получил получила получили получит получить полушарие полушарии полушария полчаса пользоваться пользуется полюса поля поменяли поменялось померила поместили помещен помещена помещении помещения помещён помимо помнил помнила помнит помогает помогали помогают помогающая помогла помогло помочиться помочь помощи помощник помощь помощью помпе помпы помутнение помутнения помутнены понадобилась поначалу понедельник понижением понижения понижениями пониженная пониженного пониженное пониженной пониженные понижено поникший понимает понимал понимала понимание понимать понимая понос поноса понтина понтомезенцефалической попав попадал попаданием попал попала попасть поперечного поперечную попкорна поплитеального поплитеальной пополнен пополнить пополнялись поправилась поправки поправку поправлялся попробовал попробованные попросил попросила попытка попытками попытках попытке попытки попытку попыток пор поражение поражением поражении поражений поражению поражения поражениями порез пороговым порок пороке пороков пороком портакате портальная портальное портальной портальный портосистемного портосистемное португалоговорящий порциями порядка порядке посев посева посевах посеве посевов посевом посевы посетила посещает посещал посидел посинела посинели посинения поскольку после последнего последнее последней последнем последнему последние последний последним последних последнюю последняя последовавший последовали последовало последовательность последовательный последствий последствия последующее последующей последующем последующему последующие последующим последующими послеоперационная послеоперационного послеоперационное послеоперационном послеоперационному послеоперационные послеоперационный послеоперационным послеродовая послеродовом послужило посоветовал посоветовали посредством поссорилась пост поставили поставлен поставлена постановки постгерпетической постели постель постельного постельном постельный постепенно постепенное постинфекционного постинфекционный постинфекционным постменопаузе постнекротическому постобструктивной постоперационные постороннего посторонней постоянная постоянно постоянного постоянное постоянной постоянную постоянные постоянный постоянным постпрандиальной постприступной посттравматическое поступала поступало поступившая поступивший поступивших поступил поступила поступление поступлением поступлении поступлению поступления поступли постуральной постуральную посуду посуды посчитал пот пота потеет потел потемнения потенциальное потенциальных потере потерей потери потерю потеря потерял потеряла потерять потлив потливости потливость потливостью потным поток потока потоком потолку потом потому потоотделение потоотделением потоотделения потребление потреблении потребления потребляет потреблять потребности потребность потребностью потребовавшая потребовавшего потребовавшее потребовавшей потребовавший потребовавшим потребовавших потребовал потребовалась потребовали потребовались потребовало потребовалось потребовался потребоваться потребуется потта потянула похмелье походка походке походки походкой похожа похожая похоже похожего похожее похожие похожими похожую похолодание похудел похудела почек почему почечная почечно почечного почечное почечной почечнокаменной почечную почечные почечный почечных почка почками почках почке почки почкой почку почти почувствовав почувствовал почувствовала пошевелить пошел пошла пошёл поъём поэтому появившаяся появившейся появившиеся появившийся появилась появились появилось появился появление появлении появления появляется появлялась появлялся появляются появляющиеся пояснице поясничного поясничной поясничном поясничный правая правило правильного правильное право правого праводоминантная праводоминантную правое правожелудочковая правой правом праворукая правостороннего правостороннее правосторонней правосторонний правосторонним правостороннюю правосторонняя правую правша правые правый правым правых праздник праздничных прайм практически пребывание пребывания превышало прегабалина пред предварительная предварительного предварительное пределами пределах пределы предлежание предлежанием предлежании предлежания предложениями предложено предложил предложили предмет преднагрузки предназначен преднизолона преднизолоном преднизон преднизона преднизоне преднизоном предобморочного предобморочное предобморочным предобморочных предоморочных предоперационного предоперационное предоперационной предоставил предоставить предоставлен предоставленному предоставляет предосторожности предотвратит предотвратить предотвращает предотвращения предписано предполагаемая предполагаемого предполагаемой предполагаемому предполагаемый предполагаемым предполагается предполагалась предполагалось предположение предположили предположительно предположительным предположить предпренимать предпринимал предпринималось предприняла предпринята предпринято предприняты предраковые предраковыми предрасположенность предродовой предродовом предсердие предсердии предсердий предсердия предсердный предсердным представлен представляет представляла предстательная предстательной предстоит предшествовавших предшествующая предшествующего предшествующей предшествующие предшествующий предшествующим предшествующих предъявляемых предъявляет предъявлял предъявляла предъявлялись предыдущая предыдущего предыдущее предыдущей предыдущем предыдущие предыдущий предыдущим предыдущими предыдущих преждевременно преждевременные преждевременный преждевременным преждевременными преждевременных прежнему прежний прежними презентации преимущества преимущественно преклонный преклонным прекратил прекратила прекратилась прекратили прекратились прекратилось прекратить прекращались прекращен прекращения прекращено прекращены прекращён пременопаузе пренатальная пренатального пренатальное пренатальном пренатальные пренатальный пренатальным пренатальными пренатальных препарат препарата препаратами препарате препаратов препаратом препараты препятствия препятствующее прервали прервана прерванная преренальной прерывания прерывисто прерывистое прерывистой пресбиакузис преследовала прессор прессора прессорах прессоре прессорная прессорные прессорных прессоров прессоры престарелыми престарелых претрахеальной преходящей преходящие преэклампсией преэклампсии преэклампсия при прибавил прибавила прибавка прибавке прибавку прибавляет приближался приближении приблизительно приблизительного прибывшая прибыл прибыла прибыли прибытии прибытия приведшая приведшего приведшим приведшими привезен привезла привезли привела привело прививка прививках прививки прививку прививок привита приводит привратника привычки привычный приглашается пригородный придатком придерживается придя прием приема приеме приемное приемном приемный приемов приемом приехала приехать приживаемости прижигание признает признается признак признаками признаки признаков призналась признан признана признанными признаёт прийти приказ прикован прикована прикосновения прикроватная прикроватное прикус прикуса прилегающих прилипание прилипшим прилично примагравидная применение применением применению применения применено применили применить применяемое применяется применяли применялись примерно примеси примесью примесями примечании примечаний примечателен примечательна примечательно примечательного примечательное примечательны примочки принесло принимавший принимаемый принимает принимал принимала принимали принимались принимать принимаю принимающая принимающей принимающий принимающяя принимая принудительной принял приняла принятия принято принятые принять приобретенная приостановка приостановлен припадка припадками припадке припадки припадков припадок приписан приписано приподнять припоминает припухлости припухлость природе пристегнут пристегнутый приступ приступа приступами приступе приступов приступом приступообразная приступообразно приступы пристутвуют присутствовавшей присутствовал присутствовала присутствует присутствуют присх притворяется приходилось приходящая причем причин причина причинам причине причиной причины пришел пришла пришли пришлось пришёл прищи приятная приём приёма приёме приёмном приёмный приёмом проб проба пробежки пробито проблем проблема проблемами проблемой проблемы пробовал пробовала прободная пробы проведать проведен проведена проведение проведением проведении проведения проведенная проведенное проведенной проведенные проведенный проведено проведены проведён проведённая проведённой проведённых провели проверены проверить проверка проверке проверки проверку проверяет проверяли провести провод проводил проводилась проводили проводились проводилось проводился проводимости проводимость проводимостью проводит проводится проводиться проводника проводов проводом проводя проводят провоцирующими провёл проглатыванием проглатывания проглотить проглоченного прогноз програф прогресса прогрессивно прогрессировала прогрессировали прогрессирование прогрессированием прогрессирования прогрессируют прогрессирующая прогрессирующее прогрессирующей прогрессирующий прогрессирующим прогрессирующими прогрессирующую прогулки прогулку продемонстрировала продления продолжает продолжается продолжал продолжала продолжалась продолжались продолжало продолжалось продолжался продолжать продолжающаяся продолжающееся продолжающейся продолжающиеся продолжающийся продолжающуюся продолжение продолжения продолжено продолжил продолжила продолжительной продолжительностью продолжить продрома продувка продувке продуктами продуктивного продуктивном продуктивный продуктивным продуктов продуктовый продукты проекции проживает проживания проживающий прожил прожилками прожилки прозрачная прозрачной прозрачным прозрачными прозрачных произведена произвел произвели производить произойти произошедшей произошедшем произошел произошла произошли произошло произошёл происходит происходящее происхождение происхождения происшествие происшествий происшествия пройдено пройдет пройти прокапали прокладками прокол проконсультировал проконсультировались проконсультирован проконсультирована проксимальная проксимально проксимального проксимальной проксимальном проксимальную проксимальные проксимальных проктит проктоколэктомии пролапс пролежал пролежала пролежневая пролежневых пролежни проливы пролиферативный пролёта промежутка промежуток промывание промывании промывания проникающей пропал пропила прописали прописан прописанный прописано пропитанными пропитаны пропофол пропофола пропофолом пропранолол пропустил просвет просвета просветление проследить прослеживалась прослушиваемым прослушивалось прослущивается просматривается просмотра просмотрел просмотрели проснулась проснулся проспал простата простате простатит простатита простатитом простатой простаты простатэктомии простатэктомию простого простой пространства пространствах пространстве пространство простуда простудилась простуду простуды простые простыни просыпается просьб просьбе просьбы просят протамин протамина протамином протащен протез протезирования протезированного протезов протезы протеинурией протеинурии протеинурия протейная протекает протекала протекали протеканием протеус против противовирусную противовирусные противовоспалительных противогрибкового противогрибковую противогрибковых противомикробные противопоказан противопоказания противосудорожное противосудорожные противосудорожный противосудорожных противотуберкулезных противоэпилептические проток протока протоках протоке протоков протоковая протоковой протокол протоколом протоколу протоком протоникс протоникса протониксом протонного протонной протромбиновое протрузии протяжении профилактика профилактики профилем профиль прохладной проходившая проходил проходила проходили проходимость проходимостью проходимы проходимые проходит проходят прохождение прохождения процедур процедура процедуре процедурой процедуру процедуры процента процентиле процентили процентиль процентилю процентиля процентов процесс процесса процессе процессом прочищения прочищены прочности прочность прошедшая прошедшие прошел прошла прошли прошло прошлого прошлой прошлом прошлые прошлый прошлым прошлых прошё прошёл прощупываемым прощупывается проявились проявился проявление проявления проявляет проявлялась проявляются проявляющейся проявляющиеся пруриго прямо прямой пса псг псевдоаневризма псевдоаневризмы псевдокиста псевдокистой псевдомонадами псевдомонадной псевдомонадные псевдомонады псевдомонас психиатрический психиатрических психиатрического психиатрическое психиатрической психиатры психика психикой психический психическим психических психического психическое психическом психическому психоактивные психоактивными психоактивных психоза психозов психологический психологического психотическим психотического псориаз псориазом птв птл птоз птозом пува пузыре пузырем пузырно пузырчатка пузырчатки пузырь пузырьков пузыря пузырём пульмозная пульмонолога пульмонологическая пульпы пульс пульса пульсации пульсирующие пульсом пульсу пунктов пунктуален пункции пункцию пункция пунцовость пуповине пупочная пупочной пупочный пурпура пурпуру пустую путает путаница путаных путей путем путешествий путешествовал пути путями путях путём пучка пучком пыльца пыльцу пытается пыталась пытались пытался пытаясь пьет пьян пьянства пэт пяти пятидесятипятилетний пятидесятишестилетний пятка пятке пятки пятна пятнадцать пятнами пятнах пятнистая пятница пятницу пятно пятого пятой пятую пятый пять пёченочная ра рабдомиолиза работ работа работает работали работающее работе работник работники работой работу работы равен равновесием равновесия равную радиальный радиации радикальная радикальной радикальную радикулопатия радиоактивных радиолога радиологии радиологическом радиология радиотерапией радиотерапия радиохирургией радиочастотная радужками раз раза разбитости разбудил разбудила разбудить развернуть развивается развивалась развиваться развивающейся развивающийся развилась развились развилось развился развитие развитием развитии развитию развития развиты разгибание разговаривал разговаривала разговора разговоре разделе раздражающей раздраженного раздражители раздражитель раздражителями раздувал разжижающие разжижающих разжижения разлагаются различными размер размера размерах размеров размером размеры размещением размещения размыта разногласия разобраться разорванного разорваны разрез разреза разрезания разрешившейся разрешились разрешилось разрешился разродилась разростание разрушения разрыв разрыва разрывов разрывом разряд разряда разрядам разу районе рак рака раке раки ракового раковое раковые раковыми раковых раком раку рамках ран рана рандомизированное ране раневая раневой раневые ранее ранение ранения ранениями раннего ранней ранняя рано раной рану раны раньше рапамун рас раскрытие расплывчатое распознать располагалось расположение расположенного распространение распространением распространенное распространялось распространяющаяся распространяющейся распространяющемся распространяющиеся распространяющимся распространяющуюся рассасывающееся рассечена рассечение рассечением рассечения рассечено рассеянного рассеянный рассеянным рассказал рассказанной рассказать рассказу рассказывает рассказывала расслоение расслоения рассматривает рассмотрена рассмотрения рассосется расстоянии расстояния расстройств расстройства расстройствами расстройство расстройством расстройству раствор раствора раствором растерян растерянность растет растирали растирание растройство растущая растущих растяжение расхождения расценивалась расценивались расчетной расчетному расчитывая расчётных расшатанным расширен расширена расширение расширением расширения расширениями расширенная расширенного расширенную расширенные расширенный расширенных расширено расширеной расширены расширяющийся расщеплением рационе рв рвало рваная рваную рвота рвоте рвотного рвотной рвотный рвотным рвотных рвотой рвоту рвоты рвёт реабилитацией реабилитации реабилитаций реабилитационного реабилитационном реабилитационную реабилитационный реабилитацию реагировал реагировала реагировали реагировать реагирует реагируют реагирующая реагирующей реагирующим реактивен реактивное реактивном реактивный реактивными реактивных реакцией реакции реакций реакцию реакция реального реан реаним реанимации реанимационное реанимационном реанимационные реанимационных реанимацию реанимация реанимировали реанимирован реанимировать ребенка ребенком ребенку ребенок ребер реберного ребра ребризер ребризера ребёнка ребёнком ребёнок реваскуляризации ревизию ревизиями ревматическая ревматический ревматическим ревматического ревматическое ревматической ревматическом ревматоидный ревматоидным регенерирующими региональных регионарной регионарный реглан регулировать регулярно регулярное регулярную регулярные регулярный регулярным регургитацией регургитации регургитацию регургитация регургия редкие редкий редко редукции редуцированная режим режима режимах режиме режимом режиму рез резаные резекцией резекции резекцию резекция резервный резистентного резистентный резистентным резкая резким резко резкой резком резкую резонансная резонансного резонансной результат результата результатам результатами результатах результате результатов результатом результаты резус резца резцов резюме рейсом реквипа рекомендации рекомендациями рекомендовал рекомендовали рекомендован рекомендована рекомендовано реконструктивной реконтрукция рекреационно ректальная ректально ректального ректальное ректальном ректальные ректорных релаксации релаксация ремиссии ремиссиия ремиссия ремиссиями ремнем ремнём рентген рентгене рентгеновские рентгеновский рентгеновских рентгеновском рентгенограмма рентгенограмме рентгенограммы рентгенографии рентгенографический рентгенографического рентгенографию рентгенография рентгенологический рентгенологического рентгенологическое рентгенологическом рентгеном рентгеноскопии рентгеноскопия рентгенотерапии рентгенотерапию реолитической репозиция респираторная респираторно респираторного респираторное респираторной респираторному респираторную респираторные респираторный респираторным респираторных рестеноз рестенозами рестриктивная рестриктивное рестриктивный рестриктивным ретеплазы ретинобластомы ретинопатией ретинопатию ретинопатия ретроградную ретроорбитальной ретроспективно референсные рефлекс рефлекса рефлексами рефлексов рефлексом рефлексы рефлекторная рефлюкс рефлюкса рефлюксная рефлюксной рефрактерного рецепт рецепта рецепторы рецепту рецидив рецидива рецидивирующая рецидивирующего рецидивирующей рецидивирующему рецидивирующие рецидивирующий рецидивирующим рецидивирующими рецидивирующих рецидивирующую рецидивов рецидивом рецидивы реципиент речи речь речью решение решения решено решены решил решила решили рибонуклеарный ригидная ригидности ригидность ринит ринореи ринорею риск риска риски рисков риском риску риспердала риспердалом рисперидоном рит ритм ритма ритмичные ритмом ритму ритмы ритуксан ритуксимаб ритуксимаба ритуксимабом рифампином рка ркс рмж рн ро робитуссин ровная ровное ровные роговицы родам родами родах роддом родившаяся родившийся родившихся родила родилась родились родился родильном родильный родит родителей родители родителями родить родничок родной родные родных родов родовспоможения родовые родоразрешена родоразрешению родородилась родственника родственники родственников родственником родственный роды рожает рожала рождена рождение рождении рождения рожденна рожденный рождены рождён рождённая рождённый роженица розового розовой розовым розовыми ронял рост роста ростом рот ротаторная ротоглотке ротоглотки рпр рс рта ртом ртпх рту рубец рубке рубца рук рука рукавной рукам руках руке руки руководством рукой руку русскоговорящий рухнул рфп рча рыхлая рыхлой рядом рёбенок рёбер са сад сак сакса сальмонеллы сальника сальниковых сальных сальпинго сальпингоофорэктомия сам сама самая само самое самокатетеризация самолётом самом самообслуживанием самопроизвольно самопроизвольного самопроизвольные самопроизвольный самопроизвольным самопроизвольными самопроизвольных самостоятельно самостоятельную самостоятельные самотёк самоубийства самоубийстве самоубийством самочувствие самочувствием самочувствии самочувствия самоэкстубировалась самый санатории саркоид саркоида саркоидоз саркоидоза саркоидозе саркоидозом саркомы сарна сасикс сат сатурация сахар сахара сахарного сахарном сахарному сахарный сахарным сахаром сб сбила сбилось сбит сбита сбор сбп сван сварщик сведений сведения сведениям свежезамороженной свежезамороженную свежезамороженных свернулась свертываемости свертываемостью свертывалась свертыванию свертывания сверхострым свет светлая светло светобоязни светобоязнь светочувствительные свету свидания свидетелем свидетельства свидетельствовали свидетельствует свидетельствуют свидетельствующая свиной свиным свищ свища свищом свободная свободно свободного свободное свободной свободный свободных сводиться своего своей своем своему свои своим своих свой свою своя своё своём свт связалась связался связана связанная связанного связанное связанной связанную связанные связанный связанным связанными связанных связано связи связок связывал свёртываемости сгиба сгибание сгибания сговорчив сгребал сгустками сгустков сгустком сгусток сд сдавление сдавлением сдавления сдавленности сдавленность сдавливанием сдавливания сдает сдала сдать сдвигом сдвинутым сделал сделала сделали сделан сделана сделанная сделанное сделано сделаны сделать сеанс сеанса сеансе сеансов себе себя сегм сегмента сегментарная сегментарной сегментарный сегменте сегодня сегодняшнего сегодняшний седалищной седативного седативные седативных седацией седации сезонные сейчас секрецией секунд сел села селезенка селезенку селезёнки селективная селективно селлсепт семейного семейное семейной семейном семейный семейным семейных семи семидесяти семь семье семьи семья семьёй семян сенсорная сенсорные сепарация сепсис сепсиса сепсисом сепсису септального септальной септальный септичен септический септическими септического септическое септической септическом сердечная сердечно сердечного сердечное сердечной сердечному сердечную сердечные сердечный сердечным сердечными сердечных сердца сердце сердцебиене сердцебиение сердцебиением сердцебиения сердцем середина середине середины серийные серийными серкляж серкляжа серо серозная серозно серозной серологические серомы серьезная серьезного серьезную серьезных серьёзного серьёзную серьёзные серьёзным серьёзных сестра сестринского сестры сесть сети сетчатки сетчатку сеть сечение сечением сечении сечения сзначением сзп си сигарет сигмовидной сигмоидоскопии сигмоидоскопия сигнала сидел сиденье сидеробластической сидеть сидит сидя сидящей сидящим сил сила силах силденифила силой силу силуэт силы сильна сильная сильнее сильно сильного сильное сильной сильную сильные сильный сильным сильных симметричная симметричной симметричную симметричные симметричным симпатическая симптом симптома симптомами симптоматика симптоматики симптоматичен симптоматическим симптоматических симптоматическое симптоматической симптомах симптомов симптомы симтомах симфиза синдром синдрома синдроме синдромом синдрому синемет синим синовэктомии синтроид синуса синусит синусита синуситом синусов синусовая синусового синусовой синусовом синусовому синусовую синусовый синхронизированной синюшный синюшным синющности синющность синяк синяки сиозс сипап сироп сист систад систем система системе системная системное системной системные системным системных системой систему системы систолическая систолическим систолических систолического систолическое систолической систолы ситуации ситуацию ситуация сифилис сифилиса сифилисом сих сказал сказала сказали сказанное сказать сказывается сканирование сканированием сканирования скачке сквамозно складками складку складной склеродермия склероз склероза склерозирования склерозом склонен склонна скованности скованность скол сколиоза скользящей скончалась скопление скопления скоплениях скополаминовый скорая скорее скорой скорости скорость скоростью скорректировали скорую скрининг скрининга скринингами скрининги скринингового скрининговый скринингом скрытая скрытое скрытую скудную скудные скучала скф слаба слабая слабо слабого слабой слабости слабость слабостью слабоумие слабоумием слабоумия слабую слабый слабым слабых слева слегка след следов следования следствием следует следующая следующее следующему следующие следующий следующим следующими следующих следы слепой слепота слизи слизистая слизистого слизистой слизистые слизистым слизистых слизью слишком слияние слов слова словам словесными слоев сложная сложно сложное сложной сложности сложную сложные сложный сложным сложных сломала сломан сломана слр служащий службой службу службы слух слуха слуховой слуховые слухом случае случаев случаем случается случаи случай случайной случайный случалось случая случаями случаях случившейся случилось случился случиться слюни см сма смежные смену смерти смерть смешанная смешанное смешанной смешанный смешанных смещение смещением смещён смог смогла смолистый смысла смятость сн сна сначала сне снега снижает снижается снижалось снижался снижая снижен снижена снижение снижением снижении снижению снижения сниженная сниженной сниженный сниженным снижено снижены снизил снизилась снизили снизило снизилось снизился снизить снимается снимал снималась снимало снимка снимкам снимках снимке снимки снимков снимком снимок снова сном снотворное сняли сняло снят снятие снятия со соас соб собака собирается собиралась соблюдает соблюдал соблюдала соблюдении собой собран собрана собрание собрания собрать собственного собственной собственную событие событий события событиям совершала совершать совершенно совет совместим совместно совпадающих совсем согласилась согласился согласно согласованием согревали согрет содействовать содержал содержание содержанием содержания содержат содержимым содержит соединение соединении соединительной сожалению сознание сознании сознаниии сознания сократил сократительную сокращается сокращена сокращение сокращений сокращения сокращениями солевой солевым соли солнце соломенного солу солумедрол сольмедрол сомнения сомнительная сомнительное сомнительной сомнительный сон сонлив сонливом сонливость сонливым сонная сонной сонные сонным сонных соображает сообщает сообщается сообщают сообщаются сообщение сообщений сообщению сообщения сообщениям сообщивщий сообщил сообщила сообщили соответственно соответствии соответствовала соответствовали соответствовало соответствует соответствуют соответствующая соответствующее соответствующей соответствующем соответствующие соответствующий соответствующим соответствующую соотносится сопровождается сопровождал сопровождалась сопровождалось сопровождался сопровождающаяся сопровождающимся сопротивление сопряжённая сопряжённой сопутствующая сопутствующей сопутствующие сопутствующим сопутствующими сопутствующих сорафениб сосательный сосательным сосед соседом сост составил составила составили составило составления составляет составлял составляла составляли составляло состояние состоянием состоянии состояний состоянию состояния состояниях состоящее состоящую сосуд сосуда сосудами сосудистая сосудистого сосудистое сосудистой сосудистую сосудистые сосудистый сосудистым сосудистыми сосудистых сосудов сосудом сосудорасширяющее сосуды соталол соталола сотеофиты сотрудники сотрясение сохранением сохраненная сохраненной сохраненную сохраненные сохраненным сохраненными сохранены сохранилось сохраняет сохраняется сохранялась сохранялись сохраняющееся сохраняющийся сохраняющуюся социального социальном социальный сочащаяся сочетание сочится сочли сочтена соэ спаек спазма спазматических спазмы спайки спальню спастические спать спейсера спектра спереди специализированном специализирующейся специалиста специалистами специалистов специалисты специальном специальную специфические специфических специфической спид спидом спина спинального спинальной спинальный спинальных спине спинного спинной спинномозговой спинномозговом спиной спину спины спиральная спирометрии спирометрия спиронолактон спиртовой спиртовые список спит спицы спленомегалией спленомегалия спленэктомии спленэктомия сплетении сплетения спокоен спокойна спокойнее спокойно спондилит спондилодез спондилолистез спондилёз спондилёза спонтанная спонтанного спонтанное спонтанные спонтанный спонтанным спонтанных спортзал способен способна способная способности способность способностях споткнулся справа справиться справляться спрей спровоцировал спроса спустя спутанности спутанность спутанностью срабатывания сравнение сравнении сравнению сравнения сразу сращение среагировал среда средне среднего среднее средней среднем средний средним средних средняя средостения средств средства средствах средстве средство средством среду срок срока сроках сроке сроком срочная срочно срочного срочное срочной срочном срочности ссадины ссво ссз ссора ссп ст стабилен стабилизации стабилизировалась стабилизировалось стабилизировался стабилизирующих стабильна стабильная стабильно стабильного стабильное стабильной стабильном стабильности стабильность стабильную стабильны стабильные стабильный стабильным стабильными ставили ставить стадией стадии стадирование стадирующую стадию стадия стаж стакан стал стала стали стало стандартно стандартное стандартную стандартные становилась становилось становился становится становиться старая старше старший старшим старые старый старым статинами статинов статины статус статуса статусный статусом статусу стафилокок стафилококк стафилококка стафилококковая стафилококковую стафилококком стационар стационара стационаре стационарная стационарное стационарном стационару ствола стволового стволовые стволовых створки створок стекла стенках стенке стенки стеноз стеноза стенозов стенозом стенозу стенозы стеной стенок стенокардией стенокардии стенокардитическими стенокардические стенокардических стенокардию стенокардия стент стента стентами стентах стентирован стентирована стентирование стентированием стентированию стентирования стентировано стентов стентом стенты степени степенным степень стержнем стерильно стерильными стернотомия стероидам стероидами стероидная стероидного стероидную стероидные стероидный стероидных стероидов стероиды стеротактической стеснение стеснением стеснения стимулировались стимулирующие стимулы стимулятор стимуляции стимуляцию стимуляция стиснутой стихло стойкая стойкого стойкой стойкую стол столб столкновение столом стома стоматологических стоматологическую стонов стоп стопа стопах стопе стопы сторон сторона стороне сторонней сторонние стороной сторону стороны стоя страдает страдал страдала страдают страдающая страдающий страна странно странное странных страны стратификации стремительный стрептокок стрептококк стрептококка стрептококки стрептококков стрептококковая стрептококковые стрептококковыми стрептококком стрес стресс стресса стрессовое стрессовой стрессовый стрессом стридор стридора стридором стриктура стриктурой стриктуру стриктуры строго строение стромы струй структура структурная структурно структурное структурных стул стула стуле стулом ступней ступни ступнях стыке субарахноидальное субарахноидальные суббота субботе субботу субдуральная субдуральное субдуральной субдуральную субдуральным субклиническим сублингвально сублингвального сублингвальный сублингвальным сублингвальных субсантиметровых субсегментарные субстернальная субстернальной субстернальные субтерапевтическим субтерапевтическое субтотальной субфронтального субхориальной субхорионической субъективно субъективное субъективным судебный судить судоверфи судорог судорогами судороги судорожная судорожного судорожное судорожной судорожную судорожный судорожным судорожными судорожных судя сужение сужения суженный сужены суицида суицидальные суицидальными суицидальных суицидного суицидными суициду сукцинилхолин сукцинилхолина сульпин сульфадиазином сульфат сульфата сульфатом сульфоксид сумасшедший суматриптан сунитиниб супертерапевтическим супрессивный супрессивных сурфактанта сустав сустава суставах суставе суставной суставов суставы сутентом сутки суток сутулостью суть сухая сухие сухим сухожилий сухожилия сухой сухость сушили сушки существенная существенно существенной существенным существенных существует существуют сфинктера сфинктере сфинктеротомией сформированны сформированы схватками схватки схваток схема схеме сходить схожи считает считается считал считалась считали считались считалось считался считанная считать считающиеся съедал съел сыворотке сыворотки сын сына сыпи сыпь сыпью сюда та таб табак табака табакокурение табакокурением табачные табачный таблетками таблетки таблеток тавр таза тазобактам тазобедренного тазобедренном тазобедренный тазовая тазовое тазовой тазовом тазовые тазовым тазом тазу тайленол тайленола тайленолом так также такие таким такими таких таковых такого такое такой такролимуса такси таксол тактильная тактильной тактильные таламический таламус талассемия талиевый таллиевый таллием там тамоксифен тамоксифеном тампонада тампонадой тампонаду тампонады тампонажный таранная таранной тахеометра тахиаритмия тахикардией тахикардии тахикардию тахикардия тахипноэ твг твёрдых тг тгв тегретол тегретола текин текли текущего текущее текущей текущие текущими текущих тела теле телеангиэктазией телевизора телевизором телевизору телеметрия телефон телефону телец тело телосложение телу тем теменно теменной темно темного темп температура температуре температурой температуру температуры тенденция тендинит теперь теплой тер теразозин терап терапевта терапевтического терапевтическое терапевтом терапевту терапией терапии терапию терапия тербуталином терепию терминальная терминальной терминальную терпимые территории теряет терял тест теста тестировался тестирование тестирования тестов тестом тесту тесты тетралогия тех течение течением течения течет течь тиа тиамин тиамина тибиального тимома тимпанопластика тимэктомии тимэктомия тип типа типичное типичные типичный тиреоидит тиреоидэктомии тиреоидэктомия тирогеном тироксином титровали тканевого тканевыми тканей ткани тканях то тобрамицин товаров тогда того тоже той тока токолиз токолизом токолитическое током токсико токсиколога токсикологический токсикологическое токсикологом токсинов токсины токсическая токсический токсическое токсической токсичности токсоплазмоза толерантность толку толстая толстого толстой толстокишечного толчковой только том томографии томографирование томографию томография тому тон тонзиллит тонзиллэктомии тонзиллэктомию тонзиллэктомия тонзилэктомия тонико тонический тоническую тонкая тонкого тонкоигольная тонкой тонов тонометр тонус тонусе тонусом тоны топамакса топрол топрола торадол торакальная торакальной торакальному торакальную торакоскопии торакоскопической торакоскопия торакотомии торакотомию торакоцентез торакоцентеза торомжение тортиколла тот тотальная тотальной тотальную точечную точке точкой точно точную точные тошнило тошнит тошнота тошноте тошнотой тошноту тошноты тощей тощнота тр травм травма травмам травматические травматическим травматического травматическое травматологии травматологическое травматологической травме травмой травму травмы тразодона тракт тракта тракте трактом транзиторная транзиторное транзиторной транзиторный транзиторных трансаминазы трансаминита трансаминитом трансбронхиальная трансбронхиальной транскатетерная транскулярная транскутанная транслюминальная трансметатарзальной трансоральная трансплантат трансплантата трансплантатами трансплантатов трансплантатом трансплантату трансплантацией трансплантации трансплантаций трансплантацию трансплантация трансплантологии транспортировке транспортировки транспортного транспортное транспортном транссудативного транссудатом трансторакальная трансторакальное трансуретральная трансуретральной трансуретральную трансфузии трансюгулярного трансюгулярное трахеальным трахее трахеи трахейная трахеобронхомаляцией трахеомаляцией трахеопластика трахеостома трахеостомии трахеостомическую трахеостомию трахеостомия трахеотомии трахеотомия трахеоэзофагеальная трахею трахея требовавшей требовавший требовал требовалась требовались требовало требовалось требовался требования требованиям требовать требует требуется требуются требующая требующее требующей требующие требующий требующим тревога тревогой тревогу тревожности тревожность тревожным тревожных трезв тремор тремора тремором тремя тренажере тренажерном трепанационных трепетание трепетания трети третий третье третьего третьему третья трех трехдневный трехпросветный трехсосудистая трехсосудистое трехсосудистую трехсосудистым трехстворчатого трещин трещина три тривиальная триглицеридов тридцативосьмилетний тридцать трижды трикуспидальная трикуспидальной трикуспидальную трилептал триместре тримоксазол тринадцати триопатией триптан трисомии трифасцикулярная трифуркация трициклическими трициклической тройная тройней тройни тройничного тройного тройном тройняшек тромб тромба тромбирована тромбов тромбоз тромбоза тромбозов тромбозы тромболизиса тромболитик тромболитики тромболитический тромболитическую тромбом тромботическую тромбофлебит тромбоцитов тромбоцитоза тромбоцитопенией тромбоцитопеническая тромбоцитопеническую тромбоцитопению тромбоцитопения тромбоциты тромбоцитыоколо тромбоэмболией тромбоэмболии тромбоэмболий тромбоэмболия тромбы тромбэктомии тромбэктомия тромпонины троп тропонин тропонина тропонинов тропонином тропонины тростью тротуаре трохеальной труб трубка трубки трубкой трубку трубок труда труднее трудно трудновозбудимой трудноконтролируемой трудностей трудности трудностями трудом трудотерапии трузи трупной трусцой тряской тряску трёх трёхсосудистое ттг ттп ту туалет туалета туалете туберкулез туберкулеза туберкулезную туберкулезом туберкулиновая туберкулёз туберкулёза туберкулёзом тубулярной тубулярный тугоухость тугую туда туннельная туннельный тупая тупого тупой тупоконечного тупую тупые тур туретта тщательно тщательного тщательный тыльной тысяча тэла тээ тягостным тягу тяжелая тяжело тяжелого тяжелое тяжелой тяжелом тяжелую тяжелые тяжелый тяжелым тяжелыми тяжелых тяжести тяжесть тяжестью тяжёлая тяжёлого тяжёлое тяжёлой тяжёлом тяжёлые тяжёлый тёмно тёмного тёмный тёмными тёмных убедил убедиться уборки уборную убраться уведомят увеличен увеличена увеличение увеличением увеличении увеличений увеличения увеличенная увеличенное увеличенной увеличенные увеличенный увеличено увеличены увеличивает увеличивала увеличивалось увеличиваться увеличивающееся увеличил увеличилась увеличилось увеличился увенчались уверен уверена уверены увидела углерода угля угнанным угнетенное угол уголь угрожающая угрожающий уд удалась удален удалена удаление удалением удалении удалению удаления удалено удалены удалила удалили удалось удалён удар удара ударилась ударили ударился ударов ударяясь удержание удержать удерживат удлиненный удушья ужасную уже ужин ужина узел узелки узелковые узелковым узелок узи узкокомплексную узла узлами узлах узлов узловая узловой узлы узнала узнаёт уиппла указал указана указаний указания указанна указанно указанного указанные указанных указано указаны указывает указывается указывали указывают указывающая указывающие указывающих уколов укорачивался укорочением укрупнённые укрыто укуса укусами улице улучшается улучшалась улучшались улучшалось улучшаются улучшение улучшением улучшении улучшений улучшения улучшилась улучшились улучшилось улучшился ультразвук ультразвука ультразвукового ультразвуковое ультразвуковом ультразвуковые ультрафильтрации ультрафильтрация уме уменьшалась уменьшалось уменьшение уменьшением уменьшения уменьшенное уменьшенной уменьшенную уменьшил уменьшилась уменьшились уменьшилось уменьшился умеренная умеренно умеренного умеренное умеренной умеренную умеренные умеренный умеренным умеренными умеренных умственная умственной умственный умственных умыть умыться уназин унасин унитазе уокера упакованных упаковку упал упала упали упало уплотнение уплотнений упоминает упоминается упоминание упомянул упомянутую употребление употреблением употреблении употребления употребляет употреблял употребляла управлял управлять упражнений упражнения ур ургентность уретральный уретротомия уретры уровень уровне уровней уровнем уровни уровню уровня уровнях уролога урологом уросепсис уросепсиса уросепсисом усечение усиление усилением усиления усиленным усиливается усиливалась усиливался усиливающейся усиливающиеся усиливающийся усиливающимся усиливающуюся усилившейся усилившиеся усилием усилий усилил усилилась усилились усилилось усилить усилия усилиями ускоренного условия условиях услышал услышала уснуть успехом успешно успешного успешной успешным успокоения успокоительное успокоиться устал усталой усталости усталость усталостью устанавливали установила установили установить установка установке установки установклена установкой установку установлен установлена установленна установленная установленного установленный установленным установлено установлены устаёт устном устные устойчив устойчива устойчивого устойчивой устойчивые устойчивый устойчивым устранение устранением устранению устранения устранены устранило устранён устройств устройства устройство уступчив устья утверждает утечка утечки утечкой утечку утолении утолщение утолщенного утолщенные утомленной утомляемой утомляемости утомляемость утомляемостью утомлён утра утрам утро утробе утром уха ухаживать ухо уход ухода уходе уходу ухудшается ухудшались ухудшалось ухудшался ухудшаются ухудшающейся ухудшающиеся ухудшающимся ухудшение ухудшением ухудшении ухудшений ухудшения ухудшилась ухудшились ухудшилось ухудщения участились участия участка участками участки участок учащ учащение учащенного учащенное учащенный учащенным учащённая учащённого учащённое учащённым учебу учетом учителем учитель учитывая учреждение учреждении учреждения учреждениях учрежения ушах уши ушиб ушибами ушёл ущемленная уэллса фазе факс факт фактически фактор фактора факторами факторов факторы фаллота фамилия фарингит фарингита фармакологический фарфоровый фасеткам фасциального фасциальный фасциита фв фвд фвлж фгдс фдг фебрильная фекалиях фекального фелодипин фемово фемстопа фенерган фенилэфрин фенитоин феноксибензамином феномена фентанил фентанила фентанилом фентоламин феохромоцитома ферментов ферменты фертильность фетальной фето фетопротеин фжел фибр фибрил фибрилляцией фибрилляции фибрилляцию фибрилляция фибриляцией фибриляция фиброз фиброза фиброзная фиброзом фиброма фибромиалгия фибромиомы физ физикальном физиологическая физиологического физиология физиотерапевт физиотерапевта физиотерапии физически физические физический физических физического физическое физической физическом физическую физраств физраствор физраствора физраствором фиксации фиксация фиксированный фиксированными фильма фильтр фильтра фильтром фио фистула фистулу флагил флагила флагилметронидазол флагилом флеботомию флувастатин флударабином флуконазол флуконазоле флуконазолом флуконазолу флюорографию флюороскопическим флюрографию фнк фоел фокальные фокальных фолея фолиевая фоне форма формальный формированием формой формы фосфатаза фосфатазы фосфатропонина фосфенитоин фосфор фототерапии фотоферез фотохимиотерапия фп фпп фрагменты фракцией фракции фракцию фракция фронтальная фруктовый фузиформную фунгемия фундопликация функцией функции функций функциональна функциональности функциональную функциональные функциональный функциональных функционирует функционируют функционирующая функционирующее функционирующей функционирующие функцию функция фурнье фуросемид фуросемида футбола хагедорна характер характера характеризовалась характеризующаяся характеризующейся характерку характерно характерные характерных хашимото хбп хватанием хватательным хвостатой хвосте хгч хеликобактер хеликобактеру хиатальная хиларная хилла химиолучевая химиорадиотерапию химиотерапевтического химиотерапией химиотерапии химиотерапию химиотерапия химические химический химия хинидином хиппи хир хирург хирурга хирургами хирурги хирургией хирургии хирургическая хирургические хирургический хирургическим хирургических хирургического хирургическое хирургической хирургическому хирургию хирургия хирургом хламидиоза хлорид хлорида хмл хобл ходе ходжкина ходжкинса ходила ходит ходить ходунков ходьба ходьбе ходьбой хозяина хозяйству хоккей холангиопанкреатографию холангит холангита холангитом холедохолитиаз холедохолитиаза холелитиаз холестатического холестерин холестерина холесцинтиграфию холецистит холецистита холециститом холецистэктомией холецистэктомии холецистэктомию холецистэктомия холинэстеразы холод холода холодно холодной холодную холодный хондрокальцинозе хориоамнионита хориоамнионитом хорионы хорошая хорошее хорошей хорошем хорошие хороший хорошим хорошими хорошо хорошую хосписе хотел хотела хотели хотя хочела хочет хочется хпн хр храп храпа храпом хрипами хриплый хрипов хрипы хромает хромосомная хромосомный хромота хромотой хромоту хромоты хроническая хронически хронические хронический хроническим хроническими хронических хронического хроническое хронической хроническом хроническую хрусталика хрюканьем хряща хсн хуже хумалог царапин цв цвет цвета цветом цвету цветы цел цела целевым целенаправленные целесообразно целесообразным целиакия целиком целлюлит целлюлита целлюлите целлюлитом целой целом целостный целы цельной цельсия целях центр центра централизованного центральная центрального центральное центральный центральным центре цервикальной церебральная церебральной церебральный церебральных цереброваскулярная цереброваскулярные цереброваскулярными цефазолин цефалической цефепим цефепима цефподоксимом цефтазидим цефтекс цефтриаксон цефтриаксона цианоз цианоза цианотический цикл цикла циклов циклоспорин циклоспоры циклофосфамид циклофосфамида циклофосфамидом цимбалты ципро ципрогептадина ципрофлоксацин ципрофлоксацином циркулирующих циркуляции циркумфлекторной циркумфлекторную цирроз цирроза циррозе циррозом циррозу цирротическую цисплатин цисплатина цисплатином цистит цистоскопии цистоскопия цитарабин цитарабина цитарабином цитогенетика цитоксан цитоксаном цитологический цитологического цитология цитомегаловирус цитомегаловируса цитрат цитробактера цифры цмв цнс час часа часами часов частая части частичная частично частичной частичную частности часто частое частота частоте частотой частоту частоты частые частый частыми часть частью часу чаще чвет чдд чего человек человека челюсти челюстно челюсть челюстью чем чередование через черепа черепе черепно черепное черепные черепных черз черного черной черный черным чертами четверг четвертый четкого четыре четыреста четырех четырнадцатидневный четырьмя числа числе числовой числом чистая чистке чистого чистую чисты чистые чистый чистым чкв члена членами члене членов члены чмт чпэхокг чревных чрезкожного чрезмерно чрезмерного чрезмерное чрезмерным чрескожная чрескожного чрескожное чрескожную чреспищеводная чреспищеводной чреспищеводную чсн чсс чт чтка что чтобы чувствительная чувствительности чувствительность чувствительны чувствительные чувствительным чувство чувствовал чувствовала чувствовали чувствовать чувствует чуствует чуть чэг чёрном чёткие шагов шаркающая шаткость шацки шва швов шегрена шее шеей шеи шейка шейки шейного шейной шейном шейный шейных шероховатые шести шестого шесть шестью шею шея шигеллы шизоаффективное шизофренией шизофрения широкая широкий широким широкими широко широкого широкой ширококомплексную шкале шкаф шкг школе шла шлака шов шок шока шоке шоковая шоковой шоковом шоколадный шопс шоссе шприцом шум шумное шумов шумом шумы шунт шунта шунтирование шунтированием шунтированию шунтирования шунтирующего шунтирующим щели щелочная щелчков щель щитовидная щитовидной щёлочной эгд эгдс эдема эзофагит эзофагита эзофагогастродуоденоскопии эзофагогастродуоденоскопию эзофагогастродуоденоскопия экв экг экзаменатора экзема экзотропия эклампсия экмо эко экране экседрина экскрементов эксплоративная эксплоративной эксплоративную экссудативно экстравазации экстраокулярные экстренная экстренно экстренной экстубацией экстубации экстубацию экстубация экстубировала экстубировали экстубирован экстубирована экстубировать экстубироваться эктопия элавила эластичная элективная элективно элективной электрическая электрической электродная электродов электрокардиограмма электрокардиограмме электрокардиостимулятор электрокардиостимуляция электрокаутеризацию электролита электролитный электролитов электролитом электролиты электрофизиология электрошока электрошоковой электрошоком элоессера эмболией эмболизацией эмболизацию эмболизация эмболии эмболического эмболия эмболиями эмд эмезис эмезиса эмпиема эмпиемная эмпиемой эмпиемы эмпирически эмпирические эмпирического эмпирическую эмфизема эмфизему эмфиземы эналаприл эндартерэктомией эндартерэктомии эндартерэктомию эндартерэктомия эндо эндобронхиальный эндобронхиальных эндоваскулярная эндоваскулярные эндокарда эндокардиальной эндокардит эндокардита эндокардитом эндокринных эндокринолога эндометрии эндометриоз эндометриоза эндометрит эндометрита эндометрия эндопротезирование эндопротезирования эндопротечка эндоскопии эндоскопически эндоскопическим эндоскопических эндоскопического эндоскопическом эндоскопическую эндоскопия эндотрахеальная эндотрахеальной энергии энергичен энергично энергичной энергичным энергия эноксапарин энтеральное энтеральной энтерит энтерита энтеробактер энтеровагинальный энтерококк энтерококковая энтероколит энтероколитом энтеропатической энтероскопией энтероскопии энцефалит энцефаломаляцидное энцефалопатией энцефалопатии энцефалопатия эозинофильным эпигастральная эпигастральной эпигастральную эпигастрии эпидемии эпидермальные эпидуральная эпидурального эпидуральной эпидуральную эпизод эпизода эпизодам эпизодами эпизодах эпизоде эпизодическая эпизодически эпизодические эпизодов эпизодом эпизоды эпикантальными эпилепсией эпилепсии эпилепсия эпилептический эпилептических эпилептического эпилептическом эпилептолог эпинефрина эпистаксис эпистаксиса эпителиальных эпителии эректильная эритема эритемой эритему эритемы эритроидный эритромициновая эритромицином эритропоэтин эритроцитами эритроцитов эритроциты эрозивного эрозивным эрозии эрхп эрхпг эсмолола эссенциальная эта этаж этанола этаноловая этанолом эти этиленгликоля этим этими этиологией этиологии этиология этих это этого этой этом этомидат этомидата этому этопозид этопозида этот этт эту эуволемия эус эфексор эффект эффекта эффективно эффективным эффектов эффектом эффекты эхинокандин эхо эхокардиограмма эхокардиограмме эхокардиограммой эхокардиограмму эхокардиограммы эхокардиографии эхокардиографическим эхокардиографию эхокардиография эхокг эхосигнала ээг ювенильный южную юности юридических ябж явился является являеющееся являются являющаяся являющийся явно явного явное явной явные явным явными явных ягодицах ягодичного ягодичное ягодичном ягодичным ядерная ядерное ядерной ядерный ядро язв язва язвами язве язвенная язвенного язвенной язвенный язвенным язвой язву язвы язык языка языке языковых языком язычка яиц яичника яичники яичников яйцеклетках ямке ямки яремную яркая ярко ярёменной ярёмная ярёмную ясли ясна ясная ясно ясное ясноклеточной ясном ятрогенной'"
     },
     "execution_count": 117,
     "metadata": {},
     "output_type": "execute_result"
    }
   ],
   "source": [
    "feature_names_string = \" \".join(tf_idf_vectorizer.get_feature_names_out())\n",
    "feature_names_string"
   ],
   "metadata": {
    "collapsed": false,
    "pycharm": {
     "name": "#%%\n"
    }
   }
  },
  {
   "cell_type": "code",
   "execution_count": 118,
   "outputs": [
    {
     "data": {
      "text/plain": "array([0.00914416, 0.00757015, 0.00798747, ..., 0.00914416, 0.00748981,\n       0.00914416])"
     },
     "execution_count": 118,
     "metadata": {},
     "output_type": "execute_result"
    }
   ],
   "source": [
    "tf_idf_matrix = tf_idf_vectorizer.transform([feature_names_string])\n",
    "tf_idf_array = tf_idf_matrix.toarray().flatten()\n",
    "tf_idf_array"
   ],
   "metadata": {
    "collapsed": false,
    "pycharm": {
     "name": "#%%\n"
    }
   }
  },
  {
   "cell_type": "code",
   "execution_count": 119,
   "outputs": [],
   "source": [
    "feature_names_with_tf_idf = np.array([tf_idf_vectorizer.get_feature_names_out(), tf_idf_array]).transpose()"
   ],
   "metadata": {
    "collapsed": false,
    "pycharm": {
     "name": "#%%\n"
    }
   }
  },
  {
   "cell_type": "code",
   "execution_count": 120,
   "outputs": [
    {
     "data": {
      "text/plain": "                 word    tf-idf\n0      абактериальной  0.009144\n1       абдоминальная   0.00757\n2       абдоминальное  0.007987\n3       абдоминальной  0.007987\n4       абдоминальном  0.009144\n...               ...       ...\n13379            ясно   0.00877\n13380           ясное   0.00877\n13381   ясноклеточной  0.009144\n13382           ясном   0.00749\n13383      ятрогенной  0.009144\n\n[13384 rows x 2 columns]",
      "text/html": "<div>\n<style scoped>\n    .dataframe tbody tr th:only-of-type {\n        vertical-align: middle;\n    }\n\n    .dataframe tbody tr th {\n        vertical-align: top;\n    }\n\n    .dataframe thead th {\n        text-align: right;\n    }\n</style>\n<table border=\"1\" class=\"dataframe\">\n  <thead>\n    <tr style=\"text-align: right;\">\n      <th></th>\n      <th>word</th>\n      <th>tf-idf</th>\n    </tr>\n  </thead>\n  <tbody>\n    <tr>\n      <th>0</th>\n      <td>абактериальной</td>\n      <td>0.009144</td>\n    </tr>\n    <tr>\n      <th>1</th>\n      <td>абдоминальная</td>\n      <td>0.00757</td>\n    </tr>\n    <tr>\n      <th>2</th>\n      <td>абдоминальное</td>\n      <td>0.007987</td>\n    </tr>\n    <tr>\n      <th>3</th>\n      <td>абдоминальной</td>\n      <td>0.007987</td>\n    </tr>\n    <tr>\n      <th>4</th>\n      <td>абдоминальном</td>\n      <td>0.009144</td>\n    </tr>\n    <tr>\n      <th>...</th>\n      <td>...</td>\n      <td>...</td>\n    </tr>\n    <tr>\n      <th>13379</th>\n      <td>ясно</td>\n      <td>0.00877</td>\n    </tr>\n    <tr>\n      <th>13380</th>\n      <td>ясное</td>\n      <td>0.00877</td>\n    </tr>\n    <tr>\n      <th>13381</th>\n      <td>ясноклеточной</td>\n      <td>0.009144</td>\n    </tr>\n    <tr>\n      <th>13382</th>\n      <td>ясном</td>\n      <td>0.00749</td>\n    </tr>\n    <tr>\n      <th>13383</th>\n      <td>ятрогенной</td>\n      <td>0.009144</td>\n    </tr>\n  </tbody>\n</table>\n<p>13384 rows × 2 columns</p>\n</div>"
     },
     "execution_count": 120,
     "metadata": {},
     "output_type": "execute_result"
    }
   ],
   "source": [
    "tf_idf_df = pd.DataFrame(feature_names_with_tf_idf, columns=[\"word\",\"tf-idf\"])\n",
    "tf_idf_df"
   ],
   "metadata": {
    "collapsed": false,
    "pycharm": {
     "name": "#%%\n"
    }
   }
  },
  {
   "cell_type": "code",
   "execution_count": 121,
   "outputs": [
    {
     "data": {
      "text/plain": "                  word    tf-idf\n0             пациента  0.002092\n1              пациент  0.002592\n2                   на  0.003125\n3                   не  0.003193\n4             анамнезе  0.003613\n...                ...       ...\n13379     небулайзеров  0.009144\n13380           небыло  0.009144\n13381          неважно  0.009144\n13382  неблагоприятный  0.009144\n13383       ятрогенной  0.009144\n\n[13384 rows x 2 columns]",
      "text/html": "<div>\n<style scoped>\n    .dataframe tbody tr th:only-of-type {\n        vertical-align: middle;\n    }\n\n    .dataframe tbody tr th {\n        vertical-align: top;\n    }\n\n    .dataframe thead th {\n        text-align: right;\n    }\n</style>\n<table border=\"1\" class=\"dataframe\">\n  <thead>\n    <tr style=\"text-align: right;\">\n      <th></th>\n      <th>word</th>\n      <th>tf-idf</th>\n    </tr>\n  </thead>\n  <tbody>\n    <tr>\n      <th>0</th>\n      <td>пациента</td>\n      <td>0.002092</td>\n    </tr>\n    <tr>\n      <th>1</th>\n      <td>пациент</td>\n      <td>0.002592</td>\n    </tr>\n    <tr>\n      <th>2</th>\n      <td>на</td>\n      <td>0.003125</td>\n    </tr>\n    <tr>\n      <th>3</th>\n      <td>не</td>\n      <td>0.003193</td>\n    </tr>\n    <tr>\n      <th>4</th>\n      <td>анамнезе</td>\n      <td>0.003613</td>\n    </tr>\n    <tr>\n      <th>...</th>\n      <td>...</td>\n      <td>...</td>\n    </tr>\n    <tr>\n      <th>13379</th>\n      <td>небулайзеров</td>\n      <td>0.009144</td>\n    </tr>\n    <tr>\n      <th>13380</th>\n      <td>небыло</td>\n      <td>0.009144</td>\n    </tr>\n    <tr>\n      <th>13381</th>\n      <td>неважно</td>\n      <td>0.009144</td>\n    </tr>\n    <tr>\n      <th>13382</th>\n      <td>неблагоприятный</td>\n      <td>0.009144</td>\n    </tr>\n    <tr>\n      <th>13383</th>\n      <td>ятрогенной</td>\n      <td>0.009144</td>\n    </tr>\n  </tbody>\n</table>\n<p>13384 rows × 2 columns</p>\n</div>"
     },
     "execution_count": 121,
     "metadata": {},
     "output_type": "execute_result"
    }
   ],
   "source": [
    "sorted_tf_idf_df = tf_idf_df.sort_values(\"tf-idf\", ascending=True, ignore_index=True)\n",
    "sorted_tf_idf_df"
   ],
   "metadata": {
    "collapsed": false,
    "pycharm": {
     "name": "#%%\n"
    }
   }
  },
  {
   "cell_type": "markdown",
   "source": [
    "## Use stopwords from nltk"
   ],
   "metadata": {
    "collapsed": false,
    "pycharm": {
     "name": "#%% md\n"
    }
   }
  },
  {
   "cell_type": "markdown",
   "source": [
    "So it's too strange, and I mess to find any good threshold for define stop words list\n",
    "Therefore we will use common stopwords from nltk lib."
   ],
   "metadata": {
    "collapsed": false,
    "pycharm": {
     "name": "#%% md\n"
    }
   }
  },
  {
   "cell_type": "code",
   "execution_count": 122,
   "outputs": [
    {
     "name": "stderr",
     "output_type": "stream",
     "text": [
      "[nltk_data] Downloading package stopwords to\n",
      "[nltk_data]     /home/dmitrypogrebnoy/nltk_data...\n",
      "[nltk_data]   Unzipping corpora/stopwords.zip.\n"
     ]
    },
    {
     "data": {
      "text/plain": "True"
     },
     "execution_count": 122,
     "metadata": {},
     "output_type": "execute_result"
    }
   ],
   "source": [
    "import nltk\n",
    "nltk.download(\"stopwords\")"
   ],
   "metadata": {
    "collapsed": false,
    "pycharm": {
     "name": "#%%\n"
    }
   }
  },
  {
   "cell_type": "code",
   "execution_count": 123,
   "outputs": [
    {
     "data": {
      "text/plain": "['и',\n 'в',\n 'во',\n 'не',\n 'что',\n 'он',\n 'на',\n 'я',\n 'с',\n 'со',\n 'как',\n 'а',\n 'то',\n 'все',\n 'она',\n 'так',\n 'его',\n 'но',\n 'да',\n 'ты',\n 'к',\n 'у',\n 'же',\n 'вы',\n 'за',\n 'бы',\n 'по',\n 'только',\n 'ее',\n 'мне',\n 'было',\n 'вот',\n 'от',\n 'меня',\n 'еще',\n 'нет',\n 'о',\n 'из',\n 'ему',\n 'теперь',\n 'когда',\n 'даже',\n 'ну',\n 'вдруг',\n 'ли',\n 'если',\n 'уже',\n 'или',\n 'ни',\n 'быть',\n 'был',\n 'него',\n 'до',\n 'вас',\n 'нибудь',\n 'опять',\n 'уж',\n 'вам',\n 'ведь',\n 'там',\n 'потом',\n 'себя',\n 'ничего',\n 'ей',\n 'может',\n 'они',\n 'тут',\n 'где',\n 'есть',\n 'надо',\n 'ней',\n 'для',\n 'мы',\n 'тебя',\n 'их',\n 'чем',\n 'была',\n 'сам',\n 'чтоб',\n 'без',\n 'будто',\n 'чего',\n 'раз',\n 'тоже',\n 'себе',\n 'под',\n 'будет',\n 'ж',\n 'тогда',\n 'кто',\n 'этот',\n 'того',\n 'потому',\n 'этого',\n 'какой',\n 'совсем',\n 'ним',\n 'здесь',\n 'этом',\n 'один',\n 'почти',\n 'мой',\n 'тем',\n 'чтобы',\n 'нее',\n 'сейчас',\n 'были',\n 'куда',\n 'зачем',\n 'всех',\n 'никогда',\n 'можно',\n 'при',\n 'наконец',\n 'два',\n 'об',\n 'другой',\n 'хоть',\n 'после',\n 'над',\n 'больше',\n 'тот',\n 'через',\n 'эти',\n 'нас',\n 'про',\n 'всего',\n 'них',\n 'какая',\n 'много',\n 'разве',\n 'три',\n 'эту',\n 'моя',\n 'впрочем',\n 'хорошо',\n 'свою',\n 'этой',\n 'перед',\n 'иногда',\n 'лучше',\n 'чуть',\n 'том',\n 'нельзя',\n 'такой',\n 'им',\n 'более',\n 'всегда',\n 'конечно',\n 'всю',\n 'между']"
     },
     "execution_count": 123,
     "metadata": {},
     "output_type": "execute_result"
    }
   ],
   "source": [
    "from nltk.corpus import stopwords\n",
    "stopwords.words('russian')"
   ],
   "metadata": {
    "collapsed": false,
    "pycharm": {
     "name": "#%%\n"
    }
   }
  },
  {
   "cell_type": "markdown",
   "source": [
    "Let's use common nltk stopwords for russian and filter it out from anamnesis"
   ],
   "metadata": {
    "collapsed": false,
    "pycharm": {
     "name": "#%% md\n"
    }
   }
  },
  {
   "cell_type": "code",
   "execution_count": 124,
   "outputs": [
    {
     "data": {
      "text/plain": "                                                data  \\\n0  В анамнезе нет тромбозов или ТГВ, никогда не б...   \n1  В течение последней недели стал более сонливым...   \n2  ХОБЛ/астма: Спирометрия ([**4-/3393**]) ФЖЕЛ 2...   \n3  Во время госпитализации у пациента постепенно ...   \n4  Лечили сульфатом магния, лабеталолом, гидралаз...   \n\n                                              tokens  tokens_size  \\\n0  [В, анамнезе, нет, тромбозов, или, ТГВ, ,, ник...           18   \n1  [В, течение, последней, недели, стал, более, с...           11   \n2  [ХОБЛ, /, астма, :, Спирометрия, (, &#91;, *, ...          101   \n3  [Во, время, госпитализации, у, пациента, посте...           26   \n4  [Лечили, сульфатом, магния, ,, лабеталолом, ,,...           16   \n\n                                     filtered_tokens  filtered_tokens_size  \\\n0  [В, анамнезе, нет, тромбозов, или, ТГВ, никогд...                    16   \n1  [В, течение, последней, недели, стал, более, с...                    10   \n2  [ХОБЛ, астма, Спирометрия, ФЖЕЛ, ФЖЕЛ, объём, ...                    20   \n3  [Во, время, госпитализации, у, пациента, посте...                    23   \n4  [Лечили, сульфатом, магния, лабеталолом, гидра...                    12   \n\n              filtered_tokens_without_nltk_stopwords  \n0  [В, анамнезе, тромбозов, ТГВ, болей, груди, сл...  \n1  [В, течение, последней, недели, стал, сонливым...  \n2  [ХОБЛ, астма, Спирометрия, ФЖЕЛ, ФЖЕЛ, объём, ...  \n3  [Во, время, госпитализации, пациента, постепен...  \n4  [Лечили, сульфатом, магния, лабеталолом, гидра...  ",
      "text/html": "<div>\n<style scoped>\n    .dataframe tbody tr th:only-of-type {\n        vertical-align: middle;\n    }\n\n    .dataframe tbody tr th {\n        vertical-align: top;\n    }\n\n    .dataframe thead th {\n        text-align: right;\n    }\n</style>\n<table border=\"1\" class=\"dataframe\">\n  <thead>\n    <tr style=\"text-align: right;\">\n      <th></th>\n      <th>data</th>\n      <th>tokens</th>\n      <th>tokens_size</th>\n      <th>filtered_tokens</th>\n      <th>filtered_tokens_size</th>\n      <th>filtered_tokens_without_nltk_stopwords</th>\n    </tr>\n  </thead>\n  <tbody>\n    <tr>\n      <th>0</th>\n      <td>В анамнезе нет тромбозов или ТГВ, никогда не б...</td>\n      <td>[В, анамнезе, нет, тромбозов, или, ТГВ, ,, ник...</td>\n      <td>18</td>\n      <td>[В, анамнезе, нет, тромбозов, или, ТГВ, никогд...</td>\n      <td>16</td>\n      <td>[В, анамнезе, тромбозов, ТГВ, болей, груди, сл...</td>\n    </tr>\n    <tr>\n      <th>1</th>\n      <td>В течение последней недели стал более сонливым...</td>\n      <td>[В, течение, последней, недели, стал, более, с...</td>\n      <td>11</td>\n      <td>[В, течение, последней, недели, стал, более, с...</td>\n      <td>10</td>\n      <td>[В, течение, последней, недели, стал, сонливым...</td>\n    </tr>\n    <tr>\n      <th>2</th>\n      <td>ХОБЛ/астма: Спирометрия ([**4-/3393**]) ФЖЕЛ 2...</td>\n      <td>[ХОБЛ, /, астма, :, Спирометрия, (, &amp;#91;, *, ...</td>\n      <td>101</td>\n      <td>[ХОБЛ, астма, Спирометрия, ФЖЕЛ, ФЖЕЛ, объём, ...</td>\n      <td>20</td>\n      <td>[ХОБЛ, астма, Спирометрия, ФЖЕЛ, ФЖЕЛ, объём, ...</td>\n    </tr>\n    <tr>\n      <th>3</th>\n      <td>Во время госпитализации у пациента постепенно ...</td>\n      <td>[Во, время, госпитализации, у, пациента, посте...</td>\n      <td>26</td>\n      <td>[Во, время, госпитализации, у, пациента, посте...</td>\n      <td>23</td>\n      <td>[Во, время, госпитализации, пациента, постепен...</td>\n    </tr>\n    <tr>\n      <th>4</th>\n      <td>Лечили сульфатом магния, лабеталолом, гидралаз...</td>\n      <td>[Лечили, сульфатом, магния, ,, лабеталолом, ,,...</td>\n      <td>16</td>\n      <td>[Лечили, сульфатом, магния, лабеталолом, гидра...</td>\n      <td>12</td>\n      <td>[Лечили, сульфатом, магния, лабеталолом, гидра...</td>\n    </tr>\n  </tbody>\n</table>\n</div>"
     },
     "execution_count": 124,
     "metadata": {},
     "output_type": "execute_result"
    }
   ],
   "source": [
    "df[\"filtered_tokens_without_nltk_stopwords\"] = df[\"filtered_tokens\"].apply(lambda x: list(filter(lambda item: item not in stopwords.words('russian'), x)))\n",
    "df.head()"
   ],
   "metadata": {
    "collapsed": false,
    "pycharm": {
     "name": "#%%\n"
    }
   }
  },
  {
   "cell_type": "code",
   "execution_count": 125,
   "outputs": [
    {
     "data": {
      "text/plain": "                                                data  \\\n0  В анамнезе нет тромбозов или ТГВ, никогда не б...   \n1  В течение последней недели стал более сонливым...   \n2  ХОБЛ/астма: Спирометрия ([**4-/3393**]) ФЖЕЛ 2...   \n3  Во время госпитализации у пациента постепенно ...   \n4  Лечили сульфатом магния, лабеталолом, гидралаз...   \n\n                                              tokens  tokens_size  \\\n0  [В, анамнезе, нет, тромбозов, или, ТГВ, ,, ник...           18   \n1  [В, течение, последней, недели, стал, более, с...           11   \n2  [ХОБЛ, /, астма, :, Спирометрия, (, &#91;, *, ...          101   \n3  [Во, время, госпитализации, у, пациента, посте...           26   \n4  [Лечили, сульфатом, магния, ,, лабеталолом, ,,...           16   \n\n                                     filtered_tokens  filtered_tokens_size  \\\n0  [В, анамнезе, нет, тромбозов, или, ТГВ, никогд...                    16   \n1  [В, течение, последней, недели, стал, более, с...                    10   \n2  [ХОБЛ, астма, Спирометрия, ФЖЕЛ, ФЖЕЛ, объём, ...                    20   \n3  [Во, время, госпитализации, у, пациента, посте...                    23   \n4  [Лечили, сульфатом, магния, лабеталолом, гидра...                    12   \n\n              filtered_tokens_without_nltk_stopwords  \\\n0  [В, анамнезе, тромбозов, ТГВ, болей, груди, сл...   \n1  [В, течение, последней, недели, стал, сонливым...   \n2  [ХОБЛ, астма, Спирометрия, ФЖЕЛ, ФЖЕЛ, объём, ...   \n3  [Во, время, госпитализации, пациента, постепен...   \n4  [Лечили, сульфатом, магния, лабеталолом, гидра...   \n\n   filtered_tokens_without_nltk_stopwords_size  \n0                                            9  \n1                                            8  \n2                                           19  \n3                                           18  \n4                                           10  ",
      "text/html": "<div>\n<style scoped>\n    .dataframe tbody tr th:only-of-type {\n        vertical-align: middle;\n    }\n\n    .dataframe tbody tr th {\n        vertical-align: top;\n    }\n\n    .dataframe thead th {\n        text-align: right;\n    }\n</style>\n<table border=\"1\" class=\"dataframe\">\n  <thead>\n    <tr style=\"text-align: right;\">\n      <th></th>\n      <th>data</th>\n      <th>tokens</th>\n      <th>tokens_size</th>\n      <th>filtered_tokens</th>\n      <th>filtered_tokens_size</th>\n      <th>filtered_tokens_without_nltk_stopwords</th>\n      <th>filtered_tokens_without_nltk_stopwords_size</th>\n    </tr>\n  </thead>\n  <tbody>\n    <tr>\n      <th>0</th>\n      <td>В анамнезе нет тромбозов или ТГВ, никогда не б...</td>\n      <td>[В, анамнезе, нет, тромбозов, или, ТГВ, ,, ник...</td>\n      <td>18</td>\n      <td>[В, анамнезе, нет, тромбозов, или, ТГВ, никогд...</td>\n      <td>16</td>\n      <td>[В, анамнезе, тромбозов, ТГВ, болей, груди, сл...</td>\n      <td>9</td>\n    </tr>\n    <tr>\n      <th>1</th>\n      <td>В течение последней недели стал более сонливым...</td>\n      <td>[В, течение, последней, недели, стал, более, с...</td>\n      <td>11</td>\n      <td>[В, течение, последней, недели, стал, более, с...</td>\n      <td>10</td>\n      <td>[В, течение, последней, недели, стал, сонливым...</td>\n      <td>8</td>\n    </tr>\n    <tr>\n      <th>2</th>\n      <td>ХОБЛ/астма: Спирометрия ([**4-/3393**]) ФЖЕЛ 2...</td>\n      <td>[ХОБЛ, /, астма, :, Спирометрия, (, &amp;#91;, *, ...</td>\n      <td>101</td>\n      <td>[ХОБЛ, астма, Спирометрия, ФЖЕЛ, ФЖЕЛ, объём, ...</td>\n      <td>20</td>\n      <td>[ХОБЛ, астма, Спирометрия, ФЖЕЛ, ФЖЕЛ, объём, ...</td>\n      <td>19</td>\n    </tr>\n    <tr>\n      <th>3</th>\n      <td>Во время госпитализации у пациента постепенно ...</td>\n      <td>[Во, время, госпитализации, у, пациента, посте...</td>\n      <td>26</td>\n      <td>[Во, время, госпитализации, у, пациента, посте...</td>\n      <td>23</td>\n      <td>[Во, время, госпитализации, пациента, постепен...</td>\n      <td>18</td>\n    </tr>\n    <tr>\n      <th>4</th>\n      <td>Лечили сульфатом магния, лабеталолом, гидралаз...</td>\n      <td>[Лечили, сульфатом, магния, ,, лабеталолом, ,,...</td>\n      <td>16</td>\n      <td>[Лечили, сульфатом, магния, лабеталолом, гидра...</td>\n      <td>12</td>\n      <td>[Лечили, сульфатом, магния, лабеталолом, гидра...</td>\n      <td>10</td>\n    </tr>\n  </tbody>\n</table>\n</div>"
     },
     "execution_count": 125,
     "metadata": {},
     "output_type": "execute_result"
    }
   ],
   "source": [
    "df[\"filtered_tokens_without_nltk_stopwords_size\"] = df[\"filtered_tokens_without_nltk_stopwords\"].apply(lambda x: len(x))\n",
    "df.head()"
   ],
   "metadata": {
    "collapsed": false,
    "pycharm": {
     "name": "#%%\n"
    }
   }
  },
  {
   "cell_type": "markdown",
   "source": [
    "## Lemmatization"
   ],
   "metadata": {
    "collapsed": false,
    "pycharm": {
     "name": "#%% md\n"
    }
   }
  },
  {
   "cell_type": "markdown",
   "source": [
    "Also, we need to perform lemmatization for anamnesis words"
   ],
   "metadata": {
    "collapsed": false,
    "pycharm": {
     "name": "#%% md\n"
    }
   }
  },
  {
   "cell_type": "code",
   "execution_count": 126,
   "outputs": [],
   "source": [
    "import pymorphy2\n",
    "lemmatizer = pymorphy2.MorphAnalyzer()"
   ],
   "metadata": {
    "collapsed": false,
    "pycharm": {
     "name": "#%%\n"
    }
   }
  },
  {
   "cell_type": "code",
   "execution_count": 127,
   "outputs": [
    {
     "data": {
      "text/plain": "                                                data  \\\n0  В анамнезе нет тромбозов или ТГВ, никогда не б...   \n1  В течение последней недели стал более сонливым...   \n2  ХОБЛ/астма: Спирометрия ([**4-/3393**]) ФЖЕЛ 2...   \n3  Во время госпитализации у пациента постепенно ...   \n4  Лечили сульфатом магния, лабеталолом, гидралаз...   \n\n                                              tokens  tokens_size  \\\n0  [В, анамнезе, нет, тромбозов, или, ТГВ, ,, ник...           18   \n1  [В, течение, последней, недели, стал, более, с...           11   \n2  [ХОБЛ, /, астма, :, Спирометрия, (, &#91;, *, ...          101   \n3  [Во, время, госпитализации, у, пациента, посте...           26   \n4  [Лечили, сульфатом, магния, ,, лабеталолом, ,,...           16   \n\n                                     filtered_tokens  filtered_tokens_size  \\\n0  [В, анамнезе, нет, тромбозов, или, ТГВ, никогд...                    16   \n1  [В, течение, последней, недели, стал, более, с...                    10   \n2  [ХОБЛ, астма, Спирометрия, ФЖЕЛ, ФЖЕЛ, объём, ...                    20   \n3  [Во, время, госпитализации, у, пациента, посте...                    23   \n4  [Лечили, сульфатом, магния, лабеталолом, гидра...                    12   \n\n              filtered_tokens_without_nltk_stopwords  \\\n0  [В, анамнезе, тромбозов, ТГВ, болей, груди, сл...   \n1  [В, течение, последней, недели, стал, сонливым...   \n2  [ХОБЛ, астма, Спирометрия, ФЖЕЛ, ФЖЕЛ, объём, ...   \n3  [Во, время, госпитализации, пациента, постепен...   \n4  [Лечили, сульфатом, магния, лабеталолом, гидра...   \n\n   filtered_tokens_without_nltk_stopwords_size  \\\n0                                            9   \n1                                            8   \n2                                           19   \n3                                           18   \n4                                           10   \n\n  filtered_tokens_without_nltk_stopwords_with_lemmatization  \n0  [в, анамнез, тромбоз, тгв, боль, грудь, случай...         \n1  [в, течение, последний, неделя, стать, сонливы...         \n2  [хобл, астма, спирометрия, фжеть, фжеть, объём...         \n3  [в, время, госпитализация, пациент, постепенно...         \n4  [лечить, сульфат, магний, лабеталол, гидралази...         ",
      "text/html": "<div>\n<style scoped>\n    .dataframe tbody tr th:only-of-type {\n        vertical-align: middle;\n    }\n\n    .dataframe tbody tr th {\n        vertical-align: top;\n    }\n\n    .dataframe thead th {\n        text-align: right;\n    }\n</style>\n<table border=\"1\" class=\"dataframe\">\n  <thead>\n    <tr style=\"text-align: right;\">\n      <th></th>\n      <th>data</th>\n      <th>tokens</th>\n      <th>tokens_size</th>\n      <th>filtered_tokens</th>\n      <th>filtered_tokens_size</th>\n      <th>filtered_tokens_without_nltk_stopwords</th>\n      <th>filtered_tokens_without_nltk_stopwords_size</th>\n      <th>filtered_tokens_without_nltk_stopwords_with_lemmatization</th>\n    </tr>\n  </thead>\n  <tbody>\n    <tr>\n      <th>0</th>\n      <td>В анамнезе нет тромбозов или ТГВ, никогда не б...</td>\n      <td>[В, анамнезе, нет, тромбозов, или, ТГВ, ,, ник...</td>\n      <td>18</td>\n      <td>[В, анамнезе, нет, тромбозов, или, ТГВ, никогд...</td>\n      <td>16</td>\n      <td>[В, анамнезе, тромбозов, ТГВ, болей, груди, сл...</td>\n      <td>9</td>\n      <td>[в, анамнез, тромбоз, тгв, боль, грудь, случай...</td>\n    </tr>\n    <tr>\n      <th>1</th>\n      <td>В течение последней недели стал более сонливым...</td>\n      <td>[В, течение, последней, недели, стал, более, с...</td>\n      <td>11</td>\n      <td>[В, течение, последней, недели, стал, более, с...</td>\n      <td>10</td>\n      <td>[В, течение, последней, недели, стал, сонливым...</td>\n      <td>8</td>\n      <td>[в, течение, последний, неделя, стать, сонливы...</td>\n    </tr>\n    <tr>\n      <th>2</th>\n      <td>ХОБЛ/астма: Спирометрия ([**4-/3393**]) ФЖЕЛ 2...</td>\n      <td>[ХОБЛ, /, астма, :, Спирометрия, (, &amp;#91;, *, ...</td>\n      <td>101</td>\n      <td>[ХОБЛ, астма, Спирометрия, ФЖЕЛ, ФЖЕЛ, объём, ...</td>\n      <td>20</td>\n      <td>[ХОБЛ, астма, Спирометрия, ФЖЕЛ, ФЖЕЛ, объём, ...</td>\n      <td>19</td>\n      <td>[хобл, астма, спирометрия, фжеть, фжеть, объём...</td>\n    </tr>\n    <tr>\n      <th>3</th>\n      <td>Во время госпитализации у пациента постепенно ...</td>\n      <td>[Во, время, госпитализации, у, пациента, посте...</td>\n      <td>26</td>\n      <td>[Во, время, госпитализации, у, пациента, посте...</td>\n      <td>23</td>\n      <td>[Во, время, госпитализации, пациента, постепен...</td>\n      <td>18</td>\n      <td>[в, время, госпитализация, пациент, постепенно...</td>\n    </tr>\n    <tr>\n      <th>4</th>\n      <td>Лечили сульфатом магния, лабеталолом, гидралаз...</td>\n      <td>[Лечили, сульфатом, магния, ,, лабеталолом, ,,...</td>\n      <td>16</td>\n      <td>[Лечили, сульфатом, магния, лабеталолом, гидра...</td>\n      <td>12</td>\n      <td>[Лечили, сульфатом, магния, лабеталолом, гидра...</td>\n      <td>10</td>\n      <td>[лечить, сульфат, магний, лабеталол, гидралази...</td>\n    </tr>\n  </tbody>\n</table>\n</div>"
     },
     "execution_count": 127,
     "metadata": {},
     "output_type": "execute_result"
    }
   ],
   "source": [
    "df[\"filtered_tokens_without_nltk_stopwords_with_lemmatization\"] = \\\n",
    "    df[\"filtered_tokens_without_nltk_stopwords\"].apply(lambda words: list(map(lambda word: lemmatizer.parse(word)[0].normal_form, words)))\n",
    "df.head()"
   ],
   "metadata": {
    "collapsed": false,
    "pycharm": {
     "name": "#%%\n"
    }
   }
  },
  {
   "cell_type": "code",
   "execution_count": 128,
   "outputs": [
    {
     "data": {
      "text/plain": "                                                    data  \\\n0      В анамнезе нет тромбозов или ТГВ, никогда не б...   \n1      В течение последней недели стал более сонливым...   \n2      ХОБЛ/астма: Спирометрия ([**4-/3393**]) ФЖЕЛ 2...   \n3      Во время госпитализации у пациента постепенно ...   \n4      Лечили сульфатом магния, лабеталолом, гидралаз...   \n...                                                  ...   \n14712                        пациент - один из близнецов   \n14713      у пациентки была беременность с низким риском   \n14714  Пациенту не проводилось процедуры ядерной меди...   \n14715  Пациентка сообщила о кровянистых выделениях пр...   \n14716      У неё в анамнезе были самопроизвольные аборты   \n\n                                                  tokens  tokens_size  \\\n0      [В, анамнезе, нет, тромбозов, или, ТГВ, ,, ник...           18   \n1      [В, течение, последней, недели, стал, более, с...           11   \n2      [ХОБЛ, /, астма, :, Спирометрия, (, &#91;, *, ...          101   \n3      [Во, время, госпитализации, у, пациента, посте...           26   \n4      [Лечили, сульфатом, магния, ,, лабеталолом, ,,...           16   \n...                                                  ...          ...   \n14712                  [пациент, -, один, из, близнецов]            5   \n14713  [у, пациентки, была, беременность, с, низким, ...            7   \n14714  [Пациенту, не, проводилось, процедуры, ядерной...            7   \n14715  [Пациентка, сообщила, о, кровянистых, выделени...            7   \n14716  [У, неё, в, анамнезе, были, самопроизвольные, ...            7   \n\n                                         filtered_tokens  \\\n0      [В, анамнезе, нет, тромбозов, или, ТГВ, никогд...   \n1      [В, течение, последней, недели, стал, более, с...   \n2      [ХОБЛ, астма, Спирометрия, ФЖЕЛ, ФЖЕЛ, объём, ...   \n3      [Во, время, госпитализации, у, пациента, посте...   \n4      [Лечили, сульфатом, магния, лабеталолом, гидра...   \n...                                                  ...   \n14712                     [пациент, один, из, близнецов]   \n14713  [у, пациентки, была, беременность, с, низким, ...   \n14714  [Пациенту, не, проводилось, процедуры, ядерной...   \n14715  [Пациентка, сообщила, о, кровянистых, выделени...   \n14716  [У, неё, в, анамнезе, были, самопроизвольные, ...   \n\n       filtered_tokens_size  \\\n0                        16   \n1                        10   \n2                        20   \n3                        23   \n4                        12   \n...                     ...   \n14712                     4   \n14713                     7   \n14714                     6   \n14715                     7   \n14716                     7   \n\n                  filtered_tokens_without_nltk_stopwords  \\\n0      [В, анамнезе, тромбозов, ТГВ, болей, груди, сл...   \n1      [В, течение, последней, недели, стал, сонливым...   \n2      [ХОБЛ, астма, Спирометрия, ФЖЕЛ, ФЖЕЛ, объём, ...   \n3      [Во, время, госпитализации, пациента, постепен...   \n4      [Лечили, сульфатом, магния, лабеталолом, гидра...   \n...                                                  ...   \n14712                               [пациент, близнецов]   \n14713          [пациентки, беременность, низким, риском]   \n14714  [Пациенту, проводилось, процедуры, ядерной, ме...   \n14715  [Пациентка, сообщила, кровянистых, выделениях,...   \n14716       [У, неё, анамнезе, самопроизвольные, аборты]   \n\n       filtered_tokens_without_nltk_stopwords_size  \\\n0                                                9   \n1                                                8   \n2                                               19   \n3                                               18   \n4                                               10   \n...                                            ...   \n14712                                            2   \n14713                                            4   \n14714                                            5   \n14715                                            5   \n14716                                            5   \n\n      filtered_tokens_without_nltk_stopwords_with_lemmatization  \\\n0      [в, анамнез, тромбоз, тгв, боль, грудь, случай...          \n1      [в, течение, последний, неделя, стать, сонливы...          \n2      [хобл, астма, спирометрия, фжеть, фжеть, объём...          \n3      [в, время, госпитализация, пациент, постепенно...          \n4      [лечить, сульфат, магний, лабеталол, гидралази...          \n...                                                  ...          \n14712                                 [пациент, близнец]          \n14713            [пациентка, беременность, низкий, риск]          \n14714  [пациент, проводиться, процедура, ядерный, мед...          \n14715  [пациентка, сообщить, кровянистый, выделение, ...          \n14716         [у, она, анамнез, самопроизвольный, аборт]          \n\n       filtered_tokens_without_nltk_stopwords_with_lemmatization_size  \n0                                                      9               \n1                                                      8               \n2                                                     19               \n3                                                     18               \n4                                                     10               \n...                                                  ...               \n14712                                                  2               \n14713                                                  4               \n14714                                                  5               \n14715                                                  5               \n14716                                                  5               \n\n[14717 rows x 9 columns]",
      "text/html": "<div>\n<style scoped>\n    .dataframe tbody tr th:only-of-type {\n        vertical-align: middle;\n    }\n\n    .dataframe tbody tr th {\n        vertical-align: top;\n    }\n\n    .dataframe thead th {\n        text-align: right;\n    }\n</style>\n<table border=\"1\" class=\"dataframe\">\n  <thead>\n    <tr style=\"text-align: right;\">\n      <th></th>\n      <th>data</th>\n      <th>tokens</th>\n      <th>tokens_size</th>\n      <th>filtered_tokens</th>\n      <th>filtered_tokens_size</th>\n      <th>filtered_tokens_without_nltk_stopwords</th>\n      <th>filtered_tokens_without_nltk_stopwords_size</th>\n      <th>filtered_tokens_without_nltk_stopwords_with_lemmatization</th>\n      <th>filtered_tokens_without_nltk_stopwords_with_lemmatization_size</th>\n    </tr>\n  </thead>\n  <tbody>\n    <tr>\n      <th>0</th>\n      <td>В анамнезе нет тромбозов или ТГВ, никогда не б...</td>\n      <td>[В, анамнезе, нет, тромбозов, или, ТГВ, ,, ник...</td>\n      <td>18</td>\n      <td>[В, анамнезе, нет, тромбозов, или, ТГВ, никогд...</td>\n      <td>16</td>\n      <td>[В, анамнезе, тромбозов, ТГВ, болей, груди, сл...</td>\n      <td>9</td>\n      <td>[в, анамнез, тромбоз, тгв, боль, грудь, случай...</td>\n      <td>9</td>\n    </tr>\n    <tr>\n      <th>1</th>\n      <td>В течение последней недели стал более сонливым...</td>\n      <td>[В, течение, последней, недели, стал, более, с...</td>\n      <td>11</td>\n      <td>[В, течение, последней, недели, стал, более, с...</td>\n      <td>10</td>\n      <td>[В, течение, последней, недели, стал, сонливым...</td>\n      <td>8</td>\n      <td>[в, течение, последний, неделя, стать, сонливы...</td>\n      <td>8</td>\n    </tr>\n    <tr>\n      <th>2</th>\n      <td>ХОБЛ/астма: Спирометрия ([**4-/3393**]) ФЖЕЛ 2...</td>\n      <td>[ХОБЛ, /, астма, :, Спирометрия, (, &amp;#91;, *, ...</td>\n      <td>101</td>\n      <td>[ХОБЛ, астма, Спирометрия, ФЖЕЛ, ФЖЕЛ, объём, ...</td>\n      <td>20</td>\n      <td>[ХОБЛ, астма, Спирометрия, ФЖЕЛ, ФЖЕЛ, объём, ...</td>\n      <td>19</td>\n      <td>[хобл, астма, спирометрия, фжеть, фжеть, объём...</td>\n      <td>19</td>\n    </tr>\n    <tr>\n      <th>3</th>\n      <td>Во время госпитализации у пациента постепенно ...</td>\n      <td>[Во, время, госпитализации, у, пациента, посте...</td>\n      <td>26</td>\n      <td>[Во, время, госпитализации, у, пациента, посте...</td>\n      <td>23</td>\n      <td>[Во, время, госпитализации, пациента, постепен...</td>\n      <td>18</td>\n      <td>[в, время, госпитализация, пациент, постепенно...</td>\n      <td>18</td>\n    </tr>\n    <tr>\n      <th>4</th>\n      <td>Лечили сульфатом магния, лабеталолом, гидралаз...</td>\n      <td>[Лечили, сульфатом, магния, ,, лабеталолом, ,,...</td>\n      <td>16</td>\n      <td>[Лечили, сульфатом, магния, лабеталолом, гидра...</td>\n      <td>12</td>\n      <td>[Лечили, сульфатом, магния, лабеталолом, гидра...</td>\n      <td>10</td>\n      <td>[лечить, сульфат, магний, лабеталол, гидралази...</td>\n      <td>10</td>\n    </tr>\n    <tr>\n      <th>...</th>\n      <td>...</td>\n      <td>...</td>\n      <td>...</td>\n      <td>...</td>\n      <td>...</td>\n      <td>...</td>\n      <td>...</td>\n      <td>...</td>\n      <td>...</td>\n    </tr>\n    <tr>\n      <th>14712</th>\n      <td>пациент - один из близнецов</td>\n      <td>[пациент, -, один, из, близнецов]</td>\n      <td>5</td>\n      <td>[пациент, один, из, близнецов]</td>\n      <td>4</td>\n      <td>[пациент, близнецов]</td>\n      <td>2</td>\n      <td>[пациент, близнец]</td>\n      <td>2</td>\n    </tr>\n    <tr>\n      <th>14713</th>\n      <td>у пациентки была беременность с низким риском</td>\n      <td>[у, пациентки, была, беременность, с, низким, ...</td>\n      <td>7</td>\n      <td>[у, пациентки, была, беременность, с, низким, ...</td>\n      <td>7</td>\n      <td>[пациентки, беременность, низким, риском]</td>\n      <td>4</td>\n      <td>[пациентка, беременность, низкий, риск]</td>\n      <td>4</td>\n    </tr>\n    <tr>\n      <th>14714</th>\n      <td>Пациенту не проводилось процедуры ядерной меди...</td>\n      <td>[Пациенту, не, проводилось, процедуры, ядерной...</td>\n      <td>7</td>\n      <td>[Пациенту, не, проводилось, процедуры, ядерной...</td>\n      <td>6</td>\n      <td>[Пациенту, проводилось, процедуры, ядерной, ме...</td>\n      <td>5</td>\n      <td>[пациент, проводиться, процедура, ядерный, мед...</td>\n      <td>5</td>\n    </tr>\n    <tr>\n      <th>14715</th>\n      <td>Пациентка сообщила о кровянистых выделениях пр...</td>\n      <td>[Пациентка, сообщила, о, кровянистых, выделени...</td>\n      <td>7</td>\n      <td>[Пациентка, сообщила, о, кровянистых, выделени...</td>\n      <td>7</td>\n      <td>[Пациентка, сообщила, кровянистых, выделениях,...</td>\n      <td>5</td>\n      <td>[пациентка, сообщить, кровянистый, выделение, ...</td>\n      <td>5</td>\n    </tr>\n    <tr>\n      <th>14716</th>\n      <td>У неё в анамнезе были самопроизвольные аборты</td>\n      <td>[У, неё, в, анамнезе, были, самопроизвольные, ...</td>\n      <td>7</td>\n      <td>[У, неё, в, анамнезе, были, самопроизвольные, ...</td>\n      <td>7</td>\n      <td>[У, неё, анамнезе, самопроизвольные, аборты]</td>\n      <td>5</td>\n      <td>[у, она, анамнез, самопроизвольный, аборт]</td>\n      <td>5</td>\n    </tr>\n  </tbody>\n</table>\n<p>14717 rows × 9 columns</p>\n</div>"
     },
     "execution_count": 128,
     "metadata": {},
     "output_type": "execute_result"
    }
   ],
   "source": [
    "df[\"filtered_tokens_without_nltk_stopwords_with_lemmatization_size\"] = df[\"filtered_tokens_without_nltk_stopwords_with_lemmatization\"].apply(lambda x: len(x))\n",
    "df"
   ],
   "metadata": {
    "collapsed": false,
    "pycharm": {
     "name": "#%%\n"
    }
   }
  },
  {
   "cell_type": "markdown",
   "source": [
    "Check that the lemmatization doesn't drop any words from anamnesis texts"
   ],
   "metadata": {
    "collapsed": false,
    "pycharm": {
     "name": "#%% md\n"
    }
   }
  },
  {
   "cell_type": "code",
   "execution_count": 129,
   "outputs": [
    {
     "data": {
      "text/plain": "Empty DataFrame\nColumns: [data, tokens, tokens_size, filtered_tokens, filtered_tokens_size, filtered_tokens_without_nltk_stopwords, filtered_tokens_without_nltk_stopwords_size, filtered_tokens_without_nltk_stopwords_with_lemmatization, filtered_tokens_without_nltk_stopwords_with_lemmatization_size]\nIndex: []",
      "text/html": "<div>\n<style scoped>\n    .dataframe tbody tr th:only-of-type {\n        vertical-align: middle;\n    }\n\n    .dataframe tbody tr th {\n        vertical-align: top;\n    }\n\n    .dataframe thead th {\n        text-align: right;\n    }\n</style>\n<table border=\"1\" class=\"dataframe\">\n  <thead>\n    <tr style=\"text-align: right;\">\n      <th></th>\n      <th>data</th>\n      <th>tokens</th>\n      <th>tokens_size</th>\n      <th>filtered_tokens</th>\n      <th>filtered_tokens_size</th>\n      <th>filtered_tokens_without_nltk_stopwords</th>\n      <th>filtered_tokens_without_nltk_stopwords_size</th>\n      <th>filtered_tokens_without_nltk_stopwords_with_lemmatization</th>\n      <th>filtered_tokens_without_nltk_stopwords_with_lemmatization_size</th>\n    </tr>\n  </thead>\n  <tbody>\n  </tbody>\n</table>\n</div>"
     },
     "execution_count": 129,
     "metadata": {},
     "output_type": "execute_result"
    }
   ],
   "source": [
    "df[df[\"filtered_tokens_without_nltk_stopwords_size\"] != df[\"filtered_tokens_without_nltk_stopwords_with_lemmatization_size\"]]"
   ],
   "metadata": {
    "collapsed": false,
    "pycharm": {
     "name": "#%%\n"
    }
   }
  },
  {
   "cell_type": "markdown",
   "source": [
    "## Save result dataframe to file"
   ],
   "metadata": {
    "collapsed": false,
    "pycharm": {
     "name": "#%% md\n"
    }
   }
  },
  {
   "cell_type": "code",
   "execution_count": 130,
   "outputs": [],
   "source": [
    "df.to_csv(\"../../data/anamnesis/processed/ru_med_nli_data_dataframe.csv\")"
   ],
   "metadata": {
    "collapsed": false,
    "pycharm": {
     "name": "#%%\n"
    }
   }
  },
  {
   "cell_type": "code",
   "execution_count": null,
   "outputs": [],
   "source": [],
   "metadata": {
    "collapsed": false,
    "pycharm": {
     "name": "#%%\n"
    }
   }
  }
 ],
 "metadata": {
  "kernelspec": {
   "display_name": "Python 3",
   "language": "python",
   "name": "python3"
  },
  "language_info": {
   "codemirror_mode": {
    "name": "ipython",
    "version": 2
   },
   "file_extension": ".py",
   "mimetype": "text/x-python",
   "name": "python",
   "nbconvert_exporter": "python",
   "pygments_lexer": "ipython2",
   "version": "2.7.6"
  }
 },
 "nbformat": 4,
 "nbformat_minor": 0
}