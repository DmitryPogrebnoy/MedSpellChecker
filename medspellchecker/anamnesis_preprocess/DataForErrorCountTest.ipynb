{
 "cells": [
  {
   "cell_type": "code",
   "execution_count": 1,
   "metadata": {
    "collapsed": true
   },
   "outputs": [],
   "source": [
    "import pandas as pd\n",
    "import numpy as np\n",
    "import random"
   ]
  },
  {
   "cell_type": "code",
   "execution_count": 24,
   "outputs": [
    {
     "data": {
      "text/plain": "                                                data  \\\n0  Сухость кожи, мышечная слабость, нарушение мен...   \n1  Жалобы ГБ: головная боль, головокружение на фо...   \n2  головная боль, озноб, насморк, легкая заложенн...   \n3  На изжога периодически , отрыжка воздухом, . б...   \n4             - лабильность настроения, плаксивость.   \n\n                                              tokens  tokens_size  \\\n0  ['Сухость', 'кожи', ',', 'мышечная', 'слабость...           17   \n1  ['Жалобы', 'ГБ', ':', 'головная', 'боль', ',',...           61   \n2  ['головная', 'боль', ',', 'озноб', ',', 'насмо...           27   \n3  ['На', 'изжога', 'периодически', ',', 'отрыжка...           33   \n4  ['-', 'лабильность', 'настроения', ',', 'плакс...            6   \n\n                                     filtered_tokens  filtered_tokens_size  \\\n0  ['сухость', 'кожи', 'мышечная', 'слабость', 'н...                    11   \n1  ['жалобы', 'головная', 'боль', 'головокружение...                    37   \n2  ['головная', 'боль', 'озноб', 'насморк', 'легк...                    15   \n3  ['на', 'изжога', 'периодически', 'отрыжка', 'в...                    23   \n4       ['лабильность', 'настроения', 'плаксивость']                     3   \n\n              filtered_tokens_without_nltk_stopwords  \\\n0  ['сухость', 'кожи', 'мышечная', 'слабость', 'н...   \n1  ['жалобы', 'головная', 'боль', 'головокружение...   \n2  ['головная', 'боль', 'озноб', 'насморк', 'легк...   \n3  ['изжога', 'периодически', 'отрыжка', 'воздухо...   \n4       ['лабильность', 'настроения', 'плаксивость']   \n\n   filtered_tokens_without_nltk_stopwords_size  \\\n0                                           10   \n1                                           30   \n2                                           13   \n3                                           18   \n4                                            3   \n\n  filtered_tokens_without_nltk_stopwords_with_lemmatization  \\\n0  ['сухость', 'кожа', 'мышечный', 'слабость', 'н...          \n1  ['жалоба', 'головной', 'боль', 'головокружение...          \n2  ['головной', 'боль', 'озноб', 'насморк', 'лёгк...          \n3  ['изжога', 'периодически', 'отрыжка', 'воздух'...          \n4       ['лабильность', 'настроение', 'плаксивость']          \n\n   filtered_tokens_without_nltk_stopwords_with_lemmatization_size  \n0                                                 10               \n1                                                 30               \n2                                                 13               \n3                                                 18               \n4                                                  3               ",
      "text/html": "<div>\n<style scoped>\n    .dataframe tbody tr th:only-of-type {\n        vertical-align: middle;\n    }\n\n    .dataframe tbody tr th {\n        vertical-align: top;\n    }\n\n    .dataframe thead th {\n        text-align: right;\n    }\n</style>\n<table border=\"1\" class=\"dataframe\">\n  <thead>\n    <tr style=\"text-align: right;\">\n      <th></th>\n      <th>data</th>\n      <th>tokens</th>\n      <th>tokens_size</th>\n      <th>filtered_tokens</th>\n      <th>filtered_tokens_size</th>\n      <th>filtered_tokens_without_nltk_stopwords</th>\n      <th>filtered_tokens_without_nltk_stopwords_size</th>\n      <th>filtered_tokens_without_nltk_stopwords_with_lemmatization</th>\n      <th>filtered_tokens_without_nltk_stopwords_with_lemmatization_size</th>\n    </tr>\n  </thead>\n  <tbody>\n    <tr>\n      <th>0</th>\n      <td>Сухость кожи, мышечная слабость, нарушение мен...</td>\n      <td>['Сухость', 'кожи', ',', 'мышечная', 'слабость...</td>\n      <td>17</td>\n      <td>['сухость', 'кожи', 'мышечная', 'слабость', 'н...</td>\n      <td>11</td>\n      <td>['сухость', 'кожи', 'мышечная', 'слабость', 'н...</td>\n      <td>10</td>\n      <td>['сухость', 'кожа', 'мышечный', 'слабость', 'н...</td>\n      <td>10</td>\n    </tr>\n    <tr>\n      <th>1</th>\n      <td>Жалобы ГБ: головная боль, головокружение на фо...</td>\n      <td>['Жалобы', 'ГБ', ':', 'головная', 'боль', ',',...</td>\n      <td>61</td>\n      <td>['жалобы', 'головная', 'боль', 'головокружение...</td>\n      <td>37</td>\n      <td>['жалобы', 'головная', 'боль', 'головокружение...</td>\n      <td>30</td>\n      <td>['жалоба', 'головной', 'боль', 'головокружение...</td>\n      <td>30</td>\n    </tr>\n    <tr>\n      <th>2</th>\n      <td>головная боль, озноб, насморк, легкая заложенн...</td>\n      <td>['головная', 'боль', ',', 'озноб', ',', 'насмо...</td>\n      <td>27</td>\n      <td>['головная', 'боль', 'озноб', 'насморк', 'легк...</td>\n      <td>15</td>\n      <td>['головная', 'боль', 'озноб', 'насморк', 'легк...</td>\n      <td>13</td>\n      <td>['головной', 'боль', 'озноб', 'насморк', 'лёгк...</td>\n      <td>13</td>\n    </tr>\n    <tr>\n      <th>3</th>\n      <td>На изжога периодически , отрыжка воздухом, . б...</td>\n      <td>['На', 'изжога', 'периодически', ',', 'отрыжка...</td>\n      <td>33</td>\n      <td>['на', 'изжога', 'периодически', 'отрыжка', 'в...</td>\n      <td>23</td>\n      <td>['изжога', 'периодически', 'отрыжка', 'воздухо...</td>\n      <td>18</td>\n      <td>['изжога', 'периодически', 'отрыжка', 'воздух'...</td>\n      <td>18</td>\n    </tr>\n    <tr>\n      <th>4</th>\n      <td>- лабильность настроения, плаксивость.</td>\n      <td>['-', 'лабильность', 'настроения', ',', 'плакс...</td>\n      <td>6</td>\n      <td>['лабильность', 'настроения', 'плаксивость']</td>\n      <td>3</td>\n      <td>['лабильность', 'настроения', 'плаксивость']</td>\n      <td>3</td>\n      <td>['лабильность', 'настроение', 'плаксивость']</td>\n      <td>3</td>\n    </tr>\n  </tbody>\n</table>\n</div>"
     },
     "execution_count": 24,
     "metadata": {},
     "output_type": "execute_result"
    }
   ],
   "source": [
    "df = pd.read_csv(\"../../data/anamnesis/processed/ru_med_prime_data_dataframe.csv\", index_col=0)\n",
    "df.head()"
   ],
   "metadata": {
    "collapsed": false
   }
  },
  {
   "cell_type": "code",
   "execution_count": 25,
   "outputs": [],
   "source": [
    "anamnesis = df[\"data\"].values"
   ],
   "metadata": {
    "collapsed": false
   }
  },
  {
   "cell_type": "code",
   "execution_count": 26,
   "outputs": [],
   "source": [
    "random_state = 100\n",
    "random.seed(random_state)\n",
    "np.random.seed(random_state)"
   ],
   "metadata": {
    "collapsed": false
   }
  },
  {
   "cell_type": "code",
   "execution_count": 27,
   "outputs": [],
   "source": [
    "TRAIN_PART_ANAMNESIS = 0.8"
   ],
   "metadata": {
    "collapsed": false
   }
  },
  {
   "cell_type": "code",
   "execution_count": 28,
   "outputs": [],
   "source": [
    "np.random.shuffle(anamnesis)"
   ],
   "metadata": {
    "collapsed": false
   }
  },
  {
   "cell_type": "code",
   "execution_count": 33,
   "outputs": [
    {
     "data": {
      "text/plain": "'Головокружение несистемного характера. Шаткость при ходьбе СНИДЕНИЕ ВОНЦЕНТРАЦИИ ВНИМАНИЯ И ПАМЯТИ.'"
     },
     "execution_count": 33,
     "metadata": {},
     "output_type": "execute_result"
    }
   ],
   "source": [
    "anamnesis[3]"
   ],
   "metadata": {
    "collapsed": false
   }
  },
  {
   "cell_type": "code",
   "execution_count": 39,
   "outputs": [],
   "source": [
    "test = anamnesis[int((len(anamnesis) + 1) * TRAIN_PART_ANAMNESIS):]"
   ],
   "metadata": {
    "collapsed": false
   }
  },
  {
   "cell_type": "code",
   "execution_count": 40,
   "outputs": [
    {
     "data": {
      "text/plain": "3030"
     },
     "execution_count": 40,
     "metadata": {},
     "output_type": "execute_result"
    }
   ],
   "source": [
    "len(test)"
   ],
   "metadata": {
    "collapsed": false
   }
  },
  {
   "cell_type": "code",
   "execution_count": 41,
   "outputs": [
    {
     "data": {
      "text/plain": "121262"
     },
     "execution_count": 41,
     "metadata": {},
     "output_type": "execute_result"
    }
   ],
   "source": [
    "len(\" \".join(test).split())"
   ],
   "metadata": {
    "collapsed": false
   }
  },
  {
   "cell_type": "code",
   "execution_count": 42,
   "outputs": [],
   "source": [
    "test = test[100:]"
   ],
   "metadata": {
    "collapsed": false
   }
  },
  {
   "cell_type": "code",
   "execution_count": 43,
   "outputs": [
    {
     "data": {
      "text/plain": "array(['Боли во 2,3 пальце левой стопы при нагрузке, при пальпации. Утренняя скованность 1-2 мин.',\n       'Муж обследован. Фертилен. Тенденция с астенозооспермия. ПРЛ, ТТГ, Т4 св, тестостерон, ДГАS - норма *ДАТА*. Трубы проходимы ? По данным ультрасонографии. З-е врача - трубы проходимы. ПЦР на гарднереллу, хл, мик ген., трихом- отр в *ДАТА*',\n       'Данные жалобы с *ДАТА* ЛОР патологии нет. ЭГДС: рефлюкс (ГЭРБ)Лечение у гастроэнтеролога и ЛОР врача Леченеи у психотер. с диагнозом тревожное расстройтсво (золофт, галоперидол, суперстресс).',\n       ...,\n       'Вышеперечисленные жалобы появились около года назад. Ухудшение состояния около 3-х недель. Ранее по поводу состояния щитовидной железы не обследовалась.',\n       'повышенное выпадение волос',\n       'судорожные приступы, провоцирующиеся депривацией сна'],\n      dtype=object)"
     },
     "execution_count": 43,
     "metadata": {},
     "output_type": "execute_result"
    }
   ],
   "source": [
    "test"
   ],
   "metadata": {
    "collapsed": false
   }
  },
  {
   "cell_type": "code",
   "execution_count": 48,
   "outputs": [
    {
     "data": {
      "text/plain": "                                                   data\n0     Боли во 2,3 пальце левой стопы при нагрузке, п...\n1     Муж обследован. Фертилен. Тенденция с астенозо...\n2     Данные жалобы с *ДАТА* ЛОР патологии нет. ЭГДС...\n3     В *ДАТА*. беспокоили боли в грудном отделе поз...\n4                    эпизодически боль в суставах стоп.\n...                                                 ...\n2925  *ДАТА*: присасывание клеща, исследование клеща...\n2926  Наблюдалась у дерматолога по поводу грибкового...\n2927  Вышеперечисленные жалобы появились около года ...\n2928                         повышенное выпадение волос\n2929  судорожные приступы, провоцирующиеся деприваци...\n\n[2930 rows x 1 columns]",
      "text/html": "<div>\n<style scoped>\n    .dataframe tbody tr th:only-of-type {\n        vertical-align: middle;\n    }\n\n    .dataframe tbody tr th {\n        vertical-align: top;\n    }\n\n    .dataframe thead th {\n        text-align: right;\n    }\n</style>\n<table border=\"1\" class=\"dataframe\">\n  <thead>\n    <tr style=\"text-align: right;\">\n      <th></th>\n      <th>data</th>\n    </tr>\n  </thead>\n  <tbody>\n    <tr>\n      <th>0</th>\n      <td>Боли во 2,3 пальце левой стопы при нагрузке, п...</td>\n    </tr>\n    <tr>\n      <th>1</th>\n      <td>Муж обследован. Фертилен. Тенденция с астенозо...</td>\n    </tr>\n    <tr>\n      <th>2</th>\n      <td>Данные жалобы с *ДАТА* ЛОР патологии нет. ЭГДС...</td>\n    </tr>\n    <tr>\n      <th>3</th>\n      <td>В *ДАТА*. беспокоили боли в грудном отделе поз...</td>\n    </tr>\n    <tr>\n      <th>4</th>\n      <td>эпизодически боль в суставах стоп.</td>\n    </tr>\n    <tr>\n      <th>...</th>\n      <td>...</td>\n    </tr>\n    <tr>\n      <th>2925</th>\n      <td>*ДАТА*: присасывание клеща, исследование клеща...</td>\n    </tr>\n    <tr>\n      <th>2926</th>\n      <td>Наблюдалась у дерматолога по поводу грибкового...</td>\n    </tr>\n    <tr>\n      <th>2927</th>\n      <td>Вышеперечисленные жалобы появились около года ...</td>\n    </tr>\n    <tr>\n      <th>2928</th>\n      <td>повышенное выпадение волос</td>\n    </tr>\n    <tr>\n      <th>2929</th>\n      <td>судорожные приступы, провоцирующиеся деприваци...</td>\n    </tr>\n  </tbody>\n</table>\n<p>2930 rows × 1 columns</p>\n</div>"
     },
     "execution_count": 48,
     "metadata": {},
     "output_type": "execute_result"
    }
   ],
   "source": [
    "final_df = pd.DataFrame(test, columns=[\"data\"])\n",
    "final_df"
   ],
   "metadata": {
    "collapsed": false
   }
  },
  {
   "cell_type": "code",
   "execution_count": 49,
   "outputs": [],
   "source": [
    "final_df.to_csv(\"../../data/test/test_error_count/test_ru_med_prime_data.csv\")"
   ],
   "metadata": {
    "collapsed": false
   }
  },
  {
   "cell_type": "code",
   "execution_count": null,
   "outputs": [],
   "source": [],
   "metadata": {
    "collapsed": false
   }
  }
 ],
 "metadata": {
  "kernelspec": {
   "display_name": "Python 3",
   "language": "python",
   "name": "python3"
  },
  "language_info": {
   "codemirror_mode": {
    "name": "ipython",
    "version": 2
   },
   "file_extension": ".py",
   "mimetype": "text/x-python",
   "name": "python",
   "nbconvert_exporter": "python",
   "pygments_lexer": "ipython2",
   "version": "2.7.6"
  }
 },
 "nbformat": 4,
 "nbformat_minor": 0
}
