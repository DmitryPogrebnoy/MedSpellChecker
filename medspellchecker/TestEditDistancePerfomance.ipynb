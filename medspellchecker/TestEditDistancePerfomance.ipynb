{
 "cells": [
  {
   "cell_type": "code",
   "execution_count": 36,
   "metadata": {
    "collapsed": true
   },
   "outputs": [],
   "source": [
    "import timeit\n",
    "from tqdm import tqdm\n",
    "import pandas as pd\n",
    "import random"
   ]
  },
  {
   "cell_type": "code",
   "execution_count": 15,
   "outputs": [
    {
     "name": "stdout",
     "output_type": "stream",
     "text": [
      "Requirement already satisfied: pip in c:\\users\\pogre\\desktop\\medspellchecker\\venv\\lib\\site-packages (22.3.1)\n"
     ]
    }
   ],
   "source": [
    "!pip install --upgrade pip"
   ],
   "metadata": {
    "collapsed": false
   }
  },
  {
   "cell_type": "code",
   "execution_count": 70,
   "outputs": [],
   "source": [
    "words = open(\"../data/dictionaries/processed/processed_lemmatized_all_dict.txt\").read().splitlines()\n",
    "random.seed = 100\n",
    "selected_word = random.sample(words, 100)"
   ],
   "metadata": {
    "collapsed": false
   }
  },
  {
   "cell_type": "code",
   "execution_count": 71,
   "outputs": [],
   "source": [
    "def swap_letters(my_str):\n",
    "    list_str = list(my_str)\n",
    "    size_str = len(list_str)\n",
    "    idx_1 = random.randrange(0, size_str)\n",
    "    idx_2 = random.randrange(0, size_str)\n",
    "    new_list_str = list_str\n",
    "    tmp = list_str[idx_1]\n",
    "    new_list_str[idx_1] = list_str[idx_2]\n",
    "    new_list_str[idx_2] = tmp\n",
    "    return ''.join(new_list_str)"
   ],
   "metadata": {
    "collapsed": false
   }
  },
  {
   "cell_type": "code",
   "execution_count": 72,
   "outputs": [],
   "source": [
    "def add_letter(my_str):\n",
    "    idx = random.randrange(0, len(my_str))\n",
    "    list_str = list(my_str)\n",
    "    return ''.join(list_str[:idx] + [\"A\"] + list_str[idx:])"
   ],
   "metadata": {
    "collapsed": false
   }
  },
  {
   "cell_type": "code",
   "execution_count": 73,
   "outputs": [],
   "source": [
    "def delete_letter(my_str):\n",
    "    idx = random.randrange(0, len(my_str))\n",
    "    list_str = list(my_str)\n",
    "    del list_str[idx]\n",
    "    return ''.join(list_str)"
   ],
   "metadata": {
    "collapsed": false
   }
  },
  {
   "cell_type": "code",
   "execution_count": 74,
   "outputs": [],
   "source": [
    "def replace_letter(my_str):\n",
    "    idx = random.randrange(0, len(my_str))\n",
    "    list_str = list(my_str)\n",
    "    list_str[idx] = \"B\"\n",
    "    return ''.join(list_str)"
   ],
   "metadata": {
    "collapsed": false
   }
  },
  {
   "cell_type": "code",
   "execution_count": 88,
   "outputs": [],
   "source": [
    "def compute_avg_time(fun):\n",
    "    sum = 0.0\n",
    "    for word in tqdm(selected_word):\n",
    "        word_transpose = swap_letters(word)\n",
    "        word_add = add_letter(word)\n",
    "        word_delete = delete_letter(word)\n",
    "        word_replace = replace_letter(word)\n",
    "\n",
    "        time_trans = timeit.timeit(lambda: fun(word_transpose, word))\n",
    "        time_add = timeit.timeit(lambda:fun(word_add, word))\n",
    "        time_delete = timeit.timeit(lambda:fun(word_delete, word))\n",
    "        time_replace = timeit.timeit(lambda:fun(word_replace, word))\n",
    "\n",
    "        sum += time_trans + time_add + time_delete + time_replace\n",
    "\n",
    "    print(sum/4)"
   ],
   "metadata": {
    "collapsed": false
   }
  },
  {
   "cell_type": "code",
   "execution_count": 89,
   "outputs": [],
   "source": [
    "test_string_1_1: str = \"частнопредпринимательский\"\n",
    "test_string_1_2: str = \"чеснтопредпринимательский\" # one transpose and one replace\n",
    "test_string_2_1: str = \"человеконенавистничество\"\n",
    "test_string_2_2: str = \"челвеконеанавистничество\" # one delete and one add"
   ],
   "metadata": {
    "collapsed": false
   }
  },
  {
   "cell_type": "markdown",
   "source": [
    "# True Damerau-Levenshtein distance"
   ],
   "metadata": {
    "collapsed": false
   }
  },
  {
   "cell_type": "code",
   "execution_count": 90,
   "outputs": [
    {
     "name": "stdout",
     "output_type": "stream",
     "text": [
      "Requirement already satisfied: pyxDamerauLevenshtein in c:\\users\\pogre\\desktop\\medspellchecker\\venv\\lib\\site-packages (1.7.1)\n"
     ]
    }
   ],
   "source": [
    "!pip install pyxDamerauLevenshtein"
   ],
   "metadata": {
    "collapsed": false
   }
  },
  {
   "cell_type": "code",
   "execution_count": 91,
   "outputs": [
    {
     "name": "stderr",
     "output_type": "stream",
     "text": [
      "100%|██████████| 100/100 [57:57<00:00, 34.78s/it] "
     ]
    },
    {
     "name": "stdout",
     "output_type": "stream",
     "text": [
      "869.4375839499983\n"
     ]
    },
    {
     "name": "stderr",
     "output_type": "stream",
     "text": [
      "\n"
     ]
    }
   ],
   "source": [
    "import pyxdameraulevenshtein\n",
    "\n",
    "fun = lambda x, y: pyxdameraulevenshtein.damerau_levenshtein_distance(x,y)\n",
    "\n",
    "compute_avg_time(fun)"
   ],
   "metadata": {
    "collapsed": false
   }
  },
  {
   "cell_type": "code",
   "execution_count": 92,
   "outputs": [
    {
     "name": "stdout",
     "output_type": "stream",
     "text": [
      "Requirement already satisfied: fastDamerauLevenshtein in c:\\users\\pogre\\desktop\\medspellchecker\\venv\\lib\\site-packages (1.0.7)\n"
     ]
    }
   ],
   "source": [
    "!pip install fastDamerauLevenshtein"
   ],
   "metadata": {
    "collapsed": false
   }
  },
  {
   "cell_type": "code",
   "execution_count": 93,
   "outputs": [
    {
     "name": "stderr",
     "output_type": "stream",
     "text": [
      "100%|██████████| 100/100 [30:44<00:00, 18.45s/it]"
     ]
    },
    {
     "name": "stdout",
     "output_type": "stream",
     "text": [
      "461.1655112749986\n"
     ]
    },
    {
     "name": "stderr",
     "output_type": "stream",
     "text": [
      "\n"
     ]
    }
   ],
   "source": [
    "import fastDamerauLevenshtein\n",
    "\n",
    "fun = lambda x, y:fastDamerauLevenshtein.damerauLevenshtein(x,y, False)\n",
    "\n",
    "compute_avg_time(fun)"
   ],
   "metadata": {
    "collapsed": false
   }
  },
  {
   "cell_type": "code",
   "execution_count": 94,
   "outputs": [
    {
     "name": "stdout",
     "output_type": "stream",
     "text": [
      "Requirement already satisfied: jellyfish in c:\\users\\pogre\\desktop\\medspellchecker\\venv\\lib\\site-packages (0.9.0)\n"
     ]
    }
   ],
   "source": [
    "!pip install jellyfish"
   ],
   "metadata": {
    "collapsed": false
   }
  },
  {
   "cell_type": "code",
   "execution_count": 95,
   "outputs": [
    {
     "name": "stderr",
     "output_type": "stream",
     "text": [
      "100%|██████████| 100/100 [13:20<00:00,  8.01s/it]"
     ]
    },
    {
     "name": "stdout",
     "output_type": "stream",
     "text": [
      "200.13693004999777\n"
     ]
    },
    {
     "name": "stderr",
     "output_type": "stream",
     "text": [
      "\n"
     ]
    }
   ],
   "source": [
    "import jellyfish\n",
    "\n",
    "fun = lambda x, y: jellyfish.damerau_levenshtein_distance(x,y)\n",
    "\n",
    "compute_avg_time(fun)"
   ],
   "metadata": {
    "collapsed": false
   }
  },
  {
   "cell_type": "code",
   "execution_count": 96,
   "outputs": [
    {
     "name": "stdout",
     "output_type": "stream",
     "text": [
      "Requirement already satisfied: textdistance[DamerauLevenshtein] in c:\\users\\pogre\\desktop\\medspellchecker\\venv\\lib\\site-packages (4.5.0)\n",
      "Requirement already satisfied: rapidfuzz>=2.6.0 in c:\\users\\pogre\\desktop\\medspellchecker\\venv\\lib\\site-packages (from textdistance[DamerauLevenshtein]) (2.13.7)\n",
      "Requirement already satisfied: pyxDamerauLevenshtein in c:\\users\\pogre\\desktop\\medspellchecker\\venv\\lib\\site-packages (from textdistance[DamerauLevenshtein]) (1.7.1)\n",
      "Requirement already satisfied: jellyfish in c:\\users\\pogre\\desktop\\medspellchecker\\venv\\lib\\site-packages (from textdistance[DamerauLevenshtein]) (0.9.0)\n"
     ]
    }
   ],
   "source": [
    "!pip install \"textdistance[DamerauLevenshtein]\""
   ],
   "metadata": {
    "collapsed": false
   }
  },
  {
   "cell_type": "code",
   "execution_count": 97,
   "outputs": [
    {
     "name": "stderr",
     "output_type": "stream",
     "text": [
      "100%|██████████| 100/100 [20:40<00:00, 12.40s/it]"
     ]
    },
    {
     "name": "stdout",
     "output_type": "stream",
     "text": [
      "310.0096838499967\n"
     ]
    },
    {
     "name": "stderr",
     "output_type": "stream",
     "text": [
      "\n"
     ]
    }
   ],
   "source": [
    "import textdistance\n",
    "\n",
    "fun = lambda x, y:textdistance.damerau_levenshtein(x,y)\n",
    "\n",
    "compute_avg_time(fun)"
   ],
   "metadata": {
    "collapsed": false
   }
  },
  {
   "cell_type": "code",
   "execution_count": 98,
   "outputs": [
    {
     "name": "stdout",
     "output_type": "stream",
     "text": [
      "Requirement already satisfied: editdistpy in c:\\users\\pogre\\desktop\\medspellchecker\\venv\\lib\\site-packages (0.1.3)\n"
     ]
    }
   ],
   "source": [
    "!pip install -U editdistpy"
   ],
   "metadata": {
    "collapsed": false
   }
  },
  {
   "cell_type": "code",
   "execution_count": 99,
   "outputs": [
    {
     "name": "stderr",
     "output_type": "stream",
     "text": [
      "100%|██████████| 100/100 [07:29<00:00,  4.49s/it]"
     ]
    },
    {
     "name": "stdout",
     "output_type": "stream",
     "text": [
      "112.21586747500396\n"
     ]
    },
    {
     "name": "stderr",
     "output_type": "stream",
     "text": [
      "\n"
     ]
    }
   ],
   "source": [
    "from editdistpy import damerau_osa\n",
    "\n",
    "fun = lambda x, y: damerau_osa.distance(x,y, 1)\n",
    "\n",
    "compute_avg_time(fun)"
   ],
   "metadata": {
    "collapsed": false
   }
  },
  {
   "cell_type": "markdown",
   "source": [
    "This lib for computing editdistance is extremely slow! (used in initial prototype from article)"
   ],
   "metadata": {
    "collapsed": false
   }
  },
  {
   "cell_type": "code",
   "execution_count": 100,
   "outputs": [
    {
     "name": "stderr",
     "output_type": "stream",
     "text": [
      " 12%|█▏        | 12/100 [54:53<6:42:34, 274.49s/it]\n"
     ]
    },
    {
     "ename": "KeyboardInterrupt",
     "evalue": "",
     "output_type": "error",
     "traceback": [
      "\u001B[1;31m---------------------------------------------------------------------------\u001B[0m",
      "\u001B[1;31mKeyboardInterrupt\u001B[0m                         Traceback (most recent call last)",
      "Cell \u001B[1;32mIn[100], line 5\u001B[0m\n\u001B[0;32m      1\u001B[0m \u001B[38;5;28;01mimport\u001B[39;00m \u001B[38;5;21;01mstringdist\u001B[39;00m\n\u001B[0;32m      3\u001B[0m fun \u001B[38;5;241m=\u001B[39m \u001B[38;5;28;01mlambda\u001B[39;00m x, y: stringdist\u001B[38;5;241m.\u001B[39mrdlevenshtein(x,y)\n\u001B[1;32m----> 5\u001B[0m \u001B[43mcompute_avg_time\u001B[49m\u001B[43m(\u001B[49m\u001B[43mfun\u001B[49m\u001B[43m)\u001B[49m\n",
      "Cell \u001B[1;32mIn[88], line 11\u001B[0m, in \u001B[0;36mcompute_avg_time\u001B[1;34m(fun)\u001B[0m\n\u001B[0;32m      9\u001B[0m time_trans \u001B[38;5;241m=\u001B[39m timeit\u001B[38;5;241m.\u001B[39mtimeit(\u001B[38;5;28;01mlambda\u001B[39;00m: fun(word_transpose, word))\n\u001B[0;32m     10\u001B[0m time_add \u001B[38;5;241m=\u001B[39m timeit\u001B[38;5;241m.\u001B[39mtimeit(\u001B[38;5;28;01mlambda\u001B[39;00m:fun(word_add, word))\n\u001B[1;32m---> 11\u001B[0m time_delete \u001B[38;5;241m=\u001B[39m \u001B[43mtimeit\u001B[49m\u001B[38;5;241;43m.\u001B[39;49m\u001B[43mtimeit\u001B[49m\u001B[43m(\u001B[49m\u001B[38;5;28;43;01mlambda\u001B[39;49;00m\u001B[43m:\u001B[49m\u001B[43mfun\u001B[49m\u001B[43m(\u001B[49m\u001B[43mword_delete\u001B[49m\u001B[43m,\u001B[49m\u001B[43m \u001B[49m\u001B[43mword\u001B[49m\u001B[43m)\u001B[49m\u001B[43m)\u001B[49m\n\u001B[0;32m     12\u001B[0m time_replace \u001B[38;5;241m=\u001B[39m timeit\u001B[38;5;241m.\u001B[39mtimeit(\u001B[38;5;28;01mlambda\u001B[39;00m:fun(word_replace, word))\n\u001B[0;32m     14\u001B[0m \u001B[38;5;28msum\u001B[39m \u001B[38;5;241m+\u001B[39m\u001B[38;5;241m=\u001B[39m time_trans \u001B[38;5;241m+\u001B[39m time_add \u001B[38;5;241m+\u001B[39m time_delete \u001B[38;5;241m+\u001B[39m time_replace\n",
      "File \u001B[1;32m~\\AppData\\Local\\Programs\\Python\\Python39\\lib\\timeit.py:233\u001B[0m, in \u001B[0;36mtimeit\u001B[1;34m(stmt, setup, timer, number, globals)\u001B[0m\n\u001B[0;32m    230\u001B[0m \u001B[38;5;28;01mdef\u001B[39;00m \u001B[38;5;21mtimeit\u001B[39m(stmt\u001B[38;5;241m=\u001B[39m\u001B[38;5;124m\"\u001B[39m\u001B[38;5;124mpass\u001B[39m\u001B[38;5;124m\"\u001B[39m, setup\u001B[38;5;241m=\u001B[39m\u001B[38;5;124m\"\u001B[39m\u001B[38;5;124mpass\u001B[39m\u001B[38;5;124m\"\u001B[39m, timer\u001B[38;5;241m=\u001B[39mdefault_timer,\n\u001B[0;32m    231\u001B[0m            number\u001B[38;5;241m=\u001B[39mdefault_number, \u001B[38;5;28mglobals\u001B[39m\u001B[38;5;241m=\u001B[39m\u001B[38;5;28;01mNone\u001B[39;00m):\n\u001B[0;32m    232\u001B[0m     \u001B[38;5;124;03m\"\"\"Convenience function to create Timer object and call timeit method.\"\"\"\u001B[39;00m\n\u001B[1;32m--> 233\u001B[0m     \u001B[38;5;28;01mreturn\u001B[39;00m \u001B[43mTimer\u001B[49m\u001B[43m(\u001B[49m\u001B[43mstmt\u001B[49m\u001B[43m,\u001B[49m\u001B[43m \u001B[49m\u001B[43msetup\u001B[49m\u001B[43m,\u001B[49m\u001B[43m \u001B[49m\u001B[43mtimer\u001B[49m\u001B[43m,\u001B[49m\u001B[43m \u001B[49m\u001B[38;5;28;43mglobals\u001B[39;49m\u001B[43m)\u001B[49m\u001B[38;5;241;43m.\u001B[39;49m\u001B[43mtimeit\u001B[49m\u001B[43m(\u001B[49m\u001B[43mnumber\u001B[49m\u001B[43m)\u001B[49m\n",
      "File \u001B[1;32m~\\AppData\\Local\\Programs\\Python\\Python39\\lib\\timeit.py:177\u001B[0m, in \u001B[0;36mTimer.timeit\u001B[1;34m(self, number)\u001B[0m\n\u001B[0;32m    175\u001B[0m gc\u001B[38;5;241m.\u001B[39mdisable()\n\u001B[0;32m    176\u001B[0m \u001B[38;5;28;01mtry\u001B[39;00m:\n\u001B[1;32m--> 177\u001B[0m     timing \u001B[38;5;241m=\u001B[39m \u001B[38;5;28;43mself\u001B[39;49m\u001B[38;5;241;43m.\u001B[39;49m\u001B[43minner\u001B[49m\u001B[43m(\u001B[49m\u001B[43mit\u001B[49m\u001B[43m,\u001B[49m\u001B[43m \u001B[49m\u001B[38;5;28;43mself\u001B[39;49m\u001B[38;5;241;43m.\u001B[39;49m\u001B[43mtimer\u001B[49m\u001B[43m)\u001B[49m\n\u001B[0;32m    178\u001B[0m \u001B[38;5;28;01mfinally\u001B[39;00m:\n\u001B[0;32m    179\u001B[0m     \u001B[38;5;28;01mif\u001B[39;00m gcold:\n",
      "File \u001B[1;32m<timeit-src>:6\u001B[0m, in \u001B[0;36minner\u001B[1;34m(_it, _timer, _stmt)\u001B[0m\n",
      "Cell \u001B[1;32mIn[88], line 11\u001B[0m, in \u001B[0;36mcompute_avg_time.<locals>.<lambda>\u001B[1;34m()\u001B[0m\n\u001B[0;32m      9\u001B[0m time_trans \u001B[38;5;241m=\u001B[39m timeit\u001B[38;5;241m.\u001B[39mtimeit(\u001B[38;5;28;01mlambda\u001B[39;00m: fun(word_transpose, word))\n\u001B[0;32m     10\u001B[0m time_add \u001B[38;5;241m=\u001B[39m timeit\u001B[38;5;241m.\u001B[39mtimeit(\u001B[38;5;28;01mlambda\u001B[39;00m:fun(word_add, word))\n\u001B[1;32m---> 11\u001B[0m time_delete \u001B[38;5;241m=\u001B[39m timeit\u001B[38;5;241m.\u001B[39mtimeit(\u001B[38;5;28;01mlambda\u001B[39;00m:\u001B[43mfun\u001B[49m\u001B[43m(\u001B[49m\u001B[43mword_delete\u001B[49m\u001B[43m,\u001B[49m\u001B[43m \u001B[49m\u001B[43mword\u001B[49m\u001B[43m)\u001B[49m)\n\u001B[0;32m     12\u001B[0m time_replace \u001B[38;5;241m=\u001B[39m timeit\u001B[38;5;241m.\u001B[39mtimeit(\u001B[38;5;28;01mlambda\u001B[39;00m:fun(word_replace, word))\n\u001B[0;32m     14\u001B[0m \u001B[38;5;28msum\u001B[39m \u001B[38;5;241m+\u001B[39m\u001B[38;5;241m=\u001B[39m time_trans \u001B[38;5;241m+\u001B[39m time_add \u001B[38;5;241m+\u001B[39m time_delete \u001B[38;5;241m+\u001B[39m time_replace\n",
      "Cell \u001B[1;32mIn[100], line 3\u001B[0m, in \u001B[0;36m<lambda>\u001B[1;34m(x, y)\u001B[0m\n\u001B[0;32m      1\u001B[0m \u001B[38;5;28;01mimport\u001B[39;00m \u001B[38;5;21;01mstringdist\u001B[39;00m\n\u001B[1;32m----> 3\u001B[0m fun \u001B[38;5;241m=\u001B[39m \u001B[38;5;28;01mlambda\u001B[39;00m x, y: \u001B[43mstringdist\u001B[49m\u001B[38;5;241;43m.\u001B[39;49m\u001B[43mrdlevenshtein\u001B[49m\u001B[43m(\u001B[49m\u001B[43mx\u001B[49m\u001B[43m,\u001B[49m\u001B[43my\u001B[49m\u001B[43m)\u001B[49m\n\u001B[0;32m      5\u001B[0m compute_avg_time(fun)\n",
      "File \u001B[1;32m~\\Desktop\\MedSpellChecker\\venv\\lib\\site-packages\\stringdist\\pystringdist\\rdlevenshtein.py:15\u001B[0m, in \u001B[0;36mrdlevenshtein\u001B[1;34m(source, target)\u001B[0m\n\u001B[0;32m      9\u001B[0m \u001B[38;5;124;03m\"\"\"Calculates the restricted Damerau-Levenshtein distance (a.k.a. the\u001B[39;00m\n\u001B[0;32m     10\u001B[0m \u001B[38;5;124;03moptimal string alignment distance) between two string arguments\u001B[39;00m\n\u001B[0;32m     11\u001B[0m \u001B[38;5;124;03m\"\"\"\u001B[39;00m\n\u001B[0;32m     13\u001B[0m \u001B[38;5;66;03m# Compute restricted Damerau-Levenshtein distance using helper function and\u001B[39;00m\n\u001B[0;32m     14\u001B[0m \u001B[38;5;66;03m# return result\u001B[39;00m\n\u001B[1;32m---> 15\u001B[0m \u001B[38;5;28;01mreturn\u001B[39;00m \u001B[43m_levenshtein_compute\u001B[49m\u001B[43m(\u001B[49m\u001B[43msource\u001B[49m\u001B[43m,\u001B[49m\u001B[43m \u001B[49m\u001B[43mtarget\u001B[49m\u001B[43m,\u001B[49m\u001B[43m \u001B[49m\u001B[38;5;28;43;01mTrue\u001B[39;49;00m\u001B[43m)\u001B[49m\n",
      "File \u001B[1;32m~\\Desktop\\MedSpellChecker\\venv\\lib\\site-packages\\stringdist\\pystringdist\\levenshtein_shared.py:51\u001B[0m, in \u001B[0;36m_levenshtein_compute\u001B[1;34m(source, target, rd_flag)\u001B[0m\n\u001B[0;32m     48\u001B[0m sub_dist \u001B[38;5;241m=\u001B[39m matrix[i \u001B[38;5;241m-\u001B[39m \u001B[38;5;241m1\u001B[39m][j \u001B[38;5;241m-\u001B[39m \u001B[38;5;241m1\u001B[39m] \u001B[38;5;241m+\u001B[39m sub_trans_cost\n\u001B[0;32m     50\u001B[0m \u001B[38;5;66;03m# Choose option that produces smallest distance\u001B[39;00m\n\u001B[1;32m---> 51\u001B[0m \u001B[43mmatrix\u001B[49m\u001B[43m[\u001B[49m\u001B[43mi\u001B[49m\u001B[43m]\u001B[49m\u001B[43m[\u001B[49m\u001B[43mj\u001B[49m\u001B[43m]\u001B[49m \u001B[38;5;241m=\u001B[39m \u001B[38;5;28mmin\u001B[39m(del_dist, ins_dist, sub_dist)\n\u001B[0;32m     53\u001B[0m \u001B[38;5;66;03m# If restricted Damerau-Levenshtein was requested via the flag,\u001B[39;00m\n\u001B[0;32m     54\u001B[0m \u001B[38;5;66;03m# then there may be a fourth option: transposing the current and\u001B[39;00m\n\u001B[0;32m     55\u001B[0m \u001B[38;5;66;03m# previous characters in the source string. This can be thought of\u001B[39;00m\n\u001B[0;32m     56\u001B[0m \u001B[38;5;66;03m# as a double substitution and has a similar free case, where the\u001B[39;00m\n\u001B[0;32m     57\u001B[0m \u001B[38;5;66;03m# current and preceeding character in both strings is the same\u001B[39;00m\n\u001B[0;32m     58\u001B[0m \u001B[38;5;28;01mif\u001B[39;00m rd_flag \u001B[38;5;129;01mand\u001B[39;00m i \u001B[38;5;241m>\u001B[39m \u001B[38;5;241m1\u001B[39m \u001B[38;5;129;01mand\u001B[39;00m j \u001B[38;5;241m>\u001B[39m \u001B[38;5;241m1\u001B[39m \u001B[38;5;129;01mand\u001B[39;00m source[i \u001B[38;5;241m-\u001B[39m \u001B[38;5;241m1\u001B[39m] \u001B[38;5;241m==\u001B[39m target[j \u001B[38;5;241m-\u001B[39m \u001B[38;5;241m2\u001B[39m] \\\n\u001B[0;32m     59\u001B[0m         \u001B[38;5;129;01mand\u001B[39;00m source[i \u001B[38;5;241m-\u001B[39m \u001B[38;5;241m2\u001B[39m] \u001B[38;5;241m==\u001B[39m target[j \u001B[38;5;241m-\u001B[39m \u001B[38;5;241m1\u001B[39m]:\n",
      "\u001B[1;31mKeyboardInterrupt\u001B[0m: "
     ]
    }
   ],
   "source": [
    "import stringdist\n",
    "\n",
    "fun = lambda x, y: stringdist.rdlevenshtein(x,y)\n",
    "\n",
    "compute_avg_time(fun)"
   ],
   "metadata": {
    "collapsed": false
   }
  },
  {
   "cell_type": "markdown",
   "source": [
    "# Levenshtain distance"
   ],
   "metadata": {
    "collapsed": false
   }
  },
  {
   "cell_type": "code",
   "execution_count": null,
   "outputs": [],
   "source": [
    "!pip install editdistance-s"
   ],
   "metadata": {
    "collapsed": false
   }
  },
  {
   "cell_type": "code",
   "execution_count": 101,
   "outputs": [
    {
     "name": "stderr",
     "output_type": "stream",
     "text": [
      "100%|██████████| 100/100 [09:17<00:00,  5.58s/it]"
     ]
    },
    {
     "name": "stdout",
     "output_type": "stream",
     "text": [
      "139.37582060001023\n"
     ]
    },
    {
     "name": "stderr",
     "output_type": "stream",
     "text": [
      "\n"
     ]
    }
   ],
   "source": [
    "import editdistance_s\n",
    "\n",
    "fun = lambda x, y: editdistance_s.distance(x,y)\n",
    "\n",
    "compute_avg_time(fun)"
   ],
   "metadata": {
    "collapsed": false
   }
  },
  {
   "cell_type": "code",
   "execution_count": 102,
   "outputs": [
    {
     "name": "stderr",
     "output_type": "stream",
     "text": [
      "100%|██████████| 100/100 [03:39<00:00,  2.20s/it]"
     ]
    },
    {
     "name": "stdout",
     "output_type": "stream",
     "text": [
      "54.89160342500054\n"
     ]
    },
    {
     "name": "stderr",
     "output_type": "stream",
     "text": [
      "\n"
     ]
    }
   ],
   "source": [
    "import jellyfish\n",
    "\n",
    "fun = lambda x, y: jellyfish.levenshtein_distance(x,y)\n",
    "\n",
    "compute_avg_time(fun)"
   ],
   "metadata": {
    "collapsed": false
   }
  },
  {
   "cell_type": "code",
   "execution_count": 103,
   "outputs": [
    {
     "name": "stderr",
     "output_type": "stream",
     "text": [
      "100%|██████████| 100/100 [20:15<00:00, 12.16s/it]"
     ]
    },
    {
     "name": "stdout",
     "output_type": "stream",
     "text": [
      "303.95142569999643\n"
     ]
    },
    {
     "name": "stderr",
     "output_type": "stream",
     "text": [
      "\n"
     ]
    }
   ],
   "source": [
    "import textdistance\n",
    "\n",
    "fun = lambda x, y: textdistance.levenshtein(x,y)\n",
    "\n",
    "compute_avg_time(fun)"
   ],
   "metadata": {
    "collapsed": false
   }
  },
  {
   "cell_type": "code",
   "execution_count": 104,
   "outputs": [
    {
     "name": "stderr",
     "output_type": "stream",
     "text": [
      "100%|██████████| 100/100 [07:18<00:00,  4.38s/it]"
     ]
    },
    {
     "name": "stdout",
     "output_type": "stream",
     "text": [
      "109.4687816500118\n"
     ]
    },
    {
     "name": "stderr",
     "output_type": "stream",
     "text": [
      "\n"
     ]
    }
   ],
   "source": [
    "from editdistpy import levenshtein\n",
    "\n",
    "fun = lambda x, y: levenshtein.distance(x,y,1)\n",
    "\n",
    "compute_avg_time(fun)"
   ],
   "metadata": {
    "collapsed": false
   }
  },
  {
   "cell_type": "code",
   "execution_count": 105,
   "outputs": [
    {
     "name": "stderr",
     "output_type": "stream",
     "text": [
      "  5%|▌         | 5/100 [15:20<4:51:38, 184.20s/it]\n"
     ]
    },
    {
     "ename": "KeyboardInterrupt",
     "evalue": "",
     "output_type": "error",
     "traceback": [
      "\u001B[1;31m---------------------------------------------------------------------------\u001B[0m",
      "\u001B[1;31mKeyboardInterrupt\u001B[0m                         Traceback (most recent call last)",
      "Cell \u001B[1;32mIn[105], line 5\u001B[0m\n\u001B[0;32m      1\u001B[0m \u001B[38;5;28;01mimport\u001B[39;00m \u001B[38;5;21;01mstringdist\u001B[39;00m\n\u001B[0;32m      3\u001B[0m fun \u001B[38;5;241m=\u001B[39m \u001B[38;5;28;01mlambda\u001B[39;00m x, y: stringdist\u001B[38;5;241m.\u001B[39mlevenshtein(x,y)\n\u001B[1;32m----> 5\u001B[0m \u001B[43mcompute_avg_time\u001B[49m\u001B[43m(\u001B[49m\u001B[43mfun\u001B[49m\u001B[43m)\u001B[49m\n",
      "Cell \u001B[1;32mIn[88], line 10\u001B[0m, in \u001B[0;36mcompute_avg_time\u001B[1;34m(fun)\u001B[0m\n\u001B[0;32m      7\u001B[0m word_replace \u001B[38;5;241m=\u001B[39m replace_letter(word)\n\u001B[0;32m      9\u001B[0m time_trans \u001B[38;5;241m=\u001B[39m timeit\u001B[38;5;241m.\u001B[39mtimeit(\u001B[38;5;28;01mlambda\u001B[39;00m: fun(word_transpose, word))\n\u001B[1;32m---> 10\u001B[0m time_add \u001B[38;5;241m=\u001B[39m \u001B[43mtimeit\u001B[49m\u001B[38;5;241;43m.\u001B[39;49m\u001B[43mtimeit\u001B[49m\u001B[43m(\u001B[49m\u001B[38;5;28;43;01mlambda\u001B[39;49;00m\u001B[43m:\u001B[49m\u001B[43mfun\u001B[49m\u001B[43m(\u001B[49m\u001B[43mword_add\u001B[49m\u001B[43m,\u001B[49m\u001B[43m \u001B[49m\u001B[43mword\u001B[49m\u001B[43m)\u001B[49m\u001B[43m)\u001B[49m\n\u001B[0;32m     11\u001B[0m time_delete \u001B[38;5;241m=\u001B[39m timeit\u001B[38;5;241m.\u001B[39mtimeit(\u001B[38;5;28;01mlambda\u001B[39;00m:fun(word_delete, word))\n\u001B[0;32m     12\u001B[0m time_replace \u001B[38;5;241m=\u001B[39m timeit\u001B[38;5;241m.\u001B[39mtimeit(\u001B[38;5;28;01mlambda\u001B[39;00m:fun(word_replace, word))\n",
      "File \u001B[1;32m~\\AppData\\Local\\Programs\\Python\\Python39\\lib\\timeit.py:233\u001B[0m, in \u001B[0;36mtimeit\u001B[1;34m(stmt, setup, timer, number, globals)\u001B[0m\n\u001B[0;32m    230\u001B[0m \u001B[38;5;28;01mdef\u001B[39;00m \u001B[38;5;21mtimeit\u001B[39m(stmt\u001B[38;5;241m=\u001B[39m\u001B[38;5;124m\"\u001B[39m\u001B[38;5;124mpass\u001B[39m\u001B[38;5;124m\"\u001B[39m, setup\u001B[38;5;241m=\u001B[39m\u001B[38;5;124m\"\u001B[39m\u001B[38;5;124mpass\u001B[39m\u001B[38;5;124m\"\u001B[39m, timer\u001B[38;5;241m=\u001B[39mdefault_timer,\n\u001B[0;32m    231\u001B[0m            number\u001B[38;5;241m=\u001B[39mdefault_number, \u001B[38;5;28mglobals\u001B[39m\u001B[38;5;241m=\u001B[39m\u001B[38;5;28;01mNone\u001B[39;00m):\n\u001B[0;32m    232\u001B[0m     \u001B[38;5;124;03m\"\"\"Convenience function to create Timer object and call timeit method.\"\"\"\u001B[39;00m\n\u001B[1;32m--> 233\u001B[0m     \u001B[38;5;28;01mreturn\u001B[39;00m \u001B[43mTimer\u001B[49m\u001B[43m(\u001B[49m\u001B[43mstmt\u001B[49m\u001B[43m,\u001B[49m\u001B[43m \u001B[49m\u001B[43msetup\u001B[49m\u001B[43m,\u001B[49m\u001B[43m \u001B[49m\u001B[43mtimer\u001B[49m\u001B[43m,\u001B[49m\u001B[43m \u001B[49m\u001B[38;5;28;43mglobals\u001B[39;49m\u001B[43m)\u001B[49m\u001B[38;5;241;43m.\u001B[39;49m\u001B[43mtimeit\u001B[49m\u001B[43m(\u001B[49m\u001B[43mnumber\u001B[49m\u001B[43m)\u001B[49m\n",
      "File \u001B[1;32m~\\AppData\\Local\\Programs\\Python\\Python39\\lib\\timeit.py:177\u001B[0m, in \u001B[0;36mTimer.timeit\u001B[1;34m(self, number)\u001B[0m\n\u001B[0;32m    175\u001B[0m gc\u001B[38;5;241m.\u001B[39mdisable()\n\u001B[0;32m    176\u001B[0m \u001B[38;5;28;01mtry\u001B[39;00m:\n\u001B[1;32m--> 177\u001B[0m     timing \u001B[38;5;241m=\u001B[39m \u001B[38;5;28;43mself\u001B[39;49m\u001B[38;5;241;43m.\u001B[39;49m\u001B[43minner\u001B[49m\u001B[43m(\u001B[49m\u001B[43mit\u001B[49m\u001B[43m,\u001B[49m\u001B[43m \u001B[49m\u001B[38;5;28;43mself\u001B[39;49m\u001B[38;5;241;43m.\u001B[39;49m\u001B[43mtimer\u001B[49m\u001B[43m)\u001B[49m\n\u001B[0;32m    178\u001B[0m \u001B[38;5;28;01mfinally\u001B[39;00m:\n\u001B[0;32m    179\u001B[0m     \u001B[38;5;28;01mif\u001B[39;00m gcold:\n",
      "File \u001B[1;32m<timeit-src>:6\u001B[0m, in \u001B[0;36minner\u001B[1;34m(_it, _timer, _stmt)\u001B[0m\n",
      "Cell \u001B[1;32mIn[88], line 10\u001B[0m, in \u001B[0;36mcompute_avg_time.<locals>.<lambda>\u001B[1;34m()\u001B[0m\n\u001B[0;32m      7\u001B[0m word_replace \u001B[38;5;241m=\u001B[39m replace_letter(word)\n\u001B[0;32m      9\u001B[0m time_trans \u001B[38;5;241m=\u001B[39m timeit\u001B[38;5;241m.\u001B[39mtimeit(\u001B[38;5;28;01mlambda\u001B[39;00m: fun(word_transpose, word))\n\u001B[1;32m---> 10\u001B[0m time_add \u001B[38;5;241m=\u001B[39m timeit\u001B[38;5;241m.\u001B[39mtimeit(\u001B[38;5;28;01mlambda\u001B[39;00m:\u001B[43mfun\u001B[49m\u001B[43m(\u001B[49m\u001B[43mword_add\u001B[49m\u001B[43m,\u001B[49m\u001B[43m \u001B[49m\u001B[43mword\u001B[49m\u001B[43m)\u001B[49m)\n\u001B[0;32m     11\u001B[0m time_delete \u001B[38;5;241m=\u001B[39m timeit\u001B[38;5;241m.\u001B[39mtimeit(\u001B[38;5;28;01mlambda\u001B[39;00m:fun(word_delete, word))\n\u001B[0;32m     12\u001B[0m time_replace \u001B[38;5;241m=\u001B[39m timeit\u001B[38;5;241m.\u001B[39mtimeit(\u001B[38;5;28;01mlambda\u001B[39;00m:fun(word_replace, word))\n",
      "Cell \u001B[1;32mIn[105], line 3\u001B[0m, in \u001B[0;36m<lambda>\u001B[1;34m(x, y)\u001B[0m\n\u001B[0;32m      1\u001B[0m \u001B[38;5;28;01mimport\u001B[39;00m \u001B[38;5;21;01mstringdist\u001B[39;00m\n\u001B[1;32m----> 3\u001B[0m fun \u001B[38;5;241m=\u001B[39m \u001B[38;5;28;01mlambda\u001B[39;00m x, y: \u001B[43mstringdist\u001B[49m\u001B[38;5;241;43m.\u001B[39;49m\u001B[43mlevenshtein\u001B[49m\u001B[43m(\u001B[49m\u001B[43mx\u001B[49m\u001B[43m,\u001B[49m\u001B[43my\u001B[49m\u001B[43m)\u001B[49m\n\u001B[0;32m      5\u001B[0m compute_avg_time(fun)\n",
      "File \u001B[1;32m~\\Desktop\\MedSpellChecker\\venv\\lib\\site-packages\\stringdist\\pystringdist\\levenshtein.py:12\u001B[0m, in \u001B[0;36mlevenshtein\u001B[1;34m(source, target)\u001B[0m\n\u001B[0;32m      9\u001B[0m \u001B[38;5;124;03m\"\"\"Calculates the Levenshtein distance between two string arguments\"\"\"\u001B[39;00m\n\u001B[0;32m     11\u001B[0m \u001B[38;5;66;03m# Compute Levenshtein distance using helper function and return result\u001B[39;00m\n\u001B[1;32m---> 12\u001B[0m \u001B[38;5;28;01mreturn\u001B[39;00m \u001B[43m_levenshtein_compute\u001B[49m\u001B[43m(\u001B[49m\u001B[43msource\u001B[49m\u001B[43m,\u001B[49m\u001B[43m \u001B[49m\u001B[43mtarget\u001B[49m\u001B[43m,\u001B[49m\u001B[43m \u001B[49m\u001B[38;5;28;43;01mFalse\u001B[39;49;00m\u001B[43m)\u001B[49m\n",
      "File \u001B[1;32m~\\Desktop\\MedSpellChecker\\venv\\lib\\site-packages\\stringdist\\pystringdist\\levenshtein_shared.py:51\u001B[0m, in \u001B[0;36m_levenshtein_compute\u001B[1;34m(source, target, rd_flag)\u001B[0m\n\u001B[0;32m     48\u001B[0m sub_dist \u001B[38;5;241m=\u001B[39m matrix[i \u001B[38;5;241m-\u001B[39m \u001B[38;5;241m1\u001B[39m][j \u001B[38;5;241m-\u001B[39m \u001B[38;5;241m1\u001B[39m] \u001B[38;5;241m+\u001B[39m sub_trans_cost\n\u001B[0;32m     50\u001B[0m \u001B[38;5;66;03m# Choose option that produces smallest distance\u001B[39;00m\n\u001B[1;32m---> 51\u001B[0m \u001B[43mmatrix\u001B[49m\u001B[43m[\u001B[49m\u001B[43mi\u001B[49m\u001B[43m]\u001B[49m\u001B[43m[\u001B[49m\u001B[43mj\u001B[49m\u001B[43m]\u001B[49m \u001B[38;5;241m=\u001B[39m \u001B[38;5;28mmin\u001B[39m(del_dist, ins_dist, sub_dist)\n\u001B[0;32m     53\u001B[0m \u001B[38;5;66;03m# If restricted Damerau-Levenshtein was requested via the flag,\u001B[39;00m\n\u001B[0;32m     54\u001B[0m \u001B[38;5;66;03m# then there may be a fourth option: transposing the current and\u001B[39;00m\n\u001B[0;32m     55\u001B[0m \u001B[38;5;66;03m# previous characters in the source string. This can be thought of\u001B[39;00m\n\u001B[0;32m     56\u001B[0m \u001B[38;5;66;03m# as a double substitution and has a similar free case, where the\u001B[39;00m\n\u001B[0;32m     57\u001B[0m \u001B[38;5;66;03m# current and preceeding character in both strings is the same\u001B[39;00m\n\u001B[0;32m     58\u001B[0m \u001B[38;5;28;01mif\u001B[39;00m rd_flag \u001B[38;5;129;01mand\u001B[39;00m i \u001B[38;5;241m>\u001B[39m \u001B[38;5;241m1\u001B[39m \u001B[38;5;129;01mand\u001B[39;00m j \u001B[38;5;241m>\u001B[39m \u001B[38;5;241m1\u001B[39m \u001B[38;5;129;01mand\u001B[39;00m source[i \u001B[38;5;241m-\u001B[39m \u001B[38;5;241m1\u001B[39m] \u001B[38;5;241m==\u001B[39m target[j \u001B[38;5;241m-\u001B[39m \u001B[38;5;241m2\u001B[39m] \\\n\u001B[0;32m     59\u001B[0m         \u001B[38;5;129;01mand\u001B[39;00m source[i \u001B[38;5;241m-\u001B[39m \u001B[38;5;241m2\u001B[39m] \u001B[38;5;241m==\u001B[39m target[j \u001B[38;5;241m-\u001B[39m \u001B[38;5;241m1\u001B[39m]:\n",
      "\u001B[1;31mKeyboardInterrupt\u001B[0m: "
     ]
    }
   ],
   "source": [
    "import stringdist\n",
    "\n",
    "fun = lambda x, y: stringdist.levenshtein(x,y)\n",
    "\n",
    "compute_avg_time(fun)"
   ],
   "metadata": {
    "collapsed": false
   }
  },
  {
   "cell_type": "code",
   "execution_count": null,
   "outputs": [],
   "source": [],
   "metadata": {
    "collapsed": false
   }
  }
 ],
 "metadata": {
  "kernelspec": {
   "display_name": "Python 3",
   "language": "python",
   "name": "python3"
  },
  "language_info": {
   "codemirror_mode": {
    "name": "ipython",
    "version": 2
   },
   "file_extension": ".py",
   "mimetype": "text/x-python",
   "name": "python",
   "nbconvert_exporter": "python",
   "pygments_lexer": "ipython2",
   "version": "2.7.6"
  }
 },
 "nbformat": 4,
 "nbformat_minor": 0
}
